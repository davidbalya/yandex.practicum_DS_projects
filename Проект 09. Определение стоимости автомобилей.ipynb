{
 "cells": [
  {
   "cell_type": "markdown",
   "metadata": {
    "id": "Z27WF8XRouDK"
   },
   "source": [
    "# Определение стоимости автомобилей"
   ]
  },
  {
   "cell_type": "markdown",
   "metadata": {
    "id": "RxFzLxSsouDK"
   },
   "source": [
    "Сервис по продаже автомобилей с пробегом «Не бит, не крашен» разрабатывает приложение для привлечения новых клиентов. В нём можно быстро узнать рыночную стоимость своего автомобиля. В вашем распоряжении исторические данные: технические характеристики, комплектации и цены автомобилей. Вам нужно построить модель для определения стоимости. \n",
    "\n",
    "Заказчику важны:\n",
    "\n",
    "- качество предсказания;\n",
    "- скорость предсказания;\n",
    "- время обучения."
   ]
  },
  {
   "cell_type": "markdown",
   "metadata": {
    "id": "_ycRIqTFouDM"
   },
   "source": [
    "# Описание данных\n",
    "\n",
    "Признаки:\n",
    "\n",
    "- DateCrawled — дата скачивания анкеты из базы\n",
    "- VehicleType — тип автомобильного кузова\n",
    "- RegistrationYear — год регистрации автомобиля\n",
    "- Gearbox — тип коробки передач\n",
    "- Power — мощность (л. с.)\n",
    "- Model — модель автомобиля\n",
    "- Kilometer — пробег (км)\n",
    "- RegistrationMonth — месяц регистрации автомобиля\n",
    "- FuelType — тип топлива\n",
    "- Brand — марка автомобиля\n",
    "- NotRepaired — была машина в ремонте или нет\n",
    "- DateCreated — дата создания анкеты\n",
    "- NumberOfPictures — количество фотографий автомобиля\n",
    "- PostalCode — почтовый индекс владельца анкеты (пользователя)\n",
    "- LastSeen — дата последней активности пользователя\n",
    "\n",
    "Целевой признак\n",
    "- Price — цена (евро)"
   ]
  },
  {
   "cell_type": "markdown",
   "metadata": {
    "id": "7qAOBEY-ouDN"
   },
   "source": [
    "## Подготовка данных"
   ]
  },
  {
   "cell_type": "code",
   "execution_count": null,
   "metadata": {
    "id": "mK5vjwiYouDO"
   },
   "outputs": [],
   "source": [
    "import pandas as pd\n",
    "import re\n",
    "import matplotlib.pyplot as plt\n",
    "import time\n",
    "from sklearn.model_selection import train_test_split, GridSearchCV, cross_val_score\n",
    "from sklearn.preprocessing import StandardScaler\n",
    "from sklearn.metrics import mean_squared_error\n",
    "from sklearn.linear_model import LinearRegression\n",
    "from catboost import CatBoostRegressor\n",
    "from lightgbm import LGBMRegressor\n",
    "import lightgbm as lgb\n",
    "\n",
    "from tqdm import tqdm\n",
    "import warnings\n",
    "warnings.filterwarnings(\"ignore\")"
   ]
  },
  {
   "cell_type": "markdown",
   "metadata": {
    "id": "P6dZiBPAouDP"
   },
   "source": [
    "### Изучение данных"
   ]
  },
  {
   "cell_type": "code",
   "execution_count": null,
   "metadata": {
    "id": "DbKR6l_eouDQ"
   },
   "outputs": [],
   "source": [
    "df = pd.read_csv('/datasets/autos.csv')"
   ]
  },
  {
   "cell_type": "code",
   "execution_count": null,
   "metadata": {
    "id": "ISpaebNmouDQ",
    "outputId": "4559f97d-352d-4ec6-da6e-4755a4a24f0d"
   },
   "outputs": [
    {
     "data": {
      "text/html": [
       "<div>\n",
       "<style scoped>\n",
       "    .dataframe tbody tr th:only-of-type {\n",
       "        vertical-align: middle;\n",
       "    }\n",
       "\n",
       "    .dataframe tbody tr th {\n",
       "        vertical-align: top;\n",
       "    }\n",
       "\n",
       "    .dataframe thead th {\n",
       "        text-align: right;\n",
       "    }\n",
       "</style>\n",
       "<table border=\"1\" class=\"dataframe\">\n",
       "  <thead>\n",
       "    <tr style=\"text-align: right;\">\n",
       "      <th></th>\n",
       "      <th>DateCrawled</th>\n",
       "      <th>Price</th>\n",
       "      <th>VehicleType</th>\n",
       "      <th>RegistrationYear</th>\n",
       "      <th>Gearbox</th>\n",
       "      <th>Power</th>\n",
       "      <th>Model</th>\n",
       "      <th>Kilometer</th>\n",
       "      <th>RegistrationMonth</th>\n",
       "      <th>FuelType</th>\n",
       "      <th>Brand</th>\n",
       "      <th>NotRepaired</th>\n",
       "      <th>DateCreated</th>\n",
       "      <th>NumberOfPictures</th>\n",
       "      <th>PostalCode</th>\n",
       "      <th>LastSeen</th>\n",
       "    </tr>\n",
       "  </thead>\n",
       "  <tbody>\n",
       "    <tr>\n",
       "      <th>0</th>\n",
       "      <td>2016-03-24 11:52:17</td>\n",
       "      <td>480</td>\n",
       "      <td>NaN</td>\n",
       "      <td>1993</td>\n",
       "      <td>manual</td>\n",
       "      <td>0</td>\n",
       "      <td>golf</td>\n",
       "      <td>150000</td>\n",
       "      <td>0</td>\n",
       "      <td>petrol</td>\n",
       "      <td>volkswagen</td>\n",
       "      <td>NaN</td>\n",
       "      <td>2016-03-24 00:00:00</td>\n",
       "      <td>0</td>\n",
       "      <td>70435</td>\n",
       "      <td>2016-04-07 03:16:57</td>\n",
       "    </tr>\n",
       "    <tr>\n",
       "      <th>1</th>\n",
       "      <td>2016-03-24 10:58:45</td>\n",
       "      <td>18300</td>\n",
       "      <td>coupe</td>\n",
       "      <td>2011</td>\n",
       "      <td>manual</td>\n",
       "      <td>190</td>\n",
       "      <td>NaN</td>\n",
       "      <td>125000</td>\n",
       "      <td>5</td>\n",
       "      <td>gasoline</td>\n",
       "      <td>audi</td>\n",
       "      <td>yes</td>\n",
       "      <td>2016-03-24 00:00:00</td>\n",
       "      <td>0</td>\n",
       "      <td>66954</td>\n",
       "      <td>2016-04-07 01:46:50</td>\n",
       "    </tr>\n",
       "    <tr>\n",
       "      <th>2</th>\n",
       "      <td>2016-03-14 12:52:21</td>\n",
       "      <td>9800</td>\n",
       "      <td>suv</td>\n",
       "      <td>2004</td>\n",
       "      <td>auto</td>\n",
       "      <td>163</td>\n",
       "      <td>grand</td>\n",
       "      <td>125000</td>\n",
       "      <td>8</td>\n",
       "      <td>gasoline</td>\n",
       "      <td>jeep</td>\n",
       "      <td>NaN</td>\n",
       "      <td>2016-03-14 00:00:00</td>\n",
       "      <td>0</td>\n",
       "      <td>90480</td>\n",
       "      <td>2016-04-05 12:47:46</td>\n",
       "    </tr>\n",
       "    <tr>\n",
       "      <th>3</th>\n",
       "      <td>2016-03-17 16:54:04</td>\n",
       "      <td>1500</td>\n",
       "      <td>small</td>\n",
       "      <td>2001</td>\n",
       "      <td>manual</td>\n",
       "      <td>75</td>\n",
       "      <td>golf</td>\n",
       "      <td>150000</td>\n",
       "      <td>6</td>\n",
       "      <td>petrol</td>\n",
       "      <td>volkswagen</td>\n",
       "      <td>no</td>\n",
       "      <td>2016-03-17 00:00:00</td>\n",
       "      <td>0</td>\n",
       "      <td>91074</td>\n",
       "      <td>2016-03-17 17:40:17</td>\n",
       "    </tr>\n",
       "    <tr>\n",
       "      <th>4</th>\n",
       "      <td>2016-03-31 17:25:20</td>\n",
       "      <td>3600</td>\n",
       "      <td>small</td>\n",
       "      <td>2008</td>\n",
       "      <td>manual</td>\n",
       "      <td>69</td>\n",
       "      <td>fabia</td>\n",
       "      <td>90000</td>\n",
       "      <td>7</td>\n",
       "      <td>gasoline</td>\n",
       "      <td>skoda</td>\n",
       "      <td>no</td>\n",
       "      <td>2016-03-31 00:00:00</td>\n",
       "      <td>0</td>\n",
       "      <td>60437</td>\n",
       "      <td>2016-04-06 10:17:21</td>\n",
       "    </tr>\n",
       "    <tr>\n",
       "      <th>5</th>\n",
       "      <td>2016-04-04 17:36:23</td>\n",
       "      <td>650</td>\n",
       "      <td>sedan</td>\n",
       "      <td>1995</td>\n",
       "      <td>manual</td>\n",
       "      <td>102</td>\n",
       "      <td>3er</td>\n",
       "      <td>150000</td>\n",
       "      <td>10</td>\n",
       "      <td>petrol</td>\n",
       "      <td>bmw</td>\n",
       "      <td>yes</td>\n",
       "      <td>2016-04-04 00:00:00</td>\n",
       "      <td>0</td>\n",
       "      <td>33775</td>\n",
       "      <td>2016-04-06 19:17:07</td>\n",
       "    </tr>\n",
       "    <tr>\n",
       "      <th>6</th>\n",
       "      <td>2016-04-01 20:48:51</td>\n",
       "      <td>2200</td>\n",
       "      <td>convertible</td>\n",
       "      <td>2004</td>\n",
       "      <td>manual</td>\n",
       "      <td>109</td>\n",
       "      <td>2_reihe</td>\n",
       "      <td>150000</td>\n",
       "      <td>8</td>\n",
       "      <td>petrol</td>\n",
       "      <td>peugeot</td>\n",
       "      <td>no</td>\n",
       "      <td>2016-04-01 00:00:00</td>\n",
       "      <td>0</td>\n",
       "      <td>67112</td>\n",
       "      <td>2016-04-05 18:18:39</td>\n",
       "    </tr>\n",
       "    <tr>\n",
       "      <th>7</th>\n",
       "      <td>2016-03-21 18:54:38</td>\n",
       "      <td>0</td>\n",
       "      <td>sedan</td>\n",
       "      <td>1980</td>\n",
       "      <td>manual</td>\n",
       "      <td>50</td>\n",
       "      <td>other</td>\n",
       "      <td>40000</td>\n",
       "      <td>7</td>\n",
       "      <td>petrol</td>\n",
       "      <td>volkswagen</td>\n",
       "      <td>no</td>\n",
       "      <td>2016-03-21 00:00:00</td>\n",
       "      <td>0</td>\n",
       "      <td>19348</td>\n",
       "      <td>2016-03-25 16:47:58</td>\n",
       "    </tr>\n",
       "    <tr>\n",
       "      <th>8</th>\n",
       "      <td>2016-04-04 23:42:13</td>\n",
       "      <td>14500</td>\n",
       "      <td>bus</td>\n",
       "      <td>2014</td>\n",
       "      <td>manual</td>\n",
       "      <td>125</td>\n",
       "      <td>c_max</td>\n",
       "      <td>30000</td>\n",
       "      <td>8</td>\n",
       "      <td>petrol</td>\n",
       "      <td>ford</td>\n",
       "      <td>NaN</td>\n",
       "      <td>2016-04-04 00:00:00</td>\n",
       "      <td>0</td>\n",
       "      <td>94505</td>\n",
       "      <td>2016-04-04 23:42:13</td>\n",
       "    </tr>\n",
       "    <tr>\n",
       "      <th>9</th>\n",
       "      <td>2016-03-17 10:53:50</td>\n",
       "      <td>999</td>\n",
       "      <td>small</td>\n",
       "      <td>1998</td>\n",
       "      <td>manual</td>\n",
       "      <td>101</td>\n",
       "      <td>golf</td>\n",
       "      <td>150000</td>\n",
       "      <td>0</td>\n",
       "      <td>NaN</td>\n",
       "      <td>volkswagen</td>\n",
       "      <td>NaN</td>\n",
       "      <td>2016-03-17 00:00:00</td>\n",
       "      <td>0</td>\n",
       "      <td>27472</td>\n",
       "      <td>2016-03-31 17:17:06</td>\n",
       "    </tr>\n",
       "    <tr>\n",
       "      <th>10</th>\n",
       "      <td>2016-03-26 19:54:18</td>\n",
       "      <td>2000</td>\n",
       "      <td>sedan</td>\n",
       "      <td>2004</td>\n",
       "      <td>manual</td>\n",
       "      <td>105</td>\n",
       "      <td>3_reihe</td>\n",
       "      <td>150000</td>\n",
       "      <td>12</td>\n",
       "      <td>petrol</td>\n",
       "      <td>mazda</td>\n",
       "      <td>no</td>\n",
       "      <td>2016-03-26 00:00:00</td>\n",
       "      <td>0</td>\n",
       "      <td>96224</td>\n",
       "      <td>2016-04-06 10:45:34</td>\n",
       "    </tr>\n",
       "    <tr>\n",
       "      <th>11</th>\n",
       "      <td>2016-04-07 10:06:22</td>\n",
       "      <td>2799</td>\n",
       "      <td>wagon</td>\n",
       "      <td>2005</td>\n",
       "      <td>manual</td>\n",
       "      <td>140</td>\n",
       "      <td>passat</td>\n",
       "      <td>150000</td>\n",
       "      <td>12</td>\n",
       "      <td>gasoline</td>\n",
       "      <td>volkswagen</td>\n",
       "      <td>yes</td>\n",
       "      <td>2016-04-07 00:00:00</td>\n",
       "      <td>0</td>\n",
       "      <td>57290</td>\n",
       "      <td>2016-04-07 10:25:17</td>\n",
       "    </tr>\n",
       "    <tr>\n",
       "      <th>12</th>\n",
       "      <td>2016-03-15 22:49:09</td>\n",
       "      <td>999</td>\n",
       "      <td>wagon</td>\n",
       "      <td>1995</td>\n",
       "      <td>manual</td>\n",
       "      <td>115</td>\n",
       "      <td>passat</td>\n",
       "      <td>150000</td>\n",
       "      <td>11</td>\n",
       "      <td>petrol</td>\n",
       "      <td>volkswagen</td>\n",
       "      <td>NaN</td>\n",
       "      <td>2016-03-15 00:00:00</td>\n",
       "      <td>0</td>\n",
       "      <td>37269</td>\n",
       "      <td>2016-04-01 13:16:16</td>\n",
       "    </tr>\n",
       "    <tr>\n",
       "      <th>13</th>\n",
       "      <td>2016-03-21 21:37:40</td>\n",
       "      <td>2500</td>\n",
       "      <td>wagon</td>\n",
       "      <td>2004</td>\n",
       "      <td>manual</td>\n",
       "      <td>131</td>\n",
       "      <td>passat</td>\n",
       "      <td>150000</td>\n",
       "      <td>2</td>\n",
       "      <td>NaN</td>\n",
       "      <td>volkswagen</td>\n",
       "      <td>no</td>\n",
       "      <td>2016-03-21 00:00:00</td>\n",
       "      <td>0</td>\n",
       "      <td>90762</td>\n",
       "      <td>2016-03-23 02:50:54</td>\n",
       "    </tr>\n",
       "    <tr>\n",
       "      <th>14</th>\n",
       "      <td>2016-03-21 12:57:01</td>\n",
       "      <td>17999</td>\n",
       "      <td>suv</td>\n",
       "      <td>2011</td>\n",
       "      <td>manual</td>\n",
       "      <td>190</td>\n",
       "      <td>navara</td>\n",
       "      <td>70000</td>\n",
       "      <td>3</td>\n",
       "      <td>gasoline</td>\n",
       "      <td>nissan</td>\n",
       "      <td>no</td>\n",
       "      <td>2016-03-21 00:00:00</td>\n",
       "      <td>0</td>\n",
       "      <td>4177</td>\n",
       "      <td>2016-04-06 07:45:42</td>\n",
       "    </tr>\n",
       "  </tbody>\n",
       "</table>\n",
       "</div>"
      ],
      "text/plain": [
       "            DateCrawled  Price  VehicleType  RegistrationYear Gearbox  Power  \\\n",
       "0   2016-03-24 11:52:17    480          NaN              1993  manual      0   \n",
       "1   2016-03-24 10:58:45  18300        coupe              2011  manual    190   \n",
       "2   2016-03-14 12:52:21   9800          suv              2004    auto    163   \n",
       "3   2016-03-17 16:54:04   1500        small              2001  manual     75   \n",
       "4   2016-03-31 17:25:20   3600        small              2008  manual     69   \n",
       "5   2016-04-04 17:36:23    650        sedan              1995  manual    102   \n",
       "6   2016-04-01 20:48:51   2200  convertible              2004  manual    109   \n",
       "7   2016-03-21 18:54:38      0        sedan              1980  manual     50   \n",
       "8   2016-04-04 23:42:13  14500          bus              2014  manual    125   \n",
       "9   2016-03-17 10:53:50    999        small              1998  manual    101   \n",
       "10  2016-03-26 19:54:18   2000        sedan              2004  manual    105   \n",
       "11  2016-04-07 10:06:22   2799        wagon              2005  manual    140   \n",
       "12  2016-03-15 22:49:09    999        wagon              1995  manual    115   \n",
       "13  2016-03-21 21:37:40   2500        wagon              2004  manual    131   \n",
       "14  2016-03-21 12:57:01  17999          suv              2011  manual    190   \n",
       "\n",
       "      Model  Kilometer  RegistrationMonth  FuelType       Brand NotRepaired  \\\n",
       "0      golf     150000                  0    petrol  volkswagen         NaN   \n",
       "1       NaN     125000                  5  gasoline        audi         yes   \n",
       "2     grand     125000                  8  gasoline        jeep         NaN   \n",
       "3      golf     150000                  6    petrol  volkswagen          no   \n",
       "4     fabia      90000                  7  gasoline       skoda          no   \n",
       "5       3er     150000                 10    petrol         bmw         yes   \n",
       "6   2_reihe     150000                  8    petrol     peugeot          no   \n",
       "7     other      40000                  7    petrol  volkswagen          no   \n",
       "8     c_max      30000                  8    petrol        ford         NaN   \n",
       "9      golf     150000                  0       NaN  volkswagen         NaN   \n",
       "10  3_reihe     150000                 12    petrol       mazda          no   \n",
       "11   passat     150000                 12  gasoline  volkswagen         yes   \n",
       "12   passat     150000                 11    petrol  volkswagen         NaN   \n",
       "13   passat     150000                  2       NaN  volkswagen          no   \n",
       "14   navara      70000                  3  gasoline      nissan          no   \n",
       "\n",
       "            DateCreated  NumberOfPictures  PostalCode             LastSeen  \n",
       "0   2016-03-24 00:00:00                 0       70435  2016-04-07 03:16:57  \n",
       "1   2016-03-24 00:00:00                 0       66954  2016-04-07 01:46:50  \n",
       "2   2016-03-14 00:00:00                 0       90480  2016-04-05 12:47:46  \n",
       "3   2016-03-17 00:00:00                 0       91074  2016-03-17 17:40:17  \n",
       "4   2016-03-31 00:00:00                 0       60437  2016-04-06 10:17:21  \n",
       "5   2016-04-04 00:00:00                 0       33775  2016-04-06 19:17:07  \n",
       "6   2016-04-01 00:00:00                 0       67112  2016-04-05 18:18:39  \n",
       "7   2016-03-21 00:00:00                 0       19348  2016-03-25 16:47:58  \n",
       "8   2016-04-04 00:00:00                 0       94505  2016-04-04 23:42:13  \n",
       "9   2016-03-17 00:00:00                 0       27472  2016-03-31 17:17:06  \n",
       "10  2016-03-26 00:00:00                 0       96224  2016-04-06 10:45:34  \n",
       "11  2016-04-07 00:00:00                 0       57290  2016-04-07 10:25:17  \n",
       "12  2016-03-15 00:00:00                 0       37269  2016-04-01 13:16:16  \n",
       "13  2016-03-21 00:00:00                 0       90762  2016-03-23 02:50:54  \n",
       "14  2016-03-21 00:00:00                 0        4177  2016-04-06 07:45:42  "
      ]
     },
     "execution_count": 3,
     "metadata": {},
     "output_type": "execute_result"
    }
   ],
   "source": [
    "df.head(15)"
   ]
  },
  {
   "cell_type": "code",
   "execution_count": null,
   "metadata": {
    "id": "FVvYSb5AouDR",
    "outputId": "1d970cfc-3b85-4462-a155-1bf117163f1e"
   },
   "outputs": [
    {
     "data": {
      "text/html": [
       "<div>\n",
       "<style scoped>\n",
       "    .dataframe tbody tr th:only-of-type {\n",
       "        vertical-align: middle;\n",
       "    }\n",
       "\n",
       "    .dataframe tbody tr th {\n",
       "        vertical-align: top;\n",
       "    }\n",
       "\n",
       "    .dataframe thead th {\n",
       "        text-align: right;\n",
       "    }\n",
       "</style>\n",
       "<table border=\"1\" class=\"dataframe\">\n",
       "  <thead>\n",
       "    <tr style=\"text-align: right;\">\n",
       "      <th></th>\n",
       "      <th>count</th>\n",
       "      <th>mean</th>\n",
       "      <th>std</th>\n",
       "      <th>min</th>\n",
       "      <th>25%</th>\n",
       "      <th>50%</th>\n",
       "      <th>75%</th>\n",
       "      <th>max</th>\n",
       "    </tr>\n",
       "  </thead>\n",
       "  <tbody>\n",
       "    <tr>\n",
       "      <th>Price</th>\n",
       "      <td>354369.0</td>\n",
       "      <td>4416.656776</td>\n",
       "      <td>4514.158514</td>\n",
       "      <td>0.0</td>\n",
       "      <td>1050.0</td>\n",
       "      <td>2700.0</td>\n",
       "      <td>6400.0</td>\n",
       "      <td>20000.0</td>\n",
       "    </tr>\n",
       "    <tr>\n",
       "      <th>RegistrationYear</th>\n",
       "      <td>354369.0</td>\n",
       "      <td>2004.234448</td>\n",
       "      <td>90.227958</td>\n",
       "      <td>1000.0</td>\n",
       "      <td>1999.0</td>\n",
       "      <td>2003.0</td>\n",
       "      <td>2008.0</td>\n",
       "      <td>9999.0</td>\n",
       "    </tr>\n",
       "    <tr>\n",
       "      <th>Power</th>\n",
       "      <td>354369.0</td>\n",
       "      <td>110.094337</td>\n",
       "      <td>189.850405</td>\n",
       "      <td>0.0</td>\n",
       "      <td>69.0</td>\n",
       "      <td>105.0</td>\n",
       "      <td>143.0</td>\n",
       "      <td>20000.0</td>\n",
       "    </tr>\n",
       "    <tr>\n",
       "      <th>Kilometer</th>\n",
       "      <td>354369.0</td>\n",
       "      <td>128211.172535</td>\n",
       "      <td>37905.341530</td>\n",
       "      <td>5000.0</td>\n",
       "      <td>125000.0</td>\n",
       "      <td>150000.0</td>\n",
       "      <td>150000.0</td>\n",
       "      <td>150000.0</td>\n",
       "    </tr>\n",
       "    <tr>\n",
       "      <th>RegistrationMonth</th>\n",
       "      <td>354369.0</td>\n",
       "      <td>5.714645</td>\n",
       "      <td>3.726421</td>\n",
       "      <td>0.0</td>\n",
       "      <td>3.0</td>\n",
       "      <td>6.0</td>\n",
       "      <td>9.0</td>\n",
       "      <td>12.0</td>\n",
       "    </tr>\n",
       "    <tr>\n",
       "      <th>NumberOfPictures</th>\n",
       "      <td>354369.0</td>\n",
       "      <td>0.000000</td>\n",
       "      <td>0.000000</td>\n",
       "      <td>0.0</td>\n",
       "      <td>0.0</td>\n",
       "      <td>0.0</td>\n",
       "      <td>0.0</td>\n",
       "      <td>0.0</td>\n",
       "    </tr>\n",
       "    <tr>\n",
       "      <th>PostalCode</th>\n",
       "      <td>354369.0</td>\n",
       "      <td>50508.689087</td>\n",
       "      <td>25783.096248</td>\n",
       "      <td>1067.0</td>\n",
       "      <td>30165.0</td>\n",
       "      <td>49413.0</td>\n",
       "      <td>71083.0</td>\n",
       "      <td>99998.0</td>\n",
       "    </tr>\n",
       "  </tbody>\n",
       "</table>\n",
       "</div>"
      ],
      "text/plain": [
       "                      count           mean           std     min       25%  \\\n",
       "Price              354369.0    4416.656776   4514.158514     0.0    1050.0   \n",
       "RegistrationYear   354369.0    2004.234448     90.227958  1000.0    1999.0   \n",
       "Power              354369.0     110.094337    189.850405     0.0      69.0   \n",
       "Kilometer          354369.0  128211.172535  37905.341530  5000.0  125000.0   \n",
       "RegistrationMonth  354369.0       5.714645      3.726421     0.0       3.0   \n",
       "NumberOfPictures   354369.0       0.000000      0.000000     0.0       0.0   \n",
       "PostalCode         354369.0   50508.689087  25783.096248  1067.0   30165.0   \n",
       "\n",
       "                        50%       75%       max  \n",
       "Price                2700.0    6400.0   20000.0  \n",
       "RegistrationYear     2003.0    2008.0    9999.0  \n",
       "Power                 105.0     143.0   20000.0  \n",
       "Kilometer          150000.0  150000.0  150000.0  \n",
       "RegistrationMonth       6.0       9.0      12.0  \n",
       "NumberOfPictures        0.0       0.0       0.0  \n",
       "PostalCode          49413.0   71083.0   99998.0  "
      ]
     },
     "execution_count": 4,
     "metadata": {},
     "output_type": "execute_result"
    }
   ],
   "source": [
    "df.describe().T"
   ]
  },
  {
   "cell_type": "code",
   "execution_count": null,
   "metadata": {
    "id": "iqpHFerkouDS",
    "outputId": "fad3778d-38da-469a-a134-439a32ab1228"
   },
   "outputs": [
    {
     "data": {
      "text/html": [
       "<div>\n",
       "<style scoped>\n",
       "    .dataframe tbody tr th:only-of-type {\n",
       "        vertical-align: middle;\n",
       "    }\n",
       "\n",
       "    .dataframe tbody tr th {\n",
       "        vertical-align: top;\n",
       "    }\n",
       "\n",
       "    .dataframe thead th {\n",
       "        text-align: right;\n",
       "    }\n",
       "</style>\n",
       "<table border=\"1\" class=\"dataframe\">\n",
       "  <thead>\n",
       "    <tr style=\"text-align: right;\">\n",
       "      <th></th>\n",
       "      <th>count</th>\n",
       "      <th>unique</th>\n",
       "      <th>top</th>\n",
       "      <th>freq</th>\n",
       "    </tr>\n",
       "  </thead>\n",
       "  <tbody>\n",
       "    <tr>\n",
       "      <th>DateCrawled</th>\n",
       "      <td>354369</td>\n",
       "      <td>271174</td>\n",
       "      <td>2016-03-24 14:49:47</td>\n",
       "      <td>7</td>\n",
       "    </tr>\n",
       "    <tr>\n",
       "      <th>VehicleType</th>\n",
       "      <td>316879</td>\n",
       "      <td>8</td>\n",
       "      <td>sedan</td>\n",
       "      <td>91457</td>\n",
       "    </tr>\n",
       "    <tr>\n",
       "      <th>Gearbox</th>\n",
       "      <td>334536</td>\n",
       "      <td>2</td>\n",
       "      <td>manual</td>\n",
       "      <td>268251</td>\n",
       "    </tr>\n",
       "    <tr>\n",
       "      <th>Model</th>\n",
       "      <td>334664</td>\n",
       "      <td>250</td>\n",
       "      <td>golf</td>\n",
       "      <td>29232</td>\n",
       "    </tr>\n",
       "    <tr>\n",
       "      <th>FuelType</th>\n",
       "      <td>321474</td>\n",
       "      <td>7</td>\n",
       "      <td>petrol</td>\n",
       "      <td>216352</td>\n",
       "    </tr>\n",
       "    <tr>\n",
       "      <th>Brand</th>\n",
       "      <td>354369</td>\n",
       "      <td>40</td>\n",
       "      <td>volkswagen</td>\n",
       "      <td>77013</td>\n",
       "    </tr>\n",
       "    <tr>\n",
       "      <th>NotRepaired</th>\n",
       "      <td>283215</td>\n",
       "      <td>2</td>\n",
       "      <td>no</td>\n",
       "      <td>247161</td>\n",
       "    </tr>\n",
       "    <tr>\n",
       "      <th>DateCreated</th>\n",
       "      <td>354369</td>\n",
       "      <td>109</td>\n",
       "      <td>2016-04-03 00:00:00</td>\n",
       "      <td>13719</td>\n",
       "    </tr>\n",
       "    <tr>\n",
       "      <th>LastSeen</th>\n",
       "      <td>354369</td>\n",
       "      <td>179150</td>\n",
       "      <td>2016-04-06 13:45:54</td>\n",
       "      <td>17</td>\n",
       "    </tr>\n",
       "  </tbody>\n",
       "</table>\n",
       "</div>"
      ],
      "text/plain": [
       "              count  unique                  top    freq\n",
       "DateCrawled  354369  271174  2016-03-24 14:49:47       7\n",
       "VehicleType  316879       8                sedan   91457\n",
       "Gearbox      334536       2               manual  268251\n",
       "Model        334664     250                 golf   29232\n",
       "FuelType     321474       7               petrol  216352\n",
       "Brand        354369      40           volkswagen   77013\n",
       "NotRepaired  283215       2                   no  247161\n",
       "DateCreated  354369     109  2016-04-03 00:00:00   13719\n",
       "LastSeen     354369  179150  2016-04-06 13:45:54      17"
      ]
     },
     "execution_count": 5,
     "metadata": {},
     "output_type": "execute_result"
    }
   ],
   "source": [
    "df.describe(include=[object]).T"
   ]
  },
  {
   "cell_type": "code",
   "execution_count": null,
   "metadata": {
    "id": "J8M6W7ZzouDS",
    "outputId": "f54e3526-829c-41f1-8745-6db44ad092dc"
   },
   "outputs": [
    {
     "name": "stdout",
     "output_type": "stream",
     "text": [
      "<class 'pandas.core.frame.DataFrame'>\n",
      "RangeIndex: 354369 entries, 0 to 354368\n",
      "Data columns (total 16 columns):\n",
      " #   Column             Non-Null Count   Dtype \n",
      "---  ------             --------------   ----- \n",
      " 0   DateCrawled        354369 non-null  object\n",
      " 1   Price              354369 non-null  int64 \n",
      " 2   VehicleType        316879 non-null  object\n",
      " 3   RegistrationYear   354369 non-null  int64 \n",
      " 4   Gearbox            334536 non-null  object\n",
      " 5   Power              354369 non-null  int64 \n",
      " 6   Model              334664 non-null  object\n",
      " 7   Kilometer          354369 non-null  int64 \n",
      " 8   RegistrationMonth  354369 non-null  int64 \n",
      " 9   FuelType           321474 non-null  object\n",
      " 10  Brand              354369 non-null  object\n",
      " 11  NotRepaired        283215 non-null  object\n",
      " 12  DateCreated        354369 non-null  object\n",
      " 13  NumberOfPictures   354369 non-null  int64 \n",
      " 14  PostalCode         354369 non-null  int64 \n",
      " 15  LastSeen           354369 non-null  object\n",
      "dtypes: int64(7), object(9)\n",
      "memory usage: 43.3+ MB\n"
     ]
    }
   ],
   "source": [
    "df.info()"
   ]
  },
  {
   "cell_type": "code",
   "execution_count": null,
   "metadata": {
    "id": "aevB0hgWouDT",
    "outputId": "0885b884-76d0-4c4b-c2c9-5698fdacbf15"
   },
   "outputs": [
    {
     "data": {
      "text/plain": [
       "NotRepaired          0.200791\n",
       "VehicleType          0.105794\n",
       "FuelType             0.092827\n",
       "Gearbox              0.055967\n",
       "Model                0.055606\n",
       "DateCrawled          0.000000\n",
       "Price                0.000000\n",
       "RegistrationYear     0.000000\n",
       "Power                0.000000\n",
       "Kilometer            0.000000\n",
       "RegistrationMonth    0.000000\n",
       "Brand                0.000000\n",
       "DateCreated          0.000000\n",
       "NumberOfPictures     0.000000\n",
       "PostalCode           0.000000\n",
       "LastSeen             0.000000\n",
       "dtype: float64"
      ]
     },
     "execution_count": 7,
     "metadata": {},
     "output_type": "execute_result"
    }
   ],
   "source": [
    "df.isna().mean().sort_values(ascending = False)"
   ]
  },
  {
   "cell_type": "markdown",
   "metadata": {
    "id": "0RZdsWxmouDT"
   },
   "source": [
    "## Предобработка данных"
   ]
  },
  {
   "cell_type": "markdown",
   "metadata": {
    "id": "zgty_z6rouDU"
   },
   "source": [
    "### Изменение названий столбцов:"
   ]
  },
  {
   "cell_type": "code",
   "execution_count": null,
   "metadata": {
    "id": "tT6s1KFiouDU",
    "outputId": "a60f0ec9-af79-480f-b43f-e50d07c43f11"
   },
   "outputs": [
    {
     "data": {
      "text/plain": [
       "Index(['date_crawled', 'price', 'vehicle_type', 'registration_year', 'gearbox',\n",
       "       'power', 'model', 'kilometer', 'registration_month', 'fuel_type',\n",
       "       'brand', 'not_repaired', 'date_created', 'number_of_pictures',\n",
       "       'postal_code', 'last_seen'],\n",
       "      dtype='object')"
      ]
     },
     "execution_count": 9,
     "metadata": {},
     "output_type": "execute_result"
    }
   ],
   "source": [
    "df.columns = [re.sub(r'(?<!^)(?=[A-Z])', '_', i).lower()for i in df.columns]\n",
    "df.columns"
   ]
  },
  {
   "cell_type": "code",
   "execution_count": null,
   "metadata": {
    "id": "XhAnjVViouDV",
    "outputId": "8ea1f630-b61f-412b-ab75-918482e3a76e"
   },
   "outputs": [
    {
     "data": {
      "text/plain": [
       "Index(['price', 'vehicle_type', 'registration_year', 'gearbox', 'power',\n",
       "       'model', 'kilometer', 'fuel_type', 'brand', 'not_repaired'],\n",
       "      dtype='object')"
      ]
     },
     "execution_count": 10,
     "metadata": {},
     "output_type": "execute_result"
    }
   ],
   "source": [
    "df.drop(['date_crawled', 'registration_month', 'date_created', 'number_of_pictures', \n",
    "         'postal_code', 'last_seen'], axis=1, inplace=True)\n",
    "df.columns"
   ]
  },
  {
   "cell_type": "markdown",
   "metadata": {
    "id": "Nm570wYWouDV"
   },
   "source": [
    "### Заполнение пропусков в данных"
   ]
  },
  {
   "cell_type": "markdown",
   "metadata": {
    "id": "6DkTbA-AouDV"
   },
   "source": [
    "Выведем датафрейм и информацию о проценте пропусков в каждом столбце для более детального ознакомления с данными:"
   ]
  },
  {
   "cell_type": "code",
   "execution_count": null,
   "metadata": {
    "id": "bUfUIcFIouDW",
    "outputId": "b99c91d6-0afa-4c2f-dd1b-645b6f6f5c2b"
   },
   "outputs": [
    {
     "data": {
      "text/html": [
       "<div>\n",
       "<style scoped>\n",
       "    .dataframe tbody tr th:only-of-type {\n",
       "        vertical-align: middle;\n",
       "    }\n",
       "\n",
       "    .dataframe tbody tr th {\n",
       "        vertical-align: top;\n",
       "    }\n",
       "\n",
       "    .dataframe thead th {\n",
       "        text-align: right;\n",
       "    }\n",
       "</style>\n",
       "<table border=\"1\" class=\"dataframe\">\n",
       "  <thead>\n",
       "    <tr style=\"text-align: right;\">\n",
       "      <th></th>\n",
       "      <th>price</th>\n",
       "      <th>vehicle_type</th>\n",
       "      <th>registration_year</th>\n",
       "      <th>gearbox</th>\n",
       "      <th>power</th>\n",
       "      <th>model</th>\n",
       "      <th>kilometer</th>\n",
       "      <th>fuel_type</th>\n",
       "      <th>brand</th>\n",
       "      <th>not_repaired</th>\n",
       "    </tr>\n",
       "  </thead>\n",
       "  <tbody>\n",
       "    <tr>\n",
       "      <th>0</th>\n",
       "      <td>480</td>\n",
       "      <td>NaN</td>\n",
       "      <td>1993</td>\n",
       "      <td>manual</td>\n",
       "      <td>0</td>\n",
       "      <td>golf</td>\n",
       "      <td>150000</td>\n",
       "      <td>petrol</td>\n",
       "      <td>volkswagen</td>\n",
       "      <td>NaN</td>\n",
       "    </tr>\n",
       "    <tr>\n",
       "      <th>1</th>\n",
       "      <td>18300</td>\n",
       "      <td>coupe</td>\n",
       "      <td>2011</td>\n",
       "      <td>manual</td>\n",
       "      <td>190</td>\n",
       "      <td>NaN</td>\n",
       "      <td>125000</td>\n",
       "      <td>gasoline</td>\n",
       "      <td>audi</td>\n",
       "      <td>yes</td>\n",
       "    </tr>\n",
       "    <tr>\n",
       "      <th>2</th>\n",
       "      <td>9800</td>\n",
       "      <td>suv</td>\n",
       "      <td>2004</td>\n",
       "      <td>auto</td>\n",
       "      <td>163</td>\n",
       "      <td>grand</td>\n",
       "      <td>125000</td>\n",
       "      <td>gasoline</td>\n",
       "      <td>jeep</td>\n",
       "      <td>NaN</td>\n",
       "    </tr>\n",
       "    <tr>\n",
       "      <th>3</th>\n",
       "      <td>1500</td>\n",
       "      <td>small</td>\n",
       "      <td>2001</td>\n",
       "      <td>manual</td>\n",
       "      <td>75</td>\n",
       "      <td>golf</td>\n",
       "      <td>150000</td>\n",
       "      <td>petrol</td>\n",
       "      <td>volkswagen</td>\n",
       "      <td>no</td>\n",
       "    </tr>\n",
       "    <tr>\n",
       "      <th>4</th>\n",
       "      <td>3600</td>\n",
       "      <td>small</td>\n",
       "      <td>2008</td>\n",
       "      <td>manual</td>\n",
       "      <td>69</td>\n",
       "      <td>fabia</td>\n",
       "      <td>90000</td>\n",
       "      <td>gasoline</td>\n",
       "      <td>skoda</td>\n",
       "      <td>no</td>\n",
       "    </tr>\n",
       "  </tbody>\n",
       "</table>\n",
       "</div>"
      ],
      "text/plain": [
       "   price vehicle_type  registration_year gearbox  power  model  kilometer  \\\n",
       "0    480          NaN               1993  manual      0   golf     150000   \n",
       "1  18300        coupe               2011  manual    190    NaN     125000   \n",
       "2   9800          suv               2004    auto    163  grand     125000   \n",
       "3   1500        small               2001  manual     75   golf     150000   \n",
       "4   3600        small               2008  manual     69  fabia      90000   \n",
       "\n",
       "  fuel_type       brand not_repaired  \n",
       "0    petrol  volkswagen          NaN  \n",
       "1  gasoline        audi          yes  \n",
       "2  gasoline        jeep          NaN  \n",
       "3    petrol  volkswagen           no  \n",
       "4  gasoline       skoda           no  "
      ]
     },
     "execution_count": 12,
     "metadata": {},
     "output_type": "execute_result"
    }
   ],
   "source": [
    "df.head()"
   ]
  },
  {
   "cell_type": "code",
   "execution_count": null,
   "metadata": {
    "id": "KebdTV9SouDW",
    "outputId": "629c644d-3507-4123-f675-b538e3d6e087"
   },
   "outputs": [
    {
     "data": {
      "text/plain": [
       "not_repaired         0.200791\n",
       "vehicle_type         0.105794\n",
       "fuel_type            0.092827\n",
       "gearbox              0.055967\n",
       "model                0.055606\n",
       "price                0.000000\n",
       "registration_year    0.000000\n",
       "power                0.000000\n",
       "kilometer            0.000000\n",
       "brand                0.000000\n",
       "dtype: float64"
      ]
     },
     "execution_count": 13,
     "metadata": {},
     "output_type": "execute_result"
    }
   ],
   "source": [
    "df.isna().mean().sort_values(ascending = False)"
   ]
  },
  {
   "cell_type": "markdown",
   "metadata": {
    "id": "1QlKQJkxouDX"
   },
   "source": [
    "#### not_repaired"
   ]
  },
  {
   "cell_type": "markdown",
   "metadata": {
    "id": "G3GpT0XSouDX"
   },
   "source": [
    "Пропуски в данном столбце можно обосновать тем, что если машина не ремонтировалась, хозяин мог просто пропустить данное поле, так что заменяем пропуски на значение 1, так же переведем категориальные данные в 0 и 1 для удобства."
   ]
  },
  {
   "cell_type": "code",
   "execution_count": null,
   "metadata": {
    "id": "Qul9HPX_ouDX",
    "outputId": "a030b6af-50cb-4391-aecc-472dc96e4863"
   },
   "outputs": [
    {
     "data": {
      "text/plain": [
       "no     247161\n",
       "yes     36054\n",
       "Name: not_repaired, dtype: int64"
      ]
     },
     "execution_count": 14,
     "metadata": {},
     "output_type": "execute_result"
    }
   ],
   "source": [
    "df['not_repaired'].value_counts()"
   ]
  },
  {
   "cell_type": "code",
   "execution_count": null,
   "metadata": {
    "id": "uQTlQZ1IouDY"
   },
   "outputs": [],
   "source": [
    "df['not_repaired'] = df['not_repaired'].map({'yes':1, 'no':0}).fillna(0)"
   ]
  },
  {
   "cell_type": "code",
   "execution_count": null,
   "metadata": {
    "id": "T56RRrtWouDY",
    "outputId": "22e86bab-6826-4306-c515-69868c10e898"
   },
   "outputs": [
    {
     "data": {
      "text/plain": [
       "0.0    318315\n",
       "1.0     36054\n",
       "Name: not_repaired, dtype: int64"
      ]
     },
     "execution_count": 17,
     "metadata": {},
     "output_type": "execute_result"
    }
   ],
   "source": [
    "df['not_repaired'].value_counts()"
   ]
  },
  {
   "cell_type": "markdown",
   "metadata": {
    "id": "iLyBCqbiouDY"
   },
   "source": [
    "#### vehicle_type "
   ]
  },
  {
   "cell_type": "markdown",
   "metadata": {
    "id": "yrK7gGDLouDY"
   },
   "source": [
    "В данном столбце есть тип данных 'other', можно было бы все пропуски запонить данным значением, но я считаю это некорректным, так как мы не знаем, что под собой подразумевает данное обозначение. Заменяем пропуски на 'unknown'."
   ]
  },
  {
   "cell_type": "code",
   "execution_count": null,
   "metadata": {
    "id": "La7RD-GgouDZ",
    "outputId": "8e0239c2-78a9-453a-e21f-a3f21f70f557"
   },
   "outputs": [
    {
     "data": {
      "text/plain": [
       "sedan          91457\n",
       "small          79831\n",
       "wagon          65166\n",
       "bus            28775\n",
       "convertible    20203\n",
       "coupe          16163\n",
       "suv            11996\n",
       "other           3288\n",
       "Name: vehicle_type, dtype: int64"
      ]
     },
     "execution_count": 18,
     "metadata": {},
     "output_type": "execute_result"
    }
   ],
   "source": [
    "df['vehicle_type'].value_counts()"
   ]
  },
  {
   "cell_type": "code",
   "execution_count": null,
   "metadata": {
    "id": "s5kjiR_4ouDZ"
   },
   "outputs": [],
   "source": [
    "df['vehicle_type'] = df['vehicle_type'].fillna('unknown')"
   ]
  },
  {
   "cell_type": "code",
   "execution_count": null,
   "metadata": {
    "id": "8UaR5PhyouDZ",
    "outputId": "09752de9-dc26-41fc-ff0b-ca83c7213357"
   },
   "outputs": [
    {
     "data": {
      "text/plain": [
       "sedan          91457\n",
       "small          79831\n",
       "wagon          65166\n",
       "unknown        37490\n",
       "bus            28775\n",
       "convertible    20203\n",
       "coupe          16163\n",
       "suv            11996\n",
       "other           3288\n",
       "Name: vehicle_type, dtype: int64"
      ]
     },
     "execution_count": 20,
     "metadata": {},
     "output_type": "execute_result"
    }
   ],
   "source": [
    "df['vehicle_type'].value_counts()"
   ]
  },
  {
   "cell_type": "markdown",
   "metadata": {
    "id": "StX1puxgouDZ"
   },
   "source": [
    "#### fuel_type"
   ]
  },
  {
   "cell_type": "markdown",
   "metadata": {
    "id": "-c9i6X5bouDa"
   },
   "source": [
    "Посмотрев на данные по виду топлива подробнее, можно заметить, что 2 самые популярные категории это обозначения одного вида топлива - бензина, только в америке и в англии. Устраним это, пропуски заменим значением 'unknown'."
   ]
  },
  {
   "cell_type": "code",
   "execution_count": null,
   "metadata": {
    "id": "fOyRwbmaouDa",
    "outputId": "21dbac93-84c1-4fa5-ef0e-e9b07dc071a9"
   },
   "outputs": [
    {
     "data": {
      "text/plain": [
       "petrol      216352\n",
       "gasoline     98720\n",
       "lpg           5310\n",
       "cng            565\n",
       "hybrid         233\n",
       "other          204\n",
       "electric        90\n",
       "Name: fuel_type, dtype: int64"
      ]
     },
     "execution_count": 21,
     "metadata": {},
     "output_type": "execute_result"
    }
   ],
   "source": [
    "df['fuel_type'].value_counts()"
   ]
  },
  {
   "cell_type": "code",
   "execution_count": null,
   "metadata": {
    "id": "-cARM32mouDa"
   },
   "outputs": [],
   "source": [
    "df['fuel_type'] = df['fuel_type'].replace('petrol', 'gasoline')\n",
    "df['fuel_type'].fillna('unknown', inplace=True)"
   ]
  },
  {
   "cell_type": "code",
   "execution_count": null,
   "metadata": {
    "id": "arxgRnO7ouDa",
    "outputId": "216810a1-1a7f-4323-eb3e-f901ba19f83c"
   },
   "outputs": [
    {
     "data": {
      "text/plain": [
       "gasoline    315072\n",
       "unknown      32895\n",
       "lpg           5310\n",
       "cng            565\n",
       "hybrid         233\n",
       "other          204\n",
       "electric        90\n",
       "Name: fuel_type, dtype: int64"
      ]
     },
     "execution_count": 23,
     "metadata": {},
     "output_type": "execute_result"
    }
   ],
   "source": [
    "df['fuel_type'].value_counts()"
   ]
  },
  {
   "cell_type": "markdown",
   "metadata": {
    "id": "X4N13OYPouDb"
   },
   "source": [
    "#### gearbox"
   ]
  },
  {
   "cell_type": "markdown",
   "metadata": {
    "id": "mDGk5rZUouDb"
   },
   "source": [
    "Пропуски в данных о типе коробки передач заменим на 'unknown'."
   ]
  },
  {
   "cell_type": "code",
   "execution_count": null,
   "metadata": {
    "id": "SrsEmwB8ouDb",
    "outputId": "e7bdc2ad-9254-483b-fa94-082ea02b1dfd"
   },
   "outputs": [
    {
     "data": {
      "text/plain": [
       "manual    268251\n",
       "auto       66285\n",
       "Name: gearbox, dtype: int64"
      ]
     },
     "execution_count": 24,
     "metadata": {},
     "output_type": "execute_result"
    }
   ],
   "source": [
    "df['gearbox'].value_counts()"
   ]
  },
  {
   "cell_type": "code",
   "execution_count": null,
   "metadata": {
    "id": "AvKzlrWWouDb"
   },
   "outputs": [],
   "source": [
    "df['gearbox'] = df['gearbox'].fillna('unknown')"
   ]
  },
  {
   "cell_type": "code",
   "execution_count": null,
   "metadata": {
    "id": "VF-o1glnouDb",
    "outputId": "da14f7af-3424-484c-f587-a4b7ce67ec9a"
   },
   "outputs": [
    {
     "data": {
      "text/plain": [
       "manual     268251\n",
       "auto        66285\n",
       "unknown     19833\n",
       "Name: gearbox, dtype: int64"
      ]
     },
     "execution_count": 26,
     "metadata": {},
     "output_type": "execute_result"
    }
   ],
   "source": [
    "df['gearbox'].value_counts()"
   ]
  },
  {
   "cell_type": "markdown",
   "metadata": {
    "id": "aweykqG_ouDb"
   },
   "source": [
    "#### model"
   ]
  },
  {
   "cell_type": "markdown",
   "metadata": {
    "id": "ntyW1DM2ouDc"
   },
   "source": [
    "В данном столбце, так же как и в столбце ***vehicle_type***, есть тип данных 'other' но заполнять этим значением пропуски мы не будем. Заменяем пропуски на 'unknown'."
   ]
  },
  {
   "cell_type": "code",
   "execution_count": null,
   "metadata": {
    "id": "EI0Ax_uKouDc",
    "outputId": "ca2c4214-c983-43f5-cc8f-fcaa3372407c"
   },
   "outputs": [
    {
     "data": {
      "text/plain": [
       "golf                  29232\n",
       "other                 24421\n",
       "3er                   19761\n",
       "polo                  13066\n",
       "corsa                 12570\n",
       "                      ...  \n",
       "serie_2                   8\n",
       "serie_3                   4\n",
       "rangerover                4\n",
       "serie_1                   2\n",
       "range_rover_evoque        2\n",
       "Name: model, Length: 250, dtype: int64"
      ]
     },
     "execution_count": 27,
     "metadata": {},
     "output_type": "execute_result"
    }
   ],
   "source": [
    "df['model'].value_counts()"
   ]
  },
  {
   "cell_type": "markdown",
   "metadata": {
    "id": "dTyV3fsBouDc"
   },
   "source": [
    "есть other, но непонетно что они имели ввиду, так что анноун"
   ]
  },
  {
   "cell_type": "code",
   "execution_count": null,
   "metadata": {
    "id": "Ea2n_8-qouDc"
   },
   "outputs": [],
   "source": [
    "df['model'] = df['model'].fillna('unknown')"
   ]
  },
  {
   "cell_type": "code",
   "execution_count": null,
   "metadata": {
    "id": "PMIMvVdKouDd",
    "outputId": "19644299-be73-4ee4-dbef-1d9cee1df1d2"
   },
   "outputs": [
    {
     "data": {
      "text/plain": [
       "golf                  29232\n",
       "other                 24421\n",
       "3er                   19761\n",
       "unknown               19705\n",
       "polo                  13066\n",
       "                      ...  \n",
       "serie_2                   8\n",
       "serie_3                   4\n",
       "rangerover                4\n",
       "serie_1                   2\n",
       "range_rover_evoque        2\n",
       "Name: model, Length: 251, dtype: int64"
      ]
     },
     "execution_count": 29,
     "metadata": {},
     "output_type": "execute_result"
    }
   ],
   "source": [
    "df['model'].value_counts()"
   ]
  },
  {
   "cell_type": "markdown",
   "metadata": {
    "id": "MqN8BNO3ouDd"
   },
   "source": [
    "Проверяем, остались ли пропуски в данных:"
   ]
  },
  {
   "cell_type": "code",
   "execution_count": null,
   "metadata": {
    "id": "dODTDPU4ouDd",
    "outputId": "7d881255-3e1c-4cd9-aa0c-c063f93ad994"
   },
   "outputs": [
    {
     "data": {
      "text/plain": [
       "price                0.0\n",
       "vehicle_type         0.0\n",
       "registration_year    0.0\n",
       "gearbox              0.0\n",
       "power                0.0\n",
       "model                0.0\n",
       "kilometer            0.0\n",
       "fuel_type            0.0\n",
       "brand                0.0\n",
       "not_repaired         0.0\n",
       "dtype: float64"
      ]
     },
     "execution_count": 30,
     "metadata": {},
     "output_type": "execute_result"
    }
   ],
   "source": [
    "df.isna().mean().sort_values(ascending = False)"
   ]
  },
  {
   "cell_type": "markdown",
   "metadata": {
    "id": "HXNIkLOfouDd"
   },
   "source": [
    "Теперь в данных отсутствуют пропуски, можно двигаться дальше"
   ]
  },
  {
   "cell_type": "markdown",
   "metadata": {
    "id": "92On4DL3ouDe"
   },
   "source": [
    "### Изучение редких значений и выбросов"
   ]
  },
  {
   "cell_type": "code",
   "execution_count": null,
   "metadata": {
    "id": "_n1AsmfhouDe",
    "outputId": "819c76b3-8bba-4675-ff1c-5993352c0bd2"
   },
   "outputs": [
    {
     "data": {
      "text/html": [
       "<div>\n",
       "<style scoped>\n",
       "    .dataframe tbody tr th:only-of-type {\n",
       "        vertical-align: middle;\n",
       "    }\n",
       "\n",
       "    .dataframe tbody tr th {\n",
       "        vertical-align: top;\n",
       "    }\n",
       "\n",
       "    .dataframe thead th {\n",
       "        text-align: right;\n",
       "    }\n",
       "</style>\n",
       "<table border=\"1\" class=\"dataframe\">\n",
       "  <thead>\n",
       "    <tr style=\"text-align: right;\">\n",
       "      <th></th>\n",
       "      <th>price</th>\n",
       "      <th>vehicle_type</th>\n",
       "      <th>registration_year</th>\n",
       "      <th>gearbox</th>\n",
       "      <th>power</th>\n",
       "      <th>model</th>\n",
       "      <th>kilometer</th>\n",
       "      <th>fuel_type</th>\n",
       "      <th>brand</th>\n",
       "      <th>not_repaired</th>\n",
       "    </tr>\n",
       "  </thead>\n",
       "  <tbody>\n",
       "    <tr>\n",
       "      <th>0</th>\n",
       "      <td>480</td>\n",
       "      <td>unknown</td>\n",
       "      <td>1993</td>\n",
       "      <td>manual</td>\n",
       "      <td>0</td>\n",
       "      <td>golf</td>\n",
       "      <td>150000</td>\n",
       "      <td>gasoline</td>\n",
       "      <td>volkswagen</td>\n",
       "      <td>0.0</td>\n",
       "    </tr>\n",
       "    <tr>\n",
       "      <th>1</th>\n",
       "      <td>18300</td>\n",
       "      <td>coupe</td>\n",
       "      <td>2011</td>\n",
       "      <td>manual</td>\n",
       "      <td>190</td>\n",
       "      <td>unknown</td>\n",
       "      <td>125000</td>\n",
       "      <td>gasoline</td>\n",
       "      <td>audi</td>\n",
       "      <td>1.0</td>\n",
       "    </tr>\n",
       "    <tr>\n",
       "      <th>2</th>\n",
       "      <td>9800</td>\n",
       "      <td>suv</td>\n",
       "      <td>2004</td>\n",
       "      <td>auto</td>\n",
       "      <td>163</td>\n",
       "      <td>grand</td>\n",
       "      <td>125000</td>\n",
       "      <td>gasoline</td>\n",
       "      <td>jeep</td>\n",
       "      <td>0.0</td>\n",
       "    </tr>\n",
       "    <tr>\n",
       "      <th>3</th>\n",
       "      <td>1500</td>\n",
       "      <td>small</td>\n",
       "      <td>2001</td>\n",
       "      <td>manual</td>\n",
       "      <td>75</td>\n",
       "      <td>golf</td>\n",
       "      <td>150000</td>\n",
       "      <td>gasoline</td>\n",
       "      <td>volkswagen</td>\n",
       "      <td>0.0</td>\n",
       "    </tr>\n",
       "    <tr>\n",
       "      <th>4</th>\n",
       "      <td>3600</td>\n",
       "      <td>small</td>\n",
       "      <td>2008</td>\n",
       "      <td>manual</td>\n",
       "      <td>69</td>\n",
       "      <td>fabia</td>\n",
       "      <td>90000</td>\n",
       "      <td>gasoline</td>\n",
       "      <td>skoda</td>\n",
       "      <td>0.0</td>\n",
       "    </tr>\n",
       "  </tbody>\n",
       "</table>\n",
       "</div>"
      ],
      "text/plain": [
       "   price vehicle_type  registration_year gearbox  power    model  kilometer  \\\n",
       "0    480      unknown               1993  manual      0     golf     150000   \n",
       "1  18300        coupe               2011  manual    190  unknown     125000   \n",
       "2   9800          suv               2004    auto    163    grand     125000   \n",
       "3   1500        small               2001  manual     75     golf     150000   \n",
       "4   3600        small               2008  manual     69    fabia      90000   \n",
       "\n",
       "  fuel_type       brand  not_repaired  \n",
       "0  gasoline  volkswagen           0.0  \n",
       "1  gasoline        audi           1.0  \n",
       "2  gasoline        jeep           0.0  \n",
       "3  gasoline  volkswagen           0.0  \n",
       "4  gasoline       skoda           0.0  "
      ]
     },
     "execution_count": 31,
     "metadata": {},
     "output_type": "execute_result"
    }
   ],
   "source": [
    "df.head()"
   ]
  },
  {
   "cell_type": "markdown",
   "metadata": {
    "id": "iJgLc-SVouDe"
   },
   "source": [
    "Убирать редкие и выбивающиеся значения будем, опираясь на межквартильный размах, также построим диаграмму размаха для каждого из параметров для наглядности."
   ]
  },
  {
   "cell_type": "code",
   "execution_count": null,
   "metadata": {
    "id": "gHfoFWiIouDe"
   },
   "outputs": [],
   "source": [
    "def describe_hist_and_boxplot(data, column, title):\n",
    "    display(data[column].describe())\n",
    "    print('2,5й и 97,5й процентли:', data[column].quantile(0.025), ',', data[column].quantile(0.975), '\\n')\n",
    "    \n",
    "    #Вычислим границы выбросов:\n",
    "    # Первая квантиль\n",
    "    Q1 = data[column].quantile(0.25)\n",
    "    # Третья квантиль\n",
    "    Q3 = data[column].quantile(0.75)\n",
    "    # Межквантильное расстояние\n",
    "    IQR = Q3 - Q1\n",
    "    \n",
    "    min_range = Q1 - 1.5 * IQR\n",
    "    max_range = Q3 + 1.5 * IQR\n",
    "    \n",
    "    if min_range < 0:\n",
    "        min_range = 0\n",
    "    \n",
    "    print('-' * 120, '\\n') \n",
    "    print('Распределение и диаграмма размаха для параметра:', title)   \n",
    "    \n",
    "    data[column].plot(kind='hist', bins=50, range=(min_range, max_range), grid=True, title=title, figsize=(13,6), legend=True)\n",
    "    plt.show()\n",
    "    \n",
    "    plt.ylim(min_range, max_range)\n",
    "    data.boxplot(column=column)\n",
    "    plt.show()"
   ]
  },
  {
   "cell_type": "markdown",
   "metadata": {
    "id": "df9PB9weouDf"
   },
   "source": [
    "### price"
   ]
  },
  {
   "cell_type": "code",
   "execution_count": null,
   "metadata": {
    "id": "TFmE3DHIouDf",
    "outputId": "96d87a44-2687-4ef4-e5da-cdff7141278f"
   },
   "outputs": [
    {
     "data": {
      "text/plain": [
       "count    354369.000000\n",
       "mean       4416.656776\n",
       "std        4514.158514\n",
       "min           0.000000\n",
       "25%        1050.000000\n",
       "50%        2700.000000\n",
       "75%        6400.000000\n",
       "max       20000.000000\n",
       "Name: price, dtype: float64"
      ]
     },
     "metadata": {},
     "output_type": "display_data"
    },
    {
     "name": "stdout",
     "output_type": "stream",
     "text": [
      "2,5й и 97,5й процентли: 0.0 , 16900.0 \n",
      "\n",
      "------------------------------------------------------------------------------------------------------------------------ \n",
      "\n",
      "Распределение и диаграмма размаха для параметра: Цена\n"
     ]
    },
    {
     "data": {
      "image/png": "[encoded data removed]",
      "text/plain": [
       "<Figure size 936x432 with 1 Axes>"
      ]
     },
     "metadata": {
      "needs_background": "light"
     },
     "output_type": "display_data"
    },
    {
     "data": {
      "image/png": "[encoded data removed]",
      "text/plain": [
       "<Figure size 432x288 with 1 Axes>"
      ]
     },
     "metadata": {
      "needs_background": "light"
     },
     "output_type": "display_data"
    }
   ],
   "source": [
    "describe_hist_and_boxplot(df, 'price', 'Цена')"
   ]
  },
  {
   "cell_type": "markdown",
   "metadata": {
    "id": "wNQioSLMouDf"
   },
   "source": [
    "Видно, что в данных много нулей. Бесплатно машины не продают, скорее всего это ошибки в данных, так как заказчику важна точность прогноза, то удалим эти данные. Также определим 0,05 и 0,95 квантили и оставим данные внутри этого интервала."
   ]
  },
  {
   "cell_type": "code",
   "execution_count": null,
   "metadata": {
    "id": "NFy4Y_rjouDf",
    "outputId": "490cb0a1-2aaa-4216-8839-73d325ea9f99"
   },
   "outputs": [
    {
     "name": "stdout",
     "output_type": "stream",
     "text": [
      "10772\n"
     ]
    }
   ],
   "source": [
    "print(df.query('price == 0').shape[0])"
   ]
  },
  {
   "cell_type": "code",
   "execution_count": null,
   "metadata": {
    "id": "FoQwTe6xouDf",
    "outputId": "f08ad308-4388-4a31-f5ce-3b2f7948d6b1"
   },
   "outputs": [
    {
     "name": "stdout",
     "output_type": "stream",
     "text": [
      "354369\n",
      "343597\n"
     ]
    }
   ],
   "source": [
    "filtered_df = df.query('price != 0')\n",
    "print(df.shape[0])\n",
    "print(filtered_df.shape[0])"
   ]
  },
  {
   "cell_type": "code",
   "execution_count": null,
   "metadata": {
    "id": "e-VJxVuUouDg",
    "outputId": "d228e7c0-60cf-4a19-ef60-30a3edd54283"
   },
   "outputs": [
    {
     "data": {
      "text/plain": [
       "0.05      350.0\n",
       "0.95    14800.0\n",
       "Name: price, dtype: float64"
      ]
     },
     "execution_count": 36,
     "metadata": {},
     "output_type": "execute_result"
    }
   ],
   "source": [
    "filtered_df['price'].quantile([0.05, 0.95])"
   ]
  },
  {
   "cell_type": "code",
   "execution_count": null,
   "metadata": {
    "id": "xefON92IouDg"
   },
   "outputs": [],
   "source": [
    "filtered_df = filtered_df.query('price >= 350 and price <= 14800')"
   ]
  },
  {
   "cell_type": "code",
   "execution_count": null,
   "metadata": {
    "id": "jrXsyvVdouDg",
    "outputId": "4f23abe4-cb9f-4979-e3d7-d7e861d1baf0"
   },
   "outputs": [
    {
     "data": {
      "text/plain": [
       "count    310896.000000\n",
       "mean       4080.479775\n",
       "std        3534.369524\n",
       "min         350.000000\n",
       "25%        1300.000000\n",
       "50%        2850.000000\n",
       "75%        5990.000000\n",
       "max       14800.000000\n",
       "Name: price, dtype: float64"
      ]
     },
     "metadata": {},
     "output_type": "display_data"
    },
    {
     "name": "stdout",
     "output_type": "stream",
     "text": [
      "2,5й и 97,5й процентли: 450.0 , 13000.0 \n",
      "\n",
      "------------------------------------------------------------------------------------------------------------------------ \n",
      "\n",
      "Распределение и диаграмма размаха для параметра: Цена\n"
     ]
    },
    {
     "data": {
      "image/png": "[encoded data removed]",
      "text/plain": [
       "<Figure size 936x432 with 1 Axes>"
      ]
     },
     "metadata": {
      "needs_background": "light"
     },
     "output_type": "display_data"
    },
    {
     "data": {
      "image/png": "[encoded data removed]",
      "text/plain": [
       "<Figure size 432x288 with 1 Axes>"
      ]
     },
     "metadata": {
      "needs_background": "light"
     },
     "output_type": "display_data"
    }
   ],
   "source": [
    "describe_hist_and_boxplot(filtered_df, 'price', 'Цена')"
   ]
  },
  {
   "cell_type": "markdown",
   "metadata": {
    "id": "fopp1p0uouDg"
   },
   "source": [
    "### registration_year"
   ]
  },
  {
   "cell_type": "code",
   "execution_count": null,
   "metadata": {
    "id": "idpW-teTouDg",
    "outputId": "48d75887-d84d-40aa-a2e6-a50ef51d5230"
   },
   "outputs": [
    {
     "data": {
      "text/plain": [
       "count    310896.000000\n",
       "mean       2003.738762\n",
       "std          65.684292\n",
       "min        1000.000000\n",
       "25%        1999.000000\n",
       "50%        2003.000000\n",
       "75%        2007.000000\n",
       "max        9999.000000\n",
       "Name: registration_year, dtype: float64"
      ]
     },
     "metadata": {},
     "output_type": "display_data"
    },
    {
     "name": "stdout",
     "output_type": "stream",
     "text": [
      "2,5й и 97,5й процентли: 1989.0 , 2017.0 \n",
      "\n",
      "------------------------------------------------------------------------------------------------------------------------ \n",
      "\n",
      "Распределение и диаграмма размаха для параметра: Год регистрации\n"
     ]
    },
    {
     "data": {
      "image/png": "[encoded data removed]",
      "text/plain": [
       "<Figure size 936x432 with 1 Axes>"
      ]
     },
     "metadata": {
      "needs_background": "light"
     },
     "output_type": "display_data"
    },
    {
     "data": {
      "image/png": "[encoded data removed]",
      "text/plain": [
       "<Figure size 432x288 with 1 Axes>"
      ]
     },
     "metadata": {
      "needs_background": "light"
     },
     "output_type": "display_data"
    }
   ],
   "source": [
    "describe_hist_and_boxplot(filtered_df, 'registration_year', 'Год регистрации')"
   ]
  },
  {
   "cell_type": "markdown",
   "metadata": {
    "id": "P0zs-XMXouDg"
   },
   "source": [
    "Думаю логичным решением будет убрать все машины, старше 1970, так как скорее всего это слишком старые машины, которые в большинстве своем не работоспособны."
   ]
  },
  {
   "cell_type": "code",
   "execution_count": null,
   "metadata": {
    "id": "qJZdGQHFouDh",
    "outputId": "8e09cbd7-bd7c-49d3-a325-e51f57805b79"
   },
   "outputs": [
    {
     "name": "stdout",
     "output_type": "stream",
     "text": [
      "923\n"
     ]
    }
   ],
   "source": [
    "print(filtered_df.query('registration_year < 1970 or registration_year > 2021').shape[0])"
   ]
  },
  {
   "cell_type": "code",
   "execution_count": null,
   "metadata": {
    "id": "5L3hjJWSouDh"
   },
   "outputs": [],
   "source": [
    "filtered_df = filtered_df.query('registration_year >= 1970 and registration_year <= 2021')"
   ]
  },
  {
   "cell_type": "markdown",
   "metadata": {
    "id": "TWSdlvvbouDh"
   },
   "source": [
    "### power"
   ]
  },
  {
   "cell_type": "code",
   "execution_count": null,
   "metadata": {
    "id": "y_mp71SmouDi",
    "outputId": "0de3885e-dd49-4781-8427-8f0fe7f2d498"
   },
   "outputs": [
    {
     "data": {
      "text/plain": [
       "count    309973.000000\n",
       "mean        109.903772\n",
       "std         186.495437\n",
       "min           0.000000\n",
       "25%          71.000000\n",
       "50%         105.000000\n",
       "75%         140.000000\n",
       "max       20000.000000\n",
       "Name: power, dtype: float64"
      ]
     },
     "metadata": {},
     "output_type": "display_data"
    },
    {
     "name": "stdout",
     "output_type": "stream",
     "text": [
      "2,5й и 97,5й процентли: 0.0 , 231.0 \n",
      "\n",
      "------------------------------------------------------------------------------------------------------------------------ \n",
      "\n",
      "Распределение и диаграмма размаха для параметра: Мощность двигателя\n"
     ]
    },
    {
     "data": {
      "image/png": "[encoded data removed]",
      "text/plain": [
       "<Figure size 936x432 with 1 Axes>"
      ]
     },
     "metadata": {
      "needs_background": "light"
     },
     "output_type": "display_data"
    },
    {
     "data": {
      "image/png": "[encoded data removed]",
      "text/plain": [
       "<Figure size 432x288 with 1 Axes>"
      ]
     },
     "metadata": {
      "needs_background": "light"
     },
     "output_type": "display_data"
    }
   ],
   "source": [
    "describe_hist_and_boxplot(filtered_df, 'power', 'Мощность двигателя')"
   ]
  },
  {
   "cell_type": "markdown",
   "metadata": {
    "id": "hS-ZlMRHouDi"
   },
   "source": [
    "Машин, с мощностью меньше 10 л.с. не существует, также значения мощности больше 1000 л.с. являются выбросами."
   ]
  },
  {
   "cell_type": "code",
   "execution_count": null,
   "metadata": {
    "id": "VHwIMiWiouDi",
    "outputId": "02ecc625-eceb-4038-e038-978ba1d49137"
   },
   "outputs": [
    {
     "name": "stdout",
     "output_type": "stream",
     "text": [
      "259\n",
      "30442\n"
     ]
    }
   ],
   "source": [
    "print(filtered_df.query('power >= 1000').shape[0])\n",
    "print(filtered_df.query('power <= 10').shape[0])"
   ]
  },
  {
   "cell_type": "code",
   "execution_count": null,
   "metadata": {
    "id": "EO-Ct77nouDi"
   },
   "outputs": [],
   "source": [
    "filtered_df = filtered_df.query('power > 10 and power < 1000')"
   ]
  },
  {
   "cell_type": "code",
   "execution_count": null,
   "metadata": {
    "id": "8WO3NhViouDi",
    "outputId": "6a66ed68-8ba7-4050-e8c3-968751839c63"
   },
   "outputs": [
    {
     "data": {
      "text/plain": [
       "count    279272.000000\n",
       "mean        118.157907\n",
       "std          51.160331\n",
       "min          11.000000\n",
       "25%          75.000000\n",
       "50%         110.000000\n",
       "75%         143.000000\n",
       "max         999.000000\n",
       "Name: power, dtype: float64"
      ]
     },
     "metadata": {},
     "output_type": "display_data"
    },
    {
     "name": "stdout",
     "output_type": "stream",
     "text": [
      "2,5й и 97,5й процентли: 50.0 , 232.0 \n",
      "\n",
      "------------------------------------------------------------------------------------------------------------------------ \n",
      "\n",
      "Распределение и диаграмма размаха для параметра: Мощность двигателя\n"
     ]
    },
    {
     "data": {
      "image/png": "[encoded data removed]",
      "text/plain": [
       "<Figure size 936x432 with 1 Axes>"
      ]
     },
     "metadata": {
      "needs_background": "light"
     },
     "output_type": "display_data"
    },
    {
     "data": {
      "image/png": "[encoded data removed]",
      "text/plain": [
       "<Figure size 432x288 with 1 Axes>"
      ]
     },
     "metadata": {
      "needs_background": "light"
     },
     "output_type": "display_data"
    }
   ],
   "source": [
    "describe_hist_and_boxplot(filtered_df, 'power', 'Мощность двигателя')"
   ]
  },
  {
   "cell_type": "markdown",
   "metadata": {
    "id": "KsQ72g0DouDj"
   },
   "source": [
    "### kilometer"
   ]
  },
  {
   "cell_type": "code",
   "execution_count": null,
   "metadata": {
    "id": "f2bFvFH8ouDj",
    "outputId": "10fe9e49-3add-40ae-ab1a-b5e33cc4c7cb"
   },
   "outputs": [
    {
     "data": {
      "text/plain": [
       "count    279272.000000\n",
       "mean     130393.200894\n",
       "std       34845.404803\n",
       "min        5000.000000\n",
       "25%      125000.000000\n",
       "50%      150000.000000\n",
       "75%      150000.000000\n",
       "max      150000.000000\n",
       "Name: kilometer, dtype: float64"
      ]
     },
     "metadata": {},
     "output_type": "display_data"
    },
    {
     "name": "stdout",
     "output_type": "stream",
     "text": [
      "2,5й и 97,5й процентли: 30000.0 , 150000.0 \n",
      "\n",
      "------------------------------------------------------------------------------------------------------------------------ \n",
      "\n",
      "Распределение и диаграмма размаха для параметра: Пробег\n"
     ]
    },
    {
     "data": {
      "image/png": "[encoded data removed]",
      "text/plain": [
       "<Figure size 936x432 with 1 Axes>"
      ]
     },
     "metadata": {
      "needs_background": "light"
     },
     "output_type": "display_data"
    },
    {
     "data": {
      "image/png": "[encoded data removed]",
      "text/plain": [
       "<Figure size 432x288 with 1 Axes>"
      ]
     },
     "metadata": {
      "needs_background": "light"
     },
     "output_type": "display_data"
    }
   ],
   "source": [
    "describe_hist_and_boxplot(filtered_df, 'kilometer', 'Пробег')"
   ]
  },
  {
   "cell_type": "markdown",
   "metadata": {
    "id": "iSxkBqJXouDj"
   },
   "source": [
    "Данные по пробегу выглядят нормально."
   ]
  },
  {
   "cell_type": "markdown",
   "metadata": {
    "id": "vMEorFjAouDj"
   },
   "source": [
    "## Обучение моделей"
   ]
  },
  {
   "cell_type": "markdown",
   "metadata": {
    "id": "H3g6IJn_ouDj"
   },
   "source": [
    "Изучим 3 модели машинного обучения:\n",
    "1. Линейная регрессия\n",
    "2. LightGBM\n",
    "3. CatBoost"
   ]
  },
  {
   "cell_type": "markdown",
   "metadata": {
    "id": "gPEmSrYUouDk"
   },
   "source": [
    "### Подготовка данных к обучению"
   ]
  },
  {
   "cell_type": "markdown",
   "metadata": {
    "id": "Fx3R1Yj-ouDk"
   },
   "source": [
    "#### Скопируем датафрейм для моделей catboost и lightgbm без перевода категориальных данных в числовые, так как обе модели поддерживают работу с категориальными данными."
   ]
  },
  {
   "cell_type": "markdown",
   "metadata": {
    "id": "dz6wCy3AouDk"
   },
   "source": [
    "Сделаем копию датасета для моделей CatBoost и LightGBM"
   ]
  },
  {
   "cell_type": "code",
   "execution_count": null,
   "metadata": {
    "id": "LsA9jsckouDk",
    "outputId": "a52553e2-35a7-4d75-a39a-a52852480f85"
   },
   "outputs": [
    {
     "data": {
      "text/html": [
       "<div>\n",
       "<style scoped>\n",
       "    .dataframe tbody tr th:only-of-type {\n",
       "        vertical-align: middle;\n",
       "    }\n",
       "\n",
       "    .dataframe tbody tr th {\n",
       "        vertical-align: top;\n",
       "    }\n",
       "\n",
       "    .dataframe thead th {\n",
       "        text-align: right;\n",
       "    }\n",
       "</style>\n",
       "<table border=\"1\" class=\"dataframe\">\n",
       "  <thead>\n",
       "    <tr style=\"text-align: right;\">\n",
       "      <th></th>\n",
       "      <th>price</th>\n",
       "      <th>vehicle_type</th>\n",
       "      <th>registration_year</th>\n",
       "      <th>gearbox</th>\n",
       "      <th>power</th>\n",
       "      <th>model</th>\n",
       "      <th>kilometer</th>\n",
       "      <th>fuel_type</th>\n",
       "      <th>brand</th>\n",
       "      <th>not_repaired</th>\n",
       "    </tr>\n",
       "  </thead>\n",
       "  <tbody>\n",
       "    <tr>\n",
       "      <th>2</th>\n",
       "      <td>9800</td>\n",
       "      <td>suv</td>\n",
       "      <td>2004</td>\n",
       "      <td>auto</td>\n",
       "      <td>163</td>\n",
       "      <td>grand</td>\n",
       "      <td>125000</td>\n",
       "      <td>gasoline</td>\n",
       "      <td>jeep</td>\n",
       "      <td>0.0</td>\n",
       "    </tr>\n",
       "    <tr>\n",
       "      <th>3</th>\n",
       "      <td>1500</td>\n",
       "      <td>small</td>\n",
       "      <td>2001</td>\n",
       "      <td>manual</td>\n",
       "      <td>75</td>\n",
       "      <td>golf</td>\n",
       "      <td>150000</td>\n",
       "      <td>gasoline</td>\n",
       "      <td>volkswagen</td>\n",
       "      <td>0.0</td>\n",
       "    </tr>\n",
       "    <tr>\n",
       "      <th>4</th>\n",
       "      <td>3600</td>\n",
       "      <td>small</td>\n",
       "      <td>2008</td>\n",
       "      <td>manual</td>\n",
       "      <td>69</td>\n",
       "      <td>fabia</td>\n",
       "      <td>90000</td>\n",
       "      <td>gasoline</td>\n",
       "      <td>skoda</td>\n",
       "      <td>0.0</td>\n",
       "    </tr>\n",
       "    <tr>\n",
       "      <th>5</th>\n",
       "      <td>650</td>\n",
       "      <td>sedan</td>\n",
       "      <td>1995</td>\n",
       "      <td>manual</td>\n",
       "      <td>102</td>\n",
       "      <td>3er</td>\n",
       "      <td>150000</td>\n",
       "      <td>gasoline</td>\n",
       "      <td>bmw</td>\n",
       "      <td>1.0</td>\n",
       "    </tr>\n",
       "    <tr>\n",
       "      <th>6</th>\n",
       "      <td>2200</td>\n",
       "      <td>convertible</td>\n",
       "      <td>2004</td>\n",
       "      <td>manual</td>\n",
       "      <td>109</td>\n",
       "      <td>2_reihe</td>\n",
       "      <td>150000</td>\n",
       "      <td>gasoline</td>\n",
       "      <td>peugeot</td>\n",
       "      <td>0.0</td>\n",
       "    </tr>\n",
       "  </tbody>\n",
       "</table>\n",
       "</div>"
      ],
      "text/plain": [
       "   price vehicle_type  registration_year gearbox  power    model  kilometer  \\\n",
       "2   9800          suv               2004    auto    163    grand     125000   \n",
       "3   1500        small               2001  manual     75     golf     150000   \n",
       "4   3600        small               2008  manual     69    fabia      90000   \n",
       "5    650        sedan               1995  manual    102      3er     150000   \n",
       "6   2200  convertible               2004  manual    109  2_reihe     150000   \n",
       "\n",
       "  fuel_type       brand  not_repaired  \n",
       "2  gasoline        jeep           0.0  \n",
       "3  gasoline  volkswagen           0.0  \n",
       "4  gasoline       skoda           0.0  \n",
       "5  gasoline         bmw           1.0  \n",
       "6  gasoline     peugeot           0.0  "
      ]
     },
     "execution_count": 47,
     "metadata": {},
     "output_type": "execute_result"
    }
   ],
   "source": [
    "df_for_ctb_and_lgbm = filtered_df.copy()\n",
    "df_for_ctb_and_lgbm.head()"
   ]
  },
  {
   "cell_type": "markdown",
   "metadata": {
    "id": "7tp-FOBTouDk"
   },
   "source": [
    "#### Преобразование категориальных признаков в численные с помощью OHE, с защитой от дамми-ловушки."
   ]
  },
  {
   "cell_type": "code",
   "execution_count": null,
   "metadata": {
    "id": "vxMckAQVouDk"
   },
   "outputs": [],
   "source": [
    "filtered_df = pd.get_dummies(df, drop_first=True)"
   ]
  },
  {
   "cell_type": "code",
   "execution_count": null,
   "metadata": {
    "id": "E0bc2Hc6ouDl",
    "outputId": "444ec9ac-5d68-428e-f511-b211669f9a65"
   },
   "outputs": [
    {
     "data": {
      "text/html": [
       "<div>\n",
       "<style scoped>\n",
       "    .dataframe tbody tr th:only-of-type {\n",
       "        vertical-align: middle;\n",
       "    }\n",
       "\n",
       "    .dataframe tbody tr th {\n",
       "        vertical-align: top;\n",
       "    }\n",
       "\n",
       "    .dataframe thead th {\n",
       "        text-align: right;\n",
       "    }\n",
       "</style>\n",
       "<table border=\"1\" class=\"dataframe\">\n",
       "  <thead>\n",
       "    <tr style=\"text-align: right;\">\n",
       "      <th></th>\n",
       "      <th>price</th>\n",
       "      <th>registration_year</th>\n",
       "      <th>power</th>\n",
       "      <th>kilometer</th>\n",
       "      <th>not_repaired</th>\n",
       "      <th>vehicle_type_convertible</th>\n",
       "      <th>vehicle_type_coupe</th>\n",
       "      <th>vehicle_type_other</th>\n",
       "      <th>vehicle_type_sedan</th>\n",
       "      <th>vehicle_type_small</th>\n",
       "      <th>...</th>\n",
       "      <th>brand_seat</th>\n",
       "      <th>brand_skoda</th>\n",
       "      <th>brand_smart</th>\n",
       "      <th>brand_sonstige_autos</th>\n",
       "      <th>brand_subaru</th>\n",
       "      <th>brand_suzuki</th>\n",
       "      <th>brand_toyota</th>\n",
       "      <th>brand_trabant</th>\n",
       "      <th>brand_volkswagen</th>\n",
       "      <th>brand_volvo</th>\n",
       "    </tr>\n",
       "  </thead>\n",
       "  <tbody>\n",
       "    <tr>\n",
       "      <th>0</th>\n",
       "      <td>480</td>\n",
       "      <td>1993</td>\n",
       "      <td>0</td>\n",
       "      <td>150000</td>\n",
       "      <td>0.0</td>\n",
       "      <td>0</td>\n",
       "      <td>0</td>\n",
       "      <td>0</td>\n",
       "      <td>0</td>\n",
       "      <td>0</td>\n",
       "      <td>...</td>\n",
       "      <td>0</td>\n",
       "      <td>0</td>\n",
       "      <td>0</td>\n",
       "      <td>0</td>\n",
       "      <td>0</td>\n",
       "      <td>0</td>\n",
       "      <td>0</td>\n",
       "      <td>0</td>\n",
       "      <td>1</td>\n",
       "      <td>0</td>\n",
       "    </tr>\n",
       "    <tr>\n",
       "      <th>1</th>\n",
       "      <td>18300</td>\n",
       "      <td>2011</td>\n",
       "      <td>190</td>\n",
       "      <td>125000</td>\n",
       "      <td>1.0</td>\n",
       "      <td>0</td>\n",
       "      <td>1</td>\n",
       "      <td>0</td>\n",
       "      <td>0</td>\n",
       "      <td>0</td>\n",
       "      <td>...</td>\n",
       "      <td>0</td>\n",
       "      <td>0</td>\n",
       "      <td>0</td>\n",
       "      <td>0</td>\n",
       "      <td>0</td>\n",
       "      <td>0</td>\n",
       "      <td>0</td>\n",
       "      <td>0</td>\n",
       "      <td>0</td>\n",
       "      <td>0</td>\n",
       "    </tr>\n",
       "    <tr>\n",
       "      <th>2</th>\n",
       "      <td>9800</td>\n",
       "      <td>2004</td>\n",
       "      <td>163</td>\n",
       "      <td>125000</td>\n",
       "      <td>0.0</td>\n",
       "      <td>0</td>\n",
       "      <td>0</td>\n",
       "      <td>0</td>\n",
       "      <td>0</td>\n",
       "      <td>0</td>\n",
       "      <td>...</td>\n",
       "      <td>0</td>\n",
       "      <td>0</td>\n",
       "      <td>0</td>\n",
       "      <td>0</td>\n",
       "      <td>0</td>\n",
       "      <td>0</td>\n",
       "      <td>0</td>\n",
       "      <td>0</td>\n",
       "      <td>0</td>\n",
       "      <td>0</td>\n",
       "    </tr>\n",
       "    <tr>\n",
       "      <th>3</th>\n",
       "      <td>1500</td>\n",
       "      <td>2001</td>\n",
       "      <td>75</td>\n",
       "      <td>150000</td>\n",
       "      <td>0.0</td>\n",
       "      <td>0</td>\n",
       "      <td>0</td>\n",
       "      <td>0</td>\n",
       "      <td>0</td>\n",
       "      <td>1</td>\n",
       "      <td>...</td>\n",
       "      <td>0</td>\n",
       "      <td>0</td>\n",
       "      <td>0</td>\n",
       "      <td>0</td>\n",
       "      <td>0</td>\n",
       "      <td>0</td>\n",
       "      <td>0</td>\n",
       "      <td>0</td>\n",
       "      <td>1</td>\n",
       "      <td>0</td>\n",
       "    </tr>\n",
       "    <tr>\n",
       "      <th>4</th>\n",
       "      <td>3600</td>\n",
       "      <td>2008</td>\n",
       "      <td>69</td>\n",
       "      <td>90000</td>\n",
       "      <td>0.0</td>\n",
       "      <td>0</td>\n",
       "      <td>0</td>\n",
       "      <td>0</td>\n",
       "      <td>0</td>\n",
       "      <td>1</td>\n",
       "      <td>...</td>\n",
       "      <td>0</td>\n",
       "      <td>1</td>\n",
       "      <td>0</td>\n",
       "      <td>0</td>\n",
       "      <td>0</td>\n",
       "      <td>0</td>\n",
       "      <td>0</td>\n",
       "      <td>0</td>\n",
       "      <td>0</td>\n",
       "      <td>0</td>\n",
       "    </tr>\n",
       "  </tbody>\n",
       "</table>\n",
       "<p>5 rows × 310 columns</p>\n",
       "</div>"
      ],
      "text/plain": [
       "   price  registration_year  power  kilometer  not_repaired  \\\n",
       "0    480               1993      0     150000           0.0   \n",
       "1  18300               2011    190     125000           1.0   \n",
       "2   9800               2004    163     125000           0.0   \n",
       "3   1500               2001     75     150000           0.0   \n",
       "4   3600               2008     69      90000           0.0   \n",
       "\n",
       "   vehicle_type_convertible  vehicle_type_coupe  vehicle_type_other  \\\n",
       "0                         0                   0                   0   \n",
       "1                         0                   1                   0   \n",
       "2                         0                   0                   0   \n",
       "3                         0                   0                   0   \n",
       "4                         0                   0                   0   \n",
       "\n",
       "   vehicle_type_sedan  vehicle_type_small  ...  brand_seat  brand_skoda  \\\n",
       "0                   0                   0  ...           0            0   \n",
       "1                   0                   0  ...           0            0   \n",
       "2                   0                   0  ...           0            0   \n",
       "3                   0                   1  ...           0            0   \n",
       "4                   0                   1  ...           0            1   \n",
       "\n",
       "   brand_smart  brand_sonstige_autos  brand_subaru  brand_suzuki  \\\n",
       "0            0                     0             0             0   \n",
       "1            0                     0             0             0   \n",
       "2            0                     0             0             0   \n",
       "3            0                     0             0             0   \n",
       "4            0                     0             0             0   \n",
       "\n",
       "   brand_toyota  brand_trabant  brand_volkswagen  brand_volvo  \n",
       "0             0              0                 1            0  \n",
       "1             0              0                 0            0  \n",
       "2             0              0                 0            0  \n",
       "3             0              0                 1            0  \n",
       "4             0              0                 0            0  \n",
       "\n",
       "[5 rows x 310 columns]"
      ]
     },
     "execution_count": 49,
     "metadata": {},
     "output_type": "execute_result"
    }
   ],
   "source": [
    "filtered_df.head()"
   ]
  },
  {
   "cell_type": "code",
   "execution_count": null,
   "metadata": {
    "id": "1XXjtWzyouDl",
    "outputId": "ba6ae415-42b5-4e1a-f1a7-b7f3a8f138ec"
   },
   "outputs": [
    {
     "data": {
      "text/plain": [
       "(354369, 310)"
      ]
     },
     "execution_count": 50,
     "metadata": {},
     "output_type": "execute_result"
    }
   ],
   "source": [
    "filtered_df.shape"
   ]
  },
  {
   "cell_type": "markdown",
   "metadata": {
    "id": "_Kd0wm3RouDl"
   },
   "source": [
    "#### Разбиение данных на выборки"
   ]
  },
  {
   "cell_type": "code",
   "execution_count": null,
   "metadata": {
    "id": "rGibPmIiouDl"
   },
   "outputs": [],
   "source": [
    "target = filtered_df['price']\n",
    "features = filtered_df.drop('price', axis=1)"
   ]
  },
  {
   "cell_type": "code",
   "execution_count": null,
   "metadata": {
    "id": "IJYc6yptouDm"
   },
   "outputs": [],
   "source": [
    "features_train, features_valid_and_test, target_train, target_valid_and_test = train_test_split(features, target, \n",
    "                                                                             test_size=0.40, random_state=244466666)\n",
    "features_valid, features_test, target_valid, target_test = train_test_split(features_valid_and_test, target_valid_and_test, \n",
    "                                                                             test_size=0.50, random_state=244466666)"
   ]
  },
  {
   "cell_type": "code",
   "execution_count": null,
   "metadata": {
    "id": "eFaU3xLcouDm",
    "outputId": "74bd52cb-da69-408e-9010-be2c07beedaf"
   },
   "outputs": [
    {
     "name": "stdout",
     "output_type": "stream",
     "text": [
      "212621 70874 70874\n",
      "212621 70874 70874\n"
     ]
    }
   ],
   "source": [
    "print(features_train.shape[0], features_valid.shape[0], features_test.shape[0])\n",
    "print(target_train.shape[0], target_valid.shape[0], target_test.shape[0])"
   ]
  },
  {
   "cell_type": "markdown",
   "metadata": {
    "id": "fgbBdmVLouDm"
   },
   "source": [
    "#### Стандартизация численных признаков с помощью StandardScaler."
   ]
  },
  {
   "cell_type": "code",
   "execution_count": null,
   "metadata": {
    "id": "wWaR4tn2ouDm"
   },
   "outputs": [],
   "source": [
    "numeric = ['registration_year', 'power', 'kilometer']"
   ]
  },
  {
   "cell_type": "code",
   "execution_count": null,
   "metadata": {
    "id": "s4L4DR-OouDm",
    "outputId": "3485ed35-cef4-4fbc-cf85-2fb37fd62180"
   },
   "outputs": [
    {
     "data": {
      "text/html": [
       "<div>\n",
       "<style scoped>\n",
       "    .dataframe tbody tr th:only-of-type {\n",
       "        vertical-align: middle;\n",
       "    }\n",
       "\n",
       "    .dataframe tbody tr th {\n",
       "        vertical-align: top;\n",
       "    }\n",
       "\n",
       "    .dataframe thead th {\n",
       "        text-align: right;\n",
       "    }\n",
       "</style>\n",
       "<table border=\"1\" class=\"dataframe\">\n",
       "  <thead>\n",
       "    <tr style=\"text-align: right;\">\n",
       "      <th></th>\n",
       "      <th>registration_year</th>\n",
       "      <th>power</th>\n",
       "      <th>kilometer</th>\n",
       "    </tr>\n",
       "  </thead>\n",
       "  <tbody>\n",
       "    <tr>\n",
       "      <th>146020</th>\n",
       "      <td>1998</td>\n",
       "      <td>170</td>\n",
       "      <td>150000</td>\n",
       "    </tr>\n",
       "    <tr>\n",
       "      <th>314562</th>\n",
       "      <td>2001</td>\n",
       "      <td>109</td>\n",
       "      <td>150000</td>\n",
       "    </tr>\n",
       "    <tr>\n",
       "      <th>292708</th>\n",
       "      <td>2005</td>\n",
       "      <td>54</td>\n",
       "      <td>150000</td>\n",
       "    </tr>\n",
       "    <tr>\n",
       "      <th>238266</th>\n",
       "      <td>2001</td>\n",
       "      <td>185</td>\n",
       "      <td>150000</td>\n",
       "    </tr>\n",
       "    <tr>\n",
       "      <th>234302</th>\n",
       "      <td>2006</td>\n",
       "      <td>163</td>\n",
       "      <td>150000</td>\n",
       "    </tr>\n",
       "  </tbody>\n",
       "</table>\n",
       "</div>"
      ],
      "text/plain": [
       "        registration_year  power  kilometer\n",
       "146020               1998    170     150000\n",
       "314562               2001    109     150000\n",
       "292708               2005     54     150000\n",
       "238266               2001    185     150000\n",
       "234302               2006    163     150000"
      ]
     },
     "execution_count": 55,
     "metadata": {},
     "output_type": "execute_result"
    }
   ],
   "source": [
    "features_train[numeric].head()"
   ]
  },
  {
   "cell_type": "code",
   "execution_count": null,
   "metadata": {
    "id": "FPem9SgyouDn"
   },
   "outputs": [],
   "source": [
    "scaler = StandardScaler()\n",
    "scaler.fit(features_train[numeric])\n",
    "features_train[numeric] = scaler.transform(features_train[numeric])\n",
    "features_valid[numeric] = scaler.transform(features_valid[numeric])\n",
    "features_test[numeric] = scaler.transform(features_test[numeric])"
   ]
  },
  {
   "cell_type": "code",
   "execution_count": null,
   "metadata": {
    "id": "46pcqAZTouDn",
    "outputId": "59d2957a-70d9-4bab-df4b-0644e8a9de42"
   },
   "outputs": [
    {
     "data": {
      "text/html": [
       "<div>\n",
       "<style scoped>\n",
       "    .dataframe tbody tr th:only-of-type {\n",
       "        vertical-align: middle;\n",
       "    }\n",
       "\n",
       "    .dataframe tbody tr th {\n",
       "        vertical-align: top;\n",
       "    }\n",
       "\n",
       "    .dataframe thead th {\n",
       "        text-align: right;\n",
       "    }\n",
       "</style>\n",
       "<table border=\"1\" class=\"dataframe\">\n",
       "  <thead>\n",
       "    <tr style=\"text-align: right;\">\n",
       "      <th></th>\n",
       "      <th>registration_year</th>\n",
       "      <th>power</th>\n",
       "      <th>kilometer</th>\n",
       "    </tr>\n",
       "  </thead>\n",
       "  <tbody>\n",
       "    <tr>\n",
       "      <th>146020</th>\n",
       "      <td>-0.067060</td>\n",
       "      <td>0.329018</td>\n",
       "      <td>0.576096</td>\n",
       "    </tr>\n",
       "    <tr>\n",
       "      <th>314562</th>\n",
       "      <td>-0.035361</td>\n",
       "      <td>-0.004435</td>\n",
       "      <td>0.576096</td>\n",
       "    </tr>\n",
       "    <tr>\n",
       "      <th>292708</th>\n",
       "      <td>0.006905</td>\n",
       "      <td>-0.305089</td>\n",
       "      <td>0.576096</td>\n",
       "    </tr>\n",
       "    <tr>\n",
       "      <th>238266</th>\n",
       "      <td>-0.035361</td>\n",
       "      <td>0.411014</td>\n",
       "      <td>0.576096</td>\n",
       "    </tr>\n",
       "    <tr>\n",
       "      <th>234302</th>\n",
       "      <td>0.017471</td>\n",
       "      <td>0.290753</td>\n",
       "      <td>0.576096</td>\n",
       "    </tr>\n",
       "  </tbody>\n",
       "</table>\n",
       "</div>"
      ],
      "text/plain": [
       "        registration_year     power  kilometer\n",
       "146020          -0.067060  0.329018   0.576096\n",
       "314562          -0.035361 -0.004435   0.576096\n",
       "292708           0.006905 -0.305089   0.576096\n",
       "238266          -0.035361  0.411014   0.576096\n",
       "234302           0.017471  0.290753   0.576096"
      ]
     },
     "execution_count": 58,
     "metadata": {},
     "output_type": "execute_result"
    }
   ],
   "source": [
    "features_train[numeric].head()"
   ]
  },
  {
   "cell_type": "markdown",
   "metadata": {
    "id": "twzSBuLdouDo"
   },
   "source": [
    "### Датафрейм для результатов"
   ]
  },
  {
   "cell_type": "code",
   "execution_count": null,
   "metadata": {
    "id": "lJAWzBu4ouDo"
   },
   "outputs": [],
   "source": [
    "info_df = []"
   ]
  },
  {
   "cell_type": "code",
   "execution_count": null,
   "metadata": {
    "id": "MmNL2Hc1ouDo"
   },
   "outputs": [],
   "source": [
    "def add_info_df(title='', fit_time='', pred_time='', rmse=''):\n",
    "    info_df.append({'Модель': title,\n",
    "                'Время обучения': fit_time, 'Время предсказаний': pred_time, \n",
    "                'RMSE': rmse})"
   ]
  },
  {
   "cell_type": "markdown",
   "metadata": {
    "id": "LD0BY0lQouDo"
   },
   "source": [
    "### Линейная регрессия\n"
   ]
  },
  {
   "cell_type": "code",
   "execution_count": null,
   "metadata": {
    "id": "Cde33hvnouDo",
    "outputId": "9d7f2c3c-881d-4db0-b8c0-e81fdc97ecab"
   },
   "outputs": [
    {
     "name": "stdout",
     "output_type": "stream",
     "text": [
      "19.419528484344482\n"
     ]
    }
   ],
   "source": [
    "start = time.time()\n",
    "linear_regression_model = LinearRegression()\n",
    "linear_regression_model.fit(features_train, target_train)\n",
    "lr_fit_time = time.time() - start\n",
    "print(lr_fit_time)"
   ]
  },
  {
   "cell_type": "code",
   "execution_count": null,
   "metadata": {
    "id": "RVeMxOu5ouDp",
    "outputId": "ee00434a-ec25-4d85-b0f8-1fda21e5a0e4"
   },
   "outputs": [
    {
     "name": "stdout",
     "output_type": "stream",
     "text": [
      "RMSE: 3297.9069362698688\n",
      "0.129044771194458\n"
     ]
    }
   ],
   "source": [
    "start = time.time()\n",
    "predicted_values = linear_regression_model.predict(features_valid)\n",
    "lr_prediction_time = time.time() - start\n",
    "lr_rmse = mean_squared_error(target_valid, predicted_values) ** 0.5\n",
    "print('RMSE:', lr_rmse)\n",
    "print(lr_prediction_time)"
   ]
  },
  {
   "cell_type": "code",
   "execution_count": null,
   "metadata": {
    "id": "ZyAqCd14ouDp",
    "outputId": "87fef598-066a-440c-9614-8e43651ce3f5"
   },
   "outputs": [
    {
     "data": {
      "text/html": [
       "<div>\n",
       "<style scoped>\n",
       "    .dataframe tbody tr th:only-of-type {\n",
       "        vertical-align: middle;\n",
       "    }\n",
       "\n",
       "    .dataframe tbody tr th {\n",
       "        vertical-align: top;\n",
       "    }\n",
       "\n",
       "    .dataframe thead th {\n",
       "        text-align: right;\n",
       "    }\n",
       "</style>\n",
       "<table border=\"1\" class=\"dataframe\">\n",
       "  <thead>\n",
       "    <tr style=\"text-align: right;\">\n",
       "      <th></th>\n",
       "      <th>Модель</th>\n",
       "      <th>Время обучения</th>\n",
       "      <th>Время предсказаний</th>\n",
       "      <th>RMSE</th>\n",
       "    </tr>\n",
       "  </thead>\n",
       "  <tbody>\n",
       "    <tr>\n",
       "      <th>0</th>\n",
       "      <td>LinearRegression</td>\n",
       "      <td>19.419528</td>\n",
       "      <td>0.129045</td>\n",
       "      <td>3297.906936</td>\n",
       "    </tr>\n",
       "  </tbody>\n",
       "</table>\n",
       "</div>"
      ],
      "text/plain": [
       "             Модель  Время обучения  Время предсказаний         RMSE\n",
       "0  LinearRegression       19.419528            0.129045  3297.906936"
      ]
     },
     "metadata": {},
     "output_type": "display_data"
    }
   ],
   "source": [
    "add_info_df('LinearRegression', lr_fit_time, lr_prediction_time, lr_rmse)\n",
    "display(pd.DataFrame(info_df))"
   ]
  },
  {
   "cell_type": "markdown",
   "metadata": {
    "id": "gkx8_80XouDq"
   },
   "source": [
    "### CatBoost"
   ]
  },
  {
   "cell_type": "code",
   "execution_count": null,
   "metadata": {
    "id": "tUhDcWM6ouDq",
    "outputId": "3a7afdc3-3273-4abf-b3ef-88299ed22be6"
   },
   "outputs": [
    {
     "data": {
      "text/html": [
       "<div>\n",
       "<style scoped>\n",
       "    .dataframe tbody tr th:only-of-type {\n",
       "        vertical-align: middle;\n",
       "    }\n",
       "\n",
       "    .dataframe tbody tr th {\n",
       "        vertical-align: top;\n",
       "    }\n",
       "\n",
       "    .dataframe thead th {\n",
       "        text-align: right;\n",
       "    }\n",
       "</style>\n",
       "<table border=\"1\" class=\"dataframe\">\n",
       "  <thead>\n",
       "    <tr style=\"text-align: right;\">\n",
       "      <th></th>\n",
       "      <th>price</th>\n",
       "      <th>vehicle_type</th>\n",
       "      <th>registration_year</th>\n",
       "      <th>gearbox</th>\n",
       "      <th>power</th>\n",
       "      <th>model</th>\n",
       "      <th>kilometer</th>\n",
       "      <th>fuel_type</th>\n",
       "      <th>brand</th>\n",
       "      <th>not_repaired</th>\n",
       "    </tr>\n",
       "  </thead>\n",
       "  <tbody>\n",
       "    <tr>\n",
       "      <th>2</th>\n",
       "      <td>9800</td>\n",
       "      <td>suv</td>\n",
       "      <td>2004</td>\n",
       "      <td>auto</td>\n",
       "      <td>163</td>\n",
       "      <td>grand</td>\n",
       "      <td>125000</td>\n",
       "      <td>gasoline</td>\n",
       "      <td>jeep</td>\n",
       "      <td>0.0</td>\n",
       "    </tr>\n",
       "    <tr>\n",
       "      <th>3</th>\n",
       "      <td>1500</td>\n",
       "      <td>small</td>\n",
       "      <td>2001</td>\n",
       "      <td>manual</td>\n",
       "      <td>75</td>\n",
       "      <td>golf</td>\n",
       "      <td>150000</td>\n",
       "      <td>gasoline</td>\n",
       "      <td>volkswagen</td>\n",
       "      <td>0.0</td>\n",
       "    </tr>\n",
       "    <tr>\n",
       "      <th>4</th>\n",
       "      <td>3600</td>\n",
       "      <td>small</td>\n",
       "      <td>2008</td>\n",
       "      <td>manual</td>\n",
       "      <td>69</td>\n",
       "      <td>fabia</td>\n",
       "      <td>90000</td>\n",
       "      <td>gasoline</td>\n",
       "      <td>skoda</td>\n",
       "      <td>0.0</td>\n",
       "    </tr>\n",
       "    <tr>\n",
       "      <th>5</th>\n",
       "      <td>650</td>\n",
       "      <td>sedan</td>\n",
       "      <td>1995</td>\n",
       "      <td>manual</td>\n",
       "      <td>102</td>\n",
       "      <td>3er</td>\n",
       "      <td>150000</td>\n",
       "      <td>gasoline</td>\n",
       "      <td>bmw</td>\n",
       "      <td>1.0</td>\n",
       "    </tr>\n",
       "    <tr>\n",
       "      <th>6</th>\n",
       "      <td>2200</td>\n",
       "      <td>convertible</td>\n",
       "      <td>2004</td>\n",
       "      <td>manual</td>\n",
       "      <td>109</td>\n",
       "      <td>2_reihe</td>\n",
       "      <td>150000</td>\n",
       "      <td>gasoline</td>\n",
       "      <td>peugeot</td>\n",
       "      <td>0.0</td>\n",
       "    </tr>\n",
       "  </tbody>\n",
       "</table>\n",
       "</div>"
      ],
      "text/plain": [
       "   price vehicle_type  registration_year gearbox  power    model  kilometer  \\\n",
       "2   9800          suv               2004    auto    163    grand     125000   \n",
       "3   1500        small               2001  manual     75     golf     150000   \n",
       "4   3600        small               2008  manual     69    fabia      90000   \n",
       "5    650        sedan               1995  manual    102      3er     150000   \n",
       "6   2200  convertible               2004  manual    109  2_reihe     150000   \n",
       "\n",
       "  fuel_type       brand  not_repaired  \n",
       "2  gasoline        jeep           0.0  \n",
       "3  gasoline  volkswagen           0.0  \n",
       "4  gasoline       skoda           0.0  \n",
       "5  gasoline         bmw           1.0  \n",
       "6  gasoline     peugeot           0.0  "
      ]
     },
     "execution_count": 64,
     "metadata": {},
     "output_type": "execute_result"
    }
   ],
   "source": [
    "df_for_ctb_and_lgbm.head()"
   ]
  },
  {
   "cell_type": "markdown",
   "metadata": {
    "id": "YJO0y6XfouDq"
   },
   "source": [
    "Приведем категориальные признаки к нужному типу:"
   ]
  },
  {
   "cell_type": "code",
   "execution_count": null,
   "metadata": {
    "id": "sjCn8QwiouDq"
   },
   "outputs": [],
   "source": [
    "categorical = ['vehicle_type','gearbox','model','fuel_type','brand']"
   ]
  },
  {
   "cell_type": "code",
   "execution_count": null,
   "metadata": {
    "id": "1Xg5BThtouDq"
   },
   "outputs": [],
   "source": [
    "df_for_ctb_and_lgbm[categorical] = df_for_ctb_and_lgbm[categorical].astype('category')"
   ]
  },
  {
   "cell_type": "code",
   "execution_count": null,
   "metadata": {
    "id": "YtAngunsouDr",
    "outputId": "03d9544c-4fd8-46c3-fe31-09eac1a1752b"
   },
   "outputs": [
    {
     "name": "stdout",
     "output_type": "stream",
     "text": [
      "Размер обучающей выборки с категориальными данными: 167563 объектов, 9 признаков\n",
      "Размер валидационной выборки с категориальными данными: 55854 объектов, 9 признаков\n",
      "Размер тестовой выборки с категориальными данными: 55855 объектов, 9 признаков\n"
     ]
    }
   ],
   "source": [
    "features = df_for_ctb_and_lgbm.drop('price', axis=1)\n",
    "target = df_for_ctb_and_lgbm['price']\n",
    "\n",
    "features_train, features_valid_and_test, target_train, target_valid_and_test = train_test_split(features, target, \n",
    "                                                                             test_size=0.40, random_state=244466666)\n",
    "features_valid, features_test, target_valid, target_test = train_test_split(features_valid_and_test, target_valid_and_test, \n",
    "                                                                             test_size=0.50, random_state=244466666)\n",
    "#Размеры обучающей и тестовой выборки\n",
    "print('Размер обучающей выборки с категориальными данными: {} объектов, {} признаков'.format(features_train.shape[0], features_train.shape[1]))\n",
    "print('Размер валидационной выборки с категориальными данными: {} объектов, {} признаков'.format(features_valid.shape[0], features_valid.shape[1]))\n",
    "print('Размер тестовой выборки с категориальными данными: {} объектов, {} признаков'.format(features_test.shape[0], features_test.shape[1]))"
   ]
  },
  {
   "cell_type": "code",
   "execution_count": null,
   "metadata": {
    "id": "mpIxHurKouDr",
    "outputId": "d71ac9f6-70b8-4d26-9699-7802d1338d03"
   },
   "outputs": [
    {
     "data": {
      "text/html": [
       "<div>\n",
       "<style scoped>\n",
       "    .dataframe tbody tr th:only-of-type {\n",
       "        vertical-align: middle;\n",
       "    }\n",
       "\n",
       "    .dataframe tbody tr th {\n",
       "        vertical-align: top;\n",
       "    }\n",
       "\n",
       "    .dataframe thead th {\n",
       "        text-align: right;\n",
       "    }\n",
       "</style>\n",
       "<table border=\"1\" class=\"dataframe\">\n",
       "  <thead>\n",
       "    <tr style=\"text-align: right;\">\n",
       "      <th></th>\n",
       "      <th>price</th>\n",
       "      <th>vehicle_type</th>\n",
       "      <th>registration_year</th>\n",
       "      <th>gearbox</th>\n",
       "      <th>power</th>\n",
       "      <th>model</th>\n",
       "      <th>kilometer</th>\n",
       "      <th>fuel_type</th>\n",
       "      <th>brand</th>\n",
       "      <th>not_repaired</th>\n",
       "    </tr>\n",
       "  </thead>\n",
       "  <tbody>\n",
       "    <tr>\n",
       "      <th>2</th>\n",
       "      <td>9800</td>\n",
       "      <td>suv</td>\n",
       "      <td>2004</td>\n",
       "      <td>auto</td>\n",
       "      <td>163</td>\n",
       "      <td>grand</td>\n",
       "      <td>125000</td>\n",
       "      <td>gasoline</td>\n",
       "      <td>jeep</td>\n",
       "      <td>0.0</td>\n",
       "    </tr>\n",
       "    <tr>\n",
       "      <th>3</th>\n",
       "      <td>1500</td>\n",
       "      <td>small</td>\n",
       "      <td>2001</td>\n",
       "      <td>manual</td>\n",
       "      <td>75</td>\n",
       "      <td>golf</td>\n",
       "      <td>150000</td>\n",
       "      <td>gasoline</td>\n",
       "      <td>volkswagen</td>\n",
       "      <td>0.0</td>\n",
       "    </tr>\n",
       "    <tr>\n",
       "      <th>4</th>\n",
       "      <td>3600</td>\n",
       "      <td>small</td>\n",
       "      <td>2008</td>\n",
       "      <td>manual</td>\n",
       "      <td>69</td>\n",
       "      <td>fabia</td>\n",
       "      <td>90000</td>\n",
       "      <td>gasoline</td>\n",
       "      <td>skoda</td>\n",
       "      <td>0.0</td>\n",
       "    </tr>\n",
       "    <tr>\n",
       "      <th>5</th>\n",
       "      <td>650</td>\n",
       "      <td>sedan</td>\n",
       "      <td>1995</td>\n",
       "      <td>manual</td>\n",
       "      <td>102</td>\n",
       "      <td>3er</td>\n",
       "      <td>150000</td>\n",
       "      <td>gasoline</td>\n",
       "      <td>bmw</td>\n",
       "      <td>1.0</td>\n",
       "    </tr>\n",
       "    <tr>\n",
       "      <th>6</th>\n",
       "      <td>2200</td>\n",
       "      <td>convertible</td>\n",
       "      <td>2004</td>\n",
       "      <td>manual</td>\n",
       "      <td>109</td>\n",
       "      <td>2_reihe</td>\n",
       "      <td>150000</td>\n",
       "      <td>gasoline</td>\n",
       "      <td>peugeot</td>\n",
       "      <td>0.0</td>\n",
       "    </tr>\n",
       "  </tbody>\n",
       "</table>\n",
       "</div>"
      ],
      "text/plain": [
       "   price vehicle_type  registration_year gearbox  power    model  kilometer  \\\n",
       "2   9800          suv               2004    auto    163    grand     125000   \n",
       "3   1500        small               2001  manual     75     golf     150000   \n",
       "4   3600        small               2008  manual     69    fabia      90000   \n",
       "5    650        sedan               1995  manual    102      3er     150000   \n",
       "6   2200  convertible               2004  manual    109  2_reihe     150000   \n",
       "\n",
       "  fuel_type       brand  not_repaired  \n",
       "2  gasoline        jeep           0.0  \n",
       "3  gasoline  volkswagen           0.0  \n",
       "4  gasoline       skoda           0.0  \n",
       "5  gasoline         bmw           1.0  \n",
       "6  gasoline     peugeot           0.0  "
      ]
     },
     "execution_count": 68,
     "metadata": {},
     "output_type": "execute_result"
    }
   ],
   "source": [
    "df_for_ctb_and_lgbm.head()"
   ]
  },
  {
   "cell_type": "code",
   "execution_count": null,
   "metadata": {
    "id": "54831ALFouDr",
    "scrolled": true
   },
   "outputs": [],
   "source": [
    "# %%time\n",
    "\n",
    "# model = CatBoostRegressor(loss_function='RMSE', cat_features=categorical)\n",
    "# parametrs = {'iterations': range(1, 502, 100), 'learning_rate': [0.1, 0.2, 0.3, 0.4, 0.5, 0.6, 0.8], 'depth': range(1, 71, 10)}\n",
    "# grid_cbr = GridSearchCV(model, parametrs, cv=5, verbose=False)\n",
    "# grid_cbr.fit(features_train, target_train)\n",
    "# grid_cbr.best_params_"
   ]
  },
  {
   "cell_type": "markdown",
   "metadata": {
    "id": "aJ22oB5FouDs"
   },
   "source": [
    "{'depth': 11, 'iterations': 501, 'learning_rate': 0.2}"
   ]
  },
  {
   "cell_type": "code",
   "execution_count": null,
   "metadata": {
    "id": "wZQ-6hSGouDs",
    "outputId": "8f198e87-4988-4c00-da06-af2ab9dc774c"
   },
   "outputs": [
    {
     "name": "stdout",
     "output_type": "stream",
     "text": [
      "0:\tlearn: 3088.0058412\ttotal: 525ms\tremaining: 4m 22s\n",
      "100:\tlearn: 1293.9268254\ttotal: 39.4s\tremaining: 2m 36s\n",
      "200:\tlearn: 1213.5356200\ttotal: 1m 18s\tremaining: 1m 57s\n",
      "300:\tlearn: 1166.1672505\ttotal: 1m 59s\tremaining: 1m 19s\n",
      "400:\tlearn: 1132.8319205\ttotal: 2m 40s\tremaining: 40s\n",
      "500:\tlearn: 1107.7342830\ttotal: 3m 21s\tremaining: 0us\n",
      "204.10300469398499\n"
     ]
    }
   ],
   "source": [
    "start = time.time()\n",
    "cb_model = CatBoostRegressor(loss_function='RMSE', cat_features=categorical, iterations=501, learning_rate=0.2, depth=11, verbose=100)                      \n",
    "cb_model.fit(features_train, target_train)\n",
    "cb_fit_time = time.time() - start\n",
    "print(cb_fit_time)                            "
   ]
  },
  {
   "cell_type": "code",
   "execution_count": null,
   "metadata": {
    "id": "gkrUDCGwouDs",
    "outputId": "ee73291e-ae81-4fe9-9730-c46971a62834"
   },
   "outputs": [
    {
     "name": "stdout",
     "output_type": "stream",
     "text": [
      "RMSE: 1323.2426033931592\n",
      "0.5542361736297607\n"
     ]
    }
   ],
   "source": [
    "start = time.time()\n",
    "predicted_values = cb_model.predict(features_valid)\n",
    "cb_prediction_time = time.time() - start\n",
    "cb_rmse = mean_squared_error(target_valid, predicted_values) ** 0.5\n",
    "print('RMSE:', cb_rmse)\n",
    "print(cb_prediction_time)"
   ]
  },
  {
   "cell_type": "code",
   "execution_count": null,
   "metadata": {
    "id": "6cnHUuVEouDs",
    "outputId": "2b28cd08-050f-4d2e-a079-7d082cbc3fda"
   },
   "outputs": [
    {
     "data": {
      "text/html": [
       "<div>\n",
       "<style scoped>\n",
       "    .dataframe tbody tr th:only-of-type {\n",
       "        vertical-align: middle;\n",
       "    }\n",
       "\n",
       "    .dataframe tbody tr th {\n",
       "        vertical-align: top;\n",
       "    }\n",
       "\n",
       "    .dataframe thead th {\n",
       "        text-align: right;\n",
       "    }\n",
       "</style>\n",
       "<table border=\"1\" class=\"dataframe\">\n",
       "  <thead>\n",
       "    <tr style=\"text-align: right;\">\n",
       "      <th></th>\n",
       "      <th>Модель</th>\n",
       "      <th>Время обучения</th>\n",
       "      <th>Время предсказаний</th>\n",
       "      <th>RMSE</th>\n",
       "    </tr>\n",
       "  </thead>\n",
       "  <tbody>\n",
       "    <tr>\n",
       "      <th>0</th>\n",
       "      <td>LinearRegression</td>\n",
       "      <td>19.419528</td>\n",
       "      <td>0.129045</td>\n",
       "      <td>3297.906936</td>\n",
       "    </tr>\n",
       "    <tr>\n",
       "      <th>1</th>\n",
       "      <td>CatBoost</td>\n",
       "      <td>204.103005</td>\n",
       "      <td>0.554236</td>\n",
       "      <td>1323.242603</td>\n",
       "    </tr>\n",
       "  </tbody>\n",
       "</table>\n",
       "</div>"
      ],
      "text/plain": [
       "             Модель  Время обучения  Время предсказаний         RMSE\n",
       "0  LinearRegression       19.419528            0.129045  3297.906936\n",
       "1          CatBoost      204.103005            0.554236  1323.242603"
      ]
     },
     "metadata": {},
     "output_type": "display_data"
    }
   ],
   "source": [
    "add_info_df('CatBoost', cb_fit_time, cb_prediction_time, cb_rmse)\n",
    "display(pd.DataFrame(info_df))"
   ]
  },
  {
   "cell_type": "markdown",
   "metadata": {
    "id": "3MgbqBLjouDt"
   },
   "source": [
    "### LightGBM"
   ]
  },
  {
   "cell_type": "code",
   "execution_count": null,
   "metadata": {
    "id": "v4UG9FTwouDt"
   },
   "outputs": [],
   "source": [
    "# %%time\n",
    "\n",
    "# model = lgb.LGBMRegressor(metric='rmse', random_state=244466666)\n",
    "# parametrs = {'max_depth': range(1, 31, 5), 'learning_rate': [0.1, 0.2, 0.3, 0.4, 0.5, 0.6], 'n_estimators': range(1, 502, 100)}\n",
    "# grid_lgb = GridSearchCV(model, parametrs, cv=5, verbose=False)\n",
    "# grid_lgb.fit(features_train, target_train)\n",
    "# grid_lgb.best_params_"
   ]
  },
  {
   "cell_type": "markdown",
   "metadata": {
    "id": "DfWwIegDouDt"
   },
   "source": [
    "{'learning_rate': 0.2, 'max_depth': 11, 'n_estimators': 501}"
   ]
  },
  {
   "cell_type": "code",
   "execution_count": null,
   "metadata": {
    "id": "lr09yh1rouDt",
    "outputId": "65f8d47b-5f79-4c1c-c4e4-10d9b193a6eb"
   },
   "outputs": [
    {
     "name": "stdout",
     "output_type": "stream",
     "text": [
      "20.734085083007812\n"
     ]
    }
   ],
   "source": [
    "start = time.time()\n",
    "lgbm_model = lgb.LGBMRegressor(metric='rmse', random_state=244466666, learning_rate=0.2, max_depth=11, n_estimators=501)                      \n",
    "lgbm_model.fit(features_train, target_train)\n",
    "lgbm_fit_time = time.time() - start\n",
    "print(lgbm_fit_time) "
   ]
  },
  {
   "cell_type": "code",
   "execution_count": null,
   "metadata": {
    "id": "82Med00KouDu",
    "outputId": "29b26854-5a55-4774-d7f4-5f820a8c3b9c"
   },
   "outputs": [
    {
     "name": "stdout",
     "output_type": "stream",
     "text": [
      "RMSE: 1322.0227397875112\n",
      "1.899339199066162\n"
     ]
    }
   ],
   "source": [
    "start = time.time()\n",
    "predicted_values = lgbm_model.predict(features_valid)\n",
    "lgbm_prediction_time = time.time() - start\n",
    "lgbm_rmse = mean_squared_error(target_valid, predicted_values) ** 0.5\n",
    "print('RMSE:', lgbm_rmse)\n",
    "print(lgbm_prediction_time)"
   ]
  },
  {
   "cell_type": "code",
   "execution_count": null,
   "metadata": {
    "id": "23uPySwzouDu",
    "outputId": "e7e63c19-fde3-4d52-ff30-5665a1968a36"
   },
   "outputs": [
    {
     "data": {
      "text/html": [
       "<div>\n",
       "<style scoped>\n",
       "    .dataframe tbody tr th:only-of-type {\n",
       "        vertical-align: middle;\n",
       "    }\n",
       "\n",
       "    .dataframe tbody tr th {\n",
       "        vertical-align: top;\n",
       "    }\n",
       "\n",
       "    .dataframe thead th {\n",
       "        text-align: right;\n",
       "    }\n",
       "</style>\n",
       "<table border=\"1\" class=\"dataframe\">\n",
       "  <thead>\n",
       "    <tr style=\"text-align: right;\">\n",
       "      <th></th>\n",
       "      <th>Модель</th>\n",
       "      <th>Время обучения</th>\n",
       "      <th>Время предсказаний</th>\n",
       "      <th>RMSE</th>\n",
       "    </tr>\n",
       "  </thead>\n",
       "  <tbody>\n",
       "    <tr>\n",
       "      <th>0</th>\n",
       "      <td>LinearRegression</td>\n",
       "      <td>19.419528</td>\n",
       "      <td>0.129045</td>\n",
       "      <td>3297.906936</td>\n",
       "    </tr>\n",
       "    <tr>\n",
       "      <th>1</th>\n",
       "      <td>CatBoost</td>\n",
       "      <td>204.103005</td>\n",
       "      <td>0.554236</td>\n",
       "      <td>1323.242603</td>\n",
       "    </tr>\n",
       "    <tr>\n",
       "      <th>2</th>\n",
       "      <td>LightGBM</td>\n",
       "      <td>20.734085</td>\n",
       "      <td>1.899339</td>\n",
       "      <td>1322.022740</td>\n",
       "    </tr>\n",
       "  </tbody>\n",
       "</table>\n",
       "</div>"
      ],
      "text/plain": [
       "             Модель  Время обучения  Время предсказаний         RMSE\n",
       "0  LinearRegression       19.419528            0.129045  3297.906936\n",
       "1          CatBoost      204.103005            0.554236  1323.242603\n",
       "2          LightGBM       20.734085            1.899339  1322.022740"
      ]
     },
     "metadata": {},
     "output_type": "display_data"
    }
   ],
   "source": [
    "add_info_df('LightGBM', lgbm_fit_time, lgbm_prediction_time, lgbm_rmse)\n",
    "display(pd.DataFrame(info_df))"
   ]
  },
  {
   "cell_type": "markdown",
   "metadata": {
    "id": "BngXdg8FouDu"
   },
   "source": [
    "## Анализ моделей"
   ]
  },
  {
   "cell_type": "code",
   "execution_count": null,
   "metadata": {
    "id": "p91Le5BdouDu",
    "outputId": "d738aa40-ca73-4158-dc4a-7fac193e5437"
   },
   "outputs": [
    {
     "data": {
      "text/html": [
       "<div>\n",
       "<style scoped>\n",
       "    .dataframe tbody tr th:only-of-type {\n",
       "        vertical-align: middle;\n",
       "    }\n",
       "\n",
       "    .dataframe tbody tr th {\n",
       "        vertical-align: top;\n",
       "    }\n",
       "\n",
       "    .dataframe thead th {\n",
       "        text-align: right;\n",
       "    }\n",
       "</style>\n",
       "<table border=\"1\" class=\"dataframe\">\n",
       "  <thead>\n",
       "    <tr style=\"text-align: right;\">\n",
       "      <th></th>\n",
       "      <th>Модель</th>\n",
       "      <th>Время обучения</th>\n",
       "      <th>Время предсказаний</th>\n",
       "      <th>RMSE</th>\n",
       "    </tr>\n",
       "  </thead>\n",
       "  <tbody>\n",
       "    <tr>\n",
       "      <th>0</th>\n",
       "      <td>LinearRegression</td>\n",
       "      <td>19.419528</td>\n",
       "      <td>0.129045</td>\n",
       "      <td>3297.906936</td>\n",
       "    </tr>\n",
       "    <tr>\n",
       "      <th>1</th>\n",
       "      <td>CatBoost</td>\n",
       "      <td>204.103005</td>\n",
       "      <td>0.554236</td>\n",
       "      <td>1323.242603</td>\n",
       "    </tr>\n",
       "    <tr>\n",
       "      <th>2</th>\n",
       "      <td>LightGBM</td>\n",
       "      <td>20.734085</td>\n",
       "      <td>1.899339</td>\n",
       "      <td>1322.022740</td>\n",
       "    </tr>\n",
       "  </tbody>\n",
       "</table>\n",
       "</div>"
      ],
      "text/plain": [
       "             Модель  Время обучения  Время предсказаний         RMSE\n",
       "0  LinearRegression       19.419528            0.129045  3297.906936\n",
       "1          CatBoost      204.103005            0.554236  1323.242603\n",
       "2          LightGBM       20.734085            1.899339  1322.022740"
      ]
     },
     "metadata": {},
     "output_type": "display_data"
    }
   ],
   "source": [
    "display(pd.DataFrame(info_df))"
   ]
  },
  {
   "cell_type": "markdown",
   "metadata": {
    "id": "i_x0ErBCouDu"
   },
   "source": [
    "В ходе работы над проектом были сделаны следующие выводы:\n",
    "\n",
    "- Наилучшие модели LightGBM и CatBoost, они показали наименьшиую RMSE, в 2.5 раза меньше, чем у модели линейной регрессии \n",
    "- Время обучения меньше у LightGBM \n",
    "- Время предсказаний меньше у CatBoost \n",
    "- Точность предсказаний лучше у LightGBM \n",
    " \n",
    "Стоит уточнить у заказчика, какой именно параметр ему важнее:\n",
    "\n",
    "- Eсли наиболее важными являются время обучения и точность, то стоит использовать LightGBM\n",
    "- Eсли наиболее важна скорость предсказаний, а скорость обучения не так важна, то можно использовать CatBoost\n",
    "- Eсли наиболее важными являются скорость предсказаний и скорость обучения, то лучше выбрать LightGBM"
   ]
  },
  {
   "cell_type": "markdown",
   "metadata": {
    "id": "r1ILzi4gouDv"
   },
   "source": [
    "Итоговой моделью я бы выбрал CatBoost, так как ее сочетание скорости и точности мне кажется оптимальным, проверим качество этой модели на тестовой выборке:"
   ]
  },
  {
   "cell_type": "code",
   "execution_count": null,
   "metadata": {
    "id": "7L83FbW5ouDv",
    "outputId": "edac625c-7f24-4f5c-94dd-ea78e217ebdf"
   },
   "outputs": [
    {
     "name": "stdout",
     "output_type": "stream",
     "text": [
      "RMSE: 1316.5188151767456\n"
     ]
    }
   ],
   "source": [
    "predicted_values = cb_model.predict(features_test)\n",
    "cb_rmse = mean_squared_error(target_test, predicted_values) ** 0.5\n",
    "print('RMSE:', cb_rmse)"
   ]
  },
  {
   "cell_type": "markdown",
   "metadata": {
    "id": "LpOka489ouDv"
   },
   "source": [
    "Значение RMSE нас устраивает, можно применять эту модель для определения стоимости автомобилей."
   ]
  }
 ],
 "metadata": {
  "ExecuteTimeLog": [
   {
    "duration": 3769,
    "start_time": "2022-03-23T16:06:30.684Z"
   },
   {
    "duration": 1075,
    "start_time": "2022-03-23T16:06:48.601Z"
   },
   {
    "duration": 33,
    "start_time": "2022-03-23T16:10:14.905Z"
   },
   {
    "duration": 116,
    "start_time": "2022-03-23T16:10:26.021Z"
   },
   {
    "duration": 177,
    "start_time": "2022-03-23T16:10:50.277Z"
   },
   {
    "duration": 164,
    "start_time": "2022-03-23T16:11:05.263Z"
   },
   {
    "duration": 8,
    "start_time": "2022-03-23T16:14:50.476Z"
   },
   {
    "duration": 7,
    "start_time": "2022-03-23T16:18:04.865Z"
   },
   {
    "duration": 38,
    "start_time": "2022-03-23T16:18:19.567Z"
   },
   {
    "duration": 110,
    "start_time": "2022-03-23T16:20:29.004Z"
   },
   {
    "duration": 164,
    "start_time": "2022-03-23T16:21:47.286Z"
   },
   {
    "duration": 43,
    "start_time": "2022-03-23T16:22:00.647Z"
   },
   {
    "duration": 26,
    "start_time": "2022-03-23T16:58:11.845Z"
   },
   {
    "duration": 29,
    "start_time": "2022-03-23T17:00:52.309Z"
   },
   {
    "duration": 50,
    "start_time": "2022-03-23T17:01:09.057Z"
   },
   {
    "duration": 81,
    "start_time": "2022-03-23T17:02:23.255Z"
   },
   {
    "duration": 1982,
    "start_time": "2022-03-23T17:02:37.784Z"
   },
   {
    "duration": 1105,
    "start_time": "2022-03-23T17:02:39.769Z"
   },
   {
    "duration": 31,
    "start_time": "2022-03-23T17:02:40.876Z"
   },
   {
    "duration": 143,
    "start_time": "2022-03-23T17:02:40.910Z"
   },
   {
    "duration": 179,
    "start_time": "2022-03-23T17:02:41.055Z"
   },
   {
    "duration": 181,
    "start_time": "2022-03-23T17:02:41.236Z"
   },
   {
    "duration": 24,
    "start_time": "2022-03-23T17:02:41.420Z"
   },
   {
    "duration": 57,
    "start_time": "2022-03-23T17:02:41.446Z"
   },
   {
    "duration": 54,
    "start_time": "2022-03-23T17:02:41.505Z"
   },
   {
    "duration": 122,
    "start_time": "2022-03-23T17:02:41.562Z"
   },
   {
    "duration": 55,
    "start_time": "2022-03-23T17:02:41.687Z"
   },
   {
    "duration": 103,
    "start_time": "2022-03-23T17:02:41.744Z"
   },
   {
    "duration": 12,
    "start_time": "2022-03-23T17:02:41.849Z"
   },
   {
    "duration": 64,
    "start_time": "2022-03-23T17:05:49.387Z"
   },
   {
    "duration": 24,
    "start_time": "2022-03-23T17:05:52.272Z"
   },
   {
    "duration": 43,
    "start_time": "2022-03-23T17:05:53.787Z"
   },
   {
    "duration": 28,
    "start_time": "2022-03-23T17:05:59.908Z"
   },
   {
    "duration": 20,
    "start_time": "2022-03-23T17:06:01.122Z"
   },
   {
    "duration": 29,
    "start_time": "2022-03-23T17:06:09.237Z"
   },
   {
    "duration": 21,
    "start_time": "2022-03-23T17:06:10.445Z"
   },
   {
    "duration": 21,
    "start_time": "2022-03-23T17:06:11.811Z"
   },
   {
    "duration": 27,
    "start_time": "2022-03-23T17:06:18.719Z"
   },
   {
    "duration": 1968,
    "start_time": "2022-03-23T17:06:23.240Z"
   },
   {
    "duration": 1114,
    "start_time": "2022-03-23T17:06:25.211Z"
   },
   {
    "duration": 31,
    "start_time": "2022-03-23T17:06:26.328Z"
   },
   {
    "duration": 125,
    "start_time": "2022-03-23T17:06:26.361Z"
   },
   {
    "duration": 176,
    "start_time": "2022-03-23T17:06:26.489Z"
   },
   {
    "duration": 211,
    "start_time": "2022-03-23T17:06:26.673Z"
   },
   {
    "duration": 7,
    "start_time": "2022-03-23T17:06:26.886Z"
   },
   {
    "duration": 86,
    "start_time": "2022-03-23T17:06:26.895Z"
   },
   {
    "duration": 27,
    "start_time": "2022-03-23T17:06:26.983Z"
   },
   {
    "duration": 135,
    "start_time": "2022-03-23T17:06:27.012Z"
   },
   {
    "duration": 48,
    "start_time": "2022-03-23T17:06:27.149Z"
   },
   {
    "duration": 103,
    "start_time": "2022-03-23T17:06:27.200Z"
   },
   {
    "duration": 16,
    "start_time": "2022-03-23T17:06:27.306Z"
   },
   {
    "duration": 71,
    "start_time": "2022-03-23T17:06:27.326Z"
   },
   {
    "duration": 29,
    "start_time": "2022-03-23T17:06:27.400Z"
   },
   {
    "duration": 79,
    "start_time": "2022-03-23T17:06:27.432Z"
   },
   {
    "duration": 48,
    "start_time": "2022-03-23T17:07:26.010Z"
   },
   {
    "duration": 52,
    "start_time": "2022-03-23T17:14:53.901Z"
   },
   {
    "duration": 72,
    "start_time": "2022-03-23T17:14:57.081Z"
   },
   {
    "duration": 48,
    "start_time": "2022-03-23T17:15:45.846Z"
   },
   {
    "duration": 47,
    "start_time": "2022-03-23T17:16:17.083Z"
   },
   {
    "duration": 32,
    "start_time": "2022-03-23T17:16:19.169Z"
   },
   {
    "duration": 42,
    "start_time": "2022-03-23T17:16:20.523Z"
   },
   {
    "duration": 56,
    "start_time": "2022-03-23T17:23:24.413Z"
   },
   {
    "duration": 30,
    "start_time": "2022-03-23T17:23:56.513Z"
   },
   {
    "duration": 47,
    "start_time": "2022-03-23T17:24:04.048Z"
   },
   {
    "duration": 88,
    "start_time": "2022-03-23T17:25:22.705Z"
   },
   {
    "duration": 10,
    "start_time": "2022-03-23T17:37:50.113Z"
   },
   {
    "duration": 8,
    "start_time": "2022-03-23T17:38:08.913Z"
   },
   {
    "duration": 707,
    "start_time": "2022-03-23T17:38:30.879Z"
   },
   {
    "duration": 8,
    "start_time": "2022-03-23T17:38:41.436Z"
   },
   {
    "duration": 8,
    "start_time": "2022-03-23T17:38:45.134Z"
   },
   {
    "duration": 854,
    "start_time": "2022-03-23T17:38:47.051Z"
   },
   {
    "duration": 8,
    "start_time": "2022-03-23T17:39:02.887Z"
   },
   {
    "duration": 1113,
    "start_time": "2022-03-23T17:39:04.708Z"
   },
   {
    "duration": 8,
    "start_time": "2022-03-23T17:40:15.554Z"
   },
   {
    "duration": 988,
    "start_time": "2022-03-23T17:40:17.742Z"
   },
   {
    "duration": 8,
    "start_time": "2022-03-23T17:40:51.950Z"
   },
   {
    "duration": 1029,
    "start_time": "2022-03-23T17:40:53.789Z"
   },
   {
    "duration": 8,
    "start_time": "2022-03-23T17:41:01.863Z"
   },
   {
    "duration": 8,
    "start_time": "2022-03-23T17:42:29.768Z"
   },
   {
    "duration": 13,
    "start_time": "2022-03-23T17:42:31.505Z"
   },
   {
    "duration": 1119,
    "start_time": "2022-03-23T17:42:45.038Z"
   },
   {
    "duration": 8,
    "start_time": "2022-03-23T17:43:27.533Z"
   },
   {
    "duration": 840,
    "start_time": "2022-03-23T17:43:28.922Z"
   },
   {
    "duration": 8,
    "start_time": "2022-03-23T17:44:33.684Z"
   },
   {
    "duration": 1019,
    "start_time": "2022-03-23T17:44:35.539Z"
   },
   {
    "duration": 8,
    "start_time": "2022-03-23T17:46:06.238Z"
   },
   {
    "duration": 1011,
    "start_time": "2022-03-23T17:46:08.150Z"
   },
   {
    "duration": 8,
    "start_time": "2022-03-23T17:46:27.769Z"
   },
   {
    "duration": 1125,
    "start_time": "2022-03-23T17:46:29.384Z"
   },
   {
    "duration": 9,
    "start_time": "2022-03-23T17:46:34.369Z"
   },
   {
    "duration": 1186,
    "start_time": "2022-03-23T17:46:35.762Z"
   },
   {
    "duration": 12,
    "start_time": "2022-03-23T17:47:04.939Z"
   },
   {
    "duration": 1715,
    "start_time": "2022-03-23T17:47:06.242Z"
   },
   {
    "duration": 12,
    "start_time": "2022-03-23T17:47:27.549Z"
   },
   {
    "duration": 1034,
    "start_time": "2022-03-23T17:47:29.028Z"
   },
   {
    "duration": 8,
    "start_time": "2022-03-23T17:47:34.296Z"
   },
   {
    "duration": 1002,
    "start_time": "2022-03-23T17:47:35.780Z"
   },
   {
    "duration": 7,
    "start_time": "2022-03-23T17:47:39.551Z"
   },
   {
    "duration": 1121,
    "start_time": "2022-03-23T17:47:40.668Z"
   },
   {
    "duration": 9,
    "start_time": "2022-03-23T17:47:52.152Z"
   },
   {
    "duration": 1031,
    "start_time": "2022-03-23T17:47:53.401Z"
   },
   {
    "duration": 10,
    "start_time": "2022-03-23T17:48:27.436Z"
   },
   {
    "duration": 1156,
    "start_time": "2022-03-23T17:48:28.873Z"
   },
   {
    "duration": 8,
    "start_time": "2022-03-23T17:48:54.376Z"
   },
   {
    "duration": 986,
    "start_time": "2022-03-23T17:48:55.495Z"
   },
   {
    "duration": 8,
    "start_time": "2022-03-23T17:49:24.871Z"
   },
   {
    "duration": 1112,
    "start_time": "2022-03-23T17:49:27.077Z"
   },
   {
    "duration": 20,
    "start_time": "2022-03-23T17:51:26.701Z"
   },
   {
    "duration": 46,
    "start_time": "2022-03-23T17:51:41.400Z"
   },
   {
    "duration": 2791,
    "start_time": "2022-03-24T07:10:04.198Z"
   },
   {
    "duration": 1069,
    "start_time": "2022-03-24T07:10:06.992Z"
   },
   {
    "duration": 38,
    "start_time": "2022-03-24T07:10:08.063Z"
   },
   {
    "duration": 125,
    "start_time": "2022-03-24T07:10:08.104Z"
   },
   {
    "duration": 171,
    "start_time": "2022-03-24T07:10:08.231Z"
   },
   {
    "duration": 177,
    "start_time": "2022-03-24T07:10:08.405Z"
   },
   {
    "duration": 7,
    "start_time": "2022-03-24T07:10:08.584Z"
   },
   {
    "duration": 56,
    "start_time": "2022-03-24T07:10:08.594Z"
   },
   {
    "duration": 51,
    "start_time": "2022-03-24T07:10:08.653Z"
   },
   {
    "duration": 136,
    "start_time": "2022-03-24T07:10:08.708Z"
   },
   {
    "duration": 50,
    "start_time": "2022-03-24T07:10:08.846Z"
   },
   {
    "duration": 96,
    "start_time": "2022-03-24T07:10:08.898Z"
   },
   {
    "duration": 13,
    "start_time": "2022-03-24T07:10:08.996Z"
   },
   {
    "duration": 71,
    "start_time": "2022-03-24T07:10:09.012Z"
   },
   {
    "duration": 54,
    "start_time": "2022-03-24T07:10:09.086Z"
   },
   {
    "duration": 70,
    "start_time": "2022-03-24T07:10:09.143Z"
   },
   {
    "duration": 65,
    "start_time": "2022-03-24T07:10:09.215Z"
   },
   {
    "duration": 71,
    "start_time": "2022-03-24T07:10:09.282Z"
   },
   {
    "duration": 37,
    "start_time": "2022-03-24T07:10:09.355Z"
   },
   {
    "duration": 68,
    "start_time": "2022-03-24T07:10:09.394Z"
   },
   {
    "duration": 51,
    "start_time": "2022-03-24T07:10:09.464Z"
   },
   {
    "duration": 53,
    "start_time": "2022-03-24T07:10:09.518Z"
   },
   {
    "duration": 74,
    "start_time": "2022-03-24T07:10:09.573Z"
   },
   {
    "duration": 48,
    "start_time": "2022-03-24T07:10:09.649Z"
   },
   {
    "duration": 69,
    "start_time": "2022-03-24T07:10:09.700Z"
   },
   {
    "duration": 104,
    "start_time": "2022-03-24T07:10:09.772Z"
   },
   {
    "duration": 25,
    "start_time": "2022-03-24T07:10:09.879Z"
   },
   {
    "duration": 1025,
    "start_time": "2022-03-24T07:10:09.908Z"
   },
   {
    "duration": 17,
    "start_time": "2022-03-24T07:10:10.935Z"
   },
   {
    "duration": 67,
    "start_time": "2022-03-24T07:10:10.954Z"
   },
   {
    "duration": 57,
    "start_time": "2022-03-24T07:10:31.799Z"
   },
   {
    "duration": 45,
    "start_time": "2022-03-24T07:10:43.835Z"
   },
   {
    "duration": 241,
    "start_time": "2022-03-24T07:10:58.944Z"
   },
   {
    "duration": 44,
    "start_time": "2022-03-24T07:11:00.960Z"
   },
   {
    "duration": 27,
    "start_time": "2022-03-24T07:11:49.045Z"
   },
   {
    "duration": 163,
    "start_time": "2022-03-24T07:12:51.478Z"
   },
   {
    "duration": 9,
    "start_time": "2022-03-24T07:12:53.087Z"
   },
   {
    "duration": 1011,
    "start_time": "2022-03-24T07:12:54.179Z"
   },
   {
    "duration": 1013,
    "start_time": "2022-03-24T07:13:16.673Z"
   },
   {
    "duration": 916,
    "start_time": "2022-03-24T07:15:00.449Z"
   },
   {
    "duration": 11,
    "start_time": "2022-03-24T07:24:50.916Z"
   },
   {
    "duration": 12,
    "start_time": "2022-03-24T07:25:01.355Z"
   },
   {
    "duration": 12,
    "start_time": "2022-03-24T07:25:04.569Z"
   },
   {
    "duration": 13,
    "start_time": "2022-03-24T07:25:06.937Z"
   },
   {
    "duration": 46,
    "start_time": "2022-03-24T07:26:16.147Z"
   },
   {
    "duration": 51,
    "start_time": "2022-03-24T07:26:26.437Z"
   },
   {
    "duration": 838,
    "start_time": "2022-03-24T07:27:40.593Z"
   },
   {
    "duration": 10,
    "start_time": "2022-03-24T07:31:15.529Z"
   },
   {
    "duration": 20,
    "start_time": "2022-03-24T07:33:25.294Z"
   },
   {
    "duration": 20,
    "start_time": "2022-03-24T07:33:29.745Z"
   },
   {
    "duration": 21,
    "start_time": "2022-03-24T07:33:33.210Z"
   },
   {
    "duration": 49,
    "start_time": "2022-03-24T07:38:57.874Z"
   },
   {
    "duration": 47,
    "start_time": "2022-03-24T07:39:21.201Z"
   },
   {
    "duration": 1014,
    "start_time": "2022-03-24T07:40:22.062Z"
   },
   {
    "duration": 2009,
    "start_time": "2022-03-24T09:09:47.057Z"
   },
   {
    "duration": 1015,
    "start_time": "2022-03-24T09:09:49.069Z"
   },
   {
    "duration": 29,
    "start_time": "2022-03-24T09:09:50.087Z"
   },
   {
    "duration": 130,
    "start_time": "2022-03-24T09:09:50.120Z"
   },
   {
    "duration": 177,
    "start_time": "2022-03-24T09:09:50.253Z"
   },
   {
    "duration": 174,
    "start_time": "2022-03-24T09:09:50.433Z"
   },
   {
    "duration": 24,
    "start_time": "2022-03-24T09:09:50.609Z"
   },
   {
    "duration": 58,
    "start_time": "2022-03-24T09:09:50.635Z"
   },
   {
    "duration": 51,
    "start_time": "2022-03-24T09:09:50.695Z"
   },
   {
    "duration": 122,
    "start_time": "2022-03-24T09:09:50.750Z"
   },
   {
    "duration": 46,
    "start_time": "2022-03-24T09:09:50.874Z"
   },
   {
    "duration": 104,
    "start_time": "2022-03-24T09:09:50.923Z"
   },
   {
    "duration": 14,
    "start_time": "2022-03-24T09:09:51.031Z"
   },
   {
    "duration": 60,
    "start_time": "2022-03-24T09:09:51.047Z"
   },
   {
    "duration": 70,
    "start_time": "2022-03-24T09:09:51.110Z"
   },
   {
    "duration": 62,
    "start_time": "2022-03-24T09:09:51.183Z"
   },
   {
    "duration": 77,
    "start_time": "2022-03-24T09:09:51.247Z"
   },
   {
    "duration": 61,
    "start_time": "2022-03-24T09:09:51.326Z"
   },
   {
    "duration": 67,
    "start_time": "2022-03-24T09:09:51.390Z"
   },
   {
    "duration": 93,
    "start_time": "2022-03-24T09:09:51.459Z"
   },
   {
    "duration": 40,
    "start_time": "2022-03-24T09:09:51.554Z"
   },
   {
    "duration": 39,
    "start_time": "2022-03-24T09:09:51.597Z"
   },
   {
    "duration": 60,
    "start_time": "2022-03-24T09:09:51.639Z"
   },
   {
    "duration": 34,
    "start_time": "2022-03-24T09:09:51.701Z"
   },
   {
    "duration": 54,
    "start_time": "2022-03-24T09:09:51.737Z"
   },
   {
    "duration": 99,
    "start_time": "2022-03-24T09:09:51.794Z"
   },
   {
    "duration": 28,
    "start_time": "2022-03-24T09:09:51.896Z"
   },
   {
    "duration": 7,
    "start_time": "2022-03-24T09:09:51.931Z"
   },
   {
    "duration": 1037,
    "start_time": "2022-03-24T09:09:51.941Z"
   },
   {
    "duration": 17,
    "start_time": "2022-03-24T09:09:52.983Z"
   },
   {
    "duration": 51,
    "start_time": "2022-03-24T09:09:53.002Z"
   },
   {
    "duration": 1032,
    "start_time": "2022-03-24T09:09:53.055Z"
   },
   {
    "duration": 13,
    "start_time": "2022-03-24T09:09:54.089Z"
   },
   {
    "duration": 56,
    "start_time": "2022-03-24T09:09:54.104Z"
   },
   {
    "duration": 861,
    "start_time": "2022-03-24T09:09:54.162Z"
   },
   {
    "duration": 22,
    "start_time": "2022-03-24T09:09:55.025Z"
   },
   {
    "duration": 78,
    "start_time": "2022-03-24T09:09:55.050Z"
   },
   {
    "duration": 828,
    "start_time": "2022-03-24T09:09:55.131Z"
   },
   {
    "duration": 2277,
    "start_time": "2022-03-24T09:57:18.102Z"
   },
   {
    "duration": 1301,
    "start_time": "2022-03-24T09:57:20.382Z"
   },
   {
    "duration": 36,
    "start_time": "2022-03-24T09:57:21.686Z"
   },
   {
    "duration": 225,
    "start_time": "2022-03-24T09:57:21.725Z"
   },
   {
    "duration": 205,
    "start_time": "2022-03-24T09:57:21.952Z"
   },
   {
    "duration": 170,
    "start_time": "2022-03-24T09:57:22.159Z"
   },
   {
    "duration": 22,
    "start_time": "2022-03-24T09:57:22.332Z"
   },
   {
    "duration": 76,
    "start_time": "2022-03-24T09:57:22.362Z"
   },
   {
    "duration": 41,
    "start_time": "2022-03-24T09:57:22.441Z"
   },
   {
    "duration": 142,
    "start_time": "2022-03-24T09:57:22.486Z"
   },
   {
    "duration": 39,
    "start_time": "2022-03-24T09:57:22.630Z"
   },
   {
    "duration": 82,
    "start_time": "2022-03-24T09:57:22.683Z"
   },
   {
    "duration": 22,
    "start_time": "2022-03-24T09:57:22.769Z"
   },
   {
    "duration": 64,
    "start_time": "2022-03-24T09:57:22.793Z"
   },
   {
    "duration": 38,
    "start_time": "2022-03-24T09:57:22.860Z"
   },
   {
    "duration": 44,
    "start_time": "2022-03-24T09:57:22.901Z"
   },
   {
    "duration": 73,
    "start_time": "2022-03-24T09:57:22.947Z"
   },
   {
    "duration": 47,
    "start_time": "2022-03-24T09:57:23.023Z"
   },
   {
    "duration": 53,
    "start_time": "2022-03-24T09:57:23.073Z"
   },
   {
    "duration": 77,
    "start_time": "2022-03-24T09:57:23.129Z"
   },
   {
    "duration": 41,
    "start_time": "2022-03-24T09:57:23.209Z"
   },
   {
    "duration": 48,
    "start_time": "2022-03-24T09:57:23.252Z"
   },
   {
    "duration": 57,
    "start_time": "2022-03-24T09:57:23.303Z"
   },
   {
    "duration": 42,
    "start_time": "2022-03-24T09:57:23.363Z"
   },
   {
    "duration": 51,
    "start_time": "2022-03-24T09:57:23.408Z"
   },
   {
    "duration": 102,
    "start_time": "2022-03-24T09:57:23.482Z"
   },
   {
    "duration": 31,
    "start_time": "2022-03-24T09:57:23.587Z"
   },
   {
    "duration": 8,
    "start_time": "2022-03-24T09:57:23.623Z"
   },
   {
    "duration": 1051,
    "start_time": "2022-03-24T09:57:23.633Z"
   },
   {
    "duration": 18,
    "start_time": "2022-03-24T09:57:24.686Z"
   },
   {
    "duration": 50,
    "start_time": "2022-03-24T09:57:24.707Z"
   },
   {
    "duration": 1058,
    "start_time": "2022-03-24T09:57:24.782Z"
   },
   {
    "duration": 15,
    "start_time": "2022-03-24T09:57:25.843Z"
   },
   {
    "duration": 74,
    "start_time": "2022-03-24T09:57:25.861Z"
   },
   {
    "duration": 854,
    "start_time": "2022-03-24T09:57:25.937Z"
   },
   {
    "duration": 23,
    "start_time": "2022-03-24T09:57:26.794Z"
   },
   {
    "duration": 77,
    "start_time": "2022-03-24T09:57:26.820Z"
   },
   {
    "duration": 859,
    "start_time": "2022-03-24T09:57:26.900Z"
   },
   {
    "duration": 1221,
    "start_time": "2022-03-24T10:07:28.768Z"
   },
   {
    "duration": 55,
    "start_time": "2022-03-24T10:07:39.667Z"
   },
   {
    "duration": 5,
    "start_time": "2022-03-24T10:07:53.751Z"
   },
   {
    "duration": 53,
    "start_time": "2022-03-24T10:08:57.322Z"
   },
   {
    "duration": 231,
    "start_time": "2022-03-24T10:09:58.026Z"
   },
   {
    "duration": 629,
    "start_time": "2022-03-24T10:15:39.409Z"
   },
   {
    "duration": 7,
    "start_time": "2022-03-24T10:16:01.914Z"
   },
   {
    "duration": 247,
    "start_time": "2022-03-24T10:18:03.253Z"
   },
   {
    "duration": 58,
    "start_time": "2022-03-24T10:18:06.193Z"
   },
   {
    "duration": 2039,
    "start_time": "2022-03-24T10:18:38.490Z"
   },
   {
    "duration": 1598,
    "start_time": "2022-03-24T10:18:40.533Z"
   },
   {
    "duration": 32,
    "start_time": "2022-03-24T10:18:42.186Z"
   },
   {
    "duration": 268,
    "start_time": "2022-03-24T10:18:42.221Z"
   },
   {
    "duration": 314,
    "start_time": "2022-03-24T10:18:42.491Z"
   },
   {
    "duration": 305,
    "start_time": "2022-03-24T10:18:42.807Z"
   },
   {
    "duration": 9,
    "start_time": "2022-03-24T10:18:43.114Z"
   },
   {
    "duration": 94,
    "start_time": "2022-03-24T10:18:43.125Z"
   },
   {
    "duration": 83,
    "start_time": "2022-03-24T10:18:43.221Z"
   },
   {
    "duration": 217,
    "start_time": "2022-03-24T10:18:43.309Z"
   },
   {
    "duration": 98,
    "start_time": "2022-03-24T10:18:43.527Z"
   },
   {
    "duration": 126,
    "start_time": "2022-03-24T10:18:43.682Z"
   },
   {
    "duration": 13,
    "start_time": "2022-03-24T10:18:43.811Z"
   },
   {
    "duration": 42,
    "start_time": "2022-03-24T10:18:43.882Z"
   },
   {
    "duration": 83,
    "start_time": "2022-03-24T10:18:43.926Z"
   },
   {
    "duration": 94,
    "start_time": "2022-03-24T10:18:44.011Z"
   },
   {
    "duration": 98,
    "start_time": "2022-03-24T10:18:44.107Z"
   },
   {
    "duration": 101,
    "start_time": "2022-03-24T10:18:44.207Z"
   },
   {
    "duration": 97,
    "start_time": "2022-03-24T10:18:44.311Z"
   },
   {
    "duration": 97,
    "start_time": "2022-03-24T10:18:44.411Z"
   },
   {
    "duration": 79,
    "start_time": "2022-03-24T10:18:44.511Z"
   },
   {
    "duration": 44,
    "start_time": "2022-03-24T10:18:44.592Z"
   },
   {
    "duration": 85,
    "start_time": "2022-03-24T10:18:44.639Z"
   },
   {
    "duration": 29,
    "start_time": "2022-03-24T10:18:44.727Z"
   },
   {
    "duration": 67,
    "start_time": "2022-03-24T10:18:44.759Z"
   },
   {
    "duration": 109,
    "start_time": "2022-03-24T10:18:44.828Z"
   },
   {
    "duration": 44,
    "start_time": "2022-03-24T10:18:44.940Z"
   },
   {
    "duration": 8,
    "start_time": "2022-03-24T10:18:44.991Z"
   },
   {
    "duration": 1111,
    "start_time": "2022-03-24T10:18:45.002Z"
   },
   {
    "duration": 20,
    "start_time": "2022-03-24T10:18:46.116Z"
   },
   {
    "duration": 75,
    "start_time": "2022-03-24T10:18:46.139Z"
   },
   {
    "duration": 1083,
    "start_time": "2022-03-24T10:18:46.217Z"
   },
   {
    "duration": 17,
    "start_time": "2022-03-24T10:18:47.302Z"
   },
   {
    "duration": 84,
    "start_time": "2022-03-24T10:18:47.322Z"
   },
   {
    "duration": 982,
    "start_time": "2022-03-24T10:18:47.408Z"
   },
   {
    "duration": 24,
    "start_time": "2022-03-24T10:18:48.393Z"
   },
   {
    "duration": 79,
    "start_time": "2022-03-24T10:18:48.420Z"
   },
   {
    "duration": 1516,
    "start_time": "2022-03-24T10:18:48.503Z"
   },
   {
    "duration": 1647,
    "start_time": "2022-03-24T10:18:50.022Z"
   },
   {
    "duration": 75,
    "start_time": "2022-03-24T10:18:51.672Z"
   },
   {
    "duration": 7,
    "start_time": "2022-03-24T10:18:51.750Z"
   },
   {
    "duration": 238,
    "start_time": "2022-03-24T10:18:51.783Z"
   },
   {
    "duration": 658,
    "start_time": "2022-03-24T10:18:52.024Z"
   },
   {
    "duration": 7,
    "start_time": "2022-03-24T10:18:52.684Z"
   },
   {
    "duration": 242,
    "start_time": "2022-03-24T10:18:52.693Z"
   },
   {
    "duration": 72,
    "start_time": "2022-03-24T10:18:52.937Z"
   },
   {
    "duration": 18,
    "start_time": "2022-03-24T10:19:35.754Z"
   },
   {
    "duration": 2064,
    "start_time": "2022-03-24T10:19:52.330Z"
   },
   {
    "duration": 2204,
    "start_time": "2022-03-24T10:19:54.397Z"
   },
   {
    "duration": 90,
    "start_time": "2022-03-24T10:19:56.603Z"
   },
   {
    "duration": 221,
    "start_time": "2022-03-24T10:19:56.698Z"
   },
   {
    "duration": 209,
    "start_time": "2022-03-24T10:19:56.921Z"
   },
   {
    "duration": 197,
    "start_time": "2022-03-24T10:19:57.132Z"
   },
   {
    "duration": 7,
    "start_time": "2022-03-24T10:19:57.332Z"
   },
   {
    "duration": 63,
    "start_time": "2022-03-24T10:19:57.340Z"
   },
   {
    "duration": 51,
    "start_time": "2022-03-24T10:19:57.405Z"
   },
   {
    "duration": 129,
    "start_time": "2022-03-24T10:19:57.460Z"
   },
   {
    "duration": 60,
    "start_time": "2022-03-24T10:19:57.591Z"
   },
   {
    "duration": 104,
    "start_time": "2022-03-24T10:19:57.653Z"
   },
   {
    "duration": 12,
    "start_time": "2022-03-24T10:19:57.760Z"
   },
   {
    "duration": 75,
    "start_time": "2022-03-24T10:19:57.774Z"
   },
   {
    "duration": 75,
    "start_time": "2022-03-24T10:19:57.851Z"
   },
   {
    "duration": 73,
    "start_time": "2022-03-24T10:19:57.928Z"
   },
   {
    "duration": 76,
    "start_time": "2022-03-24T10:19:58.003Z"
   },
   {
    "duration": 58,
    "start_time": "2022-03-24T10:19:58.083Z"
   },
   {
    "duration": 68,
    "start_time": "2022-03-24T10:19:58.144Z"
   },
   {
    "duration": 105,
    "start_time": "2022-03-24T10:19:58.214Z"
   },
   {
    "duration": 58,
    "start_time": "2022-03-24T10:19:58.322Z"
   },
   {
    "duration": 57,
    "start_time": "2022-03-24T10:19:58.382Z"
   },
   {
    "duration": 63,
    "start_time": "2022-03-24T10:19:58.441Z"
   },
   {
    "duration": 50,
    "start_time": "2022-03-24T10:19:58.507Z"
   },
   {
    "duration": 57,
    "start_time": "2022-03-24T10:19:58.559Z"
   },
   {
    "duration": 106,
    "start_time": "2022-03-24T10:19:58.619Z"
   },
   {
    "duration": 29,
    "start_time": "2022-03-24T10:19:58.727Z"
   },
   {
    "duration": 7,
    "start_time": "2022-03-24T10:19:58.782Z"
   },
   {
    "duration": 1008,
    "start_time": "2022-03-24T10:19:58.791Z"
   },
   {
    "duration": 19,
    "start_time": "2022-03-24T10:19:59.801Z"
   },
   {
    "duration": 69,
    "start_time": "2022-03-24T10:19:59.823Z"
   },
   {
    "duration": 1011,
    "start_time": "2022-03-24T10:19:59.895Z"
   },
   {
    "duration": 13,
    "start_time": "2022-03-24T10:20:00.909Z"
   },
   {
    "duration": 72,
    "start_time": "2022-03-24T10:20:00.924Z"
   },
   {
    "duration": 866,
    "start_time": "2022-03-24T10:20:00.999Z"
   },
   {
    "duration": 35,
    "start_time": "2022-03-24T10:20:01.868Z"
   },
   {
    "duration": 71,
    "start_time": "2022-03-24T10:20:01.906Z"
   },
   {
    "duration": 896,
    "start_time": "2022-03-24T10:20:01.981Z"
   },
   {
    "duration": 1422,
    "start_time": "2022-03-24T10:20:02.882Z"
   },
   {
    "duration": 55,
    "start_time": "2022-03-24T10:20:04.306Z"
   },
   {
    "duration": 20,
    "start_time": "2022-03-24T10:20:04.363Z"
   },
   {
    "duration": 242,
    "start_time": "2022-03-24T10:20:04.385Z"
   },
   {
    "duration": 760,
    "start_time": "2022-03-24T10:20:04.629Z"
   },
   {
    "duration": 6,
    "start_time": "2022-03-24T10:20:05.392Z"
   },
   {
    "duration": 179,
    "start_time": "2022-03-24T10:20:05.401Z"
   },
   {
    "duration": 0,
    "start_time": "2022-03-24T10:20:05.583Z"
   },
   {
    "duration": 0,
    "start_time": "2022-03-24T10:20:05.585Z"
   },
   {
    "duration": 4,
    "start_time": "2022-03-24T10:20:31.773Z"
   },
   {
    "duration": 17,
    "start_time": "2022-03-24T10:20:32.964Z"
   },
   {
    "duration": 228,
    "start_time": "2022-03-24T10:20:34.737Z"
   },
   {
    "duration": 18,
    "start_time": "2022-03-24T10:20:36.486Z"
   },
   {
    "duration": 23,
    "start_time": "2022-03-24T10:21:13.822Z"
   },
   {
    "duration": 17,
    "start_time": "2022-03-24T10:21:18.755Z"
   },
   {
    "duration": 2041,
    "start_time": "2022-03-24T10:21:23.227Z"
   },
   {
    "duration": 1061,
    "start_time": "2022-03-24T10:21:25.271Z"
   },
   {
    "duration": 31,
    "start_time": "2022-03-24T10:21:26.334Z"
   },
   {
    "duration": 128,
    "start_time": "2022-03-24T10:21:26.368Z"
   },
   {
    "duration": 169,
    "start_time": "2022-03-24T10:21:26.498Z"
   },
   {
    "duration": 171,
    "start_time": "2022-03-24T10:21:26.669Z"
   },
   {
    "duration": 7,
    "start_time": "2022-03-24T10:21:26.842Z"
   },
   {
    "duration": 59,
    "start_time": "2022-03-24T10:21:26.851Z"
   },
   {
    "duration": 26,
    "start_time": "2022-03-24T10:21:26.912Z"
   },
   {
    "duration": 121,
    "start_time": "2022-03-24T10:21:26.942Z"
   },
   {
    "duration": 48,
    "start_time": "2022-03-24T10:21:27.066Z"
   },
   {
    "duration": 89,
    "start_time": "2022-03-24T10:21:27.117Z"
   },
   {
    "duration": 13,
    "start_time": "2022-03-24T10:21:27.208Z"
   },
   {
    "duration": 58,
    "start_time": "2022-03-24T10:21:27.224Z"
   },
   {
    "duration": 32,
    "start_time": "2022-03-24T10:21:27.284Z"
   },
   {
    "duration": 64,
    "start_time": "2022-03-24T10:21:27.318Z"
   },
   {
    "duration": 41,
    "start_time": "2022-03-24T10:21:27.385Z"
   },
   {
    "duration": 64,
    "start_time": "2022-03-24T10:21:27.429Z"
   },
   {
    "duration": 42,
    "start_time": "2022-03-24T10:21:27.496Z"
   },
   {
    "duration": 65,
    "start_time": "2022-03-24T10:21:27.541Z"
   },
   {
    "duration": 29,
    "start_time": "2022-03-24T10:21:27.609Z"
   },
   {
    "duration": 60,
    "start_time": "2022-03-24T10:21:27.640Z"
   },
   {
    "duration": 45,
    "start_time": "2022-03-24T10:21:27.702Z"
   },
   {
    "duration": 52,
    "start_time": "2022-03-24T10:21:27.750Z"
   },
   {
    "duration": 45,
    "start_time": "2022-03-24T10:21:27.805Z"
   },
   {
    "duration": 107,
    "start_time": "2022-03-24T10:21:27.852Z"
   },
   {
    "duration": 42,
    "start_time": "2022-03-24T10:21:27.962Z"
   },
   {
    "duration": 7,
    "start_time": "2022-03-24T10:21:28.012Z"
   },
   {
    "duration": 991,
    "start_time": "2022-03-24T10:21:28.022Z"
   },
   {
    "duration": 18,
    "start_time": "2022-03-24T10:21:29.016Z"
   },
   {
    "duration": 67,
    "start_time": "2022-03-24T10:21:29.037Z"
   },
   {
    "duration": 1002,
    "start_time": "2022-03-24T10:21:29.107Z"
   },
   {
    "duration": 14,
    "start_time": "2022-03-24T10:21:30.112Z"
   },
   {
    "duration": 71,
    "start_time": "2022-03-24T10:21:30.128Z"
   },
   {
    "duration": 854,
    "start_time": "2022-03-24T10:21:30.202Z"
   },
   {
    "duration": 35,
    "start_time": "2022-03-24T10:21:31.058Z"
   },
   {
    "duration": 50,
    "start_time": "2022-03-24T10:21:31.096Z"
   },
   {
    "duration": 873,
    "start_time": "2022-03-24T10:21:31.149Z"
   },
   {
    "duration": 1444,
    "start_time": "2022-03-24T10:21:32.025Z"
   },
   {
    "duration": 53,
    "start_time": "2022-03-24T10:21:33.472Z"
   },
   {
    "duration": 5,
    "start_time": "2022-03-24T10:21:33.528Z"
   },
   {
    "duration": 253,
    "start_time": "2022-03-24T10:21:33.535Z"
   },
   {
    "duration": 627,
    "start_time": "2022-03-24T10:21:33.791Z"
   },
   {
    "duration": 7,
    "start_time": "2022-03-24T10:21:34.420Z"
   },
   {
    "duration": 18,
    "start_time": "2022-03-24T10:21:34.429Z"
   },
   {
    "duration": 42,
    "start_time": "2022-03-24T10:21:34.449Z"
   },
   {
    "duration": 231,
    "start_time": "2022-03-24T10:21:34.493Z"
   },
   {
    "duration": 19,
    "start_time": "2022-03-24T10:21:34.727Z"
   },
   {
    "duration": 170,
    "start_time": "2022-03-24T10:37:20.206Z"
   },
   {
    "duration": 49,
    "start_time": "2022-03-24T10:37:40.091Z"
   },
   {
    "duration": 37582,
    "start_time": "2022-03-24T10:37:44.100Z"
   },
   {
    "duration": 29615,
    "start_time": "2022-03-24T10:40:37.366Z"
   },
   {
    "duration": 37,
    "start_time": "2022-03-24T10:41:47.578Z"
   },
   {
    "duration": 207,
    "start_time": "2022-03-24T10:41:52.401Z"
   },
   {
    "duration": 178,
    "start_time": "2022-03-24T10:43:44.565Z"
   },
   {
    "duration": 43,
    "start_time": "2022-03-24T10:44:01.638Z"
   },
   {
    "duration": 218,
    "start_time": "2022-03-24T10:44:31.799Z"
   },
   {
    "duration": 2279,
    "start_time": "2022-03-24T10:44:39.188Z"
   },
   {
    "duration": 2043,
    "start_time": "2022-03-24T10:44:43.499Z"
   },
   {
    "duration": 1020,
    "start_time": "2022-03-24T10:44:45.544Z"
   },
   {
    "duration": 36,
    "start_time": "2022-03-24T10:44:46.566Z"
   },
   {
    "duration": 166,
    "start_time": "2022-03-24T10:44:46.605Z"
   },
   {
    "duration": 214,
    "start_time": "2022-03-24T10:44:46.774Z"
   },
   {
    "duration": 159,
    "start_time": "2022-03-24T10:44:46.991Z"
   },
   {
    "duration": 7,
    "start_time": "2022-03-24T10:44:47.153Z"
   },
   {
    "duration": 49,
    "start_time": "2022-03-24T10:44:47.161Z"
   },
   {
    "duration": 27,
    "start_time": "2022-03-24T10:44:47.213Z"
   },
   {
    "duration": 152,
    "start_time": "2022-03-24T10:44:47.243Z"
   },
   {
    "duration": 45,
    "start_time": "2022-03-24T10:44:47.397Z"
   },
   {
    "duration": 100,
    "start_time": "2022-03-24T10:44:47.445Z"
   },
   {
    "duration": 15,
    "start_time": "2022-03-24T10:44:47.547Z"
   },
   {
    "duration": 58,
    "start_time": "2022-03-24T10:44:47.564Z"
   },
   {
    "duration": 27,
    "start_time": "2022-03-24T10:44:47.624Z"
   },
   {
    "duration": 62,
    "start_time": "2022-03-24T10:44:47.653Z"
   },
   {
    "duration": 44,
    "start_time": "2022-03-24T10:44:47.718Z"
   },
   {
    "duration": 44,
    "start_time": "2022-03-24T10:44:47.782Z"
   },
   {
    "duration": 57,
    "start_time": "2022-03-24T10:44:47.828Z"
   },
   {
    "duration": 45,
    "start_time": "2022-03-24T10:44:47.887Z"
   },
   {
    "duration": 50,
    "start_time": "2022-03-24T10:44:47.934Z"
   },
   {
    "duration": 44,
    "start_time": "2022-03-24T10:44:47.986Z"
   },
   {
    "duration": 63,
    "start_time": "2022-03-24T10:44:48.032Z"
   },
   {
    "duration": 32,
    "start_time": "2022-03-24T10:44:48.097Z"
   },
   {
    "duration": 59,
    "start_time": "2022-03-24T10:44:48.131Z"
   },
   {
    "duration": 120,
    "start_time": "2022-03-24T10:44:48.192Z"
   },
   {
    "duration": 29,
    "start_time": "2022-03-24T10:44:48.314Z"
   },
   {
    "duration": 34,
    "start_time": "2022-03-24T10:44:48.349Z"
   },
   {
    "duration": 1081,
    "start_time": "2022-03-24T10:44:48.385Z"
   },
   {
    "duration": 28,
    "start_time": "2022-03-24T10:44:49.468Z"
   },
   {
    "duration": 152,
    "start_time": "2022-03-24T10:44:49.498Z"
   },
   {
    "duration": 976,
    "start_time": "2022-03-24T10:44:49.653Z"
   },
   {
    "duration": 14,
    "start_time": "2022-03-24T10:44:50.632Z"
   },
   {
    "duration": 81,
    "start_time": "2022-03-24T10:44:50.648Z"
   },
   {
    "duration": 864,
    "start_time": "2022-03-24T10:44:50.732Z"
   },
   {
    "duration": 23,
    "start_time": "2022-03-24T10:44:51.598Z"
   },
   {
    "duration": 77,
    "start_time": "2022-03-24T10:44:51.624Z"
   },
   {
    "duration": 899,
    "start_time": "2022-03-24T10:44:51.703Z"
   },
   {
    "duration": 1424,
    "start_time": "2022-03-24T10:44:52.604Z"
   },
   {
    "duration": 67,
    "start_time": "2022-03-24T10:44:54.030Z"
   },
   {
    "duration": 5,
    "start_time": "2022-03-24T10:44:54.099Z"
   },
   {
    "duration": 255,
    "start_time": "2022-03-24T10:44:54.107Z"
   },
   {
    "duration": 663,
    "start_time": "2022-03-24T10:44:54.364Z"
   },
   {
    "duration": 7,
    "start_time": "2022-03-24T10:44:55.029Z"
   },
   {
    "duration": 15,
    "start_time": "2022-03-24T10:44:55.038Z"
   },
   {
    "duration": 28,
    "start_time": "2022-03-24T10:44:55.055Z"
   },
   {
    "duration": 262,
    "start_time": "2022-03-24T10:44:55.085Z"
   },
   {
    "duration": 20,
    "start_time": "2022-03-24T10:44:55.350Z"
   },
   {
    "duration": 2203,
    "start_time": "2022-03-24T10:45:24.678Z"
   },
   {
    "duration": 1029,
    "start_time": "2022-03-24T10:45:26.883Z"
   },
   {
    "duration": 31,
    "start_time": "2022-03-24T10:45:27.915Z"
   },
   {
    "duration": 163,
    "start_time": "2022-03-24T10:45:27.949Z"
   },
   {
    "duration": 175,
    "start_time": "2022-03-24T10:45:28.116Z"
   },
   {
    "duration": 162,
    "start_time": "2022-03-24T10:45:28.293Z"
   },
   {
    "duration": 7,
    "start_time": "2022-03-24T10:45:28.457Z"
   },
   {
    "duration": 35,
    "start_time": "2022-03-24T10:45:28.483Z"
   },
   {
    "duration": 48,
    "start_time": "2022-03-24T10:45:28.520Z"
   },
   {
    "duration": 112,
    "start_time": "2022-03-24T10:45:28.571Z"
   },
   {
    "duration": 41,
    "start_time": "2022-03-24T10:45:28.686Z"
   },
   {
    "duration": 89,
    "start_time": "2022-03-24T10:45:28.729Z"
   },
   {
    "duration": 13,
    "start_time": "2022-03-24T10:45:28.821Z"
   },
   {
    "duration": 56,
    "start_time": "2022-03-24T10:45:28.840Z"
   },
   {
    "duration": 29,
    "start_time": "2022-03-24T10:45:28.898Z"
   },
   {
    "duration": 58,
    "start_time": "2022-03-24T10:45:28.929Z"
   },
   {
    "duration": 45,
    "start_time": "2022-03-24T10:45:28.989Z"
   },
   {
    "duration": 63,
    "start_time": "2022-03-24T10:45:29.037Z"
   },
   {
    "duration": 39,
    "start_time": "2022-03-24T10:45:29.102Z"
   },
   {
    "duration": 58,
    "start_time": "2022-03-24T10:45:29.143Z"
   },
   {
    "duration": 27,
    "start_time": "2022-03-24T10:45:29.203Z"
   },
   {
    "duration": 56,
    "start_time": "2022-03-24T10:45:29.232Z"
   },
   {
    "duration": 46,
    "start_time": "2022-03-24T10:45:29.290Z"
   },
   {
    "duration": 45,
    "start_time": "2022-03-24T10:45:29.338Z"
   },
   {
    "duration": 45,
    "start_time": "2022-03-24T10:45:29.386Z"
   },
   {
    "duration": 110,
    "start_time": "2022-03-24T10:45:29.433Z"
   },
   {
    "duration": 36,
    "start_time": "2022-03-24T10:45:29.546Z"
   },
   {
    "duration": 8,
    "start_time": "2022-03-24T10:45:29.584Z"
   },
   {
    "duration": 1026,
    "start_time": "2022-03-24T10:45:29.595Z"
   },
   {
    "duration": 18,
    "start_time": "2022-03-24T10:45:30.624Z"
   },
   {
    "duration": 152,
    "start_time": "2022-03-24T10:45:30.645Z"
   },
   {
    "duration": 951,
    "start_time": "2022-03-24T10:45:30.800Z"
   },
   {
    "duration": 13,
    "start_time": "2022-03-24T10:45:31.753Z"
   },
   {
    "duration": 52,
    "start_time": "2022-03-24T10:45:31.782Z"
   },
   {
    "duration": 947,
    "start_time": "2022-03-24T10:45:31.837Z"
   },
   {
    "duration": 21,
    "start_time": "2022-03-24T10:45:32.786Z"
   },
   {
    "duration": 73,
    "start_time": "2022-03-24T10:45:32.809Z"
   },
   {
    "duration": 877,
    "start_time": "2022-03-24T10:45:32.884Z"
   },
   {
    "duration": 1438,
    "start_time": "2022-03-24T10:45:33.764Z"
   },
   {
    "duration": 54,
    "start_time": "2022-03-24T10:45:35.204Z"
   },
   {
    "duration": 5,
    "start_time": "2022-03-24T10:45:35.264Z"
   },
   {
    "duration": 235,
    "start_time": "2022-03-24T10:45:35.283Z"
   },
   {
    "duration": 713,
    "start_time": "2022-03-24T10:45:35.521Z"
   },
   {
    "duration": 6,
    "start_time": "2022-03-24T10:45:36.236Z"
   },
   {
    "duration": 7,
    "start_time": "2022-03-24T10:45:36.244Z"
   },
   {
    "duration": 19,
    "start_time": "2022-03-24T10:45:36.253Z"
   },
   {
    "duration": 325,
    "start_time": "2022-03-24T10:45:36.274Z"
   },
   {
    "duration": 20,
    "start_time": "2022-03-24T10:45:36.601Z"
   },
   {
    "duration": 29565,
    "start_time": "2022-03-24T10:45:36.624Z"
   },
   {
    "duration": 73,
    "start_time": "2022-03-24T10:46:28.123Z"
   },
   {
    "duration": 2185,
    "start_time": "2022-03-24T10:46:38.971Z"
   },
   {
    "duration": 1029,
    "start_time": "2022-03-24T10:46:41.159Z"
   },
   {
    "duration": 30,
    "start_time": "2022-03-24T10:46:42.191Z"
   },
   {
    "duration": 165,
    "start_time": "2022-03-24T10:46:42.223Z"
   },
   {
    "duration": 166,
    "start_time": "2022-03-24T10:46:42.391Z"
   },
   {
    "duration": 170,
    "start_time": "2022-03-24T10:46:42.559Z"
   },
   {
    "duration": 8,
    "start_time": "2022-03-24T10:46:42.731Z"
   },
   {
    "duration": 73,
    "start_time": "2022-03-24T10:46:42.741Z"
   },
   {
    "duration": 66,
    "start_time": "2022-03-24T10:46:42.816Z"
   },
   {
    "duration": 107,
    "start_time": "2022-03-24T10:46:42.884Z"
   },
   {
    "duration": 60,
    "start_time": "2022-03-24T10:46:42.994Z"
   },
   {
    "duration": 94,
    "start_time": "2022-03-24T10:46:43.057Z"
   },
   {
    "duration": 12,
    "start_time": "2022-03-24T10:46:43.154Z"
   },
   {
    "duration": 60,
    "start_time": "2022-03-24T10:46:43.182Z"
   },
   {
    "duration": 44,
    "start_time": "2022-03-24T10:46:43.244Z"
   },
   {
    "duration": 85,
    "start_time": "2022-03-24T10:46:43.290Z"
   },
   {
    "duration": 55,
    "start_time": "2022-03-24T10:46:43.377Z"
   },
   {
    "duration": 59,
    "start_time": "2022-03-24T10:46:43.434Z"
   },
   {
    "duration": 41,
    "start_time": "2022-03-24T10:46:43.496Z"
   },
   {
    "duration": 62,
    "start_time": "2022-03-24T10:46:43.539Z"
   },
   {
    "duration": 61,
    "start_time": "2022-03-24T10:46:43.603Z"
   },
   {
    "duration": 52,
    "start_time": "2022-03-24T10:46:43.666Z"
   },
   {
    "duration": 63,
    "start_time": "2022-03-24T10:46:43.721Z"
   },
   {
    "duration": 32,
    "start_time": "2022-03-24T10:46:43.786Z"
   },
   {
    "duration": 45,
    "start_time": "2022-03-24T10:46:43.820Z"
   },
   {
    "duration": 98,
    "start_time": "2022-03-24T10:46:43.883Z"
   },
   {
    "duration": 28,
    "start_time": "2022-03-24T10:46:43.983Z"
   },
   {
    "duration": 8,
    "start_time": "2022-03-24T10:46:44.014Z"
   },
   {
    "duration": 1032,
    "start_time": "2022-03-24T10:46:44.024Z"
   },
   {
    "duration": 31,
    "start_time": "2022-03-24T10:46:45.058Z"
   },
   {
    "duration": 174,
    "start_time": "2022-03-24T10:46:45.092Z"
   },
   {
    "duration": 1072,
    "start_time": "2022-03-24T10:46:45.269Z"
   },
   {
    "duration": 12,
    "start_time": "2022-03-24T10:46:46.345Z"
   },
   {
    "duration": 71,
    "start_time": "2022-03-24T10:46:46.359Z"
   },
   {
    "duration": 878,
    "start_time": "2022-03-24T10:46:46.432Z"
   },
   {
    "duration": 21,
    "start_time": "2022-03-24T10:46:47.313Z"
   },
   {
    "duration": 77,
    "start_time": "2022-03-24T10:46:47.337Z"
   },
   {
    "duration": 903,
    "start_time": "2022-03-24T10:46:47.417Z"
   },
   {
    "duration": 1422,
    "start_time": "2022-03-24T10:46:48.323Z"
   },
   {
    "duration": 67,
    "start_time": "2022-03-24T10:46:49.747Z"
   },
   {
    "duration": 5,
    "start_time": "2022-03-24T10:46:49.820Z"
   },
   {
    "duration": 248,
    "start_time": "2022-03-24T10:46:49.828Z"
   },
   {
    "duration": 652,
    "start_time": "2022-03-24T10:46:50.079Z"
   },
   {
    "duration": 6,
    "start_time": "2022-03-24T10:46:50.733Z"
   },
   {
    "duration": 5,
    "start_time": "2022-03-24T10:46:50.742Z"
   },
   {
    "duration": 38,
    "start_time": "2022-03-24T10:46:50.750Z"
   },
   {
    "duration": 247,
    "start_time": "2022-03-24T10:46:50.791Z"
   },
   {
    "duration": 20,
    "start_time": "2022-03-24T10:46:51.041Z"
   },
   {
    "duration": 34618,
    "start_time": "2022-03-24T10:46:51.064Z"
   },
   {
    "duration": 96,
    "start_time": "2022-03-24T10:47:25.685Z"
   },
   {
    "duration": 181,
    "start_time": "2022-03-24T10:47:25.784Z"
   },
   {
    "duration": 23,
    "start_time": "2022-03-24T10:49:29.205Z"
   },
   {
    "duration": 21,
    "start_time": "2022-03-24T10:49:40.653Z"
   },
   {
    "duration": 8243,
    "start_time": "2022-03-24T10:50:27.541Z"
   },
   {
    "duration": 49882,
    "start_time": "2022-03-24T10:51:13.230Z"
   },
   {
    "duration": 33409,
    "start_time": "2022-03-24T10:52:58.906Z"
   },
   {
    "duration": 0,
    "start_time": "2022-03-24T10:54:03.502Z"
   },
   {
    "duration": 46009,
    "start_time": "2022-03-24T10:54:04.196Z"
   },
   {
    "duration": 37790,
    "start_time": "2022-03-24T10:55:02.597Z"
   },
   {
    "duration": 4,
    "start_time": "2022-03-24T11:58:36.600Z"
   },
   {
    "duration": 50,
    "start_time": "2022-03-24T11:59:19.428Z"
   },
   {
    "duration": 5861,
    "start_time": "2022-03-24T12:01:29.300Z"
   },
   {
    "duration": 52586,
    "start_time": "2022-03-24T12:01:42.467Z"
   },
   {
    "duration": 13,
    "start_time": "2022-03-24T12:08:57.042Z"
   },
   {
    "duration": 112,
    "start_time": "2022-03-24T12:44:30.875Z"
   },
   {
    "duration": 2197,
    "start_time": "2022-03-24T12:45:17.928Z"
   },
   {
    "duration": 1127,
    "start_time": "2022-03-24T12:45:20.129Z"
   },
   {
    "duration": 44,
    "start_time": "2022-03-24T12:45:21.258Z"
   },
   {
    "duration": 182,
    "start_time": "2022-03-24T12:45:21.305Z"
   },
   {
    "duration": 203,
    "start_time": "2022-03-24T12:45:21.490Z"
   },
   {
    "duration": 176,
    "start_time": "2022-03-24T12:45:21.695Z"
   },
   {
    "duration": 45,
    "start_time": "2022-03-24T12:45:21.873Z"
   },
   {
    "duration": 89,
    "start_time": "2022-03-24T12:45:21.921Z"
   },
   {
    "duration": 35,
    "start_time": "2022-03-24T12:45:22.013Z"
   },
   {
    "duration": 126,
    "start_time": "2022-03-24T12:45:22.052Z"
   },
   {
    "duration": 51,
    "start_time": "2022-03-24T12:45:22.182Z"
   },
   {
    "duration": 95,
    "start_time": "2022-03-24T12:45:22.235Z"
   },
   {
    "duration": 13,
    "start_time": "2022-03-24T12:45:22.332Z"
   },
   {
    "duration": 95,
    "start_time": "2022-03-24T12:45:22.348Z"
   },
   {
    "duration": 55,
    "start_time": "2022-03-24T12:45:22.446Z"
   },
   {
    "duration": 63,
    "start_time": "2022-03-24T12:45:22.505Z"
   },
   {
    "duration": 89,
    "start_time": "2022-03-24T12:45:22.571Z"
   },
   {
    "duration": 55,
    "start_time": "2022-03-24T12:45:22.664Z"
   },
   {
    "duration": 44,
    "start_time": "2022-03-24T12:45:22.721Z"
   },
   {
    "duration": 61,
    "start_time": "2022-03-24T12:45:22.767Z"
   },
   {
    "duration": 31,
    "start_time": "2022-03-24T12:45:22.830Z"
   },
   {
    "duration": 48,
    "start_time": "2022-03-24T12:45:22.883Z"
   },
   {
    "duration": 69,
    "start_time": "2022-03-24T12:45:22.933Z"
   },
   {
    "duration": 27,
    "start_time": "2022-03-24T12:45:23.004Z"
   },
   {
    "duration": 67,
    "start_time": "2022-03-24T12:45:23.034Z"
   },
   {
    "duration": 105,
    "start_time": "2022-03-24T12:45:23.104Z"
   },
   {
    "duration": 51,
    "start_time": "2022-03-24T12:45:23.212Z"
   },
   {
    "duration": 8,
    "start_time": "2022-03-24T12:45:23.270Z"
   },
   {
    "duration": 1102,
    "start_time": "2022-03-24T12:45:23.283Z"
   },
   {
    "duration": 19,
    "start_time": "2022-03-24T12:45:24.388Z"
   },
   {
    "duration": 157,
    "start_time": "2022-03-24T12:45:24.410Z"
   },
   {
    "duration": 1047,
    "start_time": "2022-03-24T12:45:24.570Z"
   },
   {
    "duration": 14,
    "start_time": "2022-03-24T12:45:25.620Z"
   },
   {
    "duration": 95,
    "start_time": "2022-03-24T12:45:25.636Z"
   },
   {
    "duration": 983,
    "start_time": "2022-03-24T12:45:25.734Z"
   },
   {
    "duration": 29,
    "start_time": "2022-03-24T12:45:26.720Z"
   },
   {
    "duration": 79,
    "start_time": "2022-03-24T12:45:26.753Z"
   },
   {
    "duration": 1417,
    "start_time": "2022-03-24T12:45:26.835Z"
   },
   {
    "duration": 64,
    "start_time": "2022-03-24T12:45:28.256Z"
   },
   {
    "duration": 1438,
    "start_time": "2022-03-24T12:45:28.322Z"
   },
   {
    "duration": 78,
    "start_time": "2022-03-24T12:45:29.763Z"
   },
   {
    "duration": 6,
    "start_time": "2022-03-24T12:45:29.845Z"
   },
   {
    "duration": 259,
    "start_time": "2022-03-24T12:45:29.854Z"
   },
   {
    "duration": 715,
    "start_time": "2022-03-24T12:45:30.115Z"
   },
   {
    "duration": 7,
    "start_time": "2022-03-24T12:45:30.832Z"
   },
   {
    "duration": 64,
    "start_time": "2022-03-24T12:45:30.841Z"
   },
   {
    "duration": 4,
    "start_time": "2022-03-24T12:45:30.907Z"
   },
   {
    "duration": 31,
    "start_time": "2022-03-24T12:45:30.914Z"
   },
   {
    "duration": 268,
    "start_time": "2022-03-24T12:45:30.948Z"
   },
   {
    "duration": 20,
    "start_time": "2022-03-24T12:45:31.219Z"
   },
   {
    "duration": 10,
    "start_time": "2022-03-24T12:45:31.241Z"
   },
   {
    "duration": 47,
    "start_time": "2022-03-24T12:45:31.253Z"
   },
   {
    "duration": 55,
    "start_time": "2022-03-24T12:45:31.302Z"
   },
   {
    "duration": 201,
    "start_time": "2022-03-24T12:45:31.360Z"
   },
   {
    "duration": 0,
    "start_time": "2022-03-24T12:45:31.563Z"
   },
   {
    "duration": 0,
    "start_time": "2022-03-24T12:45:31.565Z"
   },
   {
    "duration": 30,
    "start_time": "2022-03-24T12:52:12.705Z"
   },
   {
    "duration": 4,
    "start_time": "2022-03-24T12:53:01.611Z"
   },
   {
    "duration": 213,
    "start_time": "2022-03-24T12:53:02.929Z"
   },
   {
    "duration": 16,
    "start_time": "2022-03-24T12:54:53.446Z"
   },
   {
    "duration": 16,
    "start_time": "2022-03-24T12:55:56.741Z"
   },
   {
    "duration": 16,
    "start_time": "2022-03-24T12:56:15.069Z"
   },
   {
    "duration": 56,
    "start_time": "2022-03-24T12:56:30.404Z"
   },
   {
    "duration": 60,
    "start_time": "2022-03-24T12:56:43.194Z"
   },
   {
    "duration": 5,
    "start_time": "2022-03-24T12:56:56.402Z"
   },
   {
    "duration": 177,
    "start_time": "2022-03-24T12:57:00.962Z"
   },
   {
    "duration": 176,
    "start_time": "2022-03-24T12:57:17.055Z"
   },
   {
    "duration": 493469,
    "start_time": "2022-03-24T12:57:28.320Z"
   },
   {
    "duration": 883,
    "start_time": "2022-03-24T14:05:21.250Z"
   },
   {
    "duration": 5,
    "start_time": "2022-03-24T14:05:41.926Z"
   },
   {
    "duration": 5,
    "start_time": "2022-03-24T14:05:48.878Z"
   },
   {
    "duration": 5,
    "start_time": "2022-03-24T14:05:52.096Z"
   },
   {
    "duration": 102,
    "start_time": "2022-03-24T14:14:12.475Z"
   },
   {
    "duration": 168,
    "start_time": "2022-03-24T14:14:20.380Z"
   },
   {
    "duration": 6,
    "start_time": "2022-03-24T14:14:42.380Z"
   },
   {
    "duration": 65024,
    "start_time": "2022-03-24T14:14:46.162Z"
   },
   {
    "duration": 79,
    "start_time": "2022-03-24T14:16:22.639Z"
   },
   {
    "duration": 4333,
    "start_time": "2022-03-25T17:41:25.889Z"
   },
   {
    "duration": 1576,
    "start_time": "2022-03-25T17:41:30.225Z"
   },
   {
    "duration": 54,
    "start_time": "2022-03-25T17:41:31.804Z"
   },
   {
    "duration": 180,
    "start_time": "2022-03-25T17:41:31.861Z"
   },
   {
    "duration": 308,
    "start_time": "2022-03-25T17:41:32.058Z"
   },
   {
    "duration": 289,
    "start_time": "2022-03-25T17:41:32.370Z"
   },
   {
    "duration": 9,
    "start_time": "2022-03-25T17:41:32.662Z"
   },
   {
    "duration": 70,
    "start_time": "2022-03-25T17:41:32.673Z"
   },
   {
    "duration": 69,
    "start_time": "2022-03-25T17:41:32.746Z"
   },
   {
    "duration": 168,
    "start_time": "2022-03-25T17:41:32.817Z"
   },
   {
    "duration": 70,
    "start_time": "2022-03-25T17:41:32.988Z"
   },
   {
    "duration": 138,
    "start_time": "2022-03-25T17:41:33.064Z"
   },
   {
    "duration": 14,
    "start_time": "2022-03-25T17:41:33.205Z"
   },
   {
    "duration": 77,
    "start_time": "2022-03-25T17:41:33.223Z"
   },
   {
    "duration": 32,
    "start_time": "2022-03-25T17:41:33.303Z"
   },
   {
    "duration": 79,
    "start_time": "2022-03-25T17:41:33.339Z"
   },
   {
    "duration": 84,
    "start_time": "2022-03-25T17:41:33.421Z"
   },
   {
    "duration": 78,
    "start_time": "2022-03-25T17:41:33.508Z"
   },
   {
    "duration": 72,
    "start_time": "2022-03-25T17:41:33.589Z"
   },
   {
    "duration": 81,
    "start_time": "2022-03-25T17:41:33.664Z"
   },
   {
    "duration": 110,
    "start_time": "2022-03-25T17:41:33.748Z"
   },
   {
    "duration": 123,
    "start_time": "2022-03-25T17:41:33.862Z"
   },
   {
    "duration": 101,
    "start_time": "2022-03-25T17:41:33.994Z"
   },
   {
    "duration": 69,
    "start_time": "2022-03-25T17:41:34.098Z"
   },
   {
    "duration": 149,
    "start_time": "2022-03-25T17:41:34.169Z"
   },
   {
    "duration": 192,
    "start_time": "2022-03-25T17:41:34.322Z"
   },
   {
    "duration": 40,
    "start_time": "2022-03-25T17:41:34.518Z"
   },
   {
    "duration": 11,
    "start_time": "2022-03-25T17:41:34.560Z"
   },
   {
    "duration": 1817,
    "start_time": "2022-03-25T17:41:34.574Z"
   },
   {
    "duration": 24,
    "start_time": "2022-03-25T17:41:36.393Z"
   },
   {
    "duration": 311,
    "start_time": "2022-03-25T17:41:36.444Z"
   },
   {
    "duration": 3089,
    "start_time": "2022-03-25T17:41:36.757Z"
   },
   {
    "duration": 21,
    "start_time": "2022-03-25T17:41:39.849Z"
   },
   {
    "duration": 190,
    "start_time": "2022-03-25T17:41:39.873Z"
   },
   {
    "duration": 1833,
    "start_time": "2022-03-25T17:41:40.067Z"
   },
   {
    "duration": 44,
    "start_time": "2022-03-25T17:41:41.944Z"
   },
   {
    "duration": 178,
    "start_time": "2022-03-25T17:41:41.991Z"
   },
   {
    "duration": 2689,
    "start_time": "2022-03-25T17:41:42.175Z"
   },
   {
    "duration": 116,
    "start_time": "2022-03-25T17:41:44.867Z"
   },
   {
    "duration": 2037,
    "start_time": "2022-03-25T17:41:44.986Z"
   },
   {
    "duration": 89,
    "start_time": "2022-03-25T17:41:47.029Z"
   },
   {
    "duration": 6,
    "start_time": "2022-03-25T17:41:47.121Z"
   },
   {
    "duration": 329,
    "start_time": "2022-03-25T17:41:47.128Z"
   },
   {
    "duration": 1705,
    "start_time": "2022-03-25T17:41:47.461Z"
   },
   {
    "duration": 15,
    "start_time": "2022-03-25T17:41:49.169Z"
   },
   {
    "duration": 144,
    "start_time": "2022-03-25T17:41:49.187Z"
   },
   {
    "duration": 4,
    "start_time": "2022-03-25T17:41:49.334Z"
   },
   {
    "duration": 78,
    "start_time": "2022-03-25T17:41:49.351Z"
   },
   {
    "duration": 747,
    "start_time": "2022-03-25T17:41:49.432Z"
   },
   {
    "duration": 71,
    "start_time": "2022-03-25T17:41:50.183Z"
   },
   {
    "duration": 9,
    "start_time": "2022-03-25T17:41:50.257Z"
   },
   {
    "duration": 12,
    "start_time": "2022-03-25T17:41:50.269Z"
   },
   {
    "duration": 192,
    "start_time": "2022-03-25T17:41:50.285Z"
   },
   {
    "duration": 88,
    "start_time": "2022-03-25T17:41:50.482Z"
   },
   {
    "duration": 676,
    "start_time": "2022-03-25T17:41:50.575Z"
   },
   {
    "duration": 117,
    "start_time": "2022-03-25T17:41:51.255Z"
   },
   {
    "duration": 114,
    "start_time": "2022-03-25T17:41:51.381Z"
   },
   {
    "duration": 8,
    "start_time": "2022-03-25T17:41:51.500Z"
   },
   {
    "duration": 20,
    "start_time": "2022-03-25T17:41:51.510Z"
   },
   {
    "duration": 5,
    "start_time": "2022-03-25T17:41:51.532Z"
   },
   {
    "duration": 6988,
    "start_time": "2022-03-25T17:58:00.949Z"
   },
   {
    "duration": 5,
    "start_time": "2022-03-25T17:58:07.941Z"
   },
   {
    "duration": 6,
    "start_time": "2022-03-25T17:58:07.949Z"
   },
   {
    "duration": 12,
    "start_time": "2022-03-25T17:58:07.958Z"
   },
   {
    "duration": 9,
    "start_time": "2022-03-25T17:58:07.973Z"
   },
   {
    "duration": 8,
    "start_time": "2022-03-25T17:58:07.984Z"
   },
   {
    "duration": 239,
    "start_time": "2022-03-25T17:58:07.995Z"
   },
   {
    "duration": 5,
    "start_time": "2022-03-25T17:58:08.236Z"
   },
   {
    "duration": 2470,
    "start_time": "2022-03-25T17:58:24.006Z"
   },
   {
    "duration": 1531,
    "start_time": "2022-03-25T17:58:26.480Z"
   },
   {
    "duration": 53,
    "start_time": "2022-03-25T17:58:28.013Z"
   },
   {
    "duration": 138,
    "start_time": "2022-03-25T17:58:28.070Z"
   },
   {
    "duration": 191,
    "start_time": "2022-03-25T17:58:28.211Z"
   },
   {
    "duration": 299,
    "start_time": "2022-03-25T17:58:28.405Z"
   },
   {
    "duration": 13,
    "start_time": "2022-03-25T17:58:28.708Z"
   },
   {
    "duration": 56,
    "start_time": "2022-03-25T17:58:28.743Z"
   },
   {
    "duration": 51,
    "start_time": "2022-03-25T17:58:28.802Z"
   },
   {
    "duration": 116,
    "start_time": "2022-03-25T17:58:28.855Z"
   },
   {
    "duration": 81,
    "start_time": "2022-03-25T17:58:28.979Z"
   },
   {
    "duration": 98,
    "start_time": "2022-03-25T17:58:29.063Z"
   },
   {
    "duration": 15,
    "start_time": "2022-03-25T17:58:29.164Z"
   },
   {
    "duration": 91,
    "start_time": "2022-03-25T17:58:29.186Z"
   },
   {
    "duration": 64,
    "start_time": "2022-03-25T17:58:29.279Z"
   },
   {
    "duration": 71,
    "start_time": "2022-03-25T17:58:29.347Z"
   },
   {
    "duration": 90,
    "start_time": "2022-03-25T17:58:29.421Z"
   },
   {
    "duration": 67,
    "start_time": "2022-03-25T17:58:29.513Z"
   },
   {
    "duration": 42,
    "start_time": "2022-03-25T17:58:29.583Z"
   },
   {
    "duration": 61,
    "start_time": "2022-03-25T17:58:29.628Z"
   },
   {
    "duration": 30,
    "start_time": "2022-03-25T17:58:29.692Z"
   },
   {
    "duration": 45,
    "start_time": "2022-03-25T17:58:29.744Z"
   },
   {
    "duration": 96,
    "start_time": "2022-03-25T17:58:29.793Z"
   },
   {
    "duration": 31,
    "start_time": "2022-03-25T17:58:29.892Z"
   },
   {
    "duration": 62,
    "start_time": "2022-03-25T17:58:29.925Z"
   },
   {
    "duration": 115,
    "start_time": "2022-03-25T17:58:29.990Z"
   },
   {
    "duration": 42,
    "start_time": "2022-03-25T17:58:30.108Z"
   },
   {
    "duration": 28,
    "start_time": "2022-03-25T17:58:30.153Z"
   },
   {
    "duration": 1120,
    "start_time": "2022-03-25T17:58:30.183Z"
   },
   {
    "duration": 23,
    "start_time": "2022-03-25T17:58:31.307Z"
   },
   {
    "duration": 144,
    "start_time": "2022-03-25T17:58:31.343Z"
   },
   {
    "duration": 999,
    "start_time": "2022-03-25T17:58:31.490Z"
   },
   {
    "duration": 14,
    "start_time": "2022-03-25T17:58:32.492Z"
   },
   {
    "duration": 90,
    "start_time": "2022-03-25T17:58:32.509Z"
   },
   {
    "duration": 1030,
    "start_time": "2022-03-25T17:58:32.602Z"
   },
   {
    "duration": 24,
    "start_time": "2022-03-25T17:58:33.642Z"
   },
   {
    "duration": 50,
    "start_time": "2022-03-25T17:58:33.669Z"
   },
   {
    "duration": 912,
    "start_time": "2022-03-25T17:58:33.721Z"
   },
   {
    "duration": 65,
    "start_time": "2022-03-25T17:58:34.644Z"
   },
   {
    "duration": 1592,
    "start_time": "2022-03-25T17:58:34.712Z"
   },
   {
    "duration": 67,
    "start_time": "2022-03-25T17:58:36.313Z"
   },
   {
    "duration": 7,
    "start_time": "2022-03-25T17:58:36.383Z"
   },
   {
    "duration": 246,
    "start_time": "2022-03-25T17:58:36.392Z"
   },
   {
    "duration": 630,
    "start_time": "2022-03-25T17:58:36.641Z"
   },
   {
    "duration": 8,
    "start_time": "2022-03-25T17:58:37.274Z"
   },
   {
    "duration": 76,
    "start_time": "2022-03-25T17:58:37.285Z"
   },
   {
    "duration": 5,
    "start_time": "2022-03-25T17:58:37.364Z"
   },
   {
    "duration": 36,
    "start_time": "2022-03-25T17:58:37.372Z"
   },
   {
    "duration": 392,
    "start_time": "2022-03-25T17:58:37.411Z"
   },
   {
    "duration": 22,
    "start_time": "2022-03-25T17:58:37.806Z"
   },
   {
    "duration": 3,
    "start_time": "2022-03-25T17:58:37.843Z"
   },
   {
    "duration": 28,
    "start_time": "2022-03-25T17:58:37.849Z"
   },
   {
    "duration": 44,
    "start_time": "2022-03-25T17:58:37.880Z"
   },
   {
    "duration": 4,
    "start_time": "2022-03-25T17:58:37.928Z"
   },
   {
    "duration": 226,
    "start_time": "2022-03-25T17:58:37.934Z"
   },
   {
    "duration": 53,
    "start_time": "2022-03-25T17:58:38.163Z"
   },
   {
    "duration": 74,
    "start_time": "2022-03-25T17:58:38.219Z"
   },
   {
    "duration": 4,
    "start_time": "2022-03-25T17:58:38.296Z"
   },
   {
    "duration": 13,
    "start_time": "2022-03-25T17:58:38.305Z"
   },
   {
    "duration": 22,
    "start_time": "2022-03-25T17:58:38.321Z"
   },
   {
    "duration": 56120204,
    "start_time": "2022-03-25T17:58:38.346Z"
   },
   {
    "duration": 92507,
    "start_time": "2022-03-26T09:33:58.552Z"
   },
   {
    "duration": 4,
    "start_time": "2022-03-26T09:35:31.061Z"
   },
   {
    "duration": 14,
    "start_time": "2022-03-26T09:35:31.067Z"
   },
   {
    "duration": 17,
    "start_time": "2022-03-26T09:35:31.083Z"
   },
   {
    "duration": 12,
    "start_time": "2022-03-26T09:35:31.102Z"
   },
   {
    "duration": 34,
    "start_time": "2022-03-26T09:35:31.117Z"
   },
   {
    "duration": 569,
    "start_time": "2022-03-26T09:35:31.153Z"
   },
   {
    "duration": 5,
    "start_time": "2022-03-26T09:35:31.724Z"
   },
   {
    "duration": 170,
    "start_time": "2022-03-26T10:50:44.734Z"
   },
   {
    "duration": 293,
    "start_time": "2022-03-26T10:50:53.563Z"
   },
   {
    "duration": 112,
    "start_time": "2022-03-26T10:51:24.736Z"
   },
   {
    "duration": 67444,
    "start_time": "2022-03-26T10:51:29.653Z"
   },
   {
    "duration": 247,
    "start_time": "2022-03-26T10:53:29.745Z"
   },
   {
    "duration": 100633,
    "start_time": "2022-03-26T10:53:36.388Z"
   },
   {
    "duration": 15447,
    "start_time": "2022-03-26T10:55:35.826Z"
   },
   {
    "duration": 120245,
    "start_time": "2022-03-26T10:56:11.745Z"
   },
   {
    "duration": 2268,
    "start_time": "2022-03-26T11:10:11.551Z"
   },
   {
    "duration": 6504,
    "start_time": "2022-03-26T11:10:13.821Z"
   },
   {
    "duration": 42,
    "start_time": "2022-03-26T11:10:20.327Z"
   },
   {
    "duration": 129,
    "start_time": "2022-03-26T11:10:20.373Z"
   },
   {
    "duration": 175,
    "start_time": "2022-03-26T11:10:20.504Z"
   },
   {
    "duration": 159,
    "start_time": "2022-03-26T11:10:20.682Z"
   },
   {
    "duration": 23,
    "start_time": "2022-03-26T11:10:20.843Z"
   },
   {
    "duration": 33,
    "start_time": "2022-03-26T11:10:20.868Z"
   },
   {
    "duration": 29,
    "start_time": "2022-03-26T11:10:20.903Z"
   },
   {
    "duration": 136,
    "start_time": "2022-03-26T11:10:20.936Z"
   },
   {
    "duration": 56,
    "start_time": "2022-03-26T11:10:21.075Z"
   },
   {
    "duration": 100,
    "start_time": "2022-03-26T11:10:21.133Z"
   },
   {
    "duration": 12,
    "start_time": "2022-03-26T11:10:21.236Z"
   },
   {
    "duration": 56,
    "start_time": "2022-03-26T11:10:21.251Z"
   },
   {
    "duration": 40,
    "start_time": "2022-03-26T11:10:21.309Z"
   },
   {
    "duration": 47,
    "start_time": "2022-03-26T11:10:21.351Z"
   },
   {
    "duration": 44,
    "start_time": "2022-03-26T11:10:21.401Z"
   },
   {
    "duration": 63,
    "start_time": "2022-03-26T11:10:21.447Z"
   },
   {
    "duration": 60,
    "start_time": "2022-03-26T11:10:21.512Z"
   },
   {
    "duration": 46,
    "start_time": "2022-03-26T11:10:21.574Z"
   },
   {
    "duration": 46,
    "start_time": "2022-03-26T11:10:21.622Z"
   },
   {
    "duration": 40,
    "start_time": "2022-03-26T11:10:21.670Z"
   },
   {
    "duration": 73,
    "start_time": "2022-03-26T11:10:21.712Z"
   },
   {
    "duration": 28,
    "start_time": "2022-03-26T11:10:21.787Z"
   },
   {
    "duration": 59,
    "start_time": "2022-03-26T11:10:21.817Z"
   },
   {
    "duration": 108,
    "start_time": "2022-03-26T11:10:21.878Z"
   },
   {
    "duration": 61,
    "start_time": "2022-03-26T11:10:21.989Z"
   },
   {
    "duration": 21,
    "start_time": "2022-03-26T11:10:22.057Z"
   },
   {
    "duration": 1030,
    "start_time": "2022-03-26T11:10:22.080Z"
   },
   {
    "duration": 18,
    "start_time": "2022-03-26T11:10:23.112Z"
   },
   {
    "duration": 158,
    "start_time": "2022-03-26T11:10:23.132Z"
   },
   {
    "duration": 945,
    "start_time": "2022-03-26T11:10:23.292Z"
   },
   {
    "duration": 29,
    "start_time": "2022-03-26T11:10:24.239Z"
   },
   {
    "duration": 48,
    "start_time": "2022-03-26T11:10:24.270Z"
   },
   {
    "duration": 854,
    "start_time": "2022-03-26T11:10:24.320Z"
   },
   {
    "duration": 21,
    "start_time": "2022-03-26T11:10:25.176Z"
   },
   {
    "duration": 70,
    "start_time": "2022-03-26T11:10:25.199Z"
   },
   {
    "duration": 859,
    "start_time": "2022-03-26T11:10:25.271Z"
   },
   {
    "duration": 58,
    "start_time": "2022-03-26T11:10:26.132Z"
   },
   {
    "duration": 1134,
    "start_time": "2022-03-26T11:10:26.192Z"
   },
   {
    "duration": 65,
    "start_time": "2022-03-26T11:10:27.328Z"
   },
   {
    "duration": 6,
    "start_time": "2022-03-26T11:10:27.395Z"
   },
   {
    "duration": 229,
    "start_time": "2022-03-26T11:10:27.403Z"
   },
   {
    "duration": 604,
    "start_time": "2022-03-26T11:10:27.637Z"
   },
   {
    "duration": 6,
    "start_time": "2022-03-26T11:10:28.244Z"
   },
   {
    "duration": 40,
    "start_time": "2022-03-26T11:10:28.268Z"
   },
   {
    "duration": 4,
    "start_time": "2022-03-26T11:10:28.310Z"
   },
   {
    "duration": 18,
    "start_time": "2022-03-26T11:10:28.316Z"
   },
   {
    "duration": 256,
    "start_time": "2022-03-26T11:10:28.336Z"
   },
   {
    "duration": 18,
    "start_time": "2022-03-26T11:10:28.594Z"
   },
   {
    "duration": 4,
    "start_time": "2022-03-26T11:10:28.614Z"
   },
   {
    "duration": 5,
    "start_time": "2022-03-26T11:10:28.620Z"
   },
   {
    "duration": 58,
    "start_time": "2022-03-26T11:10:28.627Z"
   },
   {
    "duration": 3,
    "start_time": "2022-03-26T11:10:28.687Z"
   },
   {
    "duration": 204,
    "start_time": "2022-03-26T11:10:28.692Z"
   },
   {
    "duration": 49,
    "start_time": "2022-03-26T11:10:28.898Z"
   },
   {
    "duration": 55,
    "start_time": "2022-03-26T11:10:28.949Z"
   },
   {
    "duration": 5,
    "start_time": "2022-03-26T11:10:29.006Z"
   },
   {
    "duration": 5,
    "start_time": "2022-03-26T11:10:29.013Z"
   },
   {
    "duration": 5,
    "start_time": "2022-03-26T11:10:29.020Z"
   },
   {
    "duration": 5,
    "start_time": "2022-03-26T11:10:29.027Z"
   },
   {
    "duration": 5,
    "start_time": "2022-03-26T11:10:29.068Z"
   },
   {
    "duration": 6,
    "start_time": "2022-03-26T11:10:29.075Z"
   },
   {
    "duration": 5,
    "start_time": "2022-03-26T11:10:29.084Z"
   },
   {
    "duration": 7,
    "start_time": "2022-03-26T11:10:29.091Z"
   },
   {
    "duration": 5,
    "start_time": "2022-03-26T11:10:29.099Z"
   },
   {
    "duration": 5,
    "start_time": "2022-03-26T11:10:29.106Z"
   },
   {
    "duration": 7,
    "start_time": "2022-03-26T11:10:29.113Z"
   },
   {
    "duration": 45,
    "start_time": "2022-03-26T11:10:29.122Z"
   },
   {
    "duration": 4,
    "start_time": "2022-03-26T11:10:29.170Z"
   },
   {
    "duration": 34802,
    "start_time": "2022-03-26T11:10:29.177Z"
   },
   {
    "duration": 59,
    "start_time": "2022-03-26T11:13:18.040Z"
   },
   {
    "duration": 9,
    "start_time": "2022-03-26T18:42:01.062Z"
   },
   {
    "duration": 3,
    "start_time": "2022-03-26T18:42:12.869Z"
   },
   {
    "duration": 121,
    "start_time": "2022-03-26T18:42:17.826Z"
   },
   {
    "duration": 3,
    "start_time": "2022-03-26T18:42:19.729Z"
   },
   {
    "duration": 3,
    "start_time": "2022-03-26T18:42:28.662Z"
   },
   {
    "duration": 3,
    "start_time": "2022-03-26T18:42:30.158Z"
   },
   {
    "duration": 2575,
    "start_time": "2022-03-26T18:42:49.527Z"
   },
   {
    "duration": 1064,
    "start_time": "2022-03-26T18:42:52.104Z"
   },
   {
    "duration": 18,
    "start_time": "2022-03-26T18:42:53.170Z"
   },
   {
    "duration": 122,
    "start_time": "2022-03-26T18:42:53.190Z"
   },
   {
    "duration": 123,
    "start_time": "2022-03-26T18:42:53.313Z"
   },
   {
    "duration": 125,
    "start_time": "2022-03-26T18:42:53.438Z"
   },
   {
    "duration": 4,
    "start_time": "2022-03-26T18:42:53.565Z"
   },
   {
    "duration": 23,
    "start_time": "2022-03-26T18:42:53.571Z"
   },
   {
    "duration": 16,
    "start_time": "2022-03-26T18:42:53.595Z"
   },
   {
    "duration": 95,
    "start_time": "2022-03-26T18:42:53.613Z"
   },
   {
    "duration": 30,
    "start_time": "2022-03-26T18:42:53.710Z"
   },
   {
    "duration": 63,
    "start_time": "2022-03-26T18:42:53.742Z"
   },
   {
    "duration": 10,
    "start_time": "2022-03-26T18:42:53.806Z"
   },
   {
    "duration": 30,
    "start_time": "2022-03-26T18:42:53.817Z"
   },
   {
    "duration": 17,
    "start_time": "2022-03-26T18:42:53.863Z"
   },
   {
    "duration": 31,
    "start_time": "2022-03-26T18:42:53.882Z"
   },
   {
    "duration": 32,
    "start_time": "2022-03-26T18:42:53.914Z"
   },
   {
    "duration": 36,
    "start_time": "2022-03-26T18:42:53.963Z"
   },
   {
    "duration": 30,
    "start_time": "2022-03-26T18:42:54.001Z"
   },
   {
    "duration": 48,
    "start_time": "2022-03-26T18:42:54.033Z"
   },
   {
    "duration": 21,
    "start_time": "2022-03-26T18:42:54.083Z"
   },
   {
    "duration": 31,
    "start_time": "2022-03-26T18:42:54.106Z"
   },
   {
    "duration": 67,
    "start_time": "2022-03-26T18:42:54.138Z"
   },
   {
    "duration": 20,
    "start_time": "2022-03-26T18:42:54.207Z"
   },
   {
    "duration": 41,
    "start_time": "2022-03-26T18:42:54.229Z"
   },
   {
    "duration": 69,
    "start_time": "2022-03-26T18:42:54.272Z"
   },
   {
    "duration": 31,
    "start_time": "2022-03-26T18:42:54.343Z"
   },
   {
    "duration": 7,
    "start_time": "2022-03-26T18:42:54.378Z"
   },
   {
    "duration": 657,
    "start_time": "2022-03-26T18:42:54.387Z"
   },
   {
    "duration": 21,
    "start_time": "2022-03-26T18:42:55.045Z"
   },
   {
    "duration": 110,
    "start_time": "2022-03-26T18:42:55.068Z"
   },
   {
    "duration": 611,
    "start_time": "2022-03-26T18:42:55.179Z"
   },
   {
    "duration": 9,
    "start_time": "2022-03-26T18:42:55.792Z"
   },
   {
    "duration": 29,
    "start_time": "2022-03-26T18:42:55.803Z"
   },
   {
    "duration": 544,
    "start_time": "2022-03-26T18:42:55.833Z"
   },
   {
    "duration": 15,
    "start_time": "2022-03-26T18:42:56.378Z"
   },
   {
    "duration": 28,
    "start_time": "2022-03-26T18:42:56.394Z"
   },
   {
    "duration": 548,
    "start_time": "2022-03-26T18:42:56.424Z"
   },
   {
    "duration": 33,
    "start_time": "2022-03-26T18:42:56.973Z"
   },
   {
    "duration": 737,
    "start_time": "2022-03-26T18:42:57.007Z"
   },
   {
    "duration": 43,
    "start_time": "2022-03-26T18:42:57.746Z"
   },
   {
    "duration": 4,
    "start_time": "2022-03-26T18:42:57.790Z"
   },
   {
    "duration": 207,
    "start_time": "2022-03-26T18:42:57.796Z"
   },
   {
    "duration": 433,
    "start_time": "2022-03-26T18:42:58.004Z"
   },
   {
    "duration": 5,
    "start_time": "2022-03-26T18:42:58.439Z"
   },
   {
    "duration": 39,
    "start_time": "2022-03-26T18:42:58.445Z"
   },
   {
    "duration": 2,
    "start_time": "2022-03-26T18:42:58.486Z"
   },
   {
    "duration": 12,
    "start_time": "2022-03-26T18:42:58.490Z"
   },
   {
    "duration": 185,
    "start_time": "2022-03-26T18:42:58.504Z"
   },
   {
    "duration": 14,
    "start_time": "2022-03-26T18:42:58.690Z"
   },
   {
    "duration": 3,
    "start_time": "2022-03-26T18:42:58.705Z"
   },
   {
    "duration": 6,
    "start_time": "2022-03-26T18:42:58.709Z"
   },
   {
    "duration": 19,
    "start_time": "2022-03-26T18:42:58.716Z"
   },
   {
    "duration": 3,
    "start_time": "2022-03-26T18:42:58.736Z"
   },
   {
    "duration": 114,
    "start_time": "2022-03-26T18:42:58.762Z"
   },
   {
    "duration": 37,
    "start_time": "2022-03-26T18:42:58.877Z"
   },
   {
    "duration": 21,
    "start_time": "2022-03-26T18:42:58.916Z"
   },
   {
    "duration": 8,
    "start_time": "2022-03-26T18:42:58.938Z"
   },
   {
    "duration": 2,
    "start_time": "2022-03-26T18:42:58.963Z"
   },
   {
    "duration": 4,
    "start_time": "2022-03-26T18:42:58.966Z"
   },
   {
    "duration": 4,
    "start_time": "2022-03-26T18:42:58.972Z"
   },
   {
    "duration": 5,
    "start_time": "2022-03-26T18:42:58.978Z"
   },
   {
    "duration": 6,
    "start_time": "2022-03-26T18:42:58.984Z"
   },
   {
    "duration": 6,
    "start_time": "2022-03-26T18:42:58.991Z"
   },
   {
    "duration": 7,
    "start_time": "2022-03-26T18:42:58.998Z"
   },
   {
    "duration": 5,
    "start_time": "2022-03-26T18:42:59.006Z"
   },
   {
    "duration": 6,
    "start_time": "2022-03-26T18:42:59.013Z"
   },
   {
    "duration": 6,
    "start_time": "2022-03-26T18:42:59.021Z"
   },
   {
    "duration": 7,
    "start_time": "2022-03-26T18:42:59.028Z"
   },
   {
    "duration": 5,
    "start_time": "2022-03-26T18:42:59.036Z"
   },
   {
    "duration": 13132922,
    "start_time": "2022-03-26T18:42:59.042Z"
   },
   {
    "duration": 2106,
    "start_time": "2022-03-27T08:59:36.100Z"
   },
   {
    "duration": 808,
    "start_time": "2022-03-27T08:59:38.209Z"
   },
   {
    "duration": 28,
    "start_time": "2022-03-27T08:59:39.019Z"
   },
   {
    "duration": 123,
    "start_time": "2022-03-27T08:59:39.062Z"
   },
   {
    "duration": 135,
    "start_time": "2022-03-27T08:59:39.187Z"
   },
   {
    "duration": 240,
    "start_time": "2022-03-27T08:59:39.324Z"
   },
   {
    "duration": 7,
    "start_time": "2022-03-27T08:59:39.566Z"
   },
   {
    "duration": 34,
    "start_time": "2022-03-27T08:59:39.575Z"
   },
   {
    "duration": 22,
    "start_time": "2022-03-27T08:59:39.611Z"
   },
   {
    "duration": 109,
    "start_time": "2022-03-27T08:59:39.637Z"
   },
   {
    "duration": 39,
    "start_time": "2022-03-27T08:59:39.748Z"
   },
   {
    "duration": 92,
    "start_time": "2022-03-27T08:59:39.789Z"
   },
   {
    "duration": 12,
    "start_time": "2022-03-27T08:59:39.884Z"
   },
   {
    "duration": 32,
    "start_time": "2022-03-27T08:59:39.898Z"
   },
   {
    "duration": 41,
    "start_time": "2022-03-27T08:59:39.932Z"
   },
   {
    "duration": 44,
    "start_time": "2022-03-27T08:59:39.975Z"
   },
   {
    "duration": 69,
    "start_time": "2022-03-27T08:59:40.021Z"
   },
   {
    "duration": 33,
    "start_time": "2022-03-27T08:59:40.092Z"
   },
   {
    "duration": 43,
    "start_time": "2022-03-27T08:59:40.127Z"
   },
   {
    "duration": 42,
    "start_time": "2022-03-27T08:59:40.171Z"
   },
   {
    "duration": 21,
    "start_time": "2022-03-27T08:59:40.215Z"
   },
   {
    "duration": 69,
    "start_time": "2022-03-27T08:59:40.238Z"
   },
   {
    "duration": 67,
    "start_time": "2022-03-27T08:59:40.309Z"
   },
   {
    "duration": 35,
    "start_time": "2022-03-27T08:59:40.378Z"
   },
   {
    "duration": 73,
    "start_time": "2022-03-27T08:59:40.416Z"
   },
   {
    "duration": 118,
    "start_time": "2022-03-27T08:59:40.491Z"
   },
   {
    "duration": 23,
    "start_time": "2022-03-27T08:59:40.611Z"
   },
   {
    "duration": 8,
    "start_time": "2022-03-27T08:59:40.639Z"
   },
   {
    "duration": 719,
    "start_time": "2022-03-27T08:59:40.663Z"
   },
   {
    "duration": 12,
    "start_time": "2022-03-27T08:59:41.384Z"
   },
   {
    "duration": 160,
    "start_time": "2022-03-27T08:59:41.398Z"
   },
   {
    "duration": 1078,
    "start_time": "2022-03-27T08:59:41.563Z"
   },
   {
    "duration": 20,
    "start_time": "2022-03-27T08:59:42.643Z"
   },
   {
    "duration": 32,
    "start_time": "2022-03-27T08:59:42.664Z"
   },
   {
    "duration": 572,
    "start_time": "2022-03-27T08:59:42.698Z"
   },
   {
    "duration": 20,
    "start_time": "2022-03-27T08:59:43.272Z"
   },
   {
    "duration": 36,
    "start_time": "2022-03-27T08:59:43.294Z"
   },
   {
    "duration": 959,
    "start_time": "2022-03-27T08:59:43.332Z"
   },
   {
    "duration": 47,
    "start_time": "2022-03-27T08:59:44.293Z"
   },
   {
    "duration": 1101,
    "start_time": "2022-03-27T08:59:44.363Z"
   },
   {
    "duration": 48,
    "start_time": "2022-03-27T08:59:45.466Z"
   },
   {
    "duration": 4,
    "start_time": "2022-03-27T08:59:45.516Z"
   },
   {
    "duration": 227,
    "start_time": "2022-03-27T08:59:45.522Z"
   },
   {
    "duration": 475,
    "start_time": "2022-03-27T08:59:45.751Z"
   },
   {
    "duration": 5,
    "start_time": "2022-03-27T08:59:46.228Z"
   },
   {
    "duration": 3,
    "start_time": "2022-03-27T08:59:46.235Z"
   },
   {
    "duration": 28,
    "start_time": "2022-03-27T08:59:46.240Z"
   },
   {
    "duration": 176,
    "start_time": "2022-03-27T08:59:46.270Z"
   },
   {
    "duration": 26,
    "start_time": "2022-03-27T08:59:46.449Z"
   },
   {
    "duration": 3,
    "start_time": "2022-03-27T08:59:46.477Z"
   },
   {
    "duration": 7,
    "start_time": "2022-03-27T08:59:46.481Z"
   },
   {
    "duration": 17,
    "start_time": "2022-03-27T08:59:46.489Z"
   },
   {
    "duration": 283080,
    "start_time": "2022-03-27T08:59:46.508Z"
   },
   {
    "duration": 2,
    "start_time": "2022-03-27T09:04:29.590Z"
   },
   {
    "duration": 22,
    "start_time": "2022-03-27T09:04:29.594Z"
   },
   {
    "duration": 3,
    "start_time": "2022-03-27T09:04:29.617Z"
   },
   {
    "duration": 136,
    "start_time": "2022-03-27T09:04:29.621Z"
   },
   {
    "duration": 42,
    "start_time": "2022-03-27T09:04:29.759Z"
   },
   {
    "duration": 25,
    "start_time": "2022-03-27T09:04:29.803Z"
   },
   {
    "duration": 3,
    "start_time": "2022-03-27T09:04:29.829Z"
   },
   {
    "duration": 30,
    "start_time": "2022-03-27T09:04:29.833Z"
   },
   {
    "duration": 1455,
    "start_time": "2022-03-27T09:07:46.462Z"
   },
   {
    "duration": 724,
    "start_time": "2022-03-27T09:07:47.919Z"
   },
   {
    "duration": 25,
    "start_time": "2022-03-27T09:07:48.645Z"
   },
   {
    "duration": 118,
    "start_time": "2022-03-27T09:07:48.671Z"
   },
   {
    "duration": 125,
    "start_time": "2022-03-27T09:07:48.791Z"
   },
   {
    "duration": 122,
    "start_time": "2022-03-27T09:07:48.917Z"
   },
   {
    "duration": 5,
    "start_time": "2022-03-27T09:07:49.041Z"
   },
   {
    "duration": 35,
    "start_time": "2022-03-27T09:07:49.048Z"
   },
   {
    "duration": 17,
    "start_time": "2022-03-27T09:07:49.085Z"
   },
   {
    "duration": 90,
    "start_time": "2022-03-27T09:07:49.103Z"
   },
   {
    "duration": 31,
    "start_time": "2022-03-27T09:07:49.195Z"
   },
   {
    "duration": 60,
    "start_time": "2022-03-27T09:07:49.228Z"
   },
   {
    "duration": 10,
    "start_time": "2022-03-27T09:07:49.290Z"
   },
   {
    "duration": 31,
    "start_time": "2022-03-27T09:07:49.302Z"
   },
   {
    "duration": 37,
    "start_time": "2022-03-27T09:07:49.334Z"
   },
   {
    "duration": 32,
    "start_time": "2022-03-27T09:07:49.372Z"
   },
   {
    "duration": 32,
    "start_time": "2022-03-27T09:07:49.405Z"
   },
   {
    "duration": 49,
    "start_time": "2022-03-27T09:07:49.438Z"
   },
   {
    "duration": 29,
    "start_time": "2022-03-27T09:07:49.489Z"
   },
   {
    "duration": 30,
    "start_time": "2022-03-27T09:07:49.519Z"
   },
   {
    "duration": 32,
    "start_time": "2022-03-27T09:07:49.551Z"
   },
   {
    "duration": 30,
    "start_time": "2022-03-27T09:07:49.585Z"
   },
   {
    "duration": 48,
    "start_time": "2022-03-27T09:07:49.617Z"
   },
   {
    "duration": 20,
    "start_time": "2022-03-27T09:07:49.667Z"
   },
   {
    "duration": 33,
    "start_time": "2022-03-27T09:07:49.688Z"
   },
   {
    "duration": 84,
    "start_time": "2022-03-27T09:07:49.723Z"
   },
   {
    "duration": 15,
    "start_time": "2022-03-27T09:07:49.809Z"
   },
   {
    "duration": 4,
    "start_time": "2022-03-27T09:07:49.826Z"
   },
   {
    "duration": 662,
    "start_time": "2022-03-27T09:07:49.832Z"
   },
   {
    "duration": 11,
    "start_time": "2022-03-27T09:07:50.496Z"
   },
   {
    "duration": 112,
    "start_time": "2022-03-27T09:07:50.508Z"
   },
   {
    "duration": 594,
    "start_time": "2022-03-27T09:07:50.621Z"
   },
   {
    "duration": 10,
    "start_time": "2022-03-27T09:07:51.216Z"
   },
   {
    "duration": 45,
    "start_time": "2022-03-27T09:07:51.227Z"
   },
   {
    "duration": 518,
    "start_time": "2022-03-27T09:07:51.274Z"
   },
   {
    "duration": 14,
    "start_time": "2022-03-27T09:07:51.794Z"
   },
   {
    "duration": 27,
    "start_time": "2022-03-27T09:07:51.809Z"
   },
   {
    "duration": 561,
    "start_time": "2022-03-27T09:07:51.838Z"
   },
   {
    "duration": 31,
    "start_time": "2022-03-27T09:07:52.401Z"
   },
   {
    "duration": 758,
    "start_time": "2022-03-27T09:07:52.434Z"
   },
   {
    "duration": 36,
    "start_time": "2022-03-27T09:07:53.196Z"
   },
   {
    "duration": 3,
    "start_time": "2022-03-27T09:07:53.234Z"
   },
   {
    "duration": 210,
    "start_time": "2022-03-27T09:07:53.238Z"
   },
   {
    "duration": 444,
    "start_time": "2022-03-27T09:07:53.450Z"
   },
   {
    "duration": 4,
    "start_time": "2022-03-27T09:07:53.896Z"
   },
   {
    "duration": 7,
    "start_time": "2022-03-27T09:07:53.901Z"
   },
   {
    "duration": 12,
    "start_time": "2022-03-27T09:07:53.909Z"
   },
   {
    "duration": 159,
    "start_time": "2022-03-27T09:07:53.923Z"
   },
   {
    "duration": 15,
    "start_time": "2022-03-27T09:07:54.083Z"
   },
   {
    "duration": 2,
    "start_time": "2022-03-27T09:07:54.100Z"
   },
   {
    "duration": 4,
    "start_time": "2022-03-27T09:07:54.103Z"
   },
   {
    "duration": 5,
    "start_time": "2022-03-27T09:07:54.109Z"
   },
   {
    "duration": 7,
    "start_time": "2022-03-27T09:07:54.116Z"
   },
   {
    "duration": 3004,
    "start_time": "2022-03-27T11:02:49.438Z"
   },
   {
    "duration": 1116,
    "start_time": "2022-03-27T11:02:52.445Z"
   },
   {
    "duration": 41,
    "start_time": "2022-03-27T11:02:53.564Z"
   },
   {
    "duration": 145,
    "start_time": "2022-03-27T11:02:53.609Z"
   },
   {
    "duration": 306,
    "start_time": "2022-03-27T11:02:53.757Z"
   },
   {
    "duration": 173,
    "start_time": "2022-03-27T11:02:54.065Z"
   },
   {
    "duration": 8,
    "start_time": "2022-03-27T11:02:54.240Z"
   },
   {
    "duration": 75,
    "start_time": "2022-03-27T11:02:54.250Z"
   },
   {
    "duration": 37,
    "start_time": "2022-03-27T11:02:54.328Z"
   },
   {
    "duration": 125,
    "start_time": "2022-03-27T11:02:54.373Z"
   },
   {
    "duration": 49,
    "start_time": "2022-03-27T11:02:54.501Z"
   },
   {
    "duration": 123,
    "start_time": "2022-03-27T11:02:54.553Z"
   },
   {
    "duration": 18,
    "start_time": "2022-03-27T11:02:54.680Z"
   },
   {
    "duration": 46,
    "start_time": "2022-03-27T11:02:54.701Z"
   },
   {
    "duration": 51,
    "start_time": "2022-03-27T11:02:54.749Z"
   },
   {
    "duration": 44,
    "start_time": "2022-03-27T11:02:54.802Z"
   },
   {
    "duration": 119,
    "start_time": "2022-03-27T11:02:54.849Z"
   },
   {
    "duration": 87,
    "start_time": "2022-03-27T11:02:54.970Z"
   },
   {
    "duration": 73,
    "start_time": "2022-03-27T11:02:55.059Z"
   },
   {
    "duration": 54,
    "start_time": "2022-03-27T11:02:55.135Z"
   },
   {
    "duration": 33,
    "start_time": "2022-03-27T11:02:55.192Z"
   },
   {
    "duration": 75,
    "start_time": "2022-03-27T11:02:55.228Z"
   },
   {
    "duration": 48,
    "start_time": "2022-03-27T11:02:55.305Z"
   },
   {
    "duration": 55,
    "start_time": "2022-03-27T11:02:55.356Z"
   },
   {
    "duration": 64,
    "start_time": "2022-03-27T11:02:55.417Z"
   },
   {
    "duration": 103,
    "start_time": "2022-03-27T11:02:55.483Z"
   },
   {
    "duration": 28,
    "start_time": "2022-03-27T11:02:55.589Z"
   },
   {
    "duration": 9,
    "start_time": "2022-03-27T11:02:55.625Z"
   },
   {
    "duration": 1709,
    "start_time": "2022-03-27T11:02:55.637Z"
   },
   {
    "duration": 36,
    "start_time": "2022-03-27T11:02:57.349Z"
   },
   {
    "duration": 181,
    "start_time": "2022-03-27T11:02:57.388Z"
   },
   {
    "duration": 1594,
    "start_time": "2022-03-27T11:02:57.575Z"
   },
   {
    "duration": 17,
    "start_time": "2022-03-27T11:02:59.175Z"
   },
   {
    "duration": 82,
    "start_time": "2022-03-27T11:02:59.195Z"
   },
   {
    "duration": 968,
    "start_time": "2022-03-27T11:02:59.280Z"
   },
   {
    "duration": 35,
    "start_time": "2022-03-27T11:03:00.250Z"
   },
   {
    "duration": 50,
    "start_time": "2022-03-27T11:03:00.287Z"
   },
   {
    "duration": 969,
    "start_time": "2022-03-27T11:03:00.339Z"
   },
   {
    "duration": 65,
    "start_time": "2022-03-27T11:03:01.310Z"
   },
   {
    "duration": 1484,
    "start_time": "2022-03-27T11:03:01.379Z"
   },
   {
    "duration": 71,
    "start_time": "2022-03-27T11:03:02.866Z"
   },
   {
    "duration": 6,
    "start_time": "2022-03-27T11:03:02.940Z"
   },
   {
    "duration": 258,
    "start_time": "2022-03-27T11:03:02.949Z"
   },
   {
    "duration": 1018,
    "start_time": "2022-03-27T11:03:03.210Z"
   },
   {
    "duration": 6,
    "start_time": "2022-03-27T11:03:04.231Z"
   },
   {
    "duration": 16,
    "start_time": "2022-03-27T11:03:04.239Z"
   },
   {
    "duration": 30,
    "start_time": "2022-03-27T11:03:04.257Z"
   },
   {
    "duration": 322,
    "start_time": "2022-03-27T11:03:04.289Z"
   },
   {
    "duration": 21,
    "start_time": "2022-03-27T11:03:04.613Z"
   },
   {
    "duration": 35,
    "start_time": "2022-03-27T11:03:04.636Z"
   },
   {
    "duration": 32,
    "start_time": "2022-03-27T11:03:04.673Z"
   },
   {
    "duration": 23,
    "start_time": "2022-03-27T11:03:04.707Z"
   },
   {
    "duration": 26,
    "start_time": "2022-03-27T11:03:04.733Z"
   },
   {
    "duration": 1678,
    "start_time": "2022-03-27T13:40:12.940Z"
   },
   {
    "duration": 818,
    "start_time": "2022-03-27T13:40:14.620Z"
   },
   {
    "duration": 22,
    "start_time": "2022-03-27T13:40:15.440Z"
   },
   {
    "duration": 149,
    "start_time": "2022-03-27T13:40:15.464Z"
   },
   {
    "duration": 129,
    "start_time": "2022-03-27T13:40:15.615Z"
   },
   {
    "duration": 133,
    "start_time": "2022-03-27T13:40:15.746Z"
   },
   {
    "duration": 6,
    "start_time": "2022-03-27T13:40:15.881Z"
   },
   {
    "duration": 30,
    "start_time": "2022-03-27T13:40:15.889Z"
   },
   {
    "duration": 25,
    "start_time": "2022-03-27T13:40:15.922Z"
   },
   {
    "duration": 96,
    "start_time": "2022-03-27T13:40:15.950Z"
   },
   {
    "duration": 33,
    "start_time": "2022-03-27T13:40:16.047Z"
   },
   {
    "duration": 64,
    "start_time": "2022-03-27T13:40:16.081Z"
   },
   {
    "duration": 9,
    "start_time": "2022-03-27T13:40:16.146Z"
   },
   {
    "duration": 30,
    "start_time": "2022-03-27T13:40:16.157Z"
   },
   {
    "duration": 23,
    "start_time": "2022-03-27T13:40:16.188Z"
   },
   {
    "duration": 51,
    "start_time": "2022-03-27T13:40:16.213Z"
   },
   {
    "duration": 38,
    "start_time": "2022-03-27T13:40:16.266Z"
   },
   {
    "duration": 42,
    "start_time": "2022-03-27T13:40:16.306Z"
   },
   {
    "duration": 29,
    "start_time": "2022-03-27T13:40:16.350Z"
   },
   {
    "duration": 33,
    "start_time": "2022-03-27T13:40:16.381Z"
   },
   {
    "duration": 34,
    "start_time": "2022-03-27T13:40:16.416Z"
   },
   {
    "duration": 32,
    "start_time": "2022-03-27T13:40:16.452Z"
   },
   {
    "duration": 56,
    "start_time": "2022-03-27T13:40:16.486Z"
   },
   {
    "duration": 19,
    "start_time": "2022-03-27T13:40:16.544Z"
   },
   {
    "duration": 36,
    "start_time": "2022-03-27T13:40:16.565Z"
   },
   {
    "duration": 100,
    "start_time": "2022-03-27T13:40:16.603Z"
   },
   {
    "duration": 19,
    "start_time": "2022-03-27T13:40:16.705Z"
   },
   {
    "duration": 6,
    "start_time": "2022-03-27T13:40:16.740Z"
   },
   {
    "duration": 744,
    "start_time": "2022-03-27T13:40:16.748Z"
   },
   {
    "duration": 13,
    "start_time": "2022-03-27T13:40:17.493Z"
   },
   {
    "duration": 120,
    "start_time": "2022-03-27T13:40:17.507Z"
   },
   {
    "duration": 682,
    "start_time": "2022-03-27T13:40:17.628Z"
   },
   {
    "duration": 11,
    "start_time": "2022-03-27T13:40:18.311Z"
   },
   {
    "duration": 44,
    "start_time": "2022-03-27T13:40:18.323Z"
   },
   {
    "duration": 578,
    "start_time": "2022-03-27T13:40:18.368Z"
   },
   {
    "duration": 17,
    "start_time": "2022-03-27T13:40:18.949Z"
   },
   {
    "duration": 31,
    "start_time": "2022-03-27T13:40:18.968Z"
   },
   {
    "duration": 615,
    "start_time": "2022-03-27T13:40:19.001Z"
   },
   {
    "duration": 40,
    "start_time": "2022-03-27T13:40:19.617Z"
   },
   {
    "duration": 1204,
    "start_time": "2022-03-27T13:40:19.659Z"
   },
   {
    "duration": 41,
    "start_time": "2022-03-27T13:40:20.865Z"
   },
   {
    "duration": 4,
    "start_time": "2022-03-27T13:40:20.907Z"
   },
   {
    "duration": 251,
    "start_time": "2022-03-27T13:40:20.912Z"
   },
   {
    "duration": 479,
    "start_time": "2022-03-27T13:40:21.165Z"
   },
   {
    "duration": 4,
    "start_time": "2022-03-27T13:40:21.645Z"
   },
   {
    "duration": 6,
    "start_time": "2022-03-27T13:40:21.650Z"
   },
   {
    "duration": 12,
    "start_time": "2022-03-27T13:40:21.657Z"
   },
   {
    "duration": 166,
    "start_time": "2022-03-27T13:40:21.671Z"
   },
   {
    "duration": 15,
    "start_time": "2022-03-27T13:40:21.839Z"
   },
   {
    "duration": 3,
    "start_time": "2022-03-27T13:40:21.855Z"
   },
   {
    "duration": 5,
    "start_time": "2022-03-27T13:40:21.859Z"
   },
   {
    "duration": 5,
    "start_time": "2022-03-27T13:40:21.865Z"
   },
   {
    "duration": 6,
    "start_time": "2022-03-27T13:40:21.872Z"
   },
   {
    "duration": 1886,
    "start_time": "2022-03-27T19:25:29.459Z"
   },
   {
    "duration": 863,
    "start_time": "2022-03-27T19:25:31.347Z"
   },
   {
    "duration": 21,
    "start_time": "2022-03-27T19:25:32.212Z"
   },
   {
    "duration": 156,
    "start_time": "2022-03-27T19:25:32.235Z"
   },
   {
    "duration": 143,
    "start_time": "2022-03-27T19:25:32.393Z"
   },
   {
    "duration": 136,
    "start_time": "2022-03-27T19:25:32.538Z"
   },
   {
    "duration": 6,
    "start_time": "2022-03-27T19:25:32.676Z"
   },
   {
    "duration": 35,
    "start_time": "2022-03-27T19:25:32.684Z"
   },
   {
    "duration": 20,
    "start_time": "2022-03-27T19:25:32.721Z"
   },
   {
    "duration": 113,
    "start_time": "2022-03-27T19:25:32.744Z"
   },
   {
    "duration": 44,
    "start_time": "2022-03-27T19:25:32.858Z"
   },
   {
    "duration": 62,
    "start_time": "2022-03-27T19:25:32.903Z"
   },
   {
    "duration": 11,
    "start_time": "2022-03-27T19:25:32.967Z"
   },
   {
    "duration": 52,
    "start_time": "2022-03-27T19:25:32.980Z"
   },
   {
    "duration": 28,
    "start_time": "2022-03-27T19:25:33.034Z"
   },
   {
    "duration": 51,
    "start_time": "2022-03-27T19:25:33.064Z"
   },
   {
    "duration": 62,
    "start_time": "2022-03-27T19:25:33.117Z"
   },
   {
    "duration": 48,
    "start_time": "2022-03-27T19:25:33.181Z"
   },
   {
    "duration": 37,
    "start_time": "2022-03-27T19:25:33.231Z"
   },
   {
    "duration": 51,
    "start_time": "2022-03-27T19:25:33.270Z"
   },
   {
    "duration": 27,
    "start_time": "2022-03-27T19:25:33.323Z"
   },
   {
    "duration": 51,
    "start_time": "2022-03-27T19:25:33.352Z"
   },
   {
    "duration": 40,
    "start_time": "2022-03-27T19:25:33.405Z"
   },
   {
    "duration": 28,
    "start_time": "2022-03-27T19:25:33.447Z"
   },
   {
    "duration": 54,
    "start_time": "2022-03-27T19:25:33.477Z"
   },
   {
    "duration": 88,
    "start_time": "2022-03-27T19:25:33.533Z"
   },
   {
    "duration": 20,
    "start_time": "2022-03-27T19:25:33.623Z"
   },
   {
    "duration": 6,
    "start_time": "2022-03-27T19:25:33.648Z"
   },
   {
    "duration": 779,
    "start_time": "2022-03-27T19:25:33.655Z"
   },
   {
    "duration": 13,
    "start_time": "2022-03-27T19:25:34.435Z"
   },
   {
    "duration": 121,
    "start_time": "2022-03-27T19:25:34.450Z"
   },
   {
    "duration": 738,
    "start_time": "2022-03-27T19:25:34.572Z"
   },
   {
    "duration": 12,
    "start_time": "2022-03-27T19:25:35.311Z"
   },
   {
    "duration": 32,
    "start_time": "2022-03-27T19:25:35.324Z"
   },
   {
    "duration": 628,
    "start_time": "2022-03-27T19:25:35.358Z"
   },
   {
    "duration": 28,
    "start_time": "2022-03-27T19:25:35.988Z"
   },
   {
    "duration": 32,
    "start_time": "2022-03-27T19:25:36.019Z"
   },
   {
    "duration": 633,
    "start_time": "2022-03-27T19:25:36.053Z"
   },
   {
    "duration": 43,
    "start_time": "2022-03-27T19:25:36.688Z"
   },
   {
    "duration": 1051,
    "start_time": "2022-03-27T19:25:36.732Z"
   },
   {
    "duration": 47,
    "start_time": "2022-03-27T19:25:37.785Z"
   },
   {
    "duration": 4,
    "start_time": "2022-03-27T19:25:37.833Z"
   },
   {
    "duration": 207,
    "start_time": "2022-03-27T19:25:37.839Z"
   },
   {
    "duration": 454,
    "start_time": "2022-03-27T19:25:38.048Z"
   },
   {
    "duration": 5,
    "start_time": "2022-03-27T19:25:38.504Z"
   },
   {
    "duration": 5,
    "start_time": "2022-03-27T19:25:38.510Z"
   },
   {
    "duration": 14,
    "start_time": "2022-03-27T19:25:38.517Z"
   },
   {
    "duration": 196,
    "start_time": "2022-03-27T19:25:38.533Z"
   },
   {
    "duration": 16,
    "start_time": "2022-03-27T19:25:38.731Z"
   },
   {
    "duration": 2,
    "start_time": "2022-03-27T19:25:38.749Z"
   },
   {
    "duration": 6,
    "start_time": "2022-03-27T19:25:38.753Z"
   },
   {
    "duration": 6,
    "start_time": "2022-03-27T19:25:38.760Z"
   },
   {
    "duration": 6,
    "start_time": "2022-03-27T19:25:38.767Z"
   },
   {
    "duration": 54,
    "start_time": "2022-03-28T08:04:54.084Z"
   },
   {
    "duration": 1786,
    "start_time": "2022-03-28T08:05:04.180Z"
   },
   {
    "duration": 905,
    "start_time": "2022-03-28T08:05:05.968Z"
   },
   {
    "duration": 30,
    "start_time": "2022-03-28T08:05:06.875Z"
   },
   {
    "duration": 153,
    "start_time": "2022-03-28T08:05:06.907Z"
   },
   {
    "duration": 186,
    "start_time": "2022-03-28T08:05:07.063Z"
   },
   {
    "duration": 199,
    "start_time": "2022-03-28T08:05:07.251Z"
   },
   {
    "duration": 6,
    "start_time": "2022-03-28T08:05:07.452Z"
   },
   {
    "duration": 45,
    "start_time": "2022-03-28T08:05:07.460Z"
   },
   {
    "duration": 24,
    "start_time": "2022-03-28T08:05:07.507Z"
   },
   {
    "duration": 122,
    "start_time": "2022-03-28T08:05:07.533Z"
   },
   {
    "duration": 45,
    "start_time": "2022-03-28T08:05:07.657Z"
   },
   {
    "duration": 56,
    "start_time": "2022-03-28T08:05:07.704Z"
   },
   {
    "duration": 11,
    "start_time": "2022-03-28T08:05:07.762Z"
   },
   {
    "duration": 43,
    "start_time": "2022-03-28T08:05:07.800Z"
   },
   {
    "duration": 27,
    "start_time": "2022-03-28T08:05:07.845Z"
   },
   {
    "duration": 50,
    "start_time": "2022-03-28T08:05:07.874Z"
   },
   {
    "duration": 41,
    "start_time": "2022-03-28T08:05:07.926Z"
   },
   {
    "duration": 51,
    "start_time": "2022-03-28T08:05:07.968Z"
   },
   {
    "duration": 42,
    "start_time": "2022-03-28T08:05:08.021Z"
   },
   {
    "duration": 55,
    "start_time": "2022-03-28T08:05:08.065Z"
   },
   {
    "duration": 26,
    "start_time": "2022-03-28T08:05:08.122Z"
   },
   {
    "duration": 36,
    "start_time": "2022-03-28T08:05:08.150Z"
   },
   {
    "duration": 48,
    "start_time": "2022-03-28T08:05:08.188Z"
   },
   {
    "duration": 34,
    "start_time": "2022-03-28T08:05:08.238Z"
   },
   {
    "duration": 62,
    "start_time": "2022-03-28T08:05:08.274Z"
   },
   {
    "duration": 122,
    "start_time": "2022-03-28T08:05:08.338Z"
   },
   {
    "duration": 20,
    "start_time": "2022-03-28T08:05:08.462Z"
   },
   {
    "duration": 19,
    "start_time": "2022-03-28T08:05:08.484Z"
   },
   {
    "duration": 801,
    "start_time": "2022-03-28T08:05:08.505Z"
   },
   {
    "duration": 14,
    "start_time": "2022-03-28T08:05:09.308Z"
   },
   {
    "duration": 126,
    "start_time": "2022-03-28T08:05:09.324Z"
   },
   {
    "duration": 891,
    "start_time": "2022-03-28T08:05:09.452Z"
   },
   {
    "duration": 11,
    "start_time": "2022-03-28T08:05:10.345Z"
   },
   {
    "duration": 49,
    "start_time": "2022-03-28T08:05:10.358Z"
   },
   {
    "duration": 629,
    "start_time": "2022-03-28T08:05:10.409Z"
   },
   {
    "duration": 17,
    "start_time": "2022-03-28T08:05:11.040Z"
   },
   {
    "duration": 51,
    "start_time": "2022-03-28T08:05:11.059Z"
   },
   {
    "duration": 654,
    "start_time": "2022-03-28T08:05:11.111Z"
   },
   {
    "duration": 44,
    "start_time": "2022-03-28T08:05:11.767Z"
   },
   {
    "duration": 1133,
    "start_time": "2022-03-28T08:05:11.813Z"
   },
   {
    "duration": 52,
    "start_time": "2022-03-28T08:05:12.950Z"
   },
   {
    "duration": 4,
    "start_time": "2022-03-28T08:05:13.004Z"
   },
   {
    "duration": 205,
    "start_time": "2022-03-28T08:05:13.009Z"
   },
   {
    "duration": 462,
    "start_time": "2022-03-28T08:05:13.217Z"
   },
   {
    "duration": 5,
    "start_time": "2022-03-28T08:05:13.681Z"
   },
   {
    "duration": 13,
    "start_time": "2022-03-28T08:05:13.688Z"
   },
   {
    "duration": 21,
    "start_time": "2022-03-28T08:05:13.703Z"
   },
   {
    "duration": 183,
    "start_time": "2022-03-28T08:05:13.726Z"
   },
   {
    "duration": 17,
    "start_time": "2022-03-28T08:05:13.911Z"
   },
   {
    "duration": 3,
    "start_time": "2022-03-28T08:05:13.930Z"
   },
   {
    "duration": 6,
    "start_time": "2022-03-28T08:05:13.935Z"
   },
   {
    "duration": 5,
    "start_time": "2022-03-28T08:05:13.944Z"
   },
   {
    "duration": 10,
    "start_time": "2022-03-28T08:05:13.951Z"
   },
   {
    "duration": 30942,
    "start_time": "2022-03-28T08:05:13.963Z"
   },
   {
    "duration": 53,
    "start_time": "2022-03-28T08:05:44.907Z"
   },
   {
    "duration": 0,
    "start_time": "2022-03-28T08:05:44.962Z"
   },
   {
    "duration": 0,
    "start_time": "2022-03-28T08:05:44.963Z"
   },
   {
    "duration": 0,
    "start_time": "2022-03-28T08:05:44.964Z"
   },
   {
    "duration": 0,
    "start_time": "2022-03-28T08:05:44.966Z"
   },
   {
    "duration": 0,
    "start_time": "2022-03-28T08:05:44.967Z"
   },
   {
    "duration": 0,
    "start_time": "2022-03-28T08:05:44.968Z"
   },
   {
    "duration": 0,
    "start_time": "2022-03-28T08:05:44.970Z"
   },
   {
    "duration": 2143,
    "start_time": "2022-03-28T08:07:03.032Z"
   },
   {
    "duration": 1292,
    "start_time": "2022-03-28T08:07:05.178Z"
   },
   {
    "duration": 40,
    "start_time": "2022-03-28T08:07:06.472Z"
   },
   {
    "duration": 200,
    "start_time": "2022-03-28T08:07:06.514Z"
   },
   {
    "duration": 262,
    "start_time": "2022-03-28T08:07:06.717Z"
   },
   {
    "duration": 164,
    "start_time": "2022-03-28T08:07:06.980Z"
   },
   {
    "duration": 6,
    "start_time": "2022-03-28T08:07:07.146Z"
   },
   {
    "duration": 49,
    "start_time": "2022-03-28T08:07:07.154Z"
   },
   {
    "duration": 20,
    "start_time": "2022-03-28T08:07:07.205Z"
   },
   {
    "duration": 111,
    "start_time": "2022-03-28T08:07:07.228Z"
   },
   {
    "duration": 38,
    "start_time": "2022-03-28T08:07:07.341Z"
   },
   {
    "duration": 81,
    "start_time": "2022-03-28T08:07:07.381Z"
   },
   {
    "duration": 12,
    "start_time": "2022-03-28T08:07:07.464Z"
   },
   {
    "duration": 39,
    "start_time": "2022-03-28T08:07:07.502Z"
   },
   {
    "duration": 28,
    "start_time": "2022-03-28T08:07:07.542Z"
   },
   {
    "duration": 54,
    "start_time": "2022-03-28T08:07:07.572Z"
   },
   {
    "duration": 44,
    "start_time": "2022-03-28T08:07:07.628Z"
   },
   {
    "duration": 55,
    "start_time": "2022-03-28T08:07:07.675Z"
   },
   {
    "duration": 37,
    "start_time": "2022-03-28T08:07:07.732Z"
   },
   {
    "duration": 58,
    "start_time": "2022-03-28T08:07:07.770Z"
   },
   {
    "duration": 27,
    "start_time": "2022-03-28T08:07:07.830Z"
   },
   {
    "duration": 51,
    "start_time": "2022-03-28T08:07:07.858Z"
   },
   {
    "duration": 41,
    "start_time": "2022-03-28T08:07:07.911Z"
   },
   {
    "duration": 26,
    "start_time": "2022-03-28T08:07:07.954Z"
   },
   {
    "duration": 41,
    "start_time": "2022-03-28T08:07:08.000Z"
   },
   {
    "duration": 96,
    "start_time": "2022-03-28T08:07:08.043Z"
   },
   {
    "duration": 21,
    "start_time": "2022-03-28T08:07:08.141Z"
   },
   {
    "duration": 7,
    "start_time": "2022-03-28T08:07:08.163Z"
   },
   {
    "duration": 834,
    "start_time": "2022-03-28T08:07:08.172Z"
   },
   {
    "duration": 14,
    "start_time": "2022-03-28T08:07:09.007Z"
   },
   {
    "duration": 135,
    "start_time": "2022-03-28T08:07:09.023Z"
   },
   {
    "duration": 785,
    "start_time": "2022-03-28T08:07:09.160Z"
   },
   {
    "duration": 11,
    "start_time": "2022-03-28T08:07:09.947Z"
   },
   {
    "duration": 55,
    "start_time": "2022-03-28T08:07:09.960Z"
   },
   {
    "duration": 652,
    "start_time": "2022-03-28T08:07:10.017Z"
   },
   {
    "duration": 32,
    "start_time": "2022-03-28T08:07:10.671Z"
   },
   {
    "duration": 35,
    "start_time": "2022-03-28T08:07:10.705Z"
   },
   {
    "duration": 724,
    "start_time": "2022-03-28T08:07:10.742Z"
   },
   {
    "duration": 56,
    "start_time": "2022-03-28T08:07:11.467Z"
   },
   {
    "duration": 1190,
    "start_time": "2022-03-28T08:07:11.525Z"
   },
   {
    "duration": 42,
    "start_time": "2022-03-28T08:07:12.721Z"
   },
   {
    "duration": 5,
    "start_time": "2022-03-28T08:07:12.764Z"
   },
   {
    "duration": 223,
    "start_time": "2022-03-28T08:07:12.770Z"
   },
   {
    "duration": 475,
    "start_time": "2022-03-28T08:07:12.996Z"
   },
   {
    "duration": 5,
    "start_time": "2022-03-28T08:07:13.473Z"
   },
   {
    "duration": 9,
    "start_time": "2022-03-28T08:07:13.480Z"
   },
   {
    "duration": 12,
    "start_time": "2022-03-28T08:07:13.501Z"
   },
   {
    "duration": 191,
    "start_time": "2022-03-28T08:07:13.515Z"
   },
   {
    "duration": 16,
    "start_time": "2022-03-28T08:07:13.708Z"
   },
   {
    "duration": 3,
    "start_time": "2022-03-28T08:07:13.726Z"
   },
   {
    "duration": 5,
    "start_time": "2022-03-28T08:07:13.731Z"
   },
   {
    "duration": 6,
    "start_time": "2022-03-28T08:07:13.738Z"
   },
   {
    "duration": 7,
    "start_time": "2022-03-28T08:07:13.746Z"
   },
   {
    "duration": 1140057,
    "start_time": "2022-03-28T08:07:13.755Z"
   },
   {
    "duration": 57,
    "start_time": "2022-03-28T08:26:13.814Z"
   },
   {
    "duration": 0,
    "start_time": "2022-03-28T08:26:13.872Z"
   },
   {
    "duration": 0,
    "start_time": "2022-03-28T08:26:13.874Z"
   },
   {
    "duration": 0,
    "start_time": "2022-03-28T08:26:13.875Z"
   },
   {
    "duration": 0,
    "start_time": "2022-03-28T08:26:13.877Z"
   },
   {
    "duration": 0,
    "start_time": "2022-03-28T08:26:13.878Z"
   },
   {
    "duration": 0,
    "start_time": "2022-03-28T08:26:13.901Z"
   },
   {
    "duration": 0,
    "start_time": "2022-03-28T08:26:13.903Z"
   },
   {
    "duration": 1643,
    "start_time": "2022-03-28T08:26:27.125Z"
   },
   {
    "duration": 851,
    "start_time": "2022-03-28T08:26:28.770Z"
   },
   {
    "duration": 21,
    "start_time": "2022-03-28T08:26:29.623Z"
   },
   {
    "duration": 117,
    "start_time": "2022-03-28T08:26:29.646Z"
   },
   {
    "duration": 149,
    "start_time": "2022-03-28T08:26:29.765Z"
   },
   {
    "duration": 134,
    "start_time": "2022-03-28T08:26:29.915Z"
   },
   {
    "duration": 6,
    "start_time": "2022-03-28T08:26:30.051Z"
   },
   {
    "duration": 44,
    "start_time": "2022-03-28T08:26:30.059Z"
   },
   {
    "duration": 19,
    "start_time": "2022-03-28T08:26:30.106Z"
   },
   {
    "duration": 109,
    "start_time": "2022-03-28T08:26:30.128Z"
   },
   {
    "duration": 35,
    "start_time": "2022-03-28T08:26:30.240Z"
   },
   {
    "duration": 72,
    "start_time": "2022-03-28T08:26:30.277Z"
   },
   {
    "duration": 11,
    "start_time": "2022-03-28T08:26:30.351Z"
   },
   {
    "duration": 49,
    "start_time": "2022-03-28T08:26:30.364Z"
   },
   {
    "duration": 31,
    "start_time": "2022-03-28T08:26:30.415Z"
   },
   {
    "duration": 37,
    "start_time": "2022-03-28T08:26:30.448Z"
   },
   {
    "duration": 51,
    "start_time": "2022-03-28T08:26:30.486Z"
   },
   {
    "duration": 47,
    "start_time": "2022-03-28T08:26:30.540Z"
   },
   {
    "duration": 44,
    "start_time": "2022-03-28T08:26:30.589Z"
   },
   {
    "duration": 48,
    "start_time": "2022-03-28T08:26:30.635Z"
   },
   {
    "duration": 29,
    "start_time": "2022-03-28T08:26:30.685Z"
   },
   {
    "duration": 37,
    "start_time": "2022-03-28T08:26:30.716Z"
   },
   {
    "duration": 50,
    "start_time": "2022-03-28T08:26:30.755Z"
   },
   {
    "duration": 26,
    "start_time": "2022-03-28T08:26:30.807Z"
   },
   {
    "duration": 42,
    "start_time": "2022-03-28T08:26:30.835Z"
   },
   {
    "duration": 95,
    "start_time": "2022-03-28T08:26:30.879Z"
   },
   {
    "duration": 33,
    "start_time": "2022-03-28T08:26:30.976Z"
   },
   {
    "duration": 9,
    "start_time": "2022-03-28T08:26:31.014Z"
   },
   {
    "duration": 803,
    "start_time": "2022-03-28T08:26:31.025Z"
   },
   {
    "duration": 13,
    "start_time": "2022-03-28T08:26:31.830Z"
   },
   {
    "duration": 135,
    "start_time": "2022-03-28T08:26:31.845Z"
   },
   {
    "duration": 748,
    "start_time": "2022-03-28T08:26:31.982Z"
   },
   {
    "duration": 12,
    "start_time": "2022-03-28T08:26:32.732Z"
   },
   {
    "duration": 54,
    "start_time": "2022-03-28T08:26:32.747Z"
   },
   {
    "duration": 658,
    "start_time": "2022-03-28T08:26:32.803Z"
   },
   {
    "duration": 18,
    "start_time": "2022-03-28T08:26:33.463Z"
   },
   {
    "duration": 48,
    "start_time": "2022-03-28T08:26:33.483Z"
   },
   {
    "duration": 659,
    "start_time": "2022-03-28T08:26:33.533Z"
   },
   {
    "duration": 41,
    "start_time": "2022-03-28T08:26:34.194Z"
   },
   {
    "duration": 1122,
    "start_time": "2022-03-28T08:26:34.237Z"
   },
   {
    "duration": 50,
    "start_time": "2022-03-28T08:26:35.362Z"
   },
   {
    "duration": 4,
    "start_time": "2022-03-28T08:26:35.414Z"
   },
   {
    "duration": 207,
    "start_time": "2022-03-28T08:26:35.420Z"
   },
   {
    "duration": 458,
    "start_time": "2022-03-28T08:26:35.629Z"
   },
   {
    "duration": 13,
    "start_time": "2022-03-28T08:26:36.089Z"
   },
   {
    "duration": 7,
    "start_time": "2022-03-28T08:26:36.104Z"
   },
   {
    "duration": 16,
    "start_time": "2022-03-28T08:26:36.113Z"
   },
   {
    "duration": 185,
    "start_time": "2022-03-28T08:26:36.131Z"
   },
   {
    "duration": 16,
    "start_time": "2022-03-28T08:26:36.318Z"
   },
   {
    "duration": 2,
    "start_time": "2022-03-28T08:26:36.336Z"
   },
   {
    "duration": 9,
    "start_time": "2022-03-28T08:26:36.340Z"
   },
   {
    "duration": 6,
    "start_time": "2022-03-28T08:26:36.351Z"
   },
   {
    "duration": 12,
    "start_time": "2022-03-28T08:26:36.359Z"
   },
   {
    "duration": 2953,
    "start_time": "2022-03-28T18:12:02.515Z"
   },
   {
    "duration": 1454,
    "start_time": "2022-03-28T18:12:05.471Z"
   },
   {
    "duration": 42,
    "start_time": "2022-03-28T18:12:06.927Z"
   },
   {
    "duration": 160,
    "start_time": "2022-03-28T18:12:06.972Z"
   },
   {
    "duration": 171,
    "start_time": "2022-03-28T18:12:07.134Z"
   },
   {
    "duration": 177,
    "start_time": "2022-03-28T18:12:07.307Z"
   },
   {
    "duration": 7,
    "start_time": "2022-03-28T18:12:07.486Z"
   },
   {
    "duration": 36,
    "start_time": "2022-03-28T18:12:07.495Z"
   },
   {
    "duration": 52,
    "start_time": "2022-03-28T18:12:07.533Z"
   },
   {
    "duration": 121,
    "start_time": "2022-03-28T18:12:07.591Z"
   },
   {
    "duration": 58,
    "start_time": "2022-03-28T18:12:07.715Z"
   },
   {
    "duration": 103,
    "start_time": "2022-03-28T18:12:07.776Z"
   },
   {
    "duration": 14,
    "start_time": "2022-03-28T18:12:07.881Z"
   },
   {
    "duration": 43,
    "start_time": "2022-03-28T18:12:07.898Z"
   },
   {
    "duration": 30,
    "start_time": "2022-03-28T18:12:07.968Z"
   },
   {
    "duration": 46,
    "start_time": "2022-03-28T18:12:08.001Z"
   },
   {
    "duration": 60,
    "start_time": "2022-03-28T18:12:08.049Z"
   },
   {
    "duration": 67,
    "start_time": "2022-03-28T18:12:08.112Z"
   },
   {
    "duration": 41,
    "start_time": "2022-03-28T18:12:08.181Z"
   },
   {
    "duration": 60,
    "start_time": "2022-03-28T18:12:08.224Z"
   },
   {
    "duration": 29,
    "start_time": "2022-03-28T18:12:08.286Z"
   },
   {
    "duration": 56,
    "start_time": "2022-03-28T18:12:08.317Z"
   },
   {
    "duration": 46,
    "start_time": "2022-03-28T18:12:08.375Z"
   },
   {
    "duration": 52,
    "start_time": "2022-03-28T18:12:08.423Z"
   },
   {
    "duration": 57,
    "start_time": "2022-03-28T18:12:08.478Z"
   },
   {
    "duration": 104,
    "start_time": "2022-03-28T18:12:08.538Z"
   },
   {
    "duration": 35,
    "start_time": "2022-03-28T18:12:08.644Z"
   },
   {
    "duration": 8,
    "start_time": "2022-03-28T18:12:08.685Z"
   },
   {
    "duration": 989,
    "start_time": "2022-03-28T18:12:08.696Z"
   },
   {
    "duration": 18,
    "start_time": "2022-03-28T18:12:09.687Z"
   },
   {
    "duration": 139,
    "start_time": "2022-03-28T18:12:09.707Z"
   },
   {
    "duration": 918,
    "start_time": "2022-03-28T18:12:09.848Z"
   },
   {
    "duration": 13,
    "start_time": "2022-03-28T18:12:10.769Z"
   },
   {
    "duration": 51,
    "start_time": "2022-03-28T18:12:10.784Z"
   },
   {
    "duration": 891,
    "start_time": "2022-03-28T18:12:10.837Z"
   },
   {
    "duration": 39,
    "start_time": "2022-03-28T18:12:11.732Z"
   },
   {
    "duration": 48,
    "start_time": "2022-03-28T18:12:11.773Z"
   },
   {
    "duration": 880,
    "start_time": "2022-03-28T18:12:11.823Z"
   },
   {
    "duration": 63,
    "start_time": "2022-03-28T18:12:12.705Z"
   },
   {
    "duration": 1285,
    "start_time": "2022-03-28T18:12:12.770Z"
   },
   {
    "duration": 62,
    "start_time": "2022-03-28T18:12:14.057Z"
   },
   {
    "duration": 5,
    "start_time": "2022-03-28T18:12:14.121Z"
   },
   {
    "duration": 242,
    "start_time": "2022-03-28T18:12:14.129Z"
   },
   {
    "duration": 630,
    "start_time": "2022-03-28T18:12:14.374Z"
   },
   {
    "duration": 7,
    "start_time": "2022-03-28T18:12:15.006Z"
   },
   {
    "duration": 10,
    "start_time": "2022-03-28T18:12:15.015Z"
   },
   {
    "duration": 21,
    "start_time": "2022-03-28T18:12:15.027Z"
   },
   {
    "duration": 244,
    "start_time": "2022-03-28T18:12:15.051Z"
   },
   {
    "duration": 19,
    "start_time": "2022-03-28T18:12:15.297Z"
   },
   {
    "duration": 4,
    "start_time": "2022-03-28T18:12:15.318Z"
   },
   {
    "duration": 5,
    "start_time": "2022-03-28T18:12:15.324Z"
   },
   {
    "duration": 36,
    "start_time": "2022-03-28T18:12:15.331Z"
   },
   {
    "duration": 4,
    "start_time": "2022-03-28T18:12:15.369Z"
   },
   {
    "duration": 6,
    "start_time": "2022-03-28T18:12:15.375Z"
   },
   {
    "duration": 15,
    "start_time": "2022-03-28T18:12:15.383Z"
   },
   {
    "duration": 28,
    "start_time": "2022-03-28T18:12:15.400Z"
   },
   {
    "duration": 3,
    "start_time": "2022-03-28T18:12:15.431Z"
   },
   {
    "duration": 237,
    "start_time": "2022-03-28T18:12:15.437Z"
   },
   {
    "duration": 54,
    "start_time": "2022-03-28T18:12:15.676Z"
   },
   {
    "duration": 60,
    "start_time": "2022-03-28T18:12:15.732Z"
   },
   {
    "duration": 3,
    "start_time": "2022-03-28T18:12:15.794Z"
   },
   {
    "duration": 4,
    "start_time": "2022-03-28T18:12:15.799Z"
   },
   {
    "duration": 244,
    "start_time": "2022-03-28T18:13:02.578Z"
   },
   {
    "duration": 79,
    "start_time": "2022-03-28T18:13:04.753Z"
   },
   {
    "duration": 15,
    "start_time": "2022-03-28T18:36:32.260Z"
   },
   {
    "duration": 15,
    "start_time": "2022-03-28T18:36:41.702Z"
   },
   {
    "duration": 15,
    "start_time": "2022-03-28T18:36:45.378Z"
   },
   {
    "duration": 15,
    "start_time": "2022-03-28T18:36:48.321Z"
   },
   {
    "duration": 16,
    "start_time": "2022-03-28T18:36:53.569Z"
   },
   {
    "duration": 1052,
    "start_time": "2022-03-28T18:37:52.698Z"
   },
   {
    "duration": 2373,
    "start_time": "2022-03-28T19:03:41.349Z"
   },
   {
    "duration": 1018,
    "start_time": "2022-03-28T19:03:43.725Z"
   },
   {
    "duration": 32,
    "start_time": "2022-03-28T19:03:44.745Z"
   },
   {
    "duration": 169,
    "start_time": "2022-03-28T19:03:44.780Z"
   },
   {
    "duration": 167,
    "start_time": "2022-03-28T19:03:44.952Z"
   },
   {
    "duration": 176,
    "start_time": "2022-03-28T19:03:45.122Z"
   },
   {
    "duration": 7,
    "start_time": "2022-03-28T19:03:45.300Z"
   },
   {
    "duration": 58,
    "start_time": "2022-03-28T19:03:45.310Z"
   },
   {
    "duration": 28,
    "start_time": "2022-03-28T19:03:45.370Z"
   },
   {
    "duration": 126,
    "start_time": "2022-03-28T19:03:45.402Z"
   },
   {
    "duration": 46,
    "start_time": "2022-03-28T19:03:45.530Z"
   },
   {
    "duration": 92,
    "start_time": "2022-03-28T19:03:45.578Z"
   },
   {
    "duration": 14,
    "start_time": "2022-03-28T19:03:45.672Z"
   },
   {
    "duration": 60,
    "start_time": "2022-03-28T19:03:45.688Z"
   },
   {
    "duration": 28,
    "start_time": "2022-03-28T19:03:45.750Z"
   },
   {
    "duration": 62,
    "start_time": "2022-03-28T19:03:45.781Z"
   },
   {
    "duration": 43,
    "start_time": "2022-03-28T19:03:45.845Z"
   },
   {
    "duration": 60,
    "start_time": "2022-03-28T19:03:45.890Z"
   },
   {
    "duration": 40,
    "start_time": "2022-03-28T19:03:45.953Z"
   },
   {
    "duration": 59,
    "start_time": "2022-03-28T19:03:45.995Z"
   },
   {
    "duration": 27,
    "start_time": "2022-03-28T19:03:46.056Z"
   },
   {
    "duration": 60,
    "start_time": "2022-03-28T19:03:46.085Z"
   },
   {
    "duration": 49,
    "start_time": "2022-03-28T19:03:46.147Z"
   },
   {
    "duration": 45,
    "start_time": "2022-03-28T19:03:46.198Z"
   },
   {
    "duration": 47,
    "start_time": "2022-03-28T19:03:46.245Z"
   },
   {
    "duration": 104,
    "start_time": "2022-03-28T19:03:46.294Z"
   },
   {
    "duration": 27,
    "start_time": "2022-03-28T19:03:46.400Z"
   },
   {
    "duration": 8,
    "start_time": "2022-03-28T19:03:46.442Z"
   },
   {
    "duration": 1021,
    "start_time": "2022-03-28T19:03:46.452Z"
   },
   {
    "duration": 17,
    "start_time": "2022-03-28T19:03:47.476Z"
   },
   {
    "duration": 148,
    "start_time": "2022-03-28T19:03:47.495Z"
   },
   {
    "duration": 17,
    "start_time": "2022-03-28T19:03:47.646Z"
   },
   {
    "duration": 1380,
    "start_time": "2022-03-28T19:03:47.665Z"
   },
   {
    "duration": 1819,
    "start_time": "2022-03-28T19:03:49.047Z"
   },
   {
    "duration": 13,
    "start_time": "2022-03-28T19:03:50.869Z"
   },
   {
    "duration": 67,
    "start_time": "2022-03-28T19:03:50.884Z"
   },
   {
    "duration": 95,
    "start_time": "2022-03-28T19:03:50.953Z"
   },
   {
    "duration": 934,
    "start_time": "2022-03-28T19:03:51.050Z"
   },
   {
    "duration": 20,
    "start_time": "2022-03-28T19:03:51.987Z"
   },
   {
    "duration": 178,
    "start_time": "2022-03-28T19:03:52.009Z"
   },
   {
    "duration": 965,
    "start_time": "2022-03-28T19:03:52.190Z"
   },
   {
    "duration": 37,
    "start_time": "2022-03-28T19:03:53.158Z"
   },
   {
    "duration": 1169,
    "start_time": "2022-03-28T19:03:53.198Z"
   },
   {
    "duration": 51,
    "start_time": "2022-03-28T19:03:54.370Z"
   },
   {
    "duration": 22,
    "start_time": "2022-03-28T19:03:54.423Z"
   },
   {
    "duration": 226,
    "start_time": "2022-03-28T19:03:54.447Z"
   },
   {
    "duration": 650,
    "start_time": "2022-03-28T19:03:54.676Z"
   },
   {
    "duration": 6,
    "start_time": "2022-03-28T19:03:55.328Z"
   },
   {
    "duration": 4,
    "start_time": "2022-03-28T19:03:55.343Z"
   },
   {
    "duration": 18,
    "start_time": "2022-03-28T19:03:55.350Z"
   },
   {
    "duration": 237,
    "start_time": "2022-03-28T19:03:55.371Z"
   },
   {
    "duration": 32,
    "start_time": "2022-03-28T19:03:55.611Z"
   },
   {
    "duration": 3,
    "start_time": "2022-03-28T19:03:55.646Z"
   },
   {
    "duration": 6,
    "start_time": "2022-03-28T19:03:55.651Z"
   },
   {
    "duration": 7,
    "start_time": "2022-03-28T19:03:55.660Z"
   },
   {
    "duration": 11,
    "start_time": "2022-03-28T19:03:55.669Z"
   },
   {
    "duration": 7,
    "start_time": "2022-03-28T19:03:55.682Z"
   },
   {
    "duration": 10,
    "start_time": "2022-03-28T19:03:55.691Z"
   },
   {
    "duration": 14,
    "start_time": "2022-03-28T19:03:55.704Z"
   },
   {
    "duration": 23,
    "start_time": "2022-03-28T19:03:55.720Z"
   },
   {
    "duration": 30,
    "start_time": "2022-03-28T19:03:55.746Z"
   },
   {
    "duration": 4,
    "start_time": "2022-03-28T19:03:55.778Z"
   },
   {
    "duration": 228,
    "start_time": "2022-03-28T19:03:55.784Z"
   },
   {
    "duration": 75,
    "start_time": "2022-03-28T19:03:56.014Z"
   },
   {
    "duration": 55,
    "start_time": "2022-03-28T19:03:56.092Z"
   },
   {
    "duration": 4,
    "start_time": "2022-03-28T19:03:56.149Z"
   },
   {
    "duration": 4,
    "start_time": "2022-03-28T19:03:56.155Z"
   },
   {
    "duration": 17,
    "start_time": "2022-03-28T19:04:55.995Z"
   },
   {
    "duration": 1009,
    "start_time": "2022-03-28T19:04:57.770Z"
   },
   {
    "duration": 9,
    "start_time": "2022-03-28T19:05:15.654Z"
   },
   {
    "duration": 7,
    "start_time": "2022-03-28T19:05:25.282Z"
   },
   {
    "duration": 9,
    "start_time": "2022-03-28T19:06:04.755Z"
   },
   {
    "duration": 961,
    "start_time": "2022-03-28T19:06:06.430Z"
   },
   {
    "duration": 417,
    "start_time": "2022-03-28T19:06:22.234Z"
   },
   {
    "duration": 38,
    "start_time": "2022-03-28T19:06:51.339Z"
   },
   {
    "duration": 16,
    "start_time": "2022-03-28T19:06:52.756Z"
   },
   {
    "duration": 19,
    "start_time": "2022-03-28T19:06:54.133Z"
   },
   {
    "duration": 232,
    "start_time": "2022-03-28T19:06:55.488Z"
   },
   {
    "duration": 2133,
    "start_time": "2022-03-28T19:08:03.335Z"
   },
   {
    "duration": 1205,
    "start_time": "2022-03-28T19:08:05.471Z"
   },
   {
    "duration": 79,
    "start_time": "2022-03-28T19:08:06.678Z"
   },
   {
    "duration": 308,
    "start_time": "2022-03-28T19:08:06.758Z"
   },
   {
    "duration": 316,
    "start_time": "2022-03-28T19:08:07.069Z"
   },
   {
    "duration": 374,
    "start_time": "2022-03-28T19:08:07.387Z"
   },
   {
    "duration": 7,
    "start_time": "2022-03-28T19:08:07.763Z"
   },
   {
    "duration": 91,
    "start_time": "2022-03-28T19:08:07.772Z"
   },
   {
    "duration": 83,
    "start_time": "2022-03-28T19:08:07.865Z"
   },
   {
    "duration": 199,
    "start_time": "2022-03-28T19:08:07.950Z"
   },
   {
    "duration": 97,
    "start_time": "2022-03-28T19:08:08.151Z"
   },
   {
    "duration": 128,
    "start_time": "2022-03-28T19:08:08.249Z"
   },
   {
    "duration": 65,
    "start_time": "2022-03-28T19:08:08.379Z"
   },
   {
    "duration": 42,
    "start_time": "2022-03-28T19:08:08.448Z"
   },
   {
    "duration": 32,
    "start_time": "2022-03-28T19:08:08.542Z"
   },
   {
    "duration": 97,
    "start_time": "2022-03-28T19:08:08.576Z"
   },
   {
    "duration": 96,
    "start_time": "2022-03-28T19:08:08.675Z"
   },
   {
    "duration": 101,
    "start_time": "2022-03-28T19:08:08.773Z"
   },
   {
    "duration": 92,
    "start_time": "2022-03-28T19:08:08.876Z"
   },
   {
    "duration": 96,
    "start_time": "2022-03-28T19:08:08.970Z"
   },
   {
    "duration": 30,
    "start_time": "2022-03-28T19:08:09.068Z"
   },
   {
    "duration": 82,
    "start_time": "2022-03-28T19:08:09.101Z"
   },
   {
    "duration": 58,
    "start_time": "2022-03-28T19:08:09.185Z"
   },
   {
    "duration": 29,
    "start_time": "2022-03-28T19:08:09.246Z"
   },
   {
    "duration": 44,
    "start_time": "2022-03-28T19:08:09.277Z"
   },
   {
    "duration": 86,
    "start_time": "2022-03-28T19:08:09.342Z"
   },
   {
    "duration": 27,
    "start_time": "2022-03-28T19:08:09.442Z"
   },
   {
    "duration": 10,
    "start_time": "2022-03-28T19:08:09.471Z"
   },
   {
    "duration": 1015,
    "start_time": "2022-03-28T19:08:09.483Z"
   },
   {
    "duration": 17,
    "start_time": "2022-03-28T19:08:10.500Z"
   },
   {
    "duration": 154,
    "start_time": "2022-03-28T19:08:10.520Z"
   },
   {
    "duration": 18,
    "start_time": "2022-03-28T19:08:10.677Z"
   },
   {
    "duration": 14,
    "start_time": "2022-03-28T19:08:10.698Z"
   },
   {
    "duration": 547,
    "start_time": "2022-03-28T19:08:10.715Z"
   },
   {
    "duration": 0,
    "start_time": "2022-03-28T19:08:11.266Z"
   },
   {
    "duration": 0,
    "start_time": "2022-03-28T19:08:11.268Z"
   },
   {
    "duration": 0,
    "start_time": "2022-03-28T19:08:11.269Z"
   },
   {
    "duration": 0,
    "start_time": "2022-03-28T19:08:11.270Z"
   },
   {
    "duration": 0,
    "start_time": "2022-03-28T19:08:11.272Z"
   },
   {
    "duration": 0,
    "start_time": "2022-03-28T19:08:11.273Z"
   },
   {
    "duration": 0,
    "start_time": "2022-03-28T19:08:11.274Z"
   },
   {
    "duration": 0,
    "start_time": "2022-03-28T19:08:11.275Z"
   },
   {
    "duration": 0,
    "start_time": "2022-03-28T19:08:11.277Z"
   },
   {
    "duration": 0,
    "start_time": "2022-03-28T19:08:11.278Z"
   },
   {
    "duration": 0,
    "start_time": "2022-03-28T19:08:11.279Z"
   },
   {
    "duration": 0,
    "start_time": "2022-03-28T19:08:11.280Z"
   },
   {
    "duration": 0,
    "start_time": "2022-03-28T19:08:11.282Z"
   },
   {
    "duration": 0,
    "start_time": "2022-03-28T19:08:11.284Z"
   },
   {
    "duration": 0,
    "start_time": "2022-03-28T19:08:11.286Z"
   },
   {
    "duration": 0,
    "start_time": "2022-03-28T19:08:11.288Z"
   },
   {
    "duration": 0,
    "start_time": "2022-03-28T19:08:11.290Z"
   },
   {
    "duration": 0,
    "start_time": "2022-03-28T19:08:11.291Z"
   },
   {
    "duration": 0,
    "start_time": "2022-03-28T19:08:11.293Z"
   },
   {
    "duration": 0,
    "start_time": "2022-03-28T19:08:11.294Z"
   },
   {
    "duration": 0,
    "start_time": "2022-03-28T19:08:11.295Z"
   },
   {
    "duration": 0,
    "start_time": "2022-03-28T19:08:11.296Z"
   },
   {
    "duration": 0,
    "start_time": "2022-03-28T19:08:11.343Z"
   },
   {
    "duration": 0,
    "start_time": "2022-03-28T19:08:11.345Z"
   },
   {
    "duration": 0,
    "start_time": "2022-03-28T19:08:11.347Z"
   },
   {
    "duration": 0,
    "start_time": "2022-03-28T19:08:11.348Z"
   },
   {
    "duration": 0,
    "start_time": "2022-03-28T19:08:11.350Z"
   },
   {
    "duration": 0,
    "start_time": "2022-03-28T19:08:11.351Z"
   },
   {
    "duration": 0,
    "start_time": "2022-03-28T19:08:11.353Z"
   },
   {
    "duration": 0,
    "start_time": "2022-03-28T19:08:11.355Z"
   },
   {
    "duration": 0,
    "start_time": "2022-03-28T19:08:11.357Z"
   },
   {
    "duration": 0,
    "start_time": "2022-03-28T19:08:11.358Z"
   },
   {
    "duration": 0,
    "start_time": "2022-03-28T19:08:11.360Z"
   },
   {
    "duration": 0,
    "start_time": "2022-03-28T19:08:11.362Z"
   },
   {
    "duration": 39,
    "start_time": "2022-03-28T19:08:54.403Z"
   },
   {
    "duration": 928,
    "start_time": "2022-03-28T19:08:56.478Z"
   },
   {
    "duration": 17,
    "start_time": "2022-03-28T19:09:07.724Z"
   },
   {
    "duration": 252,
    "start_time": "2022-03-28T19:09:09.220Z"
   },
   {
    "duration": 15,
    "start_time": "2022-03-28T19:10:16.917Z"
   },
   {
    "duration": 242,
    "start_time": "2022-03-28T19:11:01.111Z"
   },
   {
    "duration": 10,
    "start_time": "2022-03-28T19:11:07.253Z"
   },
   {
    "duration": 99,
    "start_time": "2022-03-28T19:11:27.283Z"
   },
   {
    "duration": 8,
    "start_time": "2022-03-28T19:11:36.016Z"
   },
   {
    "duration": 12,
    "start_time": "2022-03-28T19:11:37.657Z"
   },
   {
    "duration": 2196,
    "start_time": "2022-03-28T19:11:43.204Z"
   },
   {
    "duration": 1379,
    "start_time": "2022-03-28T19:11:45.402Z"
   },
   {
    "duration": 82,
    "start_time": "2022-03-28T19:11:46.787Z"
   },
   {
    "duration": 482,
    "start_time": "2022-03-28T19:11:46.871Z"
   },
   {
    "duration": 601,
    "start_time": "2022-03-28T19:11:47.356Z"
   },
   {
    "duration": 602,
    "start_time": "2022-03-28T19:11:47.960Z"
   },
   {
    "duration": 7,
    "start_time": "2022-03-28T19:11:48.564Z"
   },
   {
    "duration": 100,
    "start_time": "2022-03-28T19:11:48.573Z"
   },
   {
    "duration": 75,
    "start_time": "2022-03-28T19:11:48.678Z"
   },
   {
    "duration": 389,
    "start_time": "2022-03-28T19:11:48.756Z"
   },
   {
    "duration": 129,
    "start_time": "2022-03-28T19:11:49.147Z"
   },
   {
    "duration": 274,
    "start_time": "2022-03-28T19:11:49.278Z"
   },
   {
    "duration": 19,
    "start_time": "2022-03-28T19:11:49.555Z"
   },
   {
    "duration": 166,
    "start_time": "2022-03-28T19:11:49.577Z"
   },
   {
    "duration": 28,
    "start_time": "2022-03-28T19:11:49.746Z"
   },
   {
    "duration": 110,
    "start_time": "2022-03-28T19:11:49.776Z"
   },
   {
    "duration": 183,
    "start_time": "2022-03-28T19:11:49.888Z"
   },
   {
    "duration": 175,
    "start_time": "2022-03-28T19:11:50.074Z"
   },
   {
    "duration": 124,
    "start_time": "2022-03-28T19:11:50.252Z"
   },
   {
    "duration": 183,
    "start_time": "2022-03-28T19:11:50.379Z"
   },
   {
    "duration": 93,
    "start_time": "2022-03-28T19:11:50.566Z"
   },
   {
    "duration": 185,
    "start_time": "2022-03-28T19:11:50.663Z"
   },
   {
    "duration": 100,
    "start_time": "2022-03-28T19:11:50.850Z"
   },
   {
    "duration": 98,
    "start_time": "2022-03-28T19:11:50.953Z"
   },
   {
    "duration": 189,
    "start_time": "2022-03-28T19:11:51.054Z"
   },
   {
    "duration": 313,
    "start_time": "2022-03-28T19:11:51.246Z"
   },
   {
    "duration": 89,
    "start_time": "2022-03-28T19:11:51.569Z"
   },
   {
    "duration": 11,
    "start_time": "2022-03-28T19:11:51.661Z"
   },
   {
    "duration": 1826,
    "start_time": "2022-03-28T19:11:51.675Z"
   },
   {
    "duration": 18,
    "start_time": "2022-03-28T19:11:53.504Z"
   },
   {
    "duration": 141,
    "start_time": "2022-03-28T19:11:53.524Z"
   },
   {
    "duration": 16,
    "start_time": "2022-03-28T19:11:53.668Z"
   },
   {
    "duration": 73,
    "start_time": "2022-03-28T19:11:53.686Z"
   },
   {
    "duration": 26,
    "start_time": "2022-03-28T19:11:53.762Z"
   },
   {
    "duration": 961,
    "start_time": "2022-03-28T19:11:53.791Z"
   },
   {
    "duration": 1419,
    "start_time": "2022-03-28T19:11:54.755Z"
   },
   {
    "duration": 13,
    "start_time": "2022-03-28T19:11:56.176Z"
   },
   {
    "duration": 12,
    "start_time": "2022-03-28T19:11:56.192Z"
   },
   {
    "duration": 81,
    "start_time": "2022-03-28T19:11:56.206Z"
   },
   {
    "duration": 836,
    "start_time": "2022-03-28T19:11:56.290Z"
   },
   {
    "duration": 28,
    "start_time": "2022-03-28T19:11:57.128Z"
   },
   {
    "duration": 44,
    "start_time": "2022-03-28T19:11:57.158Z"
   },
   {
    "duration": 949,
    "start_time": "2022-03-28T19:11:57.205Z"
   },
   {
    "duration": 35,
    "start_time": "2022-03-28T19:11:58.156Z"
   },
   {
    "duration": 1489,
    "start_time": "2022-03-28T19:11:58.194Z"
   },
   {
    "duration": 80,
    "start_time": "2022-03-28T19:11:59.686Z"
   },
   {
    "duration": 7,
    "start_time": "2022-03-28T19:11:59.769Z"
   },
   {
    "duration": 235,
    "start_time": "2022-03-28T19:11:59.779Z"
   },
   {
    "duration": 635,
    "start_time": "2022-03-28T19:12:00.017Z"
   },
   {
    "duration": 6,
    "start_time": "2022-03-28T19:12:00.654Z"
   },
   {
    "duration": 5,
    "start_time": "2022-03-28T19:12:00.662Z"
   },
   {
    "duration": 20,
    "start_time": "2022-03-28T19:12:00.670Z"
   },
   {
    "duration": 267,
    "start_time": "2022-03-28T19:12:00.692Z"
   },
   {
    "duration": 20,
    "start_time": "2022-03-28T19:12:00.961Z"
   },
   {
    "duration": 4,
    "start_time": "2022-03-28T19:12:00.983Z"
   },
   {
    "duration": 12,
    "start_time": "2022-03-28T19:12:00.989Z"
   },
   {
    "duration": 8,
    "start_time": "2022-03-28T19:12:01.004Z"
   },
   {
    "duration": 46,
    "start_time": "2022-03-28T19:12:01.015Z"
   },
   {
    "duration": 12,
    "start_time": "2022-03-28T19:12:01.063Z"
   },
   {
    "duration": 20,
    "start_time": "2022-03-28T19:12:01.077Z"
   },
   {
    "duration": 9,
    "start_time": "2022-03-28T19:12:01.099Z"
   },
   {
    "duration": 9,
    "start_time": "2022-03-28T19:12:01.110Z"
   },
   {
    "duration": 33,
    "start_time": "2022-03-28T19:12:01.121Z"
   },
   {
    "duration": 17,
    "start_time": "2022-03-28T19:12:01.157Z"
   },
   {
    "duration": 198,
    "start_time": "2022-03-28T19:12:01.177Z"
   },
   {
    "duration": 66,
    "start_time": "2022-03-28T19:12:01.377Z"
   },
   {
    "duration": 42,
    "start_time": "2022-03-28T19:12:01.446Z"
   },
   {
    "duration": 8,
    "start_time": "2022-03-28T19:12:01.492Z"
   },
   {
    "duration": 16,
    "start_time": "2022-03-28T19:12:01.502Z"
   },
   {
    "duration": 859,
    "start_time": "2022-03-28T19:13:08.478Z"
   },
   {
    "duration": 248,
    "start_time": "2022-03-28T19:13:21.816Z"
   },
   {
    "duration": 775,
    "start_time": "2022-03-28T19:13:23.312Z"
   },
   {
    "duration": 2204,
    "start_time": "2022-03-28T19:13:51.227Z"
   },
   {
    "duration": 1149,
    "start_time": "2022-03-28T19:13:53.433Z"
   },
   {
    "duration": 30,
    "start_time": "2022-03-28T19:13:54.585Z"
   },
   {
    "duration": 165,
    "start_time": "2022-03-28T19:13:54.618Z"
   },
   {
    "duration": 171,
    "start_time": "2022-03-28T19:13:54.784Z"
   },
   {
    "duration": 160,
    "start_time": "2022-03-28T19:13:54.957Z"
   },
   {
    "duration": 24,
    "start_time": "2022-03-28T19:13:55.119Z"
   },
   {
    "duration": 39,
    "start_time": "2022-03-28T19:13:55.145Z"
   },
   {
    "duration": 84,
    "start_time": "2022-03-28T19:13:55.186Z"
   },
   {
    "duration": 384,
    "start_time": "2022-03-28T19:13:55.275Z"
   },
   {
    "duration": 185,
    "start_time": "2022-03-28T19:13:55.662Z"
   },
   {
    "duration": 130,
    "start_time": "2022-03-28T19:13:55.850Z"
   },
   {
    "duration": 61,
    "start_time": "2022-03-28T19:13:55.983Z"
   },
   {
    "duration": 97,
    "start_time": "2022-03-28T19:13:56.046Z"
   },
   {
    "duration": 29,
    "start_time": "2022-03-28T19:13:56.145Z"
   },
   {
    "duration": 173,
    "start_time": "2022-03-28T19:13:56.176Z"
   },
   {
    "duration": 127,
    "start_time": "2022-03-28T19:13:56.352Z"
   },
   {
    "duration": 167,
    "start_time": "2022-03-28T19:13:56.481Z"
   },
   {
    "duration": 127,
    "start_time": "2022-03-28T19:13:56.651Z"
   },
   {
    "duration": 171,
    "start_time": "2022-03-28T19:13:56.781Z"
   },
   {
    "duration": 28,
    "start_time": "2022-03-28T19:13:56.955Z"
   },
   {
    "duration": 89,
    "start_time": "2022-03-28T19:13:56.985Z"
   },
   {
    "duration": 97,
    "start_time": "2022-03-28T19:13:57.077Z"
   },
   {
    "duration": 79,
    "start_time": "2022-03-28T19:13:57.176Z"
   },
   {
    "duration": 98,
    "start_time": "2022-03-28T19:13:57.257Z"
   },
   {
    "duration": 187,
    "start_time": "2022-03-28T19:13:57.357Z"
   },
   {
    "duration": 28,
    "start_time": "2022-03-28T19:13:57.546Z"
   },
   {
    "duration": 63,
    "start_time": "2022-03-28T19:13:57.580Z"
   },
   {
    "duration": 1846,
    "start_time": "2022-03-28T19:13:57.645Z"
   },
   {
    "duration": 20,
    "start_time": "2022-03-28T19:13:59.493Z"
   },
   {
    "duration": 139,
    "start_time": "2022-03-28T19:13:59.515Z"
   },
   {
    "duration": 18,
    "start_time": "2022-03-28T19:13:59.657Z"
   },
   {
    "duration": 81,
    "start_time": "2022-03-28T19:13:59.678Z"
   },
   {
    "duration": 916,
    "start_time": "2022-03-28T19:13:59.761Z"
   },
   {
    "duration": 1077,
    "start_time": "2022-03-28T19:14:00.679Z"
   },
   {
    "duration": 14,
    "start_time": "2022-03-28T19:14:01.758Z"
   },
   {
    "duration": 44,
    "start_time": "2022-03-28T19:14:01.774Z"
   },
   {
    "duration": 812,
    "start_time": "2022-03-28T19:14:01.843Z"
   },
   {
    "duration": 19,
    "start_time": "2022-03-28T19:14:02.657Z"
   },
   {
    "duration": 42,
    "start_time": "2022-03-28T19:14:02.678Z"
   },
   {
    "duration": 755,
    "start_time": "2022-03-28T19:14:02.744Z"
   },
   {
    "duration": 918,
    "start_time": "2022-03-28T19:14:03.501Z"
   },
   {
    "duration": 45,
    "start_time": "2022-03-28T19:14:04.421Z"
   },
   {
    "duration": 1356,
    "start_time": "2022-03-28T19:14:04.468Z"
   },
   {
    "duration": 54,
    "start_time": "2022-03-28T19:14:05.826Z"
   },
   {
    "duration": 4,
    "start_time": "2022-03-28T19:14:05.882Z"
   },
   {
    "duration": 229,
    "start_time": "2022-03-28T19:14:05.888Z"
   },
   {
    "duration": 702,
    "start_time": "2022-03-28T19:14:06.120Z"
   },
   {
    "duration": 5,
    "start_time": "2022-03-28T19:14:06.824Z"
   },
   {
    "duration": 5,
    "start_time": "2022-03-28T19:14:06.831Z"
   },
   {
    "duration": 20,
    "start_time": "2022-03-28T19:14:06.843Z"
   },
   {
    "duration": 256,
    "start_time": "2022-03-28T19:14:06.865Z"
   },
   {
    "duration": 28,
    "start_time": "2022-03-28T19:14:07.123Z"
   },
   {
    "duration": 33301,
    "start_time": "2022-03-28T19:14:07.153Z"
   },
   {
    "duration": 0,
    "start_time": "2022-03-28T19:14:40.457Z"
   },
   {
    "duration": 0,
    "start_time": "2022-03-28T19:14:40.459Z"
   },
   {
    "duration": 0,
    "start_time": "2022-03-28T19:14:40.460Z"
   },
   {
    "duration": 0,
    "start_time": "2022-03-28T19:14:40.462Z"
   },
   {
    "duration": 0,
    "start_time": "2022-03-28T19:14:40.464Z"
   },
   {
    "duration": 1,
    "start_time": "2022-03-28T19:14:40.465Z"
   },
   {
    "duration": 0,
    "start_time": "2022-03-28T19:14:40.467Z"
   },
   {
    "duration": 1,
    "start_time": "2022-03-28T19:14:40.468Z"
   },
   {
    "duration": 0,
    "start_time": "2022-03-28T19:14:40.470Z"
   },
   {
    "duration": 0,
    "start_time": "2022-03-28T19:14:40.472Z"
   },
   {
    "duration": 0,
    "start_time": "2022-03-28T19:14:40.474Z"
   },
   {
    "duration": 0,
    "start_time": "2022-03-28T19:14:40.476Z"
   },
   {
    "duration": 0,
    "start_time": "2022-03-28T19:14:40.478Z"
   },
   {
    "duration": 0,
    "start_time": "2022-03-28T19:14:40.480Z"
   },
   {
    "duration": 2177,
    "start_time": "2022-03-28T19:14:43.113Z"
   },
   {
    "duration": 1016,
    "start_time": "2022-03-28T19:14:45.293Z"
   },
   {
    "duration": 38,
    "start_time": "2022-03-28T19:14:46.311Z"
   },
   {
    "duration": 173,
    "start_time": "2022-03-28T19:14:46.352Z"
   },
   {
    "duration": 197,
    "start_time": "2022-03-28T19:14:46.529Z"
   },
   {
    "duration": 161,
    "start_time": "2022-03-28T19:14:46.728Z"
   },
   {
    "duration": 7,
    "start_time": "2022-03-28T19:14:46.892Z"
   },
   {
    "duration": 58,
    "start_time": "2022-03-28T19:14:46.901Z"
   },
   {
    "duration": 28,
    "start_time": "2022-03-28T19:14:46.961Z"
   },
   {
    "duration": 128,
    "start_time": "2022-03-28T19:14:46.993Z"
   },
   {
    "duration": 46,
    "start_time": "2022-03-28T19:14:47.123Z"
   },
   {
    "duration": 94,
    "start_time": "2022-03-28T19:14:47.171Z"
   },
   {
    "duration": 14,
    "start_time": "2022-03-28T19:14:47.268Z"
   },
   {
    "duration": 59,
    "start_time": "2022-03-28T19:14:47.285Z"
   },
   {
    "duration": 31,
    "start_time": "2022-03-28T19:14:47.346Z"
   },
   {
    "duration": 68,
    "start_time": "2022-03-28T19:14:47.379Z"
   },
   {
    "duration": 43,
    "start_time": "2022-03-28T19:14:47.449Z"
   },
   {
    "duration": 65,
    "start_time": "2022-03-28T19:14:47.494Z"
   },
   {
    "duration": 40,
    "start_time": "2022-03-28T19:14:47.561Z"
   },
   {
    "duration": 62,
    "start_time": "2022-03-28T19:14:47.603Z"
   },
   {
    "duration": 29,
    "start_time": "2022-03-28T19:14:47.667Z"
   },
   {
    "duration": 52,
    "start_time": "2022-03-28T19:14:47.698Z"
   },
   {
    "duration": 43,
    "start_time": "2022-03-28T19:14:47.752Z"
   },
   {
    "duration": 50,
    "start_time": "2022-03-28T19:14:47.797Z"
   },
   {
    "duration": 46,
    "start_time": "2022-03-28T19:14:47.849Z"
   },
   {
    "duration": 105,
    "start_time": "2022-03-28T19:14:47.897Z"
   },
   {
    "duration": 39,
    "start_time": "2022-03-28T19:14:48.004Z"
   },
   {
    "duration": 8,
    "start_time": "2022-03-28T19:14:48.048Z"
   },
   {
    "duration": 1052,
    "start_time": "2022-03-28T19:14:48.058Z"
   },
   {
    "duration": 31,
    "start_time": "2022-03-28T19:14:49.113Z"
   },
   {
    "duration": 164,
    "start_time": "2022-03-28T19:14:49.147Z"
   },
   {
    "duration": 31,
    "start_time": "2022-03-28T19:14:49.314Z"
   },
   {
    "duration": 51,
    "start_time": "2022-03-28T19:14:49.347Z"
   },
   {
    "duration": 915,
    "start_time": "2022-03-28T19:14:49.400Z"
   },
   {
    "duration": 902,
    "start_time": "2022-03-28T19:14:50.318Z"
   },
   {
    "duration": 27,
    "start_time": "2022-03-28T19:14:51.223Z"
   },
   {
    "duration": 43,
    "start_time": "2022-03-28T19:14:51.253Z"
   },
   {
    "duration": 904,
    "start_time": "2022-03-28T19:14:51.298Z"
   },
   {
    "duration": 20,
    "start_time": "2022-03-28T19:14:52.204Z"
   },
   {
    "duration": 55,
    "start_time": "2022-03-28T19:14:52.226Z"
   },
   {
    "duration": 800,
    "start_time": "2022-03-28T19:14:52.284Z"
   },
   {
    "duration": 904,
    "start_time": "2022-03-28T19:14:53.086Z"
   },
   {
    "duration": 50,
    "start_time": "2022-03-28T19:14:53.992Z"
   },
   {
    "duration": 1304,
    "start_time": "2022-03-28T19:14:54.044Z"
   },
   {
    "duration": 50,
    "start_time": "2022-03-28T19:14:55.350Z"
   },
   {
    "duration": 5,
    "start_time": "2022-03-28T19:14:55.402Z"
   },
   {
    "duration": 238,
    "start_time": "2022-03-28T19:14:55.409Z"
   },
   {
    "duration": 603,
    "start_time": "2022-03-28T19:14:55.649Z"
   },
   {
    "duration": 7,
    "start_time": "2022-03-28T19:14:56.254Z"
   },
   {
    "duration": 4,
    "start_time": "2022-03-28T19:14:56.263Z"
   },
   {
    "duration": 16,
    "start_time": "2022-03-28T19:14:56.269Z"
   },
   {
    "duration": 253,
    "start_time": "2022-03-28T19:14:56.287Z"
   },
   {
    "duration": 20,
    "start_time": "2022-03-28T19:14:56.543Z"
   },
   {
    "duration": 32584,
    "start_time": "2022-03-28T19:14:56.565Z"
   },
   {
    "duration": 297,
    "start_time": "2022-03-28T19:15:29.152Z"
   },
   {
    "duration": 93,
    "start_time": "2022-03-28T19:15:29.452Z"
   },
   {
    "duration": 7,
    "start_time": "2022-03-28T19:15:29.548Z"
   },
   {
    "duration": 10,
    "start_time": "2022-03-28T19:15:29.557Z"
   },
   {
    "duration": 7,
    "start_time": "2022-03-28T19:15:29.569Z"
   },
   {
    "duration": 7,
    "start_time": "2022-03-28T19:15:29.578Z"
   },
   {
    "duration": 5,
    "start_time": "2022-03-28T19:15:29.587Z"
   },
   {
    "duration": 63,
    "start_time": "2022-03-28T19:15:29.594Z"
   },
   {
    "duration": 4,
    "start_time": "2022-03-28T19:15:29.659Z"
   },
   {
    "duration": 215,
    "start_time": "2022-03-28T19:15:29.665Z"
   },
   {
    "duration": 63,
    "start_time": "2022-03-28T19:15:29.883Z"
   },
   {
    "duration": 39,
    "start_time": "2022-03-28T19:15:29.948Z"
   },
   {
    "duration": 6,
    "start_time": "2022-03-28T19:15:29.990Z"
   },
   {
    "duration": 11,
    "start_time": "2022-03-28T19:15:29.998Z"
   },
   {
    "duration": 208,
    "start_time": "2022-03-28T19:17:31.851Z"
   },
   {
    "duration": 18172,
    "start_time": "2022-03-28T19:17:36.769Z"
   },
   {
    "duration": 613372,
    "start_time": "2022-03-28T19:18:01.717Z"
   },
   {
    "duration": 6093,
    "start_time": "2022-03-28T19:28:15.093Z"
   },
   {
    "duration": 1198,
    "start_time": "2022-03-28T19:31:54.962Z"
   },
   {
    "duration": 2405,
    "start_time": "2022-03-28T19:39:59.577Z"
   },
   {
    "duration": 2435,
    "start_time": "2022-03-28T19:40:01.984Z"
   },
   {
    "duration": 42,
    "start_time": "2022-03-28T19:40:04.421Z"
   },
   {
    "duration": 180,
    "start_time": "2022-03-28T19:40:04.466Z"
   },
   {
    "duration": 183,
    "start_time": "2022-03-28T19:40:04.648Z"
   },
   {
    "duration": 165,
    "start_time": "2022-03-28T19:40:04.833Z"
   },
   {
    "duration": 8,
    "start_time": "2022-03-28T19:40:05.000Z"
   },
   {
    "duration": 58,
    "start_time": "2022-03-28T19:40:05.010Z"
   },
   {
    "duration": 30,
    "start_time": "2022-03-28T19:40:05.070Z"
   },
   {
    "duration": 130,
    "start_time": "2022-03-28T19:40:05.104Z"
   },
   {
    "duration": 46,
    "start_time": "2022-03-28T19:40:05.236Z"
   },
   {
    "duration": 99,
    "start_time": "2022-03-28T19:40:05.285Z"
   },
   {
    "duration": 16,
    "start_time": "2022-03-28T19:40:05.386Z"
   },
   {
    "duration": 63,
    "start_time": "2022-03-28T19:40:05.404Z"
   },
   {
    "duration": 35,
    "start_time": "2022-03-28T19:40:05.469Z"
   },
   {
    "duration": 54,
    "start_time": "2022-03-28T19:40:05.507Z"
   },
   {
    "duration": 80,
    "start_time": "2022-03-28T19:40:05.564Z"
   },
   {
    "duration": 52,
    "start_time": "2022-03-28T19:40:05.646Z"
   },
   {
    "duration": 64,
    "start_time": "2022-03-28T19:40:05.700Z"
   },
   {
    "duration": 87,
    "start_time": "2022-03-28T19:40:05.767Z"
   },
   {
    "duration": 30,
    "start_time": "2022-03-28T19:40:05.856Z"
   },
   {
    "duration": 63,
    "start_time": "2022-03-28T19:40:05.888Z"
   },
   {
    "duration": 99,
    "start_time": "2022-03-28T19:40:05.954Z"
   },
   {
    "duration": 33,
    "start_time": "2022-03-28T19:40:06.056Z"
   },
   {
    "duration": 64,
    "start_time": "2022-03-28T19:40:06.091Z"
   },
   {
    "duration": 170,
    "start_time": "2022-03-28T19:40:06.157Z"
   },
   {
    "duration": 46,
    "start_time": "2022-03-28T19:40:06.330Z"
   },
   {
    "duration": 9,
    "start_time": "2022-03-28T19:40:06.382Z"
   },
   {
    "duration": 1046,
    "start_time": "2022-03-28T19:40:06.393Z"
   },
   {
    "duration": 18,
    "start_time": "2022-03-28T19:40:07.443Z"
   },
   {
    "duration": 155,
    "start_time": "2022-03-28T19:40:07.463Z"
   },
   {
    "duration": 27,
    "start_time": "2022-03-28T19:40:07.621Z"
   },
   {
    "duration": 62,
    "start_time": "2022-03-28T19:40:07.650Z"
   },
   {
    "duration": 956,
    "start_time": "2022-03-28T19:40:07.715Z"
   },
   {
    "duration": 918,
    "start_time": "2022-03-28T19:40:08.673Z"
   },
   {
    "duration": 13,
    "start_time": "2022-03-28T19:40:09.594Z"
   },
   {
    "duration": 78,
    "start_time": "2022-03-28T19:40:09.610Z"
   },
   {
    "duration": 1118,
    "start_time": "2022-03-28T19:40:09.691Z"
   },
   {
    "duration": 40,
    "start_time": "2022-03-28T19:40:10.813Z"
   },
   {
    "duration": 45,
    "start_time": "2022-03-28T19:40:10.856Z"
   },
   {
    "duration": 1170,
    "start_time": "2022-03-28T19:40:10.904Z"
   },
   {
    "duration": 1408,
    "start_time": "2022-03-28T19:40:12.077Z"
   },
   {
    "duration": 61,
    "start_time": "2022-03-28T19:40:13.488Z"
   },
   {
    "duration": 1494,
    "start_time": "2022-03-28T19:40:13.551Z"
   },
   {
    "duration": 65,
    "start_time": "2022-03-28T19:40:15.048Z"
   },
   {
    "duration": 27,
    "start_time": "2022-03-28T19:40:15.116Z"
   },
   {
    "duration": 239,
    "start_time": "2022-03-28T19:40:15.145Z"
   },
   {
    "duration": 705,
    "start_time": "2022-03-28T19:40:15.391Z"
   },
   {
    "duration": 197,
    "start_time": "2022-03-28T19:40:16.099Z"
   },
   {
    "duration": 0,
    "start_time": "2022-03-28T19:40:16.298Z"
   },
   {
    "duration": 0,
    "start_time": "2022-03-28T19:40:16.299Z"
   },
   {
    "duration": 0,
    "start_time": "2022-03-28T19:40:16.301Z"
   },
   {
    "duration": 0,
    "start_time": "2022-03-28T19:40:16.302Z"
   },
   {
    "duration": 0,
    "start_time": "2022-03-28T19:40:16.303Z"
   },
   {
    "duration": 0,
    "start_time": "2022-03-28T19:40:16.304Z"
   },
   {
    "duration": 0,
    "start_time": "2022-03-28T19:40:16.305Z"
   },
   {
    "duration": 0,
    "start_time": "2022-03-28T19:40:16.306Z"
   },
   {
    "duration": 0,
    "start_time": "2022-03-28T19:40:16.308Z"
   },
   {
    "duration": 0,
    "start_time": "2022-03-28T19:40:16.309Z"
   },
   {
    "duration": 0,
    "start_time": "2022-03-28T19:40:16.310Z"
   },
   {
    "duration": 0,
    "start_time": "2022-03-28T19:40:16.311Z"
   },
   {
    "duration": 0,
    "start_time": "2022-03-28T19:40:16.312Z"
   },
   {
    "duration": 0,
    "start_time": "2022-03-28T19:40:16.314Z"
   },
   {
    "duration": 0,
    "start_time": "2022-03-28T19:40:16.343Z"
   },
   {
    "duration": 0,
    "start_time": "2022-03-28T19:40:16.345Z"
   },
   {
    "duration": 0,
    "start_time": "2022-03-28T19:40:16.346Z"
   },
   {
    "duration": 0,
    "start_time": "2022-03-28T19:40:16.348Z"
   },
   {
    "duration": 0,
    "start_time": "2022-03-28T19:40:16.349Z"
   },
   {
    "duration": 0,
    "start_time": "2022-03-28T19:40:16.351Z"
   },
   {
    "duration": 0,
    "start_time": "2022-03-28T19:40:16.352Z"
   },
   {
    "duration": 0,
    "start_time": "2022-03-28T19:40:16.353Z"
   },
   {
    "duration": 0,
    "start_time": "2022-03-28T19:40:16.355Z"
   },
   {
    "duration": 511,
    "start_time": "2022-03-28T19:41:11.908Z"
   },
   {
    "duration": 127,
    "start_time": "2022-03-28T19:41:14.464Z"
   },
   {
    "duration": 536,
    "start_time": "2022-03-28T19:41:14.641Z"
   },
   {
    "duration": 13,
    "start_time": "2022-03-28T19:41:15.180Z"
   },
   {
    "duration": 0,
    "start_time": "2022-03-28T19:41:15.196Z"
   },
   {
    "duration": 13,
    "start_time": "2022-03-28T19:41:15.685Z"
   },
   {
    "duration": 14,
    "start_time": "2022-03-28T19:41:15.879Z"
   },
   {
    "duration": 5,
    "start_time": "2022-03-28T19:41:21.198Z"
   },
   {
    "duration": 15,
    "start_time": "2022-03-28T19:41:21.566Z"
   },
   {
    "duration": 220,
    "start_time": "2022-03-28T19:41:22.057Z"
   },
   {
    "duration": 21,
    "start_time": "2022-03-28T19:41:22.618Z"
   },
   {
    "duration": 55548,
    "start_time": "2022-03-28T19:41:23.495Z"
   },
   {
    "duration": 19,
    "start_time": "2022-03-28T19:42:19.047Z"
   },
   {
    "duration": 0,
    "start_time": "2022-03-28T19:42:19.070Z"
   },
   {
    "duration": 0,
    "start_time": "2022-03-28T19:42:19.072Z"
   },
   {
    "duration": 0,
    "start_time": "2022-03-28T19:42:19.073Z"
   },
   {
    "duration": 0,
    "start_time": "2022-03-28T19:42:19.075Z"
   },
   {
    "duration": 0,
    "start_time": "2022-03-28T19:42:19.076Z"
   },
   {
    "duration": 0,
    "start_time": "2022-03-28T19:42:19.079Z"
   },
   {
    "duration": 0,
    "start_time": "2022-03-28T19:42:19.080Z"
   },
   {
    "duration": 0,
    "start_time": "2022-03-28T19:42:19.081Z"
   },
   {
    "duration": 0,
    "start_time": "2022-03-28T19:42:19.142Z"
   },
   {
    "duration": 0,
    "start_time": "2022-03-28T19:42:19.144Z"
   },
   {
    "duration": 0,
    "start_time": "2022-03-28T19:42:19.146Z"
   },
   {
    "duration": 0,
    "start_time": "2022-03-28T19:42:19.149Z"
   },
   {
    "duration": 0,
    "start_time": "2022-03-28T19:42:19.151Z"
   },
   {
    "duration": 0,
    "start_time": "2022-03-28T19:42:19.153Z"
   },
   {
    "duration": 0,
    "start_time": "2022-03-28T19:42:19.155Z"
   },
   {
    "duration": 0,
    "start_time": "2022-03-28T19:42:19.157Z"
   },
   {
    "duration": 0,
    "start_time": "2022-03-28T19:42:19.159Z"
   },
   {
    "duration": 107,
    "start_time": "2022-03-28T20:04:35.148Z"
   },
   {
    "duration": 101,
    "start_time": "2022-03-28T20:04:42.150Z"
   },
   {
    "duration": 5,
    "start_time": "2022-03-28T20:04:42.710Z"
   },
   {
    "duration": 3,
    "start_time": "2022-03-28T20:04:42.920Z"
   },
   {
    "duration": 3,
    "start_time": "2022-03-28T20:04:43.156Z"
   },
   {
    "duration": 3,
    "start_time": "2022-03-28T20:04:43.364Z"
   },
   {
    "duration": 3,
    "start_time": "2022-03-28T20:04:43.568Z"
   },
   {
    "duration": 3,
    "start_time": "2022-03-28T20:04:43.780Z"
   },
   {
    "duration": 30,
    "start_time": "2022-03-28T20:04:44.685Z"
   },
   {
    "duration": 5,
    "start_time": "2022-03-28T20:04:45.040Z"
   },
   {
    "duration": 222,
    "start_time": "2022-03-28T20:04:45.240Z"
   },
   {
    "duration": 58,
    "start_time": "2022-03-28T20:04:45.464Z"
   },
   {
    "duration": 41,
    "start_time": "2022-03-28T20:04:45.636Z"
   },
   {
    "duration": 3,
    "start_time": "2022-03-28T20:04:46.293Z"
   },
   {
    "duration": 600496,
    "start_time": "2022-03-28T20:04:46.857Z"
   },
   {
    "duration": 1097,
    "start_time": "2022-03-28T20:14:48.468Z"
   },
   {
    "duration": 4,
    "start_time": "2022-03-28T20:14:49.569Z"
   },
   {
    "duration": 197276,
    "start_time": "2022-03-28T20:14:49.575Z"
   },
   {
    "duration": 4524,
    "start_time": "2022-03-28T20:18:06.853Z"
   },
   {
    "duration": 2486,
    "start_time": "2022-04-01T07:39:16.062Z"
   },
   {
    "duration": 795,
    "start_time": "2022-04-01T07:39:18.550Z"
   },
   {
    "duration": 22,
    "start_time": "2022-04-01T07:39:19.347Z"
   },
   {
    "duration": 151,
    "start_time": "2022-04-01T07:39:19.371Z"
   },
   {
    "duration": 138,
    "start_time": "2022-04-01T07:39:19.524Z"
   },
   {
    "duration": 125,
    "start_time": "2022-04-01T07:39:19.664Z"
   },
   {
    "duration": 5,
    "start_time": "2022-04-01T07:39:19.791Z"
   },
   {
    "duration": 26,
    "start_time": "2022-04-01T07:39:19.797Z"
   },
   {
    "duration": 28,
    "start_time": "2022-04-01T07:39:19.825Z"
   },
   {
    "duration": 93,
    "start_time": "2022-04-01T07:39:19.856Z"
   },
   {
    "duration": 31,
    "start_time": "2022-04-01T07:39:19.951Z"
   },
   {
    "duration": 73,
    "start_time": "2022-04-01T07:39:19.983Z"
   },
   {
    "duration": 11,
    "start_time": "2022-04-01T07:39:20.058Z"
   },
   {
    "duration": 35,
    "start_time": "2022-04-01T07:39:20.071Z"
   },
   {
    "duration": 37,
    "start_time": "2022-04-01T07:39:20.108Z"
   },
   {
    "duration": 34,
    "start_time": "2022-04-01T07:39:20.147Z"
   },
   {
    "duration": 38,
    "start_time": "2022-04-01T07:39:20.183Z"
   },
   {
    "duration": 45,
    "start_time": "2022-04-01T07:39:20.224Z"
   },
   {
    "duration": 32,
    "start_time": "2022-04-01T07:39:20.271Z"
   },
   {
    "duration": 54,
    "start_time": "2022-04-01T07:39:20.305Z"
   },
   {
    "duration": 31,
    "start_time": "2022-04-01T07:39:20.361Z"
   },
   {
    "duration": 33,
    "start_time": "2022-04-01T07:39:20.394Z"
   },
   {
    "duration": 49,
    "start_time": "2022-04-01T07:39:20.429Z"
   },
   {
    "duration": 59,
    "start_time": "2022-04-01T07:39:20.479Z"
   },
   {
    "duration": 35,
    "start_time": "2022-04-01T07:39:20.540Z"
   },
   {
    "duration": 170,
    "start_time": "2022-04-01T07:39:20.577Z"
   },
   {
    "duration": 18,
    "start_time": "2022-04-01T07:39:20.749Z"
   },
   {
    "duration": 5,
    "start_time": "2022-04-01T07:39:20.772Z"
   },
   {
    "duration": 1352,
    "start_time": "2022-04-01T07:39:20.779Z"
   },
   {
    "duration": 14,
    "start_time": "2022-04-01T07:39:22.133Z"
   },
   {
    "duration": 138,
    "start_time": "2022-04-01T07:39:22.148Z"
   },
   {
    "duration": 14,
    "start_time": "2022-04-01T07:39:22.288Z"
   },
   {
    "duration": 47,
    "start_time": "2022-04-01T07:39:22.303Z"
   },
   {
    "duration": 651,
    "start_time": "2022-04-01T07:39:22.352Z"
   },
   {
    "duration": 636,
    "start_time": "2022-04-01T07:39:23.005Z"
   },
   {
    "duration": 9,
    "start_time": "2022-04-01T07:39:23.643Z"
   },
   {
    "duration": 36,
    "start_time": "2022-04-01T07:39:23.654Z"
   },
   {
    "duration": 547,
    "start_time": "2022-04-01T07:39:23.692Z"
   },
   {
    "duration": 17,
    "start_time": "2022-04-01T07:39:24.240Z"
   },
   {
    "duration": 26,
    "start_time": "2022-04-01T07:39:24.258Z"
   },
   {
    "duration": 522,
    "start_time": "2022-04-01T07:39:24.286Z"
   },
   {
    "duration": 682,
    "start_time": "2022-04-01T07:39:24.810Z"
   },
   {
    "duration": 23,
    "start_time": "2022-04-01T07:39:25.494Z"
   },
   {
    "duration": 1044,
    "start_time": "2022-04-01T07:39:25.519Z"
   },
   {
    "duration": 40,
    "start_time": "2022-04-01T07:39:26.565Z"
   },
   {
    "duration": 4,
    "start_time": "2022-04-01T07:39:26.606Z"
   },
   {
    "duration": 244,
    "start_time": "2022-04-01T07:39:26.612Z"
   },
   {
    "duration": 349,
    "start_time": "2022-04-01T07:39:26.857Z"
   },
   {
    "duration": 113,
    "start_time": "2022-04-01T07:39:27.207Z"
   },
   {
    "duration": 0,
    "start_time": "2022-04-01T07:39:27.322Z"
   },
   {
    "duration": 0,
    "start_time": "2022-04-01T07:39:27.323Z"
   },
   {
    "duration": 0,
    "start_time": "2022-04-01T07:39:27.324Z"
   },
   {
    "duration": 0,
    "start_time": "2022-04-01T07:39:27.338Z"
   },
   {
    "duration": 0,
    "start_time": "2022-04-01T07:39:27.339Z"
   },
   {
    "duration": 0,
    "start_time": "2022-04-01T07:39:27.340Z"
   },
   {
    "duration": 0,
    "start_time": "2022-04-01T07:39:27.341Z"
   },
   {
    "duration": 0,
    "start_time": "2022-04-01T07:39:27.342Z"
   },
   {
    "duration": 0,
    "start_time": "2022-04-01T07:39:27.343Z"
   },
   {
    "duration": 0,
    "start_time": "2022-04-01T07:39:27.344Z"
   },
   {
    "duration": 0,
    "start_time": "2022-04-01T07:39:27.345Z"
   },
   {
    "duration": 0,
    "start_time": "2022-04-01T07:39:27.346Z"
   },
   {
    "duration": 0,
    "start_time": "2022-04-01T07:39:27.347Z"
   },
   {
    "duration": 0,
    "start_time": "2022-04-01T07:39:27.348Z"
   },
   {
    "duration": 0,
    "start_time": "2022-04-01T07:39:27.348Z"
   },
   {
    "duration": 0,
    "start_time": "2022-04-01T07:39:27.349Z"
   },
   {
    "duration": 0,
    "start_time": "2022-04-01T07:39:27.350Z"
   },
   {
    "duration": 0,
    "start_time": "2022-04-01T07:39:27.351Z"
   },
   {
    "duration": 0,
    "start_time": "2022-04-01T07:39:27.352Z"
   },
   {
    "duration": 0,
    "start_time": "2022-04-01T07:39:27.353Z"
   },
   {
    "duration": 4,
    "start_time": "2022-04-01T07:39:46.639Z"
   },
   {
    "duration": 4,
    "start_time": "2022-04-01T07:39:48.018Z"
   },
   {
    "duration": 4,
    "start_time": "2022-04-01T07:39:51.624Z"
   },
   {
    "duration": 2,
    "start_time": "2022-04-01T07:39:52.636Z"
   },
   {
    "duration": 12,
    "start_time": "2022-04-01T07:39:52.929Z"
   },
   {
    "duration": 147,
    "start_time": "2022-04-01T07:39:53.189Z"
   },
   {
    "duration": 18,
    "start_time": "2022-04-01T07:39:54.076Z"
   },
   {
    "duration": 168,
    "start_time": "2022-04-01T07:40:03.798Z"
   },
   {
    "duration": 159,
    "start_time": "2022-04-01T07:40:05.361Z"
   },
   {
    "duration": 167,
    "start_time": "2022-04-01T07:40:05.762Z"
   },
   {
    "duration": 155,
    "start_time": "2022-04-01T07:40:07.125Z"
   },
   {
    "duration": 13,
    "start_time": "2022-04-01T07:40:07.486Z"
   },
   {
    "duration": 3,
    "start_time": "2022-04-01T07:40:09.517Z"
   },
   {
    "duration": 3,
    "start_time": "2022-04-01T07:40:09.961Z"
   },
   {
    "duration": 5,
    "start_time": "2022-04-01T07:40:10.389Z"
   },
   {
    "duration": 35525,
    "start_time": "2022-04-01T07:43:30.514Z"
   },
   {
    "duration": 0,
    "start_time": "2022-04-01T07:44:06.041Z"
   },
   {
    "duration": 0,
    "start_time": "2022-04-01T07:44:06.043Z"
   },
   {
    "duration": 4,
    "start_time": "2022-04-01T07:44:24.046Z"
   },
   {
    "duration": 175,
    "start_time": "2022-04-01T07:44:30.171Z"
   },
   {
    "duration": 9,
    "start_time": "2022-04-01T07:44:30.530Z"
   },
   {
    "duration": 157,
    "start_time": "2022-04-01T07:44:36.682Z"
   },
   {
    "duration": 10,
    "start_time": "2022-04-01T07:44:38.445Z"
   },
   {
    "duration": 10,
    "start_time": "2022-04-01T07:45:33.968Z"
   },
   {
    "duration": 174,
    "start_time": "2022-04-01T07:45:37.064Z"
   },
   {
    "duration": 10,
    "start_time": "2022-04-01T07:45:38.401Z"
   },
   {
    "duration": 33978,
    "start_time": "2022-04-01T07:45:46.169Z"
   },
   {
    "duration": 3,
    "start_time": "2022-04-01T07:46:24.823Z"
   },
   {
    "duration": 92,
    "start_time": "2022-04-01T07:46:26.958Z"
   },
   {
    "duration": 10,
    "start_time": "2022-04-01T07:46:28.493Z"
   },
   {
    "duration": 9,
    "start_time": "2022-04-01T07:47:48.928Z"
   },
   {
    "duration": 10,
    "start_time": "2022-04-01T07:47:59.712Z"
   },
   {
    "duration": 3,
    "start_time": "2022-04-01T07:48:25.342Z"
   },
   {
    "duration": 9,
    "start_time": "2022-04-01T07:48:30.499Z"
   },
   {
    "duration": 3,
    "start_time": "2022-04-01T07:48:34.426Z"
   },
   {
    "duration": 9,
    "start_time": "2022-04-01T07:48:36.737Z"
   },
   {
    "duration": 18,
    "start_time": "2022-04-01T07:49:35.790Z"
   },
   {
    "duration": 3,
    "start_time": "2022-04-01T07:49:36.532Z"
   },
   {
    "duration": 105,
    "start_time": "2022-04-01T07:49:36.725Z"
   },
   {
    "duration": 39,
    "start_time": "2022-04-01T07:49:36.918Z"
   },
   {
    "duration": 24,
    "start_time": "2022-04-01T07:49:37.097Z"
   },
   {
    "duration": 3,
    "start_time": "2022-04-01T07:49:39.273Z"
   },
   {
    "duration": 7272,
    "start_time": "2022-04-01T07:49:39.740Z"
   },
   {
    "duration": 4705,
    "start_time": "2022-04-01T07:49:50.266Z"
   },
   {
    "duration": 222113,
    "start_time": "2022-04-01T07:49:57.691Z"
   },
   {
    "duration": 871,
    "start_time": "2022-04-01T07:53:39.805Z"
   },
   {
    "duration": 9,
    "start_time": "2022-04-01T07:53:40.678Z"
   },
   {
    "duration": 16,
    "start_time": "2022-04-01T07:53:40.689Z"
   },
   {
    "duration": 15235,
    "start_time": "2022-04-01T07:53:40.706Z"
   },
   {
    "duration": 2316,
    "start_time": "2022-04-01T07:53:55.943Z"
   },
   {
    "duration": 10,
    "start_time": "2022-04-01T07:53:58.261Z"
   },
   {
    "duration": 10,
    "start_time": "2022-04-01T07:54:27.211Z"
   },
   {
    "duration": 2269,
    "start_time": "2022-04-01T07:54:33.295Z"
   },
   {
    "duration": 9,
    "start_time": "2022-04-01T07:54:36.874Z"
   },
   {
    "duration": 10,
    "start_time": "2022-04-01T08:01:58.230Z"
   },
   {
    "duration": 9,
    "start_time": "2022-04-01T08:20:28.368Z"
   },
   {
    "duration": 3,
    "start_time": "2022-04-01T08:20:31.876Z"
   },
   {
    "duration": 11,
    "start_time": "2022-04-01T08:20:33.850Z"
   },
   {
    "duration": 3,
    "start_time": "2022-04-01T08:20:47.210Z"
   },
   {
    "duration": 4,
    "start_time": "2022-04-01T08:20:48.361Z"
   },
   {
    "duration": 6,
    "start_time": "2022-04-01T08:20:50.260Z"
   },
   {
    "duration": 6,
    "start_time": "2022-04-01T08:20:52.303Z"
   },
   {
    "duration": 4,
    "start_time": "2022-04-01T08:21:08.676Z"
   },
   {
    "duration": 10,
    "start_time": "2022-04-01T08:21:11.052Z"
   },
   {
    "duration": 10,
    "start_time": "2022-04-01T08:21:24.028Z"
   },
   {
    "duration": 10,
    "start_time": "2022-04-01T08:21:31.818Z"
   },
   {
    "duration": 9,
    "start_time": "2022-04-01T08:21:54.942Z"
   },
   {
    "duration": 1604,
    "start_time": "2022-04-01T08:22:03.073Z"
   },
   {
    "duration": 812,
    "start_time": "2022-04-01T08:22:04.679Z"
   },
   {
    "duration": 21,
    "start_time": "2022-04-01T08:22:05.493Z"
   },
   {
    "duration": 164,
    "start_time": "2022-04-01T08:22:05.516Z"
   },
   {
    "duration": 133,
    "start_time": "2022-04-01T08:22:05.681Z"
   },
   {
    "duration": 129,
    "start_time": "2022-04-01T08:22:05.816Z"
   },
   {
    "duration": 12,
    "start_time": "2022-04-01T08:22:05.947Z"
   },
   {
    "duration": 29,
    "start_time": "2022-04-01T08:22:05.960Z"
   },
   {
    "duration": 17,
    "start_time": "2022-04-01T08:22:05.991Z"
   },
   {
    "duration": 105,
    "start_time": "2022-04-01T08:22:06.012Z"
   },
   {
    "duration": 41,
    "start_time": "2022-04-01T08:22:06.119Z"
   },
   {
    "duration": 55,
    "start_time": "2022-04-01T08:22:06.162Z"
   },
   {
    "duration": 28,
    "start_time": "2022-04-01T08:22:06.219Z"
   },
   {
    "duration": 31,
    "start_time": "2022-04-01T08:22:06.248Z"
   },
   {
    "duration": 25,
    "start_time": "2022-04-01T08:22:06.281Z"
   },
   {
    "duration": 49,
    "start_time": "2022-04-01T08:22:06.308Z"
   },
   {
    "duration": 40,
    "start_time": "2022-04-01T08:22:06.359Z"
   },
   {
    "duration": 49,
    "start_time": "2022-04-01T08:22:06.401Z"
   },
   {
    "duration": 30,
    "start_time": "2022-04-01T08:22:06.452Z"
   },
   {
    "duration": 37,
    "start_time": "2022-04-01T08:22:06.484Z"
   },
   {
    "duration": 30,
    "start_time": "2022-04-01T08:22:06.523Z"
   },
   {
    "duration": 34,
    "start_time": "2022-04-01T08:22:06.555Z"
   },
   {
    "duration": 61,
    "start_time": "2022-04-01T08:22:06.591Z"
   },
   {
    "duration": 23,
    "start_time": "2022-04-01T08:22:06.654Z"
   },
   {
    "duration": 38,
    "start_time": "2022-04-01T08:22:06.679Z"
   },
   {
    "duration": 84,
    "start_time": "2022-04-01T08:22:06.718Z"
   },
   {
    "duration": 35,
    "start_time": "2022-04-01T08:22:06.804Z"
   },
   {
    "duration": 5,
    "start_time": "2022-04-01T08:22:06.844Z"
   },
   {
    "duration": 738,
    "start_time": "2022-04-01T08:22:06.851Z"
   },
   {
    "duration": 42,
    "start_time": "2022-04-01T08:22:07.590Z"
   },
   {
    "duration": 33,
    "start_time": "2022-04-01T08:22:07.634Z"
   },
   {
    "duration": 14,
    "start_time": "2022-04-01T08:22:07.669Z"
   },
   {
    "duration": 34,
    "start_time": "2022-04-01T08:22:07.685Z"
   },
   {
    "duration": 758,
    "start_time": "2022-04-01T08:22:07.721Z"
   },
   {
    "duration": 658,
    "start_time": "2022-04-01T08:22:08.481Z"
   },
   {
    "duration": 9,
    "start_time": "2022-04-01T08:22:09.141Z"
   },
   {
    "duration": 25,
    "start_time": "2022-04-01T08:22:09.152Z"
   },
   {
    "duration": 564,
    "start_time": "2022-04-01T08:22:09.178Z"
   },
   {
    "duration": 16,
    "start_time": "2022-04-01T08:22:09.744Z"
   },
   {
    "duration": 31,
    "start_time": "2022-04-01T08:22:09.762Z"
   },
   {
    "duration": 555,
    "start_time": "2022-04-01T08:22:09.795Z"
   },
   {
    "duration": 704,
    "start_time": "2022-04-01T08:22:10.352Z"
   },
   {
    "duration": 24,
    "start_time": "2022-04-01T08:22:11.058Z"
   },
   {
    "duration": 1070,
    "start_time": "2022-04-01T08:22:11.084Z"
   },
   {
    "duration": 41,
    "start_time": "2022-04-01T08:22:12.156Z"
   },
   {
    "duration": 4,
    "start_time": "2022-04-01T08:22:12.199Z"
   },
   {
    "duration": 252,
    "start_time": "2022-04-01T08:22:12.205Z"
   },
   {
    "duration": 361,
    "start_time": "2022-04-01T08:22:12.459Z"
   },
   {
    "duration": 4,
    "start_time": "2022-04-01T08:22:12.822Z"
   },
   {
    "duration": 12,
    "start_time": "2022-04-01T08:22:12.828Z"
   },
   {
    "duration": 19,
    "start_time": "2022-04-01T08:22:12.842Z"
   },
   {
    "duration": 193,
    "start_time": "2022-04-01T08:22:12.863Z"
   },
   {
    "duration": 18,
    "start_time": "2022-04-01T08:22:13.058Z"
   },
   {
    "duration": 3,
    "start_time": "2022-04-01T08:22:13.078Z"
   },
   {
    "duration": 13,
    "start_time": "2022-04-01T08:22:13.083Z"
   },
   {
    "duration": 32446,
    "start_time": "2022-04-01T08:22:13.098Z"
   },
   {
    "duration": 200,
    "start_time": "2022-04-01T08:22:45.546Z"
   },
   {
    "duration": 10,
    "start_time": "2022-04-01T08:22:45.839Z"
   },
   {
    "duration": 103,
    "start_time": "2022-04-01T08:22:45.851Z"
   },
   {
    "duration": 3,
    "start_time": "2022-04-01T08:22:45.957Z"
   },
   {
    "duration": 141,
    "start_time": "2022-04-01T08:22:45.962Z"
   },
   {
    "duration": 59,
    "start_time": "2022-04-01T08:22:46.104Z"
   },
   {
    "duration": 28,
    "start_time": "2022-04-01T08:22:46.165Z"
   },
   {
    "duration": 3,
    "start_time": "2022-04-01T08:22:46.195Z"
   },
   {
    "duration": 224755,
    "start_time": "2022-04-01T08:22:46.200Z"
   },
   {
    "duration": 832,
    "start_time": "2022-04-01T08:26:30.957Z"
   },
   {
    "duration": 10,
    "start_time": "2022-04-01T08:26:31.791Z"
   },
   {
    "duration": 9,
    "start_time": "2022-04-01T08:26:31.803Z"
   },
   {
    "duration": 44026,
    "start_time": "2022-04-01T08:26:31.813Z"
   },
   {
    "duration": 2431,
    "start_time": "2022-04-01T08:27:15.841Z"
   },
   {
    "duration": 69,
    "start_time": "2022-04-01T08:27:18.274Z"
   },
   {
    "duration": 11,
    "start_time": "2022-04-01T08:27:18.345Z"
   },
   {
    "duration": 2027,
    "start_time": "2022-04-02T08:33:11.457Z"
   },
   {
    "duration": 1048,
    "start_time": "2022-04-02T08:33:13.487Z"
   },
   {
    "duration": 35,
    "start_time": "2022-04-02T08:33:14.537Z"
   },
   {
    "duration": 171,
    "start_time": "2022-04-02T08:33:14.574Z"
   },
   {
    "duration": 172,
    "start_time": "2022-04-02T08:33:14.748Z"
   },
   {
    "duration": 223,
    "start_time": "2022-04-02T08:33:14.923Z"
   },
   {
    "duration": 8,
    "start_time": "2022-04-02T08:33:15.148Z"
   },
   {
    "duration": 52,
    "start_time": "2022-04-02T08:33:15.158Z"
   },
   {
    "duration": 50,
    "start_time": "2022-04-02T08:33:15.212Z"
   },
   {
    "duration": 129,
    "start_time": "2022-04-02T08:33:15.265Z"
   },
   {
    "duration": 57,
    "start_time": "2022-04-02T08:33:15.397Z"
   },
   {
    "duration": 95,
    "start_time": "2022-04-02T08:33:15.457Z"
   },
   {
    "duration": 16,
    "start_time": "2022-04-02T08:33:15.555Z"
   },
   {
    "duration": 65,
    "start_time": "2022-04-02T08:33:15.578Z"
   },
   {
    "duration": 31,
    "start_time": "2022-04-02T08:33:15.647Z"
   },
   {
    "duration": 73,
    "start_time": "2022-04-02T08:33:15.680Z"
   },
   {
    "duration": 49,
    "start_time": "2022-04-02T08:33:15.755Z"
   },
   {
    "duration": 76,
    "start_time": "2022-04-02T08:33:15.806Z"
   },
   {
    "duration": 59,
    "start_time": "2022-04-02T08:33:15.885Z"
   },
   {
    "duration": 49,
    "start_time": "2022-04-02T08:33:15.946Z"
   },
   {
    "duration": 50,
    "start_time": "2022-04-02T08:33:15.997Z"
   },
   {
    "duration": 48,
    "start_time": "2022-04-02T08:33:16.049Z"
   },
   {
    "duration": 78,
    "start_time": "2022-04-02T08:33:16.099Z"
   },
   {
    "duration": 28,
    "start_time": "2022-04-02T08:33:16.179Z"
   },
   {
    "duration": 77,
    "start_time": "2022-04-02T08:33:16.209Z"
   },
   {
    "duration": 116,
    "start_time": "2022-04-02T08:33:16.289Z"
   },
   {
    "duration": 50,
    "start_time": "2022-04-02T08:33:16.408Z"
   },
   {
    "duration": 14,
    "start_time": "2022-04-02T08:33:16.460Z"
   },
   {
    "duration": 1283,
    "start_time": "2022-04-02T08:33:16.476Z"
   },
   {
    "duration": 41,
    "start_time": "2022-04-02T08:33:17.761Z"
   },
   {
    "duration": 52,
    "start_time": "2022-04-02T08:33:17.804Z"
   },
   {
    "duration": 17,
    "start_time": "2022-04-02T08:33:17.859Z"
   },
   {
    "duration": 85,
    "start_time": "2022-04-02T08:33:17.879Z"
   },
   {
    "duration": 961,
    "start_time": "2022-04-02T08:33:17.966Z"
   },
   {
    "duration": 847,
    "start_time": "2022-04-02T08:33:18.929Z"
   },
   {
    "duration": 11,
    "start_time": "2022-04-02T08:33:19.778Z"
   },
   {
    "duration": 73,
    "start_time": "2022-04-02T08:33:19.791Z"
   },
   {
    "duration": 782,
    "start_time": "2022-04-02T08:33:19.866Z"
   },
   {
    "duration": 20,
    "start_time": "2022-04-02T08:33:20.651Z"
   },
   {
    "duration": 69,
    "start_time": "2022-04-02T08:33:20.673Z"
   },
   {
    "duration": 766,
    "start_time": "2022-04-02T08:33:20.749Z"
   },
   {
    "duration": 903,
    "start_time": "2022-04-02T08:33:21.517Z"
   },
   {
    "duration": 41,
    "start_time": "2022-04-02T08:33:22.423Z"
   },
   {
    "duration": 1412,
    "start_time": "2022-04-02T08:33:22.467Z"
   },
   {
    "duration": 63,
    "start_time": "2022-04-02T08:33:23.882Z"
   },
   {
    "duration": 6,
    "start_time": "2022-04-02T08:33:23.947Z"
   },
   {
    "duration": 250,
    "start_time": "2022-04-02T08:33:23.955Z"
   },
   {
    "duration": 480,
    "start_time": "2022-04-02T08:33:24.207Z"
   },
   {
    "duration": 5,
    "start_time": "2022-04-02T08:33:24.689Z"
   },
   {
    "duration": 5,
    "start_time": "2022-04-02T08:33:24.696Z"
   },
   {
    "duration": 45,
    "start_time": "2022-04-02T08:33:24.704Z"
   },
   {
    "duration": 233,
    "start_time": "2022-04-02T08:33:24.752Z"
   },
   {
    "duration": 22,
    "start_time": "2022-04-02T08:33:24.988Z"
   },
   {
    "duration": 4,
    "start_time": "2022-04-02T08:33:25.012Z"
   },
   {
    "duration": 26,
    "start_time": "2022-04-02T08:33:25.018Z"
   },
   {
    "duration": 34201,
    "start_time": "2022-04-02T08:33:25.046Z"
   },
   {
    "duration": 199,
    "start_time": "2022-04-02T08:33:59.249Z"
   },
   {
    "duration": 13,
    "start_time": "2022-04-02T08:33:59.543Z"
   },
   {
    "duration": 28,
    "start_time": "2022-04-02T08:33:59.559Z"
   },
   {
    "duration": 4,
    "start_time": "2022-04-02T08:33:59.589Z"
   },
   {
    "duration": 180,
    "start_time": "2022-04-02T08:33:59.595Z"
   },
   {
    "duration": 47,
    "start_time": "2022-04-02T08:33:59.777Z"
   },
   {
    "duration": 45,
    "start_time": "2022-04-02T08:33:59.826Z"
   },
   {
    "duration": 5,
    "start_time": "2022-04-02T08:33:59.873Z"
   },
   {
    "duration": 568740,
    "start_time": "2022-04-02T08:33:59.880Z"
   },
   {
    "duration": 1030,
    "start_time": "2022-04-02T08:43:28.623Z"
   },
   {
    "duration": 13,
    "start_time": "2022-04-02T08:43:29.655Z"
   },
   {
    "duration": 5,
    "start_time": "2022-04-02T08:43:29.670Z"
   },
   {
    "duration": 18775,
    "start_time": "2022-04-02T08:43:29.677Z"
   },
   {
    "duration": 4500,
    "start_time": "2022-04-02T08:43:48.455Z"
   },
   {
    "duration": 13,
    "start_time": "2022-04-02T08:43:52.957Z"
   },
   {
    "duration": 13,
    "start_time": "2022-04-02T08:43:53.044Z"
   },
   {
    "duration": 206,
    "start_time": "2022-04-02T08:43:53.062Z"
   },
   {
    "duration": 214,
    "start_time": "2022-04-02T09:10:18.057Z"
   },
   {
    "duration": 51,
    "start_time": "2022-04-02T10:27:15.991Z"
   },
   {
    "duration": 1712,
    "start_time": "2022-04-02T10:27:21.389Z"
   },
   {
    "duration": 855,
    "start_time": "2022-04-02T10:27:23.103Z"
   },
   {
    "duration": 21,
    "start_time": "2022-04-02T10:27:23.960Z"
   },
   {
    "duration": 911,
    "start_time": "2022-04-02T10:27:23.983Z"
   },
   {
    "duration": 100,
    "start_time": "2022-04-02T10:27:49.789Z"
   },
   {
    "duration": 826,
    "start_time": "2022-04-02T10:27:50.450Z"
   },
   {
    "duration": 1546,
    "start_time": "2022-04-02T10:28:08.295Z"
   },
   {
    "duration": 815,
    "start_time": "2022-04-02T10:28:09.843Z"
   },
   {
    "duration": 23,
    "start_time": "2022-04-02T10:28:10.660Z"
   },
   {
    "duration": 152,
    "start_time": "2022-04-02T10:28:10.685Z"
   },
   {
    "duration": 863,
    "start_time": "2022-04-02T10:28:10.838Z"
   },
   {
    "duration": 137,
    "start_time": "2022-04-02T10:28:11.702Z"
   },
   {
    "duration": 132,
    "start_time": "2022-04-02T10:28:11.840Z"
   },
   {
    "duration": 5,
    "start_time": "2022-04-02T10:28:11.974Z"
   },
   {
    "duration": 26,
    "start_time": "2022-04-02T10:28:11.980Z"
   },
   {
    "duration": 34,
    "start_time": "2022-04-02T10:28:12.009Z"
   },
   {
    "duration": 93,
    "start_time": "2022-04-02T10:28:12.044Z"
   },
   {
    "duration": 34,
    "start_time": "2022-04-02T10:28:12.138Z"
   },
   {
    "duration": 71,
    "start_time": "2022-04-02T10:28:12.174Z"
   },
   {
    "duration": 11,
    "start_time": "2022-04-02T10:28:12.247Z"
   },
   {
    "duration": 34,
    "start_time": "2022-04-02T10:28:12.259Z"
   },
   {
    "duration": 43,
    "start_time": "2022-04-02T10:28:12.295Z"
   },
   {
    "duration": 36,
    "start_time": "2022-04-02T10:28:12.340Z"
   },
   {
    "duration": 39,
    "start_time": "2022-04-02T10:28:12.377Z"
   },
   {
    "duration": 50,
    "start_time": "2022-04-02T10:28:12.417Z"
   },
   {
    "duration": 34,
    "start_time": "2022-04-02T10:28:12.469Z"
   },
   {
    "duration": 52,
    "start_time": "2022-04-02T10:28:12.505Z"
   },
   {
    "duration": 25,
    "start_time": "2022-04-02T10:28:12.559Z"
   },
   {
    "duration": 45,
    "start_time": "2022-04-02T10:28:12.586Z"
   },
   {
    "duration": 36,
    "start_time": "2022-04-02T10:28:12.633Z"
   },
   {
    "duration": 21,
    "start_time": "2022-04-02T10:28:12.671Z"
   },
   {
    "duration": 56,
    "start_time": "2022-04-02T10:28:12.693Z"
   },
   {
    "duration": 84,
    "start_time": "2022-04-02T10:28:12.750Z"
   },
   {
    "duration": 19,
    "start_time": "2022-04-02T10:28:12.839Z"
   },
   {
    "duration": 10,
    "start_time": "2022-04-02T10:28:12.859Z"
   },
   {
    "duration": 758,
    "start_time": "2022-04-02T10:28:12.871Z"
   },
   {
    "duration": 11,
    "start_time": "2022-04-02T10:28:13.631Z"
   },
   {
    "duration": 30,
    "start_time": "2022-04-02T10:28:13.644Z"
   },
   {
    "duration": 13,
    "start_time": "2022-04-02T10:28:13.675Z"
   },
   {
    "duration": 62,
    "start_time": "2022-04-02T10:28:13.689Z"
   },
   {
    "duration": 739,
    "start_time": "2022-04-02T10:28:13.752Z"
   },
   {
    "duration": 700,
    "start_time": "2022-04-02T10:28:14.493Z"
   },
   {
    "duration": 9,
    "start_time": "2022-04-02T10:28:15.194Z"
   },
   {
    "duration": 41,
    "start_time": "2022-04-02T10:28:15.205Z"
   },
   {
    "duration": 595,
    "start_time": "2022-04-02T10:28:15.248Z"
   },
   {
    "duration": 15,
    "start_time": "2022-04-02T10:28:15.844Z"
   },
   {
    "duration": 34,
    "start_time": "2022-04-02T10:28:15.861Z"
   },
   {
    "duration": 571,
    "start_time": "2022-04-02T10:28:15.896Z"
   },
   {
    "duration": 706,
    "start_time": "2022-04-02T10:28:16.468Z"
   },
   {
    "duration": 23,
    "start_time": "2022-04-02T10:28:17.175Z"
   },
   {
    "duration": 1842,
    "start_time": "2022-04-02T10:28:17.199Z"
   },
   {
    "duration": 38,
    "start_time": "2022-04-02T10:28:19.043Z"
   },
   {
    "duration": 3,
    "start_time": "2022-04-02T10:28:19.083Z"
   },
   {
    "duration": 230,
    "start_time": "2022-04-02T10:28:19.087Z"
   },
   {
    "duration": 333,
    "start_time": "2022-04-02T10:28:19.319Z"
   },
   {
    "duration": 4,
    "start_time": "2022-04-02T10:28:19.653Z"
   },
   {
    "duration": 31,
    "start_time": "2022-04-02T10:28:19.659Z"
   },
   {
    "duration": 39,
    "start_time": "2022-04-02T10:28:19.691Z"
   },
   {
    "duration": 175,
    "start_time": "2022-04-02T10:28:19.732Z"
   },
   {
    "duration": 15,
    "start_time": "2022-04-02T10:28:19.909Z"
   },
   {
    "duration": 2,
    "start_time": "2022-04-02T10:28:19.932Z"
   },
   {
    "duration": 36,
    "start_time": "2022-04-02T10:28:19.936Z"
   },
   {
    "duration": 29859,
    "start_time": "2022-04-02T10:28:19.974Z"
   },
   {
    "duration": 0,
    "start_time": "2022-04-02T10:28:49.835Z"
   },
   {
    "duration": 0,
    "start_time": "2022-04-02T10:28:49.837Z"
   },
   {
    "duration": 0,
    "start_time": "2022-04-02T10:28:49.838Z"
   },
   {
    "duration": 0,
    "start_time": "2022-04-02T10:28:49.839Z"
   },
   {
    "duration": 0,
    "start_time": "2022-04-02T10:28:49.840Z"
   },
   {
    "duration": 0,
    "start_time": "2022-04-02T10:28:49.841Z"
   },
   {
    "duration": 0,
    "start_time": "2022-04-02T10:28:49.842Z"
   },
   {
    "duration": 0,
    "start_time": "2022-04-02T10:28:49.844Z"
   },
   {
    "duration": 0,
    "start_time": "2022-04-02T10:28:49.845Z"
   },
   {
    "duration": 0,
    "start_time": "2022-04-02T10:28:49.846Z"
   },
   {
    "duration": 0,
    "start_time": "2022-04-02T10:28:49.847Z"
   },
   {
    "duration": 1,
    "start_time": "2022-04-02T10:28:49.848Z"
   },
   {
    "duration": 0,
    "start_time": "2022-04-02T10:28:49.850Z"
   },
   {
    "duration": 0,
    "start_time": "2022-04-02T10:28:49.851Z"
   },
   {
    "duration": 0,
    "start_time": "2022-04-02T10:28:49.852Z"
   },
   {
    "duration": 0,
    "start_time": "2022-04-02T10:28:49.853Z"
   },
   {
    "duration": 0,
    "start_time": "2022-04-02T10:28:49.854Z"
   },
   {
    "duration": 11,
    "start_time": "2022-04-02T10:29:17.369Z"
   },
   {
    "duration": 821,
    "start_time": "2022-04-02T10:29:44.516Z"
   },
   {
    "duration": 14,
    "start_time": "2022-04-02T10:29:46.221Z"
   },
   {
    "duration": 94,
    "start_time": "2022-04-02T10:29:53.370Z"
   },
   {
    "duration": 841,
    "start_time": "2022-04-02T10:29:53.676Z"
   },
   {
    "duration": 133,
    "start_time": "2022-04-02T10:29:56.716Z"
   },
   {
    "duration": 129,
    "start_time": "2022-04-02T10:29:57.005Z"
   },
   {
    "duration": 5,
    "start_time": "2022-04-02T10:29:59.833Z"
   },
   {
    "duration": 14,
    "start_time": "2022-04-02T10:30:00.668Z"
   },
   {
    "duration": 130,
    "start_time": "2022-04-02T10:30:26.034Z"
   },
   {
    "duration": 34,
    "start_time": "2022-04-02T10:30:27.055Z"
   },
   {
    "duration": 47,
    "start_time": "2022-04-02T10:30:27.344Z"
   },
   {
    "duration": 10,
    "start_time": "2022-04-02T10:30:29.586Z"
   },
   {
    "duration": 1713,
    "start_time": "2022-04-02T10:49:00.919Z"
   },
   {
    "duration": 875,
    "start_time": "2022-04-02T10:49:02.634Z"
   },
   {
    "duration": 25,
    "start_time": "2022-04-02T10:49:03.510Z"
   },
   {
    "duration": 156,
    "start_time": "2022-04-02T10:49:03.537Z"
   },
   {
    "duration": 892,
    "start_time": "2022-04-02T10:49:03.694Z"
   },
   {
    "duration": 133,
    "start_time": "2022-04-02T10:49:04.587Z"
   },
   {
    "duration": 134,
    "start_time": "2022-04-02T10:49:04.721Z"
   },
   {
    "duration": 3,
    "start_time": "2022-04-02T10:49:04.856Z"
   },
   {
    "duration": 132,
    "start_time": "2022-04-02T10:49:04.860Z"
   },
   {
    "duration": 0,
    "start_time": "2022-04-02T10:49:04.995Z"
   },
   {
    "duration": 0,
    "start_time": "2022-04-02T10:49:04.997Z"
   },
   {
    "duration": 0,
    "start_time": "2022-04-02T10:49:04.998Z"
   },
   {
    "duration": 0,
    "start_time": "2022-04-02T10:49:04.999Z"
   },
   {
    "duration": 0,
    "start_time": "2022-04-02T10:49:05.000Z"
   },
   {
    "duration": 0,
    "start_time": "2022-04-02T10:49:05.001Z"
   },
   {
    "duration": 0,
    "start_time": "2022-04-02T10:49:05.003Z"
   },
   {
    "duration": 0,
    "start_time": "2022-04-02T10:49:05.004Z"
   },
   {
    "duration": 0,
    "start_time": "2022-04-02T10:49:05.005Z"
   },
   {
    "duration": 0,
    "start_time": "2022-04-02T10:49:05.005Z"
   },
   {
    "duration": 0,
    "start_time": "2022-04-02T10:49:05.032Z"
   },
   {
    "duration": 0,
    "start_time": "2022-04-02T10:49:05.033Z"
   },
   {
    "duration": 0,
    "start_time": "2022-04-02T10:49:05.034Z"
   },
   {
    "duration": 0,
    "start_time": "2022-04-02T10:49:05.035Z"
   },
   {
    "duration": 0,
    "start_time": "2022-04-02T10:49:05.036Z"
   },
   {
    "duration": 0,
    "start_time": "2022-04-02T10:49:05.037Z"
   },
   {
    "duration": 0,
    "start_time": "2022-04-02T10:49:05.038Z"
   },
   {
    "duration": 0,
    "start_time": "2022-04-02T10:49:05.039Z"
   },
   {
    "duration": 0,
    "start_time": "2022-04-02T10:49:05.040Z"
   },
   {
    "duration": 0,
    "start_time": "2022-04-02T10:49:05.041Z"
   },
   {
    "duration": 0,
    "start_time": "2022-04-02T10:49:05.041Z"
   },
   {
    "duration": 0,
    "start_time": "2022-04-02T10:49:05.043Z"
   },
   {
    "duration": 0,
    "start_time": "2022-04-02T10:49:05.044Z"
   },
   {
    "duration": 0,
    "start_time": "2022-04-02T10:49:05.045Z"
   },
   {
    "duration": 0,
    "start_time": "2022-04-02T10:49:05.046Z"
   },
   {
    "duration": 0,
    "start_time": "2022-04-02T10:49:05.047Z"
   },
   {
    "duration": 0,
    "start_time": "2022-04-02T10:49:05.048Z"
   },
   {
    "duration": 0,
    "start_time": "2022-04-02T10:49:05.049Z"
   },
   {
    "duration": 0,
    "start_time": "2022-04-02T10:49:05.050Z"
   },
   {
    "duration": 0,
    "start_time": "2022-04-02T10:49:05.051Z"
   },
   {
    "duration": 0,
    "start_time": "2022-04-02T10:49:05.052Z"
   },
   {
    "duration": 0,
    "start_time": "2022-04-02T10:49:05.054Z"
   },
   {
    "duration": 0,
    "start_time": "2022-04-02T10:49:05.055Z"
   },
   {
    "duration": 0,
    "start_time": "2022-04-02T10:49:05.056Z"
   },
   {
    "duration": 0,
    "start_time": "2022-04-02T10:49:05.057Z"
   },
   {
    "duration": 0,
    "start_time": "2022-04-02T10:49:05.058Z"
   },
   {
    "duration": 0,
    "start_time": "2022-04-02T10:49:05.059Z"
   },
   {
    "duration": 0,
    "start_time": "2022-04-02T10:49:05.060Z"
   },
   {
    "duration": 0,
    "start_time": "2022-04-02T10:49:05.061Z"
   },
   {
    "duration": 0,
    "start_time": "2022-04-02T10:49:05.062Z"
   },
   {
    "duration": 0,
    "start_time": "2022-04-02T10:49:05.063Z"
   },
   {
    "duration": 0,
    "start_time": "2022-04-02T10:49:05.064Z"
   },
   {
    "duration": 0,
    "start_time": "2022-04-02T10:49:05.065Z"
   },
   {
    "duration": 0,
    "start_time": "2022-04-02T10:49:05.067Z"
   },
   {
    "duration": 0,
    "start_time": "2022-04-02T10:49:05.068Z"
   },
   {
    "duration": 0,
    "start_time": "2022-04-02T10:49:05.069Z"
   },
   {
    "duration": 0,
    "start_time": "2022-04-02T10:49:05.131Z"
   },
   {
    "duration": 0,
    "start_time": "2022-04-02T10:49:05.132Z"
   },
   {
    "duration": 0,
    "start_time": "2022-04-02T10:49:05.134Z"
   },
   {
    "duration": 0,
    "start_time": "2022-04-02T10:49:05.135Z"
   },
   {
    "duration": 0,
    "start_time": "2022-04-02T10:49:05.136Z"
   },
   {
    "duration": 0,
    "start_time": "2022-04-02T10:49:05.137Z"
   },
   {
    "duration": 0,
    "start_time": "2022-04-02T10:49:05.138Z"
   },
   {
    "duration": 0,
    "start_time": "2022-04-02T10:49:05.139Z"
   },
   {
    "duration": 0,
    "start_time": "2022-04-02T10:49:05.140Z"
   },
   {
    "duration": 0,
    "start_time": "2022-04-02T10:49:05.142Z"
   },
   {
    "duration": 0,
    "start_time": "2022-04-02T10:49:05.143Z"
   },
   {
    "duration": 0,
    "start_time": "2022-04-02T10:49:05.144Z"
   },
   {
    "duration": 0,
    "start_time": "2022-04-02T10:49:05.145Z"
   },
   {
    "duration": 0,
    "start_time": "2022-04-02T10:49:05.146Z"
   },
   {
    "duration": 0,
    "start_time": "2022-04-02T10:49:05.147Z"
   },
   {
    "duration": 0,
    "start_time": "2022-04-02T10:49:05.148Z"
   },
   {
    "duration": 0,
    "start_time": "2022-04-02T10:49:05.149Z"
   },
   {
    "duration": 0,
    "start_time": "2022-04-02T10:49:05.150Z"
   },
   {
    "duration": 0,
    "start_time": "2022-04-02T10:49:05.152Z"
   },
   {
    "duration": 0,
    "start_time": "2022-04-02T10:49:05.153Z"
   },
   {
    "duration": 4,
    "start_time": "2022-04-02T10:49:30.584Z"
   },
   {
    "duration": 5,
    "start_time": "2022-04-02T10:49:34.169Z"
   },
   {
    "duration": 1557,
    "start_time": "2022-04-02T11:22:58.091Z"
   },
   {
    "duration": 860,
    "start_time": "2022-04-02T11:22:59.650Z"
   },
   {
    "duration": 25,
    "start_time": "2022-04-02T11:23:00.512Z"
   },
   {
    "duration": 154,
    "start_time": "2022-04-02T11:23:00.540Z"
   },
   {
    "duration": 928,
    "start_time": "2022-04-02T11:23:00.696Z"
   },
   {
    "duration": 141,
    "start_time": "2022-04-02T11:23:01.626Z"
   },
   {
    "duration": 142,
    "start_time": "2022-04-02T11:23:01.769Z"
   },
   {
    "duration": 3,
    "start_time": "2022-04-02T11:23:01.913Z"
   },
   {
    "duration": 14,
    "start_time": "2022-04-02T11:23:01.918Z"
   },
   {
    "duration": 34,
    "start_time": "2022-04-02T11:23:01.935Z"
   },
   {
    "duration": 18,
    "start_time": "2022-04-02T11:23:01.971Z"
   },
   {
    "duration": 113,
    "start_time": "2022-04-02T11:23:01.991Z"
   },
   {
    "duration": 39,
    "start_time": "2022-04-02T11:23:02.106Z"
   },
   {
    "duration": 4,
    "start_time": "2022-04-02T11:23:02.147Z"
   },
   {
    "duration": 75,
    "start_time": "2022-04-02T11:23:02.153Z"
   },
   {
    "duration": 10,
    "start_time": "2022-04-02T11:23:02.229Z"
   },
   {
    "duration": 36,
    "start_time": "2022-04-02T11:23:02.241Z"
   },
   {
    "duration": 27,
    "start_time": "2022-04-02T11:23:02.279Z"
   },
   {
    "duration": 52,
    "start_time": "2022-04-02T11:23:02.308Z"
   },
   {
    "duration": 46,
    "start_time": "2022-04-02T11:23:02.362Z"
   },
   {
    "duration": 47,
    "start_time": "2022-04-02T11:23:02.410Z"
   },
   {
    "duration": 33,
    "start_time": "2022-04-02T11:23:02.459Z"
   },
   {
    "duration": 51,
    "start_time": "2022-04-02T11:23:02.493Z"
   },
   {
    "duration": 39,
    "start_time": "2022-04-02T11:23:02.546Z"
   },
   {
    "duration": 45,
    "start_time": "2022-04-02T11:23:02.587Z"
   },
   {
    "duration": 39,
    "start_time": "2022-04-02T11:23:02.634Z"
   },
   {
    "duration": 25,
    "start_time": "2022-04-02T11:23:02.675Z"
   },
   {
    "duration": 48,
    "start_time": "2022-04-02T11:23:02.706Z"
   },
   {
    "duration": 92,
    "start_time": "2022-04-02T11:23:02.756Z"
   },
   {
    "duration": 19,
    "start_time": "2022-04-02T11:23:02.849Z"
   },
   {
    "duration": 6,
    "start_time": "2022-04-02T11:23:02.870Z"
   },
   {
    "duration": 793,
    "start_time": "2022-04-02T11:23:02.878Z"
   },
   {
    "duration": 12,
    "start_time": "2022-04-02T11:23:03.673Z"
   },
   {
    "duration": 46,
    "start_time": "2022-04-02T11:23:03.686Z"
   },
   {
    "duration": 14,
    "start_time": "2022-04-02T11:23:03.734Z"
   },
   {
    "duration": 38,
    "start_time": "2022-04-02T11:23:03.750Z"
   },
   {
    "duration": 768,
    "start_time": "2022-04-02T11:23:03.790Z"
   },
   {
    "duration": 723,
    "start_time": "2022-04-02T11:23:04.559Z"
   },
   {
    "duration": 9,
    "start_time": "2022-04-02T11:23:05.283Z"
   },
   {
    "duration": 41,
    "start_time": "2022-04-02T11:23:05.294Z"
   },
   {
    "duration": 639,
    "start_time": "2022-04-02T11:23:05.337Z"
   },
   {
    "duration": 16,
    "start_time": "2022-04-02T11:23:05.978Z"
   },
   {
    "duration": 44,
    "start_time": "2022-04-02T11:23:05.995Z"
   },
   {
    "duration": 896,
    "start_time": "2022-04-02T11:23:06.040Z"
   },
   {
    "duration": 1170,
    "start_time": "2022-04-02T11:23:06.938Z"
   },
   {
    "duration": 33,
    "start_time": "2022-04-02T11:23:08.110Z"
   },
   {
    "duration": 979,
    "start_time": "2022-04-02T11:23:08.145Z"
   },
   {
    "duration": 38,
    "start_time": "2022-04-02T11:23:09.125Z"
   },
   {
    "duration": 4,
    "start_time": "2022-04-02T11:23:09.165Z"
   },
   {
    "duration": 222,
    "start_time": "2022-04-02T11:23:09.170Z"
   },
   {
    "duration": 333,
    "start_time": "2022-04-02T11:23:09.394Z"
   },
   {
    "duration": 4,
    "start_time": "2022-04-02T11:23:09.729Z"
   },
   {
    "duration": 6,
    "start_time": "2022-04-02T11:23:09.735Z"
   },
   {
    "duration": 13,
    "start_time": "2022-04-02T11:23:09.742Z"
   },
   {
    "duration": 5,
    "start_time": "2022-04-02T11:23:09.757Z"
   },
   {
    "duration": 177,
    "start_time": "2022-04-02T11:23:09.763Z"
   },
   {
    "duration": 16,
    "start_time": "2022-04-02T11:23:09.942Z"
   },
   {
    "duration": 2,
    "start_time": "2022-04-02T11:23:09.960Z"
   },
   {
    "duration": 6,
    "start_time": "2022-04-02T11:23:09.964Z"
   },
   {
    "duration": 25462,
    "start_time": "2022-04-02T11:23:09.971Z"
   },
   {
    "duration": 162,
    "start_time": "2022-04-02T11:23:35.434Z"
   },
   {
    "duration": 0,
    "start_time": "2022-04-02T11:23:35.598Z"
   },
   {
    "duration": 0,
    "start_time": "2022-04-02T11:23:35.600Z"
   },
   {
    "duration": 0,
    "start_time": "2022-04-02T11:23:35.601Z"
   },
   {
    "duration": 0,
    "start_time": "2022-04-02T11:23:35.602Z"
   },
   {
    "duration": 0,
    "start_time": "2022-04-02T11:23:35.603Z"
   },
   {
    "duration": 0,
    "start_time": "2022-04-02T11:23:35.604Z"
   },
   {
    "duration": 0,
    "start_time": "2022-04-02T11:23:35.605Z"
   },
   {
    "duration": 0,
    "start_time": "2022-04-02T11:23:35.606Z"
   },
   {
    "duration": 0,
    "start_time": "2022-04-02T11:23:35.607Z"
   },
   {
    "duration": 0,
    "start_time": "2022-04-02T11:23:35.608Z"
   },
   {
    "duration": 0,
    "start_time": "2022-04-02T11:23:35.609Z"
   },
   {
    "duration": 0,
    "start_time": "2022-04-02T11:23:35.610Z"
   },
   {
    "duration": 0,
    "start_time": "2022-04-02T11:23:35.632Z"
   },
   {
    "duration": 0,
    "start_time": "2022-04-02T11:23:35.633Z"
   },
   {
    "duration": 0,
    "start_time": "2022-04-02T11:23:35.634Z"
   },
   {
    "duration": 0,
    "start_time": "2022-04-02T11:23:35.635Z"
   },
   {
    "duration": 4,
    "start_time": "2022-04-02T11:23:58.824Z"
   },
   {
    "duration": 105301,
    "start_time": "2022-04-02T11:24:09.035Z"
   },
   {
    "duration": 457,
    "start_time": "2022-04-02T11:26:05.477Z"
   },
   {
    "duration": 155,
    "start_time": "2022-04-02T11:26:13.378Z"
   },
   {
    "duration": 12,
    "start_time": "2022-04-02T11:33:12.410Z"
   },
   {
    "duration": 443,
    "start_time": "2022-04-02T11:33:14.432Z"
   },
   {
    "duration": 4,
    "start_time": "2022-04-02T11:33:15.826Z"
   },
   {
    "duration": 4,
    "start_time": "2022-04-02T11:33:57.681Z"
   },
   {
    "duration": 4,
    "start_time": "2022-04-02T11:34:10.340Z"
   },
   {
    "duration": 19380,
    "start_time": "2022-04-02T11:34:59.860Z"
   },
   {
    "duration": 201,
    "start_time": "2022-04-02T11:35:19.333Z"
   },
   {
    "duration": 10,
    "start_time": "2022-04-02T11:36:58.762Z"
   },
   {
    "duration": 9,
    "start_time": "2022-04-02T11:36:59.086Z"
   },
   {
    "duration": 10,
    "start_time": "2022-04-02T11:36:59.470Z"
   },
   {
    "duration": 22,
    "start_time": "2022-04-02T11:37:03.136Z"
   },
   {
    "duration": 21,
    "start_time": "2022-04-02T11:37:03.713Z"
   },
   {
    "duration": 21,
    "start_time": "2022-04-02T11:37:04.591Z"
   },
   {
    "duration": 3,
    "start_time": "2022-04-02T11:37:04.950Z"
   },
   {
    "duration": 109,
    "start_time": "2022-04-02T11:37:07.259Z"
   },
   {
    "duration": 54,
    "start_time": "2022-04-02T11:37:07.699Z"
   },
   {
    "duration": 24,
    "start_time": "2022-04-02T11:37:17.186Z"
   },
   {
    "duration": 205653,
    "start_time": "2022-04-02T11:37:42.849Z"
   },
   {
    "duration": 555,
    "start_time": "2022-04-02T11:41:08.504Z"
   },
   {
    "duration": 11,
    "start_time": "2022-04-02T11:41:09.061Z"
   },
   {
    "duration": 15,
    "start_time": "2022-04-02T11:41:09.074Z"
   },
   {
    "duration": 13457,
    "start_time": "2022-04-02T11:41:09.091Z"
   },
   {
    "duration": 1898,
    "start_time": "2022-04-02T11:41:22.550Z"
   },
   {
    "duration": 11,
    "start_time": "2022-04-02T11:41:24.450Z"
   },
   {
    "duration": 9,
    "start_time": "2022-04-02T11:42:09.559Z"
   },
   {
    "duration": 563,
    "start_time": "2022-04-02T11:42:12.701Z"
   },
   {
    "duration": 55,
    "start_time": "2022-04-02T11:42:51.722Z"
   },
   {
    "duration": 556,
    "start_time": "2022-04-02T11:42:58.950Z"
   },
   {
    "duration": 179,
    "start_time": "2022-04-02T11:45:44.059Z"
   },
   {
    "duration": 167,
    "start_time": "2022-04-02T11:46:48.802Z"
   },
   {
    "duration": 177,
    "start_time": "2022-04-02T11:47:35.080Z"
   },
   {
    "duration": 11,
    "start_time": "2022-04-02T11:48:18.371Z"
   },
   {
    "duration": 15,
    "start_time": "2022-04-02T11:48:26.086Z"
   },
   {
    "duration": 14,
    "start_time": "2022-04-02T11:48:34.368Z"
   },
   {
    "duration": 13,
    "start_time": "2022-04-02T11:55:15.824Z"
   },
   {
    "duration": 13,
    "start_time": "2022-04-02T11:55:38.304Z"
   },
   {
    "duration": 1575,
    "start_time": "2022-04-02T12:01:39.881Z"
   },
   {
    "duration": 856,
    "start_time": "2022-04-02T12:01:41.458Z"
   },
   {
    "duration": 27,
    "start_time": "2022-04-02T12:01:42.316Z"
   },
   {
    "duration": 113,
    "start_time": "2022-04-02T12:01:42.345Z"
   },
   {
    "duration": 913,
    "start_time": "2022-04-02T12:01:42.459Z"
   },
   {
    "duration": 136,
    "start_time": "2022-04-02T12:01:43.374Z"
   },
   {
    "duration": 143,
    "start_time": "2022-04-02T12:01:43.512Z"
   },
   {
    "duration": 3,
    "start_time": "2022-04-02T12:01:43.656Z"
   },
   {
    "duration": 8,
    "start_time": "2022-04-02T12:01:43.661Z"
   },
   {
    "duration": 30,
    "start_time": "2022-04-02T12:01:43.672Z"
   },
   {
    "duration": 28,
    "start_time": "2022-04-02T12:01:43.704Z"
   },
   {
    "duration": 13,
    "start_time": "2022-04-02T12:01:43.734Z"
   },
   {
    "duration": 114,
    "start_time": "2022-04-02T12:01:43.749Z"
   },
   {
    "duration": 33,
    "start_time": "2022-04-02T12:01:43.865Z"
   },
   {
    "duration": 11,
    "start_time": "2022-04-02T12:01:43.900Z"
   },
   {
    "duration": 70,
    "start_time": "2022-04-02T12:01:43.912Z"
   },
   {
    "duration": 10,
    "start_time": "2022-04-02T12:01:43.984Z"
   },
   {
    "duration": 49,
    "start_time": "2022-04-02T12:01:43.995Z"
   },
   {
    "duration": 28,
    "start_time": "2022-04-02T12:01:44.046Z"
   },
   {
    "duration": 35,
    "start_time": "2022-04-02T12:01:44.076Z"
   },
   {
    "duration": 35,
    "start_time": "2022-04-02T12:01:44.133Z"
   },
   {
    "duration": 40,
    "start_time": "2022-04-02T12:01:44.170Z"
   },
   {
    "duration": 49,
    "start_time": "2022-04-02T12:01:44.211Z"
   },
   {
    "duration": 38,
    "start_time": "2022-04-02T12:01:44.262Z"
   },
   {
    "duration": 39,
    "start_time": "2022-04-02T12:01:44.302Z"
   },
   {
    "duration": 40,
    "start_time": "2022-04-02T12:01:44.343Z"
   },
   {
    "duration": 52,
    "start_time": "2022-04-02T12:01:44.384Z"
   },
   {
    "duration": 22,
    "start_time": "2022-04-02T12:01:44.441Z"
   },
   {
    "duration": 38,
    "start_time": "2022-04-02T12:01:44.465Z"
   },
   {
    "duration": 99,
    "start_time": "2022-04-02T12:01:44.505Z"
   },
   {
    "duration": 33,
    "start_time": "2022-04-02T12:01:44.606Z"
   },
   {
    "duration": 7,
    "start_time": "2022-04-02T12:01:44.640Z"
   },
   {
    "duration": 809,
    "start_time": "2022-04-02T12:01:44.649Z"
   },
   {
    "duration": 12,
    "start_time": "2022-04-02T12:01:45.460Z"
   },
   {
    "duration": 52,
    "start_time": "2022-04-02T12:01:45.474Z"
   },
   {
    "duration": 15,
    "start_time": "2022-04-02T12:01:45.528Z"
   },
   {
    "duration": 35,
    "start_time": "2022-04-02T12:01:45.545Z"
   },
   {
    "duration": 822,
    "start_time": "2022-04-02T12:01:45.582Z"
   },
   {
    "duration": 727,
    "start_time": "2022-04-02T12:01:46.405Z"
   },
   {
    "duration": 9,
    "start_time": "2022-04-02T12:01:47.133Z"
   },
   {
    "duration": 32,
    "start_time": "2022-04-02T12:01:47.144Z"
   },
   {
    "duration": 621,
    "start_time": "2022-04-02T12:01:47.177Z"
   },
   {
    "duration": 16,
    "start_time": "2022-04-02T12:01:47.800Z"
   },
   {
    "duration": 38,
    "start_time": "2022-04-02T12:01:47.818Z"
   },
   {
    "duration": 569,
    "start_time": "2022-04-02T12:01:47.858Z"
   },
   {
    "duration": 727,
    "start_time": "2022-04-02T12:01:48.429Z"
   },
   {
    "duration": 24,
    "start_time": "2022-04-02T12:01:49.158Z"
   },
   {
    "duration": 1004,
    "start_time": "2022-04-02T12:01:49.184Z"
   },
   {
    "duration": 48,
    "start_time": "2022-04-02T12:01:50.190Z"
   },
   {
    "duration": 4,
    "start_time": "2022-04-02T12:01:50.239Z"
   },
   {
    "duration": 226,
    "start_time": "2022-04-02T12:01:50.245Z"
   },
   {
    "duration": 447,
    "start_time": "2022-04-02T12:01:50.473Z"
   },
   {
    "duration": 123,
    "start_time": "2022-04-02T12:01:50.921Z"
   },
   {
    "duration": 0,
    "start_time": "2022-04-02T12:01:51.045Z"
   },
   {
    "duration": 0,
    "start_time": "2022-04-02T12:01:51.046Z"
   },
   {
    "duration": 0,
    "start_time": "2022-04-02T12:01:51.047Z"
   },
   {
    "duration": 0,
    "start_time": "2022-04-02T12:01:51.048Z"
   },
   {
    "duration": 0,
    "start_time": "2022-04-02T12:01:51.049Z"
   },
   {
    "duration": 0,
    "start_time": "2022-04-02T12:01:51.050Z"
   },
   {
    "duration": 0,
    "start_time": "2022-04-02T12:01:51.051Z"
   },
   {
    "duration": 0,
    "start_time": "2022-04-02T12:01:51.052Z"
   },
   {
    "duration": 0,
    "start_time": "2022-04-02T12:01:51.053Z"
   },
   {
    "duration": 0,
    "start_time": "2022-04-02T12:01:51.054Z"
   },
   {
    "duration": 0,
    "start_time": "2022-04-02T12:01:51.055Z"
   },
   {
    "duration": 0,
    "start_time": "2022-04-02T12:01:51.056Z"
   },
   {
    "duration": 0,
    "start_time": "2022-04-02T12:01:51.057Z"
   },
   {
    "duration": 0,
    "start_time": "2022-04-02T12:01:51.058Z"
   },
   {
    "duration": 0,
    "start_time": "2022-04-02T12:01:51.059Z"
   },
   {
    "duration": 0,
    "start_time": "2022-04-02T12:01:51.060Z"
   },
   {
    "duration": 0,
    "start_time": "2022-04-02T12:01:51.061Z"
   },
   {
    "duration": 0,
    "start_time": "2022-04-02T12:01:51.062Z"
   },
   {
    "duration": 0,
    "start_time": "2022-04-02T12:01:51.063Z"
   },
   {
    "duration": 0,
    "start_time": "2022-04-02T12:01:51.064Z"
   },
   {
    "duration": 0,
    "start_time": "2022-04-02T12:01:51.065Z"
   },
   {
    "duration": 0,
    "start_time": "2022-04-02T12:01:51.066Z"
   },
   {
    "duration": 0,
    "start_time": "2022-04-02T12:01:51.067Z"
   },
   {
    "duration": 0,
    "start_time": "2022-04-02T12:01:51.068Z"
   },
   {
    "duration": 0,
    "start_time": "2022-04-02T12:01:51.069Z"
   },
   {
    "duration": 450,
    "start_time": "2022-04-02T12:02:36.529Z"
   },
   {
    "duration": 4,
    "start_time": "2022-04-02T12:02:36.981Z"
   },
   {
    "duration": 9,
    "start_time": "2022-04-02T12:02:36.987Z"
   },
   {
    "duration": 11,
    "start_time": "2022-04-02T12:02:37.129Z"
   },
   {
    "duration": 2,
    "start_time": "2022-04-02T12:02:37.279Z"
   },
   {
    "duration": 159,
    "start_time": "2022-04-02T12:02:37.615Z"
   },
   {
    "duration": 16,
    "start_time": "2022-04-02T12:02:37.969Z"
   },
   {
    "duration": 2,
    "start_time": "2022-04-02T12:02:38.317Z"
   },
   {
    "duration": 3,
    "start_time": "2022-04-02T12:02:38.469Z"
   },
   {
    "duration": 22826,
    "start_time": "2022-04-02T12:02:38.810Z"
   },
   {
    "duration": 394,
    "start_time": "2022-04-02T12:03:01.639Z"
   },
   {
    "duration": 11,
    "start_time": "2022-04-02T12:03:02.035Z"
   },
   {
    "duration": 84,
    "start_time": "2022-04-02T12:03:02.049Z"
   },
   {
    "duration": 4,
    "start_time": "2022-04-02T12:03:02.136Z"
   },
   {
    "duration": 143,
    "start_time": "2022-04-02T12:03:02.141Z"
   },
   {
    "duration": 64,
    "start_time": "2022-04-02T12:03:02.286Z"
   },
   {
    "duration": 14,
    "start_time": "2022-04-02T12:03:02.352Z"
   },
   {
    "duration": 6,
    "start_time": "2022-04-02T12:03:02.368Z"
   },
   {
    "duration": 203018,
    "start_time": "2022-04-02T12:03:02.377Z"
   },
   {
    "duration": 591,
    "start_time": "2022-04-02T12:06:25.396Z"
   },
   {
    "duration": 10,
    "start_time": "2022-04-02T12:06:25.989Z"
   },
   {
    "duration": 7,
    "start_time": "2022-04-02T12:06:26.001Z"
   },
   {
    "duration": 15029,
    "start_time": "2022-04-02T12:06:26.010Z"
   },
   {
    "duration": 1913,
    "start_time": "2022-04-02T12:06:41.041Z"
   },
   {
    "duration": 11,
    "start_time": "2022-04-02T12:06:42.956Z"
   },
   {
    "duration": 71,
    "start_time": "2022-04-02T12:06:42.969Z"
   },
   {
    "duration": 569,
    "start_time": "2022-04-02T12:06:43.042Z"
   },
   {
    "duration": 70,
    "start_time": "2022-04-02T12:06:43.614Z"
   },
   {
    "duration": 17,
    "start_time": "2022-04-02T12:06:43.686Z"
   },
   {
    "duration": 12,
    "start_time": "2022-04-02T12:08:13.873Z"
   },
   {
    "duration": 11,
    "start_time": "2022-04-02T12:08:29.773Z"
   },
   {
    "duration": 9,
    "start_time": "2022-04-02T12:08:56.505Z"
   },
   {
    "duration": 11,
    "start_time": "2022-04-02T12:09:05.069Z"
   },
   {
    "duration": 9,
    "start_time": "2022-04-02T12:09:08.068Z"
   },
   {
    "duration": 1591,
    "start_time": "2022-04-02T12:09:14.357Z"
   },
   {
    "duration": 873,
    "start_time": "2022-04-02T12:09:15.950Z"
   },
   {
    "duration": 23,
    "start_time": "2022-04-02T12:09:16.825Z"
   },
   {
    "duration": 163,
    "start_time": "2022-04-02T12:09:16.850Z"
   },
   {
    "duration": 896,
    "start_time": "2022-04-02T12:09:17.014Z"
   },
   {
    "duration": 142,
    "start_time": "2022-04-02T12:09:17.911Z"
   },
   {
    "duration": 145,
    "start_time": "2022-04-02T12:09:18.055Z"
   },
   {
    "duration": 2,
    "start_time": "2022-04-02T12:09:18.202Z"
   },
   {
    "duration": 9,
    "start_time": "2022-04-02T12:09:18.206Z"
   },
   {
    "duration": 23,
    "start_time": "2022-04-02T12:09:18.231Z"
   },
   {
    "duration": 2,
    "start_time": "2022-04-02T12:09:18.256Z"
   },
   {
    "duration": 18,
    "start_time": "2022-04-02T12:09:18.259Z"
   },
   {
    "duration": 111,
    "start_time": "2022-04-02T12:09:18.278Z"
   },
   {
    "duration": 42,
    "start_time": "2022-04-02T12:09:18.390Z"
   },
   {
    "duration": 3,
    "start_time": "2022-04-02T12:09:18.434Z"
   },
   {
    "duration": 59,
    "start_time": "2022-04-02T12:09:18.438Z"
   },
   {
    "duration": 38,
    "start_time": "2022-04-02T12:09:18.498Z"
   },
   {
    "duration": 33,
    "start_time": "2022-04-02T12:09:18.538Z"
   },
   {
    "duration": 24,
    "start_time": "2022-04-02T12:09:18.573Z"
   },
   {
    "duration": 56,
    "start_time": "2022-04-02T12:09:18.599Z"
   },
   {
    "duration": 37,
    "start_time": "2022-04-02T12:09:18.656Z"
   },
   {
    "duration": 55,
    "start_time": "2022-04-02T12:09:18.695Z"
   },
   {
    "duration": 33,
    "start_time": "2022-04-02T12:09:18.752Z"
   },
   {
    "duration": 55,
    "start_time": "2022-04-02T12:09:18.787Z"
   },
   {
    "duration": 23,
    "start_time": "2022-04-02T12:09:18.844Z"
   },
   {
    "duration": 34,
    "start_time": "2022-04-02T12:09:18.869Z"
   },
   {
    "duration": 58,
    "start_time": "2022-04-02T12:09:18.905Z"
   },
   {
    "duration": 24,
    "start_time": "2022-04-02T12:09:18.967Z"
   },
   {
    "duration": 54,
    "start_time": "2022-04-02T12:09:18.993Z"
   },
   {
    "duration": 86,
    "start_time": "2022-04-02T12:09:19.048Z"
   },
   {
    "duration": 12,
    "start_time": "2022-04-02T12:09:19.135Z"
   },
   {
    "duration": 6,
    "start_time": "2022-04-02T12:09:19.149Z"
   },
   {
    "duration": 825,
    "start_time": "2022-04-02T12:09:19.157Z"
   },
   {
    "duration": 12,
    "start_time": "2022-04-02T12:09:19.984Z"
   },
   {
    "duration": 54,
    "start_time": "2022-04-02T12:09:19.998Z"
   },
   {
    "duration": 15,
    "start_time": "2022-04-02T12:09:20.054Z"
   },
   {
    "duration": 35,
    "start_time": "2022-04-02T12:09:20.071Z"
   },
   {
    "duration": 788,
    "start_time": "2022-04-02T12:09:20.108Z"
   },
   {
    "duration": 689,
    "start_time": "2022-04-02T12:09:20.898Z"
   },
   {
    "duration": 9,
    "start_time": "2022-04-02T12:09:21.589Z"
   },
   {
    "duration": 45,
    "start_time": "2022-04-02T12:09:21.599Z"
   },
   {
    "duration": 698,
    "start_time": "2022-04-02T12:09:21.646Z"
   },
   {
    "duration": 16,
    "start_time": "2022-04-02T12:09:22.345Z"
   },
   {
    "duration": 75,
    "start_time": "2022-04-02T12:09:22.363Z"
   },
   {
    "duration": 1109,
    "start_time": "2022-04-02T12:09:22.439Z"
   },
   {
    "duration": 812,
    "start_time": "2022-04-02T12:09:23.549Z"
   },
   {
    "duration": 18,
    "start_time": "2022-04-02T12:09:24.363Z"
   },
   {
    "duration": 1000,
    "start_time": "2022-04-02T12:09:24.383Z"
   },
   {
    "duration": 15,
    "start_time": "2022-04-02T12:09:25.385Z"
   },
   {
    "duration": 6,
    "start_time": "2022-04-02T12:09:25.402Z"
   },
   {
    "duration": 227,
    "start_time": "2022-04-02T12:09:25.409Z"
   },
   {
    "duration": 457,
    "start_time": "2022-04-02T12:09:25.638Z"
   },
   {
    "duration": 5,
    "start_time": "2022-04-02T12:09:26.096Z"
   },
   {
    "duration": 8,
    "start_time": "2022-04-02T12:09:26.102Z"
   },
   {
    "duration": 31,
    "start_time": "2022-04-02T12:09:26.112Z"
   },
   {
    "duration": 6,
    "start_time": "2022-04-02T12:09:26.145Z"
   },
   {
    "duration": 176,
    "start_time": "2022-04-02T12:09:26.152Z"
   },
   {
    "duration": 16,
    "start_time": "2022-04-02T12:09:26.330Z"
   },
   {
    "duration": 4,
    "start_time": "2022-04-02T12:09:26.348Z"
   },
   {
    "duration": 21,
    "start_time": "2022-04-02T12:09:26.353Z"
   },
   {
    "duration": 20667,
    "start_time": "2022-04-02T12:09:26.375Z"
   },
   {
    "duration": 0,
    "start_time": "2022-04-02T12:09:47.044Z"
   },
   {
    "duration": 0,
    "start_time": "2022-04-02T12:09:47.045Z"
   },
   {
    "duration": 0,
    "start_time": "2022-04-02T12:09:47.046Z"
   },
   {
    "duration": 0,
    "start_time": "2022-04-02T12:09:47.047Z"
   },
   {
    "duration": 0,
    "start_time": "2022-04-02T12:09:47.048Z"
   },
   {
    "duration": 0,
    "start_time": "2022-04-02T12:09:47.049Z"
   },
   {
    "duration": 0,
    "start_time": "2022-04-02T12:09:47.050Z"
   },
   {
    "duration": 0,
    "start_time": "2022-04-02T12:09:47.050Z"
   },
   {
    "duration": 0,
    "start_time": "2022-04-02T12:09:47.051Z"
   },
   {
    "duration": 0,
    "start_time": "2022-04-02T12:09:47.052Z"
   },
   {
    "duration": 0,
    "start_time": "2022-04-02T12:09:47.053Z"
   },
   {
    "duration": 0,
    "start_time": "2022-04-02T12:09:47.054Z"
   },
   {
    "duration": 0,
    "start_time": "2022-04-02T12:09:47.055Z"
   },
   {
    "duration": 0,
    "start_time": "2022-04-02T12:09:47.057Z"
   },
   {
    "duration": 0,
    "start_time": "2022-04-02T12:09:47.058Z"
   },
   {
    "duration": 0,
    "start_time": "2022-04-02T12:09:47.059Z"
   },
   {
    "duration": 0,
    "start_time": "2022-04-02T12:09:47.060Z"
   },
   {
    "duration": 1562,
    "start_time": "2022-04-02T12:09:53.979Z"
   },
   {
    "duration": 884,
    "start_time": "2022-04-02T12:09:55.543Z"
   },
   {
    "duration": 23,
    "start_time": "2022-04-02T12:09:56.429Z"
   },
   {
    "duration": 173,
    "start_time": "2022-04-02T12:09:56.454Z"
   },
   {
    "duration": 924,
    "start_time": "2022-04-02T12:09:56.629Z"
   },
   {
    "duration": 139,
    "start_time": "2022-04-02T12:09:57.555Z"
   },
   {
    "duration": 139,
    "start_time": "2022-04-02T12:09:57.696Z"
   },
   {
    "duration": 2,
    "start_time": "2022-04-02T12:09:57.837Z"
   },
   {
    "duration": 22,
    "start_time": "2022-04-02T12:09:57.841Z"
   },
   {
    "duration": 28,
    "start_time": "2022-04-02T12:09:57.866Z"
   },
   {
    "duration": 6,
    "start_time": "2022-04-02T12:09:57.896Z"
   },
   {
    "duration": 31,
    "start_time": "2022-04-02T12:09:57.904Z"
   },
   {
    "duration": 98,
    "start_time": "2022-04-02T12:09:57.937Z"
   },
   {
    "duration": 35,
    "start_time": "2022-04-02T12:09:58.036Z"
   },
   {
    "duration": 6,
    "start_time": "2022-04-02T12:09:58.073Z"
   },
   {
    "duration": 78,
    "start_time": "2022-04-02T12:09:58.081Z"
   },
   {
    "duration": 10,
    "start_time": "2022-04-02T12:09:58.161Z"
   },
   {
    "duration": 35,
    "start_time": "2022-04-02T12:09:58.173Z"
   },
   {
    "duration": 41,
    "start_time": "2022-04-02T12:09:58.210Z"
   },
   {
    "duration": 35,
    "start_time": "2022-04-02T12:09:58.253Z"
   },
   {
    "duration": 59,
    "start_time": "2022-04-02T12:09:58.290Z"
   },
   {
    "duration": 37,
    "start_time": "2022-04-02T12:09:58.351Z"
   },
   {
    "duration": 44,
    "start_time": "2022-04-02T12:09:58.389Z"
   },
   {
    "duration": 36,
    "start_time": "2022-04-02T12:09:58.434Z"
   },
   {
    "duration": 24,
    "start_time": "2022-04-02T12:09:58.472Z"
   },
   {
    "duration": 56,
    "start_time": "2022-04-02T12:09:58.497Z"
   },
   {
    "duration": 39,
    "start_time": "2022-04-02T12:09:58.554Z"
   },
   {
    "duration": 39,
    "start_time": "2022-04-02T12:09:58.598Z"
   },
   {
    "duration": 45,
    "start_time": "2022-04-02T12:09:58.638Z"
   },
   {
    "duration": 89,
    "start_time": "2022-04-02T12:09:58.684Z"
   },
   {
    "duration": 12,
    "start_time": "2022-04-02T12:09:58.774Z"
   },
   {
    "duration": 7,
    "start_time": "2022-04-02T12:09:58.788Z"
   },
   {
    "duration": 794,
    "start_time": "2022-04-02T12:09:58.796Z"
   },
   {
    "duration": 12,
    "start_time": "2022-04-02T12:09:59.591Z"
   },
   {
    "duration": 49,
    "start_time": "2022-04-02T12:09:59.604Z"
   },
   {
    "duration": 15,
    "start_time": "2022-04-02T12:09:59.655Z"
   },
   {
    "duration": 35,
    "start_time": "2022-04-02T12:09:59.672Z"
   },
   {
    "duration": 799,
    "start_time": "2022-04-02T12:09:59.709Z"
   },
   {
    "duration": 726,
    "start_time": "2022-04-02T12:10:00.510Z"
   },
   {
    "duration": 10,
    "start_time": "2022-04-02T12:10:01.238Z"
   },
   {
    "duration": 33,
    "start_time": "2022-04-02T12:10:01.250Z"
   },
   {
    "duration": 644,
    "start_time": "2022-04-02T12:10:01.285Z"
   },
   {
    "duration": 17,
    "start_time": "2022-04-02T12:10:01.931Z"
   },
   {
    "duration": 31,
    "start_time": "2022-04-02T12:10:01.950Z"
   },
   {
    "duration": 596,
    "start_time": "2022-04-02T12:10:01.984Z"
   },
   {
    "duration": 753,
    "start_time": "2022-04-02T12:10:02.582Z"
   },
   {
    "duration": 19,
    "start_time": "2022-04-02T12:10:03.337Z"
   },
   {
    "duration": 1058,
    "start_time": "2022-04-02T12:10:03.358Z"
   },
   {
    "duration": 20,
    "start_time": "2022-04-02T12:10:04.418Z"
   },
   {
    "duration": 4,
    "start_time": "2022-04-02T12:10:04.439Z"
   },
   {
    "duration": 230,
    "start_time": "2022-04-02T12:10:04.445Z"
   },
   {
    "duration": 465,
    "start_time": "2022-04-02T12:10:04.677Z"
   },
   {
    "duration": 4,
    "start_time": "2022-04-02T12:10:05.144Z"
   },
   {
    "duration": 6,
    "start_time": "2022-04-02T12:10:05.150Z"
   },
   {
    "duration": 13,
    "start_time": "2022-04-02T12:10:05.158Z"
   },
   {
    "duration": 11,
    "start_time": "2022-04-02T12:10:05.173Z"
   },
   {
    "duration": 191,
    "start_time": "2022-04-02T12:10:05.186Z"
   },
   {
    "duration": 13,
    "start_time": "2022-04-02T12:10:05.379Z"
   },
   {
    "duration": 3,
    "start_time": "2022-04-02T12:10:05.394Z"
   },
   {
    "duration": 8,
    "start_time": "2022-04-02T12:10:05.398Z"
   },
   {
    "duration": 19427,
    "start_time": "2022-04-02T12:10:05.408Z"
   },
   {
    "duration": 197,
    "start_time": "2022-04-02T12:10:24.836Z"
   },
   {
    "duration": 103,
    "start_time": "2022-04-02T12:10:25.035Z"
   },
   {
    "duration": 14,
    "start_time": "2022-04-02T12:10:25.139Z"
   },
   {
    "duration": 9,
    "start_time": "2022-04-02T12:10:25.155Z"
   },
   {
    "duration": 133,
    "start_time": "2022-04-02T12:10:25.166Z"
   },
   {
    "duration": 64,
    "start_time": "2022-04-02T12:10:25.301Z"
   },
   {
    "duration": 14,
    "start_time": "2022-04-02T12:10:25.367Z"
   },
   {
    "duration": 6,
    "start_time": "2022-04-02T12:10:25.383Z"
   },
   {
    "duration": 204110,
    "start_time": "2022-04-02T12:10:25.390Z"
   },
   {
    "duration": 560,
    "start_time": "2022-04-02T12:13:49.502Z"
   },
   {
    "duration": 12,
    "start_time": "2022-04-02T12:13:50.064Z"
   },
   {
    "duration": 13,
    "start_time": "2022-04-02T12:13:50.078Z"
   },
   {
    "duration": 20747,
    "start_time": "2022-04-02T12:13:50.093Z"
   },
   {
    "duration": 1905,
    "start_time": "2022-04-02T12:14:10.842Z"
   },
   {
    "duration": 10,
    "start_time": "2022-04-02T12:14:12.749Z"
   },
   {
    "duration": 73,
    "start_time": "2022-04-02T12:14:12.760Z"
   },
   {
    "duration": 563,
    "start_time": "2022-04-02T12:14:12.834Z"
   }
  ],
  "colab": {
   "name": "Проект_9_Определение_стоимости_автомобилей.ipynb",
   "provenance": []
  },
  "kernelspec": {
   "display_name": "Python 3 (ipykernel)",
   "language": "python",
   "name": "python3"
  },
  "language_info": {
   "codemirror_mode": {
    "name": "ipython",
    "version": 3
   },
   "file_extension": ".py",
   "mimetype": "text/x-python",
   "name": "python",
   "nbconvert_exporter": "python",
   "pygments_lexer": "ipython3",
   "version": "3.9.12"
  },
  "toc": {
   "base_numbering": 1,
   "nav_menu": {},
   "number_sections": true,
   "sideBar": true,
   "skip_h1_title": true,
   "title_cell": "Table of Contents",
   "title_sidebar": "Contents",
   "toc_cell": false,
   "toc_position": {
    "height": "calc(100% - 180px)",
    "left": "10px",
    "top": "150px",
    "width": "316.391px"
   },
   "toc_section_display": true,
   "toc_window_display": true
  }
 },
 "nbformat": 4,
 "nbformat_minor": 1
}
