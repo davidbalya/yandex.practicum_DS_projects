{
 "cells": [
  {
   "cell_type": "markdown",
   "metadata": {
    "id": "qaUDBeF89mfc"
   },
   "source": [
    "# Выбор локации для скважины"
   ]
  },
  {
   "cell_type": "markdown",
   "metadata": {
    "id": "sRB7DSV79mfd"
   },
   "source": [
    "Допустим, вы работаете в добывающей компании «ГлавРосГосНефть». Нужно решить, где бурить новую скважину.\n",
    "\n",
    "Вам предоставлены пробы нефти в трёх регионах: в каждом 100 000 месторождений, где измерили качество нефти и объём её запасов. Постройте модель машинного обучения, которая поможет определить регион, где добыча принесёт наибольшую прибыль. Проанализируйте возможную прибыль и риски техникой *Bootstrap.*\n",
    "\n",
    "Шаги для выбора локации:\n",
    "\n",
    "- В избранном регионе ищут месторождения, для каждого определяют значения признаков;\n",
    "- Строят модель и оценивают объём запасов;\n",
    "- Выбирают месторождения с самым высокими оценками значений. Количество месторождений зависит от бюджета компании и стоимости разработки одной скважины;\n",
    "- Прибыль равна суммарной прибыли отобранных месторождений."
   ]
  },
  {
   "cell_type": "markdown",
   "metadata": {
    "id": "WlkKPXxr9mff"
   },
   "source": [
    "## Загрузка и подготовка данных"
   ]
  },
  {
   "cell_type": "code",
   "execution_count": null,
   "metadata": {
    "id": "Wp2kDsZZ9mff"
   },
   "outputs": [],
   "source": [
    "import pandas as pd\n",
    "import numpy as np\n",
    "import matplotlib.pyplot as plt\n",
    "import seaborn as sns\n",
    "from tqdm.notebook import trange\n",
    "from sklearn.model_selection import train_test_split\n",
    "from sklearn.metrics import mean_squared_error\n",
    "from sklearn.preprocessing import StandardScaler\n",
    "from sklearn.linear_model import LinearRegression"
   ]
  },
  {
   "cell_type": "markdown",
   "metadata": {
    "id": "lxFWoxWK9mfh"
   },
   "source": [
    "### Информация по данным в каждой таблице"
   ]
  },
  {
   "cell_type": "code",
   "execution_count": null,
   "metadata": {
    "id": "cYa0OLsl9mfi"
   },
   "outputs": [],
   "source": [
    "region_1 = pd.read_csv('/datasets/geo_data_0.csv')\n",
    "region_2 = pd.read_csv('/datasets/geo_data_1.csv')\n",
    "region_3 = pd.read_csv('/datasets/geo_data_2.csv')\n",
    "\n",
    "datasets = [region_1, region_2, region_3]\n",
    "name_of_regions = ['Регион 1', 'Регион 2', 'Регион 3']"
   ]
  },
  {
   "cell_type": "markdown",
   "metadata": {
    "id": "fArW16RX9mfi"
   },
   "source": [
    "Напишем функцию, которая поможет нам изучить каждый датефрейм:"
   ]
  },
  {
   "cell_type": "code",
   "execution_count": null,
   "metadata": {
    "id": "1vvbeNgq9mfj"
   },
   "outputs": [],
   "source": [
    "def information(df):\n",
    "    print(name_of_regions[index], '\\n')\n",
    "    print('Первые 15 строк таблицы:')\n",
    "    display(df.head(15))\n",
    "    print()\n",
    "    print('Информация о столбцах таблицы методом .describe():')\n",
    "    display(df.describe().T)\n",
    "    print()\n",
    "    print('Информация о столбцах таблицы методом .info():')\n",
    "    print()\n",
    "    display(df.info())\n",
    "    print()\n",
    "    print('Процент пропусков в каждом столбце в порядке убывания')\n",
    "    display(df.isna().mean().sort_values(ascending = False))\n",
    "    print()\n",
    "    print('Кол-во дубликатов в таблице:')\n",
    "    display(df.duplicated().sum())\n",
    "    print('-' * 60)\n",
    "    print()"
   ]
  },
  {
   "cell_type": "code",
   "execution_count": null,
   "metadata": {
    "id": "WX54E-qL9mfj",
    "outputId": "cc063ca3-2871-43ec-f36b-b5b660adc991",
    "scrolled": true
   },
   "outputs": [
    {
     "name": "stdout",
     "output_type": "stream",
     "text": [
      "Регион 1 \n",
      "\n",
      "Первые 15 строк таблицы:\n"
     ]
    },
    {
     "data": {
      "text/html": [
       "<div>\n",
       "<style scoped>\n",
       "    .dataframe tbody tr th:only-of-type {\n",
       "        vertical-align: middle;\n",
       "    }\n",
       "\n",
       "    .dataframe tbody tr th {\n",
       "        vertical-align: top;\n",
       "    }\n",
       "\n",
       "    .dataframe thead th {\n",
       "        text-align: right;\n",
       "    }\n",
       "</style>\n",
       "<table border=\"1\" class=\"dataframe\">\n",
       "  <thead>\n",
       "    <tr style=\"text-align: right;\">\n",
       "      <th></th>\n",
       "      <th>id</th>\n",
       "      <th>f0</th>\n",
       "      <th>f1</th>\n",
       "      <th>f2</th>\n",
       "      <th>product</th>\n",
       "    </tr>\n",
       "  </thead>\n",
       "  <tbody>\n",
       "    <tr>\n",
       "      <td>0</td>\n",
       "      <td>txEyH</td>\n",
       "      <td>0.705745</td>\n",
       "      <td>-0.497823</td>\n",
       "      <td>1.221170</td>\n",
       "      <td>105.280062</td>\n",
       "    </tr>\n",
       "    <tr>\n",
       "      <td>1</td>\n",
       "      <td>2acmU</td>\n",
       "      <td>1.334711</td>\n",
       "      <td>-0.340164</td>\n",
       "      <td>4.365080</td>\n",
       "      <td>73.037750</td>\n",
       "    </tr>\n",
       "    <tr>\n",
       "      <td>2</td>\n",
       "      <td>409Wp</td>\n",
       "      <td>1.022732</td>\n",
       "      <td>0.151990</td>\n",
       "      <td>1.419926</td>\n",
       "      <td>85.265647</td>\n",
       "    </tr>\n",
       "    <tr>\n",
       "      <td>3</td>\n",
       "      <td>iJLyR</td>\n",
       "      <td>-0.032172</td>\n",
       "      <td>0.139033</td>\n",
       "      <td>2.978566</td>\n",
       "      <td>168.620776</td>\n",
       "    </tr>\n",
       "    <tr>\n",
       "      <td>4</td>\n",
       "      <td>Xdl7t</td>\n",
       "      <td>1.988431</td>\n",
       "      <td>0.155413</td>\n",
       "      <td>4.751769</td>\n",
       "      <td>154.036647</td>\n",
       "    </tr>\n",
       "    <tr>\n",
       "      <td>5</td>\n",
       "      <td>wX4Hy</td>\n",
       "      <td>0.969570</td>\n",
       "      <td>0.489775</td>\n",
       "      <td>-0.735383</td>\n",
       "      <td>64.741541</td>\n",
       "    </tr>\n",
       "    <tr>\n",
       "      <td>6</td>\n",
       "      <td>tL6pL</td>\n",
       "      <td>0.645075</td>\n",
       "      <td>0.530656</td>\n",
       "      <td>1.780266</td>\n",
       "      <td>49.055285</td>\n",
       "    </tr>\n",
       "    <tr>\n",
       "      <td>7</td>\n",
       "      <td>BYPU6</td>\n",
       "      <td>-0.400648</td>\n",
       "      <td>0.808337</td>\n",
       "      <td>-5.624670</td>\n",
       "      <td>72.943292</td>\n",
       "    </tr>\n",
       "    <tr>\n",
       "      <td>8</td>\n",
       "      <td>j9Oui</td>\n",
       "      <td>0.643105</td>\n",
       "      <td>-0.551583</td>\n",
       "      <td>2.372141</td>\n",
       "      <td>113.356160</td>\n",
       "    </tr>\n",
       "    <tr>\n",
       "      <td>9</td>\n",
       "      <td>OLuZU</td>\n",
       "      <td>2.173381</td>\n",
       "      <td>0.563698</td>\n",
       "      <td>9.441852</td>\n",
       "      <td>127.910945</td>\n",
       "    </tr>\n",
       "    <tr>\n",
       "      <td>10</td>\n",
       "      <td>b8WQ6</td>\n",
       "      <td>0.371066</td>\n",
       "      <td>-0.036585</td>\n",
       "      <td>0.009208</td>\n",
       "      <td>70.326617</td>\n",
       "    </tr>\n",
       "    <tr>\n",
       "      <td>11</td>\n",
       "      <td>1YYm1</td>\n",
       "      <td>0.015920</td>\n",
       "      <td>1.062729</td>\n",
       "      <td>-0.722248</td>\n",
       "      <td>45.110381</td>\n",
       "    </tr>\n",
       "    <tr>\n",
       "      <td>12</td>\n",
       "      <td>zIYPq</td>\n",
       "      <td>-0.276476</td>\n",
       "      <td>0.924865</td>\n",
       "      <td>0.095584</td>\n",
       "      <td>89.158678</td>\n",
       "    </tr>\n",
       "    <tr>\n",
       "      <td>13</td>\n",
       "      <td>iqTqq</td>\n",
       "      <td>0.212696</td>\n",
       "      <td>-0.111147</td>\n",
       "      <td>5.770095</td>\n",
       "      <td>164.298520</td>\n",
       "    </tr>\n",
       "    <tr>\n",
       "      <td>14</td>\n",
       "      <td>Ct5yY</td>\n",
       "      <td>-0.018578</td>\n",
       "      <td>0.187516</td>\n",
       "      <td>2.944683</td>\n",
       "      <td>158.633720</td>\n",
       "    </tr>\n",
       "  </tbody>\n",
       "</table>\n",
       "</div>"
      ],
      "text/plain": [
       "       id        f0        f1        f2     product\n",
       "0   txEyH  0.705745 -0.497823  1.221170  105.280062\n",
       "1   2acmU  1.334711 -0.340164  4.365080   73.037750\n",
       "2   409Wp  1.022732  0.151990  1.419926   85.265647\n",
       "3   iJLyR -0.032172  0.139033  2.978566  168.620776\n",
       "4   Xdl7t  1.988431  0.155413  4.751769  154.036647\n",
       "5   wX4Hy  0.969570  0.489775 -0.735383   64.741541\n",
       "6   tL6pL  0.645075  0.530656  1.780266   49.055285\n",
       "7   BYPU6 -0.400648  0.808337 -5.624670   72.943292\n",
       "8   j9Oui  0.643105 -0.551583  2.372141  113.356160\n",
       "9   OLuZU  2.173381  0.563698  9.441852  127.910945\n",
       "10  b8WQ6  0.371066 -0.036585  0.009208   70.326617\n",
       "11  1YYm1  0.015920  1.062729 -0.722248   45.110381\n",
       "12  zIYPq -0.276476  0.924865  0.095584   89.158678\n",
       "13  iqTqq  0.212696 -0.111147  5.770095  164.298520\n",
       "14  Ct5yY -0.018578  0.187516  2.944683  158.633720"
      ]
     },
     "metadata": {},
     "output_type": "display_data"
    },
    {
     "name": "stdout",
     "output_type": "stream",
     "text": [
      "\n",
      "Информация о столбцах таблицы методом .describe():\n"
     ]
    },
    {
     "data": {
      "text/html": [
       "<div>\n",
       "<style scoped>\n",
       "    .dataframe tbody tr th:only-of-type {\n",
       "        vertical-align: middle;\n",
       "    }\n",
       "\n",
       "    .dataframe tbody tr th {\n",
       "        vertical-align: top;\n",
       "    }\n",
       "\n",
       "    .dataframe thead th {\n",
       "        text-align: right;\n",
       "    }\n",
       "</style>\n",
       "<table border=\"1\" class=\"dataframe\">\n",
       "  <thead>\n",
       "    <tr style=\"text-align: right;\">\n",
       "      <th></th>\n",
       "      <th>count</th>\n",
       "      <th>mean</th>\n",
       "      <th>std</th>\n",
       "      <th>min</th>\n",
       "      <th>25%</th>\n",
       "      <th>50%</th>\n",
       "      <th>75%</th>\n",
       "      <th>max</th>\n",
       "    </tr>\n",
       "  </thead>\n",
       "  <tbody>\n",
       "    <tr>\n",
       "      <td>f0</td>\n",
       "      <td>100000.0</td>\n",
       "      <td>0.500419</td>\n",
       "      <td>0.871832</td>\n",
       "      <td>-1.408605</td>\n",
       "      <td>-0.072580</td>\n",
       "      <td>0.502360</td>\n",
       "      <td>1.073581</td>\n",
       "      <td>2.362331</td>\n",
       "    </tr>\n",
       "    <tr>\n",
       "      <td>f1</td>\n",
       "      <td>100000.0</td>\n",
       "      <td>0.250143</td>\n",
       "      <td>0.504433</td>\n",
       "      <td>-0.848218</td>\n",
       "      <td>-0.200881</td>\n",
       "      <td>0.250252</td>\n",
       "      <td>0.700646</td>\n",
       "      <td>1.343769</td>\n",
       "    </tr>\n",
       "    <tr>\n",
       "      <td>f2</td>\n",
       "      <td>100000.0</td>\n",
       "      <td>2.502647</td>\n",
       "      <td>3.248248</td>\n",
       "      <td>-12.088328</td>\n",
       "      <td>0.287748</td>\n",
       "      <td>2.515969</td>\n",
       "      <td>4.715088</td>\n",
       "      <td>16.003790</td>\n",
       "    </tr>\n",
       "    <tr>\n",
       "      <td>product</td>\n",
       "      <td>100000.0</td>\n",
       "      <td>92.500000</td>\n",
       "      <td>44.288691</td>\n",
       "      <td>0.000000</td>\n",
       "      <td>56.497507</td>\n",
       "      <td>91.849972</td>\n",
       "      <td>128.564089</td>\n",
       "      <td>185.364347</td>\n",
       "    </tr>\n",
       "  </tbody>\n",
       "</table>\n",
       "</div>"
      ],
      "text/plain": [
       "            count       mean        std        min        25%        50%  \\\n",
       "f0       100000.0   0.500419   0.871832  -1.408605  -0.072580   0.502360   \n",
       "f1       100000.0   0.250143   0.504433  -0.848218  -0.200881   0.250252   \n",
       "f2       100000.0   2.502647   3.248248 -12.088328   0.287748   2.515969   \n",
       "product  100000.0  92.500000  44.288691   0.000000  56.497507  91.849972   \n",
       "\n",
       "                75%         max  \n",
       "f0         1.073581    2.362331  \n",
       "f1         0.700646    1.343769  \n",
       "f2         4.715088   16.003790  \n",
       "product  128.564089  185.364347  "
      ]
     },
     "metadata": {},
     "output_type": "display_data"
    },
    {
     "name": "stdout",
     "output_type": "stream",
     "text": [
      "\n",
      "Информация о столбцах таблицы методом .info():\n",
      "\n",
      "<class 'pandas.core.frame.DataFrame'>\n",
      "RangeIndex: 100000 entries, 0 to 99999\n",
      "Data columns (total 5 columns):\n",
      "id         100000 non-null object\n",
      "f0         100000 non-null float64\n",
      "f1         100000 non-null float64\n",
      "f2         100000 non-null float64\n",
      "product    100000 non-null float64\n",
      "dtypes: float64(4), object(1)\n",
      "memory usage: 3.8+ MB\n"
     ]
    },
    {
     "data": {
      "text/plain": [
       "None"
      ]
     },
     "metadata": {},
     "output_type": "display_data"
    },
    {
     "name": "stdout",
     "output_type": "stream",
     "text": [
      "\n",
      "Процент пропусков в каждом столбце в порядке убывания\n"
     ]
    },
    {
     "data": {
      "text/plain": [
       "product    0.0\n",
       "f2         0.0\n",
       "f1         0.0\n",
       "f0         0.0\n",
       "id         0.0\n",
       "dtype: float64"
      ]
     },
     "metadata": {},
     "output_type": "display_data"
    },
    {
     "name": "stdout",
     "output_type": "stream",
     "text": [
      "\n",
      "Кол-во дубликатов в таблице:\n"
     ]
    },
    {
     "data": {
      "text/plain": [
       "0"
      ]
     },
     "metadata": {},
     "output_type": "display_data"
    },
    {
     "name": "stdout",
     "output_type": "stream",
     "text": [
      "------------------------------------------------------------\n",
      "\n",
      "Регион 2 \n",
      "\n",
      "Первые 15 строк таблицы:\n"
     ]
    },
    {
     "data": {
      "text/html": [
       "<div>\n",
       "<style scoped>\n",
       "    .dataframe tbody tr th:only-of-type {\n",
       "        vertical-align: middle;\n",
       "    }\n",
       "\n",
       "    .dataframe tbody tr th {\n",
       "        vertical-align: top;\n",
       "    }\n",
       "\n",
       "    .dataframe thead th {\n",
       "        text-align: right;\n",
       "    }\n",
       "</style>\n",
       "<table border=\"1\" class=\"dataframe\">\n",
       "  <thead>\n",
       "    <tr style=\"text-align: right;\">\n",
       "      <th></th>\n",
       "      <th>id</th>\n",
       "      <th>f0</th>\n",
       "      <th>f1</th>\n",
       "      <th>f2</th>\n",
       "      <th>product</th>\n",
       "    </tr>\n",
       "  </thead>\n",
       "  <tbody>\n",
       "    <tr>\n",
       "      <td>0</td>\n",
       "      <td>kBEdx</td>\n",
       "      <td>-15.001348</td>\n",
       "      <td>-8.276000</td>\n",
       "      <td>-0.005876</td>\n",
       "      <td>3.179103</td>\n",
       "    </tr>\n",
       "    <tr>\n",
       "      <td>1</td>\n",
       "      <td>62mP7</td>\n",
       "      <td>14.272088</td>\n",
       "      <td>-3.475083</td>\n",
       "      <td>0.999183</td>\n",
       "      <td>26.953261</td>\n",
       "    </tr>\n",
       "    <tr>\n",
       "      <td>2</td>\n",
       "      <td>vyE1P</td>\n",
       "      <td>6.263187</td>\n",
       "      <td>-5.948386</td>\n",
       "      <td>5.001160</td>\n",
       "      <td>134.766305</td>\n",
       "    </tr>\n",
       "    <tr>\n",
       "      <td>3</td>\n",
       "      <td>KcrkZ</td>\n",
       "      <td>-13.081196</td>\n",
       "      <td>-11.506057</td>\n",
       "      <td>4.999415</td>\n",
       "      <td>137.945408</td>\n",
       "    </tr>\n",
       "    <tr>\n",
       "      <td>4</td>\n",
       "      <td>AHL4O</td>\n",
       "      <td>12.702195</td>\n",
       "      <td>-8.147433</td>\n",
       "      <td>5.004363</td>\n",
       "      <td>134.766305</td>\n",
       "    </tr>\n",
       "    <tr>\n",
       "      <td>5</td>\n",
       "      <td>HHckp</td>\n",
       "      <td>-3.327590</td>\n",
       "      <td>-2.205276</td>\n",
       "      <td>3.003647</td>\n",
       "      <td>84.038886</td>\n",
       "    </tr>\n",
       "    <tr>\n",
       "      <td>6</td>\n",
       "      <td>h5Ujo</td>\n",
       "      <td>-11.142655</td>\n",
       "      <td>-10.133399</td>\n",
       "      <td>4.002382</td>\n",
       "      <td>110.992147</td>\n",
       "    </tr>\n",
       "    <tr>\n",
       "      <td>7</td>\n",
       "      <td>muH9x</td>\n",
       "      <td>4.234715</td>\n",
       "      <td>-0.001354</td>\n",
       "      <td>2.004588</td>\n",
       "      <td>53.906522</td>\n",
       "    </tr>\n",
       "    <tr>\n",
       "      <td>8</td>\n",
       "      <td>YiRkx</td>\n",
       "      <td>13.355129</td>\n",
       "      <td>-0.332068</td>\n",
       "      <td>4.998647</td>\n",
       "      <td>134.766305</td>\n",
       "    </tr>\n",
       "    <tr>\n",
       "      <td>9</td>\n",
       "      <td>jG6Gi</td>\n",
       "      <td>1.069227</td>\n",
       "      <td>-11.025667</td>\n",
       "      <td>4.997844</td>\n",
       "      <td>137.945408</td>\n",
       "    </tr>\n",
       "    <tr>\n",
       "      <td>10</td>\n",
       "      <td>7uHUe</td>\n",
       "      <td>11.777049</td>\n",
       "      <td>-5.334084</td>\n",
       "      <td>2.003033</td>\n",
       "      <td>53.906522</td>\n",
       "    </tr>\n",
       "    <tr>\n",
       "      <td>11</td>\n",
       "      <td>OXyvW</td>\n",
       "      <td>16.320755</td>\n",
       "      <td>-0.562946</td>\n",
       "      <td>-0.001783</td>\n",
       "      <td>0.000000</td>\n",
       "    </tr>\n",
       "    <tr>\n",
       "      <td>12</td>\n",
       "      <td>cB8re</td>\n",
       "      <td>7.736313</td>\n",
       "      <td>-6.093374</td>\n",
       "      <td>3.982531</td>\n",
       "      <td>107.813044</td>\n",
       "    </tr>\n",
       "    <tr>\n",
       "      <td>13</td>\n",
       "      <td>igmai</td>\n",
       "      <td>6.695604</td>\n",
       "      <td>-0.749449</td>\n",
       "      <td>-0.007630</td>\n",
       "      <td>0.000000</td>\n",
       "    </tr>\n",
       "    <tr>\n",
       "      <td>14</td>\n",
       "      <td>3OdkE</td>\n",
       "      <td>-10.985487</td>\n",
       "      <td>-5.605994</td>\n",
       "      <td>2.991130</td>\n",
       "      <td>84.038886</td>\n",
       "    </tr>\n",
       "  </tbody>\n",
       "</table>\n",
       "</div>"
      ],
      "text/plain": [
       "       id         f0         f1        f2     product\n",
       "0   kBEdx -15.001348  -8.276000 -0.005876    3.179103\n",
       "1   62mP7  14.272088  -3.475083  0.999183   26.953261\n",
       "2   vyE1P   6.263187  -5.948386  5.001160  134.766305\n",
       "3   KcrkZ -13.081196 -11.506057  4.999415  137.945408\n",
       "4   AHL4O  12.702195  -8.147433  5.004363  134.766305\n",
       "5   HHckp  -3.327590  -2.205276  3.003647   84.038886\n",
       "6   h5Ujo -11.142655 -10.133399  4.002382  110.992147\n",
       "7   muH9x   4.234715  -0.001354  2.004588   53.906522\n",
       "8   YiRkx  13.355129  -0.332068  4.998647  134.766305\n",
       "9   jG6Gi   1.069227 -11.025667  4.997844  137.945408\n",
       "10  7uHUe  11.777049  -5.334084  2.003033   53.906522\n",
       "11  OXyvW  16.320755  -0.562946 -0.001783    0.000000\n",
       "12  cB8re   7.736313  -6.093374  3.982531  107.813044\n",
       "13  igmai   6.695604  -0.749449 -0.007630    0.000000\n",
       "14  3OdkE -10.985487  -5.605994  2.991130   84.038886"
      ]
     },
     "metadata": {},
     "output_type": "display_data"
    },
    {
     "name": "stdout",
     "output_type": "stream",
     "text": [
      "\n",
      "Информация о столбцах таблицы методом .describe():\n"
     ]
    },
    {
     "data": {
      "text/html": [
       "<div>\n",
       "<style scoped>\n",
       "    .dataframe tbody tr th:only-of-type {\n",
       "        vertical-align: middle;\n",
       "    }\n",
       "\n",
       "    .dataframe tbody tr th {\n",
       "        vertical-align: top;\n",
       "    }\n",
       "\n",
       "    .dataframe thead th {\n",
       "        text-align: right;\n",
       "    }\n",
       "</style>\n",
       "<table border=\"1\" class=\"dataframe\">\n",
       "  <thead>\n",
       "    <tr style=\"text-align: right;\">\n",
       "      <th></th>\n",
       "      <th>count</th>\n",
       "      <th>mean</th>\n",
       "      <th>std</th>\n",
       "      <th>min</th>\n",
       "      <th>25%</th>\n",
       "      <th>50%</th>\n",
       "      <th>75%</th>\n",
       "      <th>max</th>\n",
       "    </tr>\n",
       "  </thead>\n",
       "  <tbody>\n",
       "    <tr>\n",
       "      <td>f0</td>\n",
       "      <td>100000.0</td>\n",
       "      <td>1.141296</td>\n",
       "      <td>8.965932</td>\n",
       "      <td>-31.609576</td>\n",
       "      <td>-6.298551</td>\n",
       "      <td>1.153055</td>\n",
       "      <td>8.621015</td>\n",
       "      <td>29.421755</td>\n",
       "    </tr>\n",
       "    <tr>\n",
       "      <td>f1</td>\n",
       "      <td>100000.0</td>\n",
       "      <td>-4.796579</td>\n",
       "      <td>5.119872</td>\n",
       "      <td>-26.358598</td>\n",
       "      <td>-8.267985</td>\n",
       "      <td>-4.813172</td>\n",
       "      <td>-1.332816</td>\n",
       "      <td>18.734063</td>\n",
       "    </tr>\n",
       "    <tr>\n",
       "      <td>f2</td>\n",
       "      <td>100000.0</td>\n",
       "      <td>2.494541</td>\n",
       "      <td>1.703572</td>\n",
       "      <td>-0.018144</td>\n",
       "      <td>1.000021</td>\n",
       "      <td>2.011479</td>\n",
       "      <td>3.999904</td>\n",
       "      <td>5.019721</td>\n",
       "    </tr>\n",
       "    <tr>\n",
       "      <td>product</td>\n",
       "      <td>100000.0</td>\n",
       "      <td>68.825000</td>\n",
       "      <td>45.944423</td>\n",
       "      <td>0.000000</td>\n",
       "      <td>26.953261</td>\n",
       "      <td>57.085625</td>\n",
       "      <td>107.813044</td>\n",
       "      <td>137.945408</td>\n",
       "    </tr>\n",
       "  </tbody>\n",
       "</table>\n",
       "</div>"
      ],
      "text/plain": [
       "            count       mean        std        min        25%        50%  \\\n",
       "f0       100000.0   1.141296   8.965932 -31.609576  -6.298551   1.153055   \n",
       "f1       100000.0  -4.796579   5.119872 -26.358598  -8.267985  -4.813172   \n",
       "f2       100000.0   2.494541   1.703572  -0.018144   1.000021   2.011479   \n",
       "product  100000.0  68.825000  45.944423   0.000000  26.953261  57.085625   \n",
       "\n",
       "                75%         max  \n",
       "f0         8.621015   29.421755  \n",
       "f1        -1.332816   18.734063  \n",
       "f2         3.999904    5.019721  \n",
       "product  107.813044  137.945408  "
      ]
     },
     "metadata": {},
     "output_type": "display_data"
    },
    {
     "name": "stdout",
     "output_type": "stream",
     "text": [
      "\n",
      "Информация о столбцах таблицы методом .info():\n",
      "\n",
      "<class 'pandas.core.frame.DataFrame'>\n",
      "RangeIndex: 100000 entries, 0 to 99999\n",
      "Data columns (total 5 columns):\n",
      "id         100000 non-null object\n",
      "f0         100000 non-null float64\n",
      "f1         100000 non-null float64\n",
      "f2         100000 non-null float64\n",
      "product    100000 non-null float64\n",
      "dtypes: float64(4), object(1)\n",
      "memory usage: 3.8+ MB\n"
     ]
    },
    {
     "data": {
      "text/plain": [
       "None"
      ]
     },
     "metadata": {},
     "output_type": "display_data"
    },
    {
     "name": "stdout",
     "output_type": "stream",
     "text": [
      "\n",
      "Процент пропусков в каждом столбце в порядке убывания\n"
     ]
    },
    {
     "data": {
      "text/plain": [
       "product    0.0\n",
       "f2         0.0\n",
       "f1         0.0\n",
       "f0         0.0\n",
       "id         0.0\n",
       "dtype: float64"
      ]
     },
     "metadata": {},
     "output_type": "display_data"
    },
    {
     "name": "stdout",
     "output_type": "stream",
     "text": [
      "\n",
      "Кол-во дубликатов в таблице:\n"
     ]
    },
    {
     "data": {
      "text/plain": [
       "0"
      ]
     },
     "metadata": {},
     "output_type": "display_data"
    },
    {
     "name": "stdout",
     "output_type": "stream",
     "text": [
      "------------------------------------------------------------\n",
      "\n",
      "Регион 3 \n",
      "\n",
      "Первые 15 строк таблицы:\n"
     ]
    },
    {
     "data": {
      "text/html": [
       "<div>\n",
       "<style scoped>\n",
       "    .dataframe tbody tr th:only-of-type {\n",
       "        vertical-align: middle;\n",
       "    }\n",
       "\n",
       "    .dataframe tbody tr th {\n",
       "        vertical-align: top;\n",
       "    }\n",
       "\n",
       "    .dataframe thead th {\n",
       "        text-align: right;\n",
       "    }\n",
       "</style>\n",
       "<table border=\"1\" class=\"dataframe\">\n",
       "  <thead>\n",
       "    <tr style=\"text-align: right;\">\n",
       "      <th></th>\n",
       "      <th>id</th>\n",
       "      <th>f0</th>\n",
       "      <th>f1</th>\n",
       "      <th>f2</th>\n",
       "      <th>product</th>\n",
       "    </tr>\n",
       "  </thead>\n",
       "  <tbody>\n",
       "    <tr>\n",
       "      <td>0</td>\n",
       "      <td>fwXo0</td>\n",
       "      <td>-1.146987</td>\n",
       "      <td>0.963328</td>\n",
       "      <td>-0.828965</td>\n",
       "      <td>27.758673</td>\n",
       "    </tr>\n",
       "    <tr>\n",
       "      <td>1</td>\n",
       "      <td>WJtFt</td>\n",
       "      <td>0.262778</td>\n",
       "      <td>0.269839</td>\n",
       "      <td>-2.530187</td>\n",
       "      <td>56.069697</td>\n",
       "    </tr>\n",
       "    <tr>\n",
       "      <td>2</td>\n",
       "      <td>ovLUW</td>\n",
       "      <td>0.194587</td>\n",
       "      <td>0.289035</td>\n",
       "      <td>-5.586433</td>\n",
       "      <td>62.871910</td>\n",
       "    </tr>\n",
       "    <tr>\n",
       "      <td>3</td>\n",
       "      <td>q6cA6</td>\n",
       "      <td>2.236060</td>\n",
       "      <td>-0.553760</td>\n",
       "      <td>0.930038</td>\n",
       "      <td>114.572842</td>\n",
       "    </tr>\n",
       "    <tr>\n",
       "      <td>4</td>\n",
       "      <td>WPMUX</td>\n",
       "      <td>-0.515993</td>\n",
       "      <td>1.716266</td>\n",
       "      <td>5.899011</td>\n",
       "      <td>149.600746</td>\n",
       "    </tr>\n",
       "    <tr>\n",
       "      <td>5</td>\n",
       "      <td>LzZXx</td>\n",
       "      <td>-0.758092</td>\n",
       "      <td>0.710691</td>\n",
       "      <td>2.585887</td>\n",
       "      <td>90.222465</td>\n",
       "    </tr>\n",
       "    <tr>\n",
       "      <td>6</td>\n",
       "      <td>WBHRv</td>\n",
       "      <td>-0.574891</td>\n",
       "      <td>0.317727</td>\n",
       "      <td>1.773745</td>\n",
       "      <td>45.641478</td>\n",
       "    </tr>\n",
       "    <tr>\n",
       "      <td>7</td>\n",
       "      <td>XO8fn</td>\n",
       "      <td>-1.906649</td>\n",
       "      <td>-2.458350</td>\n",
       "      <td>-0.177097</td>\n",
       "      <td>72.480640</td>\n",
       "    </tr>\n",
       "    <tr>\n",
       "      <td>8</td>\n",
       "      <td>ybmQ5</td>\n",
       "      <td>1.776292</td>\n",
       "      <td>-0.279356</td>\n",
       "      <td>3.004156</td>\n",
       "      <td>106.616832</td>\n",
       "    </tr>\n",
       "    <tr>\n",
       "      <td>9</td>\n",
       "      <td>OilcN</td>\n",
       "      <td>-1.214452</td>\n",
       "      <td>-0.439314</td>\n",
       "      <td>5.922514</td>\n",
       "      <td>52.954532</td>\n",
       "    </tr>\n",
       "    <tr>\n",
       "      <td>10</td>\n",
       "      <td>myq2g</td>\n",
       "      <td>0.628659</td>\n",
       "      <td>-2.120049</td>\n",
       "      <td>5.362437</td>\n",
       "      <td>166.799132</td>\n",
       "    </tr>\n",
       "    <tr>\n",
       "      <td>11</td>\n",
       "      <td>V9R1y</td>\n",
       "      <td>-0.544565</td>\n",
       "      <td>0.039088</td>\n",
       "      <td>8.635293</td>\n",
       "      <td>150.859435</td>\n",
       "    </tr>\n",
       "    <tr>\n",
       "      <td>12</td>\n",
       "      <td>bKDo0</td>\n",
       "      <td>-0.960453</td>\n",
       "      <td>-0.127113</td>\n",
       "      <td>7.764734</td>\n",
       "      <td>96.910855</td>\n",
       "    </tr>\n",
       "    <tr>\n",
       "      <td>13</td>\n",
       "      <td>eXvhs</td>\n",
       "      <td>1.432891</td>\n",
       "      <td>-1.242074</td>\n",
       "      <td>3.557168</td>\n",
       "      <td>8.704162</td>\n",
       "    </tr>\n",
       "    <tr>\n",
       "      <td>14</td>\n",
       "      <td>wI4j3</td>\n",
       "      <td>-0.935464</td>\n",
       "      <td>2.420523</td>\n",
       "      <td>1.150536</td>\n",
       "      <td>116.829811</td>\n",
       "    </tr>\n",
       "  </tbody>\n",
       "</table>\n",
       "</div>"
      ],
      "text/plain": [
       "       id        f0        f1        f2     product\n",
       "0   fwXo0 -1.146987  0.963328 -0.828965   27.758673\n",
       "1   WJtFt  0.262778  0.269839 -2.530187   56.069697\n",
       "2   ovLUW  0.194587  0.289035 -5.586433   62.871910\n",
       "3   q6cA6  2.236060 -0.553760  0.930038  114.572842\n",
       "4   WPMUX -0.515993  1.716266  5.899011  149.600746\n",
       "5   LzZXx -0.758092  0.710691  2.585887   90.222465\n",
       "6   WBHRv -0.574891  0.317727  1.773745   45.641478\n",
       "7   XO8fn -1.906649 -2.458350 -0.177097   72.480640\n",
       "8   ybmQ5  1.776292 -0.279356  3.004156  106.616832\n",
       "9   OilcN -1.214452 -0.439314  5.922514   52.954532\n",
       "10  myq2g  0.628659 -2.120049  5.362437  166.799132\n",
       "11  V9R1y -0.544565  0.039088  8.635293  150.859435\n",
       "12  bKDo0 -0.960453 -0.127113  7.764734   96.910855\n",
       "13  eXvhs  1.432891 -1.242074  3.557168    8.704162\n",
       "14  wI4j3 -0.935464  2.420523  1.150536  116.829811"
      ]
     },
     "metadata": {},
     "output_type": "display_data"
    },
    {
     "name": "stdout",
     "output_type": "stream",
     "text": [
      "\n",
      "Информация о столбцах таблицы методом .describe():\n"
     ]
    },
    {
     "data": {
      "text/html": [
       "<div>\n",
       "<style scoped>\n",
       "    .dataframe tbody tr th:only-of-type {\n",
       "        vertical-align: middle;\n",
       "    }\n",
       "\n",
       "    .dataframe tbody tr th {\n",
       "        vertical-align: top;\n",
       "    }\n",
       "\n",
       "    .dataframe thead th {\n",
       "        text-align: right;\n",
       "    }\n",
       "</style>\n",
       "<table border=\"1\" class=\"dataframe\">\n",
       "  <thead>\n",
       "    <tr style=\"text-align: right;\">\n",
       "      <th></th>\n",
       "      <th>count</th>\n",
       "      <th>mean</th>\n",
       "      <th>std</th>\n",
       "      <th>min</th>\n",
       "      <th>25%</th>\n",
       "      <th>50%</th>\n",
       "      <th>75%</th>\n",
       "      <th>max</th>\n",
       "    </tr>\n",
       "  </thead>\n",
       "  <tbody>\n",
       "    <tr>\n",
       "      <td>f0</td>\n",
       "      <td>100000.0</td>\n",
       "      <td>0.002023</td>\n",
       "      <td>1.732045</td>\n",
       "      <td>-8.760004</td>\n",
       "      <td>-1.162288</td>\n",
       "      <td>0.009424</td>\n",
       "      <td>1.158535</td>\n",
       "      <td>7.238262</td>\n",
       "    </tr>\n",
       "    <tr>\n",
       "      <td>f1</td>\n",
       "      <td>100000.0</td>\n",
       "      <td>-0.002081</td>\n",
       "      <td>1.730417</td>\n",
       "      <td>-7.084020</td>\n",
       "      <td>-1.174820</td>\n",
       "      <td>-0.009482</td>\n",
       "      <td>1.163678</td>\n",
       "      <td>7.844801</td>\n",
       "    </tr>\n",
       "    <tr>\n",
       "      <td>f2</td>\n",
       "      <td>100000.0</td>\n",
       "      <td>2.495128</td>\n",
       "      <td>3.473445</td>\n",
       "      <td>-11.970335</td>\n",
       "      <td>0.130359</td>\n",
       "      <td>2.484236</td>\n",
       "      <td>4.858794</td>\n",
       "      <td>16.739402</td>\n",
       "    </tr>\n",
       "    <tr>\n",
       "      <td>product</td>\n",
       "      <td>100000.0</td>\n",
       "      <td>95.000000</td>\n",
       "      <td>44.749921</td>\n",
       "      <td>0.000000</td>\n",
       "      <td>59.450441</td>\n",
       "      <td>94.925613</td>\n",
       "      <td>130.595027</td>\n",
       "      <td>190.029838</td>\n",
       "    </tr>\n",
       "  </tbody>\n",
       "</table>\n",
       "</div>"
      ],
      "text/plain": [
       "            count       mean        std        min        25%        50%  \\\n",
       "f0       100000.0   0.002023   1.732045  -8.760004  -1.162288   0.009424   \n",
       "f1       100000.0  -0.002081   1.730417  -7.084020  -1.174820  -0.009482   \n",
       "f2       100000.0   2.495128   3.473445 -11.970335   0.130359   2.484236   \n",
       "product  100000.0  95.000000  44.749921   0.000000  59.450441  94.925613   \n",
       "\n",
       "                75%         max  \n",
       "f0         1.158535    7.238262  \n",
       "f1         1.163678    7.844801  \n",
       "f2         4.858794   16.739402  \n",
       "product  130.595027  190.029838  "
      ]
     },
     "metadata": {},
     "output_type": "display_data"
    },
    {
     "name": "stdout",
     "output_type": "stream",
     "text": [
      "\n",
      "Информация о столбцах таблицы методом .info():\n",
      "\n",
      "<class 'pandas.core.frame.DataFrame'>\n",
      "RangeIndex: 100000 entries, 0 to 99999\n",
      "Data columns (total 5 columns):\n",
      "id         100000 non-null object\n",
      "f0         100000 non-null float64\n",
      "f1         100000 non-null float64\n",
      "f2         100000 non-null float64\n",
      "product    100000 non-null float64\n",
      "dtypes: float64(4), object(1)\n",
      "memory usage: 3.8+ MB\n"
     ]
    },
    {
     "data": {
      "text/plain": [
       "None"
      ]
     },
     "metadata": {},
     "output_type": "display_data"
    },
    {
     "name": "stdout",
     "output_type": "stream",
     "text": [
      "\n",
      "Процент пропусков в каждом столбце в порядке убывания\n"
     ]
    },
    {
     "data": {
      "text/plain": [
       "product    0.0\n",
       "f2         0.0\n",
       "f1         0.0\n",
       "f0         0.0\n",
       "id         0.0\n",
       "dtype: float64"
      ]
     },
     "metadata": {},
     "output_type": "display_data"
    },
    {
     "name": "stdout",
     "output_type": "stream",
     "text": [
      "\n",
      "Кол-во дубликатов в таблице:\n"
     ]
    },
    {
     "data": {
      "text/plain": [
       "0"
      ]
     },
     "metadata": {},
     "output_type": "display_data"
    },
    {
     "name": "stdout",
     "output_type": "stream",
     "text": [
      "------------------------------------------------------------\n",
      "\n"
     ]
    }
   ],
   "source": [
    "for index in range(len(datasets)):\n",
    "    information(datasets[index])"
   ]
  },
  {
   "cell_type": "markdown",
   "metadata": {
    "id": "u_Gk3Cq-9mfk"
   },
   "source": [
    "#### Вывод по подпункту:"
   ]
  },
  {
   "cell_type": "markdown",
   "metadata": {
    "id": "srcp46Da9mfk"
   },
   "source": [
    "В целом данные готовы для дальнейшей работы, следует удалить столбец ***id*** во всех датасетах."
   ]
  },
  {
   "cell_type": "markdown",
   "metadata": {
    "id": "a73Uyfxu9mfl"
   },
   "source": [
    "### Предобработка данных:"
   ]
  },
  {
   "cell_type": "markdown",
   "metadata": {
    "id": "MszOzvOL9mfl"
   },
   "source": [
    "#### Удаление ненужного столбца:"
   ]
  },
  {
   "cell_type": "code",
   "execution_count": null,
   "metadata": {
    "id": "PoLPPKq49mfl"
   },
   "outputs": [],
   "source": [
    "region_1 = region_1.drop('id', axis=1)\n",
    "region_2 = region_2.drop('id', axis=1)\n",
    "region_3 = region_3.drop('id', axis=1)"
   ]
  },
  {
   "cell_type": "markdown",
   "metadata": {
    "id": "ij6XlJCE9mfm"
   },
   "source": [
    "Проверка:"
   ]
  },
  {
   "cell_type": "code",
   "execution_count": null,
   "metadata": {
    "id": "My7n7VoK9mfm",
    "outputId": "a291baa1-c3ba-48ed-e281-cdfb6933e363"
   },
   "outputs": [
    {
     "name": "stdout",
     "output_type": "stream",
     "text": [
      "Index(['f0', 'f1', 'f2', 'product'], dtype='object')\n",
      "Index(['f0', 'f1', 'f2', 'product'], dtype='object')\n",
      "Index(['f0', 'f1', 'f2', 'product'], dtype='object')\n"
     ]
    }
   ],
   "source": [
    "print(region_1.columns)\n",
    "print(region_2.columns)\n",
    "print(region_3.columns)"
   ]
  },
  {
   "cell_type": "markdown",
   "metadata": {
    "id": "DM0gz5_D9mfm"
   },
   "source": [
    "#### Разбиение  данных на выборки:"
   ]
  },
  {
   "cell_type": "markdown",
   "metadata": {
    "id": "fNQRsKXK9mfn"
   },
   "source": [
    "Напишем функцию для разбиения данных на тренировочную и валидационную выборки:"
   ]
  },
  {
   "cell_type": "code",
   "execution_count": null,
   "metadata": {
    "id": "HHOJUPAQ9mfn"
   },
   "outputs": [],
   "source": [
    "def splitting(df):\n",
    "    train, valid = train_test_split(df, test_size=0.25, random_state=244466666)\n",
    "    features_train = train.drop('product', axis=1)\n",
    "    target_train = train['product']\n",
    "    features_valid = valid.drop('product', axis=1)\n",
    "    target_valid = valid['product']\n",
    "    return features_train, target_train, features_valid, target_valid"
   ]
  },
  {
   "cell_type": "code",
   "execution_count": null,
   "metadata": {
    "id": "j_Fcbz079mfn"
   },
   "outputs": [],
   "source": [
    "features_train_1, target_train_1, features_valid_1, target_valid_1 = splitting(region_1)\n",
    "features_train_2, target_train_2, features_valid_2, target_valid_2 = splitting(region_2)\n",
    "features_train_3, target_train_3, features_valid_3, target_valid_3 = splitting(region_3)"
   ]
  },
  {
   "cell_type": "markdown",
   "metadata": {
    "id": "19itYUrW9mfn"
   },
   "source": [
    "Проверка:"
   ]
  },
  {
   "cell_type": "code",
   "execution_count": null,
   "metadata": {
    "id": "EKnp5HxP9mfn",
    "outputId": "e32e89d4-2e49-4f3b-d6ae-ef8005c1b36a"
   },
   "outputs": [
    {
     "name": "stdout",
     "output_type": "stream",
     "text": [
      "75000 25000\n",
      "75000 25000\n",
      "75000 25000\n"
     ]
    }
   ],
   "source": [
    "print(features_train_1.shape[0], features_valid_1.shape[0])\n",
    "print(features_train_2.shape[0], features_valid_2.shape[0])\n",
    "print(features_train_3.shape[0], features_valid_3.shape[0])"
   ]
  },
  {
   "cell_type": "markdown",
   "metadata": {
    "id": "yiElpCTD9mfo"
   },
   "source": [
    "#### Стандартизизация признаков:"
   ]
  },
  {
   "cell_type": "code",
   "execution_count": null,
   "metadata": {
    "id": "Z_RBtAM39mfo"
   },
   "outputs": [],
   "source": [
    "scaler = StandardScaler()\n",
    "numeric = ['f0', 'f1', 'f2']\n",
    "\n",
    "scaler.fit(features_train_1[numeric])\n",
    "features_train_1[numeric] = scaler.transform(features_train_1[numeric])\n",
    "features_valid_1[numeric] = scaler.transform(features_valid_1[numeric])\n",
    "\n",
    "scaler.fit(features_train_2[numeric])\n",
    "features_train_2[numeric] = scaler.transform(features_train_2[numeric])\n",
    "features_valid_2[numeric] = scaler.transform(features_valid_2[numeric])\n",
    "\n",
    "scaler.fit(features_train_3[numeric])\n",
    "features_train_3[numeric] = scaler.transform(features_train_3[numeric])\n",
    "features_valid_3[numeric] = scaler.transform(features_valid_3[numeric])"
   ]
  },
  {
   "cell_type": "markdown",
   "metadata": {
    "id": "wyx_1Mmb9mfo"
   },
   "source": [
    "Проверка:"
   ]
  },
  {
   "cell_type": "code",
   "execution_count": null,
   "metadata": {
    "id": "wifLOnpn9mfo",
    "outputId": "3c6049d8-f744-4cf4-a859-2f446471df46"
   },
   "outputs": [
    {
     "data": {
      "text/html": [
       "<div>\n",
       "<style scoped>\n",
       "    .dataframe tbody tr th:only-of-type {\n",
       "        vertical-align: middle;\n",
       "    }\n",
       "\n",
       "    .dataframe tbody tr th {\n",
       "        vertical-align: top;\n",
       "    }\n",
       "\n",
       "    .dataframe thead th {\n",
       "        text-align: right;\n",
       "    }\n",
       "</style>\n",
       "<table border=\"1\" class=\"dataframe\">\n",
       "  <thead>\n",
       "    <tr style=\"text-align: right;\">\n",
       "      <th></th>\n",
       "      <th>f0</th>\n",
       "      <th>f1</th>\n",
       "      <th>f2</th>\n",
       "    </tr>\n",
       "  </thead>\n",
       "  <tbody>\n",
       "    <tr>\n",
       "      <td>38978</td>\n",
       "      <td>-0.314770</td>\n",
       "      <td>1.187827</td>\n",
       "      <td>-0.970573</td>\n",
       "    </tr>\n",
       "    <tr>\n",
       "      <td>5575</td>\n",
       "      <td>-0.777615</td>\n",
       "      <td>-0.084848</td>\n",
       "      <td>-0.254861</td>\n",
       "    </tr>\n",
       "    <tr>\n",
       "      <td>62002</td>\n",
       "      <td>-1.163313</td>\n",
       "      <td>1.095936</td>\n",
       "      <td>-1.254631</td>\n",
       "    </tr>\n",
       "    <tr>\n",
       "      <td>63838</td>\n",
       "      <td>1.290765</td>\n",
       "      <td>-0.808082</td>\n",
       "      <td>-1.342485</td>\n",
       "    </tr>\n",
       "    <tr>\n",
       "      <td>62387</td>\n",
       "      <td>1.284911</td>\n",
       "      <td>-0.829233</td>\n",
       "      <td>1.008959</td>\n",
       "    </tr>\n",
       "  </tbody>\n",
       "</table>\n",
       "</div>"
      ],
      "text/plain": [
       "             f0        f1        f2\n",
       "38978 -0.314770  1.187827 -0.970573\n",
       "5575  -0.777615 -0.084848 -0.254861\n",
       "62002 -1.163313  1.095936 -1.254631\n",
       "63838  1.290765 -0.808082 -1.342485\n",
       "62387  1.284911 -0.829233  1.008959"
      ]
     },
     "metadata": {},
     "output_type": "display_data"
    },
    {
     "data": {
      "text/html": [
       "<div>\n",
       "<style scoped>\n",
       "    .dataframe tbody tr th:only-of-type {\n",
       "        vertical-align: middle;\n",
       "    }\n",
       "\n",
       "    .dataframe tbody tr th {\n",
       "        vertical-align: top;\n",
       "    }\n",
       "\n",
       "    .dataframe thead th {\n",
       "        text-align: right;\n",
       "    }\n",
       "</style>\n",
       "<table border=\"1\" class=\"dataframe\">\n",
       "  <thead>\n",
       "    <tr style=\"text-align: right;\">\n",
       "      <th></th>\n",
       "      <th>f0</th>\n",
       "      <th>f1</th>\n",
       "      <th>f2</th>\n",
       "    </tr>\n",
       "  </thead>\n",
       "  <tbody>\n",
       "    <tr>\n",
       "      <td>38978</td>\n",
       "      <td>0.068109</td>\n",
       "      <td>-0.098654</td>\n",
       "      <td>-0.874225</td>\n",
       "    </tr>\n",
       "    <tr>\n",
       "      <td>5575</td>\n",
       "      <td>-0.776280</td>\n",
       "      <td>-0.781879</td>\n",
       "      <td>1.474187</td>\n",
       "    </tr>\n",
       "    <tr>\n",
       "      <td>62002</td>\n",
       "      <td>0.872689</td>\n",
       "      <td>-0.918625</td>\n",
       "      <td>0.299326</td>\n",
       "    </tr>\n",
       "    <tr>\n",
       "      <td>63838</td>\n",
       "      <td>0.406681</td>\n",
       "      <td>-1.332108</td>\n",
       "      <td>-0.285825</td>\n",
       "    </tr>\n",
       "    <tr>\n",
       "      <td>62387</td>\n",
       "      <td>0.575750</td>\n",
       "      <td>0.836044</td>\n",
       "      <td>0.294522</td>\n",
       "    </tr>\n",
       "  </tbody>\n",
       "</table>\n",
       "</div>"
      ],
      "text/plain": [
       "             f0        f1        f2\n",
       "38978  0.068109 -0.098654 -0.874225\n",
       "5575  -0.776280 -0.781879  1.474187\n",
       "62002  0.872689 -0.918625  0.299326\n",
       "63838  0.406681 -1.332108 -0.285825\n",
       "62387  0.575750  0.836044  0.294522"
      ]
     },
     "metadata": {},
     "output_type": "display_data"
    },
    {
     "data": {
      "text/html": [
       "<div>\n",
       "<style scoped>\n",
       "    .dataframe tbody tr th:only-of-type {\n",
       "        vertical-align: middle;\n",
       "    }\n",
       "\n",
       "    .dataframe tbody tr th {\n",
       "        vertical-align: top;\n",
       "    }\n",
       "\n",
       "    .dataframe thead th {\n",
       "        text-align: right;\n",
       "    }\n",
       "</style>\n",
       "<table border=\"1\" class=\"dataframe\">\n",
       "  <thead>\n",
       "    <tr style=\"text-align: right;\">\n",
       "      <th></th>\n",
       "      <th>f0</th>\n",
       "      <th>f1</th>\n",
       "      <th>f2</th>\n",
       "    </tr>\n",
       "  </thead>\n",
       "  <tbody>\n",
       "    <tr>\n",
       "      <td>38978</td>\n",
       "      <td>-0.692693</td>\n",
       "      <td>-0.492227</td>\n",
       "      <td>0.177308</td>\n",
       "    </tr>\n",
       "    <tr>\n",
       "      <td>5575</td>\n",
       "      <td>0.971449</td>\n",
       "      <td>-0.599661</td>\n",
       "      <td>-0.766957</td>\n",
       "    </tr>\n",
       "    <tr>\n",
       "      <td>62002</td>\n",
       "      <td>0.426305</td>\n",
       "      <td>2.563588</td>\n",
       "      <td>-0.265031</td>\n",
       "    </tr>\n",
       "    <tr>\n",
       "      <td>63838</td>\n",
       "      <td>-0.881178</td>\n",
       "      <td>0.169704</td>\n",
       "      <td>-0.991546</td>\n",
       "    </tr>\n",
       "    <tr>\n",
       "      <td>62387</td>\n",
       "      <td>1.327877</td>\n",
       "      <td>1.472161</td>\n",
       "      <td>-1.610531</td>\n",
       "    </tr>\n",
       "  </tbody>\n",
       "</table>\n",
       "</div>"
      ],
      "text/plain": [
       "             f0        f1        f2\n",
       "38978 -0.692693 -0.492227  0.177308\n",
       "5575   0.971449 -0.599661 -0.766957\n",
       "62002  0.426305  2.563588 -0.265031\n",
       "63838 -0.881178  0.169704 -0.991546\n",
       "62387  1.327877  1.472161 -1.610531"
      ]
     },
     "metadata": {},
     "output_type": "display_data"
    }
   ],
   "source": [
    "display(features_train_1.head(), features_train_2.head(), features_train_3.head())"
   ]
  },
  {
   "cell_type": "markdown",
   "metadata": {
    "id": "Wk7FPW1X9mfp"
   },
   "source": [
    "#### Вывод по подпункту:"
   ]
  },
  {
   "cell_type": "markdown",
   "metadata": {
    "id": "ICkxYRrD9mfp"
   },
   "source": [
    "В ходе предобработки данных были выполнены следующие операции:\n",
    "- Был удален лишний столбец\n",
    "- Данные были разбиты на обучающую и валидационную выборки\n",
    "- Была проведена стандартизация признаков"
   ]
  },
  {
   "cell_type": "markdown",
   "metadata": {
    "id": "Q0uCT7DJ9mfp"
   },
   "source": [
    "## Обучение и проверка модели"
   ]
  },
  {
   "cell_type": "markdown",
   "metadata": {
    "id": "iCio5wKK9mfp"
   },
   "source": [
    "Напишем функцию для обучения модели и получения предсказаний:"
   ]
  },
  {
   "cell_type": "code",
   "execution_count": null,
   "metadata": {
    "id": "d8VdRawO9mfp"
   },
   "outputs": [],
   "source": [
    "linear_regression_model = LinearRegression()\n",
    "\n",
    "def learning_and_predicted_values(features_train, target_train, features_valid, target_valid):\n",
    "    linear_regression_model.fit(features_train, target_train)\n",
    "    predicted_values = pd.Series(linear_regression_model.predict(features_valid), target_valid.index)\n",
    "    return predicted_values"
   ]
  },
  {
   "cell_type": "code",
   "execution_count": null,
   "metadata": {
    "id": "xMkPKk1E9mfq"
   },
   "outputs": [],
   "source": [
    "predicted_1 = learning_and_predicted_values(features_train_1, target_train_1, features_valid_1, target_valid_1)\n",
    "predicted_2 = learning_and_predicted_values(features_train_2, target_train_2, features_valid_2, target_valid_2)\n",
    "predicted_3 = learning_and_predicted_values(features_train_3, target_train_3, features_valid_3, target_valid_3)"
   ]
  },
  {
   "cell_type": "markdown",
   "metadata": {
    "id": "ud_EDreZ9mfq"
   },
   "source": [
    "Выведем информацию по каждому региону:"
   ]
  },
  {
   "cell_type": "code",
   "execution_count": null,
   "metadata": {
    "id": "E2ncKlaB9mfq"
   },
   "outputs": [],
   "source": [
    "prediction_list = [predicted_1, predicted_2, predicted_3]\n",
    "target_list = [target_valid_1, target_valid_2, target_valid_3]"
   ]
  },
  {
   "cell_type": "code",
   "execution_count": null,
   "metadata": {
    "id": "ahoVOp1R9mfq",
    "outputId": "f7f18cee-5df8-4412-b44c-14ebc0f677d4"
   },
   "outputs": [
    {
     "name": "stdout",
     "output_type": "stream",
     "text": [
      "Регион 1\n",
      "Предсказанный средний объем запасов: 92.46291804433594\n",
      "RMSE: 37.573638658796064 \n",
      "\n",
      "Регион 2\n",
      "Предсказанный средний объем запасов: 69.06227441615115\n",
      "RMSE: 0.8958341043644462 \n",
      "\n",
      "Регион 3\n",
      "Предсказанный средний объем запасов: 95.13039726784767\n",
      "RMSE: 40.060549502648456 \n",
      "\n"
     ]
    }
   ],
   "source": [
    "for _ in range(len(prediction_list)):\n",
    "    mse = mean_squared_error(target_list[_], prediction_list[_])\n",
    "    mean_predicted_volume = prediction_list[_].mean()\n",
    "    print(name_of_regions[_])\n",
    "    print('Предсказанный средний объем запасов:', mean_predicted_volume)\n",
    "    print('RMSE:', mse ** 0.5, '\\n')"
   ]
  },
  {
   "cell_type": "markdown",
   "metadata": {
    "id": "Y1tPTC6T9mfq"
   },
   "source": [
    "### Вывод"
   ]
  },
  {
   "cell_type": "markdown",
   "metadata": {
    "id": "ixjQV4_l9mfq"
   },
   "source": [
    "Модели 1 и 3 регионов показывают плохие значения среднеквадратичной ошибки. Не стоит использовать их для выбора скважины в регионе."
   ]
  },
  {
   "cell_type": "markdown",
   "metadata": {
    "id": "ETgj30j49mfr"
   },
   "source": [
    "## Подготовка к расчёту прибыли"
   ]
  },
  {
   "cell_type": "code",
   "execution_count": null,
   "metadata": {
    "id": "Lu6V2W1M9mfr",
    "outputId": "8ea823be-fddf-4517-cbc7-06860b324383"
   },
   "outputs": [
    {
     "name": "stdout",
     "output_type": "stream",
     "text": [
      "Цена одной скважины: 50000000.0\n",
      "Минимальный для окупаемости объем сырья в скважине: 111.11 тыс.баррелей\n"
     ]
    }
   ],
   "source": [
    "BUDGET_TOTAL = 10000000000 \n",
    "WELLS_TOTAL = 200 \n",
    "COST_OF_PRODUCT_UNIT = 450000 \n",
    "LOSS_PROBABILITY = 0.025 \n",
    "COST_OF_WELL = BUDGET_TOTAL / WELLS_TOTAL \n",
    "MIN_VOLUME_FOR_WELL = COST_OF_WELL / COST_OF_PRODUCT_UNIT\n",
    "\n",
    "print('Цена одной скважины:', COST_OF_WELL)\n",
    "print('Минимальный для окупаемости объем сырья в скважине: {:.2f}'.format(MIN_VOLUME_FOR_WELL), 'тыс.баррелей')"
   ]
  },
  {
   "cell_type": "markdown",
   "metadata": {
    "id": "dssgytlc9mfs"
   },
   "source": [
    "### Вывод"
   ]
  },
  {
   "cell_type": "markdown",
   "metadata": {
    "id": "QVU56bA19mfs"
   },
   "source": [
    "Достаточный объём сырья для безубыточной разработки новой скважины равен 111 т.баррелей. Ни один из средних запасов сырья в каждом регионе не удовлетворяет данному требованию."
   ]
  },
  {
   "cell_type": "markdown",
   "metadata": {
    "id": "ho18N2T39mfs"
   },
   "source": [
    "## Расчёт прибыли и рисков "
   ]
  },
  {
   "cell_type": "markdown",
   "metadata": {
    "id": "8-THLnHA9mfs"
   },
   "source": [
    "Напишем функцию для расчета прибыли:"
   ]
  },
  {
   "cell_type": "code",
   "execution_count": null,
   "metadata": {
    "id": "7qF7um489mfs",
    "outputId": "5c429b06-03f6-416f-de06-3b763daa0e56"
   },
   "outputs": [
    {
     "data": {
      "text/plain": [
       "31063    139.762648\n",
       "14041    139.700702\n",
       "33785    139.668617\n",
       "11934    139.648847\n",
       "24274    139.557304\n",
       "            ...    \n",
       "74706    110.640820\n",
       "76663    110.640141\n",
       "33876    110.639956\n",
       "64243    110.639948\n",
       "95153    110.639744\n",
       "Length: 5000, dtype: float64"
      ]
     },
     "execution_count": 25,
     "metadata": {},
     "output_type": "execute_result"
    }
   ],
   "source": [
    "predicted_2.sort_values(ascending=False)"
   ]
  },
  {
   "cell_type": "code",
   "execution_count": null,
   "metadata": {
    "id": "rR2UUuZC9mft"
   },
   "outputs": [],
   "source": [
    "def profit(target, probabilities, count):\n",
    "    probs_sorted = probabilities.sort_values(ascending=False)\n",
    "    selected = target[probs_sorted.index][:count]\n",
    "    return COST_OF_PRODUCT_UNIT * selected.sum() - BUDGET_TOTAL"
   ]
  },
  {
   "cell_type": "code",
   "execution_count": null,
   "metadata": {
    "id": "ZMObUaPP9mft",
    "outputId": "533ea47a-dcf1-417f-8a7c-30850116d793",
    "scrolled": false
   },
   "outputs": [
    {
     "name": "stdout",
     "output_type": "stream",
     "text": [
      "Регион 1\n",
      "\n",
      "Средняя прибыль: 470845067.89\n",
      "2.5й квантиль: -45733066.14\n",
      "97.5й квантиль: 996401552.77\n",
      "Риск в %: 4.40\n",
      "95% Доверительный интервал: (-45733066.14 - 996401552.77)\n"
     ]
    },
    {
     "data": {
      "image/png": "[encoded data removed]",
      "text/plain": [
       "<Figure size 936x504 with 1 Axes>"
      ]
     },
     "metadata": {
      "needs_background": "light"
     },
     "output_type": "display_data"
    },
    {
     "name": "stdout",
     "output_type": "stream",
     "text": [
      "------------------------------------------------------------------------------------------------------------------------ \n",
      "\n",
      "Регион 2\n",
      "\n",
      "Средняя прибыль: 507766008.65\n",
      "2.5й квантиль: 78050810.75\n",
      "97.5й квантиль: 955800861.20\n",
      "Риск в %: 1.30\n",
      "95% Доверительный интервал: (78050810.75 - 955800861.20)\n"
     ]
    },
    {
     "data": {
      "image/png": "[encoded data removed]",
      "text/plain": [
       "<Figure size 936x504 with 1 Axes>"
      ]
     },
     "metadata": {
      "needs_background": "light"
     },
     "output_type": "display_data"
    },
    {
     "name": "stdout",
     "output_type": "stream",
     "text": [
      "------------------------------------------------------------------------------------------------------------------------ \n",
      "\n",
      "Регион 3\n",
      "\n",
      "Средняя прибыль: 415672372.59\n",
      "2.5й квантиль: -138893589.55\n",
      "97.5й квантиль: 960392607.36\n",
      "Риск в %: 6.80\n",
      "95% Доверительный интервал: (-138893589.55 - 960392607.36)\n"
     ]
    },
    {
     "data": {
      "image/png": "[encoded data removed]",
      "text/plain": [
       "<Figure size 936x504 with 1 Axes>"
      ]
     },
     "metadata": {
      "needs_background": "light"
     },
     "output_type": "display_data"
    },
    {
     "name": "stdout",
     "output_type": "stream",
     "text": [
      "------------------------------------------------------------------------------------------------------------------------ \n",
      "\n"
     ]
    }
   ],
   "source": [
    "state = np.random.RandomState(244466666) \n",
    "\n",
    "for index in range(len(prediction_list)):\n",
    "    values_of_revenues = []\n",
    "    \n",
    "    for _ in range(1000):\n",
    "        target_subsample = target_list[index].sample(n=500, replace=True, random_state=state)\n",
    "        probs_subsample = prediction_list[index][target_subsample.index]\n",
    "        values_of_revenues.append(profit(target_subsample, probs_subsample, WELLS_TOTAL))\n",
    "        \n",
    "    values_of_revenues = pd.Series(values_of_revenues)\n",
    "    lower = values_of_revenues.quantile(0.025)\n",
    "    upper = values_of_revenues.quantile(0.975)\n",
    "    mean = values_of_revenues.mean()\n",
    "    risks = (values_of_revenues < 0).mean() * 100\n",
    "    print(name_of_regions[index], '\\n', sep='')\n",
    "    print('Средняя прибыль: {:.2f}'.format(mean))\n",
    "    print('2.5й квантиль: {:.2f}'.format(lower))\n",
    "    print('97.5й квантиль: {:.2f}'.format(upper))\n",
    "    print('Риск в %: {:.2f}'.format(risks))\n",
    "    print('95% Доверительный интервал: ({:.2f}'.format(lower), ' - ', '{:.2f}'.format(upper), ')', sep='') \n",
    "    \n",
    "    plt.figure(figsize=(13,7))\n",
    "    sns.distplot(values_of_revenues, color='purple')\n",
    "    plt.axvline(lower, color='red', linestyle='--')\n",
    "    plt.axvline(upper, color='red', linestyle='--')\n",
    "    plt.axvline(mean, color='black', linestyle='--')\n",
    "    plt.title('Гистограмма и график плотности распределения выручки — ' + name_of_regions[index], fontsize=18)\n",
    "    plt.xlabel('Выручка в рублях', fontsize=12)\n",
    "    plt.show()\n",
    "    \n",
    "    print('-'*120, '\\n')"
   ]
  },
  {
   "cell_type": "markdown",
   "metadata": {
    "id": "kIEPDqDm9mfu"
   },
   "source": [
    "## Вывод"
   ]
  },
  {
   "cell_type": "markdown",
   "metadata": {
    "id": "401SYFgf9mfu"
   },
   "source": [
    "Условиям, поставленным заказчиком, удовлетворяет только регион №2.  \n",
    "- Риск убытков 1.3%\n",
    "- Средняя прибыль 507 млн.р.\n",
    "- RMSE модели линейной регрессии: 0.89\n",
    "\n",
    "Другие 2 региона не подходят по большим значениям RMSE и высокому (>2.5%) риску убытков."
   ]
  }
 ],
 "metadata": {
  "ExecuteTimeLog": [
   {
    "duration": 94,
    "start_time": "2022-01-31T13:02:18.630Z"
   },
   {
    "duration": 1528,
    "start_time": "2022-01-31T13:02:20.220Z"
   },
   {
    "duration": 86,
    "start_time": "2022-01-31T13:02:21.750Z"
   },
   {
    "duration": 159,
    "start_time": "2022-01-31T13:02:27.619Z"
   },
   {
    "duration": 159,
    "start_time": "2022-01-31T13:02:31.320Z"
   },
   {
    "duration": 469,
    "start_time": "2022-01-31T13:02:53.475Z"
   },
   {
    "duration": 87,
    "start_time": "2022-01-31T13:05:28.343Z"
   },
   {
    "duration": 6,
    "start_time": "2022-01-31T13:06:11.301Z"
   },
   {
    "duration": 196,
    "start_time": "2022-01-31T13:06:24.974Z"
   },
   {
    "duration": 6,
    "start_time": "2022-01-31T13:06:48.294Z"
   },
   {
    "duration": 178,
    "start_time": "2022-01-31T13:06:50.140Z"
   },
   {
    "duration": 144,
    "start_time": "2022-01-31T13:07:15.696Z"
   },
   {
    "duration": 197,
    "start_time": "2022-01-31T13:07:25.840Z"
   },
   {
    "duration": 168,
    "start_time": "2022-01-31T13:07:28.537Z"
   },
   {
    "duration": 408,
    "start_time": "2022-01-31T13:13:59.835Z"
   },
   {
    "duration": 97,
    "start_time": "2022-01-31T13:14:02.888Z"
   },
   {
    "duration": 4,
    "start_time": "2022-01-31T13:14:08.093Z"
   },
   {
    "duration": 12,
    "start_time": "2022-01-31T13:14:09.511Z"
   },
   {
    "duration": 6,
    "start_time": "2022-01-31T13:23:16.387Z"
   },
   {
    "duration": 561,
    "start_time": "2022-01-31T13:23:54.323Z"
   },
   {
    "duration": 546,
    "start_time": "2022-01-31T13:24:21.791Z"
   },
   {
    "duration": 6,
    "start_time": "2022-01-31T13:25:03.259Z"
   },
   {
    "duration": 538,
    "start_time": "2022-01-31T13:25:05.109Z"
   },
   {
    "duration": 6,
    "start_time": "2022-01-31T13:25:13.276Z"
   },
   {
    "duration": 531,
    "start_time": "2022-01-31T13:25:14.590Z"
   },
   {
    "duration": 7,
    "start_time": "2022-01-31T13:25:31.323Z"
   },
   {
    "duration": 562,
    "start_time": "2022-01-31T13:25:32.575Z"
   },
   {
    "duration": 91,
    "start_time": "2022-01-31T13:30:14.143Z"
   },
   {
    "duration": 6,
    "start_time": "2022-01-31T13:30:18.330Z"
   },
   {
    "duration": 626,
    "start_time": "2022-01-31T13:30:20.057Z"
   },
   {
    "duration": 6,
    "start_time": "2022-01-31T13:32:10.271Z"
   },
   {
    "duration": 566,
    "start_time": "2022-01-31T13:32:11.931Z"
   },
   {
    "duration": 6,
    "start_time": "2022-01-31T13:33:43.324Z"
   },
   {
    "duration": 547,
    "start_time": "2022-01-31T13:33:46.653Z"
   },
   {
    "duration": 6,
    "start_time": "2022-01-31T13:36:06.956Z"
   },
   {
    "duration": 539,
    "start_time": "2022-01-31T13:36:08.801Z"
   },
   {
    "duration": 126,
    "start_time": "2022-01-31T13:37:51.746Z"
   },
   {
    "duration": 6,
    "start_time": "2022-01-31T13:40:23.524Z"
   },
   {
    "duration": 542,
    "start_time": "2022-01-31T13:40:26.529Z"
   },
   {
    "duration": 6,
    "start_time": "2022-01-31T13:40:38.374Z"
   },
   {
    "duration": 549,
    "start_time": "2022-01-31T13:40:40.072Z"
   },
   {
    "duration": 6,
    "start_time": "2022-01-31T13:45:42.920Z"
   },
   {
    "duration": 584,
    "start_time": "2022-01-31T13:45:44.540Z"
   },
   {
    "duration": 6,
    "start_time": "2022-01-31T13:46:20.469Z"
   },
   {
    "duration": 7,
    "start_time": "2022-01-31T13:46:41.040Z"
   },
   {
    "duration": 535,
    "start_time": "2022-01-31T13:46:50.631Z"
   },
   {
    "duration": 6,
    "start_time": "2022-01-31T13:47:09.295Z"
   },
   {
    "duration": 580,
    "start_time": "2022-01-31T13:47:11.065Z"
   },
   {
    "duration": 697,
    "start_time": "2022-01-31T13:47:30.694Z"
   },
   {
    "duration": 6,
    "start_time": "2022-01-31T13:48:11.837Z"
   },
   {
    "duration": 597,
    "start_time": "2022-01-31T13:48:13.515Z"
   },
   {
    "duration": 525,
    "start_time": "2022-01-31T13:48:28.091Z"
   },
   {
    "duration": 95,
    "start_time": "2022-01-31T13:49:16.572Z"
   },
   {
    "duration": 10,
    "start_time": "2022-01-31T13:49:24.763Z"
   },
   {
    "duration": 593,
    "start_time": "2022-01-31T13:49:26.480Z"
   },
   {
    "duration": 6,
    "start_time": "2022-01-31T13:49:29.950Z"
   },
   {
    "duration": 581,
    "start_time": "2022-01-31T13:49:31.528Z"
   },
   {
    "duration": 4,
    "start_time": "2022-01-31T13:51:17.736Z"
   },
   {
    "duration": 11,
    "start_time": "2022-01-31T13:51:19.183Z"
   },
   {
    "duration": 6,
    "start_time": "2022-01-31T13:51:26.426Z"
   },
   {
    "duration": 643,
    "start_time": "2022-01-31T13:52:09.811Z"
   },
   {
    "duration": 6,
    "start_time": "2022-01-31T13:52:26.198Z"
   },
   {
    "duration": 562,
    "start_time": "2022-01-31T13:52:28.531Z"
   },
   {
    "duration": 700,
    "start_time": "2022-01-31T13:52:49.451Z"
   },
   {
    "duration": 5,
    "start_time": "2022-01-31T13:53:51.747Z"
   },
   {
    "duration": 135,
    "start_time": "2022-01-31T13:53:53.340Z"
   },
   {
    "duration": 85,
    "start_time": "2022-01-31T13:54:12.185Z"
   },
   {
    "duration": 78,
    "start_time": "2022-01-31T13:54:24.415Z"
   },
   {
    "duration": 85,
    "start_time": "2022-01-31T13:54:31.573Z"
   },
   {
    "duration": 89,
    "start_time": "2022-01-31T13:54:50.024Z"
   },
   {
    "duration": 87,
    "start_time": "2022-01-31T13:55:10.541Z"
   },
   {
    "duration": 299,
    "start_time": "2022-01-31T13:58:02.636Z"
   },
   {
    "duration": 84,
    "start_time": "2022-01-31T13:59:17.486Z"
   },
   {
    "duration": 343,
    "start_time": "2022-01-31T13:59:18.929Z"
   },
   {
    "duration": 417,
    "start_time": "2022-01-31T14:00:28.971Z"
   },
   {
    "duration": 92,
    "start_time": "2022-01-31T14:02:40.663Z"
   },
   {
    "duration": 13,
    "start_time": "2022-01-31T14:03:37.483Z"
   },
   {
    "duration": 12,
    "start_time": "2022-01-31T14:03:40.614Z"
   },
   {
    "duration": 268,
    "start_time": "2022-01-31T14:04:02.958Z"
   },
   {
    "duration": 4,
    "start_time": "2022-01-31T14:04:43.456Z"
   },
   {
    "duration": 11,
    "start_time": "2022-01-31T14:04:45.355Z"
   },
   {
    "duration": 4,
    "start_time": "2022-01-31T14:05:01.497Z"
   },
   {
    "duration": 12,
    "start_time": "2022-01-31T14:05:03.095Z"
   },
   {
    "duration": 32,
    "start_time": "2022-01-31T14:05:13.896Z"
   },
   {
    "duration": 4,
    "start_time": "2022-01-31T14:08:42.405Z"
   },
   {
    "duration": 697,
    "start_time": "2022-01-31T14:08:43.926Z"
   },
   {
    "duration": 5,
    "start_time": "2022-01-31T14:08:52.784Z"
   },
   {
    "duration": 17,
    "start_time": "2022-01-31T14:08:54.408Z"
   },
   {
    "duration": 4,
    "start_time": "2022-01-31T14:09:06.210Z"
   },
   {
    "duration": 4,
    "start_time": "2022-01-31T14:09:08.072Z"
   },
   {
    "duration": 10,
    "start_time": "2022-01-31T14:09:10.032Z"
   },
   {
    "duration": 20,
    "start_time": "2022-01-31T14:09:11.884Z"
   },
   {
    "duration": 4,
    "start_time": "2022-01-31T14:09:18.385Z"
   },
   {
    "duration": 4,
    "start_time": "2022-01-31T14:09:21.390Z"
   },
   {
    "duration": 20,
    "start_time": "2022-01-31T14:09:23.223Z"
   },
   {
    "duration": 4,
    "start_time": "2022-01-31T14:09:45.272Z"
   },
   {
    "duration": 11,
    "start_time": "2022-01-31T14:09:47.141Z"
   },
   {
    "duration": 10,
    "start_time": "2022-01-31T14:10:01.120Z"
   },
   {
    "duration": 12,
    "start_time": "2022-01-31T14:10:15.416Z"
   },
   {
    "duration": 16,
    "start_time": "2022-01-31T14:12:20.302Z"
   },
   {
    "duration": 9,
    "start_time": "2022-01-31T14:12:26.142Z"
   },
   {
    "duration": 16,
    "start_time": "2022-01-31T14:12:27.694Z"
   },
   {
    "duration": 6,
    "start_time": "2022-01-31T14:12:42.069Z"
   },
   {
    "duration": 314,
    "start_time": "2022-01-31T14:12:47.562Z"
   },
   {
    "duration": 420,
    "start_time": "2022-01-31T14:12:58.470Z"
   },
   {
    "duration": 463,
    "start_time": "2022-01-31T14:13:34.040Z"
   },
   {
    "duration": 6,
    "start_time": "2022-01-31T14:13:36.624Z"
   },
   {
    "duration": 16,
    "start_time": "2022-01-31T14:13:40.325Z"
   },
   {
    "duration": 23,
    "start_time": "2022-01-31T14:14:02.597Z"
   },
   {
    "duration": 9,
    "start_time": "2022-01-31T14:14:12.111Z"
   },
   {
    "duration": 14,
    "start_time": "2022-01-31T14:14:14.193Z"
   },
   {
    "duration": 459,
    "start_time": "2022-01-31T14:14:18.481Z"
   },
   {
    "duration": 13,
    "start_time": "2022-01-31T14:14:22.202Z"
   },
   {
    "duration": 4,
    "start_time": "2022-01-31T14:14:23.948Z"
   },
   {
    "duration": 8,
    "start_time": "2022-01-31T14:14:25.373Z"
   },
   {
    "duration": 23,
    "start_time": "2022-01-31T14:14:26.924Z"
   },
   {
    "duration": 10,
    "start_time": "2022-01-31T14:14:51.737Z"
   },
   {
    "duration": 6,
    "start_time": "2022-01-31T14:15:01.996Z"
   },
   {
    "duration": 6,
    "start_time": "2022-01-31T14:15:06.023Z"
   },
   {
    "duration": 7,
    "start_time": "2022-01-31T14:15:12.218Z"
   },
   {
    "duration": 6,
    "start_time": "2022-01-31T14:15:31.823Z"
   },
   {
    "duration": 5,
    "start_time": "2022-01-31T14:15:34.731Z"
   },
   {
    "duration": 98,
    "start_time": "2022-01-31T14:15:36.060Z"
   },
   {
    "duration": 53,
    "start_time": "2022-01-31T14:16:36.184Z"
   },
   {
    "duration": 45,
    "start_time": "2022-01-31T14:16:40.645Z"
   },
   {
    "duration": 29,
    "start_time": "2022-01-31T14:16:45.023Z"
   },
   {
    "duration": 6,
    "start_time": "2022-01-31T14:16:55.221Z"
   },
   {
    "duration": 7,
    "start_time": "2022-01-31T14:17:28.413Z"
   },
   {
    "duration": 288,
    "start_time": "2022-01-31T14:18:29.895Z"
   },
   {
    "duration": 6,
    "start_time": "2022-01-31T14:18:32.664Z"
   },
   {
    "duration": 282,
    "start_time": "2022-01-31T14:20:27.925Z"
   },
   {
    "duration": 6,
    "start_time": "2022-01-31T14:22:59.467Z"
   },
   {
    "duration": 5,
    "start_time": "2022-01-31T14:24:23.302Z"
   },
   {
    "duration": 44,
    "start_time": "2022-01-31T14:24:24.743Z"
   },
   {
    "duration": 14,
    "start_time": "2022-01-31T14:24:26.499Z"
   },
   {
    "duration": 50,
    "start_time": "2022-01-31T14:24:28.589Z"
   },
   {
    "duration": 16,
    "start_time": "2022-01-31T14:24:39.936Z"
   },
   {
    "duration": 5,
    "start_time": "2022-01-31T14:27:52.910Z"
   },
   {
    "duration": 312,
    "start_time": "2022-01-31T14:28:03.428Z"
   },
   {
    "duration": 276,
    "start_time": "2022-01-31T14:28:22.445Z"
   },
   {
    "duration": 249,
    "start_time": "2022-01-31T14:28:38.121Z"
   },
   {
    "duration": 282,
    "start_time": "2022-01-31T14:29:03.223Z"
   },
   {
    "duration": 321,
    "start_time": "2022-01-31T14:29:22.893Z"
   },
   {
    "duration": 706,
    "start_time": "2022-01-31T14:30:28.037Z"
   },
   {
    "duration": 707,
    "start_time": "2022-01-31T14:30:35.019Z"
   },
   {
    "duration": 277,
    "start_time": "2022-01-31T14:30:51.492Z"
   },
   {
    "duration": 15,
    "start_time": "2022-01-31T14:31:12.033Z"
   },
   {
    "duration": 14,
    "start_time": "2022-01-31T14:48:56.520Z"
   },
   {
    "duration": 16,
    "start_time": "2022-01-31T14:49:54.421Z"
   },
   {
    "duration": 17,
    "start_time": "2022-01-31T14:49:59.700Z"
   },
   {
    "duration": 14,
    "start_time": "2022-01-31T14:50:34.001Z"
   },
   {
    "duration": 17,
    "start_time": "2022-01-31T14:50:48.043Z"
   },
   {
    "duration": 14,
    "start_time": "2022-01-31T14:51:07.554Z"
   },
   {
    "duration": 7,
    "start_time": "2022-01-31T14:53:38.808Z"
   },
   {
    "duration": 561,
    "start_time": "2022-01-31T14:53:40.284Z"
   },
   {
    "duration": 7,
    "start_time": "2022-01-31T14:53:58.345Z"
   },
   {
    "duration": 585,
    "start_time": "2022-01-31T14:53:59.816Z"
   },
   {
    "duration": 7,
    "start_time": "2022-01-31T14:54:17.513Z"
   },
   {
    "duration": 570,
    "start_time": "2022-01-31T14:54:18.895Z"
   },
   {
    "duration": 7,
    "start_time": "2022-01-31T14:54:32.981Z"
   },
   {
    "duration": 678,
    "start_time": "2022-01-31T14:54:35.493Z"
   },
   {
    "duration": 273,
    "start_time": "2022-01-31T14:58:31.278Z"
   },
   {
    "duration": 275,
    "start_time": "2022-01-31T14:58:46.151Z"
   },
   {
    "duration": 5,
    "start_time": "2022-01-31T14:58:54.642Z"
   },
   {
    "duration": 6,
    "start_time": "2022-01-31T14:59:46.208Z"
   },
   {
    "duration": 6,
    "start_time": "2022-01-31T15:00:15.210Z"
   },
   {
    "duration": 13,
    "start_time": "2022-01-31T15:00:34.573Z"
   },
   {
    "duration": 9,
    "start_time": "2022-01-31T16:28:58.866Z"
   },
   {
    "duration": 1655,
    "start_time": "2022-01-31T16:29:07.547Z"
   },
   {
    "duration": 712,
    "start_time": "2022-01-31T16:29:09.205Z"
   },
   {
    "duration": 8,
    "start_time": "2022-01-31T16:29:09.926Z"
   },
   {
    "duration": 641,
    "start_time": "2022-01-31T16:29:09.937Z"
   },
   {
    "duration": 10,
    "start_time": "2022-01-31T16:29:10.581Z"
   },
   {
    "duration": 17,
    "start_time": "2022-01-31T16:29:10.593Z"
   },
   {
    "duration": 7,
    "start_time": "2022-01-31T16:29:10.614Z"
   },
   {
    "duration": 46,
    "start_time": "2022-01-31T16:29:10.624Z"
   },
   {
    "duration": 54,
    "start_time": "2022-01-31T16:29:10.672Z"
   },
   {
    "duration": 84,
    "start_time": "2022-01-31T16:29:10.729Z"
   },
   {
    "duration": 14,
    "start_time": "2022-01-31T16:29:10.817Z"
   },
   {
    "duration": 4,
    "start_time": "2022-01-31T16:29:10.833Z"
   },
   {
    "duration": 232,
    "start_time": "2022-01-31T16:29:10.839Z"
   },
   {
    "duration": 108,
    "start_time": "2022-01-31T16:29:11.074Z"
   },
   {
    "duration": 91,
    "start_time": "2022-01-31T16:29:11.185Z"
   },
   {
    "duration": 1544,
    "start_time": "2022-01-31T16:29:27.850Z"
   },
   {
    "duration": 485,
    "start_time": "2022-01-31T16:29:29.398Z"
   },
   {
    "duration": 6,
    "start_time": "2022-01-31T16:29:29.886Z"
   },
   {
    "duration": 622,
    "start_time": "2022-01-31T16:29:29.895Z"
   },
   {
    "duration": 11,
    "start_time": "2022-01-31T16:29:30.519Z"
   },
   {
    "duration": 9,
    "start_time": "2022-01-31T16:29:30.532Z"
   },
   {
    "duration": 17,
    "start_time": "2022-01-31T16:29:30.571Z"
   },
   {
    "duration": 13,
    "start_time": "2022-01-31T16:29:30.591Z"
   },
   {
    "duration": 17,
    "start_time": "2022-01-31T16:29:30.608Z"
   },
   {
    "duration": 81,
    "start_time": "2022-01-31T16:29:30.628Z"
   },
   {
    "duration": 69,
    "start_time": "2022-01-31T16:29:30.711Z"
   },
   {
    "duration": 14,
    "start_time": "2022-01-31T16:29:30.783Z"
   },
   {
    "duration": 12,
    "start_time": "2022-01-31T16:29:30.800Z"
   },
   {
    "duration": 256,
    "start_time": "2022-01-31T16:29:30.815Z"
   },
   {
    "duration": 107,
    "start_time": "2022-01-31T16:29:31.074Z"
   },
   {
    "duration": 6,
    "start_time": "2022-01-31T16:29:31.184Z"
   },
   {
    "duration": 1647,
    "start_time": "2022-01-31T16:31:24.679Z"
   },
   {
    "duration": 484,
    "start_time": "2022-01-31T16:31:26.329Z"
   },
   {
    "duration": 6,
    "start_time": "2022-01-31T16:31:26.816Z"
   },
   {
    "duration": 648,
    "start_time": "2022-01-31T16:31:26.825Z"
   },
   {
    "duration": 20,
    "start_time": "2022-01-31T16:31:27.477Z"
   },
   {
    "duration": 9,
    "start_time": "2022-01-31T16:31:27.500Z"
   },
   {
    "duration": 58,
    "start_time": "2022-01-31T16:31:27.511Z"
   },
   {
    "duration": 114,
    "start_time": "2022-01-31T16:31:27.574Z"
   },
   {
    "duration": 13,
    "start_time": "2022-01-31T16:31:27.691Z"
   },
   {
    "duration": 5,
    "start_time": "2022-01-31T16:31:27.706Z"
   },
   {
    "duration": 651,
    "start_time": "2022-01-31T16:31:27.714Z"
   },
   {
    "duration": 334,
    "start_time": "2022-01-31T16:31:28.034Z"
   },
   {
    "duration": 333,
    "start_time": "2022-01-31T16:31:28.037Z"
   },
   {
    "duration": 317,
    "start_time": "2022-01-31T16:31:28.056Z"
   },
   {
    "duration": 314,
    "start_time": "2022-01-31T16:31:28.060Z"
   },
   {
    "duration": 313,
    "start_time": "2022-01-31T16:31:28.062Z"
   },
   {
    "duration": 505,
    "start_time": "2022-01-31T16:31:36.608Z"
   },
   {
    "duration": 1533,
    "start_time": "2022-01-31T16:31:41.871Z"
   },
   {
    "duration": 523,
    "start_time": "2022-01-31T16:31:43.407Z"
   },
   {
    "duration": 6,
    "start_time": "2022-01-31T16:31:43.933Z"
   },
   {
    "duration": 688,
    "start_time": "2022-01-31T16:31:43.942Z"
   },
   {
    "duration": 15,
    "start_time": "2022-01-31T16:31:44.632Z"
   },
   {
    "duration": 45,
    "start_time": "2022-01-31T16:31:44.649Z"
   },
   {
    "duration": 22,
    "start_time": "2022-01-31T16:31:44.696Z"
   },
   {
    "duration": 63,
    "start_time": "2022-01-31T16:31:44.720Z"
   },
   {
    "duration": 53,
    "start_time": "2022-01-31T16:31:44.787Z"
   },
   {
    "duration": 39,
    "start_time": "2022-01-31T16:31:44.843Z"
   },
   {
    "duration": 4,
    "start_time": "2022-01-31T16:31:44.885Z"
   },
   {
    "duration": 183,
    "start_time": "2022-01-31T16:31:44.892Z"
   },
   {
    "duration": 100,
    "start_time": "2022-01-31T16:31:45.079Z"
   },
   {
    "duration": 12,
    "start_time": "2022-01-31T16:31:45.181Z"
   },
   {
    "duration": 94,
    "start_time": "2022-01-31T16:37:45.205Z"
   },
   {
    "duration": 5,
    "start_time": "2022-01-31T16:37:48.135Z"
   },
   {
    "duration": 76,
    "start_time": "2022-01-31T16:37:59.792Z"
   },
   {
    "duration": 29,
    "start_time": "2022-01-31T16:38:10.973Z"
   },
   {
    "duration": 5,
    "start_time": "2022-01-31T16:38:20.861Z"
   },
   {
    "duration": 16,
    "start_time": "2022-01-31T16:38:23.012Z"
   },
   {
    "duration": 608,
    "start_time": "2022-01-31T16:39:07.969Z"
   },
   {
    "duration": 431,
    "start_time": "2022-01-31T16:39:17.628Z"
   },
   {
    "duration": 163,
    "start_time": "2022-01-31T16:39:42.216Z"
   },
   {
    "duration": 185,
    "start_time": "2022-01-31T16:39:59.894Z"
   },
   {
    "duration": 6,
    "start_time": "2022-01-31T16:40:57.560Z"
   },
   {
    "duration": 639,
    "start_time": "2022-01-31T16:40:59.386Z"
   },
   {
    "duration": 5,
    "start_time": "2022-01-31T16:41:15.351Z"
   },
   {
    "duration": 253,
    "start_time": "2022-01-31T16:41:16.828Z"
   },
   {
    "duration": 7,
    "start_time": "2022-01-31T16:41:23.059Z"
   },
   {
    "duration": 6,
    "start_time": "2022-01-31T16:41:31.795Z"
   },
   {
    "duration": 267,
    "start_time": "2022-01-31T16:41:33.117Z"
   },
   {
    "duration": 5,
    "start_time": "2022-01-31T16:41:34.462Z"
   },
   {
    "duration": 6,
    "start_time": "2022-01-31T16:42:12.609Z"
   },
   {
    "duration": 293,
    "start_time": "2022-01-31T16:42:13.886Z"
   },
   {
    "duration": 5,
    "start_time": "2022-01-31T16:42:23.196Z"
   },
   {
    "duration": 5,
    "start_time": "2022-01-31T16:42:25.371Z"
   },
   {
    "duration": 6,
    "start_time": "2022-01-31T16:42:27.612Z"
   },
   {
    "duration": 6,
    "start_time": "2022-01-31T16:42:39.894Z"
   },
   {
    "duration": 311,
    "start_time": "2022-01-31T16:42:41.059Z"
   },
   {
    "duration": 6,
    "start_time": "2022-01-31T16:42:42.632Z"
   },
   {
    "duration": 5,
    "start_time": "2022-01-31T16:42:43.930Z"
   },
   {
    "duration": 7,
    "start_time": "2022-01-31T16:45:56.963Z"
   },
   {
    "duration": 7,
    "start_time": "2022-01-31T16:46:06.089Z"
   },
   {
    "duration": 6,
    "start_time": "2022-01-31T16:46:19.951Z"
   },
   {
    "duration": 7,
    "start_time": "2022-01-31T16:47:17.429Z"
   },
   {
    "duration": 6,
    "start_time": "2022-01-31T16:48:23.596Z"
   },
   {
    "duration": 7,
    "start_time": "2022-01-31T16:48:29.359Z"
   },
   {
    "duration": 6,
    "start_time": "2022-01-31T17:00:09.704Z"
   },
   {
    "duration": 7,
    "start_time": "2022-01-31T17:00:11.933Z"
   },
   {
    "duration": 6,
    "start_time": "2022-01-31T17:06:02.110Z"
   },
   {
    "duration": 5,
    "start_time": "2022-01-31T17:06:03.642Z"
   },
   {
    "duration": 13,
    "start_time": "2022-01-31T17:06:06.594Z"
   },
   {
    "duration": 5,
    "start_time": "2022-01-31T17:06:09.322Z"
   },
   {
    "duration": 213,
    "start_time": "2022-01-31T17:06:29.786Z"
   },
   {
    "duration": 6,
    "start_time": "2022-01-31T17:06:31.831Z"
   },
   {
    "duration": 5,
    "start_time": "2022-01-31T17:06:42.696Z"
   },
   {
    "duration": 6,
    "start_time": "2022-01-31T17:07:42.317Z"
   },
   {
    "duration": 221,
    "start_time": "2022-01-31T17:07:43.582Z"
   },
   {
    "duration": 5,
    "start_time": "2022-01-31T17:07:47.120Z"
   },
   {
    "duration": 6,
    "start_time": "2022-01-31T17:13:55.826Z"
   },
   {
    "duration": 7,
    "start_time": "2022-01-31T17:14:13.370Z"
   },
   {
    "duration": 185,
    "start_time": "2022-01-31T17:14:15.017Z"
   },
   {
    "duration": 6,
    "start_time": "2022-01-31T17:14:49.511Z"
   },
   {
    "duration": 274,
    "start_time": "2022-01-31T17:14:50.918Z"
   },
   {
    "duration": 7,
    "start_time": "2022-01-31T17:15:29.843Z"
   },
   {
    "duration": 327,
    "start_time": "2022-01-31T17:15:31.857Z"
   },
   {
    "duration": 299,
    "start_time": "2022-01-31T17:21:28.715Z"
   },
   {
    "duration": 1495,
    "start_time": "2022-02-02T08:18:22.326Z"
   },
   {
    "duration": 441,
    "start_time": "2022-02-02T08:18:23.824Z"
   },
   {
    "duration": 6,
    "start_time": "2022-02-02T08:18:24.271Z"
   },
   {
    "duration": 530,
    "start_time": "2022-02-02T08:18:24.280Z"
   },
   {
    "duration": 36,
    "start_time": "2022-02-02T08:18:24.813Z"
   },
   {
    "duration": 11,
    "start_time": "2022-02-02T08:18:24.852Z"
   },
   {
    "duration": 7,
    "start_time": "2022-02-02T08:18:24.867Z"
   },
   {
    "duration": 73,
    "start_time": "2022-02-02T08:18:24.877Z"
   },
   {
    "duration": 50,
    "start_time": "2022-02-02T08:18:24.953Z"
   },
   {
    "duration": 14,
    "start_time": "2022-02-02T08:18:25.006Z"
   },
   {
    "duration": 4,
    "start_time": "2022-02-02T08:18:25.049Z"
   },
   {
    "duration": 7,
    "start_time": "2022-02-02T08:18:25.057Z"
   },
   {
    "duration": 952,
    "start_time": "2022-02-02T08:18:25.067Z"
   },
   {
    "duration": 1253,
    "start_time": "2022-02-02T08:18:24.769Z"
   },
   {
    "duration": 1253,
    "start_time": "2022-02-02T08:18:24.771Z"
   },
   {
    "duration": 1254,
    "start_time": "2022-02-02T08:18:24.772Z"
   },
   {
    "duration": 345,
    "start_time": "2022-02-02T08:19:31.482Z"
   },
   {
    "duration": 553,
    "start_time": "2022-02-02T08:19:47.736Z"
   },
   {
    "duration": 5,
    "start_time": "2022-02-02T08:20:02.921Z"
   },
   {
    "duration": 137,
    "start_time": "2022-02-02T08:20:04.112Z"
   },
   {
    "duration": 5,
    "start_time": "2022-02-02T08:27:13.766Z"
   },
   {
    "duration": 353,
    "start_time": "2022-02-02T08:27:37.017Z"
   },
   {
    "duration": 175,
    "start_time": "2022-02-02T08:29:13.404Z"
   },
   {
    "duration": 279,
    "start_time": "2022-02-02T08:29:20.585Z"
   },
   {
    "duration": 293,
    "start_time": "2022-02-02T08:29:43.774Z"
   },
   {
    "duration": 4,
    "start_time": "2022-02-02T08:29:50.015Z"
   },
   {
    "duration": 4,
    "start_time": "2022-02-02T08:29:52.178Z"
   },
   {
    "duration": 602,
    "start_time": "2022-02-02T08:30:10.900Z"
   },
   {
    "duration": 454,
    "start_time": "2022-02-02T08:30:20.497Z"
   },
   {
    "duration": 5,
    "start_time": "2022-02-02T08:31:32.804Z"
   },
   {
    "duration": 336,
    "start_time": "2022-02-02T08:31:34.318Z"
   },
   {
    "duration": 412,
    "start_time": "2022-02-02T08:31:47.641Z"
   },
   {
    "duration": 13,
    "start_time": "2022-02-02T08:31:57.712Z"
   },
   {
    "duration": 279,
    "start_time": "2022-02-02T08:32:35.482Z"
   },
   {
    "duration": 386,
    "start_time": "2022-02-02T08:32:37.773Z"
   },
   {
    "duration": 4,
    "start_time": "2022-02-02T08:32:40.294Z"
   },
   {
    "duration": 14,
    "start_time": "2022-02-02T08:32:41.331Z"
   },
   {
    "duration": 294,
    "start_time": "2022-02-02T08:32:52.017Z"
   },
   {
    "duration": 8,
    "start_time": "2022-02-02T08:33:03.356Z"
   },
   {
    "duration": 6,
    "start_time": "2022-02-02T08:40:41.212Z"
   },
   {
    "duration": 9,
    "start_time": "2022-02-02T08:40:47.946Z"
   },
   {
    "duration": 5,
    "start_time": "2022-02-02T08:44:00.982Z"
   },
   {
    "duration": 5492,
    "start_time": "2022-02-02T08:53:25.087Z"
   },
   {
    "duration": 6882,
    "start_time": "2022-02-02T08:53:49.117Z"
   },
   {
    "duration": 16230,
    "start_time": "2022-02-02T08:54:53.003Z"
   },
   {
    "duration": 102,
    "start_time": "2022-02-02T08:55:41.244Z"
   },
   {
    "duration": 19225,
    "start_time": "2022-02-02T08:55:45.347Z"
   },
   {
    "duration": 625,
    "start_time": "2022-02-02T08:59:03.396Z"
   },
   {
    "duration": 19887,
    "start_time": "2022-02-02T08:59:36.994Z"
   },
   {
    "duration": 1486,
    "start_time": "2022-02-02T09:00:25.675Z"
   },
   {
    "duration": 498,
    "start_time": "2022-02-02T09:00:27.165Z"
   },
   {
    "duration": 8,
    "start_time": "2022-02-02T09:00:27.666Z"
   },
   {
    "duration": 644,
    "start_time": "2022-02-02T09:00:27.677Z"
   },
   {
    "duration": 26,
    "start_time": "2022-02-02T09:00:28.324Z"
   },
   {
    "duration": 13,
    "start_time": "2022-02-02T09:00:28.354Z"
   },
   {
    "duration": 6,
    "start_time": "2022-02-02T09:00:28.370Z"
   },
   {
    "duration": 96,
    "start_time": "2022-02-02T09:00:28.379Z"
   },
   {
    "duration": 50,
    "start_time": "2022-02-02T09:00:28.479Z"
   },
   {
    "duration": 27,
    "start_time": "2022-02-02T09:00:28.532Z"
   },
   {
    "duration": 5,
    "start_time": "2022-02-02T09:00:28.561Z"
   },
   {
    "duration": 191,
    "start_time": "2022-02-02T09:00:28.568Z"
   },
   {
    "duration": 6,
    "start_time": "2022-02-02T09:00:28.850Z"
   },
   {
    "duration": 106,
    "start_time": "2022-02-02T09:00:28.859Z"
   },
   {
    "duration": 7,
    "start_time": "2022-02-02T09:00:28.968Z"
   },
   {
    "duration": 9,
    "start_time": "2022-02-02T09:00:28.978Z"
   },
   {
    "duration": 6835,
    "start_time": "2022-02-02T09:00:28.989Z"
   },
   {
    "duration": 1284,
    "start_time": "2022-02-02T09:00:34.543Z"
   },
   {
    "duration": 5601,
    "start_time": "2022-02-02T09:01:25.643Z"
   },
   {
    "duration": 16315,
    "start_time": "2022-02-02T09:02:29.546Z"
   },
   {
    "duration": 16864,
    "start_time": "2022-02-02T09:03:24.622Z"
   },
   {
    "duration": 15905,
    "start_time": "2022-02-02T09:05:37.974Z"
   },
   {
    "duration": 396,
    "start_time": "2022-02-02T09:06:34.338Z"
   },
   {
    "duration": 504,
    "start_time": "2022-02-02T09:06:45.329Z"
   },
   {
    "duration": 30601,
    "start_time": "2022-02-02T09:07:26.191Z"
   },
   {
    "duration": 19342,
    "start_time": "2022-02-02T09:09:47.974Z"
   },
   {
    "duration": 155,
    "start_time": "2022-02-02T09:13:36.358Z"
   },
   {
    "duration": 441,
    "start_time": "2022-02-02T09:13:45.304Z"
   },
   {
    "duration": 306,
    "start_time": "2022-02-02T09:14:00.373Z"
   },
   {
    "duration": 12280,
    "start_time": "2022-02-02T09:14:22.933Z"
   },
   {
    "duration": 15125,
    "start_time": "2022-02-02T09:14:41.809Z"
   },
   {
    "duration": 15385,
    "start_time": "2022-02-02T09:14:59.042Z"
   },
   {
    "duration": 5582,
    "start_time": "2022-02-02T09:16:13.251Z"
   },
   {
    "duration": 16780,
    "start_time": "2022-02-02T09:16:23.251Z"
   },
   {
    "duration": 24864,
    "start_time": "2022-02-02T09:16:58.632Z"
   },
   {
    "duration": 8351,
    "start_time": "2022-02-02T09:18:33.610Z"
   },
   {
    "duration": 6182,
    "start_time": "2022-02-02T09:19:16.575Z"
   },
   {
    "duration": 24963,
    "start_time": "2022-02-02T09:19:57.208Z"
   },
   {
    "duration": 18253,
    "start_time": "2022-02-02T09:53:52.879Z"
   },
   {
    "duration": 250,
    "start_time": "2022-02-02T09:54:20.836Z"
   },
   {
    "duration": 6136,
    "start_time": "2022-02-02T09:54:45.983Z"
   },
   {
    "duration": 17353,
    "start_time": "2022-02-02T09:55:12.549Z"
   },
   {
    "duration": 18684,
    "start_time": "2022-02-02T09:56:52.701Z"
   },
   {
    "duration": 28853,
    "start_time": "2022-02-02T09:57:15.704Z"
   },
   {
    "duration": 5522,
    "start_time": "2022-02-02T09:59:31.436Z"
   },
   {
    "duration": 6042,
    "start_time": "2022-02-02T10:00:45.837Z"
   },
   {
    "duration": 21072,
    "start_time": "2022-02-02T10:01:45.091Z"
   },
   {
    "duration": 17762,
    "start_time": "2022-02-02T10:02:07.829Z"
   },
   {
    "duration": 20057,
    "start_time": "2022-02-02T10:02:29.796Z"
   },
   {
    "duration": 17889,
    "start_time": "2022-02-02T10:03:14.271Z"
   },
   {
    "duration": 5447,
    "start_time": "2022-02-02T10:04:21.227Z"
   },
   {
    "duration": 5371,
    "start_time": "2022-02-02T10:04:42.760Z"
   },
   {
    "duration": 17513,
    "start_time": "2022-02-02T10:04:55.989Z"
   },
   {
    "duration": 1348,
    "start_time": "2022-02-02T10:07:36.473Z"
   },
   {
    "duration": 5356,
    "start_time": "2022-02-02T10:08:00.290Z"
   },
   {
    "duration": 6049,
    "start_time": "2022-02-02T10:08:44.354Z"
   },
   {
    "duration": 17337,
    "start_time": "2022-02-02T10:08:59.412Z"
   },
   {
    "duration": 26770,
    "start_time": "2022-02-02T10:10:18.442Z"
   },
   {
    "duration": 23098,
    "start_time": "2022-02-02T10:12:26.707Z"
   },
   {
    "duration": 5369,
    "start_time": "2022-02-02T10:13:59.638Z"
   },
   {
    "duration": 18153,
    "start_time": "2022-02-02T10:14:12.504Z"
   },
   {
    "duration": 19098,
    "start_time": "2022-02-02T10:15:23.272Z"
   },
   {
    "duration": 18651,
    "start_time": "2022-02-02T10:16:15.649Z"
   },
   {
    "duration": 23781,
    "start_time": "2022-02-02T10:17:32.582Z"
   },
   {
    "duration": 5949,
    "start_time": "2022-02-02T10:18:25.994Z"
   },
   {
    "duration": 27432,
    "start_time": "2022-02-02T10:19:05.222Z"
   },
   {
    "duration": 23870,
    "start_time": "2022-02-02T10:21:00.089Z"
   },
   {
    "duration": 17692,
    "start_time": "2022-02-02T10:22:12.805Z"
   },
   {
    "duration": 18121,
    "start_time": "2022-02-02T10:24:12.713Z"
   },
   {
    "duration": 20944,
    "start_time": "2022-02-02T10:25:10.173Z"
   },
   {
    "duration": 21845,
    "start_time": "2022-02-02T10:25:38.718Z"
   },
   {
    "duration": 22712,
    "start_time": "2022-02-02T10:28:20.725Z"
   },
   {
    "duration": 19529,
    "start_time": "2022-02-02T10:29:05.534Z"
   },
   {
    "duration": 6593,
    "start_time": "2022-02-02T10:29:27.346Z"
   },
   {
    "duration": 6157,
    "start_time": "2022-02-02T10:30:06.829Z"
   },
   {
    "duration": 6095,
    "start_time": "2022-02-02T10:31:54.082Z"
   },
   {
    "duration": 5691,
    "start_time": "2022-02-02T10:32:13.121Z"
   },
   {
    "duration": 5966,
    "start_time": "2022-02-02T10:32:41.717Z"
   },
   {
    "duration": 1364,
    "start_time": "2022-02-02T10:33:17.265Z"
   },
   {
    "duration": 5741,
    "start_time": "2022-02-02T10:33:40.314Z"
   },
   {
    "duration": 22284,
    "start_time": "2022-02-02T10:33:53.337Z"
   },
   {
    "duration": 406,
    "start_time": "2022-02-02T10:36:57.100Z"
   },
   {
    "duration": 6755,
    "start_time": "2022-02-02T10:37:23.148Z"
   },
   {
    "duration": 18837,
    "start_time": "2022-02-02T10:39:05.191Z"
   },
   {
    "duration": 18615,
    "start_time": "2022-02-02T10:39:43.992Z"
   },
   {
    "duration": 7884,
    "start_time": "2022-02-02T10:40:13.218Z"
   },
   {
    "duration": 18312,
    "start_time": "2022-02-02T10:42:43.560Z"
   },
   {
    "duration": 8338,
    "start_time": "2022-02-02T10:47:40.156Z"
   },
   {
    "duration": 19505,
    "start_time": "2022-02-02T10:48:02.262Z"
   },
   {
    "duration": 18820,
    "start_time": "2022-02-02T10:49:09.736Z"
   },
   {
    "duration": 18456,
    "start_time": "2022-02-02T10:49:34.288Z"
   },
   {
    "duration": 18280,
    "start_time": "2022-02-02T10:50:54.258Z"
   },
   {
    "duration": 18225,
    "start_time": "2022-02-02T10:51:43.447Z"
   },
   {
    "duration": 18417,
    "start_time": "2022-02-02T10:52:30.408Z"
   },
   {
    "duration": 18435,
    "start_time": "2022-02-02T10:54:17.410Z"
   },
   {
    "duration": 8,
    "start_time": "2022-02-02T11:00:28.560Z"
   },
   {
    "duration": 534,
    "start_time": "2022-02-02T11:00:41.985Z"
   },
   {
    "duration": 7,
    "start_time": "2022-02-02T11:01:05.135Z"
   },
   {
    "duration": 6,
    "start_time": "2022-02-02T11:01:06.791Z"
   },
   {
    "duration": 513,
    "start_time": "2022-02-02T11:01:08.887Z"
   },
   {
    "duration": 9,
    "start_time": "2022-02-02T11:01:15.918Z"
   },
   {
    "duration": 638,
    "start_time": "2022-02-02T11:01:17.077Z"
   },
   {
    "duration": 7,
    "start_time": "2022-02-02T11:01:46.685Z"
   },
   {
    "duration": 558,
    "start_time": "2022-02-02T11:01:48.644Z"
   },
   {
    "duration": 6,
    "start_time": "2022-02-02T11:01:55.170Z"
   },
   {
    "duration": 481,
    "start_time": "2022-02-02T11:01:56.672Z"
   },
   {
    "duration": 6,
    "start_time": "2022-02-02T11:02:15.864Z"
   },
   {
    "duration": 485,
    "start_time": "2022-02-02T11:02:17.324Z"
   },
   {
    "duration": 6,
    "start_time": "2022-02-02T11:02:29.249Z"
   },
   {
    "duration": 498,
    "start_time": "2022-02-02T11:02:30.972Z"
   },
   {
    "duration": 7,
    "start_time": "2022-02-02T11:03:04.864Z"
   },
   {
    "duration": 553,
    "start_time": "2022-02-02T11:03:06.433Z"
   },
   {
    "duration": 7,
    "start_time": "2022-02-02T11:03:17.319Z"
   },
   {
    "duration": 7,
    "start_time": "2022-02-02T11:03:26.601Z"
   },
   {
    "duration": 548,
    "start_time": "2022-02-02T11:03:27.870Z"
   },
   {
    "duration": 7,
    "start_time": "2022-02-02T11:08:43.925Z"
   },
   {
    "duration": 14,
    "start_time": "2022-02-02T11:09:05.497Z"
   },
   {
    "duration": 22,
    "start_time": "2022-02-02T11:09:14.502Z"
   },
   {
    "duration": 13,
    "start_time": "2022-02-02T11:09:38.524Z"
   },
   {
    "duration": 18,
    "start_time": "2022-02-02T11:09:51.730Z"
   },
   {
    "duration": 17,
    "start_time": "2022-02-02T11:10:06.994Z"
   },
   {
    "duration": 183,
    "start_time": "2022-02-02T11:10:30.424Z"
   },
   {
    "duration": 16,
    "start_time": "2022-02-02T11:10:34.564Z"
   },
   {
    "duration": 30,
    "start_time": "2022-02-02T11:10:51.033Z"
   },
   {
    "duration": 26,
    "start_time": "2022-02-02T11:10:58.580Z"
   },
   {
    "duration": 7,
    "start_time": "2022-02-02T11:16:39.169Z"
   },
   {
    "duration": 7,
    "start_time": "2022-02-02T11:16:45.198Z"
   },
   {
    "duration": 18191,
    "start_time": "2022-02-02T11:18:57.914Z"
   },
   {
    "duration": 17880,
    "start_time": "2022-02-02T11:19:22.038Z"
   },
   {
    "duration": 20992,
    "start_time": "2022-02-02T11:20:08.724Z"
   },
   {
    "duration": 17279,
    "start_time": "2022-02-02T11:24:44.132Z"
   },
   {
    "duration": 1606,
    "start_time": "2022-02-02T15:50:31.502Z"
   },
   {
    "duration": 454,
    "start_time": "2022-02-02T15:50:33.111Z"
   },
   {
    "duration": 8,
    "start_time": "2022-02-02T15:50:33.568Z"
   },
   {
    "duration": 545,
    "start_time": "2022-02-02T15:50:33.579Z"
   },
   {
    "duration": 37,
    "start_time": "2022-02-02T15:50:34.127Z"
   },
   {
    "duration": 9,
    "start_time": "2022-02-02T15:50:34.167Z"
   },
   {
    "duration": 6,
    "start_time": "2022-02-02T15:50:34.178Z"
   },
   {
    "duration": 88,
    "start_time": "2022-02-02T15:50:34.188Z"
   },
   {
    "duration": 6,
    "start_time": "2022-02-02T15:50:34.279Z"
   },
   {
    "duration": 71,
    "start_time": "2022-02-02T15:50:34.288Z"
   },
   {
    "duration": 24,
    "start_time": "2022-02-02T15:50:34.361Z"
   },
   {
    "duration": 5,
    "start_time": "2022-02-02T15:50:34.388Z"
   },
   {
    "duration": 155,
    "start_time": "2022-02-02T15:50:34.396Z"
   },
   {
    "duration": 6,
    "start_time": "2022-02-02T15:50:34.554Z"
   },
   {
    "duration": 20,
    "start_time": "2022-02-02T15:50:34.650Z"
   },
   {
    "duration": 7,
    "start_time": "2022-02-02T15:50:34.672Z"
   },
   {
    "duration": 67,
    "start_time": "2022-02-02T15:50:34.682Z"
   },
   {
    "duration": 18640,
    "start_time": "2022-02-02T15:50:34.751Z"
   },
   {
    "duration": 1467,
    "start_time": "2022-02-02T15:53:23.884Z"
   },
   {
    "duration": 451,
    "start_time": "2022-02-02T15:53:25.355Z"
   },
   {
    "duration": 7,
    "start_time": "2022-02-02T15:53:25.808Z"
   },
   {
    "duration": 501,
    "start_time": "2022-02-02T15:53:25.817Z"
   },
   {
    "duration": 31,
    "start_time": "2022-02-02T15:53:26.321Z"
   },
   {
    "duration": 10,
    "start_time": "2022-02-02T15:53:26.354Z"
   },
   {
    "duration": 7,
    "start_time": "2022-02-02T15:53:26.366Z"
   },
   {
    "duration": 72,
    "start_time": "2022-02-02T15:53:26.376Z"
   },
   {
    "duration": 6,
    "start_time": "2022-02-02T15:53:26.451Z"
   },
   {
    "duration": 57,
    "start_time": "2022-02-02T15:53:26.460Z"
   },
   {
    "duration": 41,
    "start_time": "2022-02-02T15:53:26.520Z"
   },
   {
    "duration": 4,
    "start_time": "2022-02-02T15:53:26.563Z"
   },
   {
    "duration": 187,
    "start_time": "2022-02-02T15:53:26.569Z"
   },
   {
    "duration": 93,
    "start_time": "2022-02-02T15:53:26.759Z"
   },
   {
    "duration": 109,
    "start_time": "2022-02-02T15:53:26.856Z"
   },
   {
    "duration": 6,
    "start_time": "2022-02-02T15:53:26.967Z"
   },
   {
    "duration": 7,
    "start_time": "2022-02-02T15:53:26.976Z"
   },
   {
    "duration": 17486,
    "start_time": "2022-02-02T15:53:26.985Z"
   },
   {
    "duration": 17038,
    "start_time": "2022-02-02T15:56:49.829Z"
   },
   {
    "duration": 17256,
    "start_time": "2022-02-02T15:57:14.647Z"
   },
   {
    "duration": 17480,
    "start_time": "2022-02-02T16:13:03.637Z"
   },
   {
    "duration": 18298,
    "start_time": "2022-02-02T16:13:49.685Z"
   },
   {
    "duration": 6,
    "start_time": "2022-02-02T16:18:55.086Z"
   },
   {
    "duration": 5,
    "start_time": "2022-02-02T16:19:11.056Z"
   },
   {
    "duration": 1467,
    "start_time": "2022-02-02T16:32:28.366Z"
   },
   {
    "duration": 449,
    "start_time": "2022-02-02T16:32:29.836Z"
   },
   {
    "duration": 6,
    "start_time": "2022-02-02T16:32:30.288Z"
   },
   {
    "duration": 533,
    "start_time": "2022-02-02T16:32:30.297Z"
   },
   {
    "duration": 14,
    "start_time": "2022-02-02T16:32:30.850Z"
   },
   {
    "duration": 27,
    "start_time": "2022-02-02T16:32:30.867Z"
   },
   {
    "duration": 27,
    "start_time": "2022-02-02T16:32:30.896Z"
   },
   {
    "duration": 78,
    "start_time": "2022-02-02T16:32:30.928Z"
   },
   {
    "duration": 6,
    "start_time": "2022-02-02T16:32:31.010Z"
   },
   {
    "duration": 94,
    "start_time": "2022-02-02T16:32:31.019Z"
   },
   {
    "duration": 25,
    "start_time": "2022-02-02T16:32:31.115Z"
   },
   {
    "duration": 15,
    "start_time": "2022-02-02T16:32:31.142Z"
   },
   {
    "duration": 93,
    "start_time": "2022-02-02T16:32:31.160Z"
   },
   {
    "duration": 99,
    "start_time": "2022-02-02T16:32:31.257Z"
   },
   {
    "duration": 109,
    "start_time": "2022-02-02T16:32:31.359Z"
   },
   {
    "duration": 26,
    "start_time": "2022-02-02T16:32:31.471Z"
   },
   {
    "duration": 19,
    "start_time": "2022-02-02T16:32:31.499Z"
   },
   {
    "duration": 18168,
    "start_time": "2022-02-02T16:32:31.520Z"
   },
   {
    "duration": 1517,
    "start_time": "2022-02-03T08:32:10.531Z"
   },
   {
    "duration": 448,
    "start_time": "2022-02-03T08:32:12.051Z"
   },
   {
    "duration": 6,
    "start_time": "2022-02-03T08:32:12.502Z"
   },
   {
    "duration": 503,
    "start_time": "2022-02-03T08:32:12.511Z"
   },
   {
    "duration": 32,
    "start_time": "2022-02-03T08:32:13.016Z"
   },
   {
    "duration": 12,
    "start_time": "2022-02-03T08:32:13.051Z"
   },
   {
    "duration": 7,
    "start_time": "2022-02-03T08:32:13.065Z"
   },
   {
    "duration": 51,
    "start_time": "2022-02-03T08:32:13.075Z"
   },
   {
    "duration": 23,
    "start_time": "2022-02-03T08:32:13.129Z"
   },
   {
    "duration": 49,
    "start_time": "2022-02-03T08:32:13.155Z"
   },
   {
    "duration": 50,
    "start_time": "2022-02-03T08:32:13.206Z"
   },
   {
    "duration": 5,
    "start_time": "2022-02-03T08:32:13.258Z"
   },
   {
    "duration": 185,
    "start_time": "2022-02-03T08:32:13.265Z"
   },
   {
    "duration": 93,
    "start_time": "2022-02-03T08:32:13.454Z"
   },
   {
    "duration": 101,
    "start_time": "2022-02-03T08:32:13.551Z"
   },
   {
    "duration": 6,
    "start_time": "2022-02-03T08:32:13.654Z"
   },
   {
    "duration": 12,
    "start_time": "2022-02-03T08:32:13.663Z"
   },
   {
    "duration": 429,
    "start_time": "2022-02-03T08:32:13.677Z"
   },
   {
    "duration": 589,
    "start_time": "2022-02-03T08:32:38.807Z"
   },
   {
    "duration": 4,
    "start_time": "2022-02-03T08:33:14.928Z"
   },
   {
    "duration": 17316,
    "start_time": "2022-02-03T08:33:16.365Z"
   },
   {
    "duration": 16811,
    "start_time": "2022-02-03T08:33:43.609Z"
   },
   {
    "duration": 17008,
    "start_time": "2022-02-03T08:34:01.323Z"
   },
   {
    "duration": 17481,
    "start_time": "2022-02-03T08:34:38.119Z"
   },
   {
    "duration": 390,
    "start_time": "2022-02-04T18:31:40.446Z"
   },
   {
    "duration": 1472,
    "start_time": "2022-02-04T18:31:48.287Z"
   },
   {
    "duration": 455,
    "start_time": "2022-02-04T18:31:49.762Z"
   },
   {
    "duration": 6,
    "start_time": "2022-02-04T18:31:50.221Z"
   },
   {
    "duration": 528,
    "start_time": "2022-02-04T18:31:50.230Z"
   },
   {
    "duration": 16,
    "start_time": "2022-02-04T18:31:50.760Z"
   },
   {
    "duration": 8,
    "start_time": "2022-02-04T18:31:50.778Z"
   },
   {
    "duration": 7,
    "start_time": "2022-02-04T18:31:50.788Z"
   },
   {
    "duration": 75,
    "start_time": "2022-02-04T18:31:50.799Z"
   },
   {
    "duration": 6,
    "start_time": "2022-02-04T18:31:50.876Z"
   },
   {
    "duration": 67,
    "start_time": "2022-02-04T18:31:50.884Z"
   },
   {
    "duration": 25,
    "start_time": "2022-02-04T18:31:50.953Z"
   },
   {
    "duration": 4,
    "start_time": "2022-02-04T18:31:50.980Z"
   },
   {
    "duration": 164,
    "start_time": "2022-02-04T18:31:50.987Z"
   },
   {
    "duration": 95,
    "start_time": "2022-02-04T18:31:51.155Z"
   },
   {
    "duration": 102,
    "start_time": "2022-02-04T18:31:51.254Z"
   },
   {
    "duration": 13,
    "start_time": "2022-02-04T18:31:51.359Z"
   },
   {
    "duration": 6,
    "start_time": "2022-02-04T18:31:51.375Z"
   },
   {
    "duration": 8,
    "start_time": "2022-02-04T18:31:51.383Z"
   },
   {
    "duration": 16736,
    "start_time": "2022-02-04T18:31:51.393Z"
   },
   {
    "duration": 11,
    "start_time": "2022-02-04T18:34:16.083Z"
   },
   {
    "duration": 12,
    "start_time": "2022-02-04T18:34:35.151Z"
   },
   {
    "duration": 11,
    "start_time": "2022-02-04T18:34:47.996Z"
   },
   {
    "duration": 12,
    "start_time": "2022-02-04T18:34:51.711Z"
   },
   {
    "duration": 13,
    "start_time": "2022-02-04T18:34:55.755Z"
   },
   {
    "duration": 13,
    "start_time": "2022-02-04T18:35:01.183Z"
   }
  ],
  "colab": {
   "name": "Проект_7_Выбор_региона_для_разработки_новых_нефтяных_месторождений.ipynb",
   "provenance": []
  },
  "kernelspec": {
   "display_name": "Python 3 (ipykernel)",
   "language": "python",
   "name": "python3"
  },
  "language_info": {
   "codemirror_mode": {
    "name": "ipython",
    "version": 3
   },
   "file_extension": ".py",
   "mimetype": "text/x-python",
   "name": "python",
   "nbconvert_exporter": "python",
   "pygments_lexer": "ipython3",
   "version": "3.9.12"
  },
  "toc": {
   "base_numbering": 1,
   "nav_menu": {},
   "number_sections": true,
   "sideBar": true,
   "skip_h1_title": true,
   "title_cell": "Содержание",
   "title_sidebar": "Содержание",
   "toc_cell": true,
   "toc_position": {
    "height": "calc(100% - 180px)",
    "left": "10px",
    "top": "150px",
    "width": "366.391px"
   },
   "toc_section_display": true,
   "toc_window_display": true
  }
 },
 "nbformat": 4,
 "nbformat_minor": 1
}
