{
 "cells": [
  {
   "cell_type": "markdown",
   "metadata": {
    "id": "cthPeF8T7nht"
   },
   "source": [
    "# Отток клиентов"
   ]
  },
  {
   "cell_type": "markdown",
   "metadata": {
    "id": "m-4Kftis7nht"
   },
   "source": [
    "Из «Бета-Банка» стали уходить клиенты. Каждый месяц. Немного, но заметно. Банковские маркетологи посчитали: сохранять текущих клиентов дешевле, чем привлекать новых.\n",
    "\n",
    "Нужно спрогнозировать, уйдёт клиент из банка в ближайшее время или нет. Вам предоставлены исторические данные о поведении клиентов и расторжении договоров с банком. \n",
    "\n",
    "Постройте модель с предельно большим значением *F1*-меры. Чтобы сдать проект успешно, нужно довести метрику до 0.59. Проверьте *F1*-меру на тестовой выборке самостоятельно.\n",
    "\n",
    "Дополнительно измеряйте *AUC-ROC*, сравнивайте её значение с *F1*-мерой.\n",
    "\n",
    "Источник данных: [https://www.kaggle.com/barelydedicated/bank-customer-churn-modeling](https://www.kaggle.com/barelydedicated/bank-customer-churn-modeling)"
   ]
  },
  {
   "cell_type": "markdown",
   "metadata": {
    "id": "vbPX0N217nhu"
   },
   "source": [
    "Признаки\n",
    "* RowNumber — индекс строки в данных\n",
    "* CustomerId — уникальный идентификатор клиента\n",
    "* Surname — фамилия\n",
    "* CreditScore — кредитный рейтинг\n",
    "* Geography — страна проживания\n",
    "* Gender — пол\n",
    "* Age — возраст\n",
    "* Tenure — сколько лет человек является клиентом банка\n",
    "* Balance — баланс на счёте\n",
    "* NumOfProducts — количество продуктов банка, используемых клиентом\n",
    "* HasCrCard — наличие кредитной карты\n",
    "* IsActiveMember — активность клиента\n",
    "* EstimatedSalary — предполагаемая зарплата\n",
    "Целевой признак\n",
    "* Exited — факт ухода клиента"
   ]
  },
  {
   "cell_type": "markdown",
   "metadata": {
    "id": "5DZstHFi7nhy"
   },
   "source": [
    "## Подготовка данных"
   ]
  },
  {
   "cell_type": "markdown",
   "metadata": {
    "id": "GczXaAfc7nhy"
   },
   "source": [
    "### Изучение данных"
   ]
  },
  {
   "cell_type": "code",
   "execution_count": null,
   "metadata": {
    "id": "WI7G2rcE7nhz"
   },
   "outputs": [],
   "source": [
    "import pandas as pd\n",
    "import numpy as np\n",
    "import matplotlib.pyplot as plt\n",
    "from sklearn.tree import DecisionTreeClassifier\n",
    "from sklearn.linear_model import LogisticRegression\n",
    "from sklearn.ensemble import RandomForestClassifier\n",
    "from sklearn.model_selection import train_test_split\n",
    "from sklearn.preprocessing import StandardScaler, OrdinalEncoder\n",
    "from sklearn.metrics import f1_score, roc_curve, roc_auc_score, precision_score, recall_score\n",
    "from sklearn.utils import shuffle\n",
    "from tqdm import tqdm\n",
    "import warnings\n",
    "warnings.filterwarnings('ignore')"
   ]
  },
  {
   "cell_type": "code",
   "execution_count": null,
   "metadata": {
    "id": "EPZgVTEM7nh0"
   },
   "outputs": [],
   "source": [
    "df = pd.read_csv('/datasets/Churn.csv')"
   ]
  },
  {
   "cell_type": "code",
   "execution_count": null,
   "metadata": {
    "id": "pxaSL5em7nh0",
    "outputId": "1e5492a7-9258-4820-a7ba-5f24abe24252"
   },
   "outputs": [
    {
     "data": {
      "text/html": [
       "<div>\n",
       "<style scoped>\n",
       "    .dataframe tbody tr th:only-of-type {\n",
       "        vertical-align: middle;\n",
       "    }\n",
       "\n",
       "    .dataframe tbody tr th {\n",
       "        vertical-align: top;\n",
       "    }\n",
       "\n",
       "    .dataframe thead th {\n",
       "        text-align: right;\n",
       "    }\n",
       "</style>\n",
       "<table border=\"1\" class=\"dataframe\">\n",
       "  <thead>\n",
       "    <tr style=\"text-align: right;\">\n",
       "      <th></th>\n",
       "      <th>RowNumber</th>\n",
       "      <th>CustomerId</th>\n",
       "      <th>Surname</th>\n",
       "      <th>CreditScore</th>\n",
       "      <th>Geography</th>\n",
       "      <th>Gender</th>\n",
       "      <th>Age</th>\n",
       "      <th>Tenure</th>\n",
       "      <th>Balance</th>\n",
       "      <th>NumOfProducts</th>\n",
       "      <th>HasCrCard</th>\n",
       "      <th>IsActiveMember</th>\n",
       "      <th>EstimatedSalary</th>\n",
       "      <th>Exited</th>\n",
       "    </tr>\n",
       "  </thead>\n",
       "  <tbody>\n",
       "    <tr>\n",
       "      <td>0</td>\n",
       "      <td>1</td>\n",
       "      <td>15634602</td>\n",
       "      <td>Hargrave</td>\n",
       "      <td>619</td>\n",
       "      <td>France</td>\n",
       "      <td>Female</td>\n",
       "      <td>42</td>\n",
       "      <td>2.0</td>\n",
       "      <td>0.00</td>\n",
       "      <td>1</td>\n",
       "      <td>1</td>\n",
       "      <td>1</td>\n",
       "      <td>101348.88</td>\n",
       "      <td>1</td>\n",
       "    </tr>\n",
       "    <tr>\n",
       "      <td>1</td>\n",
       "      <td>2</td>\n",
       "      <td>15647311</td>\n",
       "      <td>Hill</td>\n",
       "      <td>608</td>\n",
       "      <td>Spain</td>\n",
       "      <td>Female</td>\n",
       "      <td>41</td>\n",
       "      <td>1.0</td>\n",
       "      <td>83807.86</td>\n",
       "      <td>1</td>\n",
       "      <td>0</td>\n",
       "      <td>1</td>\n",
       "      <td>112542.58</td>\n",
       "      <td>0</td>\n",
       "    </tr>\n",
       "    <tr>\n",
       "      <td>2</td>\n",
       "      <td>3</td>\n",
       "      <td>15619304</td>\n",
       "      <td>Onio</td>\n",
       "      <td>502</td>\n",
       "      <td>France</td>\n",
       "      <td>Female</td>\n",
       "      <td>42</td>\n",
       "      <td>8.0</td>\n",
       "      <td>159660.80</td>\n",
       "      <td>3</td>\n",
       "      <td>1</td>\n",
       "      <td>0</td>\n",
       "      <td>113931.57</td>\n",
       "      <td>1</td>\n",
       "    </tr>\n",
       "    <tr>\n",
       "      <td>3</td>\n",
       "      <td>4</td>\n",
       "      <td>15701354</td>\n",
       "      <td>Boni</td>\n",
       "      <td>699</td>\n",
       "      <td>France</td>\n",
       "      <td>Female</td>\n",
       "      <td>39</td>\n",
       "      <td>1.0</td>\n",
       "      <td>0.00</td>\n",
       "      <td>2</td>\n",
       "      <td>0</td>\n",
       "      <td>0</td>\n",
       "      <td>93826.63</td>\n",
       "      <td>0</td>\n",
       "    </tr>\n",
       "    <tr>\n",
       "      <td>4</td>\n",
       "      <td>5</td>\n",
       "      <td>15737888</td>\n",
       "      <td>Mitchell</td>\n",
       "      <td>850</td>\n",
       "      <td>Spain</td>\n",
       "      <td>Female</td>\n",
       "      <td>43</td>\n",
       "      <td>2.0</td>\n",
       "      <td>125510.82</td>\n",
       "      <td>1</td>\n",
       "      <td>1</td>\n",
       "      <td>1</td>\n",
       "      <td>79084.10</td>\n",
       "      <td>0</td>\n",
       "    </tr>\n",
       "    <tr>\n",
       "      <td>5</td>\n",
       "      <td>6</td>\n",
       "      <td>15574012</td>\n",
       "      <td>Chu</td>\n",
       "      <td>645</td>\n",
       "      <td>Spain</td>\n",
       "      <td>Male</td>\n",
       "      <td>44</td>\n",
       "      <td>8.0</td>\n",
       "      <td>113755.78</td>\n",
       "      <td>2</td>\n",
       "      <td>1</td>\n",
       "      <td>0</td>\n",
       "      <td>149756.71</td>\n",
       "      <td>1</td>\n",
       "    </tr>\n",
       "    <tr>\n",
       "      <td>6</td>\n",
       "      <td>7</td>\n",
       "      <td>15592531</td>\n",
       "      <td>Bartlett</td>\n",
       "      <td>822</td>\n",
       "      <td>France</td>\n",
       "      <td>Male</td>\n",
       "      <td>50</td>\n",
       "      <td>7.0</td>\n",
       "      <td>0.00</td>\n",
       "      <td>2</td>\n",
       "      <td>1</td>\n",
       "      <td>1</td>\n",
       "      <td>10062.80</td>\n",
       "      <td>0</td>\n",
       "    </tr>\n",
       "    <tr>\n",
       "      <td>7</td>\n",
       "      <td>8</td>\n",
       "      <td>15656148</td>\n",
       "      <td>Obinna</td>\n",
       "      <td>376</td>\n",
       "      <td>Germany</td>\n",
       "      <td>Female</td>\n",
       "      <td>29</td>\n",
       "      <td>4.0</td>\n",
       "      <td>115046.74</td>\n",
       "      <td>4</td>\n",
       "      <td>1</td>\n",
       "      <td>0</td>\n",
       "      <td>119346.88</td>\n",
       "      <td>1</td>\n",
       "    </tr>\n",
       "    <tr>\n",
       "      <td>8</td>\n",
       "      <td>9</td>\n",
       "      <td>15792365</td>\n",
       "      <td>He</td>\n",
       "      <td>501</td>\n",
       "      <td>France</td>\n",
       "      <td>Male</td>\n",
       "      <td>44</td>\n",
       "      <td>4.0</td>\n",
       "      <td>142051.07</td>\n",
       "      <td>2</td>\n",
       "      <td>0</td>\n",
       "      <td>1</td>\n",
       "      <td>74940.50</td>\n",
       "      <td>0</td>\n",
       "    </tr>\n",
       "    <tr>\n",
       "      <td>9</td>\n",
       "      <td>10</td>\n",
       "      <td>15592389</td>\n",
       "      <td>H?</td>\n",
       "      <td>684</td>\n",
       "      <td>France</td>\n",
       "      <td>Male</td>\n",
       "      <td>27</td>\n",
       "      <td>2.0</td>\n",
       "      <td>134603.88</td>\n",
       "      <td>1</td>\n",
       "      <td>1</td>\n",
       "      <td>1</td>\n",
       "      <td>71725.73</td>\n",
       "      <td>0</td>\n",
       "    </tr>\n",
       "    <tr>\n",
       "      <td>10</td>\n",
       "      <td>11</td>\n",
       "      <td>15767821</td>\n",
       "      <td>Bearce</td>\n",
       "      <td>528</td>\n",
       "      <td>France</td>\n",
       "      <td>Male</td>\n",
       "      <td>31</td>\n",
       "      <td>6.0</td>\n",
       "      <td>102016.72</td>\n",
       "      <td>2</td>\n",
       "      <td>0</td>\n",
       "      <td>0</td>\n",
       "      <td>80181.12</td>\n",
       "      <td>0</td>\n",
       "    </tr>\n",
       "    <tr>\n",
       "      <td>11</td>\n",
       "      <td>12</td>\n",
       "      <td>15737173</td>\n",
       "      <td>Andrews</td>\n",
       "      <td>497</td>\n",
       "      <td>Spain</td>\n",
       "      <td>Male</td>\n",
       "      <td>24</td>\n",
       "      <td>3.0</td>\n",
       "      <td>0.00</td>\n",
       "      <td>2</td>\n",
       "      <td>1</td>\n",
       "      <td>0</td>\n",
       "      <td>76390.01</td>\n",
       "      <td>0</td>\n",
       "    </tr>\n",
       "    <tr>\n",
       "      <td>12</td>\n",
       "      <td>13</td>\n",
       "      <td>15632264</td>\n",
       "      <td>Kay</td>\n",
       "      <td>476</td>\n",
       "      <td>France</td>\n",
       "      <td>Female</td>\n",
       "      <td>34</td>\n",
       "      <td>10.0</td>\n",
       "      <td>0.00</td>\n",
       "      <td>2</td>\n",
       "      <td>1</td>\n",
       "      <td>0</td>\n",
       "      <td>26260.98</td>\n",
       "      <td>0</td>\n",
       "    </tr>\n",
       "    <tr>\n",
       "      <td>13</td>\n",
       "      <td>14</td>\n",
       "      <td>15691483</td>\n",
       "      <td>Chin</td>\n",
       "      <td>549</td>\n",
       "      <td>France</td>\n",
       "      <td>Female</td>\n",
       "      <td>25</td>\n",
       "      <td>5.0</td>\n",
       "      <td>0.00</td>\n",
       "      <td>2</td>\n",
       "      <td>0</td>\n",
       "      <td>0</td>\n",
       "      <td>190857.79</td>\n",
       "      <td>0</td>\n",
       "    </tr>\n",
       "    <tr>\n",
       "      <td>14</td>\n",
       "      <td>15</td>\n",
       "      <td>15600882</td>\n",
       "      <td>Scott</td>\n",
       "      <td>635</td>\n",
       "      <td>Spain</td>\n",
       "      <td>Female</td>\n",
       "      <td>35</td>\n",
       "      <td>7.0</td>\n",
       "      <td>0.00</td>\n",
       "      <td>2</td>\n",
       "      <td>1</td>\n",
       "      <td>1</td>\n",
       "      <td>65951.65</td>\n",
       "      <td>0</td>\n",
       "    </tr>\n",
       "  </tbody>\n",
       "</table>\n",
       "</div>"
      ],
      "text/plain": [
       "    RowNumber  CustomerId   Surname  CreditScore Geography  Gender  Age  \\\n",
       "0           1    15634602  Hargrave          619    France  Female   42   \n",
       "1           2    15647311      Hill          608     Spain  Female   41   \n",
       "2           3    15619304      Onio          502    France  Female   42   \n",
       "3           4    15701354      Boni          699    France  Female   39   \n",
       "4           5    15737888  Mitchell          850     Spain  Female   43   \n",
       "5           6    15574012       Chu          645     Spain    Male   44   \n",
       "6           7    15592531  Bartlett          822    France    Male   50   \n",
       "7           8    15656148    Obinna          376   Germany  Female   29   \n",
       "8           9    15792365        He          501    France    Male   44   \n",
       "9          10    15592389        H?          684    France    Male   27   \n",
       "10         11    15767821    Bearce          528    France    Male   31   \n",
       "11         12    15737173   Andrews          497     Spain    Male   24   \n",
       "12         13    15632264       Kay          476    France  Female   34   \n",
       "13         14    15691483      Chin          549    France  Female   25   \n",
       "14         15    15600882     Scott          635     Spain  Female   35   \n",
       "\n",
       "    Tenure    Balance  NumOfProducts  HasCrCard  IsActiveMember  \\\n",
       "0      2.0       0.00              1          1               1   \n",
       "1      1.0   83807.86              1          0               1   \n",
       "2      8.0  159660.80              3          1               0   \n",
       "3      1.0       0.00              2          0               0   \n",
       "4      2.0  125510.82              1          1               1   \n",
       "5      8.0  113755.78              2          1               0   \n",
       "6      7.0       0.00              2          1               1   \n",
       "7      4.0  115046.74              4          1               0   \n",
       "8      4.0  142051.07              2          0               1   \n",
       "9      2.0  134603.88              1          1               1   \n",
       "10     6.0  102016.72              2          0               0   \n",
       "11     3.0       0.00              2          1               0   \n",
       "12    10.0       0.00              2          1               0   \n",
       "13     5.0       0.00              2          0               0   \n",
       "14     7.0       0.00              2          1               1   \n",
       "\n",
       "    EstimatedSalary  Exited  \n",
       "0         101348.88       1  \n",
       "1         112542.58       0  \n",
       "2         113931.57       1  \n",
       "3          93826.63       0  \n",
       "4          79084.10       0  \n",
       "5         149756.71       1  \n",
       "6          10062.80       0  \n",
       "7         119346.88       1  \n",
       "8          74940.50       0  \n",
       "9          71725.73       0  \n",
       "10         80181.12       0  \n",
       "11         76390.01       0  \n",
       "12         26260.98       0  \n",
       "13        190857.79       0  \n",
       "14         65951.65       0  "
      ]
     },
     "execution_count": 3,
     "metadata": {},
     "output_type": "execute_result"
    }
   ],
   "source": [
    "df.head(15)"
   ]
  },
  {
   "cell_type": "code",
   "execution_count": null,
   "metadata": {
    "id": "9fIrxd-g7nh1",
    "outputId": "1c2e940c-16f0-4fba-c018-58038e9e6197"
   },
   "outputs": [
    {
     "data": {
      "text/html": [
       "<div>\n",
       "<style scoped>\n",
       "    .dataframe tbody tr th:only-of-type {\n",
       "        vertical-align: middle;\n",
       "    }\n",
       "\n",
       "    .dataframe tbody tr th {\n",
       "        vertical-align: top;\n",
       "    }\n",
       "\n",
       "    .dataframe thead th {\n",
       "        text-align: right;\n",
       "    }\n",
       "</style>\n",
       "<table border=\"1\" class=\"dataframe\">\n",
       "  <thead>\n",
       "    <tr style=\"text-align: right;\">\n",
       "      <th></th>\n",
       "      <th>count</th>\n",
       "      <th>mean</th>\n",
       "      <th>std</th>\n",
       "      <th>min</th>\n",
       "      <th>25%</th>\n",
       "      <th>50%</th>\n",
       "      <th>75%</th>\n",
       "      <th>max</th>\n",
       "    </tr>\n",
       "  </thead>\n",
       "  <tbody>\n",
       "    <tr>\n",
       "      <td>RowNumber</td>\n",
       "      <td>10000.0</td>\n",
       "      <td>5.000500e+03</td>\n",
       "      <td>2886.895680</td>\n",
       "      <td>1.00</td>\n",
       "      <td>2500.75</td>\n",
       "      <td>5.000500e+03</td>\n",
       "      <td>7.500250e+03</td>\n",
       "      <td>10000.00</td>\n",
       "    </tr>\n",
       "    <tr>\n",
       "      <td>CustomerId</td>\n",
       "      <td>10000.0</td>\n",
       "      <td>1.569094e+07</td>\n",
       "      <td>71936.186123</td>\n",
       "      <td>15565701.00</td>\n",
       "      <td>15628528.25</td>\n",
       "      <td>1.569074e+07</td>\n",
       "      <td>1.575323e+07</td>\n",
       "      <td>15815690.00</td>\n",
       "    </tr>\n",
       "    <tr>\n",
       "      <td>CreditScore</td>\n",
       "      <td>10000.0</td>\n",
       "      <td>6.505288e+02</td>\n",
       "      <td>96.653299</td>\n",
       "      <td>350.00</td>\n",
       "      <td>584.00</td>\n",
       "      <td>6.520000e+02</td>\n",
       "      <td>7.180000e+02</td>\n",
       "      <td>850.00</td>\n",
       "    </tr>\n",
       "    <tr>\n",
       "      <td>Age</td>\n",
       "      <td>10000.0</td>\n",
       "      <td>3.892180e+01</td>\n",
       "      <td>10.487806</td>\n",
       "      <td>18.00</td>\n",
       "      <td>32.00</td>\n",
       "      <td>3.700000e+01</td>\n",
       "      <td>4.400000e+01</td>\n",
       "      <td>92.00</td>\n",
       "    </tr>\n",
       "    <tr>\n",
       "      <td>Tenure</td>\n",
       "      <td>9091.0</td>\n",
       "      <td>4.997690e+00</td>\n",
       "      <td>2.894723</td>\n",
       "      <td>0.00</td>\n",
       "      <td>2.00</td>\n",
       "      <td>5.000000e+00</td>\n",
       "      <td>7.000000e+00</td>\n",
       "      <td>10.00</td>\n",
       "    </tr>\n",
       "    <tr>\n",
       "      <td>Balance</td>\n",
       "      <td>10000.0</td>\n",
       "      <td>7.648589e+04</td>\n",
       "      <td>62397.405202</td>\n",
       "      <td>0.00</td>\n",
       "      <td>0.00</td>\n",
       "      <td>9.719854e+04</td>\n",
       "      <td>1.276442e+05</td>\n",
       "      <td>250898.09</td>\n",
       "    </tr>\n",
       "    <tr>\n",
       "      <td>NumOfProducts</td>\n",
       "      <td>10000.0</td>\n",
       "      <td>1.530200e+00</td>\n",
       "      <td>0.581654</td>\n",
       "      <td>1.00</td>\n",
       "      <td>1.00</td>\n",
       "      <td>1.000000e+00</td>\n",
       "      <td>2.000000e+00</td>\n",
       "      <td>4.00</td>\n",
       "    </tr>\n",
       "    <tr>\n",
       "      <td>HasCrCard</td>\n",
       "      <td>10000.0</td>\n",
       "      <td>7.055000e-01</td>\n",
       "      <td>0.455840</td>\n",
       "      <td>0.00</td>\n",
       "      <td>0.00</td>\n",
       "      <td>1.000000e+00</td>\n",
       "      <td>1.000000e+00</td>\n",
       "      <td>1.00</td>\n",
       "    </tr>\n",
       "    <tr>\n",
       "      <td>IsActiveMember</td>\n",
       "      <td>10000.0</td>\n",
       "      <td>5.151000e-01</td>\n",
       "      <td>0.499797</td>\n",
       "      <td>0.00</td>\n",
       "      <td>0.00</td>\n",
       "      <td>1.000000e+00</td>\n",
       "      <td>1.000000e+00</td>\n",
       "      <td>1.00</td>\n",
       "    </tr>\n",
       "    <tr>\n",
       "      <td>EstimatedSalary</td>\n",
       "      <td>10000.0</td>\n",
       "      <td>1.000902e+05</td>\n",
       "      <td>57510.492818</td>\n",
       "      <td>11.58</td>\n",
       "      <td>51002.11</td>\n",
       "      <td>1.001939e+05</td>\n",
       "      <td>1.493882e+05</td>\n",
       "      <td>199992.48</td>\n",
       "    </tr>\n",
       "    <tr>\n",
       "      <td>Exited</td>\n",
       "      <td>10000.0</td>\n",
       "      <td>2.037000e-01</td>\n",
       "      <td>0.402769</td>\n",
       "      <td>0.00</td>\n",
       "      <td>0.00</td>\n",
       "      <td>0.000000e+00</td>\n",
       "      <td>0.000000e+00</td>\n",
       "      <td>1.00</td>\n",
       "    </tr>\n",
       "  </tbody>\n",
       "</table>\n",
       "</div>"
      ],
      "text/plain": [
       "                   count          mean           std          min  \\\n",
       "RowNumber        10000.0  5.000500e+03   2886.895680         1.00   \n",
       "CustomerId       10000.0  1.569094e+07  71936.186123  15565701.00   \n",
       "CreditScore      10000.0  6.505288e+02     96.653299       350.00   \n",
       "Age              10000.0  3.892180e+01     10.487806        18.00   \n",
       "Tenure            9091.0  4.997690e+00      2.894723         0.00   \n",
       "Balance          10000.0  7.648589e+04  62397.405202         0.00   \n",
       "NumOfProducts    10000.0  1.530200e+00      0.581654         1.00   \n",
       "HasCrCard        10000.0  7.055000e-01      0.455840         0.00   \n",
       "IsActiveMember   10000.0  5.151000e-01      0.499797         0.00   \n",
       "EstimatedSalary  10000.0  1.000902e+05  57510.492818        11.58   \n",
       "Exited           10000.0  2.037000e-01      0.402769         0.00   \n",
       "\n",
       "                         25%           50%           75%          max  \n",
       "RowNumber            2500.75  5.000500e+03  7.500250e+03     10000.00  \n",
       "CustomerId       15628528.25  1.569074e+07  1.575323e+07  15815690.00  \n",
       "CreditScore           584.00  6.520000e+02  7.180000e+02       850.00  \n",
       "Age                    32.00  3.700000e+01  4.400000e+01        92.00  \n",
       "Tenure                  2.00  5.000000e+00  7.000000e+00        10.00  \n",
       "Balance                 0.00  9.719854e+04  1.276442e+05    250898.09  \n",
       "NumOfProducts           1.00  1.000000e+00  2.000000e+00         4.00  \n",
       "HasCrCard               0.00  1.000000e+00  1.000000e+00         1.00  \n",
       "IsActiveMember          0.00  1.000000e+00  1.000000e+00         1.00  \n",
       "EstimatedSalary     51002.11  1.001939e+05  1.493882e+05    199992.48  \n",
       "Exited                  0.00  0.000000e+00  0.000000e+00         1.00  "
      ]
     },
     "execution_count": 4,
     "metadata": {},
     "output_type": "execute_result"
    }
   ],
   "source": [
    "df.describe().T"
   ]
  },
  {
   "cell_type": "code",
   "execution_count": null,
   "metadata": {
    "id": "_M8HCubX7nh1",
    "outputId": "ef4dfcd4-aee6-476d-d62d-c2009e2ef3b9"
   },
   "outputs": [
    {
     "name": "stdout",
     "output_type": "stream",
     "text": [
      "<class 'pandas.core.frame.DataFrame'>\n",
      "RangeIndex: 10000 entries, 0 to 9999\n",
      "Data columns (total 14 columns):\n",
      "RowNumber          10000 non-null int64\n",
      "CustomerId         10000 non-null int64\n",
      "Surname            10000 non-null object\n",
      "CreditScore        10000 non-null int64\n",
      "Geography          10000 non-null object\n",
      "Gender             10000 non-null object\n",
      "Age                10000 non-null int64\n",
      "Tenure             9091 non-null float64\n",
      "Balance            10000 non-null float64\n",
      "NumOfProducts      10000 non-null int64\n",
      "HasCrCard          10000 non-null int64\n",
      "IsActiveMember     10000 non-null int64\n",
      "EstimatedSalary    10000 non-null float64\n",
      "Exited             10000 non-null int64\n",
      "dtypes: float64(3), int64(8), object(3)\n",
      "memory usage: 1.1+ MB\n"
     ]
    }
   ],
   "source": [
    "df.info()"
   ]
  },
  {
   "cell_type": "code",
   "execution_count": null,
   "metadata": {
    "id": "SJo8NFx47nh1",
    "outputId": "34ac2371-6b75-4860-d289-f82e7bc5b447"
   },
   "outputs": [
    {
     "data": {
      "text/plain": [
       "Tenure             0.0909\n",
       "Exited             0.0000\n",
       "EstimatedSalary    0.0000\n",
       "IsActiveMember     0.0000\n",
       "HasCrCard          0.0000\n",
       "NumOfProducts      0.0000\n",
       "Balance            0.0000\n",
       "Age                0.0000\n",
       "Gender             0.0000\n",
       "Geography          0.0000\n",
       "CreditScore        0.0000\n",
       "Surname            0.0000\n",
       "CustomerId         0.0000\n",
       "RowNumber          0.0000\n",
       "dtype: float64"
      ]
     },
     "execution_count": 6,
     "metadata": {},
     "output_type": "execute_result"
    }
   ],
   "source": [
    "df.isna().mean().sort_values(ascending = False)"
   ]
  },
  {
   "cell_type": "markdown",
   "metadata": {
    "id": "tsOnyhXx7nh2"
   },
   "source": [
    "#### Вывод:"
   ]
  },
  {
   "cell_type": "markdown",
   "metadata": {
    "id": "OifJvtG87nh2"
   },
   "source": [
    "В выводе отражены предложения по дальнейшей работе со столбцами таблицы:\n",
    "\n",
    "* Следует изменить названия столбцов (привести к snake case)\n",
    "* Следует изучить подробнее столбец ***tenure*** и обработать пропуски в нем\n",
    "* Следует удалить ненужные для обучения модели признаки"
   ]
  },
  {
   "cell_type": "markdown",
   "metadata": {
    "id": "288XQgd37nh2"
   },
   "source": [
    "### Предобработка данных"
   ]
  },
  {
   "cell_type": "markdown",
   "metadata": {
    "id": "VdHySkTM7nh3"
   },
   "source": [
    "Преобразуем названия столбцов:"
   ]
  },
  {
   "cell_type": "code",
   "execution_count": null,
   "metadata": {
    "id": "hE7nz1eK7nh3",
    "outputId": "a6ef5745-7ab1-449e-ba80-d365cb5bafbb"
   },
   "outputs": [
    {
     "data": {
      "text/plain": [
       "Index(['RowNumber', 'CustomerId', 'Surname', 'CreditScore', 'Geography',\n",
       "       'Gender', 'Age', 'Tenure', 'Balance', 'NumOfProducts', 'HasCrCard',\n",
       "       'IsActiveMember', 'EstimatedSalary', 'Exited'],\n",
       "      dtype='object')"
      ]
     },
     "execution_count": 7,
     "metadata": {},
     "output_type": "execute_result"
    }
   ],
   "source": [
    "df.columns"
   ]
  },
  {
   "cell_type": "code",
   "execution_count": null,
   "metadata": {
    "id": "EpEsh_0r7nh3"
   },
   "outputs": [],
   "source": [
    "df = df.rename(str.lower, axis='columns')"
   ]
  },
  {
   "cell_type": "code",
   "execution_count": null,
   "metadata": {
    "id": "XJtZBsB17nh3"
   },
   "outputs": [],
   "source": [
    "df = df.rename(columns={'rownumber': 'row_number', 'customerid': 'customer_id', \n",
    "                           'creditscore': 'credit_score', 'numofproducts': 'num_of_products', \n",
    "                           'hascrcard': 'has_cr_card', 'isactivemember': 'is_active_member', \n",
    "                           'estimatedsalary': 'estimated_salary'})"
   ]
  },
  {
   "cell_type": "code",
   "execution_count": null,
   "metadata": {
    "id": "InhG4p6x7nh4",
    "outputId": "d86d201a-0c56-4760-9b2f-418130697b15"
   },
   "outputs": [
    {
     "data": {
      "text/plain": [
       "Index(['row_number', 'customer_id', 'surname', 'credit_score', 'geography',\n",
       "       'gender', 'age', 'tenure', 'balance', 'num_of_products', 'has_cr_card',\n",
       "       'is_active_member', 'estimated_salary', 'exited'],\n",
       "      dtype='object')"
      ]
     },
     "execution_count": 10,
     "metadata": {},
     "output_type": "execute_result"
    }
   ],
   "source": [
    "df.columns"
   ]
  },
  {
   "cell_type": "markdown",
   "metadata": {
    "id": "aJceQtYr7nh4"
   },
   "source": [
    "Заполним пропущенные данные в столбце ***tenure***:"
   ]
  },
  {
   "cell_type": "code",
   "execution_count": null,
   "metadata": {
    "id": "2PxtoKKS7nh4",
    "outputId": "21c25594-1fbe-4955-d005-e231f51dc1c8"
   },
   "outputs": [
    {
     "data": {
      "text/plain": [
       "0.0909"
      ]
     },
     "execution_count": 11,
     "metadata": {},
     "output_type": "execute_result"
    }
   ],
   "source": [
    "df['tenure'].isna().mean()"
   ]
  },
  {
   "cell_type": "code",
   "execution_count": null,
   "metadata": {
    "id": "aKlQuJIk7nh4",
    "outputId": "4ce190c4-66db-4110-bfb8-f5221b20dda3"
   },
   "outputs": [
    {
     "data": {
      "text/plain": [
       "1.0     952\n",
       "2.0     950\n",
       "8.0     933\n",
       "3.0     928\n",
       "5.0     927\n",
       "7.0     925\n",
       "4.0     885\n",
       "9.0     882\n",
       "6.0     881\n",
       "10.0    446\n",
       "0.0     382\n",
       "Name: tenure, dtype: int64"
      ]
     },
     "execution_count": 12,
     "metadata": {},
     "output_type": "execute_result"
    }
   ],
   "source": [
    "df['tenure'].value_counts()"
   ]
  },
  {
   "cell_type": "markdown",
   "metadata": {
    "id": "TF8Si8Av7nh5"
   },
   "source": [
    "Скорее всего если значение пропущено, то человек первый год является клиентом банка и пропуск следует заполнить нулем."
   ]
  },
  {
   "cell_type": "code",
   "execution_count": null,
   "metadata": {
    "id": "aAYeLiG77nh5"
   },
   "outputs": [],
   "source": [
    "df['tenure'] = df['tenure'].fillna(0)"
   ]
  },
  {
   "cell_type": "code",
   "execution_count": null,
   "metadata": {
    "id": "hf41ok0_7nh5",
    "outputId": "38596075-0fb9-4065-b1df-ea6b69443ce6"
   },
   "outputs": [
    {
     "data": {
      "text/plain": [
       "0.0"
      ]
     },
     "execution_count": 14,
     "metadata": {},
     "output_type": "execute_result"
    }
   ],
   "source": [
    "df['tenure'].isna().mean()"
   ]
  },
  {
   "cell_type": "markdown",
   "metadata": {
    "id": "-R6ZWej_7nh6"
   },
   "source": [
    "Удалим столбцы, которые не нужны для обучения модели."
   ]
  },
  {
   "cell_type": "code",
   "execution_count": null,
   "metadata": {
    "id": "cnuYuxOt7nh6"
   },
   "outputs": [],
   "source": [
    "df = df.drop(['row_number','customer_id','surname'], axis=1)"
   ]
  },
  {
   "cell_type": "code",
   "execution_count": null,
   "metadata": {
    "id": "idqACqfw7nh6",
    "outputId": "3602c8d5-70fe-48ab-8eea-8d718ccdee55"
   },
   "outputs": [
    {
     "data": {
      "text/html": [
       "<div>\n",
       "<style scoped>\n",
       "    .dataframe tbody tr th:only-of-type {\n",
       "        vertical-align: middle;\n",
       "    }\n",
       "\n",
       "    .dataframe tbody tr th {\n",
       "        vertical-align: top;\n",
       "    }\n",
       "\n",
       "    .dataframe thead th {\n",
       "        text-align: right;\n",
       "    }\n",
       "</style>\n",
       "<table border=\"1\" class=\"dataframe\">\n",
       "  <thead>\n",
       "    <tr style=\"text-align: right;\">\n",
       "      <th></th>\n",
       "      <th>credit_score</th>\n",
       "      <th>geography</th>\n",
       "      <th>gender</th>\n",
       "      <th>age</th>\n",
       "      <th>tenure</th>\n",
       "      <th>balance</th>\n",
       "      <th>num_of_products</th>\n",
       "      <th>has_cr_card</th>\n",
       "      <th>is_active_member</th>\n",
       "      <th>estimated_salary</th>\n",
       "      <th>exited</th>\n",
       "    </tr>\n",
       "  </thead>\n",
       "  <tbody>\n",
       "    <tr>\n",
       "      <td>0</td>\n",
       "      <td>619</td>\n",
       "      <td>France</td>\n",
       "      <td>Female</td>\n",
       "      <td>42</td>\n",
       "      <td>2.0</td>\n",
       "      <td>0.00</td>\n",
       "      <td>1</td>\n",
       "      <td>1</td>\n",
       "      <td>1</td>\n",
       "      <td>101348.88</td>\n",
       "      <td>1</td>\n",
       "    </tr>\n",
       "    <tr>\n",
       "      <td>1</td>\n",
       "      <td>608</td>\n",
       "      <td>Spain</td>\n",
       "      <td>Female</td>\n",
       "      <td>41</td>\n",
       "      <td>1.0</td>\n",
       "      <td>83807.86</td>\n",
       "      <td>1</td>\n",
       "      <td>0</td>\n",
       "      <td>1</td>\n",
       "      <td>112542.58</td>\n",
       "      <td>0</td>\n",
       "    </tr>\n",
       "    <tr>\n",
       "      <td>2</td>\n",
       "      <td>502</td>\n",
       "      <td>France</td>\n",
       "      <td>Female</td>\n",
       "      <td>42</td>\n",
       "      <td>8.0</td>\n",
       "      <td>159660.80</td>\n",
       "      <td>3</td>\n",
       "      <td>1</td>\n",
       "      <td>0</td>\n",
       "      <td>113931.57</td>\n",
       "      <td>1</td>\n",
       "    </tr>\n",
       "    <tr>\n",
       "      <td>3</td>\n",
       "      <td>699</td>\n",
       "      <td>France</td>\n",
       "      <td>Female</td>\n",
       "      <td>39</td>\n",
       "      <td>1.0</td>\n",
       "      <td>0.00</td>\n",
       "      <td>2</td>\n",
       "      <td>0</td>\n",
       "      <td>0</td>\n",
       "      <td>93826.63</td>\n",
       "      <td>0</td>\n",
       "    </tr>\n",
       "    <tr>\n",
       "      <td>4</td>\n",
       "      <td>850</td>\n",
       "      <td>Spain</td>\n",
       "      <td>Female</td>\n",
       "      <td>43</td>\n",
       "      <td>2.0</td>\n",
       "      <td>125510.82</td>\n",
       "      <td>1</td>\n",
       "      <td>1</td>\n",
       "      <td>1</td>\n",
       "      <td>79084.10</td>\n",
       "      <td>0</td>\n",
       "    </tr>\n",
       "    <tr>\n",
       "      <td>...</td>\n",
       "      <td>...</td>\n",
       "      <td>...</td>\n",
       "      <td>...</td>\n",
       "      <td>...</td>\n",
       "      <td>...</td>\n",
       "      <td>...</td>\n",
       "      <td>...</td>\n",
       "      <td>...</td>\n",
       "      <td>...</td>\n",
       "      <td>...</td>\n",
       "      <td>...</td>\n",
       "    </tr>\n",
       "    <tr>\n",
       "      <td>9995</td>\n",
       "      <td>771</td>\n",
       "      <td>France</td>\n",
       "      <td>Male</td>\n",
       "      <td>39</td>\n",
       "      <td>5.0</td>\n",
       "      <td>0.00</td>\n",
       "      <td>2</td>\n",
       "      <td>1</td>\n",
       "      <td>0</td>\n",
       "      <td>96270.64</td>\n",
       "      <td>0</td>\n",
       "    </tr>\n",
       "    <tr>\n",
       "      <td>9996</td>\n",
       "      <td>516</td>\n",
       "      <td>France</td>\n",
       "      <td>Male</td>\n",
       "      <td>35</td>\n",
       "      <td>10.0</td>\n",
       "      <td>57369.61</td>\n",
       "      <td>1</td>\n",
       "      <td>1</td>\n",
       "      <td>1</td>\n",
       "      <td>101699.77</td>\n",
       "      <td>0</td>\n",
       "    </tr>\n",
       "    <tr>\n",
       "      <td>9997</td>\n",
       "      <td>709</td>\n",
       "      <td>France</td>\n",
       "      <td>Female</td>\n",
       "      <td>36</td>\n",
       "      <td>7.0</td>\n",
       "      <td>0.00</td>\n",
       "      <td>1</td>\n",
       "      <td>0</td>\n",
       "      <td>1</td>\n",
       "      <td>42085.58</td>\n",
       "      <td>1</td>\n",
       "    </tr>\n",
       "    <tr>\n",
       "      <td>9998</td>\n",
       "      <td>772</td>\n",
       "      <td>Germany</td>\n",
       "      <td>Male</td>\n",
       "      <td>42</td>\n",
       "      <td>3.0</td>\n",
       "      <td>75075.31</td>\n",
       "      <td>2</td>\n",
       "      <td>1</td>\n",
       "      <td>0</td>\n",
       "      <td>92888.52</td>\n",
       "      <td>1</td>\n",
       "    </tr>\n",
       "    <tr>\n",
       "      <td>9999</td>\n",
       "      <td>792</td>\n",
       "      <td>France</td>\n",
       "      <td>Female</td>\n",
       "      <td>28</td>\n",
       "      <td>0.0</td>\n",
       "      <td>130142.79</td>\n",
       "      <td>1</td>\n",
       "      <td>1</td>\n",
       "      <td>0</td>\n",
       "      <td>38190.78</td>\n",
       "      <td>0</td>\n",
       "    </tr>\n",
       "  </tbody>\n",
       "</table>\n",
       "<p>10000 rows × 11 columns</p>\n",
       "</div>"
      ],
      "text/plain": [
       "      credit_score geography  gender  age  tenure    balance  num_of_products  \\\n",
       "0              619    France  Female   42     2.0       0.00                1   \n",
       "1              608     Spain  Female   41     1.0   83807.86                1   \n",
       "2              502    France  Female   42     8.0  159660.80                3   \n",
       "3              699    France  Female   39     1.0       0.00                2   \n",
       "4              850     Spain  Female   43     2.0  125510.82                1   \n",
       "...            ...       ...     ...  ...     ...        ...              ...   \n",
       "9995           771    France    Male   39     5.0       0.00                2   \n",
       "9996           516    France    Male   35    10.0   57369.61                1   \n",
       "9997           709    France  Female   36     7.0       0.00                1   \n",
       "9998           772   Germany    Male   42     3.0   75075.31                2   \n",
       "9999           792    France  Female   28     0.0  130142.79                1   \n",
       "\n",
       "      has_cr_card  is_active_member  estimated_salary  exited  \n",
       "0               1                 1         101348.88       1  \n",
       "1               0                 1         112542.58       0  \n",
       "2               1                 0         113931.57       1  \n",
       "3               0                 0          93826.63       0  \n",
       "4               1                 1          79084.10       0  \n",
       "...           ...               ...               ...     ...  \n",
       "9995            1                 0          96270.64       0  \n",
       "9996            1                 1         101699.77       0  \n",
       "9997            0                 1          42085.58       1  \n",
       "9998            1                 0          92888.52       1  \n",
       "9999            1                 0          38190.78       0  \n",
       "\n",
       "[10000 rows x 11 columns]"
      ]
     },
     "execution_count": 16,
     "metadata": {},
     "output_type": "execute_result"
    }
   ],
   "source": [
    "df"
   ]
  },
  {
   "cell_type": "markdown",
   "metadata": {
    "id": "jIY7bAj37nh6"
   },
   "source": [
    "Преобразуем категориальные признаки в численные с помощью OHE с защитой от дамми-ловушки."
   ]
  },
  {
   "cell_type": "code",
   "execution_count": null,
   "metadata": {
    "id": "GNbkYRn47nh7"
   },
   "outputs": [],
   "source": [
    "df = pd.get_dummies(df, drop_first=True)"
   ]
  },
  {
   "cell_type": "markdown",
   "metadata": {
    "id": "Tqjq-ETj7nh7"
   },
   "source": [
    "Разобьем данные на выборки"
   ]
  },
  {
   "cell_type": "code",
   "execution_count": null,
   "metadata": {
    "id": "JKwADKGy7nh7"
   },
   "outputs": [],
   "source": [
    "target = df['exited']\n",
    "features = df.drop('exited', axis=1)"
   ]
  },
  {
   "cell_type": "code",
   "execution_count": null,
   "metadata": {
    "id": "7CNTub_r7nh7"
   },
   "outputs": [],
   "source": [
    "features_train, features_valid_and_test, target_train, target_valid_and_test = train_test_split(features, target, \n",
    "                                                                                                test_size=0.40, random_state=244466666)\n",
    "features_valid, features_test, target_valid, target_test = train_test_split(features_valid_and_test, target_valid_and_test, \n",
    "                                                                            test_size=0.5, random_state=244466666)"
   ]
  },
  {
   "cell_type": "code",
   "execution_count": null,
   "metadata": {
    "id": "9B2W2SWq7nh7",
    "outputId": "bbdae508-38ad-45de-aad3-546fb34a2b54"
   },
   "outputs": [
    {
     "name": "stdout",
     "output_type": "stream",
     "text": [
      "6000 2000 2000\n",
      "6000 2000 2000\n"
     ]
    }
   ],
   "source": [
    "print(features_train.shape[0], features_valid.shape[0], features_valid.shape[0]) \n",
    "print(target_train.shape[0], target_valid.shape[0], target_valid.shape[0])"
   ]
  },
  {
   "cell_type": "markdown",
   "metadata": {
    "id": "pEFJCywh7nh8"
   },
   "source": [
    "Стандартизируем признаки с помощью StandardScaler."
   ]
  },
  {
   "cell_type": "code",
   "execution_count": null,
   "metadata": {
    "id": "rk5iqLhC7nh8"
   },
   "outputs": [],
   "source": [
    "scaler = StandardScaler()\n",
    "numeric = ['credit_score', 'age', 'tenure', 'balance', 'num_of_products', 'estimated_salary']\n",
    "scaler.fit(features_train[numeric])\n",
    "features_train[numeric] = scaler.transform(features_train[numeric])\n",
    "scaler.fit(features_valid[numeric])\n",
    "features_valid[numeric] = scaler.transform(features_valid[numeric])\n",
    "scaler.fit(features_test[numeric])\n",
    "features_test[numeric] = scaler.transform(features_test[numeric])"
   ]
  },
  {
   "cell_type": "code",
   "execution_count": null,
   "metadata": {
    "id": "H9GMUNYA7nh8",
    "outputId": "ac94068d-31c7-4c09-b73a-6ee8a9d6ae20"
   },
   "outputs": [
    {
     "data": {
      "text/html": [
       "<div>\n",
       "<style scoped>\n",
       "    .dataframe tbody tr th:only-of-type {\n",
       "        vertical-align: middle;\n",
       "    }\n",
       "\n",
       "    .dataframe tbody tr th {\n",
       "        vertical-align: top;\n",
       "    }\n",
       "\n",
       "    .dataframe thead th {\n",
       "        text-align: right;\n",
       "    }\n",
       "</style>\n",
       "<table border=\"1\" class=\"dataframe\">\n",
       "  <thead>\n",
       "    <tr style=\"text-align: right;\">\n",
       "      <th></th>\n",
       "      <th>credit_score</th>\n",
       "      <th>age</th>\n",
       "      <th>tenure</th>\n",
       "      <th>balance</th>\n",
       "      <th>num_of_products</th>\n",
       "      <th>has_cr_card</th>\n",
       "      <th>is_active_member</th>\n",
       "      <th>estimated_salary</th>\n",
       "      <th>geography_Germany</th>\n",
       "      <th>geography_Spain</th>\n",
       "      <th>gender_Male</th>\n",
       "    </tr>\n",
       "  </thead>\n",
       "  <tbody>\n",
       "    <tr>\n",
       "      <td>5344</td>\n",
       "      <td>1.398615</td>\n",
       "      <td>-1.351495</td>\n",
       "      <td>0.144122</td>\n",
       "      <td>-1.235513</td>\n",
       "      <td>0.791901</td>\n",
       "      <td>1</td>\n",
       "      <td>0</td>\n",
       "      <td>-0.900281</td>\n",
       "      <td>0</td>\n",
       "      <td>0</td>\n",
       "      <td>1</td>\n",
       "    </tr>\n",
       "    <tr>\n",
       "      <td>356</td>\n",
       "      <td>2.043098</td>\n",
       "      <td>1.781839</td>\n",
       "      <td>1.094376</td>\n",
       "      <td>0.795611</td>\n",
       "      <td>0.791901</td>\n",
       "      <td>1</td>\n",
       "      <td>1</td>\n",
       "      <td>0.586177</td>\n",
       "      <td>0</td>\n",
       "      <td>1</td>\n",
       "      <td>0</td>\n",
       "    </tr>\n",
       "    <tr>\n",
       "      <td>4763</td>\n",
       "      <td>1.040569</td>\n",
       "      <td>-0.078578</td>\n",
       "      <td>-1.439634</td>\n",
       "      <td>1.103196</td>\n",
       "      <td>0.791901</td>\n",
       "      <td>1</td>\n",
       "      <td>1</td>\n",
       "      <td>0.680546</td>\n",
       "      <td>0</td>\n",
       "      <td>0</td>\n",
       "      <td>1</td>\n",
       "    </tr>\n",
       "    <tr>\n",
       "      <td>8563</td>\n",
       "      <td>-0.739432</td>\n",
       "      <td>0.606839</td>\n",
       "      <td>-1.122883</td>\n",
       "      <td>1.145270</td>\n",
       "      <td>-0.898389</td>\n",
       "      <td>1</td>\n",
       "      <td>0</td>\n",
       "      <td>0.780288</td>\n",
       "      <td>0</td>\n",
       "      <td>0</td>\n",
       "      <td>1</td>\n",
       "    </tr>\n",
       "    <tr>\n",
       "      <td>6339</td>\n",
       "      <td>-0.064259</td>\n",
       "      <td>-1.449412</td>\n",
       "      <td>1.094376</td>\n",
       "      <td>0.250633</td>\n",
       "      <td>-0.898389</td>\n",
       "      <td>1</td>\n",
       "      <td>0</td>\n",
       "      <td>-1.099858</td>\n",
       "      <td>0</td>\n",
       "      <td>0</td>\n",
       "      <td>0</td>\n",
       "    </tr>\n",
       "    <tr>\n",
       "      <td>...</td>\n",
       "      <td>...</td>\n",
       "      <td>...</td>\n",
       "      <td>...</td>\n",
       "      <td>...</td>\n",
       "      <td>...</td>\n",
       "      <td>...</td>\n",
       "      <td>...</td>\n",
       "      <td>...</td>\n",
       "      <td>...</td>\n",
       "      <td>...</td>\n",
       "      <td>...</td>\n",
       "    </tr>\n",
       "    <tr>\n",
       "      <td>1257</td>\n",
       "      <td>-0.227937</td>\n",
       "      <td>-0.078578</td>\n",
       "      <td>-0.489381</td>\n",
       "      <td>-1.235513</td>\n",
       "      <td>0.791901</td>\n",
       "      <td>1</td>\n",
       "      <td>1</td>\n",
       "      <td>-0.872003</td>\n",
       "      <td>0</td>\n",
       "      <td>0</td>\n",
       "      <td>0</td>\n",
       "    </tr>\n",
       "    <tr>\n",
       "      <td>1660</td>\n",
       "      <td>0.048270</td>\n",
       "      <td>-0.176495</td>\n",
       "      <td>0.777624</td>\n",
       "      <td>0.556517</td>\n",
       "      <td>0.791901</td>\n",
       "      <td>1</td>\n",
       "      <td>0</td>\n",
       "      <td>-1.543844</td>\n",
       "      <td>0</td>\n",
       "      <td>0</td>\n",
       "      <td>0</td>\n",
       "    </tr>\n",
       "    <tr>\n",
       "      <td>3686</td>\n",
       "      <td>0.569994</td>\n",
       "      <td>-2.036912</td>\n",
       "      <td>-0.806132</td>\n",
       "      <td>1.586474</td>\n",
       "      <td>0.791901</td>\n",
       "      <td>1</td>\n",
       "      <td>0</td>\n",
       "      <td>0.539929</td>\n",
       "      <td>0</td>\n",
       "      <td>0</td>\n",
       "      <td>1</td>\n",
       "    </tr>\n",
       "    <tr>\n",
       "      <td>9839</td>\n",
       "      <td>-1.701042</td>\n",
       "      <td>0.215172</td>\n",
       "      <td>0.144122</td>\n",
       "      <td>-1.235513</td>\n",
       "      <td>-0.898389</td>\n",
       "      <td>1</td>\n",
       "      <td>1</td>\n",
       "      <td>-0.428769</td>\n",
       "      <td>0</td>\n",
       "      <td>0</td>\n",
       "      <td>1</td>\n",
       "    </tr>\n",
       "    <tr>\n",
       "      <td>9666</td>\n",
       "      <td>1.101948</td>\n",
       "      <td>-0.372328</td>\n",
       "      <td>0.144122</td>\n",
       "      <td>-1.235513</td>\n",
       "      <td>0.791901</td>\n",
       "      <td>1</td>\n",
       "      <td>0</td>\n",
       "      <td>-0.065994</td>\n",
       "      <td>0</td>\n",
       "      <td>1</td>\n",
       "      <td>1</td>\n",
       "    </tr>\n",
       "  </tbody>\n",
       "</table>\n",
       "<p>2000 rows × 11 columns</p>\n",
       "</div>"
      ],
      "text/plain": [
       "      credit_score       age    tenure   balance  num_of_products  \\\n",
       "5344      1.398615 -1.351495  0.144122 -1.235513         0.791901   \n",
       "356       2.043098  1.781839  1.094376  0.795611         0.791901   \n",
       "4763      1.040569 -0.078578 -1.439634  1.103196         0.791901   \n",
       "8563     -0.739432  0.606839 -1.122883  1.145270        -0.898389   \n",
       "6339     -0.064259 -1.449412  1.094376  0.250633        -0.898389   \n",
       "...            ...       ...       ...       ...              ...   \n",
       "1257     -0.227937 -0.078578 -0.489381 -1.235513         0.791901   \n",
       "1660      0.048270 -0.176495  0.777624  0.556517         0.791901   \n",
       "3686      0.569994 -2.036912 -0.806132  1.586474         0.791901   \n",
       "9839     -1.701042  0.215172  0.144122 -1.235513        -0.898389   \n",
       "9666      1.101948 -0.372328  0.144122 -1.235513         0.791901   \n",
       "\n",
       "      has_cr_card  is_active_member  estimated_salary  geography_Germany  \\\n",
       "5344            1                 0         -0.900281                  0   \n",
       "356             1                 1          0.586177                  0   \n",
       "4763            1                 1          0.680546                  0   \n",
       "8563            1                 0          0.780288                  0   \n",
       "6339            1                 0         -1.099858                  0   \n",
       "...           ...               ...               ...                ...   \n",
       "1257            1                 1         -0.872003                  0   \n",
       "1660            1                 0         -1.543844                  0   \n",
       "3686            1                 0          0.539929                  0   \n",
       "9839            1                 1         -0.428769                  0   \n",
       "9666            1                 0         -0.065994                  0   \n",
       "\n",
       "      geography_Spain  gender_Male  \n",
       "5344                0            1  \n",
       "356                 1            0  \n",
       "4763                0            1  \n",
       "8563                0            1  \n",
       "6339                0            0  \n",
       "...               ...          ...  \n",
       "1257                0            0  \n",
       "1660                0            0  \n",
       "3686                0            1  \n",
       "9839                0            1  \n",
       "9666                1            1  \n",
       "\n",
       "[2000 rows x 11 columns]"
      ]
     },
     "execution_count": 22,
     "metadata": {},
     "output_type": "execute_result"
    }
   ],
   "source": [
    "features_test"
   ]
  },
  {
   "cell_type": "markdown",
   "metadata": {
    "id": "WPZ_F-wt7nh9"
   },
   "source": [
    "#### Вывод:\n",
    "\n",
    "В датафрейме были исправлены названия столбцов, заполнены пропуски в данных.  \n",
    "Также было проведено преобразование категориальных признаков в численные и стандартизация данных.  \n",
    "Данные были разбиты на 3 выборки: обучающую, валидационную и тестовую."
   ]
  },
  {
   "cell_type": "markdown",
   "metadata": {
    "id": "2uhHl1cr7nh9"
   },
   "source": [
    "## Исследование задачи (обучение моделей на разбалансированной выборке)"
   ]
  },
  {
   "cell_type": "markdown",
   "metadata": {
    "id": "eJ9oiPhx7nh9"
   },
   "source": [
    "### Исследование дисбаланса классов"
   ]
  },
  {
   "cell_type": "markdown",
   "metadata": {
    "id": "EIoH2ZMW7nh9"
   },
   "source": [
    "Посмотрим на дисбаланс классов:"
   ]
  },
  {
   "cell_type": "code",
   "execution_count": null,
   "metadata": {
    "id": "NIfbL1ox7nh9",
    "outputId": "1115a67a-d0b4-4907-8838-4e7188807a3b"
   },
   "outputs": [
    {
     "data": {
      "text/plain": [
       "0    7963\n",
       "1    2037\n",
       "Name: exited, dtype: int64"
      ]
     },
     "execution_count": 23,
     "metadata": {},
     "output_type": "execute_result"
    }
   ],
   "source": [
    "target.value_counts()"
   ]
  },
  {
   "cell_type": "markdown",
   "metadata": {
    "id": "XxTasgTB7nh-"
   },
   "source": [
    "Наблюдается сильный дисбаланс целевого признака, в 4 раза."
   ]
  },
  {
   "cell_type": "markdown",
   "metadata": {
    "id": "JQGeJUHM7nh-"
   },
   "source": [
    "### Рассмотрим для данной задачи 3 модели: дерево решений, случайный лес и логистическую регрессию "
   ]
  },
  {
   "cell_type": "markdown",
   "metadata": {
    "id": "YGi0cClm7nh-"
   },
   "source": [
    "Напишем функцию для заноса метрик каждой модели в отдельный датафрейм и наглядного сравнения в дальнейшем."
   ]
  },
  {
   "cell_type": "code",
   "execution_count": null,
   "metadata": {
    "id": "AHnuMyn-7nh-"
   },
   "outputs": [],
   "source": [
    "def scores_of_model(data, name, best_model):\n",
    "    predicted = best_model.predict(features_valid)\n",
    "    recall = recall_score(target_valid, predicted)\n",
    "    precision = precision_score(target_valid, predicted)\n",
    "    f1 = f1_score(target_valid, predicted)\n",
    "    probabilities_valid = best_model.predict_proba(features_valid)\n",
    "    probabilities_one_valid = probabilities_valid[:,1]\n",
    "    auc_roc = roc_auc_score(target_valid, probabilities_one_valid)\n",
    "    print('best F1:', round(f1, 5))\n",
    "    print('best AUC-ROC:', round(auc_roc, 5))\n",
    "    return data.append({'model_name' : name, 'recall': recall, 'precision': precision, 'f1': f1, 'auc_roc': auc_roc}, ignore_index=True) "
   ]
  },
  {
   "cell_type": "code",
   "execution_count": null,
   "metadata": {
    "id": "xYoo3jx87nh-"
   },
   "outputs": [],
   "source": [
    "scores_of_unbalanced_models = pd.DataFrame(columns=['model_name', 'auc_roc', 'f1', 'precision', 'recall'])"
   ]
  },
  {
   "cell_type": "markdown",
   "metadata": {
    "id": "3JZQzXRv7nh_"
   },
   "source": [
    "#### LogisticRegression"
   ]
  },
  {
   "cell_type": "code",
   "execution_count": null,
   "metadata": {
    "id": "kiadcKc-7nh_"
   },
   "outputs": [],
   "source": [
    "# %%time\n",
    "\n",
    "# best_c = 0\n",
    "# best_f1 = 0\n",
    "# best_max_iter = 0\n",
    "# best_logistic_regression_model = None\n",
    "\n",
    "# for c in tqdm(np.arange(0.001, 1, 0.1)):\n",
    "#     for max_iter in range(1,101):\n",
    "#         logistic_regression_model = LogisticRegression(random_state=244466666, C=c, solver='liblinear', max_iter=max_iter)\n",
    "#         logistic_regression_model.fit(features_train, target_train)\n",
    "#         predictions_valid = logistic_regression_model.predict(features_valid)\n",
    "#         f1 = f1_score(target_valid, predictions_valid)\n",
    "#         if f1 > best_f1:\n",
    "#             best_max_iter = max_iter\n",
    "#             best_c = c\n",
    "#             best_f1 = f1\n",
    "#             best_logistic_regression_model = logistic_regression_model\n",
    "\n",
    "# print(' Лучший C:', best_c, '\\n', 'Лучшее количество итераций:', best_max_iter, '\\n',)\n",
    "\n",
    "# scores_of_unbalanced_models = scores_of_model(scores_of_unbalanced_models, 'LogisticRegression', best_logistic_regression_model)"
   ]
  },
  {
   "cell_type": "markdown",
   "metadata": {
    "id": "_ZaI1Y_B7nh_"
   },
   "source": [
    "Лучший C: 0.30100000000000005   \n",
    " Лучшее количество итераций: 4   \n",
    "  \n",
    "best F1: 0.29181  \n",
    "best AUC-ROC: 0.75995  \n",
    "CPU times: user 1min 6s, sys: 1min 15s, total: 2min 21s  \n",
    "Wall time: 2min 21s"
   ]
  },
  {
   "cell_type": "code",
   "execution_count": null,
   "metadata": {
    "id": "5SJH7NHW7niE",
    "outputId": "f8ee5ad5-4fef-491d-db1b-c37dc81fe409"
   },
   "outputs": [
    {
     "name": "stdout",
     "output_type": "stream",
     "text": [
      "best F1: 0.29181\n",
      "best AUC-ROC: 0.75995\n",
      "CPU times: user 93.7 ms, sys: 67.5 ms, total: 161 ms\n",
      "Wall time: 160 ms\n"
     ]
    }
   ],
   "source": [
    "%%time\n",
    "\n",
    "logistic_regression_model = LogisticRegression(random_state=244466666, C=0.301, solver='liblinear', max_iter=4)\n",
    "logistic_regression_model.fit(features_train, target_train)\n",
    "\n",
    "scores_of_unbalanced_models = scores_of_model(scores_of_unbalanced_models, 'LogisticRegression', logistic_regression_model)"
   ]
  },
  {
   "cell_type": "markdown",
   "metadata": {
    "id": "9Kg5TPCa7niE"
   },
   "source": [
    "#### DecisionTreeClassifier"
   ]
  },
  {
   "cell_type": "code",
   "execution_count": null,
   "metadata": {
    "id": "ahvVhsZV7niE"
   },
   "outputs": [],
   "source": [
    "# %%time\n",
    "\n",
    "# best_depth = 0\n",
    "# best_criterion = None\n",
    "# best_features = 0\n",
    "# best_f1 = 0\n",
    "# best_decision_tree_model = None\n",
    "\n",
    "# for depth in tqdm(range(1,101)):\n",
    "#     for crit in ['gini', 'entropy']:\n",
    "#         for max_features in [None, 'sqrt', 'log2']:\n",
    "#             decision_tree_model = DecisionTreeClassifier(random_state=244466666, max_depth=depth, \n",
    "#                                                          criterion=crit, max_features=max_features)\n",
    "#             decision_tree_model.fit(features_train, target_train)\n",
    "#             predictions_valid = decision_tree_model.predict(features_valid)\n",
    "#             f1 = f1_score(target_valid, predictions_valid)\n",
    "#             if f1 > best_f1:\n",
    "#                 best_depth = depth\n",
    "#                 best_criterion = crit\n",
    "#                 best_features = max_features\n",
    "#                 best_f1 = f1\n",
    "#                 best_decision_tree_model = decision_tree_model\n",
    "        \n",
    "# print(' Лучшая глубина дерева:', best_depth, '\\n', 'Лучший критерий:',  best_criterion, '\\n',\n",
    "#       'Признак, по которому ищется лучшее разбиение:', best_features, '\\n') \n",
    "\n",
    "# scores_of_unbalanced_models = scores_of_model(scores_of_unbalanced_models, 'DecisionTreeClassifier', best_decision_tree_model)"
   ]
  },
  {
   "cell_type": "markdown",
   "metadata": {
    "id": "fJbXcU_g7niF"
   },
   "source": [
    "Лучшая глубина дерева: 5   \n",
    " Лучший критерий: entropy   \n",
    " Признак, по которому ищется лучшее разбиение: None   \n",
    "\n",
    "best F1: 0.58417  \n",
    "best AUC-ROC: 0.84803  \n",
    "CPU times: user 9.67 s, sys: 0 ns, total: 9.67 s  \n",
    "Wall time: 9.8 s  "
   ]
  },
  {
   "cell_type": "code",
   "execution_count": null,
   "metadata": {
    "id": "mFbGLQQi7niF",
    "outputId": "868f32f0-d692-430f-a45a-16925a539cd0"
   },
   "outputs": [
    {
     "name": "stdout",
     "output_type": "stream",
     "text": [
      "best F1: 0.58417\n",
      "best AUC-ROC: 0.84803\n",
      "CPU times: user 41.2 ms, sys: 0 ns, total: 41.2 ms\n",
      "Wall time: 38.7 ms\n"
     ]
    }
   ],
   "source": [
    "%%time\n",
    "\n",
    "decision_tree_model = DecisionTreeClassifier(random_state=244466666, max_depth=5, criterion='entropy', max_features=None)\n",
    "decision_tree_model.fit(features_train, target_train)\n",
    "        \n",
    "scores_of_unbalanced_models = scores_of_model(scores_of_unbalanced_models, 'DecisionTreeClassifier', decision_tree_model)"
   ]
  },
  {
   "cell_type": "markdown",
   "metadata": {
    "id": "HB1mVWGK7niF"
   },
   "source": [
    "#### RandomForestClassifier"
   ]
  },
  {
   "cell_type": "code",
   "execution_count": null,
   "metadata": {
    "id": "qECCViqX7niF"
   },
   "outputs": [],
   "source": [
    "# %%time\n",
    "\n",
    "# best_est = 0\n",
    "# best_criterion = None\n",
    "# best_features = 0\n",
    "# best_depth = 0\n",
    "# best_f1 = 0\n",
    "# best_random_forest_model = None\n",
    "\n",
    "# for est in tqdm(range(1, 1002, 100)):\n",
    "#     for crit in ['gini', 'entropy']:\n",
    "#         for max_features in [None, 'sqrt', 'log2']:\n",
    "#             for depth in range(1,51):\n",
    "#                 random_forest_model = RandomForestClassifier(random_state=244466666, n_estimators=est, criterion=crit,\n",
    "#                                                              max_features=max_features, max_depth=depth) \n",
    "#                 random_forest_model.fit(features_train, target_train)\n",
    "#                 predictions_valid = random_forest_model.predict(features_valid)\n",
    "#                 f1 = f1_score(target_valid, predictions_valid)\n",
    "#                 if f1 > best_f1:\n",
    "#                     best_est = est\n",
    "#                     best_criterion = crit\n",
    "#                     best_features = max_features\n",
    "#                     best_depth = depth\n",
    "#                     best_f1 = f1\n",
    "#                     best_random_forest_model = random_forest_model\n",
    "                    \n",
    "# print(' Лучшее кол-во деревьев в лесу:', best_est, '\\n', 'Лучший критерий:',  best_criterion, '\\n',\n",
    "#       'Признак, по которому ищется лучшее разбиение:', best_features, '\\n',\n",
    "#       'Лучшая глубина дерева:', best_depth, '\\n')\n",
    "\n",
    "# scores_of_unbalanced_models = scores_of_model(scores_of_unbalanced_models, 'RandomForestClassifier', best_random_forest_model)"
   ]
  },
  {
   "cell_type": "markdown",
   "metadata": {
    "id": "9L9AUON47niF"
   },
   "source": [
    "Лучшее кол-во деревьев в лесу: 701   \n",
    " Лучший критерий: entropy   \n",
    " Признак, по которому ищется лучшее разбиение: None   \n",
    " Лучшая глубина дерева: 18   \n",
    " \n",
    "best F1: 0.60857  \n",
    "best AUC-ROC: 0.84481  \n",
    "CPU times: user 4h 2min 15s, sys: 51.9 s, total: 4h 3min 7s  \n",
    "Wall time: 4h 4min 37s  "
   ]
  },
  {
   "cell_type": "code",
   "execution_count": null,
   "metadata": {
    "id": "MdAsnpoS7niG",
    "outputId": "f1237519-b1fd-4c31-bc34-99e32935c0f2"
   },
   "outputs": [
    {
     "name": "stdout",
     "output_type": "stream",
     "text": [
      "best F1: 0.60857\n",
      "best AUC-ROC: 0.84481\n",
      "CPU times: user 20.2 s, sys: 57.1 ms, total: 20.3 s\n",
      "Wall time: 20.5 s\n"
     ]
    }
   ],
   "source": [
    "%%time\n",
    "\n",
    "random_forest_model = RandomForestClassifier(random_state=244466666, n_estimators=701, criterion='entropy',\n",
    "                                                max_features=None, max_depth=18) \n",
    "random_forest_model.fit(features_train, target_train)\n",
    "\n",
    "scores_of_unbalanced_models = scores_of_model(scores_of_unbalanced_models, 'RandomForestClassifier', random_forest_model)"
   ]
  },
  {
   "cell_type": "markdown",
   "metadata": {
    "id": "ovei6RL_7niG"
   },
   "source": [
    "### Сравнение метрик до балансировки"
   ]
  },
  {
   "cell_type": "code",
   "execution_count": null,
   "metadata": {
    "id": "cW2kBzZa7niG",
    "outputId": "89e8f1ba-4276-434a-c37f-d13ce9f94875"
   },
   "outputs": [
    {
     "data": {
      "text/html": [
       "<div>\n",
       "<style scoped>\n",
       "    .dataframe tbody tr th:only-of-type {\n",
       "        vertical-align: middle;\n",
       "    }\n",
       "\n",
       "    .dataframe tbody tr th {\n",
       "        vertical-align: top;\n",
       "    }\n",
       "\n",
       "    .dataframe thead th {\n",
       "        text-align: right;\n",
       "    }\n",
       "</style>\n",
       "<table border=\"1\" class=\"dataframe\">\n",
       "  <thead>\n",
       "    <tr style=\"text-align: right;\">\n",
       "      <th></th>\n",
       "      <th>model_name</th>\n",
       "      <th>auc_roc</th>\n",
       "      <th>f1</th>\n",
       "      <th>precision</th>\n",
       "      <th>recall</th>\n",
       "    </tr>\n",
       "  </thead>\n",
       "  <tbody>\n",
       "    <tr>\n",
       "      <td>0</td>\n",
       "      <td>LogisticRegression</td>\n",
       "      <td>0.759953</td>\n",
       "      <td>0.291815</td>\n",
       "      <td>0.500000</td>\n",
       "      <td>0.206030</td>\n",
       "    </tr>\n",
       "    <tr>\n",
       "      <td>1</td>\n",
       "      <td>DecisionTreeClassifier</td>\n",
       "      <td>0.848032</td>\n",
       "      <td>0.584173</td>\n",
       "      <td>0.683502</td>\n",
       "      <td>0.510050</td>\n",
       "    </tr>\n",
       "    <tr>\n",
       "      <td>2</td>\n",
       "      <td>RandomForestClassifier</td>\n",
       "      <td>0.844814</td>\n",
       "      <td>0.608567</td>\n",
       "      <td>0.738351</td>\n",
       "      <td>0.517588</td>\n",
       "    </tr>\n",
       "  </tbody>\n",
       "</table>\n",
       "</div>"
      ],
      "text/plain": [
       "               model_name   auc_roc        f1  precision    recall\n",
       "0      LogisticRegression  0.759953  0.291815   0.500000  0.206030\n",
       "1  DecisionTreeClassifier  0.848032  0.584173   0.683502  0.510050\n",
       "2  RandomForestClassifier  0.844814  0.608567   0.738351  0.517588"
      ]
     },
     "execution_count": 32,
     "metadata": {},
     "output_type": "execute_result"
    }
   ],
   "source": [
    "scores_of_unbalanced_models"
   ]
  },
  {
   "cell_type": "code",
   "execution_count": null,
   "metadata": {
    "id": "TxViFjsj7niG",
    "outputId": "2aaa6b89-0ba0-4b8f-9c4f-30b094326ea0"
   },
   "outputs": [
    {
     "data": {
      "image/png": "[encoded data removed]",
      "text/plain": [
       "<Figure size 1080x648 with 1 Axes>"
      ]
     },
     "metadata": {
      "needs_background": "light"
     },
     "output_type": "display_data"
    }
   ],
   "source": [
    "scores_of_unbalanced_models.plot(x='model_name', kind='barh', figsize=(15,9), grid=True, title='Сравнение метрик несбалансированных моделей')\n",
    "plt.show()"
   ]
  },
  {
   "cell_type": "markdown",
   "metadata": {
    "id": "NtDfUhuf7niG"
   },
   "source": [
    "### Вывод:"
   ]
  },
  {
   "cell_type": "markdown",
   "metadata": {
    "id": "hFE_1SMb7niH"
   },
   "source": [
    "Были рассмотрены 3 модели: логистическая регрессия, дерево решений и случайный лес.  \n",
    "Сильнее всего от дисбаланса страдает модель логистической регресии (F1 = 0.291815)."
   ]
  },
  {
   "cell_type": "markdown",
   "metadata": {
    "id": "5MMNlcE97niH"
   },
   "source": [
    "## Борьба с дисбалансом"
   ]
  },
  {
   "cell_type": "markdown",
   "metadata": {
    "id": "5MPaoDoS7niH"
   },
   "source": [
    "Для борьбы с дисбалансом выполним сравнение моделей:\n",
    "\n",
    "* С взвешиванием классов\n",
    "* С уменьшением выборки\n",
    "* С увеличением выборки"
   ]
  },
  {
   "cell_type": "markdown",
   "metadata": {
    "id": "AoddC0LP7niH"
   },
   "source": [
    "### class_weight='balanced'"
   ]
  },
  {
   "cell_type": "code",
   "execution_count": null,
   "metadata": {
    "id": "7hHNqqg57niH"
   },
   "outputs": [],
   "source": [
    "scores_of_class_weight_balanced_models = pd.DataFrame(columns=['model_name', 'auc_roc', 'f1', 'precision', 'recall'])"
   ]
  },
  {
   "cell_type": "markdown",
   "metadata": {
    "id": "ARhMnedb7niI"
   },
   "source": [
    "#### LoqisticRegression"
   ]
  },
  {
   "cell_type": "code",
   "execution_count": null,
   "metadata": {
    "id": "iG9nJzCA7niI"
   },
   "outputs": [],
   "source": [
    "# %%time\n",
    "\n",
    "# best_c = 0\n",
    "# best_f1 = 0\n",
    "# best_max_iter = 0\n",
    "# best_f1 = 0\n",
    "# best_logistic_regression_weight_balanced_model = None\n",
    "\n",
    "# for c in tqdm(np.arange(0.1, 1.1, 0.1)):\n",
    "#     for max_iter in range(1,101):\n",
    "#         logistic_regression_model = LogisticRegression(random_state=244466666, C=c, solver='liblinear',\n",
    "#                                                        max_iter=max_iter, class_weight='balanced')\n",
    "#         logistic_regression_model.fit(features_train, target_train)\n",
    "#         predictions_valid = logistic_regression_model.predict(features_valid)\n",
    "#         f1 = f1_score(target_valid, predictions_valid)\n",
    "#         if f1 > best_f1:\n",
    "#             best_max_iter = max_iter\n",
    "#             best_c = c\n",
    "#             best_f1 = f1\n",
    "#             best_logistic_regression_weight_balanced_model = logistic_regression_model\n",
    "\n",
    "# print(' Лучший C:', best_c, '\\n', 'Лучшее количество итераций:', best_max_iter, '\\n')\n",
    "\n",
    "# scores_of_class_weight_balanced_models = scores_of_model(scores_of_class_weight_balanced_models, 'LogisticRegression', best_logistic_regression_weight_balanced_model)"
   ]
  },
  {
   "cell_type": "markdown",
   "metadata": {
    "id": "QFy20qVQ7niI"
   },
   "source": [
    "Лучший C: 0.7000000000000001   \n",
    " Лучшее количество итераций: 2   \n",
    "  \n",
    "best F1: 0.47993  \n",
    "best AUC-ROC: 0.76146  \n",
    "CPU times: user 1min 18s, sys: 1min 11s, total: 2min 29s  \n",
    "Wall time: 2min 29s  "
   ]
  },
  {
   "cell_type": "code",
   "execution_count": null,
   "metadata": {
    "id": "GASbnt4J7niI",
    "outputId": "fae247f1-e125-4451-b235-0324a5f73ce2"
   },
   "outputs": [
    {
     "name": "stdout",
     "output_type": "stream",
     "text": [
      "best F1: 0.47993\n",
      "best AUC-ROC: 0.76146\n",
      "CPU times: user 145 ms, sys: 106 ms, total: 251 ms\n",
      "Wall time: 190 ms\n"
     ]
    }
   ],
   "source": [
    "%%time\n",
    "\n",
    "logistic_regression_weight_balanced_model = LogisticRegression(random_state=244466666, C=0.7, solver='liblinear',\n",
    "                                                       max_iter=2, class_weight='balanced')\n",
    "logistic_regression_weight_balanced_model.fit(features_train, target_train)\n",
    "\n",
    "         \n",
    "scores_of_class_weight_balanced_models = scores_of_model(scores_of_class_weight_balanced_models, 'LogisticRegression_weight_balanced', logistic_regression_weight_balanced_model)"
   ]
  },
  {
   "cell_type": "markdown",
   "metadata": {
    "id": "fVqthX8I7niI"
   },
   "source": [
    "#### DesisionTreeClassifier"
   ]
  },
  {
   "cell_type": "code",
   "execution_count": null,
   "metadata": {
    "id": "3fISUITo7niJ"
   },
   "outputs": [],
   "source": [
    "# %%time\n",
    "\n",
    "# best_depth = 0\n",
    "# best_criterion = None\n",
    "# best_features = 0\n",
    "# best_f1 = 0\n",
    "# best_decision_tree_weight_balanced_model = None\n",
    "\n",
    "# for depth in tqdm(range(1,101)):\n",
    "#     for crit in ['gini', 'entropy']:\n",
    "#         for max_features in [None, 'sqrt', 'log2']:\n",
    "#             decision_tree_model = DecisionTreeClassifier(random_state=244466666, max_depth=depth, \n",
    "#                                                          criterion=crit, max_features=max_features, class_weight='balanced')\n",
    "#             decision_tree_model.fit(features_train, target_train)\n",
    "#             predictions_valid = decision_tree_model.predict(features_valid)\n",
    "#             f1 = f1_score(target_valid, predictions_valid)\n",
    "#             if f1 > best_f1:\n",
    "#                 best_depth = depth\n",
    "#                 best_criterion = crit\n",
    "#                 best_features = max_features\n",
    "#                 best_f1 = f1\n",
    "#                 best_decision_tree_weight_balanced_model = decision_tree_model\n",
    "        \n",
    "# print(' Лучшая глубина дерева:', best_depth, '\\n', 'Лучший критерий:',  best_criterion, '\\n',\n",
    "#       'Признак, по которому ищется лучшее разбиение:', best_features, '\\n') \n",
    "\n",
    "# scores_of_class_weight_balanced_models = scores_of_model(scores_of_class_weight_balanced_models, 'DecisionTreeClassifier_weight_balanced', best_decision_tree_weight_balanced_model)"
   ]
  },
  {
   "cell_type": "markdown",
   "metadata": {
    "id": "hVpipYz67niJ"
   },
   "source": [
    "Лучшая глубина дерева: 7   \n",
    " Лучший критерий: entropy   \n",
    " Признак, по которому ищется лучшее разбиение: None   \n",
    "  \n",
    "best F1: 0.59086  \n",
    "best AUC-ROC: 0.84246  \n",
    "CPU times: user 10.1 s, sys: 16 ms, total: 10.2 s  \n",
    "Wall time: 10.3 s  "
   ]
  },
  {
   "cell_type": "code",
   "execution_count": null,
   "metadata": {
    "id": "rH-KElCD7niJ",
    "outputId": "5baa1108-e5a9-4bd4-f9ad-5414009f2d91"
   },
   "outputs": [
    {
     "name": "stdout",
     "output_type": "stream",
     "text": [
      "best F1: 0.59086\n",
      "best AUC-ROC: 0.84246\n",
      "CPU times: user 45.8 ms, sys: 55 µs, total: 45.9 ms\n",
      "Wall time: 44.6 ms\n"
     ]
    }
   ],
   "source": [
    "%%time\n",
    "\n",
    "decision_tree_weight_balanced_model = DecisionTreeClassifier(random_state=244466666, max_depth=7, criterion='entropy',\n",
    "                                                             max_features=None, class_weight='balanced')\n",
    "decision_tree_weight_balanced_model.fit(features_train, target_train)\n",
    "\n",
    "scores_of_class_weight_balanced_models = scores_of_model(scores_of_class_weight_balanced_models, 'DecisionTreeClassifier_weight_balanced', decision_tree_weight_balanced_model)"
   ]
  },
  {
   "cell_type": "markdown",
   "metadata": {
    "id": "j4o4I_9m7niJ"
   },
   "source": [
    "#### RandomForestClassifier"
   ]
  },
  {
   "cell_type": "code",
   "execution_count": null,
   "metadata": {
    "id": "TFRYjmyN7niJ"
   },
   "outputs": [],
   "source": [
    "# %%time\n",
    "\n",
    "# best_est = 0\n",
    "# best_criterion = None\n",
    "# best_features = 0\n",
    "# best_depth = 0\n",
    "# best_f1 = 0\n",
    "# best_random_forest_weight_balanced_model = None\n",
    "\n",
    "# for est in tqdm(range(1, 1002, 100)):\n",
    "#     for crit in ['gini', 'entropy']:\n",
    "#         for max_features in [None, 'sqrt', 'log2']:\n",
    "#             for depth in range(1,51):\n",
    "#                 random_forest_model = RandomForestClassifier(random_state=244466666, n_estimators=est, \n",
    "#                                                              criterion=crit, max_features=max_features,\n",
    "#                                                              max_depth=depth, class_weight='balanced')\n",
    "#                 random_forest_model.fit(features_train, target_train)\n",
    "#                 predictions_valid = random_forest_model.predict(features_valid)\n",
    "#                 f1 = f1_score(target_valid, predictions_valid)\n",
    "#                 if f1 > best_f1:\n",
    "#                     best_est = est\n",
    "#                     best_criterion = crit\n",
    "#                     best_features = max_features\n",
    "#                     best_depth = depth\n",
    "#                     best_f1 = f1\n",
    "#                     best_random_forest_weight_balanced_model = random_forest_model\n",
    "                    \n",
    "# print(' Лучшее кол-во деревьев в лесу:', best_est, '\\n', 'Лучший критерий:',  best_criterion, '\\n',\n",
    "#       'Признак, по которому ищется лучшее разбиение:', best_features, '\\n',\n",
    "#       'Лучшая глубина дерева:', best_depth, '\\n')\n",
    "\n",
    "# scores_of_class_weight_balanced_models = scores_of_model(scores_of_class_weight_balanced_models, 'RandomForestClassifier', best_random_forest_weight_balanced_model)"
   ]
  },
  {
   "cell_type": "markdown",
   "metadata": {
    "id": "tZH9eld37niJ"
   },
   "source": [
    "Лучшее кол-во деревьев в лесу: 101   \n",
    " Лучший критерий: entropy   \n",
    " Признак, по которому ищется лучшее разбиение: sqrt   \n",
    " Лучшая глубина дерева: 11   \n",
    "  \n",
    "best F1: 0.63144  \n",
    "best AUC-ROC: 0.86678  \n",
    "CPU times: user 3h 58min 13s, sys: 21.6 s, total: 3h 58min 35s  \n",
    "Wall time: 4h 1min 36s  "
   ]
  },
  {
   "cell_type": "code",
   "execution_count": null,
   "metadata": {
    "id": "qVztm2az7niK",
    "outputId": "5e903196-069d-41a1-d011-ac50568cdb38"
   },
   "outputs": [
    {
     "name": "stdout",
     "output_type": "stream",
     "text": [
      "best F1: 0.63144\n",
      "best AUC-ROC: 0.86678\n",
      "CPU times: user 1.03 s, sys: 0 ns, total: 1.03 s\n",
      "Wall time: 1.04 s\n"
     ]
    }
   ],
   "source": [
    "%%time\n",
    "\n",
    "random_forest_weight_balanced_model = RandomForestClassifier(random_state=244466666, n_estimators=101, criterion='entropy',\n",
    "                                                             max_features='sqrt', max_depth=11, class_weight='balanced') \n",
    "random_forest_weight_balanced_model.fit(features_train, target_train)\n",
    "\n",
    "scores_of_class_weight_balanced_models = scores_of_model(scores_of_class_weight_balanced_models, 'RandomForestClassifier_weight_balanced', random_forest_weight_balanced_model)"
   ]
  },
  {
   "cell_type": "markdown",
   "metadata": {
    "id": "BP1JZ2hw7niK"
   },
   "source": [
    "#### Сравнение метрик после балансировки"
   ]
  },
  {
   "cell_type": "code",
   "execution_count": null,
   "metadata": {
    "id": "ol7pcvEz7niK",
    "outputId": "7e6c9f1a-ab38-4716-f46b-4410d19413a3"
   },
   "outputs": [
    {
     "data": {
      "text/html": [
       "<div>\n",
       "<style scoped>\n",
       "    .dataframe tbody tr th:only-of-type {\n",
       "        vertical-align: middle;\n",
       "    }\n",
       "\n",
       "    .dataframe tbody tr th {\n",
       "        vertical-align: top;\n",
       "    }\n",
       "\n",
       "    .dataframe thead th {\n",
       "        text-align: right;\n",
       "    }\n",
       "</style>\n",
       "<table border=\"1\" class=\"dataframe\">\n",
       "  <thead>\n",
       "    <tr style=\"text-align: right;\">\n",
       "      <th></th>\n",
       "      <th>model_name</th>\n",
       "      <th>auc_roc</th>\n",
       "      <th>f1</th>\n",
       "      <th>precision</th>\n",
       "      <th>recall</th>\n",
       "    </tr>\n",
       "  </thead>\n",
       "  <tbody>\n",
       "    <tr>\n",
       "      <td>0</td>\n",
       "      <td>LogisticRegression_weight_balanced</td>\n",
       "      <td>0.761462</td>\n",
       "      <td>0.479930</td>\n",
       "      <td>0.367647</td>\n",
       "      <td>0.690955</td>\n",
       "    </tr>\n",
       "    <tr>\n",
       "      <td>1</td>\n",
       "      <td>DecisionTreeClassifier_weight_balanced</td>\n",
       "      <td>0.842465</td>\n",
       "      <td>0.590863</td>\n",
       "      <td>0.495741</td>\n",
       "      <td>0.731156</td>\n",
       "    </tr>\n",
       "    <tr>\n",
       "      <td>2</td>\n",
       "      <td>RandomForestClassifier_weight_balanced</td>\n",
       "      <td>0.866782</td>\n",
       "      <td>0.631443</td>\n",
       "      <td>0.648148</td>\n",
       "      <td>0.615578</td>\n",
       "    </tr>\n",
       "  </tbody>\n",
       "</table>\n",
       "</div>"
      ],
      "text/plain": [
       "                               model_name   auc_roc        f1  precision  \\\n",
       "0      LogisticRegression_weight_balanced  0.761462  0.479930   0.367647   \n",
       "1  DecisionTreeClassifier_weight_balanced  0.842465  0.590863   0.495741   \n",
       "2  RandomForestClassifier_weight_balanced  0.866782  0.631443   0.648148   \n",
       "\n",
       "     recall  \n",
       "0  0.690955  \n",
       "1  0.731156  \n",
       "2  0.615578  "
      ]
     },
     "execution_count": 41,
     "metadata": {},
     "output_type": "execute_result"
    }
   ],
   "source": [
    "scores_of_class_weight_balanced_models"
   ]
  },
  {
   "cell_type": "code",
   "execution_count": null,
   "metadata": {
    "id": "k9NWUlXh7niK",
    "outputId": "4768a7e4-0c41-4a91-faee-3fcf257e13c8"
   },
   "outputs": [
    {
     "data": {
      "image/png": "[encoded data removed]",
      "text/plain": [
       "<Figure size 1080x648 with 1 Axes>"
      ]
     },
     "metadata": {
      "needs_background": "light"
     },
     "output_type": "display_data"
    }
   ],
   "source": [
    "scores_of_class_weight_balanced_models.plot(x='model_name', kind='barh', figsize=(15,9), grid=True, title='Сравнение метрик моделей (class_weight=\"balanced\")')\n",
    "plt.show()"
   ]
  },
  {
   "cell_type": "markdown",
   "metadata": {
    "id": "FlYmtPXh7niK"
   },
   "source": [
    "#### Вывод:"
   ]
  },
  {
   "cell_type": "markdown",
   "metadata": {
    "id": "N44qZdRd7niL"
   },
   "source": [
    "Модели с параметром class_weight = 'balanced' показали более высокие значения метрик.  \n",
    "Лучшей моделью является случайный лес."
   ]
  },
  {
   "cell_type": "markdown",
   "metadata": {
    "id": "sK3ipnoc7niL"
   },
   "source": [
    "### upsample"
   ]
  },
  {
   "cell_type": "markdown",
   "metadata": {
    "id": "OSdqKDMN7niL"
   },
   "source": [
    "Напишем функцию, которая поможет сделать объекты редкого класса не такими редкими в данных."
   ]
  },
  {
   "cell_type": "code",
   "execution_count": null,
   "metadata": {
    "id": "fheDlDHI7niL"
   },
   "outputs": [],
   "source": [
    "def upsampling(features, target, repeat):\n",
    "    features_zeros = features[target == 0]\n",
    "    features_ones = features[target == 1]\n",
    "    target_zeros = target[target == 0]\n",
    "    target_ones = target[target == 1]\n",
    "    features_upsampled = pd.concat([features_zeros] + [features_ones] * repeat)\n",
    "    target_upsampled = pd.concat([target_zeros] + [target_ones] * repeat)\n",
    "    features_upsampled, target_upsampled = shuffle(features_upsampled, target_upsampled, random_state=244466666)\n",
    "    \n",
    "    return features_upsampled, target_upsampled"
   ]
  },
  {
   "cell_type": "markdown",
   "metadata": {
    "id": "SeZRl5ks7niL"
   },
   "source": [
    "Посмотрим на дисбаланс классов:"
   ]
  },
  {
   "cell_type": "code",
   "execution_count": null,
   "metadata": {
    "id": "YZOsyZ7h7niM",
    "outputId": "c6e92cd9-1558-4936-b421-13cbacf88de6"
   },
   "outputs": [
    {
     "data": {
      "text/plain": [
       "1    0.510542\n",
       "0    0.489458\n",
       "Name: exited, dtype: float64"
      ]
     },
     "execution_count": 44,
     "metadata": {},
     "output_type": "execute_result"
    }
   ],
   "source": [
    "features_train, target_train = upsampling(features_train, target_train, 4)\n",
    "target_train.value_counts(normalize=True)"
   ]
  },
  {
   "cell_type": "code",
   "execution_count": null,
   "metadata": {
    "id": "LV9EKLbc7niM"
   },
   "outputs": [],
   "source": [
    "scores_of_upsampled_models = pd.DataFrame(columns=['model_name', 'auc_roc', 'f1', 'precision', 'recall'])"
   ]
  },
  {
   "cell_type": "markdown",
   "metadata": {
    "id": "CMH73huq7niM"
   },
   "source": [
    "#### LoqisticRegression"
   ]
  },
  {
   "cell_type": "code",
   "execution_count": null,
   "metadata": {
    "id": "BOLHbYzq7niM"
   },
   "outputs": [],
   "source": [
    "# %%time\n",
    "\n",
    "# best_c = 0\n",
    "# best_f1 = 0\n",
    "# best_max_iter = 0\n",
    "# best_logistic_regression_upsampled_model = None\n",
    "\n",
    "# for c in tqdm(np.arange(0.1, 1.1, 0.1)):\n",
    "#     for max_iter in range(1,101):\n",
    "#         logistic_regression_model = LogisticRegression(random_state=244466666, C=c, solver='liblinear', max_iter=max_iter)\n",
    "#         logistic_regression_model.fit(features_train, target_train) # обучите модель на тренировочной выборке\n",
    "#         predictions_valid = logistic_regression_model.predict(features_valid)\n",
    "#         f1 = f1_score(target_valid, predictions_valid)\n",
    "#         if f1 > best_f1:\n",
    "#             best_max_iter = max_iter\n",
    "#             best_c = c\n",
    "#             best_f1 = f1\n",
    "#             best_logistic_regression_upsampled_model = logistic_regression_model\n",
    "            \n",
    "# print(' Лучший C:', best_c, '\\n', 'Лучшее количество итераций:', best_max_iter, '\\n') \n",
    "\n",
    "# scores_of_upsampled_models = scores_of_model(scores_of_upsampled_models, 'LogisticRegression', best_logistic_regression_upsampled_model)"
   ]
  },
  {
   "cell_type": "markdown",
   "metadata": {
    "id": "hHa-hFxF7niM"
   },
   "source": [
    "Лучший C: 0.1   \n",
    " Лучшее количество итераций: 2   \n",
    " \n",
    "best F1: 0.47725  \n",
    "best AUC-ROC: 0.76151  \n",
    "CPU times: user 1min 35s, sys: 1min 30s, total: 3min 5s  \n",
    "Wall time: 3min 6s  "
   ]
  },
  {
   "cell_type": "code",
   "execution_count": null,
   "metadata": {
    "id": "qEKdXefr7niN",
    "outputId": "ba716da8-4ec8-440e-fc59-739c6dfca05d"
   },
   "outputs": [
    {
     "name": "stdout",
     "output_type": "stream",
     "text": [
      "best F1: 0.47725\n",
      "best AUC-ROC: 0.76151\n",
      "CPU times: user 128 ms, sys: 94.8 ms, total: 222 ms\n",
      "Wall time: 203 ms\n"
     ]
    }
   ],
   "source": [
    "%%time\n",
    "\n",
    "logistic_regression_upsampled_model = LogisticRegression(random_state=244466666, C=0.1, solver='liblinear', max_iter=2)\n",
    "logistic_regression_upsampled_model.fit(features_train, target_train)\n",
    "\n",
    "scores_of_upsampled_models = scores_of_model(scores_of_upsampled_models, 'LogisticRegression_upsampled', logistic_regression_upsampled_model)"
   ]
  },
  {
   "cell_type": "markdown",
   "metadata": {
    "id": "apZNl7RV7niN"
   },
   "source": [
    "#### DesisionTreeClassifier"
   ]
  },
  {
   "cell_type": "code",
   "execution_count": null,
   "metadata": {
    "id": "mk7vnWxE7niN"
   },
   "outputs": [],
   "source": [
    "# %%time\n",
    "\n",
    "# best_depth = 0\n",
    "# best_criterion = None\n",
    "# best_features = 0\n",
    "# best_f1 = 0\n",
    "# best_decision_tree_upsampled_model = None\n",
    "\n",
    "# for depth in tqdm(range(1,101)):\n",
    "#     for crit in ['gini', 'entropy']:\n",
    "#         for max_features in [None, 'sqrt', 'log2']:\n",
    "#             decision_tree_model = DecisionTreeClassifier(random_state=244466666, max_depth=depth, \n",
    "#                                                          criterion=crit, max_features=max_features)\n",
    "#             decision_tree_model.fit(features_train, target_train)\n",
    "#             predictions_valid = decision_tree_model.predict(features_valid)\n",
    "#             f1 = f1_score(target_valid, predictions_valid)\n",
    "#             if f1 > best_f1:\n",
    "#                 best_depth = depth\n",
    "#                 best_criterion = crit\n",
    "#                 best_features = max_features\n",
    "#                 best_f1 = f1\n",
    "#                 best_decision_tree_upsampled_model = decision_tree_model\n",
    "        \n",
    "# print(' Лучшая глубина дерева:', best_depth, '\\n', 'Лучший критерий:',  best_criterion, '\\n',\n",
    "#       'Признак, по которому ищется лучшее разбиение:', best_features, '\\n') \n",
    "\n",
    "# scores_of_upsampled_models = scores_of_model(scores_of_upsampled_models, 'DecisionTree_upsampled', best_decision_tree_upsampled_model)"
   ]
  },
  {
   "cell_type": "markdown",
   "metadata": {
    "id": "hcob4jxD7niN"
   },
   "source": [
    "Лучшая глубина дерева: 8   \n",
    " Лучший критерий: entropy   \n",
    " Признак, по которому ищется лучшее разбиение: None   \n",
    "\n",
    "best F1: 0.58471  \n",
    "best AUC-ROC: 0.82568  \n",
    "CPU times: user 12.4 s, sys: 71.6 ms, total: 12.5 s  \n",
    "Wall time: 12.7 s"
   ]
  },
  {
   "cell_type": "code",
   "execution_count": null,
   "metadata": {
    "id": "9pDRvj8t7niN",
    "outputId": "a3543df3-599c-4bc3-98d2-204e953e3fe9"
   },
   "outputs": [
    {
     "name": "stdout",
     "output_type": "stream",
     "text": [
      "best F1: 0.58471\n",
      "best AUC-ROC: 0.82568\n",
      "CPU times: user 58.8 ms, sys: 90 µs, total: 58.9 ms\n",
      "Wall time: 57 ms\n"
     ]
    }
   ],
   "source": [
    "%%time\n",
    "\n",
    "decision_tree_upsampled_model = DecisionTreeClassifier(random_state=244466666, max_depth=8, criterion='entropy', max_features=None)\n",
    "decision_tree_upsampled_model.fit(features_train, target_train)\n",
    "\n",
    "scores_of_upsampled_models = scores_of_model(scores_of_upsampled_models, 'DecisionTree_upsampled', decision_tree_upsampled_model)"
   ]
  },
  {
   "cell_type": "markdown",
   "metadata": {
    "id": "bnT60QE-7niO"
   },
   "source": [
    "#### RandomForestClassifier"
   ]
  },
  {
   "cell_type": "code",
   "execution_count": null,
   "metadata": {
    "id": "5YfLv4zt7niO"
   },
   "outputs": [],
   "source": [
    "# %%time\n",
    "\n",
    "# best_est = 0\n",
    "# best_criterion = None\n",
    "# best_features = 0\n",
    "# best_depth = 0\n",
    "# best_f1 = 0\n",
    "# best_random_forest_upsampled_model = None\n",
    "\n",
    "# for est in tqdm(range(1, 1002, 100)):\n",
    "#     for crit in ['gini', 'entropy']:\n",
    "#         for max_features in [None, 'sqrt', 'log2']:\n",
    "#             for depth in range(1,51):\n",
    "#                 random_forest_model = RandomForestClassifier(random_state=244466666, n_estimators=est, criterion=crit,\n",
    "#                                                              max_features=max_features, max_depth=depth) \n",
    "#                 random_forest_model.fit(features_train, target_train)\n",
    "#                 predictions_valid = random_forest_model.predict(features_valid)\n",
    "#                 f1 = f1_score(target_valid, predictions_valid)\n",
    "#                 if f1 > best_f1:\n",
    "#                     best_est = est\n",
    "#                     best_criterion = crit\n",
    "#                     best_features = max_features\n",
    "#                     best_depth = depth\n",
    "#                     best_f1 = f1\n",
    "#                     best_random_forest_upsampled_model = random_forest_model\n",
    "                    \n",
    "# print(' Лучшее кол-во деревьев в лесу:', best_est, '\\n', 'Лучший критерий:',  best_criterion, '\\n',\n",
    "#       'Признак, по которому ищется лучшее разбиение:', best_features, '\\n',\n",
    "#       'Лучшая глубина дерева:', best_depth, '\\n')\n",
    "\n",
    "# scores_of_upsampled_models = scores_of_model(scores_of_upsampled_models, 'RandomForestClassifier', best_random_forest_upsampled_model)"
   ]
  },
  {
   "cell_type": "markdown",
   "metadata": {
    "id": "UsXAD8mw7niO"
   },
   "source": [
    "Лучшее кол-во деревьев в лесу: 201   \n",
    " Лучший критерий: entropy   \n",
    " Признак, по которому ищется лучшее разбиение: sqrt   \n",
    " Лучшая глубина дерева: 12   \n",
    "   \n",
    "best F1: 0.62574  \n",
    "best AUC-ROC: 0.86462  \n",
    "CPU times: user 5h 54min 12s, sys: 32.5 s, total: 5h 54min 44s  \n",
    "Wall time: 5h 58min 18s"
   ]
  },
  {
   "cell_type": "code",
   "execution_count": null,
   "metadata": {
    "id": "gWWGX_7F7niO",
    "outputId": "e6b56c82-c5ee-4728-ce59-5e3b6c14bb1c"
   },
   "outputs": [
    {
     "name": "stdout",
     "output_type": "stream",
     "text": [
      "best F1: 0.62574\n",
      "best AUC-ROC: 0.86462\n",
      "CPU times: user 2.96 s, sys: 15.1 ms, total: 2.97 s\n",
      "Wall time: 2.97 s\n"
     ]
    }
   ],
   "source": [
    "%%time\n",
    "\n",
    "random_forest_upsampled_model = RandomForestClassifier(random_state=244466666, n_estimators=201, criterion='entropy',\n",
    "                                                             max_features='sqrt', max_depth=12) \n",
    "random_forest_upsampled_model.fit(features_train, target_train)\n",
    "\n",
    "scores_of_upsampled_models = scores_of_model(scores_of_upsampled_models, 'RandomForestClassifier_upsampled', random_forest_upsampled_model)"
   ]
  },
  {
   "cell_type": "markdown",
   "metadata": {
    "id": "ZP-iqw7s7niP"
   },
   "source": [
    "#### Сравнение метрик после балансировки"
   ]
  },
  {
   "cell_type": "code",
   "execution_count": null,
   "metadata": {
    "id": "t8T4alKi7niP",
    "outputId": "f0a24234-c1ef-4063-ff00-a45cf7f6b4d5"
   },
   "outputs": [
    {
     "data": {
      "text/html": [
       "<div>\n",
       "<style scoped>\n",
       "    .dataframe tbody tr th:only-of-type {\n",
       "        vertical-align: middle;\n",
       "    }\n",
       "\n",
       "    .dataframe tbody tr th {\n",
       "        vertical-align: top;\n",
       "    }\n",
       "\n",
       "    .dataframe thead th {\n",
       "        text-align: right;\n",
       "    }\n",
       "</style>\n",
       "<table border=\"1\" class=\"dataframe\">\n",
       "  <thead>\n",
       "    <tr style=\"text-align: right;\">\n",
       "      <th></th>\n",
       "      <th>model_name</th>\n",
       "      <th>auc_roc</th>\n",
       "      <th>f1</th>\n",
       "      <th>precision</th>\n",
       "      <th>recall</th>\n",
       "    </tr>\n",
       "  </thead>\n",
       "  <tbody>\n",
       "    <tr>\n",
       "      <td>0</td>\n",
       "      <td>LogisticRegression_upsampled</td>\n",
       "      <td>0.761514</td>\n",
       "      <td>0.477253</td>\n",
       "      <td>0.362451</td>\n",
       "      <td>0.698492</td>\n",
       "    </tr>\n",
       "    <tr>\n",
       "      <td>1</td>\n",
       "      <td>DecisionTree_upsampled</td>\n",
       "      <td>0.825679</td>\n",
       "      <td>0.584711</td>\n",
       "      <td>0.496491</td>\n",
       "      <td>0.711055</td>\n",
       "    </tr>\n",
       "    <tr>\n",
       "      <td>2</td>\n",
       "      <td>RandomForestClassifier_upsampled</td>\n",
       "      <td>0.864616</td>\n",
       "      <td>0.625738</td>\n",
       "      <td>0.590200</td>\n",
       "      <td>0.665829</td>\n",
       "    </tr>\n",
       "  </tbody>\n",
       "</table>\n",
       "</div>"
      ],
      "text/plain": [
       "                         model_name   auc_roc        f1  precision    recall\n",
       "0      LogisticRegression_upsampled  0.761514  0.477253   0.362451  0.698492\n",
       "1            DecisionTree_upsampled  0.825679  0.584711   0.496491  0.711055\n",
       "2  RandomForestClassifier_upsampled  0.864616  0.625738   0.590200  0.665829"
      ]
     },
     "execution_count": 52,
     "metadata": {},
     "output_type": "execute_result"
    }
   ],
   "source": [
    "scores_of_upsampled_models"
   ]
  },
  {
   "cell_type": "code",
   "execution_count": null,
   "metadata": {
    "id": "berwISAk7niP",
    "outputId": "243a4177-712f-4468-cdc8-0cfcc3bafc54"
   },
   "outputs": [
    {
     "data": {
      "image/png": "[encoded data removed]",
      "text/plain": [
       "<Figure size 1080x648 with 1 Axes>"
      ]
     },
     "metadata": {
      "needs_background": "light"
     },
     "output_type": "display_data"
    }
   ],
   "source": [
    "scores_of_upsampled_models.plot(x='model_name', kind='barh', figsize=(15,9), grid=True, title='Сравнение метрик upsampled моделей')\n",
    "plt.show()"
   ]
  },
  {
   "cell_type": "markdown",
   "metadata": {
    "id": "eggDhI6P7niP"
   },
   "source": [
    "#### Вывод:"
   ]
  },
  {
   "cell_type": "markdown",
   "metadata": {
    "id": "0A6Y9eNm7niP"
   },
   "source": [
    "Лучшей моделью остается случайный лес, однако модель с параметром class_weight = 'balanced' показала более высокие значения метрик, чем upsampled модель."
   ]
  },
  {
   "cell_type": "markdown",
   "metadata": {
    "id": "msDmxLRZ7niQ"
   },
   "source": [
    "### downsampling"
   ]
  },
  {
   "cell_type": "code",
   "execution_count": null,
   "metadata": {
    "id": "qYVXpwTb7niQ"
   },
   "outputs": [],
   "source": [
    "features_train, features_valid_and_test, target_train, target_valid_and_test = train_test_split(features, target, \n",
    "                                                                                                test_size=0.40, random_state=244466666)\n",
    "features_valid, features_test, target_valid, target_test = train_test_split(features_valid_and_test, target_valid_and_test, \n",
    "                                                                            test_size=0.5, random_state=244466666)"
   ]
  },
  {
   "cell_type": "code",
   "execution_count": null,
   "metadata": {
    "id": "Gk2J3ral7niQ"
   },
   "outputs": [],
   "source": [
    "scaler = StandardScaler()\n",
    "numeric = ['credit_score', 'age', 'tenure', 'balance', 'num_of_products', 'estimated_salary']\n",
    "scaler.fit(features_train[numeric])\n",
    "features_train[numeric] = scaler.transform(features_train[numeric])\n",
    "scaler.fit(features_valid[numeric])\n",
    "features_valid[numeric] = scaler.transform(features_valid[numeric])\n",
    "scaler.fit(features_test[numeric])\n",
    "features_test[numeric] = scaler.transform(features_test[numeric])"
   ]
  },
  {
   "cell_type": "markdown",
   "metadata": {
    "id": "PdolVx1m7niR"
   },
   "source": [
    "Напишем функцию, которая поможет сделать объекты частого класса не такими частыми в данных."
   ]
  },
  {
   "cell_type": "code",
   "execution_count": null,
   "metadata": {
    "id": "WWP6yPVq7niR"
   },
   "outputs": [],
   "source": [
    "def downsampling(features, target, fraction):\n",
    "    features_zeros = features[target == 0]\n",
    "    features_ones = features[target == 1]\n",
    "    target_zeros = target[target == 0]\n",
    "    target_ones = target[target == 1]\n",
    "    features_downsampled = pd.concat([features_zeros.sample(frac=fraction, random_state=244466666)] + [features_ones])\n",
    "    target_downsampled = pd.concat([target_zeros.sample(frac=fraction, random_state=244466666)] + [target_ones])  \n",
    "    features_downsampled, target_downsampled = shuffle(features_downsampled, target_downsampled, random_state=244466666)\n",
    "    \n",
    "    return features_downsampled, target_downsampled"
   ]
  },
  {
   "cell_type": "markdown",
   "metadata": {
    "id": "gNmdmdBb7niR"
   },
   "source": [
    "Посмотрим на дисбаланс классов:"
   ]
  },
  {
   "cell_type": "code",
   "execution_count": null,
   "metadata": {
    "id": "QLfIBvlW7niR",
    "outputId": "34c27b08-e52e-4411-b857-26b20d7a1be2"
   },
   "outputs": [
    {
     "data": {
      "text/plain": [
       "1    0.51049\n",
       "0    0.48951\n",
       "Name: exited, dtype: float64"
      ]
     },
     "execution_count": 57,
     "metadata": {},
     "output_type": "execute_result"
    }
   ],
   "source": [
    "features_train, target_train = downsampling(features_train, target_train, 0.25)\n",
    "target_train.value_counts(normalize=True)"
   ]
  },
  {
   "cell_type": "code",
   "execution_count": null,
   "metadata": {
    "id": "v8PqZsMV7niR"
   },
   "outputs": [],
   "source": [
    "scores_of_downsampled_models = pd.DataFrame(columns=['model_name', 'auc_roc', 'f1', 'precision', 'recall'])"
   ]
  },
  {
   "cell_type": "markdown",
   "metadata": {
    "id": "GGBCvLMu7niR"
   },
   "source": [
    "#### LoqisticRegression"
   ]
  },
  {
   "cell_type": "code",
   "execution_count": null,
   "metadata": {
    "id": "HJLLpCIY7niS"
   },
   "outputs": [],
   "source": [
    "# %%time\n",
    "\n",
    "# best_c = 0\n",
    "# best_f1 = 0\n",
    "# best_max_iter = 0\n",
    "# best_logistic_regression_downsampled_model = None\n",
    "\n",
    "# for c in tqdm(np.arange(0.1, 1.1, 0.1)):\n",
    "#     for max_iter in range(1,101):\n",
    "#         logistic_regression_model = LogisticRegression(random_state=244466666, C=c, solver='liblinear', max_iter=max_iter)\n",
    "#         logistic_regression_model.fit(features_train, target_train)\n",
    "#         predictions_valid = logistic_regression_model.predict(features_valid)\n",
    "#         f1 = f1_score(target_valid, predictions_valid)\n",
    "#         if f1 > best_f1:\n",
    "#             best_max_iter = max_iter\n",
    "#             best_c = c\n",
    "#             best_f1 = f1\n",
    "#             best_logistic_regression_downsampled_model = logistic_regression_model\n",
    "\n",
    "# print(' Лучший C:', best_c, '\\n', 'Лучшее количество итераций:', best_max_iter, '\\n') \n",
    "\n",
    "# scores_of_downsampled_models = scores_of_model(scores_of_downsampled_models, 'LogisticRegression', best_logistic_regression_downsampled_model)"
   ]
  },
  {
   "cell_type": "markdown",
   "metadata": {
    "id": "3-rwZVmJ7niS"
   },
   "source": [
    "Лучший C: 0.2   \n",
    " Лучшее количество итераций: 1   \n",
    "  \n",
    "best F1: 0.48  \n",
    "best AUC-ROC: 0.7601  \n",
    "CPU times: user 50 s, sys: 42.7 s, total: 1min 32s  \n",
    "Wall time: 1min 33s"
   ]
  },
  {
   "cell_type": "code",
   "execution_count": null,
   "metadata": {
    "id": "88mbnd3U7niS",
    "outputId": "09123f71-dbd1-4759-db35-067cc5b123ed"
   },
   "outputs": [
    {
     "name": "stdout",
     "output_type": "stream",
     "text": [
      "best F1: 0.48\n",
      "best AUC-ROC: 0.7601\n",
      "CPU times: user 83.4 ms, sys: 93.8 ms, total: 177 ms\n",
      "Wall time: 181 ms\n"
     ]
    }
   ],
   "source": [
    "%%time\n",
    "\n",
    "logistic_regression_downsampled_model = LogisticRegression(random_state=244466666, C=0.2, solver='liblinear', max_iter=1)\n",
    "logistic_regression_downsampled_model.fit(features_train, target_train)\n",
    "\n",
    "scores_of_downsampled_models = scores_of_model(scores_of_downsampled_models, 'LogisticRegression_downsampled', logistic_regression_downsampled_model)"
   ]
  },
  {
   "cell_type": "markdown",
   "metadata": {
    "id": "aEloPaqQ7niS"
   },
   "source": [
    "#### DesisionTreeClassifier"
   ]
  },
  {
   "cell_type": "code",
   "execution_count": null,
   "metadata": {
    "id": "zaM1EmDi7niS"
   },
   "outputs": [],
   "source": [
    "# %%time\n",
    "\n",
    "# best_depth = 0\n",
    "# best_criterion = None\n",
    "# best_features = 0\n",
    "# best_f1 = 0\n",
    "# best_decision_tree_downsampled_model = None\n",
    "\n",
    "# for depth in tqdm(range(1,101)):\n",
    "#     for crit in ['gini', 'entropy']:\n",
    "#         for max_features in [None, 'sqrt', 'log2']:\n",
    "#             decision_tree_model = DecisionTreeClassifier(random_state=244466666, max_depth=depth, \n",
    "#                                                          criterion=crit, max_features=max_features)\n",
    "#             decision_tree_model.fit(features_train, target_train)\n",
    "#             predictions_valid = decision_tree_model.predict(features_valid)\n",
    "#             f1 = f1_score(target_valid, predictions_valid)\n",
    "#             if f1 > best_f1:\n",
    "#                 best_depth = depth\n",
    "#                 best_criterion = crit\n",
    "#                 best_features = max_features\n",
    "#                 best_f1 = f1\n",
    "#                 best_decision_tree_downsampled_model = decision_tree_model\n",
    "        \n",
    "# print(' Лучшая глубина дерева:', best_depth, '\\n', 'Лучший критерий:',  best_criterion, '\\n',\n",
    "#       'Признак, по которому ищется лучшее разбиение:', best_features, '\\n') \n",
    "\n",
    "# scores_of_downsampled_models = scores_of_model(scores_of_downsampled_models, 'DecisionTree', best_decision_tree_downsampled_model)"
   ]
  },
  {
   "cell_type": "markdown",
   "metadata": {
    "id": "DI2x4mHF7niS"
   },
   "source": [
    "Лучшая глубина дерева: 5   \n",
    " Лучший критерий: entropy   \n",
    " Признак, по которому ищется лучшее разбиение: None   \n",
    "\n",
    "best F1: 0.56991  \n",
    "best AUC-ROC: 0.84461  \n",
    "CPU times: user 4.9 s, sys: 36.1 ms, total: 4.93 s  \n",
    "Wall time: 5.02 s"
   ]
  },
  {
   "cell_type": "code",
   "execution_count": null,
   "metadata": {
    "id": "ivMWvOva7niT",
    "outputId": "8ba53f7e-c0a1-4cbb-d354-8c88eee8497e"
   },
   "outputs": [
    {
     "name": "stdout",
     "output_type": "stream",
     "text": [
      "best F1: 0.56991\n",
      "best AUC-ROC: 0.84461\n",
      "CPU times: user 25.8 ms, sys: 67 µs, total: 25.9 ms\n",
      "Wall time: 24.6 ms\n"
     ]
    }
   ],
   "source": [
    "%%time\n",
    "\n",
    "decision_tree_downsampled_model = DecisionTreeClassifier(random_state=244466666, max_depth=5, criterion='entropy', max_features=None)\n",
    "decision_tree_downsampled_model.fit(features_train, target_train)\n",
    "\n",
    "scores_of_downsampled_models = scores_of_model(scores_of_downsampled_models, 'DecisionTree_downsampled', decision_tree_downsampled_model)"
   ]
  },
  {
   "cell_type": "markdown",
   "metadata": {
    "id": "8ChkyUlo7niT"
   },
   "source": [
    "#### RandomForestClassifier"
   ]
  },
  {
   "cell_type": "code",
   "execution_count": null,
   "metadata": {
    "id": "GdLAGWY97niT"
   },
   "outputs": [],
   "source": [
    "# %%time\n",
    "\n",
    "# best_est = 0\n",
    "# best_criterion = None\n",
    "# best_features = 0\n",
    "# best_depth = 0\n",
    "# best_f1 = 0\n",
    "# best_random_forest_downsampled_model = None\n",
    "\n",
    "# for est in tqdm(range(1, 1002, 100)):\n",
    "#     for crit in ['gini', 'entropy']:\n",
    "#         for max_features in [None, 'sqrt', 'log2']:\n",
    "#             for depth in range(1,51):\n",
    "#                 random_forest_model = RandomForestClassifier(random_state=244466666, n_estimators=est, criterion=crit,\n",
    "#                                                              max_features=max_features, max_depth=depth) \n",
    "#                 random_forest_model.fit(features_train, target_train)\n",
    "#                 predictions_valid = random_forest_model.predict(features_valid)\n",
    "#                 f1 = f1_score(target_valid, predictions_valid)\n",
    "#                 if f1 > best_f1:\n",
    "#                     best_est = est\n",
    "#                     best_criterion = crit\n",
    "#                     best_features = max_features\n",
    "#                     best_depth = depth\n",
    "#                     best_f1 = f1\n",
    "#                     best_random_forest_downsampled_model = random_forest_model\n",
    "                    \n",
    "# print(' Лучшее кол-во деревьев в лесу:', best_est, '\\n', 'Лучший критерий:',  best_criterion, '\\n',\n",
    "#       'Признак, по которому ищется лучшее разбиение:', best_features, '\\n',\n",
    "#       'Лучшая глубина дерева:', best_depth, '\\n')\n",
    "\n",
    "# scores_of_downsampled_models = scores_of_model(scores_of_downsampled_models, 'RandomForestClassifier', best_random_forest_downsampled_model)"
   ]
  },
  {
   "cell_type": "markdown",
   "metadata": {
    "id": "P83tZsOE7niT"
   },
   "source": [
    "Лучшее кол-во деревьев в лесу: 101   \n",
    " Лучший критерий: gini   \n",
    " Признак, по которому ищется лучшее разбиение: sqrt   \n",
    " Лучшая глубина дерева: 10   \n",
    " \n",
    "best F1: 0.59632  \n",
    "best AUC-ROC: 0.85688  \n",
    "CPU times: user 1h 54min 55s, sys: 20 s, total: 1h 55min 15s  \n",
    "Wall time: 1h 56min"
   ]
  },
  {
   "cell_type": "code",
   "execution_count": null,
   "metadata": {
    "id": "2NCsW9dd7niU",
    "outputId": "8bb529bc-395b-49d2-9072-e7523077bf2f"
   },
   "outputs": [
    {
     "name": "stdout",
     "output_type": "stream",
     "text": [
      "best F1: 0.59632\n",
      "best AUC-ROC: 0.85688\n",
      "CPU times: user 582 ms, sys: 3.87 ms, total: 586 ms\n",
      "Wall time: 604 ms\n"
     ]
    }
   ],
   "source": [
    "%%time\n",
    "\n",
    "random_forest_downsampled_model = RandomForestClassifier(random_state=244466666, n_estimators=101, criterion='gini',\n",
    "                                                             max_features='sqrt', max_depth=10) \n",
    "random_forest_downsampled_model.fit(features_train, target_train)\n",
    "\n",
    "scores_of_downsampled_models = scores_of_model(scores_of_downsampled_models, 'RandomForestClassifier_downsampled', random_forest_downsampled_model)"
   ]
  },
  {
   "cell_type": "markdown",
   "metadata": {
    "id": "tZpuQL-h7niU"
   },
   "source": [
    "#### Сравнение метрик после балансировки"
   ]
  },
  {
   "cell_type": "code",
   "execution_count": null,
   "metadata": {
    "id": "Ij_zKRJR7niU",
    "outputId": "d88c2848-44a3-43b1-8a8d-76c1f0d2f3a1"
   },
   "outputs": [
    {
     "data": {
      "text/html": [
       "<div>\n",
       "<style scoped>\n",
       "    .dataframe tbody tr th:only-of-type {\n",
       "        vertical-align: middle;\n",
       "    }\n",
       "\n",
       "    .dataframe tbody tr th {\n",
       "        vertical-align: top;\n",
       "    }\n",
       "\n",
       "    .dataframe thead th {\n",
       "        text-align: right;\n",
       "    }\n",
       "</style>\n",
       "<table border=\"1\" class=\"dataframe\">\n",
       "  <thead>\n",
       "    <tr style=\"text-align: right;\">\n",
       "      <th></th>\n",
       "      <th>model_name</th>\n",
       "      <th>auc_roc</th>\n",
       "      <th>f1</th>\n",
       "      <th>precision</th>\n",
       "      <th>recall</th>\n",
       "    </tr>\n",
       "  </thead>\n",
       "  <tbody>\n",
       "    <tr>\n",
       "      <td>0</td>\n",
       "      <td>LogisticRegression_downsampled</td>\n",
       "      <td>0.760097</td>\n",
       "      <td>0.480000</td>\n",
       "      <td>0.367021</td>\n",
       "      <td>0.693467</td>\n",
       "    </tr>\n",
       "    <tr>\n",
       "      <td>1</td>\n",
       "      <td>DecisionTree_downsampled</td>\n",
       "      <td>0.844605</td>\n",
       "      <td>0.569912</td>\n",
       "      <td>0.439891</td>\n",
       "      <td>0.809045</td>\n",
       "    </tr>\n",
       "    <tr>\n",
       "      <td>2</td>\n",
       "      <td>RandomForestClassifier_downsampled</td>\n",
       "      <td>0.856881</td>\n",
       "      <td>0.596321</td>\n",
       "      <td>0.485039</td>\n",
       "      <td>0.773869</td>\n",
       "    </tr>\n",
       "  </tbody>\n",
       "</table>\n",
       "</div>"
      ],
      "text/plain": [
       "                           model_name   auc_roc        f1  precision    recall\n",
       "0      LogisticRegression_downsampled  0.760097  0.480000   0.367021  0.693467\n",
       "1            DecisionTree_downsampled  0.844605  0.569912   0.439891  0.809045\n",
       "2  RandomForestClassifier_downsampled  0.856881  0.596321   0.485039  0.773869"
      ]
     },
     "execution_count": 65,
     "metadata": {},
     "output_type": "execute_result"
    }
   ],
   "source": [
    "scores_of_downsampled_models"
   ]
  },
  {
   "cell_type": "code",
   "execution_count": null,
   "metadata": {
    "id": "r_Q9rwGM7niU",
    "outputId": "40fa6fd0-0384-4bdb-c250-34f9db8a6325"
   },
   "outputs": [
    {
     "data": {
      "image/png": "[encoded data removed]",
      "text/plain": [
       "<Figure size 1080x648 with 1 Axes>"
      ]
     },
     "metadata": {
      "needs_background": "light"
     },
     "output_type": "display_data"
    }
   ],
   "source": [
    "scores_of_downsampled_models.plot(x='model_name', kind='barh', figsize=(15,9), grid=True, title='Сравнение метрик downsampled моделей')\n",
    "plt.show()"
   ]
  },
  {
   "cell_type": "markdown",
   "metadata": {
    "id": "qp-UZ4g17niU"
   },
   "source": [
    "#### Вывод:"
   ]
  },
  {
   "cell_type": "markdown",
   "metadata": {
    "id": "gxYidyos7niV"
   },
   "source": [
    "Значения метрик случайного леса хуже, чем у upsampled модели."
   ]
  },
  {
   "cell_type": "markdown",
   "metadata": {
    "id": "0BNXUqYX7niV"
   },
   "source": [
    "### Вывод:"
   ]
  },
  {
   "cell_type": "markdown",
   "metadata": {
    "id": "W2lIjG807niV"
   },
   "source": [
    "Эффективнее всего избавиться от дисбаланса классов поможет параметр class_weight = 'balanced'."
   ]
  },
  {
   "cell_type": "markdown",
   "metadata": {
    "id": "jShs-6857niV"
   },
   "source": [
    "## Тестирование модели"
   ]
  },
  {
   "cell_type": "markdown",
   "metadata": {
    "id": "bRSLgzaH7niV"
   },
   "source": [
    "Сравнивать будем только лучшие модели разных балансировок - случайный лес"
   ]
  },
  {
   "cell_type": "code",
   "execution_count": null,
   "metadata": {
    "id": "GRpjnGHX7niV"
   },
   "outputs": [],
   "source": [
    "def ROC_curve_and_metrics(model, name):\n",
    "    print('Модель:', name)\n",
    "    predicted_test = model.predict(features_test)\n",
    "    recall = recall_score(target_test, predicted_test)\n",
    "    precision = precision_score(target_test, predicted_test)\n",
    "    f1 = f1_score(target_test, predicted_test)\n",
    "    probabilities = model.predict_proba(features_test)\n",
    "    probabilities_one = probabilities[:,1]\n",
    "    auc_roc = roc_auc_score(target_test, probabilities_one)\n",
    "    print('best recall:', round(recall, 5))\n",
    "    print('best precision:', round(precision, 5))\n",
    "    print('best F1:', round(f1, 5))\n",
    "    print('best AUC-ROC:', round(auc_roc, 5))\n",
    "    print()\n",
    "    fpr, tpr, thresholds = roc_curve(target_test, probabilities_one)\n",
    "    plt.plot(fpr, tpr, label=name)"
   ]
  },
  {
   "cell_type": "code",
   "execution_count": null,
   "metadata": {
    "id": "mbRJJlfK7niW",
    "outputId": "2bd7ea20-c5af-422b-e726-d4f3498670da",
    "scrolled": false
   },
   "outputs": [
    {
     "name": "stdout",
     "output_type": "stream",
     "text": [
      "Модель: disbalansed RandomForestClassifier\n",
      "best recall: 0.50251\n",
      "best precision: 0.65147\n",
      "best F1: 0.56738\n",
      "best AUC-ROC: 0.83904\n",
      "\n",
      "Модель: class weight balanced RandomForestClassifier\n",
      "best recall: 0.61307\n",
      "best precision: 0.59951\n",
      "best F1: 0.60621\n",
      "best AUC-ROC: 0.84589\n",
      "\n",
      "Модель: upsample balanced RandomForestClassifier\n",
      "best recall: 0.64824\n",
      "best precision: 0.56332\n",
      "best F1: 0.6028\n",
      "best AUC-ROC: 0.84508\n",
      "\n",
      "Модель: downsample balanced RandomForestClassifier\n",
      "best recall: 0.73618\n",
      "best precision: 0.45568\n",
      "best F1: 0.56292\n",
      "best AUC-ROC: 0.83854\n",
      "\n"
     ]
    },
    {
     "data": {
      "image/png": "[encoded data removed]",
      "text/plain": [
       "<Figure size 1080x1080 with 1 Axes>"
      ]
     },
     "metadata": {
      "needs_background": "light"
     },
     "output_type": "display_data"
    }
   ],
   "source": [
    "plt.figure(figsize=(15, 15))\n",
    "plt.xlabel('False Positive Probability')\n",
    "plt.ylabel('True Positive Probability')\n",
    "plt.title('ROC-кривая')\n",
    "plt.ylim([0.0, 1.0])\n",
    "plt.xlim([0.0, 1.0])\n",
    "plt.grid()\n",
    "\n",
    "plt.plot([0, 1], [0, 1], linestyle='--', label='RandomModel')\n",
    "ROC_curve_and_metrics(random_forest_model, 'disbalansed RandomForestClassifier')\n",
    "ROC_curve_and_metrics(random_forest_weight_balanced_model, 'class weight balanced RandomForestClassifier')\n",
    "ROC_curve_and_metrics(random_forest_upsampled_model, 'upsample balanced RandomForestClassifier')\n",
    "ROC_curve_and_metrics(random_forest_downsampled_model, 'downsample balanced RandomForestClassifier')\n",
    "\n",
    "plt.legend()\n",
    "plt.show()"
   ]
  },
  {
   "cell_type": "markdown",
   "metadata": {
    "id": "MLAT8iix7niW"
   },
   "source": [
    "На тестовой выборке class weight balanced модель так же показала лучшие результаты метрик следи всех моделей.  \n",
    "Для данной задачи это наилучшая модель."
   ]
  },
  {
   "cell_type": "markdown",
   "metadata": {
    "id": "PI_bOoyP7niX"
   },
   "source": [
    "## Бонус (обучение лучшей модели на выборке train + valid) и важность факторов"
   ]
  },
  {
   "cell_type": "markdown",
   "metadata": {
    "id": "hq43DAdb7niX"
   },
   "source": [
    "### Обучение модели на выборке train + valid"
   ]
  },
  {
   "cell_type": "code",
   "execution_count": null,
   "metadata": {
    "id": "ySu38p6f7niX"
   },
   "outputs": [],
   "source": [
    "features_train_and_valid, features_test, target_train_and_valid, target_test = train_test_split(features, target, \n",
    "                                                                                                test_size=0.20, random_state=244466666)"
   ]
  },
  {
   "cell_type": "code",
   "execution_count": null,
   "metadata": {
    "id": "s63g3_y37niX"
   },
   "outputs": [],
   "source": [
    "scaler = StandardScaler()\n",
    "numeric = ['credit_score', 'age', 'tenure', 'balance', 'num_of_products', 'estimated_salary']\n",
    "scaler.fit(features_train_and_valid[numeric])\n",
    "features_train_and_valid[numeric] = scaler.transform(features_train_and_valid[numeric])\n",
    "scaler.fit(features_test[numeric])\n",
    "features_test[numeric] = scaler.transform(features_test[numeric])"
   ]
  },
  {
   "cell_type": "code",
   "execution_count": null,
   "metadata": {
    "id": "zPujy77B7niX",
    "outputId": "7f9f4cd2-c1d8-43b9-bd79-6998552a19cc"
   },
   "outputs": [
    {
     "name": "stdout",
     "output_type": "stream",
     "text": [
      "CPU times: user 1.26 s, sys: 0 ns, total: 1.26 s\n",
      "Wall time: 1.28 s\n"
     ]
    },
    {
     "data": {
      "text/plain": [
       "RandomForestClassifier(bootstrap=True, class_weight='balanced',\n",
       "                       criterion='entropy', max_depth=11, max_features='sqrt',\n",
       "                       max_leaf_nodes=None, min_impurity_decrease=0.0,\n",
       "                       min_impurity_split=None, min_samples_leaf=1,\n",
       "                       min_samples_split=2, min_weight_fraction_leaf=0.0,\n",
       "                       n_estimators=101, n_jobs=None, oob_score=False,\n",
       "                       random_state=244466666, verbose=0, warm_start=False)"
      ]
     },
     "execution_count": 71,
     "metadata": {},
     "output_type": "execute_result"
    }
   ],
   "source": [
    "%%time\n",
    "\n",
    "random_forest_bonus_model = RandomForestClassifier(random_state=244466666, n_estimators=101, criterion='entropy',\n",
    "                                                             max_features='sqrt', max_depth=11, class_weight='balanced') \n",
    "random_forest_bonus_model.fit(features_train_and_valid, target_train_and_valid)"
   ]
  },
  {
   "cell_type": "code",
   "execution_count": null,
   "metadata": {
    "id": "x_xlbcEZ7niY",
    "outputId": "eba71915-bd08-4fc6-8c37-bbbcbf1d4b89"
   },
   "outputs": [
    {
     "name": "stdout",
     "output_type": "stream",
     "text": [
      "Модель: bonus RandomForestClassifier\n",
      "best recall: 0.59753\n",
      "best precision: 0.605\n",
      "best F1: 0.60124\n",
      "best AUC-ROC: 0.85331\n",
      "\n"
     ]
    },
    {
     "data": {
      "image/png": "[encoded data removed]",
      "text/plain": [
       "<Figure size 1080x1080 with 1 Axes>"
      ]
     },
     "metadata": {
      "needs_background": "light"
     },
     "output_type": "display_data"
    }
   ],
   "source": [
    "plt.figure(figsize=(15, 15))\n",
    "plt.xlabel('False Positive Probability')\n",
    "plt.ylabel('True Positive Probability')\n",
    "plt.title('ROC-кривая')\n",
    "plt.ylim([0.0, 1.0])\n",
    "plt.xlim([0.0, 1.0])\n",
    "plt.grid()\n",
    "\n",
    "plt.plot([0, 1], [0, 1], linestyle='--', label='RandomModel')\n",
    "ROC_curve_and_metrics(random_forest_bonus_model, 'bonus RandomForestClassifier')\n",
    "\n",
    "plt.legend()\n",
    "plt.show()"
   ]
  },
  {
   "cell_type": "markdown",
   "metadata": {
    "id": "bR4EUoFT7niY"
   },
   "source": [
    "К сожалению, обучение модели на обобщенной выборке train+valid не прибавило значений метрик."
   ]
  },
  {
   "cell_type": "markdown",
   "metadata": {
    "id": "gxbUrbk_7niY"
   },
   "source": [
    "### Исследование важности факторов"
   ]
  },
  {
   "cell_type": "code",
   "execution_count": null,
   "metadata": {
    "id": "mVGrK4qu7niY",
    "outputId": "fcac9894-e603-4836-8a75-3d3468a8569b"
   },
   "outputs": [
    {
     "data": {
      "text/html": [
       "<div>\n",
       "<style scoped>\n",
       "    .dataframe tbody tr th:only-of-type {\n",
       "        vertical-align: middle;\n",
       "    }\n",
       "\n",
       "    .dataframe tbody tr th {\n",
       "        vertical-align: top;\n",
       "    }\n",
       "\n",
       "    .dataframe thead th {\n",
       "        text-align: right;\n",
       "    }\n",
       "</style>\n",
       "<table border=\"1\" class=\"dataframe\">\n",
       "  <thead>\n",
       "    <tr style=\"text-align: right;\">\n",
       "      <th></th>\n",
       "      <th>feature</th>\n",
       "      <th>importance</th>\n",
       "    </tr>\n",
       "  </thead>\n",
       "  <tbody>\n",
       "    <tr>\n",
       "      <td>0</td>\n",
       "      <td>age</td>\n",
       "      <td>0.292539</td>\n",
       "    </tr>\n",
       "    <tr>\n",
       "      <td>1</td>\n",
       "      <td>num_of_products</td>\n",
       "      <td>0.156360</td>\n",
       "    </tr>\n",
       "    <tr>\n",
       "      <td>2</td>\n",
       "      <td>balance</td>\n",
       "      <td>0.131744</td>\n",
       "    </tr>\n",
       "    <tr>\n",
       "      <td>3</td>\n",
       "      <td>estimated_salary</td>\n",
       "      <td>0.112099</td>\n",
       "    </tr>\n",
       "    <tr>\n",
       "      <td>4</td>\n",
       "      <td>credit_score</td>\n",
       "      <td>0.108950</td>\n",
       "    </tr>\n",
       "    <tr>\n",
       "      <td>5</td>\n",
       "      <td>tenure</td>\n",
       "      <td>0.062393</td>\n",
       "    </tr>\n",
       "    <tr>\n",
       "      <td>6</td>\n",
       "      <td>is_active_member</td>\n",
       "      <td>0.047477</td>\n",
       "    </tr>\n",
       "    <tr>\n",
       "      <td>7</td>\n",
       "      <td>geography_Germany</td>\n",
       "      <td>0.038789</td>\n",
       "    </tr>\n",
       "    <tr>\n",
       "      <td>8</td>\n",
       "      <td>gender_Male</td>\n",
       "      <td>0.021643</td>\n",
       "    </tr>\n",
       "    <tr>\n",
       "      <td>9</td>\n",
       "      <td>has_cr_card</td>\n",
       "      <td>0.014841</td>\n",
       "    </tr>\n",
       "    <tr>\n",
       "      <td>10</td>\n",
       "      <td>geography_Spain</td>\n",
       "      <td>0.013165</td>\n",
       "    </tr>\n",
       "  </tbody>\n",
       "</table>\n",
       "</div>"
      ],
      "text/plain": [
       "              feature  importance\n",
       "0                 age    0.292539\n",
       "1     num_of_products    0.156360\n",
       "2             balance    0.131744\n",
       "3    estimated_salary    0.112099\n",
       "4        credit_score    0.108950\n",
       "5              tenure    0.062393\n",
       "6    is_active_member    0.047477\n",
       "7   geography_Germany    0.038789\n",
       "8         gender_Male    0.021643\n",
       "9         has_cr_card    0.014841\n",
       "10    geography_Spain    0.013165"
      ]
     },
     "execution_count": 73,
     "metadata": {},
     "output_type": "execute_result"
    }
   ],
   "source": [
    "importances = random_forest_weight_balanced_model.feature_importances_  \n",
    "feature_list = list(features_train.columns) \n",
    "feature_results = pd.DataFrame({'feature': feature_list,'importance': importances})\n",
    "feature_results = feature_results.sort_values('importance',ascending = False).reset_index(drop=True)\n",
    "feature_results"
   ]
  },
  {
   "cell_type": "code",
   "execution_count": null,
   "metadata": {
    "id": "hACRvu4O7niZ",
    "outputId": "7554a662-0e00-4e93-cce1-f64715ef0f8c"
   },
   "outputs": [
    {
     "data": {
      "image/png": "[encoded data removed]",
      "text/plain": [
       "<Figure size 1080x648 with 1 Axes>"
      ]
     },
     "metadata": {
      "needs_background": "light"
     },
     "output_type": "display_data"
    }
   ],
   "source": [
    "feature_results.plot(x='feature', y='importance', kind='bar', figsize=(15,9), grid=True, title='Сравнение важности факторов')\n",
    "plt.xticks(rotation=15)\n",
    "plt.show()"
   ]
  }
 ],
 "metadata": {
  "ExecuteTimeLog": [
   {
    "duration": 3,
    "start_time": "2022-01-17T16:35:48.413Z"
   },
   {
    "duration": 3,
    "start_time": "2022-01-17T16:36:01.353Z"
   },
   {
    "duration": 8,
    "start_time": "2022-01-17T16:36:04.923Z"
   },
   {
    "duration": 3,
    "start_time": "2022-01-17T16:36:23.853Z"
   },
   {
    "duration": 3,
    "start_time": "2022-01-17T16:36:33.267Z"
   },
   {
    "duration": 9,
    "start_time": "2022-01-17T16:37:00.214Z"
   },
   {
    "duration": 4,
    "start_time": "2022-01-17T16:37:00.227Z"
   },
   {
    "duration": 8,
    "start_time": "2022-01-17T16:37:00.232Z"
   },
   {
    "duration": 7,
    "start_time": "2022-01-17T16:37:00.241Z"
   },
   {
    "duration": 7,
    "start_time": "2022-01-17T16:37:00.250Z"
   },
   {
    "duration": 3,
    "start_time": "2022-01-17T16:37:10.338Z"
   },
   {
    "duration": 1352,
    "start_time": "2022-01-17T21:26:48.692Z"
   },
   {
    "duration": 34,
    "start_time": "2022-01-17T21:27:47.141Z"
   },
   {
    "duration": 41,
    "start_time": "2022-01-17T21:27:51.148Z"
   },
   {
    "duration": 420,
    "start_time": "2022-01-17T21:32:50.953Z"
   },
   {
    "duration": 269,
    "start_time": "2022-01-17T21:32:54.606Z"
   },
   {
    "duration": 6,
    "start_time": "2022-01-17T21:32:58.743Z"
   },
   {
    "duration": 31,
    "start_time": "2022-01-17T21:33:03.762Z"
   },
   {
    "duration": 285,
    "start_time": "2022-01-17T21:34:25.019Z"
   },
   {
    "duration": 7,
    "start_time": "2022-01-17T21:34:31.937Z"
   },
   {
    "duration": 31,
    "start_time": "2022-01-17T21:34:33.515Z"
   },
   {
    "duration": 55,
    "start_time": "2022-01-17T21:35:45.672Z"
   },
   {
    "duration": 7,
    "start_time": "2022-01-17T21:36:03.598Z"
   },
   {
    "duration": 32,
    "start_time": "2022-01-17T21:36:04.949Z"
   },
   {
    "duration": 6,
    "start_time": "2022-01-17T21:36:08.909Z"
   },
   {
    "duration": 7,
    "start_time": "2022-01-17T21:36:10.080Z"
   },
   {
    "duration": 31,
    "start_time": "2022-01-17T21:36:11.491Z"
   },
   {
    "duration": 71,
    "start_time": "2022-01-17T21:36:42.208Z"
   },
   {
    "duration": 21,
    "start_time": "2022-01-17T21:36:43.601Z"
   },
   {
    "duration": 59,
    "start_time": "2022-01-17T21:36:51.927Z"
   },
   {
    "duration": 11,
    "start_time": "2022-01-17T21:37:03.091Z"
   },
   {
    "duration": 11,
    "start_time": "2022-01-17T21:37:11.897Z"
   },
   {
    "duration": 1343,
    "start_time": "2022-01-17T21:43:31.618Z"
   },
   {
    "duration": 33,
    "start_time": "2022-01-17T21:43:32.964Z"
   },
   {
    "duration": 41,
    "start_time": "2022-01-17T21:43:32.999Z"
   },
   {
    "duration": 81,
    "start_time": "2022-01-17T21:43:33.043Z"
   },
   {
    "duration": 12,
    "start_time": "2022-01-17T21:43:33.127Z"
   },
   {
    "duration": 12,
    "start_time": "2022-01-17T21:43:33.141Z"
   },
   {
    "duration": 8,
    "start_time": "2022-01-17T21:43:33.156Z"
   },
   {
    "duration": 58,
    "start_time": "2022-01-17T21:43:33.167Z"
   },
   {
    "duration": 32,
    "start_time": "2022-01-17T21:43:33.228Z"
   },
   {
    "duration": 431,
    "start_time": "2022-01-17T21:44:25.076Z"
   },
   {
    "duration": 36,
    "start_time": "2022-01-17T21:44:34.562Z"
   },
   {
    "duration": 13,
    "start_time": "2022-01-17T21:44:43.131Z"
   },
   {
    "duration": 10,
    "start_time": "2022-01-17T21:45:07.543Z"
   },
   {
    "duration": 10,
    "start_time": "2022-01-17T21:45:24.523Z"
   },
   {
    "duration": 6,
    "start_time": "2022-01-17T21:45:37.119Z"
   },
   {
    "duration": 62,
    "start_time": "2022-01-17T21:45:38.829Z"
   },
   {
    "duration": 31,
    "start_time": "2022-01-17T21:50:02.338Z"
   },
   {
    "duration": 23,
    "start_time": "2022-01-17T21:50:15.059Z"
   },
   {
    "duration": 98,
    "start_time": "2022-01-17T21:59:41.202Z"
   },
   {
    "duration": 97,
    "start_time": "2022-01-17T21:59:44.074Z"
   },
   {
    "duration": 306,
    "start_time": "2022-01-17T21:59:49.834Z"
   },
   {
    "duration": 361,
    "start_time": "2022-01-17T21:59:56.536Z"
   },
   {
    "duration": 9,
    "start_time": "2022-01-17T22:00:12.172Z"
   },
   {
    "duration": 7650,
    "start_time": "2022-01-17T22:02:14.826Z"
   },
   {
    "duration": 5,
    "start_time": "2022-01-17T22:02:25.950Z"
   },
   {
    "duration": 6,
    "start_time": "2022-01-17T22:03:09.747Z"
   },
   {
    "duration": 9,
    "start_time": "2022-01-17T22:03:19.719Z"
   },
   {
    "duration": 8,
    "start_time": "2022-01-17T22:07:10.533Z"
   },
   {
    "duration": 6,
    "start_time": "2022-01-17T22:07:42.156Z"
   },
   {
    "duration": 26,
    "start_time": "2022-01-17T22:07:44.361Z"
   },
   {
    "duration": 22,
    "start_time": "2022-01-17T22:08:11.627Z"
   },
   {
    "duration": 27,
    "start_time": "2022-01-17T22:08:13.687Z"
   },
   {
    "duration": 299,
    "start_time": "2022-01-17T22:08:51.915Z"
   },
   {
    "duration": 271,
    "start_time": "2022-01-17T22:09:16.236Z"
   },
   {
    "duration": 610,
    "start_time": "2022-01-17T22:09:45.412Z"
   },
   {
    "duration": 6,
    "start_time": "2022-01-17T22:09:56.219Z"
   },
   {
    "duration": 20,
    "start_time": "2022-01-17T22:10:01.291Z"
   },
   {
    "duration": 10,
    "start_time": "2022-01-17T23:00:57.142Z"
   },
   {
    "duration": 10,
    "start_time": "2022-01-17T23:03:24.263Z"
   },
   {
    "duration": 279,
    "start_time": "2022-01-17T23:03:33.668Z"
   },
   {
    "duration": 310,
    "start_time": "2022-01-17T23:04:31.716Z"
   },
   {
    "duration": 289,
    "start_time": "2022-01-17T23:06:22.686Z"
   },
   {
    "duration": 275,
    "start_time": "2022-01-17T23:06:29.465Z"
   },
   {
    "duration": 297,
    "start_time": "2022-01-17T23:06:32.981Z"
   },
   {
    "duration": 354,
    "start_time": "2022-01-17T23:06:39.137Z"
   },
   {
    "duration": 14,
    "start_time": "2022-01-17T23:06:55.157Z"
   },
   {
    "duration": 15,
    "start_time": "2022-01-17T23:07:00.266Z"
   },
   {
    "duration": 10,
    "start_time": "2022-01-17T23:07:05.441Z"
   },
   {
    "duration": 410,
    "start_time": "2022-01-17T23:07:12.490Z"
   },
   {
    "duration": 358,
    "start_time": "2022-01-17T23:07:23.470Z"
   },
   {
    "duration": 352,
    "start_time": "2022-01-17T23:07:54.072Z"
   },
   {
    "duration": 333,
    "start_time": "2022-01-17T23:07:59.968Z"
   },
   {
    "duration": 661,
    "start_time": "2022-01-17T23:08:44.042Z"
   },
   {
    "duration": 9,
    "start_time": "2022-01-17T23:09:21.415Z"
   },
   {
    "duration": 15,
    "start_time": "2022-01-17T23:09:37.248Z"
   },
   {
    "duration": 17,
    "start_time": "2022-01-17T23:09:38.474Z"
   },
   {
    "duration": 9,
    "start_time": "2022-01-17T23:09:40.511Z"
   },
   {
    "duration": 776,
    "start_time": "2022-01-17T23:09:43.204Z"
   },
   {
    "duration": 9,
    "start_time": "2022-01-17T23:10:03.609Z"
   },
   {
    "duration": 213,
    "start_time": "2022-01-17T23:10:05.430Z"
   },
   {
    "duration": 10,
    "start_time": "2022-01-17T23:10:47.606Z"
   },
   {
    "duration": 260,
    "start_time": "2022-01-17T23:10:49.285Z"
   },
   {
    "duration": 10,
    "start_time": "2022-01-17T23:12:11.168Z"
   },
   {
    "duration": 169,
    "start_time": "2022-01-17T23:12:19.162Z"
   },
   {
    "duration": 10,
    "start_time": "2022-01-17T23:12:34.903Z"
   },
   {
    "duration": 770,
    "start_time": "2022-01-17T23:12:37.140Z"
   },
   {
    "duration": 10,
    "start_time": "2022-01-17T23:12:59.107Z"
   },
   {
    "duration": 298,
    "start_time": "2022-01-17T23:13:01.325Z"
   },
   {
    "duration": 298,
    "start_time": "2022-01-17T23:14:18.103Z"
   },
   {
    "duration": 59,
    "start_time": "2022-01-17T23:14:43.528Z"
   },
   {
    "duration": 6,
    "start_time": "2022-01-17T23:14:55.838Z"
   },
   {
    "duration": 7,
    "start_time": "2022-01-17T23:15:02.853Z"
   },
   {
    "duration": 61,
    "start_time": "2022-01-17T23:16:02.339Z"
   },
   {
    "duration": 62,
    "start_time": "2022-01-17T23:16:37.927Z"
   },
   {
    "duration": 132,
    "start_time": "2022-01-17T23:17:49.696Z"
   },
   {
    "duration": 59,
    "start_time": "2022-01-17T23:17:51.631Z"
   },
   {
    "duration": 60,
    "start_time": "2022-01-17T23:18:56.445Z"
   },
   {
    "duration": 60,
    "start_time": "2022-01-17T23:19:02.246Z"
   },
   {
    "duration": 63,
    "start_time": "2022-01-17T23:19:07.258Z"
   },
   {
    "duration": 56,
    "start_time": "2022-01-17T23:19:10.258Z"
   },
   {
    "duration": 9,
    "start_time": "2022-01-17T23:19:56.440Z"
   },
   {
    "duration": 175,
    "start_time": "2022-01-17T23:19:58.556Z"
   },
   {
    "duration": 58,
    "start_time": "2022-01-17T23:20:07.831Z"
   },
   {
    "duration": 9,
    "start_time": "2022-01-17T23:20:15.556Z"
   },
   {
    "duration": 148,
    "start_time": "2022-01-17T23:20:18.879Z"
   },
   {
    "duration": 60,
    "start_time": "2022-01-17T23:20:20.605Z"
   },
   {
    "duration": 9,
    "start_time": "2022-01-17T23:20:46.487Z"
   },
   {
    "duration": 322,
    "start_time": "2022-01-17T23:20:48.304Z"
   },
   {
    "duration": 57,
    "start_time": "2022-01-17T23:20:50.370Z"
   },
   {
    "duration": 60,
    "start_time": "2022-01-17T23:21:08.626Z"
   },
   {
    "duration": 296,
    "start_time": "2022-01-17T23:22:01.187Z"
   },
   {
    "duration": 1509,
    "start_time": "2022-01-17T23:22:15.889Z"
   },
   {
    "duration": 1540,
    "start_time": "2022-01-17T23:22:30.813Z"
   },
   {
    "duration": 1364,
    "start_time": "2022-01-17T23:22:41.002Z"
   },
   {
    "duration": 1418,
    "start_time": "2022-01-17T23:22:49.135Z"
   },
   {
    "duration": 1472,
    "start_time": "2022-01-17T23:22:53.175Z"
   },
   {
    "duration": 1494,
    "start_time": "2022-01-17T23:22:58.895Z"
   },
   {
    "duration": 8,
    "start_time": "2022-01-17T23:24:16.184Z"
   },
   {
    "duration": 8,
    "start_time": "2022-01-17T23:24:39.017Z"
   },
   {
    "duration": 130,
    "start_time": "2022-01-17T23:25:40.195Z"
   },
   {
    "duration": 10,
    "start_time": "2022-01-17T23:26:13.147Z"
   },
   {
    "duration": 222,
    "start_time": "2022-01-17T23:26:15.503Z"
   },
   {
    "duration": 202,
    "start_time": "2022-01-17T23:26:21.236Z"
   },
   {
    "duration": 63,
    "start_time": "2022-01-17T23:26:42.183Z"
   },
   {
    "duration": 1670,
    "start_time": "2022-01-17T23:27:00.307Z"
   },
   {
    "duration": 4,
    "start_time": "2022-01-17T23:27:32.716Z"
   },
   {
    "duration": 3,
    "start_time": "2022-01-17T23:27:53.650Z"
   },
   {
    "duration": 10,
    "start_time": "2022-01-17T23:28:32.609Z"
   },
   {
    "duration": 202,
    "start_time": "2022-01-17T23:28:34.130Z"
   },
   {
    "duration": 62,
    "start_time": "2022-01-17T23:28:36.119Z"
   },
   {
    "duration": 10,
    "start_time": "2022-01-17T23:28:49.061Z"
   },
   {
    "duration": 196,
    "start_time": "2022-01-17T23:28:50.636Z"
   },
   {
    "duration": 9,
    "start_time": "2022-01-17T23:29:44.924Z"
   },
   {
    "duration": 169,
    "start_time": "2022-01-17T23:29:46.858Z"
   },
   {
    "duration": 144,
    "start_time": "2022-01-17T23:31:12.381Z"
   },
   {
    "duration": 10,
    "start_time": "2022-01-17T23:31:26.453Z"
   },
   {
    "duration": 194,
    "start_time": "2022-01-17T23:31:28.032Z"
   },
   {
    "duration": 60,
    "start_time": "2022-01-17T23:31:37.283Z"
   },
   {
    "duration": 1670,
    "start_time": "2022-01-17T23:31:39.237Z"
   },
   {
    "duration": 8,
    "start_time": "2022-01-17T23:31:54.402Z"
   },
   {
    "duration": 10,
    "start_time": "2022-01-17T23:34:22.015Z"
   },
   {
    "duration": 693,
    "start_time": "2022-01-17T23:34:23.812Z"
   },
   {
    "duration": 591,
    "start_time": "2022-01-17T23:35:09.383Z"
   },
   {
    "duration": 10,
    "start_time": "2022-01-17T23:35:11.823Z"
   },
   {
    "duration": 289,
    "start_time": "2022-01-17T23:35:13.235Z"
   },
   {
    "duration": 9,
    "start_time": "2022-01-17T23:37:37.317Z"
   },
   {
    "duration": 149,
    "start_time": "2022-01-17T23:37:39.175Z"
   },
   {
    "duration": 10,
    "start_time": "2022-01-17T23:38:17.375Z"
   },
   {
    "duration": 289,
    "start_time": "2022-01-17T23:38:19.436Z"
   },
   {
    "duration": 9,
    "start_time": "2022-01-17T23:40:06.287Z"
   },
   {
    "duration": 216,
    "start_time": "2022-01-17T23:40:07.813Z"
   },
   {
    "duration": 10,
    "start_time": "2022-01-17T23:41:11.440Z"
   },
   {
    "duration": 199,
    "start_time": "2022-01-17T23:41:13.328Z"
   },
   {
    "duration": 65,
    "start_time": "2022-01-17T23:41:20.728Z"
   },
   {
    "duration": 1701,
    "start_time": "2022-01-17T23:41:24.576Z"
   },
   {
    "duration": 8,
    "start_time": "2022-01-17T23:41:28.356Z"
   },
   {
    "duration": 11,
    "start_time": "2022-01-17T23:42:36.568Z"
   },
   {
    "duration": 11,
    "start_time": "2022-01-17T23:43:14.759Z"
   },
   {
    "duration": 279,
    "start_time": "2022-01-17T23:43:16.845Z"
   },
   {
    "duration": 60,
    "start_time": "2022-01-17T23:43:33.640Z"
   },
   {
    "duration": 8,
    "start_time": "2022-01-17T23:43:37.390Z"
   },
   {
    "duration": 10,
    "start_time": "2022-01-17T23:44:39.020Z"
   },
   {
    "duration": 641,
    "start_time": "2022-01-17T23:44:40.064Z"
   },
   {
    "duration": 11,
    "start_time": "2022-01-17T23:44:58.602Z"
   },
   {
    "duration": 245,
    "start_time": "2022-01-17T23:45:07.378Z"
   },
   {
    "duration": 8,
    "start_time": "2022-01-17T23:45:39.724Z"
   },
   {
    "duration": 6,
    "start_time": "2022-01-17T23:45:41.011Z"
   },
   {
    "duration": 280,
    "start_time": "2022-01-17T23:45:42.550Z"
   },
   {
    "duration": 58,
    "start_time": "2022-01-17T23:45:44.372Z"
   },
   {
    "duration": 1631,
    "start_time": "2022-01-17T23:45:46.013Z"
   },
   {
    "duration": 8,
    "start_time": "2022-01-17T23:45:48.946Z"
   },
   {
    "duration": 213,
    "start_time": "2022-01-17T23:46:09.415Z"
   },
   {
    "duration": 59,
    "start_time": "2022-01-17T23:46:11.206Z"
   },
   {
    "duration": 1652,
    "start_time": "2022-01-17T23:46:13.191Z"
   },
   {
    "duration": 11,
    "start_time": "2022-01-17T23:46:30.484Z"
   },
   {
    "duration": 5,
    "start_time": "2022-01-17T23:47:35.195Z"
   },
   {
    "duration": 246,
    "start_time": "2022-01-17T23:47:36.578Z"
   },
   {
    "duration": 62,
    "start_time": "2022-01-17T23:47:38.267Z"
   },
   {
    "duration": 1653,
    "start_time": "2022-01-17T23:47:41.050Z"
   },
   {
    "duration": 9,
    "start_time": "2022-01-17T23:47:44.003Z"
   },
   {
    "duration": 6,
    "start_time": "2022-01-17T23:48:31.034Z"
   },
   {
    "duration": 610,
    "start_time": "2022-01-17T23:48:33.096Z"
   },
   {
    "duration": 6,
    "start_time": "2022-01-17T23:48:42.275Z"
   },
   {
    "duration": 167,
    "start_time": "2022-01-17T23:48:43.961Z"
   },
   {
    "duration": 64,
    "start_time": "2022-01-17T23:48:46.002Z"
   },
   {
    "duration": 1672,
    "start_time": "2022-01-17T23:48:47.920Z"
   },
   {
    "duration": 9,
    "start_time": "2022-01-17T23:48:50.968Z"
   },
   {
    "duration": 5,
    "start_time": "2022-01-17T23:49:06.236Z"
   },
   {
    "duration": 256,
    "start_time": "2022-01-17T23:49:08.076Z"
   },
   {
    "duration": 64,
    "start_time": "2022-01-17T23:49:09.945Z"
   },
   {
    "duration": 1670,
    "start_time": "2022-01-17T23:49:11.569Z"
   },
   {
    "duration": 8,
    "start_time": "2022-01-17T23:49:14.430Z"
   },
   {
    "duration": 7,
    "start_time": "2022-01-17T23:50:11.535Z"
   },
   {
    "duration": 6,
    "start_time": "2022-01-17T23:50:12.947Z"
   },
   {
    "duration": 190,
    "start_time": "2022-01-17T23:50:14.847Z"
   },
   {
    "duration": 66,
    "start_time": "2022-01-17T23:50:18.747Z"
   },
   {
    "duration": 8,
    "start_time": "2022-01-17T23:52:39.443Z"
   },
   {
    "duration": 6,
    "start_time": "2022-01-17T23:52:42.190Z"
   },
   {
    "duration": 214,
    "start_time": "2022-01-17T23:53:33.412Z"
   },
   {
    "duration": 191,
    "start_time": "2022-01-17T23:54:15.338Z"
   },
   {
    "duration": 8,
    "start_time": "2022-01-17T23:54:21.852Z"
   },
   {
    "duration": 55,
    "start_time": "2022-01-17T23:54:30.738Z"
   },
   {
    "duration": 9,
    "start_time": "2022-01-17T23:54:32.924Z"
   },
   {
    "duration": 6,
    "start_time": "2022-01-17T23:54:53.316Z"
   },
   {
    "duration": 236,
    "start_time": "2022-01-17T23:54:55.195Z"
   },
   {
    "duration": 56,
    "start_time": "2022-01-17T23:55:02.686Z"
   },
   {
    "duration": 58,
    "start_time": "2022-01-17T23:55:09.329Z"
   },
   {
    "duration": 1675,
    "start_time": "2022-01-17T23:55:16.831Z"
   },
   {
    "duration": 10,
    "start_time": "2022-01-17T23:55:19.044Z"
   },
   {
    "duration": 1425,
    "start_time": "2022-01-17T23:55:30.113Z"
   },
   {
    "duration": 36,
    "start_time": "2022-01-17T23:55:31.541Z"
   },
   {
    "duration": 44,
    "start_time": "2022-01-17T23:55:31.581Z"
   },
   {
    "duration": 57,
    "start_time": "2022-01-17T23:55:31.629Z"
   },
   {
    "duration": 45,
    "start_time": "2022-01-17T23:55:31.689Z"
   },
   {
    "duration": 13,
    "start_time": "2022-01-17T23:55:31.737Z"
   },
   {
    "duration": 8,
    "start_time": "2022-01-17T23:55:31.753Z"
   },
   {
    "duration": 62,
    "start_time": "2022-01-17T23:55:31.767Z"
   },
   {
    "duration": 30,
    "start_time": "2022-01-17T23:55:31.833Z"
   },
   {
    "duration": 10,
    "start_time": "2022-01-17T23:55:31.867Z"
   },
   {
    "duration": 47,
    "start_time": "2022-01-17T23:55:31.879Z"
   },
   {
    "duration": 8,
    "start_time": "2022-01-17T23:55:31.930Z"
   },
   {
    "duration": 11,
    "start_time": "2022-01-17T23:55:31.941Z"
   },
   {
    "duration": 7,
    "start_time": "2022-01-17T23:55:31.955Z"
   },
   {
    "duration": 78,
    "start_time": "2022-01-17T23:55:31.964Z"
   },
   {
    "duration": 19,
    "start_time": "2022-01-17T23:55:32.045Z"
   },
   {
    "duration": 67,
    "start_time": "2022-01-17T23:55:32.067Z"
   },
   {
    "duration": 23,
    "start_time": "2022-01-17T23:55:32.136Z"
   },
   {
    "duration": 26,
    "start_time": "2022-01-17T23:55:32.162Z"
   },
   {
    "duration": 35,
    "start_time": "2022-01-17T23:55:32.190Z"
   },
   {
    "duration": 7,
    "start_time": "2022-01-17T23:55:32.228Z"
   },
   {
    "duration": 22,
    "start_time": "2022-01-17T23:55:32.237Z"
   },
   {
    "duration": 172,
    "start_time": "2022-01-17T23:55:32.263Z"
   },
   {
    "duration": 3,
    "start_time": "2022-01-17T23:55:32.524Z"
   },
   {
    "duration": 586,
    "start_time": "2022-01-17T23:55:32.529Z"
   },
   {
    "duration": 911,
    "start_time": "2022-01-17T23:55:32.207Z"
   },
   {
    "duration": 909,
    "start_time": "2022-01-17T23:55:32.210Z"
   },
   {
    "duration": 901,
    "start_time": "2022-01-17T23:55:32.219Z"
   },
   {
    "duration": 7,
    "start_time": "2022-01-17T23:56:19.611Z"
   },
   {
    "duration": 53,
    "start_time": "2022-01-17T23:56:24.058Z"
   },
   {
    "duration": 1630,
    "start_time": "2022-01-17T23:56:26.324Z"
   },
   {
    "duration": 9,
    "start_time": "2022-01-17T23:56:29.695Z"
   },
   {
    "duration": 348,
    "start_time": "2022-01-17T23:56:50.895Z"
   },
   {
    "duration": 13,
    "start_time": "2022-01-18T00:00:32.154Z"
   },
   {
    "duration": 13,
    "start_time": "2022-01-18T00:01:00.796Z"
   },
   {
    "duration": 16,
    "start_time": "2022-01-18T00:01:42.101Z"
   },
   {
    "duration": 307,
    "start_time": "2022-01-18T00:02:01.294Z"
   },
   {
    "duration": 1160,
    "start_time": "2022-01-18T00:02:06.391Z"
   },
   {
    "duration": 15,
    "start_time": "2022-01-18T00:02:31.493Z"
   },
   {
    "duration": 1144,
    "start_time": "2022-01-18T00:03:04.055Z"
   },
   {
    "duration": 200079,
    "start_time": "2022-01-18T00:03:23.031Z"
   },
   {
    "duration": 199965,
    "start_time": "2022-01-18T00:07:20.547Z"
   },
   {
    "duration": 199988,
    "start_time": "2022-01-18T00:11:04.917Z"
   },
   {
    "duration": 92566,
    "start_time": "2022-01-18T00:17:39.361Z"
   },
   {
    "duration": 4532,
    "start_time": "2022-01-18T00:19:33.602Z"
   },
   {
    "duration": 37157,
    "start_time": "2022-01-18T00:19:43.368Z"
   },
   {
    "duration": 914,
    "start_time": "2022-01-18T00:20:19.614Z"
   },
   {
    "duration": 45232,
    "start_time": "2022-01-18T00:20:48.712Z"
   },
   {
    "duration": 906,
    "start_time": "2022-01-18T00:21:33.041Z"
   },
   {
    "duration": 360,
    "start_time": "2022-01-18T09:17:35.440Z"
   },
   {
    "duration": 1469,
    "start_time": "2022-01-18T09:17:45.879Z"
   },
   {
    "duration": 33,
    "start_time": "2022-01-18T09:17:47.350Z"
   },
   {
    "duration": 23,
    "start_time": "2022-01-18T09:17:47.386Z"
   },
   {
    "duration": 53,
    "start_time": "2022-01-18T09:17:47.424Z"
   },
   {
    "duration": 11,
    "start_time": "2022-01-18T09:17:47.479Z"
   },
   {
    "duration": 34,
    "start_time": "2022-01-18T09:17:47.492Z"
   },
   {
    "duration": 7,
    "start_time": "2022-01-18T09:17:47.529Z"
   },
   {
    "duration": 6,
    "start_time": "2022-01-18T09:17:47.540Z"
   },
   {
    "duration": 28,
    "start_time": "2022-01-18T09:17:47.549Z"
   },
   {
    "duration": 45,
    "start_time": "2022-01-18T09:17:47.579Z"
   },
   {
    "duration": 4,
    "start_time": "2022-01-18T09:17:47.627Z"
   },
   {
    "duration": 10,
    "start_time": "2022-01-18T09:17:47.633Z"
   },
   {
    "duration": 10,
    "start_time": "2022-01-18T09:17:47.645Z"
   },
   {
    "duration": 5,
    "start_time": "2022-01-18T09:17:47.658Z"
   },
   {
    "duration": 66,
    "start_time": "2022-01-18T09:17:47.665Z"
   },
   {
    "duration": 18,
    "start_time": "2022-01-18T09:17:47.734Z"
   },
   {
    "duration": 20,
    "start_time": "2022-01-18T09:17:47.754Z"
   },
   {
    "duration": 50,
    "start_time": "2022-01-18T09:17:47.777Z"
   },
   {
    "duration": 6,
    "start_time": "2022-01-18T09:17:47.829Z"
   },
   {
    "duration": 17,
    "start_time": "2022-01-18T09:17:47.838Z"
   },
   {
    "duration": 11,
    "start_time": "2022-01-18T09:17:47.857Z"
   },
   {
    "duration": 12,
    "start_time": "2022-01-18T09:17:47.870Z"
   },
   {
    "duration": 45,
    "start_time": "2022-01-18T09:17:47.887Z"
   },
   {
    "duration": 7,
    "start_time": "2022-01-18T09:17:47.935Z"
   },
   {
    "duration": 5,
    "start_time": "2022-01-18T09:17:47.945Z"
   },
   {
    "duration": 176,
    "start_time": "2022-01-18T09:17:47.952Z"
   },
   {
    "duration": 28865,
    "start_time": "2022-01-18T09:17:48.131Z"
   },
   {
    "duration": 1582,
    "start_time": "2022-01-18T09:18:15.416Z"
   },
   {
    "duration": 1579,
    "start_time": "2022-01-18T09:18:15.421Z"
   },
   {
    "duration": 1578,
    "start_time": "2022-01-18T09:18:15.424Z"
   },
   {
    "duration": 1575,
    "start_time": "2022-01-18T09:18:15.428Z"
   },
   {
    "duration": 1574,
    "start_time": "2022-01-18T09:18:15.431Z"
   },
   {
    "duration": 1573,
    "start_time": "2022-01-18T09:18:15.433Z"
   },
   {
    "duration": 1570,
    "start_time": "2022-01-18T09:18:15.438Z"
   },
   {
    "duration": 1568,
    "start_time": "2022-01-18T09:18:15.441Z"
   },
   {
    "duration": 1568,
    "start_time": "2022-01-18T09:18:15.445Z"
   },
   {
    "duration": 6,
    "start_time": "2022-01-18T09:18:23.427Z"
   },
   {
    "duration": 11,
    "start_time": "2022-01-18T09:22:01.574Z"
   },
   {
    "duration": 8,
    "start_time": "2022-01-18T09:23:24.218Z"
   },
   {
    "duration": 1545,
    "start_time": "2022-01-18T09:23:55.421Z"
   },
   {
    "duration": 35,
    "start_time": "2022-01-18T09:23:56.969Z"
   },
   {
    "duration": 30,
    "start_time": "2022-01-18T09:23:57.008Z"
   },
   {
    "duration": 58,
    "start_time": "2022-01-18T09:23:57.041Z"
   },
   {
    "duration": 32,
    "start_time": "2022-01-18T09:23:57.101Z"
   },
   {
    "duration": 12,
    "start_time": "2022-01-18T09:23:57.136Z"
   },
   {
    "duration": 8,
    "start_time": "2022-01-18T09:23:57.150Z"
   },
   {
    "duration": 7,
    "start_time": "2022-01-18T09:23:57.161Z"
   },
   {
    "duration": 66,
    "start_time": "2022-01-18T09:23:57.171Z"
   },
   {
    "duration": 12,
    "start_time": "2022-01-18T09:23:57.240Z"
   },
   {
    "duration": 20,
    "start_time": "2022-01-18T09:23:57.255Z"
   },
   {
    "duration": 13,
    "start_time": "2022-01-18T09:23:57.277Z"
   },
   {
    "duration": 14,
    "start_time": "2022-01-18T09:23:57.292Z"
   },
   {
    "duration": 5,
    "start_time": "2022-01-18T09:23:57.324Z"
   },
   {
    "duration": 29,
    "start_time": "2022-01-18T09:23:57.332Z"
   },
   {
    "duration": 19,
    "start_time": "2022-01-18T09:23:57.364Z"
   },
   {
    "duration": 49,
    "start_time": "2022-01-18T09:23:57.385Z"
   },
   {
    "duration": 25,
    "start_time": "2022-01-18T09:23:57.436Z"
   },
   {
    "duration": 6,
    "start_time": "2022-01-18T09:23:57.464Z"
   },
   {
    "duration": 13,
    "start_time": "2022-01-18T09:23:57.472Z"
   },
   {
    "duration": 40,
    "start_time": "2022-01-18T09:23:57.487Z"
   },
   {
    "duration": 8,
    "start_time": "2022-01-18T09:23:57.529Z"
   },
   {
    "duration": 5,
    "start_time": "2022-01-18T09:23:57.542Z"
   },
   {
    "duration": 182,
    "start_time": "2022-01-18T09:23:57.550Z"
   },
   {
    "duration": 499,
    "start_time": "2022-01-18T09:23:57.825Z"
   },
   {
    "duration": 1597,
    "start_time": "2022-01-18T09:23:56.730Z"
   },
   {
    "duration": 1577,
    "start_time": "2022-01-18T09:23:56.751Z"
   },
   {
    "duration": 1568,
    "start_time": "2022-01-18T09:23:56.761Z"
   },
   {
    "duration": 1563,
    "start_time": "2022-01-18T09:23:56.767Z"
   },
   {
    "duration": 1561,
    "start_time": "2022-01-18T09:23:56.771Z"
   },
   {
    "duration": 1559,
    "start_time": "2022-01-18T09:23:56.774Z"
   },
   {
    "duration": 1557,
    "start_time": "2022-01-18T09:23:56.777Z"
   },
   {
    "duration": 1554,
    "start_time": "2022-01-18T09:23:56.781Z"
   },
   {
    "duration": 93,
    "start_time": "2022-01-18T09:24:40.883Z"
   },
   {
    "duration": 347,
    "start_time": "2022-01-18T09:28:02.001Z"
   },
   {
    "duration": 245,
    "start_time": "2022-01-18T09:29:20.979Z"
   },
   {
    "duration": 468868,
    "start_time": "2022-01-18T09:29:44.781Z"
   },
   {
    "duration": 15163,
    "start_time": "2022-01-18T09:37:33.651Z"
   },
   {
    "duration": 15197,
    "start_time": "2022-01-18T09:37:58.390Z"
   },
   {
    "duration": 3971332,
    "start_time": "2022-01-18T09:39:09.033Z"
   },
   {
    "duration": 19655664,
    "start_time": "2022-01-18T10:45:57.774Z"
   },
   {
    "duration": 91,
    "start_time": "2022-01-18T16:13:33.441Z"
   },
   {
    "duration": 15885,
    "start_time": "2022-01-18T16:17:32.599Z"
   },
   {
    "duration": 1312857,
    "start_time": "2022-01-18T16:17:58.136Z"
   },
   {
    "duration": 86331477,
    "start_time": "2022-01-18T16:42:24.261Z"
   },
   {
    "duration": 5,
    "start_time": "2022-01-19T17:06:15.655Z"
   },
   {
    "duration": 10,
    "start_time": "2022-01-19T19:23:37.905Z"
   },
   {
    "duration": 15989,
    "start_time": "2022-01-19T19:23:50.861Z"
   },
   {
    "duration": 13,
    "start_time": "2022-01-19T19:24:11.289Z"
   },
   {
    "duration": 17219,
    "start_time": "2022-01-19T19:24:42.147Z"
   },
   {
    "duration": 10,
    "start_time": "2022-01-19T19:25:13.635Z"
   },
   {
    "duration": 521,
    "start_time": "2022-01-19T19:27:53.028Z"
   },
   {
    "duration": 202,
    "start_time": "2022-01-19T19:28:02.833Z"
   },
   {
    "duration": 211,
    "start_time": "2022-01-19T19:29:42.608Z"
   },
   {
    "duration": 50,
    "start_time": "2022-01-19T19:30:02.363Z"
   },
   {
    "duration": 2121,
    "start_time": "2022-01-19T19:31:41.191Z"
   },
   {
    "duration": 8,
    "start_time": "2022-01-19T19:31:53.978Z"
   },
   {
    "duration": 116,
    "start_time": "2022-01-19T19:31:56.909Z"
   },
   {
    "duration": 40,
    "start_time": "2022-01-19T19:31:59.565Z"
   },
   {
    "duration": 2178,
    "start_time": "2022-01-19T19:32:02.380Z"
   },
   {
    "duration": 10,
    "start_time": "2022-01-19T19:32:06.111Z"
   },
   {
    "duration": 6,
    "start_time": "2022-01-19T19:32:46.657Z"
   },
   {
    "duration": 142,
    "start_time": "2022-01-19T19:32:49.181Z"
   },
   {
    "duration": 37,
    "start_time": "2022-01-19T19:32:51.446Z"
   },
   {
    "duration": 2176,
    "start_time": "2022-01-19T19:32:53.832Z"
   },
   {
    "duration": 11,
    "start_time": "2022-01-19T19:32:59.492Z"
   },
   {
    "duration": 6,
    "start_time": "2022-01-19T19:33:10.669Z"
   },
   {
    "duration": 9,
    "start_time": "2022-01-19T19:33:22.783Z"
   },
   {
    "duration": 7,
    "start_time": "2022-01-19T19:34:18.011Z"
   },
   {
    "duration": 7402,
    "start_time": "2022-01-19T19:34:37.848Z"
   },
   {
    "duration": 198975,
    "start_time": "2022-01-19T19:34:58.051Z"
   },
   {
    "duration": 15872,
    "start_time": "2022-01-19T19:39:05.729Z"
   },
   {
    "duration": 51004885,
    "start_time": "2022-01-19T19:39:31.721Z"
   },
   {
    "duration": 92479,
    "start_time": "2022-01-20T09:51:26.553Z"
   },
   {
    "duration": 5,
    "start_time": "2022-01-20T09:54:56.496Z"
   },
   {
    "duration": 235207,
    "start_time": "2022-01-20T09:56:29.244Z"
   },
   {
    "duration": 105,
    "start_time": "2022-01-20T10:03:24.942Z"
   },
   {
    "duration": 135958,
    "start_time": "2022-01-20T10:03:31.531Z"
   },
   {
    "duration": 7,
    "start_time": "2022-01-20T10:06:14.200Z"
   },
   {
    "duration": 237191,
    "start_time": "2022-01-20T10:07:31.264Z"
   },
   {
    "duration": 19569,
    "start_time": "2022-01-20T10:15:41.495Z"
   },
   {
    "duration": 15195,
    "start_time": "2022-01-20T10:16:57.972Z"
   },
   {
    "duration": 555585,
    "start_time": "2022-01-20T10:17:21.832Z"
   },
   {
    "duration": 11890161,
    "start_time": "2022-01-20T10:29:09.571Z"
   },
   {
    "duration": 9,
    "start_time": "2022-01-20T13:59:11.009Z"
   },
   {
    "duration": 459,
    "start_time": "2022-01-20T13:59:16.135Z"
   },
   {
    "duration": 475,
    "start_time": "2022-01-20T13:59:34.166Z"
   },
   {
    "duration": 1197,
    "start_time": "2022-01-20T14:06:06.812Z"
   },
   {
    "duration": 112530,
    "start_time": "2022-01-20T14:06:19.507Z"
   },
   {
    "duration": 51654,
    "start_time": "2022-01-20T14:08:30.388Z"
   },
   {
    "duration": 39789,
    "start_time": "2022-01-20T14:10:26.451Z"
   },
   {
    "duration": 19983,
    "start_time": "2022-01-20T14:11:35.443Z"
   },
   {
    "duration": 15332,
    "start_time": "2022-01-20T14:12:08.495Z"
   },
   {
    "duration": 7,
    "start_time": "2022-01-20T14:13:13.380Z"
   },
   {
    "duration": 6,
    "start_time": "2022-01-20T14:13:15.880Z"
   },
   {
    "duration": 27,
    "start_time": "2022-01-20T14:13:17.492Z"
   },
   {
    "duration": 8,
    "start_time": "2022-01-20T14:13:19.744Z"
   },
   {
    "duration": 200151,
    "start_time": "2022-01-20T14:13:29.872Z"
   },
   {
    "duration": 20175,
    "start_time": "2022-01-20T14:19:58.210Z"
   },
   {
    "duration": 5043,
    "start_time": "2022-01-20T14:27:35.301Z"
   },
   {
    "duration": 20570,
    "start_time": "2022-01-20T14:27:57.456Z"
   },
   {
    "duration": 1322,
    "start_time": "2022-01-20T14:28:32.519Z"
   },
   {
    "duration": 72859,
    "start_time": "2022-01-20T14:28:42.011Z"
   },
   {
    "duration": 324,
    "start_time": "2022-01-20T14:30:59.045Z"
   },
   {
    "duration": 315930,
    "start_time": "2022-01-20T14:31:07.620Z"
   },
   {
    "duration": 231872,
    "start_time": "2022-01-20T14:36:41.015Z"
   },
   {
    "duration": 55543,
    "start_time": "2022-01-20T14:41:50.085Z"
   },
   {
    "duration": 5831,
    "start_time": "2022-01-20T14:43:19.176Z"
   },
   {
    "duration": 32685,
    "start_time": "2022-01-20T14:51:00.581Z"
   },
   {
    "duration": 9,
    "start_time": "2022-01-20T14:51:33.271Z"
   },
   {
    "duration": 1916035,
    "start_time": "2022-01-20T14:51:35.590Z"
   },
   {
    "duration": 4849826,
    "start_time": "2022-01-20T15:24:57.693Z"
   },
   {
    "duration": 32845,
    "start_time": "2022-01-20T16:50:07.624Z"
   },
   {
    "duration": 11589,
    "start_time": "2022-01-20T16:50:57.732Z"
   },
   {
    "duration": 787516,
    "start_time": "2022-01-20T16:51:20.313Z"
   },
   {
    "duration": 182159,
    "start_time": "2022-01-20T17:06:56.656Z"
   },
   {
    "duration": 2929569,
    "start_time": "2022-01-20T17:10:34.168Z"
   },
   {
    "duration": 2385290,
    "start_time": "2022-01-20T18:00:06.224Z"
   },
   {
    "duration": 6,
    "start_time": "2022-01-20T18:41:53.059Z"
   },
   {
    "duration": 6,
    "start_time": "2022-01-20T18:42:16.928Z"
   },
   {
    "duration": 7,
    "start_time": "2022-01-20T18:42:32.826Z"
   },
   {
    "duration": 11686,
    "start_time": "2022-01-20T18:42:51.558Z"
   },
   {
    "duration": 4723,
    "start_time": "2022-01-20T18:43:50.664Z"
   },
   {
    "duration": 6,
    "start_time": "2022-01-20T18:43:59.342Z"
   },
   {
    "duration": 9,
    "start_time": "2022-01-20T18:46:17.184Z"
   },
   {
    "duration": 6,
    "start_time": "2022-01-20T18:48:27.021Z"
   },
   {
    "duration": 14,
    "start_time": "2022-01-20T18:48:28.828Z"
   },
   {
    "duration": 5574,
    "start_time": "2022-01-20T18:48:40.866Z"
   },
   {
    "duration": 198476,
    "start_time": "2022-01-20T18:49:32.950Z"
   },
   {
    "duration": 9,
    "start_time": "2022-01-20T18:54:18.729Z"
   },
   {
    "duration": 8,
    "start_time": "2022-01-20T18:54:23.886Z"
   },
   {
    "duration": 5,
    "start_time": "2022-01-20T18:54:25.589Z"
   },
   {
    "duration": 138,
    "start_time": "2022-01-20T18:55:12.689Z"
   },
   {
    "duration": 36,
    "start_time": "2022-01-20T18:55:16.294Z"
   },
   {
    "duration": 2219,
    "start_time": "2022-01-20T18:55:18.891Z"
   },
   {
    "duration": 10,
    "start_time": "2022-01-20T18:55:25.368Z"
   },
   {
    "duration": 564,
    "start_time": "2022-01-20T18:55:27.591Z"
   },
   {
    "duration": 106,
    "start_time": "2022-01-20T18:57:47.220Z"
   },
   {
    "duration": 2594,
    "start_time": "2022-01-20T18:57:55.155Z"
   },
   {
    "duration": 12,
    "start_time": "2022-01-20T18:58:26.318Z"
   },
   {
    "duration": 2542,
    "start_time": "2022-01-20T18:58:33.585Z"
   },
   {
    "duration": 2290,
    "start_time": "2022-01-20T18:58:42.802Z"
   },
   {
    "duration": 2318,
    "start_time": "2022-01-20T18:59:00.293Z"
   },
   {
    "duration": 7,
    "start_time": "2022-01-20T18:59:09.839Z"
   },
   {
    "duration": 181,
    "start_time": "2022-01-20T19:00:34.241Z"
   },
   {
    "duration": 15911,
    "start_time": "2022-01-20T19:00:58.358Z"
   },
   {
    "duration": 9128,
    "start_time": "2022-01-20T19:05:26.997Z"
   },
   {
    "duration": 9,
    "start_time": "2022-01-20T19:05:39.944Z"
   },
   {
    "duration": 466,
    "start_time": "2022-01-20T19:05:51.499Z"
   },
   {
    "duration": 6,
    "start_time": "2022-01-20T19:06:04.792Z"
   },
   {
    "duration": 20,
    "start_time": "2022-01-20T19:06:06.806Z"
   },
   {
    "duration": 8,
    "start_time": "2022-01-20T19:06:08.772Z"
   },
   {
    "duration": 62,
    "start_time": "2022-01-20T19:07:16.468Z"
   },
   {
    "duration": 7,
    "start_time": "2022-01-20T19:07:40.513Z"
   },
   {
    "duration": 63,
    "start_time": "2022-01-20T19:07:45.464Z"
   },
   {
    "duration": 21650,
    "start_time": "2022-01-20T19:07:50.549Z"
   },
   {
    "duration": 13602,
    "start_time": "2022-01-20T19:08:26.400Z"
   },
   {
    "duration": 9,
    "start_time": "2022-01-20T19:08:42.428Z"
   },
   {
    "duration": 433,
    "start_time": "2022-01-20T19:08:52.728Z"
   },
   {
    "duration": 5,
    "start_time": "2022-01-20T19:09:01.282Z"
   },
   {
    "duration": 24,
    "start_time": "2022-01-20T19:09:03.163Z"
   },
   {
    "duration": 35,
    "start_time": "2022-01-20T19:09:05.013Z"
   },
   {
    "duration": 5,
    "start_time": "2022-01-20T19:09:21.795Z"
   },
   {
    "duration": 13,
    "start_time": "2022-01-20T19:09:23.244Z"
   },
   {
    "duration": 8,
    "start_time": "2022-01-20T19:09:24.935Z"
   },
   {
    "duration": 5,
    "start_time": "2022-01-20T19:09:28.973Z"
   },
   {
    "duration": 21,
    "start_time": "2022-01-20T19:09:31.606Z"
   },
   {
    "duration": 8,
    "start_time": "2022-01-20T19:09:35.651Z"
   },
   {
    "duration": 1547,
    "start_time": "2022-01-20T19:10:12.694Z"
   },
   {
    "duration": 33,
    "start_time": "2022-01-20T19:10:14.243Z"
   },
   {
    "duration": 23,
    "start_time": "2022-01-20T19:10:14.283Z"
   },
   {
    "duration": 54,
    "start_time": "2022-01-20T19:10:14.323Z"
   },
   {
    "duration": 42,
    "start_time": "2022-01-20T19:10:14.380Z"
   },
   {
    "duration": 15,
    "start_time": "2022-01-20T19:10:14.425Z"
   },
   {
    "duration": 7,
    "start_time": "2022-01-20T19:10:14.443Z"
   },
   {
    "duration": 8,
    "start_time": "2022-01-20T19:10:14.452Z"
   },
   {
    "duration": 71,
    "start_time": "2022-01-20T19:10:14.462Z"
   },
   {
    "duration": 13,
    "start_time": "2022-01-20T19:10:14.535Z"
   },
   {
    "duration": 4,
    "start_time": "2022-01-20T19:10:14.550Z"
   },
   {
    "duration": 17,
    "start_time": "2022-01-20T19:10:14.557Z"
   },
   {
    "duration": 13,
    "start_time": "2022-01-20T19:10:14.576Z"
   },
   {
    "duration": 31,
    "start_time": "2022-01-20T19:10:14.592Z"
   },
   {
    "duration": 26,
    "start_time": "2022-01-20T19:10:14.625Z"
   },
   {
    "duration": 24,
    "start_time": "2022-01-20T19:10:14.653Z"
   },
   {
    "duration": 44,
    "start_time": "2022-01-20T19:10:14.679Z"
   },
   {
    "duration": 23,
    "start_time": "2022-01-20T19:10:14.725Z"
   },
   {
    "duration": 6,
    "start_time": "2022-01-20T19:10:14.750Z"
   },
   {
    "duration": 13,
    "start_time": "2022-01-20T19:10:14.758Z"
   },
   {
    "duration": 7,
    "start_time": "2022-01-20T19:10:14.773Z"
   },
   {
    "duration": 7,
    "start_time": "2022-01-20T19:10:14.823Z"
   },
   {
    "duration": 5,
    "start_time": "2022-01-20T19:10:14.834Z"
   },
   {
    "duration": 5,
    "start_time": "2022-01-20T19:10:14.842Z"
   },
   {
    "duration": 176,
    "start_time": "2022-01-20T19:10:14.849Z"
   },
   {
    "duration": 95,
    "start_time": "2022-01-20T19:10:15.028Z"
   },
   {
    "duration": 365,
    "start_time": "2022-01-20T19:10:15.126Z"
   },
   {
    "duration": 4,
    "start_time": "2022-01-20T19:10:15.493Z"
   },
   {
    "duration": 2681,
    "start_time": "2022-01-20T19:10:15.499Z"
   },
   {
    "duration": 9,
    "start_time": "2022-01-20T19:10:18.182Z"
   },
   {
    "duration": 414,
    "start_time": "2022-01-20T19:10:18.193Z"
   },
   {
    "duration": 14,
    "start_time": "2022-01-20T19:10:18.609Z"
   },
   {
    "duration": 199,
    "start_time": "2022-01-20T19:10:18.625Z"
   },
   {
    "duration": 4,
    "start_time": "2022-01-20T19:10:18.827Z"
   },
   {
    "duration": 11,
    "start_time": "2022-01-20T19:10:18.833Z"
   },
   {
    "duration": 15704,
    "start_time": "2022-01-20T19:10:18.847Z"
   },
   {
    "duration": 4,
    "start_time": "2022-01-20T19:10:34.553Z"
   },
   {
    "duration": 7,
    "start_time": "2022-01-20T19:10:34.559Z"
   },
   {
    "duration": 1451,
    "start_time": "2022-01-20T19:10:44.387Z"
   },
   {
    "duration": 31,
    "start_time": "2022-01-20T19:10:45.840Z"
   },
   {
    "duration": 23,
    "start_time": "2022-01-20T19:10:45.874Z"
   },
   {
    "duration": 69,
    "start_time": "2022-01-20T19:10:45.900Z"
   },
   {
    "duration": 11,
    "start_time": "2022-01-20T19:10:45.971Z"
   },
   {
    "duration": 12,
    "start_time": "2022-01-20T19:10:45.984Z"
   },
   {
    "duration": 9,
    "start_time": "2022-01-20T19:10:46.024Z"
   },
   {
    "duration": 7,
    "start_time": "2022-01-20T19:10:46.038Z"
   },
   {
    "duration": 27,
    "start_time": "2022-01-20T19:10:46.049Z"
   },
   {
    "duration": 7,
    "start_time": "2022-01-20T19:10:46.078Z"
   },
   {
    "duration": 4,
    "start_time": "2022-01-20T19:10:46.124Z"
   },
   {
    "duration": 8,
    "start_time": "2022-01-20T19:10:46.130Z"
   },
   {
    "duration": 8,
    "start_time": "2022-01-20T19:10:46.141Z"
   },
   {
    "duration": 5,
    "start_time": "2022-01-20T19:10:46.152Z"
   },
   {
    "duration": 65,
    "start_time": "2022-01-20T19:10:46.159Z"
   },
   {
    "duration": 18,
    "start_time": "2022-01-20T19:10:46.227Z"
   },
   {
    "duration": 20,
    "start_time": "2022-01-20T19:10:46.247Z"
   },
   {
    "duration": 23,
    "start_time": "2022-01-20T19:10:46.269Z"
   },
   {
    "duration": 6,
    "start_time": "2022-01-20T19:10:46.322Z"
   },
   {
    "duration": 20,
    "start_time": "2022-01-20T19:10:46.330Z"
   },
   {
    "duration": 12,
    "start_time": "2022-01-20T19:10:46.352Z"
   },
   {
    "duration": 6,
    "start_time": "2022-01-20T19:10:46.366Z"
   },
   {
    "duration": 14,
    "start_time": "2022-01-20T19:10:46.377Z"
   },
   {
    "duration": 29,
    "start_time": "2022-01-20T19:10:46.394Z"
   },
   {
    "duration": 197,
    "start_time": "2022-01-20T19:10:46.426Z"
   },
   {
    "duration": 3,
    "start_time": "2022-01-20T19:10:46.626Z"
   },
   {
    "duration": 368,
    "start_time": "2022-01-20T19:10:46.631Z"
   },
   {
    "duration": 4,
    "start_time": "2022-01-20T19:10:47.001Z"
   },
   {
    "duration": 2524,
    "start_time": "2022-01-20T19:10:47.007Z"
   },
   {
    "duration": 8,
    "start_time": "2022-01-20T19:10:49.533Z"
   },
   {
    "duration": 463,
    "start_time": "2022-01-20T19:10:49.544Z"
   },
   {
    "duration": 14,
    "start_time": "2022-01-20T19:10:50.009Z"
   },
   {
    "duration": 101,
    "start_time": "2022-01-20T19:10:50.026Z"
   },
   {
    "duration": 93,
    "start_time": "2022-01-20T19:10:50.131Z"
   },
   {
    "duration": 6,
    "start_time": "2022-01-20T19:10:50.226Z"
   },
   {
    "duration": 1544,
    "start_time": "2022-01-20T19:11:03.908Z"
   },
   {
    "duration": 34,
    "start_time": "2022-01-20T19:11:05.454Z"
   },
   {
    "duration": 23,
    "start_time": "2022-01-20T19:11:05.491Z"
   },
   {
    "duration": 55,
    "start_time": "2022-01-20T19:11:05.524Z"
   },
   {
    "duration": 11,
    "start_time": "2022-01-20T19:11:05.581Z"
   },
   {
    "duration": 31,
    "start_time": "2022-01-20T19:11:05.595Z"
   },
   {
    "duration": 11,
    "start_time": "2022-01-20T19:11:05.628Z"
   },
   {
    "duration": 6,
    "start_time": "2022-01-20T19:11:05.644Z"
   },
   {
    "duration": 33,
    "start_time": "2022-01-20T19:11:05.653Z"
   },
   {
    "duration": 8,
    "start_time": "2022-01-20T19:11:05.723Z"
   },
   {
    "duration": 6,
    "start_time": "2022-01-20T19:11:05.734Z"
   },
   {
    "duration": 9,
    "start_time": "2022-01-20T19:11:05.743Z"
   },
   {
    "duration": 9,
    "start_time": "2022-01-20T19:11:05.754Z"
   },
   {
    "duration": 8,
    "start_time": "2022-01-20T19:11:05.765Z"
   },
   {
    "duration": 68,
    "start_time": "2022-01-20T19:11:05.775Z"
   },
   {
    "duration": 20,
    "start_time": "2022-01-20T19:11:05.845Z"
   },
   {
    "duration": 27,
    "start_time": "2022-01-20T19:11:05.868Z"
   },
   {
    "duration": 47,
    "start_time": "2022-01-20T19:11:05.897Z"
   },
   {
    "duration": 6,
    "start_time": "2022-01-20T19:11:05.946Z"
   },
   {
    "duration": 10,
    "start_time": "2022-01-20T19:11:05.954Z"
   },
   {
    "duration": 22,
    "start_time": "2022-01-20T19:11:05.967Z"
   },
   {
    "duration": 34,
    "start_time": "2022-01-20T19:11:05.992Z"
   },
   {
    "duration": 10,
    "start_time": "2022-01-20T19:11:06.032Z"
   },
   {
    "duration": 6,
    "start_time": "2022-01-20T19:11:06.045Z"
   },
   {
    "duration": 172,
    "start_time": "2022-01-20T19:11:06.054Z"
   },
   {
    "duration": 93,
    "start_time": "2022-01-20T19:11:06.229Z"
   },
   {
    "duration": 41,
    "start_time": "2022-01-20T19:11:06.325Z"
   },
   {
    "duration": 4,
    "start_time": "2022-01-20T19:11:06.368Z"
   },
   {
    "duration": 2697,
    "start_time": "2022-01-20T19:11:06.374Z"
   },
   {
    "duration": 10,
    "start_time": "2022-01-20T19:11:09.073Z"
   },
   {
    "duration": 489,
    "start_time": "2022-01-20T19:11:09.085Z"
   },
   {
    "duration": 7,
    "start_time": "2022-01-20T19:11:09.577Z"
   },
   {
    "duration": 138,
    "start_time": "2022-01-20T19:11:09.587Z"
   },
   {
    "duration": 94,
    "start_time": "2022-01-20T19:11:09.729Z"
   },
   {
    "duration": 19,
    "start_time": "2022-01-20T19:11:09.826Z"
   },
   {
    "duration": 16422,
    "start_time": "2022-01-20T19:11:09.847Z"
   },
   {
    "duration": 3,
    "start_time": "2022-01-20T19:11:26.271Z"
   },
   {
    "duration": 9,
    "start_time": "2022-01-20T19:11:26.277Z"
   },
   {
    "duration": 9808,
    "start_time": "2022-01-20T19:11:26.288Z"
   },
   {
    "duration": 4,
    "start_time": "2022-01-20T19:11:36.099Z"
   },
   {
    "duration": 26,
    "start_time": "2022-01-20T19:11:36.106Z"
   },
   {
    "duration": 441,
    "start_time": "2022-01-20T19:11:36.135Z"
   },
   {
    "duration": 6,
    "start_time": "2022-01-20T19:11:36.579Z"
   },
   {
    "duration": 46,
    "start_time": "2022-01-20T19:11:36.588Z"
   },
   {
    "duration": 7,
    "start_time": "2022-01-20T19:11:36.637Z"
   },
   {
    "duration": 11836,
    "start_time": "2022-01-20T19:11:36.646Z"
   },
   {
    "duration": 20352,
    "start_time": "2022-01-20T19:11:48.484Z"
   },
   {
    "duration": 13566,
    "start_time": "2022-01-20T19:12:08.839Z"
   },
   {
    "duration": 870,
    "start_time": "2022-01-20T19:12:22.408Z"
   },
   {
    "duration": 9,
    "start_time": "2022-01-20T19:12:23.281Z"
   },
   {
    "duration": 11,
    "start_time": "2022-01-20T19:12:23.293Z"
   },
   {
    "duration": 447,
    "start_time": "2022-01-20T19:12:23.306Z"
   },
   {
    "duration": 6,
    "start_time": "2022-01-20T19:12:23.755Z"
   },
   {
    "duration": 30,
    "start_time": "2022-01-20T19:12:23.763Z"
   },
   {
    "duration": 28,
    "start_time": "2022-01-20T19:12:23.796Z"
   },
   {
    "duration": 949,
    "start_time": "2022-01-20T19:12:23.826Z"
   },
   {
    "duration": 759,
    "start_time": "2022-01-20T19:12:24.778Z"
   },
   {
    "duration": 762,
    "start_time": "2022-01-20T19:12:25.541Z"
   },
   {
    "duration": 298,
    "start_time": "2022-01-20T19:12:26.306Z"
   },
   {
    "duration": 47155,
    "start_time": "2022-01-20T19:13:08.072Z"
   },
   {
    "duration": 5753,
    "start_time": "2022-01-20T19:13:55.229Z"
   },
   {
    "duration": 1702,
    "start_time": "2022-01-20T19:17:29.961Z"
   },
   {
    "duration": 32,
    "start_time": "2022-01-20T19:17:31.665Z"
   },
   {
    "duration": 28,
    "start_time": "2022-01-20T19:17:31.700Z"
   },
   {
    "duration": 53,
    "start_time": "2022-01-20T19:17:31.732Z"
   },
   {
    "duration": 35,
    "start_time": "2022-01-20T19:17:31.788Z"
   },
   {
    "duration": 10,
    "start_time": "2022-01-20T19:17:31.826Z"
   },
   {
    "duration": 18,
    "start_time": "2022-01-20T19:17:31.838Z"
   },
   {
    "duration": 7,
    "start_time": "2022-01-20T19:17:31.860Z"
   },
   {
    "duration": 60,
    "start_time": "2022-01-20T19:17:31.870Z"
   },
   {
    "duration": 8,
    "start_time": "2022-01-20T19:17:31.933Z"
   },
   {
    "duration": 4,
    "start_time": "2022-01-20T19:17:31.944Z"
   },
   {
    "duration": 9,
    "start_time": "2022-01-20T19:17:31.950Z"
   },
   {
    "duration": 10,
    "start_time": "2022-01-20T19:17:31.962Z"
   },
   {
    "duration": 48,
    "start_time": "2022-01-20T19:17:31.976Z"
   },
   {
    "duration": 29,
    "start_time": "2022-01-20T19:17:32.027Z"
   },
   {
    "duration": 25,
    "start_time": "2022-01-20T19:17:32.058Z"
   },
   {
    "duration": 55,
    "start_time": "2022-01-20T19:17:32.085Z"
   },
   {
    "duration": 29,
    "start_time": "2022-01-20T19:17:32.144Z"
   },
   {
    "duration": 6,
    "start_time": "2022-01-20T19:17:32.176Z"
   },
   {
    "duration": 39,
    "start_time": "2022-01-20T19:17:32.184Z"
   },
   {
    "duration": 9,
    "start_time": "2022-01-20T19:17:32.226Z"
   },
   {
    "duration": 8,
    "start_time": "2022-01-20T19:17:32.237Z"
   },
   {
    "duration": 8,
    "start_time": "2022-01-20T19:17:32.250Z"
   },
   {
    "duration": 4,
    "start_time": "2022-01-20T19:17:32.261Z"
   },
   {
    "duration": 357,
    "start_time": "2022-01-20T19:17:32.267Z"
   },
   {
    "duration": 5,
    "start_time": "2022-01-20T19:17:32.627Z"
   },
   {
    "duration": 56,
    "start_time": "2022-01-20T19:17:32.635Z"
   },
   {
    "duration": 3,
    "start_time": "2022-01-20T19:17:32.694Z"
   },
   {
    "duration": 2463,
    "start_time": "2022-01-20T19:17:32.700Z"
   },
   {
    "duration": 60,
    "start_time": "2022-01-20T19:17:35.165Z"
   },
   {
    "duration": 663,
    "start_time": "2022-01-20T19:17:35.228Z"
   },
   {
    "duration": 9,
    "start_time": "2022-01-20T19:17:35.893Z"
   },
   {
    "duration": 124,
    "start_time": "2022-01-20T19:17:35.904Z"
   },
   {
    "duration": 92,
    "start_time": "2022-01-20T19:17:36.031Z"
   },
   {
    "duration": 13,
    "start_time": "2022-01-20T19:17:36.126Z"
   },
   {
    "duration": 16816,
    "start_time": "2022-01-20T19:17:36.141Z"
   },
   {
    "duration": 4,
    "start_time": "2022-01-20T19:17:52.960Z"
   },
   {
    "duration": 9,
    "start_time": "2022-01-20T19:17:52.967Z"
   },
   {
    "duration": 10074,
    "start_time": "2022-01-20T19:17:52.978Z"
   },
   {
    "duration": 4,
    "start_time": "2022-01-20T19:18:03.054Z"
   },
   {
    "duration": 15,
    "start_time": "2022-01-20T19:18:03.060Z"
   },
   {
    "duration": 512,
    "start_time": "2022-01-20T19:18:03.078Z"
   },
   {
    "duration": 31,
    "start_time": "2022-01-20T19:18:03.592Z"
   },
   {
    "duration": 24,
    "start_time": "2022-01-20T19:18:03.625Z"
   },
   {
    "duration": 7,
    "start_time": "2022-01-20T19:18:03.652Z"
   },
   {
    "duration": 199770,
    "start_time": "2022-01-20T19:18:03.661Z"
   },
   {
    "duration": 19407,
    "start_time": "2022-01-20T19:21:23.524Z"
   },
   {
    "duration": 8238442,
    "start_time": "2022-01-20T19:21:42.933Z"
   },
   {
    "duration": 86439,
    "start_time": "2022-01-20T21:39:01.378Z"
   },
   {
    "duration": 7,
    "start_time": "2022-01-20T21:40:27.819Z"
   },
   {
    "duration": 13,
    "start_time": "2022-01-20T21:40:27.828Z"
   },
   {
    "duration": 432,
    "start_time": "2022-01-20T21:40:27.844Z"
   },
   {
    "duration": 6,
    "start_time": "2022-01-20T21:40:28.278Z"
   },
   {
    "duration": 47,
    "start_time": "2022-01-20T21:40:28.287Z"
   },
   {
    "duration": 9,
    "start_time": "2022-01-20T21:40:28.337Z"
   },
   {
    "duration": 19978,
    "start_time": "2022-01-20T21:40:28.349Z"
   },
   {
    "duration": 649,
    "start_time": "2022-01-20T21:40:48.329Z"
   },
   {
    "duration": 1504,
    "start_time": "2022-01-20T21:40:48.980Z"
   },
   {
    "duration": 317,
    "start_time": "2022-01-20T21:40:50.487Z"
   },
   {
    "duration": 5,
    "start_time": "2022-01-20T21:43:27.659Z"
   },
   {
    "duration": 12,
    "start_time": "2022-01-20T21:43:29.066Z"
   },
   {
    "duration": 8,
    "start_time": "2022-01-20T21:43:31.007Z"
   },
   {
    "duration": 4,
    "start_time": "2022-01-20T21:43:39.535Z"
   },
   {
    "duration": 18,
    "start_time": "2022-01-20T21:43:41.539Z"
   },
   {
    "duration": 7,
    "start_time": "2022-01-20T21:43:45.403Z"
   },
   {
    "duration": 200375,
    "start_time": "2022-01-20T21:43:47.150Z"
   },
   {
    "duration": 19160,
    "start_time": "2022-01-20T21:47:07.529Z"
   },
   {
    "duration": 220522,
    "start_time": "2022-01-20T21:47:26.692Z"
   },
   {
    "duration": 7,
    "start_time": "2022-01-20T21:51:07.217Z"
   },
   {
    "duration": 10,
    "start_time": "2022-01-20T21:51:07.226Z"
   },
   {
    "duration": 430,
    "start_time": "2022-01-20T21:51:07.238Z"
   },
   {
    "duration": 12844,
    "start_time": "2022-01-20T21:53:05.440Z"
   },
   {
    "duration": 9,
    "start_time": "2022-01-20T21:53:27.026Z"
   },
   {
    "duration": 412,
    "start_time": "2022-01-20T21:53:32.290Z"
   },
   {
    "duration": 1452,
    "start_time": "2022-01-20T21:53:49.271Z"
   },
   {
    "duration": 34,
    "start_time": "2022-01-20T21:53:50.731Z"
   },
   {
    "duration": 26,
    "start_time": "2022-01-20T21:53:50.768Z"
   },
   {
    "duration": 70,
    "start_time": "2022-01-20T21:53:50.796Z"
   },
   {
    "duration": 11,
    "start_time": "2022-01-20T21:53:50.869Z"
   },
   {
    "duration": 41,
    "start_time": "2022-01-20T21:53:50.882Z"
   },
   {
    "duration": 6,
    "start_time": "2022-01-20T21:53:50.927Z"
   },
   {
    "duration": 17,
    "start_time": "2022-01-20T21:53:50.936Z"
   },
   {
    "duration": 29,
    "start_time": "2022-01-20T21:53:50.955Z"
   },
   {
    "duration": 9,
    "start_time": "2022-01-20T21:53:50.987Z"
   },
   {
    "duration": 5,
    "start_time": "2022-01-20T21:53:51.024Z"
   },
   {
    "duration": 7,
    "start_time": "2022-01-20T21:53:51.031Z"
   },
   {
    "duration": 10,
    "start_time": "2022-01-20T21:53:51.041Z"
   },
   {
    "duration": 5,
    "start_time": "2022-01-20T21:53:51.054Z"
   },
   {
    "duration": 61,
    "start_time": "2022-01-20T21:53:51.062Z"
   },
   {
    "duration": 18,
    "start_time": "2022-01-20T21:53:51.126Z"
   },
   {
    "duration": 21,
    "start_time": "2022-01-20T21:53:51.146Z"
   },
   {
    "duration": 23,
    "start_time": "2022-01-20T21:53:51.169Z"
   },
   {
    "duration": 7,
    "start_time": "2022-01-20T21:53:51.223Z"
   },
   {
    "duration": 12,
    "start_time": "2022-01-20T21:53:51.232Z"
   },
   {
    "duration": 7,
    "start_time": "2022-01-20T21:53:51.245Z"
   },
   {
    "duration": 6,
    "start_time": "2022-01-20T21:53:51.258Z"
   },
   {
    "duration": 5,
    "start_time": "2022-01-20T21:53:51.268Z"
   },
   {
    "duration": 48,
    "start_time": "2022-01-20T21:53:51.275Z"
   },
   {
    "duration": 200,
    "start_time": "2022-01-20T21:53:51.325Z"
   },
   {
    "duration": 5,
    "start_time": "2022-01-20T21:53:51.528Z"
   },
   {
    "duration": 41,
    "start_time": "2022-01-20T21:53:51.624Z"
   },
   {
    "duration": 3,
    "start_time": "2022-01-20T21:53:51.667Z"
   },
   {
    "duration": 2200,
    "start_time": "2022-01-20T21:53:51.672Z"
   },
   {
    "duration": 8,
    "start_time": "2022-01-20T21:53:53.875Z"
   },
   {
    "duration": 559,
    "start_time": "2022-01-20T21:53:53.886Z"
   },
   {
    "duration": 9,
    "start_time": "2022-01-20T21:53:54.448Z"
   },
   {
    "duration": 166,
    "start_time": "2022-01-20T21:53:54.459Z"
   },
   {
    "duration": 4,
    "start_time": "2022-01-20T21:53:54.629Z"
   },
   {
    "duration": 5,
    "start_time": "2022-01-20T21:53:54.724Z"
   },
   {
    "duration": 15449,
    "start_time": "2022-01-20T21:53:54.732Z"
   },
   {
    "duration": 5,
    "start_time": "2022-01-20T21:54:10.184Z"
   },
   {
    "duration": 9,
    "start_time": "2022-01-20T21:54:10.192Z"
   },
   {
    "duration": 9157,
    "start_time": "2022-01-20T21:54:10.224Z"
   },
   {
    "duration": 4,
    "start_time": "2022-01-20T21:54:19.384Z"
   },
   {
    "duration": 33,
    "start_time": "2022-01-20T21:54:19.391Z"
   },
   {
    "duration": 418,
    "start_time": "2022-01-20T21:54:19.427Z"
   },
   {
    "duration": 6,
    "start_time": "2022-01-20T21:54:19.847Z"
   },
   {
    "duration": 29,
    "start_time": "2022-01-20T21:54:19.855Z"
   },
   {
    "duration": 7,
    "start_time": "2022-01-20T21:54:19.886Z"
   },
   {
    "duration": 1155,
    "start_time": "2022-01-20T21:54:19.895Z"
   },
   {
    "duration": 332,
    "start_time": "2022-01-20T21:54:20.723Z"
   },
   {
    "duration": 327,
    "start_time": "2022-01-20T21:54:20.730Z"
   },
   {
    "duration": 298,
    "start_time": "2022-01-20T21:54:20.761Z"
   },
   {
    "duration": 295,
    "start_time": "2022-01-20T21:54:20.766Z"
   },
   {
    "duration": 283,
    "start_time": "2022-01-20T21:54:20.781Z"
   },
   {
    "duration": 281,
    "start_time": "2022-01-20T21:54:20.785Z"
   },
   {
    "duration": 279,
    "start_time": "2022-01-20T21:54:20.789Z"
   },
   {
    "duration": 276,
    "start_time": "2022-01-20T21:54:20.795Z"
   },
   {
    "duration": 274,
    "start_time": "2022-01-20T21:54:20.799Z"
   },
   {
    "duration": 272,
    "start_time": "2022-01-20T21:54:20.803Z"
   },
   {
    "duration": 269,
    "start_time": "2022-01-20T21:54:20.809Z"
   },
   {
    "duration": 256,
    "start_time": "2022-01-20T21:54:20.824Z"
   },
   {
    "duration": 241,
    "start_time": "2022-01-20T21:54:20.841Z"
   },
   {
    "duration": 1368,
    "start_time": "2022-01-20T22:04:53.646Z"
   },
   {
    "duration": 33,
    "start_time": "2022-01-20T22:04:55.016Z"
   },
   {
    "duration": 23,
    "start_time": "2022-01-20T22:04:55.052Z"
   },
   {
    "duration": 73,
    "start_time": "2022-01-20T22:04:55.077Z"
   },
   {
    "duration": 13,
    "start_time": "2022-01-20T22:04:55.152Z"
   },
   {
    "duration": 14,
    "start_time": "2022-01-20T22:04:55.168Z"
   },
   {
    "duration": 10,
    "start_time": "2022-01-20T22:04:55.184Z"
   },
   {
    "duration": 32,
    "start_time": "2022-01-20T22:04:55.197Z"
   },
   {
    "duration": 28,
    "start_time": "2022-01-20T22:04:55.232Z"
   },
   {
    "duration": 7,
    "start_time": "2022-01-20T22:04:55.263Z"
   },
   {
    "duration": 5,
    "start_time": "2022-01-20T22:04:55.272Z"
   },
   {
    "duration": 45,
    "start_time": "2022-01-20T22:04:55.279Z"
   },
   {
    "duration": 8,
    "start_time": "2022-01-20T22:04:55.326Z"
   },
   {
    "duration": 6,
    "start_time": "2022-01-20T22:04:55.336Z"
   },
   {
    "duration": 26,
    "start_time": "2022-01-20T22:04:55.344Z"
   },
   {
    "duration": 50,
    "start_time": "2022-01-20T22:04:55.373Z"
   },
   {
    "duration": 19,
    "start_time": "2022-01-20T22:04:55.425Z"
   },
   {
    "duration": 22,
    "start_time": "2022-01-20T22:04:55.446Z"
   },
   {
    "duration": 6,
    "start_time": "2022-01-20T22:04:55.471Z"
   },
   {
    "duration": 48,
    "start_time": "2022-01-20T22:04:55.480Z"
   },
   {
    "duration": 8,
    "start_time": "2022-01-20T22:04:55.531Z"
   },
   {
    "duration": 11,
    "start_time": "2022-01-20T22:04:55.542Z"
   },
   {
    "duration": 9,
    "start_time": "2022-01-20T22:04:55.559Z"
   },
   {
    "duration": 12,
    "start_time": "2022-01-20T22:04:55.572Z"
   },
   {
    "duration": 140,
    "start_time": "2022-01-20T22:04:55.586Z"
   },
   {
    "duration": 94,
    "start_time": "2022-01-20T22:04:55.729Z"
   },
   {
    "duration": 41,
    "start_time": "2022-01-20T22:04:55.825Z"
   },
   {
    "duration": 3,
    "start_time": "2022-01-20T22:04:55.869Z"
   },
   {
    "duration": 2027,
    "start_time": "2022-01-20T22:04:55.874Z"
   },
   {
    "duration": 20,
    "start_time": "2022-01-20T22:04:57.903Z"
   },
   {
    "duration": 446,
    "start_time": "2022-01-20T22:04:57.926Z"
   },
   {
    "duration": 7,
    "start_time": "2022-01-20T22:04:58.374Z"
   },
   {
    "duration": 241,
    "start_time": "2022-01-20T22:04:58.384Z"
   },
   {
    "duration": 3,
    "start_time": "2022-01-20T22:04:58.628Z"
   },
   {
    "duration": 2,
    "start_time": "2022-01-20T22:04:58.634Z"
   },
   {
    "duration": 15194,
    "start_time": "2022-01-20T22:04:58.639Z"
   },
   {
    "duration": 4,
    "start_time": "2022-01-20T22:05:13.835Z"
   },
   {
    "duration": 8,
    "start_time": "2022-01-20T22:05:13.841Z"
   },
   {
    "duration": 9093,
    "start_time": "2022-01-20T22:05:13.851Z"
   },
   {
    "duration": 4,
    "start_time": "2022-01-20T22:05:22.947Z"
   },
   {
    "duration": 14,
    "start_time": "2022-01-20T22:05:22.954Z"
   },
   {
    "duration": 535,
    "start_time": "2022-01-20T22:05:22.971Z"
   },
   {
    "duration": 5,
    "start_time": "2022-01-20T22:05:23.509Z"
   },
   {
    "duration": 30,
    "start_time": "2022-01-20T22:05:23.523Z"
   },
   {
    "duration": 8,
    "start_time": "2022-01-20T22:05:23.555Z"
   },
   {
    "duration": 199769,
    "start_time": "2022-01-20T22:05:23.566Z"
   },
   {
    "duration": 18772,
    "start_time": "2022-01-20T22:08:43.424Z"
   },
   {
    "duration": 27386696,
    "start_time": "2022-01-20T22:09:02.199Z"
   },
   {
    "duration": 4,
    "start_time": "2022-01-21T05:45:28.898Z"
   },
   {
    "duration": 23,
    "start_time": "2022-01-21T05:45:28.904Z"
   },
   {
    "duration": 425,
    "start_time": "2022-01-21T05:45:28.929Z"
   },
   {
    "duration": 14,
    "start_time": "2022-01-21T05:45:29.357Z"
   },
   {
    "duration": 6,
    "start_time": "2022-01-21T05:45:29.373Z"
   },
   {
    "duration": 48,
    "start_time": "2022-01-21T05:45:29.382Z"
   },
   {
    "duration": 6,
    "start_time": "2022-01-21T05:45:29.432Z"
   },
   {
    "duration": 143289,
    "start_time": "2022-01-21T05:45:29.441Z"
   },
   {
    "duration": 7211,
    "start_time": "2022-01-21T05:47:52.823Z"
   },
   {
    "duration": 2876270,
    "start_time": "2022-01-21T05:48:00.036Z"
   },
   {
    "duration": 468,
    "start_time": "2022-01-21T06:35:56.308Z"
   },
   {
    "duration": 10,
    "start_time": "2022-01-21T08:12:31.042Z"
   },
   {
    "duration": 9,
    "start_time": "2022-01-21T08:12:39.639Z"
   },
   {
    "duration": 9,
    "start_time": "2022-01-21T08:12:52.615Z"
   },
   {
    "duration": 9,
    "start_time": "2022-01-21T08:13:45.386Z"
   },
   {
    "duration": 615575,
    "start_time": "2022-01-21T08:15:34.131Z"
   },
   {
    "duration": 1498842,
    "start_time": "2022-01-21T08:27:03.539Z"
   },
   {
    "duration": 891373,
    "start_time": "2022-01-21T08:52:43.089Z"
   },
   {
    "duration": 888828,
    "start_time": "2022-01-21T09:13:32.847Z"
   },
   {
    "duration": 1510,
    "start_time": "2022-01-21T09:35:36.413Z"
   },
   {
    "duration": 34,
    "start_time": "2022-01-21T09:35:37.926Z"
   },
   {
    "duration": 29,
    "start_time": "2022-01-21T09:35:37.963Z"
   },
   {
    "duration": 67,
    "start_time": "2022-01-21T09:35:37.995Z"
   },
   {
    "duration": 11,
    "start_time": "2022-01-21T09:35:38.064Z"
   },
   {
    "duration": 12,
    "start_time": "2022-01-21T09:35:38.077Z"
   },
   {
    "duration": 31,
    "start_time": "2022-01-21T09:35:38.092Z"
   },
   {
    "duration": 7,
    "start_time": "2022-01-21T09:35:38.126Z"
   },
   {
    "duration": 47,
    "start_time": "2022-01-21T09:35:38.135Z"
   },
   {
    "duration": 7,
    "start_time": "2022-01-21T09:35:38.185Z"
   },
   {
    "duration": 7,
    "start_time": "2022-01-21T09:35:38.195Z"
   },
   {
    "duration": 6,
    "start_time": "2022-01-21T09:35:38.224Z"
   },
   {
    "duration": 13,
    "start_time": "2022-01-21T09:35:38.232Z"
   },
   {
    "duration": 5,
    "start_time": "2022-01-21T09:35:38.248Z"
   },
   {
    "duration": 23,
    "start_time": "2022-01-21T09:35:38.256Z"
   },
   {
    "duration": 18,
    "start_time": "2022-01-21T09:35:38.322Z"
   },
   {
    "duration": 21,
    "start_time": "2022-01-21T09:35:38.343Z"
   },
   {
    "duration": 22,
    "start_time": "2022-01-21T09:35:38.366Z"
   },
   {
    "duration": 35,
    "start_time": "2022-01-21T09:35:38.390Z"
   },
   {
    "duration": 12,
    "start_time": "2022-01-21T09:35:38.428Z"
   },
   {
    "duration": 7,
    "start_time": "2022-01-21T09:35:38.442Z"
   },
   {
    "duration": 11,
    "start_time": "2022-01-21T09:35:38.451Z"
   },
   {
    "duration": 5,
    "start_time": "2022-01-21T09:35:38.468Z"
   },
   {
    "duration": 4,
    "start_time": "2022-01-21T09:35:38.476Z"
   },
   {
    "duration": 149,
    "start_time": "2022-01-21T09:35:38.482Z"
   },
   {
    "duration": 4,
    "start_time": "2022-01-21T09:35:38.722Z"
   },
   {
    "duration": 43,
    "start_time": "2022-01-21T09:35:38.728Z"
   },
   {
    "duration": 3,
    "start_time": "2022-01-21T09:35:38.774Z"
   },
   {
    "duration": 2120,
    "start_time": "2022-01-21T09:35:38.779Z"
   },
   {
    "duration": 8,
    "start_time": "2022-01-21T09:35:40.901Z"
   },
   {
    "duration": 437,
    "start_time": "2022-01-21T09:35:40.912Z"
   },
   {
    "duration": 9,
    "start_time": "2022-01-21T09:35:41.353Z"
   },
   {
    "duration": 163,
    "start_time": "2022-01-21T09:35:41.364Z"
   },
   {
    "duration": 94,
    "start_time": "2022-01-21T09:35:41.529Z"
   },
   {
    "duration": 4,
    "start_time": "2022-01-21T09:35:41.626Z"
   },
   {
    "duration": 14807,
    "start_time": "2022-01-21T09:35:41.632Z"
   },
   {
    "duration": 4,
    "start_time": "2022-01-21T09:35:56.441Z"
   },
   {
    "duration": 8,
    "start_time": "2022-01-21T09:35:56.448Z"
   },
   {
    "duration": 9124,
    "start_time": "2022-01-21T09:35:56.458Z"
   },
   {
    "duration": 3,
    "start_time": "2022-01-21T09:36:05.584Z"
   },
   {
    "duration": 15,
    "start_time": "2022-01-21T09:36:05.589Z"
   },
   {
    "duration": 421,
    "start_time": "2022-01-21T09:36:05.607Z"
   },
   {
    "duration": 5,
    "start_time": "2022-01-21T09:36:06.030Z"
   },
   {
    "duration": 26,
    "start_time": "2022-01-21T09:36:06.037Z"
   },
   {
    "duration": 6,
    "start_time": "2022-01-21T09:36:06.066Z"
   },
   {
    "duration": 6,
    "start_time": "2022-01-21T09:36:06.074Z"
   },
   {
    "duration": 372,
    "start_time": "2022-01-21T09:36:06.083Z"
   },
   {
    "duration": 18876,
    "start_time": "2022-01-21T09:36:06.458Z"
   },
   {
    "duration": 3,
    "start_time": "2022-01-21T09:36:25.337Z"
   },
   {
    "duration": 9,
    "start_time": "2022-01-21T09:36:25.343Z"
   },
   {
    "duration": 11,
    "start_time": "2022-01-21T09:36:25.354Z"
   },
   {
    "duration": 798,
    "start_time": "2022-01-21T09:36:24.569Z"
   },
   {
    "duration": 795,
    "start_time": "2022-01-21T09:36:24.574Z"
   },
   {
    "duration": 787,
    "start_time": "2022-01-21T09:36:24.583Z"
   },
   {
    "duration": 780,
    "start_time": "2022-01-21T09:36:24.591Z"
   },
   {
    "duration": 775,
    "start_time": "2022-01-21T09:36:24.598Z"
   },
   {
    "duration": 769,
    "start_time": "2022-01-21T09:36:24.605Z"
   },
   {
    "duration": 766,
    "start_time": "2022-01-21T09:36:24.610Z"
   },
   {
    "duration": 757,
    "start_time": "2022-01-21T09:36:24.620Z"
   },
   {
    "duration": 739,
    "start_time": "2022-01-21T09:36:24.639Z"
   },
   {
    "duration": 777,
    "start_time": "2022-01-21T09:36:24.645Z"
   },
   {
    "duration": 771,
    "start_time": "2022-01-21T09:36:24.653Z"
   },
   {
    "duration": 767,
    "start_time": "2022-01-21T09:36:24.659Z"
   },
   {
    "duration": 760,
    "start_time": "2022-01-21T09:36:24.668Z"
   },
   {
    "duration": 755,
    "start_time": "2022-01-21T09:36:24.674Z"
   },
   {
    "duration": 750,
    "start_time": "2022-01-21T09:36:24.681Z"
   },
   {
    "duration": 743,
    "start_time": "2022-01-21T09:36:24.689Z"
   },
   {
    "duration": 739,
    "start_time": "2022-01-21T09:36:24.694Z"
   },
   {
    "duration": 731,
    "start_time": "2022-01-21T09:36:24.704Z"
   },
   {
    "duration": 1458,
    "start_time": "2022-01-21T09:36:56.099Z"
   },
   {
    "duration": 35,
    "start_time": "2022-01-21T09:36:57.560Z"
   },
   {
    "duration": 34,
    "start_time": "2022-01-21T09:36:57.599Z"
   },
   {
    "duration": 54,
    "start_time": "2022-01-21T09:36:57.636Z"
   },
   {
    "duration": 35,
    "start_time": "2022-01-21T09:36:57.693Z"
   },
   {
    "duration": 13,
    "start_time": "2022-01-21T09:36:57.731Z"
   },
   {
    "duration": 9,
    "start_time": "2022-01-21T09:36:57.746Z"
   },
   {
    "duration": 6,
    "start_time": "2022-01-21T09:36:57.760Z"
   },
   {
    "duration": 71,
    "start_time": "2022-01-21T09:36:57.769Z"
   },
   {
    "duration": 8,
    "start_time": "2022-01-21T09:36:57.842Z"
   },
   {
    "duration": 4,
    "start_time": "2022-01-21T09:36:57.852Z"
   },
   {
    "duration": 10,
    "start_time": "2022-01-21T09:36:57.858Z"
   },
   {
    "duration": 14,
    "start_time": "2022-01-21T09:36:57.870Z"
   },
   {
    "duration": 39,
    "start_time": "2022-01-21T09:36:57.886Z"
   },
   {
    "duration": 33,
    "start_time": "2022-01-21T09:36:57.927Z"
   },
   {
    "duration": 18,
    "start_time": "2022-01-21T09:36:57.962Z"
   },
   {
    "duration": 41,
    "start_time": "2022-01-21T09:36:57.982Z"
   },
   {
    "duration": 22,
    "start_time": "2022-01-21T09:36:58.025Z"
   },
   {
    "duration": 5,
    "start_time": "2022-01-21T09:36:58.050Z"
   },
   {
    "duration": 12,
    "start_time": "2022-01-21T09:36:58.057Z"
   },
   {
    "duration": 6,
    "start_time": "2022-01-21T09:36:58.072Z"
   },
   {
    "duration": 44,
    "start_time": "2022-01-21T09:36:58.080Z"
   },
   {
    "duration": 6,
    "start_time": "2022-01-21T09:36:58.130Z"
   },
   {
    "duration": 4,
    "start_time": "2022-01-21T09:36:58.140Z"
   },
   {
    "duration": 177,
    "start_time": "2022-01-21T09:36:58.146Z"
   },
   {
    "duration": 4,
    "start_time": "2022-01-21T09:36:58.327Z"
   },
   {
    "duration": 120,
    "start_time": "2022-01-21T09:36:58.334Z"
   },
   {
    "duration": 3,
    "start_time": "2022-01-21T09:36:58.457Z"
   },
   {
    "duration": 2148,
    "start_time": "2022-01-21T09:36:58.462Z"
   },
   {
    "duration": 16,
    "start_time": "2022-01-21T09:37:00.612Z"
   },
   {
    "duration": 452,
    "start_time": "2022-01-21T09:37:00.630Z"
   },
   {
    "duration": 7,
    "start_time": "2022-01-21T09:37:01.084Z"
   },
   {
    "duration": 136,
    "start_time": "2022-01-21T09:37:01.094Z"
   },
   {
    "duration": 92,
    "start_time": "2022-01-21T09:37:01.233Z"
   },
   {
    "duration": 15,
    "start_time": "2022-01-21T09:37:01.328Z"
   },
   {
    "duration": 15122,
    "start_time": "2022-01-21T09:37:01.345Z"
   },
   {
    "duration": 4,
    "start_time": "2022-01-21T09:37:16.470Z"
   },
   {
    "duration": 14,
    "start_time": "2022-01-21T09:37:16.477Z"
   },
   {
    "duration": 8839,
    "start_time": "2022-01-21T09:37:16.493Z"
   },
   {
    "duration": 5,
    "start_time": "2022-01-21T09:37:25.334Z"
   },
   {
    "duration": 14,
    "start_time": "2022-01-21T09:37:25.342Z"
   },
   {
    "duration": 433,
    "start_time": "2022-01-21T09:37:25.358Z"
   },
   {
    "duration": 5,
    "start_time": "2022-01-21T09:37:25.793Z"
   },
   {
    "duration": 40,
    "start_time": "2022-01-21T09:37:25.801Z"
   },
   {
    "duration": 7,
    "start_time": "2022-01-21T09:37:25.843Z"
   },
   {
    "duration": 4,
    "start_time": "2022-01-21T09:37:25.853Z"
   },
   {
    "duration": 405,
    "start_time": "2022-01-21T09:37:25.860Z"
   },
   {
    "duration": 19527,
    "start_time": "2022-01-21T09:37:26.268Z"
   },
   {
    "duration": 4,
    "start_time": "2022-01-21T09:37:45.797Z"
   },
   {
    "duration": 4,
    "start_time": "2022-01-21T09:37:45.824Z"
   },
   {
    "duration": 199,
    "start_time": "2022-01-21T09:37:45.831Z"
   },
   {
    "duration": 8,
    "start_time": "2022-01-21T09:37:46.033Z"
   },
   {
    "duration": 401,
    "start_time": "2022-01-21T09:37:46.044Z"
   },
   {
    "duration": 13,
    "start_time": "2022-01-21T09:37:46.448Z"
   },
   {
    "duration": 5,
    "start_time": "2022-01-21T09:37:46.464Z"
   },
   {
    "duration": 21,
    "start_time": "2022-01-21T09:37:46.471Z"
   },
   {
    "duration": 31,
    "start_time": "2022-01-21T09:37:46.494Z"
   },
   {
    "duration": 4,
    "start_time": "2022-01-21T09:37:46.528Z"
   },
   {
    "duration": 200,
    "start_time": "2022-01-21T09:37:46.535Z"
   },
   {
    "duration": 4,
    "start_time": "2022-01-21T09:37:46.738Z"
   },
   {
    "duration": 198,
    "start_time": "2022-01-21T09:37:46.745Z"
   },
   {
    "duration": 3,
    "start_time": "2022-01-21T09:37:46.946Z"
   },
   {
    "duration": 11,
    "start_time": "2022-01-21T09:37:46.951Z"
   },
   {
    "duration": 197,
    "start_time": "2022-01-21T09:37:46.964Z"
   },
   {
    "duration": 285,
    "start_time": "2022-01-21T09:37:47.163Z"
   },
   {
    "duration": 782,
    "start_time": "2022-01-21T09:37:46.669Z"
   },
   {
    "duration": 778,
    "start_time": "2022-01-21T09:37:46.674Z"
   },
   {
    "duration": 770,
    "start_time": "2022-01-21T09:37:46.684Z"
   },
   {
    "duration": 766,
    "start_time": "2022-01-21T09:37:46.689Z"
   },
   {
    "duration": 1456,
    "start_time": "2022-01-21T09:38:40.068Z"
   },
   {
    "duration": 37,
    "start_time": "2022-01-21T09:38:41.526Z"
   },
   {
    "duration": 23,
    "start_time": "2022-01-21T09:38:41.565Z"
   },
   {
    "duration": 68,
    "start_time": "2022-01-21T09:38:41.591Z"
   },
   {
    "duration": 11,
    "start_time": "2022-01-21T09:38:41.661Z"
   },
   {
    "duration": 8,
    "start_time": "2022-01-21T09:38:41.674Z"
   },
   {
    "duration": 39,
    "start_time": "2022-01-21T09:38:41.685Z"
   },
   {
    "duration": 6,
    "start_time": "2022-01-21T09:38:41.728Z"
   },
   {
    "duration": 27,
    "start_time": "2022-01-21T09:38:41.737Z"
   },
   {
    "duration": 8,
    "start_time": "2022-01-21T09:38:41.766Z"
   },
   {
    "duration": 4,
    "start_time": "2022-01-21T09:38:41.776Z"
   },
   {
    "duration": 43,
    "start_time": "2022-01-21T09:38:41.782Z"
   },
   {
    "duration": 8,
    "start_time": "2022-01-21T09:38:41.828Z"
   },
   {
    "duration": 5,
    "start_time": "2022-01-21T09:38:41.838Z"
   },
   {
    "duration": 31,
    "start_time": "2022-01-21T09:38:41.845Z"
   },
   {
    "duration": 55,
    "start_time": "2022-01-21T09:38:41.878Z"
   },
   {
    "duration": 21,
    "start_time": "2022-01-21T09:38:41.935Z"
   },
   {
    "duration": 25,
    "start_time": "2022-01-21T09:38:41.958Z"
   },
   {
    "duration": 37,
    "start_time": "2022-01-21T09:38:41.986Z"
   },
   {
    "duration": 13,
    "start_time": "2022-01-21T09:38:42.026Z"
   },
   {
    "duration": 9,
    "start_time": "2022-01-21T09:38:42.041Z"
   },
   {
    "duration": 10,
    "start_time": "2022-01-21T09:38:42.053Z"
   },
   {
    "duration": 5,
    "start_time": "2022-01-21T09:38:42.070Z"
   },
   {
    "duration": 4,
    "start_time": "2022-01-21T09:38:42.124Z"
   },
   {
    "duration": 192,
    "start_time": "2022-01-21T09:38:42.131Z"
   },
   {
    "duration": 4,
    "start_time": "2022-01-21T09:38:42.326Z"
   },
   {
    "duration": 93,
    "start_time": "2022-01-21T09:38:42.332Z"
   },
   {
    "duration": 3,
    "start_time": "2022-01-21T09:38:42.427Z"
   },
   {
    "duration": 2072,
    "start_time": "2022-01-21T09:38:42.433Z"
   },
   {
    "duration": 18,
    "start_time": "2022-01-21T09:38:44.508Z"
   },
   {
    "duration": 464,
    "start_time": "2022-01-21T09:38:44.529Z"
   },
   {
    "duration": 8,
    "start_time": "2022-01-21T09:38:44.996Z"
   },
   {
    "duration": 122,
    "start_time": "2022-01-21T09:38:45.007Z"
   },
   {
    "duration": 3,
    "start_time": "2022-01-21T09:38:45.223Z"
   },
   {
    "duration": 5,
    "start_time": "2022-01-21T09:38:45.229Z"
   },
   {
    "duration": 14674,
    "start_time": "2022-01-21T09:38:45.236Z"
   },
   {
    "duration": 4,
    "start_time": "2022-01-21T09:38:59.923Z"
   },
   {
    "duration": 10,
    "start_time": "2022-01-21T09:38:59.929Z"
   },
   {
    "duration": 8786,
    "start_time": "2022-01-21T09:38:59.941Z"
   },
   {
    "duration": 3,
    "start_time": "2022-01-21T09:39:08.730Z"
   },
   {
    "duration": 16,
    "start_time": "2022-01-21T09:39:08.735Z"
   },
   {
    "duration": 412,
    "start_time": "2022-01-21T09:39:08.753Z"
   },
   {
    "duration": 5,
    "start_time": "2022-01-21T09:39:09.167Z"
   },
   {
    "duration": 28,
    "start_time": "2022-01-21T09:39:09.174Z"
   },
   {
    "duration": 19,
    "start_time": "2022-01-21T09:39:09.204Z"
   },
   {
    "duration": 5,
    "start_time": "2022-01-21T09:39:09.226Z"
   },
   {
    "duration": 357,
    "start_time": "2022-01-21T09:39:09.233Z"
   },
   {
    "duration": 18349,
    "start_time": "2022-01-21T09:39:09.593Z"
   },
   {
    "duration": 3,
    "start_time": "2022-01-21T09:39:27.945Z"
   },
   {
    "duration": 9,
    "start_time": "2022-01-21T09:39:27.951Z"
   },
   {
    "duration": 194,
    "start_time": "2022-01-21T09:39:27.962Z"
   },
   {
    "duration": 9,
    "start_time": "2022-01-21T09:39:28.159Z"
   },
   {
    "duration": 394,
    "start_time": "2022-01-21T09:39:28.170Z"
   },
   {
    "duration": 13,
    "start_time": "2022-01-21T09:39:28.567Z"
   },
   {
    "duration": 5,
    "start_time": "2022-01-21T09:39:28.583Z"
   },
   {
    "duration": 42,
    "start_time": "2022-01-21T09:39:28.590Z"
   },
   {
    "duration": 6,
    "start_time": "2022-01-21T09:39:28.634Z"
   },
   {
    "duration": 7,
    "start_time": "2022-01-21T09:39:28.642Z"
   },
   {
    "duration": 186,
    "start_time": "2022-01-21T09:39:28.651Z"
   },
   {
    "duration": 3,
    "start_time": "2022-01-21T09:39:28.839Z"
   },
   {
    "duration": 215,
    "start_time": "2022-01-21T09:39:28.844Z"
   },
   {
    "duration": 3,
    "start_time": "2022-01-21T09:39:29.061Z"
   },
   {
    "duration": 14,
    "start_time": "2022-01-21T09:39:29.066Z"
   },
   {
    "duration": 202,
    "start_time": "2022-01-21T09:39:29.082Z"
   },
   {
    "duration": 299,
    "start_time": "2022-01-21T09:39:29.286Z"
   },
   {
    "duration": 870,
    "start_time": "2022-01-21T09:39:28.718Z"
   },
   {
    "duration": 859,
    "start_time": "2022-01-21T09:39:28.730Z"
   },
   {
    "duration": 854,
    "start_time": "2022-01-21T09:39:28.737Z"
   },
   {
    "duration": 850,
    "start_time": "2022-01-21T09:39:28.742Z"
   },
   {
    "duration": 1552,
    "start_time": "2022-01-21T09:46:44.093Z"
   },
   {
    "duration": 33,
    "start_time": "2022-01-21T09:46:45.647Z"
   },
   {
    "duration": 28,
    "start_time": "2022-01-21T09:46:45.683Z"
   },
   {
    "duration": 51,
    "start_time": "2022-01-21T09:46:45.724Z"
   },
   {
    "duration": 12,
    "start_time": "2022-01-21T09:46:45.778Z"
   },
   {
    "duration": 35,
    "start_time": "2022-01-21T09:46:45.792Z"
   },
   {
    "duration": 15,
    "start_time": "2022-01-21T09:46:45.829Z"
   },
   {
    "duration": 8,
    "start_time": "2022-01-21T09:46:45.847Z"
   },
   {
    "duration": 32,
    "start_time": "2022-01-21T09:46:45.858Z"
   },
   {
    "duration": 32,
    "start_time": "2022-01-21T09:46:45.892Z"
   },
   {
    "duration": 10,
    "start_time": "2022-01-21T09:46:45.926Z"
   },
   {
    "duration": 11,
    "start_time": "2022-01-21T09:46:45.938Z"
   },
   {
    "duration": 8,
    "start_time": "2022-01-21T09:46:45.951Z"
   },
   {
    "duration": 6,
    "start_time": "2022-01-21T09:46:45.961Z"
   },
   {
    "duration": 56,
    "start_time": "2022-01-21T09:46:45.969Z"
   },
   {
    "duration": 21,
    "start_time": "2022-01-21T09:46:46.028Z"
   },
   {
    "duration": 22,
    "start_time": "2022-01-21T09:46:46.051Z"
   },
   {
    "duration": 50,
    "start_time": "2022-01-21T09:46:46.076Z"
   },
   {
    "duration": 5,
    "start_time": "2022-01-21T09:46:46.129Z"
   },
   {
    "duration": 11,
    "start_time": "2022-01-21T09:46:46.136Z"
   },
   {
    "duration": 7,
    "start_time": "2022-01-21T09:46:46.149Z"
   },
   {
    "duration": 8,
    "start_time": "2022-01-21T09:46:46.158Z"
   },
   {
    "duration": 49,
    "start_time": "2022-01-21T09:46:46.174Z"
   },
   {
    "duration": 4,
    "start_time": "2022-01-21T09:46:46.228Z"
   },
   {
    "duration": 100,
    "start_time": "2022-01-21T09:46:46.235Z"
   },
   {
    "duration": 88,
    "start_time": "2022-01-21T09:46:46.338Z"
   },
   {
    "duration": 105,
    "start_time": "2022-01-21T09:46:46.429Z"
   },
   {
    "duration": 4,
    "start_time": "2022-01-21T09:46:46.537Z"
   },
   {
    "duration": 2208,
    "start_time": "2022-01-21T09:46:46.543Z"
   },
   {
    "duration": 8,
    "start_time": "2022-01-21T09:46:48.755Z"
   },
   {
    "duration": 445,
    "start_time": "2022-01-21T09:46:48.765Z"
   },
   {
    "duration": 15,
    "start_time": "2022-01-21T09:46:49.213Z"
   },
   {
    "duration": 295,
    "start_time": "2022-01-21T09:46:49.230Z"
   },
   {
    "duration": 3,
    "start_time": "2022-01-21T09:46:49.528Z"
   },
   {
    "duration": 7,
    "start_time": "2022-01-21T09:46:49.533Z"
   },
   {
    "duration": 15486,
    "start_time": "2022-01-21T09:46:49.543Z"
   },
   {
    "duration": 3,
    "start_time": "2022-01-21T09:47:05.032Z"
   },
   {
    "duration": 17,
    "start_time": "2022-01-21T09:47:05.037Z"
   },
   {
    "duration": 9235,
    "start_time": "2022-01-21T09:47:05.056Z"
   },
   {
    "duration": 4,
    "start_time": "2022-01-21T09:47:14.293Z"
   },
   {
    "duration": 26,
    "start_time": "2022-01-21T09:47:14.299Z"
   },
   {
    "duration": 408,
    "start_time": "2022-01-21T09:47:14.327Z"
   },
   {
    "duration": 7,
    "start_time": "2022-01-21T09:47:14.738Z"
   },
   {
    "duration": 28,
    "start_time": "2022-01-21T09:47:14.747Z"
   },
   {
    "duration": 7,
    "start_time": "2022-01-21T09:47:14.777Z"
   },
   {
    "duration": 6,
    "start_time": "2022-01-21T09:47:14.786Z"
   },
   {
    "duration": 380,
    "start_time": "2022-01-21T09:47:14.794Z"
   },
   {
    "duration": 19801,
    "start_time": "2022-01-21T09:47:15.176Z"
   },
   {
    "duration": 4,
    "start_time": "2022-01-21T09:47:34.980Z"
   },
   {
    "duration": 13,
    "start_time": "2022-01-21T09:47:34.987Z"
   },
   {
    "duration": 9484,
    "start_time": "2022-01-21T09:47:35.022Z"
   },
   {
    "duration": 17,
    "start_time": "2022-01-21T09:47:44.508Z"
   },
   {
    "duration": 425,
    "start_time": "2022-01-21T09:47:44.527Z"
   },
   {
    "duration": 15,
    "start_time": "2022-01-21T09:47:44.954Z"
   },
   {
    "duration": 7,
    "start_time": "2022-01-21T09:47:44.971Z"
   },
   {
    "duration": 48,
    "start_time": "2022-01-21T09:47:44.981Z"
   },
   {
    "duration": 10,
    "start_time": "2022-01-21T09:47:45.032Z"
   },
   {
    "duration": 16,
    "start_time": "2022-01-21T09:47:45.045Z"
   },
   {
    "duration": 163,
    "start_time": "2022-01-21T09:47:45.064Z"
   },
   {
    "duration": 93,
    "start_time": "2022-01-21T09:47:45.231Z"
   },
   {
    "duration": 220,
    "start_time": "2022-01-21T09:47:45.327Z"
   },
   {
    "duration": 4,
    "start_time": "2022-01-21T09:47:45.550Z"
   },
   {
    "duration": 93,
    "start_time": "2022-01-21T09:47:45.557Z"
   },
   {
    "duration": 844,
    "start_time": "2022-01-21T09:47:45.653Z"
   },
   {
    "duration": 589,
    "start_time": "2022-01-21T09:47:46.501Z"
   },
   {
    "duration": 9,
    "start_time": "2022-01-21T09:47:47.092Z"
   },
   {
    "duration": 24,
    "start_time": "2022-01-21T09:47:47.103Z"
   },
   {
    "duration": 10,
    "start_time": "2022-01-21T09:47:47.133Z"
   },
   {
    "duration": 10,
    "start_time": "2022-01-21T09:47:47.145Z"
   },
   {
    "duration": 7,
    "start_time": "2022-01-21T09:50:15.153Z"
   },
   {
    "duration": 104,
    "start_time": "2022-01-21T09:50:17.221Z"
   },
   {
    "duration": 25,
    "start_time": "2022-01-21T09:50:19.108Z"
   },
   {
    "duration": 683,
    "start_time": "2022-01-21T09:50:21.863Z"
   },
   {
    "duration": 8,
    "start_time": "2022-01-21T09:50:25.211Z"
   },
   {
    "duration": 402,
    "start_time": "2022-01-21T09:50:27.187Z"
   },
   {
    "duration": 1928,
    "start_time": "2022-01-21T09:51:50.595Z"
   },
   {
    "duration": 32,
    "start_time": "2022-01-21T09:51:52.526Z"
   },
   {
    "duration": 24,
    "start_time": "2022-01-21T09:51:52.561Z"
   },
   {
    "duration": 71,
    "start_time": "2022-01-21T09:51:52.588Z"
   },
   {
    "duration": 12,
    "start_time": "2022-01-21T09:51:52.661Z"
   },
   {
    "duration": 10,
    "start_time": "2022-01-21T09:51:52.675Z"
   },
   {
    "duration": 7,
    "start_time": "2022-01-21T09:51:52.688Z"
   },
   {
    "duration": 9,
    "start_time": "2022-01-21T09:51:52.725Z"
   },
   {
    "duration": 30,
    "start_time": "2022-01-21T09:51:52.739Z"
   },
   {
    "duration": 51,
    "start_time": "2022-01-21T09:51:52.773Z"
   },
   {
    "duration": 5,
    "start_time": "2022-01-21T09:51:52.826Z"
   },
   {
    "duration": 11,
    "start_time": "2022-01-21T09:51:52.833Z"
   },
   {
    "duration": 15,
    "start_time": "2022-01-21T09:51:52.846Z"
   },
   {
    "duration": 18,
    "start_time": "2022-01-21T09:51:52.864Z"
   },
   {
    "duration": 50,
    "start_time": "2022-01-21T09:51:52.884Z"
   },
   {
    "duration": 20,
    "start_time": "2022-01-21T09:51:52.937Z"
   },
   {
    "duration": 19,
    "start_time": "2022-01-21T09:51:52.960Z"
   },
   {
    "duration": 52,
    "start_time": "2022-01-21T09:51:52.981Z"
   },
   {
    "duration": 7,
    "start_time": "2022-01-21T09:51:53.036Z"
   },
   {
    "duration": 25,
    "start_time": "2022-01-21T09:51:53.046Z"
   },
   {
    "duration": 8,
    "start_time": "2022-01-21T09:51:53.073Z"
   },
   {
    "duration": 12,
    "start_time": "2022-01-21T09:51:53.083Z"
   },
   {
    "duration": 5,
    "start_time": "2022-01-21T09:51:53.124Z"
   },
   {
    "duration": 11,
    "start_time": "2022-01-21T09:51:53.131Z"
   },
   {
    "duration": 92,
    "start_time": "2022-01-21T09:51:53.145Z"
   },
   {
    "duration": 87,
    "start_time": "2022-01-21T09:51:53.239Z"
   },
   {
    "duration": 111,
    "start_time": "2022-01-21T09:51:53.337Z"
   },
   {
    "duration": 4,
    "start_time": "2022-01-21T09:51:53.451Z"
   },
   {
    "duration": 2232,
    "start_time": "2022-01-21T09:51:53.457Z"
   },
   {
    "duration": 8,
    "start_time": "2022-01-21T09:51:55.691Z"
   },
   {
    "duration": 479,
    "start_time": "2022-01-21T09:51:55.702Z"
   },
   {
    "duration": 7,
    "start_time": "2022-01-21T09:51:56.184Z"
   },
   {
    "duration": 137,
    "start_time": "2022-01-21T09:51:56.193Z"
   },
   {
    "duration": 90,
    "start_time": "2022-01-21T09:51:56.333Z"
   },
   {
    "duration": 4,
    "start_time": "2022-01-21T09:51:56.425Z"
   },
   {
    "duration": 16433,
    "start_time": "2022-01-21T09:51:56.431Z"
   },
   {
    "duration": 5,
    "start_time": "2022-01-21T09:52:12.867Z"
   },
   {
    "duration": 11,
    "start_time": "2022-01-21T09:52:12.874Z"
   },
   {
    "duration": 10092,
    "start_time": "2022-01-21T09:52:12.887Z"
   },
   {
    "duration": 3,
    "start_time": "2022-01-21T09:52:22.982Z"
   },
   {
    "duration": 15,
    "start_time": "2022-01-21T09:52:22.987Z"
   },
   {
    "duration": 448,
    "start_time": "2022-01-21T09:52:23.004Z"
   },
   {
    "duration": 5,
    "start_time": "2022-01-21T09:52:23.454Z"
   },
   {
    "duration": 28,
    "start_time": "2022-01-21T09:52:23.462Z"
   },
   {
    "duration": 7,
    "start_time": "2022-01-21T09:52:23.492Z"
   },
   {
    "duration": 23,
    "start_time": "2022-01-21T09:52:23.501Z"
   },
   {
    "duration": 345,
    "start_time": "2022-01-21T09:52:23.527Z"
   },
   {
    "duration": 18569,
    "start_time": "2022-01-21T09:52:23.874Z"
   },
   {
    "duration": 4,
    "start_time": "2022-01-21T09:52:42.446Z"
   },
   {
    "duration": 10,
    "start_time": "2022-01-21T09:52:42.452Z"
   },
   {
    "duration": 9108,
    "start_time": "2022-01-21T09:52:42.464Z"
   },
   {
    "duration": 9,
    "start_time": "2022-01-21T09:52:51.574Z"
   },
   {
    "duration": 425,
    "start_time": "2022-01-21T09:52:51.586Z"
   },
   {
    "duration": 26,
    "start_time": "2022-01-21T09:52:52.013Z"
   },
   {
    "duration": 7,
    "start_time": "2022-01-21T09:52:52.042Z"
   },
   {
    "duration": 23,
    "start_time": "2022-01-21T09:52:52.052Z"
   },
   {
    "duration": 9,
    "start_time": "2022-01-21T09:52:52.077Z"
   },
   {
    "duration": 8,
    "start_time": "2022-01-21T09:52:52.089Z"
   },
   {
    "duration": 103,
    "start_time": "2022-01-21T09:52:52.128Z"
   },
   {
    "duration": 3,
    "start_time": "2022-01-21T09:52:52.323Z"
   },
   {
    "duration": 33,
    "start_time": "2022-01-21T09:52:52.329Z"
   },
   {
    "duration": 3,
    "start_time": "2022-01-21T09:52:52.365Z"
   },
   {
    "duration": 99,
    "start_time": "2022-01-21T09:52:52.371Z"
   },
   {
    "duration": 589,
    "start_time": "2022-01-21T09:52:52.472Z"
   },
   {
    "duration": 444,
    "start_time": "2022-01-21T09:52:53.064Z"
   },
   {
    "duration": 17,
    "start_time": "2022-01-21T09:52:53.510Z"
   },
   {
    "duration": 10,
    "start_time": "2022-01-21T09:52:53.529Z"
   },
   {
    "duration": 12,
    "start_time": "2022-01-21T09:52:53.541Z"
   },
   {
    "duration": 13,
    "start_time": "2022-01-21T09:52:53.556Z"
   },
   {
    "duration": 1536,
    "start_time": "2022-01-21T09:53:39.299Z"
   },
   {
    "duration": 35,
    "start_time": "2022-01-21T09:53:40.837Z"
   },
   {
    "duration": 25,
    "start_time": "2022-01-21T09:53:40.875Z"
   },
   {
    "duration": 69,
    "start_time": "2022-01-21T09:53:40.903Z"
   },
   {
    "duration": 14,
    "start_time": "2022-01-21T09:53:40.975Z"
   },
   {
    "duration": 38,
    "start_time": "2022-01-21T09:53:40.991Z"
   },
   {
    "duration": 9,
    "start_time": "2022-01-21T09:53:41.032Z"
   },
   {
    "duration": 7,
    "start_time": "2022-01-21T09:53:41.046Z"
   },
   {
    "duration": 68,
    "start_time": "2022-01-21T09:53:41.057Z"
   },
   {
    "duration": 9,
    "start_time": "2022-01-21T09:53:41.128Z"
   },
   {
    "duration": 11,
    "start_time": "2022-01-21T09:53:41.140Z"
   },
   {
    "duration": 7,
    "start_time": "2022-01-21T09:53:41.154Z"
   },
   {
    "duration": 9,
    "start_time": "2022-01-21T09:53:41.164Z"
   },
   {
    "duration": 50,
    "start_time": "2022-01-21T09:53:41.175Z"
   },
   {
    "duration": 25,
    "start_time": "2022-01-21T09:53:41.227Z"
   },
   {
    "duration": 17,
    "start_time": "2022-01-21T09:53:41.254Z"
   },
   {
    "duration": 49,
    "start_time": "2022-01-21T09:53:41.274Z"
   },
   {
    "duration": 24,
    "start_time": "2022-01-21T09:53:41.325Z"
   },
   {
    "duration": 6,
    "start_time": "2022-01-21T09:53:41.351Z"
   },
   {
    "duration": 11,
    "start_time": "2022-01-21T09:53:41.359Z"
   },
   {
    "duration": 7,
    "start_time": "2022-01-21T09:53:41.372Z"
   },
   {
    "duration": 43,
    "start_time": "2022-01-21T09:53:41.381Z"
   },
   {
    "duration": 5,
    "start_time": "2022-01-21T09:53:41.429Z"
   },
   {
    "duration": 3,
    "start_time": "2022-01-21T09:53:41.438Z"
   },
   {
    "duration": 182,
    "start_time": "2022-01-21T09:53:41.443Z"
   },
   {
    "duration": 5,
    "start_time": "2022-01-21T09:53:41.628Z"
   },
   {
    "duration": 38,
    "start_time": "2022-01-21T09:53:41.724Z"
   },
   {
    "duration": 3,
    "start_time": "2022-01-21T09:53:41.764Z"
   },
   {
    "duration": 2318,
    "start_time": "2022-01-21T09:53:41.769Z"
   },
   {
    "duration": 9,
    "start_time": "2022-01-21T09:53:44.089Z"
   },
   {
    "duration": 433,
    "start_time": "2022-01-21T09:53:44.100Z"
   },
   {
    "duration": 7,
    "start_time": "2022-01-21T09:53:44.535Z"
   },
   {
    "duration": 182,
    "start_time": "2022-01-21T09:53:44.545Z"
   },
   {
    "duration": 4,
    "start_time": "2022-01-21T09:53:44.822Z"
   },
   {
    "duration": 7,
    "start_time": "2022-01-21T09:53:44.828Z"
   },
   {
    "duration": 14790,
    "start_time": "2022-01-21T09:53:44.837Z"
   },
   {
    "duration": 3,
    "start_time": "2022-01-21T09:53:59.629Z"
   },
   {
    "duration": 8,
    "start_time": "2022-01-21T09:53:59.634Z"
   },
   {
    "duration": 9506,
    "start_time": "2022-01-21T09:53:59.645Z"
   },
   {
    "duration": 4,
    "start_time": "2022-01-21T09:54:09.153Z"
   },
   {
    "duration": 15,
    "start_time": "2022-01-21T09:54:09.159Z"
   },
   {
    "duration": 453,
    "start_time": "2022-01-21T09:54:09.176Z"
   },
   {
    "duration": 6,
    "start_time": "2022-01-21T09:54:09.632Z"
   },
   {
    "duration": 36,
    "start_time": "2022-01-21T09:54:09.641Z"
   },
   {
    "duration": 8,
    "start_time": "2022-01-21T09:54:09.680Z"
   },
   {
    "duration": 6,
    "start_time": "2022-01-21T09:54:09.691Z"
   },
   {
    "duration": 130,
    "start_time": "2022-01-21T09:54:09.699Z"
   },
   {
    "duration": 18675,
    "start_time": "2022-01-21T09:54:09.831Z"
   },
   {
    "duration": 4,
    "start_time": "2022-01-21T09:54:28.524Z"
   },
   {
    "duration": 8,
    "start_time": "2022-01-21T09:54:28.530Z"
   },
   {
    "duration": 9213,
    "start_time": "2022-01-21T09:54:28.540Z"
   },
   {
    "duration": 9,
    "start_time": "2022-01-21T09:54:37.755Z"
   },
   {
    "duration": 437,
    "start_time": "2022-01-21T09:54:37.766Z"
   },
   {
    "duration": 23,
    "start_time": "2022-01-21T09:54:38.206Z"
   },
   {
    "duration": 6,
    "start_time": "2022-01-21T09:54:38.231Z"
   },
   {
    "duration": 26,
    "start_time": "2022-01-21T09:54:38.240Z"
   },
   {
    "duration": 6,
    "start_time": "2022-01-21T09:54:38.269Z"
   },
   {
    "duration": 4,
    "start_time": "2022-01-21T09:54:38.278Z"
   },
   {
    "duration": 140,
    "start_time": "2022-01-21T09:54:38.285Z"
   },
   {
    "duration": 4,
    "start_time": "2022-01-21T09:54:38.428Z"
   },
   {
    "duration": 174,
    "start_time": "2022-01-21T09:54:38.434Z"
   },
   {
    "duration": 3,
    "start_time": "2022-01-21T09:54:38.610Z"
   },
   {
    "duration": 9,
    "start_time": "2022-01-21T09:54:38.615Z"
   },
   {
    "duration": 567,
    "start_time": "2022-01-21T09:54:38.626Z"
   },
   {
    "duration": 409,
    "start_time": "2022-01-21T09:54:39.196Z"
   },
   {
    "duration": 17,
    "start_time": "2022-01-21T09:54:39.607Z"
   },
   {
    "duration": 10,
    "start_time": "2022-01-21T09:54:39.627Z"
   },
   {
    "duration": 8,
    "start_time": "2022-01-21T09:54:39.643Z"
   },
   {
    "duration": 9,
    "start_time": "2022-01-21T09:54:39.654Z"
   },
   {
    "duration": 1789,
    "start_time": "2022-01-21T10:20:16.817Z"
   },
   {
    "duration": 36,
    "start_time": "2022-01-21T10:20:18.609Z"
   },
   {
    "duration": 26,
    "start_time": "2022-01-21T10:20:18.648Z"
   },
   {
    "duration": 79,
    "start_time": "2022-01-21T10:20:18.677Z"
   },
   {
    "duration": 11,
    "start_time": "2022-01-21T10:20:18.759Z"
   },
   {
    "duration": 10,
    "start_time": "2022-01-21T10:20:18.773Z"
   },
   {
    "duration": 38,
    "start_time": "2022-01-21T10:20:18.785Z"
   },
   {
    "duration": 8,
    "start_time": "2022-01-21T10:20:18.827Z"
   },
   {
    "duration": 29,
    "start_time": "2022-01-21T10:20:18.838Z"
   },
   {
    "duration": 9,
    "start_time": "2022-01-21T10:20:18.870Z"
   },
   {
    "duration": 43,
    "start_time": "2022-01-21T10:20:18.881Z"
   },
   {
    "duration": 7,
    "start_time": "2022-01-21T10:20:18.926Z"
   },
   {
    "duration": 10,
    "start_time": "2022-01-21T10:20:18.936Z"
   },
   {
    "duration": 7,
    "start_time": "2022-01-21T10:20:18.949Z"
   },
   {
    "duration": 74,
    "start_time": "2022-01-21T10:20:18.959Z"
   },
   {
    "duration": 19,
    "start_time": "2022-01-21T10:20:19.035Z"
   },
   {
    "duration": 21,
    "start_time": "2022-01-21T10:20:19.057Z"
   },
   {
    "duration": 51,
    "start_time": "2022-01-21T10:20:19.080Z"
   },
   {
    "duration": 13,
    "start_time": "2022-01-21T10:20:19.133Z"
   },
   {
    "duration": 15,
    "start_time": "2022-01-21T10:20:19.149Z"
   },
   {
    "duration": 8,
    "start_time": "2022-01-21T10:20:19.166Z"
   },
   {
    "duration": 14,
    "start_time": "2022-01-21T10:20:19.176Z"
   },
   {
    "duration": 31,
    "start_time": "2022-01-21T10:20:19.196Z"
   },
   {
    "duration": 5,
    "start_time": "2022-01-21T10:20:19.230Z"
   },
   {
    "duration": 295,
    "start_time": "2022-01-21T10:20:19.237Z"
   },
   {
    "duration": 5,
    "start_time": "2022-01-21T10:20:19.535Z"
   },
   {
    "duration": 114,
    "start_time": "2022-01-21T10:20:19.544Z"
   },
   {
    "duration": 4,
    "start_time": "2022-01-21T10:20:19.660Z"
   },
   {
    "duration": 2346,
    "start_time": "2022-01-21T10:20:19.666Z"
   },
   {
    "duration": 19,
    "start_time": "2022-01-21T10:20:22.015Z"
   },
   {
    "duration": 499,
    "start_time": "2022-01-21T10:20:22.037Z"
   },
   {
    "duration": 8,
    "start_time": "2022-01-21T10:20:22.538Z"
   },
   {
    "duration": 176,
    "start_time": "2022-01-21T10:20:22.549Z"
   },
   {
    "duration": 94,
    "start_time": "2022-01-21T10:20:22.728Z"
   },
   {
    "duration": 5,
    "start_time": "2022-01-21T10:20:22.825Z"
   },
   {
    "duration": 18981,
    "start_time": "2022-01-21T10:20:22.833Z"
   },
   {
    "duration": 4,
    "start_time": "2022-01-21T10:20:41.825Z"
   },
   {
    "duration": 8,
    "start_time": "2022-01-21T10:20:41.832Z"
   },
   {
    "duration": 9604,
    "start_time": "2022-01-21T10:20:41.842Z"
   },
   {
    "duration": 3,
    "start_time": "2022-01-21T10:20:51.448Z"
   },
   {
    "duration": 13,
    "start_time": "2022-01-21T10:20:51.454Z"
   },
   {
    "duration": 484,
    "start_time": "2022-01-21T10:20:51.470Z"
   },
   {
    "duration": 5,
    "start_time": "2022-01-21T10:20:51.957Z"
   },
   {
    "duration": 35,
    "start_time": "2022-01-21T10:20:51.965Z"
   },
   {
    "duration": 30,
    "start_time": "2022-01-21T10:20:52.003Z"
   },
   {
    "duration": 11,
    "start_time": "2022-01-21T10:20:52.036Z"
   },
   {
    "duration": 179,
    "start_time": "2022-01-21T10:20:52.050Z"
   },
   {
    "duration": 22440,
    "start_time": "2022-01-21T10:20:52.233Z"
   },
   {
    "duration": 4,
    "start_time": "2022-01-21T10:21:14.676Z"
   },
   {
    "duration": 29,
    "start_time": "2022-01-21T10:21:14.683Z"
   },
   {
    "duration": 9863,
    "start_time": "2022-01-21T10:21:14.715Z"
   },
   {
    "duration": 9,
    "start_time": "2022-01-21T10:21:24.580Z"
   },
   {
    "duration": 451,
    "start_time": "2022-01-21T10:21:24.592Z"
   },
   {
    "duration": 19,
    "start_time": "2022-01-21T10:21:25.046Z"
   },
   {
    "duration": 8,
    "start_time": "2022-01-21T10:21:25.068Z"
   },
   {
    "duration": 50,
    "start_time": "2022-01-21T10:21:25.079Z"
   },
   {
    "duration": 6,
    "start_time": "2022-01-21T10:21:25.132Z"
   },
   {
    "duration": 10,
    "start_time": "2022-01-21T10:21:25.141Z"
   },
   {
    "duration": 180,
    "start_time": "2022-01-21T10:21:25.153Z"
   },
   {
    "duration": 87,
    "start_time": "2022-01-21T10:21:25.337Z"
   },
   {
    "duration": 110,
    "start_time": "2022-01-21T10:21:25.426Z"
   },
   {
    "duration": 4,
    "start_time": "2022-01-21T10:21:25.538Z"
   },
   {
    "duration": 14,
    "start_time": "2022-01-21T10:21:25.544Z"
   },
   {
    "duration": 589,
    "start_time": "2022-01-21T10:21:25.561Z"
   },
   {
    "duration": 473,
    "start_time": "2022-01-21T10:21:26.153Z"
   },
   {
    "duration": 12,
    "start_time": "2022-01-21T10:21:26.629Z"
   },
   {
    "duration": 9,
    "start_time": "2022-01-21T10:21:26.644Z"
   },
   {
    "duration": 8,
    "start_time": "2022-01-21T10:21:26.660Z"
   },
   {
    "duration": 52,
    "start_time": "2022-01-21T10:21:26.671Z"
   },
   {
    "duration": 474,
    "start_time": "2022-01-21T10:21:37.309Z"
   },
   {
    "duration": 473,
    "start_time": "2022-01-21T10:22:04.416Z"
   },
   {
    "duration": 434,
    "start_time": "2022-01-21T10:22:09.679Z"
   },
   {
    "duration": 447,
    "start_time": "2022-01-21T10:22:16.420Z"
   },
   {
    "duration": 449,
    "start_time": "2022-01-21T10:22:34.447Z"
   },
   {
    "duration": 528,
    "start_time": "2022-01-21T10:22:37.960Z"
   },
   {
    "duration": 401,
    "start_time": "2022-01-21T10:24:26.853Z"
   },
   {
    "duration": 405,
    "start_time": "2022-01-21T10:24:54.469Z"
   },
   {
    "duration": 422,
    "start_time": "2022-01-21T10:26:10.969Z"
   },
   {
    "duration": 438,
    "start_time": "2022-01-21T10:26:23.327Z"
   },
   {
    "duration": 461,
    "start_time": "2022-01-21T10:27:50.325Z"
   },
   {
    "duration": 574,
    "start_time": "2022-01-21T10:28:06.678Z"
   },
   {
    "duration": 449,
    "start_time": "2022-01-21T10:28:10.008Z"
   },
   {
    "duration": 412,
    "start_time": "2022-01-21T10:28:17.670Z"
   },
   {
    "duration": 600,
    "start_time": "2022-01-21T10:28:27.532Z"
   },
   {
    "duration": 464,
    "start_time": "2022-01-21T10:28:36.421Z"
   },
   {
    "duration": 389,
    "start_time": "2022-01-21T10:28:57.674Z"
   },
   {
    "duration": 419,
    "start_time": "2022-01-21T10:29:05.615Z"
   },
   {
    "duration": 9,
    "start_time": "2022-01-21T10:29:25.356Z"
   },
   {
    "duration": 10,
    "start_time": "2022-01-21T10:29:26.751Z"
   },
   {
    "duration": 8,
    "start_time": "2022-01-21T10:29:28.104Z"
   },
   {
    "duration": 10,
    "start_time": "2022-01-21T10:29:29.501Z"
   },
   {
    "duration": 6,
    "start_time": "2022-01-21T10:33:32.395Z"
   },
   {
    "duration": 11,
    "start_time": "2022-01-21T10:33:33.651Z"
   },
   {
    "duration": 162,
    "start_time": "2022-01-21T10:35:39.333Z"
   },
   {
    "duration": 306,
    "start_time": "2022-01-21T10:36:12.543Z"
   },
   {
    "duration": 68,
    "start_time": "2022-01-21T10:36:33.345Z"
   },
   {
    "duration": 344,
    "start_time": "2022-01-21T10:38:17.550Z"
   },
   {
    "duration": 649,
    "start_time": "2022-01-21T10:38:19.005Z"
   },
   {
    "duration": 105,
    "start_time": "2022-01-21T10:38:20.927Z"
   },
   {
    "duration": 97,
    "start_time": "2022-01-21T10:38:57.148Z"
   },
   {
    "duration": 6,
    "start_time": "2022-01-21T10:42:35.907Z"
   },
   {
    "duration": 755,
    "start_time": "2022-01-21T10:42:53.421Z"
   },
   {
    "duration": 631,
    "start_time": "2022-01-21T10:43:03.337Z"
   },
   {
    "duration": 5,
    "start_time": "2022-01-21T10:43:15.153Z"
   },
   {
    "duration": 688,
    "start_time": "2022-01-21T10:43:17.192Z"
   },
   {
    "duration": 6,
    "start_time": "2022-01-21T10:43:53.878Z"
   },
   {
    "duration": 306,
    "start_time": "2022-01-21T10:43:55.356Z"
   },
   {
    "duration": 315,
    "start_time": "2022-01-21T10:44:40.567Z"
   },
   {
    "duration": 6,
    "start_time": "2022-01-21T10:44:44.902Z"
   },
   {
    "duration": 301,
    "start_time": "2022-01-21T10:44:46.471Z"
   },
   {
    "duration": 1323,
    "start_time": "2022-01-21T10:45:47.454Z"
   },
   {
    "duration": 6,
    "start_time": "2022-01-21T10:46:04.980Z"
   },
   {
    "duration": 1475,
    "start_time": "2022-01-21T10:46:06.417Z"
   },
   {
    "duration": 7,
    "start_time": "2022-01-21T10:47:07.288Z"
   },
   {
    "duration": 1075,
    "start_time": "2022-01-21T10:47:08.951Z"
   },
   {
    "duration": 6,
    "start_time": "2022-01-21T10:47:39.288Z"
   },
   {
    "duration": 965,
    "start_time": "2022-01-21T10:47:40.708Z"
   },
   {
    "duration": 7,
    "start_time": "2022-01-21T10:48:52.167Z"
   },
   {
    "duration": 3959,
    "start_time": "2022-01-21T10:48:53.767Z"
   },
   {
    "duration": 10,
    "start_time": "2022-01-21T10:49:29.510Z"
   },
   {
    "duration": 3691,
    "start_time": "2022-01-21T10:49:31.475Z"
   },
   {
    "duration": 10,
    "start_time": "2022-01-21T10:50:14.853Z"
   },
   {
    "duration": 3461,
    "start_time": "2022-01-21T10:50:16.519Z"
   },
   {
    "duration": 7,
    "start_time": "2022-01-21T10:50:30.476Z"
   },
   {
    "duration": 596,
    "start_time": "2022-01-21T10:50:32.025Z"
   },
   {
    "duration": 7,
    "start_time": "2022-01-21T10:50:51.147Z"
   },
   {
    "duration": 2859,
    "start_time": "2022-01-21T10:51:00.078Z"
   },
   {
    "duration": 6,
    "start_time": "2022-01-21T10:51:26.129Z"
   },
   {
    "duration": 1761,
    "start_time": "2022-01-21T10:51:51.056Z"
   },
   {
    "duration": 2008,
    "start_time": "2022-01-21T10:52:12.892Z"
   },
   {
    "duration": 6,
    "start_time": "2022-01-21T10:53:13.179Z"
   },
   {
    "duration": 2952,
    "start_time": "2022-01-21T10:53:15.415Z"
   },
   {
    "duration": 1144,
    "start_time": "2022-01-21T10:53:36.548Z"
   },
   {
    "duration": 6,
    "start_time": "2022-01-21T10:54:12.902Z"
   },
   {
    "duration": 1633,
    "start_time": "2022-01-21T10:54:14.557Z"
   },
   {
    "duration": 6,
    "start_time": "2022-01-21T10:54:25.856Z"
   },
   {
    "duration": 1589,
    "start_time": "2022-01-21T10:54:27.132Z"
   },
   {
    "duration": 1551,
    "start_time": "2022-01-21T10:54:37.530Z"
   },
   {
    "duration": 1595,
    "start_time": "2022-01-21T10:55:04.739Z"
   },
   {
    "duration": 1558,
    "start_time": "2022-01-21T10:55:13.949Z"
   },
   {
    "duration": 1714,
    "start_time": "2022-01-21T10:55:27.998Z"
   },
   {
    "duration": 1672,
    "start_time": "2022-01-21T10:56:09.252Z"
   },
   {
    "duration": 1688,
    "start_time": "2022-01-21T10:58:29.010Z"
   },
   {
    "duration": 1721,
    "start_time": "2022-01-21T10:58:37.985Z"
   },
   {
    "duration": 6,
    "start_time": "2022-01-21T11:00:30.186Z"
   },
   {
    "duration": 1041,
    "start_time": "2022-01-21T11:00:34.625Z"
   },
   {
    "duration": 971,
    "start_time": "2022-01-21T11:00:54.913Z"
   },
   {
    "duration": 832,
    "start_time": "2022-01-21T11:01:24.565Z"
   },
   {
    "duration": 5,
    "start_time": "2022-01-21T11:01:30.259Z"
   },
   {
    "duration": 1683,
    "start_time": "2022-01-21T11:01:31.563Z"
   },
   {
    "duration": 10,
    "start_time": "2022-01-21T11:02:04.561Z"
   },
   {
    "duration": 1711,
    "start_time": "2022-01-21T11:05:23.318Z"
   },
   {
    "duration": 2053,
    "start_time": "2022-01-21T11:05:34.107Z"
   },
   {
    "duration": 1551,
    "start_time": "2022-01-21T11:10:21.479Z"
   },
   {
    "duration": 33,
    "start_time": "2022-01-21T11:10:23.033Z"
   },
   {
    "duration": 24,
    "start_time": "2022-01-21T11:10:23.069Z"
   },
   {
    "duration": 70,
    "start_time": "2022-01-21T11:10:23.096Z"
   },
   {
    "duration": 12,
    "start_time": "2022-01-21T11:10:23.168Z"
   },
   {
    "duration": 17,
    "start_time": "2022-01-21T11:10:23.182Z"
   },
   {
    "duration": 26,
    "start_time": "2022-01-21T11:10:23.202Z"
   },
   {
    "duration": 6,
    "start_time": "2022-01-21T11:10:23.232Z"
   },
   {
    "duration": 39,
    "start_time": "2022-01-21T11:10:23.241Z"
   },
   {
    "duration": 12,
    "start_time": "2022-01-21T11:10:23.282Z"
   },
   {
    "duration": 29,
    "start_time": "2022-01-21T11:10:23.296Z"
   },
   {
    "duration": 16,
    "start_time": "2022-01-21T11:10:23.328Z"
   },
   {
    "duration": 9,
    "start_time": "2022-01-21T11:10:23.346Z"
   },
   {
    "duration": 6,
    "start_time": "2022-01-21T11:10:23.357Z"
   },
   {
    "duration": 25,
    "start_time": "2022-01-21T11:10:23.365Z"
   },
   {
    "duration": 19,
    "start_time": "2022-01-21T11:10:23.423Z"
   },
   {
    "duration": 22,
    "start_time": "2022-01-21T11:10:23.444Z"
   },
   {
    "duration": 56,
    "start_time": "2022-01-21T11:10:23.469Z"
   },
   {
    "duration": 7,
    "start_time": "2022-01-21T11:10:23.528Z"
   },
   {
    "duration": 15,
    "start_time": "2022-01-21T11:10:23.538Z"
   },
   {
    "duration": 7,
    "start_time": "2022-01-21T11:10:23.555Z"
   },
   {
    "duration": 11,
    "start_time": "2022-01-21T11:10:23.564Z"
   },
   {
    "duration": 12,
    "start_time": "2022-01-21T11:10:23.580Z"
   },
   {
    "duration": 3,
    "start_time": "2022-01-21T11:10:23.624Z"
   },
   {
    "duration": 101,
    "start_time": "2022-01-21T11:10:23.629Z"
   },
   {
    "duration": 92,
    "start_time": "2022-01-21T11:10:23.733Z"
   },
   {
    "duration": 39,
    "start_time": "2022-01-21T11:10:23.828Z"
   },
   {
    "duration": 3,
    "start_time": "2022-01-21T11:10:23.869Z"
   },
   {
    "duration": 2077,
    "start_time": "2022-01-21T11:10:23.874Z"
   },
   {
    "duration": 9,
    "start_time": "2022-01-21T11:10:25.953Z"
   },
   {
    "duration": 474,
    "start_time": "2022-01-21T11:10:25.965Z"
   },
   {
    "duration": 8,
    "start_time": "2022-01-21T11:10:26.442Z"
   },
   {
    "duration": 172,
    "start_time": "2022-01-21T11:10:26.453Z"
   },
   {
    "duration": 4,
    "start_time": "2022-01-21T11:10:26.628Z"
   },
   {
    "duration": 4,
    "start_time": "2022-01-21T11:10:26.722Z"
   },
   {
    "duration": 14857,
    "start_time": "2022-01-21T11:10:26.728Z"
   },
   {
    "duration": 3,
    "start_time": "2022-01-21T11:10:41.587Z"
   },
   {
    "duration": 31,
    "start_time": "2022-01-21T11:10:41.592Z"
   },
   {
    "duration": 8955,
    "start_time": "2022-01-21T11:10:41.625Z"
   },
   {
    "duration": 4,
    "start_time": "2022-01-21T11:10:50.582Z"
   },
   {
    "duration": 21,
    "start_time": "2022-01-21T11:10:50.588Z"
   },
   {
    "duration": 447,
    "start_time": "2022-01-21T11:10:50.611Z"
   },
   {
    "duration": 5,
    "start_time": "2022-01-21T11:10:51.060Z"
   },
   {
    "duration": 30,
    "start_time": "2022-01-21T11:10:51.067Z"
   },
   {
    "duration": 7,
    "start_time": "2022-01-21T11:10:51.099Z"
   },
   {
    "duration": 3,
    "start_time": "2022-01-21T11:10:51.124Z"
   },
   {
    "duration": 100,
    "start_time": "2022-01-21T11:10:51.129Z"
   },
   {
    "duration": 18815,
    "start_time": "2022-01-21T11:10:51.234Z"
   },
   {
    "duration": 3,
    "start_time": "2022-01-21T11:11:10.052Z"
   },
   {
    "duration": 9,
    "start_time": "2022-01-21T11:11:10.057Z"
   },
   {
    "duration": 9355,
    "start_time": "2022-01-21T11:11:10.068Z"
   },
   {
    "duration": 9,
    "start_time": "2022-01-21T11:11:19.426Z"
   },
   {
    "duration": 504,
    "start_time": "2022-01-21T11:11:19.437Z"
   },
   {
    "duration": 14,
    "start_time": "2022-01-21T11:11:19.943Z"
   },
   {
    "duration": 5,
    "start_time": "2022-01-21T11:11:19.960Z"
   },
   {
    "duration": 33,
    "start_time": "2022-01-21T11:11:19.967Z"
   },
   {
    "duration": 23,
    "start_time": "2022-01-21T11:11:20.003Z"
   },
   {
    "duration": 17,
    "start_time": "2022-01-21T11:11:20.028Z"
   },
   {
    "duration": 81,
    "start_time": "2022-01-21T11:11:20.047Z"
   },
   {
    "duration": 93,
    "start_time": "2022-01-21T11:11:20.131Z"
   },
   {
    "duration": 38,
    "start_time": "2022-01-21T11:11:20.226Z"
   },
   {
    "duration": 3,
    "start_time": "2022-01-21T11:11:20.267Z"
   },
   {
    "duration": 8,
    "start_time": "2022-01-21T11:11:20.272Z"
   },
   {
    "duration": 573,
    "start_time": "2022-01-21T11:11:20.282Z"
   },
   {
    "duration": 8,
    "start_time": "2022-01-21T11:11:20.857Z"
   },
   {
    "duration": 439,
    "start_time": "2022-01-21T11:11:20.867Z"
   },
   {
    "duration": 6,
    "start_time": "2022-01-21T11:11:21.308Z"
   },
   {
    "duration": 1732,
    "start_time": "2022-01-21T11:11:21.329Z"
   },
   {
    "duration": 1503,
    "start_time": "2022-01-21T12:01:43.029Z"
   },
   {
    "duration": 33,
    "start_time": "2022-01-21T12:01:44.534Z"
   },
   {
    "duration": 23,
    "start_time": "2022-01-21T12:01:44.570Z"
   },
   {
    "duration": 73,
    "start_time": "2022-01-21T12:01:44.596Z"
   },
   {
    "duration": 10,
    "start_time": "2022-01-21T12:01:44.672Z"
   },
   {
    "duration": 9,
    "start_time": "2022-01-21T12:01:44.685Z"
   },
   {
    "duration": 33,
    "start_time": "2022-01-21T12:01:44.696Z"
   },
   {
    "duration": 12,
    "start_time": "2022-01-21T12:01:44.733Z"
   },
   {
    "duration": 31,
    "start_time": "2022-01-21T12:01:44.748Z"
   },
   {
    "duration": 8,
    "start_time": "2022-01-21T12:01:44.781Z"
   },
   {
    "duration": 34,
    "start_time": "2022-01-21T12:01:44.791Z"
   },
   {
    "duration": 7,
    "start_time": "2022-01-21T12:01:44.827Z"
   },
   {
    "duration": 11,
    "start_time": "2022-01-21T12:01:44.836Z"
   },
   {
    "duration": 6,
    "start_time": "2022-01-21T12:01:44.850Z"
   },
   {
    "duration": 67,
    "start_time": "2022-01-21T12:01:44.859Z"
   },
   {
    "duration": 21,
    "start_time": "2022-01-21T12:01:44.929Z"
   },
   {
    "duration": 23,
    "start_time": "2022-01-21T12:01:44.952Z"
   },
   {
    "duration": 50,
    "start_time": "2022-01-21T12:01:44.977Z"
   },
   {
    "duration": 7,
    "start_time": "2022-01-21T12:01:45.030Z"
   },
   {
    "duration": 22,
    "start_time": "2022-01-21T12:01:45.039Z"
   },
   {
    "duration": 11,
    "start_time": "2022-01-21T12:01:45.064Z"
   },
   {
    "duration": 10,
    "start_time": "2022-01-21T12:01:45.077Z"
   },
   {
    "duration": 5,
    "start_time": "2022-01-21T12:01:45.093Z"
   },
   {
    "duration": 4,
    "start_time": "2022-01-21T12:01:45.126Z"
   },
   {
    "duration": 191,
    "start_time": "2022-01-21T12:01:45.133Z"
   },
   {
    "duration": 4,
    "start_time": "2022-01-21T12:01:45.327Z"
   },
   {
    "duration": 40,
    "start_time": "2022-01-21T12:01:45.334Z"
   },
   {
    "duration": 5,
    "start_time": "2022-01-21T12:01:45.376Z"
   },
   {
    "duration": 2495,
    "start_time": "2022-01-21T12:01:45.384Z"
   },
   {
    "duration": 9,
    "start_time": "2022-01-21T12:01:47.881Z"
   },
   {
    "duration": 1320,
    "start_time": "2022-01-21T12:01:47.892Z"
   },
   {
    "duration": 13,
    "start_time": "2022-01-21T12:01:49.215Z"
   },
   {
    "duration": 698,
    "start_time": "2022-01-21T12:01:49.231Z"
   },
   {
    "duration": 610,
    "start_time": "2022-01-21T12:01:49.933Z"
   },
   {
    "duration": 40,
    "start_time": "2022-01-21T12:01:50.546Z"
   },
   {
    "duration": 16419,
    "start_time": "2022-01-21T12:01:50.588Z"
   },
   {
    "duration": 4,
    "start_time": "2022-01-21T12:02:07.010Z"
   },
   {
    "duration": 80,
    "start_time": "2022-01-21T12:02:07.025Z"
   },
   {
    "duration": 9548,
    "start_time": "2022-01-21T12:02:07.108Z"
   },
   {
    "duration": 4,
    "start_time": "2022-01-21T12:02:16.659Z"
   },
   {
    "duration": 20,
    "start_time": "2022-01-21T12:02:16.666Z"
   },
   {
    "duration": 465,
    "start_time": "2022-01-21T12:02:16.689Z"
   },
   {
    "duration": 5,
    "start_time": "2022-01-21T12:02:17.157Z"
   },
   {
    "duration": 40,
    "start_time": "2022-01-21T12:02:17.165Z"
   },
   {
    "duration": 20,
    "start_time": "2022-01-21T12:02:17.208Z"
   },
   {
    "duration": 5,
    "start_time": "2022-01-21T12:02:17.232Z"
   },
   {
    "duration": 284,
    "start_time": "2022-01-21T12:02:17.240Z"
   },
   {
    "duration": 19099,
    "start_time": "2022-01-21T12:02:17.527Z"
   },
   {
    "duration": 3,
    "start_time": "2022-01-21T12:02:36.629Z"
   },
   {
    "duration": 8,
    "start_time": "2022-01-21T12:02:36.635Z"
   },
   {
    "duration": 9394,
    "start_time": "2022-01-21T12:02:36.646Z"
   },
   {
    "duration": 10,
    "start_time": "2022-01-21T12:02:46.042Z"
   },
   {
    "duration": 445,
    "start_time": "2022-01-21T12:02:46.054Z"
   },
   {
    "duration": 26,
    "start_time": "2022-01-21T12:02:46.501Z"
   },
   {
    "duration": 6,
    "start_time": "2022-01-21T12:02:46.529Z"
   },
   {
    "duration": 21,
    "start_time": "2022-01-21T12:02:46.538Z"
   },
   {
    "duration": 8,
    "start_time": "2022-01-21T12:02:46.562Z"
   },
   {
    "duration": 7,
    "start_time": "2022-01-21T12:02:46.573Z"
   },
   {
    "duration": 146,
    "start_time": "2022-01-21T12:02:46.582Z"
   },
   {
    "duration": 93,
    "start_time": "2022-01-21T12:02:46.731Z"
   },
   {
    "duration": 38,
    "start_time": "2022-01-21T12:02:46.828Z"
   },
   {
    "duration": 5,
    "start_time": "2022-01-21T12:02:46.869Z"
   },
   {
    "duration": 8,
    "start_time": "2022-01-21T12:02:46.877Z"
   },
   {
    "duration": 601,
    "start_time": "2022-01-21T12:02:46.888Z"
   },
   {
    "duration": 10,
    "start_time": "2022-01-21T12:02:47.491Z"
   },
   {
    "duration": 426,
    "start_time": "2022-01-21T12:02:47.523Z"
   },
   {
    "duration": 6,
    "start_time": "2022-01-21T12:02:47.952Z"
   },
   {
    "duration": 1779,
    "start_time": "2022-01-21T12:02:47.964Z"
   },
   {
    "duration": 6,
    "start_time": "2022-01-21T12:03:38.532Z"
   },
   {
    "duration": 80,
    "start_time": "2022-01-21T12:03:41.946Z"
   },
   {
    "duration": 6,
    "start_time": "2022-01-21T12:04:11.285Z"
   },
   {
    "duration": 46,
    "start_time": "2022-01-21T12:04:14.880Z"
   },
   {
    "duration": 6,
    "start_time": "2022-01-21T12:05:30.571Z"
   },
   {
    "duration": 1408,
    "start_time": "2022-01-21T12:11:23.715Z"
   },
   {
    "duration": 33,
    "start_time": "2022-01-21T12:11:25.126Z"
   },
   {
    "duration": 24,
    "start_time": "2022-01-21T12:11:25.162Z"
   },
   {
    "duration": 109,
    "start_time": "2022-01-21T12:11:25.224Z"
   },
   {
    "duration": 12,
    "start_time": "2022-01-21T12:11:25.335Z"
   },
   {
    "duration": 10,
    "start_time": "2022-01-21T12:11:25.349Z"
   },
   {
    "duration": 6,
    "start_time": "2022-01-21T12:11:25.361Z"
   },
   {
    "duration": 6,
    "start_time": "2022-01-21T12:11:25.425Z"
   },
   {
    "duration": 5,
    "start_time": "2022-01-21T12:11:25.434Z"
   },
   {
    "duration": 9,
    "start_time": "2022-01-21T12:11:25.441Z"
   },
   {
    "duration": 4,
    "start_time": "2022-01-21T12:11:25.452Z"
   },
   {
    "duration": 6,
    "start_time": "2022-01-21T12:11:25.458Z"
   },
   {
    "duration": 60,
    "start_time": "2022-01-21T12:11:25.466Z"
   },
   {
    "duration": 33,
    "start_time": "2022-01-21T12:11:25.528Z"
   },
   {
    "duration": 66,
    "start_time": "2022-01-21T12:11:25.563Z"
   },
   {
    "duration": 18,
    "start_time": "2022-01-21T12:11:25.631Z"
   },
   {
    "duration": 79,
    "start_time": "2022-01-21T12:11:25.652Z"
   },
   {
    "duration": 5,
    "start_time": "2022-01-21T12:11:25.733Z"
   },
   {
    "duration": 12,
    "start_time": "2022-01-21T12:11:25.740Z"
   },
   {
    "duration": 7,
    "start_time": "2022-01-21T12:11:25.754Z"
   },
   {
    "duration": 59,
    "start_time": "2022-01-21T12:11:25.764Z"
   },
   {
    "duration": 13,
    "start_time": "2022-01-21T12:11:25.826Z"
   },
   {
    "duration": 3,
    "start_time": "2022-01-21T12:11:25.845Z"
   },
   {
    "duration": 178,
    "start_time": "2022-01-21T12:11:25.852Z"
   },
   {
    "duration": 90,
    "start_time": "2022-01-21T12:11:26.033Z"
   },
   {
    "duration": 45,
    "start_time": "2022-01-21T12:11:26.125Z"
   },
   {
    "duration": 3,
    "start_time": "2022-01-21T12:11:26.224Z"
   },
   {
    "duration": 2208,
    "start_time": "2022-01-21T12:11:26.229Z"
   },
   {
    "duration": 10,
    "start_time": "2022-01-21T12:11:28.439Z"
   },
   {
    "duration": 468,
    "start_time": "2022-01-21T12:11:28.451Z"
   },
   {
    "duration": 6,
    "start_time": "2022-01-21T12:11:28.923Z"
   },
   {
    "duration": 99,
    "start_time": "2022-01-21T12:11:28.931Z"
   },
   {
    "duration": 3,
    "start_time": "2022-01-21T12:11:29.123Z"
   },
   {
    "duration": 6,
    "start_time": "2022-01-21T12:11:29.128Z"
   },
   {
    "duration": 15300,
    "start_time": "2022-01-21T12:11:29.136Z"
   },
   {
    "duration": 3,
    "start_time": "2022-01-21T12:11:44.439Z"
   },
   {
    "duration": 9,
    "start_time": "2022-01-21T12:11:44.444Z"
   },
   {
    "duration": 8994,
    "start_time": "2022-01-21T12:11:44.455Z"
   },
   {
    "duration": 4,
    "start_time": "2022-01-21T12:11:53.452Z"
   },
   {
    "duration": 14,
    "start_time": "2022-01-21T12:11:53.458Z"
   },
   {
    "duration": 474,
    "start_time": "2022-01-21T12:11:53.475Z"
   },
   {
    "duration": 5,
    "start_time": "2022-01-21T12:11:53.952Z"
   },
   {
    "duration": 29,
    "start_time": "2022-01-21T12:11:53.959Z"
   },
   {
    "duration": 7,
    "start_time": "2022-01-21T12:11:53.991Z"
   },
   {
    "duration": 23,
    "start_time": "2022-01-21T12:11:54.001Z"
   },
   {
    "duration": 198,
    "start_time": "2022-01-21T12:11:54.027Z"
   },
   {
    "duration": 19012,
    "start_time": "2022-01-21T12:11:54.229Z"
   },
   {
    "duration": 4,
    "start_time": "2022-01-21T12:12:13.243Z"
   },
   {
    "duration": 7,
    "start_time": "2022-01-21T12:12:13.249Z"
   },
   {
    "duration": 9296,
    "start_time": "2022-01-21T12:12:13.258Z"
   },
   {
    "duration": 13,
    "start_time": "2022-01-21T12:12:22.557Z"
   },
   {
    "duration": 476,
    "start_time": "2022-01-21T12:12:22.573Z"
   },
   {
    "duration": 14,
    "start_time": "2022-01-21T12:12:23.051Z"
   },
   {
    "duration": 6,
    "start_time": "2022-01-21T12:12:23.067Z"
   },
   {
    "duration": 48,
    "start_time": "2022-01-21T12:12:23.075Z"
   },
   {
    "duration": 6,
    "start_time": "2022-01-21T12:12:23.125Z"
   },
   {
    "duration": 10,
    "start_time": "2022-01-21T12:12:23.134Z"
   },
   {
    "duration": 82,
    "start_time": "2022-01-21T12:12:23.146Z"
   },
   {
    "duration": 5,
    "start_time": "2022-01-21T12:12:23.231Z"
   },
   {
    "duration": 27,
    "start_time": "2022-01-21T12:12:23.324Z"
   },
   {
    "duration": 3,
    "start_time": "2022-01-21T12:12:23.353Z"
   },
   {
    "duration": 10,
    "start_time": "2022-01-21T12:12:23.359Z"
   },
   {
    "duration": 669,
    "start_time": "2022-01-21T12:12:23.372Z"
   },
   {
    "duration": 9,
    "start_time": "2022-01-21T12:12:24.043Z"
   },
   {
    "duration": 529,
    "start_time": "2022-01-21T12:12:24.055Z"
   },
   {
    "duration": 5,
    "start_time": "2022-01-21T12:12:24.587Z"
   },
   {
    "duration": 1945,
    "start_time": "2022-01-21T12:12:24.595Z"
   },
   {
    "duration": 10,
    "start_time": "2022-01-21T12:13:35.481Z"
   },
   {
    "duration": 29,
    "start_time": "2022-01-21T12:15:56.805Z"
   },
   {
    "duration": 29,
    "start_time": "2022-01-21T12:16:44.797Z"
   },
   {
    "duration": 438,
    "start_time": "2022-01-21T12:18:25.648Z"
   },
   {
    "duration": 446,
    "start_time": "2022-01-21T12:18:38.234Z"
   },
   {
    "duration": 405,
    "start_time": "2022-01-21T12:18:44.498Z"
   },
   {
    "duration": 412,
    "start_time": "2022-01-21T12:18:49.992Z"
   },
   {
    "duration": 31,
    "start_time": "2022-01-21T12:20:53.736Z"
   },
   {
    "duration": 1393,
    "start_time": "2022-01-21T12:25:35.069Z"
   },
   {
    "duration": 35,
    "start_time": "2022-01-21T12:25:36.465Z"
   },
   {
    "duration": 36,
    "start_time": "2022-01-21T12:25:36.503Z"
   },
   {
    "duration": 61,
    "start_time": "2022-01-21T12:25:36.542Z"
   },
   {
    "duration": 14,
    "start_time": "2022-01-21T12:25:36.624Z"
   },
   {
    "duration": 12,
    "start_time": "2022-01-21T12:25:36.641Z"
   },
   {
    "duration": 8,
    "start_time": "2022-01-21T12:25:36.655Z"
   },
   {
    "duration": 56,
    "start_time": "2022-01-21T12:25:36.668Z"
   },
   {
    "duration": 6,
    "start_time": "2022-01-21T12:25:36.727Z"
   },
   {
    "duration": 11,
    "start_time": "2022-01-21T12:25:36.736Z"
   },
   {
    "duration": 5,
    "start_time": "2022-01-21T12:25:36.750Z"
   },
   {
    "duration": 7,
    "start_time": "2022-01-21T12:25:36.758Z"
   },
   {
    "duration": 55,
    "start_time": "2022-01-21T12:25:36.768Z"
   },
   {
    "duration": 28,
    "start_time": "2022-01-21T12:25:36.826Z"
   },
   {
    "duration": 20,
    "start_time": "2022-01-21T12:25:36.857Z"
   },
   {
    "duration": 54,
    "start_time": "2022-01-21T12:25:36.880Z"
   },
   {
    "duration": 28,
    "start_time": "2022-01-21T12:25:36.936Z"
   },
   {
    "duration": 8,
    "start_time": "2022-01-21T12:25:36.967Z"
   },
   {
    "duration": 55,
    "start_time": "2022-01-21T12:25:36.978Z"
   },
   {
    "duration": 13,
    "start_time": "2022-01-21T12:25:37.035Z"
   },
   {
    "duration": 20,
    "start_time": "2022-01-21T12:25:37.051Z"
   },
   {
    "duration": 11,
    "start_time": "2022-01-21T12:25:37.074Z"
   },
   {
    "duration": 8,
    "start_time": "2022-01-21T12:25:37.090Z"
   },
   {
    "duration": 235,
    "start_time": "2022-01-21T12:25:37.102Z"
   },
   {
    "duration": 3,
    "start_time": "2022-01-21T12:25:37.424Z"
   },
   {
    "duration": 45,
    "start_time": "2022-01-21T12:25:37.430Z"
   },
   {
    "duration": 3,
    "start_time": "2022-01-21T12:25:37.477Z"
   },
   {
    "duration": 2063,
    "start_time": "2022-01-21T12:25:37.482Z"
   },
   {
    "duration": 9,
    "start_time": "2022-01-21T12:25:39.547Z"
   },
   {
    "duration": 459,
    "start_time": "2022-01-21T12:25:39.558Z"
   },
   {
    "duration": 7,
    "start_time": "2022-01-21T12:25:40.024Z"
   },
   {
    "duration": 7,
    "start_time": "2022-01-21T12:25:40.033Z"
   },
   {
    "duration": 183,
    "start_time": "2022-01-21T12:25:40.042Z"
   },
   {
    "duration": 4,
    "start_time": "2022-01-21T12:25:40.227Z"
   },
   {
    "duration": 47,
    "start_time": "2022-01-21T12:25:40.233Z"
   },
   {
    "duration": 4,
    "start_time": "2022-01-21T12:25:40.282Z"
   },
   {
    "duration": 8881,
    "start_time": "2022-01-21T12:25:40.288Z"
   },
   {
    "duration": 10,
    "start_time": "2022-01-21T12:25:49.172Z"
   },
   {
    "duration": 430,
    "start_time": "2022-01-21T12:25:49.184Z"
   },
   {
    "duration": 10,
    "start_time": "2022-01-21T12:25:49.616Z"
   },
   {
    "duration": 25,
    "start_time": "2022-01-21T12:25:49.628Z"
   },
   {
    "duration": 7,
    "start_time": "2022-01-21T12:25:49.655Z"
   },
   {
    "duration": 199968,
    "start_time": "2022-01-21T12:25:49.664Z"
   },
   {
    "duration": 102,
    "start_time": "2022-01-21T12:29:09.724Z"
   },
   {
    "duration": 95,
    "start_time": "2022-01-21T12:29:09.829Z"
   },
   {
    "duration": 58,
    "start_time": "2022-01-21T12:29:09.926Z"
   },
   {
    "duration": 4,
    "start_time": "2022-01-21T12:29:09.986Z"
   },
   {
    "duration": 9015,
    "start_time": "2022-01-21T12:29:09.993Z"
   },
   {
    "duration": 19,
    "start_time": "2022-01-21T12:29:19.011Z"
   },
   {
    "duration": 455,
    "start_time": "2022-01-21T12:29:19.033Z"
   },
   {
    "duration": 15,
    "start_time": "2022-01-21T12:29:19.491Z"
   },
   {
    "duration": 7,
    "start_time": "2022-01-21T12:29:19.523Z"
   },
   {
    "duration": 23,
    "start_time": "2022-01-21T12:29:19.532Z"
   },
   {
    "duration": 6,
    "start_time": "2022-01-21T12:29:19.557Z"
   },
   {
    "duration": 8,
    "start_time": "2022-01-21T12:29:19.565Z"
   },
   {
    "duration": 60,
    "start_time": "2022-01-21T12:29:19.575Z"
   },
   {
    "duration": 11,
    "start_time": "2022-01-21T12:29:19.725Z"
   },
   {
    "duration": 29,
    "start_time": "2022-01-21T12:29:19.823Z"
   },
   {
    "duration": 4,
    "start_time": "2022-01-21T12:29:19.854Z"
   },
   {
    "duration": 8,
    "start_time": "2022-01-21T12:29:19.860Z"
   },
   {
    "duration": 606,
    "start_time": "2022-01-21T12:29:19.870Z"
   },
   {
    "duration": 9,
    "start_time": "2022-01-21T12:29:20.479Z"
   },
   {
    "duration": 461,
    "start_time": "2022-01-21T12:29:20.491Z"
   },
   {
    "duration": 5,
    "start_time": "2022-01-21T12:29:20.955Z"
   },
   {
    "duration": 1899,
    "start_time": "2022-01-21T12:29:20.962Z"
   },
   {
    "duration": 3,
    "start_time": "2022-01-21T12:29:49.523Z"
   },
   {
    "duration": 4,
    "start_time": "2022-01-21T12:34:14.386Z"
   },
   {
    "duration": 1965,
    "start_time": "2022-01-21T12:35:10.513Z"
   },
   {
    "duration": 1936,
    "start_time": "2022-01-21T12:35:35.878Z"
   },
   {
    "duration": 1788,
    "start_time": "2022-01-21T12:35:59.101Z"
   },
   {
    "duration": 2025,
    "start_time": "2022-01-21T12:36:10.129Z"
   },
   {
    "duration": 79,
    "start_time": "2022-01-21T12:36:12.157Z"
   },
   {
    "duration": 27,
    "start_time": "2022-01-21T12:36:12.239Z"
   },
   {
    "duration": 125,
    "start_time": "2022-01-21T12:36:12.325Z"
   },
   {
    "duration": 13,
    "start_time": "2022-01-21T12:36:12.453Z"
   },
   {
    "duration": 12,
    "start_time": "2022-01-21T12:36:12.468Z"
   },
   {
    "duration": 7,
    "start_time": "2022-01-21T12:36:12.524Z"
   },
   {
    "duration": 7,
    "start_time": "2022-01-21T12:36:12.535Z"
   },
   {
    "duration": 7,
    "start_time": "2022-01-21T12:36:12.545Z"
   },
   {
    "duration": 9,
    "start_time": "2022-01-21T12:36:12.554Z"
   },
   {
    "duration": 4,
    "start_time": "2022-01-21T12:36:12.565Z"
   },
   {
    "duration": 54,
    "start_time": "2022-01-21T12:36:12.572Z"
   },
   {
    "duration": 6,
    "start_time": "2022-01-21T12:36:12.628Z"
   },
   {
    "duration": 33,
    "start_time": "2022-01-21T12:36:12.636Z"
   },
   {
    "duration": 19,
    "start_time": "2022-01-21T12:36:12.671Z"
   },
   {
    "duration": 50,
    "start_time": "2022-01-21T12:36:12.693Z"
   },
   {
    "duration": 28,
    "start_time": "2022-01-21T12:36:12.746Z"
   },
   {
    "duration": 7,
    "start_time": "2022-01-21T12:36:12.777Z"
   },
   {
    "duration": 45,
    "start_time": "2022-01-21T12:36:12.786Z"
   },
   {
    "duration": 9,
    "start_time": "2022-01-21T12:36:12.834Z"
   },
   {
    "duration": 8,
    "start_time": "2022-01-21T12:36:12.847Z"
   },
   {
    "duration": 16,
    "start_time": "2022-01-21T12:36:12.858Z"
   },
   {
    "duration": 4,
    "start_time": "2022-01-21T12:36:12.881Z"
   },
   {
    "duration": 142,
    "start_time": "2022-01-21T12:36:12.888Z"
   },
   {
    "duration": 90,
    "start_time": "2022-01-21T12:36:13.033Z"
   },
   {
    "duration": 46,
    "start_time": "2022-01-21T12:36:13.126Z"
   },
   {
    "duration": 4,
    "start_time": "2022-01-21T12:36:13.175Z"
   },
   {
    "duration": 2320,
    "start_time": "2022-01-21T12:36:13.181Z"
   },
   {
    "duration": 19,
    "start_time": "2022-01-21T12:36:15.504Z"
   },
   {
    "duration": 483,
    "start_time": "2022-01-21T12:36:15.525Z"
   },
   {
    "duration": 16,
    "start_time": "2022-01-21T12:36:16.010Z"
   },
   {
    "duration": 10,
    "start_time": "2022-01-21T12:36:16.028Z"
   },
   {
    "duration": 87,
    "start_time": "2022-01-21T12:36:16.040Z"
   },
   {
    "duration": 93,
    "start_time": "2022-01-21T12:36:16.131Z"
   },
   {
    "duration": 58,
    "start_time": "2022-01-21T12:36:16.226Z"
   },
   {
    "duration": 3,
    "start_time": "2022-01-21T12:36:16.286Z"
   },
   {
    "duration": 9522,
    "start_time": "2022-01-21T12:36:16.291Z"
   },
   {
    "duration": 14,
    "start_time": "2022-01-21T12:36:25.815Z"
   },
   {
    "duration": 495,
    "start_time": "2022-01-21T12:36:25.831Z"
   },
   {
    "duration": 5,
    "start_time": "2022-01-21T12:36:26.329Z"
   },
   {
    "duration": 31,
    "start_time": "2022-01-21T12:36:26.336Z"
   },
   {
    "duration": 7,
    "start_time": "2022-01-21T12:36:26.369Z"
   },
   {
    "duration": 5,
    "start_time": "2022-01-21T12:36:26.379Z"
   },
   {
    "duration": 144,
    "start_time": "2022-01-21T12:36:26.386Z"
   },
   {
    "duration": 91,
    "start_time": "2022-01-21T12:36:26.533Z"
   },
   {
    "duration": 69,
    "start_time": "2022-01-21T12:36:26.627Z"
   },
   {
    "duration": 4,
    "start_time": "2022-01-21T12:36:26.698Z"
   },
   {
    "duration": 4,
    "start_time": "2022-01-21T12:36:26.724Z"
   },
   {
    "duration": 9803,
    "start_time": "2022-01-21T12:36:26.731Z"
   },
   {
    "duration": 10,
    "start_time": "2022-01-21T12:36:36.536Z"
   },
   {
    "duration": 489,
    "start_time": "2022-01-21T12:36:36.549Z"
   },
   {
    "duration": 16,
    "start_time": "2022-01-21T12:36:37.041Z"
   },
   {
    "duration": 22,
    "start_time": "2022-01-21T12:36:37.060Z"
   },
   {
    "duration": 41,
    "start_time": "2022-01-21T12:36:37.084Z"
   },
   {
    "duration": 8,
    "start_time": "2022-01-21T12:36:37.127Z"
   },
   {
    "duration": 9,
    "start_time": "2022-01-21T12:36:37.137Z"
   },
   {
    "duration": 183,
    "start_time": "2022-01-21T12:36:37.149Z"
   },
   {
    "duration": 4,
    "start_time": "2022-01-21T12:36:37.424Z"
   },
   {
    "duration": 30,
    "start_time": "2022-01-21T12:36:37.431Z"
   },
   {
    "duration": 4,
    "start_time": "2022-01-21T12:36:37.463Z"
   },
   {
    "duration": 8,
    "start_time": "2022-01-21T12:36:37.469Z"
   },
   {
    "duration": 609,
    "start_time": "2022-01-21T12:36:37.479Z"
   },
   {
    "duration": 10,
    "start_time": "2022-01-21T12:36:38.091Z"
   },
   {
    "duration": 464,
    "start_time": "2022-01-21T12:36:38.105Z"
   },
   {
    "duration": 5,
    "start_time": "2022-01-21T12:36:38.572Z"
   },
   {
    "duration": 1910,
    "start_time": "2022-01-21T12:36:38.580Z"
   },
   {
    "duration": 6,
    "start_time": "2022-01-21T12:37:35.627Z"
   },
   {
    "duration": 1904,
    "start_time": "2022-01-21T12:37:37.923Z"
   },
   {
    "duration": 1104,
    "start_time": "2022-01-22T09:16:51.944Z"
   },
   {
    "duration": 28,
    "start_time": "2022-01-22T09:16:53.050Z"
   },
   {
    "duration": 18,
    "start_time": "2022-01-22T09:16:53.082Z"
   },
   {
    "duration": 51,
    "start_time": "2022-01-22T09:16:53.102Z"
   },
   {
    "duration": 7,
    "start_time": "2022-01-22T09:16:53.155Z"
   },
   {
    "duration": 9,
    "start_time": "2022-01-22T09:16:53.164Z"
   },
   {
    "duration": 12,
    "start_time": "2022-01-22T09:16:53.176Z"
   },
   {
    "duration": 6,
    "start_time": "2022-01-22T09:16:53.190Z"
   },
   {
    "duration": 17,
    "start_time": "2022-01-22T09:16:53.198Z"
   },
   {
    "duration": 10,
    "start_time": "2022-01-22T09:16:53.217Z"
   },
   {
    "duration": 4,
    "start_time": "2022-01-22T09:16:53.228Z"
   },
   {
    "duration": 9,
    "start_time": "2022-01-22T09:16:53.233Z"
   },
   {
    "duration": 5,
    "start_time": "2022-01-22T09:16:53.244Z"
   },
   {
    "duration": 19,
    "start_time": "2022-01-22T09:16:53.251Z"
   },
   {
    "duration": 40,
    "start_time": "2022-01-22T09:16:53.272Z"
   },
   {
    "duration": 14,
    "start_time": "2022-01-22T09:16:53.314Z"
   },
   {
    "duration": 16,
    "start_time": "2022-01-22T09:16:53.330Z"
   },
   {
    "duration": 4,
    "start_time": "2022-01-22T09:16:53.347Z"
   },
   {
    "duration": 14,
    "start_time": "2022-01-22T09:16:53.353Z"
   },
   {
    "duration": 8,
    "start_time": "2022-01-22T09:16:53.368Z"
   },
   {
    "duration": 4,
    "start_time": "2022-01-22T09:16:53.413Z"
   },
   {
    "duration": 6,
    "start_time": "2022-01-22T09:16:53.421Z"
   },
   {
    "duration": 11,
    "start_time": "2022-01-22T09:16:53.430Z"
   },
   {
    "duration": 73,
    "start_time": "2022-01-22T09:16:53.443Z"
   },
   {
    "duration": 93,
    "start_time": "2022-01-22T09:16:53.518Z"
   },
   {
    "duration": 31,
    "start_time": "2022-01-22T09:16:53.613Z"
   },
   {
    "duration": 2,
    "start_time": "2022-01-22T09:16:53.646Z"
   },
   {
    "duration": 1633,
    "start_time": "2022-01-22T09:16:53.650Z"
   },
   {
    "duration": 7,
    "start_time": "2022-01-22T09:16:55.285Z"
   },
   {
    "duration": 323,
    "start_time": "2022-01-22T09:16:55.294Z"
   },
   {
    "duration": 5,
    "start_time": "2022-01-22T09:16:55.619Z"
   },
   {
    "duration": 5,
    "start_time": "2022-01-22T09:16:55.625Z"
   },
   {
    "duration": 88,
    "start_time": "2022-01-22T09:16:55.631Z"
   },
   {
    "duration": 90,
    "start_time": "2022-01-22T09:16:55.722Z"
   },
   {
    "duration": 41,
    "start_time": "2022-01-22T09:16:55.814Z"
   },
   {
    "duration": 3,
    "start_time": "2022-01-22T09:16:55.856Z"
   },
   {
    "duration": 6895,
    "start_time": "2022-01-22T09:16:55.860Z"
   },
   {
    "duration": 7,
    "start_time": "2022-01-22T09:17:02.756Z"
   },
   {
    "duration": 319,
    "start_time": "2022-01-22T09:17:02.765Z"
   },
   {
    "duration": 4,
    "start_time": "2022-01-22T09:17:03.085Z"
   },
   {
    "duration": 46,
    "start_time": "2022-01-22T09:17:03.090Z"
   },
   {
    "duration": 31,
    "start_time": "2022-01-22T09:17:03.137Z"
   },
   {
    "duration": 16,
    "start_time": "2022-01-22T09:17:03.169Z"
   },
   {
    "duration": 127,
    "start_time": "2022-01-22T09:17:03.187Z"
   },
   {
    "duration": 4,
    "start_time": "2022-01-22T09:17:03.316Z"
   },
   {
    "duration": 147,
    "start_time": "2022-01-22T09:17:03.323Z"
   },
   {
    "duration": 2,
    "start_time": "2022-01-22T09:17:03.472Z"
   },
   {
    "duration": 22,
    "start_time": "2022-01-22T09:17:03.476Z"
   },
   {
    "duration": 6519,
    "start_time": "2022-01-22T09:17:03.499Z"
   },
   {
    "duration": 7,
    "start_time": "2022-01-22T09:17:10.020Z"
   },
   {
    "duration": 292,
    "start_time": "2022-01-22T09:17:10.028Z"
   },
   {
    "duration": 9,
    "start_time": "2022-01-22T09:17:10.322Z"
   },
   {
    "duration": 3,
    "start_time": "2022-01-22T09:17:10.333Z"
   },
   {
    "duration": 17,
    "start_time": "2022-01-22T09:17:10.338Z"
   },
   {
    "duration": 5,
    "start_time": "2022-01-22T09:17:10.356Z"
   },
   {
    "duration": 6,
    "start_time": "2022-01-22T09:17:10.363Z"
   },
   {
    "duration": 145,
    "start_time": "2022-01-22T09:17:10.370Z"
   },
   {
    "duration": 4,
    "start_time": "2022-01-22T09:17:10.516Z"
   },
   {
    "duration": 109,
    "start_time": "2022-01-22T09:17:10.522Z"
   },
   {
    "duration": 2,
    "start_time": "2022-01-22T09:17:10.633Z"
   },
   {
    "duration": 8,
    "start_time": "2022-01-22T09:17:10.637Z"
   },
   {
    "duration": 404,
    "start_time": "2022-01-22T09:17:10.646Z"
   },
   {
    "duration": 7,
    "start_time": "2022-01-22T09:17:11.052Z"
   },
   {
    "duration": 305,
    "start_time": "2022-01-22T09:17:11.060Z"
   },
   {
    "duration": 4,
    "start_time": "2022-01-22T09:17:11.367Z"
   },
   {
    "duration": 1302,
    "start_time": "2022-01-22T09:17:11.373Z"
   },
   {
    "duration": 1192,
    "start_time": "2022-01-22T09:46:08.864Z"
   },
   {
    "duration": 1198,
    "start_time": "2022-01-22T09:46:26.327Z"
   },
   {
    "duration": 1119,
    "start_time": "2022-01-22T09:49:27.048Z"
   },
   {
    "duration": 1220,
    "start_time": "2022-01-22T09:49:36.636Z"
   },
   {
    "duration": 1109,
    "start_time": "2022-01-22T20:17:38.840Z"
   },
   {
    "duration": 29,
    "start_time": "2022-01-22T20:17:39.950Z"
   },
   {
    "duration": 16,
    "start_time": "2022-01-22T20:17:39.982Z"
   },
   {
    "duration": 46,
    "start_time": "2022-01-22T20:17:40.000Z"
   },
   {
    "duration": 7,
    "start_time": "2022-01-22T20:17:40.048Z"
   },
   {
    "duration": 12,
    "start_time": "2022-01-22T20:17:40.056Z"
   },
   {
    "duration": 5,
    "start_time": "2022-01-22T20:17:40.070Z"
   },
   {
    "duration": 7,
    "start_time": "2022-01-22T20:17:40.077Z"
   },
   {
    "duration": 6,
    "start_time": "2022-01-22T20:17:40.086Z"
   },
   {
    "duration": 9,
    "start_time": "2022-01-22T20:17:40.093Z"
   },
   {
    "duration": 25,
    "start_time": "2022-01-22T20:17:40.104Z"
   },
   {
    "duration": 6,
    "start_time": "2022-01-22T20:17:40.130Z"
   },
   {
    "duration": 6,
    "start_time": "2022-01-22T20:17:40.138Z"
   },
   {
    "duration": 19,
    "start_time": "2022-01-22T20:17:40.145Z"
   },
   {
    "duration": 5,
    "start_time": "2022-01-22T20:17:40.166Z"
   },
   {
    "duration": 9,
    "start_time": "2022-01-22T20:17:40.172Z"
   },
   {
    "duration": 11,
    "start_time": "2022-01-22T20:17:40.183Z"
   },
   {
    "duration": 38,
    "start_time": "2022-01-22T20:17:40.196Z"
   },
   {
    "duration": 17,
    "start_time": "2022-01-22T20:17:40.236Z"
   },
   {
    "duration": 5,
    "start_time": "2022-01-22T20:17:40.254Z"
   },
   {
    "duration": 4,
    "start_time": "2022-01-22T20:17:40.260Z"
   },
   {
    "duration": 5,
    "start_time": "2022-01-22T20:17:40.267Z"
   },
   {
    "duration": 3,
    "start_time": "2022-01-22T20:17:40.274Z"
   },
   {
    "duration": 355,
    "start_time": "2022-01-22T20:17:40.279Z"
   },
   {
    "duration": 2,
    "start_time": "2022-01-22T20:17:40.636Z"
   },
   {
    "duration": 221,
    "start_time": "2022-01-22T20:17:40.639Z"
   },
   {
    "duration": 3,
    "start_time": "2022-01-22T20:17:40.861Z"
   },
   {
    "duration": 219,
    "start_time": "2022-01-22T20:17:40.865Z"
   },
   {
    "duration": 5,
    "start_time": "2022-01-22T20:17:41.086Z"
   },
   {
    "duration": 345,
    "start_time": "2022-01-22T20:17:41.092Z"
   },
   {
    "duration": 225,
    "start_time": "2022-01-22T20:17:41.214Z"
   },
   {
    "duration": 223,
    "start_time": "2022-01-22T20:17:41.217Z"
   },
   {
    "duration": 218,
    "start_time": "2022-01-22T20:17:41.222Z"
   },
   {
    "duration": 215,
    "start_time": "2022-01-22T20:17:41.226Z"
   },
   {
    "duration": 210,
    "start_time": "2022-01-22T20:17:41.232Z"
   },
   {
    "duration": 207,
    "start_time": "2022-01-22T20:17:41.235Z"
   },
   {
    "duration": 203,
    "start_time": "2022-01-22T20:17:41.240Z"
   },
   {
    "duration": 200,
    "start_time": "2022-01-22T20:17:41.244Z"
   },
   {
    "duration": 197,
    "start_time": "2022-01-22T20:17:41.248Z"
   },
   {
    "duration": 194,
    "start_time": "2022-01-22T20:17:41.251Z"
   },
   {
    "duration": 189,
    "start_time": "2022-01-22T20:17:41.257Z"
   },
   {
    "duration": 186,
    "start_time": "2022-01-22T20:17:41.261Z"
   },
   {
    "duration": 182,
    "start_time": "2022-01-22T20:17:41.266Z"
   },
   {
    "duration": 178,
    "start_time": "2022-01-22T20:17:41.270Z"
   },
   {
    "duration": 174,
    "start_time": "2022-01-22T20:17:41.275Z"
   },
   {
    "duration": 171,
    "start_time": "2022-01-22T20:17:41.279Z"
   },
   {
    "duration": 167,
    "start_time": "2022-01-22T20:17:41.283Z"
   },
   {
    "duration": 164,
    "start_time": "2022-01-22T20:17:41.287Z"
   },
   {
    "duration": 159,
    "start_time": "2022-01-22T20:17:41.293Z"
   },
   {
    "duration": 154,
    "start_time": "2022-01-22T20:17:41.298Z"
   },
   {
    "duration": 151,
    "start_time": "2022-01-22T20:17:41.302Z"
   },
   {
    "duration": 147,
    "start_time": "2022-01-22T20:17:41.307Z"
   },
   {
    "duration": 135,
    "start_time": "2022-01-22T20:17:41.319Z"
   },
   {
    "duration": 130,
    "start_time": "2022-01-22T20:17:41.325Z"
   },
   {
    "duration": 126,
    "start_time": "2022-01-22T20:17:41.330Z"
   },
   {
    "duration": 123,
    "start_time": "2022-01-22T20:17:41.333Z"
   },
   {
    "duration": 117,
    "start_time": "2022-01-22T20:17:41.340Z"
   },
   {
    "duration": 114,
    "start_time": "2022-01-22T20:17:41.344Z"
   },
   {
    "duration": 110,
    "start_time": "2022-01-22T20:17:41.349Z"
   },
   {
    "duration": 106,
    "start_time": "2022-01-22T20:17:41.353Z"
   },
   {
    "duration": 103,
    "start_time": "2022-01-22T20:17:41.357Z"
   },
   {
    "duration": 100,
    "start_time": "2022-01-22T20:17:41.361Z"
   },
   {
    "duration": 96,
    "start_time": "2022-01-22T20:17:41.365Z"
   },
   {
    "duration": 93,
    "start_time": "2022-01-22T20:17:41.369Z"
   },
   {
    "duration": 89,
    "start_time": "2022-01-22T20:17:41.374Z"
   },
   {
    "duration": 85,
    "start_time": "2022-01-22T20:17:41.378Z"
   },
   {
    "duration": 1174,
    "start_time": "2022-01-22T20:21:00.575Z"
   },
   {
    "duration": 28,
    "start_time": "2022-01-22T20:21:01.751Z"
   },
   {
    "duration": 16,
    "start_time": "2022-01-22T20:21:01.783Z"
   },
   {
    "duration": 40,
    "start_time": "2022-01-22T20:21:01.801Z"
   },
   {
    "duration": 7,
    "start_time": "2022-01-22T20:21:01.842Z"
   },
   {
    "duration": 6,
    "start_time": "2022-01-22T20:21:01.851Z"
   },
   {
    "duration": 6,
    "start_time": "2022-01-22T20:21:01.859Z"
   },
   {
    "duration": 5,
    "start_time": "2022-01-22T20:21:01.867Z"
   },
   {
    "duration": 4,
    "start_time": "2022-01-22T20:21:01.874Z"
   },
   {
    "duration": 7,
    "start_time": "2022-01-22T20:21:01.880Z"
   },
   {
    "duration": 41,
    "start_time": "2022-01-22T20:21:01.888Z"
   },
   {
    "duration": 5,
    "start_time": "2022-01-22T20:21:01.931Z"
   },
   {
    "duration": 5,
    "start_time": "2022-01-22T20:21:01.938Z"
   },
   {
    "duration": 20,
    "start_time": "2022-01-22T20:21:01.945Z"
   },
   {
    "duration": 4,
    "start_time": "2022-01-22T20:21:01.966Z"
   },
   {
    "duration": 9,
    "start_time": "2022-01-22T20:21:01.972Z"
   },
   {
    "duration": 13,
    "start_time": "2022-01-22T20:21:01.983Z"
   },
   {
    "duration": 44,
    "start_time": "2022-01-22T20:21:01.998Z"
   },
   {
    "duration": 17,
    "start_time": "2022-01-22T20:21:02.044Z"
   },
   {
    "duration": 5,
    "start_time": "2022-01-22T20:21:02.063Z"
   },
   {
    "duration": 5,
    "start_time": "2022-01-22T20:21:02.069Z"
   },
   {
    "duration": 5,
    "start_time": "2022-01-22T20:21:02.079Z"
   },
   {
    "duration": 3,
    "start_time": "2022-01-22T20:21:02.088Z"
   },
   {
    "duration": 308,
    "start_time": "2022-01-22T20:21:02.128Z"
   },
   {
    "duration": 4,
    "start_time": "2022-01-22T20:21:02.437Z"
   },
   {
    "duration": 225,
    "start_time": "2022-01-22T20:21:02.443Z"
   },
   {
    "duration": 3,
    "start_time": "2022-01-22T20:21:02.670Z"
   },
   {
    "duration": 233,
    "start_time": "2022-01-22T20:21:02.675Z"
   },
   {
    "duration": 5,
    "start_time": "2022-01-22T20:21:02.910Z"
   },
   {
    "duration": 344,
    "start_time": "2022-01-22T20:21:02.916Z"
   },
   {
    "duration": 210,
    "start_time": "2022-01-22T20:21:03.052Z"
   },
   {
    "duration": 205,
    "start_time": "2022-01-22T20:21:03.058Z"
   },
   {
    "duration": 201,
    "start_time": "2022-01-22T20:21:03.063Z"
   },
   {
    "duration": 197,
    "start_time": "2022-01-22T20:21:03.068Z"
   },
   {
    "duration": 193,
    "start_time": "2022-01-22T20:21:03.073Z"
   },
   {
    "duration": 190,
    "start_time": "2022-01-22T20:21:03.077Z"
   },
   {
    "duration": 184,
    "start_time": "2022-01-22T20:21:03.084Z"
   },
   {
    "duration": 180,
    "start_time": "2022-01-22T20:21:03.089Z"
   },
   {
    "duration": 174,
    "start_time": "2022-01-22T20:21:03.095Z"
   },
   {
    "duration": 170,
    "start_time": "2022-01-22T20:21:03.100Z"
   },
   {
    "duration": 165,
    "start_time": "2022-01-22T20:21:03.106Z"
   },
   {
    "duration": 161,
    "start_time": "2022-01-22T20:21:03.111Z"
   },
   {
    "duration": 156,
    "start_time": "2022-01-22T20:21:03.117Z"
   },
   {
    "duration": 152,
    "start_time": "2022-01-22T20:21:03.122Z"
   },
   {
    "duration": 148,
    "start_time": "2022-01-22T20:21:03.127Z"
   },
   {
    "duration": 143,
    "start_time": "2022-01-22T20:21:03.133Z"
   },
   {
    "duration": 139,
    "start_time": "2022-01-22T20:21:03.138Z"
   },
   {
    "duration": 134,
    "start_time": "2022-01-22T20:21:03.144Z"
   },
   {
    "duration": 118,
    "start_time": "2022-01-22T20:21:03.160Z"
   },
   {
    "duration": 114,
    "start_time": "2022-01-22T20:21:03.165Z"
   },
   {
    "duration": 110,
    "start_time": "2022-01-22T20:21:03.170Z"
   },
   {
    "duration": 105,
    "start_time": "2022-01-22T20:21:03.176Z"
   },
   {
    "duration": 101,
    "start_time": "2022-01-22T20:21:03.181Z"
   },
   {
    "duration": 98,
    "start_time": "2022-01-22T20:21:03.185Z"
   },
   {
    "duration": 94,
    "start_time": "2022-01-22T20:21:03.190Z"
   },
   {
    "duration": 89,
    "start_time": "2022-01-22T20:21:03.195Z"
   },
   {
    "duration": 86,
    "start_time": "2022-01-22T20:21:03.199Z"
   },
   {
    "duration": 83,
    "start_time": "2022-01-22T20:21:03.203Z"
   },
   {
    "duration": 78,
    "start_time": "2022-01-22T20:21:03.209Z"
   },
   {
    "duration": 75,
    "start_time": "2022-01-22T20:21:03.213Z"
   },
   {
    "duration": 71,
    "start_time": "2022-01-22T20:21:03.218Z"
   },
   {
    "duration": 68,
    "start_time": "2022-01-22T20:21:03.222Z"
   },
   {
    "duration": 65,
    "start_time": "2022-01-22T20:21:03.226Z"
   },
   {
    "duration": 61,
    "start_time": "2022-01-22T20:21:03.230Z"
   },
   {
    "duration": 58,
    "start_time": "2022-01-22T20:21:03.234Z"
   },
   {
    "duration": 52,
    "start_time": "2022-01-22T20:21:03.241Z"
   },
   {
    "duration": 1234,
    "start_time": "2022-01-22T20:22:29.918Z"
   },
   {
    "duration": 29,
    "start_time": "2022-01-22T20:22:31.154Z"
   },
   {
    "duration": 20,
    "start_time": "2022-01-22T20:22:31.185Z"
   },
   {
    "duration": 52,
    "start_time": "2022-01-22T20:22:31.208Z"
   },
   {
    "duration": 9,
    "start_time": "2022-01-22T20:22:31.262Z"
   },
   {
    "duration": 13,
    "start_time": "2022-01-22T20:22:31.273Z"
   },
   {
    "duration": 5,
    "start_time": "2022-01-22T20:22:31.288Z"
   },
   {
    "duration": 31,
    "start_time": "2022-01-22T20:22:31.296Z"
   },
   {
    "duration": 5,
    "start_time": "2022-01-22T20:22:31.330Z"
   },
   {
    "duration": 15,
    "start_time": "2022-01-22T20:22:31.337Z"
   },
   {
    "duration": 8,
    "start_time": "2022-01-22T20:22:31.354Z"
   },
   {
    "duration": 20,
    "start_time": "2022-01-22T20:22:31.364Z"
   },
   {
    "duration": 16,
    "start_time": "2022-01-22T20:22:31.386Z"
   },
   {
    "duration": 44,
    "start_time": "2022-01-22T20:22:31.404Z"
   },
   {
    "duration": 24,
    "start_time": "2022-01-22T20:22:31.449Z"
   },
   {
    "duration": 27,
    "start_time": "2022-01-22T20:22:31.476Z"
   },
   {
    "duration": 31,
    "start_time": "2022-01-22T20:22:31.506Z"
   },
   {
    "duration": 4,
    "start_time": "2022-01-22T20:22:31.539Z"
   },
   {
    "duration": 12,
    "start_time": "2022-01-22T20:22:31.545Z"
   },
   {
    "duration": 9,
    "start_time": "2022-01-22T20:22:31.559Z"
   },
   {
    "duration": 9,
    "start_time": "2022-01-22T20:22:31.569Z"
   },
   {
    "duration": 12,
    "start_time": "2022-01-22T20:22:31.580Z"
   },
   {
    "duration": 3,
    "start_time": "2022-01-22T20:22:31.598Z"
   },
   {
    "duration": 56,
    "start_time": "2022-01-22T20:22:31.604Z"
   },
   {
    "duration": 71,
    "start_time": "2022-01-22T20:22:31.662Z"
   },
   {
    "duration": 169,
    "start_time": "2022-01-22T20:22:31.736Z"
   },
   {
    "duration": 2,
    "start_time": "2022-01-22T20:22:31.907Z"
   },
   {
    "duration": 1862,
    "start_time": "2022-01-22T20:22:31.911Z"
   },
   {
    "duration": 7,
    "start_time": "2022-01-22T20:22:33.774Z"
   },
   {
    "duration": 285,
    "start_time": "2022-01-22T20:22:33.782Z"
   },
   {
    "duration": 7,
    "start_time": "2022-01-22T20:22:34.070Z"
   },
   {
    "duration": 6,
    "start_time": "2022-01-22T20:22:34.079Z"
   },
   {
    "duration": 241,
    "start_time": "2022-01-22T20:22:34.086Z"
   },
   {
    "duration": 3,
    "start_time": "2022-01-22T20:22:34.329Z"
   },
   {
    "duration": 98,
    "start_time": "2022-01-22T20:22:34.334Z"
   },
   {
    "duration": 2,
    "start_time": "2022-01-22T20:22:34.435Z"
   },
   {
    "duration": 6622,
    "start_time": "2022-01-22T20:22:34.439Z"
   },
   {
    "duration": 8,
    "start_time": "2022-01-22T20:22:41.063Z"
   },
   {
    "duration": 423,
    "start_time": "2022-01-22T20:22:41.073Z"
   },
   {
    "duration": 5,
    "start_time": "2022-01-22T20:22:41.498Z"
   },
   {
    "duration": 29,
    "start_time": "2022-01-22T20:22:41.504Z"
   },
   {
    "duration": 6,
    "start_time": "2022-01-22T20:22:41.535Z"
   },
   {
    "duration": 34,
    "start_time": "2022-01-22T20:22:41.543Z"
   },
   {
    "duration": 57,
    "start_time": "2022-01-22T20:22:41.579Z"
   },
   {
    "duration": 89,
    "start_time": "2022-01-22T20:22:41.639Z"
   },
   {
    "duration": 152,
    "start_time": "2022-01-22T20:22:41.730Z"
   },
   {
    "duration": 3,
    "start_time": "2022-01-22T20:22:41.883Z"
   },
   {
    "duration": 17,
    "start_time": "2022-01-22T20:22:41.888Z"
   },
   {
    "duration": 7462,
    "start_time": "2022-01-22T20:22:41.907Z"
   },
   {
    "duration": 12,
    "start_time": "2022-01-22T20:22:49.371Z"
   },
   {
    "duration": 279,
    "start_time": "2022-01-22T20:22:49.384Z"
   },
   {
    "duration": 12,
    "start_time": "2022-01-22T20:22:49.664Z"
   },
   {
    "duration": 5,
    "start_time": "2022-01-22T20:22:49.679Z"
   },
   {
    "duration": 18,
    "start_time": "2022-01-22T20:22:49.686Z"
   },
   {
    "duration": 6,
    "start_time": "2022-01-22T20:22:49.728Z"
   },
   {
    "duration": 9,
    "start_time": "2022-01-22T20:22:49.736Z"
   },
   {
    "duration": 83,
    "start_time": "2022-01-22T20:22:49.747Z"
   },
   {
    "duration": 4,
    "start_time": "2022-01-22T20:22:49.835Z"
   },
   {
    "duration": 118,
    "start_time": "2022-01-22T20:22:49.842Z"
   },
   {
    "duration": 3,
    "start_time": "2022-01-22T20:22:49.962Z"
   },
   {
    "duration": 9,
    "start_time": "2022-01-22T20:22:49.967Z"
   },
   {
    "duration": 398,
    "start_time": "2022-01-22T20:22:49.978Z"
   },
   {
    "duration": 7,
    "start_time": "2022-01-22T20:22:50.378Z"
   },
   {
    "duration": 270,
    "start_time": "2022-01-22T20:22:50.387Z"
   },
   {
    "duration": 4,
    "start_time": "2022-01-22T20:22:50.659Z"
   },
   {
    "duration": 1385,
    "start_time": "2022-01-22T20:22:50.665Z"
   },
   {
    "duration": 1109,
    "start_time": "2022-01-22T22:51:36.991Z"
   },
   {
    "duration": 29,
    "start_time": "2022-01-22T22:51:38.102Z"
   },
   {
    "duration": 16,
    "start_time": "2022-01-22T22:51:38.136Z"
   },
   {
    "duration": 51,
    "start_time": "2022-01-22T22:51:38.154Z"
   },
   {
    "duration": 7,
    "start_time": "2022-01-22T22:51:38.207Z"
   },
   {
    "duration": 24,
    "start_time": "2022-01-22T22:51:38.216Z"
   },
   {
    "duration": 6,
    "start_time": "2022-01-22T22:51:38.243Z"
   },
   {
    "duration": 11,
    "start_time": "2022-01-22T22:51:38.251Z"
   },
   {
    "duration": 10,
    "start_time": "2022-01-22T22:51:38.263Z"
   },
   {
    "duration": 21,
    "start_time": "2022-01-22T22:51:38.275Z"
   },
   {
    "duration": 8,
    "start_time": "2022-01-22T22:51:38.298Z"
   },
   {
    "duration": 18,
    "start_time": "2022-01-22T22:51:38.308Z"
   },
   {
    "duration": 16,
    "start_time": "2022-01-22T22:51:38.328Z"
   },
   {
    "duration": 19,
    "start_time": "2022-01-22T22:51:38.346Z"
   },
   {
    "duration": 15,
    "start_time": "2022-01-22T22:51:38.367Z"
   },
   {
    "duration": 5,
    "start_time": "2022-01-22T22:51:38.383Z"
   },
   {
    "duration": 15,
    "start_time": "2022-01-22T22:51:38.389Z"
   },
   {
    "duration": 442,
    "start_time": "2022-01-22T22:51:38.405Z"
   },
   {
    "duration": -35,
    "start_time": "2022-01-22T22:51:38.884Z"
   },
   {
    "duration": -44,
    "start_time": "2022-01-22T22:51:38.896Z"
   },
   {
    "duration": -48,
    "start_time": "2022-01-22T22:51:38.900Z"
   },
   {
    "duration": -52,
    "start_time": "2022-01-22T22:51:38.905Z"
   },
   {
    "duration": -55,
    "start_time": "2022-01-22T22:51:38.909Z"
   },
   {
    "duration": -58,
    "start_time": "2022-01-22T22:51:38.913Z"
   },
   {
    "duration": -60,
    "start_time": "2022-01-22T22:51:38.916Z"
   },
   {
    "duration": -64,
    "start_time": "2022-01-22T22:51:38.921Z"
   },
   {
    "duration": -67,
    "start_time": "2022-01-22T22:51:38.925Z"
   },
   {
    "duration": -72,
    "start_time": "2022-01-22T22:51:38.931Z"
   },
   {
    "duration": -76,
    "start_time": "2022-01-22T22:51:38.935Z"
   },
   {
    "duration": -80,
    "start_time": "2022-01-22T22:51:38.940Z"
   },
   {
    "duration": -83,
    "start_time": "2022-01-22T22:51:38.944Z"
   },
   {
    "duration": -86,
    "start_time": "2022-01-22T22:51:38.948Z"
   },
   {
    "duration": -88,
    "start_time": "2022-01-22T22:51:38.951Z"
   },
   {
    "duration": -94,
    "start_time": "2022-01-22T22:51:38.958Z"
   },
   {
    "duration": -98,
    "start_time": "2022-01-22T22:51:38.963Z"
   },
   {
    "duration": -103,
    "start_time": "2022-01-22T22:51:38.968Z"
   },
   {
    "duration": -107,
    "start_time": "2022-01-22T22:51:38.973Z"
   },
   {
    "duration": -111,
    "start_time": "2022-01-22T22:51:38.978Z"
   },
   {
    "duration": -114,
    "start_time": "2022-01-22T22:51:38.982Z"
   },
   {
    "duration": -117,
    "start_time": "2022-01-22T22:51:38.986Z"
   },
   {
    "duration": -121,
    "start_time": "2022-01-22T22:51:38.991Z"
   },
   {
    "duration": -132,
    "start_time": "2022-01-22T22:51:39.003Z"
   },
   {
    "duration": -136,
    "start_time": "2022-01-22T22:51:39.008Z"
   },
   {
    "duration": -138,
    "start_time": "2022-01-22T22:51:39.011Z"
   },
   {
    "duration": -141,
    "start_time": "2022-01-22T22:51:39.015Z"
   },
   {
    "duration": -144,
    "start_time": "2022-01-22T22:51:39.019Z"
   },
   {
    "duration": -148,
    "start_time": "2022-01-22T22:51:39.024Z"
   },
   {
    "duration": -207,
    "start_time": "2022-01-22T22:51:39.084Z"
   },
   {
    "duration": -212,
    "start_time": "2022-01-22T22:51:39.090Z"
   },
   {
    "duration": -215,
    "start_time": "2022-01-22T22:51:39.094Z"
   },
   {
    "duration": -219,
    "start_time": "2022-01-22T22:51:39.098Z"
   },
   {
    "duration": -232,
    "start_time": "2022-01-22T22:51:39.112Z"
   },
   {
    "duration": -235,
    "start_time": "2022-01-22T22:51:39.116Z"
   },
   {
    "duration": -238,
    "start_time": "2022-01-22T22:51:39.120Z"
   },
   {
    "duration": -242,
    "start_time": "2022-01-22T22:51:39.125Z"
   },
   {
    "duration": -245,
    "start_time": "2022-01-22T22:51:39.129Z"
   },
   {
    "duration": -248,
    "start_time": "2022-01-22T22:51:39.133Z"
   },
   {
    "duration": -251,
    "start_time": "2022-01-22T22:51:39.137Z"
   },
   {
    "duration": -217,
    "start_time": "2022-01-22T22:51:39.143Z"
   },
   {
    "duration": -220,
    "start_time": "2022-01-22T22:51:39.147Z"
   },
   {
    "duration": -223,
    "start_time": "2022-01-22T22:51:39.151Z"
   },
   {
    "duration": -226,
    "start_time": "2022-01-22T22:51:39.155Z"
   },
   {
    "duration": -229,
    "start_time": "2022-01-22T22:51:39.158Z"
   },
   {
    "duration": -232,
    "start_time": "2022-01-22T22:51:39.162Z"
   },
   {
    "duration": -235,
    "start_time": "2022-01-22T22:51:39.166Z"
   },
   {
    "duration": -238,
    "start_time": "2022-01-22T22:51:39.170Z"
   },
   {
    "duration": -241,
    "start_time": "2022-01-22T22:51:39.174Z"
   },
   {
    "duration": 1088,
    "start_time": "2022-01-22T22:52:23.262Z"
   },
   {
    "duration": 29,
    "start_time": "2022-01-22T22:52:24.352Z"
   },
   {
    "duration": 15,
    "start_time": "2022-01-22T22:52:24.385Z"
   },
   {
    "duration": 43,
    "start_time": "2022-01-22T22:52:24.401Z"
   },
   {
    "duration": 7,
    "start_time": "2022-01-22T22:52:24.445Z"
   },
   {
    "duration": 6,
    "start_time": "2022-01-22T22:52:24.454Z"
   },
   {
    "duration": 6,
    "start_time": "2022-01-22T22:52:24.462Z"
   },
   {
    "duration": 4,
    "start_time": "2022-01-22T22:52:24.469Z"
   },
   {
    "duration": 4,
    "start_time": "2022-01-22T22:52:24.475Z"
   },
   {
    "duration": 6,
    "start_time": "2022-01-22T22:52:24.480Z"
   },
   {
    "duration": 3,
    "start_time": "2022-01-22T22:52:24.488Z"
   },
   {
    "duration": 38,
    "start_time": "2022-01-22T22:52:24.492Z"
   },
   {
    "duration": 6,
    "start_time": "2022-01-22T22:52:24.531Z"
   },
   {
    "duration": 19,
    "start_time": "2022-01-22T22:52:24.538Z"
   },
   {
    "duration": 10,
    "start_time": "2022-01-22T22:52:24.558Z"
   },
   {
    "duration": 4,
    "start_time": "2022-01-22T22:52:24.570Z"
   },
   {
    "duration": 8,
    "start_time": "2022-01-22T22:52:24.575Z"
   },
   {
    "duration": 50,
    "start_time": "2022-01-22T22:52:24.584Z"
   },
   {
    "duration": 14,
    "start_time": "2022-01-22T22:52:24.635Z"
   },
   {
    "duration": 4,
    "start_time": "2022-01-22T22:52:24.650Z"
   },
   {
    "duration": 6,
    "start_time": "2022-01-22T22:52:24.656Z"
   },
   {
    "duration": 7,
    "start_time": "2022-01-22T22:52:24.665Z"
   },
   {
    "duration": 6,
    "start_time": "2022-01-22T22:52:24.674Z"
   },
   {
    "duration": 145,
    "start_time": "2022-01-22T22:52:24.681Z"
   },
   {
    "duration": 3,
    "start_time": "2022-01-22T22:52:24.829Z"
   },
   {
    "duration": 121,
    "start_time": "2022-01-22T22:52:24.834Z"
   },
   {
    "duration": 2,
    "start_time": "2022-01-22T22:52:24.957Z"
   },
   {
    "duration": 1439,
    "start_time": "2022-01-22T22:52:24.961Z"
   },
   {
    "duration": 6,
    "start_time": "2022-01-22T22:52:26.402Z"
   },
   {
    "duration": 286,
    "start_time": "2022-01-22T22:52:26.409Z"
   },
   {
    "duration": 5,
    "start_time": "2022-01-22T22:52:26.697Z"
   },
   {
    "duration": 5,
    "start_time": "2022-01-22T22:52:26.703Z"
   },
   {
    "duration": 120,
    "start_time": "2022-01-22T22:52:26.709Z"
   },
   {
    "duration": 3,
    "start_time": "2022-01-22T22:52:26.832Z"
   },
   {
    "duration": 123,
    "start_time": "2022-01-22T22:52:26.837Z"
   },
   {
    "duration": 3,
    "start_time": "2022-01-22T22:52:26.962Z"
   },
   {
    "duration": 6350,
    "start_time": "2022-01-22T22:52:26.966Z"
   },
   {
    "duration": 11,
    "start_time": "2022-01-22T22:52:33.317Z"
   },
   {
    "duration": 258,
    "start_time": "2022-01-22T22:52:33.329Z"
   },
   {
    "duration": 3,
    "start_time": "2022-01-22T22:52:33.588Z"
   },
   {
    "duration": 18,
    "start_time": "2022-01-22T22:52:33.593Z"
   },
   {
    "duration": 15,
    "start_time": "2022-01-22T22:52:33.612Z"
   },
   {
    "duration": 2,
    "start_time": "2022-01-22T22:52:33.628Z"
   },
   {
    "duration": 98,
    "start_time": "2022-01-22T22:52:33.632Z"
   },
   {
    "duration": 4,
    "start_time": "2022-01-22T22:52:33.731Z"
   },
   {
    "duration": 121,
    "start_time": "2022-01-22T22:52:33.737Z"
   },
   {
    "duration": 3,
    "start_time": "2022-01-22T22:52:33.859Z"
   },
   {
    "duration": 5,
    "start_time": "2022-01-22T22:52:33.864Z"
   },
   {
    "duration": 6096,
    "start_time": "2022-01-22T22:52:33.870Z"
   },
   {
    "duration": 6,
    "start_time": "2022-01-22T22:52:39.968Z"
   },
   {
    "duration": 262,
    "start_time": "2022-01-22T22:52:39.975Z"
   },
   {
    "duration": 51,
    "start_time": "2022-01-22T22:52:40.239Z"
   },
   {
    "duration": 8,
    "start_time": "2022-01-22T22:52:40.292Z"
   },
   {
    "duration": 3,
    "start_time": "2022-01-22T22:52:40.302Z"
   },
   {
    "duration": 22,
    "start_time": "2022-01-22T22:52:40.306Z"
   },
   {
    "duration": 4,
    "start_time": "2022-01-22T22:52:40.329Z"
   },
   {
    "duration": 6,
    "start_time": "2022-01-22T22:52:40.334Z"
   },
   {
    "duration": 89,
    "start_time": "2022-01-22T22:52:40.341Z"
   },
   {
    "duration": 96,
    "start_time": "2022-01-22T22:52:40.432Z"
   },
   {
    "duration": 20,
    "start_time": "2022-01-22T22:52:40.530Z"
   },
   {
    "duration": 2,
    "start_time": "2022-01-22T22:52:40.552Z"
   },
   {
    "duration": 3,
    "start_time": "2022-01-22T22:52:40.556Z"
   },
   {
    "duration": 378,
    "start_time": "2022-01-22T22:52:40.561Z"
   },
   {
    "duration": 6,
    "start_time": "2022-01-22T22:52:40.941Z"
   },
   {
    "duration": 267,
    "start_time": "2022-01-22T22:52:40.948Z"
   },
   {
    "duration": 11,
    "start_time": "2022-01-22T22:52:41.216Z"
   },
   {
    "duration": 1152,
    "start_time": "2022-01-22T22:52:41.231Z"
   },
   {
    "duration": 15,
    "start_time": "2022-01-22T22:52:45.251Z"
   },
   {
    "duration": 15,
    "start_time": "2022-01-22T22:52:51.477Z"
   },
   {
    "duration": 14,
    "start_time": "2022-01-22T22:52:57.326Z"
   },
   {
    "duration": 1148,
    "start_time": "2022-01-22T22:59:41.690Z"
   },
   {
    "duration": 28,
    "start_time": "2022-01-22T22:59:42.840Z"
   },
   {
    "duration": 15,
    "start_time": "2022-01-22T22:59:42.871Z"
   },
   {
    "duration": 41,
    "start_time": "2022-01-22T22:59:42.887Z"
   },
   {
    "duration": 7,
    "start_time": "2022-01-22T22:59:42.929Z"
   },
   {
    "duration": 8,
    "start_time": "2022-01-22T22:59:42.937Z"
   },
   {
    "duration": 4,
    "start_time": "2022-01-22T22:59:42.947Z"
   },
   {
    "duration": 4,
    "start_time": "2022-01-22T22:59:42.953Z"
   },
   {
    "duration": 5,
    "start_time": "2022-01-22T22:59:42.959Z"
   },
   {
    "duration": 6,
    "start_time": "2022-01-22T22:59:42.965Z"
   },
   {
    "duration": 3,
    "start_time": "2022-01-22T22:59:42.972Z"
   },
   {
    "duration": 6,
    "start_time": "2022-01-22T22:59:42.976Z"
   },
   {
    "duration": 6,
    "start_time": "2022-01-22T22:59:42.983Z"
   },
   {
    "duration": 47,
    "start_time": "2022-01-22T22:59:42.990Z"
   },
   {
    "duration": 12,
    "start_time": "2022-01-22T22:59:43.038Z"
   },
   {
    "duration": 4,
    "start_time": "2022-01-22T22:59:43.051Z"
   },
   {
    "duration": 7,
    "start_time": "2022-01-22T22:59:43.057Z"
   },
   {
    "duration": 23,
    "start_time": "2022-01-22T22:59:43.065Z"
   },
   {
    "duration": 39,
    "start_time": "2022-01-22T22:59:43.089Z"
   },
   {
    "duration": 5,
    "start_time": "2022-01-22T22:59:43.129Z"
   },
   {
    "duration": 6,
    "start_time": "2022-01-22T22:59:43.135Z"
   },
   {
    "duration": 7,
    "start_time": "2022-01-22T22:59:43.145Z"
   },
   {
    "duration": 141676,
    "start_time": "2022-01-22T22:59:43.154Z"
   },
   {
    "duration": 107,
    "start_time": "2022-01-22T23:02:04.926Z"
   },
   {
    "duration": 9938,
    "start_time": "2022-01-22T23:02:05.036Z"
   },
   {
    "duration": 23,
    "start_time": "2022-01-22T23:02:14.976Z"
   },
   {
    "duration": 2,
    "start_time": "2022-01-22T23:02:15.000Z"
   },
   {
    "duration": 1477,
    "start_time": "2022-01-22T23:02:15.004Z"
   },
   {
    "duration": 6,
    "start_time": "2022-01-22T23:02:16.483Z"
   },
   {
    "duration": 290,
    "start_time": "2022-01-22T23:02:16.490Z"
   },
   {
    "duration": 5,
    "start_time": "2022-01-22T23:02:16.782Z"
   },
   {
    "duration": 7,
    "start_time": "2022-01-22T23:02:16.788Z"
   },
   {
    "duration": 40,
    "start_time": "2022-01-22T23:02:16.796Z"
   },
   {
    "duration": 4,
    "start_time": "2022-01-22T23:02:16.928Z"
   },
   {
    "duration": 131,
    "start_time": "2022-01-22T23:02:16.933Z"
   },
   {
    "duration": 3,
    "start_time": "2022-01-22T23:02:17.065Z"
   },
   {
    "duration": 6148,
    "start_time": "2022-01-22T23:02:17.069Z"
   },
   {
    "duration": 13,
    "start_time": "2022-01-22T23:02:23.218Z"
   },
   {
    "duration": 253,
    "start_time": "2022-01-22T23:02:23.233Z"
   },
   {
    "duration": 3,
    "start_time": "2022-01-22T23:02:23.488Z"
   },
   {
    "duration": 18,
    "start_time": "2022-01-22T23:02:23.493Z"
   },
   {
    "duration": 15,
    "start_time": "2022-01-22T23:02:23.512Z"
   },
   {
    "duration": 1,
    "start_time": "2022-01-22T23:02:23.529Z"
   },
   {
    "duration": 97,
    "start_time": "2022-01-22T23:02:23.532Z"
   },
   {
    "duration": 3,
    "start_time": "2022-01-22T23:02:23.632Z"
   },
   {
    "duration": 131,
    "start_time": "2022-01-22T23:02:23.637Z"
   },
   {
    "duration": 3,
    "start_time": "2022-01-22T23:02:23.770Z"
   },
   {
    "duration": 6,
    "start_time": "2022-01-22T23:02:23.775Z"
   },
   {
    "duration": 6108,
    "start_time": "2022-01-22T23:02:23.783Z"
   },
   {
    "duration": 7,
    "start_time": "2022-01-22T23:02:29.893Z"
   },
   {
    "duration": 463,
    "start_time": "2022-01-22T23:02:29.901Z"
   },
   {
    "duration": 53,
    "start_time": "2022-01-22T23:02:30.365Z"
   },
   {
    "duration": 9,
    "start_time": "2022-01-22T23:02:30.420Z"
   },
   {
    "duration": 6,
    "start_time": "2022-01-22T23:02:30.430Z"
   },
   {
    "duration": 29,
    "start_time": "2022-01-22T23:02:30.437Z"
   },
   {
    "duration": 4,
    "start_time": "2022-01-22T23:02:30.468Z"
   },
   {
    "duration": 7,
    "start_time": "2022-01-22T23:02:30.474Z"
   },
   {
    "duration": 49,
    "start_time": "2022-01-22T23:02:30.483Z"
   },
   {
    "duration": 95,
    "start_time": "2022-01-22T23:02:30.534Z"
   },
   {
    "duration": 21,
    "start_time": "2022-01-22T23:02:30.631Z"
   },
   {
    "duration": 2,
    "start_time": "2022-01-22T23:02:30.654Z"
   },
   {
    "duration": 4,
    "start_time": "2022-01-22T23:02:30.658Z"
   },
   {
    "duration": 404,
    "start_time": "2022-01-22T23:02:30.664Z"
   },
   {
    "duration": 6,
    "start_time": "2022-01-22T23:02:31.070Z"
   },
   {
    "duration": 266,
    "start_time": "2022-01-22T23:02:31.078Z"
   },
   {
    "duration": 4,
    "start_time": "2022-01-22T23:02:31.345Z"
   },
   {
    "duration": 1169,
    "start_time": "2022-01-22T23:02:31.353Z"
   },
   {
    "duration": 4,
    "start_time": "2022-01-22T23:03:31.006Z"
   },
   {
    "duration": 26,
    "start_time": "2022-01-22T23:03:31.213Z"
   },
   {
    "duration": 13,
    "start_time": "2022-01-22T23:03:31.416Z"
   },
   {
    "duration": 34,
    "start_time": "2022-01-22T23:03:31.593Z"
   },
   {
    "duration": 8,
    "start_time": "2022-01-22T23:03:31.769Z"
   },
   {
    "duration": 1111,
    "start_time": "2022-01-22T23:03:36.441Z"
   },
   {
    "duration": 28,
    "start_time": "2022-01-22T23:03:37.553Z"
   },
   {
    "duration": 17,
    "start_time": "2022-01-22T23:03:37.583Z"
   },
   {
    "duration": 43,
    "start_time": "2022-01-22T23:03:37.602Z"
   },
   {
    "duration": 8,
    "start_time": "2022-01-22T23:03:37.647Z"
   },
   {
    "duration": 8,
    "start_time": "2022-01-22T23:03:37.656Z"
   },
   {
    "duration": 5,
    "start_time": "2022-01-22T23:03:37.666Z"
   },
   {
    "duration": 4,
    "start_time": "2022-01-22T23:03:37.674Z"
   },
   {
    "duration": 5,
    "start_time": "2022-01-22T23:03:37.680Z"
   },
   {
    "duration": 42,
    "start_time": "2022-01-22T23:03:37.686Z"
   },
   {
    "duration": 3,
    "start_time": "2022-01-22T23:03:37.729Z"
   },
   {
    "duration": 5,
    "start_time": "2022-01-22T23:03:37.734Z"
   },
   {
    "duration": 4,
    "start_time": "2022-01-22T23:03:37.741Z"
   },
   {
    "duration": 16,
    "start_time": "2022-01-22T23:03:37.747Z"
   },
   {
    "duration": 10,
    "start_time": "2022-01-22T23:03:37.765Z"
   },
   {
    "duration": 5,
    "start_time": "2022-01-22T23:03:37.776Z"
   },
   {
    "duration": 16,
    "start_time": "2022-01-22T23:03:37.782Z"
   },
   {
    "duration": 44,
    "start_time": "2022-01-22T23:03:37.800Z"
   },
   {
    "duration": 15,
    "start_time": "2022-01-22T23:03:37.845Z"
   },
   {
    "duration": 5,
    "start_time": "2022-01-22T23:03:37.861Z"
   },
   {
    "duration": 4,
    "start_time": "2022-01-22T23:03:37.867Z"
   },
   {
    "duration": 7,
    "start_time": "2022-01-22T23:03:37.872Z"
   },
   {
    "duration": 39323,
    "start_time": "2022-01-22T23:03:37.883Z"
   },
   {
    "duration": 383,
    "start_time": "2022-01-22T23:04:16.827Z"
   },
   {
    "duration": 377,
    "start_time": "2022-01-22T23:04:16.834Z"
   },
   {
    "duration": 370,
    "start_time": "2022-01-22T23:04:16.842Z"
   },
   {
    "duration": 343,
    "start_time": "2022-01-22T23:04:16.870Z"
   },
   {
    "duration": 339,
    "start_time": "2022-01-22T23:04:16.875Z"
   },
   {
    "duration": 331,
    "start_time": "2022-01-22T23:04:16.883Z"
   },
   {
    "duration": 326,
    "start_time": "2022-01-22T23:04:16.889Z"
   },
   {
    "duration": 308,
    "start_time": "2022-01-22T23:04:16.908Z"
   },
   {
    "duration": 296,
    "start_time": "2022-01-22T23:04:16.921Z"
   },
   {
    "duration": 290,
    "start_time": "2022-01-22T23:04:16.927Z"
   },
   {
    "duration": 280,
    "start_time": "2022-01-22T23:04:16.938Z"
   },
   {
    "duration": 267,
    "start_time": "2022-01-22T23:04:16.952Z"
   },
   {
    "duration": 262,
    "start_time": "2022-01-22T23:04:16.958Z"
   },
   {
    "duration": 250,
    "start_time": "2022-01-22T23:04:16.971Z"
   },
   {
    "duration": 229,
    "start_time": "2022-01-22T23:04:16.992Z"
   },
   {
    "duration": 215,
    "start_time": "2022-01-22T23:04:17.007Z"
   },
   {
    "duration": 209,
    "start_time": "2022-01-22T23:04:17.014Z"
   },
   {
    "duration": 205,
    "start_time": "2022-01-22T23:04:17.019Z"
   },
   {
    "duration": 199,
    "start_time": "2022-01-22T23:04:17.026Z"
   },
   {
    "duration": 195,
    "start_time": "2022-01-22T23:04:17.031Z"
   },
   {
    "duration": 190,
    "start_time": "2022-01-22T23:04:17.037Z"
   },
   {
    "duration": 185,
    "start_time": "2022-01-22T23:04:17.043Z"
   },
   {
    "duration": 179,
    "start_time": "2022-01-22T23:04:17.049Z"
   },
   {
    "duration": 164,
    "start_time": "2022-01-22T23:04:17.065Z"
   },
   {
    "duration": 159,
    "start_time": "2022-01-22T23:04:17.071Z"
   },
   {
    "duration": 153,
    "start_time": "2022-01-22T23:04:17.077Z"
   },
   {
    "duration": 144,
    "start_time": "2022-01-22T23:04:17.089Z"
   },
   {
    "duration": 138,
    "start_time": "2022-01-22T23:04:17.096Z"
   },
   {
    "duration": 129,
    "start_time": "2022-01-22T23:04:17.106Z"
   },
   {
    "duration": 117,
    "start_time": "2022-01-22T23:04:17.119Z"
   },
   {
    "duration": 114,
    "start_time": "2022-01-22T23:04:17.123Z"
   },
   {
    "duration": 103,
    "start_time": "2022-01-22T23:04:17.135Z"
   },
   {
    "duration": 83,
    "start_time": "2022-01-22T23:04:17.156Z"
   },
   {
    "duration": 78,
    "start_time": "2022-01-22T23:04:17.162Z"
   },
   {
    "duration": 74,
    "start_time": "2022-01-22T23:04:17.167Z"
   },
   {
    "duration": 71,
    "start_time": "2022-01-22T23:04:17.171Z"
   },
   {
    "duration": 66,
    "start_time": "2022-01-22T23:04:17.177Z"
   },
   {
    "duration": 62,
    "start_time": "2022-01-22T23:04:17.182Z"
   },
   {
    "duration": 57,
    "start_time": "2022-01-22T23:04:17.188Z"
   },
   {
    "duration": 52,
    "start_time": "2022-01-22T23:04:17.194Z"
   },
   {
    "duration": 47,
    "start_time": "2022-01-22T23:04:17.200Z"
   },
   {
    "duration": 43,
    "start_time": "2022-01-22T23:04:17.205Z"
   },
   {
    "duration": 39,
    "start_time": "2022-01-22T23:04:17.210Z"
   },
   {
    "duration": 35,
    "start_time": "2022-01-22T23:04:17.215Z"
   },
   {
    "duration": 1200,
    "start_time": "2022-01-22T23:10:52.036Z"
   },
   {
    "duration": 28,
    "start_time": "2022-01-22T23:10:53.237Z"
   },
   {
    "duration": 17,
    "start_time": "2022-01-22T23:10:53.267Z"
   },
   {
    "duration": 46,
    "start_time": "2022-01-22T23:10:53.286Z"
   },
   {
    "duration": 7,
    "start_time": "2022-01-22T23:10:53.333Z"
   },
   {
    "duration": 10,
    "start_time": "2022-01-22T23:10:53.341Z"
   },
   {
    "duration": 14,
    "start_time": "2022-01-22T23:10:53.352Z"
   },
   {
    "duration": 4,
    "start_time": "2022-01-22T23:10:53.368Z"
   },
   {
    "duration": 6,
    "start_time": "2022-01-22T23:10:53.374Z"
   },
   {
    "duration": 7,
    "start_time": "2022-01-22T23:10:53.381Z"
   },
   {
    "duration": 3,
    "start_time": "2022-01-22T23:10:53.389Z"
   },
   {
    "duration": 6,
    "start_time": "2022-01-22T23:10:53.393Z"
   },
   {
    "duration": 4,
    "start_time": "2022-01-22T23:10:53.400Z"
   },
   {
    "duration": 32,
    "start_time": "2022-01-22T23:10:53.406Z"
   },
   {
    "duration": 10,
    "start_time": "2022-01-22T23:10:53.439Z"
   },
   {
    "duration": 3,
    "start_time": "2022-01-22T23:10:53.451Z"
   },
   {
    "duration": 6,
    "start_time": "2022-01-22T23:10:53.456Z"
   },
   {
    "duration": 23,
    "start_time": "2022-01-22T23:10:53.464Z"
   },
   {
    "duration": 40,
    "start_time": "2022-01-22T23:10:53.488Z"
   },
   {
    "duration": 4,
    "start_time": "2022-01-22T23:10:53.530Z"
   },
   {
    "duration": 3,
    "start_time": "2022-01-22T23:10:53.536Z"
   },
   {
    "duration": 8,
    "start_time": "2022-01-22T23:10:53.541Z"
   },
   {
    "duration": 39266,
    "start_time": "2022-01-22T23:10:53.553Z"
   },
   {
    "duration": 377,
    "start_time": "2022-01-22T23:11:32.444Z"
   },
   {
    "duration": 374,
    "start_time": "2022-01-22T23:11:32.449Z"
   },
   {
    "duration": 371,
    "start_time": "2022-01-22T23:11:32.453Z"
   },
   {
    "duration": 359,
    "start_time": "2022-01-22T23:11:32.467Z"
   },
   {
    "duration": 356,
    "start_time": "2022-01-22T23:11:32.471Z"
   },
   {
    "duration": 351,
    "start_time": "2022-01-22T23:11:32.477Z"
   },
   {
    "duration": 348,
    "start_time": "2022-01-22T23:11:32.482Z"
   },
   {
    "duration": 334,
    "start_time": "2022-01-22T23:11:32.497Z"
   },
   {
    "duration": 325,
    "start_time": "2022-01-22T23:11:32.507Z"
   },
   {
    "duration": 321,
    "start_time": "2022-01-22T23:11:32.513Z"
   },
   {
    "duration": 312,
    "start_time": "2022-01-22T23:11:32.523Z"
   },
   {
    "duration": 308,
    "start_time": "2022-01-22T23:11:32.529Z"
   },
   {
    "duration": 298,
    "start_time": "2022-01-22T23:11:32.540Z"
   },
   {
    "duration": 294,
    "start_time": "2022-01-22T23:11:32.546Z"
   },
   {
    "duration": 284,
    "start_time": "2022-01-22T23:11:32.557Z"
   },
   {
    "duration": 257,
    "start_time": "2022-01-22T23:11:32.586Z"
   },
   {
    "duration": 254,
    "start_time": "2022-01-22T23:11:32.590Z"
   },
   {
    "duration": 249,
    "start_time": "2022-01-22T23:11:32.596Z"
   },
   {
    "duration": 247,
    "start_time": "2022-01-22T23:11:32.600Z"
   },
   {
    "duration": 243,
    "start_time": "2022-01-22T23:11:32.605Z"
   },
   {
    "duration": 239,
    "start_time": "2022-01-22T23:11:32.610Z"
   },
   {
    "duration": 236,
    "start_time": "2022-01-22T23:11:32.614Z"
   },
   {
    "duration": 233,
    "start_time": "2022-01-22T23:11:32.618Z"
   },
   {
    "duration": 228,
    "start_time": "2022-01-22T23:11:32.624Z"
   },
   {
    "duration": 222,
    "start_time": "2022-01-22T23:11:32.631Z"
   },
   {
    "duration": 218,
    "start_time": "2022-01-22T23:11:32.636Z"
   },
   {
    "duration": 216,
    "start_time": "2022-01-22T23:11:32.639Z"
   },
   {
    "duration": 210,
    "start_time": "2022-01-22T23:11:32.645Z"
   },
   {
    "duration": 207,
    "start_time": "2022-01-22T23:11:32.649Z"
   },
   {
    "duration": 204,
    "start_time": "2022-01-22T23:11:32.653Z"
   },
   {
    "duration": 202,
    "start_time": "2022-01-22T23:11:32.656Z"
   },
   {
    "duration": 187,
    "start_time": "2022-01-22T23:11:32.672Z"
   },
   {
    "duration": 183,
    "start_time": "2022-01-22T23:11:32.677Z"
   },
   {
    "duration": 174,
    "start_time": "2022-01-22T23:11:32.687Z"
   },
   {
    "duration": 171,
    "start_time": "2022-01-22T23:11:32.691Z"
   },
   {
    "duration": 159,
    "start_time": "2022-01-22T23:11:32.703Z"
   },
   {
    "duration": 156,
    "start_time": "2022-01-22T23:11:32.707Z"
   },
   {
    "duration": 152,
    "start_time": "2022-01-22T23:11:32.712Z"
   },
   {
    "duration": 142,
    "start_time": "2022-01-22T23:11:32.723Z"
   },
   {
    "duration": 137,
    "start_time": "2022-01-22T23:11:32.729Z"
   },
   {
    "duration": 128,
    "start_time": "2022-01-22T23:11:32.739Z"
   },
   {
    "duration": 123,
    "start_time": "2022-01-22T23:11:32.745Z"
   },
   {
    "duration": 100,
    "start_time": "2022-01-22T23:11:32.768Z"
   },
   {
    "duration": 97,
    "start_time": "2022-01-22T23:11:32.772Z"
   },
   {
    "duration": 1120,
    "start_time": "2022-01-22T23:25:21.311Z"
   },
   {
    "duration": 29,
    "start_time": "2022-01-22T23:25:22.433Z"
   },
   {
    "duration": 16,
    "start_time": "2022-01-22T23:25:22.464Z"
   },
   {
    "duration": 38,
    "start_time": "2022-01-22T23:25:22.482Z"
   },
   {
    "duration": 9,
    "start_time": "2022-01-22T23:25:22.527Z"
   },
   {
    "duration": 13,
    "start_time": "2022-01-22T23:25:22.537Z"
   },
   {
    "duration": 11,
    "start_time": "2022-01-22T23:25:22.552Z"
   },
   {
    "duration": 5,
    "start_time": "2022-01-22T23:25:22.565Z"
   },
   {
    "duration": 9,
    "start_time": "2022-01-22T23:25:22.572Z"
   },
   {
    "duration": 17,
    "start_time": "2022-01-22T23:25:22.582Z"
   },
   {
    "duration": 5,
    "start_time": "2022-01-22T23:25:22.601Z"
   },
   {
    "duration": 14,
    "start_time": "2022-01-22T23:25:22.607Z"
   },
   {
    "duration": 9,
    "start_time": "2022-01-22T23:25:22.622Z"
   },
   {
    "duration": 25,
    "start_time": "2022-01-22T23:25:22.632Z"
   },
   {
    "duration": 17,
    "start_time": "2022-01-22T23:25:22.658Z"
   },
   {
    "duration": 5,
    "start_time": "2022-01-22T23:25:22.676Z"
   },
   {
    "duration": 7,
    "start_time": "2022-01-22T23:25:22.683Z"
   },
   {
    "duration": 24,
    "start_time": "2022-01-22T23:25:22.691Z"
   },
   {
    "duration": 18,
    "start_time": "2022-01-22T23:25:22.716Z"
   },
   {
    "duration": 5,
    "start_time": "2022-01-22T23:25:22.735Z"
   },
   {
    "duration": 3,
    "start_time": "2022-01-22T23:25:22.741Z"
   },
   {
    "duration": 5,
    "start_time": "2022-01-22T23:25:22.746Z"
   },
   {
    "duration": 141972,
    "start_time": "2022-01-22T23:25:22.756Z"
   },
   {
    "duration": 93,
    "start_time": "2022-01-22T23:27:44.734Z"
   },
   {
    "duration": 9799,
    "start_time": "2022-01-22T23:27:44.829Z"
   },
   {
    "duration": 2,
    "start_time": "2022-01-22T23:27:54.630Z"
   },
   {
    "duration": 14677256,
    "start_time": "2022-01-22T23:27:54.633Z"
   },
   {
    "duration": 3,
    "start_time": "2022-01-23T03:32:31.890Z"
   },
   {
    "duration": 9,
    "start_time": "2022-01-23T03:32:31.894Z"
   },
   {
    "duration": 282,
    "start_time": "2022-01-23T03:32:31.904Z"
   },
   {
    "duration": 5,
    "start_time": "2022-01-23T03:32:32.187Z"
   },
   {
    "duration": 149934,
    "start_time": "2022-01-23T03:32:32.194Z"
   },
   {
    "duration": 3,
    "start_time": "2022-01-23T03:35:02.131Z"
   },
   {
    "duration": 10384,
    "start_time": "2022-01-23T03:35:02.136Z"
   },
   {
    "duration": 2,
    "start_time": "2022-01-23T03:35:12.527Z"
   },
   {
    "duration": 14496575,
    "start_time": "2022-01-23T03:35:12.531Z"
   },
   {
    "duration": 2,
    "start_time": "2022-01-23T07:36:49.108Z"
   },
   {
    "duration": 22,
    "start_time": "2022-01-23T07:36:49.112Z"
   },
   {
    "duration": 271,
    "start_time": "2022-01-23T07:36:49.136Z"
   },
   {
    "duration": 4,
    "start_time": "2022-01-23T07:36:49.409Z"
   },
   {
    "duration": 24,
    "start_time": "2022-01-23T07:36:49.414Z"
   },
   {
    "duration": 4,
    "start_time": "2022-01-23T07:36:49.439Z"
   },
   {
    "duration": 186194,
    "start_time": "2022-01-23T07:36:49.445Z"
   },
   {
    "duration": 2,
    "start_time": "2022-01-23T07:39:55.728Z"
   },
   {
    "duration": 12717,
    "start_time": "2022-01-23T07:39:55.732Z"
   },
   {
    "duration": 3,
    "start_time": "2022-01-23T07:40:08.451Z"
   },
   {
    "duration": 21498728,
    "start_time": "2022-01-23T07:40:08.456Z"
   },
   {
    "duration": 3,
    "start_time": "2022-01-23T13:38:27.185Z"
   },
   {
    "duration": 9,
    "start_time": "2022-01-23T13:38:27.189Z"
   },
   {
    "duration": 11,
    "start_time": "2022-01-23T13:38:27.199Z"
   },
   {
    "duration": 252,
    "start_time": "2022-01-23T13:38:27.211Z"
   },
   {
    "duration": 8,
    "start_time": "2022-01-23T13:38:27.464Z"
   },
   {
    "duration": 25,
    "start_time": "2022-01-23T13:38:27.474Z"
   },
   {
    "duration": 4,
    "start_time": "2022-01-23T13:38:27.500Z"
   },
   {
    "duration": 29,
    "start_time": "2022-01-23T13:38:27.505Z"
   },
   {
    "duration": 4,
    "start_time": "2022-01-23T13:38:27.535Z"
   },
   {
    "duration": 93091,
    "start_time": "2022-01-23T13:38:27.541Z"
   },
   {
    "duration": 93,
    "start_time": "2022-01-23T13:40:00.635Z"
   },
   {
    "duration": 5028,
    "start_time": "2022-01-23T13:40:00.730Z"
   },
   {
    "duration": 2,
    "start_time": "2022-01-23T13:40:05.760Z"
   },
   {
    "duration": 6960749,
    "start_time": "2022-01-23T13:40:05.763Z"
   },
   {
    "duration": 14,
    "start_time": "2022-01-23T15:36:06.514Z"
   },
   {
    "duration": 8,
    "start_time": "2022-01-23T15:36:06.529Z"
   },
   {
    "duration": 19,
    "start_time": "2022-01-23T15:36:06.538Z"
   },
   {
    "duration": 272,
    "start_time": "2022-01-23T15:36:06.559Z"
   },
   {
    "duration": 4,
    "start_time": "2022-01-23T15:36:06.832Z"
   },
   {
    "duration": 1090,
    "start_time": "2022-01-23T15:36:06.838Z"
   },
   {
    "duration": 1057,
    "start_time": "2022-01-23T19:52:36.285Z"
   },
   {
    "duration": 28,
    "start_time": "2022-01-23T19:52:37.343Z"
   },
   {
    "duration": 15,
    "start_time": "2022-01-23T19:52:37.373Z"
   },
   {
    "duration": 44,
    "start_time": "2022-01-23T19:52:37.389Z"
   },
   {
    "duration": 8,
    "start_time": "2022-01-23T19:52:37.435Z"
   },
   {
    "duration": 8,
    "start_time": "2022-01-23T19:52:37.445Z"
   },
   {
    "duration": 4,
    "start_time": "2022-01-23T19:52:37.455Z"
   },
   {
    "duration": 5,
    "start_time": "2022-01-23T19:52:37.461Z"
   },
   {
    "duration": 4,
    "start_time": "2022-01-23T19:52:37.468Z"
   },
   {
    "duration": 4,
    "start_time": "2022-01-23T19:52:37.473Z"
   },
   {
    "duration": 8,
    "start_time": "2022-01-23T19:52:37.478Z"
   },
   {
    "duration": 40,
    "start_time": "2022-01-23T19:52:37.487Z"
   },
   {
    "duration": 4,
    "start_time": "2022-01-23T19:52:37.528Z"
   },
   {
    "duration": 6,
    "start_time": "2022-01-23T19:52:37.533Z"
   },
   {
    "duration": 16,
    "start_time": "2022-01-23T19:52:37.541Z"
   },
   {
    "duration": 11,
    "start_time": "2022-01-23T19:52:37.558Z"
   },
   {
    "duration": 5,
    "start_time": "2022-01-23T19:52:37.570Z"
   },
   {
    "duration": 7,
    "start_time": "2022-01-23T19:52:37.576Z"
   },
   {
    "duration": 52,
    "start_time": "2022-01-23T19:52:37.584Z"
   },
   {
    "duration": 14,
    "start_time": "2022-01-23T19:52:37.637Z"
   },
   {
    "duration": 7,
    "start_time": "2022-01-23T19:52:37.652Z"
   },
   {
    "duration": 4,
    "start_time": "2022-01-23T19:52:37.660Z"
   },
   {
    "duration": 5,
    "start_time": "2022-01-23T19:52:37.667Z"
   },
   {
    "duration": 6,
    "start_time": "2022-01-23T19:52:37.674Z"
   },
   {
    "duration": 735,
    "start_time": "2022-01-23T19:52:37.681Z"
   },
   {
    "duration": 2,
    "start_time": "2022-01-23T19:52:38.418Z"
   },
   {
    "duration": 576,
    "start_time": "2022-01-23T19:52:38.421Z"
   },
   {
    "duration": 2,
    "start_time": "2022-01-23T19:52:38.999Z"
   },
   {
    "duration": 13743,
    "start_time": "2022-01-23T19:52:39.002Z"
   },
   {
    "duration": 5,
    "start_time": "2022-01-23T19:52:52.746Z"
   },
   {
    "duration": 334,
    "start_time": "2022-01-23T19:52:52.753Z"
   },
   {
    "duration": -468,
    "start_time": "2022-01-23T19:52:53.557Z"
   },
   {
    "duration": -472,
    "start_time": "2022-01-23T19:52:53.562Z"
   },
   {
    "duration": -477,
    "start_time": "2022-01-23T19:52:53.568Z"
   },
   {
    "duration": -481,
    "start_time": "2022-01-23T19:52:53.573Z"
   },
   {
    "duration": -486,
    "start_time": "2022-01-23T19:52:53.579Z"
   },
   {
    "duration": -490,
    "start_time": "2022-01-23T19:52:53.584Z"
   },
   {
    "duration": -495,
    "start_time": "2022-01-23T19:52:53.590Z"
   },
   {
    "duration": -499,
    "start_time": "2022-01-23T19:52:53.595Z"
   },
   {
    "duration": -504,
    "start_time": "2022-01-23T19:52:53.601Z"
   },
   {
    "duration": -508,
    "start_time": "2022-01-23T19:52:53.606Z"
   },
   {
    "duration": -520,
    "start_time": "2022-01-23T19:52:53.619Z"
   },
   {
    "duration": -524,
    "start_time": "2022-01-23T19:52:53.625Z"
   },
   {
    "duration": -529,
    "start_time": "2022-01-23T19:52:53.631Z"
   },
   {
    "duration": -534,
    "start_time": "2022-01-23T19:52:53.637Z"
   },
   {
    "duration": -538,
    "start_time": "2022-01-23T19:52:53.642Z"
   },
   {
    "duration": -541,
    "start_time": "2022-01-23T19:52:53.646Z"
   },
   {
    "duration": -546,
    "start_time": "2022-01-23T19:52:53.652Z"
   },
   {
    "duration": -550,
    "start_time": "2022-01-23T19:52:53.657Z"
   },
   {
    "duration": -555,
    "start_time": "2022-01-23T19:52:53.662Z"
   },
   {
    "duration": -558,
    "start_time": "2022-01-23T19:52:53.666Z"
   },
   {
    "duration": -563,
    "start_time": "2022-01-23T19:52:53.672Z"
   },
   {
    "duration": -566,
    "start_time": "2022-01-23T19:52:53.676Z"
   },
   {
    "duration": -571,
    "start_time": "2022-01-23T19:52:53.681Z"
   },
   {
    "duration": -575,
    "start_time": "2022-01-23T19:52:53.686Z"
   },
   {
    "duration": -579,
    "start_time": "2022-01-23T19:52:53.691Z"
   },
   {
    "duration": -583,
    "start_time": "2022-01-23T19:52:53.696Z"
   },
   {
    "duration": -587,
    "start_time": "2022-01-23T19:52:53.701Z"
   },
   {
    "duration": -592,
    "start_time": "2022-01-23T19:52:53.706Z"
   },
   {
    "duration": -595,
    "start_time": "2022-01-23T19:52:53.710Z"
   },
   {
    "duration": -599,
    "start_time": "2022-01-23T19:52:53.715Z"
   },
   {
    "duration": -613,
    "start_time": "2022-01-23T19:52:53.730Z"
   },
   {
    "duration": -617,
    "start_time": "2022-01-23T19:52:53.735Z"
   },
   {
    "duration": -622,
    "start_time": "2022-01-23T19:52:53.740Z"
   },
   {
    "duration": -626,
    "start_time": "2022-01-23T19:52:53.745Z"
   },
   {
    "duration": -630,
    "start_time": "2022-01-23T19:52:53.750Z"
   },
   {
    "duration": 1156,
    "start_time": "2022-01-23T19:53:21.520Z"
   },
   {
    "duration": 27,
    "start_time": "2022-01-23T19:53:22.678Z"
   },
   {
    "duration": 15,
    "start_time": "2022-01-23T19:53:22.709Z"
   },
   {
    "duration": 35,
    "start_time": "2022-01-23T19:53:22.725Z"
   },
   {
    "duration": 6,
    "start_time": "2022-01-23T19:53:22.762Z"
   },
   {
    "duration": 7,
    "start_time": "2022-01-23T19:53:22.770Z"
   },
   {
    "duration": 3,
    "start_time": "2022-01-23T19:53:22.779Z"
   },
   {
    "duration": 6,
    "start_time": "2022-01-23T19:53:22.784Z"
   },
   {
    "duration": 4,
    "start_time": "2022-01-23T19:53:22.791Z"
   },
   {
    "duration": 3,
    "start_time": "2022-01-23T19:53:22.797Z"
   },
   {
    "duration": 11,
    "start_time": "2022-01-23T19:53:22.802Z"
   },
   {
    "duration": 7,
    "start_time": "2022-01-23T19:53:22.814Z"
   },
   {
    "duration": 5,
    "start_time": "2022-01-23T19:53:22.822Z"
   },
   {
    "duration": 6,
    "start_time": "2022-01-23T19:53:22.829Z"
   },
   {
    "duration": 21,
    "start_time": "2022-01-23T19:53:22.836Z"
   },
   {
    "duration": 11,
    "start_time": "2022-01-23T19:53:22.858Z"
   },
   {
    "duration": 4,
    "start_time": "2022-01-23T19:53:22.870Z"
   },
   {
    "duration": 7,
    "start_time": "2022-01-23T19:53:22.875Z"
   },
   {
    "duration": 24,
    "start_time": "2022-01-23T19:53:22.883Z"
   },
   {
    "duration": 13,
    "start_time": "2022-01-23T19:53:22.908Z"
   },
   {
    "duration": 5,
    "start_time": "2022-01-23T19:53:22.923Z"
   },
   {
    "duration": 4,
    "start_time": "2022-01-23T19:53:22.932Z"
   },
   {
    "duration": 5,
    "start_time": "2022-01-23T19:53:22.939Z"
   },
   {
    "duration": 4,
    "start_time": "2022-01-23T19:53:22.946Z"
   },
   {
    "duration": 880,
    "start_time": "2022-01-23T19:53:22.951Z"
   },
   {
    "duration": 2,
    "start_time": "2022-01-23T19:53:23.833Z"
   },
   {
    "duration": 591,
    "start_time": "2022-01-23T19:53:23.837Z"
   },
   {
    "duration": 2,
    "start_time": "2022-01-23T19:53:24.431Z"
   },
   {
    "duration": 8419,
    "start_time": "2022-01-23T19:53:24.435Z"
   },
   {
    "duration": -451,
    "start_time": "2022-01-23T19:53:33.307Z"
   },
   {
    "duration": -458,
    "start_time": "2022-01-23T19:53:33.314Z"
   },
   {
    "duration": -464,
    "start_time": "2022-01-23T19:53:33.321Z"
   },
   {
    "duration": -470,
    "start_time": "2022-01-23T19:53:33.328Z"
   },
   {
    "duration": -473,
    "start_time": "2022-01-23T19:53:33.332Z"
   },
   {
    "duration": -477,
    "start_time": "2022-01-23T19:53:33.337Z"
   },
   {
    "duration": -481,
    "start_time": "2022-01-23T19:53:33.342Z"
   },
   {
    "duration": -486,
    "start_time": "2022-01-23T19:53:33.347Z"
   },
   {
    "duration": -490,
    "start_time": "2022-01-23T19:53:33.352Z"
   },
   {
    "duration": -496,
    "start_time": "2022-01-23T19:53:33.359Z"
   },
   {
    "duration": -502,
    "start_time": "2022-01-23T19:53:33.366Z"
   },
   {
    "duration": -518,
    "start_time": "2022-01-23T19:53:33.383Z"
   },
   {
    "duration": -522,
    "start_time": "2022-01-23T19:53:33.388Z"
   },
   {
    "duration": -534,
    "start_time": "2022-01-23T19:53:33.401Z"
   },
   {
    "duration": -537,
    "start_time": "2022-01-23T19:53:33.405Z"
   },
   {
    "duration": -543,
    "start_time": "2022-01-23T19:53:33.411Z"
   },
   {
    "duration": -554,
    "start_time": "2022-01-23T19:53:33.423Z"
   },
   {
    "duration": -565,
    "start_time": "2022-01-23T19:53:33.435Z"
   },
   {
    "duration": -569,
    "start_time": "2022-01-23T19:53:33.439Z"
   },
   {
    "duration": -580,
    "start_time": "2022-01-23T19:53:33.451Z"
   },
   {
    "duration": -583,
    "start_time": "2022-01-23T19:53:33.455Z"
   },
   {
    "duration": -603,
    "start_time": "2022-01-23T19:53:33.476Z"
   },
   {
    "duration": -606,
    "start_time": "2022-01-23T19:53:33.480Z"
   },
   {
    "duration": -610,
    "start_time": "2022-01-23T19:53:33.485Z"
   },
   {
    "duration": -613,
    "start_time": "2022-01-23T19:53:33.489Z"
   },
   {
    "duration": -618,
    "start_time": "2022-01-23T19:53:33.495Z"
   },
   {
    "duration": -622,
    "start_time": "2022-01-23T19:53:33.499Z"
   },
   {
    "duration": -626,
    "start_time": "2022-01-23T19:53:33.504Z"
   },
   {
    "duration": -629,
    "start_time": "2022-01-23T19:53:33.508Z"
   },
   {
    "duration": -633,
    "start_time": "2022-01-23T19:53:33.513Z"
   },
   {
    "duration": -637,
    "start_time": "2022-01-23T19:53:33.518Z"
   },
   {
    "duration": -641,
    "start_time": "2022-01-23T19:53:33.523Z"
   },
   {
    "duration": -646,
    "start_time": "2022-01-23T19:53:33.528Z"
   },
   {
    "duration": -651,
    "start_time": "2022-01-23T19:53:33.534Z"
   },
   {
    "duration": -668,
    "start_time": "2022-01-23T19:53:33.552Z"
   },
   {
    "duration": -673,
    "start_time": "2022-01-23T19:53:33.558Z"
   },
   {
    "duration": -683,
    "start_time": "2022-01-23T19:53:33.569Z"
   },
   {
    "duration": 3,
    "start_time": "2022-01-23T19:53:49.824Z"
   },
   {
    "duration": 83,
    "start_time": "2022-01-23T19:53:52.444Z"
   },
   {
    "duration": 1141,
    "start_time": "2022-01-23T19:53:59.740Z"
   },
   {
    "duration": 34,
    "start_time": "2022-01-23T19:54:00.884Z"
   },
   {
    "duration": 21,
    "start_time": "2022-01-23T19:54:00.920Z"
   },
   {
    "duration": 48,
    "start_time": "2022-01-23T19:54:00.943Z"
   },
   {
    "duration": 9,
    "start_time": "2022-01-23T19:54:00.992Z"
   },
   {
    "duration": 25,
    "start_time": "2022-01-23T19:54:01.003Z"
   },
   {
    "duration": 5,
    "start_time": "2022-01-23T19:54:01.030Z"
   },
   {
    "duration": 16,
    "start_time": "2022-01-23T19:54:01.037Z"
   },
   {
    "duration": 6,
    "start_time": "2022-01-23T19:54:01.055Z"
   },
   {
    "duration": 9,
    "start_time": "2022-01-23T19:54:01.063Z"
   },
   {
    "duration": 10,
    "start_time": "2022-01-23T19:54:01.074Z"
   },
   {
    "duration": 7,
    "start_time": "2022-01-23T19:54:01.086Z"
   },
   {
    "duration": 29,
    "start_time": "2022-01-23T19:54:01.095Z"
   },
   {
    "duration": 10,
    "start_time": "2022-01-23T19:54:01.125Z"
   },
   {
    "duration": 42,
    "start_time": "2022-01-23T19:54:01.137Z"
   },
   {
    "duration": 21,
    "start_time": "2022-01-23T19:54:01.181Z"
   },
   {
    "duration": 9,
    "start_time": "2022-01-23T19:54:01.204Z"
   },
   {
    "duration": 12,
    "start_time": "2022-01-23T19:54:01.215Z"
   },
   {
    "duration": 36,
    "start_time": "2022-01-23T19:54:01.229Z"
   },
   {
    "duration": 16,
    "start_time": "2022-01-23T19:54:01.267Z"
   },
   {
    "duration": 12,
    "start_time": "2022-01-23T19:54:01.285Z"
   },
   {
    "duration": 6,
    "start_time": "2022-01-23T19:54:01.298Z"
   },
   {
    "duration": 20,
    "start_time": "2022-01-23T19:54:01.308Z"
   },
   {
    "duration": 5,
    "start_time": "2022-01-23T19:54:01.330Z"
   },
   {
    "duration": 93,
    "start_time": "2022-01-23T19:54:01.337Z"
   },
   {
    "duration": 3,
    "start_time": "2022-01-23T19:54:01.432Z"
   },
   {
    "duration": 127,
    "start_time": "2022-01-23T19:54:01.437Z"
   },
   {
    "duration": 3,
    "start_time": "2022-01-23T19:54:01.565Z"
   },
   {
    "duration": 13170,
    "start_time": "2022-01-23T19:54:01.570Z"
   },
   {
    "duration": 6,
    "start_time": "2022-01-23T19:54:14.741Z"
   },
   {
    "duration": 283,
    "start_time": "2022-01-23T19:54:14.748Z"
   },
   {
    "duration": 4,
    "start_time": "2022-01-23T19:54:15.033Z"
   },
   {
    "duration": 6,
    "start_time": "2022-01-23T19:54:15.039Z"
   },
   {
    "duration": 85,
    "start_time": "2022-01-23T19:54:15.046Z"
   },
   {
    "duration": 2,
    "start_time": "2022-01-23T19:54:15.133Z"
   },
   {
    "duration": 117,
    "start_time": "2022-01-23T19:54:15.137Z"
   },
   {
    "duration": 3,
    "start_time": "2022-01-23T19:54:15.255Z"
   },
   {
    "duration": 673,
    "start_time": "2022-01-23T19:54:15.259Z"
   },
   {
    "duration": 6,
    "start_time": "2022-01-23T19:54:15.933Z"
   },
   {
    "duration": 265,
    "start_time": "2022-01-23T19:54:15.940Z"
   },
   {
    "duration": 4,
    "start_time": "2022-01-23T19:54:16.206Z"
   },
   {
    "duration": 31,
    "start_time": "2022-01-23T19:54:16.211Z"
   },
   {
    "duration": 4,
    "start_time": "2022-01-23T19:54:16.244Z"
   },
   {
    "duration": 6,
    "start_time": "2022-01-23T19:54:16.249Z"
   },
   {
    "duration": 72,
    "start_time": "2022-01-23T19:54:16.256Z"
   },
   {
    "duration": 3,
    "start_time": "2022-01-23T19:54:16.331Z"
   },
   {
    "duration": 126,
    "start_time": "2022-01-23T19:54:16.336Z"
   },
   {
    "duration": 2,
    "start_time": "2022-01-23T19:54:16.464Z"
   },
   {
    "duration": 1921,
    "start_time": "2022-01-23T19:54:16.468Z"
   },
   {
    "duration": 6,
    "start_time": "2022-01-23T19:54:18.390Z"
   },
   {
    "duration": 359,
    "start_time": "2022-01-23T19:54:18.397Z"
   },
   {
    "duration": 7,
    "start_time": "2022-01-23T19:54:18.758Z"
   },
   {
    "duration": 24,
    "start_time": "2022-01-23T19:54:18.767Z"
   },
   {
    "duration": 3,
    "start_time": "2022-01-23T19:54:18.792Z"
   },
   {
    "duration": 31,
    "start_time": "2022-01-23T19:54:18.797Z"
   },
   {
    "duration": 4,
    "start_time": "2022-01-23T19:54:18.829Z"
   },
   {
    "duration": 4,
    "start_time": "2022-01-23T19:54:18.835Z"
   },
   {
    "duration": 93,
    "start_time": "2022-01-23T19:54:18.840Z"
   },
   {
    "duration": 92,
    "start_time": "2022-01-23T19:54:18.935Z"
   },
   {
    "duration": 19,
    "start_time": "2022-01-23T19:54:19.029Z"
   },
   {
    "duration": 3,
    "start_time": "2022-01-23T19:54:19.049Z"
   },
   {
    "duration": 445,
    "start_time": "2022-01-23T19:54:19.054Z"
   },
   {
    "duration": 7,
    "start_time": "2022-01-23T19:54:19.502Z"
   },
   {
    "duration": 278,
    "start_time": "2022-01-23T19:54:19.511Z"
   },
   {
    "duration": 3,
    "start_time": "2022-01-23T19:54:19.791Z"
   },
   {
    "duration": 720,
    "start_time": "2022-01-23T19:54:19.796Z"
   },
   {
    "duration": 1215,
    "start_time": "2022-01-23T19:54:42.395Z"
   },
   {
    "duration": 1040,
    "start_time": "2022-01-23T19:54:50.854Z"
   },
   {
    "duration": 117,
    "start_time": "2022-01-23T19:59:16.655Z"
   },
   {
    "duration": 3,
    "start_time": "2022-01-23T20:33:09.836Z"
   },
   {
    "duration": 1048,
    "start_time": "2022-01-23T20:33:11.524Z"
   },
   {
    "duration": 4,
    "start_time": "2022-01-23T20:33:24.493Z"
   },
   {
    "duration": 1060,
    "start_time": "2022-01-23T20:33:25.802Z"
   },
   {
    "duration": 1199,
    "start_time": "2022-01-23T20:36:01.339Z"
   },
   {
    "duration": 28,
    "start_time": "2022-01-23T20:36:02.539Z"
   },
   {
    "duration": 15,
    "start_time": "2022-01-23T20:36:02.569Z"
   },
   {
    "duration": 34,
    "start_time": "2022-01-23T20:36:02.586Z"
   },
   {
    "duration": 7,
    "start_time": "2022-01-23T20:36:02.627Z"
   },
   {
    "duration": 7,
    "start_time": "2022-01-23T20:36:02.635Z"
   },
   {
    "duration": 5,
    "start_time": "2022-01-23T20:36:02.643Z"
   },
   {
    "duration": 5,
    "start_time": "2022-01-23T20:36:02.650Z"
   },
   {
    "duration": 4,
    "start_time": "2022-01-23T20:36:02.657Z"
   },
   {
    "duration": 6,
    "start_time": "2022-01-23T20:36:02.662Z"
   },
   {
    "duration": 8,
    "start_time": "2022-01-23T20:36:02.669Z"
   },
   {
    "duration": 3,
    "start_time": "2022-01-23T20:36:02.678Z"
   },
   {
    "duration": 46,
    "start_time": "2022-01-23T20:36:02.682Z"
   },
   {
    "duration": 5,
    "start_time": "2022-01-23T20:36:02.729Z"
   },
   {
    "duration": 18,
    "start_time": "2022-01-23T20:36:02.735Z"
   },
   {
    "duration": 11,
    "start_time": "2022-01-23T20:36:02.754Z"
   },
   {
    "duration": 3,
    "start_time": "2022-01-23T20:36:02.767Z"
   },
   {
    "duration": 14,
    "start_time": "2022-01-23T20:36:02.772Z"
   },
   {
    "duration": 45,
    "start_time": "2022-01-23T20:36:02.787Z"
   },
   {
    "duration": 14,
    "start_time": "2022-01-23T20:36:02.833Z"
   },
   {
    "duration": 4,
    "start_time": "2022-01-23T20:36:02.849Z"
   },
   {
    "duration": 5,
    "start_time": "2022-01-23T20:36:02.855Z"
   },
   {
    "duration": 5,
    "start_time": "2022-01-23T20:36:02.863Z"
   },
   {
    "duration": 4,
    "start_time": "2022-01-23T20:36:02.870Z"
   },
   {
    "duration": 62,
    "start_time": "2022-01-23T20:36:02.875Z"
   },
   {
    "duration": 4,
    "start_time": "2022-01-23T20:36:03.028Z"
   },
   {
    "duration": 115,
    "start_time": "2022-01-23T20:36:03.034Z"
   },
   {
    "duration": 2,
    "start_time": "2022-01-23T20:36:03.151Z"
   },
   {
    "duration": 13056,
    "start_time": "2022-01-23T20:36:03.154Z"
   },
   {
    "duration": 6,
    "start_time": "2022-01-23T20:36:16.211Z"
   },
   {
    "duration": 278,
    "start_time": "2022-01-23T20:36:16.219Z"
   },
   {
    "duration": 5,
    "start_time": "2022-01-23T20:36:16.498Z"
   },
   {
    "duration": 4,
    "start_time": "2022-01-23T20:36:16.505Z"
   },
   {
    "duration": 32,
    "start_time": "2022-01-23T20:36:16.510Z"
   },
   {
    "duration": 4,
    "start_time": "2022-01-23T20:36:16.630Z"
   },
   {
    "duration": 124,
    "start_time": "2022-01-23T20:36:16.636Z"
   },
   {
    "duration": 2,
    "start_time": "2022-01-23T20:36:16.762Z"
   },
   {
    "duration": 665,
    "start_time": "2022-01-23T20:36:16.765Z"
   },
   {
    "duration": 6,
    "start_time": "2022-01-23T20:36:17.432Z"
   },
   {
    "duration": 262,
    "start_time": "2022-01-23T20:36:17.439Z"
   },
   {
    "duration": 4,
    "start_time": "2022-01-23T20:36:17.702Z"
   },
   {
    "duration": 26,
    "start_time": "2022-01-23T20:36:17.707Z"
   },
   {
    "duration": 5,
    "start_time": "2022-01-23T20:36:17.734Z"
   },
   {
    "duration": 5,
    "start_time": "2022-01-23T20:36:17.740Z"
   },
   {
    "duration": 85,
    "start_time": "2022-01-23T20:36:17.746Z"
   },
   {
    "duration": 94,
    "start_time": "2022-01-23T20:36:17.833Z"
   },
   {
    "duration": 37,
    "start_time": "2022-01-23T20:36:17.929Z"
   },
   {
    "duration": 2,
    "start_time": "2022-01-23T20:36:17.968Z"
   },
   {
    "duration": 1911,
    "start_time": "2022-01-23T20:36:17.971Z"
   },
   {
    "duration": 6,
    "start_time": "2022-01-23T20:36:19.883Z"
   },
   {
    "duration": 269,
    "start_time": "2022-01-23T20:36:19.890Z"
   },
   {
    "duration": 8,
    "start_time": "2022-01-23T20:36:20.161Z"
   },
   {
    "duration": 24,
    "start_time": "2022-01-23T20:36:20.170Z"
   },
   {
    "duration": 3,
    "start_time": "2022-01-23T20:36:20.196Z"
   },
   {
    "duration": 31,
    "start_time": "2022-01-23T20:36:20.201Z"
   },
   {
    "duration": 4,
    "start_time": "2022-01-23T20:36:20.234Z"
   },
   {
    "duration": 5,
    "start_time": "2022-01-23T20:36:20.240Z"
   },
   {
    "duration": 83,
    "start_time": "2022-01-23T20:36:20.246Z"
   },
   {
    "duration": 4,
    "start_time": "2022-01-23T20:36:20.331Z"
   },
   {
    "duration": 111,
    "start_time": "2022-01-23T20:36:20.337Z"
   },
   {
    "duration": 2,
    "start_time": "2022-01-23T20:36:20.450Z"
   },
   {
    "duration": 323,
    "start_time": "2022-01-23T20:36:20.454Z"
   },
   {
    "duration": 7,
    "start_time": "2022-01-23T20:36:20.778Z"
   },
   {
    "duration": 270,
    "start_time": "2022-01-23T20:36:20.787Z"
   },
   {
    "duration": 4,
    "start_time": "2022-01-23T20:36:21.059Z"
   },
   {
    "duration": 1064,
    "start_time": "2022-01-23T20:36:21.064Z"
   },
   {
    "duration": 5,
    "start_time": "2022-01-23T20:37:46.310Z"
   },
   {
    "duration": 5,
    "start_time": "2022-01-23T20:38:34.692Z"
   },
   {
    "duration": 415,
    "start_time": "2022-01-23T20:38:54.584Z"
   },
   {
    "duration": 6,
    "start_time": "2022-01-23T20:38:57.830Z"
   },
   {
    "duration": 104,
    "start_time": "2022-01-23T20:42:16.022Z"
   },
   {
    "duration": 1145,
    "start_time": "2022-01-23T20:43:55.741Z"
   },
   {
    "duration": 28,
    "start_time": "2022-01-23T20:43:56.888Z"
   },
   {
    "duration": 16,
    "start_time": "2022-01-23T20:43:56.918Z"
   },
   {
    "duration": 35,
    "start_time": "2022-01-23T20:43:56.936Z"
   },
   {
    "duration": 8,
    "start_time": "2022-01-23T20:43:56.973Z"
   },
   {
    "duration": 7,
    "start_time": "2022-01-23T20:43:56.983Z"
   },
   {
    "duration": 5,
    "start_time": "2022-01-23T20:43:56.992Z"
   },
   {
    "duration": 31,
    "start_time": "2022-01-23T20:43:57.000Z"
   },
   {
    "duration": 7,
    "start_time": "2022-01-23T20:43:57.033Z"
   },
   {
    "duration": 4,
    "start_time": "2022-01-23T20:43:57.042Z"
   },
   {
    "duration": 6,
    "start_time": "2022-01-23T20:43:57.047Z"
   },
   {
    "duration": 9,
    "start_time": "2022-01-23T20:43:57.055Z"
   },
   {
    "duration": 3,
    "start_time": "2022-01-23T20:43:57.065Z"
   },
   {
    "duration": 6,
    "start_time": "2022-01-23T20:43:57.070Z"
   },
   {
    "duration": 7,
    "start_time": "2022-01-23T20:43:57.077Z"
   },
   {
    "duration": 42,
    "start_time": "2022-01-23T20:43:57.086Z"
   },
   {
    "duration": 11,
    "start_time": "2022-01-23T20:43:57.129Z"
   },
   {
    "duration": 4,
    "start_time": "2022-01-23T20:43:57.141Z"
   },
   {
    "duration": 8,
    "start_time": "2022-01-23T20:43:57.147Z"
   },
   {
    "duration": 37,
    "start_time": "2022-01-23T20:43:57.156Z"
   },
   {
    "duration": 14,
    "start_time": "2022-01-23T20:43:57.194Z"
   },
   {
    "duration": 18,
    "start_time": "2022-01-23T20:43:57.210Z"
   },
   {
    "duration": 4,
    "start_time": "2022-01-23T20:43:57.231Z"
   },
   {
    "duration": 7,
    "start_time": "2022-01-23T20:43:57.237Z"
   },
   {
    "duration": 5,
    "start_time": "2022-01-23T20:43:57.245Z"
   },
   {
    "duration": 180,
    "start_time": "2022-01-23T20:43:57.251Z"
   },
   {
    "duration": 94,
    "start_time": "2022-01-23T20:43:57.433Z"
   },
   {
    "duration": 26,
    "start_time": "2022-01-23T20:43:57.529Z"
   },
   {
    "duration": 3,
    "start_time": "2022-01-23T20:43:57.556Z"
   },
   {
    "duration": 13230,
    "start_time": "2022-01-23T20:43:57.560Z"
   },
   {
    "duration": 6,
    "start_time": "2022-01-23T20:44:10.792Z"
   },
   {
    "duration": 275,
    "start_time": "2022-01-23T20:44:10.799Z"
   },
   {
    "duration": 4,
    "start_time": "2022-01-23T20:44:11.076Z"
   },
   {
    "duration": 4,
    "start_time": "2022-01-23T20:44:11.082Z"
   },
   {
    "duration": 142,
    "start_time": "2022-01-23T20:44:11.087Z"
   },
   {
    "duration": 4,
    "start_time": "2022-01-23T20:44:11.231Z"
   },
   {
    "duration": 116,
    "start_time": "2022-01-23T20:44:11.236Z"
   },
   {
    "duration": 2,
    "start_time": "2022-01-23T20:44:11.354Z"
   },
   {
    "duration": 696,
    "start_time": "2022-01-23T20:44:11.357Z"
   },
   {
    "duration": 7,
    "start_time": "2022-01-23T20:44:12.054Z"
   },
   {
    "duration": 271,
    "start_time": "2022-01-23T20:44:12.062Z"
   },
   {
    "duration": 4,
    "start_time": "2022-01-23T20:44:12.334Z"
   },
   {
    "duration": 18,
    "start_time": "2022-01-23T20:44:12.339Z"
   },
   {
    "duration": 4,
    "start_time": "2022-01-23T20:44:12.358Z"
   },
   {
    "duration": 4,
    "start_time": "2022-01-23T20:44:12.364Z"
   },
   {
    "duration": 66,
    "start_time": "2022-01-23T20:44:12.369Z"
   },
   {
    "duration": 92,
    "start_time": "2022-01-23T20:44:12.437Z"
   },
   {
    "duration": 113,
    "start_time": "2022-01-23T20:44:12.531Z"
   },
   {
    "duration": 2,
    "start_time": "2022-01-23T20:44:12.646Z"
   },
   {
    "duration": 1828,
    "start_time": "2022-01-23T20:44:12.649Z"
   },
   {
    "duration": 6,
    "start_time": "2022-01-23T20:44:14.478Z"
   },
   {
    "duration": 261,
    "start_time": "2022-01-23T20:44:14.486Z"
   },
   {
    "duration": 8,
    "start_time": "2022-01-23T20:44:14.748Z"
   },
   {
    "duration": 23,
    "start_time": "2022-01-23T20:44:14.757Z"
   },
   {
    "duration": 3,
    "start_time": "2022-01-23T20:44:14.782Z"
   },
   {
    "duration": 14,
    "start_time": "2022-01-23T20:44:14.786Z"
   },
   {
    "duration": 5,
    "start_time": "2022-01-23T20:44:14.801Z"
   },
   {
    "duration": 2,
    "start_time": "2022-01-23T20:44:14.827Z"
   },
   {
    "duration": 97,
    "start_time": "2022-01-23T20:44:14.831Z"
   },
   {
    "duration": 6,
    "start_time": "2022-01-23T20:44:14.930Z"
   },
   {
    "duration": 18,
    "start_time": "2022-01-23T20:44:15.028Z"
   },
   {
    "duration": 3,
    "start_time": "2022-01-23T20:44:15.047Z"
   },
   {
    "duration": 326,
    "start_time": "2022-01-23T20:44:15.051Z"
   },
   {
    "duration": 7,
    "start_time": "2022-01-23T20:44:15.378Z"
   },
   {
    "duration": 284,
    "start_time": "2022-01-23T20:44:15.387Z"
   },
   {
    "duration": 5,
    "start_time": "2022-01-23T20:44:15.673Z"
   },
   {
    "duration": 1062,
    "start_time": "2022-01-23T20:44:15.679Z"
   },
   {
    "duration": 1215,
    "start_time": "2022-01-23T20:46:58.728Z"
   },
   {
    "duration": 27,
    "start_time": "2022-01-23T20:46:59.945Z"
   },
   {
    "duration": 15,
    "start_time": "2022-01-23T20:46:59.973Z"
   },
   {
    "duration": 36,
    "start_time": "2022-01-23T20:46:59.990Z"
   },
   {
    "duration": 7,
    "start_time": "2022-01-23T20:47:00.028Z"
   },
   {
    "duration": 9,
    "start_time": "2022-01-23T20:47:00.036Z"
   },
   {
    "duration": 4,
    "start_time": "2022-01-23T20:47:00.047Z"
   },
   {
    "duration": 6,
    "start_time": "2022-01-23T20:47:00.052Z"
   },
   {
    "duration": 7,
    "start_time": "2022-01-23T20:47:00.060Z"
   },
   {
    "duration": 4,
    "start_time": "2022-01-23T20:47:00.777Z"
   },
   {
    "duration": 13,
    "start_time": "2022-01-23T20:47:00.783Z"
   },
   {
    "duration": 12,
    "start_time": "2022-01-23T20:47:00.797Z"
   },
   {
    "duration": 5,
    "start_time": "2022-01-23T20:47:00.810Z"
   },
   {
    "duration": 5,
    "start_time": "2022-01-23T20:47:00.817Z"
   },
   {
    "duration": 13,
    "start_time": "2022-01-23T20:47:00.823Z"
   },
   {
    "duration": 17,
    "start_time": "2022-01-23T20:47:00.837Z"
   },
   {
    "duration": 11,
    "start_time": "2022-01-23T20:47:00.856Z"
   },
   {
    "duration": 4,
    "start_time": "2022-01-23T20:47:00.869Z"
   },
   {
    "duration": 7,
    "start_time": "2022-01-23T20:47:00.875Z"
   },
   {
    "duration": 23,
    "start_time": "2022-01-23T20:47:00.884Z"
   },
   {
    "duration": 13,
    "start_time": "2022-01-23T20:47:00.908Z"
   },
   {
    "duration": 6,
    "start_time": "2022-01-23T20:47:00.922Z"
   },
   {
    "duration": 6,
    "start_time": "2022-01-23T20:47:00.929Z"
   },
   {
    "duration": 15,
    "start_time": "2022-01-23T20:47:00.936Z"
   },
   {
    "duration": 9,
    "start_time": "2022-01-23T20:47:00.952Z"
   },
   {
    "duration": 68,
    "start_time": "2022-01-23T20:47:00.963Z"
   },
   {
    "duration": 3,
    "start_time": "2022-01-23T20:47:01.033Z"
   },
   {
    "duration": 25,
    "start_time": "2022-01-23T20:47:01.128Z"
   },
   {
    "duration": 2,
    "start_time": "2022-01-23T20:47:01.155Z"
   },
   {
    "duration": 13207,
    "start_time": "2022-01-23T20:47:01.158Z"
   },
   {
    "duration": 6,
    "start_time": "2022-01-23T20:47:14.367Z"
   },
   {
    "duration": 277,
    "start_time": "2022-01-23T20:47:14.377Z"
   },
   {
    "duration": 5,
    "start_time": "2022-01-23T20:47:14.656Z"
   },
   {
    "duration": 8,
    "start_time": "2022-01-23T20:47:14.662Z"
   },
   {
    "duration": 65,
    "start_time": "2022-01-23T20:47:14.671Z"
   },
   {
    "duration": 89,
    "start_time": "2022-01-23T20:47:14.738Z"
   },
   {
    "duration": 32,
    "start_time": "2022-01-23T20:47:14.829Z"
   },
   {
    "duration": 2,
    "start_time": "2022-01-23T20:47:14.863Z"
   },
   {
    "duration": 811,
    "start_time": "2022-01-23T20:47:14.866Z"
   },
   {
    "duration": 7,
    "start_time": "2022-01-23T20:47:15.679Z"
   },
   {
    "duration": 267,
    "start_time": "2022-01-23T20:47:15.687Z"
   },
   {
    "duration": 3,
    "start_time": "2022-01-23T20:47:15.955Z"
   },
   {
    "duration": 18,
    "start_time": "2022-01-23T20:47:15.960Z"
   },
   {
    "duration": 5,
    "start_time": "2022-01-23T20:47:15.979Z"
   },
   {
    "duration": 5,
    "start_time": "2022-01-23T20:47:15.985Z"
   },
   {
    "duration": 46,
    "start_time": "2022-01-23T20:47:15.991Z"
   },
   {
    "duration": 91,
    "start_time": "2022-01-23T20:47:16.039Z"
   },
   {
    "duration": 130,
    "start_time": "2022-01-23T20:47:16.132Z"
   },
   {
    "duration": 2,
    "start_time": "2022-01-23T20:47:16.264Z"
   },
   {
    "duration": 2884,
    "start_time": "2022-01-23T20:47:16.268Z"
   },
   {
    "duration": 8,
    "start_time": "2022-01-23T20:47:19.154Z"
   },
   {
    "duration": 366,
    "start_time": "2022-01-23T20:47:19.164Z"
   },
   {
    "duration": 9,
    "start_time": "2022-01-23T20:47:19.532Z"
   },
   {
    "duration": 34,
    "start_time": "2022-01-23T20:47:19.543Z"
   },
   {
    "duration": 4,
    "start_time": "2022-01-23T20:47:19.579Z"
   },
   {
    "duration": 18,
    "start_time": "2022-01-23T20:47:19.585Z"
   },
   {
    "duration": 23,
    "start_time": "2022-01-23T20:47:19.605Z"
   },
   {
    "duration": 5,
    "start_time": "2022-01-23T20:47:19.629Z"
   },
   {
    "duration": 23,
    "start_time": "2022-01-23T20:47:19.636Z"
   },
   {
    "duration": 5,
    "start_time": "2022-01-23T20:47:19.728Z"
   },
   {
    "duration": 104,
    "start_time": "2022-01-23T20:47:19.735Z"
   },
   {
    "duration": 2,
    "start_time": "2022-01-23T20:47:19.841Z"
   },
   {
    "duration": 320,
    "start_time": "2022-01-23T20:47:19.845Z"
   },
   {
    "duration": 7,
    "start_time": "2022-01-23T20:47:20.166Z"
   },
   {
    "duration": 282,
    "start_time": "2022-01-23T20:47:20.174Z"
   },
   {
    "duration": 3,
    "start_time": "2022-01-23T20:47:20.458Z"
   },
   {
    "duration": 1065,
    "start_time": "2022-01-23T20:47:20.463Z"
   },
   {
    "duration": 325,
    "start_time": "2022-01-23T20:51:44.544Z"
   },
   {
    "duration": 264,
    "start_time": "2022-01-23T20:52:07.377Z"
   },
   {
    "duration": 266,
    "start_time": "2022-01-23T20:52:13.260Z"
   },
   {
    "duration": 363,
    "start_time": "2022-01-23T20:52:22.594Z"
   },
   {
    "duration": 306,
    "start_time": "2022-01-23T20:52:30.583Z"
   },
   {
    "duration": 304,
    "start_time": "2022-01-23T20:52:35.691Z"
   },
   {
    "duration": 263,
    "start_time": "2022-01-23T20:52:41.396Z"
   },
   {
    "duration": 258,
    "start_time": "2022-01-23T20:52:53.224Z"
   },
   {
    "duration": 258,
    "start_time": "2022-01-23T20:53:00.889Z"
   },
   {
    "duration": 365,
    "start_time": "2022-01-23T20:53:15.633Z"
   },
   {
    "duration": 368,
    "start_time": "2022-01-23T20:53:45.794Z"
   },
   {
    "duration": 336,
    "start_time": "2022-01-23T20:53:49.623Z"
   },
   {
    "duration": 286,
    "start_time": "2022-01-23T20:53:59.108Z"
   },
   {
    "duration": 266,
    "start_time": "2022-01-23T20:54:06.578Z"
   },
   {
    "duration": 1109,
    "start_time": "2022-01-23T21:19:14.539Z"
   },
   {
    "duration": 29,
    "start_time": "2022-01-23T21:19:15.649Z"
   },
   {
    "duration": 19,
    "start_time": "2022-01-23T21:19:15.680Z"
   },
   {
    "duration": 42,
    "start_time": "2022-01-23T21:19:20.570Z"
   },
   {
    "duration": 9,
    "start_time": "2022-01-23T21:19:21.659Z"
   },
   {
    "duration": 8,
    "start_time": "2022-01-23T21:19:22.385Z"
   },
   {
    "duration": 4,
    "start_time": "2022-01-23T21:19:49.024Z"
   },
   {
    "duration": 5,
    "start_time": "2022-01-23T21:19:50.002Z"
   },
   {
    "duration": 6,
    "start_time": "2022-01-23T21:19:50.572Z"
   },
   {
    "duration": 4,
    "start_time": "2022-01-23T21:19:50.991Z"
   },
   {
    "duration": 5,
    "start_time": "2022-01-23T21:20:32.382Z"
   },
   {
    "duration": 6,
    "start_time": "2022-01-23T21:20:33.560Z"
   },
   {
    "duration": 4,
    "start_time": "2022-01-23T21:20:37.108Z"
   },
   {
    "duration": 4,
    "start_time": "2022-01-23T21:20:41.435Z"
   },
   {
    "duration": 5,
    "start_time": "2022-01-23T21:21:10.938Z"
   },
   {
    "duration": 19,
    "start_time": "2022-01-23T21:21:45.630Z"
   },
   {
    "duration": 14,
    "start_time": "2022-01-23T21:21:48.732Z"
   },
   {
    "duration": 5,
    "start_time": "2022-01-23T21:21:50.146Z"
   },
   {
    "duration": 9,
    "start_time": "2022-01-23T21:21:51.037Z"
   },
   {
    "duration": 34,
    "start_time": "2022-01-23T21:21:57.886Z"
   },
   {
    "duration": 17,
    "start_time": "2022-01-23T21:21:59.679Z"
   },
   {
    "duration": 6,
    "start_time": "2022-01-23T21:24:12.761Z"
   },
   {
    "duration": 4,
    "start_time": "2022-01-23T21:24:29.848Z"
   },
   {
    "duration": 5,
    "start_time": "2022-01-23T21:24:30.314Z"
   },
   {
    "duration": 3,
    "start_time": "2022-01-23T21:24:36.782Z"
   },
   {
    "duration": 66,
    "start_time": "2022-01-23T21:24:40.839Z"
   },
   {
    "duration": 31,
    "start_time": "2022-01-23T21:25:38.282Z"
   },
   {
    "duration": 14869,
    "start_time": "2022-01-23T21:25:50.483Z"
   },
   {
    "duration": 8,
    "start_time": "2022-01-23T21:26:05.354Z"
   },
   {
    "duration": 323,
    "start_time": "2022-01-23T21:26:20.111Z"
   },
   {
    "duration": 6,
    "start_time": "2022-01-23T21:28:12.598Z"
   },
   {
    "duration": 2,
    "start_time": "2022-01-23T21:28:13.673Z"
   },
   {
    "duration": 99,
    "start_time": "2022-01-23T21:28:15.005Z"
   },
   {
    "duration": 2,
    "start_time": "2022-01-23T21:28:15.650Z"
   },
   {
    "duration": 35,
    "start_time": "2022-01-23T21:28:16.166Z"
   },
   {
    "duration": 3,
    "start_time": "2022-01-23T21:28:16.558Z"
   },
   {
    "duration": 758,
    "start_time": "2022-01-23T21:28:16.883Z"
   },
   {
    "duration": 8,
    "start_time": "2022-01-23T21:28:17.644Z"
   },
   {
    "duration": 329,
    "start_time": "2022-01-23T21:28:17.983Z"
   },
   {
    "duration": 5,
    "start_time": "2022-01-23T21:29:01.116Z"
   },
   {
    "duration": 15,
    "start_time": "2022-01-23T21:29:04.151Z"
   },
   {
    "duration": 6,
    "start_time": "2022-01-23T21:29:04.649Z"
   },
   {
    "duration": 5,
    "start_time": "2022-01-23T21:29:37.286Z"
   },
   {
    "duration": 3,
    "start_time": "2022-01-23T21:29:38.821Z"
   },
   {
    "duration": 95,
    "start_time": "2022-01-23T21:29:39.317Z"
   },
   {
    "duration": 3,
    "start_time": "2022-01-23T21:29:39.916Z"
   },
   {
    "duration": 47,
    "start_time": "2022-01-23T21:29:40.458Z"
   },
   {
    "duration": 2,
    "start_time": "2022-01-23T21:29:40.893Z"
   },
   {
    "duration": 2098,
    "start_time": "2022-01-23T21:29:41.350Z"
   },
   {
    "duration": 6,
    "start_time": "2022-01-23T21:29:43.450Z"
   },
   {
    "duration": 322,
    "start_time": "2022-01-23T21:29:43.458Z"
   },
   {
    "duration": 9,
    "start_time": "2022-01-23T21:30:07.086Z"
   },
   {
    "duration": 29,
    "start_time": "2022-01-23T21:30:10.725Z"
   },
   {
    "duration": 4,
    "start_time": "2022-01-23T21:30:14.418Z"
   },
   {
    "duration": 15,
    "start_time": "2022-01-23T21:30:17.450Z"
   },
   {
    "duration": 6,
    "start_time": "2022-01-23T21:30:18.744Z"
   },
   {
    "duration": 2,
    "start_time": "2022-01-23T21:30:19.511Z"
   },
   {
    "duration": 21,
    "start_time": "2022-01-23T21:30:19.982Z"
   },
   {
    "duration": 3,
    "start_time": "2022-01-23T21:30:20.393Z"
   },
   {
    "duration": 18,
    "start_time": "2022-01-23T21:30:21.153Z"
   },
   {
    "duration": 2,
    "start_time": "2022-01-23T21:30:21.859Z"
   },
   {
    "duration": 381,
    "start_time": "2022-01-23T21:30:22.450Z"
   },
   {
    "duration": 8,
    "start_time": "2022-01-23T21:30:24.375Z"
   },
   {
    "duration": 332,
    "start_time": "2022-01-23T21:30:25.325Z"
   },
   {
    "duration": 4,
    "start_time": "2022-01-23T21:31:04.817Z"
   },
   {
    "duration": 1239,
    "start_time": "2022-01-23T21:31:06.027Z"
   },
   {
    "duration": 488,
    "start_time": "2022-01-24T14:23:50.806Z"
   },
   {
    "duration": 1515,
    "start_time": "2022-01-24T14:24:35.939Z"
   },
   {
    "duration": 1463,
    "start_time": "2022-01-24T14:24:43.898Z"
   },
   {
    "duration": 36,
    "start_time": "2022-01-24T14:24:45.365Z"
   },
   {
    "duration": 26,
    "start_time": "2022-01-24T14:24:45.405Z"
   },
   {
    "duration": 72,
    "start_time": "2022-01-24T14:24:45.434Z"
   },
   {
    "duration": 12,
    "start_time": "2022-01-24T14:24:45.508Z"
   },
   {
    "duration": 12,
    "start_time": "2022-01-24T14:24:45.522Z"
   },
   {
    "duration": 33,
    "start_time": "2022-01-24T14:24:45.536Z"
   },
   {
    "duration": 26,
    "start_time": "2022-01-24T14:24:45.573Z"
   },
   {
    "duration": 15,
    "start_time": "2022-01-24T14:24:45.602Z"
   },
   {
    "duration": 16,
    "start_time": "2022-01-24T14:24:45.619Z"
   },
   {
    "duration": 17,
    "start_time": "2022-01-24T14:24:45.638Z"
   },
   {
    "duration": 40,
    "start_time": "2022-01-24T14:24:45.657Z"
   },
   {
    "duration": 27,
    "start_time": "2022-01-24T14:24:45.700Z"
   },
   {
    "duration": 36,
    "start_time": "2022-01-24T14:24:45.729Z"
   },
   {
    "duration": 34,
    "start_time": "2022-01-24T14:24:45.768Z"
   },
   {
    "duration": 67,
    "start_time": "2022-01-24T14:24:45.804Z"
   },
   {
    "duration": 55,
    "start_time": "2022-01-24T14:24:45.874Z"
   },
   {
    "duration": 30,
    "start_time": "2022-01-24T14:24:45.931Z"
   },
   {
    "duration": 34,
    "start_time": "2022-01-24T14:24:45.963Z"
   },
   {
    "duration": 73,
    "start_time": "2022-01-24T14:24:45.999Z"
   },
   {
    "duration": 24,
    "start_time": "2022-01-24T14:24:46.074Z"
   },
   {
    "duration": 15,
    "start_time": "2022-01-24T14:24:46.100Z"
   },
   {
    "duration": 33,
    "start_time": "2022-01-24T14:24:46.121Z"
   },
   {
    "duration": 26,
    "start_time": "2022-01-24T14:24:46.158Z"
   },
   {
    "duration": 31,
    "start_time": "2022-01-24T14:24:46.186Z"
   },
   {
    "duration": 147,
    "start_time": "2022-01-24T14:24:46.219Z"
   },
   {
    "duration": 4,
    "start_time": "2022-01-24T14:24:46.370Z"
   },
   {
    "duration": 67,
    "start_time": "2022-01-24T14:24:46.466Z"
   },
   {
    "duration": 7,
    "start_time": "2022-01-24T14:24:46.535Z"
   },
   {
    "duration": 20393,
    "start_time": "2022-01-24T14:24:46.545Z"
   },
   {
    "duration": 10,
    "start_time": "2022-01-24T14:25:06.941Z"
   },
   {
    "duration": 518,
    "start_time": "2022-01-24T14:25:06.965Z"
   },
   {
    "duration": 7,
    "start_time": "2022-01-24T14:25:07.486Z"
   },
   {
    "duration": 10,
    "start_time": "2022-01-24T14:25:07.496Z"
   },
   {
    "duration": 159,
    "start_time": "2022-01-24T14:25:07.509Z"
   },
   {
    "duration": 6,
    "start_time": "2022-01-24T14:25:07.672Z"
   },
   {
    "duration": 47,
    "start_time": "2022-01-24T14:25:07.766Z"
   },
   {
    "duration": 5,
    "start_time": "2022-01-24T14:25:07.816Z"
   },
   {
    "duration": 1083,
    "start_time": "2022-01-24T14:25:07.823Z"
   },
   {
    "duration": 9,
    "start_time": "2022-01-24T14:25:08.909Z"
   },
   {
    "duration": 491,
    "start_time": "2022-01-24T14:25:08.920Z"
   },
   {
    "duration": 5,
    "start_time": "2022-01-24T14:25:09.414Z"
   },
   {
    "duration": 44,
    "start_time": "2022-01-24T14:25:09.422Z"
   },
   {
    "duration": 8,
    "start_time": "2022-01-24T14:25:09.469Z"
   },
   {
    "duration": 9,
    "start_time": "2022-01-24T14:25:09.479Z"
   },
   {
    "duration": 178,
    "start_time": "2022-01-24T14:25:09.490Z"
   },
   {
    "duration": 6,
    "start_time": "2022-01-24T14:25:09.671Z"
   },
   {
    "duration": 149,
    "start_time": "2022-01-24T14:25:09.679Z"
   },
   {
    "duration": 3,
    "start_time": "2022-01-24T14:25:09.831Z"
   },
   {
    "duration": 3003,
    "start_time": "2022-01-24T14:25:09.837Z"
   },
   {
    "duration": 24,
    "start_time": "2022-01-24T14:25:12.843Z"
   },
   {
    "duration": 476,
    "start_time": "2022-01-24T14:25:12.870Z"
   },
   {
    "duration": 25,
    "start_time": "2022-01-24T14:25:13.349Z"
   },
   {
    "duration": 40,
    "start_time": "2022-01-24T14:25:13.377Z"
   },
   {
    "duration": 6,
    "start_time": "2022-01-24T14:25:13.419Z"
   },
   {
    "duration": 48,
    "start_time": "2022-01-24T14:25:13.428Z"
   },
   {
    "duration": 6,
    "start_time": "2022-01-24T14:25:13.479Z"
   },
   {
    "duration": 10,
    "start_time": "2022-01-24T14:25:13.487Z"
   },
   {
    "duration": 172,
    "start_time": "2022-01-24T14:25:13.499Z"
   },
   {
    "duration": 92,
    "start_time": "2022-01-24T14:25:13.674Z"
   },
   {
    "duration": 33,
    "start_time": "2022-01-24T14:25:13.769Z"
   },
   {
    "duration": 4,
    "start_time": "2022-01-24T14:25:13.805Z"
   },
   {
    "duration": 533,
    "start_time": "2022-01-24T14:25:13.811Z"
   },
   {
    "duration": 19,
    "start_time": "2022-01-24T14:25:14.346Z"
   },
   {
    "duration": 502,
    "start_time": "2022-01-24T14:25:14.367Z"
   },
   {
    "duration": 6,
    "start_time": "2022-01-24T14:25:14.873Z"
   },
   {
    "duration": 1752,
    "start_time": "2022-01-24T14:25:14.881Z"
   },
   {
    "duration": 24,
    "start_time": "2022-01-24T14:25:16.640Z"
   },
   {
    "duration": 446,
    "start_time": "2022-01-24T14:25:16.667Z"
   },
   {
    "duration": -668,
    "start_time": "2022-01-24T14:25:17.784Z"
   },
   {
    "duration": 32,
    "start_time": "2022-01-24T14:25:34.773Z"
   },
   {
    "duration": 321,
    "start_time": "2022-01-24T14:25:36.439Z"
   },
   {
    "duration": 1512,
    "start_time": "2022-01-24T14:25:59.668Z"
   },
   {
    "duration": 1306,
    "start_time": "2022-01-24T14:26:58.958Z"
   },
   {
    "duration": 741,
    "start_time": "2022-01-24T14:27:06.423Z"
   },
   {
    "duration": 6,
    "start_time": "2022-01-24T14:30:33.576Z"
   },
   {
    "duration": 5,
    "start_time": "2022-01-24T14:30:38.681Z"
   },
   {
    "duration": 5,
    "start_time": "2022-01-24T14:31:25.687Z"
   },
   {
    "duration": 17,
    "start_time": "2022-01-24T14:31:36.352Z"
   },
   {
    "duration": 6,
    "start_time": "2022-01-24T14:31:37.907Z"
   },
   {
    "duration": 7,
    "start_time": "2022-01-24T14:32:12.277Z"
   },
   {
    "duration": 1282,
    "start_time": "2022-01-24T14:34:02.352Z"
   },
   {
    "duration": 1261,
    "start_time": "2022-01-24T14:34:56.216Z"
   },
   {
    "duration": 12,
    "start_time": "2022-01-24T14:34:59.444Z"
   },
   {
    "duration": 32,
    "start_time": "2022-01-24T14:35:01.604Z"
   },
   {
    "duration": 1239,
    "start_time": "2022-01-24T14:35:03.416Z"
   },
   {
    "duration": 744,
    "start_time": "2022-01-24T14:35:08.366Z"
   },
   {
    "duration": 108,
    "start_time": "2022-01-24T14:44:03.949Z"
   },
   {
    "duration": 27,
    "start_time": "2022-01-24T14:44:13.748Z"
   },
   {
    "duration": 35,
    "start_time": "2022-01-24T14:45:08.007Z"
   },
   {
    "duration": 28,
    "start_time": "2022-01-24T14:45:11.774Z"
   },
   {
    "duration": 38,
    "start_time": "2022-01-24T14:45:15.278Z"
   },
   {
    "duration": 6,
    "start_time": "2022-01-24T14:51:41.934Z"
   },
   {
    "duration": 5,
    "start_time": "2022-01-24T14:52:49.180Z"
   },
   {
    "duration": 8,
    "start_time": "2022-01-24T14:53:12.131Z"
   },
   {
    "duration": 9,
    "start_time": "2022-01-24T14:58:49.117Z"
   },
   {
    "duration": 8,
    "start_time": "2022-01-24T14:58:51.570Z"
   },
   {
    "duration": 1619,
    "start_time": "2022-01-24T14:59:00.105Z"
   },
   {
    "duration": 40,
    "start_time": "2022-01-24T14:59:01.727Z"
   },
   {
    "duration": 29,
    "start_time": "2022-01-24T14:59:01.775Z"
   },
   {
    "duration": 94,
    "start_time": "2022-01-24T14:59:01.808Z"
   },
   {
    "duration": 15,
    "start_time": "2022-01-24T14:59:01.905Z"
   },
   {
    "duration": 21,
    "start_time": "2022-01-24T14:59:01.923Z"
   },
   {
    "duration": 20,
    "start_time": "2022-01-24T14:59:01.948Z"
   },
   {
    "duration": 28,
    "start_time": "2022-01-24T14:59:01.971Z"
   },
   {
    "duration": 14,
    "start_time": "2022-01-24T14:59:02.001Z"
   },
   {
    "duration": 8,
    "start_time": "2022-01-24T14:59:02.017Z"
   },
   {
    "duration": 12,
    "start_time": "2022-01-24T14:59:02.028Z"
   },
   {
    "duration": 28,
    "start_time": "2022-01-24T14:59:02.043Z"
   },
   {
    "duration": 16,
    "start_time": "2022-01-24T14:59:02.074Z"
   },
   {
    "duration": 32,
    "start_time": "2022-01-24T14:59:02.092Z"
   },
   {
    "duration": 63,
    "start_time": "2022-01-24T14:59:02.127Z"
   },
   {
    "duration": 32,
    "start_time": "2022-01-24T14:59:02.193Z"
   },
   {
    "duration": 19,
    "start_time": "2022-01-24T14:59:02.228Z"
   },
   {
    "duration": 11,
    "start_time": "2022-01-24T14:59:02.250Z"
   },
   {
    "duration": 27,
    "start_time": "2022-01-24T14:59:02.263Z"
   },
   {
    "duration": 7,
    "start_time": "2022-01-24T14:59:02.293Z"
   },
   {
    "duration": 72,
    "start_time": "2022-01-24T14:59:02.303Z"
   },
   {
    "duration": 37,
    "start_time": "2022-01-24T14:59:02.385Z"
   },
   {
    "duration": 36,
    "start_time": "2022-01-24T14:59:02.429Z"
   },
   {
    "duration": 6,
    "start_time": "2022-01-24T14:59:02.468Z"
   },
   {
    "duration": 20,
    "start_time": "2022-01-24T14:59:02.478Z"
   },
   {
    "duration": 7,
    "start_time": "2022-01-24T14:59:02.500Z"
   },
   {
    "duration": 364,
    "start_time": "2022-01-24T14:59:02.510Z"
   },
   {
    "duration": 3,
    "start_time": "2022-01-24T14:59:02.877Z"
   },
   {
    "duration": 45,
    "start_time": "2022-01-24T14:59:02.883Z"
   },
   {
    "duration": 4,
    "start_time": "2022-01-24T14:59:02.930Z"
   },
   {
    "duration": 22625,
    "start_time": "2022-01-24T14:59:02.936Z"
   },
   {
    "duration": 18,
    "start_time": "2022-01-24T14:59:25.566Z"
   },
   {
    "duration": 557,
    "start_time": "2022-01-24T14:59:25.588Z"
   },
   {
    "duration": 17,
    "start_time": "2022-01-24T14:59:26.148Z"
   },
   {
    "duration": 11,
    "start_time": "2022-01-24T14:59:26.167Z"
   },
   {
    "duration": 284,
    "start_time": "2022-01-24T14:59:26.181Z"
   },
   {
    "duration": 4,
    "start_time": "2022-01-24T14:59:26.469Z"
   },
   {
    "duration": 89,
    "start_time": "2022-01-24T14:59:26.478Z"
   },
   {
    "duration": 3,
    "start_time": "2022-01-24T14:59:26.570Z"
   },
   {
    "duration": 1213,
    "start_time": "2022-01-24T14:59:26.575Z"
   },
   {
    "duration": 17,
    "start_time": "2022-01-24T14:59:27.791Z"
   },
   {
    "duration": 595,
    "start_time": "2022-01-24T14:59:27.812Z"
   },
   {
    "duration": 6,
    "start_time": "2022-01-24T14:59:28.409Z"
   },
   {
    "duration": 49,
    "start_time": "2022-01-24T14:59:28.417Z"
   },
   {
    "duration": 7,
    "start_time": "2022-01-24T14:59:28.468Z"
   },
   {
    "duration": 11,
    "start_time": "2022-01-24T14:59:28.478Z"
   },
   {
    "duration": 185,
    "start_time": "2022-01-24T14:59:28.492Z"
   },
   {
    "duration": 4,
    "start_time": "2022-01-24T14:59:28.764Z"
   },
   {
    "duration": 73,
    "start_time": "2022-01-24T14:59:28.770Z"
   },
   {
    "duration": 21,
    "start_time": "2022-01-24T14:59:28.845Z"
   },
   {
    "duration": 3014,
    "start_time": "2022-01-24T14:59:28.868Z"
   },
   {
    "duration": 13,
    "start_time": "2022-01-24T14:59:31.885Z"
   },
   {
    "duration": 594,
    "start_time": "2022-01-24T14:59:31.901Z"
   },
   {
    "duration": 14,
    "start_time": "2022-01-24T14:59:32.498Z"
   },
   {
    "duration": 59,
    "start_time": "2022-01-24T14:59:32.516Z"
   },
   {
    "duration": 5,
    "start_time": "2022-01-24T14:59:32.577Z"
   },
   {
    "duration": 29,
    "start_time": "2022-01-24T14:59:32.585Z"
   },
   {
    "duration": 8,
    "start_time": "2022-01-24T14:59:32.617Z"
   },
   {
    "duration": 25,
    "start_time": "2022-01-24T14:59:32.628Z"
   },
   {
    "duration": 216,
    "start_time": "2022-01-24T14:59:32.655Z"
   },
   {
    "duration": 4,
    "start_time": "2022-01-24T14:59:32.964Z"
   },
   {
    "duration": 55,
    "start_time": "2022-01-24T14:59:32.970Z"
   },
   {
    "duration": 4,
    "start_time": "2022-01-24T14:59:33.027Z"
   },
   {
    "duration": 525,
    "start_time": "2022-01-24T14:59:33.033Z"
   },
   {
    "duration": 12,
    "start_time": "2022-01-24T14:59:33.560Z"
   },
   {
    "duration": 595,
    "start_time": "2022-01-24T14:59:33.574Z"
   },
   {
    "duration": 7,
    "start_time": "2022-01-24T14:59:34.180Z"
   },
   {
    "duration": 1731,
    "start_time": "2022-01-24T14:59:34.191Z"
   },
   {
    "duration": 9,
    "start_time": "2022-01-24T14:59:35.924Z"
   },
   {
    "duration": 53,
    "start_time": "2022-01-24T14:59:35.935Z"
   },
   {
    "duration": 1292,
    "start_time": "2022-01-24T14:59:35.991Z"
   },
   {
    "duration": 742,
    "start_time": "2022-01-24T14:59:37.285Z"
   },
   {
    "duration": 45,
    "start_time": "2022-01-24T14:59:38.030Z"
   },
   {
    "duration": 7,
    "start_time": "2022-01-24T15:00:12.734Z"
   },
   {
    "duration": 1686,
    "start_time": "2022-01-24T15:00:15.337Z"
   },
   {
    "duration": 51,
    "start_time": "2022-01-24T15:00:17.026Z"
   },
   {
    "duration": 44,
    "start_time": "2022-01-24T15:00:17.082Z"
   },
   {
    "duration": 90,
    "start_time": "2022-01-24T15:00:17.130Z"
   },
   {
    "duration": 16,
    "start_time": "2022-01-24T15:00:17.224Z"
   },
   {
    "duration": 28,
    "start_time": "2022-01-24T15:00:17.266Z"
   },
   {
    "duration": 8,
    "start_time": "2022-01-24T15:00:17.297Z"
   },
   {
    "duration": 16,
    "start_time": "2022-01-24T15:00:17.310Z"
   },
   {
    "duration": 16,
    "start_time": "2022-01-24T15:00:17.330Z"
   },
   {
    "duration": 8,
    "start_time": "2022-01-24T15:00:17.363Z"
   },
   {
    "duration": 11,
    "start_time": "2022-01-24T15:00:17.374Z"
   },
   {
    "duration": 18,
    "start_time": "2022-01-24T15:00:17.388Z"
   },
   {
    "duration": 6,
    "start_time": "2022-01-24T15:00:17.410Z"
   },
   {
    "duration": 49,
    "start_time": "2022-01-24T15:00:17.418Z"
   },
   {
    "duration": 10,
    "start_time": "2022-01-24T15:00:17.470Z"
   },
   {
    "duration": 50,
    "start_time": "2022-01-24T15:00:17.483Z"
   },
   {
    "duration": 43,
    "start_time": "2022-01-24T15:00:17.536Z"
   },
   {
    "duration": 13,
    "start_time": "2022-01-24T15:00:17.581Z"
   },
   {
    "duration": 11,
    "start_time": "2022-01-24T15:00:17.597Z"
   },
   {
    "duration": 8,
    "start_time": "2022-01-24T15:00:17.610Z"
   },
   {
    "duration": 98,
    "start_time": "2022-01-24T15:00:17.621Z"
   },
   {
    "duration": 46,
    "start_time": "2022-01-24T15:00:17.722Z"
   },
   {
    "duration": 8,
    "start_time": "2022-01-24T15:00:17.775Z"
   },
   {
    "duration": 17,
    "start_time": "2022-01-24T15:00:17.788Z"
   },
   {
    "duration": 14,
    "start_time": "2022-01-24T15:00:17.807Z"
   },
   {
    "duration": 20,
    "start_time": "2022-01-24T15:00:17.824Z"
   },
   {
    "duration": 905,
    "start_time": "2022-01-24T15:00:17.847Z"
   },
   {
    "duration": 4,
    "start_time": "2022-01-24T15:00:18.755Z"
   },
   {
    "duration": 552,
    "start_time": "2022-01-24T15:00:18.762Z"
   },
   {
    "duration": 3,
    "start_time": "2022-01-24T15:00:19.317Z"
   },
   {
    "duration": 21300,
    "start_time": "2022-01-24T15:00:19.323Z"
   },
   {
    "duration": 10,
    "start_time": "2022-01-24T15:00:40.625Z"
   },
   {
    "duration": 361,
    "start_time": "2022-01-24T15:00:40.637Z"
   },
   {
    "duration": -742,
    "start_time": "2022-01-24T15:00:41.743Z"
   },
   {
    "duration": -746,
    "start_time": "2022-01-24T15:00:41.749Z"
   },
   {
    "duration": -752,
    "start_time": "2022-01-24T15:00:41.757Z"
   },
   {
    "duration": -756,
    "start_time": "2022-01-24T15:00:41.763Z"
   },
   {
    "duration": -762,
    "start_time": "2022-01-24T15:00:41.771Z"
   },
   {
    "duration": -768,
    "start_time": "2022-01-24T15:00:41.778Z"
   },
   {
    "duration": -775,
    "start_time": "2022-01-24T15:00:41.787Z"
   },
   {
    "duration": -781,
    "start_time": "2022-01-24T15:00:41.794Z"
   },
   {
    "duration": -787,
    "start_time": "2022-01-24T15:00:41.802Z"
   },
   {
    "duration": -805,
    "start_time": "2022-01-24T15:00:41.821Z"
   },
   {
    "duration": -811,
    "start_time": "2022-01-24T15:00:41.829Z"
   },
   {
    "duration": -816,
    "start_time": "2022-01-24T15:00:41.836Z"
   },
   {
    "duration": -823,
    "start_time": "2022-01-24T15:00:41.844Z"
   },
   {
    "duration": -827,
    "start_time": "2022-01-24T15:00:41.850Z"
   },
   {
    "duration": -833,
    "start_time": "2022-01-24T15:00:41.857Z"
   },
   {
    "duration": -838,
    "start_time": "2022-01-24T15:00:41.864Z"
   },
   {
    "duration": -844,
    "start_time": "2022-01-24T15:00:41.872Z"
   },
   {
    "duration": -850,
    "start_time": "2022-01-24T15:00:41.879Z"
   },
   {
    "duration": -857,
    "start_time": "2022-01-24T15:00:41.888Z"
   },
   {
    "duration": -862,
    "start_time": "2022-01-24T15:00:41.894Z"
   },
   {
    "duration": -868,
    "start_time": "2022-01-24T15:00:41.902Z"
   },
   {
    "duration": -873,
    "start_time": "2022-01-24T15:00:41.909Z"
   },
   {
    "duration": -853,
    "start_time": "2022-01-24T15:00:41.917Z"
   },
   {
    "duration": -868,
    "start_time": "2022-01-24T15:00:41.934Z"
   },
   {
    "duration": -874,
    "start_time": "2022-01-24T15:00:41.942Z"
   },
   {
    "duration": -878,
    "start_time": "2022-01-24T15:00:41.948Z"
   },
   {
    "duration": -884,
    "start_time": "2022-01-24T15:00:41.956Z"
   },
   {
    "duration": -890,
    "start_time": "2022-01-24T15:00:41.963Z"
   },
   {
    "duration": -895,
    "start_time": "2022-01-24T15:00:41.970Z"
   },
   {
    "duration": -900,
    "start_time": "2022-01-24T15:00:41.977Z"
   },
   {
    "duration": -905,
    "start_time": "2022-01-24T15:00:41.984Z"
   },
   {
    "duration": -909,
    "start_time": "2022-01-24T15:00:41.990Z"
   },
   {
    "duration": -916,
    "start_time": "2022-01-24T15:00:41.998Z"
   },
   {
    "duration": -920,
    "start_time": "2022-01-24T15:00:42.004Z"
   },
   {
    "duration": -994,
    "start_time": "2022-01-24T15:00:42.079Z"
   },
   {
    "duration": -999,
    "start_time": "2022-01-24T15:00:42.086Z"
   },
   {
    "duration": -1005,
    "start_time": "2022-01-24T15:00:42.093Z"
   },
   {
    "duration": -1014,
    "start_time": "2022-01-24T15:00:42.104Z"
   },
   {
    "duration": -1020,
    "start_time": "2022-01-24T15:00:42.111Z"
   },
   {
    "duration": -1025,
    "start_time": "2022-01-24T15:00:42.118Z"
   },
   {
    "duration": 6,
    "start_time": "2022-01-24T15:02:12.512Z"
   },
   {
    "duration": 12,
    "start_time": "2022-01-24T15:02:15.223Z"
   },
   {
    "duration": 331,
    "start_time": "2022-01-24T15:02:17.934Z"
   },
   {
    "duration": 67,
    "start_time": "2022-01-24T15:02:21.516Z"
   },
   {
    "duration": 809,
    "start_time": "2022-01-24T15:02:24.769Z"
   },
   {
    "duration": 10,
    "start_time": "2022-01-24T15:03:03.781Z"
   },
   {
    "duration": 171,
    "start_time": "2022-01-24T15:03:06.402Z"
   },
   {
    "duration": 44,
    "start_time": "2022-01-24T15:03:10.108Z"
   },
   {
    "duration": 528,
    "start_time": "2022-01-24T15:03:13.068Z"
   },
   {
    "duration": 9,
    "start_time": "2022-01-24T15:04:13.368Z"
   },
   {
    "duration": 137,
    "start_time": "2022-01-24T15:04:16.332Z"
   },
   {
    "duration": 45,
    "start_time": "2022-01-24T15:04:18.546Z"
   },
   {
    "duration": 512,
    "start_time": "2022-01-24T15:04:21.173Z"
   },
   {
    "duration": 1515,
    "start_time": "2022-01-24T15:05:37.188Z"
   },
   {
    "duration": 38,
    "start_time": "2022-01-24T15:05:38.706Z"
   },
   {
    "duration": 32,
    "start_time": "2022-01-24T15:05:38.748Z"
   },
   {
    "duration": 83,
    "start_time": "2022-01-24T15:05:38.785Z"
   },
   {
    "duration": 13,
    "start_time": "2022-01-24T15:05:38.871Z"
   },
   {
    "duration": 12,
    "start_time": "2022-01-24T15:05:38.887Z"
   },
   {
    "duration": 6,
    "start_time": "2022-01-24T15:05:38.902Z"
   },
   {
    "duration": 51,
    "start_time": "2022-01-24T15:05:38.914Z"
   },
   {
    "duration": 9,
    "start_time": "2022-01-24T15:05:38.968Z"
   },
   {
    "duration": 12,
    "start_time": "2022-01-24T15:05:38.979Z"
   },
   {
    "duration": 16,
    "start_time": "2022-01-24T15:05:38.994Z"
   },
   {
    "duration": 15,
    "start_time": "2022-01-24T15:05:39.012Z"
   },
   {
    "duration": 37,
    "start_time": "2022-01-24T15:05:39.030Z"
   },
   {
    "duration": 9,
    "start_time": "2022-01-24T15:05:39.070Z"
   },
   {
    "duration": 8,
    "start_time": "2022-01-24T15:05:39.082Z"
   },
   {
    "duration": 35,
    "start_time": "2022-01-24T15:05:39.092Z"
   },
   {
    "duration": 45,
    "start_time": "2022-01-24T15:05:39.129Z"
   },
   {
    "duration": 6,
    "start_time": "2022-01-24T15:05:39.176Z"
   },
   {
    "duration": 16,
    "start_time": "2022-01-24T15:05:39.185Z"
   },
   {
    "duration": 8,
    "start_time": "2022-01-24T15:05:39.203Z"
   },
   {
    "duration": 63,
    "start_time": "2022-01-24T15:05:39.213Z"
   },
   {
    "duration": 23,
    "start_time": "2022-01-24T15:05:39.279Z"
   },
   {
    "duration": 7,
    "start_time": "2022-01-24T15:05:39.308Z"
   },
   {
    "duration": 6,
    "start_time": "2022-01-24T15:05:39.319Z"
   },
   {
    "duration": 39,
    "start_time": "2022-01-24T15:05:39.328Z"
   },
   {
    "duration": 7,
    "start_time": "2022-01-24T15:05:39.370Z"
   },
   {
    "duration": 285,
    "start_time": "2022-01-24T15:05:39.379Z"
   },
   {
    "duration": 4,
    "start_time": "2022-01-24T15:05:39.667Z"
   },
   {
    "duration": 47,
    "start_time": "2022-01-24T15:05:39.674Z"
   },
   {
    "duration": 3,
    "start_time": "2022-01-24T15:05:39.724Z"
   },
   {
    "duration": 19473,
    "start_time": "2022-01-24T15:05:39.730Z"
   },
   {
    "duration": 12,
    "start_time": "2022-01-24T15:05:59.205Z"
   },
   {
    "duration": 567,
    "start_time": "2022-01-24T15:05:59.220Z"
   },
   {
    "duration": 8,
    "start_time": "2022-01-24T15:05:59.790Z"
   },
   {
    "duration": 9,
    "start_time": "2022-01-24T15:05:59.801Z"
   },
   {
    "duration": 176,
    "start_time": "2022-01-24T15:05:59.813Z"
   },
   {
    "duration": 4,
    "start_time": "2022-01-24T15:06:00.066Z"
   },
   {
    "duration": 81,
    "start_time": "2022-01-24T15:06:00.073Z"
   },
   {
    "duration": 8,
    "start_time": "2022-01-24T15:06:00.157Z"
   },
   {
    "duration": 1191,
    "start_time": "2022-01-24T15:06:00.167Z"
   },
   {
    "duration": 12,
    "start_time": "2022-01-24T15:06:01.361Z"
   },
   {
    "duration": 562,
    "start_time": "2022-01-24T15:06:01.375Z"
   },
   {
    "duration": 6,
    "start_time": "2022-01-24T15:06:01.940Z"
   },
   {
    "duration": 57,
    "start_time": "2022-01-24T15:06:01.948Z"
   },
   {
    "duration": 12,
    "start_time": "2022-01-24T15:06:02.008Z"
   },
   {
    "duration": 12,
    "start_time": "2022-01-24T15:06:02.022Z"
   },
   {
    "duration": 237,
    "start_time": "2022-01-24T15:06:02.036Z"
   },
   {
    "duration": 5,
    "start_time": "2022-01-24T15:06:02.366Z"
   },
   {
    "duration": 97,
    "start_time": "2022-01-24T15:06:02.374Z"
   },
   {
    "duration": 5,
    "start_time": "2022-01-24T15:06:02.474Z"
   },
   {
    "duration": 3335,
    "start_time": "2022-01-24T15:06:02.482Z"
   },
   {
    "duration": 15,
    "start_time": "2022-01-24T15:06:05.819Z"
   },
   {
    "duration": 531,
    "start_time": "2022-01-24T15:06:05.837Z"
   },
   {
    "duration": 13,
    "start_time": "2022-01-24T15:06:06.371Z"
   },
   {
    "duration": 49,
    "start_time": "2022-01-24T15:06:06.386Z"
   },
   {
    "duration": 5,
    "start_time": "2022-01-24T15:06:06.438Z"
   },
   {
    "duration": 54,
    "start_time": "2022-01-24T15:06:06.446Z"
   },
   {
    "duration": 8,
    "start_time": "2022-01-24T15:06:06.502Z"
   },
   {
    "duration": 21,
    "start_time": "2022-01-24T15:06:06.512Z"
   },
   {
    "duration": 232,
    "start_time": "2022-01-24T15:06:06.536Z"
   },
   {
    "duration": 92,
    "start_time": "2022-01-24T15:06:06.772Z"
   },
   {
    "duration": 38,
    "start_time": "2022-01-24T15:06:06.866Z"
   },
   {
    "duration": 4,
    "start_time": "2022-01-24T15:06:06.906Z"
   },
   {
    "duration": 534,
    "start_time": "2022-01-24T15:06:06.913Z"
   },
   {
    "duration": 21,
    "start_time": "2022-01-24T15:06:07.451Z"
   },
   {
    "duration": 563,
    "start_time": "2022-01-24T15:06:07.476Z"
   },
   {
    "duration": 5,
    "start_time": "2022-01-24T15:06:08.042Z"
   },
   {
    "duration": 2131,
    "start_time": "2022-01-24T15:06:08.070Z"
   },
   {
    "duration": 11,
    "start_time": "2022-01-24T15:06:10.205Z"
   },
   {
    "duration": 67,
    "start_time": "2022-01-24T15:06:10.219Z"
   },
   {
    "duration": 1347,
    "start_time": "2022-01-24T15:06:10.290Z"
   },
   {
    "duration": 925,
    "start_time": "2022-01-24T15:06:11.640Z"
   },
   {
    "duration": 28,
    "start_time": "2022-01-24T15:06:12.567Z"
   },
   {
    "duration": 7,
    "start_time": "2022-01-24T15:10:10.944Z"
   },
   {
    "duration": 1798,
    "start_time": "2022-01-24T15:10:12.606Z"
   },
   {
    "duration": 789,
    "start_time": "2022-01-24T15:11:03.291Z"
   },
   {
    "duration": 1720,
    "start_time": "2022-01-24T15:13:21.940Z"
   },
   {
    "duration": 40,
    "start_time": "2022-01-24T15:13:23.665Z"
   },
   {
    "duration": 38,
    "start_time": "2022-01-24T15:13:23.708Z"
   },
   {
    "duration": 77,
    "start_time": "2022-01-24T15:13:23.749Z"
   },
   {
    "duration": 12,
    "start_time": "2022-01-24T15:13:23.829Z"
   },
   {
    "duration": 28,
    "start_time": "2022-01-24T15:13:23.844Z"
   },
   {
    "duration": 10,
    "start_time": "2022-01-24T15:13:23.876Z"
   },
   {
    "duration": 14,
    "start_time": "2022-01-24T15:13:23.889Z"
   },
   {
    "duration": 10,
    "start_time": "2022-01-24T15:13:23.907Z"
   },
   {
    "duration": 10,
    "start_time": "2022-01-24T15:13:23.920Z"
   },
   {
    "duration": 12,
    "start_time": "2022-01-24T15:13:23.933Z"
   },
   {
    "duration": 17,
    "start_time": "2022-01-24T15:13:23.947Z"
   },
   {
    "duration": 11,
    "start_time": "2022-01-24T15:13:23.967Z"
   },
   {
    "duration": 10,
    "start_time": "2022-01-24T15:13:23.980Z"
   },
   {
    "duration": 11,
    "start_time": "2022-01-24T15:13:23.993Z"
   },
   {
    "duration": 39,
    "start_time": "2022-01-24T15:13:24.007Z"
   },
   {
    "duration": 22,
    "start_time": "2022-01-24T15:13:24.049Z"
   },
   {
    "duration": 11,
    "start_time": "2022-01-24T15:13:24.074Z"
   },
   {
    "duration": 19,
    "start_time": "2022-01-24T15:13:24.088Z"
   },
   {
    "duration": 19,
    "start_time": "2022-01-24T15:13:24.110Z"
   },
   {
    "duration": 65,
    "start_time": "2022-01-24T15:13:24.132Z"
   },
   {
    "duration": 29,
    "start_time": "2022-01-24T15:13:24.200Z"
   },
   {
    "duration": 23,
    "start_time": "2022-01-24T15:13:24.236Z"
   },
   {
    "duration": 9,
    "start_time": "2022-01-24T15:13:24.269Z"
   },
   {
    "duration": 20,
    "start_time": "2022-01-24T15:13:24.282Z"
   },
   {
    "duration": 17,
    "start_time": "2022-01-24T15:13:24.305Z"
   },
   {
    "duration": 298,
    "start_time": "2022-01-24T15:13:24.371Z"
   },
   {
    "duration": 5,
    "start_time": "2022-01-24T15:13:24.672Z"
   },
   {
    "duration": 187,
    "start_time": "2022-01-24T15:13:24.680Z"
   },
   {
    "duration": 4,
    "start_time": "2022-01-24T15:13:24.871Z"
   },
   {
    "duration": 23260,
    "start_time": "2022-01-24T15:13:24.877Z"
   },
   {
    "duration": 13,
    "start_time": "2022-01-24T15:13:48.139Z"
   },
   {
    "duration": 555,
    "start_time": "2022-01-24T15:13:48.165Z"
   },
   {
    "duration": 8,
    "start_time": "2022-01-24T15:13:48.722Z"
   },
   {
    "duration": 11,
    "start_time": "2022-01-24T15:13:48.732Z"
   },
   {
    "duration": 219,
    "start_time": "2022-01-24T15:13:48.746Z"
   },
   {
    "duration": 5,
    "start_time": "2022-01-24T15:13:48.969Z"
   },
   {
    "duration": 137,
    "start_time": "2022-01-24T15:13:48.977Z"
   },
   {
    "duration": 5,
    "start_time": "2022-01-24T15:13:49.118Z"
   },
   {
    "duration": 1159,
    "start_time": "2022-01-24T15:13:49.126Z"
   },
   {
    "duration": 13,
    "start_time": "2022-01-24T15:13:50.288Z"
   },
   {
    "duration": 597,
    "start_time": "2022-01-24T15:13:50.304Z"
   },
   {
    "duration": 9,
    "start_time": "2022-01-24T15:13:50.905Z"
   },
   {
    "duration": 50,
    "start_time": "2022-01-24T15:13:50.917Z"
   },
   {
    "duration": 9,
    "start_time": "2022-01-24T15:13:50.970Z"
   },
   {
    "duration": 6,
    "start_time": "2022-01-24T15:13:50.982Z"
   },
   {
    "duration": 278,
    "start_time": "2022-01-24T15:13:50.990Z"
   },
   {
    "duration": 5,
    "start_time": "2022-01-24T15:13:51.271Z"
   },
   {
    "duration": 88,
    "start_time": "2022-01-24T15:13:51.279Z"
   },
   {
    "duration": 5,
    "start_time": "2022-01-24T15:13:51.370Z"
   },
   {
    "duration": 3665,
    "start_time": "2022-01-24T15:13:51.378Z"
   },
   {
    "duration": 26,
    "start_time": "2022-01-24T15:13:55.047Z"
   },
   {
    "duration": 549,
    "start_time": "2022-01-24T15:13:55.075Z"
   },
   {
    "duration": 12,
    "start_time": "2022-01-24T15:13:55.626Z"
   },
   {
    "duration": 62,
    "start_time": "2022-01-24T15:13:55.641Z"
   },
   {
    "duration": 6,
    "start_time": "2022-01-24T15:13:55.706Z"
   },
   {
    "duration": 62,
    "start_time": "2022-01-24T15:13:55.715Z"
   },
   {
    "duration": 11,
    "start_time": "2022-01-24T15:13:55.780Z"
   },
   {
    "duration": 9,
    "start_time": "2022-01-24T15:13:55.795Z"
   },
   {
    "duration": 461,
    "start_time": "2022-01-24T15:13:55.807Z"
   },
   {
    "duration": 4,
    "start_time": "2022-01-24T15:13:56.270Z"
   },
   {
    "duration": 91,
    "start_time": "2022-01-24T15:13:56.276Z"
   },
   {
    "duration": 3,
    "start_time": "2022-01-24T15:13:56.370Z"
   },
   {
    "duration": 1067,
    "start_time": "2022-01-24T15:13:56.376Z"
   },
   {
    "duration": 29,
    "start_time": "2022-01-24T15:13:57.446Z"
   },
   {
    "duration": 596,
    "start_time": "2022-01-24T15:13:57.478Z"
   },
   {
    "duration": 8,
    "start_time": "2022-01-24T15:13:58.077Z"
   },
   {
    "duration": 1839,
    "start_time": "2022-01-24T15:13:58.095Z"
   },
   {
    "duration": 28,
    "start_time": "2022-01-24T15:13:59.937Z"
   },
   {
    "duration": 35,
    "start_time": "2022-01-24T15:13:59.968Z"
   },
   {
    "duration": 1534,
    "start_time": "2022-01-24T15:14:00.006Z"
   },
   {
    "duration": 822,
    "start_time": "2022-01-24T15:14:01.543Z"
   },
   {
    "duration": 31,
    "start_time": "2022-01-24T15:14:02.368Z"
   },
   {
    "duration": 193,
    "start_time": "2022-01-24T15:17:58.880Z"
   },
   {
    "duration": 91,
    "start_time": "2022-01-24T15:25:45.743Z"
   },
   {
    "duration": 28,
    "start_time": "2022-01-24T15:25:50.922Z"
   },
   {
    "duration": 581,
    "start_time": "2022-01-24T15:26:27.383Z"
   },
   {
    "duration": 525,
    "start_time": "2022-01-24T15:26:51.111Z"
   },
   {
    "duration": 558,
    "start_time": "2022-01-24T15:28:08.561Z"
   },
   {
    "duration": 519,
    "start_time": "2022-01-24T15:28:14.199Z"
   },
   {
    "duration": 529,
    "start_time": "2022-01-24T15:28:25.846Z"
   },
   {
    "duration": 529,
    "start_time": "2022-01-24T15:28:46.654Z"
   },
   {
    "duration": 1657,
    "start_time": "2022-01-24T15:29:04.507Z"
   },
   {
    "duration": 40,
    "start_time": "2022-01-24T15:29:06.167Z"
   },
   {
    "duration": 28,
    "start_time": "2022-01-24T15:29:06.210Z"
   },
   {
    "duration": 82,
    "start_time": "2022-01-24T15:29:06.241Z"
   },
   {
    "duration": 12,
    "start_time": "2022-01-24T15:29:06.326Z"
   },
   {
    "duration": 11,
    "start_time": "2022-01-24T15:29:06.365Z"
   },
   {
    "duration": 9,
    "start_time": "2022-01-24T15:29:06.379Z"
   },
   {
    "duration": 13,
    "start_time": "2022-01-24T15:29:06.394Z"
   },
   {
    "duration": 10,
    "start_time": "2022-01-24T15:29:06.411Z"
   },
   {
    "duration": 44,
    "start_time": "2022-01-24T15:29:06.423Z"
   },
   {
    "duration": 11,
    "start_time": "2022-01-24T15:29:06.469Z"
   },
   {
    "duration": 11,
    "start_time": "2022-01-24T15:29:06.483Z"
   },
   {
    "duration": 5,
    "start_time": "2022-01-24T15:29:06.497Z"
   },
   {
    "duration": 10,
    "start_time": "2022-01-24T15:29:06.505Z"
   },
   {
    "duration": 49,
    "start_time": "2022-01-24T15:29:06.517Z"
   },
   {
    "duration": 40,
    "start_time": "2022-01-24T15:29:06.569Z"
   },
   {
    "duration": 26,
    "start_time": "2022-01-24T15:29:06.611Z"
   },
   {
    "duration": 26,
    "start_time": "2022-01-24T15:29:06.639Z"
   },
   {
    "duration": 12,
    "start_time": "2022-01-24T15:29:06.668Z"
   },
   {
    "duration": 6,
    "start_time": "2022-01-24T15:29:06.682Z"
   },
   {
    "duration": 87,
    "start_time": "2022-01-24T15:29:06.691Z"
   },
   {
    "duration": 27,
    "start_time": "2022-01-24T15:29:06.782Z"
   },
   {
    "duration": 7,
    "start_time": "2022-01-24T15:29:06.815Z"
   },
   {
    "duration": 43,
    "start_time": "2022-01-24T15:29:06.826Z"
   },
   {
    "duration": 12,
    "start_time": "2022-01-24T15:29:06.872Z"
   },
   {
    "duration": 12,
    "start_time": "2022-01-24T15:29:06.886Z"
   },
   {
    "duration": 169,
    "start_time": "2022-01-24T15:29:06.901Z"
   },
   {
    "duration": 91,
    "start_time": "2022-01-24T15:29:07.073Z"
   },
   {
    "duration": 45,
    "start_time": "2022-01-24T15:29:07.167Z"
   },
   {
    "duration": 4,
    "start_time": "2022-01-24T15:29:07.215Z"
   },
   {
    "duration": 20479,
    "start_time": "2022-01-24T15:29:07.222Z"
   },
   {
    "duration": 11,
    "start_time": "2022-01-24T15:29:27.703Z"
   },
   {
    "duration": 528,
    "start_time": "2022-01-24T15:29:27.716Z"
   },
   {
    "duration": 19,
    "start_time": "2022-01-24T15:29:28.246Z"
   },
   {
    "duration": 6,
    "start_time": "2022-01-24T15:29:28.267Z"
   },
   {
    "duration": 291,
    "start_time": "2022-01-24T15:29:28.275Z"
   },
   {
    "duration": 4,
    "start_time": "2022-01-24T15:29:28.568Z"
   },
   {
    "duration": 59,
    "start_time": "2022-01-24T15:29:28.574Z"
   },
   {
    "duration": 4,
    "start_time": "2022-01-24T15:29:28.635Z"
   },
   {
    "duration": 1042,
    "start_time": "2022-01-24T15:29:28.664Z"
   },
   {
    "duration": 13,
    "start_time": "2022-01-24T15:29:29.708Z"
   },
   {
    "duration": 535,
    "start_time": "2022-01-24T15:29:29.723Z"
   },
   {
    "duration": 7,
    "start_time": "2022-01-24T15:29:30.264Z"
   },
   {
    "duration": 42,
    "start_time": "2022-01-24T15:29:30.274Z"
   },
   {
    "duration": 7,
    "start_time": "2022-01-24T15:29:30.318Z"
   },
   {
    "duration": 8,
    "start_time": "2022-01-24T15:29:30.328Z"
   },
   {
    "duration": 232,
    "start_time": "2022-01-24T15:29:30.338Z"
   },
   {
    "duration": 90,
    "start_time": "2022-01-24T15:29:30.575Z"
   },
   {
    "duration": 85,
    "start_time": "2022-01-24T15:29:30.668Z"
   },
   {
    "duration": 3,
    "start_time": "2022-01-24T15:29:30.756Z"
   },
   {
    "duration": 2995,
    "start_time": "2022-01-24T15:29:30.765Z"
   },
   {
    "duration": 11,
    "start_time": "2022-01-24T15:29:33.765Z"
   },
   {
    "duration": 532,
    "start_time": "2022-01-24T15:29:33.778Z"
   },
   {
    "duration": 14,
    "start_time": "2022-01-24T15:29:34.313Z"
   },
   {
    "duration": 65,
    "start_time": "2022-01-24T15:29:34.330Z"
   },
   {
    "duration": 8,
    "start_time": "2022-01-24T15:29:34.397Z"
   },
   {
    "duration": 24,
    "start_time": "2022-01-24T15:29:34.407Z"
   },
   {
    "duration": 32,
    "start_time": "2022-01-24T15:29:34.434Z"
   },
   {
    "duration": 5,
    "start_time": "2022-01-24T15:29:34.469Z"
   },
   {
    "duration": 192,
    "start_time": "2022-01-24T15:29:34.477Z"
   },
   {
    "duration": 92,
    "start_time": "2022-01-24T15:29:34.673Z"
   },
   {
    "duration": 34,
    "start_time": "2022-01-24T15:29:34.768Z"
   },
   {
    "duration": 3,
    "start_time": "2022-01-24T15:29:34.805Z"
   },
   {
    "duration": 617,
    "start_time": "2022-01-24T15:29:34.811Z"
   },
   {
    "duration": 11,
    "start_time": "2022-01-24T15:29:35.431Z"
   },
   {
    "duration": 563,
    "start_time": "2022-01-24T15:29:35.446Z"
   },
   {
    "duration": 7,
    "start_time": "2022-01-24T15:29:36.012Z"
   },
   {
    "duration": 1804,
    "start_time": "2022-01-24T15:29:36.026Z"
   },
   {
    "duration": 9,
    "start_time": "2022-01-24T15:29:37.833Z"
   },
   {
    "duration": 48,
    "start_time": "2022-01-24T15:29:37.845Z"
   },
   {
    "duration": 1286,
    "start_time": "2022-01-24T15:29:37.895Z"
   },
   {
    "duration": 741,
    "start_time": "2022-01-24T15:29:39.184Z"
   },
   {
    "duration": 44,
    "start_time": "2022-01-24T15:29:39.927Z"
   },
   {
    "duration": 542,
    "start_time": "2022-01-24T15:29:39.974Z"
   },
   {
    "duration": 539,
    "start_time": "2022-01-24T15:31:42.758Z"
   },
   {
    "duration": 509,
    "start_time": "2022-01-24T15:31:52.129Z"
   }
  ],
  "colab": {
   "name": "Проект_6_Отток_клиентов_банка.ipynb",
   "provenance": []
  },
  "kernelspec": {
   "display_name": "Python 3 (ipykernel)",
   "language": "python",
   "name": "python3"
  },
  "language_info": {
   "codemirror_mode": {
    "name": "ipython",
    "version": 3
   },
   "file_extension": ".py",
   "mimetype": "text/x-python",
   "name": "python",
   "nbconvert_exporter": "python",
   "pygments_lexer": "ipython3",
   "version": "3.9.12"
  },
  "toc": {
   "base_numbering": 1,
   "nav_menu": {},
   "number_sections": true,
   "sideBar": true,
   "skip_h1_title": true,
   "title_cell": "Содержание",
   "title_sidebar": "Содержание",
   "toc_cell": true,
   "toc_position": {
    "height": "calc(100% - 180px)",
    "left": "10px",
    "top": "150px",
    "width": "340px"
   },
   "toc_section_display": true,
   "toc_window_display": true
  }
 },
 "nbformat": 4,
 "nbformat_minor": 1
}
