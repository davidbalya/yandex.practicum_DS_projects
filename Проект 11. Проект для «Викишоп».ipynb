{
 "cells": [
  {
   "cell_type": "markdown",
   "metadata": {
    "id": "YPf9o0RJwRpm"
   },
   "source": [
    "# Проект для «Викишоп»"
   ]
  },
  {
   "cell_type": "markdown",
   "metadata": {
    "id": "evSwlExJwRpm"
   },
   "source": [
    "Интернет-магазин «Викишоп» запускает новый сервис. Теперь пользователи могут редактировать и дополнять описания товаров, как в вики-сообществах. То есть клиенты предлагают свои правки и комментируют изменения других. Магазину нужен инструмент, который будет искать токсичные комментарии и отправлять их на модерацию. \n",
    "\n",
    "Обучите модель классифицировать комментарии на позитивные и негативные. В вашем распоряжении набор данных с разметкой о токсичности правок.\n",
    "\n",
    "Постройте модель со значением метрики качества *F1* не меньше 0.75. \n",
    "\n",
    "**Инструкция по выполнению проекта**\n",
    "\n",
    "1. Загрузите и подготовьте данные.\n",
    "2. Обучите разные модели. \n",
    "3. Сделайте выводы.\n",
    "\n",
    "\n",
    "# Описание данных\n",
    "\n",
    "Данные находятся в файле `toxic_comments.csv`. Столбец *text* в нём содержит текст комментария, а *toxic* — целевой признак."
   ]
  },
  {
   "cell_type": "markdown",
   "metadata": {
    "id": "FWAChZS5wRpo"
   },
   "source": [
    "## Подготовка данных"
   ]
  },
  {
   "cell_type": "markdown",
   "metadata": {
    "id": "7VFMOnAywRpo"
   },
   "source": [
    "### Импортирование необходимых библиотек"
   ]
  },
  {
   "cell_type": "code",
   "execution_count": null,
   "metadata": {
    "id": "W-SxUM-KwRpp"
   },
   "outputs": [],
   "source": [
    "import pandas as pd\n",
    "import numpy as np\n",
    "import matplotlib.pyplot as plt\n",
    "import re\n",
    "\n",
    "from sklearn.model_selection import train_test_split, cross_val_score\n",
    "from sklearn.metrics import f1_score\n",
    "from sklearn.feature_extraction.text import TfidfVectorizer \n",
    "from sklearn.linear_model import LogisticRegression \n",
    "from sklearn.tree import DecisionTreeClassifier\n",
    "from sklearn.ensemble import RandomForestClassifier\n",
    "from sklearn.svm import SVC, LinearSVC\n",
    "\n",
    "import nltk\n",
    "from nltk.corpus import stopwords\n",
    "from nltk.stem import WordNetLemmatizer\n",
    "\n",
    "import warnings\n",
    "warnings.filterwarnings('ignore')\n",
    "\n",
    "from tqdm import tqdm\n",
    "tqdm.pandas()"
   ]
  },
  {
   "cell_type": "markdown",
   "metadata": {
    "id": "8LvLzOhzwRpr"
   },
   "source": [
    "### Загрузка данных"
   ]
  },
  {
   "cell_type": "code",
   "execution_count": null,
   "metadata": {
    "id": "gIREH3-pwRpr"
   },
   "outputs": [],
   "source": [
    "df = pd.read_csv(\"https://code.s3.yandex.net/datasets/toxic_comments.csv\")"
   ]
  },
  {
   "cell_type": "markdown",
   "metadata": {
    "id": "2A3D6bunwRpr"
   },
   "source": [
    "### Анализ данных"
   ]
  },
  {
   "cell_type": "code",
   "execution_count": null,
   "metadata": {
    "id": "gUQ4srW3wRps"
   },
   "outputs": [],
   "source": [
    "pd.set_option('display.max_colwidth', 0)\n",
    "warnings.filterwarnings(\"ignore\")"
   ]
  },
  {
   "cell_type": "code",
   "execution_count": null,
   "metadata": {
    "id": "QNm4w8aWwRps",
    "outputId": "cb48726e-b947-4672-80f2-db31af1c3c73"
   },
   "outputs": [
    {
     "data": {
      "text/html": [
       "<div>\n",
       "<style scoped>\n",
       "    .dataframe tbody tr th:only-of-type {\n",
       "        vertical-align: middle;\n",
       "    }\n",
       "\n",
       "    .dataframe tbody tr th {\n",
       "        vertical-align: top;\n",
       "    }\n",
       "\n",
       "    .dataframe thead th {\n",
       "        text-align: right;\n",
       "    }\n",
       "</style>\n",
       "<table border=\"1\" class=\"dataframe\">\n",
       "  <thead>\n",
       "    <tr style=\"text-align: right;\">\n",
       "      <th></th>\n",
       "      <th>text</th>\n",
       "      <th>toxic</th>\n",
       "    </tr>\n",
       "  </thead>\n",
       "  <tbody>\n",
       "    <tr>\n",
       "      <th>0</th>\n",
       "      <td>Explanation\\nWhy the edits made under my username Hardcore Metallica Fan were reverted? They weren't vandalisms, just closure on some GAs after I voted at New York Dolls FAC. And please don't remove the template from the talk page since I'm retired now.89.205.38.27</td>\n",
       "      <td>0</td>\n",
       "    </tr>\n",
       "    <tr>\n",
       "      <th>1</th>\n",
       "      <td>D'aww! He matches this background colour I'm seemingly stuck with. Thanks.  (talk) 21:51, January 11, 2016 (UTC)</td>\n",
       "      <td>0</td>\n",
       "    </tr>\n",
       "    <tr>\n",
       "      <th>2</th>\n",
       "      <td>Hey man, I'm really not trying to edit war. It's just that this guy is constantly removing relevant information and talking to me through edits instead of my talk page. He seems to care more about the formatting than the actual info.</td>\n",
       "      <td>0</td>\n",
       "    </tr>\n",
       "    <tr>\n",
       "      <th>3</th>\n",
       "      <td>\"\\nMore\\nI can't make any real suggestions on improvement - I wondered if the section statistics should be later on, or a subsection of \"\"types of accidents\"\"  -I think the references may need tidying so that they are all in the exact same format ie date format etc. I can do that later on, if no-one else does first - if you have any preferences for formatting style on references or want to do it yourself please let me know.\\n\\nThere appears to be a backlog on articles for review so I guess there may be a delay until a reviewer turns up. It's listed in the relevant form eg Wikipedia:Good_article_nominations#Transport  \"</td>\n",
       "      <td>0</td>\n",
       "    </tr>\n",
       "    <tr>\n",
       "      <th>4</th>\n",
       "      <td>You, sir, are my hero. Any chance you remember what page that's on?</td>\n",
       "      <td>0</td>\n",
       "    </tr>\n",
       "  </tbody>\n",
       "</table>\n",
       "</div>"
      ],
      "text/plain": [
       "                                                                                                                                                                                                                                                                                                                                                                                                                                                                                                                                                                                                                                                 text  \\\n",
       "0  Explanation\\nWhy the edits made under my username Hardcore Metallica Fan were reverted? They weren't vandalisms, just closure on some GAs after I voted at New York Dolls FAC. And please don't remove the template from the talk page since I'm retired now.89.205.38.27                                                                                                                                                                                                                                                                                                                                                                            \n",
       "1  D'aww! He matches this background colour I'm seemingly stuck with. Thanks.  (talk) 21:51, January 11, 2016 (UTC)                                                                                                                                                                                                                                                                                                                                                                                                                                                                                                                                     \n",
       "2  Hey man, I'm really not trying to edit war. It's just that this guy is constantly removing relevant information and talking to me through edits instead of my talk page. He seems to care more about the formatting than the actual info.                                                                                                                                                                                                                                                                                                                                                                                                            \n",
       "3  \"\\nMore\\nI can't make any real suggestions on improvement - I wondered if the section statistics should be later on, or a subsection of \"\"types of accidents\"\"  -I think the references may need tidying so that they are all in the exact same format ie date format etc. I can do that later on, if no-one else does first - if you have any preferences for formatting style on references or want to do it yourself please let me know.\\n\\nThere appears to be a backlog on articles for review so I guess there may be a delay until a reviewer turns up. It's listed in the relevant form eg Wikipedia:Good_article_nominations#Transport  \"   \n",
       "4  You, sir, are my hero. Any chance you remember what page that's on?                                                                                                                                                                                                                                                                                                                                                                                                                                                                                                                                                                                  \n",
       "\n",
       "   toxic  \n",
       "0  0      \n",
       "1  0      \n",
       "2  0      \n",
       "3  0      \n",
       "4  0      "
      ]
     },
     "execution_count": 4,
     "metadata": {},
     "output_type": "execute_result"
    }
   ],
   "source": [
    "df.head()"
   ]
  },
  {
   "cell_type": "code",
   "execution_count": null,
   "metadata": {
    "id": "GMwPc9YbwRpt",
    "outputId": "cee82e6c-088d-4b21-c6ad-658cd2889e9c"
   },
   "outputs": [
    {
     "data": {
      "text/html": [
       "<div>\n",
       "<style scoped>\n",
       "    .dataframe tbody tr th:only-of-type {\n",
       "        vertical-align: middle;\n",
       "    }\n",
       "\n",
       "    .dataframe tbody tr th {\n",
       "        vertical-align: top;\n",
       "    }\n",
       "\n",
       "    .dataframe thead th {\n",
       "        text-align: right;\n",
       "    }\n",
       "</style>\n",
       "<table border=\"1\" class=\"dataframe\">\n",
       "  <thead>\n",
       "    <tr style=\"text-align: right;\">\n",
       "      <th></th>\n",
       "      <th>count</th>\n",
       "      <th>mean</th>\n",
       "      <th>std</th>\n",
       "      <th>min</th>\n",
       "      <th>25%</th>\n",
       "      <th>50%</th>\n",
       "      <th>75%</th>\n",
       "      <th>max</th>\n",
       "    </tr>\n",
       "  </thead>\n",
       "  <tbody>\n",
       "    <tr>\n",
       "      <th>toxic</th>\n",
       "      <td>159571.0</td>\n",
       "      <td>0.101679</td>\n",
       "      <td>0.302226</td>\n",
       "      <td>0.0</td>\n",
       "      <td>0.0</td>\n",
       "      <td>0.0</td>\n",
       "      <td>0.0</td>\n",
       "      <td>1.0</td>\n",
       "    </tr>\n",
       "  </tbody>\n",
       "</table>\n",
       "</div>"
      ],
      "text/plain": [
       "          count      mean       std  min  25%  50%  75%  max\n",
       "toxic  159571.0  0.101679  0.302226  0.0  0.0  0.0  0.0  1.0"
      ]
     },
     "execution_count": 5,
     "metadata": {},
     "output_type": "execute_result"
    }
   ],
   "source": [
    "df.describe().T"
   ]
  },
  {
   "cell_type": "code",
   "execution_count": null,
   "metadata": {
    "id": "5l7ha9nuwRpt",
    "outputId": "4c39d5d7-bfce-431e-f903-96f627473ec9"
   },
   "outputs": [
    {
     "name": "stdout",
     "output_type": "stream",
     "text": [
      "<class 'pandas.core.frame.DataFrame'>\n",
      "RangeIndex: 159571 entries, 0 to 159570\n",
      "Data columns (total 2 columns):\n",
      " #   Column  Non-Null Count   Dtype \n",
      "---  ------  --------------   ----- \n",
      " 0   text    159571 non-null  object\n",
      " 1   toxic   159571 non-null  int64 \n",
      "dtypes: int64(1), object(1)\n",
      "memory usage: 2.4+ MB\n"
     ]
    }
   ],
   "source": [
    "df.info()"
   ]
  },
  {
   "cell_type": "code",
   "execution_count": null,
   "metadata": {
    "id": "Cp-RdlMewRpu",
    "outputId": "afb87284-e850-411c-887f-ea1ed77af064"
   },
   "outputs": [
    {
     "name": "stdout",
     "output_type": "stream",
     "text": [
      "Соотношение токсичных и нормальных комментариев:\n",
      "0    0.898321\n",
      "1    0.101679\n",
      "Name: toxic, dtype: float64\n"
     ]
    },
    {
     "data": {
      "image/png": "[encoded data removed]",
      "text/plain": [
       "<Figure size 720x432 with 1 Axes>"
      ]
     },
     "metadata": {
      "needs_background": "light"
     },
     "output_type": "display_data"
    }
   ],
   "source": [
    "print('Соотношение токсичных и нормальных комментариев:')\n",
    "print(df['toxic'].value_counts(normalize=True))\n",
    "\n",
    "df['toxic'].value_counts().plot(kind=\"bar\", figsize=(10, 6))\n",
    "plt.title('Соотношение токсичных и нормальных комментариев', fontsize=18)\n",
    "plt.xticks(ticks=df['toxic'].value_counts(normalize=True).index, labels=['non toxic', 'toxic'], rotation=0)\n",
    "plt.show()"
   ]
  },
  {
   "cell_type": "markdown",
   "metadata": {
    "id": "DMhSdH3YwRpu"
   },
   "source": [
    "Наблюдается сильный дисбаланс целевого признака, в 9 раз."
   ]
  },
  {
   "cell_type": "markdown",
   "metadata": {
    "id": "u85zLsMuwRpv"
   },
   "source": [
    "### Предобработка данных"
   ]
  },
  {
   "cell_type": "markdown",
   "metadata": {
    "id": "4x05CKz6wRpv"
   },
   "source": [
    "Для дальнейшей работы с данными нужно будет провести несколько операций над ними, а именно:\n",
    "\n",
    "- Избавление от лишнего в тексте\n",
    "- Разбитие текстов на слова\n",
    "- Избавление от *стоп слов*\n",
    "- Проведение лемматизации\n",
    "\n",
    "Для этапов будут созданы отдельные функции, которые на последнем этапе будут применены к столбцу ***text***."
   ]
  },
  {
   "cell_type": "code",
   "execution_count": null,
   "metadata": {
    "id": "MQJNq0iMwRpv"
   },
   "outputs": [],
   "source": [
    "def clean_and_split_text(text):\n",
    "    return re.sub(r'[^a-zA-Z ]', ' ', text.lower()).split()"
   ]
  },
  {
   "cell_type": "code",
   "execution_count": null,
   "metadata": {
    "id": "uRWSs27SwRpv"
   },
   "outputs": [],
   "source": [
    "lemmatizer = WordNetLemmatizer()\n",
    "\n",
    "def lemmatize(text):\n",
    "    return [lemmatizer.lemmatize(word) for word in text]"
   ]
  },
  {
   "cell_type": "code",
   "execution_count": null,
   "metadata": {
    "id": "mmHKQ1YdwRpw",
    "outputId": "f883ef86-31fe-4bfd-d3df-6e15e3ddda10"
   },
   "outputs": [
    {
     "name": "stderr",
     "output_type": "stream",
     "text": [
      "100%|██████████| 159571/159571 [00:32<00:00, 4847.81it/s]\n"
     ]
    },
    {
     "data": {
      "text/html": [
       "<div>\n",
       "<style scoped>\n",
       "    .dataframe tbody tr th:only-of-type {\n",
       "        vertical-align: middle;\n",
       "    }\n",
       "\n",
       "    .dataframe tbody tr th {\n",
       "        vertical-align: top;\n",
       "    }\n",
       "\n",
       "    .dataframe thead th {\n",
       "        text-align: right;\n",
       "    }\n",
       "</style>\n",
       "<table border=\"1\" class=\"dataframe\">\n",
       "  <thead>\n",
       "    <tr style=\"text-align: right;\">\n",
       "      <th></th>\n",
       "      <th>text</th>\n",
       "      <th>toxic</th>\n",
       "      <th>lemmatize_text</th>\n",
       "    </tr>\n",
       "  </thead>\n",
       "  <tbody>\n",
       "    <tr>\n",
       "      <th>0</th>\n",
       "      <td>Explanation\\nWhy the edits made under my username Hardcore Metallica Fan were reverted? They weren't vandalisms, just closure on some GAs after I voted at New York Dolls FAC. And please don't remove the template from the talk page since I'm retired now.89.205.38.27</td>\n",
       "      <td>0</td>\n",
       "      <td>[explanation, why, the, edits, made, under, my, username, hardcore, metallica, fan, were, reverted, they, weren, t, vandalism, just, closure, on, some, gas, after, i, voted, at, new, york, doll, fac, and, please, don, t, remove, the, template, from, the, talk, page, since, i, m, retired, now]</td>\n",
       "    </tr>\n",
       "    <tr>\n",
       "      <th>1</th>\n",
       "      <td>D'aww! He matches this background colour I'm seemingly stuck with. Thanks.  (talk) 21:51, January 11, 2016 (UTC)</td>\n",
       "      <td>0</td>\n",
       "      <td>[d, aww, he, match, this, background, colour, i, m, seemingly, stuck, with, thanks, talk, january, utc]</td>\n",
       "    </tr>\n",
       "    <tr>\n",
       "      <th>2</th>\n",
       "      <td>Hey man, I'm really not trying to edit war. It's just that this guy is constantly removing relevant information and talking to me through edits instead of my talk page. He seems to care more about the formatting than the actual info.</td>\n",
       "      <td>0</td>\n",
       "      <td>[hey, man, i, m, really, not, trying, to, edit, war, it, s, just, that, this, guy, is, constantly, removing, relevant, information, and, talking, to, me, through, edits, instead, of, my, talk, page, he, seems, to, care, more, about, the, formatting, than, the, actual, info]</td>\n",
       "    </tr>\n",
       "    <tr>\n",
       "      <th>3</th>\n",
       "      <td>\"\\nMore\\nI can't make any real suggestions on improvement - I wondered if the section statistics should be later on, or a subsection of \"\"types of accidents\"\"  -I think the references may need tidying so that they are all in the exact same format ie date format etc. I can do that later on, if no-one else does first - if you have any preferences for formatting style on references or want to do it yourself please let me know.\\n\\nThere appears to be a backlog on articles for review so I guess there may be a delay until a reviewer turns up. It's listed in the relevant form eg Wikipedia:Good_article_nominations#Transport  \"</td>\n",
       "      <td>0</td>\n",
       "      <td>[more, i, can, t, make, any, real, suggestion, on, improvement, i, wondered, if, the, section, statistic, should, be, later, on, or, a, subsection, of, type, of, accident, i, think, the, reference, may, need, tidying, so, that, they, are, all, in, the, exact, same, format, ie, date, format, etc, i, can, do, that, later, on, if, no, one, else, doe, first, if, you, have, any, preference, for, formatting, style, on, reference, or, want, to, do, it, yourself, please, let, me, know, there, appears, to, be, a, backlog, on, article, for, review, so, i, guess, there, may, be, a, delay, until, a, ...]</td>\n",
       "    </tr>\n",
       "    <tr>\n",
       "      <th>4</th>\n",
       "      <td>You, sir, are my hero. Any chance you remember what page that's on?</td>\n",
       "      <td>0</td>\n",
       "      <td>[you, sir, are, my, hero, any, chance, you, remember, what, page, that, s, on]</td>\n",
       "    </tr>\n",
       "  </tbody>\n",
       "</table>\n",
       "</div>"
      ],
      "text/plain": [
       "                                                                                                                                                                                                                                                                                                                                                                                                                                                                                                                                                                                                                                                 text  \\\n",
       "0  Explanation\\nWhy the edits made under my username Hardcore Metallica Fan were reverted? They weren't vandalisms, just closure on some GAs after I voted at New York Dolls FAC. And please don't remove the template from the talk page since I'm retired now.89.205.38.27                                                                                                                                                                                                                                                                                                                                                                            \n",
       "1  D'aww! He matches this background colour I'm seemingly stuck with. Thanks.  (talk) 21:51, January 11, 2016 (UTC)                                                                                                                                                                                                                                                                                                                                                                                                                                                                                                                                     \n",
       "2  Hey man, I'm really not trying to edit war. It's just that this guy is constantly removing relevant information and talking to me through edits instead of my talk page. He seems to care more about the formatting than the actual info.                                                                                                                                                                                                                                                                                                                                                                                                            \n",
       "3  \"\\nMore\\nI can't make any real suggestions on improvement - I wondered if the section statistics should be later on, or a subsection of \"\"types of accidents\"\"  -I think the references may need tidying so that they are all in the exact same format ie date format etc. I can do that later on, if no-one else does first - if you have any preferences for formatting style on references or want to do it yourself please let me know.\\n\\nThere appears to be a backlog on articles for review so I guess there may be a delay until a reviewer turns up. It's listed in the relevant form eg Wikipedia:Good_article_nominations#Transport  \"   \n",
       "4  You, sir, are my hero. Any chance you remember what page that's on?                                                                                                                                                                                                                                                                                                                                                                                                                                                                                                                                                                                  \n",
       "\n",
       "   toxic  \\\n",
       "0  0       \n",
       "1  0       \n",
       "2  0       \n",
       "3  0       \n",
       "4  0       \n",
       "\n",
       "                                                                                                                                                                                                                                                                                                                                                                                                                                                                                                                                                                                                            lemmatize_text  \n",
       "0  [explanation, why, the, edits, made, under, my, username, hardcore, metallica, fan, were, reverted, they, weren, t, vandalism, just, closure, on, some, gas, after, i, voted, at, new, york, doll, fac, and, please, don, t, remove, the, template, from, the, talk, page, since, i, m, retired, now]                                                                                                                                                                                                                                                                                                                    \n",
       "1  [d, aww, he, match, this, background, colour, i, m, seemingly, stuck, with, thanks, talk, january, utc]                                                                                                                                                                                                                                                                                                                                                                                                                                                                                                                  \n",
       "2  [hey, man, i, m, really, not, trying, to, edit, war, it, s, just, that, this, guy, is, constantly, removing, relevant, information, and, talking, to, me, through, edits, instead, of, my, talk, page, he, seems, to, care, more, about, the, formatting, than, the, actual, info]                                                                                                                                                                                                                                                                                                                                       \n",
       "3  [more, i, can, t, make, any, real, suggestion, on, improvement, i, wondered, if, the, section, statistic, should, be, later, on, or, a, subsection, of, type, of, accident, i, think, the, reference, may, need, tidying, so, that, they, are, all, in, the, exact, same, format, ie, date, format, etc, i, can, do, that, later, on, if, no, one, else, doe, first, if, you, have, any, preference, for, formatting, style, on, reference, or, want, to, do, it, yourself, please, let, me, know, there, appears, to, be, a, backlog, on, article, for, review, so, i, guess, there, may, be, a, delay, until, a, ...]  \n",
       "4  [you, sir, are, my, hero, any, chance, you, remember, what, page, that, s, on]                                                                                                                                                                                                                                                                                                                                                                                                                                                                                                                                           "
      ]
     },
     "execution_count": 10,
     "metadata": {},
     "output_type": "execute_result"
    }
   ],
   "source": [
    "df['lemmatize_text'] = df['text'].progress_apply(lambda x: lemmatize(clean_and_split_text(x)))\n",
    "df.head()"
   ]
  },
  {
   "cell_type": "markdown",
   "metadata": {
    "id": "2SXSNaX9wRpw"
   },
   "source": [
    "### Вывод"
   ]
  },
  {
   "cell_type": "markdown",
   "metadata": {
    "id": "Q5UHTupZwRpw"
   },
   "source": [
    "В данных наблюдается сильный дисбаланс целевого признака, в 9 раз, нужно будет учесть этот факт при обучении моделей.\n",
    "\n",
    "В ходе предобработки данных были выполнены: избавление от лишнего в тексте, разбитие текстов на слова, избавление от стоп слов и была проведена лемматизация."
   ]
  },
  {
   "cell_type": "markdown",
   "metadata": {
    "id": "XKHZL8wIwRpy"
   },
   "source": [
    "## Обучение"
   ]
  },
  {
   "cell_type": "markdown",
   "metadata": {
    "id": "L7jZLTxgwRpy"
   },
   "source": [
    "### Выделение признаков и разбиение данных"
   ]
  },
  {
   "cell_type": "code",
   "execution_count": null,
   "metadata": {
    "id": "WR-7gsALwRpz",
    "outputId": "9703282f-0510-4bdc-884a-45aa343e1a02"
   },
   "outputs": [
    {
     "name": "stdout",
     "output_type": "stream",
     "text": [
      "Количество элементов обучающей выборки: 80%\n",
      "Количество элементов тестовой выборки: 20%\n"
     ]
    }
   ],
   "source": [
    "features = df['lemmatize_text']\n",
    "target = df['toxic']\n",
    "\n",
    "features_train, features_test, target_train, target_test = train_test_split(features, target, test_size=0.20, random_state=244466666)\n",
    "print('Количество элементов обучающей выборки: {:.0f}%'.format(features_train.shape[0]/df.shape[0] * 100))\n",
    "print('Количество элементов тестовой выборки: {:.0f}%'.format(features_test.shape[0]/df.shape[0] * 100))"
   ]
  },
  {
   "cell_type": "code",
   "execution_count": null,
   "metadata": {
    "id": "bU7oV6XbwRpz"
   },
   "outputs": [],
   "source": [
    "stop_words = set(stopwords.words('english'))"
   ]
  },
  {
   "cell_type": "code",
   "execution_count": null,
   "metadata": {
    "id": "tHWq43PhwRp0"
   },
   "outputs": [],
   "source": [
    "count_tf_idf = TfidfVectorizer(stop_words=stop_words)\n",
    "features_train_tf = count_tf_idf.fit_transform(features_train)\n",
    "features_test_tf = count_tf_idf.transform(features_test)"
   ]
  },
  {
   "cell_type": "code",
   "execution_count": null,
   "metadata": {
    "id": "xnC77Ea-wRp0",
    "outputId": "bf0fa10c-f1d6-4ef5-e104-92f17ffe9979"
   },
   "outputs": [
    {
     "name": "stdout",
     "output_type": "stream",
     "text": [
      "Размер обучающей выборки: (127656, 139385)\n",
      "Размер тестовой выборки: (31915, 139385)\n"
     ]
    }
   ],
   "source": [
    "print('Размер обучающей выборки:', features_train_tf.shape)\n",
    "print('Размер тестовой выборки:', features_test_tf.shape)"
   ]
  },
  {
   "cell_type": "markdown",
   "metadata": {
    "id": "ayAgA4zzwRp0"
   },
   "source": [
    "***Для решения задачи будем использовать следующие модели:***\n",
    "\n",
    "- Логистическая регрессия\n",
    "- Дерево решений\n",
    "- Случайный лес\n",
    "- Метод опорных векторов"
   ]
  },
  {
   "cell_type": "markdown",
   "metadata": {
    "id": "9X7783OVwRp1"
   },
   "source": [
    "### LogisticRegression "
   ]
  },
  {
   "cell_type": "markdown",
   "metadata": {
    "id": "vmROMKrewRp2"
   },
   "source": [
    "#### LogisticRegression без баланса классов"
   ]
  },
  {
   "cell_type": "code",
   "execution_count": null,
   "metadata": {
    "id": "d9Or3Z-cwRp2"
   },
   "outputs": [],
   "source": [
    "lr_model = LogisticRegression(random_state = 244466666)"
   ]
  },
  {
   "cell_type": "code",
   "execution_count": null,
   "metadata": {
    "id": "4HQjq95cwRp2"
   },
   "outputs": [],
   "source": [
    "# print('F1 score на тренирочной выборке:',(cross_val_score(lr_model, features_train_tf, target_train, cv=3, scoring='f1')).mean())"
   ]
  },
  {
   "cell_type": "markdown",
   "metadata": {
    "id": "47gyZJgEwRp2"
   },
   "source": [
    "F1 score на тренирочной выборке: 0.7030107215831563"
   ]
  },
  {
   "cell_type": "markdown",
   "metadata": {
    "id": "uQjE4-qLwRp2"
   },
   "source": [
    "**Тестирование**"
   ]
  },
  {
   "cell_type": "code",
   "execution_count": null,
   "metadata": {
    "id": "g1m4aSmswRp2"
   },
   "outputs": [],
   "source": [
    "# lr_model.fit(features_train_tf, target_train)\n",
    "# lr_predicted = lr_model.predict(features_test_tf)\n",
    "# f1_score(target_test, lr_predicted)"
   ]
  },
  {
   "cell_type": "markdown",
   "metadata": {
    "id": "THdRy2J2wRp3"
   },
   "source": [
    "0.7344444444444445"
   ]
  },
  {
   "cell_type": "markdown",
   "metadata": {
    "id": "UOTS7Ld1wRp3"
   },
   "source": [
    "#### LogisticRegression с балансом классов"
   ]
  },
  {
   "cell_type": "code",
   "execution_count": null,
   "metadata": {
    "id": "gX46lK3-wRp3"
   },
   "outputs": [],
   "source": [
    "lr_balanced_model = LogisticRegression(class_weight='balanced',random_state = 244466666)"
   ]
  },
  {
   "cell_type": "code",
   "execution_count": null,
   "metadata": {
    "id": "qawLbp49wRp3"
   },
   "outputs": [],
   "source": [
    "# print('F1 score на тренирочной выборке c учетом баланса классов:',(cross_val_score(lr_balanced_model, features_train_tf, target_train, cv=3, scoring='f1')).mean())"
   ]
  },
  {
   "cell_type": "markdown",
   "metadata": {
    "id": "LHG3umkUwRp3"
   },
   "source": [
    "F1 score на тренирочной выборке c учетом баланса классов: 0.7482495836409196"
   ]
  },
  {
   "cell_type": "markdown",
   "metadata": {
    "id": "YXiJy2fSwRp3"
   },
   "source": [
    "**Тестирование**"
   ]
  },
  {
   "cell_type": "code",
   "execution_count": null,
   "metadata": {
    "id": "Kpldn51dwRp4"
   },
   "outputs": [],
   "source": [
    "# lr_balanced_model.fit(features_train_tf, target_train)\n",
    "# lr_balanced_predicted = lr_balanced_model.predict(features_test_tf)\n",
    "# f1_score(target_test, lr_balanced_predicted)"
   ]
  },
  {
   "cell_type": "markdown",
   "metadata": {
    "id": "qrKAK0BTwRp4"
   },
   "source": [
    "0.7454839579401455"
   ]
  },
  {
   "cell_type": "markdown",
   "metadata": {
    "id": "oV9njmWIwRp4"
   },
   "source": [
    "### DecisionTreeClassifier "
   ]
  },
  {
   "cell_type": "markdown",
   "metadata": {
    "id": "wRYZxhX1wRp4"
   },
   "source": [
    "#### DecisionTreeClassifier без баланса классов"
   ]
  },
  {
   "cell_type": "code",
   "execution_count": null,
   "metadata": {
    "id": "GiawV6b2wRp4"
   },
   "outputs": [],
   "source": [
    "dt_model = DecisionTreeClassifier(random_state=244466666)"
   ]
  },
  {
   "cell_type": "code",
   "execution_count": null,
   "metadata": {
    "id": "AoyvbmR-wRp5"
   },
   "outputs": [],
   "source": [
    "# print('F1 score на тренирочной выборке:',(cross_val_score(dt_model, features_train_tf, target_train, cv=3, scoring='f1')).mean())"
   ]
  },
  {
   "cell_type": "markdown",
   "metadata": {
    "id": "uwhr5Ax1wRp5"
   },
   "source": [
    "F1 score на тренирочной выборке: 0.7063639346836851"
   ]
  },
  {
   "cell_type": "markdown",
   "metadata": {
    "id": "7twMoyg0wRp5"
   },
   "source": [
    "**Тестирование**"
   ]
  },
  {
   "cell_type": "code",
   "execution_count": null,
   "metadata": {
    "id": "LOHEOlFDwRp5"
   },
   "outputs": [],
   "source": [
    "# dt_model.fit(features_train_tf, target_train)\n",
    "# dt_predicted = dt_model.predict(features_test_tf)\n",
    "# f1_score(target_test, dt_predicted)"
   ]
  },
  {
   "cell_type": "markdown",
   "metadata": {
    "id": "86tjmcqhwRp5"
   },
   "source": [
    "0.7118218877391033"
   ]
  },
  {
   "cell_type": "markdown",
   "metadata": {
    "id": "Zex8w7IzwRp5"
   },
   "source": [
    "#### DecisionTreeClassifier с балансом классов"
   ]
  },
  {
   "cell_type": "code",
   "execution_count": null,
   "metadata": {
    "id": "vTuVIMOwwRp6"
   },
   "outputs": [],
   "source": [
    "dt_balanced_model = DecisionTreeClassifier(random_state=244466666, class_weight='balanced')"
   ]
  },
  {
   "cell_type": "code",
   "execution_count": null,
   "metadata": {
    "id": "zv1vrzTGwRp6"
   },
   "outputs": [],
   "source": [
    "# print('F1 score на тренирочной выборке c учетом баланса классов:',(cross_val_score(dt_balanced_model, features_train_tf, target_train, cv=3, scoring='f1')).mean())"
   ]
  },
  {
   "cell_type": "markdown",
   "metadata": {
    "id": "mztbwegWwRp6"
   },
   "source": [
    "F1 score на тренирочной выборке c учетом баланса классов: 0.6413581536828953"
   ]
  },
  {
   "cell_type": "markdown",
   "metadata": {
    "id": "IkHgBwlnwRp6"
   },
   "source": [
    "**Тестирование**"
   ]
  },
  {
   "cell_type": "code",
   "execution_count": null,
   "metadata": {
    "id": "ve5o4--mwRp6"
   },
   "outputs": [],
   "source": [
    "# dt_balanced_model.fit(features_train_tf, target_train)\n",
    "# dt_balanced_predicted = dt_balanced_model.predict(features_test_tf)\n",
    "# f1_score(target_test, dt_balanced_predicted)"
   ]
  },
  {
   "cell_type": "markdown",
   "metadata": {
    "id": "UP_2uO0DwRp7"
   },
   "source": [
    "0.6448637316561844"
   ]
  },
  {
   "cell_type": "markdown",
   "metadata": {
    "id": "zqO8oRBXwRp7"
   },
   "source": [
    "### RandomForestClassifier"
   ]
  },
  {
   "cell_type": "markdown",
   "metadata": {
    "id": "Mv4aoFYCwRp7"
   },
   "source": [
    "#### RandomForestClassifier без баланса классов"
   ]
  },
  {
   "cell_type": "code",
   "execution_count": null,
   "metadata": {
    "id": "mdOFBQDkwRp7"
   },
   "outputs": [],
   "source": [
    "rf_model = RandomForestClassifier(random_state=244466666)"
   ]
  },
  {
   "cell_type": "code",
   "execution_count": null,
   "metadata": {
    "id": "PDoWBn2UwRp7"
   },
   "outputs": [],
   "source": [
    "# print('F1 score на тренирочной выборке:',(cross_val_score(rf_model, features_train_tf, target_train, cv=3, scoring='f1')).mean())"
   ]
  },
  {
   "cell_type": "markdown",
   "metadata": {
    "id": "pHBDMBYwwRp7"
   },
   "source": [
    "F1 score на тренирочной выборке: 0.6786194807503619"
   ]
  },
  {
   "cell_type": "markdown",
   "metadata": {
    "id": "I3Q9lqlxwRp7"
   },
   "source": [
    "**Тестирование**"
   ]
  },
  {
   "cell_type": "code",
   "execution_count": null,
   "metadata": {
    "id": "f09bl55fwRp8"
   },
   "outputs": [],
   "source": [
    "# rf_model.fit(features_train_tf, target_train)\n",
    "# rf_predicted = rf_model.predict(features_test_tf)\n",
    "# f1_score(target_test, rf_predicted)"
   ]
  },
  {
   "cell_type": "markdown",
   "metadata": {
    "id": "PRNMnhoCwRp8"
   },
   "source": [
    "0.7048961706991806"
   ]
  },
  {
   "cell_type": "markdown",
   "metadata": {
    "id": "W1okAOkRwRp8"
   },
   "source": [
    "#### RandomForestClassifier с балансом классов"
   ]
  },
  {
   "cell_type": "code",
   "execution_count": null,
   "metadata": {
    "id": "f7cCMx0KwRp8"
   },
   "outputs": [],
   "source": [
    "rf_balanced_model = RandomForestClassifier(random_state=244466666, class_weight='balanced')"
   ]
  },
  {
   "cell_type": "code",
   "execution_count": null,
   "metadata": {
    "id": "RpHtwpT3wRp8"
   },
   "outputs": [],
   "source": [
    "# print('F1 score на тренирочной выборке c учетом баланса классов:',(cross_val_score(rf_balanced_model, features_train_tf, target_train, cv=3, scoring='f1')).mean())"
   ]
  },
  {
   "cell_type": "markdown",
   "metadata": {
    "id": "Ix5qCJXJwRp8"
   },
   "source": [
    "F1 score на тренирочной выборке c учетом баланса классов: 0.6198031005107292"
   ]
  },
  {
   "cell_type": "markdown",
   "metadata": {
    "id": "yI7FBwZNwRp9"
   },
   "source": [
    "**Тестирование**"
   ]
  },
  {
   "cell_type": "code",
   "execution_count": null,
   "metadata": {
    "id": "YwqAX_8pwRp9"
   },
   "outputs": [],
   "source": [
    "# rf_balanced_model.fit(features_train_tf, target_train)\n",
    "# rf_balanced_predicted = rf_balanced_model.predict(features_test_tf)\n",
    "# f1_score(target_test, rf_balanced_predicted)"
   ]
  },
  {
   "cell_type": "markdown",
   "metadata": {
    "id": "XdT37FlZwRp9"
   },
   "source": [
    "0.6329268292682926"
   ]
  },
  {
   "cell_type": "markdown",
   "metadata": {
    "id": "VOgeIfRiwRp9"
   },
   "source": [
    "### LinearSVC"
   ]
  },
  {
   "cell_type": "markdown",
   "metadata": {
    "id": "nx9bP8g4wRp9"
   },
   "source": [
    "#### LinearSVC без баланса классов"
   ]
  },
  {
   "cell_type": "code",
   "execution_count": null,
   "metadata": {
    "id": "Hrym2jXmwRp9"
   },
   "outputs": [],
   "source": [
    "LSVM_model = LinearSVC(random_state = 244466666)"
   ]
  },
  {
   "cell_type": "code",
   "execution_count": null,
   "metadata": {
    "id": "neRJ503CwRp9"
   },
   "outputs": [],
   "source": [
    "# print('F1 score на тренирочной выборке:',(cross_val_score(LSVM_model, features_train_tf, target_train, cv=3, scoring='f1')).mean())"
   ]
  },
  {
   "cell_type": "markdown",
   "metadata": {
    "id": "GRdojg0vwRp-"
   },
   "source": [
    "F1 score на тренирочной выборке: 0.7655599262765532"
   ]
  },
  {
   "cell_type": "markdown",
   "metadata": {
    "id": "P0RJKNIDwRp-"
   },
   "source": [
    "**Тестирование**"
   ]
  },
  {
   "cell_type": "code",
   "execution_count": null,
   "metadata": {
    "id": "-6YM8QJowRp-"
   },
   "outputs": [],
   "source": [
    "# LSVM_model.fit(features_train_tf, target_train)\n",
    "# LSVM_predicted = LSVM_model.predict(features_test_tf)\n",
    "# f1_score(target_test, LSVM_predicted)"
   ]
  },
  {
   "cell_type": "markdown",
   "metadata": {
    "id": "L4YAEX1AwRp-"
   },
   "source": [
    "0.775628957727195"
   ]
  },
  {
   "cell_type": "markdown",
   "metadata": {
    "id": "PU8W1R2cwRp-"
   },
   "source": [
    "#### LinearSVC c балансом классов"
   ]
  },
  {
   "cell_type": "code",
   "execution_count": null,
   "metadata": {
    "id": "r0XfgO3QwRp-"
   },
   "outputs": [],
   "source": [
    "LSVM_balanced_model = LinearSVC(random_state = 244466666,class_weight='balanced')"
   ]
  },
  {
   "cell_type": "code",
   "execution_count": null,
   "metadata": {
    "id": "IZpyh8rHwRp_"
   },
   "outputs": [],
   "source": [
    "# print('F1 score на тренирочной выборке c учетом баланса классов:',(cross_val_score(LSVM_balanced_model, features_train_tf, target_train, cv=3, scoring='f1')).mean())"
   ]
  },
  {
   "cell_type": "markdown",
   "metadata": {
    "id": "LUdFxVCewRp_"
   },
   "source": [
    "F1 score на тренирочной выборке c учетом баланса классов: 0.7570375740462548"
   ]
  },
  {
   "cell_type": "markdown",
   "metadata": {
    "id": "CKAUcadMwRp_"
   },
   "source": [
    "**Тестирование**"
   ]
  },
  {
   "cell_type": "code",
   "execution_count": null,
   "metadata": {
    "id": "wcID99H7wRp_"
   },
   "outputs": [],
   "source": [
    "# LSVM_balanced_model.fit(features_train_tf, target_train)\n",
    "# LSVM_balanced_predicted = LSVM_balanced_model.predict(features_test_tf)\n",
    "# f1_score(target_test, LSVM_balanced_predicted)"
   ]
  },
  {
   "cell_type": "markdown",
   "metadata": {
    "id": "QHkj-I30wRp_"
   },
   "source": [
    "0.7520954681062649"
   ]
  },
  {
   "cell_type": "markdown",
   "metadata": {
    "id": "WNwJbXKQwRqA"
   },
   "source": [
    "## Выводы"
   ]
  },
  {
   "cell_type": "markdown",
   "metadata": {
    "id": "i_5MLIVMwRqA"
   },
   "source": [
    "Целью данной работы было получить модель, классифицирующую комментарии. Для классификации были выбраны модели логистической регрессии, дерева решений, случайного леса и метода опорных векторов. Результаты оценивались метрикой f1, в результате тестирования на тренирочной выборке ошибка двух моделей оказалась лучше или очень близка к требуемой заказчиком - это модели логистической регрессии и LinearSVC c балансом классов.\n",
    "\n",
    "Лучшей моделью на тестовой выборке оказалась LinearSVC модель. Полученный результат f1 равен 0.75209. Результаты исследований можно применять для дальнейшей разработки модели и внедрения в бизнес процесс."
   ]
  }
 ],
 "metadata": {
  "ExecuteTimeLog": [
   {
    "duration": 1264,
    "start_time": "2022-04-06T09:36:04.075Z"
   },
   {
    "duration": 5429,
    "start_time": "2022-04-06T09:36:05.340Z"
   },
   {
    "duration": 15,
    "start_time": "2022-04-06T09:36:10.770Z"
   },
   {
    "duration": 136,
    "start_time": "2022-04-06T09:36:10.788Z"
   },
   {
    "duration": 0,
    "start_time": "2022-04-06T09:36:10.926Z"
   },
   {
    "duration": 0,
    "start_time": "2022-04-06T09:36:10.927Z"
   },
   {
    "duration": 0,
    "start_time": "2022-04-06T09:36:10.933Z"
   },
   {
    "duration": 0,
    "start_time": "2022-04-06T09:36:10.934Z"
   },
   {
    "duration": 0,
    "start_time": "2022-04-06T09:36:10.936Z"
   },
   {
    "duration": 0,
    "start_time": "2022-04-06T09:36:10.937Z"
   },
   {
    "duration": 16,
    "start_time": "2022-04-06T09:36:19.812Z"
   },
   {
    "duration": 18,
    "start_time": "2022-04-06T09:36:22.755Z"
   },
   {
    "duration": 18,
    "start_time": "2022-04-06T09:36:26.463Z"
   },
   {
    "duration": 31,
    "start_time": "2022-04-06T09:36:26.624Z"
   },
   {
    "duration": 6031,
    "start_time": "2022-04-06T09:36:26.804Z"
   },
   {
    "duration": 6,
    "start_time": "2022-04-06T09:36:32.837Z"
   },
   {
    "duration": 6,
    "start_time": "2022-04-06T09:36:32.845Z"
   },
   {
    "duration": 9,
    "start_time": "2022-04-06T09:36:32.853Z"
   },
   {
    "duration": 0,
    "start_time": "2022-04-06T09:36:32.863Z"
   },
   {
    "duration": 48,
    "start_time": "2022-04-06T09:36:54.435Z"
   },
   {
    "duration": 1319,
    "start_time": "2022-04-06T09:37:15.746Z"
   },
   {
    "duration": 3336,
    "start_time": "2022-04-06T09:37:17.067Z"
   },
   {
    "duration": 13,
    "start_time": "2022-04-06T09:37:20.405Z"
   },
   {
    "duration": 19,
    "start_time": "2022-04-06T09:37:20.432Z"
   },
   {
    "duration": 30,
    "start_time": "2022-04-06T09:37:20.453Z"
   },
   {
    "duration": 1860,
    "start_time": "2022-04-06T09:37:20.485Z"
   },
   {
    "duration": 6,
    "start_time": "2022-04-06T09:37:22.347Z"
   },
   {
    "duration": 11,
    "start_time": "2022-04-06T09:37:22.355Z"
   },
   {
    "duration": 121,
    "start_time": "2022-04-06T09:37:22.367Z"
   },
   {
    "duration": 0,
    "start_time": "2022-04-06T09:37:22.490Z"
   },
   {
    "duration": 14,
    "start_time": "2022-04-06T09:37:48.157Z"
   },
   {
    "duration": 6,
    "start_time": "2022-04-06T09:38:25.355Z"
   },
   {
    "duration": 797,
    "start_time": "2022-04-06T09:38:28.025Z"
   },
   {
    "duration": 16,
    "start_time": "2022-04-06T09:38:46.749Z"
   },
   {
    "duration": 4,
    "start_time": "2022-04-06T09:38:51.849Z"
   },
   {
    "duration": 4,
    "start_time": "2022-04-06T09:38:56.386Z"
   },
   {
    "duration": 5,
    "start_time": "2022-04-06T09:39:04.939Z"
   },
   {
    "duration": 1317,
    "start_time": "2022-04-06T09:41:29.341Z"
   },
   {
    "duration": 4794,
    "start_time": "2022-04-06T09:41:30.660Z"
   },
   {
    "duration": 12,
    "start_time": "2022-04-06T09:41:35.456Z"
   },
   {
    "duration": 20,
    "start_time": "2022-04-06T09:41:35.470Z"
   },
   {
    "duration": 51,
    "start_time": "2022-04-06T09:41:35.493Z"
   },
   {
    "duration": 2054,
    "start_time": "2022-04-06T09:41:35.546Z"
   },
   {
    "duration": 9,
    "start_time": "2022-04-06T09:41:37.602Z"
   },
   {
    "duration": 8,
    "start_time": "2022-04-06T09:41:37.612Z"
   },
   {
    "duration": 778,
    "start_time": "2022-04-06T09:41:37.621Z"
   },
   {
    "duration": 73084,
    "start_time": "2022-04-06T09:41:38.402Z"
   },
   {
    "duration": 7,
    "start_time": "2022-04-06T09:42:56.558Z"
   },
   {
    "duration": 29,
    "start_time": "2022-04-06T09:42:56.710Z"
   },
   {
    "duration": 3,
    "start_time": "2022-04-06T09:42:56.867Z"
   },
   {
    "duration": 535308,
    "start_time": "2022-04-06T09:43:05.171Z"
   },
   {
    "duration": 0,
    "start_time": "2022-04-06T09:52:00.481Z"
   },
   {
    "duration": 0,
    "start_time": "2022-04-06T09:52:00.483Z"
   },
   {
    "duration": 1327,
    "start_time": "2022-04-06T10:34:05.842Z"
   },
   {
    "duration": 5280,
    "start_time": "2022-04-06T10:34:07.171Z"
   },
   {
    "duration": 13,
    "start_time": "2022-04-06T10:34:12.453Z"
   },
   {
    "duration": 20,
    "start_time": "2022-04-06T10:34:12.467Z"
   },
   {
    "duration": 51,
    "start_time": "2022-04-06T10:34:12.489Z"
   },
   {
    "duration": 1874,
    "start_time": "2022-04-06T10:34:12.542Z"
   },
   {
    "duration": 6,
    "start_time": "2022-04-06T10:34:14.418Z"
   },
   {
    "duration": 9,
    "start_time": "2022-04-06T10:34:14.425Z"
   },
   {
    "duration": 773,
    "start_time": "2022-04-06T10:34:14.435Z"
   },
   {
    "duration": 71349,
    "start_time": "2022-04-06T10:34:15.210Z"
   },
   {
    "duration": 850,
    "start_time": "2022-04-06T10:35:26.561Z"
   },
   {
    "duration": 0,
    "start_time": "2022-04-06T10:35:27.414Z"
   },
   {
    "duration": 0,
    "start_time": "2022-04-06T10:35:27.415Z"
   },
   {
    "duration": 1,
    "start_time": "2022-04-06T10:35:27.416Z"
   },
   {
    "duration": 0,
    "start_time": "2022-04-06T10:35:27.433Z"
   },
   {
    "duration": 0,
    "start_time": "2022-04-06T10:35:27.435Z"
   },
   {
    "duration": 0,
    "start_time": "2022-04-06T10:35:27.435Z"
   },
   {
    "duration": 0,
    "start_time": "2022-04-06T10:35:27.436Z"
   },
   {
    "duration": 1,
    "start_time": "2022-04-06T10:35:27.437Z"
   },
   {
    "duration": 0,
    "start_time": "2022-04-06T10:35:27.438Z"
   },
   {
    "duration": 0,
    "start_time": "2022-04-06T10:35:27.439Z"
   },
   {
    "duration": 0,
    "start_time": "2022-04-06T10:35:27.440Z"
   },
   {
    "duration": 0,
    "start_time": "2022-04-06T10:35:27.441Z"
   },
   {
    "duration": 0,
    "start_time": "2022-04-06T10:35:27.443Z"
   },
   {
    "duration": 0,
    "start_time": "2022-04-06T10:35:27.443Z"
   },
   {
    "duration": 0,
    "start_time": "2022-04-06T10:35:27.444Z"
   },
   {
    "duration": 0,
    "start_time": "2022-04-06T10:35:27.445Z"
   },
   {
    "duration": 0,
    "start_time": "2022-04-06T10:35:27.446Z"
   },
   {
    "duration": 0,
    "start_time": "2022-04-06T10:35:27.447Z"
   },
   {
    "duration": 16,
    "start_time": "2022-04-06T10:40:21.894Z"
   },
   {
    "duration": 148,
    "start_time": "2022-04-06T10:40:25.585Z"
   },
   {
    "duration": 8,
    "start_time": "2022-04-06T10:40:31.604Z"
   },
   {
    "duration": 49,
    "start_time": "2022-04-06T10:40:31.762Z"
   },
   {
    "duration": 3,
    "start_time": "2022-04-06T10:40:31.928Z"
   },
   {
    "duration": 78598,
    "start_time": "2022-04-06T10:40:32.083Z"
   },
   {
    "duration": 0,
    "start_time": "2022-04-06T10:41:50.683Z"
   },
   {
    "duration": 0,
    "start_time": "2022-04-06T10:41:50.685Z"
   },
   {
    "duration": 6,
    "start_time": "2022-04-06T10:41:54.031Z"
   },
   {
    "duration": 4919,
    "start_time": "2022-04-06T10:42:00.385Z"
   },
   {
    "duration": 6393,
    "start_time": "2022-04-06T10:42:05.306Z"
   },
   {
    "duration": 3,
    "start_time": "2022-04-06T10:43:50.876Z"
   },
   {
    "duration": 10,
    "start_time": "2022-04-06T10:43:51.035Z"
   },
   {
    "duration": 42257,
    "start_time": "2022-04-06T10:43:51.377Z"
   },
   {
    "duration": 0,
    "start_time": "2022-04-06T10:44:33.636Z"
   },
   {
    "duration": 5,
    "start_time": "2022-04-06T10:44:40.865Z"
   },
   {
    "duration": 1543,
    "start_time": "2022-04-06T10:46:06.419Z"
   },
   {
    "duration": 1852,
    "start_time": "2022-04-06T10:46:07.964Z"
   },
   {
    "duration": 15,
    "start_time": "2022-04-06T10:46:09.818Z"
   },
   {
    "duration": 21,
    "start_time": "2022-04-06T10:46:09.835Z"
   },
   {
    "duration": 31,
    "start_time": "2022-04-06T10:46:09.858Z"
   },
   {
    "duration": 1928,
    "start_time": "2022-04-06T10:46:09.890Z"
   },
   {
    "duration": 6,
    "start_time": "2022-04-06T10:46:11.819Z"
   },
   {
    "duration": 3,
    "start_time": "2022-04-06T10:46:11.833Z"
   },
   {
    "duration": 823,
    "start_time": "2022-04-06T10:46:11.837Z"
   },
   {
    "duration": 1688,
    "start_time": "2022-04-06T10:47:35.378Z"
   },
   {
    "duration": 4494,
    "start_time": "2022-04-06T10:47:37.068Z"
   },
   {
    "duration": 10,
    "start_time": "2022-04-06T10:47:41.564Z"
   },
   {
    "duration": 21,
    "start_time": "2022-04-06T10:47:41.576Z"
   },
   {
    "duration": 44,
    "start_time": "2022-04-06T10:47:41.598Z"
   },
   {
    "duration": 2366,
    "start_time": "2022-04-06T10:47:41.645Z"
   },
   {
    "duration": 7,
    "start_time": "2022-04-06T10:47:44.013Z"
   },
   {
    "duration": 15,
    "start_time": "2022-04-06T10:47:44.022Z"
   },
   {
    "duration": 900,
    "start_time": "2022-04-06T10:47:44.039Z"
   },
   {
    "duration": 1674,
    "start_time": "2022-04-06T10:49:53.217Z"
   },
   {
    "duration": 1676,
    "start_time": "2022-04-06T10:49:54.894Z"
   },
   {
    "duration": 11,
    "start_time": "2022-04-06T10:49:56.571Z"
   },
   {
    "duration": 19,
    "start_time": "2022-04-06T10:49:56.584Z"
   },
   {
    "duration": 50,
    "start_time": "2022-04-06T10:49:56.606Z"
   },
   {
    "duration": 1987,
    "start_time": "2022-04-06T10:49:56.658Z"
   },
   {
    "duration": 10,
    "start_time": "2022-04-06T10:49:58.647Z"
   },
   {
    "duration": 6,
    "start_time": "2022-04-06T10:49:58.658Z"
   },
   {
    "duration": 812,
    "start_time": "2022-04-06T10:49:58.666Z"
   },
   {
    "duration": 1655,
    "start_time": "2022-04-06T10:51:56.522Z"
   },
   {
    "duration": 4998,
    "start_time": "2022-04-06T10:51:58.179Z"
   },
   {
    "duration": 11,
    "start_time": "2022-04-06T10:52:03.179Z"
   },
   {
    "duration": 20,
    "start_time": "2022-04-06T10:52:03.192Z"
   },
   {
    "duration": 32,
    "start_time": "2022-04-06T10:52:03.238Z"
   },
   {
    "duration": 1936,
    "start_time": "2022-04-06T10:52:03.273Z"
   },
   {
    "duration": 4,
    "start_time": "2022-04-06T10:52:05.212Z"
   },
   {
    "duration": 5,
    "start_time": "2022-04-06T10:52:05.217Z"
   },
   {
    "duration": 871,
    "start_time": "2022-04-06T10:52:05.241Z"
   },
   {
    "duration": 0,
    "start_time": "2022-04-06T10:52:50.887Z"
   },
   {
    "duration": 0,
    "start_time": "2022-04-06T10:52:50.888Z"
   },
   {
    "duration": 0,
    "start_time": "2022-04-06T10:52:50.890Z"
   },
   {
    "duration": 0,
    "start_time": "2022-04-06T10:52:50.891Z"
   },
   {
    "duration": 1,
    "start_time": "2022-04-06T10:52:50.892Z"
   },
   {
    "duration": 0,
    "start_time": "2022-04-06T10:52:50.894Z"
   },
   {
    "duration": 0,
    "start_time": "2022-04-06T10:52:50.895Z"
   },
   {
    "duration": 0,
    "start_time": "2022-04-06T10:52:50.897Z"
   },
   {
    "duration": 0,
    "start_time": "2022-04-06T10:52:50.898Z"
   },
   {
    "duration": 0,
    "start_time": "2022-04-06T10:52:50.899Z"
   },
   {
    "duration": 0,
    "start_time": "2022-04-06T10:52:50.901Z"
   },
   {
    "duration": 0,
    "start_time": "2022-04-06T10:52:50.902Z"
   },
   {
    "duration": 0,
    "start_time": "2022-04-06T10:52:50.904Z"
   },
   {
    "duration": 0,
    "start_time": "2022-04-06T10:52:50.905Z"
   },
   {
    "duration": 0,
    "start_time": "2022-04-06T10:52:50.906Z"
   },
   {
    "duration": 0,
    "start_time": "2022-04-06T10:52:50.908Z"
   },
   {
    "duration": 0,
    "start_time": "2022-04-06T10:52:50.909Z"
   },
   {
    "duration": 0,
    "start_time": "2022-04-06T10:52:50.911Z"
   },
   {
    "duration": 0,
    "start_time": "2022-04-06T10:52:50.912Z"
   },
   {
    "duration": 0,
    "start_time": "2022-04-06T10:52:50.914Z"
   },
   {
    "duration": 517,
    "start_time": "2022-04-06T10:52:54.406Z"
   },
   {
    "duration": 12,
    "start_time": "2022-04-06T10:53:11.197Z"
   },
   {
    "duration": 114,
    "start_time": "2022-04-06T10:53:34.578Z"
   },
   {
    "duration": 40,
    "start_time": "2022-04-06T10:53:44.379Z"
   },
   {
    "duration": 15,
    "start_time": "2022-04-06T10:53:45.746Z"
   },
   {
    "duration": 2,
    "start_time": "2022-04-06T10:54:21.198Z"
   },
   {
    "duration": 11,
    "start_time": "2022-04-06T10:54:22.521Z"
   },
   {
    "duration": 2,
    "start_time": "2022-04-06T10:54:25.182Z"
   },
   {
    "duration": 10,
    "start_time": "2022-04-06T10:54:26.565Z"
   },
   {
    "duration": 493,
    "start_time": "2022-04-06T10:54:43.011Z"
   },
   {
    "duration": 1607,
    "start_time": "2022-04-06T10:55:09.939Z"
   },
   {
    "duration": 3159,
    "start_time": "2022-04-06T10:55:11.548Z"
   },
   {
    "duration": 10,
    "start_time": "2022-04-06T10:55:14.709Z"
   },
   {
    "duration": 34,
    "start_time": "2022-04-06T10:55:14.721Z"
   },
   {
    "duration": 33,
    "start_time": "2022-04-06T10:55:14.757Z"
   },
   {
    "duration": 2009,
    "start_time": "2022-04-06T10:55:14.791Z"
   },
   {
    "duration": 3,
    "start_time": "2022-04-06T10:55:16.802Z"
   },
   {
    "duration": 8,
    "start_time": "2022-04-06T10:55:16.806Z"
   },
   {
    "duration": 980,
    "start_time": "2022-04-06T10:55:16.815Z"
   },
   {
    "duration": 61,
    "start_time": "2022-04-06T10:55:17.798Z"
   },
   {
    "duration": 52,
    "start_time": "2022-04-06T11:02:06.772Z"
   },
   {
    "duration": 7,
    "start_time": "2022-04-06T11:02:30.856Z"
   },
   {
    "duration": 1546,
    "start_time": "2022-04-06T11:02:34.357Z"
   },
   {
    "duration": 5187,
    "start_time": "2022-04-06T11:02:35.905Z"
   },
   {
    "duration": 13,
    "start_time": "2022-04-06T11:02:41.094Z"
   },
   {
    "duration": 40,
    "start_time": "2022-04-06T11:02:41.109Z"
   },
   {
    "duration": 32,
    "start_time": "2022-04-06T11:02:41.150Z"
   },
   {
    "duration": 1952,
    "start_time": "2022-04-06T11:02:41.183Z"
   },
   {
    "duration": 12,
    "start_time": "2022-04-06T11:02:43.141Z"
   },
   {
    "duration": 3,
    "start_time": "2022-04-06T11:02:43.157Z"
   },
   {
    "duration": 130,
    "start_time": "2022-04-06T11:02:43.162Z"
   },
   {
    "duration": 1,
    "start_time": "2022-04-06T11:02:43.294Z"
   },
   {
    "duration": 0,
    "start_time": "2022-04-06T11:02:43.296Z"
   },
   {
    "duration": 0,
    "start_time": "2022-04-06T11:02:43.297Z"
   },
   {
    "duration": 0,
    "start_time": "2022-04-06T11:02:43.299Z"
   },
   {
    "duration": 0,
    "start_time": "2022-04-06T11:02:43.300Z"
   },
   {
    "duration": 0,
    "start_time": "2022-04-06T11:02:43.301Z"
   },
   {
    "duration": 0,
    "start_time": "2022-04-06T11:02:43.302Z"
   },
   {
    "duration": 0,
    "start_time": "2022-04-06T11:02:43.304Z"
   },
   {
    "duration": 0,
    "start_time": "2022-04-06T11:02:43.305Z"
   },
   {
    "duration": 0,
    "start_time": "2022-04-06T11:02:43.306Z"
   },
   {
    "duration": 0,
    "start_time": "2022-04-06T11:02:43.308Z"
   },
   {
    "duration": 0,
    "start_time": "2022-04-06T11:02:43.338Z"
   },
   {
    "duration": 0,
    "start_time": "2022-04-06T11:02:43.339Z"
   },
   {
    "duration": 0,
    "start_time": "2022-04-06T11:02:43.341Z"
   },
   {
    "duration": 0,
    "start_time": "2022-04-06T11:02:43.342Z"
   },
   {
    "duration": 0,
    "start_time": "2022-04-06T11:02:43.343Z"
   },
   {
    "duration": 0,
    "start_time": "2022-04-06T11:02:43.344Z"
   },
   {
    "duration": 0,
    "start_time": "2022-04-06T11:02:43.345Z"
   },
   {
    "duration": 0,
    "start_time": "2022-04-06T11:02:43.346Z"
   },
   {
    "duration": 0,
    "start_time": "2022-04-06T11:02:43.347Z"
   },
   {
    "duration": 0,
    "start_time": "2022-04-06T11:02:43.348Z"
   },
   {
    "duration": 0,
    "start_time": "2022-04-06T11:02:43.349Z"
   },
   {
    "duration": 1575,
    "start_time": "2022-04-06T11:05:18.486Z"
   },
   {
    "duration": 1725,
    "start_time": "2022-04-06T11:05:20.063Z"
   },
   {
    "duration": 11,
    "start_time": "2022-04-06T11:05:21.789Z"
   },
   {
    "duration": 33,
    "start_time": "2022-04-06T11:05:21.802Z"
   },
   {
    "duration": 32,
    "start_time": "2022-04-06T11:05:21.837Z"
   },
   {
    "duration": 1952,
    "start_time": "2022-04-06T11:05:21.871Z"
   },
   {
    "duration": 9,
    "start_time": "2022-04-06T11:05:23.824Z"
   },
   {
    "duration": 19,
    "start_time": "2022-04-06T11:05:23.836Z"
   },
   {
    "duration": 6,
    "start_time": "2022-04-06T11:05:23.857Z"
   },
   {
    "duration": 639,
    "start_time": "2022-04-06T11:05:23.866Z"
   },
   {
    "duration": 0,
    "start_time": "2022-04-06T11:05:24.506Z"
   },
   {
    "duration": 0,
    "start_time": "2022-04-06T11:05:24.508Z"
   },
   {
    "duration": 0,
    "start_time": "2022-04-06T11:05:24.509Z"
   },
   {
    "duration": 0,
    "start_time": "2022-04-06T11:05:24.510Z"
   },
   {
    "duration": 0,
    "start_time": "2022-04-06T11:05:24.511Z"
   },
   {
    "duration": 0,
    "start_time": "2022-04-06T11:05:24.512Z"
   },
   {
    "duration": 0,
    "start_time": "2022-04-06T11:05:24.514Z"
   },
   {
    "duration": 1,
    "start_time": "2022-04-06T11:05:24.514Z"
   },
   {
    "duration": 0,
    "start_time": "2022-04-06T11:05:24.516Z"
   },
   {
    "duration": 0,
    "start_time": "2022-04-06T11:05:24.517Z"
   },
   {
    "duration": 0,
    "start_time": "2022-04-06T11:05:24.518Z"
   },
   {
    "duration": 0,
    "start_time": "2022-04-06T11:05:24.520Z"
   },
   {
    "duration": 0,
    "start_time": "2022-04-06T11:05:24.520Z"
   },
   {
    "duration": 0,
    "start_time": "2022-04-06T11:05:24.522Z"
   },
   {
    "duration": 0,
    "start_time": "2022-04-06T11:05:24.523Z"
   },
   {
    "duration": 0,
    "start_time": "2022-04-06T11:05:24.524Z"
   },
   {
    "duration": 0,
    "start_time": "2022-04-06T11:05:24.525Z"
   },
   {
    "duration": 0,
    "start_time": "2022-04-06T11:05:24.526Z"
   },
   {
    "duration": 0,
    "start_time": "2022-04-06T11:05:24.527Z"
   },
   {
    "duration": 0,
    "start_time": "2022-04-06T11:05:24.529Z"
   },
   {
    "duration": 0,
    "start_time": "2022-04-06T11:05:24.530Z"
   },
   {
    "duration": 0,
    "start_time": "2022-04-06T11:05:24.531Z"
   },
   {
    "duration": 5,
    "start_time": "2022-04-06T11:06:47.547Z"
   },
   {
    "duration": 2,
    "start_time": "2022-04-06T11:09:54.501Z"
   },
   {
    "duration": 1565,
    "start_time": "2022-04-06T11:10:22.295Z"
   },
   {
    "duration": 6330,
    "start_time": "2022-04-06T11:10:23.862Z"
   },
   {
    "duration": 11,
    "start_time": "2022-04-06T11:10:30.194Z"
   },
   {
    "duration": 39,
    "start_time": "2022-04-06T11:10:30.207Z"
   },
   {
    "duration": 33,
    "start_time": "2022-04-06T11:10:30.248Z"
   },
   {
    "duration": 1965,
    "start_time": "2022-04-06T11:10:30.283Z"
   },
   {
    "duration": 11,
    "start_time": "2022-04-06T11:10:32.250Z"
   },
   {
    "duration": 5,
    "start_time": "2022-04-06T11:10:32.262Z"
   },
   {
    "duration": 48,
    "start_time": "2022-04-06T11:12:44.114Z"
   },
   {
    "duration": 8,
    "start_time": "2022-04-06T11:12:48.494Z"
   },
   {
    "duration": 1609,
    "start_time": "2022-04-06T11:12:50.943Z"
   },
   {
    "duration": 3268,
    "start_time": "2022-04-06T11:12:52.554Z"
   },
   {
    "duration": 97,
    "start_time": "2022-04-06T11:12:55.824Z"
   },
   {
    "duration": 10,
    "start_time": "2022-04-06T11:14:38.005Z"
   },
   {
    "duration": 11,
    "start_time": "2022-04-06T11:14:40.091Z"
   },
   {
    "duration": 3,
    "start_time": "2022-04-06T11:14:47.699Z"
   },
   {
    "duration": 543,
    "start_time": "2022-04-06T11:14:49.105Z"
   },
   {
    "duration": 1494,
    "start_time": "2022-04-06T11:15:12.884Z"
   },
   {
    "duration": 3388,
    "start_time": "2022-04-06T11:15:14.380Z"
   },
   {
    "duration": 11,
    "start_time": "2022-04-06T11:15:17.770Z"
   },
   {
    "duration": 20,
    "start_time": "2022-04-06T11:15:17.783Z"
   },
   {
    "duration": 54,
    "start_time": "2022-04-06T11:15:17.804Z"
   },
   {
    "duration": 1912,
    "start_time": "2022-04-06T11:15:17.859Z"
   },
   {
    "duration": 5,
    "start_time": "2022-04-06T11:15:19.773Z"
   },
   {
    "duration": 8,
    "start_time": "2022-04-06T11:15:19.780Z"
   },
   {
    "duration": 12,
    "start_time": "2022-04-06T11:15:19.789Z"
   },
   {
    "duration": 1876,
    "start_time": "2022-04-06T12:45:47.587Z"
   },
   {
    "duration": 7079,
    "start_time": "2022-04-06T12:45:49.465Z"
   },
   {
    "duration": 18,
    "start_time": "2022-04-06T12:45:56.546Z"
   },
   {
    "duration": 22,
    "start_time": "2022-04-06T12:45:56.566Z"
   },
   {
    "duration": 45,
    "start_time": "2022-04-06T12:45:56.590Z"
   },
   {
    "duration": 2267,
    "start_time": "2022-04-06T12:45:56.637Z"
   },
   {
    "duration": 3,
    "start_time": "2022-04-06T12:45:58.906Z"
   },
   {
    "duration": 5,
    "start_time": "2022-04-06T12:45:58.911Z"
   },
   {
    "duration": 30,
    "start_time": "2022-04-06T12:45:58.918Z"
   },
   {
    "duration": 1631,
    "start_time": "2022-04-06T12:50:28.460Z"
   },
   {
    "duration": 5124,
    "start_time": "2022-04-06T12:50:30.093Z"
   },
   {
    "duration": 10,
    "start_time": "2022-04-06T12:50:35.219Z"
   },
   {
    "duration": 38,
    "start_time": "2022-04-06T12:50:35.231Z"
   },
   {
    "duration": 31,
    "start_time": "2022-04-06T12:50:35.271Z"
   },
   {
    "duration": 1994,
    "start_time": "2022-04-06T12:50:35.304Z"
   },
   {
    "duration": 11,
    "start_time": "2022-04-06T12:50:37.300Z"
   },
   {
    "duration": 6,
    "start_time": "2022-04-06T12:50:37.312Z"
   },
   {
    "duration": 21,
    "start_time": "2022-04-06T12:50:37.319Z"
   },
   {
    "duration": 1622,
    "start_time": "2022-04-06T12:52:20.610Z"
   },
   {
    "duration": 3450,
    "start_time": "2022-04-06T12:52:22.234Z"
   },
   {
    "duration": 9,
    "start_time": "2022-04-06T12:52:25.686Z"
   },
   {
    "duration": 18,
    "start_time": "2022-04-06T12:52:25.697Z"
   },
   {
    "duration": 44,
    "start_time": "2022-04-06T12:52:25.717Z"
   },
   {
    "duration": 1881,
    "start_time": "2022-04-06T12:52:25.763Z"
   },
   {
    "duration": 5,
    "start_time": "2022-04-06T12:52:27.646Z"
   },
   {
    "duration": 5,
    "start_time": "2022-04-06T12:52:27.653Z"
   },
   {
    "duration": 9,
    "start_time": "2022-04-06T12:52:27.660Z"
   },
   {
    "duration": 1688,
    "start_time": "2022-04-06T13:06:14.528Z"
   },
   {
    "duration": 5335,
    "start_time": "2022-04-06T13:06:16.218Z"
   },
   {
    "duration": 11,
    "start_time": "2022-04-06T13:06:21.554Z"
   },
   {
    "duration": 21,
    "start_time": "2022-04-06T13:06:21.567Z"
   },
   {
    "duration": 51,
    "start_time": "2022-04-06T13:06:21.589Z"
   },
   {
    "duration": 3,
    "start_time": "2022-04-06T13:06:21.642Z"
   },
   {
    "duration": 1471,
    "start_time": "2022-04-06T13:06:21.647Z"
   },
   {
    "duration": 0,
    "start_time": "2022-04-06T13:06:23.121Z"
   },
   {
    "duration": 0,
    "start_time": "2022-04-06T13:06:23.122Z"
   },
   {
    "duration": 0,
    "start_time": "2022-04-06T13:06:23.124Z"
   },
   {
    "duration": 0,
    "start_time": "2022-04-06T13:06:23.133Z"
   },
   {
    "duration": 0,
    "start_time": "2022-04-06T13:06:23.134Z"
   },
   {
    "duration": 0,
    "start_time": "2022-04-06T13:06:23.135Z"
   },
   {
    "duration": 0,
    "start_time": "2022-04-06T13:06:23.136Z"
   },
   {
    "duration": 0,
    "start_time": "2022-04-06T13:06:23.137Z"
   },
   {
    "duration": 0,
    "start_time": "2022-04-06T13:06:23.138Z"
   },
   {
    "duration": 0,
    "start_time": "2022-04-06T13:06:23.139Z"
   },
   {
    "duration": 0,
    "start_time": "2022-04-06T13:06:23.140Z"
   },
   {
    "duration": 0,
    "start_time": "2022-04-06T13:06:23.141Z"
   },
   {
    "duration": 0,
    "start_time": "2022-04-06T13:06:23.142Z"
   },
   {
    "duration": 0,
    "start_time": "2022-04-06T13:06:23.143Z"
   },
   {
    "duration": 0,
    "start_time": "2022-04-06T13:06:23.144Z"
   },
   {
    "duration": 0,
    "start_time": "2022-04-06T13:06:23.145Z"
   },
   {
    "duration": 0,
    "start_time": "2022-04-06T13:06:23.147Z"
   },
   {
    "duration": 0,
    "start_time": "2022-04-06T13:06:23.147Z"
   },
   {
    "duration": 0,
    "start_time": "2022-04-06T13:06:23.148Z"
   },
   {
    "duration": 0,
    "start_time": "2022-04-06T13:06:23.150Z"
   },
   {
    "duration": 0,
    "start_time": "2022-04-06T13:06:23.151Z"
   },
   {
    "duration": 0,
    "start_time": "2022-04-06T13:06:23.152Z"
   },
   {
    "duration": 0,
    "start_time": "2022-04-06T13:06:23.153Z"
   },
   {
    "duration": 0,
    "start_time": "2022-04-06T13:06:23.154Z"
   },
   {
    "duration": 0,
    "start_time": "2022-04-06T13:06:23.155Z"
   },
   {
    "duration": 0,
    "start_time": "2022-04-06T13:06:23.156Z"
   },
   {
    "duration": 0,
    "start_time": "2022-04-06T13:06:23.157Z"
   },
   {
    "duration": 0,
    "start_time": "2022-04-06T13:06:23.158Z"
   },
   {
    "duration": 0,
    "start_time": "2022-04-06T13:06:23.159Z"
   },
   {
    "duration": 0,
    "start_time": "2022-04-06T13:06:23.160Z"
   },
   {
    "duration": 0,
    "start_time": "2022-04-06T13:06:23.161Z"
   },
   {
    "duration": 0,
    "start_time": "2022-04-06T13:06:23.162Z"
   },
   {
    "duration": 0,
    "start_time": "2022-04-06T13:06:23.163Z"
   },
   {
    "duration": 0,
    "start_time": "2022-04-06T13:06:23.164Z"
   },
   {
    "duration": 0,
    "start_time": "2022-04-06T13:06:23.165Z"
   },
   {
    "duration": 1424,
    "start_time": "2022-04-06T13:06:38.009Z"
   },
   {
    "duration": 3,
    "start_time": "2022-04-06T13:06:39.434Z"
   },
   {
    "duration": 1559,
    "start_time": "2022-04-06T13:06:39.439Z"
   },
   {
    "duration": 0,
    "start_time": "2022-04-06T13:06:41.000Z"
   },
   {
    "duration": 0,
    "start_time": "2022-04-06T13:06:41.001Z"
   },
   {
    "duration": 0,
    "start_time": "2022-04-06T13:06:41.002Z"
   },
   {
    "duration": 0,
    "start_time": "2022-04-06T13:06:41.003Z"
   },
   {
    "duration": 0,
    "start_time": "2022-04-06T13:06:41.004Z"
   },
   {
    "duration": 1,
    "start_time": "2022-04-06T13:06:41.005Z"
   },
   {
    "duration": 2495,
    "start_time": "2022-04-06T13:06:51.155Z"
   },
   {
    "duration": 10,
    "start_time": "2022-04-06T13:06:53.652Z"
   },
   {
    "duration": 0,
    "start_time": "2022-04-06T13:06:53.663Z"
   },
   {
    "duration": 0,
    "start_time": "2022-04-06T13:06:53.665Z"
   },
   {
    "duration": 0,
    "start_time": "2022-04-06T13:06:53.666Z"
   },
   {
    "duration": 0,
    "start_time": "2022-04-06T13:06:53.666Z"
   },
   {
    "duration": 0,
    "start_time": "2022-04-06T13:06:53.668Z"
   },
   {
    "duration": 5,
    "start_time": "2022-04-06T13:07:58.308Z"
   },
   {
    "duration": 4,
    "start_time": "2022-04-06T13:07:59.023Z"
   },
   {
    "duration": 1601,
    "start_time": "2022-04-06T13:07:59.406Z"
   },
   {
    "duration": 3,
    "start_time": "2022-04-06T13:08:01.010Z"
   },
   {
    "duration": 17,
    "start_time": "2022-04-06T13:08:01.015Z"
   },
   {
    "duration": 19455,
    "start_time": "2022-04-06T13:08:01.035Z"
   },
   {
    "duration": 17283,
    "start_time": "2022-04-06T13:08:31.891Z"
   },
   {
    "duration": 1516,
    "start_time": "2022-04-06T13:10:23.045Z"
   },
   {
    "duration": 4816,
    "start_time": "2022-04-06T13:10:24.562Z"
   },
   {
    "duration": 11,
    "start_time": "2022-04-06T13:10:29.380Z"
   },
   {
    "duration": 22,
    "start_time": "2022-04-06T13:10:29.393Z"
   },
   {
    "duration": 46,
    "start_time": "2022-04-06T13:10:29.417Z"
   },
   {
    "duration": 3,
    "start_time": "2022-04-06T13:10:29.464Z"
   },
   {
    "duration": 4,
    "start_time": "2022-04-06T13:10:29.469Z"
   },
   {
    "duration": 5,
    "start_time": "2022-04-06T13:10:29.475Z"
   },
   {
    "duration": 5,
    "start_time": "2022-04-06T13:10:29.481Z"
   },
   {
    "duration": 2,
    "start_time": "2022-04-06T13:10:29.489Z"
   },
   {
    "duration": 5,
    "start_time": "2022-04-06T13:10:29.493Z"
   },
   {
    "duration": 4,
    "start_time": "2022-04-06T13:10:29.499Z"
   },
   {
    "duration": 28,
    "start_time": "2022-04-06T13:10:29.505Z"
   },
   {
    "duration": 5,
    "start_time": "2022-04-06T13:10:29.535Z"
   },
   {
    "duration": 5,
    "start_time": "2022-04-06T13:10:29.541Z"
   },
   {
    "duration": 1910,
    "start_time": "2022-04-06T13:10:29.547Z"
   },
   {
    "duration": 23,
    "start_time": "2022-04-06T13:10:31.459Z"
   },
   {
    "duration": 15,
    "start_time": "2022-04-06T13:10:31.484Z"
   },
   {
    "duration": 66,
    "start_time": "2022-04-06T13:10:31.500Z"
   },
   {
    "duration": 1346,
    "start_time": "2022-04-06T13:10:31.568Z"
   },
   {
    "duration": 0,
    "start_time": "2022-04-06T13:10:32.917Z"
   },
   {
    "duration": 0,
    "start_time": "2022-04-06T13:10:32.918Z"
   },
   {
    "duration": 0,
    "start_time": "2022-04-06T13:10:32.919Z"
   },
   {
    "duration": 0,
    "start_time": "2022-04-06T13:10:32.921Z"
   },
   {
    "duration": 0,
    "start_time": "2022-04-06T13:10:32.922Z"
   },
   {
    "duration": 0,
    "start_time": "2022-04-06T13:10:32.923Z"
   },
   {
    "duration": 0,
    "start_time": "2022-04-06T13:10:32.924Z"
   },
   {
    "duration": 0,
    "start_time": "2022-04-06T13:10:32.925Z"
   },
   {
    "duration": 0,
    "start_time": "2022-04-06T13:10:32.926Z"
   },
   {
    "duration": 0,
    "start_time": "2022-04-06T13:10:32.927Z"
   },
   {
    "duration": 0,
    "start_time": "2022-04-06T13:10:32.928Z"
   },
   {
    "duration": 0,
    "start_time": "2022-04-06T13:10:32.930Z"
   },
   {
    "duration": 0,
    "start_time": "2022-04-06T13:10:32.931Z"
   },
   {
    "duration": 0,
    "start_time": "2022-04-06T13:10:32.932Z"
   },
   {
    "duration": 0,
    "start_time": "2022-04-06T13:10:32.934Z"
   },
   {
    "duration": 0,
    "start_time": "2022-04-06T13:10:32.935Z"
   },
   {
    "duration": 0,
    "start_time": "2022-04-06T13:10:32.936Z"
   },
   {
    "duration": 0,
    "start_time": "2022-04-06T13:10:32.937Z"
   },
   {
    "duration": 0,
    "start_time": "2022-04-06T13:10:32.938Z"
   },
   {
    "duration": 0,
    "start_time": "2022-04-06T13:10:32.939Z"
   },
   {
    "duration": 0,
    "start_time": "2022-04-06T13:10:32.941Z"
   },
   {
    "duration": 0,
    "start_time": "2022-04-06T13:10:32.942Z"
   },
   {
    "duration": 1582,
    "start_time": "2022-04-06T13:11:13.826Z"
   },
   {
    "duration": 3322,
    "start_time": "2022-04-06T13:11:15.410Z"
   },
   {
    "duration": 10,
    "start_time": "2022-04-06T13:11:18.737Z"
   },
   {
    "duration": 20,
    "start_time": "2022-04-06T13:11:18.749Z"
   },
   {
    "duration": 32,
    "start_time": "2022-04-06T13:11:18.771Z"
   },
   {
    "duration": 29,
    "start_time": "2022-04-06T13:11:18.805Z"
   },
   {
    "duration": 5,
    "start_time": "2022-04-06T13:11:18.835Z"
   },
   {
    "duration": 5,
    "start_time": "2022-04-06T13:11:18.841Z"
   },
   {
    "duration": 3,
    "start_time": "2022-04-06T13:11:18.849Z"
   },
   {
    "duration": 5,
    "start_time": "2022-04-06T13:11:18.853Z"
   },
   {
    "duration": 7,
    "start_time": "2022-04-06T13:11:18.859Z"
   },
   {
    "duration": 5,
    "start_time": "2022-04-06T13:11:18.867Z"
   },
   {
    "duration": 4,
    "start_time": "2022-04-06T13:11:18.874Z"
   },
   {
    "duration": 4,
    "start_time": "2022-04-06T13:11:18.880Z"
   },
   {
    "duration": 4,
    "start_time": "2022-04-06T13:11:18.886Z"
   },
   {
    "duration": 1906,
    "start_time": "2022-04-06T13:11:18.891Z"
   },
   {
    "duration": 13,
    "start_time": "2022-04-06T13:11:20.798Z"
   },
   {
    "duration": 14,
    "start_time": "2022-04-06T13:11:20.813Z"
   },
   {
    "duration": 11,
    "start_time": "2022-04-06T13:11:20.828Z"
   },
   {
    "duration": 1602,
    "start_time": "2022-04-06T13:40:31.069Z"
   },
   {
    "duration": 4689,
    "start_time": "2022-04-06T13:40:32.673Z"
   },
   {
    "duration": 11,
    "start_time": "2022-04-06T13:40:37.364Z"
   },
   {
    "duration": 20,
    "start_time": "2022-04-06T13:40:37.377Z"
   },
   {
    "duration": 52,
    "start_time": "2022-04-06T13:40:37.399Z"
   },
   {
    "duration": 4,
    "start_time": "2022-04-06T13:40:37.453Z"
   },
   {
    "duration": 5,
    "start_time": "2022-04-06T13:40:37.458Z"
   },
   {
    "duration": 4,
    "start_time": "2022-04-06T13:40:37.465Z"
   },
   {
    "duration": 4,
    "start_time": "2022-04-06T13:40:37.471Z"
   },
   {
    "duration": 11,
    "start_time": "2022-04-06T13:40:37.478Z"
   },
   {
    "duration": 17018,
    "start_time": "2022-04-06T13:40:37.491Z"
   },
   {
    "duration": 0,
    "start_time": "2022-04-06T13:40:54.512Z"
   },
   {
    "duration": 0,
    "start_time": "2022-04-06T13:40:54.514Z"
   },
   {
    "duration": 0,
    "start_time": "2022-04-06T13:40:54.516Z"
   },
   {
    "duration": 0,
    "start_time": "2022-04-06T13:40:54.517Z"
   },
   {
    "duration": 0,
    "start_time": "2022-04-06T13:40:54.519Z"
   },
   {
    "duration": 0,
    "start_time": "2022-04-06T13:40:54.521Z"
   },
   {
    "duration": 0,
    "start_time": "2022-04-06T13:40:54.522Z"
   },
   {
    "duration": 0,
    "start_time": "2022-04-06T13:40:54.524Z"
   },
   {
    "duration": 0,
    "start_time": "2022-04-06T13:40:54.525Z"
   },
   {
    "duration": 0,
    "start_time": "2022-04-06T13:40:54.526Z"
   },
   {
    "duration": 0,
    "start_time": "2022-04-06T13:40:54.526Z"
   },
   {
    "duration": 1,
    "start_time": "2022-04-06T13:40:54.527Z"
   },
   {
    "duration": 0,
    "start_time": "2022-04-06T13:40:54.529Z"
   },
   {
    "duration": 0,
    "start_time": "2022-04-06T13:40:54.530Z"
   },
   {
    "duration": 0,
    "start_time": "2022-04-06T13:40:54.531Z"
   },
   {
    "duration": 0,
    "start_time": "2022-04-06T13:40:54.533Z"
   },
   {
    "duration": 0,
    "start_time": "2022-04-06T13:40:54.534Z"
   },
   {
    "duration": 0,
    "start_time": "2022-04-06T13:40:54.536Z"
   },
   {
    "duration": 0,
    "start_time": "2022-04-06T13:40:54.538Z"
   },
   {
    "duration": 0,
    "start_time": "2022-04-06T13:40:54.539Z"
   },
   {
    "duration": 0,
    "start_time": "2022-04-06T13:40:54.541Z"
   },
   {
    "duration": 0,
    "start_time": "2022-04-06T13:40:54.542Z"
   },
   {
    "duration": 0,
    "start_time": "2022-04-06T13:40:54.543Z"
   },
   {
    "duration": 0,
    "start_time": "2022-04-06T13:40:54.545Z"
   },
   {
    "duration": 0,
    "start_time": "2022-04-06T13:40:54.546Z"
   },
   {
    "duration": 0,
    "start_time": "2022-04-06T13:40:54.547Z"
   },
   {
    "duration": 0,
    "start_time": "2022-04-06T13:40:54.549Z"
   },
   {
    "duration": 0,
    "start_time": "2022-04-06T13:40:54.550Z"
   },
   {
    "duration": 1504,
    "start_time": "2022-04-06T13:41:05.363Z"
   },
   {
    "duration": 4775,
    "start_time": "2022-04-06T13:41:06.869Z"
   },
   {
    "duration": 10,
    "start_time": "2022-04-06T13:41:11.645Z"
   },
   {
    "duration": 21,
    "start_time": "2022-04-06T13:41:11.657Z"
   },
   {
    "duration": 58,
    "start_time": "2022-04-06T13:41:11.679Z"
   },
   {
    "duration": 4,
    "start_time": "2022-04-06T13:41:11.739Z"
   },
   {
    "duration": 3,
    "start_time": "2022-04-06T13:41:11.745Z"
   },
   {
    "duration": 4,
    "start_time": "2022-04-06T13:41:11.750Z"
   },
   {
    "duration": 5,
    "start_time": "2022-04-06T13:41:11.756Z"
   },
   {
    "duration": 8,
    "start_time": "2022-04-06T13:41:11.764Z"
   },
   {
    "duration": 949,
    "start_time": "2022-04-06T13:41:11.774Z"
   },
   {
    "duration": 0,
    "start_time": "2022-04-06T13:41:12.725Z"
   },
   {
    "duration": 0,
    "start_time": "2022-04-06T13:41:12.727Z"
   },
   {
    "duration": 0,
    "start_time": "2022-04-06T13:41:12.728Z"
   },
   {
    "duration": 0,
    "start_time": "2022-04-06T13:41:12.729Z"
   },
   {
    "duration": 0,
    "start_time": "2022-04-06T13:41:12.730Z"
   },
   {
    "duration": 0,
    "start_time": "2022-04-06T13:41:12.731Z"
   },
   {
    "duration": 0,
    "start_time": "2022-04-06T13:41:12.732Z"
   },
   {
    "duration": 0,
    "start_time": "2022-04-06T13:41:12.733Z"
   },
   {
    "duration": 0,
    "start_time": "2022-04-06T13:41:12.734Z"
   },
   {
    "duration": 0,
    "start_time": "2022-04-06T13:41:12.736Z"
   },
   {
    "duration": 0,
    "start_time": "2022-04-06T13:41:12.737Z"
   },
   {
    "duration": 0,
    "start_time": "2022-04-06T13:41:12.738Z"
   },
   {
    "duration": 0,
    "start_time": "2022-04-06T13:41:12.739Z"
   },
   {
    "duration": 0,
    "start_time": "2022-04-06T13:41:12.740Z"
   },
   {
    "duration": 0,
    "start_time": "2022-04-06T13:41:12.741Z"
   },
   {
    "duration": 0,
    "start_time": "2022-04-06T13:41:12.742Z"
   },
   {
    "duration": 0,
    "start_time": "2022-04-06T13:41:12.743Z"
   },
   {
    "duration": 0,
    "start_time": "2022-04-06T13:41:12.744Z"
   },
   {
    "duration": 0,
    "start_time": "2022-04-06T13:41:12.745Z"
   },
   {
    "duration": 0,
    "start_time": "2022-04-06T13:41:12.746Z"
   },
   {
    "duration": 0,
    "start_time": "2022-04-06T13:41:12.747Z"
   },
   {
    "duration": 0,
    "start_time": "2022-04-06T13:41:12.748Z"
   },
   {
    "duration": 0,
    "start_time": "2022-04-06T13:41:12.749Z"
   },
   {
    "duration": 0,
    "start_time": "2022-04-06T13:41:12.750Z"
   },
   {
    "duration": 0,
    "start_time": "2022-04-06T13:41:12.751Z"
   },
   {
    "duration": 0,
    "start_time": "2022-04-06T13:41:12.752Z"
   },
   {
    "duration": 0,
    "start_time": "2022-04-06T13:41:12.753Z"
   },
   {
    "duration": 0,
    "start_time": "2022-04-06T13:41:12.754Z"
   },
   {
    "duration": 5,
    "start_time": "2022-04-06T13:41:54.184Z"
   },
   {
    "duration": 1549,
    "start_time": "2022-04-06T13:41:59.628Z"
   },
   {
    "duration": 3219,
    "start_time": "2022-04-06T13:42:01.179Z"
   },
   {
    "duration": 12,
    "start_time": "2022-04-06T13:42:04.399Z"
   },
   {
    "duration": 33,
    "start_time": "2022-04-06T13:42:04.413Z"
   },
   {
    "duration": 33,
    "start_time": "2022-04-06T13:42:04.448Z"
   },
   {
    "duration": 4,
    "start_time": "2022-04-06T13:42:04.483Z"
   },
   {
    "duration": 5,
    "start_time": "2022-04-06T13:42:04.488Z"
   },
   {
    "duration": 7,
    "start_time": "2022-04-06T13:42:04.494Z"
   },
   {
    "duration": 8,
    "start_time": "2022-04-06T13:42:04.503Z"
   },
   {
    "duration": 26,
    "start_time": "2022-04-06T13:42:04.512Z"
   },
   {
    "duration": 1074,
    "start_time": "2022-04-06T13:42:04.540Z"
   },
   {
    "duration": 0,
    "start_time": "2022-04-06T13:42:05.617Z"
   },
   {
    "duration": 0,
    "start_time": "2022-04-06T13:42:05.619Z"
   },
   {
    "duration": 0,
    "start_time": "2022-04-06T13:42:05.621Z"
   },
   {
    "duration": 0,
    "start_time": "2022-04-06T13:42:05.622Z"
   },
   {
    "duration": 0,
    "start_time": "2022-04-06T13:42:05.624Z"
   },
   {
    "duration": 0,
    "start_time": "2022-04-06T13:42:05.626Z"
   },
   {
    "duration": 0,
    "start_time": "2022-04-06T13:42:05.627Z"
   },
   {
    "duration": 0,
    "start_time": "2022-04-06T13:42:05.629Z"
   },
   {
    "duration": 0,
    "start_time": "2022-04-06T13:42:05.631Z"
   },
   {
    "duration": 0,
    "start_time": "2022-04-06T13:42:05.633Z"
   },
   {
    "duration": 0,
    "start_time": "2022-04-06T13:42:05.634Z"
   },
   {
    "duration": 0,
    "start_time": "2022-04-06T13:42:05.635Z"
   },
   {
    "duration": 0,
    "start_time": "2022-04-06T13:42:05.636Z"
   },
   {
    "duration": 0,
    "start_time": "2022-04-06T13:42:05.638Z"
   },
   {
    "duration": 0,
    "start_time": "2022-04-06T13:42:05.639Z"
   },
   {
    "duration": 0,
    "start_time": "2022-04-06T13:42:05.640Z"
   },
   {
    "duration": 0,
    "start_time": "2022-04-06T13:42:05.641Z"
   },
   {
    "duration": 0,
    "start_time": "2022-04-06T13:42:05.643Z"
   },
   {
    "duration": 0,
    "start_time": "2022-04-06T13:42:05.644Z"
   },
   {
    "duration": 0,
    "start_time": "2022-04-06T13:42:05.646Z"
   },
   {
    "duration": 0,
    "start_time": "2022-04-06T13:42:05.647Z"
   },
   {
    "duration": 0,
    "start_time": "2022-04-06T13:42:05.648Z"
   },
   {
    "duration": 0,
    "start_time": "2022-04-06T13:42:05.650Z"
   },
   {
    "duration": 0,
    "start_time": "2022-04-06T13:42:05.651Z"
   },
   {
    "duration": 0,
    "start_time": "2022-04-06T13:42:05.652Z"
   },
   {
    "duration": 0,
    "start_time": "2022-04-06T13:42:05.654Z"
   },
   {
    "duration": 0,
    "start_time": "2022-04-06T13:42:05.655Z"
   },
   {
    "duration": 0,
    "start_time": "2022-04-06T13:42:05.657Z"
   },
   {
    "duration": 1563,
    "start_time": "2022-04-06T13:42:40.466Z"
   },
   {
    "duration": 1623,
    "start_time": "2022-04-06T13:42:42.031Z"
   },
   {
    "duration": 12,
    "start_time": "2022-04-06T13:42:43.655Z"
   },
   {
    "duration": 29,
    "start_time": "2022-04-06T13:42:43.670Z"
   },
   {
    "duration": 63,
    "start_time": "2022-04-06T13:42:43.701Z"
   },
   {
    "duration": 6,
    "start_time": "2022-04-06T13:42:43.766Z"
   },
   {
    "duration": 5,
    "start_time": "2022-04-06T13:42:43.773Z"
   },
   {
    "duration": 6,
    "start_time": "2022-04-06T13:42:43.779Z"
   },
   {
    "duration": 9,
    "start_time": "2022-04-06T13:42:43.786Z"
   },
   {
    "duration": 853,
    "start_time": "2022-04-06T13:42:43.798Z"
   },
   {
    "duration": 0,
    "start_time": "2022-04-06T13:42:44.653Z"
   },
   {
    "duration": 0,
    "start_time": "2022-04-06T13:42:44.654Z"
   },
   {
    "duration": 0,
    "start_time": "2022-04-06T13:42:44.655Z"
   },
   {
    "duration": 0,
    "start_time": "2022-04-06T13:42:44.656Z"
   },
   {
    "duration": 0,
    "start_time": "2022-04-06T13:42:44.657Z"
   },
   {
    "duration": 0,
    "start_time": "2022-04-06T13:42:44.658Z"
   },
   {
    "duration": 0,
    "start_time": "2022-04-06T13:42:44.659Z"
   },
   {
    "duration": 0,
    "start_time": "2022-04-06T13:42:44.660Z"
   },
   {
    "duration": 0,
    "start_time": "2022-04-06T13:42:44.661Z"
   },
   {
    "duration": 0,
    "start_time": "2022-04-06T13:42:44.663Z"
   },
   {
    "duration": 0,
    "start_time": "2022-04-06T13:42:44.663Z"
   },
   {
    "duration": 0,
    "start_time": "2022-04-06T13:42:44.665Z"
   },
   {
    "duration": 0,
    "start_time": "2022-04-06T13:42:44.666Z"
   },
   {
    "duration": 0,
    "start_time": "2022-04-06T13:42:44.667Z"
   },
   {
    "duration": 0,
    "start_time": "2022-04-06T13:42:44.668Z"
   },
   {
    "duration": 0,
    "start_time": "2022-04-06T13:42:44.669Z"
   },
   {
    "duration": 0,
    "start_time": "2022-04-06T13:42:44.670Z"
   },
   {
    "duration": 0,
    "start_time": "2022-04-06T13:42:44.671Z"
   },
   {
    "duration": 0,
    "start_time": "2022-04-06T13:42:44.672Z"
   },
   {
    "duration": 0,
    "start_time": "2022-04-06T13:42:44.673Z"
   },
   {
    "duration": 0,
    "start_time": "2022-04-06T13:42:44.674Z"
   },
   {
    "duration": 0,
    "start_time": "2022-04-06T13:42:44.675Z"
   },
   {
    "duration": 0,
    "start_time": "2022-04-06T13:42:44.676Z"
   },
   {
    "duration": 0,
    "start_time": "2022-04-06T13:42:44.677Z"
   },
   {
    "duration": 0,
    "start_time": "2022-04-06T13:42:44.678Z"
   },
   {
    "duration": 0,
    "start_time": "2022-04-06T13:42:44.679Z"
   },
   {
    "duration": 0,
    "start_time": "2022-04-06T13:42:44.680Z"
   },
   {
    "duration": 0,
    "start_time": "2022-04-06T13:42:44.681Z"
   },
   {
    "duration": 1630,
    "start_time": "2022-04-06T13:43:29.462Z"
   },
   {
    "duration": 1473,
    "start_time": "2022-04-06T13:43:31.094Z"
   },
   {
    "duration": 11,
    "start_time": "2022-04-06T13:43:32.569Z"
   },
   {
    "duration": 21,
    "start_time": "2022-04-06T13:43:32.583Z"
   },
   {
    "duration": 64,
    "start_time": "2022-04-06T13:43:32.606Z"
   },
   {
    "duration": 4,
    "start_time": "2022-04-06T13:43:32.672Z"
   },
   {
    "duration": 4,
    "start_time": "2022-04-06T13:43:32.678Z"
   },
   {
    "duration": 5,
    "start_time": "2022-04-06T13:43:32.683Z"
   },
   {
    "duration": 5,
    "start_time": "2022-04-06T13:43:32.689Z"
   },
   {
    "duration": 13,
    "start_time": "2022-04-06T13:43:32.696Z"
   },
   {
    "duration": 6212,
    "start_time": "2022-04-06T13:43:32.710Z"
   },
   {
    "duration": 11,
    "start_time": "2022-04-06T13:43:38.933Z"
   },
   {
    "duration": 2261,
    "start_time": "2022-04-06T13:43:38.947Z"
   },
   {
    "duration": 0,
    "start_time": "2022-04-06T13:43:41.210Z"
   },
   {
    "duration": 0,
    "start_time": "2022-04-06T13:43:41.211Z"
   },
   {
    "duration": 0,
    "start_time": "2022-04-06T13:43:41.212Z"
   },
   {
    "duration": 0,
    "start_time": "2022-04-06T13:43:41.213Z"
   },
   {
    "duration": 0,
    "start_time": "2022-04-06T13:43:41.214Z"
   },
   {
    "duration": 0,
    "start_time": "2022-04-06T13:43:41.217Z"
   },
   {
    "duration": 0,
    "start_time": "2022-04-06T13:43:41.218Z"
   },
   {
    "duration": 0,
    "start_time": "2022-04-06T13:43:41.219Z"
   },
   {
    "duration": 0,
    "start_time": "2022-04-06T13:43:41.220Z"
   },
   {
    "duration": 0,
    "start_time": "2022-04-06T13:43:41.221Z"
   },
   {
    "duration": 1,
    "start_time": "2022-04-06T13:43:41.222Z"
   },
   {
    "duration": 0,
    "start_time": "2022-04-06T13:43:41.224Z"
   },
   {
    "duration": 0,
    "start_time": "2022-04-06T13:43:41.225Z"
   },
   {
    "duration": 0,
    "start_time": "2022-04-06T13:43:41.226Z"
   },
   {
    "duration": 0,
    "start_time": "2022-04-06T13:43:41.227Z"
   },
   {
    "duration": 0,
    "start_time": "2022-04-06T13:43:41.228Z"
   },
   {
    "duration": 0,
    "start_time": "2022-04-06T13:43:41.229Z"
   },
   {
    "duration": 0,
    "start_time": "2022-04-06T13:43:41.230Z"
   },
   {
    "duration": 0,
    "start_time": "2022-04-06T13:43:41.231Z"
   },
   {
    "duration": 0,
    "start_time": "2022-04-06T13:43:41.237Z"
   },
   {
    "duration": 0,
    "start_time": "2022-04-06T13:43:41.240Z"
   },
   {
    "duration": 0,
    "start_time": "2022-04-06T13:43:41.241Z"
   },
   {
    "duration": 0,
    "start_time": "2022-04-06T13:43:41.244Z"
   },
   {
    "duration": 0,
    "start_time": "2022-04-06T13:43:41.246Z"
   },
   {
    "duration": 0,
    "start_time": "2022-04-06T13:43:41.248Z"
   },
   {
    "duration": 0,
    "start_time": "2022-04-06T13:43:41.250Z"
   },
   {
    "duration": 1830,
    "start_time": "2022-04-06T13:43:47.919Z"
   },
   {
    "duration": 1942,
    "start_time": "2022-04-06T13:43:49.751Z"
   },
   {
    "duration": 10,
    "start_time": "2022-04-06T13:43:51.695Z"
   },
   {
    "duration": 41,
    "start_time": "2022-04-06T13:43:51.707Z"
   },
   {
    "duration": 32,
    "start_time": "2022-04-06T13:43:51.749Z"
   },
   {
    "duration": 5,
    "start_time": "2022-04-06T13:43:51.782Z"
   },
   {
    "duration": 3,
    "start_time": "2022-04-06T13:43:51.788Z"
   },
   {
    "duration": 6,
    "start_time": "2022-04-06T13:43:51.793Z"
   },
   {
    "duration": 6,
    "start_time": "2022-04-06T13:43:51.801Z"
   },
   {
    "duration": 35,
    "start_time": "2022-04-06T13:43:51.809Z"
   },
   {
    "duration": 5288,
    "start_time": "2022-04-06T13:43:51.846Z"
   },
   {
    "duration": 8,
    "start_time": "2022-04-06T13:43:57.136Z"
   },
   {
    "duration": 2204,
    "start_time": "2022-04-06T13:43:57.146Z"
   },
   {
    "duration": 0,
    "start_time": "2022-04-06T13:43:59.353Z"
   },
   {
    "duration": 0,
    "start_time": "2022-04-06T13:43:59.355Z"
   },
   {
    "duration": 0,
    "start_time": "2022-04-06T13:43:59.356Z"
   },
   {
    "duration": 0,
    "start_time": "2022-04-06T13:43:59.357Z"
   },
   {
    "duration": 0,
    "start_time": "2022-04-06T13:43:59.359Z"
   },
   {
    "duration": 0,
    "start_time": "2022-04-06T13:43:59.362Z"
   },
   {
    "duration": 0,
    "start_time": "2022-04-06T13:43:59.363Z"
   },
   {
    "duration": 0,
    "start_time": "2022-04-06T13:43:59.365Z"
   },
   {
    "duration": 0,
    "start_time": "2022-04-06T13:43:59.366Z"
   },
   {
    "duration": 0,
    "start_time": "2022-04-06T13:43:59.368Z"
   },
   {
    "duration": 0,
    "start_time": "2022-04-06T13:43:59.369Z"
   },
   {
    "duration": 0,
    "start_time": "2022-04-06T13:43:59.371Z"
   },
   {
    "duration": 0,
    "start_time": "2022-04-06T13:43:59.372Z"
   },
   {
    "duration": 0,
    "start_time": "2022-04-06T13:43:59.373Z"
   },
   {
    "duration": 0,
    "start_time": "2022-04-06T13:43:59.375Z"
   },
   {
    "duration": 0,
    "start_time": "2022-04-06T13:43:59.376Z"
   },
   {
    "duration": 0,
    "start_time": "2022-04-06T13:43:59.378Z"
   },
   {
    "duration": 0,
    "start_time": "2022-04-06T13:43:59.379Z"
   },
   {
    "duration": 0,
    "start_time": "2022-04-06T13:43:59.380Z"
   },
   {
    "duration": 0,
    "start_time": "2022-04-06T13:43:59.382Z"
   },
   {
    "duration": 0,
    "start_time": "2022-04-06T13:43:59.383Z"
   },
   {
    "duration": 0,
    "start_time": "2022-04-06T13:43:59.386Z"
   },
   {
    "duration": 0,
    "start_time": "2022-04-06T13:43:59.387Z"
   },
   {
    "duration": 0,
    "start_time": "2022-04-06T13:43:59.389Z"
   },
   {
    "duration": 0,
    "start_time": "2022-04-06T13:43:59.390Z"
   },
   {
    "duration": 0,
    "start_time": "2022-04-06T13:43:59.391Z"
   },
   {
    "duration": 1740,
    "start_time": "2022-04-06T13:45:31.722Z"
   },
   {
    "duration": 3613,
    "start_time": "2022-04-06T13:45:33.465Z"
   },
   {
    "duration": 15,
    "start_time": "2022-04-06T13:45:37.081Z"
   },
   {
    "duration": 42,
    "start_time": "2022-04-06T13:45:37.099Z"
   },
   {
    "duration": 44,
    "start_time": "2022-04-06T13:45:37.143Z"
   },
   {
    "duration": 5,
    "start_time": "2022-04-06T13:45:37.189Z"
   },
   {
    "duration": 7,
    "start_time": "2022-04-06T13:45:37.196Z"
   },
   {
    "duration": 3,
    "start_time": "2022-04-06T13:45:37.205Z"
   },
   {
    "duration": 4,
    "start_time": "2022-04-06T13:45:37.210Z"
   },
   {
    "duration": 9,
    "start_time": "2022-04-06T13:45:37.218Z"
   },
   {
    "duration": 195088,
    "start_time": "2022-04-06T13:45:37.234Z"
   },
   {
    "duration": 22,
    "start_time": "2022-04-06T13:48:52.324Z"
   },
   {
    "duration": 11,
    "start_time": "2022-04-06T13:48:52.348Z"
   },
   {
    "duration": 7,
    "start_time": "2022-04-06T13:48:52.361Z"
   },
   {
    "duration": 1975,
    "start_time": "2022-04-06T13:48:52.370Z"
   },
   {
    "duration": 0,
    "start_time": "2022-04-06T13:48:54.348Z"
   },
   {
    "duration": 0,
    "start_time": "2022-04-06T13:48:54.350Z"
   },
   {
    "duration": 0,
    "start_time": "2022-04-06T13:48:54.351Z"
   },
   {
    "duration": 0,
    "start_time": "2022-04-06T13:48:54.352Z"
   },
   {
    "duration": 0,
    "start_time": "2022-04-06T13:48:54.353Z"
   },
   {
    "duration": 0,
    "start_time": "2022-04-06T13:48:54.354Z"
   },
   {
    "duration": 0,
    "start_time": "2022-04-06T13:48:54.355Z"
   },
   {
    "duration": 0,
    "start_time": "2022-04-06T13:48:54.356Z"
   },
   {
    "duration": 0,
    "start_time": "2022-04-06T13:48:54.357Z"
   },
   {
    "duration": 0,
    "start_time": "2022-04-06T13:48:54.358Z"
   },
   {
    "duration": 0,
    "start_time": "2022-04-06T13:48:54.360Z"
   },
   {
    "duration": 0,
    "start_time": "2022-04-06T13:48:54.361Z"
   },
   {
    "duration": 0,
    "start_time": "2022-04-06T13:48:54.363Z"
   },
   {
    "duration": 0,
    "start_time": "2022-04-06T13:48:54.364Z"
   },
   {
    "duration": 0,
    "start_time": "2022-04-06T13:48:54.365Z"
   },
   {
    "duration": 0,
    "start_time": "2022-04-06T13:48:54.366Z"
   },
   {
    "duration": 0,
    "start_time": "2022-04-06T13:48:54.367Z"
   },
   {
    "duration": 0,
    "start_time": "2022-04-06T13:48:54.368Z"
   },
   {
    "duration": 0,
    "start_time": "2022-04-06T13:48:54.369Z"
   },
   {
    "duration": 0,
    "start_time": "2022-04-06T13:48:54.370Z"
   },
   {
    "duration": 0,
    "start_time": "2022-04-06T13:48:54.371Z"
   },
   {
    "duration": 0,
    "start_time": "2022-04-06T13:48:54.372Z"
   },
   {
    "duration": 0,
    "start_time": "2022-04-06T13:48:54.373Z"
   },
   {
    "duration": 0,
    "start_time": "2022-04-06T13:48:54.374Z"
   },
   {
    "duration": 0,
    "start_time": "2022-04-06T13:48:54.375Z"
   },
   {
    "duration": 0,
    "start_time": "2022-04-06T13:48:54.376Z"
   },
   {
    "duration": 4,
    "start_time": "2022-04-06T13:49:53.756Z"
   },
   {
    "duration": 4,
    "start_time": "2022-04-06T13:50:27.799Z"
   },
   {
    "duration": 278039,
    "start_time": "2022-04-06T13:50:29.365Z"
   },
   {
    "duration": 31,
    "start_time": "2022-04-06T13:55:07.406Z"
   },
   {
    "duration": 3,
    "start_time": "2022-04-06T13:56:24.716Z"
   },
   {
    "duration": 3923,
    "start_time": "2022-04-06T13:56:24.867Z"
   },
   {
    "duration": 15,
    "start_time": "2022-04-06T13:56:28.793Z"
   },
   {
    "duration": 4,
    "start_time": "2022-04-06T13:56:52.691Z"
   },
   {
    "duration": 3866,
    "start_time": "2022-04-06T13:56:53.069Z"
   },
   {
    "duration": 15,
    "start_time": "2022-04-06T13:56:56.936Z"
   },
   {
    "duration": 4,
    "start_time": "2022-04-06T13:57:18.242Z"
   },
   {
    "duration": 4,
    "start_time": "2022-04-06T13:57:22.847Z"
   },
   {
    "duration": 4130,
    "start_time": "2022-04-06T13:57:23.049Z"
   },
   {
    "duration": 16,
    "start_time": "2022-04-06T13:57:27.180Z"
   },
   {
    "duration": 3,
    "start_time": "2022-04-06T14:00:06.406Z"
   },
   {
    "duration": 3978,
    "start_time": "2022-04-06T14:00:09.832Z"
   },
   {
    "duration": 26,
    "start_time": "2022-04-06T14:00:13.812Z"
   },
   {
    "duration": 1561,
    "start_time": "2022-04-06T14:01:41.372Z"
   },
   {
    "duration": 3849,
    "start_time": "2022-04-06T14:01:42.935Z"
   },
   {
    "duration": 10,
    "start_time": "2022-04-06T14:01:46.786Z"
   },
   {
    "duration": 36,
    "start_time": "2022-04-06T14:01:46.798Z"
   },
   {
    "duration": 32,
    "start_time": "2022-04-06T14:01:46.837Z"
   },
   {
    "duration": 4,
    "start_time": "2022-04-06T14:01:46.871Z"
   },
   {
    "duration": 5,
    "start_time": "2022-04-06T14:01:46.876Z"
   },
   {
    "duration": 5,
    "start_time": "2022-04-06T14:01:46.882Z"
   },
   {
    "duration": 9,
    "start_time": "2022-04-06T14:01:46.889Z"
   },
   {
    "duration": 3,
    "start_time": "2022-04-06T14:01:46.900Z"
   },
   {
    "duration": 5264,
    "start_time": "2022-04-06T14:01:46.904Z"
   },
   {
    "duration": 7,
    "start_time": "2022-04-06T14:01:52.170Z"
   },
   {
    "duration": 176,
    "start_time": "2022-04-06T14:01:52.179Z"
   },
   {
    "duration": 8,
    "start_time": "2022-04-06T14:01:52.359Z"
   },
   {
    "duration": 35,
    "start_time": "2022-04-06T14:01:52.369Z"
   },
   {
    "duration": 29,
    "start_time": "2022-04-06T14:01:52.406Z"
   },
   {
    "duration": 4,
    "start_time": "2022-04-06T14:01:52.437Z"
   },
   {
    "duration": 5380,
    "start_time": "2022-04-06T14:01:52.443Z"
   },
   {
    "duration": 6834,
    "start_time": "2022-04-06T14:01:57.825Z"
   },
   {
    "duration": 3,
    "start_time": "2022-04-06T14:02:04.661Z"
   },
   {
    "duration": 31248,
    "start_time": "2022-04-06T14:02:04.666Z"
   },
   {
    "duration": 0,
    "start_time": "2022-04-06T14:02:35.916Z"
   },
   {
    "duration": 0,
    "start_time": "2022-04-06T14:02:35.918Z"
   },
   {
    "duration": 0,
    "start_time": "2022-04-06T14:02:35.919Z"
   },
   {
    "duration": 1,
    "start_time": "2022-04-06T14:02:35.920Z"
   },
   {
    "duration": 0,
    "start_time": "2022-04-06T14:02:35.933Z"
   },
   {
    "duration": 0,
    "start_time": "2022-04-06T14:02:35.934Z"
   },
   {
    "duration": 0,
    "start_time": "2022-04-06T14:02:35.936Z"
   },
   {
    "duration": 0,
    "start_time": "2022-04-06T14:02:35.937Z"
   },
   {
    "duration": 0,
    "start_time": "2022-04-06T14:02:35.939Z"
   },
   {
    "duration": 0,
    "start_time": "2022-04-06T14:02:35.940Z"
   },
   {
    "duration": 0,
    "start_time": "2022-04-06T14:02:35.942Z"
   },
   {
    "duration": 26,
    "start_time": "2022-04-06T14:02:52.846Z"
   },
   {
    "duration": 11,
    "start_time": "2022-04-06T14:04:00.852Z"
   },
   {
    "duration": 11,
    "start_time": "2022-04-06T14:04:16.870Z"
   },
   {
    "duration": 4,
    "start_time": "2022-04-06T14:04:25.170Z"
   },
   {
    "duration": 4,
    "start_time": "2022-04-06T14:04:28.309Z"
   },
   {
    "duration": 11,
    "start_time": "2022-04-06T14:04:35.976Z"
   },
   {
    "duration": 1695,
    "start_time": "2022-04-06T14:07:27.708Z"
   },
   {
    "duration": 3807,
    "start_time": "2022-04-06T14:07:29.405Z"
   },
   {
    "duration": 27,
    "start_time": "2022-04-06T14:07:33.215Z"
   },
   {
    "duration": 32,
    "start_time": "2022-04-06T14:07:33.244Z"
   },
   {
    "duration": 32,
    "start_time": "2022-04-06T14:07:33.278Z"
   },
   {
    "duration": 27,
    "start_time": "2022-04-06T14:07:33.312Z"
   },
   {
    "duration": 14,
    "start_time": "2022-04-06T14:07:33.341Z"
   },
   {
    "duration": 8,
    "start_time": "2022-04-06T14:07:33.357Z"
   },
   {
    "duration": 11,
    "start_time": "2022-04-06T14:07:33.366Z"
   },
   {
    "duration": 4,
    "start_time": "2022-04-06T14:07:33.381Z"
   },
   {
    "duration": 6462,
    "start_time": "2022-04-06T14:07:33.387Z"
   },
   {
    "duration": 33,
    "start_time": "2022-04-06T14:07:39.851Z"
   },
   {
    "duration": 194,
    "start_time": "2022-04-06T14:07:39.885Z"
   },
   {
    "duration": 8,
    "start_time": "2022-04-06T14:07:40.081Z"
   },
   {
    "duration": 57,
    "start_time": "2022-04-06T14:07:40.091Z"
   },
   {
    "duration": 3,
    "start_time": "2022-04-06T14:07:40.152Z"
   },
   {
    "duration": 7,
    "start_time": "2022-04-06T14:07:40.157Z"
   },
   {
    "duration": 6231,
    "start_time": "2022-04-06T14:07:40.166Z"
   },
   {
    "duration": 137,
    "start_time": "2022-04-06T14:07:46.399Z"
   },
   {
    "duration": 0,
    "start_time": "2022-04-06T14:07:46.539Z"
   },
   {
    "duration": 0,
    "start_time": "2022-04-06T14:07:46.540Z"
   },
   {
    "duration": 0,
    "start_time": "2022-04-06T14:07:46.541Z"
   },
   {
    "duration": 0,
    "start_time": "2022-04-06T14:07:46.544Z"
   },
   {
    "duration": 0,
    "start_time": "2022-04-06T14:07:46.546Z"
   },
   {
    "duration": 0,
    "start_time": "2022-04-06T14:07:46.548Z"
   },
   {
    "duration": 0,
    "start_time": "2022-04-06T14:07:46.549Z"
   },
   {
    "duration": 0,
    "start_time": "2022-04-06T14:07:46.551Z"
   },
   {
    "duration": 0,
    "start_time": "2022-04-06T14:07:46.553Z"
   },
   {
    "duration": 0,
    "start_time": "2022-04-06T14:07:46.554Z"
   },
   {
    "duration": 1,
    "start_time": "2022-04-06T14:07:46.555Z"
   },
   {
    "duration": 0,
    "start_time": "2022-04-06T14:07:46.559Z"
   },
   {
    "duration": 0,
    "start_time": "2022-04-06T14:07:46.560Z"
   },
   {
    "duration": 1633,
    "start_time": "2022-04-06T14:08:03.757Z"
   },
   {
    "duration": 2397,
    "start_time": "2022-04-06T14:08:05.392Z"
   },
   {
    "duration": 15,
    "start_time": "2022-04-06T14:08:07.792Z"
   },
   {
    "duration": 40,
    "start_time": "2022-04-06T14:08:07.812Z"
   },
   {
    "duration": 44,
    "start_time": "2022-04-06T14:08:07.855Z"
   },
   {
    "duration": 6,
    "start_time": "2022-04-06T14:08:07.901Z"
   },
   {
    "duration": 7,
    "start_time": "2022-04-06T14:08:07.909Z"
   },
   {
    "duration": 8,
    "start_time": "2022-04-06T14:08:07.917Z"
   },
   {
    "duration": 22,
    "start_time": "2022-04-06T14:08:07.935Z"
   },
   {
    "duration": 3,
    "start_time": "2022-04-06T14:08:07.959Z"
   },
   {
    "duration": 6091,
    "start_time": "2022-04-06T14:08:07.964Z"
   },
   {
    "duration": 34,
    "start_time": "2022-04-06T14:08:14.056Z"
   },
   {
    "duration": 261,
    "start_time": "2022-04-06T14:08:14.092Z"
   },
   {
    "duration": 11,
    "start_time": "2022-04-06T14:08:14.357Z"
   },
   {
    "duration": 84,
    "start_time": "2022-04-06T14:08:14.370Z"
   },
   {
    "duration": 4,
    "start_time": "2022-04-06T14:08:14.456Z"
   },
   {
    "duration": 8,
    "start_time": "2022-04-06T14:08:14.462Z"
   },
   {
    "duration": 6014,
    "start_time": "2022-04-06T14:08:14.473Z"
   },
   {
    "duration": 140,
    "start_time": "2022-04-06T14:08:20.490Z"
   },
   {
    "duration": 0,
    "start_time": "2022-04-06T14:08:20.633Z"
   },
   {
    "duration": 0,
    "start_time": "2022-04-06T14:08:20.634Z"
   },
   {
    "duration": 0,
    "start_time": "2022-04-06T14:08:20.635Z"
   },
   {
    "duration": 0,
    "start_time": "2022-04-06T14:08:20.636Z"
   },
   {
    "duration": 1,
    "start_time": "2022-04-06T14:08:20.637Z"
   },
   {
    "duration": 0,
    "start_time": "2022-04-06T14:08:20.639Z"
   },
   {
    "duration": 0,
    "start_time": "2022-04-06T14:08:20.640Z"
   },
   {
    "duration": 0,
    "start_time": "2022-04-06T14:08:20.642Z"
   },
   {
    "duration": 0,
    "start_time": "2022-04-06T14:08:20.643Z"
   },
   {
    "duration": 0,
    "start_time": "2022-04-06T14:08:20.643Z"
   },
   {
    "duration": 0,
    "start_time": "2022-04-06T14:08:20.644Z"
   },
   {
    "duration": 0,
    "start_time": "2022-04-06T14:08:20.645Z"
   },
   {
    "duration": 0,
    "start_time": "2022-04-06T14:08:20.647Z"
   },
   {
    "duration": 8,
    "start_time": "2022-04-06T14:08:39.833Z"
   },
   {
    "duration": 1890,
    "start_time": "2022-04-06T14:08:50.435Z"
   },
   {
    "duration": 2060,
    "start_time": "2022-04-06T14:09:05.172Z"
   },
   {
    "duration": 5,
    "start_time": "2022-04-06T14:09:11.284Z"
   },
   {
    "duration": 5,
    "start_time": "2022-04-06T14:09:16.349Z"
   },
   {
    "duration": 6,
    "start_time": "2022-04-06T14:09:23.389Z"
   },
   {
    "duration": 18,
    "start_time": "2022-04-06T14:09:27.742Z"
   },
   {
    "duration": 1623,
    "start_time": "2022-04-06T14:13:22.173Z"
   },
   {
    "duration": 4772,
    "start_time": "2022-04-06T14:13:23.799Z"
   },
   {
    "duration": 12,
    "start_time": "2022-04-06T14:13:28.573Z"
   },
   {
    "duration": 21,
    "start_time": "2022-04-06T14:13:28.588Z"
   },
   {
    "duration": 55,
    "start_time": "2022-04-06T14:13:28.611Z"
   },
   {
    "duration": 3,
    "start_time": "2022-04-06T14:13:28.668Z"
   },
   {
    "duration": 5,
    "start_time": "2022-04-06T14:13:28.673Z"
   },
   {
    "duration": 8,
    "start_time": "2022-04-06T14:13:28.680Z"
   },
   {
    "duration": 3,
    "start_time": "2022-04-06T14:13:28.690Z"
   },
   {
    "duration": 3,
    "start_time": "2022-04-06T14:13:28.696Z"
   },
   {
    "duration": 36,
    "start_time": "2022-04-06T14:13:28.701Z"
   },
   {
    "duration": 2278,
    "start_time": "2022-04-06T14:13:28.739Z"
   },
   {
    "duration": 0,
    "start_time": "2022-04-06T14:13:31.020Z"
   },
   {
    "duration": 0,
    "start_time": "2022-04-06T14:13:31.021Z"
   },
   {
    "duration": 0,
    "start_time": "2022-04-06T14:13:31.022Z"
   },
   {
    "duration": 0,
    "start_time": "2022-04-06T14:13:31.023Z"
   },
   {
    "duration": 0,
    "start_time": "2022-04-06T14:13:31.024Z"
   },
   {
    "duration": 0,
    "start_time": "2022-04-06T14:13:31.026Z"
   },
   {
    "duration": 0,
    "start_time": "2022-04-06T14:13:31.027Z"
   },
   {
    "duration": 0,
    "start_time": "2022-04-06T14:13:31.028Z"
   },
   {
    "duration": 0,
    "start_time": "2022-04-06T14:13:31.029Z"
   },
   {
    "duration": 0,
    "start_time": "2022-04-06T14:13:31.030Z"
   },
   {
    "duration": 0,
    "start_time": "2022-04-06T14:13:31.031Z"
   },
   {
    "duration": 0,
    "start_time": "2022-04-06T14:13:31.035Z"
   },
   {
    "duration": 0,
    "start_time": "2022-04-06T14:13:31.036Z"
   },
   {
    "duration": 0,
    "start_time": "2022-04-06T14:13:31.037Z"
   },
   {
    "duration": 0,
    "start_time": "2022-04-06T14:13:31.038Z"
   },
   {
    "duration": 0,
    "start_time": "2022-04-06T14:13:31.039Z"
   },
   {
    "duration": 0,
    "start_time": "2022-04-06T14:13:31.040Z"
   },
   {
    "duration": 0,
    "start_time": "2022-04-06T14:13:31.042Z"
   },
   {
    "duration": 0,
    "start_time": "2022-04-06T14:13:31.042Z"
   },
   {
    "duration": 0,
    "start_time": "2022-04-06T14:13:31.044Z"
   },
   {
    "duration": 0,
    "start_time": "2022-04-06T14:13:31.044Z"
   },
   {
    "duration": 0,
    "start_time": "2022-04-06T14:13:31.045Z"
   },
   {
    "duration": 0,
    "start_time": "2022-04-06T14:13:31.046Z"
   },
   {
    "duration": 0,
    "start_time": "2022-04-06T14:13:31.046Z"
   },
   {
    "duration": 0,
    "start_time": "2022-04-06T14:13:31.047Z"
   },
   {
    "duration": 0,
    "start_time": "2022-04-06T14:13:31.048Z"
   },
   {
    "duration": 0,
    "start_time": "2022-04-06T14:13:31.048Z"
   },
   {
    "duration": 36331,
    "start_time": "2022-04-06T14:13:50.130Z"
   },
   {
    "duration": 14,
    "start_time": "2022-04-06T14:14:49.414Z"
   },
   {
    "duration": 3,
    "start_time": "2022-04-06T14:15:15.122Z"
   },
   {
    "duration": 14,
    "start_time": "2022-04-06T14:15:17.675Z"
   },
   {
    "duration": 22555,
    "start_time": "2022-04-06T14:22:34.444Z"
   },
   {
    "duration": 1668,
    "start_time": "2022-04-06T14:26:35.885Z"
   },
   {
    "duration": 3,
    "start_time": "2022-04-06T14:26:37.555Z"
   },
   {
    "duration": 5297,
    "start_time": "2022-04-06T14:26:37.561Z"
   },
   {
    "duration": 15,
    "start_time": "2022-04-06T14:26:42.861Z"
   },
   {
    "duration": 29,
    "start_time": "2022-04-06T14:26:42.878Z"
   },
   {
    "duration": 56,
    "start_time": "2022-04-06T14:26:42.909Z"
   },
   {
    "duration": 256,
    "start_time": "2022-04-06T14:26:42.967Z"
   },
   {
    "duration": 10,
    "start_time": "2022-04-06T14:26:43.225Z"
   },
   {
    "duration": 16,
    "start_time": "2022-04-06T14:26:43.237Z"
   },
   {
    "duration": 6,
    "start_time": "2022-04-06T14:26:43.257Z"
   },
   {
    "duration": 5,
    "start_time": "2022-04-06T14:26:43.265Z"
   },
   {
    "duration": 5,
    "start_time": "2022-04-06T14:26:43.272Z"
   },
   {
    "duration": 12,
    "start_time": "2022-04-06T14:26:43.279Z"
   },
   {
    "duration": 29674,
    "start_time": "2022-04-06T14:26:43.293Z"
   },
   {
    "duration": 184,
    "start_time": "2022-04-06T14:27:12.969Z"
   },
   {
    "duration": 0,
    "start_time": "2022-04-06T14:27:13.155Z"
   },
   {
    "duration": 0,
    "start_time": "2022-04-06T14:27:13.157Z"
   },
   {
    "duration": 0,
    "start_time": "2022-04-06T14:27:13.158Z"
   },
   {
    "duration": 0,
    "start_time": "2022-04-06T14:27:13.159Z"
   },
   {
    "duration": 0,
    "start_time": "2022-04-06T14:27:13.160Z"
   },
   {
    "duration": 0,
    "start_time": "2022-04-06T14:27:13.161Z"
   },
   {
    "duration": 0,
    "start_time": "2022-04-06T14:27:13.162Z"
   },
   {
    "duration": 0,
    "start_time": "2022-04-06T14:27:13.163Z"
   },
   {
    "duration": 0,
    "start_time": "2022-04-06T14:27:13.164Z"
   },
   {
    "duration": 0,
    "start_time": "2022-04-06T14:27:13.165Z"
   },
   {
    "duration": 0,
    "start_time": "2022-04-06T14:27:13.166Z"
   },
   {
    "duration": 0,
    "start_time": "2022-04-06T14:27:13.167Z"
   },
   {
    "duration": 0,
    "start_time": "2022-04-06T14:27:13.168Z"
   },
   {
    "duration": 0,
    "start_time": "2022-04-06T14:27:13.169Z"
   },
   {
    "duration": 0,
    "start_time": "2022-04-06T14:27:13.170Z"
   },
   {
    "duration": 0,
    "start_time": "2022-04-06T14:27:13.171Z"
   },
   {
    "duration": 0,
    "start_time": "2022-04-06T14:27:13.172Z"
   },
   {
    "duration": 0,
    "start_time": "2022-04-06T14:27:13.173Z"
   },
   {
    "duration": 0,
    "start_time": "2022-04-06T14:27:13.182Z"
   },
   {
    "duration": 0,
    "start_time": "2022-04-06T14:27:13.184Z"
   },
   {
    "duration": 0,
    "start_time": "2022-04-06T14:27:13.185Z"
   },
   {
    "duration": 50,
    "start_time": "2022-04-06T14:27:26.446Z"
   },
   {
    "duration": 55,
    "start_time": "2022-04-06T14:27:33.721Z"
   },
   {
    "duration": 11,
    "start_time": "2022-04-06T14:27:33.946Z"
   },
   {
    "duration": 7370,
    "start_time": "2022-04-06T14:27:47.389Z"
   },
   {
    "duration": 5,
    "start_time": "2022-04-06T14:27:58.701Z"
   },
   {
    "duration": 5,
    "start_time": "2022-04-06T14:28:04.279Z"
   },
   {
    "duration": 1776,
    "start_time": "2022-04-06T14:30:34.696Z"
   },
   {
    "duration": 3,
    "start_time": "2022-04-06T14:30:36.474Z"
   },
   {
    "duration": 7165,
    "start_time": "2022-04-06T14:30:36.479Z"
   },
   {
    "duration": 12,
    "start_time": "2022-04-06T14:30:43.647Z"
   },
   {
    "duration": 21,
    "start_time": "2022-04-06T14:30:43.660Z"
   },
   {
    "duration": 56,
    "start_time": "2022-04-06T14:30:43.683Z"
   },
   {
    "duration": 299,
    "start_time": "2022-04-06T14:30:43.742Z"
   },
   {
    "duration": 4,
    "start_time": "2022-04-06T14:30:44.043Z"
   },
   {
    "duration": 13,
    "start_time": "2022-04-06T14:30:44.048Z"
   },
   {
    "duration": 6,
    "start_time": "2022-04-06T14:30:44.065Z"
   },
   {
    "duration": 5,
    "start_time": "2022-04-06T14:30:44.073Z"
   },
   {
    "duration": 6,
    "start_time": "2022-04-06T14:30:44.080Z"
   },
   {
    "duration": 12,
    "start_time": "2022-04-06T14:30:44.087Z"
   },
   {
    "duration": 27871,
    "start_time": "2022-04-06T14:30:44.102Z"
   },
   {
    "duration": 63,
    "start_time": "2022-04-06T14:31:11.975Z"
   },
   {
    "duration": 6834,
    "start_time": "2022-04-06T14:31:12.039Z"
   },
   {
    "duration": 134,
    "start_time": "2022-04-06T14:31:18.875Z"
   },
   {
    "duration": 0,
    "start_time": "2022-04-06T14:31:19.011Z"
   },
   {
    "duration": 0,
    "start_time": "2022-04-06T14:31:19.012Z"
   },
   {
    "duration": 0,
    "start_time": "2022-04-06T14:31:19.013Z"
   },
   {
    "duration": 0,
    "start_time": "2022-04-06T14:31:19.014Z"
   },
   {
    "duration": 0,
    "start_time": "2022-04-06T14:31:19.015Z"
   },
   {
    "duration": 0,
    "start_time": "2022-04-06T14:31:19.016Z"
   },
   {
    "duration": 0,
    "start_time": "2022-04-06T14:31:19.017Z"
   },
   {
    "duration": 0,
    "start_time": "2022-04-06T14:31:19.018Z"
   },
   {
    "duration": 0,
    "start_time": "2022-04-06T14:31:19.034Z"
   },
   {
    "duration": 0,
    "start_time": "2022-04-06T14:31:19.035Z"
   },
   {
    "duration": 0,
    "start_time": "2022-04-06T14:31:19.037Z"
   },
   {
    "duration": 0,
    "start_time": "2022-04-06T14:31:19.038Z"
   },
   {
    "duration": 1492,
    "start_time": "2022-04-06T14:42:26.284Z"
   },
   {
    "duration": 3,
    "start_time": "2022-04-06T14:42:27.778Z"
   },
   {
    "duration": 3602,
    "start_time": "2022-04-06T14:42:27.783Z"
   },
   {
    "duration": 10,
    "start_time": "2022-04-06T14:42:31.388Z"
   },
   {
    "duration": 37,
    "start_time": "2022-04-06T14:42:31.400Z"
   },
   {
    "duration": 32,
    "start_time": "2022-04-06T14:42:31.439Z"
   },
   {
    "duration": 249,
    "start_time": "2022-04-06T14:42:31.472Z"
   },
   {
    "duration": 9,
    "start_time": "2022-04-06T14:42:31.723Z"
   },
   {
    "duration": 5,
    "start_time": "2022-04-06T14:42:31.734Z"
   },
   {
    "duration": 5,
    "start_time": "2022-04-06T14:42:31.742Z"
   },
   {
    "duration": 9,
    "start_time": "2022-04-06T14:42:31.748Z"
   },
   {
    "duration": 8,
    "start_time": "2022-04-06T14:42:31.758Z"
   },
   {
    "duration": 11,
    "start_time": "2022-04-06T14:42:31.767Z"
   },
   {
    "duration": 22193,
    "start_time": "2022-04-06T14:42:31.779Z"
   },
   {
    "duration": 44,
    "start_time": "2022-04-06T14:42:53.974Z"
   },
   {
    "duration": 6366,
    "start_time": "2022-04-06T14:42:54.034Z"
   },
   {
    "duration": 131,
    "start_time": "2022-04-06T14:43:00.402Z"
   },
   {
    "duration": 0,
    "start_time": "2022-04-06T14:43:00.534Z"
   },
   {
    "duration": 0,
    "start_time": "2022-04-06T14:43:00.536Z"
   },
   {
    "duration": 0,
    "start_time": "2022-04-06T14:43:00.537Z"
   },
   {
    "duration": 0,
    "start_time": "2022-04-06T14:43:00.538Z"
   },
   {
    "duration": 0,
    "start_time": "2022-04-06T14:43:00.538Z"
   },
   {
    "duration": 0,
    "start_time": "2022-04-06T14:43:00.539Z"
   },
   {
    "duration": 0,
    "start_time": "2022-04-06T14:43:00.540Z"
   },
   {
    "duration": 0,
    "start_time": "2022-04-06T14:43:00.541Z"
   },
   {
    "duration": 0,
    "start_time": "2022-04-06T14:43:00.542Z"
   },
   {
    "duration": 0,
    "start_time": "2022-04-06T14:43:00.543Z"
   },
   {
    "duration": 0,
    "start_time": "2022-04-06T14:43:00.543Z"
   },
   {
    "duration": 0,
    "start_time": "2022-04-06T14:43:00.544Z"
   },
   {
    "duration": 1490,
    "start_time": "2022-04-06T14:46:32.477Z"
   },
   {
    "duration": 3,
    "start_time": "2022-04-06T14:46:33.969Z"
   },
   {
    "duration": 1809,
    "start_time": "2022-04-06T14:46:33.974Z"
   },
   {
    "duration": 11,
    "start_time": "2022-04-06T14:46:35.786Z"
   },
   {
    "duration": 35,
    "start_time": "2022-04-06T14:46:35.798Z"
   },
   {
    "duration": 31,
    "start_time": "2022-04-06T14:46:35.835Z"
   },
   {
    "duration": 249,
    "start_time": "2022-04-06T14:46:35.867Z"
   },
   {
    "duration": 3,
    "start_time": "2022-04-06T14:46:36.117Z"
   },
   {
    "duration": 14,
    "start_time": "2022-04-06T14:46:36.121Z"
   },
   {
    "duration": 4,
    "start_time": "2022-04-06T14:46:36.138Z"
   },
   {
    "duration": 23662,
    "start_time": "2022-04-06T14:46:36.144Z"
   },
   {
    "duration": 55,
    "start_time": "2022-04-06T14:46:59.808Z"
   },
   {
    "duration": 6214,
    "start_time": "2022-04-06T14:46:59.865Z"
   },
   {
    "duration": 127,
    "start_time": "2022-04-06T14:47:06.081Z"
   },
   {
    "duration": 0,
    "start_time": "2022-04-06T14:47:06.210Z"
   },
   {
    "duration": 0,
    "start_time": "2022-04-06T14:47:06.211Z"
   },
   {
    "duration": 0,
    "start_time": "2022-04-06T14:47:06.213Z"
   },
   {
    "duration": 0,
    "start_time": "2022-04-06T14:47:06.214Z"
   },
   {
    "duration": 0,
    "start_time": "2022-04-06T14:47:06.216Z"
   },
   {
    "duration": 0,
    "start_time": "2022-04-06T14:47:06.217Z"
   },
   {
    "duration": 0,
    "start_time": "2022-04-06T14:47:06.232Z"
   },
   {
    "duration": 0,
    "start_time": "2022-04-06T14:47:06.234Z"
   },
   {
    "duration": 0,
    "start_time": "2022-04-06T14:47:06.235Z"
   },
   {
    "duration": 0,
    "start_time": "2022-04-06T14:47:06.236Z"
   },
   {
    "duration": 0,
    "start_time": "2022-04-06T14:47:06.238Z"
   },
   {
    "duration": 0,
    "start_time": "2022-04-06T14:47:06.239Z"
   },
   {
    "duration": 1496,
    "start_time": "2022-04-06T14:49:43.580Z"
   },
   {
    "duration": 3,
    "start_time": "2022-04-06T14:49:45.078Z"
   },
   {
    "duration": 5016,
    "start_time": "2022-04-06T14:49:45.082Z"
   },
   {
    "duration": 10,
    "start_time": "2022-04-06T14:49:50.100Z"
   },
   {
    "duration": 33,
    "start_time": "2022-04-06T14:49:50.112Z"
   },
   {
    "duration": 32,
    "start_time": "2022-04-06T14:49:50.147Z"
   },
   {
    "duration": 261,
    "start_time": "2022-04-06T14:49:50.181Z"
   },
   {
    "duration": 3,
    "start_time": "2022-04-06T14:49:50.444Z"
   },
   {
    "duration": 7,
    "start_time": "2022-04-06T14:49:50.449Z"
   },
   {
    "duration": 7,
    "start_time": "2022-04-06T14:49:50.459Z"
   },
   {
    "duration": 35760,
    "start_time": "2022-04-06T14:49:50.467Z"
   },
   {
    "duration": 47,
    "start_time": "2022-04-06T14:50:26.232Z"
   },
   {
    "duration": 1311,
    "start_time": "2022-04-06T14:50:26.280Z"
   },
   {
    "duration": 0,
    "start_time": "2022-04-06T14:50:27.593Z"
   },
   {
    "duration": 0,
    "start_time": "2022-04-06T14:50:27.594Z"
   },
   {
    "duration": 0,
    "start_time": "2022-04-06T14:50:27.595Z"
   },
   {
    "duration": 0,
    "start_time": "2022-04-06T14:50:27.596Z"
   },
   {
    "duration": 0,
    "start_time": "2022-04-06T14:50:27.597Z"
   },
   {
    "duration": 0,
    "start_time": "2022-04-06T14:50:27.598Z"
   },
   {
    "duration": 0,
    "start_time": "2022-04-06T14:50:27.600Z"
   },
   {
    "duration": 0,
    "start_time": "2022-04-06T14:50:27.601Z"
   },
   {
    "duration": 0,
    "start_time": "2022-04-06T14:50:27.603Z"
   },
   {
    "duration": 0,
    "start_time": "2022-04-06T14:50:27.604Z"
   },
   {
    "duration": 0,
    "start_time": "2022-04-06T14:50:27.605Z"
   },
   {
    "duration": 0,
    "start_time": "2022-04-06T14:50:27.607Z"
   },
   {
    "duration": 0,
    "start_time": "2022-04-06T14:50:27.633Z"
   },
   {
    "duration": 4,
    "start_time": "2022-04-06T14:50:49.314Z"
   },
   {
    "duration": 5952,
    "start_time": "2022-04-06T14:51:01.068Z"
   },
   {
    "duration": 6136,
    "start_time": "2022-04-06T14:51:50.482Z"
   },
   {
    "duration": 7877,
    "start_time": "2022-04-06T14:52:13.784Z"
   },
   {
    "duration": 4,
    "start_time": "2022-04-06T14:52:26.000Z"
   },
   {
    "duration": 4,
    "start_time": "2022-04-06T14:52:48.649Z"
   },
   {
    "duration": 3,
    "start_time": "2022-04-06T14:54:39.669Z"
   },
   {
    "duration": 9750,
    "start_time": "2022-04-06T14:54:40.165Z"
   },
   {
    "duration": 5,
    "start_time": "2022-04-06T14:54:54.789Z"
   },
   {
    "duration": 1845,
    "start_time": "2022-04-06T14:55:32.290Z"
   },
   {
    "duration": 5,
    "start_time": "2022-04-06T14:55:34.140Z"
   },
   {
    "duration": 1736,
    "start_time": "2022-04-06T14:55:34.152Z"
   },
   {
    "duration": 12,
    "start_time": "2022-04-06T14:55:35.890Z"
   },
   {
    "duration": 51,
    "start_time": "2022-04-06T14:55:35.904Z"
   },
   {
    "duration": 34,
    "start_time": "2022-04-06T14:55:35.957Z"
   },
   {
    "duration": 288,
    "start_time": "2022-04-06T14:55:35.993Z"
   },
   {
    "duration": 4,
    "start_time": "2022-04-06T14:55:36.283Z"
   },
   {
    "duration": 4,
    "start_time": "2022-04-06T14:55:36.290Z"
   },
   {
    "duration": 44550,
    "start_time": "2022-04-06T14:55:36.296Z"
   },
   {
    "duration": 47,
    "start_time": "2022-04-06T14:56:20.848Z"
   },
   {
    "duration": 4,
    "start_time": "2022-04-06T14:56:20.897Z"
   },
   {
    "duration": 12759,
    "start_time": "2022-04-06T14:56:20.904Z"
   },
   {
    "duration": 4,
    "start_time": "2022-04-06T14:56:33.666Z"
   },
   {
    "duration": 9,
    "start_time": "2022-04-06T14:56:33.672Z"
   },
   {
    "duration": 111470,
    "start_time": "2022-04-06T14:56:33.683Z"
   },
   {
    "duration": 46391,
    "start_time": "2022-04-06T14:58:25.155Z"
   },
   {
    "duration": 3,
    "start_time": "2022-04-06T14:59:11.549Z"
   },
   {
    "duration": 115598,
    "start_time": "2022-04-06T14:59:11.554Z"
   },
   {
    "duration": 48201,
    "start_time": "2022-04-06T15:01:07.154Z"
   },
   {
    "duration": 255,
    "start_time": "2022-04-06T15:01:55.357Z"
   },
   {
    "duration": 0,
    "start_time": "2022-04-06T15:01:55.615Z"
   },
   {
    "duration": 0,
    "start_time": "2022-04-06T15:01:55.617Z"
   },
   {
    "duration": 0,
    "start_time": "2022-04-06T15:01:55.618Z"
   },
   {
    "duration": 0,
    "start_time": "2022-04-06T15:01:55.619Z"
   },
   {
    "duration": 0,
    "start_time": "2022-04-06T15:01:55.620Z"
   },
   {
    "duration": 8,
    "start_time": "2022-04-06T15:02:27.589Z"
   },
   {
    "duration": 3,
    "start_time": "2022-04-06T15:02:34.154Z"
   },
   {
    "duration": 2755,
    "start_time": "2022-04-06T15:02:34.318Z"
   },
   {
    "duration": 1406,
    "start_time": "2022-04-06T15:02:37.076Z"
   },
   {
    "duration": 4,
    "start_time": "2022-04-06T15:02:38.484Z"
   },
   {
    "duration": 9010,
    "start_time": "2022-04-06T15:02:38.491Z"
   },
   {
    "duration": 4824,
    "start_time": "2022-04-06T15:02:47.503Z"
   },
   {
    "duration": 10,
    "start_time": "2022-04-06T15:10:45.450Z"
   },
   {
    "duration": 29616,
    "start_time": "2022-04-06T15:10:45.638Z"
   },
   {
    "duration": 0,
    "start_time": "2022-04-06T15:11:15.256Z"
   },
   {
    "duration": 27,
    "start_time": "2022-04-06T15:11:16.971Z"
   },
   {
    "duration": 3,
    "start_time": "2022-04-06T15:12:19.800Z"
   },
   {
    "duration": 3,
    "start_time": "2022-04-06T15:12:19.953Z"
   },
   {
    "duration": 1228763,
    "start_time": "2022-04-06T15:12:20.130Z"
   },
   {
    "duration": 3,
    "start_time": "2022-04-06T15:32:48.943Z"
   },
   {
    "duration": 39642,
    "start_time": "2022-04-06T15:32:48.948Z"
   },
   {
    "duration": 11,
    "start_time": "2022-04-06T15:34:45.336Z"
   },
   {
    "duration": 15,
    "start_time": "2022-04-06T15:36:12.539Z"
   },
   {
    "duration": 17552,
    "start_time": "2022-04-06T15:36:23.906Z"
   },
   {
    "duration": 3,
    "start_time": "2022-04-06T15:36:45.789Z"
   },
   {
    "duration": 192460,
    "start_time": "2022-04-06T15:36:51.080Z"
   },
   {
    "duration": 653922,
    "start_time": "2022-04-06T15:40:13.036Z"
   },
   {
    "duration": 108,
    "start_time": "2022-04-06T16:13:17.811Z"
   },
   {
    "duration": 107,
    "start_time": "2022-04-06T16:13:29.418Z"
   },
   {
    "duration": 630987,
    "start_time": "2022-04-06T16:15:22.879Z"
   },
   {
    "duration": 1700,
    "start_time": "2022-04-06T18:58:20.624Z"
   },
   {
    "duration": 8,
    "start_time": "2022-04-06T18:58:22.326Z"
   },
   {
    "duration": 5116,
    "start_time": "2022-04-06T18:58:22.335Z"
   },
   {
    "duration": 11,
    "start_time": "2022-04-06T18:58:27.454Z"
   },
   {
    "duration": 19,
    "start_time": "2022-04-06T18:58:27.467Z"
   },
   {
    "duration": 50,
    "start_time": "2022-04-06T18:58:27.488Z"
   },
   {
    "duration": 255,
    "start_time": "2022-04-06T18:58:27.540Z"
   },
   {
    "duration": 3,
    "start_time": "2022-04-06T18:58:27.797Z"
   },
   {
    "duration": 5,
    "start_time": "2022-04-06T18:58:27.801Z"
   },
   {
    "duration": 36775,
    "start_time": "2022-04-06T18:58:27.809Z"
   },
   {
    "duration": 68,
    "start_time": "2022-04-06T18:59:04.585Z"
   },
   {
    "duration": 4,
    "start_time": "2022-04-06T18:59:04.655Z"
   },
   {
    "duration": 8579,
    "start_time": "2022-04-06T18:59:04.661Z"
   },
   {
    "duration": 4,
    "start_time": "2022-04-06T18:59:13.242Z"
   },
   {
    "duration": 5,
    "start_time": "2022-04-06T18:59:13.248Z"
   },
   {
    "duration": 56608,
    "start_time": "2022-04-06T18:59:13.254Z"
   },
   {
    "duration": 0,
    "start_time": "2022-04-06T19:00:09.864Z"
   },
   {
    "duration": 1,
    "start_time": "2022-04-06T19:00:09.865Z"
   },
   {
    "duration": 0,
    "start_time": "2022-04-06T19:00:09.867Z"
   },
   {
    "duration": 0,
    "start_time": "2022-04-06T19:00:09.868Z"
   },
   {
    "duration": 0,
    "start_time": "2022-04-06T19:00:09.869Z"
   },
   {
    "duration": 0,
    "start_time": "2022-04-06T19:00:09.870Z"
   },
   {
    "duration": 0,
    "start_time": "2022-04-06T19:00:09.871Z"
   },
   {
    "duration": 0,
    "start_time": "2022-04-06T19:00:09.872Z"
   },
   {
    "duration": 0,
    "start_time": "2022-04-06T19:00:09.873Z"
   },
   {
    "duration": 0,
    "start_time": "2022-04-06T19:00:09.875Z"
   },
   {
    "duration": 3,
    "start_time": "2022-04-06T19:02:45.664Z"
   },
   {
    "duration": 74050,
    "start_time": "2022-04-06T19:02:46.216Z"
   },
   {
    "duration": 0,
    "start_time": "2022-04-06T19:04:00.268Z"
   },
   {
    "duration": 106796,
    "start_time": "2022-04-06T19:04:04.943Z"
   },
   {
    "duration": 357183,
    "start_time": "2022-04-06T19:05:51.741Z"
   },
   {
    "duration": 646808,
    "start_time": "2022-04-06T19:14:18.705Z"
   },
   {
    "duration": 1908,
    "start_time": "2022-04-06T19:29:42.334Z"
   },
   {
    "duration": 3,
    "start_time": "2022-04-06T19:29:44.244Z"
   },
   {
    "duration": 6799,
    "start_time": "2022-04-06T19:29:44.248Z"
   },
   {
    "duration": 11,
    "start_time": "2022-04-06T19:29:51.049Z"
   },
   {
    "duration": 21,
    "start_time": "2022-04-06T19:29:51.062Z"
   },
   {
    "duration": 53,
    "start_time": "2022-04-06T19:29:51.084Z"
   },
   {
    "duration": 248,
    "start_time": "2022-04-06T19:29:51.139Z"
   },
   {
    "duration": 4,
    "start_time": "2022-04-06T19:29:51.389Z"
   },
   {
    "duration": 9,
    "start_time": "2022-04-06T19:29:51.394Z"
   },
   {
    "duration": 38614,
    "start_time": "2022-04-06T19:29:51.405Z"
   },
   {
    "duration": 60,
    "start_time": "2022-04-06T19:30:30.021Z"
   },
   {
    "duration": 3,
    "start_time": "2022-04-06T19:30:30.083Z"
   },
   {
    "duration": 1476,
    "start_time": "2022-04-06T19:30:30.088Z"
   },
   {
    "duration": 0,
    "start_time": "2022-04-06T19:30:31.567Z"
   },
   {
    "duration": 0,
    "start_time": "2022-04-06T19:30:31.569Z"
   },
   {
    "duration": 0,
    "start_time": "2022-04-06T19:30:31.570Z"
   },
   {
    "duration": 0,
    "start_time": "2022-04-06T19:30:31.571Z"
   },
   {
    "duration": 0,
    "start_time": "2022-04-06T19:30:31.572Z"
   },
   {
    "duration": 0,
    "start_time": "2022-04-06T19:30:31.573Z"
   },
   {
    "duration": 0,
    "start_time": "2022-04-06T19:30:31.574Z"
   },
   {
    "duration": 0,
    "start_time": "2022-04-06T19:30:31.576Z"
   },
   {
    "duration": 0,
    "start_time": "2022-04-06T19:30:31.576Z"
   },
   {
    "duration": 0,
    "start_time": "2022-04-06T19:30:31.578Z"
   },
   {
    "duration": 0,
    "start_time": "2022-04-06T19:30:31.579Z"
   },
   {
    "duration": 0,
    "start_time": "2022-04-06T19:30:31.579Z"
   },
   {
    "duration": 0,
    "start_time": "2022-04-06T19:30:31.581Z"
   },
   {
    "duration": 0,
    "start_time": "2022-04-06T19:30:31.582Z"
   },
   {
    "duration": 0,
    "start_time": "2022-04-06T19:30:31.583Z"
   },
   {
    "duration": 0,
    "start_time": "2022-04-06T19:30:31.585Z"
   },
   {
    "duration": 0,
    "start_time": "2022-04-06T19:30:31.586Z"
   },
   {
    "duration": 0,
    "start_time": "2022-04-06T19:30:31.587Z"
   },
   {
    "duration": 0,
    "start_time": "2022-04-06T19:30:31.588Z"
   },
   {
    "duration": 0,
    "start_time": "2022-04-06T19:30:31.589Z"
   },
   {
    "duration": 0,
    "start_time": "2022-04-06T19:30:31.590Z"
   },
   {
    "duration": 0,
    "start_time": "2022-04-06T19:30:31.591Z"
   },
   {
    "duration": 0,
    "start_time": "2022-04-06T19:30:31.592Z"
   },
   {
    "duration": 0,
    "start_time": "2022-04-06T19:30:31.594Z"
   },
   {
    "duration": 0,
    "start_time": "2022-04-06T19:30:31.595Z"
   },
   {
    "duration": 8750,
    "start_time": "2022-04-06T19:30:34.123Z"
   },
   {
    "duration": 4,
    "start_time": "2022-04-06T19:30:42.875Z"
   },
   {
    "duration": 3,
    "start_time": "2022-04-06T19:30:54.236Z"
   },
   {
    "duration": 197276,
    "start_time": "2022-04-06T19:30:54.675Z"
   },
   {
    "duration": 0,
    "start_time": "2022-04-06T19:34:11.953Z"
   },
   {
    "duration": 165160,
    "start_time": "2022-04-06T19:34:19.386Z"
   },
   {
    "duration": 83573,
    "start_time": "2022-04-06T19:37:11.651Z"
   },
   {
    "duration": 1532,
    "start_time": "2022-04-06T19:50:21.973Z"
   },
   {
    "duration": 2,
    "start_time": "2022-04-06T19:50:23.507Z"
   },
   {
    "duration": 8600,
    "start_time": "2022-04-06T19:50:23.511Z"
   },
   {
    "duration": 20,
    "start_time": "2022-04-06T19:50:32.113Z"
   },
   {
    "duration": 23,
    "start_time": "2022-04-06T19:50:32.137Z"
   },
   {
    "duration": 33,
    "start_time": "2022-04-06T19:50:32.161Z"
   },
   {
    "duration": 271,
    "start_time": "2022-04-06T19:50:32.196Z"
   },
   {
    "duration": 3,
    "start_time": "2022-04-06T19:50:32.469Z"
   },
   {
    "duration": 7,
    "start_time": "2022-04-06T19:50:32.474Z"
   },
   {
    "duration": 39568,
    "start_time": "2022-04-06T19:50:32.483Z"
   },
   {
    "duration": 57,
    "start_time": "2022-04-06T19:51:12.053Z"
   },
   {
    "duration": 4,
    "start_time": "2022-04-06T19:51:12.112Z"
   },
   {
    "duration": 9446,
    "start_time": "2022-04-06T19:51:12.117Z"
   },
   {
    "duration": 4,
    "start_time": "2022-04-06T19:51:21.568Z"
   },
   {
    "duration": 7,
    "start_time": "2022-04-06T19:51:21.574Z"
   },
   {
    "duration": 118076,
    "start_time": "2022-04-06T19:51:21.583Z"
   },
   {
    "duration": 117183,
    "start_time": "2022-04-06T19:53:19.661Z"
   },
   {
    "duration": 47796,
    "start_time": "2022-04-06T19:55:16.845Z"
   },
   {
    "duration": 6,
    "start_time": "2022-04-06T19:56:04.643Z"
   },
   {
    "duration": 16715,
    "start_time": "2022-04-06T19:56:04.651Z"
   },
   {
    "duration": 0,
    "start_time": "2022-04-06T19:56:21.369Z"
   },
   {
    "duration": 0,
    "start_time": "2022-04-06T19:56:21.371Z"
   },
   {
    "duration": 0,
    "start_time": "2022-04-06T19:56:21.372Z"
   },
   {
    "duration": 0,
    "start_time": "2022-04-06T19:56:21.373Z"
   },
   {
    "duration": 0,
    "start_time": "2022-04-06T19:56:21.375Z"
   },
   {
    "duration": 0,
    "start_time": "2022-04-06T19:56:21.377Z"
   },
   {
    "duration": 0,
    "start_time": "2022-04-06T19:56:21.378Z"
   },
   {
    "duration": 0,
    "start_time": "2022-04-06T19:56:21.379Z"
   },
   {
    "duration": 0,
    "start_time": "2022-04-06T19:56:21.380Z"
   },
   {
    "duration": 0,
    "start_time": "2022-04-06T19:56:21.382Z"
   },
   {
    "duration": 0,
    "start_time": "2022-04-06T19:56:21.383Z"
   },
   {
    "duration": 0,
    "start_time": "2022-04-06T19:56:21.384Z"
   },
   {
    "duration": 0,
    "start_time": "2022-04-06T19:56:21.387Z"
   },
   {
    "duration": 0,
    "start_time": "2022-04-06T19:56:21.388Z"
   },
   {
    "duration": 0,
    "start_time": "2022-04-06T19:56:21.389Z"
   },
   {
    "duration": 0,
    "start_time": "2022-04-06T19:56:21.390Z"
   },
   {
    "duration": 0,
    "start_time": "2022-04-06T19:56:21.392Z"
   },
   {
    "duration": 0,
    "start_time": "2022-04-06T19:56:21.432Z"
   },
   {
    "duration": 0,
    "start_time": "2022-04-06T19:56:21.433Z"
   },
   {
    "duration": 0,
    "start_time": "2022-04-06T19:56:21.434Z"
   },
   {
    "duration": 0,
    "start_time": "2022-04-06T19:56:21.435Z"
   },
   {
    "duration": 0,
    "start_time": "2022-04-06T19:56:21.436Z"
   },
   {
    "duration": 3,
    "start_time": "2022-04-06T19:57:14.470Z"
   },
   {
    "duration": 120879,
    "start_time": "2022-04-06T19:57:14.662Z"
   },
   {
    "duration": 49892,
    "start_time": "2022-04-06T19:59:15.546Z"
   },
   {
    "duration": 3,
    "start_time": "2022-04-06T20:00:05.440Z"
   },
   {
    "duration": 654256,
    "start_time": "2022-04-06T20:00:05.445Z"
   },
   {
    "duration": 357711,
    "start_time": "2022-04-06T20:10:59.702Z"
   },
   {
    "duration": 3,
    "start_time": "2022-04-06T20:16:57.415Z"
   },
   {
    "duration": 132,
    "start_time": "2022-04-06T20:16:57.419Z"
   },
   {
    "duration": 0,
    "start_time": "2022-04-06T20:16:57.553Z"
   },
   {
    "duration": 0,
    "start_time": "2022-04-06T20:16:57.554Z"
   },
   {
    "duration": 0,
    "start_time": "2022-04-06T20:16:57.556Z"
   },
   {
    "duration": 0,
    "start_time": "2022-04-06T20:16:57.557Z"
   },
   {
    "duration": 0,
    "start_time": "2022-04-06T20:16:57.558Z"
   },
   {
    "duration": 0,
    "start_time": "2022-04-06T20:16:57.559Z"
   },
   {
    "duration": 0,
    "start_time": "2022-04-06T20:16:57.561Z"
   },
   {
    "duration": 0,
    "start_time": "2022-04-06T20:16:57.562Z"
   },
   {
    "duration": 0,
    "start_time": "2022-04-06T20:16:57.563Z"
   },
   {
    "duration": 0,
    "start_time": "2022-04-06T20:16:57.564Z"
   },
   {
    "duration": 0,
    "start_time": "2022-04-06T20:16:57.565Z"
   },
   {
    "duration": 0,
    "start_time": "2022-04-06T20:16:57.566Z"
   },
   {
    "duration": 0,
    "start_time": "2022-04-06T20:16:57.567Z"
   },
   {
    "duration": 240655,
    "start_time": "2022-04-06T20:17:21.069Z"
   },
   {
    "duration": 1697,
    "start_time": "2022-04-06T20:45:10.305Z"
   },
   {
    "duration": 3,
    "start_time": "2022-04-06T20:45:12.004Z"
   },
   {
    "duration": 1893,
    "start_time": "2022-04-06T20:45:12.008Z"
   },
   {
    "duration": 9,
    "start_time": "2022-04-06T20:45:13.903Z"
   },
   {
    "duration": 30,
    "start_time": "2022-04-06T20:45:13.914Z"
   },
   {
    "duration": 31,
    "start_time": "2022-04-06T20:45:13.945Z"
   },
   {
    "duration": 237,
    "start_time": "2022-04-06T20:45:13.977Z"
   },
   {
    "duration": 13,
    "start_time": "2022-04-06T20:45:14.216Z"
   },
   {
    "duration": 3,
    "start_time": "2022-04-06T20:45:14.231Z"
   },
   {
    "duration": 35328,
    "start_time": "2022-04-06T20:45:14.238Z"
   },
   {
    "duration": 37,
    "start_time": "2022-04-06T20:45:49.567Z"
   },
   {
    "duration": 4,
    "start_time": "2022-04-06T20:45:49.606Z"
   },
   {
    "duration": 8128,
    "start_time": "2022-04-06T20:45:49.611Z"
   },
   {
    "duration": 4,
    "start_time": "2022-04-06T20:45:57.742Z"
   },
   {
    "duration": 4,
    "start_time": "2022-04-06T20:45:57.748Z"
   },
   {
    "duration": 5,
    "start_time": "2022-04-06T20:45:57.753Z"
   },
   {
    "duration": 4,
    "start_time": "2022-04-06T20:45:57.759Z"
   },
   {
    "duration": 5,
    "start_time": "2022-04-06T20:45:57.764Z"
   },
   {
    "duration": 4,
    "start_time": "2022-04-06T20:45:57.771Z"
   },
   {
    "duration": 4,
    "start_time": "2022-04-06T20:45:57.776Z"
   },
   {
    "duration": 4,
    "start_time": "2022-04-06T20:45:57.781Z"
   },
   {
    "duration": 4,
    "start_time": "2022-04-06T20:45:57.787Z"
   },
   {
    "duration": 43,
    "start_time": "2022-04-06T20:45:57.792Z"
   },
   {
    "duration": 12,
    "start_time": "2022-04-06T20:45:57.836Z"
   },
   {
    "duration": 5,
    "start_time": "2022-04-06T20:45:57.850Z"
   },
   {
    "duration": 127249,
    "start_time": "2022-04-06T20:45:57.856Z"
   },
   {
    "duration": 3,
    "start_time": "2022-04-06T20:48:05.107Z"
   },
   {
    "duration": 1666218,
    "start_time": "2022-04-06T20:48:05.130Z"
   },
   {
    "duration": 450884,
    "start_time": "2022-04-06T21:15:51.350Z"
   },
   {
    "duration": 2,
    "start_time": "2022-04-06T21:23:22.235Z"
   },
   {
    "duration": 1510838,
    "start_time": "2022-04-06T21:23:22.239Z"
   },
   {
    "duration": 592458,
    "start_time": "2022-04-06T21:48:33.079Z"
   },
   {
    "duration": 3,
    "start_time": "2022-04-06T21:58:25.538Z"
   },
   {
    "duration": 1434,
    "start_time": "2022-04-06T21:58:25.542Z"
   },
   {
    "duration": 825,
    "start_time": "2022-04-06T21:58:26.977Z"
   },
   {
    "duration": 3,
    "start_time": "2022-04-06T21:58:27.803Z"
   },
   {
    "duration": 4923,
    "start_time": "2022-04-06T21:58:27.807Z"
   },
   {
    "duration": 117,
    "start_time": "2022-04-06T21:58:32.731Z"
   },
   {
    "duration": 3070,
    "start_time": "2022-04-07T05:56:27.833Z"
   },
   {
    "duration": 2681,
    "start_time": "2022-04-07T05:56:44.342Z"
   },
   {
    "duration": 123,
    "start_time": "2022-04-07T06:34:53.651Z"
   },
   {
    "duration": 129,
    "start_time": "2022-04-07T06:35:55.326Z"
   },
   {
    "duration": 127,
    "start_time": "2022-04-07T06:36:02.667Z"
   },
   {
    "duration": 125,
    "start_time": "2022-04-07T06:36:08.977Z"
   },
   {
    "duration": 127,
    "start_time": "2022-04-07T06:36:18.706Z"
   },
   {
    "duration": 13,
    "start_time": "2022-04-07T06:36:55.153Z"
   },
   {
    "duration": 130,
    "start_time": "2022-04-07T06:37:22.274Z"
   },
   {
    "duration": 111,
    "start_time": "2022-04-07T06:38:07.865Z"
   },
   {
    "duration": 122,
    "start_time": "2022-04-07T06:39:14.328Z"
   },
   {
    "duration": 122,
    "start_time": "2022-04-07T06:39:51.288Z"
   },
   {
    "duration": 120,
    "start_time": "2022-04-07T06:39:56.261Z"
   },
   {
    "duration": 121,
    "start_time": "2022-04-07T06:40:02.288Z"
   },
   {
    "duration": 119,
    "start_time": "2022-04-07T06:40:06.104Z"
   },
   {
    "duration": 118,
    "start_time": "2022-04-07T06:40:26.166Z"
   },
   {
    "duration": 107,
    "start_time": "2022-04-07T06:40:28.637Z"
   },
   {
    "duration": 9,
    "start_time": "2022-04-07T06:42:37.302Z"
   },
   {
    "duration": 3,
    "start_time": "2022-04-07T06:42:44.678Z"
   },
   {
    "duration": 9,
    "start_time": "2022-04-07T06:42:46.005Z"
   },
   {
    "duration": 3,
    "start_time": "2022-04-07T06:42:51.431Z"
   },
   {
    "duration": 9,
    "start_time": "2022-04-07T06:42:53.724Z"
   },
   {
    "duration": 3,
    "start_time": "2022-04-07T06:43:01.257Z"
   },
   {
    "duration": 3,
    "start_time": "2022-04-07T06:43:01.900Z"
   },
   {
    "duration": 10,
    "start_time": "2022-04-07T06:43:02.085Z"
   },
   {
    "duration": 2,
    "start_time": "2022-04-07T06:43:10.028Z"
   },
   {
    "duration": 8,
    "start_time": "2022-04-07T06:43:10.309Z"
   },
   {
    "duration": 1536,
    "start_time": "2022-04-07T06:48:13.406Z"
   },
   {
    "duration": 1301,
    "start_time": "2022-04-07T06:48:16.586Z"
   },
   {
    "duration": 3,
    "start_time": "2022-04-07T06:48:17.889Z"
   },
   {
    "duration": 11,
    "start_time": "2022-04-07T06:48:17.893Z"
   },
   {
    "duration": 26,
    "start_time": "2022-04-07T06:48:17.906Z"
   },
   {
    "duration": 27,
    "start_time": "2022-04-07T06:48:17.934Z"
   },
   {
    "duration": 192,
    "start_time": "2022-04-07T06:48:17.962Z"
   },
   {
    "duration": 3,
    "start_time": "2022-04-07T06:48:18.156Z"
   },
   {
    "duration": 3,
    "start_time": "2022-04-07T06:48:18.303Z"
   },
   {
    "duration": 31748,
    "start_time": "2022-04-07T06:48:18.518Z"
   },
   {
    "duration": 38,
    "start_time": "2022-04-07T06:48:50.268Z"
   },
   {
    "duration": 3,
    "start_time": "2022-04-07T06:48:50.308Z"
   },
   {
    "duration": 7511,
    "start_time": "2022-04-07T06:48:50.313Z"
   },
   {
    "duration": 3,
    "start_time": "2022-04-07T06:48:57.829Z"
   },
   {
    "duration": 5,
    "start_time": "2022-04-07T06:48:57.834Z"
   },
   {
    "duration": 5,
    "start_time": "2022-04-07T06:48:57.841Z"
   },
   {
    "duration": 4,
    "start_time": "2022-04-07T06:48:57.848Z"
   },
   {
    "duration": 5,
    "start_time": "2022-04-07T06:48:57.853Z"
   },
   {
    "duration": 2,
    "start_time": "2022-04-07T06:48:57.861Z"
   },
   {
    "duration": 4,
    "start_time": "2022-04-07T06:48:57.865Z"
   },
   {
    "duration": 5,
    "start_time": "2022-04-07T06:48:57.870Z"
   },
   {
    "duration": 5,
    "start_time": "2022-04-07T06:48:57.877Z"
   },
   {
    "duration": 5,
    "start_time": "2022-04-07T06:48:57.883Z"
   },
   {
    "duration": 5,
    "start_time": "2022-04-07T06:48:57.890Z"
   },
   {
    "duration": 3,
    "start_time": "2022-04-07T06:48:57.897Z"
   },
   {
    "duration": 2,
    "start_time": "2022-04-07T06:48:57.930Z"
   },
   {
    "duration": 4,
    "start_time": "2022-04-07T06:48:57.934Z"
   },
   {
    "duration": 7,
    "start_time": "2022-04-07T06:48:57.940Z"
   },
   {
    "duration": 5,
    "start_time": "2022-04-07T06:48:57.949Z"
   },
   {
    "duration": 6,
    "start_time": "2022-04-07T06:48:57.956Z"
   },
   {
    "duration": 6,
    "start_time": "2022-04-07T06:48:57.963Z"
   },
   {
    "duration": 6,
    "start_time": "2022-04-07T06:48:57.971Z"
   },
   {
    "duration": 5,
    "start_time": "2022-04-07T06:48:57.978Z"
   },
   {
    "duration": 6,
    "start_time": "2022-04-07T06:48:57.985Z"
   },
   {
    "duration": 3,
    "start_time": "2022-04-07T06:48:57.993Z"
   },
   {
    "duration": 4,
    "start_time": "2022-04-07T06:48:57.998Z"
   },
   {
    "duration": 3,
    "start_time": "2022-04-07T06:48:58.006Z"
   },
   {
    "duration": 3,
    "start_time": "2022-04-07T06:48:58.030Z"
   },
   {
    "duration": 2,
    "start_time": "2022-04-07T06:49:03.732Z"
   },
   {
    "duration": 9,
    "start_time": "2022-04-07T06:49:10.730Z"
   },
   {
    "duration": 3,
    "start_time": "2022-04-07T06:49:21.420Z"
   },
   {
    "duration": 10,
    "start_time": "2022-04-07T06:49:26.308Z"
   },
   {
    "duration": 1454,
    "start_time": "2022-04-07T06:53:15.613Z"
   },
   {
    "duration": 1732,
    "start_time": "2022-04-07T06:53:17.069Z"
   },
   {
    "duration": 2,
    "start_time": "2022-04-07T06:53:18.803Z"
   },
   {
    "duration": 14,
    "start_time": "2022-04-07T06:53:18.807Z"
   },
   {
    "duration": 22,
    "start_time": "2022-04-07T06:53:18.822Z"
   },
   {
    "duration": 29,
    "start_time": "2022-04-07T06:53:18.845Z"
   },
   {
    "duration": 200,
    "start_time": "2022-04-07T06:53:18.875Z"
   },
   {
    "duration": 3,
    "start_time": "2022-04-07T06:53:19.076Z"
   },
   {
    "duration": 5,
    "start_time": "2022-04-07T06:53:19.080Z"
   },
   {
    "duration": 32556,
    "start_time": "2022-04-07T06:53:19.087Z"
   },
   {
    "duration": 35,
    "start_time": "2022-04-07T06:53:51.645Z"
   },
   {
    "duration": 120,
    "start_time": "2022-04-07T06:53:51.682Z"
   },
   {
    "duration": 0,
    "start_time": "2022-04-07T06:53:51.804Z"
   },
   {
    "duration": 0,
    "start_time": "2022-04-07T06:53:51.805Z"
   },
   {
    "duration": 0,
    "start_time": "2022-04-07T06:53:51.807Z"
   },
   {
    "duration": 0,
    "start_time": "2022-04-07T06:53:51.808Z"
   },
   {
    "duration": 0,
    "start_time": "2022-04-07T06:53:51.810Z"
   },
   {
    "duration": 0,
    "start_time": "2022-04-07T06:53:51.811Z"
   },
   {
    "duration": 0,
    "start_time": "2022-04-07T06:53:51.812Z"
   },
   {
    "duration": 0,
    "start_time": "2022-04-07T06:53:51.813Z"
   },
   {
    "duration": 0,
    "start_time": "2022-04-07T06:53:51.829Z"
   },
   {
    "duration": 0,
    "start_time": "2022-04-07T06:53:51.831Z"
   },
   {
    "duration": 0,
    "start_time": "2022-04-07T06:53:51.832Z"
   },
   {
    "duration": 0,
    "start_time": "2022-04-07T06:53:51.832Z"
   },
   {
    "duration": 0,
    "start_time": "2022-04-07T06:53:51.833Z"
   },
   {
    "duration": 0,
    "start_time": "2022-04-07T06:53:51.834Z"
   },
   {
    "duration": 0,
    "start_time": "2022-04-07T06:53:51.835Z"
   },
   {
    "duration": 0,
    "start_time": "2022-04-07T06:53:51.835Z"
   },
   {
    "duration": 0,
    "start_time": "2022-04-07T06:53:51.836Z"
   },
   {
    "duration": 0,
    "start_time": "2022-04-07T06:53:51.837Z"
   },
   {
    "duration": 0,
    "start_time": "2022-04-07T06:53:51.838Z"
   },
   {
    "duration": 0,
    "start_time": "2022-04-07T06:53:51.839Z"
   },
   {
    "duration": 0,
    "start_time": "2022-04-07T06:53:51.839Z"
   },
   {
    "duration": 0,
    "start_time": "2022-04-07T06:53:51.840Z"
   },
   {
    "duration": 0,
    "start_time": "2022-04-07T06:53:51.841Z"
   },
   {
    "duration": 0,
    "start_time": "2022-04-07T06:53:51.842Z"
   },
   {
    "duration": 0,
    "start_time": "2022-04-07T06:53:51.843Z"
   },
   {
    "duration": 0,
    "start_time": "2022-04-07T06:53:51.843Z"
   },
   {
    "duration": 4,
    "start_time": "2022-04-07T06:54:19.676Z"
   },
   {
    "duration": 7912,
    "start_time": "2022-04-07T06:54:20.461Z"
   },
   {
    "duration": 4,
    "start_time": "2022-04-07T06:54:28.375Z"
   },
   {
    "duration": 6,
    "start_time": "2022-04-07T06:54:28.380Z"
   },
   {
    "duration": 5,
    "start_time": "2022-04-07T06:54:28.388Z"
   },
   {
    "duration": 5,
    "start_time": "2022-04-07T06:54:28.395Z"
   },
   {
    "duration": 5,
    "start_time": "2022-04-07T06:54:28.401Z"
   },
   {
    "duration": 5,
    "start_time": "2022-04-07T06:54:28.407Z"
   },
   {
    "duration": 16,
    "start_time": "2022-04-07T06:54:28.413Z"
   },
   {
    "duration": 9,
    "start_time": "2022-04-07T06:54:28.431Z"
   },
   {
    "duration": 5,
    "start_time": "2022-04-07T06:54:28.442Z"
   },
   {
    "duration": 4,
    "start_time": "2022-04-07T06:54:28.449Z"
   },
   {
    "duration": 5,
    "start_time": "2022-04-07T06:54:28.454Z"
   },
   {
    "duration": 4,
    "start_time": "2022-04-07T06:54:28.460Z"
   },
   {
    "duration": 9,
    "start_time": "2022-04-07T06:54:28.465Z"
   },
   {
    "duration": 8,
    "start_time": "2022-04-07T06:54:28.475Z"
   },
   {
    "duration": 6,
    "start_time": "2022-04-07T06:54:28.484Z"
   },
   {
    "duration": 5,
    "start_time": "2022-04-07T06:54:28.491Z"
   },
   {
    "duration": 4,
    "start_time": "2022-04-07T06:54:28.497Z"
   },
   {
    "duration": 5,
    "start_time": "2022-04-07T06:54:28.502Z"
   },
   {
    "duration": 5,
    "start_time": "2022-04-07T06:54:28.508Z"
   },
   {
    "duration": 3,
    "start_time": "2022-04-07T06:54:28.901Z"
   },
   {
    "duration": 2,
    "start_time": "2022-04-07T06:54:29.063Z"
   },
   {
    "duration": 2,
    "start_time": "2022-04-07T06:54:29.496Z"
   },
   {
    "duration": 3,
    "start_time": "2022-04-07T06:54:30.056Z"
   },
   {
    "duration": 2,
    "start_time": "2022-04-07T06:54:30.449Z"
   },
   {
    "duration": 2,
    "start_time": "2022-04-07T06:54:31.006Z"
   },
   {
    "duration": 1471,
    "start_time": "2022-04-07T07:11:41.986Z"
   },
   {
    "duration": 1687,
    "start_time": "2022-04-07T07:11:43.459Z"
   },
   {
    "duration": 3,
    "start_time": "2022-04-07T07:11:45.147Z"
   },
   {
    "duration": 10,
    "start_time": "2022-04-07T07:11:45.152Z"
   },
   {
    "duration": 21,
    "start_time": "2022-04-07T07:11:45.164Z"
   },
   {
    "duration": 51,
    "start_time": "2022-04-07T07:11:45.187Z"
   },
   {
    "duration": 252,
    "start_time": "2022-04-07T07:11:45.239Z"
   },
   {
    "duration": 3,
    "start_time": "2022-04-07T07:11:45.493Z"
   },
   {
    "duration": 5,
    "start_time": "2022-04-07T07:11:45.497Z"
   },
   {
    "duration": 37231,
    "start_time": "2022-04-07T07:11:45.505Z"
   },
   {
    "duration": 36,
    "start_time": "2022-04-07T07:12:22.737Z"
   },
   {
    "duration": 3,
    "start_time": "2022-04-07T07:12:22.775Z"
   },
   {
    "duration": 8399,
    "start_time": "2022-04-07T07:12:22.779Z"
   },
   {
    "duration": 3,
    "start_time": "2022-04-07T07:12:31.180Z"
   },
   {
    "duration": 7,
    "start_time": "2022-04-07T07:12:31.185Z"
   },
   {
    "duration": 9,
    "start_time": "2022-04-07T07:12:31.194Z"
   },
   {
    "duration": 7,
    "start_time": "2022-04-07T07:12:31.204Z"
   },
   {
    "duration": 12,
    "start_time": "2022-04-07T07:12:31.212Z"
   },
   {
    "duration": 10,
    "start_time": "2022-04-07T07:12:31.225Z"
   },
   {
    "duration": 13,
    "start_time": "2022-04-07T07:12:31.237Z"
   },
   {
    "duration": 6,
    "start_time": "2022-04-07T07:12:31.252Z"
   },
   {
    "duration": 20,
    "start_time": "2022-04-07T07:12:31.260Z"
   },
   {
    "duration": 20,
    "start_time": "2022-04-07T07:12:31.282Z"
   },
   {
    "duration": 9,
    "start_time": "2022-04-07T07:12:31.303Z"
   },
   {
    "duration": 7,
    "start_time": "2022-04-07T07:12:31.313Z"
   },
   {
    "duration": 5,
    "start_time": "2022-04-07T07:12:31.322Z"
   },
   {
    "duration": 7,
    "start_time": "2022-04-07T07:12:31.328Z"
   },
   {
    "duration": 7,
    "start_time": "2022-04-07T07:12:31.338Z"
   },
   {
    "duration": 13,
    "start_time": "2022-04-07T07:12:31.347Z"
   },
   {
    "duration": 6,
    "start_time": "2022-04-07T07:12:31.362Z"
   },
   {
    "duration": 7,
    "start_time": "2022-04-07T07:12:31.369Z"
   },
   {
    "duration": 12,
    "start_time": "2022-04-07T07:12:31.377Z"
   },
   {
    "duration": 14,
    "start_time": "2022-04-07T07:12:31.390Z"
   },
   {
    "duration": 4,
    "start_time": "2022-04-07T07:12:31.406Z"
   },
   {
    "duration": 5,
    "start_time": "2022-04-07T07:12:31.412Z"
   },
   {
    "duration": 5,
    "start_time": "2022-04-07T07:12:31.418Z"
   },
   {
    "duration": 13,
    "start_time": "2022-04-07T07:12:31.425Z"
   },
   {
    "duration": 6,
    "start_time": "2022-04-07T07:12:31.440Z"
   },
   {
    "duration": 1533,
    "start_time": "2022-04-07T07:39:27.553Z"
   },
   {
    "duration": 2648,
    "start_time": "2022-04-07T07:39:29.088Z"
   },
   {
    "duration": 2,
    "start_time": "2022-04-07T07:39:31.738Z"
   },
   {
    "duration": 17,
    "start_time": "2022-04-07T07:39:31.742Z"
   },
   {
    "duration": 17,
    "start_time": "2022-04-07T07:39:31.761Z"
   },
   {
    "duration": 53,
    "start_time": "2022-04-07T07:39:31.780Z"
   },
   {
    "duration": 201,
    "start_time": "2022-04-07T07:39:31.835Z"
   },
   {
    "duration": 2,
    "start_time": "2022-04-07T07:39:32.038Z"
   },
   {
    "duration": 41,
    "start_time": "2022-04-07T07:39:32.042Z"
   },
   {
    "duration": 40846,
    "start_time": "2022-04-07T07:39:32.085Z"
   },
   {
    "duration": 41,
    "start_time": "2022-04-07T07:40:12.933Z"
   },
   {
    "duration": 5,
    "start_time": "2022-04-07T07:40:12.976Z"
   },
   {
    "duration": 7589,
    "start_time": "2022-04-07T07:40:12.982Z"
   },
   {
    "duration": 4,
    "start_time": "2022-04-07T07:40:20.573Z"
   },
   {
    "duration": 5,
    "start_time": "2022-04-07T07:40:20.579Z"
   },
   {
    "duration": 5,
    "start_time": "2022-04-07T07:40:20.586Z"
   },
   {
    "duration": 10,
    "start_time": "2022-04-07T07:40:20.592Z"
   },
   {
    "duration": 15,
    "start_time": "2022-04-07T07:40:20.603Z"
   },
   {
    "duration": 11,
    "start_time": "2022-04-07T07:40:20.619Z"
   },
   {
    "duration": 4,
    "start_time": "2022-04-07T07:40:20.632Z"
   },
   {
    "duration": 4,
    "start_time": "2022-04-07T07:40:20.638Z"
   },
   {
    "duration": 6,
    "start_time": "2022-04-07T07:40:20.644Z"
   },
   {
    "duration": 4,
    "start_time": "2022-04-07T07:40:20.652Z"
   },
   {
    "duration": 5,
    "start_time": "2022-04-07T07:40:20.658Z"
   },
   {
    "duration": 5,
    "start_time": "2022-04-07T07:40:20.664Z"
   },
   {
    "duration": 4,
    "start_time": "2022-04-07T07:40:20.671Z"
   },
   {
    "duration": 4,
    "start_time": "2022-04-07T07:40:20.677Z"
   },
   {
    "duration": 2,
    "start_time": "2022-04-07T07:40:20.685Z"
   },
   {
    "duration": 5,
    "start_time": "2022-04-07T07:40:20.688Z"
   },
   {
    "duration": 3,
    "start_time": "2022-04-07T07:40:20.730Z"
   },
   {
    "duration": 5,
    "start_time": "2022-04-07T07:40:20.735Z"
   },
   {
    "duration": 6,
    "start_time": "2022-04-07T07:40:20.742Z"
   },
   {
    "duration": 5,
    "start_time": "2022-04-07T07:40:20.749Z"
   },
   {
    "duration": 4,
    "start_time": "2022-04-07T07:40:20.756Z"
   },
   {
    "duration": 8,
    "start_time": "2022-04-07T07:40:20.762Z"
   },
   {
    "duration": 5,
    "start_time": "2022-04-07T07:40:20.772Z"
   },
   {
    "duration": 10,
    "start_time": "2022-04-07T07:40:20.778Z"
   },
   {
    "duration": 5,
    "start_time": "2022-04-07T07:40:20.789Z"
   },
   {
    "duration": 1523,
    "start_time": "2022-04-07T07:51:06.006Z"
   },
   {
    "duration": 1944,
    "start_time": "2022-04-07T07:51:07.531Z"
   },
   {
    "duration": 3,
    "start_time": "2022-04-07T07:51:09.476Z"
   },
   {
    "duration": 26,
    "start_time": "2022-04-07T07:51:09.482Z"
   },
   {
    "duration": 35,
    "start_time": "2022-04-07T07:51:09.510Z"
   },
   {
    "duration": 37,
    "start_time": "2022-04-07T07:51:09.547Z"
   },
   {
    "duration": 198,
    "start_time": "2022-04-07T07:51:09.586Z"
   },
   {
    "duration": 3,
    "start_time": "2022-04-07T07:51:09.786Z"
   },
   {
    "duration": 21,
    "start_time": "2022-04-07T07:51:09.791Z"
   },
   {
    "duration": 1474,
    "start_time": "2022-04-07T08:12:53.003Z"
   },
   {
    "duration": 2102,
    "start_time": "2022-04-07T08:12:54.479Z"
   },
   {
    "duration": 2,
    "start_time": "2022-04-07T08:12:56.585Z"
   },
   {
    "duration": 13,
    "start_time": "2022-04-07T08:12:56.589Z"
   },
   {
    "duration": 34,
    "start_time": "2022-04-07T08:12:56.604Z"
   },
   {
    "duration": 30,
    "start_time": "2022-04-07T08:12:56.639Z"
   },
   {
    "duration": 195,
    "start_time": "2022-04-07T08:12:56.671Z"
   },
   {
    "duration": 3,
    "start_time": "2022-04-07T08:12:56.868Z"
   },
   {
    "duration": 7,
    "start_time": "2022-04-07T08:12:56.872Z"
   },
   {
    "duration": 32785,
    "start_time": "2022-04-07T08:12:56.881Z"
   },
   {
    "duration": 39,
    "start_time": "2022-04-07T08:13:29.667Z"
   },
   {
    "duration": 24,
    "start_time": "2022-04-07T08:13:29.708Z"
   },
   {
    "duration": 7905,
    "start_time": "2022-04-07T08:13:29.733Z"
   },
   {
    "duration": 4,
    "start_time": "2022-04-07T08:13:37.639Z"
   },
   {
    "duration": 4,
    "start_time": "2022-04-07T08:13:37.645Z"
   },
   {
    "duration": 5,
    "start_time": "2022-04-07T08:13:37.650Z"
   },
   {
    "duration": 4,
    "start_time": "2022-04-07T08:13:37.656Z"
   },
   {
    "duration": 9,
    "start_time": "2022-04-07T08:13:37.661Z"
   },
   {
    "duration": 5,
    "start_time": "2022-04-07T08:13:37.671Z"
   },
   {
    "duration": 5,
    "start_time": "2022-04-07T08:13:37.677Z"
   },
   {
    "duration": 5,
    "start_time": "2022-04-07T08:13:37.683Z"
   },
   {
    "duration": 5,
    "start_time": "2022-04-07T08:13:37.689Z"
   },
   {
    "duration": 4,
    "start_time": "2022-04-07T08:13:37.696Z"
   },
   {
    "duration": 5,
    "start_time": "2022-04-07T08:13:37.701Z"
   },
   {
    "duration": 23,
    "start_time": "2022-04-07T08:13:37.707Z"
   },
   {
    "duration": 6,
    "start_time": "2022-04-07T08:13:37.731Z"
   },
   {
    "duration": 6,
    "start_time": "2022-04-07T08:13:37.739Z"
   },
   {
    "duration": 4,
    "start_time": "2022-04-07T08:13:37.748Z"
   },
   {
    "duration": 4,
    "start_time": "2022-04-07T08:13:37.754Z"
   },
   {
    "duration": 5,
    "start_time": "2022-04-07T08:13:37.759Z"
   },
   {
    "duration": 4,
    "start_time": "2022-04-07T08:13:37.765Z"
   },
   {
    "duration": 6,
    "start_time": "2022-04-07T08:13:37.771Z"
   },
   {
    "duration": 4,
    "start_time": "2022-04-07T08:13:37.779Z"
   },
   {
    "duration": 4,
    "start_time": "2022-04-07T08:13:37.785Z"
   },
   {
    "duration": 4,
    "start_time": "2022-04-07T08:13:37.790Z"
   },
   {
    "duration": 5,
    "start_time": "2022-04-07T08:13:37.795Z"
   },
   {
    "duration": 21,
    "start_time": "2022-04-07T08:13:37.801Z"
   },
   {
    "duration": 13,
    "start_time": "2022-04-07T08:13:37.823Z"
   },
   {
    "duration": 1459,
    "start_time": "2022-04-07T08:14:02.952Z"
   },
   {
    "duration": 1601,
    "start_time": "2022-04-07T08:14:04.413Z"
   },
   {
    "duration": 3,
    "start_time": "2022-04-07T08:14:06.016Z"
   },
   {
    "duration": 16,
    "start_time": "2022-04-07T08:14:06.020Z"
   },
   {
    "duration": 19,
    "start_time": "2022-04-07T08:14:06.037Z"
   },
   {
    "duration": 29,
    "start_time": "2022-04-07T08:14:06.057Z"
   },
   {
    "duration": 208,
    "start_time": "2022-04-07T08:14:06.088Z"
   },
   {
    "duration": 2,
    "start_time": "2022-04-07T08:14:06.298Z"
   },
   {
    "duration": 6,
    "start_time": "2022-04-07T08:14:06.302Z"
   },
   {
    "duration": 32308,
    "start_time": "2022-04-07T08:14:06.310Z"
   },
   {
    "duration": 48,
    "start_time": "2022-04-07T08:14:38.619Z"
   },
   {
    "duration": 3,
    "start_time": "2022-04-07T08:14:38.669Z"
   },
   {
    "duration": 7735,
    "start_time": "2022-04-07T08:14:38.674Z"
   },
   {
    "duration": 3,
    "start_time": "2022-04-07T08:14:46.411Z"
   },
   {
    "duration": 14,
    "start_time": "2022-04-07T08:14:46.415Z"
   },
   {
    "duration": 6,
    "start_time": "2022-04-07T08:14:46.430Z"
   },
   {
    "duration": 5,
    "start_time": "2022-04-07T08:14:46.437Z"
   },
   {
    "duration": 7,
    "start_time": "2022-04-07T08:14:46.443Z"
   },
   {
    "duration": 6,
    "start_time": "2022-04-07T08:14:46.451Z"
   },
   {
    "duration": 5,
    "start_time": "2022-04-07T08:14:46.459Z"
   },
   {
    "duration": 7,
    "start_time": "2022-04-07T08:14:46.465Z"
   },
   {
    "duration": 8,
    "start_time": "2022-04-07T08:14:46.473Z"
   },
   {
    "duration": 5,
    "start_time": "2022-04-07T08:14:46.483Z"
   },
   {
    "duration": 10,
    "start_time": "2022-04-07T08:14:46.489Z"
   },
   {
    "duration": 6,
    "start_time": "2022-04-07T08:14:46.500Z"
   },
   {
    "duration": 5,
    "start_time": "2022-04-07T08:14:46.508Z"
   },
   {
    "duration": 7,
    "start_time": "2022-04-07T08:14:46.514Z"
   },
   {
    "duration": 3,
    "start_time": "2022-04-07T08:14:46.525Z"
   },
   {
    "duration": 7,
    "start_time": "2022-04-07T08:14:46.529Z"
   },
   {
    "duration": 9,
    "start_time": "2022-04-07T08:14:46.538Z"
   },
   {
    "duration": 7,
    "start_time": "2022-04-07T08:14:46.549Z"
   },
   {
    "duration": 7,
    "start_time": "2022-04-07T08:14:46.558Z"
   },
   {
    "duration": 5,
    "start_time": "2022-04-07T08:14:46.567Z"
   },
   {
    "duration": 6,
    "start_time": "2022-04-07T08:14:46.573Z"
   },
   {
    "duration": 5,
    "start_time": "2022-04-07T08:14:46.580Z"
   },
   {
    "duration": 6,
    "start_time": "2022-04-07T08:14:46.586Z"
   },
   {
    "duration": 4,
    "start_time": "2022-04-07T08:14:46.594Z"
   },
   {
    "duration": 5,
    "start_time": "2022-04-07T08:14:46.599Z"
   },
   {
    "duration": 5,
    "start_time": "2022-04-07T08:15:07.355Z"
   },
   {
    "duration": 4,
    "start_time": "2022-04-07T08:15:19.064Z"
   },
   {
    "duration": 1422,
    "start_time": "2022-04-07T08:15:38.257Z"
   },
   {
    "duration": 1589,
    "start_time": "2022-04-07T08:15:39.680Z"
   },
   {
    "duration": 3,
    "start_time": "2022-04-07T08:15:41.271Z"
   },
   {
    "duration": 13,
    "start_time": "2022-04-07T08:15:41.276Z"
   },
   {
    "duration": 19,
    "start_time": "2022-04-07T08:15:41.291Z"
   },
   {
    "duration": 47,
    "start_time": "2022-04-07T08:15:41.311Z"
   },
   {
    "duration": 200,
    "start_time": "2022-04-07T08:15:41.360Z"
   },
   {
    "duration": 3,
    "start_time": "2022-04-07T08:15:41.562Z"
   },
   {
    "duration": 8,
    "start_time": "2022-04-07T08:15:41.566Z"
   },
   {
    "duration": 32942,
    "start_time": "2022-04-07T08:15:41.576Z"
   },
   {
    "duration": 40,
    "start_time": "2022-04-07T08:16:14.529Z"
   },
   {
    "duration": 3,
    "start_time": "2022-04-07T08:16:14.571Z"
   },
   {
    "duration": 7640,
    "start_time": "2022-04-07T08:16:14.576Z"
   },
   {
    "duration": 3,
    "start_time": "2022-04-07T08:16:22.218Z"
   },
   {
    "duration": 2,
    "start_time": "2022-04-07T08:16:22.230Z"
   },
   {
    "duration": 15,
    "start_time": "2022-04-07T08:16:22.233Z"
   },
   {
    "duration": 7,
    "start_time": "2022-04-07T08:16:22.249Z"
   },
   {
    "duration": 8,
    "start_time": "2022-04-07T08:16:22.257Z"
   },
   {
    "duration": 5,
    "start_time": "2022-04-07T08:16:22.266Z"
   },
   {
    "duration": 5,
    "start_time": "2022-04-07T08:16:22.272Z"
   },
   {
    "duration": 7,
    "start_time": "2022-04-07T08:16:22.278Z"
   },
   {
    "duration": 7,
    "start_time": "2022-04-07T08:16:22.286Z"
   },
   {
    "duration": 6,
    "start_time": "2022-04-07T08:16:22.294Z"
   },
   {
    "duration": 5,
    "start_time": "2022-04-07T08:16:22.301Z"
   },
   {
    "duration": 5,
    "start_time": "2022-04-07T08:16:22.307Z"
   },
   {
    "duration": 6,
    "start_time": "2022-04-07T08:16:22.313Z"
   },
   {
    "duration": 7,
    "start_time": "2022-04-07T08:16:22.320Z"
   },
   {
    "duration": 2,
    "start_time": "2022-04-07T08:16:22.330Z"
   },
   {
    "duration": 3,
    "start_time": "2022-04-07T08:16:22.334Z"
   },
   {
    "duration": 5,
    "start_time": "2022-04-07T08:16:22.339Z"
   },
   {
    "duration": 6,
    "start_time": "2022-04-07T08:16:22.345Z"
   },
   {
    "duration": 4,
    "start_time": "2022-04-07T08:16:22.353Z"
   },
   {
    "duration": 4,
    "start_time": "2022-04-07T08:16:22.359Z"
   },
   {
    "duration": 5,
    "start_time": "2022-04-07T08:16:22.365Z"
   },
   {
    "duration": 5,
    "start_time": "2022-04-07T08:16:22.371Z"
   },
   {
    "duration": 5,
    "start_time": "2022-04-07T08:16:22.378Z"
   },
   {
    "duration": 3,
    "start_time": "2022-04-07T08:16:22.385Z"
   },
   {
    "duration": 9,
    "start_time": "2022-04-07T08:16:22.390Z"
   }
  ],
  "colab": {
   "name": "Проект_11_Проект_для_«Викишоп».ipynb",
   "provenance": []
  },
  "kernelspec": {
   "display_name": "Python 3 (ipykernel)",
   "language": "python",
   "name": "python3"
  },
  "language_info": {
   "codemirror_mode": {
    "name": "ipython",
    "version": 3
   },
   "file_extension": ".py",
   "mimetype": "text/x-python",
   "name": "python",
   "nbconvert_exporter": "python",
   "pygments_lexer": "ipython3",
   "version": "3.9.12"
  },
  "toc": {
   "base_numbering": 1,
   "nav_menu": {},
   "number_sections": true,
   "sideBar": true,
   "skip_h1_title": true,
   "title_cell": "Содержание",
   "title_sidebar": "Contents",
   "toc_cell": true,
   "toc_position": {
    "height": "calc(100% - 180px)",
    "left": "10px",
    "top": "150px",
    "width": "302.391px"
   },
   "toc_section_display": true,
   "toc_window_display": false
  }
 },
 "nbformat": 4,
 "nbformat_minor": 1
}
