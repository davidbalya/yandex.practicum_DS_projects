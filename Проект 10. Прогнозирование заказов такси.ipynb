{
 "cells": [
  {
   "cell_type": "markdown",
   "metadata": {
    "id": "Ui5k4c91te4P"
   },
   "source": [
    "#  Прогнозирование заказов такси"
   ]
  },
  {
   "cell_type": "markdown",
   "metadata": {
    "id": "QZfl5B_Pte4Q"
   },
   "source": [
    "Компания «Чётенькое такси» собрала исторические данные о заказах такси в аэропортах. Чтобы привлекать больше водителей в период пиковой нагрузки, нужно спрогнозировать количество заказов такси на следующий час. Постройте модель для такого предсказания.\n",
    "\n",
    "Значение метрики *RMSE* на тестовой выборке должно быть не больше 48.\n",
    "\n",
    "Вам нужно:\n",
    "\n",
    "1. Загрузить данные и выполнить их ресемплирование по одному часу.\n",
    "2. Проанализировать данные.\n",
    "3. Обучить разные модели с различными гиперпараметрами. Сделать тестовую выборку размером 10% от исходных данных.\n",
    "4. Проверить данные на тестовой выборке и сделать выводы.\n",
    "\n",
    "\n",
    "Данные лежат в файле `taxi.csv`. Количество заказов находится в столбце `num_orders` (от англ. *number of orders*, «число заказов»)."
   ]
  },
  {
   "cell_type": "markdown",
   "metadata": {
    "id": "jXzVaUdUte4Q"
   },
   "source": [
    "# Описание данных\n",
    "\n",
    "Количество заказов находится в столбце ***'num_orders'*** (от англ. number of orders, «число заказов»)."
   ]
  },
  {
   "cell_type": "markdown",
   "metadata": {
    "id": "zzo6KXwqte4S"
   },
   "source": [
    "## Подготовка и изучение данных"
   ]
  },
  {
   "cell_type": "code",
   "execution_count": null,
   "metadata": {
    "id": "3s6-i4gHte4T"
   },
   "outputs": [],
   "source": [
    "import pandas as pd \n",
    "import numpy as np \n",
    "from statsmodels.tsa.seasonal import seasonal_decompose \n",
    "import matplotlib.pyplot as plt \n",
    "import seaborn as sns\n",
    "sns.set_style(\"darkgrid\")\n",
    "from sklearn.model_selection import train_test_split, GridSearchCV, TimeSeriesSplit\n",
    "from sklearn.metrics import mean_squared_error \n",
    "from sklearn.linear_model import LinearRegression \n",
    "from lightgbm import LGBMRegressor \n",
    "from catboost import CatBoostRegressor\n",
    "from sklearn.dummy import DummyRegressor\n",
    "\n",
    "import warnings \n",
    "warnings.simplefilter('ignore')"
   ]
  },
  {
   "cell_type": "code",
   "execution_count": null,
   "metadata": {
    "id": "UFfOGLfKte4V"
   },
   "outputs": [],
   "source": [
    "df = pd.read_csv('/datasets/taxi.csv', index_col=[0], parse_dates=[0])"
   ]
  },
  {
   "cell_type": "code",
   "execution_count": null,
   "metadata": {
    "id": "at73SdXute4W",
    "outputId": "e6d2feb1-1de8-421b-d921-ddc30a83af09"
   },
   "outputs": [
    {
     "data": {
      "text/html": [
       "<div>\n",
       "<style scoped>\n",
       "    .dataframe tbody tr th:only-of-type {\n",
       "        vertical-align: middle;\n",
       "    }\n",
       "\n",
       "    .dataframe tbody tr th {\n",
       "        vertical-align: top;\n",
       "    }\n",
       "\n",
       "    .dataframe thead th {\n",
       "        text-align: right;\n",
       "    }\n",
       "</style>\n",
       "<table border=\"1\" class=\"dataframe\">\n",
       "  <thead>\n",
       "    <tr style=\"text-align: right;\">\n",
       "      <th></th>\n",
       "      <th>num_orders</th>\n",
       "    </tr>\n",
       "    <tr>\n",
       "      <th>datetime</th>\n",
       "      <th></th>\n",
       "    </tr>\n",
       "  </thead>\n",
       "  <tbody>\n",
       "    <tr>\n",
       "      <th>2018-03-01 00:00:00</th>\n",
       "      <td>9</td>\n",
       "    </tr>\n",
       "    <tr>\n",
       "      <th>2018-03-01 00:10:00</th>\n",
       "      <td>14</td>\n",
       "    </tr>\n",
       "    <tr>\n",
       "      <th>2018-03-01 00:20:00</th>\n",
       "      <td>28</td>\n",
       "    </tr>\n",
       "    <tr>\n",
       "      <th>2018-03-01 00:30:00</th>\n",
       "      <td>20</td>\n",
       "    </tr>\n",
       "    <tr>\n",
       "      <th>2018-03-01 00:40:00</th>\n",
       "      <td>32</td>\n",
       "    </tr>\n",
       "    <tr>\n",
       "      <th>2018-03-01 00:50:00</th>\n",
       "      <td>21</td>\n",
       "    </tr>\n",
       "    <tr>\n",
       "      <th>2018-03-01 01:00:00</th>\n",
       "      <td>7</td>\n",
       "    </tr>\n",
       "    <tr>\n",
       "      <th>2018-03-01 01:10:00</th>\n",
       "      <td>5</td>\n",
       "    </tr>\n",
       "    <tr>\n",
       "      <th>2018-03-01 01:20:00</th>\n",
       "      <td>17</td>\n",
       "    </tr>\n",
       "    <tr>\n",
       "      <th>2018-03-01 01:30:00</th>\n",
       "      <td>12</td>\n",
       "    </tr>\n",
       "    <tr>\n",
       "      <th>2018-03-01 01:40:00</th>\n",
       "      <td>19</td>\n",
       "    </tr>\n",
       "    <tr>\n",
       "      <th>2018-03-01 01:50:00</th>\n",
       "      <td>25</td>\n",
       "    </tr>\n",
       "    <tr>\n",
       "      <th>2018-03-01 02:00:00</th>\n",
       "      <td>22</td>\n",
       "    </tr>\n",
       "    <tr>\n",
       "      <th>2018-03-01 02:10:00</th>\n",
       "      <td>12</td>\n",
       "    </tr>\n",
       "    <tr>\n",
       "      <th>2018-03-01 02:20:00</th>\n",
       "      <td>19</td>\n",
       "    </tr>\n",
       "  </tbody>\n",
       "</table>\n",
       "</div>"
      ],
      "text/plain": [
       "                     num_orders\n",
       "datetime                       \n",
       "2018-03-01 00:00:00           9\n",
       "2018-03-01 00:10:00          14\n",
       "2018-03-01 00:20:00          28\n",
       "2018-03-01 00:30:00          20\n",
       "2018-03-01 00:40:00          32\n",
       "2018-03-01 00:50:00          21\n",
       "2018-03-01 01:00:00           7\n",
       "2018-03-01 01:10:00           5\n",
       "2018-03-01 01:20:00          17\n",
       "2018-03-01 01:30:00          12\n",
       "2018-03-01 01:40:00          19\n",
       "2018-03-01 01:50:00          25\n",
       "2018-03-01 02:00:00          22\n",
       "2018-03-01 02:10:00          12\n",
       "2018-03-01 02:20:00          19"
      ]
     },
     "execution_count": 3,
     "metadata": {},
     "output_type": "execute_result"
    }
   ],
   "source": [
    "df.head(15)"
   ]
  },
  {
   "cell_type": "code",
   "execution_count": null,
   "metadata": {
    "id": "K2aTogz9te4X",
    "outputId": "33efeda3-249c-4612-8bb0-bf10552ff87d"
   },
   "outputs": [
    {
     "name": "stdout",
     "output_type": "stream",
     "text": [
      "<class 'pandas.core.frame.DataFrame'>\n",
      "DatetimeIndex: 26496 entries, 2018-03-01 00:00:00 to 2018-08-31 23:50:00\n",
      "Data columns (total 1 columns):\n",
      " #   Column      Non-Null Count  Dtype\n",
      "---  ------      --------------  -----\n",
      " 0   num_orders  26496 non-null  int64\n",
      "dtypes: int64(1)\n",
      "memory usage: 414.0 KB\n"
     ]
    }
   ],
   "source": [
    "df.info()"
   ]
  },
  {
   "cell_type": "markdown",
   "metadata": {
    "id": "tBzCyH1Zte4X"
   },
   "source": [
    "Проверка наличия пропусков в данных:"
   ]
  },
  {
   "cell_type": "code",
   "execution_count": null,
   "metadata": {
    "id": "V1Wy0KEvte4Y",
    "outputId": "78ded745-d76e-4555-8af6-cee31980fcc0"
   },
   "outputs": [
    {
     "data": {
      "text/plain": [
       "num_orders    0\n",
       "dtype: int64"
      ]
     },
     "execution_count": 5,
     "metadata": {},
     "output_type": "execute_result"
    }
   ],
   "source": [
    "df.isna().sum()"
   ]
  },
  {
   "cell_type": "markdown",
   "metadata": {
    "id": "7GBEa9Yjte4Y"
   },
   "source": [
    "Проверка упорядоченности датасета:"
   ]
  },
  {
   "cell_type": "code",
   "execution_count": null,
   "metadata": {
    "id": "yaGDLyDrte4Y",
    "outputId": "d8cde4d8-bd10-45be-e6a8-83e2ca5ceeae"
   },
   "outputs": [
    {
     "name": "stdout",
     "output_type": "stream",
     "text": [
      "True\n"
     ]
    }
   ],
   "source": [
    "print(df.index.is_monotonic)"
   ]
  },
  {
   "cell_type": "markdown",
   "metadata": {
    "id": "aqe8vJjjte4Z"
   },
   "source": [
    "### Вывод:"
   ]
  },
  {
   "cell_type": "markdown",
   "metadata": {
    "id": "SarD8x6Ate4Z"
   },
   "source": [
    "Данные загружены, не требуют предобработки."
   ]
  },
  {
   "cell_type": "markdown",
   "metadata": {
    "id": "4wC0x3Oqte4a"
   },
   "source": [
    "## Анализ"
   ]
  },
  {
   "cell_type": "markdown",
   "metadata": {
    "id": "rfhtmuhjte4a"
   },
   "source": [
    "Для анализа данных проведем ресемплирование по часу, неделе и месяцу:"
   ]
  },
  {
   "cell_type": "code",
   "execution_count": null,
   "metadata": {
    "id": "YhSmUsT2te4a"
   },
   "outputs": [],
   "source": [
    "month_df = df.resample('1M').sum()\n",
    "week_df = df.resample('1W').sum()\n",
    "hour_df = df.resample('1H').sum()"
   ]
  },
  {
   "cell_type": "markdown",
   "metadata": {
    "id": "voy4q71bte4a"
   },
   "source": [
    "Cтатистика заказов в разбивке по месяцам и неделям:"
   ]
  },
  {
   "cell_type": "code",
   "execution_count": null,
   "metadata": {
    "id": "nH1LZghyte4b",
    "outputId": "544233c3-71d8-466a-a55a-455721ae1a42"
   },
   "outputs": [
    {
     "data": {
      "image/png": "[encoded data removed]",
      "text/plain": [
       "<Figure size 432x288 with 1 Axes>"
      ]
     },
     "metadata": {},
     "output_type": "display_data"
    }
   ],
   "source": [
    "sns.lineplot(x=month_df.index,y=month_df['num_orders'])\n",
    "plt.show()"
   ]
  },
  {
   "cell_type": "code",
   "execution_count": null,
   "metadata": {
    "id": "hQCRw3MFte4b",
    "outputId": "c8e5e03b-e4df-4a15-d39e-da30a1774689"
   },
   "outputs": [
    {
     "data": {
      "image/png": "[encoded data removed]",
      "text/plain": [
       "<Figure size 432x288 with 1 Axes>"
      ]
     },
     "metadata": {},
     "output_type": "display_data"
    }
   ],
   "source": [
    "sns.lineplot(x=week_df.index,y=week_df['num_orders'])\n",
    "plt.show()"
   ]
  },
  {
   "cell_type": "markdown",
   "metadata": {
    "id": "uGix7sBote4b"
   },
   "source": [
    "Cкользящее среднее и скользящее стандартное отклонение:"
   ]
  },
  {
   "cell_type": "code",
   "execution_count": null,
   "metadata": {
    "id": "tK0lRcYwte4b",
    "outputId": "461b861c-ee26-4ee3-a538-9b0b27e5fbef"
   },
   "outputs": [
    {
     "data": {
      "image/png": "[encoded data removed]",
      "text/plain": [
       "<Figure size 1152x576 with 1 Axes>"
      ]
     },
     "metadata": {},
     "output_type": "display_data"
    }
   ],
   "source": [
    "hour_df['mean'] = hour_df['num_orders'].rolling(25).mean()\n",
    "hour_df['std'] = hour_df['num_orders'].rolling(25).std()\n",
    "hour_df.plot(figsize=(16,8))\n",
    "plt.show()"
   ]
  },
  {
   "cell_type": "markdown",
   "metadata": {
    "id": "z18w4kJPte4c"
   },
   "source": [
    "Для анализа тренда и сезонности ресемплируем датасет по часу:"
   ]
  },
  {
   "cell_type": "code",
   "execution_count": null,
   "metadata": {
    "id": "HJyS-ETKte4c"
   },
   "outputs": [],
   "source": [
    "df = df.resample('1H').sum()"
   ]
  },
  {
   "cell_type": "code",
   "execution_count": null,
   "metadata": {
    "id": "PEtmIS5yte4d",
    "outputId": "ff17e282-a8b4-4ca6-bee4-8dc149c6b00e"
   },
   "outputs": [
    {
     "data": {
      "text/html": [
       "<div>\n",
       "<style scoped>\n",
       "    .dataframe tbody tr th:only-of-type {\n",
       "        vertical-align: middle;\n",
       "    }\n",
       "\n",
       "    .dataframe tbody tr th {\n",
       "        vertical-align: top;\n",
       "    }\n",
       "\n",
       "    .dataframe thead th {\n",
       "        text-align: right;\n",
       "    }\n",
       "</style>\n",
       "<table border=\"1\" class=\"dataframe\">\n",
       "  <thead>\n",
       "    <tr style=\"text-align: right;\">\n",
       "      <th></th>\n",
       "      <th>num_orders</th>\n",
       "    </tr>\n",
       "    <tr>\n",
       "      <th>datetime</th>\n",
       "      <th></th>\n",
       "    </tr>\n",
       "  </thead>\n",
       "  <tbody>\n",
       "    <tr>\n",
       "      <th>2018-03-01 00:00:00</th>\n",
       "      <td>124</td>\n",
       "    </tr>\n",
       "    <tr>\n",
       "      <th>2018-03-01 01:00:00</th>\n",
       "      <td>85</td>\n",
       "    </tr>\n",
       "    <tr>\n",
       "      <th>2018-03-01 02:00:00</th>\n",
       "      <td>71</td>\n",
       "    </tr>\n",
       "    <tr>\n",
       "      <th>2018-03-01 03:00:00</th>\n",
       "      <td>66</td>\n",
       "    </tr>\n",
       "    <tr>\n",
       "      <th>2018-03-01 04:00:00</th>\n",
       "      <td>43</td>\n",
       "    </tr>\n",
       "  </tbody>\n",
       "</table>\n",
       "</div>"
      ],
      "text/plain": [
       "                     num_orders\n",
       "datetime                       \n",
       "2018-03-01 00:00:00         124\n",
       "2018-03-01 01:00:00          85\n",
       "2018-03-01 02:00:00          71\n",
       "2018-03-01 03:00:00          66\n",
       "2018-03-01 04:00:00          43"
      ]
     },
     "execution_count": 12,
     "metadata": {},
     "output_type": "execute_result"
    }
   ],
   "source": [
    "df.head()"
   ]
  },
  {
   "cell_type": "code",
   "execution_count": null,
   "metadata": {
    "id": "EbE0RMOQte4d",
    "outputId": "0de5f1fc-05f1-406e-efac-0dae1470cb78",
    "scrolled": false
   },
   "outputs": [
    {
     "data": {
      "image/png": "[encoded data removed]",
      "text/plain": [
       "<Figure size 1152x288 with 1 Axes>"
      ]
     },
     "metadata": {},
     "output_type": "display_data"
    },
    {
     "data": {
      "image/png": "[encoded data removed]",
      "text/plain": [
       "<Figure size 1152x288 with 1 Axes>"
      ]
     },
     "metadata": {},
     "output_type": "display_data"
    },
    {
     "data": {
      "image/png": "[encoded data removed]",
      "text/plain": [
       "<Figure size 1152x288 with 1 Axes>"
      ]
     },
     "metadata": {},
     "output_type": "display_data"
    }
   ],
   "source": [
    "decomposed_df = seasonal_decompose(df)\n",
    "decomposed_df.trend.plot(title='Тренд', figsize=(16,4))\n",
    "plt.show()\n",
    "decomposed_df.seasonal['2018-05-03':'2018-05-09'].plot(title='Сезонность в течении недели', figsize=(16,4))\n",
    "plt.show()\n",
    "decomposed_df.seasonal['2018-05-08':'2018-05-09'].plot(title='Сезонность в течении дня', figsize=(16,4))\n",
    "plt.show()"
   ]
  },
  {
   "cell_type": "markdown",
   "metadata": {
    "id": "c2NN8-wQte4e"
   },
   "source": [
    "### Вывод:"
   ]
  },
  {
   "cell_type": "markdown",
   "metadata": {
    "id": "FAFN4rErte4e"
   },
   "source": [
    "В ходе анализа полученных данных можно сделать следующие выводы:\n",
    "\n",
    "Имеющиеся данные представляют собой количество заказов такси с марта по август 2018 года в разбиении по 10 минут. В ходе предобработки, данные были ресемплированы по 1 часу.\n",
    "\n",
    "- Наблюдаем глобальный тренд на увеличение заказов.\n",
    "- Наблюдаем проявление сезонности ежедневно: больше всего заказов вечером, а меньше всего глубокой ночью.\n",
    "- Сезонность внутри недели также ярко выражена: количество заказов меняется в течении недели с пиками в пятница-суббота и воскресение-понедельник и минимумом в воскресение;\n",
    "\n",
    "Для предсказания количества заказов важными будут являться следующие данные: месяц, день недели и час. Необходимо выделить эти параметры как отдельные признаки в обучающей и тестовой выборках."
   ]
  },
  {
   "cell_type": "markdown",
   "metadata": {
    "id": "-FeLdba9te4f"
   },
   "source": [
    "## Обучение"
   ]
  },
  {
   "cell_type": "markdown",
   "metadata": {
    "id": "WKm12pnUte4f"
   },
   "source": [
    "Прежде чем переходить к обучению моделей, нужно подготовить данные. Для этого создадим функцию ***data_preprocessing***, в которой будут созданы новые признаки, лаги и скользящее среднее. Также датасет будет разбит на обучающую и тестовые выборки, которые будут разбиты на признаки и целевой признак."
   ]
  },
  {
   "cell_type": "code",
   "execution_count": null,
   "metadata": {
    "id": "XB12GAu2te4f"
   },
   "outputs": [],
   "source": [
    "def data_preprocessing(df, lag_max):\n",
    "\n",
    "    copy_df = pd.DataFrame(df.copy())\n",
    "\n",
    "    copy_df['month'] = copy_df.index.month\n",
    "    copy_df['dayofweek'] = copy_df.index.dayofweek\n",
    "    copy_df['hour'] = copy_df.index.hour\n",
    "    \n",
    "    for lag in range(1, lag_max + 1):\n",
    "        copy_df[\"lag_{}\".format(lag)] = copy_df['num_orders'].shift(lag)\n",
    "        \n",
    "    copy_df['rolling_mean'] = copy_df['num_orders'].shift().rolling(10).mean()    \n",
    "    \n",
    "    train_df, test_df = train_test_split(copy_df, shuffle=False, test_size=0.1, random_state=2444666666)\n",
    "    train_df = train_df.dropna()\n",
    "        \n",
    "    target_train = train_df['num_orders']\n",
    "    features_train = train_df.drop('num_orders', axis=1)\n",
    "    target_test = test_df['num_orders']\n",
    "    features_test = test_df.drop('num_orders', axis=1)\n",
    "    \n",
    "    return features_train, features_test, target_train, target_test"
   ]
  },
  {
   "cell_type": "code",
   "execution_count": null,
   "metadata": {
    "id": "kjU_LD33te4h"
   },
   "outputs": [],
   "source": [
    "features_train, features_test, target_train, target_test = data_preprocessing(df, lag_max=10)"
   ]
  },
  {
   "cell_type": "code",
   "execution_count": null,
   "metadata": {
    "id": "3ZkF_KHPte4i",
    "outputId": "69928cd3-1304-4e23-c75c-ddde531c56d0"
   },
   "outputs": [
    {
     "data": {
      "text/html": [
       "<div>\n",
       "<style scoped>\n",
       "    .dataframe tbody tr th:only-of-type {\n",
       "        vertical-align: middle;\n",
       "    }\n",
       "\n",
       "    .dataframe tbody tr th {\n",
       "        vertical-align: top;\n",
       "    }\n",
       "\n",
       "    .dataframe thead th {\n",
       "        text-align: right;\n",
       "    }\n",
       "</style>\n",
       "<table border=\"1\" class=\"dataframe\">\n",
       "  <thead>\n",
       "    <tr style=\"text-align: right;\">\n",
       "      <th></th>\n",
       "      <th>month</th>\n",
       "      <th>dayofweek</th>\n",
       "      <th>hour</th>\n",
       "      <th>lag_1</th>\n",
       "      <th>lag_2</th>\n",
       "      <th>lag_3</th>\n",
       "      <th>lag_4</th>\n",
       "      <th>lag_5</th>\n",
       "      <th>lag_6</th>\n",
       "      <th>lag_7</th>\n",
       "      <th>lag_8</th>\n",
       "      <th>lag_9</th>\n",
       "      <th>lag_10</th>\n",
       "      <th>rolling_mean</th>\n",
       "    </tr>\n",
       "    <tr>\n",
       "      <th>datetime</th>\n",
       "      <th></th>\n",
       "      <th></th>\n",
       "      <th></th>\n",
       "      <th></th>\n",
       "      <th></th>\n",
       "      <th></th>\n",
       "      <th></th>\n",
       "      <th></th>\n",
       "      <th></th>\n",
       "      <th></th>\n",
       "      <th></th>\n",
       "      <th></th>\n",
       "      <th></th>\n",
       "      <th></th>\n",
       "    </tr>\n",
       "  </thead>\n",
       "  <tbody>\n",
       "    <tr>\n",
       "      <th>2018-03-01 10:00:00</th>\n",
       "      <td>3</td>\n",
       "      <td>3</td>\n",
       "      <td>10</td>\n",
       "      <td>69.0</td>\n",
       "      <td>34.0</td>\n",
       "      <td>15.0</td>\n",
       "      <td>12.0</td>\n",
       "      <td>6.0</td>\n",
       "      <td>43.0</td>\n",
       "      <td>66.0</td>\n",
       "      <td>71.0</td>\n",
       "      <td>85.0</td>\n",
       "      <td>124.0</td>\n",
       "      <td>52.5</td>\n",
       "    </tr>\n",
       "    <tr>\n",
       "      <th>2018-03-01 11:00:00</th>\n",
       "      <td>3</td>\n",
       "      <td>3</td>\n",
       "      <td>11</td>\n",
       "      <td>64.0</td>\n",
       "      <td>69.0</td>\n",
       "      <td>34.0</td>\n",
       "      <td>15.0</td>\n",
       "      <td>12.0</td>\n",
       "      <td>6.0</td>\n",
       "      <td>43.0</td>\n",
       "      <td>66.0</td>\n",
       "      <td>71.0</td>\n",
       "      <td>85.0</td>\n",
       "      <td>46.5</td>\n",
       "    </tr>\n",
       "    <tr>\n",
       "      <th>2018-03-01 12:00:00</th>\n",
       "      <td>3</td>\n",
       "      <td>3</td>\n",
       "      <td>12</td>\n",
       "      <td>96.0</td>\n",
       "      <td>64.0</td>\n",
       "      <td>69.0</td>\n",
       "      <td>34.0</td>\n",
       "      <td>15.0</td>\n",
       "      <td>12.0</td>\n",
       "      <td>6.0</td>\n",
       "      <td>43.0</td>\n",
       "      <td>66.0</td>\n",
       "      <td>71.0</td>\n",
       "      <td>47.6</td>\n",
       "    </tr>\n",
       "    <tr>\n",
       "      <th>2018-03-01 13:00:00</th>\n",
       "      <td>3</td>\n",
       "      <td>3</td>\n",
       "      <td>13</td>\n",
       "      <td>30.0</td>\n",
       "      <td>96.0</td>\n",
       "      <td>64.0</td>\n",
       "      <td>69.0</td>\n",
       "      <td>34.0</td>\n",
       "      <td>15.0</td>\n",
       "      <td>12.0</td>\n",
       "      <td>6.0</td>\n",
       "      <td>43.0</td>\n",
       "      <td>66.0</td>\n",
       "      <td>43.5</td>\n",
       "    </tr>\n",
       "    <tr>\n",
       "      <th>2018-03-01 14:00:00</th>\n",
       "      <td>3</td>\n",
       "      <td>3</td>\n",
       "      <td>14</td>\n",
       "      <td>32.0</td>\n",
       "      <td>30.0</td>\n",
       "      <td>96.0</td>\n",
       "      <td>64.0</td>\n",
       "      <td>69.0</td>\n",
       "      <td>34.0</td>\n",
       "      <td>15.0</td>\n",
       "      <td>12.0</td>\n",
       "      <td>6.0</td>\n",
       "      <td>43.0</td>\n",
       "      <td>40.1</td>\n",
       "    </tr>\n",
       "  </tbody>\n",
       "</table>\n",
       "</div>"
      ],
      "text/plain": [
       "                     month  dayofweek  hour  lag_1  lag_2  lag_3  lag_4  \\\n",
       "datetime                                                                  \n",
       "2018-03-01 10:00:00      3          3    10   69.0   34.0   15.0   12.0   \n",
       "2018-03-01 11:00:00      3          3    11   64.0   69.0   34.0   15.0   \n",
       "2018-03-01 12:00:00      3          3    12   96.0   64.0   69.0   34.0   \n",
       "2018-03-01 13:00:00      3          3    13   30.0   96.0   64.0   69.0   \n",
       "2018-03-01 14:00:00      3          3    14   32.0   30.0   96.0   64.0   \n",
       "\n",
       "                     lag_5  lag_6  lag_7  lag_8  lag_9  lag_10  rolling_mean  \n",
       "datetime                                                                      \n",
       "2018-03-01 10:00:00    6.0   43.0   66.0   71.0   85.0   124.0          52.5  \n",
       "2018-03-01 11:00:00   12.0    6.0   43.0   66.0   71.0    85.0          46.5  \n",
       "2018-03-01 12:00:00   15.0   12.0    6.0   43.0   66.0    71.0          47.6  \n",
       "2018-03-01 13:00:00   34.0   15.0   12.0    6.0   43.0    66.0          43.5  \n",
       "2018-03-01 14:00:00   69.0   34.0   15.0   12.0    6.0    43.0          40.1  "
      ]
     },
     "execution_count": 16,
     "metadata": {},
     "output_type": "execute_result"
    }
   ],
   "source": [
    "features_train.head()"
   ]
  },
  {
   "cell_type": "code",
   "execution_count": null,
   "metadata": {
    "id": "RcIqTGV1te4i",
    "outputId": "3ce7a63f-9702-45a5-a3bc-a120af6f9afd"
   },
   "outputs": [
    {
     "data": {
      "text/plain": [
       "datetime\n",
       "2018-08-13 14:00:00    102\n",
       "2018-08-13 15:00:00    175\n",
       "2018-08-13 16:00:00    144\n",
       "2018-08-13 17:00:00    152\n",
       "2018-08-13 18:00:00    104\n",
       "Freq: H, Name: num_orders, dtype: int64"
      ]
     },
     "execution_count": 17,
     "metadata": {},
     "output_type": "execute_result"
    }
   ],
   "source": [
    "target_test.head()"
   ]
  },
  {
   "cell_type": "code",
   "execution_count": null,
   "metadata": {
    "id": "Zt41OAdGte4i",
    "outputId": "c28b0092-e840-4d56-d19d-ddf299695519"
   },
   "outputs": [
    {
     "name": "stdout",
     "output_type": "stream",
     "text": [
      "Размер обучающей выборки: 3964 объектов, 14 признаков\n",
      "Размер тестовой выборки: 442 объектов, 14 признаков\n"
     ]
    }
   ],
   "source": [
    "print('Размер обучающей выборки: {} объектов, {} признаков'.format(features_train.shape[0], features_train.shape[1]))\n",
    "print('Размер тестовой выборки: {} объектов, {} признаков'.format(features_test.shape[0], features_test.shape[1]))"
   ]
  },
  {
   "cell_type": "markdown",
   "metadata": {
    "id": "tDiAZqx6te4j"
   },
   "source": [
    "### Dummy модель"
   ]
  },
  {
   "cell_type": "code",
   "execution_count": null,
   "metadata": {
    "id": "x2k4gr5mte4j",
    "outputId": "eb218165-17ab-4428-921c-dbcac16331aa"
   },
   "outputs": [
    {
     "name": "stdout",
     "output_type": "stream",
     "text": [
      "DummyRegressor RMSE: 38.65283939410698\n"
     ]
    }
   ],
   "source": [
    "dummy_model = DummyRegressor(strategy=\"mean\")\n",
    "dummy_model.fit(features_train, target_train)\n",
    "dummy_predicted = dummy_model.predict(features_train)\n",
    "rmse_dummy = mean_squared_error(target_train, dummy_predicted)**0.5\n",
    "\n",
    "print('DummyRegressor RMSE:', rmse_dummy)"
   ]
  },
  {
   "cell_type": "markdown",
   "metadata": {
    "id": "FvkGwjEGte4j"
   },
   "source": [
    "### Линейная регрессия"
   ]
  },
  {
   "cell_type": "code",
   "execution_count": null,
   "metadata": {
    "id": "61UZeMZdte4j",
    "outputId": "2abbd88b-d0c9-4ba6-a4af-bba24f52694e"
   },
   "outputs": [
    {
     "name": "stdout",
     "output_type": "stream",
     "text": [
      "{'normalize': False}\n",
      "LinearRegression RMSE: 31.958550516329094\n"
     ]
    }
   ],
   "source": [
    "parametrs = {'normalize' : [True, False]}   \n",
    "cv = TimeSeriesSplit(n_splits=5)\n",
    "\n",
    "linear_regression_model = LinearRegression(n_jobs=-1)\n",
    "grid_linear_regression_model = GridSearchCV(estimator=linear_regression_model, param_grid=parametrs, cv=cv, scoring='neg_mean_squared_error')\n",
    "grid_linear_regression_model.fit(features_train, target_train)\n",
    "\n",
    "mse_lr = grid_linear_regression_model.best_score_*(-1)\n",
    "rmse_lr = mse_lr**0.5\n",
    "print(grid_linear_regression_model.best_params_)\n",
    "print('LinearRegression RMSE:', rmse_lr)"
   ]
  },
  {
   "cell_type": "markdown",
   "metadata": {
    "id": "yIps0SC-te4k"
   },
   "source": [
    "### LightGBM"
   ]
  },
  {
   "cell_type": "code",
   "execution_count": null,
   "metadata": {
    "id": "K6wSplMute4k",
    "scrolled": true
   },
   "outputs": [],
   "source": [
    "# parametrs = {'max_depth': range(1, 21, 2), 'learning_rate': [0.1, 0.2, 0.3, 0.4], 'n_estimators': range(1, 502, 100)}         \n",
    "# cv = TimeSeriesSplit(n_splits=5)\n",
    "\n",
    "# lgb_model = LGBMRegressor(random_state=244466666)\n",
    "# grid_lgb = GridSearchCV(estimator=lgb_model, cv=cv, param_grid=parametrs, scoring='neg_mean_squared_error')\n",
    "# grid_lgb.fit(features_train, target_train)\n",
    "\n",
    "# mse_lgb = grid_lgb.best_score_*(-1)\n",
    "# rmse_lgb = mse_lgb**0.5\n",
    "# print(grid_lgb.best_params_)\n",
    "# print('LightGBM RMSE:', rmse_lgb)"
   ]
  },
  {
   "cell_type": "markdown",
   "metadata": {
    "id": "qOICp44ate4k"
   },
   "source": [
    "{'learning_rate': 0.2, 'max_depth': 7, 'n_estimators': 501}\n",
    "\n",
    "LightGBM RMSE: 25.964657468947333"
   ]
  },
  {
   "cell_type": "markdown",
   "metadata": {
    "id": "nRubj9Kjte4k"
   },
   "source": [
    "### CatBoost"
   ]
  },
  {
   "cell_type": "code",
   "execution_count": null,
   "metadata": {
    "id": "50ugrwcjte4k"
   },
   "outputs": [],
   "source": [
    "# parametrs = {'iterations': range(1, 502, 100), 'learning_rate': [0.1, 0.2, 0.3, 0.4], 'depth': range(1, 21, 2)}\n",
    "# cv = TimeSeriesSplit(n_splits=5) \n",
    "\n",
    "# cbr_model = CatBoostRegressor()\n",
    "# grid_cbr = GridSearchCV(estimator=cbr_model, param_grid=parametrs, cv=cv, scoring='neg_mean_squared_error')\n",
    "# grid_cbr.fit(features_train, target_train)\n",
    "\n",
    "# mse_cbr = grid_cbr.best_score_*(-1)\n",
    "# rmse_cbr = mse_cbr**0.5\n",
    "# print(grid_cbr.best_params_)\n",
    "# print('CatBoost RMSE:', rmse_cbr)"
   ]
  },
  {
   "cell_type": "markdown",
   "metadata": {
    "id": "l91z1gv6te4l"
   },
   "source": [
    "{'depth': 7, 'iterations': 501, 'learning_rate': 0.2}\n",
    "\n",
    "CatBoost RMSE: 25.647510937817955"
   ]
  },
  {
   "cell_type": "markdown",
   "metadata": {
    "id": "D5qWeteEte4l"
   },
   "source": [
    "### Результат по итогам обучения"
   ]
  },
  {
   "cell_type": "code",
   "execution_count": null,
   "metadata": {
    "id": "JV8FJLAqte4l",
    "outputId": "b20030cc-b550-45e4-ac3b-24d1e8df7f5a"
   },
   "outputs": [
    {
     "data": {
      "text/html": [
       "<div>\n",
       "<style scoped>\n",
       "    .dataframe tbody tr th:only-of-type {\n",
       "        vertical-align: middle;\n",
       "    }\n",
       "\n",
       "    .dataframe tbody tr th {\n",
       "        vertical-align: top;\n",
       "    }\n",
       "\n",
       "    .dataframe thead th {\n",
       "        text-align: right;\n",
       "    }\n",
       "</style>\n",
       "<table border=\"1\" class=\"dataframe\">\n",
       "  <thead>\n",
       "    <tr style=\"text-align: right;\">\n",
       "      <th></th>\n",
       "      <th>rmse</th>\n",
       "    </tr>\n",
       "  </thead>\n",
       "  <tbody>\n",
       "    <tr>\n",
       "      <th>DummyRegressor</th>\n",
       "      <td>38.652839</td>\n",
       "    </tr>\n",
       "    <tr>\n",
       "      <th>LinearRegression</th>\n",
       "      <td>31.958551</td>\n",
       "    </tr>\n",
       "    <tr>\n",
       "      <th>LGBMRegressor</th>\n",
       "      <td>25.964657</td>\n",
       "    </tr>\n",
       "    <tr>\n",
       "      <th>CatBoostRegressor</th>\n",
       "      <td>25.647511</td>\n",
       "    </tr>\n",
       "  </tbody>\n",
       "</table>\n",
       "</div>"
      ],
      "text/plain": [
       "                        rmse\n",
       "DummyRegressor     38.652839\n",
       "LinearRegression   31.958551\n",
       "LGBMRegressor      25.964657\n",
       "CatBoostRegressor  25.647511"
      ]
     },
     "execution_count": 23,
     "metadata": {},
     "output_type": "execute_result"
    }
   ],
   "source": [
    "intermediate_result = pd.DataFrame([[rmse_dummy],[rmse_lr],[25.964657468947333],[25.647510937817955]],\n",
    "                           columns = ['rmse'],\n",
    "                           index = ['DummyRegressor','LinearRegression','LGBMRegressor','CatBoostRegressor'])\n",
    "intermediate_result"
   ]
  },
  {
   "cell_type": "markdown",
   "metadata": {
    "id": "ZVzR-3iyte4m"
   },
   "source": [
    "## Тестирование"
   ]
  },
  {
   "cell_type": "markdown",
   "metadata": {
    "id": "vVy2eHXMte4m"
   },
   "source": [
    "Найдем значения метрики RMSE для каждой из моделей и для наглядности построим графики сравнения предсказанных и реальных значений числа заказов такси."
   ]
  },
  {
   "cell_type": "markdown",
   "metadata": {
    "id": "uBI4bM3Jte4m"
   },
   "source": [
    "### Линейная регрессия"
   ]
  },
  {
   "cell_type": "code",
   "execution_count": null,
   "metadata": {
    "id": "ePARW6izte4m",
    "outputId": "89dbfdb9-03d6-4605-90b4-55d5a10a4cd0"
   },
   "outputs": [
    {
     "name": "stdout",
     "output_type": "stream",
     "text": [
      "LinearRegression RMSE: 54.1541\n"
     ]
    }
   ],
   "source": [
    "best_lr_model = LinearRegression(normalize=True)\n",
    "best_lr_model.fit(features_train, target_train)\n",
    "lr_predicted = best_lr_model.predict(features_test)\n",
    "rmse_lr = mean_squared_error(target_test, lr_predicted) ** 0.5\n",
    "print(f'LinearRegression RMSE: {rmse_lr:.4f}')       "
   ]
  },
  {
   "cell_type": "code",
   "execution_count": null,
   "metadata": {
    "id": "Q_AZvmNIte4m",
    "outputId": "64ccc960-a3d8-4545-bad1-4fef2afb78e2"
   },
   "outputs": [
    {
     "data": {
      "image/png": "[encoded data removed]",
      "text/plain": [
       "<Figure size 1224x576 with 1 Axes>"
      ]
     },
     "metadata": {},
     "output_type": "display_data"
    }
   ],
   "source": [
    "lr_predicted_series = pd.Series(lr_predicted, index=target_test.index)\n",
    "plt.figure(figsize=(17,8))\n",
    "target_test['2018-07-20':'2018-08-21'].plot(legend=True, label='real values')\n",
    "lr_predicted_series['2018-07-20':'2018-08-21'].plot(legend=True, label='predicted values')\n",
    "plt.show()"
   ]
  },
  {
   "cell_type": "markdown",
   "metadata": {
    "id": "2urxK-47te4n"
   },
   "source": [
    "### LightGBM"
   ]
  },
  {
   "cell_type": "code",
   "execution_count": null,
   "metadata": {
    "id": "fdoVZKcbte4n",
    "outputId": "b6d20970-0956-4c71-d188-74bacb767a55"
   },
   "outputs": [
    {
     "name": "stdout",
     "output_type": "stream",
     "text": [
      "LGBMRegressor RMSE: 44.6949\n"
     ]
    }
   ],
   "source": [
    "best_lgbm_model = LGBMRegressor(learning_rate=0.2, max_depth=7, n_estimators=501, random_state=244466666)\n",
    "best_lgbm_model.fit(features_train, target_train)\n",
    "lgbm_predicted = best_lgbm_model.predict(features_test)\n",
    "rmse_lgbm = mean_squared_error(target_test, lgbm_predicted) ** 0.5\n",
    "print(f'LGBMRegressor RMSE: {rmse_lgbm:.4f}') "
   ]
  },
  {
   "cell_type": "code",
   "execution_count": null,
   "metadata": {
    "id": "MiFwOoABte4n",
    "outputId": "6be97580-d44b-41d0-8985-cb41195ad89d"
   },
   "outputs": [
    {
     "data": {
      "image/png": "[encoded data removed]",
      "text/plain": [
       "<Figure size 1224x576 with 1 Axes>"
      ]
     },
     "metadata": {},
     "output_type": "display_data"
    }
   ],
   "source": [
    "lgbm_predicted_series = pd.Series(lgbm_predicted, index=target_test.index)\n",
    "plt.figure(figsize=(17,8))\n",
    "target_test['2018-07-20':'2018-08-21'].plot(legend=True, label='real values')\n",
    "lgbm_predicted_series['2018-07-20':'2018-08-21'].plot(legend=True, label='predicted values')\n",
    "plt.show()"
   ]
  },
  {
   "cell_type": "markdown",
   "metadata": {
    "id": "OwuiWrNbte4n"
   },
   "source": [
    "### CatBoost"
   ]
  },
  {
   "cell_type": "code",
   "execution_count": null,
   "metadata": {
    "id": "X1fpnmScte4o",
    "outputId": "ba477971-7f33-4a16-bb17-57138f455fd4"
   },
   "outputs": [
    {
     "name": "stdout",
     "output_type": "stream",
     "text": [
      "RandomForestRegressor RMSE: 44.2442\n"
     ]
    }
   ],
   "source": [
    "best_cbr_model = CatBoostRegressor(depth=7, iterations=501, learning_rate=0.2, verbose=0)\n",
    "best_cbr_model.fit(features_train, target_train)\n",
    "cbr_predicted = best_cbr_model.predict(features_test)\n",
    "rmse_cbr = mean_squared_error(target_test, cbr_predicted) ** 0.5\n",
    "print(f'RandomForestRegressor RMSE: {rmse_cbr:.4f}')"
   ]
  },
  {
   "cell_type": "code",
   "execution_count": null,
   "metadata": {
    "id": "qIrDZpaFte4o",
    "outputId": "bc7fa984-0767-4fea-f785-f6b4cdc9412a"
   },
   "outputs": [
    {
     "data": {
      "image/png": "[encoded data removed]",
      "text/plain": [
       "<Figure size 1224x576 with 1 Axes>"
      ]
     },
     "metadata": {},
     "output_type": "display_data"
    }
   ],
   "source": [
    "cbr_predicted_series = pd.Series(cbr_predicted, index=target_test.index)\n",
    "plt.figure(figsize=(17,8))\n",
    "target_test['2018-07-20':'2018-08-21'].plot(legend=True, label='real values')\n",
    "cbr_predicted_series['2018-07-20':'2018-08-21'].plot(legend=True, label='predicted values')\n",
    "plt.show()"
   ]
  },
  {
   "cell_type": "markdown",
   "metadata": {
    "id": "yDYuGtW_te4o"
   },
   "source": [
    "### Финальный результат"
   ]
  },
  {
   "cell_type": "code",
   "execution_count": null,
   "metadata": {
    "id": "Dusj0VHnte4o",
    "outputId": "b175b23a-3019-4e84-e49f-26918f0d2024"
   },
   "outputs": [
    {
     "data": {
      "text/html": [
       "<div>\n",
       "<style scoped>\n",
       "    .dataframe tbody tr th:only-of-type {\n",
       "        vertical-align: middle;\n",
       "    }\n",
       "\n",
       "    .dataframe tbody tr th {\n",
       "        vertical-align: top;\n",
       "    }\n",
       "\n",
       "    .dataframe thead th {\n",
       "        text-align: right;\n",
       "    }\n",
       "</style>\n",
       "<table border=\"1\" class=\"dataframe\">\n",
       "  <thead>\n",
       "    <tr style=\"text-align: right;\">\n",
       "      <th></th>\n",
       "      <th>rmse_test</th>\n",
       "    </tr>\n",
       "  </thead>\n",
       "  <tbody>\n",
       "    <tr>\n",
       "      <th>LinearRegression</th>\n",
       "      <td>54.154128</td>\n",
       "    </tr>\n",
       "    <tr>\n",
       "      <th>LGBMRegressor</th>\n",
       "      <td>44.694858</td>\n",
       "    </tr>\n",
       "    <tr>\n",
       "      <th>CatBoostRegressor</th>\n",
       "      <td>44.244213</td>\n",
       "    </tr>\n",
       "  </tbody>\n",
       "</table>\n",
       "</div>"
      ],
      "text/plain": [
       "                   rmse_test\n",
       "LinearRegression   54.154128\n",
       "LGBMRegressor      44.694858\n",
       "CatBoostRegressor  44.244213"
      ]
     },
     "execution_count": 30,
     "metadata": {},
     "output_type": "execute_result"
    }
   ],
   "source": [
    "final_result = pd.DataFrame([[rmse_lr],[rmse_lgbm],[rmse_cbr]], columns = ['rmse_test'],\n",
    "                           index = ['LinearRegression','LGBMRegressor','CatBoostRegressor'])\n",
    "final_result"
   ]
  },
  {
   "cell_type": "markdown",
   "metadata": {
    "id": "NXE9pwOVte4p"
   },
   "source": [
    "## Вывод"
   ]
  },
  {
   "cell_type": "markdown",
   "metadata": {
    "id": "nPjSnvhTte4p"
   },
   "source": [
    "Целью данной работы было получить модель, предсказывающую количество заказов такси на следующий час. Для предсказаний были выбраны модели линейной регрессии и градиентного бустинга. Результаты оценивались метрикой RMSE, в результате тестирования ошибка двух моделей оказалась лучше требуемой заказчиком - это модели LightGBM и CatBoost.\n",
    "\n",
    "Лучшей моделью на тестовой выборке оказалась CatBoost модель. Полученный результат RMSE равен 44.244. Результаты исследований можно применять для дальнейшей разработки предсказательной модели и внедрения в бизнес процесс."
   ]
  }
 ],
 "metadata": {
  "ExecuteTimeLog": [
   {
    "duration": 3564,
    "start_time": "2022-04-04T09:19:07.993Z"
   },
   {
    "duration": 71,
    "start_time": "2022-04-04T09:20:50.281Z"
   },
   {
    "duration": 19,
    "start_time": "2022-04-04T09:20:53.951Z"
   },
   {
    "duration": 11,
    "start_time": "2022-04-04T09:21:04.558Z"
   },
   {
    "duration": 20,
    "start_time": "2022-04-04T09:21:17.575Z"
   },
   {
    "duration": 8,
    "start_time": "2022-04-04T09:21:22.679Z"
   },
   {
    "duration": 5,
    "start_time": "2022-04-04T09:21:29.903Z"
   },
   {
    "duration": 25,
    "start_time": "2022-04-04T09:23:22.930Z"
   },
   {
    "duration": 497,
    "start_time": "2022-04-04T09:23:23.111Z"
   },
   {
    "duration": 425,
    "start_time": "2022-04-04T09:23:23.611Z"
   },
   {
    "duration": 743,
    "start_time": "2022-04-04T09:23:24.038Z"
   },
   {
    "duration": 25,
    "start_time": "2022-04-04T09:23:59.565Z"
   },
   {
    "duration": 346,
    "start_time": "2022-04-04T09:24:06.894Z"
   },
   {
    "duration": 29,
    "start_time": "2022-04-04T09:24:39.379Z"
   },
   {
    "duration": 34,
    "start_time": "2022-04-04T09:24:46.223Z"
   },
   {
    "duration": 29,
    "start_time": "2022-04-04T09:25:17.913Z"
   },
   {
    "duration": 17,
    "start_time": "2022-04-04T09:26:36.131Z"
   },
   {
    "duration": 7,
    "start_time": "2022-04-04T09:26:57.195Z"
   },
   {
    "duration": 32,
    "start_time": "2022-04-04T09:27:00.374Z"
   },
   {
    "duration": 33,
    "start_time": "2022-04-04T09:27:09.420Z"
   },
   {
    "duration": 17,
    "start_time": "2022-04-04T09:29:57.668Z"
   },
   {
    "duration": 31,
    "start_time": "2022-04-04T09:30:03.029Z"
   },
   {
    "duration": 29,
    "start_time": "2022-04-04T09:33:26.470Z"
   },
   {
    "duration": 6,
    "start_time": "2022-04-04T09:34:37.334Z"
   },
   {
    "duration": 33,
    "start_time": "2022-04-04T09:34:40.539Z"
   },
   {
    "duration": 19,
    "start_time": "2022-04-04T09:38:34.606Z"
   },
   {
    "duration": 2155,
    "start_time": "2022-04-04T09:38:56.035Z"
   },
   {
    "duration": 45,
    "start_time": "2022-04-04T09:38:58.195Z"
   },
   {
    "duration": 16,
    "start_time": "2022-04-04T09:38:58.242Z"
   },
   {
    "duration": 44,
    "start_time": "2022-04-04T09:38:58.262Z"
   },
   {
    "duration": 26,
    "start_time": "2022-04-04T09:38:58.308Z"
   },
   {
    "duration": 8,
    "start_time": "2022-04-04T09:38:58.336Z"
   },
   {
    "duration": 43,
    "start_time": "2022-04-04T09:38:58.346Z"
   },
   {
    "duration": 545,
    "start_time": "2022-04-04T09:38:58.392Z"
   },
   {
    "duration": 457,
    "start_time": "2022-04-04T09:38:58.939Z"
   },
   {
    "duration": 778,
    "start_time": "2022-04-04T09:38:59.399Z"
   },
   {
    "duration": 26,
    "start_time": "2022-04-04T09:39:00.179Z"
   },
   {
    "duration": 211,
    "start_time": "2022-04-04T09:39:00.207Z"
   },
   {
    "duration": 18,
    "start_time": "2022-04-04T09:40:18.732Z"
   },
   {
    "duration": 18,
    "start_time": "2022-04-04T09:41:29.999Z"
   },
   {
    "duration": 7,
    "start_time": "2022-04-04T09:41:39.935Z"
   },
   {
    "duration": 20,
    "start_time": "2022-04-04T09:41:41.592Z"
   },
   {
    "duration": 9,
    "start_time": "2022-04-04T09:41:59.739Z"
   },
   {
    "duration": 19,
    "start_time": "2022-04-04T09:42:01.155Z"
   },
   {
    "duration": 118,
    "start_time": "2022-04-04T09:42:19.563Z"
   },
   {
    "duration": 19,
    "start_time": "2022-04-04T09:42:22.419Z"
   },
   {
    "duration": 34,
    "start_time": "2022-04-04T11:16:17.263Z"
   },
   {
    "duration": 22,
    "start_time": "2022-04-04T11:40:28.149Z"
   },
   {
    "duration": 11,
    "start_time": "2022-04-04T11:57:21.011Z"
   },
   {
    "duration": 27,
    "start_time": "2022-04-04T11:57:37.663Z"
   },
   {
    "duration": 1068,
    "start_time": "2022-04-04T11:57:41.304Z"
   },
   {
    "duration": 1319,
    "start_time": "2022-04-04T11:58:57.327Z"
   },
   {
    "duration": 139,
    "start_time": "2022-04-04T11:59:46.446Z"
   },
   {
    "duration": 16,
    "start_time": "2022-04-04T11:59:59.169Z"
   },
   {
    "duration": 1350,
    "start_time": "2022-04-04T12:00:03.512Z"
   },
   {
    "duration": 16,
    "start_time": "2022-04-04T12:00:21.856Z"
   },
   {
    "duration": 35,
    "start_time": "2022-04-04T12:01:02.864Z"
   },
   {
    "duration": 1599,
    "start_time": "2022-04-04T12:01:09.655Z"
   },
   {
    "duration": 520,
    "start_time": "2022-04-04T12:03:25.535Z"
   },
   {
    "duration": 1601,
    "start_time": "2022-04-04T12:03:36.333Z"
   },
   {
    "duration": 1296,
    "start_time": "2022-04-04T12:03:59.170Z"
   },
   {
    "duration": 1389,
    "start_time": "2022-04-04T12:04:17.468Z"
   },
   {
    "duration": 1774,
    "start_time": "2022-04-04T12:04:39.315Z"
   },
   {
    "duration": 1514,
    "start_time": "2022-04-04T12:04:49.609Z"
   },
   {
    "duration": 1655,
    "start_time": "2022-04-04T12:05:22.250Z"
   },
   {
    "duration": 22,
    "start_time": "2022-04-04T12:08:13.950Z"
   },
   {
    "duration": 19,
    "start_time": "2022-04-04T12:08:30.582Z"
   },
   {
    "duration": 22,
    "start_time": "2022-04-04T12:08:46.489Z"
   },
   {
    "duration": 1498,
    "start_time": "2022-04-04T12:11:51.700Z"
   },
   {
    "duration": 1357,
    "start_time": "2022-04-04T12:12:21.988Z"
   },
   {
    "duration": 1327,
    "start_time": "2022-04-04T12:12:38.157Z"
   },
   {
    "duration": 1302,
    "start_time": "2022-04-04T12:13:13.970Z"
   },
   {
    "duration": 976,
    "start_time": "2022-04-04T12:13:49.564Z"
   },
   {
    "duration": 551,
    "start_time": "2022-04-04T12:14:05.060Z"
   },
   {
    "duration": 1159,
    "start_time": "2022-04-04T12:14:12.407Z"
   },
   {
    "duration": 22,
    "start_time": "2022-04-04T12:15:31.682Z"
   },
   {
    "duration": 12,
    "start_time": "2022-04-04T12:15:40.681Z"
   },
   {
    "duration": 13,
    "start_time": "2022-04-04T12:15:41.634Z"
   },
   {
    "duration": 73,
    "start_time": "2022-04-04T12:15:41.904Z"
   },
   {
    "duration": 2163,
    "start_time": "2022-04-04T12:16:07.735Z"
   },
   {
    "duration": 44,
    "start_time": "2022-04-04T12:16:09.901Z"
   },
   {
    "duration": 18,
    "start_time": "2022-04-04T12:16:09.947Z"
   },
   {
    "duration": 17,
    "start_time": "2022-04-04T12:16:09.986Z"
   },
   {
    "duration": 29,
    "start_time": "2022-04-04T12:16:10.006Z"
   },
   {
    "duration": 18,
    "start_time": "2022-04-04T12:16:10.037Z"
   },
   {
    "duration": 33,
    "start_time": "2022-04-04T12:16:10.057Z"
   },
   {
    "duration": 595,
    "start_time": "2022-04-04T12:16:10.092Z"
   },
   {
    "duration": 798,
    "start_time": "2022-04-04T12:16:10.689Z"
   },
   {
    "duration": 1354,
    "start_time": "2022-04-04T12:16:11.491Z"
   },
   {
    "duration": 17,
    "start_time": "2022-04-04T12:16:12.885Z"
   },
   {
    "duration": 25,
    "start_time": "2022-04-04T12:16:12.904Z"
   },
   {
    "duration": 1339,
    "start_time": "2022-04-04T12:16:12.931Z"
   },
   {
    "duration": 32,
    "start_time": "2022-04-04T12:16:14.272Z"
   },
   {
    "duration": 50,
    "start_time": "2022-04-04T12:16:14.306Z"
   },
   {
    "duration": 86,
    "start_time": "2022-04-04T12:16:14.358Z"
   },
   {
    "duration": 24,
    "start_time": "2022-04-04T12:23:33.114Z"
   },
   {
    "duration": 38,
    "start_time": "2022-04-04T12:23:34.835Z"
   },
   {
    "duration": 41,
    "start_time": "2022-04-04T12:24:02.399Z"
   },
   {
    "duration": 29,
    "start_time": "2022-04-04T12:24:06.683Z"
   },
   {
    "duration": 44,
    "start_time": "2022-04-04T12:24:07.842Z"
   },
   {
    "duration": 79,
    "start_time": "2022-04-04T13:06:37.355Z"
   },
   {
    "duration": 1161,
    "start_time": "2022-04-04T13:06:49.068Z"
   },
   {
    "duration": 1289,
    "start_time": "2022-04-04T13:07:01.341Z"
   },
   {
    "duration": 1157,
    "start_time": "2022-04-04T13:07:10.339Z"
   },
   {
    "duration": 1139,
    "start_time": "2022-04-04T13:07:14.921Z"
   },
   {
    "duration": 1153,
    "start_time": "2022-04-04T13:07:20.080Z"
   },
   {
    "duration": 1286,
    "start_time": "2022-04-04T13:07:22.450Z"
   },
   {
    "duration": 9,
    "start_time": "2022-04-04T13:44:00.846Z"
   },
   {
    "duration": 167,
    "start_time": "2022-04-04T13:44:11.183Z"
   },
   {
    "duration": 17,
    "start_time": "2022-04-04T13:44:20.086Z"
   },
   {
    "duration": 19,
    "start_time": "2022-04-04T13:44:33.586Z"
   },
   {
    "duration": 17,
    "start_time": "2022-04-04T13:44:41.187Z"
   },
   {
    "duration": 8,
    "start_time": "2022-04-04T13:44:46.132Z"
   },
   {
    "duration": 18,
    "start_time": "2022-04-04T13:44:47.876Z"
   },
   {
    "duration": 9,
    "start_time": "2022-04-04T13:45:05.295Z"
   },
   {
    "duration": 20,
    "start_time": "2022-04-04T13:45:07.388Z"
   },
   {
    "duration": 8,
    "start_time": "2022-04-04T13:46:07.360Z"
   },
   {
    "duration": 23,
    "start_time": "2022-04-04T13:46:08.867Z"
   },
   {
    "duration": 8,
    "start_time": "2022-04-04T13:46:28.070Z"
   },
   {
    "duration": 51,
    "start_time": "2022-04-04T13:46:29.526Z"
   },
   {
    "duration": 8,
    "start_time": "2022-04-04T13:46:43.122Z"
   },
   {
    "duration": 35,
    "start_time": "2022-04-04T13:46:44.950Z"
   },
   {
    "duration": 34,
    "start_time": "2022-04-04T13:46:58.156Z"
   },
   {
    "duration": 13,
    "start_time": "2022-04-04T13:47:02.777Z"
   },
   {
    "duration": 49,
    "start_time": "2022-04-04T13:47:08.843Z"
   },
   {
    "duration": 19,
    "start_time": "2022-04-04T13:47:26.616Z"
   },
   {
    "duration": 38,
    "start_time": "2022-04-04T13:47:27.805Z"
   },
   {
    "duration": 36,
    "start_time": "2022-04-04T13:47:36.671Z"
   },
   {
    "duration": 16,
    "start_time": "2022-04-04T13:56:15.456Z"
   },
   {
    "duration": 67,
    "start_time": "2022-04-04T13:58:19.532Z"
   },
   {
    "duration": 25,
    "start_time": "2022-04-04T14:09:44.382Z"
   },
   {
    "duration": 9,
    "start_time": "2022-04-04T14:10:03.830Z"
   },
   {
    "duration": 15,
    "start_time": "2022-04-04T14:10:22.204Z"
   },
   {
    "duration": 8,
    "start_time": "2022-04-04T14:10:31.441Z"
   },
   {
    "duration": 1968,
    "start_time": "2022-04-04T14:10:40.223Z"
   },
   {
    "duration": 1225,
    "start_time": "2022-04-04T14:10:57.559Z"
   },
   {
    "duration": 6,
    "start_time": "2022-04-04T14:11:33.052Z"
   },
   {
    "duration": 1120,
    "start_time": "2022-04-04T14:11:51.768Z"
   },
   {
    "duration": 6,
    "start_time": "2022-04-04T14:12:04.136Z"
   },
   {
    "duration": 6,
    "start_time": "2022-04-04T14:12:07.827Z"
   },
   {
    "duration": 5,
    "start_time": "2022-04-04T14:12:21.940Z"
   },
   {
    "duration": 1017,
    "start_time": "2022-04-04T14:12:36.372Z"
   },
   {
    "duration": 16,
    "start_time": "2022-04-04T14:13:28.691Z"
   },
   {
    "duration": 1132,
    "start_time": "2022-04-04T14:13:45.453Z"
   },
   {
    "duration": 1034,
    "start_time": "2022-04-04T14:14:03.053Z"
   },
   {
    "duration": 13009,
    "start_time": "2022-04-04T14:14:28.743Z"
   },
   {
    "duration": 7,
    "start_time": "2022-04-04T14:15:15.077Z"
   },
   {
    "duration": 134,
    "start_time": "2022-04-04T14:15:19.169Z"
   },
   {
    "duration": 6,
    "start_time": "2022-04-04T14:15:21.924Z"
   },
   {
    "duration": 12834,
    "start_time": "2022-04-04T14:15:50.573Z"
   },
   {
    "duration": 8,
    "start_time": "2022-04-04T14:16:12.860Z"
   },
   {
    "duration": 6,
    "start_time": "2022-04-04T14:17:12.524Z"
   },
   {
    "duration": 2078,
    "start_time": "2022-04-04T14:17:23.519Z"
   },
   {
    "duration": 0,
    "start_time": "2022-04-04T14:17:25.601Z"
   },
   {
    "duration": 0,
    "start_time": "2022-04-04T14:17:25.603Z"
   },
   {
    "duration": 0,
    "start_time": "2022-04-04T14:17:25.604Z"
   },
   {
    "duration": 0,
    "start_time": "2022-04-04T14:17:25.605Z"
   },
   {
    "duration": 0,
    "start_time": "2022-04-04T14:17:25.607Z"
   },
   {
    "duration": 0,
    "start_time": "2022-04-04T14:17:25.608Z"
   },
   {
    "duration": 0,
    "start_time": "2022-04-04T14:17:25.609Z"
   },
   {
    "duration": 0,
    "start_time": "2022-04-04T14:17:25.611Z"
   },
   {
    "duration": 0,
    "start_time": "2022-04-04T14:17:25.612Z"
   },
   {
    "duration": 0,
    "start_time": "2022-04-04T14:17:25.613Z"
   },
   {
    "duration": 0,
    "start_time": "2022-04-04T14:17:25.615Z"
   },
   {
    "duration": 0,
    "start_time": "2022-04-04T14:17:25.616Z"
   },
   {
    "duration": 0,
    "start_time": "2022-04-04T14:17:25.617Z"
   },
   {
    "duration": 0,
    "start_time": "2022-04-04T14:17:25.618Z"
   },
   {
    "duration": 0,
    "start_time": "2022-04-04T14:17:25.620Z"
   },
   {
    "duration": 0,
    "start_time": "2022-04-04T14:17:25.621Z"
   },
   {
    "duration": 0,
    "start_time": "2022-04-04T14:17:25.623Z"
   },
   {
    "duration": 0,
    "start_time": "2022-04-04T14:17:25.625Z"
   },
   {
    "duration": 0,
    "start_time": "2022-04-04T14:17:25.626Z"
   },
   {
    "duration": 0,
    "start_time": "2022-04-04T14:17:25.627Z"
   },
   {
    "duration": 0,
    "start_time": "2022-04-04T14:17:25.628Z"
   },
   {
    "duration": 0,
    "start_time": "2022-04-04T14:17:25.630Z"
   },
   {
    "duration": 0,
    "start_time": "2022-04-04T14:17:25.631Z"
   },
   {
    "duration": 0,
    "start_time": "2022-04-04T14:17:25.633Z"
   },
   {
    "duration": 4,
    "start_time": "2022-04-04T14:17:49.054Z"
   },
   {
    "duration": 2111,
    "start_time": "2022-04-04T14:17:49.061Z"
   },
   {
    "duration": 47,
    "start_time": "2022-04-04T14:17:51.174Z"
   },
   {
    "duration": 14,
    "start_time": "2022-04-04T14:17:51.224Z"
   },
   {
    "duration": 15,
    "start_time": "2022-04-04T14:17:51.240Z"
   },
   {
    "duration": 8,
    "start_time": "2022-04-04T14:17:51.257Z"
   },
   {
    "duration": 7,
    "start_time": "2022-04-04T14:17:51.267Z"
   },
   {
    "duration": 26,
    "start_time": "2022-04-04T14:17:51.276Z"
   },
   {
    "duration": 484,
    "start_time": "2022-04-04T14:17:51.305Z"
   },
   {
    "duration": 710,
    "start_time": "2022-04-04T14:17:51.792Z"
   },
   {
    "duration": 1301,
    "start_time": "2022-04-04T14:17:52.504Z"
   },
   {
    "duration": 11,
    "start_time": "2022-04-04T14:17:53.807Z"
   },
   {
    "duration": 73,
    "start_time": "2022-04-04T14:17:53.820Z"
   },
   {
    "duration": 1651,
    "start_time": "2022-04-04T14:17:53.895Z"
   },
   {
    "duration": 9,
    "start_time": "2022-04-04T14:17:55.548Z"
   },
   {
    "duration": 70,
    "start_time": "2022-04-04T14:17:55.559Z"
   },
   {
    "duration": 39,
    "start_time": "2022-04-04T14:17:55.631Z"
   },
   {
    "duration": 8,
    "start_time": "2022-04-04T14:17:55.684Z"
   },
   {
    "duration": 7,
    "start_time": "2022-04-04T14:17:55.695Z"
   },
   {
    "duration": 11,
    "start_time": "2022-04-04T14:17:55.704Z"
   },
   {
    "duration": 1770,
    "start_time": "2022-04-04T14:17:55.718Z"
   },
   {
    "duration": 345,
    "start_time": "2022-04-04T14:17:57.492Z"
   },
   {
    "duration": 0,
    "start_time": "2022-04-04T14:17:57.840Z"
   },
   {
    "duration": 5,
    "start_time": "2022-04-04T14:18:27.222Z"
   },
   {
    "duration": 2112,
    "start_time": "2022-04-04T14:18:27.229Z"
   },
   {
    "duration": 43,
    "start_time": "2022-04-04T14:18:29.343Z"
   },
   {
    "duration": 15,
    "start_time": "2022-04-04T14:18:29.389Z"
   },
   {
    "duration": 23,
    "start_time": "2022-04-04T14:18:29.406Z"
   },
   {
    "duration": 17,
    "start_time": "2022-04-04T14:18:29.431Z"
   },
   {
    "duration": 12,
    "start_time": "2022-04-04T14:18:29.450Z"
   },
   {
    "duration": 34,
    "start_time": "2022-04-04T14:18:29.464Z"
   },
   {
    "duration": 508,
    "start_time": "2022-04-04T14:18:29.502Z"
   },
   {
    "duration": 399,
    "start_time": "2022-04-04T14:18:30.013Z"
   },
   {
    "duration": 773,
    "start_time": "2022-04-04T14:18:30.414Z"
   },
   {
    "duration": 13,
    "start_time": "2022-04-04T14:18:31.190Z"
   },
   {
    "duration": 17,
    "start_time": "2022-04-04T14:18:31.205Z"
   },
   {
    "duration": 1475,
    "start_time": "2022-04-04T14:18:31.225Z"
   },
   {
    "duration": 9,
    "start_time": "2022-04-04T14:18:32.702Z"
   },
   {
    "duration": 71,
    "start_time": "2022-04-04T14:18:32.713Z"
   },
   {
    "duration": 37,
    "start_time": "2022-04-04T14:18:32.786Z"
   },
   {
    "duration": 8,
    "start_time": "2022-04-04T14:18:32.826Z"
   },
   {
    "duration": 9,
    "start_time": "2022-04-04T14:18:32.837Z"
   },
   {
    "duration": 51,
    "start_time": "2022-04-04T14:18:32.849Z"
   },
   {
    "duration": 1897,
    "start_time": "2022-04-04T14:18:32.903Z"
   },
   {
    "duration": 104870,
    "start_time": "2022-04-04T14:18:34.803Z"
   },
   {
    "duration": 0,
    "start_time": "2022-04-04T14:20:19.675Z"
   },
   {
    "duration": 6,
    "start_time": "2022-04-04T14:23:15.355Z"
   },
   {
    "duration": 2123,
    "start_time": "2022-04-04T14:23:15.364Z"
   },
   {
    "duration": 42,
    "start_time": "2022-04-04T14:23:17.489Z"
   },
   {
    "duration": 16,
    "start_time": "2022-04-04T14:23:17.534Z"
   },
   {
    "duration": 38,
    "start_time": "2022-04-04T14:23:17.553Z"
   },
   {
    "duration": 25,
    "start_time": "2022-04-04T14:23:17.594Z"
   },
   {
    "duration": 25,
    "start_time": "2022-04-04T14:23:17.621Z"
   },
   {
    "duration": 42,
    "start_time": "2022-04-04T14:23:17.648Z"
   },
   {
    "duration": 476,
    "start_time": "2022-04-04T14:23:17.693Z"
   },
   {
    "duration": 402,
    "start_time": "2022-04-04T14:23:18.173Z"
   },
   {
    "duration": 658,
    "start_time": "2022-04-04T14:23:18.577Z"
   },
   {
    "duration": 12,
    "start_time": "2022-04-04T14:23:19.238Z"
   },
   {
    "duration": 33,
    "start_time": "2022-04-04T14:23:19.252Z"
   },
   {
    "duration": 1158,
    "start_time": "2022-04-04T14:23:19.288Z"
   },
   {
    "duration": 8,
    "start_time": "2022-04-04T14:23:20.448Z"
   },
   {
    "duration": 67,
    "start_time": "2022-04-04T14:23:20.459Z"
   },
   {
    "duration": 38,
    "start_time": "2022-04-04T14:23:20.528Z"
   },
   {
    "duration": 9,
    "start_time": "2022-04-04T14:23:20.584Z"
   },
   {
    "duration": 9,
    "start_time": "2022-04-04T14:23:20.595Z"
   },
   {
    "duration": 205,
    "start_time": "2022-04-04T14:23:20.606Z"
   },
   {
    "duration": 0,
    "start_time": "2022-04-04T14:23:20.814Z"
   },
   {
    "duration": 0,
    "start_time": "2022-04-04T14:23:20.815Z"
   },
   {
    "duration": 0,
    "start_time": "2022-04-04T14:23:20.817Z"
   },
   {
    "duration": 5,
    "start_time": "2022-04-04T14:24:15.421Z"
   },
   {
    "duration": 2090,
    "start_time": "2022-04-04T14:24:15.429Z"
   },
   {
    "duration": 43,
    "start_time": "2022-04-04T14:24:17.522Z"
   },
   {
    "duration": 26,
    "start_time": "2022-04-04T14:24:17.568Z"
   },
   {
    "duration": 19,
    "start_time": "2022-04-04T14:24:17.596Z"
   },
   {
    "duration": 9,
    "start_time": "2022-04-04T14:24:17.618Z"
   },
   {
    "duration": 8,
    "start_time": "2022-04-04T14:24:17.629Z"
   },
   {
    "duration": 60,
    "start_time": "2022-04-04T14:24:17.640Z"
   },
   {
    "duration": 487,
    "start_time": "2022-04-04T14:24:17.702Z"
   },
   {
    "duration": 400,
    "start_time": "2022-04-04T14:24:18.193Z"
   },
   {
    "duration": 688,
    "start_time": "2022-04-04T14:24:18.596Z"
   },
   {
    "duration": 11,
    "start_time": "2022-04-04T14:24:19.286Z"
   },
   {
    "duration": 18,
    "start_time": "2022-04-04T14:24:19.300Z"
   },
   {
    "duration": 1246,
    "start_time": "2022-04-04T14:24:19.321Z"
   },
   {
    "duration": 15,
    "start_time": "2022-04-04T14:24:20.569Z"
   },
   {
    "duration": 73,
    "start_time": "2022-04-04T14:24:20.586Z"
   },
   {
    "duration": 37,
    "start_time": "2022-04-04T14:24:20.661Z"
   },
   {
    "duration": 9,
    "start_time": "2022-04-04T14:24:20.700Z"
   },
   {
    "duration": 18,
    "start_time": "2022-04-04T14:24:20.711Z"
   },
   {
    "duration": 18,
    "start_time": "2022-04-04T14:24:20.731Z"
   },
   {
    "duration": 2139,
    "start_time": "2022-04-04T14:24:20.751Z"
   },
   {
    "duration": 5,
    "start_time": "2022-04-04T14:30:35.835Z"
   },
   {
    "duration": 2177,
    "start_time": "2022-04-04T14:30:35.843Z"
   },
   {
    "duration": 41,
    "start_time": "2022-04-04T14:30:38.023Z"
   },
   {
    "duration": 18,
    "start_time": "2022-04-04T14:30:38.067Z"
   },
   {
    "duration": 15,
    "start_time": "2022-04-04T14:30:38.088Z"
   },
   {
    "duration": 7,
    "start_time": "2022-04-04T14:30:38.105Z"
   },
   {
    "duration": 11,
    "start_time": "2022-04-04T14:30:38.114Z"
   },
   {
    "duration": 27,
    "start_time": "2022-04-04T14:30:38.127Z"
   },
   {
    "duration": 485,
    "start_time": "2022-04-04T14:30:38.184Z"
   },
   {
    "duration": 400,
    "start_time": "2022-04-04T14:30:38.673Z"
   },
   {
    "duration": 682,
    "start_time": "2022-04-04T14:30:39.084Z"
   },
   {
    "duration": 15,
    "start_time": "2022-04-04T14:30:39.769Z"
   },
   {
    "duration": 16,
    "start_time": "2022-04-04T14:30:39.786Z"
   },
   {
    "duration": 1224,
    "start_time": "2022-04-04T14:30:39.804Z"
   },
   {
    "duration": 8,
    "start_time": "2022-04-04T14:30:41.031Z"
   },
   {
    "duration": 74,
    "start_time": "2022-04-04T14:30:41.042Z"
   },
   {
    "duration": 36,
    "start_time": "2022-04-04T14:30:41.118Z"
   },
   {
    "duration": 42,
    "start_time": "2022-04-04T14:30:41.156Z"
   },
   {
    "duration": 28,
    "start_time": "2022-04-04T14:30:41.200Z"
   },
   {
    "duration": 34,
    "start_time": "2022-04-04T14:30:41.230Z"
   },
   {
    "duration": 1732,
    "start_time": "2022-04-04T14:30:41.266Z"
   },
   {
    "duration": 2195690,
    "start_time": "2022-04-04T14:30:43.000Z"
   },
   {
    "duration": 234,
    "start_time": "2022-04-04T15:07:18.693Z"
   },
   {
    "duration": 32,
    "start_time": "2022-04-04T15:09:07.187Z"
   },
   {
    "duration": 1504198,
    "start_time": "2022-04-04T15:09:14.948Z"
   },
   {
    "duration": 15,
    "start_time": "2022-04-04T16:23:52.926Z"
   },
   {
    "duration": 12,
    "start_time": "2022-04-04T16:24:49.928Z"
   },
   {
    "duration": 12,
    "start_time": "2022-04-04T16:25:37.639Z"
   },
   {
    "duration": 89,
    "start_time": "2022-04-04T16:30:21.595Z"
   },
   {
    "duration": 18,
    "start_time": "2022-04-04T16:31:11.027Z"
   },
   {
    "duration": 427,
    "start_time": "2022-04-04T16:31:18.554Z"
   },
   {
    "duration": 15,
    "start_time": "2022-04-04T16:32:18.060Z"
   },
   {
    "duration": 2292,
    "start_time": "2022-04-04T16:32:24.598Z"
   },
   {
    "duration": 2869,
    "start_time": "2022-04-04T16:32:33.322Z"
   },
   {
    "duration": 18,
    "start_time": "2022-04-04T16:37:50.274Z"
   },
   {
    "duration": 17,
    "start_time": "2022-04-04T16:38:03.451Z"
   },
   {
    "duration": 434,
    "start_time": "2022-04-04T16:38:08.182Z"
   },
   {
    "duration": 3466,
    "start_time": "2022-04-04T16:40:54.994Z"
   },
   {
    "duration": 3161,
    "start_time": "2022-04-04T16:41:13.837Z"
   },
   {
    "duration": 413,
    "start_time": "2022-04-04T16:43:56.606Z"
   },
   {
    "duration": 8,
    "start_time": "2022-04-04T16:45:38.117Z"
   },
   {
    "duration": 52,
    "start_time": "2022-04-04T16:45:40.107Z"
   },
   {
    "duration": 35,
    "start_time": "2022-04-04T16:45:41.830Z"
   },
   {
    "duration": 8,
    "start_time": "2022-04-04T16:45:43.774Z"
   },
   {
    "duration": 6,
    "start_time": "2022-04-04T16:45:46.514Z"
   },
   {
    "duration": 8,
    "start_time": "2022-04-04T16:45:48.692Z"
   },
   {
    "duration": 8,
    "start_time": "2022-04-04T16:46:24.111Z"
   },
   {
    "duration": 48,
    "start_time": "2022-04-04T16:46:26.007Z"
   },
   {
    "duration": 40,
    "start_time": "2022-04-04T16:46:26.183Z"
   },
   {
    "duration": 8,
    "start_time": "2022-04-04T16:46:26.336Z"
   },
   {
    "duration": 6,
    "start_time": "2022-04-04T16:46:28.365Z"
   },
   {
    "duration": 7,
    "start_time": "2022-04-04T16:46:30.187Z"
   },
   {
    "duration": 111,
    "start_time": "2022-04-04T16:59:31.577Z"
   },
   {
    "duration": 46,
    "start_time": "2022-04-04T16:59:54.950Z"
   },
   {
    "duration": 910,
    "start_time": "2022-04-04T17:00:26.423Z"
   },
   {
    "duration": 691,
    "start_time": "2022-04-04T17:00:34.965Z"
   },
   {
    "duration": 687,
    "start_time": "2022-04-04T17:00:39.500Z"
   },
   {
    "duration": 10,
    "start_time": "2022-04-04T17:04:12.449Z"
   },
   {
    "duration": 1279,
    "start_time": "2022-04-04T17:04:53.098Z"
   },
   {
    "duration": 1181,
    "start_time": "2022-04-04T17:05:16.248Z"
   },
   {
    "duration": 1162,
    "start_time": "2022-04-04T17:05:29.501Z"
   },
   {
    "duration": 7,
    "start_time": "2022-04-04T17:11:06.974Z"
   },
   {
    "duration": 27,
    "start_time": "2022-04-04T17:11:08.687Z"
   },
   {
    "duration": 5,
    "start_time": "2022-04-04T17:11:24.889Z"
   },
   {
    "duration": 6,
    "start_time": "2022-04-04T17:11:26.486Z"
   },
   {
    "duration": 7,
    "start_time": "2022-04-04T17:11:27.218Z"
   },
   {
    "duration": 5,
    "start_time": "2022-04-04T17:11:27.391Z"
   },
   {
    "duration": 8,
    "start_time": "2022-04-04T17:11:50.505Z"
   },
   {
    "duration": 5,
    "start_time": "2022-04-04T17:12:07.027Z"
   },
   {
    "duration": 461,
    "start_time": "2022-04-04T17:14:20.704Z"
   },
   {
    "duration": 12,
    "start_time": "2022-04-04T17:14:38.430Z"
   },
   {
    "duration": 8,
    "start_time": "2022-04-04T17:16:42.106Z"
   },
   {
    "duration": 9,
    "start_time": "2022-04-04T17:17:01.850Z"
   },
   {
    "duration": 1684,
    "start_time": "2022-04-04T17:17:09.008Z"
   },
   {
    "duration": 4,
    "start_time": "2022-04-04T17:17:46.784Z"
   },
   {
    "duration": 3,
    "start_time": "2022-04-04T17:17:53.363Z"
   },
   {
    "duration": 34,
    "start_time": "2022-04-04T17:18:14.761Z"
   },
   {
    "duration": 28,
    "start_time": "2022-04-04T17:18:24.229Z"
   },
   {
    "duration": 2312,
    "start_time": "2022-04-04T17:18:32.778Z"
   },
   {
    "duration": 2328,
    "start_time": "2022-04-04T17:19:18.763Z"
   },
   {
    "duration": 435,
    "start_time": "2022-04-04T17:19:25.985Z"
   },
   {
    "duration": 3385,
    "start_time": "2022-04-04T17:19:58.282Z"
   },
   {
    "duration": 3601,
    "start_time": "2022-04-04T17:20:02.368Z"
   },
   {
    "duration": 420,
    "start_time": "2022-04-04T17:20:07.869Z"
   },
   {
    "duration": 14,
    "start_time": "2022-04-04T17:28:53.284Z"
   },
   {
    "duration": 99,
    "start_time": "2022-04-04T17:28:58.887Z"
   },
   {
    "duration": 426,
    "start_time": "2022-04-04T17:29:00.260Z"
   },
   {
    "duration": 424,
    "start_time": "2022-04-04T17:29:06.727Z"
   },
   {
    "duration": 425,
    "start_time": "2022-04-04T17:29:45.316Z"
   },
   {
    "duration": 524,
    "start_time": "2022-04-04T17:29:50.644Z"
   },
   {
    "duration": 422,
    "start_time": "2022-04-04T17:29:55.916Z"
   },
   {
    "duration": 575,
    "start_time": "2022-04-04T17:30:00.535Z"
   },
   {
    "duration": 448,
    "start_time": "2022-04-04T17:30:07.446Z"
   },
   {
    "duration": 28,
    "start_time": "2022-04-04T17:30:24.143Z"
   },
   {
    "duration": 41,
    "start_time": "2022-04-04T17:30:38.877Z"
   },
   {
    "duration": 529,
    "start_time": "2022-04-04T17:31:01.272Z"
   },
   {
    "duration": 430,
    "start_time": "2022-04-04T17:31:11.506Z"
   },
   {
    "duration": 78292,
    "start_time": "2022-04-04T17:32:43.298Z"
   },
   {
    "duration": 471,
    "start_time": "2022-04-04T17:34:25.851Z"
   },
   {
    "duration": 478,
    "start_time": "2022-04-04T17:34:29.913Z"
   },
   {
    "duration": 468,
    "start_time": "2022-04-04T17:34:51.532Z"
   },
   {
    "duration": 465,
    "start_time": "2022-04-04T17:35:45.558Z"
   },
   {
    "duration": 467,
    "start_time": "2022-04-04T17:35:54.069Z"
   },
   {
    "duration": 3377,
    "start_time": "2022-04-04T17:41:23.439Z"
   },
   {
    "duration": 421,
    "start_time": "2022-04-04T17:42:00.451Z"
   },
   {
    "duration": 459,
    "start_time": "2022-04-04T17:42:10.842Z"
   },
   {
    "duration": 14,
    "start_time": "2022-04-04T17:43:42.223Z"
   },
   {
    "duration": 11,
    "start_time": "2022-04-04T17:44:00.157Z"
   },
   {
    "duration": 11,
    "start_time": "2022-04-04T17:44:09.633Z"
   },
   {
    "duration": 11,
    "start_time": "2022-04-04T17:44:19.586Z"
   },
   {
    "duration": 14,
    "start_time": "2022-04-04T19:18:41.818Z"
   },
   {
    "duration": 18,
    "start_time": "2022-04-04T19:18:46.096Z"
   },
   {
    "duration": 350,
    "start_time": "2022-04-04T19:18:47.663Z"
   },
   {
    "duration": 390,
    "start_time": "2022-04-04T19:18:54.232Z"
   },
   {
    "duration": 381,
    "start_time": "2022-04-04T19:18:58.437Z"
   },
   {
    "duration": 21,
    "start_time": "2022-04-04T19:19:03.206Z"
   },
   {
    "duration": 819,
    "start_time": "2022-04-04T19:19:08.696Z"
   },
   {
    "duration": 9,
    "start_time": "2022-04-04T19:24:49.600Z"
   },
   {
    "duration": 10,
    "start_time": "2022-04-04T19:24:50.013Z"
   },
   {
    "duration": 1179,
    "start_time": "2022-04-04T19:24:50.560Z"
   },
   {
    "duration": 8,
    "start_time": "2022-04-04T19:31:10.597Z"
   },
   {
    "duration": 28,
    "start_time": "2022-04-04T19:31:10.962Z"
   },
   {
    "duration": 28,
    "start_time": "2022-04-04T19:31:11.263Z"
   },
   {
    "duration": 7,
    "start_time": "2022-04-04T19:31:11.538Z"
   },
   {
    "duration": 5,
    "start_time": "2022-04-04T19:31:16.399Z"
   },
   {
    "duration": 7,
    "start_time": "2022-04-04T19:31:17.292Z"
   },
   {
    "duration": 8,
    "start_time": "2022-04-04T19:31:26.202Z"
   },
   {
    "duration": 1159,
    "start_time": "2022-04-04T19:31:28.531Z"
   },
   {
    "duration": 779,
    "start_time": "2022-04-04T19:31:51.407Z"
   },
   {
    "duration": 441,
    "start_time": "2022-04-04T19:31:54.743Z"
   },
   {
    "duration": 1729,
    "start_time": "2022-04-04T19:31:59.435Z"
   },
   {
    "duration": 435,
    "start_time": "2022-04-04T19:32:01.166Z"
   },
   {
    "duration": 2092,
    "start_time": "2022-04-04T19:32:36.177Z"
   },
   {
    "duration": 48,
    "start_time": "2022-04-04T19:32:38.273Z"
   },
   {
    "duration": 15,
    "start_time": "2022-04-04T19:32:38.323Z"
   },
   {
    "duration": 22,
    "start_time": "2022-04-04T19:32:38.341Z"
   },
   {
    "duration": 8,
    "start_time": "2022-04-04T19:32:38.383Z"
   },
   {
    "duration": 6,
    "start_time": "2022-04-04T19:32:38.393Z"
   },
   {
    "duration": 21,
    "start_time": "2022-04-04T19:32:38.402Z"
   },
   {
    "duration": 114,
    "start_time": "2022-04-04T19:32:38.425Z"
   },
   {
    "duration": 0,
    "start_time": "2022-04-04T19:32:38.543Z"
   },
   {
    "duration": 0,
    "start_time": "2022-04-04T19:32:38.545Z"
   },
   {
    "duration": 0,
    "start_time": "2022-04-04T19:32:38.546Z"
   },
   {
    "duration": 0,
    "start_time": "2022-04-04T19:32:38.548Z"
   },
   {
    "duration": 0,
    "start_time": "2022-04-04T19:32:38.549Z"
   },
   {
    "duration": 0,
    "start_time": "2022-04-04T19:32:38.551Z"
   },
   {
    "duration": 0,
    "start_time": "2022-04-04T19:32:38.552Z"
   },
   {
    "duration": 0,
    "start_time": "2022-04-04T19:32:38.554Z"
   },
   {
    "duration": 0,
    "start_time": "2022-04-04T19:32:38.555Z"
   },
   {
    "duration": 0,
    "start_time": "2022-04-04T19:32:38.557Z"
   },
   {
    "duration": 0,
    "start_time": "2022-04-04T19:32:38.558Z"
   },
   {
    "duration": 0,
    "start_time": "2022-04-04T19:32:38.559Z"
   },
   {
    "duration": 0,
    "start_time": "2022-04-04T19:32:38.561Z"
   },
   {
    "duration": 0,
    "start_time": "2022-04-04T19:32:38.562Z"
   },
   {
    "duration": 0,
    "start_time": "2022-04-04T19:32:38.564Z"
   },
   {
    "duration": 0,
    "start_time": "2022-04-04T19:32:38.565Z"
   },
   {
    "duration": 0,
    "start_time": "2022-04-04T19:32:38.567Z"
   },
   {
    "duration": 0,
    "start_time": "2022-04-04T19:32:38.568Z"
   },
   {
    "duration": 0,
    "start_time": "2022-04-04T19:32:38.569Z"
   },
   {
    "duration": 0,
    "start_time": "2022-04-04T19:32:38.571Z"
   },
   {
    "duration": 0,
    "start_time": "2022-04-04T19:32:38.573Z"
   },
   {
    "duration": 0,
    "start_time": "2022-04-04T19:32:38.574Z"
   },
   {
    "duration": 0,
    "start_time": "2022-04-04T19:32:38.576Z"
   },
   {
    "duration": 0,
    "start_time": "2022-04-04T19:32:38.578Z"
   },
   {
    "duration": 2249,
    "start_time": "2022-04-04T19:32:53.544Z"
   },
   {
    "duration": 91,
    "start_time": "2022-04-04T19:32:55.795Z"
   },
   {
    "duration": 14,
    "start_time": "2022-04-04T19:32:55.889Z"
   },
   {
    "duration": 20,
    "start_time": "2022-04-04T19:32:55.906Z"
   },
   {
    "duration": 61,
    "start_time": "2022-04-04T19:32:55.929Z"
   },
   {
    "duration": 6,
    "start_time": "2022-04-04T19:32:55.993Z"
   },
   {
    "duration": 22,
    "start_time": "2022-04-04T19:32:56.001Z"
   },
   {
    "duration": 975,
    "start_time": "2022-04-04T19:32:56.025Z"
   },
   {
    "duration": 790,
    "start_time": "2022-04-04T19:32:57.003Z"
   },
   {
    "duration": 1064,
    "start_time": "2022-04-04T19:32:57.797Z"
   },
   {
    "duration": 9,
    "start_time": "2022-04-04T19:32:58.863Z"
   },
   {
    "duration": 18,
    "start_time": "2022-04-04T19:32:58.874Z"
   },
   {
    "duration": 1161,
    "start_time": "2022-04-04T19:32:58.895Z"
   },
   {
    "duration": 8,
    "start_time": "2022-04-04T19:33:00.059Z"
   },
   {
    "duration": 189,
    "start_time": "2022-04-04T19:33:00.083Z"
   },
   {
    "duration": 0,
    "start_time": "2022-04-04T19:33:00.275Z"
   },
   {
    "duration": 0,
    "start_time": "2022-04-04T19:33:00.283Z"
   },
   {
    "duration": 0,
    "start_time": "2022-04-04T19:33:00.285Z"
   },
   {
    "duration": 0,
    "start_time": "2022-04-04T19:33:00.286Z"
   },
   {
    "duration": 0,
    "start_time": "2022-04-04T19:33:00.288Z"
   },
   {
    "duration": 0,
    "start_time": "2022-04-04T19:33:00.289Z"
   },
   {
    "duration": 0,
    "start_time": "2022-04-04T19:33:00.291Z"
   },
   {
    "duration": 0,
    "start_time": "2022-04-04T19:33:00.293Z"
   },
   {
    "duration": 0,
    "start_time": "2022-04-04T19:33:00.294Z"
   },
   {
    "duration": 0,
    "start_time": "2022-04-04T19:33:00.295Z"
   },
   {
    "duration": 0,
    "start_time": "2022-04-04T19:33:00.297Z"
   },
   {
    "duration": 0,
    "start_time": "2022-04-04T19:33:00.298Z"
   },
   {
    "duration": 0,
    "start_time": "2022-04-04T19:33:00.300Z"
   },
   {
    "duration": 0,
    "start_time": "2022-04-04T19:33:00.301Z"
   },
   {
    "duration": 0,
    "start_time": "2022-04-04T19:33:00.303Z"
   },
   {
    "duration": 0,
    "start_time": "2022-04-04T19:33:00.304Z"
   },
   {
    "duration": 2352,
    "start_time": "2022-04-04T19:33:19.546Z"
   },
   {
    "duration": 91,
    "start_time": "2022-04-04T19:33:21.901Z"
   },
   {
    "duration": 16,
    "start_time": "2022-04-04T19:33:21.995Z"
   },
   {
    "duration": 73,
    "start_time": "2022-04-04T19:33:22.015Z"
   },
   {
    "duration": 8,
    "start_time": "2022-04-04T19:33:22.091Z"
   },
   {
    "duration": 10,
    "start_time": "2022-04-04T19:33:22.101Z"
   },
   {
    "duration": 75,
    "start_time": "2022-04-04T19:33:22.114Z"
   },
   {
    "duration": 931,
    "start_time": "2022-04-04T19:33:22.192Z"
   },
   {
    "duration": 797,
    "start_time": "2022-04-04T19:33:23.125Z"
   },
   {
    "duration": 1587,
    "start_time": "2022-04-04T19:33:23.926Z"
   },
   {
    "duration": 9,
    "start_time": "2022-04-04T19:33:25.515Z"
   },
   {
    "duration": 59,
    "start_time": "2022-04-04T19:33:25.526Z"
   },
   {
    "duration": 1700,
    "start_time": "2022-04-04T19:33:25.587Z"
   },
   {
    "duration": 7,
    "start_time": "2022-04-04T19:33:27.290Z"
   },
   {
    "duration": 32,
    "start_time": "2022-04-04T19:33:27.300Z"
   },
   {
    "duration": 49,
    "start_time": "2022-04-04T19:33:27.334Z"
   },
   {
    "duration": 7,
    "start_time": "2022-04-04T19:33:27.386Z"
   },
   {
    "duration": 6,
    "start_time": "2022-04-04T19:33:27.395Z"
   },
   {
    "duration": 9,
    "start_time": "2022-04-04T19:33:27.404Z"
   },
   {
    "duration": 1273,
    "start_time": "2022-04-04T19:33:27.415Z"
   },
   {
    "duration": 2446861,
    "start_time": "2022-04-04T19:33:28.691Z"
   },
   {
    "duration": 0,
    "start_time": "2022-04-04T20:14:15.554Z"
   },
   {
    "duration": 0,
    "start_time": "2022-04-04T20:14:15.556Z"
   },
   {
    "duration": 0,
    "start_time": "2022-04-04T20:14:15.558Z"
   },
   {
    "duration": 0,
    "start_time": "2022-04-04T20:14:15.559Z"
   },
   {
    "duration": 0,
    "start_time": "2022-04-04T20:14:15.561Z"
   },
   {
    "duration": 0,
    "start_time": "2022-04-04T20:14:15.562Z"
   },
   {
    "duration": 0,
    "start_time": "2022-04-04T20:14:15.563Z"
   },
   {
    "duration": 0,
    "start_time": "2022-04-04T20:14:15.584Z"
   },
   {
    "duration": 0,
    "start_time": "2022-04-04T20:14:15.586Z"
   },
   {
    "duration": 0,
    "start_time": "2022-04-04T20:14:15.587Z"
   },
   {
    "duration": 67831,
    "start_time": "2022-04-04T20:15:14.059Z"
   },
   {
    "duration": 100221,
    "start_time": "2022-04-04T20:16:28.829Z"
   },
   {
    "duration": 4,
    "start_time": "2022-04-04T20:18:09.052Z"
   },
   {
    "duration": 11,
    "start_time": "2022-04-04T20:19:28.517Z"
   },
   {
    "duration": 2269,
    "start_time": "2022-04-04T20:19:52.583Z"
   },
   {
    "duration": 53,
    "start_time": "2022-04-04T20:19:54.854Z"
   },
   {
    "duration": 16,
    "start_time": "2022-04-04T20:19:54.909Z"
   },
   {
    "duration": 18,
    "start_time": "2022-04-04T20:19:54.929Z"
   },
   {
    "duration": 36,
    "start_time": "2022-04-04T20:19:54.950Z"
   },
   {
    "duration": 5,
    "start_time": "2022-04-04T20:19:54.989Z"
   },
   {
    "duration": 23,
    "start_time": "2022-04-04T20:19:54.997Z"
   },
   {
    "duration": 511,
    "start_time": "2022-04-04T20:19:55.022Z"
   },
   {
    "duration": 400,
    "start_time": "2022-04-04T20:19:55.535Z"
   },
   {
    "duration": 805,
    "start_time": "2022-04-04T20:19:55.940Z"
   },
   {
    "duration": 9,
    "start_time": "2022-04-04T20:19:56.747Z"
   },
   {
    "duration": 15,
    "start_time": "2022-04-04T20:19:56.758Z"
   },
   {
    "duration": 1188,
    "start_time": "2022-04-04T20:19:56.775Z"
   },
   {
    "duration": 8,
    "start_time": "2022-04-04T20:19:57.966Z"
   },
   {
    "duration": 40,
    "start_time": "2022-04-04T20:19:57.976Z"
   },
   {
    "duration": 27,
    "start_time": "2022-04-04T20:19:58.018Z"
   },
   {
    "duration": 12,
    "start_time": "2022-04-04T20:19:58.048Z"
   },
   {
    "duration": 6,
    "start_time": "2022-04-04T20:19:58.084Z"
   },
   {
    "duration": 16,
    "start_time": "2022-04-04T20:19:58.092Z"
   },
   {
    "duration": 1183,
    "start_time": "2022-04-04T20:19:58.110Z"
   },
   {
    "duration": 5,
    "start_time": "2022-04-04T20:19:59.386Z"
   },
   {
    "duration": 95,
    "start_time": "2022-04-04T20:19:59.394Z"
   },
   {
    "duration": 25,
    "start_time": "2022-04-04T20:19:59.492Z"
   },
   {
    "duration": 34,
    "start_time": "2022-04-04T20:19:59.520Z"
   },
   {
    "duration": 545,
    "start_time": "2022-04-04T20:19:59.557Z"
   },
   {
    "duration": 4494,
    "start_time": "2022-04-04T20:20:00.105Z"
   },
   {
    "duration": 542,
    "start_time": "2022-04-04T20:20:04.684Z"
   },
   {
    "duration": 4593,
    "start_time": "2022-04-04T20:20:05.230Z"
   },
   {
    "duration": 459,
    "start_time": "2022-04-04T20:20:09.825Z"
   },
   {
    "duration": 11,
    "start_time": "2022-04-04T20:20:10.286Z"
   },
   {
    "duration": 25,
    "start_time": "2022-04-04T20:20:10.300Z"
   },
   {
    "duration": 4332,
    "start_time": "2022-04-04T20:20:30.012Z"
   },
   {
    "duration": 2128,
    "start_time": "2022-04-04T20:22:29.255Z"
   },
   {
    "duration": 45,
    "start_time": "2022-04-04T20:22:31.386Z"
   },
   {
    "duration": 18,
    "start_time": "2022-04-04T20:22:31.433Z"
   },
   {
    "duration": 43,
    "start_time": "2022-04-04T20:22:31.456Z"
   },
   {
    "duration": 37,
    "start_time": "2022-04-04T20:22:31.501Z"
   },
   {
    "duration": 27,
    "start_time": "2022-04-04T20:22:31.540Z"
   },
   {
    "duration": 57,
    "start_time": "2022-04-04T20:22:31.569Z"
   },
   {
    "duration": 492,
    "start_time": "2022-04-04T20:22:31.628Z"
   },
   {
    "duration": 396,
    "start_time": "2022-04-04T20:22:32.122Z"
   },
   {
    "duration": 807,
    "start_time": "2022-04-04T20:22:32.522Z"
   },
   {
    "duration": 11,
    "start_time": "2022-04-04T20:22:33.331Z"
   },
   {
    "duration": 22,
    "start_time": "2022-04-04T20:22:33.344Z"
   },
   {
    "duration": 1131,
    "start_time": "2022-04-04T20:22:33.369Z"
   },
   {
    "duration": 8,
    "start_time": "2022-04-04T20:22:34.503Z"
   },
   {
    "duration": 45,
    "start_time": "2022-04-04T20:22:34.513Z"
   },
   {
    "duration": 30,
    "start_time": "2022-04-04T20:22:34.560Z"
   },
   {
    "duration": 31,
    "start_time": "2022-04-04T20:22:34.593Z"
   },
   {
    "duration": 8,
    "start_time": "2022-04-04T20:22:34.626Z"
   },
   {
    "duration": 24,
    "start_time": "2022-04-04T20:22:34.637Z"
   },
   {
    "duration": 1423,
    "start_time": "2022-04-04T20:22:34.663Z"
   },
   {
    "duration": 5,
    "start_time": "2022-04-04T20:22:36.089Z"
   },
   {
    "duration": 86,
    "start_time": "2022-04-04T20:22:36.098Z"
   },
   {
    "duration": 29,
    "start_time": "2022-04-04T20:22:36.187Z"
   },
   {
    "duration": 24,
    "start_time": "2022-04-04T20:22:36.218Z"
   },
   {
    "duration": 502,
    "start_time": "2022-04-04T20:22:36.284Z"
   },
   {
    "duration": 3899,
    "start_time": "2022-04-04T20:22:36.788Z"
   },
   {
    "duration": 463,
    "start_time": "2022-04-04T20:22:40.690Z"
   },
   {
    "duration": 4342,
    "start_time": "2022-04-04T20:22:41.158Z"
   },
   {
    "duration": 427,
    "start_time": "2022-04-04T20:22:45.502Z"
   },
   {
    "duration": 11,
    "start_time": "2022-04-04T20:22:45.931Z"
   },
   {
    "duration": 2090,
    "start_time": "2022-04-04T20:32:36.578Z"
   },
   {
    "duration": 49,
    "start_time": "2022-04-04T20:32:38.671Z"
   },
   {
    "duration": 15,
    "start_time": "2022-04-04T20:32:38.723Z"
   },
   {
    "duration": 17,
    "start_time": "2022-04-04T20:32:38.741Z"
   },
   {
    "duration": 25,
    "start_time": "2022-04-04T20:32:38.761Z"
   },
   {
    "duration": 6,
    "start_time": "2022-04-04T20:32:38.788Z"
   },
   {
    "duration": 22,
    "start_time": "2022-04-04T20:32:38.797Z"
   },
   {
    "duration": 496,
    "start_time": "2022-04-04T20:32:38.821Z"
   },
   {
    "duration": 389,
    "start_time": "2022-04-04T20:32:39.320Z"
   },
   {
    "duration": 816,
    "start_time": "2022-04-04T20:32:39.713Z"
   },
   {
    "duration": 9,
    "start_time": "2022-04-04T20:32:40.531Z"
   },
   {
    "duration": 10,
    "start_time": "2022-04-04T20:32:40.542Z"
   },
   {
    "duration": 1540,
    "start_time": "2022-04-04T20:32:40.555Z"
   },
   {
    "duration": 7,
    "start_time": "2022-04-04T20:32:42.097Z"
   },
   {
    "duration": 83,
    "start_time": "2022-04-04T20:32:42.106Z"
   },
   {
    "duration": 26,
    "start_time": "2022-04-04T20:32:42.191Z"
   },
   {
    "duration": 9,
    "start_time": "2022-04-04T20:32:42.219Z"
   },
   {
    "duration": 6,
    "start_time": "2022-04-04T20:32:42.285Z"
   },
   {
    "duration": 11,
    "start_time": "2022-04-04T20:32:42.293Z"
   },
   {
    "duration": 1180,
    "start_time": "2022-04-04T20:32:42.307Z"
   },
   {
    "duration": 5,
    "start_time": "2022-04-04T20:32:43.491Z"
   },
   {
    "duration": 5,
    "start_time": "2022-04-04T20:32:43.583Z"
   },
   {
    "duration": 98,
    "start_time": "2022-04-04T20:32:43.591Z"
   },
   {
    "duration": 16,
    "start_time": "2022-04-04T20:32:43.691Z"
   },
   {
    "duration": 905,
    "start_time": "2022-04-04T20:32:43.784Z"
   },
   {
    "duration": 7497,
    "start_time": "2022-04-04T20:32:44.691Z"
   },
   {
    "duration": 455,
    "start_time": "2022-04-04T20:32:52.191Z"
   },
   {
    "duration": 4494,
    "start_time": "2022-04-04T20:32:52.651Z"
   },
   {
    "duration": 423,
    "start_time": "2022-04-04T20:32:57.148Z"
   },
   {
    "duration": 16,
    "start_time": "2022-04-04T20:32:57.574Z"
   },
   {
    "duration": 2191,
    "start_time": "2022-04-04T20:38:56.122Z"
   },
   {
    "duration": 44,
    "start_time": "2022-04-04T20:38:58.316Z"
   },
   {
    "duration": 23,
    "start_time": "2022-04-04T20:38:58.362Z"
   },
   {
    "duration": 15,
    "start_time": "2022-04-04T20:38:58.387Z"
   },
   {
    "duration": 21,
    "start_time": "2022-04-04T20:38:58.404Z"
   },
   {
    "duration": 20,
    "start_time": "2022-04-04T20:38:58.427Z"
   },
   {
    "duration": 30,
    "start_time": "2022-04-04T20:38:58.449Z"
   },
   {
    "duration": 480,
    "start_time": "2022-04-04T20:38:58.481Z"
   },
   {
    "duration": 392,
    "start_time": "2022-04-04T20:38:58.963Z"
   },
   {
    "duration": 815,
    "start_time": "2022-04-04T20:38:59.358Z"
   },
   {
    "duration": 8,
    "start_time": "2022-04-04T20:39:00.176Z"
   },
   {
    "duration": 22,
    "start_time": "2022-04-04T20:39:00.186Z"
   },
   {
    "duration": 1166,
    "start_time": "2022-04-04T20:39:00.210Z"
   },
   {
    "duration": 7,
    "start_time": "2022-04-04T20:39:01.378Z"
   },
   {
    "duration": 60,
    "start_time": "2022-04-04T20:39:01.388Z"
   },
   {
    "duration": 34,
    "start_time": "2022-04-04T20:39:01.450Z"
   },
   {
    "duration": 17,
    "start_time": "2022-04-04T20:39:01.486Z"
   },
   {
    "duration": 13,
    "start_time": "2022-04-04T20:39:01.505Z"
   },
   {
    "duration": 26,
    "start_time": "2022-04-04T20:39:01.520Z"
   },
   {
    "duration": 1439,
    "start_time": "2022-04-04T20:39:01.548Z"
   },
   {
    "duration": 93,
    "start_time": "2022-04-04T20:39:02.991Z"
   },
   {
    "duration": 34,
    "start_time": "2022-04-04T20:39:03.087Z"
   },
   {
    "duration": 50,
    "start_time": "2022-04-04T20:39:03.124Z"
   },
   {
    "duration": 22,
    "start_time": "2022-04-04T20:39:03.177Z"
   },
   {
    "duration": 698,
    "start_time": "2022-04-04T20:39:03.203Z"
   },
   {
    "duration": 3893,
    "start_time": "2022-04-04T20:39:03.903Z"
   },
   {
    "duration": 576,
    "start_time": "2022-04-04T20:39:07.798Z"
   },
   {
    "duration": 4538,
    "start_time": "2022-04-04T20:39:08.383Z"
   },
   {
    "duration": 470,
    "start_time": "2022-04-04T20:39:12.923Z"
   },
   {
    "duration": 11,
    "start_time": "2022-04-04T20:39:13.395Z"
   },
   {
    "duration": 2062,
    "start_time": "2022-04-04T20:43:21.594Z"
   },
   {
    "duration": 45,
    "start_time": "2022-04-04T20:43:23.658Z"
   },
   {
    "duration": 15,
    "start_time": "2022-04-04T20:43:23.705Z"
   },
   {
    "duration": 16,
    "start_time": "2022-04-04T20:43:23.723Z"
   },
   {
    "duration": 15,
    "start_time": "2022-04-04T20:43:23.741Z"
   },
   {
    "duration": 4,
    "start_time": "2022-04-04T20:43:23.785Z"
   },
   {
    "duration": 22,
    "start_time": "2022-04-04T20:43:23.792Z"
   },
   {
    "duration": 514,
    "start_time": "2022-04-04T20:43:23.816Z"
   },
   {
    "duration": 405,
    "start_time": "2022-04-04T20:43:24.332Z"
   },
   {
    "duration": 823,
    "start_time": "2022-04-04T20:43:24.742Z"
   },
   {
    "duration": 20,
    "start_time": "2022-04-04T20:43:25.567Z"
   },
   {
    "duration": 12,
    "start_time": "2022-04-04T20:43:25.589Z"
   },
   {
    "duration": 1315,
    "start_time": "2022-04-04T20:43:25.603Z"
   },
   {
    "duration": 8,
    "start_time": "2022-04-04T20:43:26.920Z"
   },
   {
    "duration": 34,
    "start_time": "2022-04-04T20:43:26.930Z"
   },
   {
    "duration": 24,
    "start_time": "2022-04-04T20:43:26.985Z"
   },
   {
    "duration": 7,
    "start_time": "2022-04-04T20:43:27.012Z"
   },
   {
    "duration": 8,
    "start_time": "2022-04-04T20:43:27.021Z"
   },
   {
    "duration": 52,
    "start_time": "2022-04-04T20:43:27.032Z"
   },
   {
    "duration": 1104,
    "start_time": "2022-04-04T20:43:27.087Z"
   },
   {
    "duration": 90,
    "start_time": "2022-04-04T20:43:28.195Z"
   },
   {
    "duration": 9,
    "start_time": "2022-04-04T20:43:28.287Z"
   },
   {
    "duration": 86,
    "start_time": "2022-04-04T20:43:28.299Z"
   },
   {
    "duration": 19,
    "start_time": "2022-04-04T20:43:28.388Z"
   },
   {
    "duration": 520,
    "start_time": "2022-04-04T20:43:28.485Z"
   },
   {
    "duration": 31782,
    "start_time": "2022-04-04T20:43:29.008Z"
   },
   {
    "duration": 491,
    "start_time": "2022-04-04T20:44:00.793Z"
   },
   {
    "duration": 4766,
    "start_time": "2022-04-04T20:44:01.289Z"
   },
   {
    "duration": 436,
    "start_time": "2022-04-04T20:44:06.057Z"
   },
   {
    "duration": 12,
    "start_time": "2022-04-04T20:44:06.495Z"
   },
   {
    "duration": 449,
    "start_time": "2022-04-04T20:45:01.746Z"
   },
   {
    "duration": 438,
    "start_time": "2022-04-04T20:45:11.759Z"
   },
   {
    "duration": 600,
    "start_time": "2022-04-04T20:45:20.988Z"
   },
   {
    "duration": 457,
    "start_time": "2022-04-04T20:45:32.449Z"
   },
   {
    "duration": 2067,
    "start_time": "2022-04-04T20:45:44.778Z"
   },
   {
    "duration": 44,
    "start_time": "2022-04-04T20:45:46.847Z"
   },
   {
    "duration": 14,
    "start_time": "2022-04-04T20:45:46.894Z"
   },
   {
    "duration": 14,
    "start_time": "2022-04-04T20:45:46.911Z"
   },
   {
    "duration": 8,
    "start_time": "2022-04-04T20:45:46.927Z"
   },
   {
    "duration": 47,
    "start_time": "2022-04-04T20:45:46.937Z"
   },
   {
    "duration": 24,
    "start_time": "2022-04-04T20:45:46.986Z"
   },
   {
    "duration": 490,
    "start_time": "2022-04-04T20:45:47.012Z"
   },
   {
    "duration": 398,
    "start_time": "2022-04-04T20:45:47.504Z"
   },
   {
    "duration": 795,
    "start_time": "2022-04-04T20:45:47.905Z"
   },
   {
    "duration": 9,
    "start_time": "2022-04-04T20:45:48.702Z"
   },
   {
    "duration": 14,
    "start_time": "2022-04-04T20:45:48.713Z"
   },
   {
    "duration": 1188,
    "start_time": "2022-04-04T20:45:48.729Z"
   },
   {
    "duration": 7,
    "start_time": "2022-04-04T20:45:49.920Z"
   },
   {
    "duration": 55,
    "start_time": "2022-04-04T20:45:49.929Z"
   },
   {
    "duration": 26,
    "start_time": "2022-04-04T20:45:49.986Z"
   },
   {
    "duration": 13,
    "start_time": "2022-04-04T20:45:50.014Z"
   },
   {
    "duration": 9,
    "start_time": "2022-04-04T20:45:50.030Z"
   },
   {
    "duration": 46,
    "start_time": "2022-04-04T20:45:50.041Z"
   },
   {
    "duration": 1199,
    "start_time": "2022-04-04T20:45:50.089Z"
   },
   {
    "duration": 93,
    "start_time": "2022-04-04T20:45:51.292Z"
   },
   {
    "duration": 17,
    "start_time": "2022-04-04T20:45:51.389Z"
   },
   {
    "duration": 11,
    "start_time": "2022-04-04T20:45:51.484Z"
   },
   {
    "duration": 21,
    "start_time": "2022-04-04T20:45:51.497Z"
   },
   {
    "duration": 577,
    "start_time": "2022-04-04T20:45:51.521Z"
   },
   {
    "duration": 4987,
    "start_time": "2022-04-04T20:45:52.100Z"
   },
   {
    "duration": 471,
    "start_time": "2022-04-04T20:45:57.089Z"
   },
   {
    "duration": 4736,
    "start_time": "2022-04-04T20:45:57.564Z"
   },
   {
    "duration": 459,
    "start_time": "2022-04-04T20:46:02.303Z"
   },
   {
    "duration": 28,
    "start_time": "2022-04-04T20:46:02.765Z"
   }
  ],
  "colab": {
   "name": "Проект_10_Прогнозирование_заказов_такси.ipynb",
   "provenance": []
  },
  "kernelspec": {
   "display_name": "Python 3 (ipykernel)",
   "language": "python",
   "name": "python3"
  },
  "language_info": {
   "codemirror_mode": {
    "name": "ipython",
    "version": 3
   },
   "file_extension": ".py",
   "mimetype": "text/x-python",
   "name": "python",
   "nbconvert_exporter": "python",
   "pygments_lexer": "ipython3",
   "version": "3.9.12"
  },
  "toc": {
   "base_numbering": 1,
   "nav_menu": {},
   "number_sections": true,
   "sideBar": true,
   "skip_h1_title": true,
   "title_cell": "Содержание",
   "title_sidebar": "Содержание",
   "toc_cell": true,
   "toc_position": {
    "height": "calc(100% - 180px)",
    "left": "10px",
    "top": "150px",
    "width": "317.391px"
   },
   "toc_section_display": true,
   "toc_window_display": false
  }
 },
 "nbformat": 4,
 "nbformat_minor": 1
}
