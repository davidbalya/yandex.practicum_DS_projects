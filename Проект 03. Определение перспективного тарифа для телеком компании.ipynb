{
 "cells": [
  {
   "cell_type": "markdown",
   "metadata": {
    "id": "e1az6ZQvz7yT"
   },
   "source": [
    "# Определение перспективного тарифа для телеком-компании"
   ]
  },
  {
   "cell_type": "markdown",
   "metadata": {
    "id": "znYxods-z7yT"
   },
   "source": [
    "Вы аналитик компании «Мегалайн» — федерального оператора сотовой связи. Клиентам предлагают два тарифных плана: «Смарт» и «Ультра». Чтобы скорректировать рекламный бюджет, коммерческий департамент хочет понять, какой тариф приносит больше денег.\n",
    "Вам предстоит сделать предварительный анализ тарифов на небольшой выборке клиентов.  \n",
    "  \n",
    "В вашем распоряжении данные 500 пользователей «Мегалайна»: кто они, откуда, каким тарифом пользуются, сколько звонков и сообщений каждый отправил за 2018 год. Нужно проанализировать поведение клиентов и сделать вывод — какой тариф лучше."
   ]
  },
  {
   "cell_type": "markdown",
   "metadata": {
    "id": "Z5CqC4vWz7yU"
   },
   "source": [
    "# Описание тарифов\n",
    "\n",
    "**Тариф «Смарт»**  \n",
    "\n",
    "* Ежемесячная плата: 550 рублей\n",
    "* Включено 500 минут разговора, 50 сообщений и 15 Гб интернет-трафика\n",
    "* Стоимость услуг сверх тарифного пакета: \n",
    " 1. минута разговора: 3 рубля («Мегалайн» всегда округляет вверх значения минут и мегабайтов. Если пользователь проговорил всего 1 секунду, в тарифе засчитывается целая минута); \n",
    " 2. сообщение: 3 рубля;\n",
    " 3. 1 Гб интернет-трафика: 200 рублей.\n",
    "\n",
    "**Тариф «Ультра»**  \n",
    "\n",
    "* Ежемесячная плата: 1950 рублей\n",
    "* Включено 3000 минут разговора, 1000 сообщений и 30 Гб интернет-трафика\n",
    "* Стоимость услуг сверх тарифного пакета: \n",
    " 1. минута разговора: 1 рубль; \n",
    " 2. сообщение: 1 рубль; \n",
    " 3. 1 Гб интернет-трафика: 150 рублей."
   ]
  },
  {
   "cell_type": "markdown",
   "metadata": {
    "id": "QosTNU7kz7yY"
   },
   "source": [
    "## Изучение данных из файлов"
   ]
  },
  {
   "cell_type": "markdown",
   "metadata": {
    "id": "rrSxX6RUz7yY"
   },
   "source": [
    "### Описание данных\n",
    "\n",
    "#### Таблица users (информация о пользователях):\n",
    "\n",
    "* **user_id** — уникальный идентификатор пользователя\n",
    "* **first_name** — имя пользователя\n",
    "* **last_name** — фамилия пользователя\n",
    "* **age** — возраст пользователя (годы)\n",
    "* **reg_date** — дата подключения тарифа (день, месяц, год)\n",
    "* **churn_date** — дата прекращения пользования тарифом (если значение пропущено, то тариф ещё действовал на момент выгрузки данных)\n",
    "* **city** — город проживания пользователя\n",
    "* **tarif** — название тарифного плана\n",
    "\n",
    "#### Таблица calls (информация о звонках):\n",
    "\n",
    "* **id** — уникальный номер звонка\n",
    "* **call_date** — дата звонка\n",
    "* **duration** — длительность звонка в минутах\n",
    "* **user_id** — идентификатор пользователя, сделавшего звонок\n",
    "\n",
    "#### Таблица messages (информация о сообщениях):\n",
    "\n",
    "* **id** — уникальный номер сообщения\n",
    "* **message_date** — дата сообщения\n",
    "* **user_id** — идентификатор пользователя, отправившего сообщение\n",
    "\n",
    "#### Таблица internet (информация об интернет-сессиях):\n",
    "\n",
    "* **id** — уникальный номер сессии\n",
    "* **mb_used** — объём потраченного за сессию интернет-трафика (в мегабайтах)\n",
    "* **session_date** — дата интернет-сессии\n",
    "* **user_id** — идентификатор пользователя\n",
    "\n",
    "#### Таблица tariffs (информация о тарифах):\n",
    "\n",
    "* **tariff_name** — название тарифа\n",
    "* **rub_monthly_fee** — ежемесячная абонентская плата в рублях\n",
    "* **minutes_included** — количество минут разговора в месяц, включённых в абонентскую плату\n",
    "* **messages_included** — количество сообщений в месяц, включённых в абонентскую плату\n",
    "* **mb_per_month_included** — объём интернет-трафика, включённого в абонентскую плату (в мегабайтах)\n",
    "* **rub_per_minute** — стоимость минуты разговора сверх тарифного пакета (например, если в тарифе 100 минут разговора в месяц, то со 101 минуты будет взиматься плата)\n",
    "* **rub_per_message** — стоимость отправки сообщения сверх тарифного пакета\n",
    "* **rub_per_gb** — стоимость дополнительного гигабайта интернет-трафика сверх тарифного пакета (1 гигабайт = 1024 мегабайта)"
   ]
  },
  {
   "cell_type": "code",
   "execution_count": null,
   "metadata": {
    "id": "JCj4Mmc2z7yZ"
   },
   "outputs": [],
   "source": [
    "import pandas as pd\n",
    "import numpy as np\n",
    "import math as mt\n",
    "import matplotlib.pyplot as plt\n",
    "import seaborn as sns\n",
    "from scipy import stats as st\n",
    "import warnings\n",
    "warnings.simplefilter('ignore')"
   ]
  },
  {
   "cell_type": "code",
   "execution_count": null,
   "metadata": {
    "id": "dzs-NLtWz7ya"
   },
   "outputs": [],
   "source": [
    "calls = pd.read_csv('/datasets/calls.csv')\n",
    "internet = pd.read_csv('/datasets/internet.csv')\n",
    "messages = pd.read_csv('/datasets/messages.csv')\n",
    "tariffs = pd.read_csv('/datasets/tariffs.csv')\n",
    "users = pd.read_csv('/datasets/users.csv')"
   ]
  },
  {
   "cell_type": "markdown",
   "metadata": {
    "id": "NijDvuw8z7ya"
   },
   "source": [
    "### Информация по данным в каждой таблице"
   ]
  },
  {
   "cell_type": "markdown",
   "metadata": {
    "id": "YYwcyCjPz7yb"
   },
   "source": [
    "Напишем функцию, которая поможет нам изучить каждый датефрейм:"
   ]
  },
  {
   "cell_type": "code",
   "execution_count": null,
   "metadata": {
    "id": "h8KVjqv1z7yb"
   },
   "outputs": [],
   "source": [
    "def information(data):\n",
    "    print('Первые 15 строк таблицы:')\n",
    "    display(data.head(15))\n",
    "    print()\n",
    "    print('Информация о столбцах таблицы методом .describe():')\n",
    "    display(data.describe().T)\n",
    "    print()\n",
    "    print('Информация о столбцах таблицы методом .info():')\n",
    "    display(data.info())\n",
    "    print()\n",
    "    print('Процент пропусков в каждом столбце в порядке убывания')\n",
    "    display(data.isna().mean().sort_values(ascending = False))\n",
    "    print()\n",
    "    print('Кол-во дубликатов в таблице:')\n",
    "    display(data.duplicated().sum())"
   ]
  },
  {
   "cell_type": "markdown",
   "metadata": {
    "id": "yD8m3wWKz7yb"
   },
   "source": [
    "#### Информация по таблице **users**:"
   ]
  },
  {
   "cell_type": "code",
   "execution_count": null,
   "metadata": {
    "id": "Bu5d3rcKz7yc",
    "outputId": "91dcb0c3-f0f7-4ed6-c8a6-0e1d8e1a2a49",
    "scrolled": true
   },
   "outputs": [
    {
     "name": "stdout",
     "output_type": "stream",
     "text": [
      "Первые 15 строк таблицы:\n"
     ]
    },
    {
     "data": {
      "text/html": [
       "<div>\n",
       "<style scoped>\n",
       "    .dataframe tbody tr th:only-of-type {\n",
       "        vertical-align: middle;\n",
       "    }\n",
       "\n",
       "    .dataframe tbody tr th {\n",
       "        vertical-align: top;\n",
       "    }\n",
       "\n",
       "    .dataframe thead th {\n",
       "        text-align: right;\n",
       "    }\n",
       "</style>\n",
       "<table border=\"1\" class=\"dataframe\">\n",
       "  <thead>\n",
       "    <tr style=\"text-align: right;\">\n",
       "      <th></th>\n",
       "      <th>user_id</th>\n",
       "      <th>age</th>\n",
       "      <th>churn_date</th>\n",
       "      <th>city</th>\n",
       "      <th>first_name</th>\n",
       "      <th>last_name</th>\n",
       "      <th>reg_date</th>\n",
       "      <th>tariff</th>\n",
       "    </tr>\n",
       "  </thead>\n",
       "  <tbody>\n",
       "    <tr>\n",
       "      <td>0</td>\n",
       "      <td>1000</td>\n",
       "      <td>52</td>\n",
       "      <td>NaN</td>\n",
       "      <td>Краснодар</td>\n",
       "      <td>Рафаил</td>\n",
       "      <td>Верещагин</td>\n",
       "      <td>2018-05-25</td>\n",
       "      <td>ultra</td>\n",
       "    </tr>\n",
       "    <tr>\n",
       "      <td>1</td>\n",
       "      <td>1001</td>\n",
       "      <td>41</td>\n",
       "      <td>NaN</td>\n",
       "      <td>Москва</td>\n",
       "      <td>Иван</td>\n",
       "      <td>Ежов</td>\n",
       "      <td>2018-11-01</td>\n",
       "      <td>smart</td>\n",
       "    </tr>\n",
       "    <tr>\n",
       "      <td>2</td>\n",
       "      <td>1002</td>\n",
       "      <td>59</td>\n",
       "      <td>NaN</td>\n",
       "      <td>Стерлитамак</td>\n",
       "      <td>Евгений</td>\n",
       "      <td>Абрамович</td>\n",
       "      <td>2018-06-17</td>\n",
       "      <td>smart</td>\n",
       "    </tr>\n",
       "    <tr>\n",
       "      <td>3</td>\n",
       "      <td>1003</td>\n",
       "      <td>23</td>\n",
       "      <td>NaN</td>\n",
       "      <td>Москва</td>\n",
       "      <td>Белла</td>\n",
       "      <td>Белякова</td>\n",
       "      <td>2018-08-17</td>\n",
       "      <td>ultra</td>\n",
       "    </tr>\n",
       "    <tr>\n",
       "      <td>4</td>\n",
       "      <td>1004</td>\n",
       "      <td>68</td>\n",
       "      <td>NaN</td>\n",
       "      <td>Новокузнецк</td>\n",
       "      <td>Татьяна</td>\n",
       "      <td>Авдеенко</td>\n",
       "      <td>2018-05-14</td>\n",
       "      <td>ultra</td>\n",
       "    </tr>\n",
       "    <tr>\n",
       "      <td>5</td>\n",
       "      <td>1005</td>\n",
       "      <td>67</td>\n",
       "      <td>NaN</td>\n",
       "      <td>Набережные Челны</td>\n",
       "      <td>Афанасий</td>\n",
       "      <td>Горлов</td>\n",
       "      <td>2018-01-25</td>\n",
       "      <td>smart</td>\n",
       "    </tr>\n",
       "    <tr>\n",
       "      <td>6</td>\n",
       "      <td>1006</td>\n",
       "      <td>21</td>\n",
       "      <td>NaN</td>\n",
       "      <td>Ульяновск</td>\n",
       "      <td>Леонид</td>\n",
       "      <td>Ермолаев</td>\n",
       "      <td>2018-02-26</td>\n",
       "      <td>smart</td>\n",
       "    </tr>\n",
       "    <tr>\n",
       "      <td>7</td>\n",
       "      <td>1007</td>\n",
       "      <td>65</td>\n",
       "      <td>NaN</td>\n",
       "      <td>Москва</td>\n",
       "      <td>Юна</td>\n",
       "      <td>Березина</td>\n",
       "      <td>2018-04-19</td>\n",
       "      <td>smart</td>\n",
       "    </tr>\n",
       "    <tr>\n",
       "      <td>8</td>\n",
       "      <td>1008</td>\n",
       "      <td>63</td>\n",
       "      <td>NaN</td>\n",
       "      <td>Челябинск</td>\n",
       "      <td>Рустэм</td>\n",
       "      <td>Пономарёв</td>\n",
       "      <td>2018-12-19</td>\n",
       "      <td>smart</td>\n",
       "    </tr>\n",
       "    <tr>\n",
       "      <td>9</td>\n",
       "      <td>1009</td>\n",
       "      <td>24</td>\n",
       "      <td>NaN</td>\n",
       "      <td>Пермь</td>\n",
       "      <td>Василиса</td>\n",
       "      <td>Блинова</td>\n",
       "      <td>2018-03-22</td>\n",
       "      <td>smart</td>\n",
       "    </tr>\n",
       "    <tr>\n",
       "      <td>10</td>\n",
       "      <td>1010</td>\n",
       "      <td>26</td>\n",
       "      <td>NaN</td>\n",
       "      <td>Тюмень</td>\n",
       "      <td>Эдуард</td>\n",
       "      <td>Кононов</td>\n",
       "      <td>2018-08-05</td>\n",
       "      <td>smart</td>\n",
       "    </tr>\n",
       "    <tr>\n",
       "      <td>11</td>\n",
       "      <td>1011</td>\n",
       "      <td>44</td>\n",
       "      <td>NaN</td>\n",
       "      <td>Самара</td>\n",
       "      <td>Веселина</td>\n",
       "      <td>Алёшко</td>\n",
       "      <td>2018-03-19</td>\n",
       "      <td>smart</td>\n",
       "    </tr>\n",
       "    <tr>\n",
       "      <td>12</td>\n",
       "      <td>1012</td>\n",
       "      <td>38</td>\n",
       "      <td>NaN</td>\n",
       "      <td>Санкт-Петербург</td>\n",
       "      <td>Варлам</td>\n",
       "      <td>Соловьев</td>\n",
       "      <td>2018-03-28</td>\n",
       "      <td>smart</td>\n",
       "    </tr>\n",
       "    <tr>\n",
       "      <td>13</td>\n",
       "      <td>1013</td>\n",
       "      <td>36</td>\n",
       "      <td>NaN</td>\n",
       "      <td>Иваново</td>\n",
       "      <td>Борис</td>\n",
       "      <td>Андреенко</td>\n",
       "      <td>2018-11-14</td>\n",
       "      <td>ultra</td>\n",
       "    </tr>\n",
       "    <tr>\n",
       "      <td>14</td>\n",
       "      <td>1014</td>\n",
       "      <td>64</td>\n",
       "      <td>NaN</td>\n",
       "      <td>Чебоксары</td>\n",
       "      <td>Яков</td>\n",
       "      <td>Акинфьев</td>\n",
       "      <td>2018-05-15</td>\n",
       "      <td>smart</td>\n",
       "    </tr>\n",
       "  </tbody>\n",
       "</table>\n",
       "</div>"
      ],
      "text/plain": [
       "    user_id  age churn_date              city first_name  last_name  \\\n",
       "0      1000   52        NaN         Краснодар     Рафаил  Верещагин   \n",
       "1      1001   41        NaN            Москва       Иван       Ежов   \n",
       "2      1002   59        NaN       Стерлитамак    Евгений  Абрамович   \n",
       "3      1003   23        NaN            Москва      Белла   Белякова   \n",
       "4      1004   68        NaN       Новокузнецк    Татьяна   Авдеенко   \n",
       "5      1005   67        NaN  Набережные Челны   Афанасий     Горлов   \n",
       "6      1006   21        NaN         Ульяновск     Леонид   Ермолаев   \n",
       "7      1007   65        NaN            Москва        Юна   Березина   \n",
       "8      1008   63        NaN         Челябинск     Рустэм  Пономарёв   \n",
       "9      1009   24        NaN             Пермь   Василиса    Блинова   \n",
       "10     1010   26        NaN            Тюмень     Эдуард    Кононов   \n",
       "11     1011   44        NaN            Самара   Веселина     Алёшко   \n",
       "12     1012   38        NaN   Санкт-Петербург     Варлам   Соловьев   \n",
       "13     1013   36        NaN           Иваново      Борис  Андреенко   \n",
       "14     1014   64        NaN         Чебоксары       Яков   Акинфьев   \n",
       "\n",
       "      reg_date tariff  \n",
       "0   2018-05-25  ultra  \n",
       "1   2018-11-01  smart  \n",
       "2   2018-06-17  smart  \n",
       "3   2018-08-17  ultra  \n",
       "4   2018-05-14  ultra  \n",
       "5   2018-01-25  smart  \n",
       "6   2018-02-26  smart  \n",
       "7   2018-04-19  smart  \n",
       "8   2018-12-19  smart  \n",
       "9   2018-03-22  smart  \n",
       "10  2018-08-05  smart  \n",
       "11  2018-03-19  smart  \n",
       "12  2018-03-28  smart  \n",
       "13  2018-11-14  ultra  \n",
       "14  2018-05-15  smart  "
      ]
     },
     "metadata": {},
     "output_type": "display_data"
    },
    {
     "name": "stdout",
     "output_type": "stream",
     "text": [
      "\n",
      "Информация о столбцах таблицы методом .describe():\n"
     ]
    },
    {
     "data": {
      "text/html": [
       "<div>\n",
       "<style scoped>\n",
       "    .dataframe tbody tr th:only-of-type {\n",
       "        vertical-align: middle;\n",
       "    }\n",
       "\n",
       "    .dataframe tbody tr th {\n",
       "        vertical-align: top;\n",
       "    }\n",
       "\n",
       "    .dataframe thead th {\n",
       "        text-align: right;\n",
       "    }\n",
       "</style>\n",
       "<table border=\"1\" class=\"dataframe\">\n",
       "  <thead>\n",
       "    <tr style=\"text-align: right;\">\n",
       "      <th></th>\n",
       "      <th>count</th>\n",
       "      <th>mean</th>\n",
       "      <th>std</th>\n",
       "      <th>min</th>\n",
       "      <th>25%</th>\n",
       "      <th>50%</th>\n",
       "      <th>75%</th>\n",
       "      <th>max</th>\n",
       "    </tr>\n",
       "  </thead>\n",
       "  <tbody>\n",
       "    <tr>\n",
       "      <td>user_id</td>\n",
       "      <td>500.0</td>\n",
       "      <td>1249.500</td>\n",
       "      <td>144.481833</td>\n",
       "      <td>1000.0</td>\n",
       "      <td>1124.75</td>\n",
       "      <td>1249.5</td>\n",
       "      <td>1374.25</td>\n",
       "      <td>1499.0</td>\n",
       "    </tr>\n",
       "    <tr>\n",
       "      <td>age</td>\n",
       "      <td>500.0</td>\n",
       "      <td>46.588</td>\n",
       "      <td>16.667630</td>\n",
       "      <td>18.0</td>\n",
       "      <td>32.00</td>\n",
       "      <td>46.0</td>\n",
       "      <td>62.00</td>\n",
       "      <td>75.0</td>\n",
       "    </tr>\n",
       "  </tbody>\n",
       "</table>\n",
       "</div>"
      ],
      "text/plain": [
       "         count      mean         std     min      25%     50%      75%     max\n",
       "user_id  500.0  1249.500  144.481833  1000.0  1124.75  1249.5  1374.25  1499.0\n",
       "age      500.0    46.588   16.667630    18.0    32.00    46.0    62.00    75.0"
      ]
     },
     "metadata": {},
     "output_type": "display_data"
    },
    {
     "name": "stdout",
     "output_type": "stream",
     "text": [
      "\n",
      "Информация о столбцах таблицы методом .info():\n",
      "<class 'pandas.core.frame.DataFrame'>\n",
      "RangeIndex: 500 entries, 0 to 499\n",
      "Data columns (total 8 columns):\n",
      "user_id       500 non-null int64\n",
      "age           500 non-null int64\n",
      "churn_date    38 non-null object\n",
      "city          500 non-null object\n",
      "first_name    500 non-null object\n",
      "last_name     500 non-null object\n",
      "reg_date      500 non-null object\n",
      "tariff        500 non-null object\n",
      "dtypes: int64(2), object(6)\n",
      "memory usage: 31.4+ KB\n"
     ]
    },
    {
     "data": {
      "text/plain": [
       "None"
      ]
     },
     "metadata": {},
     "output_type": "display_data"
    },
    {
     "name": "stdout",
     "output_type": "stream",
     "text": [
      "\n",
      "Процент пропусков в каждом столбце в порядке убывания\n"
     ]
    },
    {
     "data": {
      "text/plain": [
       "churn_date    0.924\n",
       "tariff        0.000\n",
       "reg_date      0.000\n",
       "last_name     0.000\n",
       "first_name    0.000\n",
       "city          0.000\n",
       "age           0.000\n",
       "user_id       0.000\n",
       "dtype: float64"
      ]
     },
     "metadata": {},
     "output_type": "display_data"
    },
    {
     "name": "stdout",
     "output_type": "stream",
     "text": [
      "\n",
      "Кол-во дубликатов в таблице:\n"
     ]
    },
    {
     "data": {
      "text/plain": [
       "0"
      ]
     },
     "metadata": {},
     "output_type": "display_data"
    }
   ],
   "source": [
    "information(users)"
   ]
  },
  {
   "cell_type": "markdown",
   "metadata": {
    "id": "wg7ZlUknz7yd"
   },
   "source": [
    "#### Информация по таблице **calls**:"
   ]
  },
  {
   "cell_type": "code",
   "execution_count": null,
   "metadata": {
    "id": "SyVMKrvzz7yd",
    "outputId": "e4a629f4-5f39-4477-a600-f36e34ecc29b",
    "scrolled": true
   },
   "outputs": [
    {
     "name": "stdout",
     "output_type": "stream",
     "text": [
      "Первые 15 строк таблицы:\n"
     ]
    },
    {
     "data": {
      "text/html": [
       "<div>\n",
       "<style scoped>\n",
       "    .dataframe tbody tr th:only-of-type {\n",
       "        vertical-align: middle;\n",
       "    }\n",
       "\n",
       "    .dataframe tbody tr th {\n",
       "        vertical-align: top;\n",
       "    }\n",
       "\n",
       "    .dataframe thead th {\n",
       "        text-align: right;\n",
       "    }\n",
       "</style>\n",
       "<table border=\"1\" class=\"dataframe\">\n",
       "  <thead>\n",
       "    <tr style=\"text-align: right;\">\n",
       "      <th></th>\n",
       "      <th>id</th>\n",
       "      <th>call_date</th>\n",
       "      <th>duration</th>\n",
       "      <th>user_id</th>\n",
       "    </tr>\n",
       "  </thead>\n",
       "  <tbody>\n",
       "    <tr>\n",
       "      <td>0</td>\n",
       "      <td>1000_0</td>\n",
       "      <td>2018-07-25</td>\n",
       "      <td>0.00</td>\n",
       "      <td>1000</td>\n",
       "    </tr>\n",
       "    <tr>\n",
       "      <td>1</td>\n",
       "      <td>1000_1</td>\n",
       "      <td>2018-08-17</td>\n",
       "      <td>0.00</td>\n",
       "      <td>1000</td>\n",
       "    </tr>\n",
       "    <tr>\n",
       "      <td>2</td>\n",
       "      <td>1000_2</td>\n",
       "      <td>2018-06-11</td>\n",
       "      <td>2.85</td>\n",
       "      <td>1000</td>\n",
       "    </tr>\n",
       "    <tr>\n",
       "      <td>3</td>\n",
       "      <td>1000_3</td>\n",
       "      <td>2018-09-21</td>\n",
       "      <td>13.80</td>\n",
       "      <td>1000</td>\n",
       "    </tr>\n",
       "    <tr>\n",
       "      <td>4</td>\n",
       "      <td>1000_4</td>\n",
       "      <td>2018-12-15</td>\n",
       "      <td>5.18</td>\n",
       "      <td>1000</td>\n",
       "    </tr>\n",
       "    <tr>\n",
       "      <td>5</td>\n",
       "      <td>1000_5</td>\n",
       "      <td>2018-11-02</td>\n",
       "      <td>0.00</td>\n",
       "      <td>1000</td>\n",
       "    </tr>\n",
       "    <tr>\n",
       "      <td>6</td>\n",
       "      <td>1000_6</td>\n",
       "      <td>2018-10-18</td>\n",
       "      <td>0.00</td>\n",
       "      <td>1000</td>\n",
       "    </tr>\n",
       "    <tr>\n",
       "      <td>7</td>\n",
       "      <td>1000_7</td>\n",
       "      <td>2018-08-22</td>\n",
       "      <td>18.31</td>\n",
       "      <td>1000</td>\n",
       "    </tr>\n",
       "    <tr>\n",
       "      <td>8</td>\n",
       "      <td>1000_8</td>\n",
       "      <td>2018-09-15</td>\n",
       "      <td>18.44</td>\n",
       "      <td>1000</td>\n",
       "    </tr>\n",
       "    <tr>\n",
       "      <td>9</td>\n",
       "      <td>1000_9</td>\n",
       "      <td>2018-08-15</td>\n",
       "      <td>0.00</td>\n",
       "      <td>1000</td>\n",
       "    </tr>\n",
       "    <tr>\n",
       "      <td>10</td>\n",
       "      <td>1000_10</td>\n",
       "      <td>2018-08-22</td>\n",
       "      <td>5.03</td>\n",
       "      <td>1000</td>\n",
       "    </tr>\n",
       "    <tr>\n",
       "      <td>11</td>\n",
       "      <td>1000_11</td>\n",
       "      <td>2018-05-28</td>\n",
       "      <td>18.82</td>\n",
       "      <td>1000</td>\n",
       "    </tr>\n",
       "    <tr>\n",
       "      <td>12</td>\n",
       "      <td>1000_12</td>\n",
       "      <td>2018-07-05</td>\n",
       "      <td>2.02</td>\n",
       "      <td>1000</td>\n",
       "    </tr>\n",
       "    <tr>\n",
       "      <td>13</td>\n",
       "      <td>1000_13</td>\n",
       "      <td>2018-09-29</td>\n",
       "      <td>7.15</td>\n",
       "      <td>1000</td>\n",
       "    </tr>\n",
       "    <tr>\n",
       "      <td>14</td>\n",
       "      <td>1000_14</td>\n",
       "      <td>2018-12-11</td>\n",
       "      <td>9.13</td>\n",
       "      <td>1000</td>\n",
       "    </tr>\n",
       "  </tbody>\n",
       "</table>\n",
       "</div>"
      ],
      "text/plain": [
       "         id   call_date  duration  user_id\n",
       "0    1000_0  2018-07-25      0.00     1000\n",
       "1    1000_1  2018-08-17      0.00     1000\n",
       "2    1000_2  2018-06-11      2.85     1000\n",
       "3    1000_3  2018-09-21     13.80     1000\n",
       "4    1000_4  2018-12-15      5.18     1000\n",
       "5    1000_5  2018-11-02      0.00     1000\n",
       "6    1000_6  2018-10-18      0.00     1000\n",
       "7    1000_7  2018-08-22     18.31     1000\n",
       "8    1000_8  2018-09-15     18.44     1000\n",
       "9    1000_9  2018-08-15      0.00     1000\n",
       "10  1000_10  2018-08-22      5.03     1000\n",
       "11  1000_11  2018-05-28     18.82     1000\n",
       "12  1000_12  2018-07-05      2.02     1000\n",
       "13  1000_13  2018-09-29      7.15     1000\n",
       "14  1000_14  2018-12-11      9.13     1000"
      ]
     },
     "metadata": {},
     "output_type": "display_data"
    },
    {
     "name": "stdout",
     "output_type": "stream",
     "text": [
      "\n",
      "Информация о столбцах таблицы методом .describe():\n"
     ]
    },
    {
     "data": {
      "text/html": [
       "<div>\n",
       "<style scoped>\n",
       "    .dataframe tbody tr th:only-of-type {\n",
       "        vertical-align: middle;\n",
       "    }\n",
       "\n",
       "    .dataframe tbody tr th {\n",
       "        vertical-align: top;\n",
       "    }\n",
       "\n",
       "    .dataframe thead th {\n",
       "        text-align: right;\n",
       "    }\n",
       "</style>\n",
       "<table border=\"1\" class=\"dataframe\">\n",
       "  <thead>\n",
       "    <tr style=\"text-align: right;\">\n",
       "      <th></th>\n",
       "      <th>count</th>\n",
       "      <th>mean</th>\n",
       "      <th>std</th>\n",
       "      <th>min</th>\n",
       "      <th>25%</th>\n",
       "      <th>50%</th>\n",
       "      <th>75%</th>\n",
       "      <th>max</th>\n",
       "    </tr>\n",
       "  </thead>\n",
       "  <tbody>\n",
       "    <tr>\n",
       "      <td>duration</td>\n",
       "      <td>202607.0</td>\n",
       "      <td>6.755887</td>\n",
       "      <td>5.843365</td>\n",
       "      <td>0.0</td>\n",
       "      <td>1.3</td>\n",
       "      <td>6.0</td>\n",
       "      <td>10.7</td>\n",
       "      <td>38.0</td>\n",
       "    </tr>\n",
       "    <tr>\n",
       "      <td>user_id</td>\n",
       "      <td>202607.0</td>\n",
       "      <td>1253.940619</td>\n",
       "      <td>144.722751</td>\n",
       "      <td>1000.0</td>\n",
       "      <td>1126.0</td>\n",
       "      <td>1260.0</td>\n",
       "      <td>1379.0</td>\n",
       "      <td>1499.0</td>\n",
       "    </tr>\n",
       "  </tbody>\n",
       "</table>\n",
       "</div>"
      ],
      "text/plain": [
       "             count         mean         std     min     25%     50%     75%  \\\n",
       "duration  202607.0     6.755887    5.843365     0.0     1.3     6.0    10.7   \n",
       "user_id   202607.0  1253.940619  144.722751  1000.0  1126.0  1260.0  1379.0   \n",
       "\n",
       "             max  \n",
       "duration    38.0  \n",
       "user_id   1499.0  "
      ]
     },
     "metadata": {},
     "output_type": "display_data"
    },
    {
     "name": "stdout",
     "output_type": "stream",
     "text": [
      "\n",
      "Информация о столбцах таблицы методом .info():\n",
      "<class 'pandas.core.frame.DataFrame'>\n",
      "RangeIndex: 202607 entries, 0 to 202606\n",
      "Data columns (total 4 columns):\n",
      "id           202607 non-null object\n",
      "call_date    202607 non-null object\n",
      "duration     202607 non-null float64\n",
      "user_id      202607 non-null int64\n",
      "dtypes: float64(1), int64(1), object(2)\n",
      "memory usage: 6.2+ MB\n"
     ]
    },
    {
     "data": {
      "text/plain": [
       "None"
      ]
     },
     "metadata": {},
     "output_type": "display_data"
    },
    {
     "name": "stdout",
     "output_type": "stream",
     "text": [
      "\n",
      "Процент пропусков в каждом столбце в порядке убывания\n"
     ]
    },
    {
     "data": {
      "text/plain": [
       "user_id      0.0\n",
       "duration     0.0\n",
       "call_date    0.0\n",
       "id           0.0\n",
       "dtype: float64"
      ]
     },
     "metadata": {},
     "output_type": "display_data"
    },
    {
     "name": "stdout",
     "output_type": "stream",
     "text": [
      "\n",
      "Кол-во дубликатов в таблице:\n"
     ]
    },
    {
     "data": {
      "text/plain": [
       "0"
      ]
     },
     "metadata": {},
     "output_type": "display_data"
    },
    {
     "name": "stdout",
     "output_type": "stream",
     "text": [
      "Количество записей с нулевой продолжительностью звонка: 39613\n",
      "Процент звонков с нулевой продолжительностью: 20%\n"
     ]
    }
   ],
   "source": [
    "information(calls)\n",
    "# Посмотрим на записи с продолжительностью звонка в ноль минут:\n",
    "print('Количество записей с нулевой продолжительностью звонка:', calls.query('duration == 0')['user_id'].count())\n",
    "print('Процент звонков с нулевой продолжительностью: {:.0%}'.format(calls.query('duration == 0')['user_id'].count() / len(calls)))"
   ]
  },
  {
   "cell_type": "markdown",
   "metadata": {
    "id": "BFyNviZMz7yd"
   },
   "source": [
    "#### Информация по таблице **messages**:"
   ]
  },
  {
   "cell_type": "code",
   "execution_count": null,
   "metadata": {
    "id": "JDfDQxidz7ye",
    "outputId": "675121e2-6565-48f2-db7d-c7f07cde102e",
    "scrolled": true
   },
   "outputs": [
    {
     "name": "stdout",
     "output_type": "stream",
     "text": [
      "Первые 15 строк таблицы:\n"
     ]
    },
    {
     "data": {
      "text/html": [
       "<div>\n",
       "<style scoped>\n",
       "    .dataframe tbody tr th:only-of-type {\n",
       "        vertical-align: middle;\n",
       "    }\n",
       "\n",
       "    .dataframe tbody tr th {\n",
       "        vertical-align: top;\n",
       "    }\n",
       "\n",
       "    .dataframe thead th {\n",
       "        text-align: right;\n",
       "    }\n",
       "</style>\n",
       "<table border=\"1\" class=\"dataframe\">\n",
       "  <thead>\n",
       "    <tr style=\"text-align: right;\">\n",
       "      <th></th>\n",
       "      <th>id</th>\n",
       "      <th>message_date</th>\n",
       "      <th>user_id</th>\n",
       "    </tr>\n",
       "  </thead>\n",
       "  <tbody>\n",
       "    <tr>\n",
       "      <td>0</td>\n",
       "      <td>1000_0</td>\n",
       "      <td>2018-06-27</td>\n",
       "      <td>1000</td>\n",
       "    </tr>\n",
       "    <tr>\n",
       "      <td>1</td>\n",
       "      <td>1000_1</td>\n",
       "      <td>2018-10-08</td>\n",
       "      <td>1000</td>\n",
       "    </tr>\n",
       "    <tr>\n",
       "      <td>2</td>\n",
       "      <td>1000_2</td>\n",
       "      <td>2018-08-04</td>\n",
       "      <td>1000</td>\n",
       "    </tr>\n",
       "    <tr>\n",
       "      <td>3</td>\n",
       "      <td>1000_3</td>\n",
       "      <td>2018-06-16</td>\n",
       "      <td>1000</td>\n",
       "    </tr>\n",
       "    <tr>\n",
       "      <td>4</td>\n",
       "      <td>1000_4</td>\n",
       "      <td>2018-12-05</td>\n",
       "      <td>1000</td>\n",
       "    </tr>\n",
       "    <tr>\n",
       "      <td>5</td>\n",
       "      <td>1000_5</td>\n",
       "      <td>2018-06-20</td>\n",
       "      <td>1000</td>\n",
       "    </tr>\n",
       "    <tr>\n",
       "      <td>6</td>\n",
       "      <td>1000_6</td>\n",
       "      <td>2018-11-19</td>\n",
       "      <td>1000</td>\n",
       "    </tr>\n",
       "    <tr>\n",
       "      <td>7</td>\n",
       "      <td>1000_7</td>\n",
       "      <td>2018-10-29</td>\n",
       "      <td>1000</td>\n",
       "    </tr>\n",
       "    <tr>\n",
       "      <td>8</td>\n",
       "      <td>1000_8</td>\n",
       "      <td>2018-06-25</td>\n",
       "      <td>1000</td>\n",
       "    </tr>\n",
       "    <tr>\n",
       "      <td>9</td>\n",
       "      <td>1000_9</td>\n",
       "      <td>2018-12-18</td>\n",
       "      <td>1000</td>\n",
       "    </tr>\n",
       "    <tr>\n",
       "      <td>10</td>\n",
       "      <td>1000_10</td>\n",
       "      <td>2018-05-30</td>\n",
       "      <td>1000</td>\n",
       "    </tr>\n",
       "    <tr>\n",
       "      <td>11</td>\n",
       "      <td>1000_11</td>\n",
       "      <td>2018-07-06</td>\n",
       "      <td>1000</td>\n",
       "    </tr>\n",
       "    <tr>\n",
       "      <td>12</td>\n",
       "      <td>1000_12</td>\n",
       "      <td>2018-08-20</td>\n",
       "      <td>1000</td>\n",
       "    </tr>\n",
       "    <tr>\n",
       "      <td>13</td>\n",
       "      <td>1000_13</td>\n",
       "      <td>2018-10-30</td>\n",
       "      <td>1000</td>\n",
       "    </tr>\n",
       "    <tr>\n",
       "      <td>14</td>\n",
       "      <td>1000_14</td>\n",
       "      <td>2018-09-14</td>\n",
       "      <td>1000</td>\n",
       "    </tr>\n",
       "  </tbody>\n",
       "</table>\n",
       "</div>"
      ],
      "text/plain": [
       "         id message_date  user_id\n",
       "0    1000_0   2018-06-27     1000\n",
       "1    1000_1   2018-10-08     1000\n",
       "2    1000_2   2018-08-04     1000\n",
       "3    1000_3   2018-06-16     1000\n",
       "4    1000_4   2018-12-05     1000\n",
       "5    1000_5   2018-06-20     1000\n",
       "6    1000_6   2018-11-19     1000\n",
       "7    1000_7   2018-10-29     1000\n",
       "8    1000_8   2018-06-25     1000\n",
       "9    1000_9   2018-12-18     1000\n",
       "10  1000_10   2018-05-30     1000\n",
       "11  1000_11   2018-07-06     1000\n",
       "12  1000_12   2018-08-20     1000\n",
       "13  1000_13   2018-10-30     1000\n",
       "14  1000_14   2018-09-14     1000"
      ]
     },
     "metadata": {},
     "output_type": "display_data"
    },
    {
     "name": "stdout",
     "output_type": "stream",
     "text": [
      "\n",
      "Информация о столбцах таблицы методом .describe():\n"
     ]
    },
    {
     "data": {
      "text/html": [
       "<div>\n",
       "<style scoped>\n",
       "    .dataframe tbody tr th:only-of-type {\n",
       "        vertical-align: middle;\n",
       "    }\n",
       "\n",
       "    .dataframe tbody tr th {\n",
       "        vertical-align: top;\n",
       "    }\n",
       "\n",
       "    .dataframe thead th {\n",
       "        text-align: right;\n",
       "    }\n",
       "</style>\n",
       "<table border=\"1\" class=\"dataframe\">\n",
       "  <thead>\n",
       "    <tr style=\"text-align: right;\">\n",
       "      <th></th>\n",
       "      <th>count</th>\n",
       "      <th>mean</th>\n",
       "      <th>std</th>\n",
       "      <th>min</th>\n",
       "      <th>25%</th>\n",
       "      <th>50%</th>\n",
       "      <th>75%</th>\n",
       "      <th>max</th>\n",
       "    </tr>\n",
       "  </thead>\n",
       "  <tbody>\n",
       "    <tr>\n",
       "      <td>user_id</td>\n",
       "      <td>123036.0</td>\n",
       "      <td>1256.98941</td>\n",
       "      <td>143.523967</td>\n",
       "      <td>1000.0</td>\n",
       "      <td>1134.0</td>\n",
       "      <td>1271.0</td>\n",
       "      <td>1381.0</td>\n",
       "      <td>1499.0</td>\n",
       "    </tr>\n",
       "  </tbody>\n",
       "</table>\n",
       "</div>"
      ],
      "text/plain": [
       "            count        mean         std     min     25%     50%     75%  \\\n",
       "user_id  123036.0  1256.98941  143.523967  1000.0  1134.0  1271.0  1381.0   \n",
       "\n",
       "            max  \n",
       "user_id  1499.0  "
      ]
     },
     "metadata": {},
     "output_type": "display_data"
    },
    {
     "name": "stdout",
     "output_type": "stream",
     "text": [
      "\n",
      "Информация о столбцах таблицы методом .info():\n",
      "<class 'pandas.core.frame.DataFrame'>\n",
      "RangeIndex: 123036 entries, 0 to 123035\n",
      "Data columns (total 3 columns):\n",
      "id              123036 non-null object\n",
      "message_date    123036 non-null object\n",
      "user_id         123036 non-null int64\n",
      "dtypes: int64(1), object(2)\n",
      "memory usage: 2.8+ MB\n"
     ]
    },
    {
     "data": {
      "text/plain": [
       "None"
      ]
     },
     "metadata": {},
     "output_type": "display_data"
    },
    {
     "name": "stdout",
     "output_type": "stream",
     "text": [
      "\n",
      "Процент пропусков в каждом столбце в порядке убывания\n"
     ]
    },
    {
     "data": {
      "text/plain": [
       "user_id         0.0\n",
       "message_date    0.0\n",
       "id              0.0\n",
       "dtype: float64"
      ]
     },
     "metadata": {},
     "output_type": "display_data"
    },
    {
     "name": "stdout",
     "output_type": "stream",
     "text": [
      "\n",
      "Кол-во дубликатов в таблице:\n"
     ]
    },
    {
     "data": {
      "text/plain": [
       "0"
      ]
     },
     "metadata": {},
     "output_type": "display_data"
    }
   ],
   "source": [
    "information(messages)"
   ]
  },
  {
   "cell_type": "markdown",
   "metadata": {
    "id": "F6fVRVTiz7ye"
   },
   "source": [
    "#### Информация по таблице **internet**:"
   ]
  },
  {
   "cell_type": "code",
   "execution_count": null,
   "metadata": {
    "id": "PhrRKYaCz7ye",
    "outputId": "477d79eb-dcb9-4904-960d-080021630887",
    "scrolled": true
   },
   "outputs": [
    {
     "name": "stdout",
     "output_type": "stream",
     "text": [
      "Первые 15 строк таблицы:\n"
     ]
    },
    {
     "data": {
      "text/html": [
       "<div>\n",
       "<style scoped>\n",
       "    .dataframe tbody tr th:only-of-type {\n",
       "        vertical-align: middle;\n",
       "    }\n",
       "\n",
       "    .dataframe tbody tr th {\n",
       "        vertical-align: top;\n",
       "    }\n",
       "\n",
       "    .dataframe thead th {\n",
       "        text-align: right;\n",
       "    }\n",
       "</style>\n",
       "<table border=\"1\" class=\"dataframe\">\n",
       "  <thead>\n",
       "    <tr style=\"text-align: right;\">\n",
       "      <th></th>\n",
       "      <th>Unnamed: 0</th>\n",
       "      <th>id</th>\n",
       "      <th>mb_used</th>\n",
       "      <th>session_date</th>\n",
       "      <th>user_id</th>\n",
       "    </tr>\n",
       "  </thead>\n",
       "  <tbody>\n",
       "    <tr>\n",
       "      <td>0</td>\n",
       "      <td>0</td>\n",
       "      <td>1000_0</td>\n",
       "      <td>112.95</td>\n",
       "      <td>2018-11-25</td>\n",
       "      <td>1000</td>\n",
       "    </tr>\n",
       "    <tr>\n",
       "      <td>1</td>\n",
       "      <td>1</td>\n",
       "      <td>1000_1</td>\n",
       "      <td>1052.81</td>\n",
       "      <td>2018-09-07</td>\n",
       "      <td>1000</td>\n",
       "    </tr>\n",
       "    <tr>\n",
       "      <td>2</td>\n",
       "      <td>2</td>\n",
       "      <td>1000_2</td>\n",
       "      <td>1197.26</td>\n",
       "      <td>2018-06-25</td>\n",
       "      <td>1000</td>\n",
       "    </tr>\n",
       "    <tr>\n",
       "      <td>3</td>\n",
       "      <td>3</td>\n",
       "      <td>1000_3</td>\n",
       "      <td>550.27</td>\n",
       "      <td>2018-08-22</td>\n",
       "      <td>1000</td>\n",
       "    </tr>\n",
       "    <tr>\n",
       "      <td>4</td>\n",
       "      <td>4</td>\n",
       "      <td>1000_4</td>\n",
       "      <td>302.56</td>\n",
       "      <td>2018-09-24</td>\n",
       "      <td>1000</td>\n",
       "    </tr>\n",
       "    <tr>\n",
       "      <td>5</td>\n",
       "      <td>5</td>\n",
       "      <td>1000_5</td>\n",
       "      <td>399.97</td>\n",
       "      <td>2018-10-02</td>\n",
       "      <td>1000</td>\n",
       "    </tr>\n",
       "    <tr>\n",
       "      <td>6</td>\n",
       "      <td>6</td>\n",
       "      <td>1000_6</td>\n",
       "      <td>540.08</td>\n",
       "      <td>2018-09-07</td>\n",
       "      <td>1000</td>\n",
       "    </tr>\n",
       "    <tr>\n",
       "      <td>7</td>\n",
       "      <td>7</td>\n",
       "      <td>1000_7</td>\n",
       "      <td>415.70</td>\n",
       "      <td>2018-07-11</td>\n",
       "      <td>1000</td>\n",
       "    </tr>\n",
       "    <tr>\n",
       "      <td>8</td>\n",
       "      <td>8</td>\n",
       "      <td>1000_8</td>\n",
       "      <td>505.40</td>\n",
       "      <td>2018-10-08</td>\n",
       "      <td>1000</td>\n",
       "    </tr>\n",
       "    <tr>\n",
       "      <td>9</td>\n",
       "      <td>9</td>\n",
       "      <td>1000_9</td>\n",
       "      <td>345.54</td>\n",
       "      <td>2018-09-03</td>\n",
       "      <td>1000</td>\n",
       "    </tr>\n",
       "    <tr>\n",
       "      <td>10</td>\n",
       "      <td>10</td>\n",
       "      <td>1000_10</td>\n",
       "      <td>385.14</td>\n",
       "      <td>2018-09-27</td>\n",
       "      <td>1000</td>\n",
       "    </tr>\n",
       "    <tr>\n",
       "      <td>11</td>\n",
       "      <td>11</td>\n",
       "      <td>1000_11</td>\n",
       "      <td>0.00</td>\n",
       "      <td>2018-08-28</td>\n",
       "      <td>1000</td>\n",
       "    </tr>\n",
       "    <tr>\n",
       "      <td>12</td>\n",
       "      <td>12</td>\n",
       "      <td>1000_12</td>\n",
       "      <td>375.87</td>\n",
       "      <td>2018-06-20</td>\n",
       "      <td>1000</td>\n",
       "    </tr>\n",
       "    <tr>\n",
       "      <td>13</td>\n",
       "      <td>13</td>\n",
       "      <td>1000_13</td>\n",
       "      <td>393.83</td>\n",
       "      <td>2018-08-09</td>\n",
       "      <td>1000</td>\n",
       "    </tr>\n",
       "    <tr>\n",
       "      <td>14</td>\n",
       "      <td>14</td>\n",
       "      <td>1000_14</td>\n",
       "      <td>180.64</td>\n",
       "      <td>2018-08-11</td>\n",
       "      <td>1000</td>\n",
       "    </tr>\n",
       "  </tbody>\n",
       "</table>\n",
       "</div>"
      ],
      "text/plain": [
       "    Unnamed: 0       id  mb_used session_date  user_id\n",
       "0            0   1000_0   112.95   2018-11-25     1000\n",
       "1            1   1000_1  1052.81   2018-09-07     1000\n",
       "2            2   1000_2  1197.26   2018-06-25     1000\n",
       "3            3   1000_3   550.27   2018-08-22     1000\n",
       "4            4   1000_4   302.56   2018-09-24     1000\n",
       "5            5   1000_5   399.97   2018-10-02     1000\n",
       "6            6   1000_6   540.08   2018-09-07     1000\n",
       "7            7   1000_7   415.70   2018-07-11     1000\n",
       "8            8   1000_8   505.40   2018-10-08     1000\n",
       "9            9   1000_9   345.54   2018-09-03     1000\n",
       "10          10  1000_10   385.14   2018-09-27     1000\n",
       "11          11  1000_11     0.00   2018-08-28     1000\n",
       "12          12  1000_12   375.87   2018-06-20     1000\n",
       "13          13  1000_13   393.83   2018-08-09     1000\n",
       "14          14  1000_14   180.64   2018-08-11     1000"
      ]
     },
     "metadata": {},
     "output_type": "display_data"
    },
    {
     "name": "stdout",
     "output_type": "stream",
     "text": [
      "\n",
      "Информация о столбцах таблицы методом .describe():\n"
     ]
    },
    {
     "data": {
      "text/html": [
       "<div>\n",
       "<style scoped>\n",
       "    .dataframe tbody tr th:only-of-type {\n",
       "        vertical-align: middle;\n",
       "    }\n",
       "\n",
       "    .dataframe tbody tr th {\n",
       "        vertical-align: top;\n",
       "    }\n",
       "\n",
       "    .dataframe thead th {\n",
       "        text-align: right;\n",
       "    }\n",
       "</style>\n",
       "<table border=\"1\" class=\"dataframe\">\n",
       "  <thead>\n",
       "    <tr style=\"text-align: right;\">\n",
       "      <th></th>\n",
       "      <th>count</th>\n",
       "      <th>mean</th>\n",
       "      <th>std</th>\n",
       "      <th>min</th>\n",
       "      <th>25%</th>\n",
       "      <th>50%</th>\n",
       "      <th>75%</th>\n",
       "      <th>max</th>\n",
       "    </tr>\n",
       "  </thead>\n",
       "  <tbody>\n",
       "    <tr>\n",
       "      <td>Unnamed: 0</td>\n",
       "      <td>149396.0</td>\n",
       "      <td>74697.500000</td>\n",
       "      <td>43127.054745</td>\n",
       "      <td>0.0</td>\n",
       "      <td>37348.7500</td>\n",
       "      <td>74697.500</td>\n",
       "      <td>112046.2500</td>\n",
       "      <td>149395.00</td>\n",
       "    </tr>\n",
       "    <tr>\n",
       "      <td>mb_used</td>\n",
       "      <td>149396.0</td>\n",
       "      <td>370.192426</td>\n",
       "      <td>278.300951</td>\n",
       "      <td>0.0</td>\n",
       "      <td>138.1875</td>\n",
       "      <td>348.015</td>\n",
       "      <td>559.5525</td>\n",
       "      <td>1724.83</td>\n",
       "    </tr>\n",
       "    <tr>\n",
       "      <td>user_id</td>\n",
       "      <td>149396.0</td>\n",
       "      <td>1252.099842</td>\n",
       "      <td>144.050823</td>\n",
       "      <td>1000.0</td>\n",
       "      <td>1130.0000</td>\n",
       "      <td>1251.000</td>\n",
       "      <td>1380.0000</td>\n",
       "      <td>1499.00</td>\n",
       "    </tr>\n",
       "  </tbody>\n",
       "</table>\n",
       "</div>"
      ],
      "text/plain": [
       "               count          mean           std     min         25%  \\\n",
       "Unnamed: 0  149396.0  74697.500000  43127.054745     0.0  37348.7500   \n",
       "mb_used     149396.0    370.192426    278.300951     0.0    138.1875   \n",
       "user_id     149396.0   1252.099842    144.050823  1000.0   1130.0000   \n",
       "\n",
       "                  50%          75%        max  \n",
       "Unnamed: 0  74697.500  112046.2500  149395.00  \n",
       "mb_used       348.015     559.5525    1724.83  \n",
       "user_id      1251.000    1380.0000    1499.00  "
      ]
     },
     "metadata": {},
     "output_type": "display_data"
    },
    {
     "name": "stdout",
     "output_type": "stream",
     "text": [
      "\n",
      "Информация о столбцах таблицы методом .info():\n",
      "<class 'pandas.core.frame.DataFrame'>\n",
      "RangeIndex: 149396 entries, 0 to 149395\n",
      "Data columns (total 5 columns):\n",
      "Unnamed: 0      149396 non-null int64\n",
      "id              149396 non-null object\n",
      "mb_used         149396 non-null float64\n",
      "session_date    149396 non-null object\n",
      "user_id         149396 non-null int64\n",
      "dtypes: float64(1), int64(2), object(2)\n",
      "memory usage: 5.7+ MB\n"
     ]
    },
    {
     "data": {
      "text/plain": [
       "None"
      ]
     },
     "metadata": {},
     "output_type": "display_data"
    },
    {
     "name": "stdout",
     "output_type": "stream",
     "text": [
      "\n",
      "Процент пропусков в каждом столбце в порядке убывания\n"
     ]
    },
    {
     "data": {
      "text/plain": [
       "user_id         0.0\n",
       "session_date    0.0\n",
       "mb_used         0.0\n",
       "id              0.0\n",
       "Unnamed: 0      0.0\n",
       "dtype: float64"
      ]
     },
     "metadata": {},
     "output_type": "display_data"
    },
    {
     "name": "stdout",
     "output_type": "stream",
     "text": [
      "\n",
      "Кол-во дубликатов в таблице:\n"
     ]
    },
    {
     "data": {
      "text/plain": [
       "0"
      ]
     },
     "metadata": {},
     "output_type": "display_data"
    },
    {
     "name": "stdout",
     "output_type": "stream",
     "text": [
      "Количество записей с нулевой продолжительностью инета: 19598\n",
      "Доля звонков с нулевой продолжительностью: 13%\n"
     ]
    }
   ],
   "source": [
    "information(internet)\n",
    "# Посмотрим на записи с продолжительностью звонка в ноль минут:\n",
    "print('Количество записей с нулевой продолжительностью инета:', internet.query('mb_used == 0')['user_id'].count())\n",
    "print('Доля звонков с нулевой продолжительностью: {:.0%}'.format(internet.query('mb_used == 0')['user_id'].count() / len(internet)))"
   ]
  },
  {
   "cell_type": "markdown",
   "metadata": {
    "id": "1B_-tA6Gz7ye"
   },
   "source": [
    "#### Информация по таблице **tariffs**:"
   ]
  },
  {
   "cell_type": "code",
   "execution_count": null,
   "metadata": {
    "id": "l3gRTTifz7yf",
    "outputId": "a5e2779a-a666-4220-938a-c1e5a91622fd",
    "scrolled": true
   },
   "outputs": [
    {
     "name": "stdout",
     "output_type": "stream",
     "text": [
      "Первые 15 строк таблицы:\n"
     ]
    },
    {
     "data": {
      "text/html": [
       "<div>\n",
       "<style scoped>\n",
       "    .dataframe tbody tr th:only-of-type {\n",
       "        vertical-align: middle;\n",
       "    }\n",
       "\n",
       "    .dataframe tbody tr th {\n",
       "        vertical-align: top;\n",
       "    }\n",
       "\n",
       "    .dataframe thead th {\n",
       "        text-align: right;\n",
       "    }\n",
       "</style>\n",
       "<table border=\"1\" class=\"dataframe\">\n",
       "  <thead>\n",
       "    <tr style=\"text-align: right;\">\n",
       "      <th></th>\n",
       "      <th>messages_included</th>\n",
       "      <th>mb_per_month_included</th>\n",
       "      <th>minutes_included</th>\n",
       "      <th>rub_monthly_fee</th>\n",
       "      <th>rub_per_gb</th>\n",
       "      <th>rub_per_message</th>\n",
       "      <th>rub_per_minute</th>\n",
       "      <th>tariff_name</th>\n",
       "    </tr>\n",
       "  </thead>\n",
       "  <tbody>\n",
       "    <tr>\n",
       "      <td>0</td>\n",
       "      <td>50</td>\n",
       "      <td>15360</td>\n",
       "      <td>500</td>\n",
       "      <td>550</td>\n",
       "      <td>200</td>\n",
       "      <td>3</td>\n",
       "      <td>3</td>\n",
       "      <td>smart</td>\n",
       "    </tr>\n",
       "    <tr>\n",
       "      <td>1</td>\n",
       "      <td>1000</td>\n",
       "      <td>30720</td>\n",
       "      <td>3000</td>\n",
       "      <td>1950</td>\n",
       "      <td>150</td>\n",
       "      <td>1</td>\n",
       "      <td>1</td>\n",
       "      <td>ultra</td>\n",
       "    </tr>\n",
       "  </tbody>\n",
       "</table>\n",
       "</div>"
      ],
      "text/plain": [
       "   messages_included  mb_per_month_included  minutes_included  \\\n",
       "0                 50                  15360               500   \n",
       "1               1000                  30720              3000   \n",
       "\n",
       "   rub_monthly_fee  rub_per_gb  rub_per_message  rub_per_minute tariff_name  \n",
       "0              550         200                3               3       smart  \n",
       "1             1950         150                1               1       ultra  "
      ]
     },
     "metadata": {},
     "output_type": "display_data"
    },
    {
     "name": "stdout",
     "output_type": "stream",
     "text": [
      "\n",
      "Информация о столбцах таблицы методом .describe():\n"
     ]
    },
    {
     "data": {
      "text/html": [
       "<div>\n",
       "<style scoped>\n",
       "    .dataframe tbody tr th:only-of-type {\n",
       "        vertical-align: middle;\n",
       "    }\n",
       "\n",
       "    .dataframe tbody tr th {\n",
       "        vertical-align: top;\n",
       "    }\n",
       "\n",
       "    .dataframe thead th {\n",
       "        text-align: right;\n",
       "    }\n",
       "</style>\n",
       "<table border=\"1\" class=\"dataframe\">\n",
       "  <thead>\n",
       "    <tr style=\"text-align: right;\">\n",
       "      <th></th>\n",
       "      <th>count</th>\n",
       "      <th>mean</th>\n",
       "      <th>std</th>\n",
       "      <th>min</th>\n",
       "      <th>25%</th>\n",
       "      <th>50%</th>\n",
       "      <th>75%</th>\n",
       "      <th>max</th>\n",
       "    </tr>\n",
       "  </thead>\n",
       "  <tbody>\n",
       "    <tr>\n",
       "      <td>messages_included</td>\n",
       "      <td>2.0</td>\n",
       "      <td>525.0</td>\n",
       "      <td>671.751442</td>\n",
       "      <td>50.0</td>\n",
       "      <td>287.5</td>\n",
       "      <td>525.0</td>\n",
       "      <td>762.5</td>\n",
       "      <td>1000.0</td>\n",
       "    </tr>\n",
       "    <tr>\n",
       "      <td>mb_per_month_included</td>\n",
       "      <td>2.0</td>\n",
       "      <td>23040.0</td>\n",
       "      <td>10861.160159</td>\n",
       "      <td>15360.0</td>\n",
       "      <td>19200.0</td>\n",
       "      <td>23040.0</td>\n",
       "      <td>26880.0</td>\n",
       "      <td>30720.0</td>\n",
       "    </tr>\n",
       "    <tr>\n",
       "      <td>minutes_included</td>\n",
       "      <td>2.0</td>\n",
       "      <td>1750.0</td>\n",
       "      <td>1767.766953</td>\n",
       "      <td>500.0</td>\n",
       "      <td>1125.0</td>\n",
       "      <td>1750.0</td>\n",
       "      <td>2375.0</td>\n",
       "      <td>3000.0</td>\n",
       "    </tr>\n",
       "    <tr>\n",
       "      <td>rub_monthly_fee</td>\n",
       "      <td>2.0</td>\n",
       "      <td>1250.0</td>\n",
       "      <td>989.949494</td>\n",
       "      <td>550.0</td>\n",
       "      <td>900.0</td>\n",
       "      <td>1250.0</td>\n",
       "      <td>1600.0</td>\n",
       "      <td>1950.0</td>\n",
       "    </tr>\n",
       "    <tr>\n",
       "      <td>rub_per_gb</td>\n",
       "      <td>2.0</td>\n",
       "      <td>175.0</td>\n",
       "      <td>35.355339</td>\n",
       "      <td>150.0</td>\n",
       "      <td>162.5</td>\n",
       "      <td>175.0</td>\n",
       "      <td>187.5</td>\n",
       "      <td>200.0</td>\n",
       "    </tr>\n",
       "    <tr>\n",
       "      <td>rub_per_message</td>\n",
       "      <td>2.0</td>\n",
       "      <td>2.0</td>\n",
       "      <td>1.414214</td>\n",
       "      <td>1.0</td>\n",
       "      <td>1.5</td>\n",
       "      <td>2.0</td>\n",
       "      <td>2.5</td>\n",
       "      <td>3.0</td>\n",
       "    </tr>\n",
       "    <tr>\n",
       "      <td>rub_per_minute</td>\n",
       "      <td>2.0</td>\n",
       "      <td>2.0</td>\n",
       "      <td>1.414214</td>\n",
       "      <td>1.0</td>\n",
       "      <td>1.5</td>\n",
       "      <td>2.0</td>\n",
       "      <td>2.5</td>\n",
       "      <td>3.0</td>\n",
       "    </tr>\n",
       "  </tbody>\n",
       "</table>\n",
       "</div>"
      ],
      "text/plain": [
       "                       count     mean           std      min      25%  \\\n",
       "messages_included        2.0    525.0    671.751442     50.0    287.5   \n",
       "mb_per_month_included    2.0  23040.0  10861.160159  15360.0  19200.0   \n",
       "minutes_included         2.0   1750.0   1767.766953    500.0   1125.0   \n",
       "rub_monthly_fee          2.0   1250.0    989.949494    550.0    900.0   \n",
       "rub_per_gb               2.0    175.0     35.355339    150.0    162.5   \n",
       "rub_per_message          2.0      2.0      1.414214      1.0      1.5   \n",
       "rub_per_minute           2.0      2.0      1.414214      1.0      1.5   \n",
       "\n",
       "                           50%      75%      max  \n",
       "messages_included        525.0    762.5   1000.0  \n",
       "mb_per_month_included  23040.0  26880.0  30720.0  \n",
       "minutes_included        1750.0   2375.0   3000.0  \n",
       "rub_monthly_fee         1250.0   1600.0   1950.0  \n",
       "rub_per_gb               175.0    187.5    200.0  \n",
       "rub_per_message            2.0      2.5      3.0  \n",
       "rub_per_minute             2.0      2.5      3.0  "
      ]
     },
     "metadata": {},
     "output_type": "display_data"
    },
    {
     "name": "stdout",
     "output_type": "stream",
     "text": [
      "\n",
      "Информация о столбцах таблицы методом .info():\n",
      "<class 'pandas.core.frame.DataFrame'>\n",
      "RangeIndex: 2 entries, 0 to 1\n",
      "Data columns (total 8 columns):\n",
      "messages_included        2 non-null int64\n",
      "mb_per_month_included    2 non-null int64\n",
      "minutes_included         2 non-null int64\n",
      "rub_monthly_fee          2 non-null int64\n",
      "rub_per_gb               2 non-null int64\n",
      "rub_per_message          2 non-null int64\n",
      "rub_per_minute           2 non-null int64\n",
      "tariff_name              2 non-null object\n",
      "dtypes: int64(7), object(1)\n",
      "memory usage: 256.0+ bytes\n"
     ]
    },
    {
     "data": {
      "text/plain": [
       "None"
      ]
     },
     "metadata": {},
     "output_type": "display_data"
    },
    {
     "name": "stdout",
     "output_type": "stream",
     "text": [
      "\n",
      "Процент пропусков в каждом столбце в порядке убывания\n"
     ]
    },
    {
     "data": {
      "text/plain": [
       "tariff_name              0.0\n",
       "rub_per_minute           0.0\n",
       "rub_per_message          0.0\n",
       "rub_per_gb               0.0\n",
       "rub_monthly_fee          0.0\n",
       "minutes_included         0.0\n",
       "mb_per_month_included    0.0\n",
       "messages_included        0.0\n",
       "dtype: float64"
      ]
     },
     "metadata": {},
     "output_type": "display_data"
    },
    {
     "name": "stdout",
     "output_type": "stream",
     "text": [
      "\n",
      "Кол-во дубликатов в таблице:\n"
     ]
    },
    {
     "data": {
      "text/plain": [
       "0"
      ]
     },
     "metadata": {},
     "output_type": "display_data"
    }
   ],
   "source": [
    "information(tariffs)"
   ]
  },
  {
   "cell_type": "markdown",
   "metadata": {
    "id": "AunbqnbMz7yf"
   },
   "source": [
    "### Вывод по этапу\n",
    "\n",
    "**Таблица *users*:**\n",
    "\n",
    "* **reg_date** — привести данные к типу datetime\n",
    "* **churn_date** — пропущенные данный говорят о том,что человек еще польщуеся услугами оператора\n",
    "\n",
    "**Таблица *calls*:**\n",
    "\n",
    "* **call_date** — привести данные к типу datetime\n",
    "* **duration** — нужно округоллить значения длительностей звонков в большую сторону, нулями обозначены пропущенные звонки, поэтому их не нужно удалять\n",
    "\n",
    "**Таблица *messages*:**\n",
    "\n",
    "* **message_date** — привести данные к типу datetime\n",
    "\n",
    "**Таблица *internet*:**\n",
    "\n",
    "* **Unnamed: 0** — лишний столбец, под удаление\n",
    "* **session_date** — привести данные к типу datetime\n",
    "\n",
    "**Таблица *tariffs*:**\n",
    "\n",
    "Замечаний по данным нет"
   ]
  },
  {
   "cell_type": "markdown",
   "metadata": {
    "id": "2pHv3pt-z7yf"
   },
   "source": [
    "## Предобработка данных"
   ]
  },
  {
   "cell_type": "markdown",
   "metadata": {
    "id": "6vmA2R1xz7yf"
   },
   "source": [
    "**Задачи:**  \n",
    "\n",
    "Подготовьте данные:\n",
    "* Приведите данные к нужным типам\n",
    "* Найдите и исправьте ошибки в данных, если они есть\n",
    "\n",
    "Посчитайте для каждого пользователя:\n",
    "* количество сделанных звонков и израсходованных минут разговора по месяцам\n",
    "* количество отправленных сообщений по месяцам\n",
    "* объем израсходованного интернет-трафика по месяцам\n",
    "* помесячную выручку с каждого пользователя "
   ]
  },
  {
   "cell_type": "markdown",
   "metadata": {
    "id": "QocuUUKnz7yg"
   },
   "source": [
    "### Исправление типов данных"
   ]
  },
  {
   "cell_type": "code",
   "execution_count": null,
   "metadata": {
    "id": "QatA9Ckpz7yg",
    "outputId": "27623436-9c38-456a-d87c-b35b9cde610a"
   },
   "outputs": [
    {
     "data": {
      "text/plain": [
       "dtype('<M8[ns]')"
      ]
     },
     "execution_count": 9,
     "metadata": {},
     "output_type": "execute_result"
    }
   ],
   "source": [
    "users['reg_date'] = pd.to_datetime(users['reg_date'], format='%Y-%m-%d', errors='coerce')\n",
    "users['reg_date'].dtypes"
   ]
  },
  {
   "cell_type": "code",
   "execution_count": null,
   "metadata": {
    "id": "BUabo20Xz7yg",
    "outputId": "7902cd5d-3b71-4e07-dafe-7fd2d9d84569"
   },
   "outputs": [
    {
     "data": {
      "text/plain": [
       "dtype('<M8[ns]')"
      ]
     },
     "execution_count": 10,
     "metadata": {},
     "output_type": "execute_result"
    }
   ],
   "source": [
    "calls['call_date'] = pd.to_datetime(calls['call_date'], format='%Y-%m-%d', errors='coerce')\n",
    "calls['call_date'].dtypes"
   ]
  },
  {
   "cell_type": "code",
   "execution_count": null,
   "metadata": {
    "id": "irqNHa0uz7yg",
    "outputId": "c06b03e4-5272-46b0-ec04-2e3c4b70e2f9"
   },
   "outputs": [
    {
     "data": {
      "text/plain": [
       "dtype('<M8[ns]')"
      ]
     },
     "execution_count": 11,
     "metadata": {},
     "output_type": "execute_result"
    }
   ],
   "source": [
    "messages['message_date'] = pd.to_datetime(messages['message_date'], format='%Y-%m-%d', errors='coerce')\n",
    "messages['message_date'].dtypes"
   ]
  },
  {
   "cell_type": "code",
   "execution_count": null,
   "metadata": {
    "id": "AXKvKODHz7yh",
    "outputId": "2871e32f-b712-4d77-fa8b-8d875adcd3ea"
   },
   "outputs": [
    {
     "data": {
      "text/plain": [
       "dtype('<M8[ns]')"
      ]
     },
     "execution_count": 12,
     "metadata": {},
     "output_type": "execute_result"
    }
   ],
   "source": [
    "internet['session_date'] = pd.to_datetime(internet['session_date'], format='%Y-%m-%d', errors='coerce')\n",
    "internet['session_date'].dtypes"
   ]
  },
  {
   "cell_type": "markdown",
   "metadata": {
    "id": "tRubHn-Tz7yh"
   },
   "source": [
    "### Исправление ошибок в данных"
   ]
  },
  {
   "cell_type": "markdown",
   "metadata": {
    "id": "4qTdGlNZz7yh"
   },
   "source": [
    "#### Удаление лишних столбцов"
   ]
  },
  {
   "cell_type": "markdown",
   "metadata": {
    "id": "WYxpZQeGz7yh"
   },
   "source": [
    "Непонятный столбец в таблице *internet*:"
   ]
  },
  {
   "cell_type": "code",
   "execution_count": null,
   "metadata": {
    "id": "epeUGDGIz7yh"
   },
   "outputs": [],
   "source": [
    "internet = internet.drop('Unnamed: 0', axis=1)"
   ]
  },
  {
   "cell_type": "markdown",
   "metadata": {
    "id": "6VVHcKaqz7yi"
   },
   "source": [
    "### Расчеты и добавление результатов в датафреймы"
   ]
  },
  {
   "cell_type": "markdown",
   "metadata": {
    "id": "RBVFN37vz7yi"
   },
   "source": [
    "#### Таблица *calls*:"
   ]
  },
  {
   "cell_type": "code",
   "execution_count": null,
   "metadata": {
    "id": "Z2FKCo9mz7yi",
    "outputId": "d6c05c5b-5f6f-454e-973c-6646cf24b38d"
   },
   "outputs": [
    {
     "data": {
      "text/html": [
       "<div>\n",
       "<style scoped>\n",
       "    .dataframe tbody tr th:only-of-type {\n",
       "        vertical-align: middle;\n",
       "    }\n",
       "\n",
       "    .dataframe tbody tr th {\n",
       "        vertical-align: top;\n",
       "    }\n",
       "\n",
       "    .dataframe thead th {\n",
       "        text-align: right;\n",
       "    }\n",
       "</style>\n",
       "<table border=\"1\" class=\"dataframe\">\n",
       "  <thead>\n",
       "    <tr style=\"text-align: right;\">\n",
       "      <th></th>\n",
       "      <th>id</th>\n",
       "      <th>call_date</th>\n",
       "      <th>duration</th>\n",
       "      <th>user_id</th>\n",
       "    </tr>\n",
       "  </thead>\n",
       "  <tbody>\n",
       "    <tr>\n",
       "      <td>77787</td>\n",
       "      <td>1196_19</td>\n",
       "      <td>2018-06-12</td>\n",
       "      <td>0.00</td>\n",
       "      <td>1196</td>\n",
       "    </tr>\n",
       "    <tr>\n",
       "      <td>8150</td>\n",
       "      <td>1021_618</td>\n",
       "      <td>2018-09-14</td>\n",
       "      <td>5.24</td>\n",
       "      <td>1021</td>\n",
       "    </tr>\n",
       "    <tr>\n",
       "      <td>37789</td>\n",
       "      <td>1094_409</td>\n",
       "      <td>2018-06-07</td>\n",
       "      <td>3.92</td>\n",
       "      <td>1094</td>\n",
       "    </tr>\n",
       "    <tr>\n",
       "      <td>80408</td>\n",
       "      <td>1200_311</td>\n",
       "      <td>2018-11-10</td>\n",
       "      <td>12.87</td>\n",
       "      <td>1200</td>\n",
       "    </tr>\n",
       "    <tr>\n",
       "      <td>172089</td>\n",
       "      <td>1425_701</td>\n",
       "      <td>2018-10-26</td>\n",
       "      <td>0.00</td>\n",
       "      <td>1425</td>\n",
       "    </tr>\n",
       "  </tbody>\n",
       "</table>\n",
       "</div>"
      ],
      "text/plain": [
       "              id  call_date  duration  user_id\n",
       "77787    1196_19 2018-06-12      0.00     1196\n",
       "8150    1021_618 2018-09-14      5.24     1021\n",
       "37789   1094_409 2018-06-07      3.92     1094\n",
       "80408   1200_311 2018-11-10     12.87     1200\n",
       "172089  1425_701 2018-10-26      0.00     1425"
      ]
     },
     "execution_count": 14,
     "metadata": {},
     "output_type": "execute_result"
    }
   ],
   "source": [
    "calls.sample(5)"
   ]
  },
  {
   "cell_type": "markdown",
   "metadata": {
    "id": "viIoQN1Qz7yi"
   },
   "source": [
    "Округляем значения минут в большую сторону:"
   ]
  },
  {
   "cell_type": "code",
   "execution_count": null,
   "metadata": {
    "id": "WlHGKE9Ez7yi"
   },
   "outputs": [],
   "source": [
    "calls['rounded_duration'] = calls['duration'].apply(mt.ceil)"
   ]
  },
  {
   "cell_type": "code",
   "execution_count": null,
   "metadata": {
    "id": "MrHEZuMHz7yj",
    "outputId": "5c2060ae-e653-48f7-b169-4e60fb4f7677"
   },
   "outputs": [
    {
     "data": {
      "text/html": [
       "<div>\n",
       "<style scoped>\n",
       "    .dataframe tbody tr th:only-of-type {\n",
       "        vertical-align: middle;\n",
       "    }\n",
       "\n",
       "    .dataframe tbody tr th {\n",
       "        vertical-align: top;\n",
       "    }\n",
       "\n",
       "    .dataframe thead th {\n",
       "        text-align: right;\n",
       "    }\n",
       "</style>\n",
       "<table border=\"1\" class=\"dataframe\">\n",
       "  <thead>\n",
       "    <tr style=\"text-align: right;\">\n",
       "      <th></th>\n",
       "      <th>id</th>\n",
       "      <th>call_date</th>\n",
       "      <th>duration</th>\n",
       "      <th>user_id</th>\n",
       "      <th>rounded_duration</th>\n",
       "    </tr>\n",
       "  </thead>\n",
       "  <tbody>\n",
       "    <tr>\n",
       "      <td>183748</td>\n",
       "      <td>1456_220</td>\n",
       "      <td>2018-10-06</td>\n",
       "      <td>0.00</td>\n",
       "      <td>1456</td>\n",
       "      <td>0</td>\n",
       "    </tr>\n",
       "    <tr>\n",
       "      <td>129250</td>\n",
       "      <td>1331_146</td>\n",
       "      <td>2018-07-11</td>\n",
       "      <td>17.47</td>\n",
       "      <td>1331</td>\n",
       "      <td>18</td>\n",
       "    </tr>\n",
       "    <tr>\n",
       "      <td>196038</td>\n",
       "      <td>1480_349</td>\n",
       "      <td>2018-03-10</td>\n",
       "      <td>9.65</td>\n",
       "      <td>1480</td>\n",
       "      <td>10</td>\n",
       "    </tr>\n",
       "    <tr>\n",
       "      <td>151527</td>\n",
       "      <td>1378_614</td>\n",
       "      <td>2018-03-04</td>\n",
       "      <td>6.61</td>\n",
       "      <td>1378</td>\n",
       "      <td>7</td>\n",
       "    </tr>\n",
       "    <tr>\n",
       "      <td>18719</td>\n",
       "      <td>1051_108</td>\n",
       "      <td>2018-06-18</td>\n",
       "      <td>0.00</td>\n",
       "      <td>1051</td>\n",
       "      <td>0</td>\n",
       "    </tr>\n",
       "  </tbody>\n",
       "</table>\n",
       "</div>"
      ],
      "text/plain": [
       "              id  call_date  duration  user_id  rounded_duration\n",
       "183748  1456_220 2018-10-06      0.00     1456                 0\n",
       "129250  1331_146 2018-07-11     17.47     1331                18\n",
       "196038  1480_349 2018-03-10      9.65     1480                10\n",
       "151527  1378_614 2018-03-04      6.61     1378                 7\n",
       "18719   1051_108 2018-06-18      0.00     1051                 0"
      ]
     },
     "execution_count": 16,
     "metadata": {},
     "output_type": "execute_result"
    }
   ],
   "source": [
    "calls.sample(5)"
   ]
  },
  {
   "cell_type": "markdown",
   "metadata": {
    "id": "I1RP_b9tz7yj"
   },
   "source": [
    "#### Таблица *internet*:"
   ]
  },
  {
   "cell_type": "code",
   "execution_count": null,
   "metadata": {
    "id": "WdBU4dDkz7yj",
    "outputId": "35a435c5-421c-4ff6-abd5-ac3483aa3393"
   },
   "outputs": [
    {
     "data": {
      "text/html": [
       "<div>\n",
       "<style scoped>\n",
       "    .dataframe tbody tr th:only-of-type {\n",
       "        vertical-align: middle;\n",
       "    }\n",
       "\n",
       "    .dataframe tbody tr th {\n",
       "        vertical-align: top;\n",
       "    }\n",
       "\n",
       "    .dataframe thead th {\n",
       "        text-align: right;\n",
       "    }\n",
       "</style>\n",
       "<table border=\"1\" class=\"dataframe\">\n",
       "  <thead>\n",
       "    <tr style=\"text-align: right;\">\n",
       "      <th></th>\n",
       "      <th>id</th>\n",
       "      <th>mb_used</th>\n",
       "      <th>session_date</th>\n",
       "      <th>user_id</th>\n",
       "    </tr>\n",
       "  </thead>\n",
       "  <tbody>\n",
       "    <tr>\n",
       "      <td>113637</td>\n",
       "      <td>1384_347</td>\n",
       "      <td>696.28</td>\n",
       "      <td>2018-08-10</td>\n",
       "      <td>1384</td>\n",
       "    </tr>\n",
       "    <tr>\n",
       "      <td>116758</td>\n",
       "      <td>1393_244</td>\n",
       "      <td>191.75</td>\n",
       "      <td>2018-06-03</td>\n",
       "      <td>1393</td>\n",
       "    </tr>\n",
       "    <tr>\n",
       "      <td>107303</td>\n",
       "      <td>1364_1</td>\n",
       "      <td>258.96</td>\n",
       "      <td>2018-11-21</td>\n",
       "      <td>1364</td>\n",
       "    </tr>\n",
       "    <tr>\n",
       "      <td>133093</td>\n",
       "      <td>1444_22</td>\n",
       "      <td>569.71</td>\n",
       "      <td>2018-12-02</td>\n",
       "      <td>1444</td>\n",
       "    </tr>\n",
       "    <tr>\n",
       "      <td>124802</td>\n",
       "      <td>1420_285</td>\n",
       "      <td>318.27</td>\n",
       "      <td>2018-11-02</td>\n",
       "      <td>1420</td>\n",
       "    </tr>\n",
       "  </tbody>\n",
       "</table>\n",
       "</div>"
      ],
      "text/plain": [
       "              id  mb_used session_date  user_id\n",
       "113637  1384_347   696.28   2018-08-10     1384\n",
       "116758  1393_244   191.75   2018-06-03     1393\n",
       "107303    1364_1   258.96   2018-11-21     1364\n",
       "133093   1444_22   569.71   2018-12-02     1444\n",
       "124802  1420_285   318.27   2018-11-02     1420"
      ]
     },
     "execution_count": 17,
     "metadata": {},
     "output_type": "execute_result"
    }
   ],
   "source": [
    "internet.sample(5)"
   ]
  },
  {
   "cell_type": "code",
   "execution_count": null,
   "metadata": {
    "id": "vDOa_iT-z7yj",
    "outputId": "2cd3c954-5858-4251-98ad-7c12bf2c3ab7"
   },
   "outputs": [
    {
     "data": {
      "text/plain": [
       "149396"
      ]
     },
     "execution_count": 18,
     "metadata": {},
     "output_type": "execute_result"
    }
   ],
   "source": [
    "internet.shape[0]"
   ]
  },
  {
   "cell_type": "markdown",
   "metadata": {
    "id": "AcUfvtxWz7yk"
   },
   "source": [
    "Нам не нужны значения нулевых сессий в дальнейшем, удалим эти строки в таблице"
   ]
  },
  {
   "cell_type": "code",
   "execution_count": null,
   "metadata": {
    "id": "oAYq1mFWz7yk"
   },
   "outputs": [],
   "source": [
    "internet = internet.query('mb_used > 0')"
   ]
  },
  {
   "cell_type": "code",
   "execution_count": null,
   "metadata": {
    "id": "H6hgHkn_z7yk",
    "outputId": "2224749f-49ee-4aa0-e03f-803ed0ec688b"
   },
   "outputs": [
    {
     "data": {
      "text/plain": [
       "129798"
      ]
     },
     "execution_count": 20,
     "metadata": {},
     "output_type": "execute_result"
    }
   ],
   "source": [
    "internet.shape[0]"
   ]
  },
  {
   "cell_type": "markdown",
   "metadata": {
    "id": "90dwSfrHz7yk"
   },
   "source": [
    "### Расчеты значений для каждого пользователя"
   ]
  },
  {
   "cell_type": "markdown",
   "metadata": {
    "id": "Dv7bUJwrz7yk"
   },
   "source": [
    "**Задача:** \n",
    "\n",
    "Посчитать для каждого пользователя:  \n",
    "* количество сделанных звонков и израсходованных минут разговора по месяцам;\n",
    "* количество отправленных сообщений по месяцам;\n",
    "* объем израсходованного интернет-трафика по месяцам;\n",
    "* помесячную выручку с каждого пользователя (вычтите бесплатный лимит из суммарного количества звонков, сообщений и интернет- трафика; остаток умножьте на значение из тарифного плана; прибавьте абонентскую плату, соответствующую тарифному плану)."
   ]
  },
  {
   "cell_type": "markdown",
   "metadata": {
    "id": "dppFnLF0z7yk"
   },
   "source": [
    "#### Добавление столбца с номером месяца в датафреймы *calls*, *messages* и *internet*"
   ]
  },
  {
   "cell_type": "code",
   "execution_count": null,
   "metadata": {
    "id": "42H6P2Luz7yk",
    "outputId": "c8a720bc-64d2-470c-bf34-a227b6bc7f7d"
   },
   "outputs": [
    {
     "data": {
      "text/html": [
       "<div>\n",
       "<style scoped>\n",
       "    .dataframe tbody tr th:only-of-type {\n",
       "        vertical-align: middle;\n",
       "    }\n",
       "\n",
       "    .dataframe tbody tr th {\n",
       "        vertical-align: top;\n",
       "    }\n",
       "\n",
       "    .dataframe thead th {\n",
       "        text-align: right;\n",
       "    }\n",
       "</style>\n",
       "<table border=\"1\" class=\"dataframe\">\n",
       "  <thead>\n",
       "    <tr style=\"text-align: right;\">\n",
       "      <th></th>\n",
       "      <th>id</th>\n",
       "      <th>call_date</th>\n",
       "      <th>duration</th>\n",
       "      <th>user_id</th>\n",
       "      <th>rounded_duration</th>\n",
       "      <th>month</th>\n",
       "    </tr>\n",
       "  </thead>\n",
       "  <tbody>\n",
       "    <tr>\n",
       "      <td>141458</td>\n",
       "      <td>1359_417</td>\n",
       "      <td>2018-11-04</td>\n",
       "      <td>13.27</td>\n",
       "      <td>1359</td>\n",
       "      <td>14</td>\n",
       "      <td>11</td>\n",
       "    </tr>\n",
       "    <tr>\n",
       "      <td>101259</td>\n",
       "      <td>1260_423</td>\n",
       "      <td>2018-09-15</td>\n",
       "      <td>7.06</td>\n",
       "      <td>1260</td>\n",
       "      <td>8</td>\n",
       "      <td>9</td>\n",
       "    </tr>\n",
       "    <tr>\n",
       "      <td>106419</td>\n",
       "      <td>1274_415</td>\n",
       "      <td>2018-07-26</td>\n",
       "      <td>12.18</td>\n",
       "      <td>1274</td>\n",
       "      <td>13</td>\n",
       "      <td>7</td>\n",
       "    </tr>\n",
       "    <tr>\n",
       "      <td>47923</td>\n",
       "      <td>1120_24</td>\n",
       "      <td>2018-06-03</td>\n",
       "      <td>0.00</td>\n",
       "      <td>1120</td>\n",
       "      <td>0</td>\n",
       "      <td>6</td>\n",
       "    </tr>\n",
       "    <tr>\n",
       "      <td>21193</td>\n",
       "      <td>1055_686</td>\n",
       "      <td>2018-08-22</td>\n",
       "      <td>0.00</td>\n",
       "      <td>1055</td>\n",
       "      <td>0</td>\n",
       "      <td>8</td>\n",
       "    </tr>\n",
       "  </tbody>\n",
       "</table>\n",
       "</div>"
      ],
      "text/plain": [
       "              id  call_date  duration  user_id  rounded_duration  month\n",
       "141458  1359_417 2018-11-04     13.27     1359                14     11\n",
       "101259  1260_423 2018-09-15      7.06     1260                 8      9\n",
       "106419  1274_415 2018-07-26     12.18     1274                13      7\n",
       "47923    1120_24 2018-06-03      0.00     1120                 0      6\n",
       "21193   1055_686 2018-08-22      0.00     1055                 0      8"
      ]
     },
     "execution_count": 21,
     "metadata": {},
     "output_type": "execute_result"
    }
   ],
   "source": [
    "calls['month'] = pd.DatetimeIndex(calls['call_date']).month\n",
    "calls.sample(5)"
   ]
  },
  {
   "cell_type": "code",
   "execution_count": null,
   "metadata": {
    "id": "8nv57Y8ez7yl",
    "outputId": "9f451d8d-f80a-4590-d627-73582c2731da"
   },
   "outputs": [
    {
     "data": {
      "text/html": [
       "<div>\n",
       "<style scoped>\n",
       "    .dataframe tbody tr th:only-of-type {\n",
       "        vertical-align: middle;\n",
       "    }\n",
       "\n",
       "    .dataframe tbody tr th {\n",
       "        vertical-align: top;\n",
       "    }\n",
       "\n",
       "    .dataframe thead th {\n",
       "        text-align: right;\n",
       "    }\n",
       "</style>\n",
       "<table border=\"1\" class=\"dataframe\">\n",
       "  <thead>\n",
       "    <tr style=\"text-align: right;\">\n",
       "      <th></th>\n",
       "      <th>id</th>\n",
       "      <th>message_date</th>\n",
       "      <th>user_id</th>\n",
       "      <th>month</th>\n",
       "    </tr>\n",
       "  </thead>\n",
       "  <tbody>\n",
       "    <tr>\n",
       "      <td>59490</td>\n",
       "      <td>1261_29</td>\n",
       "      <td>2018-11-19</td>\n",
       "      <td>1261</td>\n",
       "      <td>11</td>\n",
       "    </tr>\n",
       "    <tr>\n",
       "      <td>108235</td>\n",
       "      <td>1433_842</td>\n",
       "      <td>2018-11-10</td>\n",
       "      <td>1433</td>\n",
       "      <td>11</td>\n",
       "    </tr>\n",
       "    <tr>\n",
       "      <td>21869</td>\n",
       "      <td>1092_150</td>\n",
       "      <td>2018-08-18</td>\n",
       "      <td>1092</td>\n",
       "      <td>8</td>\n",
       "    </tr>\n",
       "    <tr>\n",
       "      <td>78977</td>\n",
       "      <td>1331_200</td>\n",
       "      <td>2018-05-24</td>\n",
       "      <td>1331</td>\n",
       "      <td>5</td>\n",
       "    </tr>\n",
       "    <tr>\n",
       "      <td>114159</td>\n",
       "      <td>1465_51</td>\n",
       "      <td>2018-06-02</td>\n",
       "      <td>1465</td>\n",
       "      <td>6</td>\n",
       "    </tr>\n",
       "  </tbody>\n",
       "</table>\n",
       "</div>"
      ],
      "text/plain": [
       "              id message_date  user_id  month\n",
       "59490    1261_29   2018-11-19     1261     11\n",
       "108235  1433_842   2018-11-10     1433     11\n",
       "21869   1092_150   2018-08-18     1092      8\n",
       "78977   1331_200   2018-05-24     1331      5\n",
       "114159   1465_51   2018-06-02     1465      6"
      ]
     },
     "execution_count": 22,
     "metadata": {},
     "output_type": "execute_result"
    }
   ],
   "source": [
    "messages['month'] = pd.DatetimeIndex(messages['message_date']).month\n",
    "messages.sample(5)"
   ]
  },
  {
   "cell_type": "code",
   "execution_count": null,
   "metadata": {
    "id": "BsENdA4cz7yl",
    "outputId": "3a3d7b53-57b4-4848-d349-44497f8c75ce"
   },
   "outputs": [
    {
     "data": {
      "text/html": [
       "<div>\n",
       "<style scoped>\n",
       "    .dataframe tbody tr th:only-of-type {\n",
       "        vertical-align: middle;\n",
       "    }\n",
       "\n",
       "    .dataframe tbody tr th {\n",
       "        vertical-align: top;\n",
       "    }\n",
       "\n",
       "    .dataframe thead th {\n",
       "        text-align: right;\n",
       "    }\n",
       "</style>\n",
       "<table border=\"1\" class=\"dataframe\">\n",
       "  <thead>\n",
       "    <tr style=\"text-align: right;\">\n",
       "      <th></th>\n",
       "      <th>id</th>\n",
       "      <th>mb_used</th>\n",
       "      <th>session_date</th>\n",
       "      <th>user_id</th>\n",
       "      <th>month</th>\n",
       "    </tr>\n",
       "  </thead>\n",
       "  <tbody>\n",
       "    <tr>\n",
       "      <td>83</td>\n",
       "      <td>1000_83</td>\n",
       "      <td>392.92</td>\n",
       "      <td>2018-07-11</td>\n",
       "      <td>1000</td>\n",
       "      <td>7</td>\n",
       "    </tr>\n",
       "    <tr>\n",
       "      <td>49245</td>\n",
       "      <td>1169_360</td>\n",
       "      <td>298.39</td>\n",
       "      <td>2018-07-29</td>\n",
       "      <td>1169</td>\n",
       "      <td>7</td>\n",
       "    </tr>\n",
       "    <tr>\n",
       "      <td>27130</td>\n",
       "      <td>1093_333</td>\n",
       "      <td>190.15</td>\n",
       "      <td>2018-11-29</td>\n",
       "      <td>1093</td>\n",
       "      <td>11</td>\n",
       "    </tr>\n",
       "    <tr>\n",
       "      <td>43558</td>\n",
       "      <td>1149_558</td>\n",
       "      <td>272.87</td>\n",
       "      <td>2018-10-29</td>\n",
       "      <td>1149</td>\n",
       "      <td>10</td>\n",
       "    </tr>\n",
       "    <tr>\n",
       "      <td>120174</td>\n",
       "      <td>1404_269</td>\n",
       "      <td>336.46</td>\n",
       "      <td>2018-10-22</td>\n",
       "      <td>1404</td>\n",
       "      <td>10</td>\n",
       "    </tr>\n",
       "  </tbody>\n",
       "</table>\n",
       "</div>"
      ],
      "text/plain": [
       "              id  mb_used session_date  user_id  month\n",
       "83       1000_83   392.92   2018-07-11     1000      7\n",
       "49245   1169_360   298.39   2018-07-29     1169      7\n",
       "27130   1093_333   190.15   2018-11-29     1093     11\n",
       "43558   1149_558   272.87   2018-10-29     1149     10\n",
       "120174  1404_269   336.46   2018-10-22     1404     10"
      ]
     },
     "execution_count": 23,
     "metadata": {},
     "output_type": "execute_result"
    }
   ],
   "source": [
    "internet['month'] = pd.DatetimeIndex(internet['session_date']).month\n",
    "internet.sample(5)"
   ]
  },
  {
   "cell_type": "markdown",
   "metadata": {
    "id": "KzR_6YCAz7yl"
   },
   "source": [
    "#### Вычисление трафика по месяцам и подготовка таблиц к объединению:"
   ]
  },
  {
   "cell_type": "code",
   "execution_count": null,
   "metadata": {
    "id": "mEXOsDqIz7yl",
    "outputId": "41e79f7d-5789-4bb9-d627-6d8de21010f4"
   },
   "outputs": [
    {
     "data": {
      "text/html": [
       "<div>\n",
       "<style scoped>\n",
       "    .dataframe tbody tr th:only-of-type {\n",
       "        vertical-align: middle;\n",
       "    }\n",
       "\n",
       "    .dataframe tbody tr th {\n",
       "        vertical-align: top;\n",
       "    }\n",
       "\n",
       "    .dataframe thead th {\n",
       "        text-align: right;\n",
       "    }\n",
       "</style>\n",
       "<table border=\"1\" class=\"dataframe\">\n",
       "  <thead>\n",
       "    <tr style=\"text-align: right;\">\n",
       "      <th></th>\n",
       "      <th></th>\n",
       "      <th>duration</th>\n",
       "      <th>rounded_duration</th>\n",
       "    </tr>\n",
       "    <tr>\n",
       "      <th>user_id</th>\n",
       "      <th>month</th>\n",
       "      <th></th>\n",
       "      <th></th>\n",
       "    </tr>\n",
       "  </thead>\n",
       "  <tbody>\n",
       "    <tr>\n",
       "      <td rowspan=\"5\" valign=\"top\">1000</td>\n",
       "      <td>5</td>\n",
       "      <td>150.06</td>\n",
       "      <td>159</td>\n",
       "    </tr>\n",
       "    <tr>\n",
       "      <td>6</td>\n",
       "      <td>158.90</td>\n",
       "      <td>172</td>\n",
       "    </tr>\n",
       "    <tr>\n",
       "      <td>7</td>\n",
       "      <td>318.80</td>\n",
       "      <td>340</td>\n",
       "    </tr>\n",
       "    <tr>\n",
       "      <td>8</td>\n",
       "      <td>389.87</td>\n",
       "      <td>408</td>\n",
       "    </tr>\n",
       "    <tr>\n",
       "      <td>9</td>\n",
       "      <td>440.14</td>\n",
       "      <td>466</td>\n",
       "    </tr>\n",
       "    <tr>\n",
       "      <td>...</td>\n",
       "      <td>...</td>\n",
       "      <td>...</td>\n",
       "      <td>...</td>\n",
       "    </tr>\n",
       "    <tr>\n",
       "      <td>1498</td>\n",
       "      <td>10</td>\n",
       "      <td>232.63</td>\n",
       "      <td>247</td>\n",
       "    </tr>\n",
       "    <tr>\n",
       "      <td rowspan=\"4\" valign=\"top\">1499</td>\n",
       "      <td>9</td>\n",
       "      <td>64.65</td>\n",
       "      <td>70</td>\n",
       "    </tr>\n",
       "    <tr>\n",
       "      <td>10</td>\n",
       "      <td>429.91</td>\n",
       "      <td>449</td>\n",
       "    </tr>\n",
       "    <tr>\n",
       "      <td>11</td>\n",
       "      <td>576.50</td>\n",
       "      <td>612</td>\n",
       "    </tr>\n",
       "    <tr>\n",
       "      <td>12</td>\n",
       "      <td>465.16</td>\n",
       "      <td>492</td>\n",
       "    </tr>\n",
       "  </tbody>\n",
       "</table>\n",
       "<p>3174 rows × 2 columns</p>\n",
       "</div>"
      ],
      "text/plain": [
       "               duration  rounded_duration\n",
       "user_id month                            \n",
       "1000    5        150.06               159\n",
       "        6        158.90               172\n",
       "        7        318.80               340\n",
       "        8        389.87               408\n",
       "        9        440.14               466\n",
       "...                 ...               ...\n",
       "1498    10       232.63               247\n",
       "1499    9         64.65                70\n",
       "        10       429.91               449\n",
       "        11       576.50               612\n",
       "        12       465.16               492\n",
       "\n",
       "[3174 rows x 2 columns]"
      ]
     },
     "execution_count": 24,
     "metadata": {},
     "output_type": "execute_result"
    }
   ],
   "source": [
    "calls_for_merge = calls.groupby(['user_id', 'month']).agg('sum')\n",
    "calls_for_merge"
   ]
  },
  {
   "cell_type": "code",
   "execution_count": null,
   "metadata": {
    "id": "ACOOk1LVz7ym",
    "outputId": "f364def7-579e-45a7-e791-fbd6c3f40815"
   },
   "outputs": [
    {
     "data": {
      "text/html": [
       "<div>\n",
       "<style scoped>\n",
       "    .dataframe tbody tr th:only-of-type {\n",
       "        vertical-align: middle;\n",
       "    }\n",
       "\n",
       "    .dataframe tbody tr th {\n",
       "        vertical-align: top;\n",
       "    }\n",
       "\n",
       "    .dataframe thead th {\n",
       "        text-align: right;\n",
       "    }\n",
       "</style>\n",
       "<table border=\"1\" class=\"dataframe\">\n",
       "  <thead>\n",
       "    <tr style=\"text-align: right;\">\n",
       "      <th></th>\n",
       "      <th></th>\n",
       "      <th>id</th>\n",
       "      <th>message_date</th>\n",
       "    </tr>\n",
       "    <tr>\n",
       "      <th>user_id</th>\n",
       "      <th>month</th>\n",
       "      <th></th>\n",
       "      <th></th>\n",
       "    </tr>\n",
       "  </thead>\n",
       "  <tbody>\n",
       "    <tr>\n",
       "      <td rowspan=\"5\" valign=\"top\">1000</td>\n",
       "      <td>5</td>\n",
       "      <td>22</td>\n",
       "      <td>22</td>\n",
       "    </tr>\n",
       "    <tr>\n",
       "      <td>6</td>\n",
       "      <td>60</td>\n",
       "      <td>60</td>\n",
       "    </tr>\n",
       "    <tr>\n",
       "      <td>7</td>\n",
       "      <td>75</td>\n",
       "      <td>75</td>\n",
       "    </tr>\n",
       "    <tr>\n",
       "      <td>8</td>\n",
       "      <td>81</td>\n",
       "      <td>81</td>\n",
       "    </tr>\n",
       "    <tr>\n",
       "      <td>9</td>\n",
       "      <td>57</td>\n",
       "      <td>57</td>\n",
       "    </tr>\n",
       "    <tr>\n",
       "      <td>...</td>\n",
       "      <td>...</td>\n",
       "      <td>...</td>\n",
       "      <td>...</td>\n",
       "    </tr>\n",
       "    <tr>\n",
       "      <td>1498</td>\n",
       "      <td>10</td>\n",
       "      <td>42</td>\n",
       "      <td>42</td>\n",
       "    </tr>\n",
       "    <tr>\n",
       "      <td rowspan=\"4\" valign=\"top\">1499</td>\n",
       "      <td>9</td>\n",
       "      <td>11</td>\n",
       "      <td>11</td>\n",
       "    </tr>\n",
       "    <tr>\n",
       "      <td>10</td>\n",
       "      <td>48</td>\n",
       "      <td>48</td>\n",
       "    </tr>\n",
       "    <tr>\n",
       "      <td>11</td>\n",
       "      <td>59</td>\n",
       "      <td>59</td>\n",
       "    </tr>\n",
       "    <tr>\n",
       "      <td>12</td>\n",
       "      <td>66</td>\n",
       "      <td>66</td>\n",
       "    </tr>\n",
       "  </tbody>\n",
       "</table>\n",
       "<p>2717 rows × 2 columns</p>\n",
       "</div>"
      ],
      "text/plain": [
       "               id  message_date\n",
       "user_id month                  \n",
       "1000    5      22            22\n",
       "        6      60            60\n",
       "        7      75            75\n",
       "        8      81            81\n",
       "        9      57            57\n",
       "...            ..           ...\n",
       "1498    10     42            42\n",
       "1499    9      11            11\n",
       "        10     48            48\n",
       "        11     59            59\n",
       "        12     66            66\n",
       "\n",
       "[2717 rows x 2 columns]"
      ]
     },
     "execution_count": 25,
     "metadata": {},
     "output_type": "execute_result"
    }
   ],
   "source": [
    "messages_for_merge = messages.groupby(['user_id', 'month']).agg('count')\n",
    "messages_for_merge"
   ]
  },
  {
   "cell_type": "code",
   "execution_count": null,
   "metadata": {
    "id": "4UtBaHfaz7ym",
    "outputId": "7616477a-8ceb-4bb6-be53-8bfe8a4a4082"
   },
   "outputs": [
    {
     "data": {
      "text/html": [
       "<div>\n",
       "<style scoped>\n",
       "    .dataframe tbody tr th:only-of-type {\n",
       "        vertical-align: middle;\n",
       "    }\n",
       "\n",
       "    .dataframe tbody tr th {\n",
       "        vertical-align: top;\n",
       "    }\n",
       "\n",
       "    .dataframe thead th {\n",
       "        text-align: right;\n",
       "    }\n",
       "</style>\n",
       "<table border=\"1\" class=\"dataframe\">\n",
       "  <thead>\n",
       "    <tr style=\"text-align: right;\">\n",
       "      <th></th>\n",
       "      <th></th>\n",
       "      <th>mb_used</th>\n",
       "    </tr>\n",
       "    <tr>\n",
       "      <th>user_id</th>\n",
       "      <th>month</th>\n",
       "      <th></th>\n",
       "    </tr>\n",
       "  </thead>\n",
       "  <tbody>\n",
       "    <tr>\n",
       "      <td rowspan=\"5\" valign=\"top\">1000</td>\n",
       "      <td>5</td>\n",
       "      <td>2253.49</td>\n",
       "    </tr>\n",
       "    <tr>\n",
       "      <td>6</td>\n",
       "      <td>23233.77</td>\n",
       "    </tr>\n",
       "    <tr>\n",
       "      <td>7</td>\n",
       "      <td>14003.64</td>\n",
       "    </tr>\n",
       "    <tr>\n",
       "      <td>8</td>\n",
       "      <td>14055.93</td>\n",
       "    </tr>\n",
       "    <tr>\n",
       "      <td>9</td>\n",
       "      <td>14568.91</td>\n",
       "    </tr>\n",
       "    <tr>\n",
       "      <td>...</td>\n",
       "      <td>...</td>\n",
       "      <td>...</td>\n",
       "    </tr>\n",
       "    <tr>\n",
       "      <td>1498</td>\n",
       "      <td>10</td>\n",
       "      <td>20579.36</td>\n",
       "    </tr>\n",
       "    <tr>\n",
       "      <td rowspan=\"4\" valign=\"top\">1499</td>\n",
       "      <td>9</td>\n",
       "      <td>1845.75</td>\n",
       "    </tr>\n",
       "    <tr>\n",
       "      <td>10</td>\n",
       "      <td>17788.51</td>\n",
       "    </tr>\n",
       "    <tr>\n",
       "      <td>11</td>\n",
       "      <td>17963.31</td>\n",
       "    </tr>\n",
       "    <tr>\n",
       "      <td>12</td>\n",
       "      <td>13055.58</td>\n",
       "    </tr>\n",
       "  </tbody>\n",
       "</table>\n",
       "<p>3201 rows × 1 columns</p>\n",
       "</div>"
      ],
      "text/plain": [
       "                mb_used\n",
       "user_id month          \n",
       "1000    5       2253.49\n",
       "        6      23233.77\n",
       "        7      14003.64\n",
       "        8      14055.93\n",
       "        9      14568.91\n",
       "...                 ...\n",
       "1498    10     20579.36\n",
       "1499    9       1845.75\n",
       "        10     17788.51\n",
       "        11     17963.31\n",
       "        12     13055.58\n",
       "\n",
       "[3201 rows x 1 columns]"
      ]
     },
     "execution_count": 26,
     "metadata": {},
     "output_type": "execute_result"
    }
   ],
   "source": [
    "internet_for_merge = internet.groupby(['user_id', 'month']).agg('sum')\n",
    "internet_for_merge "
   ]
  },
  {
   "cell_type": "markdown",
   "metadata": {
    "id": "Jt7noRqkz7ym"
   },
   "source": [
    "#### Объъединение таблиц в одну и внесение в нее изменений:"
   ]
  },
  {
   "cell_type": "code",
   "execution_count": null,
   "metadata": {
    "id": "MZwVQC7Tz7yn"
   },
   "outputs": [],
   "source": [
    "merged_data = calls_for_merge.merge(messages_for_merge, on=['user_id', 'month']).merge(internet_for_merge, on=['user_id', 'month'])\n",
    "merged_data = merged_data.reset_index()\n",
    "merged_data = merged_data.merge(users, on='user_id')"
   ]
  },
  {
   "cell_type": "code",
   "execution_count": null,
   "metadata": {
    "id": "IbuzErwCz7yn",
    "outputId": "9516bdeb-dd94-403f-849d-9cd9de1f5735"
   },
   "outputs": [
    {
     "data": {
      "text/html": [
       "<div>\n",
       "<style scoped>\n",
       "    .dataframe tbody tr th:only-of-type {\n",
       "        vertical-align: middle;\n",
       "    }\n",
       "\n",
       "    .dataframe tbody tr th {\n",
       "        vertical-align: top;\n",
       "    }\n",
       "\n",
       "    .dataframe thead th {\n",
       "        text-align: right;\n",
       "    }\n",
       "</style>\n",
       "<table border=\"1\" class=\"dataframe\">\n",
       "  <thead>\n",
       "    <tr style=\"text-align: right;\">\n",
       "      <th></th>\n",
       "      <th>user_id</th>\n",
       "      <th>month</th>\n",
       "      <th>duration</th>\n",
       "      <th>rounded_duration</th>\n",
       "      <th>id</th>\n",
       "      <th>message_date</th>\n",
       "      <th>mb_used</th>\n",
       "      <th>age</th>\n",
       "      <th>churn_date</th>\n",
       "      <th>city</th>\n",
       "      <th>first_name</th>\n",
       "      <th>last_name</th>\n",
       "      <th>reg_date</th>\n",
       "      <th>tariff</th>\n",
       "    </tr>\n",
       "  </thead>\n",
       "  <tbody>\n",
       "    <tr>\n",
       "      <td>2232</td>\n",
       "      <td>1421</td>\n",
       "      <td>9</td>\n",
       "      <td>261.33</td>\n",
       "      <td>279</td>\n",
       "      <td>62</td>\n",
       "      <td>62</td>\n",
       "      <td>22924.27</td>\n",
       "      <td>30</td>\n",
       "      <td>NaN</td>\n",
       "      <td>Калининград</td>\n",
       "      <td>Гайдар</td>\n",
       "      <td>Александрович</td>\n",
       "      <td>2018-02-22</td>\n",
       "      <td>smart</td>\n",
       "    </tr>\n",
       "    <tr>\n",
       "      <td>710</td>\n",
       "      <td>1136</td>\n",
       "      <td>11</td>\n",
       "      <td>136.63</td>\n",
       "      <td>147</td>\n",
       "      <td>26</td>\n",
       "      <td>26</td>\n",
       "      <td>8616.89</td>\n",
       "      <td>39</td>\n",
       "      <td>NaN</td>\n",
       "      <td>Липецк</td>\n",
       "      <td>Пётр</td>\n",
       "      <td>Левин</td>\n",
       "      <td>2018-11-19</td>\n",
       "      <td>smart</td>\n",
       "    </tr>\n",
       "    <tr>\n",
       "      <td>1764</td>\n",
       "      <td>1343</td>\n",
       "      <td>9</td>\n",
       "      <td>458.41</td>\n",
       "      <td>488</td>\n",
       "      <td>65</td>\n",
       "      <td>65</td>\n",
       "      <td>7512.26</td>\n",
       "      <td>30</td>\n",
       "      <td>2018-10-28</td>\n",
       "      <td>Кострома</td>\n",
       "      <td>Анита</td>\n",
       "      <td>Верещагина</td>\n",
       "      <td>2018-08-15</td>\n",
       "      <td>ultra</td>\n",
       "    </tr>\n",
       "    <tr>\n",
       "      <td>407</td>\n",
       "      <td>1074</td>\n",
       "      <td>12</td>\n",
       "      <td>547.72</td>\n",
       "      <td>580</td>\n",
       "      <td>3</td>\n",
       "      <td>3</td>\n",
       "      <td>21895.67</td>\n",
       "      <td>68</td>\n",
       "      <td>NaN</td>\n",
       "      <td>Якутск</td>\n",
       "      <td>Андрей</td>\n",
       "      <td>Кравцов</td>\n",
       "      <td>2018-12-30</td>\n",
       "      <td>smart</td>\n",
       "    </tr>\n",
       "    <tr>\n",
       "      <td>145</td>\n",
       "      <td>1027</td>\n",
       "      <td>4</td>\n",
       "      <td>355.87</td>\n",
       "      <td>379</td>\n",
       "      <td>8</td>\n",
       "      <td>8</td>\n",
       "      <td>11445.96</td>\n",
       "      <td>62</td>\n",
       "      <td>NaN</td>\n",
       "      <td>Петрозаводск</td>\n",
       "      <td>Владислав</td>\n",
       "      <td>Авдеев</td>\n",
       "      <td>2018-04-10</td>\n",
       "      <td>smart</td>\n",
       "    </tr>\n",
       "  </tbody>\n",
       "</table>\n",
       "</div>"
      ],
      "text/plain": [
       "      user_id  month  duration  rounded_duration  id  message_date   mb_used  \\\n",
       "2232     1421      9    261.33               279  62            62  22924.27   \n",
       "710      1136     11    136.63               147  26            26   8616.89   \n",
       "1764     1343      9    458.41               488  65            65   7512.26   \n",
       "407      1074     12    547.72               580   3             3  21895.67   \n",
       "145      1027      4    355.87               379   8             8  11445.96   \n",
       "\n",
       "      age  churn_date          city first_name      last_name   reg_date  \\\n",
       "2232   30         NaN   Калининград     Гайдар  Александрович 2018-02-22   \n",
       "710    39         NaN        Липецк       Пётр          Левин 2018-11-19   \n",
       "1764   30  2018-10-28      Кострома      Анита     Верещагина 2018-08-15   \n",
       "407    68         NaN        Якутск     Андрей        Кравцов 2018-12-30   \n",
       "145    62         NaN  Петрозаводск  Владислав         Авдеев 2018-04-10   \n",
       "\n",
       "     tariff  \n",
       "2232  smart  \n",
       "710   smart  \n",
       "1764  ultra  \n",
       "407   smart  \n",
       "145   smart  "
      ]
     },
     "execution_count": 28,
     "metadata": {},
     "output_type": "execute_result"
    }
   ],
   "source": [
    "merged_data.sample(5)"
   ]
  },
  {
   "cell_type": "markdown",
   "metadata": {
    "id": "sBujXw8rz7yn"
   },
   "source": [
    "Удалим некоторые столбцы, назания некоторых оставшихся столбцов изменим"
   ]
  },
  {
   "cell_type": "code",
   "execution_count": null,
   "metadata": {
    "id": "vMGqpx5Kz7yn"
   },
   "outputs": [],
   "source": [
    "merged_data = merged_data.drop(columns=['duration', 'message_date'])\n",
    "merged_data.rename(columns={'rounded_duration': 'rounded_duration_per_month', 'id': 'messages_per_month', 'mb_used': 'mb_used_per_month'}, inplace=True)"
   ]
  },
  {
   "cell_type": "code",
   "execution_count": null,
   "metadata": {
    "id": "4XWxicUDz7yn",
    "outputId": "77d67a4a-5d80-4096-af92-4e0c0595a70e"
   },
   "outputs": [
    {
     "data": {
      "text/html": [
       "<div>\n",
       "<style scoped>\n",
       "    .dataframe tbody tr th:only-of-type {\n",
       "        vertical-align: middle;\n",
       "    }\n",
       "\n",
       "    .dataframe tbody tr th {\n",
       "        vertical-align: top;\n",
       "    }\n",
       "\n",
       "    .dataframe thead th {\n",
       "        text-align: right;\n",
       "    }\n",
       "</style>\n",
       "<table border=\"1\" class=\"dataframe\">\n",
       "  <thead>\n",
       "    <tr style=\"text-align: right;\">\n",
       "      <th></th>\n",
       "      <th>user_id</th>\n",
       "      <th>month</th>\n",
       "      <th>rounded_duration_per_month</th>\n",
       "      <th>messages_per_month</th>\n",
       "      <th>mb_used_per_month</th>\n",
       "      <th>age</th>\n",
       "      <th>churn_date</th>\n",
       "      <th>city</th>\n",
       "      <th>first_name</th>\n",
       "      <th>last_name</th>\n",
       "      <th>reg_date</th>\n",
       "      <th>tariff</th>\n",
       "    </tr>\n",
       "  </thead>\n",
       "  <tbody>\n",
       "    <tr>\n",
       "      <td>328</td>\n",
       "      <td>1060</td>\n",
       "      <td>12</td>\n",
       "      <td>1233</td>\n",
       "      <td>52</td>\n",
       "      <td>43931.36</td>\n",
       "      <td>46</td>\n",
       "      <td>NaN</td>\n",
       "      <td>Калуга</td>\n",
       "      <td>Яков</td>\n",
       "      <td>Рудаков</td>\n",
       "      <td>2018-11-24</td>\n",
       "      <td>ultra</td>\n",
       "    </tr>\n",
       "    <tr>\n",
       "      <td>1319</td>\n",
       "      <td>1264</td>\n",
       "      <td>5</td>\n",
       "      <td>341</td>\n",
       "      <td>18</td>\n",
       "      <td>18220.49</td>\n",
       "      <td>47</td>\n",
       "      <td>NaN</td>\n",
       "      <td>Хабаровск</td>\n",
       "      <td>Саида</td>\n",
       "      <td>Жукова</td>\n",
       "      <td>2018-04-22</td>\n",
       "      <td>smart</td>\n",
       "    </tr>\n",
       "    <tr>\n",
       "      <td>1381</td>\n",
       "      <td>1275</td>\n",
       "      <td>4</td>\n",
       "      <td>120</td>\n",
       "      <td>8</td>\n",
       "      <td>2346.69</td>\n",
       "      <td>48</td>\n",
       "      <td>NaN</td>\n",
       "      <td>Москва</td>\n",
       "      <td>Семён</td>\n",
       "      <td>Елизаров</td>\n",
       "      <td>2018-04-24</td>\n",
       "      <td>smart</td>\n",
       "    </tr>\n",
       "    <tr>\n",
       "      <td>388</td>\n",
       "      <td>1071</td>\n",
       "      <td>4</td>\n",
       "      <td>321</td>\n",
       "      <td>16</td>\n",
       "      <td>16476.73</td>\n",
       "      <td>20</td>\n",
       "      <td>2018-08-31</td>\n",
       "      <td>Омск</td>\n",
       "      <td>Гектор</td>\n",
       "      <td>Чумаков</td>\n",
       "      <td>2018-01-09</td>\n",
       "      <td>smart</td>\n",
       "    </tr>\n",
       "    <tr>\n",
       "      <td>697</td>\n",
       "      <td>1134</td>\n",
       "      <td>12</td>\n",
       "      <td>468</td>\n",
       "      <td>64</td>\n",
       "      <td>15556.98</td>\n",
       "      <td>65</td>\n",
       "      <td>NaN</td>\n",
       "      <td>Красноярск</td>\n",
       "      <td>Марьяна</td>\n",
       "      <td>Авросимова</td>\n",
       "      <td>2018-01-16</td>\n",
       "      <td>smart</td>\n",
       "    </tr>\n",
       "  </tbody>\n",
       "</table>\n",
       "</div>"
      ],
      "text/plain": [
       "      user_id  month  rounded_duration_per_month  messages_per_month  \\\n",
       "328      1060     12                        1233                  52   \n",
       "1319     1264      5                         341                  18   \n",
       "1381     1275      4                         120                   8   \n",
       "388      1071      4                         321                  16   \n",
       "697      1134     12                         468                  64   \n",
       "\n",
       "      mb_used_per_month  age  churn_date        city first_name   last_name  \\\n",
       "328            43931.36   46         NaN      Калуга       Яков     Рудаков   \n",
       "1319           18220.49   47         NaN   Хабаровск      Саида      Жукова   \n",
       "1381            2346.69   48         NaN      Москва      Семён    Елизаров   \n",
       "388            16476.73   20  2018-08-31        Омск     Гектор     Чумаков   \n",
       "697            15556.98   65         NaN  Красноярск    Марьяна  Авросимова   \n",
       "\n",
       "       reg_date tariff  \n",
       "328  2018-11-24  ultra  \n",
       "1319 2018-04-22  smart  \n",
       "1381 2018-04-24  smart  \n",
       "388  2018-01-09  smart  \n",
       "697  2018-01-16  smart  "
      ]
     },
     "execution_count": 30,
     "metadata": {},
     "output_type": "execute_result"
    }
   ],
   "source": [
    "merged_data.sample(5)"
   ]
  },
  {
   "cell_type": "code",
   "execution_count": null,
   "metadata": {
    "id": "xLicqP07z7yn",
    "outputId": "cc4e2399-6ab8-4486-a989-f62e39021ede"
   },
   "outputs": [
    {
     "data": {
      "text/plain": [
       "419"
      ]
     },
     "execution_count": 55,
     "metadata": {},
     "output_type": "execute_result"
    }
   ],
   "source": [
    "merged_data.user_id.nunique()"
   ]
  },
  {
   "cell_type": "markdown",
   "metadata": {
    "id": "v5sPlmGzz7yo"
   },
   "source": [
    "#### Вычисление месячной выручки с каждого клиента:"
   ]
  },
  {
   "cell_type": "markdown",
   "metadata": {
    "id": "brbRc2Ajz7yo"
   },
   "source": [
    "Для вычисления выручки напишем функцию:"
   ]
  },
  {
   "cell_type": "code",
   "execution_count": null,
   "metadata": {
    "id": "2Jv0hJ3pz7yo"
   },
   "outputs": [],
   "source": [
    "def income(row):\n",
    "    if row['tariff'] == 'smart':\n",
    "        minutes_for_income = row['rounded_duration_per_month'] - 500\n",
    "        messages_for_income = row['messages_per_month'] - 50\n",
    "        mb_for_income = row['mb_used_per_month'] - 15 * 1024\n",
    "        if minutes_for_income < 0:\n",
    "            minutes_for_income = 0\n",
    "        if messages_for_income < 0:\n",
    "            messages_for_income = 0\n",
    "        if mb_for_income < 0:\n",
    "            mb_for_income = 0\n",
    "            \n",
    "        month_income = minutes_for_income * 3 + messages_for_income * 3 + mt.ceil(mb_for_income / 1024) * 200 + 550\n",
    "        return month_income\n",
    "    \n",
    "    elif row['tariff'] == 'ultra':\n",
    "        minutes_for_income = row['rounded_duration_per_month'] - 3000\n",
    "        messages_for_income = row['messages_per_month'] - 1000\n",
    "        mb_for_income = row['mb_used_per_month'] - 30 * 1024\n",
    "        if minutes_for_income < 0:\n",
    "            minutes_for_income = 0\n",
    "        if messages_for_income < 0:\n",
    "            messages_for_income = 0\n",
    "        if mb_for_income < 0:\n",
    "            mb_for_income = 0\n",
    "            \n",
    "        month_income = minutes_for_income * 1 + messages_for_income * 1 + mt.ceil(mb_for_income / 1024) * 150 + 1950\n",
    "        return month_income\n",
    "    \n",
    "merged_data['month_income'] = merged_data.apply(income, axis=1)"
   ]
  },
  {
   "cell_type": "code",
   "execution_count": null,
   "metadata": {
    "id": "zsckm2WPz7yo",
    "outputId": "88abada6-9b03-4ae9-96e5-27eaaacd6432"
   },
   "outputs": [
    {
     "data": {
      "text/html": [
       "<div>\n",
       "<style scoped>\n",
       "    .dataframe tbody tr th:only-of-type {\n",
       "        vertical-align: middle;\n",
       "    }\n",
       "\n",
       "    .dataframe tbody tr th {\n",
       "        vertical-align: top;\n",
       "    }\n",
       "\n",
       "    .dataframe thead th {\n",
       "        text-align: right;\n",
       "    }\n",
       "</style>\n",
       "<table border=\"1\" class=\"dataframe\">\n",
       "  <thead>\n",
       "    <tr style=\"text-align: right;\">\n",
       "      <th></th>\n",
       "      <th>user_id</th>\n",
       "      <th>month</th>\n",
       "      <th>rounded_duration_per_month</th>\n",
       "      <th>messages_per_month</th>\n",
       "      <th>mb_used_per_month</th>\n",
       "      <th>age</th>\n",
       "      <th>churn_date</th>\n",
       "      <th>city</th>\n",
       "      <th>first_name</th>\n",
       "      <th>last_name</th>\n",
       "      <th>reg_date</th>\n",
       "      <th>tariff</th>\n",
       "      <th>month_income</th>\n",
       "    </tr>\n",
       "  </thead>\n",
       "  <tbody>\n",
       "    <tr>\n",
       "      <td>2248</td>\n",
       "      <td>1423</td>\n",
       "      <td>10</td>\n",
       "      <td>174</td>\n",
       "      <td>48</td>\n",
       "      <td>20825.87</td>\n",
       "      <td>50</td>\n",
       "      <td>NaN</td>\n",
       "      <td>Астрахань</td>\n",
       "      <td>Леон</td>\n",
       "      <td>Силин</td>\n",
       "      <td>2018-01-23</td>\n",
       "      <td>smart</td>\n",
       "      <td>1750</td>\n",
       "    </tr>\n",
       "    <tr>\n",
       "      <td>1599</td>\n",
       "      <td>1315</td>\n",
       "      <td>8</td>\n",
       "      <td>458</td>\n",
       "      <td>51</td>\n",
       "      <td>17567.01</td>\n",
       "      <td>49</td>\n",
       "      <td>NaN</td>\n",
       "      <td>Владивосток</td>\n",
       "      <td>Инга</td>\n",
       "      <td>Агапеева</td>\n",
       "      <td>2018-07-14</td>\n",
       "      <td>smart</td>\n",
       "      <td>1153</td>\n",
       "    </tr>\n",
       "    <tr>\n",
       "      <td>150</td>\n",
       "      <td>1027</td>\n",
       "      <td>9</td>\n",
       "      <td>388</td>\n",
       "      <td>10</td>\n",
       "      <td>18983.96</td>\n",
       "      <td>62</td>\n",
       "      <td>NaN</td>\n",
       "      <td>Петрозаводск</td>\n",
       "      <td>Владислав</td>\n",
       "      <td>Авдеев</td>\n",
       "      <td>2018-04-10</td>\n",
       "      <td>smart</td>\n",
       "      <td>1350</td>\n",
       "    </tr>\n",
       "    <tr>\n",
       "      <td>2232</td>\n",
       "      <td>1421</td>\n",
       "      <td>9</td>\n",
       "      <td>279</td>\n",
       "      <td>62</td>\n",
       "      <td>22924.27</td>\n",
       "      <td>30</td>\n",
       "      <td>NaN</td>\n",
       "      <td>Калининград</td>\n",
       "      <td>Гайдар</td>\n",
       "      <td>Александрович</td>\n",
       "      <td>2018-02-22</td>\n",
       "      <td>smart</td>\n",
       "      <td>2186</td>\n",
       "    </tr>\n",
       "    <tr>\n",
       "      <td>2491</td>\n",
       "      <td>1468</td>\n",
       "      <td>12</td>\n",
       "      <td>216</td>\n",
       "      <td>11</td>\n",
       "      <td>14912.41</td>\n",
       "      <td>29</td>\n",
       "      <td>NaN</td>\n",
       "      <td>Тамбов</td>\n",
       "      <td>Иван</td>\n",
       "      <td>Авдышев</td>\n",
       "      <td>2018-02-11</td>\n",
       "      <td>smart</td>\n",
       "      <td>550</td>\n",
       "    </tr>\n",
       "  </tbody>\n",
       "</table>\n",
       "</div>"
      ],
      "text/plain": [
       "      user_id  month  rounded_duration_per_month  messages_per_month  \\\n",
       "2248     1423     10                         174                  48   \n",
       "1599     1315      8                         458                  51   \n",
       "150      1027      9                         388                  10   \n",
       "2232     1421      9                         279                  62   \n",
       "2491     1468     12                         216                  11   \n",
       "\n",
       "      mb_used_per_month  age churn_date          city first_name  \\\n",
       "2248           20825.87   50        NaN     Астрахань       Леон   \n",
       "1599           17567.01   49        NaN   Владивосток       Инга   \n",
       "150            18983.96   62        NaN  Петрозаводск  Владислав   \n",
       "2232           22924.27   30        NaN   Калининград     Гайдар   \n",
       "2491           14912.41   29        NaN        Тамбов       Иван   \n",
       "\n",
       "          last_name   reg_date tariff  month_income  \n",
       "2248          Силин 2018-01-23  smart          1750  \n",
       "1599       Агапеева 2018-07-14  smart          1153  \n",
       "150          Авдеев 2018-04-10  smart          1350  \n",
       "2232  Александрович 2018-02-22  smart          2186  \n",
       "2491        Авдышев 2018-02-11  smart           550  "
      ]
     },
     "execution_count": 32,
     "metadata": {},
     "output_type": "execute_result"
    }
   ],
   "source": [
    "merged_data.sample(5)"
   ]
  },
  {
   "cell_type": "code",
   "execution_count": null,
   "metadata": {
    "id": "GQNIL5dJz7yp",
    "outputId": "e0294a28-d4b0-4dc2-a956-242c0e05cc3a",
    "scrolled": true
   },
   "outputs": [
    {
     "data": {
      "text/plain": [
       "count    2665.000000\n",
       "mean     1504.670919\n",
       "std       796.116629\n",
       "min       550.000000\n",
       "25%       750.000000\n",
       "50%      1550.000000\n",
       "75%      1950.000000\n",
       "max      6770.000000\n",
       "Name: month_income, dtype: float64"
      ]
     },
     "execution_count": 56,
     "metadata": {},
     "output_type": "execute_result"
    }
   ],
   "source": [
    "merged_data['month_income'].describe()"
   ]
  },
  {
   "cell_type": "markdown",
   "metadata": {
    "id": "QvTJch6iz7yp"
   },
   "source": [
    "### Вывод по этапу\n",
    "\n",
    "Были исправлены типы данных на *datetime* в столбцах: **users['reg_date'],** **calls['call_date'],** **internet['session_date']** и **messages[message_date]**.\n",
    "\n",
    "Были удалены из выборки нулевые интернет-сессии **internet['mb_used']**.\n",
    "\n",
    "Были выполнены расчеты: \n",
    "* количества сделанных звонков и израсходованных минут разговора по месяцам\n",
    "* количества отправленных сообщений по месяцам\n",
    "* объема израсходованного интернет-трафика по месяцам\n",
    "* помесячной выручки с каждого пользователя"
   ]
  },
  {
   "cell_type": "markdown",
   "metadata": {
    "id": "Bb8AN4G_z7yp"
   },
   "source": [
    "## Анализ полученных данных"
   ]
  },
  {
   "cell_type": "markdown",
   "metadata": {
    "id": "cwHNEXgxz7yp"
   },
   "source": [
    "**Задачи:**\n",
    "\n",
    "* Опишите поведение клиентов оператора, исходя из выборки. \n",
    "* Сколько минут разговора, сколько сообщений и какой объём интернет-трафика требуется пользователям каждого тарифа в месяц? \n",
    "* Посчитайте среднее количество, дисперсию и стандартное отклонение. \n",
    "* Постройте гистограммы. Опишите распределения."
   ]
  },
  {
   "cell_type": "markdown",
   "metadata": {
    "id": "8H8yVwMPz7yp"
   },
   "source": [
    "Для того, чтобы провести анализ, создадим 2 отдельных датасета, для разных тарифов"
   ]
  },
  {
   "cell_type": "code",
   "execution_count": null,
   "metadata": {
    "id": "hHbGhWafz7yp",
    "scrolled": false
   },
   "outputs": [],
   "source": [
    "smart_data = merged_data.query('tariff == \"smart\"').reset_index(drop=True)\n",
    "ultra_data = merged_data.query('tariff == \"ultra\"').reset_index(drop=True)"
   ]
  },
  {
   "cell_type": "code",
   "execution_count": null,
   "metadata": {
    "id": "6XdcL81oz7yq",
    "outputId": "65a3f16f-26c5-49e8-9016-7f5809c33e2a"
   },
   "outputs": [
    {
     "data": {
      "text/html": [
       "<div>\n",
       "<style scoped>\n",
       "    .dataframe tbody tr th:only-of-type {\n",
       "        vertical-align: middle;\n",
       "    }\n",
       "\n",
       "    .dataframe tbody tr th {\n",
       "        vertical-align: top;\n",
       "    }\n",
       "\n",
       "    .dataframe thead th {\n",
       "        text-align: right;\n",
       "    }\n",
       "</style>\n",
       "<table border=\"1\" class=\"dataframe\">\n",
       "  <thead>\n",
       "    <tr style=\"text-align: right;\">\n",
       "      <th></th>\n",
       "      <th>user_id</th>\n",
       "      <th>month</th>\n",
       "      <th>rounded_duration_per_month</th>\n",
       "      <th>messages_per_month</th>\n",
       "      <th>mb_used_per_month</th>\n",
       "      <th>age</th>\n",
       "      <th>churn_date</th>\n",
       "      <th>city</th>\n",
       "      <th>first_name</th>\n",
       "      <th>last_name</th>\n",
       "      <th>reg_date</th>\n",
       "      <th>tariff</th>\n",
       "      <th>month_income</th>\n",
       "    </tr>\n",
       "  </thead>\n",
       "  <tbody>\n",
       "    <tr>\n",
       "      <td>219</td>\n",
       "      <td>1055</td>\n",
       "      <td>3</td>\n",
       "      <td>558</td>\n",
       "      <td>29</td>\n",
       "      <td>16125.20</td>\n",
       "      <td>39</td>\n",
       "      <td>NaN</td>\n",
       "      <td>Казань</td>\n",
       "      <td>Луиза</td>\n",
       "      <td>Березина</td>\n",
       "      <td>2018-01-02</td>\n",
       "      <td>smart</td>\n",
       "      <td>924</td>\n",
       "    </tr>\n",
       "    <tr>\n",
       "      <td>1795</td>\n",
       "      <td>1475</td>\n",
       "      <td>2</td>\n",
       "      <td>234</td>\n",
       "      <td>20</td>\n",
       "      <td>12615.62</td>\n",
       "      <td>40</td>\n",
       "      <td>NaN</td>\n",
       "      <td>Новокузнецк</td>\n",
       "      <td>Лидия</td>\n",
       "      <td>Фадеева</td>\n",
       "      <td>2018-01-09</td>\n",
       "      <td>smart</td>\n",
       "      <td>550</td>\n",
       "    </tr>\n",
       "    <tr>\n",
       "      <td>156</td>\n",
       "      <td>1037</td>\n",
       "      <td>12</td>\n",
       "      <td>408</td>\n",
       "      <td>26</td>\n",
       "      <td>12160.73</td>\n",
       "      <td>73</td>\n",
       "      <td>NaN</td>\n",
       "      <td>Череповец</td>\n",
       "      <td>Изольда</td>\n",
       "      <td>Архипова</td>\n",
       "      <td>2018-10-13</td>\n",
       "      <td>smart</td>\n",
       "      <td>550</td>\n",
       "    </tr>\n",
       "    <tr>\n",
       "      <td>1287</td>\n",
       "      <td>1332</td>\n",
       "      <td>7</td>\n",
       "      <td>497</td>\n",
       "      <td>35</td>\n",
       "      <td>18910.85</td>\n",
       "      <td>23</td>\n",
       "      <td>NaN</td>\n",
       "      <td>Москва</td>\n",
       "      <td>Джозефина</td>\n",
       "      <td>Тетерина</td>\n",
       "      <td>2018-05-28</td>\n",
       "      <td>smart</td>\n",
       "      <td>1350</td>\n",
       "    </tr>\n",
       "    <tr>\n",
       "      <td>880</td>\n",
       "      <td>1221</td>\n",
       "      <td>6</td>\n",
       "      <td>256</td>\n",
       "      <td>28</td>\n",
       "      <td>8739.50</td>\n",
       "      <td>40</td>\n",
       "      <td>NaN</td>\n",
       "      <td>Белгород</td>\n",
       "      <td>Джемма</td>\n",
       "      <td>Сафонова</td>\n",
       "      <td>2018-06-03</td>\n",
       "      <td>smart</td>\n",
       "      <td>550</td>\n",
       "    </tr>\n",
       "  </tbody>\n",
       "</table>\n",
       "</div>"
      ],
      "text/plain": [
       "      user_id  month  rounded_duration_per_month  messages_per_month  \\\n",
       "219      1055      3                         558                  29   \n",
       "1795     1475      2                         234                  20   \n",
       "156      1037     12                         408                  26   \n",
       "1287     1332      7                         497                  35   \n",
       "880      1221      6                         256                  28   \n",
       "\n",
       "      mb_used_per_month  age churn_date         city first_name last_name  \\\n",
       "219            16125.20   39        NaN       Казань      Луиза  Березина   \n",
       "1795           12615.62   40        NaN  Новокузнецк      Лидия   Фадеева   \n",
       "156            12160.73   73        NaN    Череповец    Изольда  Архипова   \n",
       "1287           18910.85   23        NaN       Москва  Джозефина  Тетерина   \n",
       "880             8739.50   40        NaN     Белгород     Джемма  Сафонова   \n",
       "\n",
       "       reg_date tariff  month_income  \n",
       "219  2018-01-02  smart           924  \n",
       "1795 2018-01-09  smart           550  \n",
       "156  2018-10-13  smart           550  \n",
       "1287 2018-05-28  smart          1350  \n",
       "880  2018-06-03  smart           550  "
      ]
     },
     "metadata": {},
     "output_type": "display_data"
    },
    {
     "data": {
      "text/html": [
       "<div>\n",
       "<style scoped>\n",
       "    .dataframe tbody tr th:only-of-type {\n",
       "        vertical-align: middle;\n",
       "    }\n",
       "\n",
       "    .dataframe tbody tr th {\n",
       "        vertical-align: top;\n",
       "    }\n",
       "\n",
       "    .dataframe thead th {\n",
       "        text-align: right;\n",
       "    }\n",
       "</style>\n",
       "<table border=\"1\" class=\"dataframe\">\n",
       "  <thead>\n",
       "    <tr style=\"text-align: right;\">\n",
       "      <th></th>\n",
       "      <th>user_id</th>\n",
       "      <th>month</th>\n",
       "      <th>rounded_duration_per_month</th>\n",
       "      <th>messages_per_month</th>\n",
       "      <th>mb_used_per_month</th>\n",
       "      <th>age</th>\n",
       "      <th>churn_date</th>\n",
       "      <th>city</th>\n",
       "      <th>first_name</th>\n",
       "      <th>last_name</th>\n",
       "      <th>reg_date</th>\n",
       "      <th>tariff</th>\n",
       "      <th>month_income</th>\n",
       "    </tr>\n",
       "  </thead>\n",
       "  <tbody>\n",
       "    <tr>\n",
       "      <td>228</td>\n",
       "      <td>1182</td>\n",
       "      <td>11</td>\n",
       "      <td>223</td>\n",
       "      <td>47</td>\n",
       "      <td>31112.76</td>\n",
       "      <td>29</td>\n",
       "      <td>NaN</td>\n",
       "      <td>Уфа</td>\n",
       "      <td>Габриель</td>\n",
       "      <td>Агаев</td>\n",
       "      <td>2018-10-05</td>\n",
       "      <td>ultra</td>\n",
       "      <td>2100</td>\n",
       "    </tr>\n",
       "    <tr>\n",
       "      <td>40</td>\n",
       "      <td>1021</td>\n",
       "      <td>4</td>\n",
       "      <td>90</td>\n",
       "      <td>13</td>\n",
       "      <td>4353.73</td>\n",
       "      <td>61</td>\n",
       "      <td>NaN</td>\n",
       "      <td>Краснодар</td>\n",
       "      <td>Святослав</td>\n",
       "      <td>Тихонов</td>\n",
       "      <td>2018-04-26</td>\n",
       "      <td>ultra</td>\n",
       "      <td>1950</td>\n",
       "    </tr>\n",
       "    <tr>\n",
       "      <td>635</td>\n",
       "      <td>1416</td>\n",
       "      <td>12</td>\n",
       "      <td>363</td>\n",
       "      <td>44</td>\n",
       "      <td>9998.83</td>\n",
       "      <td>50</td>\n",
       "      <td>2018-12-14</td>\n",
       "      <td>Санкт-Петербург</td>\n",
       "      <td>Валерия</td>\n",
       "      <td>Ёлчина</td>\n",
       "      <td>2018-07-16</td>\n",
       "      <td>ultra</td>\n",
       "      <td>1950</td>\n",
       "    </tr>\n",
       "    <tr>\n",
       "      <td>132</td>\n",
       "      <td>1097</td>\n",
       "      <td>12</td>\n",
       "      <td>498</td>\n",
       "      <td>33</td>\n",
       "      <td>10121.45</td>\n",
       "      <td>29</td>\n",
       "      <td>NaN</td>\n",
       "      <td>Краснодар</td>\n",
       "      <td>Алла</td>\n",
       "      <td>Кулешова</td>\n",
       "      <td>2018-06-25</td>\n",
       "      <td>ultra</td>\n",
       "      <td>1950</td>\n",
       "    </tr>\n",
       "    <tr>\n",
       "      <td>620</td>\n",
       "      <td>1412</td>\n",
       "      <td>10</td>\n",
       "      <td>816</td>\n",
       "      <td>51</td>\n",
       "      <td>38798.10</td>\n",
       "      <td>63</td>\n",
       "      <td>NaN</td>\n",
       "      <td>Волгоград</td>\n",
       "      <td>Геодар</td>\n",
       "      <td>Афонин</td>\n",
       "      <td>2018-06-05</td>\n",
       "      <td>ultra</td>\n",
       "      <td>3150</td>\n",
       "    </tr>\n",
       "  </tbody>\n",
       "</table>\n",
       "</div>"
      ],
      "text/plain": [
       "     user_id  month  rounded_duration_per_month  messages_per_month  \\\n",
       "228     1182     11                         223                  47   \n",
       "40      1021      4                          90                  13   \n",
       "635     1416     12                         363                  44   \n",
       "132     1097     12                         498                  33   \n",
       "620     1412     10                         816                  51   \n",
       "\n",
       "     mb_used_per_month  age  churn_date             city first_name last_name  \\\n",
       "228           31112.76   29         NaN              Уфа   Габриель     Агаев   \n",
       "40             4353.73   61         NaN        Краснодар  Святослав   Тихонов   \n",
       "635            9998.83   50  2018-12-14  Санкт-Петербург    Валерия    Ёлчина   \n",
       "132           10121.45   29         NaN        Краснодар       Алла  Кулешова   \n",
       "620           38798.10   63         NaN        Волгоград     Геодар    Афонин   \n",
       "\n",
       "      reg_date tariff  month_income  \n",
       "228 2018-10-05  ultra          2100  \n",
       "40  2018-04-26  ultra          1950  \n",
       "635 2018-07-16  ultra          1950  \n",
       "132 2018-06-25  ultra          1950  \n",
       "620 2018-06-05  ultra          3150  "
      ]
     },
     "metadata": {},
     "output_type": "display_data"
    }
   ],
   "source": [
    "display(smart_data.sample(5))\n",
    "display(ultra_data.sample(5))"
   ]
  },
  {
   "cell_type": "code",
   "execution_count": null,
   "metadata": {
    "id": "oMYoenuoz7yq",
    "outputId": "656be88a-c934-478b-eff0-fcbeabd7047d"
   },
   "outputs": [
    {
     "data": {
      "text/plain": [
       "True"
      ]
     },
     "execution_count": 35,
     "metadata": {},
     "output_type": "execute_result"
    }
   ],
   "source": [
    "smart_data.shape[0] + ultra_data.shape[0] == merged_data.shape[0]"
   ]
  },
  {
   "cell_type": "code",
   "execution_count": null,
   "metadata": {
    "id": "xCpHHtyCz7yq"
   },
   "outputs": [],
   "source": [
    "def info_traffic (data, parameter, name):\n",
    "    mean = data[parameter].mean()\n",
    "    dispersion = np.var(data[parameter], ddof=1)\n",
    "    standard_deviation = np.std(data[parameter], ddof=1)\n",
    "    \n",
    "    print('Тариф:', str(data['tariff'][0]).upper())\n",
    "    print('Параметр:', name)\n",
    "    print('среднее значение:', round(mean, 2))\n",
    "    print('значение дисперсии:', round(dispersion, 2))\n",
    "    print('значение стандартного отклонения:', round(standard_deviation, 2))\n",
    "    print('')\n",
    "    \n",
    "    data[parameter].plot(kind='hist', bins=50, grid=True, title=name, figsize=(13,6), label=str(data['tariff'][0]).title(), legend=True)"
   ]
  },
  {
   "cell_type": "code",
   "execution_count": null,
   "metadata": {
    "id": "58Io4AWTz7yr"
   },
   "outputs": [],
   "source": [
    "def displot_traffic(data, parameter, name):\n",
    "    plt.title(name)\n",
    "    sns.kdeplot(data[parameter], shade=True, alpha=0.7, label=str(data['tariff'][0]).title(), legend=True)"
   ]
  },
  {
   "cell_type": "code",
   "execution_count": null,
   "metadata": {
    "id": "si1B4q7Wz7yr"
   },
   "outputs": [],
   "source": [
    "def discribe_parameter(parameter):\n",
    "    display(merged_data.groupby('tariff')[parameter].describe().T)"
   ]
  },
  {
   "cell_type": "markdown",
   "metadata": {
    "id": "Zxk-aOTpz7yr"
   },
   "source": [
    "### Кол-во потраченных минут в месяц на двух тарифах"
   ]
  },
  {
   "cell_type": "code",
   "execution_count": null,
   "metadata": {
    "id": "h5V2U1C0z7yr",
    "outputId": "b5f95791-14c1-445c-bc83-942797fb7054"
   },
   "outputs": [
    {
     "name": "stdout",
     "output_type": "stream",
     "text": [
      "Тариф: SMART\n",
      "Параметр: Кол-во потраченных минут в месяц\n",
      "среднее значение: 421.23\n",
      "значение дисперсии: 35179.77\n",
      "значение стандартного отклонения: 187.56\n",
      "\n",
      "Тариф: ULTRA\n",
      "Параметр: Кол-во потраченных минут в месяц\n",
      "среднее значение: 557.46\n",
      "значение дисперсии: 97117.9\n",
      "значение стандартного отклонения: 311.64\n",
      "\n"
     ]
    },
    {
     "data": {
      "image/png": "[encoded data removed]",
      "text/plain": [
       "<Figure size 936x432 with 1 Axes>"
      ]
     },
     "metadata": {
      "needs_background": "light"
     },
     "output_type": "display_data"
    },
    {
     "data": {
      "text/html": [
       "<div>\n",
       "<style scoped>\n",
       "    .dataframe tbody tr th:only-of-type {\n",
       "        vertical-align: middle;\n",
       "    }\n",
       "\n",
       "    .dataframe tbody tr th {\n",
       "        vertical-align: top;\n",
       "    }\n",
       "\n",
       "    .dataframe thead th {\n",
       "        text-align: right;\n",
       "    }\n",
       "</style>\n",
       "<table border=\"1\" class=\"dataframe\">\n",
       "  <thead>\n",
       "    <tr style=\"text-align: right;\">\n",
       "      <th>tariff</th>\n",
       "      <th>smart</th>\n",
       "      <th>ultra</th>\n",
       "    </tr>\n",
       "  </thead>\n",
       "  <tbody>\n",
       "    <tr>\n",
       "      <td>count</td>\n",
       "      <td>1914.000000</td>\n",
       "      <td>751.000000</td>\n",
       "    </tr>\n",
       "    <tr>\n",
       "      <td>mean</td>\n",
       "      <td>421.232497</td>\n",
       "      <td>557.456724</td>\n",
       "    </tr>\n",
       "    <tr>\n",
       "      <td>std</td>\n",
       "      <td>187.562717</td>\n",
       "      <td>311.637452</td>\n",
       "    </tr>\n",
       "    <tr>\n",
       "      <td>min</td>\n",
       "      <td>0.000000</td>\n",
       "      <td>0.000000</td>\n",
       "    </tr>\n",
       "    <tr>\n",
       "      <td>25%</td>\n",
       "      <td>288.000000</td>\n",
       "      <td>332.500000</td>\n",
       "    </tr>\n",
       "    <tr>\n",
       "      <td>50%</td>\n",
       "      <td>427.000000</td>\n",
       "      <td>538.000000</td>\n",
       "    </tr>\n",
       "    <tr>\n",
       "      <td>75%</td>\n",
       "      <td>547.000000</td>\n",
       "      <td>760.500000</td>\n",
       "    </tr>\n",
       "    <tr>\n",
       "      <td>max</td>\n",
       "      <td>1435.000000</td>\n",
       "      <td>1673.000000</td>\n",
       "    </tr>\n",
       "  </tbody>\n",
       "</table>\n",
       "</div>"
      ],
      "text/plain": [
       "tariff        smart        ultra\n",
       "count   1914.000000   751.000000\n",
       "mean     421.232497   557.456724\n",
       "std      187.562717   311.637452\n",
       "min        0.000000     0.000000\n",
       "25%      288.000000   332.500000\n",
       "50%      427.000000   538.000000\n",
       "75%      547.000000   760.500000\n",
       "max     1435.000000  1673.000000"
      ]
     },
     "metadata": {},
     "output_type": "display_data"
    }
   ],
   "source": [
    "info_traffic(smart_data, 'rounded_duration_per_month', 'Кол-во потраченных минут в месяц')\n",
    "info_traffic(ultra_data, 'rounded_duration_per_month', 'Кол-во потраченных минут в месяц')\n",
    "plt.show()\n",
    "discribe_parameter('rounded_duration_per_month')"
   ]
  },
  {
   "cell_type": "code",
   "execution_count": null,
   "metadata": {
    "id": "whHEIKvMz7ys",
    "outputId": "bce74283-62b1-443f-92e0-01e61c09189d"
   },
   "outputs": [
    {
     "data": {
      "image/png": "[encoded data removed]",
      "text/plain": [
       "<Figure size 432x288 with 1 Axes>"
      ]
     },
     "metadata": {
      "needs_background": "light"
     },
     "output_type": "display_data"
    }
   ],
   "source": [
    "displot_traffic(smart_data, 'rounded_duration_per_month', 'Распределение кол-ва потраченных минут в месяц')\n",
    "displot_traffic(ultra_data, 'rounded_duration_per_month', 'Распределение кол-ва потраченных минут в месяц')\n",
    "plt.show()"
   ]
  },
  {
   "cell_type": "markdown",
   "metadata": {
    "id": "xVsI9qq-z7ys"
   },
   "source": [
    "* Распределения по обоим тарифам близки к нормальным.\n",
    "* Клиенты с тарифом Ultra ежемесячно в среднем дольше говорят по телефону, чем пользователи Smart (557 и 421 минута соответственно).\n",
    "* Распределение тарифа Ultra намного шире, что подтверждается большим значением дисперсии в сравнении с тарифом Smart.\n",
    "* Медианы для обоих тарифных планов почти совпадают со средними значениями. Значит, выбросов в выборке немного."
   ]
  },
  {
   "cell_type": "markdown",
   "metadata": {
    "id": "sKhUdZ8sz7ys"
   },
   "source": [
    "### Кол-во отправленных сообщений в месяц на двух тарифах"
   ]
  },
  {
   "cell_type": "code",
   "execution_count": null,
   "metadata": {
    "id": "3BPoBwtUz7ys",
    "outputId": "005ad07e-f703-457a-89a2-c7e45eb64ab5"
   },
   "outputs": [
    {
     "name": "stdout",
     "output_type": "stream",
     "text": [
      "Тариф: SMART\n",
      "Параметр: Кол-во отправленных сообщений в месяц\n",
      "среднее значение: 38.79\n",
      "значение дисперсии: 718.43\n",
      "значение стандартного отклонения: 26.8\n",
      "\n",
      "Тариф: ULTRA\n",
      "Параметр: Кол-во отправленных сообщений в месяц\n",
      "среднее значение: 61.72\n",
      "значение дисперсии: 2006.64\n",
      "значение стандартного отклонения: 44.8\n",
      "\n"
     ]
    },
    {
     "data": {
      "image/png": "[encoded data removed]",
      "text/plain": [
       "<Figure size 936x432 with 1 Axes>"
      ]
     },
     "metadata": {
      "needs_background": "light"
     },
     "output_type": "display_data"
    },
    {
     "data": {
      "text/html": [
       "<div>\n",
       "<style scoped>\n",
       "    .dataframe tbody tr th:only-of-type {\n",
       "        vertical-align: middle;\n",
       "    }\n",
       "\n",
       "    .dataframe tbody tr th {\n",
       "        vertical-align: top;\n",
       "    }\n",
       "\n",
       "    .dataframe thead th {\n",
       "        text-align: right;\n",
       "    }\n",
       "</style>\n",
       "<table border=\"1\" class=\"dataframe\">\n",
       "  <thead>\n",
       "    <tr style=\"text-align: right;\">\n",
       "      <th>tariff</th>\n",
       "      <th>smart</th>\n",
       "      <th>ultra</th>\n",
       "    </tr>\n",
       "  </thead>\n",
       "  <tbody>\n",
       "    <tr>\n",
       "      <td>count</td>\n",
       "      <td>1914.000000</td>\n",
       "      <td>751.000000</td>\n",
       "    </tr>\n",
       "    <tr>\n",
       "      <td>mean</td>\n",
       "      <td>38.786834</td>\n",
       "      <td>61.719041</td>\n",
       "    </tr>\n",
       "    <tr>\n",
       "      <td>std</td>\n",
       "      <td>26.803607</td>\n",
       "      <td>44.795502</td>\n",
       "    </tr>\n",
       "    <tr>\n",
       "      <td>min</td>\n",
       "      <td>1.000000</td>\n",
       "      <td>1.000000</td>\n",
       "    </tr>\n",
       "    <tr>\n",
       "      <td>25%</td>\n",
       "      <td>17.000000</td>\n",
       "      <td>25.000000</td>\n",
       "    </tr>\n",
       "    <tr>\n",
       "      <td>50%</td>\n",
       "      <td>34.000000</td>\n",
       "      <td>53.000000</td>\n",
       "    </tr>\n",
       "    <tr>\n",
       "      <td>75%</td>\n",
       "      <td>55.000000</td>\n",
       "      <td>89.000000</td>\n",
       "    </tr>\n",
       "    <tr>\n",
       "      <td>max</td>\n",
       "      <td>143.000000</td>\n",
       "      <td>224.000000</td>\n",
       "    </tr>\n",
       "  </tbody>\n",
       "</table>\n",
       "</div>"
      ],
      "text/plain": [
       "tariff        smart       ultra\n",
       "count   1914.000000  751.000000\n",
       "mean      38.786834   61.719041\n",
       "std       26.803607   44.795502\n",
       "min        1.000000    1.000000\n",
       "25%       17.000000   25.000000\n",
       "50%       34.000000   53.000000\n",
       "75%       55.000000   89.000000\n",
       "max      143.000000  224.000000"
      ]
     },
     "metadata": {},
     "output_type": "display_data"
    }
   ],
   "source": [
    "info_traffic(smart_data, 'messages_per_month', 'Кол-во отправленных сообщений в месяц')\n",
    "info_traffic(ultra_data, 'messages_per_month', 'Кол-во отправленных сообщений в месяц')\n",
    "plt.show()\n",
    "discribe_parameter('messages_per_month')"
   ]
  },
  {
   "cell_type": "code",
   "execution_count": null,
   "metadata": {
    "id": "F3joiTG3z7ys",
    "outputId": "713741f9-5df4-4cca-f652-53723fa506c6"
   },
   "outputs": [
    {
     "data": {
      "image/png": "[encoded data removed]",
      "text/plain": [
       "<Figure size 432x288 with 1 Axes>"
      ]
     },
     "metadata": {
      "needs_background": "light"
     },
     "output_type": "display_data"
    }
   ],
   "source": [
    "displot_traffic(smart_data, 'messages_per_month', 'Распределение кол-ва отправленных сообщений в месяц')\n",
    "displot_traffic(ultra_data, 'messages_per_month', 'Распределение кол-ва отправленных сообщений в месяц')\n",
    "plt.show()"
   ]
  },
  {
   "cell_type": "markdown",
   "metadata": {
    "id": "6LlZVIN0z7yt"
   },
   "source": [
    "* Распределения по обоим тарифам близки к Пуассоновским.\n",
    "* Клиенты с тарифом Ultra ежемесячно в среднем отправляют большше смс, чем пользователи Smart (61 и 38 сообщений соответственно).\n",
    "* Распределение тарифа Ultra намного шире, что подтверждается большим значением дисперсии в сравнении с тарифом Smart.\n",
    "* Медианы для обоих тарифных планов почти совпадают со средними значениями. Значит, выбросов в выборке немного."
   ]
  },
  {
   "cell_type": "markdown",
   "metadata": {
    "id": "341LTTJvz7yt"
   },
   "source": [
    "### Кол-во потраченных мегабайт в месяц на двух тарифах"
   ]
  },
  {
   "cell_type": "code",
   "execution_count": null,
   "metadata": {
    "id": "h_0truRsz7yt",
    "outputId": "1bb01c6f-0963-4619-83b4-dcb99a98805d"
   },
   "outputs": [
    {
     "name": "stdout",
     "output_type": "stream",
     "text": [
      "Тариф: SMART\n",
      "Параметр: Кол-во потраченных мегабайт в месяц\n",
      "среднее значение: 16253.73\n",
      "значение дисперсии: 33438470.06\n",
      "значение стандартного отклонения: 5782.6\n",
      "\n",
      "Тариф: ULTRA\n",
      "Параметр: Кол-во потраченных мегабайт в месяц\n",
      "среднее значение: 19622.44\n",
      "значение дисперсии: 92338984.5\n",
      "значение стандартного отклонения: 9609.32\n",
      "\n"
     ]
    },
    {
     "data": {
      "image/png": "[encoded data removed]",
      "text/plain": [
       "<Figure size 936x432 with 1 Axes>"
      ]
     },
     "metadata": {
      "needs_background": "light"
     },
     "output_type": "display_data"
    },
    {
     "data": {
      "text/html": [
       "<div>\n",
       "<style scoped>\n",
       "    .dataframe tbody tr th:only-of-type {\n",
       "        vertical-align: middle;\n",
       "    }\n",
       "\n",
       "    .dataframe tbody tr th {\n",
       "        vertical-align: top;\n",
       "    }\n",
       "\n",
       "    .dataframe thead th {\n",
       "        text-align: right;\n",
       "    }\n",
       "</style>\n",
       "<table border=\"1\" class=\"dataframe\">\n",
       "  <thead>\n",
       "    <tr style=\"text-align: right;\">\n",
       "      <th>tariff</th>\n",
       "      <th>smart</th>\n",
       "      <th>ultra</th>\n",
       "    </tr>\n",
       "  </thead>\n",
       "  <tbody>\n",
       "    <tr>\n",
       "      <td>count</td>\n",
       "      <td>1914.000000</td>\n",
       "      <td>751.000000</td>\n",
       "    </tr>\n",
       "    <tr>\n",
       "      <td>mean</td>\n",
       "      <td>16253.730104</td>\n",
       "      <td>19622.442197</td>\n",
       "    </tr>\n",
       "    <tr>\n",
       "      <td>std</td>\n",
       "      <td>5782.600631</td>\n",
       "      <td>9609.317588</td>\n",
       "    </tr>\n",
       "    <tr>\n",
       "      <td>min</td>\n",
       "      <td>201.070000</td>\n",
       "      <td>439.610000</td>\n",
       "    </tr>\n",
       "    <tr>\n",
       "      <td>25%</td>\n",
       "      <td>12630.035000</td>\n",
       "      <td>12009.595000</td>\n",
       "    </tr>\n",
       "    <tr>\n",
       "      <td>50%</td>\n",
       "      <td>16462.420000</td>\n",
       "      <td>19446.140000</td>\n",
       "    </tr>\n",
       "    <tr>\n",
       "      <td>75%</td>\n",
       "      <td>20045.517500</td>\n",
       "      <td>26834.460000</td>\n",
       "    </tr>\n",
       "    <tr>\n",
       "      <td>max</td>\n",
       "      <td>38552.450000</td>\n",
       "      <td>49745.690000</td>\n",
       "    </tr>\n",
       "  </tbody>\n",
       "</table>\n",
       "</div>"
      ],
      "text/plain": [
       "tariff         smart         ultra\n",
       "count    1914.000000    751.000000\n",
       "mean    16253.730104  19622.442197\n",
       "std      5782.600631   9609.317588\n",
       "min       201.070000    439.610000\n",
       "25%     12630.035000  12009.595000\n",
       "50%     16462.420000  19446.140000\n",
       "75%     20045.517500  26834.460000\n",
       "max     38552.450000  49745.690000"
      ]
     },
     "metadata": {},
     "output_type": "display_data"
    }
   ],
   "source": [
    "info_traffic(smart_data, 'mb_used_per_month', 'Кол-во потраченных мегабайт в месяц')\n",
    "info_traffic(ultra_data, 'mb_used_per_month', 'Кол-во потраченных мегабайт в месяц')\n",
    "plt.show()\n",
    "discribe_parameter('mb_used_per_month')"
   ]
  },
  {
   "cell_type": "code",
   "execution_count": null,
   "metadata": {
    "id": "NQ6Z6MpPz7yt",
    "outputId": "3b2a2d58-88ac-49bf-d993-8c5ce40bafb8"
   },
   "outputs": [
    {
     "data": {
      "image/png": "[encoded data removed]",
      "text/plain": [
       "<Figure size 432x288 with 1 Axes>"
      ]
     },
     "metadata": {
      "needs_background": "light"
     },
     "output_type": "display_data"
    }
   ],
   "source": [
    "displot_traffic(smart_data, 'mb_used_per_month', 'Распределение кол-ва потраченных мегабайт в месяц')\n",
    "displot_traffic(ultra_data, 'mb_used_per_month', 'Распределение кол-ва потраченных мегабайт в месяц')\n",
    "plt.show()"
   ]
  },
  {
   "cell_type": "markdown",
   "metadata": {
    "id": "DbSAzR9Xz7yt"
   },
   "source": [
    "* Распределения по обоим тарифам близки к нормальным.\n",
    "* Клиенты с тарифом Ultra ежемесячно в среднем тратят больше мегабайт, чем пользователи Smart (19622 и 16253 мегабайт соответственно).\n",
    "* Распределение тарифа Ultra намного шире, что подтверждается большим значением дисперсии в сравнении с тарифом Smart.\n",
    "* Медианы для обоих тарифных планов почти совпадают со средними значениями. Значит, выбросов в выборке немного."
   ]
  },
  {
   "cell_type": "markdown",
   "metadata": {
    "id": "81kuSlA1z7yu"
   },
   "source": [
    "### Прибыль двух тарифов в месяц"
   ]
  },
  {
   "cell_type": "code",
   "execution_count": null,
   "metadata": {
    "id": "LJAR-Id5z7yu",
    "outputId": "4145cb7a-f021-44e8-cbda-f8036d2a7961"
   },
   "outputs": [
    {
     "name": "stdout",
     "output_type": "stream",
     "text": [
      "Тариф: SMART\n",
      "Параметр: Прибыль тарифа в месяц\n",
      "среднее значение: 1291.06\n",
      "значение дисперсии: 677119.56\n",
      "значение стандартного отклонения: 822.87\n",
      "\n",
      "Тариф: ULTRA\n",
      "Параметр: Прибыль тарифа в месяц\n",
      "среднее значение: 2049.07\n",
      "значение дисперсии: 110952.46\n",
      "значение стандартного отклонения: 333.1\n",
      "\n"
     ]
    },
    {
     "data": {
      "image/png": "[encoded data removed]",
      "text/plain": [
       "<Figure size 936x432 with 1 Axes>"
      ]
     },
     "metadata": {
      "needs_background": "light"
     },
     "output_type": "display_data"
    },
    {
     "data": {
      "text/html": [
       "<div>\n",
       "<style scoped>\n",
       "    .dataframe tbody tr th:only-of-type {\n",
       "        vertical-align: middle;\n",
       "    }\n",
       "\n",
       "    .dataframe tbody tr th {\n",
       "        vertical-align: top;\n",
       "    }\n",
       "\n",
       "    .dataframe thead th {\n",
       "        text-align: right;\n",
       "    }\n",
       "</style>\n",
       "<table border=\"1\" class=\"dataframe\">\n",
       "  <thead>\n",
       "    <tr style=\"text-align: right;\">\n",
       "      <th>tariff</th>\n",
       "      <th>smart</th>\n",
       "      <th>ultra</th>\n",
       "    </tr>\n",
       "  </thead>\n",
       "  <tbody>\n",
       "    <tr>\n",
       "      <td>count</td>\n",
       "      <td>1914.000000</td>\n",
       "      <td>751.000000</td>\n",
       "    </tr>\n",
       "    <tr>\n",
       "      <td>mean</td>\n",
       "      <td>1291.064786</td>\n",
       "      <td>2049.067909</td>\n",
       "    </tr>\n",
       "    <tr>\n",
       "      <td>std</td>\n",
       "      <td>822.872751</td>\n",
       "      <td>333.095277</td>\n",
       "    </tr>\n",
       "    <tr>\n",
       "      <td>min</td>\n",
       "      <td>550.000000</td>\n",
       "      <td>1950.000000</td>\n",
       "    </tr>\n",
       "    <tr>\n",
       "      <td>25%</td>\n",
       "      <td>553.750000</td>\n",
       "      <td>1950.000000</td>\n",
       "    </tr>\n",
       "    <tr>\n",
       "      <td>50%</td>\n",
       "      <td>1012.500000</td>\n",
       "      <td>1950.000000</td>\n",
       "    </tr>\n",
       "    <tr>\n",
       "      <td>75%</td>\n",
       "      <td>1750.000000</td>\n",
       "      <td>1950.000000</td>\n",
       "    </tr>\n",
       "    <tr>\n",
       "      <td>max</td>\n",
       "      <td>6770.000000</td>\n",
       "      <td>4800.000000</td>\n",
       "    </tr>\n",
       "  </tbody>\n",
       "</table>\n",
       "</div>"
      ],
      "text/plain": [
       "tariff        smart        ultra\n",
       "count   1914.000000   751.000000\n",
       "mean    1291.064786  2049.067909\n",
       "std      822.872751   333.095277\n",
       "min      550.000000  1950.000000\n",
       "25%      553.750000  1950.000000\n",
       "50%     1012.500000  1950.000000\n",
       "75%     1750.000000  1950.000000\n",
       "max     6770.000000  4800.000000"
      ]
     },
     "metadata": {},
     "output_type": "display_data"
    }
   ],
   "source": [
    "info_traffic(smart_data, 'month_income', 'Прибыль тарифа в месяц')\n",
    "info_traffic(ultra_data, 'month_income', 'Прибыль тарифа в месяц')\n",
    "plt.show()\n",
    "discribe_parameter('month_income')"
   ]
  },
  {
   "cell_type": "code",
   "execution_count": null,
   "metadata": {
    "id": "nQHMuFlbz7yu",
    "outputId": "90c4bcbe-8da5-4773-ec57-5af76cd6a5f9"
   },
   "outputs": [
    {
     "data": {
      "image/png": "[encoded data removed]",
      "text/plain": [
       "<Figure size 432x288 with 1 Axes>"
      ]
     },
     "metadata": {
      "needs_background": "light"
     },
     "output_type": "display_data"
    }
   ],
   "source": [
    "displot_traffic(smart_data, 'month_income', 'Распределение прибыли тарифа в месяц')\n",
    "displot_traffic(ultra_data, 'month_income', 'Распределение прибыли тарифа в месяц')\n",
    "plt.show()"
   ]
  },
  {
   "cell_type": "markdown",
   "metadata": {
    "id": "bNXXEnsEz7yu"
   },
   "source": [
    "* Распределение тарифа Smart близко к Пуассоновскому.\n",
    "* На гистограмме выдны пики - это те коиенты, которые не превысили лимиты тарифов и заплатили лишь абонентскую плату\n",
    "* Распределение тарифа Smart намного шире, что подтверждается большим значением дисперсии в сравнении с тарифом Ultra."
   ]
  },
  {
   "cell_type": "markdown",
   "metadata": {
    "id": "Y7aixcVyz7yu"
   },
   "source": [
    "### Вывод по этапу\n",
    "\n"
   ]
  },
  {
   "cell_type": "markdown",
   "metadata": {
    "id": "ZyU3wclyz7yu"
   },
   "source": [
    "Потребление разного вида трафика у пользователей тарифа Ultra в среднем больше, чем у пользователей тарифа Smart:\n",
    "\n",
    "* Среднее количество звонков/мес пользователей Ultra больше, чем у пользователей Smart.\n",
    "* Пользователи Ultra ежемесячно в среднем дольше говорят по телефону, чем пользователи Smart.\n",
    "* Пользователи тарифа Ultra в среднем отправляют больше sms в месяц, чем пользователи тарифа Smart.\n",
    "* В среднем пользователи Ultra ежемесячно потребляют больше трафика, чем пользователи Smart.\n",
    "\n",
    "Значение дисперсии разных видов трафика по тарифу Ultra больше, чем по тарифу Smart."
   ]
  },
  {
   "cell_type": "markdown",
   "metadata": {
    "id": "3KPzcws9z7yv"
   },
   "source": [
    "## Проверка гипотез"
   ]
  },
  {
   "cell_type": "markdown",
   "metadata": {
    "id": "qUtMZT3ez7yv"
   },
   "source": [
    "### Проверка гипотезы: Средняя выручка пользователей тарифов «Ультра» и «Смарт» различаются."
   ]
  },
  {
   "cell_type": "markdown",
   "metadata": {
    "id": "xowboyqTz7yv"
   },
   "source": [
    "* Нулевая гипотеза (H0) - Средняя выручка пользователей тарифа Ultra не отличается от средней выручки пользователей тарифа Smart.\n",
    "* Альтернативная гипотеза (H1) - средняя выручка пользователей тарифа Ultra отличается от средней выручки пользователей тарифа Smart."
   ]
  },
  {
   "cell_type": "markdown",
   "metadata": {
    "id": "l7CcnLxkz7yv"
   },
   "source": [
    "Проверим нулевую гипотезу о равенстве средних значений двух выборок:"
   ]
  },
  {
   "cell_type": "code",
   "execution_count": null,
   "metadata": {
    "id": "kMr71zPhz7yv",
    "outputId": "45fa1cf5-8068-42d7-b37d-8f81fcb1fdc1"
   },
   "outputs": [
    {
     "name": "stdout",
     "output_type": "stream",
     "text": [
      "p-значение: 1.974564069988222e-119\n",
      "Отвергаем нулевую гипотезу\n"
     ]
    }
   ],
   "source": [
    "alpha = 0.01\n",
    "results = st.ttest_ind(smart_data['month_income'].to_list(), ultra_data['month_income'].to_list())\n",
    "\n",
    "print('p-значение:', results.pvalue)\n",
    "\n",
    "if results.pvalue < alpha:\n",
    "    print(\"Отвергаем нулевую гипотезу\")\n",
    "else:\n",
    "    print(\"Не получилось отвергнуть нулевую гипотезу\")"
   ]
  },
  {
   "cell_type": "markdown",
   "metadata": {
    "id": "WwRVf2GMz7yw"
   },
   "source": [
    "Средняя выручка пользователей тарифа *Ultra* **отличается** от средней выручки пользователей тарифа *Smart*."
   ]
  },
  {
   "cell_type": "markdown",
   "metadata": {
    "id": "qwBOCQ5Qz7yw"
   },
   "source": [
    "### Проверка гипотезы: Средняя выручка пользователей из Москвы отличается от выручки пользователей из других регионов."
   ]
  },
  {
   "cell_type": "markdown",
   "metadata": {
    "id": "y_ZORzDyz7yw"
   },
   "source": [
    "Для того, чтобы проверить гипотезу, создадим 2 датасета: 1 с клиентами из Москвы, 2 с клиентами из других городов:"
   ]
  },
  {
   "cell_type": "code",
   "execution_count": null,
   "metadata": {
    "id": "rDxFejbmz7yw"
   },
   "outputs": [],
   "source": [
    "moscow_data = merged_data.query('city == \"Москва\"')"
   ]
  },
  {
   "cell_type": "code",
   "execution_count": null,
   "metadata": {
    "id": "0ASwHcVZz7yx"
   },
   "outputs": [],
   "source": [
    "no_moscow_data = merged_data.query('city != \"Москва\"')"
   ]
  },
  {
   "cell_type": "code",
   "execution_count": null,
   "metadata": {
    "id": "rMv4_rxRz7yx",
    "outputId": "d67903db-04b4-460d-a26b-c099ff9cb950"
   },
   "outputs": [
    {
     "data": {
      "text/plain": [
       "True"
      ]
     },
     "execution_count": 50,
     "metadata": {},
     "output_type": "execute_result"
    }
   ],
   "source": [
    "moscow_data.shape[0] + no_moscow_data.shape[0] == merged_data.shape[0]"
   ]
  },
  {
   "cell_type": "markdown",
   "metadata": {
    "id": "v-UD-En0z7yx"
   },
   "source": [
    "Сгруппируем выручку по столбцу *user_id*:"
   ]
  },
  {
   "cell_type": "code",
   "execution_count": null,
   "metadata": {
    "id": "3rjQqjiYz7yx",
    "outputId": "04ea1b53-9b63-42d1-f29f-453451d97cfe"
   },
   "outputs": [
    {
     "data": {
      "text/html": [
       "<div>\n",
       "<style scoped>\n",
       "    .dataframe tbody tr th:only-of-type {\n",
       "        vertical-align: middle;\n",
       "    }\n",
       "\n",
       "    .dataframe tbody tr th {\n",
       "        vertical-align: top;\n",
       "    }\n",
       "\n",
       "    .dataframe thead th {\n",
       "        text-align: right;\n",
       "    }\n",
       "</style>\n",
       "<table border=\"1\" class=\"dataframe\">\n",
       "  <thead>\n",
       "    <tr style=\"text-align: right;\">\n",
       "      <th></th>\n",
       "      <th>user_id</th>\n",
       "      <th>month_income</th>\n",
       "    </tr>\n",
       "  </thead>\n",
       "  <tbody>\n",
       "    <tr>\n",
       "      <td>count</td>\n",
       "      <td>82.000000</td>\n",
       "      <td>82.000000</td>\n",
       "    </tr>\n",
       "    <tr>\n",
       "      <td>mean</td>\n",
       "      <td>1263.902439</td>\n",
       "      <td>1522.788215</td>\n",
       "    </tr>\n",
       "    <tr>\n",
       "      <td>std</td>\n",
       "      <td>142.628899</td>\n",
       "      <td>656.684902</td>\n",
       "    </tr>\n",
       "    <tr>\n",
       "      <td>min</td>\n",
       "      <td>1003.000000</td>\n",
       "      <td>550.000000</td>\n",
       "    </tr>\n",
       "    <tr>\n",
       "      <td>25%</td>\n",
       "      <td>1146.500000</td>\n",
       "      <td>995.000000</td>\n",
       "    </tr>\n",
       "    <tr>\n",
       "      <td>50%</td>\n",
       "      <td>1284.500000</td>\n",
       "      <td>1597.616071</td>\n",
       "    </tr>\n",
       "    <tr>\n",
       "      <td>75%</td>\n",
       "      <td>1384.000000</td>\n",
       "      <td>1950.000000</td>\n",
       "    </tr>\n",
       "    <tr>\n",
       "      <td>max</td>\n",
       "      <td>1490.000000</td>\n",
       "      <td>3233.000000</td>\n",
       "    </tr>\n",
       "  </tbody>\n",
       "</table>\n",
       "</div>"
      ],
      "text/plain": [
       "           user_id  month_income\n",
       "count    82.000000     82.000000\n",
       "mean   1263.902439   1522.788215\n",
       "std     142.628899    656.684902\n",
       "min    1003.000000    550.000000\n",
       "25%    1146.500000    995.000000\n",
       "50%    1284.500000   1597.616071\n",
       "75%    1384.000000   1950.000000\n",
       "max    1490.000000   3233.000000"
      ]
     },
     "execution_count": 51,
     "metadata": {},
     "output_type": "execute_result"
    }
   ],
   "source": [
    "moscow_data = moscow_data.groupby('user_id')['month_income'].agg('mean')\n",
    "moscow_data = moscow_data.reset_index()\n",
    "moscow_data.describe()"
   ]
  },
  {
   "cell_type": "code",
   "execution_count": null,
   "metadata": {
    "id": "1Ah9jzL5z7yx",
    "outputId": "38f09f96-2bd2-4270-99fd-cc4c710eab2d"
   },
   "outputs": [
    {
     "data": {
      "text/html": [
       "<div>\n",
       "<style scoped>\n",
       "    .dataframe tbody tr th:only-of-type {\n",
       "        vertical-align: middle;\n",
       "    }\n",
       "\n",
       "    .dataframe tbody tr th {\n",
       "        vertical-align: top;\n",
       "    }\n",
       "\n",
       "    .dataframe thead th {\n",
       "        text-align: right;\n",
       "    }\n",
       "</style>\n",
       "<table border=\"1\" class=\"dataframe\">\n",
       "  <thead>\n",
       "    <tr style=\"text-align: right;\">\n",
       "      <th></th>\n",
       "      <th>user_id</th>\n",
       "      <th>month_income</th>\n",
       "    </tr>\n",
       "  </thead>\n",
       "  <tbody>\n",
       "    <tr>\n",
       "      <td>count</td>\n",
       "      <td>337.000000</td>\n",
       "      <td>337.000000</td>\n",
       "    </tr>\n",
       "    <tr>\n",
       "      <td>mean</td>\n",
       "      <td>1248.931751</td>\n",
       "      <td>1552.830963</td>\n",
       "    </tr>\n",
       "    <tr>\n",
       "      <td>std</td>\n",
       "      <td>146.635333</td>\n",
       "      <td>675.332322</td>\n",
       "    </tr>\n",
       "    <tr>\n",
       "      <td>min</td>\n",
       "      <td>1000.000000</td>\n",
       "      <td>550.000000</td>\n",
       "    </tr>\n",
       "    <tr>\n",
       "      <td>25%</td>\n",
       "      <td>1125.000000</td>\n",
       "      <td>983.600000</td>\n",
       "    </tr>\n",
       "    <tr>\n",
       "      <td>50%</td>\n",
       "      <td>1251.000000</td>\n",
       "      <td>1570.600000</td>\n",
       "    </tr>\n",
       "    <tr>\n",
       "      <td>75%</td>\n",
       "      <td>1378.000000</td>\n",
       "      <td>1950.000000</td>\n",
       "    </tr>\n",
       "    <tr>\n",
       "      <td>max</td>\n",
       "      <td>1499.000000</td>\n",
       "      <td>5252.000000</td>\n",
       "    </tr>\n",
       "  </tbody>\n",
       "</table>\n",
       "</div>"
      ],
      "text/plain": [
       "           user_id  month_income\n",
       "count   337.000000    337.000000\n",
       "mean   1248.931751   1552.830963\n",
       "std     146.635333    675.332322\n",
       "min    1000.000000    550.000000\n",
       "25%    1125.000000    983.600000\n",
       "50%    1251.000000   1570.600000\n",
       "75%    1378.000000   1950.000000\n",
       "max    1499.000000   5252.000000"
      ]
     },
     "execution_count": 52,
     "metadata": {},
     "output_type": "execute_result"
    }
   ],
   "source": [
    "no_moscow_data = no_moscow_data.groupby('user_id')['month_income'].agg('mean')\n",
    "no_moscow_data = no_moscow_data.reset_index() \n",
    "no_moscow_data.describe()"
   ]
  },
  {
   "cell_type": "markdown",
   "metadata": {
    "id": "jP0ogueWz7yx"
   },
   "source": [
    "* Нулевая гипотеза (H0) - Средняя выручка пользователей из Москвы не отличается от средней выручки пользователей из других городов.\n",
    "* Альтернативная гипотеза (H1) - Средняя выручка пользователей из Москвы отличается от средней выручки пользователей из других городов."
   ]
  },
  {
   "cell_type": "code",
   "execution_count": null,
   "metadata": {
    "id": "XNNsyQNKz7yy",
    "outputId": "0bc33a0b-8592-4f13-cc8a-09a77ec6d7fc"
   },
   "outputs": [
    {
     "name": "stdout",
     "output_type": "stream",
     "text": [
      "p-значение: 0.7166391729368358\n",
      "Не получилось отвергнуть нулевую гипотезу\n"
     ]
    }
   ],
   "source": [
    "alpha = 0.05\n",
    "results = st.ttest_ind(moscow_data['month_income'].to_list(), no_moscow_data['month_income'].to_list())\n",
    "\n",
    "print('p-значение:', results.pvalue)\n",
    "\n",
    "if (results.pvalue < alpha):\n",
    "    print(\"Отвергаем нулевую гипотезу\")\n",
    "else:\n",
    "    print(\"Не получилось отвергнуть нулевую гипотезу\")"
   ]
  },
  {
   "cell_type": "markdown",
   "metadata": {
    "id": "bOLiTcEiz7yy"
   },
   "source": [
    "Средняя выручка пользователей из Москвы не отличается от средней выручки пользователей из других городов."
   ]
  },
  {
   "cell_type": "markdown",
   "metadata": {
    "id": "0_C_V9pTz7yy"
   },
   "source": [
    "Найдем среднюю выручку в москве и в регионах:"
   ]
  },
  {
   "cell_type": "code",
   "execution_count": null,
   "metadata": {
    "id": "4UL-oWWmz7yz",
    "outputId": "46da524d-3878-48d2-fc46-4e25a5af2fa4"
   },
   "outputs": [
    {
     "name": "stdout",
     "output_type": "stream",
     "text": [
      "Средняя выручка пользователя в месяц в Москве: 1522.7882153415687\n",
      "Средняя выручка пользователя в месяц в регионах: 1552.8309631927584\n"
     ]
    }
   ],
   "source": [
    "print('Средняя выручка пользователя в месяц в Москве:', moscow_data['month_income'].mean())\n",
    "print('Средняя выручка пользователя в месяц в регионах:', no_moscow_data['month_income'].mean())"
   ]
  },
  {
   "cell_type": "markdown",
   "metadata": {
    "id": "0fzu75Rnz7yz"
   },
   "source": [
    "Средняя выручка в Москве и в регионах отличается всего на 30 рублей."
   ]
  },
  {
   "cell_type": "markdown",
   "metadata": {
    "id": "PaE8kgbAz7yz"
   },
   "source": [
    "## Общий вывод"
   ]
  },
  {
   "cell_type": "markdown",
   "metadata": {
    "id": "juwPqlphz7yz"
   },
   "source": [
    "Были проанализированы все показатели активности пользователей обоих тарифных планов. В ходе исследования было обнаружено, что в среднем клиенты тарифа Smart потребляют меньше трафика (звонки/sms/мегабайт), чем клиенты тарифа Ultra. Клиенты тарифа Smart и платят в среднем меньше, чем клиенты тарифа Ultra, но чаще превышают лимиты, установленные тарифом.\n",
    "\n",
    "Для оператора с точки зрения потребления и выручки по тарифным планам, тариф Ultra выгоднее. "
   ]
  }
 ],
 "metadata": {
  "ExecuteTimeLog": [
   {
    "duration": 351,
    "start_time": "2021-12-01T08:49:50.428Z"
   },
   {
    "duration": 298,
    "start_time": "2021-12-01T08:49:50.921Z"
   },
   {
    "duration": 343,
    "start_time": "2021-12-01T08:55:47.532Z"
   },
   {
    "duration": 736,
    "start_time": "2021-12-01T08:55:56.985Z"
   },
   {
    "duration": 2390,
    "start_time": "2021-12-01T08:55:59.760Z"
   },
   {
    "duration": 2484,
    "start_time": "2021-12-01T08:58:45.523Z"
   },
   {
    "duration": 4,
    "start_time": "2021-12-01T09:07:20.490Z"
   },
   {
    "duration": 2491,
    "start_time": "2021-12-01T09:07:22.148Z"
   },
   {
    "duration": 2241,
    "start_time": "2021-12-01T09:25:26.027Z"
   },
   {
    "duration": 112,
    "start_time": "2021-12-01T09:25:36.817Z"
   },
   {
    "duration": 130,
    "start_time": "2021-12-01T09:25:49.119Z"
   },
   {
    "duration": 518,
    "start_time": "2021-12-01T09:30:15.725Z"
   },
   {
    "duration": 4,
    "start_time": "2021-12-01T09:32:45.178Z"
   },
   {
    "duration": 64,
    "start_time": "2021-12-01T09:32:56.671Z"
   },
   {
    "duration": 5,
    "start_time": "2021-12-01T09:36:34.640Z"
   },
   {
    "duration": 633,
    "start_time": "2021-12-01T09:36:36.477Z"
   },
   {
    "duration": 5,
    "start_time": "2021-12-01T09:37:02.384Z"
   },
   {
    "duration": 97,
    "start_time": "2021-12-01T09:37:04.871Z"
   },
   {
    "duration": 4,
    "start_time": "2021-12-01T09:38:30.594Z"
   },
   {
    "duration": 103,
    "start_time": "2021-12-01T09:38:32.991Z"
   },
   {
    "duration": 5,
    "start_time": "2021-12-01T09:38:58.904Z"
   },
   {
    "duration": 101,
    "start_time": "2021-12-01T09:39:01.307Z"
   },
   {
    "duration": 111,
    "start_time": "2021-12-01T09:40:02.621Z"
   },
   {
    "duration": 68,
    "start_time": "2021-12-01T09:40:16.657Z"
   },
   {
    "duration": 290,
    "start_time": "2021-12-01T09:40:30.862Z"
   },
   {
    "duration": 515,
    "start_time": "2021-12-01T09:40:50.028Z"
   },
   {
    "duration": 69,
    "start_time": "2021-12-01T09:40:53.345Z"
   },
   {
    "duration": 54,
    "start_time": "2021-12-01T09:41:21.404Z"
   },
   {
    "duration": 6,
    "start_time": "2021-12-01T09:43:41.509Z"
   },
   {
    "duration": 6,
    "start_time": "2021-12-01T09:43:43.563Z"
   },
   {
    "duration": 58,
    "start_time": "2021-12-01T09:43:45.246Z"
   },
   {
    "duration": 228,
    "start_time": "2021-12-01T09:43:47.756Z"
   },
   {
    "duration": 151,
    "start_time": "2021-12-01T09:43:50.130Z"
   },
   {
    "duration": 217,
    "start_time": "2021-12-01T09:43:52.733Z"
   },
   {
    "duration": 67,
    "start_time": "2021-12-01T09:43:54.954Z"
   },
   {
    "duration": 262,
    "start_time": "2021-12-01T11:13:37.928Z"
   },
   {
    "duration": 651,
    "start_time": "2021-12-01T11:14:17.934Z"
   },
   {
    "duration": 241,
    "start_time": "2021-12-01T11:15:08.521Z"
   },
   {
    "duration": 733,
    "start_time": "2021-12-01T11:59:22.977Z"
   },
   {
    "duration": 527,
    "start_time": "2021-12-01T11:59:23.712Z"
   },
   {
    "duration": 6,
    "start_time": "2021-12-01T11:59:24.242Z"
   },
   {
    "duration": 87,
    "start_time": "2021-12-01T11:59:24.250Z"
   },
   {
    "duration": 305,
    "start_time": "2021-12-01T11:59:24.339Z"
   },
   {
    "duration": 154,
    "start_time": "2021-12-01T11:59:24.647Z"
   },
   {
    "duration": 265,
    "start_time": "2021-12-01T11:59:24.803Z"
   },
   {
    "duration": 88,
    "start_time": "2021-12-01T11:59:25.071Z"
   },
   {
    "duration": 220,
    "start_time": "2021-12-02T07:48:03.815Z"
   },
   {
    "duration": 180,
    "start_time": "2021-12-02T07:48:22.129Z"
   },
   {
    "duration": 552,
    "start_time": "2021-12-02T07:48:26.105Z"
   },
   {
    "duration": 395,
    "start_time": "2021-12-02T07:48:26.659Z"
   },
   {
    "duration": 4,
    "start_time": "2021-12-02T07:48:27.056Z"
   },
   {
    "duration": 49,
    "start_time": "2021-12-02T07:48:27.061Z"
   },
   {
    "duration": 217,
    "start_time": "2021-12-02T07:48:27.112Z"
   },
   {
    "duration": 111,
    "start_time": "2021-12-02T07:48:27.330Z"
   },
   {
    "duration": 169,
    "start_time": "2021-12-02T07:48:27.442Z"
   },
   {
    "duration": 42,
    "start_time": "2021-12-02T07:48:27.613Z"
   },
   {
    "duration": 35,
    "start_time": "2021-12-02T07:48:27.656Z"
   },
   {
    "duration": 6,
    "start_time": "2021-12-02T07:48:35.051Z"
   },
   {
    "duration": 3,
    "start_time": "2021-12-02T07:53:05.350Z"
   },
   {
    "duration": 257,
    "start_time": "2021-12-02T07:53:29.164Z"
   },
   {
    "duration": 4,
    "start_time": "2021-12-02T07:53:38.082Z"
   },
   {
    "duration": 4,
    "start_time": "2021-12-02T07:53:44.762Z"
   },
   {
    "duration": 6,
    "start_time": "2021-12-02T07:53:54.874Z"
   },
   {
    "duration": 507,
    "start_time": "2021-12-02T07:54:02.053Z"
   },
   {
    "duration": 392,
    "start_time": "2021-12-02T07:54:02.562Z"
   },
   {
    "duration": 3,
    "start_time": "2021-12-02T07:54:02.956Z"
   },
   {
    "duration": 46,
    "start_time": "2021-12-02T07:54:02.961Z"
   },
   {
    "duration": 209,
    "start_time": "2021-12-02T07:54:03.008Z"
   },
   {
    "duration": 105,
    "start_time": "2021-12-02T07:54:03.218Z"
   },
   {
    "duration": 142,
    "start_time": "2021-12-02T07:54:03.325Z"
   },
   {
    "duration": 65,
    "start_time": "2021-12-02T07:54:03.469Z"
   },
   {
    "duration": 2,
    "start_time": "2021-12-02T07:54:03.536Z"
   },
   {
    "duration": 10,
    "start_time": "2021-12-02T07:54:03.540Z"
   },
   {
    "duration": 8,
    "start_time": "2021-12-02T07:54:03.552Z"
   },
   {
    "duration": 31,
    "start_time": "2021-12-02T07:54:03.562Z"
   },
   {
    "duration": 604,
    "start_time": "2021-12-02T07:54:21.172Z"
   },
   {
    "duration": 401,
    "start_time": "2021-12-02T07:54:21.778Z"
   },
   {
    "duration": 4,
    "start_time": "2021-12-02T07:54:22.181Z"
   },
   {
    "duration": 50,
    "start_time": "2021-12-02T07:54:22.187Z"
   },
   {
    "duration": 235,
    "start_time": "2021-12-02T07:54:22.239Z"
   },
   {
    "duration": 139,
    "start_time": "2021-12-02T07:54:22.476Z"
   },
   {
    "duration": 185,
    "start_time": "2021-12-02T07:54:22.617Z"
   },
   {
    "duration": 47,
    "start_time": "2021-12-02T07:54:22.804Z"
   },
   {
    "duration": 3,
    "start_time": "2021-12-02T07:54:22.854Z"
   },
   {
    "duration": 7,
    "start_time": "2021-12-02T07:54:22.891Z"
   },
   {
    "duration": 9,
    "start_time": "2021-12-02T07:54:22.900Z"
   },
   {
    "duration": 8,
    "start_time": "2021-12-02T07:54:22.911Z"
   },
   {
    "duration": 6,
    "start_time": "2021-12-02T07:54:22.921Z"
   },
   {
    "duration": 6,
    "start_time": "2021-12-02T07:54:34.721Z"
   },
   {
    "duration": 6,
    "start_time": "2021-12-02T07:57:46.991Z"
   },
   {
    "duration": 32,
    "start_time": "2021-12-02T07:57:48.515Z"
   },
   {
    "duration": 21,
    "start_time": "2021-12-02T07:57:50.119Z"
   },
   {
    "duration": 23,
    "start_time": "2021-12-02T07:57:51.597Z"
   },
   {
    "duration": 6,
    "start_time": "2021-12-02T08:05:34.728Z"
   },
   {
    "duration": 4,
    "start_time": "2021-12-02T08:05:46.225Z"
   },
   {
    "duration": 10,
    "start_time": "2021-12-02T08:05:49.048Z"
   },
   {
    "duration": 10,
    "start_time": "2021-12-02T08:07:46.365Z"
   },
   {
    "duration": 10,
    "start_time": "2021-12-02T08:08:00.943Z"
   },
   {
    "duration": 9,
    "start_time": "2021-12-02T08:09:57.741Z"
   },
   {
    "duration": 9,
    "start_time": "2021-12-02T08:10:10.363Z"
   },
   {
    "duration": 8,
    "start_time": "2021-12-02T08:10:15.136Z"
   },
   {
    "duration": 8,
    "start_time": "2021-12-02T08:10:35.633Z"
   },
   {
    "duration": 6,
    "start_time": "2021-12-02T08:10:38.008Z"
   },
   {
    "duration": 527,
    "start_time": "2021-12-02T08:12:00.432Z"
   },
   {
    "duration": 400,
    "start_time": "2021-12-02T08:12:00.961Z"
   },
   {
    "duration": 4,
    "start_time": "2021-12-02T08:12:01.365Z"
   },
   {
    "duration": 54,
    "start_time": "2021-12-02T08:12:01.370Z"
   },
   {
    "duration": 226,
    "start_time": "2021-12-02T08:12:01.425Z"
   },
   {
    "duration": 109,
    "start_time": "2021-12-02T08:12:01.653Z"
   },
   {
    "duration": 176,
    "start_time": "2021-12-02T08:12:01.764Z"
   },
   {
    "duration": 60,
    "start_time": "2021-12-02T08:12:01.942Z"
   },
   {
    "duration": 6,
    "start_time": "2021-12-02T08:12:02.004Z"
   },
   {
    "duration": 37,
    "start_time": "2021-12-02T08:12:02.013Z"
   },
   {
    "duration": 48,
    "start_time": "2021-12-02T08:12:02.052Z"
   },
   {
    "duration": 23,
    "start_time": "2021-12-02T08:12:02.102Z"
   },
   {
    "duration": 5,
    "start_time": "2021-12-02T08:13:23.607Z"
   },
   {
    "duration": 11,
    "start_time": "2021-12-02T08:13:23.985Z"
   },
   {
    "duration": 9,
    "start_time": "2021-12-02T08:13:24.291Z"
   },
   {
    "duration": 9,
    "start_time": "2021-12-02T08:13:24.597Z"
   },
   {
    "duration": 16,
    "start_time": "2021-12-02T08:21:09.550Z"
   },
   {
    "duration": 11,
    "start_time": "2021-12-02T09:44:34.141Z"
   },
   {
    "duration": 13,
    "start_time": "2021-12-02T09:47:23.317Z"
   },
   {
    "duration": 610,
    "start_time": "2021-12-02T09:47:30.642Z"
   },
   {
    "duration": 447,
    "start_time": "2021-12-02T09:47:41.157Z"
   },
   {
    "duration": 3,
    "start_time": "2021-12-02T09:48:26.073Z"
   },
   {
    "duration": 69,
    "start_time": "2021-12-02T09:48:32.160Z"
   },
   {
    "duration": 18,
    "start_time": "2021-12-02T09:48:33.668Z"
   },
   {
    "duration": 15,
    "start_time": "2021-12-02T09:52:49.018Z"
   },
   {
    "duration": 546,
    "start_time": "2021-12-02T09:52:55.898Z"
   },
   {
    "duration": 9,
    "start_time": "2021-12-02T09:53:07.166Z"
   },
   {
    "duration": 10,
    "start_time": "2021-12-02T09:54:02.520Z"
   },
   {
    "duration": 10,
    "start_time": "2021-12-02T09:54:24.434Z"
   },
   {
    "duration": 14,
    "start_time": "2021-12-02T09:54:36.067Z"
   },
   {
    "duration": 17,
    "start_time": "2021-12-02T09:55:08.813Z"
   },
   {
    "duration": 16,
    "start_time": "2021-12-02T09:55:15.778Z"
   },
   {
    "duration": 174,
    "start_time": "2021-12-02T09:56:12.550Z"
   },
   {
    "duration": 13,
    "start_time": "2021-12-02T09:56:18.577Z"
   },
   {
    "duration": 7,
    "start_time": "2021-12-02T09:56:30.529Z"
   },
   {
    "duration": 11,
    "start_time": "2021-12-02T09:56:33.605Z"
   },
   {
    "duration": 5,
    "start_time": "2021-12-02T09:58:13.663Z"
   },
   {
    "duration": 192,
    "start_time": "2021-12-02T09:58:59.408Z"
   },
   {
    "duration": 49,
    "start_time": "2021-12-02T09:59:03.174Z"
   },
   {
    "duration": 16,
    "start_time": "2021-12-02T09:59:07.771Z"
   },
   {
    "duration": 14,
    "start_time": "2021-12-02T10:01:16.974Z"
   },
   {
    "duration": 15,
    "start_time": "2021-12-02T10:01:22.489Z"
   },
   {
    "duration": 15,
    "start_time": "2021-12-02T10:01:27.993Z"
   },
   {
    "duration": 176,
    "start_time": "2021-12-02T10:02:03.800Z"
   },
   {
    "duration": 9,
    "start_time": "2021-12-02T10:02:08.690Z"
   },
   {
    "duration": 13,
    "start_time": "2021-12-02T10:09:01.527Z"
   },
   {
    "duration": 189,
    "start_time": "2021-12-02T10:11:03.195Z"
   },
   {
    "duration": 213,
    "start_time": "2021-12-02T10:11:11.891Z"
   },
   {
    "duration": 23,
    "start_time": "2021-12-02T10:12:55.202Z"
   },
   {
    "duration": 205,
    "start_time": "2021-12-02T10:12:57.427Z"
   },
   {
    "duration": 13,
    "start_time": "2021-12-02T10:13:03.916Z"
   },
   {
    "duration": 4,
    "start_time": "2021-12-02T10:13:13.873Z"
   },
   {
    "duration": 37,
    "start_time": "2021-12-02T10:14:19.473Z"
   },
   {
    "duration": 20,
    "start_time": "2021-12-02T10:16:07.167Z"
   },
   {
    "duration": 23,
    "start_time": "2021-12-02T10:16:44.344Z"
   },
   {
    "duration": 24,
    "start_time": "2021-12-02T10:17:21.931Z"
   },
   {
    "duration": 23,
    "start_time": "2021-12-02T10:17:46.736Z"
   },
   {
    "duration": 15,
    "start_time": "2021-12-02T10:19:48.703Z"
   },
   {
    "duration": 11,
    "start_time": "2021-12-02T10:19:53.960Z"
   },
   {
    "duration": 178,
    "start_time": "2021-12-02T10:20:06.904Z"
   },
   {
    "duration": 187,
    "start_time": "2021-12-02T10:20:10.929Z"
   },
   {
    "duration": 171,
    "start_time": "2021-12-02T10:20:34.021Z"
   },
   {
    "duration": 322,
    "start_time": "2021-12-02T10:21:01.373Z"
   },
   {
    "duration": 186,
    "start_time": "2021-12-02T10:21:14.605Z"
   },
   {
    "duration": 27,
    "start_time": "2021-12-02T10:21:17.929Z"
   },
   {
    "duration": 18,
    "start_time": "2021-12-02T10:21:46.243Z"
   },
   {
    "duration": 16,
    "start_time": "2021-12-02T10:25:40.729Z"
   },
   {
    "duration": 4521,
    "start_time": "2021-12-02T10:25:58.439Z"
   },
   {
    "duration": 16,
    "start_time": "2021-12-02T10:26:08.318Z"
   },
   {
    "duration": 17,
    "start_time": "2021-12-02T10:26:14.261Z"
   },
   {
    "duration": 17,
    "start_time": "2021-12-02T10:27:09.624Z"
   },
   {
    "duration": 538,
    "start_time": "2021-12-02T10:28:00.317Z"
   },
   {
    "duration": 441,
    "start_time": "2021-12-02T10:28:00.858Z"
   },
   {
    "duration": 3,
    "start_time": "2021-12-02T10:28:01.302Z"
   },
   {
    "duration": 60,
    "start_time": "2021-12-02T10:28:01.307Z"
   },
   {
    "duration": 224,
    "start_time": "2021-12-02T10:28:01.368Z"
   },
   {
    "duration": 113,
    "start_time": "2021-12-02T10:28:01.594Z"
   },
   {
    "duration": 159,
    "start_time": "2021-12-02T10:28:01.709Z"
   },
   {
    "duration": 58,
    "start_time": "2021-12-02T10:28:01.871Z"
   },
   {
    "duration": 6,
    "start_time": "2021-12-02T10:28:01.932Z"
   },
   {
    "duration": 61,
    "start_time": "2021-12-02T10:28:01.940Z"
   },
   {
    "duration": 22,
    "start_time": "2021-12-02T10:28:02.003Z"
   },
   {
    "duration": 28,
    "start_time": "2021-12-02T10:28:02.027Z"
   },
   {
    "duration": 35,
    "start_time": "2021-12-02T10:28:02.057Z"
   },
   {
    "duration": 26,
    "start_time": "2021-12-02T10:28:02.094Z"
   },
   {
    "duration": 4620,
    "start_time": "2021-12-02T10:28:02.122Z"
   },
   {
    "duration": 52,
    "start_time": "2021-12-02T10:28:06.693Z"
   },
   {
    "duration": 51,
    "start_time": "2021-12-02T10:28:06.695Z"
   },
   {
    "duration": 48,
    "start_time": "2021-12-02T10:28:06.699Z"
   },
   {
    "duration": 47,
    "start_time": "2021-12-02T10:28:06.701Z"
   },
   {
    "duration": 46,
    "start_time": "2021-12-02T10:28:06.703Z"
   },
   {
    "duration": 39,
    "start_time": "2021-12-02T10:28:06.711Z"
   },
   {
    "duration": 37,
    "start_time": "2021-12-02T10:28:06.713Z"
   },
   {
    "duration": 35,
    "start_time": "2021-12-02T10:28:06.716Z"
   },
   {
    "duration": 35,
    "start_time": "2021-12-02T10:28:06.718Z"
   },
   {
    "duration": 33,
    "start_time": "2021-12-02T10:28:06.720Z"
   },
   {
    "duration": 32,
    "start_time": "2021-12-02T10:28:06.722Z"
   },
   {
    "duration": 32,
    "start_time": "2021-12-02T10:28:06.723Z"
   },
   {
    "duration": 30,
    "start_time": "2021-12-02T10:28:06.726Z"
   },
   {
    "duration": 29,
    "start_time": "2021-12-02T10:28:06.728Z"
   },
   {
    "duration": 20,
    "start_time": "2021-12-02T10:28:06.738Z"
   },
   {
    "duration": 18,
    "start_time": "2021-12-02T10:28:06.741Z"
   },
   {
    "duration": 4,
    "start_time": "2021-12-02T10:28:06.756Z"
   },
   {
    "duration": -6,
    "start_time": "2021-12-02T10:28:06.767Z"
   },
   {
    "duration": -19,
    "start_time": "2021-12-02T10:28:06.781Z"
   },
   {
    "duration": 5687,
    "start_time": "2021-12-02T10:28:42.242Z"
   },
   {
    "duration": 62,
    "start_time": "2021-12-02T10:28:47.869Z"
   },
   {
    "duration": 69,
    "start_time": "2021-12-02T10:28:49.417Z"
   },
   {
    "duration": 22,
    "start_time": "2021-12-02T10:28:50.632Z"
   },
   {
    "duration": 532,
    "start_time": "2021-12-02T10:28:55.929Z"
   },
   {
    "duration": 408,
    "start_time": "2021-12-02T10:28:56.463Z"
   },
   {
    "duration": 4,
    "start_time": "2021-12-02T10:28:56.873Z"
   },
   {
    "duration": 50,
    "start_time": "2021-12-02T10:28:56.879Z"
   },
   {
    "duration": 220,
    "start_time": "2021-12-02T10:28:56.931Z"
   },
   {
    "duration": 110,
    "start_time": "2021-12-02T10:28:57.152Z"
   },
   {
    "duration": 176,
    "start_time": "2021-12-02T10:28:57.264Z"
   },
   {
    "duration": 62,
    "start_time": "2021-12-02T10:28:57.443Z"
   },
   {
    "duration": 6,
    "start_time": "2021-12-02T10:28:57.508Z"
   },
   {
    "duration": 34,
    "start_time": "2021-12-02T10:28:57.516Z"
   },
   {
    "duration": 53,
    "start_time": "2021-12-02T10:28:57.552Z"
   },
   {
    "duration": 25,
    "start_time": "2021-12-02T10:28:57.606Z"
   },
   {
    "duration": 9,
    "start_time": "2021-12-02T10:28:57.632Z"
   },
   {
    "duration": 13,
    "start_time": "2021-12-02T10:28:57.643Z"
   },
   {
    "duration": 94,
    "start_time": "2021-12-02T10:28:57.658Z"
   },
   {
    "duration": 21,
    "start_time": "2021-12-02T10:28:57.754Z"
   },
   {
    "duration": 26,
    "start_time": "2021-12-02T10:28:57.777Z"
   },
   {
    "duration": 11,
    "start_time": "2021-12-02T10:28:57.805Z"
   },
   {
    "duration": 3,
    "start_time": "2021-12-02T10:28:57.817Z"
   },
   {
    "duration": 6,
    "start_time": "2021-12-02T10:28:57.821Z"
   },
   {
    "duration": 18,
    "start_time": "2021-12-02T10:28:57.829Z"
   },
   {
    "duration": 11,
    "start_time": "2021-12-02T10:28:57.848Z"
   },
   {
    "duration": 34,
    "start_time": "2021-12-02T10:28:57.862Z"
   },
   {
    "duration": 13,
    "start_time": "2021-12-02T10:28:57.898Z"
   },
   {
    "duration": 22,
    "start_time": "2021-12-02T10:28:57.913Z"
   },
   {
    "duration": 11,
    "start_time": "2021-12-02T10:28:57.936Z"
   },
   {
    "duration": 56,
    "start_time": "2021-12-02T10:28:57.949Z"
   },
   {
    "duration": 14,
    "start_time": "2021-12-02T10:28:58.007Z"
   },
   {
    "duration": 11,
    "start_time": "2021-12-02T10:28:58.023Z"
   },
   {
    "duration": 19,
    "start_time": "2021-12-02T10:28:58.036Z"
   },
   {
    "duration": 39,
    "start_time": "2021-12-02T10:28:58.057Z"
   },
   {
    "duration": 15,
    "start_time": "2021-12-02T10:28:58.098Z"
   },
   {
    "duration": 12,
    "start_time": "2021-12-02T10:28:58.115Z"
   },
   {
    "duration": 19,
    "start_time": "2021-12-02T10:28:58.129Z"
   },
   {
    "duration": 33,
    "start_time": "2021-12-02T10:29:38.088Z"
   },
   {
    "duration": 19,
    "start_time": "2021-12-02T10:33:06.355Z"
   },
   {
    "duration": 29,
    "start_time": "2021-12-02T10:33:11.691Z"
   },
   {
    "duration": 30,
    "start_time": "2021-12-02T10:33:23.674Z"
   },
   {
    "duration": 22,
    "start_time": "2021-12-02T10:34:08.063Z"
   },
   {
    "duration": 24,
    "start_time": "2021-12-02T10:34:36.348Z"
   },
   {
    "duration": 242,
    "start_time": "2021-12-02T10:40:52.853Z"
   },
   {
    "duration": 172,
    "start_time": "2021-12-02T10:41:21.835Z"
   },
   {
    "duration": 10,
    "start_time": "2021-12-02T10:41:36.805Z"
   },
   {
    "duration": 14,
    "start_time": "2021-12-02T10:41:40.114Z"
   },
   {
    "duration": 57,
    "start_time": "2021-12-02T10:42:16.088Z"
   },
   {
    "duration": 17,
    "start_time": "2021-12-02T10:42:22.764Z"
   },
   {
    "duration": 19,
    "start_time": "2021-12-02T10:42:25.246Z"
   },
   {
    "duration": 22,
    "start_time": "2021-12-02T10:43:37.181Z"
   },
   {
    "duration": 31,
    "start_time": "2021-12-02T10:43:39.913Z"
   },
   {
    "duration": 22,
    "start_time": "2021-12-02T10:44:33.441Z"
   },
   {
    "duration": 19,
    "start_time": "2021-12-02T10:44:55.393Z"
   },
   {
    "duration": 18,
    "start_time": "2021-12-02T10:44:58.505Z"
   },
   {
    "duration": 549,
    "start_time": "2021-12-02T10:45:06.097Z"
   },
   {
    "duration": 419,
    "start_time": "2021-12-02T10:45:06.648Z"
   },
   {
    "duration": 4,
    "start_time": "2021-12-02T10:45:07.069Z"
   },
   {
    "duration": 47,
    "start_time": "2021-12-02T10:45:07.075Z"
   },
   {
    "duration": 230,
    "start_time": "2021-12-02T10:45:07.123Z"
   },
   {
    "duration": 98,
    "start_time": "2021-12-02T10:45:07.355Z"
   },
   {
    "duration": 163,
    "start_time": "2021-12-02T10:45:07.455Z"
   },
   {
    "duration": 72,
    "start_time": "2021-12-02T10:45:07.621Z"
   },
   {
    "duration": 6,
    "start_time": "2021-12-02T10:45:07.695Z"
   },
   {
    "duration": 34,
    "start_time": "2021-12-02T10:45:07.702Z"
   },
   {
    "duration": 19,
    "start_time": "2021-12-02T10:45:07.737Z"
   },
   {
    "duration": 43,
    "start_time": "2021-12-02T10:45:07.757Z"
   },
   {
    "duration": 8,
    "start_time": "2021-12-02T10:45:07.802Z"
   },
   {
    "duration": 15,
    "start_time": "2021-12-02T10:45:07.811Z"
   },
   {
    "duration": 79,
    "start_time": "2021-12-02T10:45:07.827Z"
   },
   {
    "duration": 21,
    "start_time": "2021-12-02T10:45:07.908Z"
   },
   {
    "duration": 12,
    "start_time": "2021-12-02T10:45:07.931Z"
   },
   {
    "duration": 17,
    "start_time": "2021-12-02T10:45:07.944Z"
   },
   {
    "duration": 4,
    "start_time": "2021-12-02T10:45:07.963Z"
   },
   {
    "duration": 6,
    "start_time": "2021-12-02T10:45:07.968Z"
   },
   {
    "duration": 10,
    "start_time": "2021-12-02T10:45:07.992Z"
   },
   {
    "duration": 11,
    "start_time": "2021-12-02T10:45:08.003Z"
   },
   {
    "duration": 9,
    "start_time": "2021-12-02T10:45:08.017Z"
   },
   {
    "duration": 12,
    "start_time": "2021-12-02T10:45:08.028Z"
   },
   {
    "duration": 50,
    "start_time": "2021-12-02T10:45:08.041Z"
   },
   {
    "duration": 14,
    "start_time": "2021-12-02T10:45:08.093Z"
   },
   {
    "duration": 28,
    "start_time": "2021-12-02T10:45:08.108Z"
   },
   {
    "duration": 15,
    "start_time": "2021-12-02T10:45:08.138Z"
   },
   {
    "duration": 37,
    "start_time": "2021-12-02T10:45:08.154Z"
   },
   {
    "duration": 25,
    "start_time": "2021-12-02T10:45:08.193Z"
   },
   {
    "duration": 10,
    "start_time": "2021-12-02T10:45:08.220Z"
   },
   {
    "duration": 22,
    "start_time": "2021-12-02T10:45:08.232Z"
   },
   {
    "duration": 36,
    "start_time": "2021-12-02T10:45:08.255Z"
   },
   {
    "duration": 21,
    "start_time": "2021-12-02T10:45:08.293Z"
   },
   {
    "duration": 290,
    "start_time": "2021-12-02T10:45:08.316Z"
   },
   {
    "duration": 85,
    "start_time": "2021-12-02T10:45:08.523Z"
   },
   {
    "duration": 24,
    "start_time": "2021-12-02T10:46:31.820Z"
   },
   {
    "duration": 171,
    "start_time": "2021-12-02T10:46:42.984Z"
   },
   {
    "duration": 23,
    "start_time": "2021-12-02T10:46:50.335Z"
   },
   {
    "duration": 1203,
    "start_time": "2021-12-02T10:47:09.762Z"
   },
   {
    "duration": 189,
    "start_time": "2021-12-02T10:47:18.608Z"
   },
   {
    "duration": 180,
    "start_time": "2021-12-02T10:47:40.471Z"
   },
   {
    "duration": 200,
    "start_time": "2021-12-02T10:47:58.907Z"
   },
   {
    "duration": 2,
    "start_time": "2021-12-02T10:48:04.239Z"
   },
   {
    "duration": 8,
    "start_time": "2021-12-02T10:48:06.287Z"
   },
   {
    "duration": 38,
    "start_time": "2021-12-02T10:48:42.710Z"
   },
   {
    "duration": 27,
    "start_time": "2021-12-02T10:48:56.203Z"
   },
   {
    "duration": 26,
    "start_time": "2021-12-02T10:49:02.995Z"
   },
   {
    "duration": 192,
    "start_time": "2021-12-02T10:49:14.803Z"
   },
   {
    "duration": 22,
    "start_time": "2021-12-02T10:49:44.633Z"
   },
   {
    "duration": 21,
    "start_time": "2021-12-02T10:49:47.198Z"
   },
   {
    "duration": 18,
    "start_time": "2021-12-02T10:52:57.650Z"
   },
   {
    "duration": 23,
    "start_time": "2021-12-02T10:53:00.285Z"
   },
   {
    "duration": 16,
    "start_time": "2021-12-02T10:54:00.024Z"
   },
   {
    "duration": 18,
    "start_time": "2021-12-02T10:54:02.332Z"
   },
   {
    "duration": 15,
    "start_time": "2021-12-02T10:54:15.187Z"
   },
   {
    "duration": 26,
    "start_time": "2021-12-02T10:54:20.613Z"
   },
   {
    "duration": 37,
    "start_time": "2021-12-02T10:54:24.002Z"
   },
   {
    "duration": 27,
    "start_time": "2021-12-02T10:54:34.772Z"
   },
   {
    "duration": 27,
    "start_time": "2021-12-02T10:55:02.928Z"
   },
   {
    "duration": 39,
    "start_time": "2021-12-02T10:55:10.651Z"
   },
   {
    "duration": 39,
    "start_time": "2021-12-02T10:55:42.508Z"
   },
   {
    "duration": 535,
    "start_time": "2021-12-02T10:55:52.828Z"
   },
   {
    "duration": 397,
    "start_time": "2021-12-02T10:55:53.365Z"
   },
   {
    "duration": 3,
    "start_time": "2021-12-02T10:55:53.765Z"
   },
   {
    "duration": 46,
    "start_time": "2021-12-02T10:55:53.770Z"
   },
   {
    "duration": 174,
    "start_time": "2021-12-02T10:55:53.818Z"
   },
   {
    "duration": 79,
    "start_time": "2021-12-02T10:55:53.994Z"
   },
   {
    "duration": 145,
    "start_time": "2021-12-02T10:55:54.074Z"
   },
   {
    "duration": 43,
    "start_time": "2021-12-02T10:55:54.221Z"
   },
   {
    "duration": 5,
    "start_time": "2021-12-02T10:55:54.266Z"
   },
   {
    "duration": 40,
    "start_time": "2021-12-02T10:55:54.273Z"
   },
   {
    "duration": 19,
    "start_time": "2021-12-02T10:55:54.314Z"
   },
   {
    "duration": 31,
    "start_time": "2021-12-02T10:55:54.335Z"
   },
   {
    "duration": 9,
    "start_time": "2021-12-02T10:55:54.368Z"
   },
   {
    "duration": 25,
    "start_time": "2021-12-02T10:55:54.379Z"
   },
   {
    "duration": 73,
    "start_time": "2021-12-02T10:55:54.406Z"
   },
   {
    "duration": 19,
    "start_time": "2021-12-02T10:55:54.480Z"
   },
   {
    "duration": 13,
    "start_time": "2021-12-02T10:55:54.501Z"
   },
   {
    "duration": 21,
    "start_time": "2021-12-02T10:55:54.516Z"
   },
   {
    "duration": 8,
    "start_time": "2021-12-02T10:55:54.539Z"
   },
   {
    "duration": 10,
    "start_time": "2021-12-02T10:55:54.548Z"
   },
   {
    "duration": 36,
    "start_time": "2021-12-02T10:55:54.560Z"
   },
   {
    "duration": 12,
    "start_time": "2021-12-02T10:55:54.597Z"
   },
   {
    "duration": 11,
    "start_time": "2021-12-02T10:55:54.612Z"
   },
   {
    "duration": 17,
    "start_time": "2021-12-02T10:55:54.625Z"
   },
   {
    "duration": 40,
    "start_time": "2021-12-02T10:55:54.643Z"
   },
   {
    "duration": 12,
    "start_time": "2021-12-02T10:55:54.684Z"
   },
   {
    "duration": 41,
    "start_time": "2021-12-02T10:55:54.698Z"
   },
   {
    "duration": 15,
    "start_time": "2021-12-02T10:55:54.740Z"
   },
   {
    "duration": 45,
    "start_time": "2021-12-02T10:55:54.756Z"
   },
   {
    "duration": 36,
    "start_time": "2021-12-02T10:55:54.802Z"
   },
   {
    "duration": 62,
    "start_time": "2021-12-02T10:55:54.839Z"
   },
   {
    "duration": 21,
    "start_time": "2021-12-02T10:55:54.903Z"
   },
   {
    "duration": 13,
    "start_time": "2021-12-02T10:55:54.926Z"
   },
   {
    "duration": 27,
    "start_time": "2021-12-02T10:55:54.992Z"
   },
   {
    "duration": 91,
    "start_time": "2021-12-02T10:55:55.020Z"
   },
   {
    "duration": 14,
    "start_time": "2021-12-02T10:55:55.113Z"
   },
   {
    "duration": 12,
    "start_time": "2021-12-02T10:55:55.129Z"
   },
   {
    "duration": 28,
    "start_time": "2021-12-02T10:56:40.374Z"
   },
   {
    "duration": 29,
    "start_time": "2021-12-02T10:56:48.027Z"
   },
   {
    "duration": 38,
    "start_time": "2021-12-02T10:56:59.818Z"
   },
   {
    "duration": 28,
    "start_time": "2021-12-02T10:57:04.716Z"
   },
   {
    "duration": 32,
    "start_time": "2021-12-02T10:57:11.365Z"
   },
   {
    "duration": 598,
    "start_time": "2021-12-02T10:57:40.602Z"
   },
   {
    "duration": 419,
    "start_time": "2021-12-02T10:57:41.202Z"
   },
   {
    "duration": 5,
    "start_time": "2021-12-02T10:57:41.623Z"
   },
   {
    "duration": 68,
    "start_time": "2021-12-02T10:57:41.629Z"
   },
   {
    "duration": 222,
    "start_time": "2021-12-02T10:57:41.698Z"
   },
   {
    "duration": 110,
    "start_time": "2021-12-02T10:57:41.922Z"
   },
   {
    "duration": 171,
    "start_time": "2021-12-02T10:57:42.034Z"
   },
   {
    "duration": 46,
    "start_time": "2021-12-02T10:57:42.207Z"
   },
   {
    "duration": 5,
    "start_time": "2021-12-02T10:57:42.255Z"
   },
   {
    "duration": 32,
    "start_time": "2021-12-02T10:57:42.292Z"
   },
   {
    "duration": 19,
    "start_time": "2021-12-02T10:57:42.326Z"
   },
   {
    "duration": 48,
    "start_time": "2021-12-02T10:57:42.347Z"
   },
   {
    "duration": 10,
    "start_time": "2021-12-02T10:57:42.397Z"
   },
   {
    "duration": 32,
    "start_time": "2021-12-02T10:57:42.408Z"
   },
   {
    "duration": 80,
    "start_time": "2021-12-02T10:57:42.442Z"
   },
   {
    "duration": 22,
    "start_time": "2021-12-02T10:57:42.523Z"
   },
   {
    "duration": 13,
    "start_time": "2021-12-02T10:57:42.547Z"
   },
   {
    "duration": 32,
    "start_time": "2021-12-02T10:57:42.562Z"
   },
   {
    "duration": 2,
    "start_time": "2021-12-02T10:57:42.595Z"
   },
   {
    "duration": 20,
    "start_time": "2021-12-02T10:57:42.599Z"
   },
   {
    "duration": 14,
    "start_time": "2021-12-02T10:57:42.620Z"
   },
   {
    "duration": 10,
    "start_time": "2021-12-02T10:57:42.636Z"
   },
   {
    "duration": 9,
    "start_time": "2021-12-02T10:57:42.649Z"
   },
   {
    "duration": 33,
    "start_time": "2021-12-02T10:57:42.660Z"
   },
   {
    "duration": 24,
    "start_time": "2021-12-02T10:57:42.694Z"
   },
   {
    "duration": 12,
    "start_time": "2021-12-02T10:57:42.720Z"
   },
   {
    "duration": 71,
    "start_time": "2021-12-02T10:57:42.733Z"
   },
   {
    "duration": 15,
    "start_time": "2021-12-02T10:57:42.805Z"
   },
   {
    "duration": 12,
    "start_time": "2021-12-02T10:57:42.821Z"
   },
   {
    "duration": 28,
    "start_time": "2021-12-02T10:57:42.835Z"
   },
   {
    "duration": 36,
    "start_time": "2021-12-02T10:57:42.865Z"
   },
   {
    "duration": 16,
    "start_time": "2021-12-02T10:57:42.902Z"
   },
   {
    "duration": 13,
    "start_time": "2021-12-02T10:57:42.919Z"
   },
   {
    "duration": 26,
    "start_time": "2021-12-02T10:57:42.933Z"
   },
   {
    "duration": 67,
    "start_time": "2021-12-02T10:57:42.961Z"
   },
   {
    "duration": 15,
    "start_time": "2021-12-02T10:57:43.029Z"
   },
   {
    "duration": 14,
    "start_time": "2021-12-02T10:57:43.046Z"
   },
   {
    "duration": 27,
    "start_time": "2021-12-02T10:57:59.441Z"
   },
   {
    "duration": 19,
    "start_time": "2021-12-02T10:58:13.106Z"
   },
   {
    "duration": 39,
    "start_time": "2021-12-02T10:58:15.445Z"
   },
   {
    "duration": 39,
    "start_time": "2021-12-02T10:58:28.764Z"
   },
   {
    "duration": 22,
    "start_time": "2021-12-02T10:58:45.085Z"
   },
   {
    "duration": 23,
    "start_time": "2021-12-02T10:58:47.193Z"
   },
   {
    "duration": 68,
    "start_time": "2021-12-02T11:00:23.218Z"
   },
   {
    "duration": 18,
    "start_time": "2021-12-02T11:00:33.946Z"
   },
   {
    "duration": 18,
    "start_time": "2021-12-02T11:01:03.521Z"
   },
   {
    "duration": 234,
    "start_time": "2021-12-02T11:14:22.009Z"
   },
   {
    "duration": 197,
    "start_time": "2021-12-02T11:14:44.161Z"
   },
   {
    "duration": 188,
    "start_time": "2021-12-02T11:14:54.739Z"
   },
   {
    "duration": 570,
    "start_time": "2021-12-02T11:15:04.983Z"
   },
   {
    "duration": 446,
    "start_time": "2021-12-02T11:15:05.555Z"
   },
   {
    "duration": 4,
    "start_time": "2021-12-02T11:15:06.003Z"
   },
   {
    "duration": 53,
    "start_time": "2021-12-02T11:15:06.009Z"
   },
   {
    "duration": 229,
    "start_time": "2021-12-02T11:15:06.064Z"
   },
   {
    "duration": 104,
    "start_time": "2021-12-02T11:15:06.295Z"
   },
   {
    "duration": 160,
    "start_time": "2021-12-02T11:15:06.401Z"
   },
   {
    "duration": 61,
    "start_time": "2021-12-02T11:15:06.564Z"
   },
   {
    "duration": 5,
    "start_time": "2021-12-02T11:15:06.628Z"
   },
   {
    "duration": 65,
    "start_time": "2021-12-02T11:15:06.635Z"
   },
   {
    "duration": 21,
    "start_time": "2021-12-02T11:15:06.702Z"
   },
   {
    "duration": 24,
    "start_time": "2021-12-02T11:15:06.724Z"
   },
   {
    "duration": 10,
    "start_time": "2021-12-02T11:15:06.750Z"
   },
   {
    "duration": 34,
    "start_time": "2021-12-02T11:15:06.761Z"
   },
   {
    "duration": 70,
    "start_time": "2021-12-02T11:15:06.796Z"
   },
   {
    "duration": 37,
    "start_time": "2021-12-02T11:15:06.868Z"
   },
   {
    "duration": 13,
    "start_time": "2021-12-02T11:15:06.907Z"
   },
   {
    "duration": 11,
    "start_time": "2021-12-02T11:15:06.922Z"
   },
   {
    "duration": 2,
    "start_time": "2021-12-02T11:15:06.934Z"
   },
   {
    "duration": 5,
    "start_time": "2021-12-02T11:15:06.938Z"
   },
   {
    "duration": 14,
    "start_time": "2021-12-02T11:15:06.944Z"
   },
   {
    "duration": 39,
    "start_time": "2021-12-02T11:15:06.959Z"
   },
   {
    "duration": 9,
    "start_time": "2021-12-02T11:15:07.001Z"
   },
   {
    "duration": 13,
    "start_time": "2021-12-02T11:15:07.012Z"
   },
   {
    "duration": 22,
    "start_time": "2021-12-02T11:15:07.027Z"
   },
   {
    "duration": 12,
    "start_time": "2021-12-02T11:15:07.050Z"
   },
   {
    "duration": 70,
    "start_time": "2021-12-02T11:15:07.064Z"
   },
   {
    "duration": 14,
    "start_time": "2021-12-02T11:15:07.135Z"
   },
   {
    "duration": 13,
    "start_time": "2021-12-02T11:15:07.151Z"
   },
   {
    "duration": 48,
    "start_time": "2021-12-02T11:15:07.165Z"
   },
   {
    "duration": 11,
    "start_time": "2021-12-02T11:15:07.215Z"
   },
   {
    "duration": 17,
    "start_time": "2021-12-02T11:15:07.228Z"
   },
   {
    "duration": 12,
    "start_time": "2021-12-02T11:15:07.247Z"
   },
   {
    "duration": 50,
    "start_time": "2021-12-02T11:15:07.261Z"
   },
   {
    "duration": 23,
    "start_time": "2021-12-02T11:15:07.312Z"
   },
   {
    "duration": 21,
    "start_time": "2021-12-02T11:15:07.336Z"
   },
   {
    "duration": 6,
    "start_time": "2021-12-02T11:15:07.358Z"
   },
   {
    "duration": 17,
    "start_time": "2021-12-02T11:15:13.210Z"
   },
   {
    "duration": 4,
    "start_time": "2021-12-02T13:02:59.500Z"
   },
   {
    "duration": 5,
    "start_time": "2021-12-02T13:03:06.775Z"
   },
   {
    "duration": 5,
    "start_time": "2021-12-02T13:03:12.409Z"
   },
   {
    "duration": 4,
    "start_time": "2021-12-02T13:03:17.396Z"
   },
   {
    "duration": 92,
    "start_time": "2021-12-02T13:20:56.535Z"
   },
   {
    "duration": 21,
    "start_time": "2021-12-02T13:20:59.858Z"
   },
   {
    "duration": 246,
    "start_time": "2021-12-02T13:22:47.842Z"
   },
   {
    "duration": 203,
    "start_time": "2021-12-02T13:22:52.962Z"
   },
   {
    "duration": 7,
    "start_time": "2021-12-02T13:23:05.322Z"
   },
   {
    "duration": 20,
    "start_time": "2021-12-02T13:23:08.925Z"
   },
   {
    "duration": 8,
    "start_time": "2021-12-02T13:23:34.437Z"
   },
   {
    "duration": 23,
    "start_time": "2021-12-02T13:24:07.626Z"
   },
   {
    "duration": 450,
    "start_time": "2021-12-02T13:25:07.109Z"
   },
   {
    "duration": 5,
    "start_time": "2021-12-02T13:25:15.183Z"
   },
   {
    "duration": 3,
    "start_time": "2021-12-02T13:31:19.884Z"
   },
   {
    "duration": 3,
    "start_time": "2021-12-02T13:32:29.315Z"
   },
   {
    "duration": 104,
    "start_time": "2021-12-02T13:32:34.704Z"
   },
   {
    "duration": 5,
    "start_time": "2021-12-02T13:32:39.877Z"
   },
   {
    "duration": 5,
    "start_time": "2021-12-02T13:33:25.814Z"
   },
   {
    "duration": 3,
    "start_time": "2021-12-02T13:33:36.198Z"
   },
   {
    "duration": 57,
    "start_time": "2021-12-02T13:35:06.087Z"
   },
   {
    "duration": 3,
    "start_time": "2021-12-02T13:36:48.973Z"
   },
   {
    "duration": 60,
    "start_time": "2021-12-02T13:37:33.356Z"
   },
   {
    "duration": 4,
    "start_time": "2021-12-02T13:37:38.470Z"
   },
   {
    "duration": 3,
    "start_time": "2021-12-02T13:37:54.283Z"
   },
   {
    "duration": 5,
    "start_time": "2021-12-02T13:37:55.950Z"
   },
   {
    "duration": 5,
    "start_time": "2021-12-02T13:38:11.965Z"
   },
   {
    "duration": 12,
    "start_time": "2021-12-02T13:39:14.954Z"
   },
   {
    "duration": 4,
    "start_time": "2021-12-02T13:42:13.941Z"
   },
   {
    "duration": 766,
    "start_time": "2021-12-02T13:42:15.465Z"
   },
   {
    "duration": 3,
    "start_time": "2021-12-02T13:42:48.629Z"
   },
   {
    "duration": 342,
    "start_time": "2021-12-02T13:42:52.523Z"
   },
   {
    "duration": 3,
    "start_time": "2021-12-02T13:42:58.750Z"
   },
   {
    "duration": 407,
    "start_time": "2021-12-02T13:43:00.756Z"
   },
   {
    "duration": 4,
    "start_time": "2021-12-02T13:43:11.188Z"
   },
   {
    "duration": 316,
    "start_time": "2021-12-02T13:43:12.613Z"
   },
   {
    "duration": 5,
    "start_time": "2021-12-02T13:43:17.271Z"
   },
   {
    "duration": 344,
    "start_time": "2021-12-02T13:43:18.575Z"
   },
   {
    "duration": 4,
    "start_time": "2021-12-02T13:45:43.684Z"
   },
   {
    "duration": 197,
    "start_time": "2021-12-02T13:45:55.285Z"
   },
   {
    "duration": 375,
    "start_time": "2021-12-02T13:46:02.484Z"
   },
   {
    "duration": 356,
    "start_time": "2021-12-02T13:47:24.728Z"
   },
   {
    "duration": 60,
    "start_time": "2021-12-02T13:47:40.892Z"
   },
   {
    "duration": 4,
    "start_time": "2021-12-02T13:47:45.839Z"
   },
   {
    "duration": 368,
    "start_time": "2021-12-02T13:47:47.172Z"
   },
   {
    "duration": 356,
    "start_time": "2021-12-02T13:48:09.145Z"
   },
   {
    "duration": 429,
    "start_time": "2021-12-02T13:48:18.171Z"
   },
   {
    "duration": 4,
    "start_time": "2021-12-02T13:49:33.439Z"
   },
   {
    "duration": 367,
    "start_time": "2021-12-02T13:49:35.035Z"
   },
   {
    "duration": 5,
    "start_time": "2021-12-02T13:49:52.078Z"
   },
   {
    "duration": 355,
    "start_time": "2021-12-02T13:49:54.279Z"
   },
   {
    "duration": 5,
    "start_time": "2021-12-02T13:50:16.115Z"
   },
   {
    "duration": 367,
    "start_time": "2021-12-02T13:50:17.340Z"
   },
   {
    "duration": 4,
    "start_time": "2021-12-02T13:52:11.370Z"
   },
   {
    "duration": 362,
    "start_time": "2021-12-02T13:52:12.984Z"
   },
   {
    "duration": 5,
    "start_time": "2021-12-02T13:52:28.178Z"
   },
   {
    "duration": 356,
    "start_time": "2021-12-02T13:52:29.542Z"
   },
   {
    "duration": 5,
    "start_time": "2021-12-02T13:53:48.308Z"
   },
   {
    "duration": 429,
    "start_time": "2021-12-02T13:53:50.160Z"
   },
   {
    "duration": 5,
    "start_time": "2021-12-02T13:54:26.481Z"
   },
   {
    "duration": 370,
    "start_time": "2021-12-02T13:54:27.923Z"
   },
   {
    "duration": 4,
    "start_time": "2021-12-02T13:54:35.244Z"
   },
   {
    "duration": 359,
    "start_time": "2021-12-02T13:54:36.517Z"
   },
   {
    "duration": 63,
    "start_time": "2021-12-02T13:55:10.135Z"
   },
   {
    "duration": 4,
    "start_time": "2021-12-02T13:55:20.323Z"
   },
   {
    "duration": 355,
    "start_time": "2021-12-02T13:55:22.088Z"
   },
   {
    "duration": 4,
    "start_time": "2021-12-02T13:55:30.413Z"
   },
   {
    "duration": 370,
    "start_time": "2021-12-02T13:55:31.861Z"
   },
   {
    "duration": 56,
    "start_time": "2021-12-02T13:55:52.192Z"
   },
   {
    "duration": 5,
    "start_time": "2021-12-02T13:55:54.235Z"
   },
   {
    "duration": 358,
    "start_time": "2021-12-02T13:55:56.157Z"
   },
   {
    "duration": 66,
    "start_time": "2021-12-02T13:56:33.845Z"
   },
   {
    "duration": 5,
    "start_time": "2021-12-02T13:56:37.337Z"
   },
   {
    "duration": 359,
    "start_time": "2021-12-02T13:56:38.563Z"
   },
   {
    "duration": 4,
    "start_time": "2021-12-02T13:56:52.103Z"
   },
   {
    "duration": 421,
    "start_time": "2021-12-02T13:56:53.539Z"
   },
   {
    "duration": 348,
    "start_time": "2021-12-02T13:57:49.407Z"
   },
   {
    "duration": 355,
    "start_time": "2021-12-02T13:57:52.465Z"
   },
   {
    "duration": 333,
    "start_time": "2021-12-02T14:32:57.944Z"
   },
   {
    "duration": 370,
    "start_time": "2021-12-02T14:33:10.858Z"
   },
   {
    "duration": 2946,
    "start_time": "2021-12-02T14:34:09.303Z"
   },
   {
    "duration": 244,
    "start_time": "2021-12-02T14:34:12.007Z"
   },
   {
    "duration": 242,
    "start_time": "2021-12-02T14:34:12.010Z"
   },
   {
    "duration": 626,
    "start_time": "2021-12-02T14:34:21.624Z"
   },
   {
    "duration": 436,
    "start_time": "2021-12-02T14:34:22.252Z"
   },
   {
    "duration": 4,
    "start_time": "2021-12-02T14:34:22.690Z"
   },
   {
    "duration": 54,
    "start_time": "2021-12-02T14:34:22.696Z"
   },
   {
    "duration": 247,
    "start_time": "2021-12-02T14:34:22.752Z"
   },
   {
    "duration": 101,
    "start_time": "2021-12-02T14:34:23.001Z"
   },
   {
    "duration": 165,
    "start_time": "2021-12-02T14:34:23.103Z"
   },
   {
    "duration": 58,
    "start_time": "2021-12-02T14:34:23.270Z"
   },
   {
    "duration": 5,
    "start_time": "2021-12-02T14:34:23.330Z"
   },
   {
    "duration": 59,
    "start_time": "2021-12-02T14:34:23.337Z"
   },
   {
    "duration": 21,
    "start_time": "2021-12-02T14:34:23.397Z"
   },
   {
    "duration": 25,
    "start_time": "2021-12-02T14:34:23.420Z"
   },
   {
    "duration": 13,
    "start_time": "2021-12-02T14:34:23.446Z"
   },
   {
    "duration": 35,
    "start_time": "2021-12-02T14:34:23.461Z"
   },
   {
    "duration": 77,
    "start_time": "2021-12-02T14:34:23.497Z"
   },
   {
    "duration": 26,
    "start_time": "2021-12-02T14:34:23.576Z"
   },
   {
    "duration": 41,
    "start_time": "2021-12-02T14:34:23.604Z"
   },
   {
    "duration": 10,
    "start_time": "2021-12-02T14:34:23.647Z"
   },
   {
    "duration": 18,
    "start_time": "2021-12-02T14:34:23.659Z"
   },
   {
    "duration": 23,
    "start_time": "2021-12-02T14:34:23.678Z"
   },
   {
    "duration": 26,
    "start_time": "2021-12-02T14:34:23.703Z"
   },
   {
    "duration": 21,
    "start_time": "2021-12-02T14:34:23.731Z"
   },
   {
    "duration": 18,
    "start_time": "2021-12-02T14:34:23.755Z"
   },
   {
    "duration": 47,
    "start_time": "2021-12-02T14:34:23.775Z"
   },
   {
    "duration": 44,
    "start_time": "2021-12-02T14:34:23.823Z"
   },
   {
    "duration": 13,
    "start_time": "2021-12-02T14:34:23.869Z"
   },
   {
    "duration": 64,
    "start_time": "2021-12-02T14:34:23.883Z"
   },
   {
    "duration": 16,
    "start_time": "2021-12-02T14:34:23.949Z"
   },
   {
    "duration": 23,
    "start_time": "2021-12-02T14:34:23.966Z"
   },
   {
    "duration": 51,
    "start_time": "2021-12-02T14:34:23.991Z"
   },
   {
    "duration": 12,
    "start_time": "2021-12-02T14:34:24.044Z"
   },
   {
    "duration": 35,
    "start_time": "2021-12-02T14:34:24.058Z"
   },
   {
    "duration": 22,
    "start_time": "2021-12-02T14:34:24.095Z"
   },
   {
    "duration": 38,
    "start_time": "2021-12-02T14:34:24.119Z"
   },
   {
    "duration": 22,
    "start_time": "2021-12-02T14:34:24.159Z"
   },
   {
    "duration": 24,
    "start_time": "2021-12-02T14:34:24.183Z"
   },
   {
    "duration": 7,
    "start_time": "2021-12-02T14:34:24.209Z"
   },
   {
    "duration": 33,
    "start_time": "2021-12-02T14:34:24.218Z"
   },
   {
    "duration": 111,
    "start_time": "2021-12-02T14:34:24.253Z"
   },
   {
    "duration": 27,
    "start_time": "2021-12-02T14:34:24.366Z"
   },
   {
    "duration": 14,
    "start_time": "2021-12-02T14:34:24.394Z"
   },
   {
    "duration": 37,
    "start_time": "2021-12-02T14:34:24.410Z"
   },
   {
    "duration": 16,
    "start_time": "2021-12-02T14:34:24.449Z"
   },
   {
    "duration": 23,
    "start_time": "2021-12-02T14:34:24.466Z"
   },
   {
    "duration": 398,
    "start_time": "2021-12-02T14:34:24.491Z"
   },
   {
    "duration": 351,
    "start_time": "2021-12-02T14:34:24.891Z"
   },
   {
    "duration": 414,
    "start_time": "2021-12-02T14:34:25.244Z"
   },
   {
    "duration": 3261,
    "start_time": "2021-12-02T14:34:25.660Z"
   },
   {
    "duration": -148,
    "start_time": "2021-12-02T14:34:29.071Z"
   },
   {
    "duration": -150,
    "start_time": "2021-12-02T14:34:29.074Z"
   },
   {
    "duration": 3040,
    "start_time": "2021-12-02T14:35:47.842Z"
   },
   {
    "duration": 264,
    "start_time": "2021-12-02T14:35:57.796Z"
   },
   {
    "duration": 2923,
    "start_time": "2021-12-02T14:37:15.269Z"
   },
   {
    "duration": 5,
    "start_time": "2021-12-02T14:37:54.270Z"
   },
   {
    "duration": 382,
    "start_time": "2021-12-02T14:37:57.289Z"
   },
   {
    "duration": 5,
    "start_time": "2021-12-02T14:38:03.712Z"
   },
   {
    "duration": 363,
    "start_time": "2021-12-02T14:38:08.285Z"
   },
   {
    "duration": 5,
    "start_time": "2021-12-02T14:38:13.136Z"
   },
   {
    "duration": 349,
    "start_time": "2021-12-02T14:38:15.700Z"
   },
   {
    "duration": 3106,
    "start_time": "2021-12-02T14:38:19.715Z"
   },
   {
    "duration": 354,
    "start_time": "2021-12-02T14:38:45.190Z"
   },
   {
    "duration": 5,
    "start_time": "2021-12-02T14:39:10.688Z"
   },
   {
    "duration": 354,
    "start_time": "2021-12-02T14:39:15.229Z"
   },
   {
    "duration": 3001,
    "start_time": "2021-12-02T14:39:16.787Z"
   },
   {
    "duration": 5,
    "start_time": "2021-12-02T14:39:43.758Z"
   },
   {
    "duration": 352,
    "start_time": "2021-12-02T14:39:45.459Z"
   },
   {
    "duration": 5,
    "start_time": "2021-12-02T14:40:35.154Z"
   },
   {
    "duration": 362,
    "start_time": "2021-12-02T14:40:37.118Z"
   },
   {
    "duration": 444,
    "start_time": "2021-12-02T14:40:42.449Z"
   },
   {
    "duration": 9,
    "start_time": "2021-12-02T14:41:03.909Z"
   },
   {
    "duration": 23,
    "start_time": "2021-12-02T14:41:06.320Z"
   },
   {
    "duration": 9,
    "start_time": "2021-12-02T14:41:16.734Z"
   },
   {
    "duration": 23,
    "start_time": "2021-12-02T14:41:18.586Z"
   },
   {
    "duration": 5,
    "start_time": "2021-12-02T14:41:31.585Z"
   },
   {
    "duration": 353,
    "start_time": "2021-12-02T14:41:34.181Z"
   },
   {
    "duration": 8,
    "start_time": "2021-12-02T14:41:42.131Z"
   },
   {
    "duration": 25,
    "start_time": "2021-12-02T14:41:43.796Z"
   },
   {
    "duration": 350,
    "start_time": "2021-12-02T14:41:54.265Z"
   },
   {
    "duration": 361,
    "start_time": "2021-12-02T14:41:54.987Z"
   },
   {
    "duration": 5,
    "start_time": "2021-12-02T14:44:00.422Z"
   },
   {
    "duration": 471,
    "start_time": "2021-12-02T14:44:03.101Z"
   },
   {
    "duration": 437,
    "start_time": "2021-12-02T14:44:04.520Z"
   },
   {
    "duration": 530,
    "start_time": "2021-12-02T14:44:05.554Z"
   },
   {
    "duration": 5,
    "start_time": "2021-12-02T14:44:11.497Z"
   },
   {
    "duration": 5,
    "start_time": "2021-12-02T14:44:12.482Z"
   },
   {
    "duration": 315,
    "start_time": "2021-12-02T14:44:13.120Z"
   },
   {
    "duration": 307,
    "start_time": "2021-12-02T14:44:14.230Z"
   },
   {
    "duration": 308,
    "start_time": "2021-12-02T14:44:15.198Z"
   },
   {
    "duration": 318,
    "start_time": "2021-12-02T14:44:16.267Z"
   },
   {
    "duration": 5,
    "start_time": "2021-12-02T14:44:22.172Z"
   },
   {
    "duration": 368,
    "start_time": "2021-12-02T14:44:22.778Z"
   },
   {
    "duration": 367,
    "start_time": "2021-12-02T14:44:23.685Z"
   },
   {
    "duration": 372,
    "start_time": "2021-12-02T14:44:24.532Z"
   },
   {
    "duration": 406,
    "start_time": "2021-12-02T14:44:25.811Z"
   },
   {
    "duration": 448,
    "start_time": "2021-12-02T14:44:26.689Z"
   },
   {
    "duration": 365,
    "start_time": "2021-12-02T14:44:27.517Z"
   },
   {
    "duration": 342,
    "start_time": "2021-12-02T14:45:28.145Z"
   },
   {
    "duration": 343,
    "start_time": "2021-12-02T14:45:55.538Z"
   },
   {
    "duration": 355,
    "start_time": "2021-12-02T14:46:14.118Z"
   },
   {
    "duration": 980,
    "start_time": "2021-12-03T10:40:56.772Z"
   },
   {
    "duration": 319,
    "start_time": "2021-12-03T10:45:27.203Z"
   },
   {
    "duration": 1004,
    "start_time": "2021-12-03T10:45:41.248Z"
   },
   {
    "duration": 357,
    "start_time": "2021-12-03T10:45:42.253Z"
   },
   {
    "duration": 4,
    "start_time": "2021-12-03T10:45:42.612Z"
   },
   {
    "duration": 39,
    "start_time": "2021-12-03T10:45:42.618Z"
   },
   {
    "duration": 173,
    "start_time": "2021-12-03T10:45:42.658Z"
   },
   {
    "duration": 89,
    "start_time": "2021-12-03T10:45:42.832Z"
   },
   {
    "duration": 136,
    "start_time": "2021-12-03T10:45:42.923Z"
   },
   {
    "duration": 53,
    "start_time": "2021-12-03T10:45:43.061Z"
   },
   {
    "duration": 5,
    "start_time": "2021-12-03T10:45:43.116Z"
   },
   {
    "duration": 30,
    "start_time": "2021-12-03T10:45:43.123Z"
   },
   {
    "duration": 42,
    "start_time": "2021-12-03T10:45:43.154Z"
   },
   {
    "duration": 19,
    "start_time": "2021-12-03T10:45:43.198Z"
   },
   {
    "duration": 8,
    "start_time": "2021-12-03T10:45:43.218Z"
   },
   {
    "duration": 14,
    "start_time": "2021-12-03T10:45:43.227Z"
   },
   {
    "duration": 84,
    "start_time": "2021-12-03T10:45:43.242Z"
   },
   {
    "duration": 16,
    "start_time": "2021-12-03T10:45:43.327Z"
   },
   {
    "duration": 11,
    "start_time": "2021-12-03T10:45:43.345Z"
   },
   {
    "duration": 13,
    "start_time": "2021-12-03T10:45:43.358Z"
   },
   {
    "duration": 16,
    "start_time": "2021-12-03T10:45:43.372Z"
   },
   {
    "duration": 4,
    "start_time": "2021-12-03T10:45:43.390Z"
   },
   {
    "duration": 11,
    "start_time": "2021-12-03T10:45:43.396Z"
   },
   {
    "duration": 11,
    "start_time": "2021-12-03T10:45:43.409Z"
   },
   {
    "duration": 9,
    "start_time": "2021-12-03T10:45:43.424Z"
   },
   {
    "duration": 10,
    "start_time": "2021-12-03T10:45:43.435Z"
   },
   {
    "duration": 57,
    "start_time": "2021-12-03T10:45:43.447Z"
   },
   {
    "duration": 13,
    "start_time": "2021-12-03T10:45:43.505Z"
   },
   {
    "duration": 37,
    "start_time": "2021-12-03T10:45:43.519Z"
   },
   {
    "duration": 38,
    "start_time": "2021-12-03T10:45:43.557Z"
   },
   {
    "duration": 12,
    "start_time": "2021-12-03T10:45:43.597Z"
   },
   {
    "duration": 26,
    "start_time": "2021-12-03T10:45:43.610Z"
   },
   {
    "duration": 10,
    "start_time": "2021-12-03T10:45:43.638Z"
   },
   {
    "duration": 44,
    "start_time": "2021-12-03T10:45:43.650Z"
   },
   {
    "duration": 15,
    "start_time": "2021-12-03T10:45:43.696Z"
   },
   {
    "duration": 23,
    "start_time": "2021-12-03T10:45:43.712Z"
   },
   {
    "duration": 20,
    "start_time": "2021-12-03T10:45:43.737Z"
   },
   {
    "duration": 45,
    "start_time": "2021-12-03T10:45:43.759Z"
   },
   {
    "duration": 6,
    "start_time": "2021-12-03T10:45:43.805Z"
   },
   {
    "duration": 15,
    "start_time": "2021-12-03T10:45:43.813Z"
   },
   {
    "duration": 105,
    "start_time": "2021-12-03T10:45:43.829Z"
   },
   {
    "duration": 17,
    "start_time": "2021-12-03T10:45:43.936Z"
   },
   {
    "duration": 8,
    "start_time": "2021-12-03T10:45:43.954Z"
   },
   {
    "duration": 34,
    "start_time": "2021-12-03T10:45:43.963Z"
   },
   {
    "duration": 3,
    "start_time": "2021-12-03T10:45:43.999Z"
   },
   {
    "duration": 5,
    "start_time": "2021-12-03T10:45:44.003Z"
   },
   {
    "duration": 335,
    "start_time": "2021-12-03T10:45:44.009Z"
   },
   {
    "duration": 325,
    "start_time": "2021-12-03T10:45:44.346Z"
   },
   {
    "duration": 328,
    "start_time": "2021-12-03T10:45:44.673Z"
   },
   {
    "duration": 316,
    "start_time": "2021-12-03T10:45:45.003Z"
   },
   {
    "duration": 315,
    "start_time": "2021-12-03T10:45:45.321Z"
   },
   {
    "duration": 332,
    "start_time": "2021-12-03T10:45:45.638Z"
   },
   {
    "duration": 386,
    "start_time": "2021-12-03T10:45:45.972Z"
   },
   {
    "duration": 307,
    "start_time": "2021-12-03T10:45:46.360Z"
   },
   {
    "duration": 5,
    "start_time": "2021-12-03T10:45:46.668Z"
   },
   {
    "duration": 7,
    "start_time": "2021-12-03T10:48:28.189Z"
   },
   {
    "duration": 17,
    "start_time": "2021-12-03T10:51:47.463Z"
   },
   {
    "duration": 24,
    "start_time": "2021-12-03T10:52:09.581Z"
   },
   {
    "duration": 17,
    "start_time": "2021-12-03T10:52:31.584Z"
   },
   {
    "duration": 361,
    "start_time": "2021-12-03T10:53:10.469Z"
   },
   {
    "duration": 4,
    "start_time": "2021-12-03T10:53:20.668Z"
   },
   {
    "duration": 18,
    "start_time": "2021-12-03T10:53:25.713Z"
   },
   {
    "duration": 6,
    "start_time": "2021-12-03T10:53:50.176Z"
   },
   {
    "duration": 16,
    "start_time": "2021-12-03T10:53:55.305Z"
   },
   {
    "duration": 4,
    "start_time": "2021-12-03T10:54:23.776Z"
   },
   {
    "duration": 9,
    "start_time": "2021-12-03T10:59:16.596Z"
   },
   {
    "duration": 4,
    "start_time": "2021-12-03T10:59:44.758Z"
   },
   {
    "duration": 5,
    "start_time": "2021-12-03T10:59:56.775Z"
   },
   {
    "duration": 3334,
    "start_time": "2021-12-03T11:00:41.006Z"
   },
   {
    "duration": 251,
    "start_time": "2021-12-03T11:01:01.206Z"
   },
   {
    "duration": 252,
    "start_time": "2021-12-03T11:01:09.498Z"
   },
   {
    "duration": 968,
    "start_time": "2021-12-03T11:01:14.523Z"
   },
   {
    "duration": 351,
    "start_time": "2021-12-03T11:01:15.492Z"
   },
   {
    "duration": 4,
    "start_time": "2021-12-03T11:01:15.845Z"
   },
   {
    "duration": 43,
    "start_time": "2021-12-03T11:01:15.850Z"
   },
   {
    "duration": 193,
    "start_time": "2021-12-03T11:01:15.895Z"
   },
   {
    "duration": 73,
    "start_time": "2021-12-03T11:01:16.090Z"
   },
   {
    "duration": 133,
    "start_time": "2021-12-03T11:01:16.188Z"
   },
   {
    "duration": 37,
    "start_time": "2021-12-03T11:01:16.324Z"
   },
   {
    "duration": 6,
    "start_time": "2021-12-03T11:01:16.388Z"
   },
   {
    "duration": 42,
    "start_time": "2021-12-03T11:01:16.396Z"
   },
   {
    "duration": 26,
    "start_time": "2021-12-03T11:01:16.440Z"
   },
   {
    "duration": 31,
    "start_time": "2021-12-03T11:01:16.488Z"
   },
   {
    "duration": 9,
    "start_time": "2021-12-03T11:01:16.521Z"
   },
   {
    "duration": 15,
    "start_time": "2021-12-03T11:01:16.532Z"
   },
   {
    "duration": 128,
    "start_time": "2021-12-03T11:01:16.549Z"
   },
   {
    "duration": 20,
    "start_time": "2021-12-03T11:01:16.680Z"
   },
   {
    "duration": 16,
    "start_time": "2021-12-03T11:01:16.702Z"
   },
   {
    "duration": 12,
    "start_time": "2021-12-03T11:01:16.720Z"
   },
   {
    "duration": 4,
    "start_time": "2021-12-03T11:01:16.734Z"
   },
   {
    "duration": 3,
    "start_time": "2021-12-03T11:01:16.740Z"
   },
   {
    "duration": 12,
    "start_time": "2021-12-03T11:01:16.744Z"
   },
   {
    "duration": 38,
    "start_time": "2021-12-03T11:01:16.757Z"
   },
   {
    "duration": 8,
    "start_time": "2021-12-03T11:01:16.799Z"
   },
   {
    "duration": 10,
    "start_time": "2021-12-03T11:01:16.809Z"
   },
   {
    "duration": 20,
    "start_time": "2021-12-03T11:01:16.821Z"
   },
   {
    "duration": 46,
    "start_time": "2021-12-03T11:01:16.843Z"
   },
   {
    "duration": 37,
    "start_time": "2021-12-03T11:01:16.890Z"
   },
   {
    "duration": 13,
    "start_time": "2021-12-03T11:01:16.928Z"
   },
   {
    "duration": 10,
    "start_time": "2021-12-03T11:01:16.942Z"
   },
   {
    "duration": 49,
    "start_time": "2021-12-03T11:01:16.953Z"
   },
   {
    "duration": 10,
    "start_time": "2021-12-03T11:01:17.003Z"
   },
   {
    "duration": 14,
    "start_time": "2021-12-03T11:01:17.015Z"
   },
   {
    "duration": 10,
    "start_time": "2021-12-03T11:01:17.031Z"
   },
   {
    "duration": 47,
    "start_time": "2021-12-03T11:01:17.043Z"
   },
   {
    "duration": 19,
    "start_time": "2021-12-03T11:01:17.092Z"
   },
   {
    "duration": 18,
    "start_time": "2021-12-03T11:01:17.112Z"
   },
   {
    "duration": 5,
    "start_time": "2021-12-03T11:01:17.132Z"
   },
   {
    "duration": 16,
    "start_time": "2021-12-03T11:01:17.138Z"
   },
   {
    "duration": 107,
    "start_time": "2021-12-03T11:01:17.156Z"
   },
   {
    "duration": 25,
    "start_time": "2021-12-03T11:01:17.264Z"
   },
   {
    "duration": 7,
    "start_time": "2021-12-03T11:01:17.291Z"
   },
   {
    "duration": 19,
    "start_time": "2021-12-03T11:01:17.299Z"
   },
   {
    "duration": 4,
    "start_time": "2021-12-03T11:01:17.319Z"
   },
   {
    "duration": 4,
    "start_time": "2021-12-03T11:01:17.324Z"
   },
   {
    "duration": 335,
    "start_time": "2021-12-03T11:01:17.330Z"
   },
   {
    "duration": 290,
    "start_time": "2021-12-03T11:01:17.667Z"
   },
   {
    "duration": 315,
    "start_time": "2021-12-03T11:01:17.958Z"
   },
   {
    "duration": 295,
    "start_time": "2021-12-03T11:01:18.275Z"
   },
   {
    "duration": 308,
    "start_time": "2021-12-03T11:01:18.572Z"
   },
   {
    "duration": 316,
    "start_time": "2021-12-03T11:01:18.881Z"
   },
   {
    "duration": 380,
    "start_time": "2021-12-03T11:01:19.199Z"
   },
   {
    "duration": 310,
    "start_time": "2021-12-03T11:01:19.580Z"
   },
   {
    "duration": 5,
    "start_time": "2021-12-03T11:01:19.892Z"
   },
   {
    "duration": 18,
    "start_time": "2021-12-03T11:01:19.899Z"
   },
   {
    "duration": 5,
    "start_time": "2021-12-03T11:01:19.919Z"
   },
   {
    "duration": 6,
    "start_time": "2021-12-03T11:01:19.925Z"
   },
   {
    "duration": 6,
    "start_time": "2021-12-03T11:01:19.933Z"
   },
   {
    "duration": 6,
    "start_time": "2021-12-03T11:01:19.941Z"
   },
   {
    "duration": 341,
    "start_time": "2021-12-03T11:01:19.948Z"
   },
   {
    "duration": 36,
    "start_time": "2021-12-03T11:01:20.255Z"
   },
   {
    "duration": 4161,
    "start_time": "2021-12-03T11:01:43.058Z"
   },
   {
    "duration": 323,
    "start_time": "2021-12-03T11:02:29.604Z"
   },
   {
    "duration": 938,
    "start_time": "2021-12-03T11:02:39.524Z"
   },
   {
    "duration": 368,
    "start_time": "2021-12-03T11:02:40.465Z"
   },
   {
    "duration": 4,
    "start_time": "2021-12-03T11:02:40.835Z"
   },
   {
    "duration": 43,
    "start_time": "2021-12-03T11:02:40.840Z"
   },
   {
    "duration": 194,
    "start_time": "2021-12-03T11:02:40.885Z"
   },
   {
    "duration": 75,
    "start_time": "2021-12-03T11:02:41.088Z"
   },
   {
    "duration": 159,
    "start_time": "2021-12-03T11:02:41.187Z"
   },
   {
    "duration": 70,
    "start_time": "2021-12-03T11:02:41.349Z"
   },
   {
    "duration": 6,
    "start_time": "2021-12-03T11:02:41.422Z"
   },
   {
    "duration": 63,
    "start_time": "2021-12-03T11:02:41.430Z"
   },
   {
    "duration": 25,
    "start_time": "2021-12-03T11:02:41.495Z"
   },
   {
    "duration": 30,
    "start_time": "2021-12-03T11:02:41.522Z"
   },
   {
    "duration": 7,
    "start_time": "2021-12-03T11:02:41.554Z"
   },
   {
    "duration": 28,
    "start_time": "2021-12-03T11:02:41.563Z"
   },
   {
    "duration": 61,
    "start_time": "2021-12-03T11:02:41.593Z"
   },
   {
    "duration": 33,
    "start_time": "2021-12-03T11:02:41.655Z"
   },
   {
    "duration": 12,
    "start_time": "2021-12-03T11:02:41.690Z"
   },
   {
    "duration": 11,
    "start_time": "2021-12-03T11:02:41.703Z"
   },
   {
    "duration": 3,
    "start_time": "2021-12-03T11:02:41.716Z"
   },
   {
    "duration": 3,
    "start_time": "2021-12-03T11:02:41.721Z"
   },
   {
    "duration": 11,
    "start_time": "2021-12-03T11:02:41.726Z"
   },
   {
    "duration": 10,
    "start_time": "2021-12-03T11:02:41.738Z"
   },
   {
    "duration": 8,
    "start_time": "2021-12-03T11:02:41.751Z"
   },
   {
    "duration": 36,
    "start_time": "2021-12-03T11:02:41.761Z"
   },
   {
    "duration": 21,
    "start_time": "2021-12-03T11:02:41.799Z"
   },
   {
    "duration": 12,
    "start_time": "2021-12-03T11:02:41.822Z"
   },
   {
    "duration": 62,
    "start_time": "2021-12-03T11:02:41.835Z"
   },
   {
    "duration": 16,
    "start_time": "2021-12-03T11:02:41.899Z"
   },
   {
    "duration": 13,
    "start_time": "2021-12-03T11:02:41.917Z"
   },
   {
    "duration": 26,
    "start_time": "2021-12-03T11:02:41.931Z"
   },
   {
    "duration": 35,
    "start_time": "2021-12-03T11:02:41.958Z"
   },
   {
    "duration": 15,
    "start_time": "2021-12-03T11:02:41.995Z"
   },
   {
    "duration": 11,
    "start_time": "2021-12-03T11:02:42.011Z"
   },
   {
    "duration": 23,
    "start_time": "2021-12-03T11:02:42.024Z"
   },
   {
    "duration": 54,
    "start_time": "2021-12-03T11:02:42.048Z"
   },
   {
    "duration": 22,
    "start_time": "2021-12-03T11:02:42.103Z"
   },
   {
    "duration": 7,
    "start_time": "2021-12-03T11:02:42.126Z"
   },
   {
    "duration": 23,
    "start_time": "2021-12-03T11:02:42.134Z"
   },
   {
    "duration": 105,
    "start_time": "2021-12-03T11:02:42.159Z"
   },
   {
    "duration": 23,
    "start_time": "2021-12-03T11:02:42.266Z"
   },
   {
    "duration": 9,
    "start_time": "2021-12-03T11:02:42.290Z"
   },
   {
    "duration": 35,
    "start_time": "2021-12-03T11:02:42.300Z"
   },
   {
    "duration": 4,
    "start_time": "2021-12-03T11:02:42.337Z"
   },
   {
    "duration": 11,
    "start_time": "2021-12-03T11:02:42.342Z"
   },
   {
    "duration": 312,
    "start_time": "2021-12-03T11:02:42.355Z"
   },
   {
    "duration": 298,
    "start_time": "2021-12-03T11:02:42.668Z"
   },
   {
    "duration": 305,
    "start_time": "2021-12-03T11:02:42.968Z"
   },
   {
    "duration": 294,
    "start_time": "2021-12-03T11:02:43.275Z"
   },
   {
    "duration": 316,
    "start_time": "2021-12-03T11:02:43.572Z"
   },
   {
    "duration": 312,
    "start_time": "2021-12-03T11:02:43.889Z"
   },
   {
    "duration": 372,
    "start_time": "2021-12-03T11:02:44.203Z"
   },
   {
    "duration": 305,
    "start_time": "2021-12-03T11:02:44.577Z"
   },
   {
    "duration": 4,
    "start_time": "2021-12-03T11:02:44.888Z"
   },
   {
    "duration": 20,
    "start_time": "2021-12-03T11:02:44.894Z"
   },
   {
    "duration": 4,
    "start_time": "2021-12-03T11:02:44.915Z"
   },
   {
    "duration": 14,
    "start_time": "2021-12-03T11:02:44.920Z"
   },
   {
    "duration": 10,
    "start_time": "2021-12-03T11:02:44.936Z"
   },
   {
    "duration": 22,
    "start_time": "2021-12-03T11:02:44.947Z"
   },
   {
    "duration": 358,
    "start_time": "2021-12-03T11:02:44.970Z"
   },
   {
    "duration": 30,
    "start_time": "2021-12-03T11:02:45.300Z"
   },
   {
    "duration": 9,
    "start_time": "2021-12-03T11:03:06.245Z"
   },
   {
    "duration": 6,
    "start_time": "2021-12-03T11:03:15.342Z"
   },
   {
    "duration": 8,
    "start_time": "2021-12-03T11:03:47.236Z"
   },
   {
    "duration": 5,
    "start_time": "2021-12-03T11:03:55.944Z"
   },
   {
    "duration": 972,
    "start_time": "2021-12-03T11:04:53.037Z"
   },
   {
    "duration": 378,
    "start_time": "2021-12-03T11:04:54.010Z"
   },
   {
    "duration": 4,
    "start_time": "2021-12-03T11:04:54.390Z"
   },
   {
    "duration": 45,
    "start_time": "2021-12-03T11:04:54.396Z"
   },
   {
    "duration": 200,
    "start_time": "2021-12-03T11:04:54.443Z"
   },
   {
    "duration": 88,
    "start_time": "2021-12-03T11:04:54.645Z"
   },
   {
    "duration": 156,
    "start_time": "2021-12-03T11:04:54.735Z"
   },
   {
    "duration": 41,
    "start_time": "2021-12-03T11:04:54.894Z"
   },
   {
    "duration": 5,
    "start_time": "2021-12-03T11:04:54.937Z"
   },
   {
    "duration": 62,
    "start_time": "2021-12-03T11:04:54.944Z"
   },
   {
    "duration": 21,
    "start_time": "2021-12-03T11:04:55.007Z"
   },
   {
    "duration": 20,
    "start_time": "2021-12-03T11:04:55.029Z"
   },
   {
    "duration": 8,
    "start_time": "2021-12-03T11:04:55.050Z"
   },
   {
    "duration": 34,
    "start_time": "2021-12-03T11:04:55.059Z"
   },
   {
    "duration": 63,
    "start_time": "2021-12-03T11:04:55.095Z"
   },
   {
    "duration": 33,
    "start_time": "2021-12-03T11:04:55.159Z"
   },
   {
    "duration": 13,
    "start_time": "2021-12-03T11:04:55.194Z"
   },
   {
    "duration": 13,
    "start_time": "2021-12-03T11:04:55.209Z"
   },
   {
    "duration": 4,
    "start_time": "2021-12-03T11:04:55.224Z"
   },
   {
    "duration": 4,
    "start_time": "2021-12-03T11:04:55.230Z"
   },
   {
    "duration": 12,
    "start_time": "2021-12-03T11:04:55.235Z"
   },
   {
    "duration": 11,
    "start_time": "2021-12-03T11:04:55.248Z"
   },
   {
    "duration": 9,
    "start_time": "2021-12-03T11:04:55.287Z"
   },
   {
    "duration": 11,
    "start_time": "2021-12-03T11:04:55.298Z"
   },
   {
    "duration": 21,
    "start_time": "2021-12-03T11:04:55.311Z"
   },
   {
    "duration": 11,
    "start_time": "2021-12-03T11:04:55.333Z"
   },
   {
    "duration": 62,
    "start_time": "2021-12-03T11:04:55.345Z"
   },
   {
    "duration": 14,
    "start_time": "2021-12-03T11:04:55.408Z"
   },
   {
    "duration": 13,
    "start_time": "2021-12-03T11:04:55.424Z"
   },
   {
    "duration": 28,
    "start_time": "2021-12-03T11:04:55.438Z"
   },
   {
    "duration": 10,
    "start_time": "2021-12-03T11:04:55.488Z"
   },
   {
    "duration": 19,
    "start_time": "2021-12-03T11:04:55.500Z"
   },
   {
    "duration": 12,
    "start_time": "2021-12-03T11:04:55.520Z"
   },
   {
    "duration": 40,
    "start_time": "2021-12-03T11:04:55.534Z"
   },
   {
    "duration": 27,
    "start_time": "2021-12-03T11:04:55.576Z"
   },
   {
    "duration": 19,
    "start_time": "2021-12-03T11:04:55.605Z"
   },
   {
    "duration": 22,
    "start_time": "2021-12-03T11:04:55.626Z"
   },
   {
    "duration": 20,
    "start_time": "2021-12-03T11:04:55.650Z"
   },
   {
    "duration": 110,
    "start_time": "2021-12-03T11:04:55.671Z"
   },
   {
    "duration": 22,
    "start_time": "2021-12-03T11:04:55.783Z"
   },
   {
    "duration": 17,
    "start_time": "2021-12-03T11:04:55.807Z"
   },
   {
    "duration": 34,
    "start_time": "2021-12-03T11:04:55.826Z"
   },
   {
    "duration": 4,
    "start_time": "2021-12-03T11:04:55.861Z"
   },
   {
    "duration": 10,
    "start_time": "2021-12-03T11:04:55.867Z"
   },
   {
    "duration": 360,
    "start_time": "2021-12-03T11:04:55.879Z"
   },
   {
    "duration": 318,
    "start_time": "2021-12-03T11:04:56.241Z"
   },
   {
    "duration": 346,
    "start_time": "2021-12-03T11:04:56.561Z"
   },
   {
    "duration": 313,
    "start_time": "2021-12-03T11:04:56.909Z"
   },
   {
    "duration": 318,
    "start_time": "2021-12-03T11:04:57.224Z"
   },
   {
    "duration": 314,
    "start_time": "2021-12-03T11:04:57.544Z"
   },
   {
    "duration": 386,
    "start_time": "2021-12-03T11:04:57.860Z"
   },
   {
    "duration": 314,
    "start_time": "2021-12-03T11:04:58.248Z"
   },
   {
    "duration": 5,
    "start_time": "2021-12-03T11:04:58.564Z"
   },
   {
    "duration": 29,
    "start_time": "2021-12-03T11:04:58.570Z"
   },
   {
    "duration": 10,
    "start_time": "2021-12-03T11:04:58.601Z"
   },
   {
    "duration": 13,
    "start_time": "2021-12-03T11:04:58.612Z"
   },
   {
    "duration": 7,
    "start_time": "2021-12-03T11:04:58.626Z"
   },
   {
    "duration": 6,
    "start_time": "2021-12-03T11:04:58.634Z"
   },
   {
    "duration": 6,
    "start_time": "2021-12-03T11:04:58.641Z"
   },
   {
    "duration": 7,
    "start_time": "2021-12-03T11:04:58.649Z"
   },
   {
    "duration": 1056,
    "start_time": "2021-12-03T11:05:24.510Z"
   },
   {
    "duration": 377,
    "start_time": "2021-12-03T11:05:25.568Z"
   },
   {
    "duration": 4,
    "start_time": "2021-12-03T11:05:25.947Z"
   },
   {
    "duration": 46,
    "start_time": "2021-12-03T11:05:25.953Z"
   },
   {
    "duration": 195,
    "start_time": "2021-12-03T11:05:26.001Z"
   },
   {
    "duration": 104,
    "start_time": "2021-12-03T11:05:26.197Z"
   },
   {
    "duration": 143,
    "start_time": "2021-12-03T11:05:26.302Z"
   },
   {
    "duration": 57,
    "start_time": "2021-12-03T11:05:26.446Z"
   },
   {
    "duration": 5,
    "start_time": "2021-12-03T11:05:26.505Z"
   },
   {
    "duration": 33,
    "start_time": "2021-12-03T11:05:26.512Z"
   },
   {
    "duration": 47,
    "start_time": "2021-12-03T11:05:26.547Z"
   },
   {
    "duration": 21,
    "start_time": "2021-12-03T11:05:26.596Z"
   },
   {
    "duration": 8,
    "start_time": "2021-12-03T11:05:26.619Z"
   },
   {
    "duration": 17,
    "start_time": "2021-12-03T11:05:26.628Z"
   },
   {
    "duration": 75,
    "start_time": "2021-12-03T11:05:26.647Z"
   },
   {
    "duration": 15,
    "start_time": "2021-12-03T11:05:26.724Z"
   },
   {
    "duration": 12,
    "start_time": "2021-12-03T11:05:26.740Z"
   },
   {
    "duration": 17,
    "start_time": "2021-12-03T11:05:26.753Z"
   },
   {
    "duration": 2,
    "start_time": "2021-12-03T11:05:26.788Z"
   },
   {
    "duration": 5,
    "start_time": "2021-12-03T11:05:26.791Z"
   },
   {
    "duration": 15,
    "start_time": "2021-12-03T11:05:26.797Z"
   },
   {
    "duration": 11,
    "start_time": "2021-12-03T11:05:26.814Z"
   },
   {
    "duration": 9,
    "start_time": "2021-12-03T11:05:26.827Z"
   },
   {
    "duration": 17,
    "start_time": "2021-12-03T11:05:26.838Z"
   },
   {
    "duration": 46,
    "start_time": "2021-12-03T11:05:26.857Z"
   },
   {
    "duration": 13,
    "start_time": "2021-12-03T11:05:26.905Z"
   },
   {
    "duration": 42,
    "start_time": "2021-12-03T11:05:26.922Z"
   },
   {
    "duration": 31,
    "start_time": "2021-12-03T11:05:26.967Z"
   },
   {
    "duration": 12,
    "start_time": "2021-12-03T11:05:27.000Z"
   },
   {
    "duration": 25,
    "start_time": "2021-12-03T11:05:27.013Z"
   },
   {
    "duration": 11,
    "start_time": "2021-12-03T11:05:27.040Z"
   },
   {
    "duration": 47,
    "start_time": "2021-12-03T11:05:27.052Z"
   },
   {
    "duration": 14,
    "start_time": "2021-12-03T11:05:27.101Z"
   },
   {
    "duration": 32,
    "start_time": "2021-12-03T11:05:27.117Z"
   },
   {
    "duration": 51,
    "start_time": "2021-12-03T11:05:27.151Z"
   },
   {
    "duration": 19,
    "start_time": "2021-12-03T11:05:27.204Z"
   },
   {
    "duration": 6,
    "start_time": "2021-12-03T11:05:27.225Z"
   },
   {
    "duration": 15,
    "start_time": "2021-12-03T11:05:27.232Z"
   },
   {
    "duration": 112,
    "start_time": "2021-12-03T11:05:27.248Z"
   },
   {
    "duration": 27,
    "start_time": "2021-12-03T11:05:27.361Z"
   },
   {
    "duration": 7,
    "start_time": "2021-12-03T11:05:27.390Z"
   },
   {
    "duration": 20,
    "start_time": "2021-12-03T11:05:27.399Z"
   },
   {
    "duration": 4,
    "start_time": "2021-12-03T11:05:27.420Z"
   },
   {
    "duration": 4,
    "start_time": "2021-12-03T11:05:27.426Z"
   },
   {
    "duration": 347,
    "start_time": "2021-12-03T11:05:27.431Z"
   },
   {
    "duration": 286,
    "start_time": "2021-12-03T11:05:27.780Z"
   },
   {
    "duration": 313,
    "start_time": "2021-12-03T11:05:28.068Z"
   },
   {
    "duration": 295,
    "start_time": "2021-12-03T11:05:28.383Z"
   },
   {
    "duration": 320,
    "start_time": "2021-12-03T11:05:28.680Z"
   },
   {
    "duration": 308,
    "start_time": "2021-12-03T11:05:29.001Z"
   },
   {
    "duration": 380,
    "start_time": "2021-12-03T11:05:29.311Z"
   },
   {
    "duration": 307,
    "start_time": "2021-12-03T11:05:29.692Z"
   },
   {
    "duration": 5,
    "start_time": "2021-12-03T11:05:30.002Z"
   },
   {
    "duration": 36,
    "start_time": "2021-12-03T11:05:30.009Z"
   },
   {
    "duration": 5,
    "start_time": "2021-12-03T11:05:30.047Z"
   },
   {
    "duration": 6,
    "start_time": "2021-12-03T11:05:30.054Z"
   },
   {
    "duration": 8,
    "start_time": "2021-12-03T11:05:30.062Z"
   },
   {
    "duration": 19,
    "start_time": "2021-12-03T11:05:30.072Z"
   },
   {
    "duration": 11,
    "start_time": "2021-12-03T11:05:30.093Z"
   },
   {
    "duration": 6,
    "start_time": "2021-12-03T11:05:30.106Z"
   },
   {
    "duration": 5,
    "start_time": "2021-12-03T11:05:30.114Z"
   },
   {
    "duration": 10,
    "start_time": "2021-12-03T11:05:47.564Z"
   },
   {
    "duration": 11,
    "start_time": "2021-12-03T11:05:57.227Z"
   },
   {
    "duration": 1027,
    "start_time": "2021-12-03T11:06:09.127Z"
   },
   {
    "duration": 378,
    "start_time": "2021-12-03T11:06:10.156Z"
   },
   {
    "duration": 4,
    "start_time": "2021-12-03T11:06:10.536Z"
   },
   {
    "duration": 56,
    "start_time": "2021-12-03T11:06:10.542Z"
   },
   {
    "duration": 199,
    "start_time": "2021-12-03T11:06:10.599Z"
   },
   {
    "duration": 136,
    "start_time": "2021-12-03T11:06:10.799Z"
   },
   {
    "duration": 218,
    "start_time": "2021-12-03T11:06:10.936Z"
   },
   {
    "duration": 66,
    "start_time": "2021-12-03T11:06:11.157Z"
   },
   {
    "duration": 6,
    "start_time": "2021-12-03T11:06:11.226Z"
   },
   {
    "duration": 69,
    "start_time": "2021-12-03T11:06:11.234Z"
   },
   {
    "duration": 26,
    "start_time": "2021-12-03T11:06:11.305Z"
   },
   {
    "duration": 30,
    "start_time": "2021-12-03T11:06:11.333Z"
   },
   {
    "duration": 26,
    "start_time": "2021-12-03T11:06:11.365Z"
   },
   {
    "duration": 14,
    "start_time": "2021-12-03T11:06:11.393Z"
   },
   {
    "duration": 120,
    "start_time": "2021-12-03T11:06:11.408Z"
   },
   {
    "duration": 20,
    "start_time": "2021-12-03T11:06:11.530Z"
   },
   {
    "duration": 12,
    "start_time": "2021-12-03T11:06:11.552Z"
   },
   {
    "duration": 26,
    "start_time": "2021-12-03T11:06:11.566Z"
   },
   {
    "duration": 4,
    "start_time": "2021-12-03T11:06:11.594Z"
   },
   {
    "duration": 5,
    "start_time": "2021-12-03T11:06:11.599Z"
   },
   {
    "duration": 11,
    "start_time": "2021-12-03T11:06:11.605Z"
   },
   {
    "duration": 11,
    "start_time": "2021-12-03T11:06:11.618Z"
   },
   {
    "duration": 8,
    "start_time": "2021-12-03T11:06:11.633Z"
   },
   {
    "duration": 10,
    "start_time": "2021-12-03T11:06:11.644Z"
   },
   {
    "duration": 49,
    "start_time": "2021-12-03T11:06:11.656Z"
   },
   {
    "duration": 12,
    "start_time": "2021-12-03T11:06:11.707Z"
   },
   {
    "duration": 37,
    "start_time": "2021-12-03T11:06:11.721Z"
   },
   {
    "duration": 40,
    "start_time": "2021-12-03T11:06:11.760Z"
   },
   {
    "duration": 10,
    "start_time": "2021-12-03T11:06:11.801Z"
   },
   {
    "duration": 25,
    "start_time": "2021-12-03T11:06:11.812Z"
   },
   {
    "duration": 10,
    "start_time": "2021-12-03T11:06:11.838Z"
   },
   {
    "duration": 39,
    "start_time": "2021-12-03T11:06:11.849Z"
   },
   {
    "duration": 11,
    "start_time": "2021-12-03T11:06:11.889Z"
   },
   {
    "duration": 21,
    "start_time": "2021-12-03T11:06:11.902Z"
   },
   {
    "duration": 20,
    "start_time": "2021-12-03T11:06:11.924Z"
   },
   {
    "duration": 43,
    "start_time": "2021-12-03T11:06:11.945Z"
   },
   {
    "duration": 5,
    "start_time": "2021-12-03T11:06:11.990Z"
   },
   {
    "duration": 17,
    "start_time": "2021-12-03T11:06:11.997Z"
   },
   {
    "duration": 108,
    "start_time": "2021-12-03T11:06:12.016Z"
   },
   {
    "duration": 19,
    "start_time": "2021-12-03T11:06:12.126Z"
   },
   {
    "duration": 8,
    "start_time": "2021-12-03T11:06:12.146Z"
   },
   {
    "duration": 40,
    "start_time": "2021-12-03T11:06:12.156Z"
   },
   {
    "duration": 4,
    "start_time": "2021-12-03T11:06:12.197Z"
   },
   {
    "duration": 8,
    "start_time": "2021-12-03T11:06:12.202Z"
   },
   {
    "duration": 333,
    "start_time": "2021-12-03T11:06:12.212Z"
   },
   {
    "duration": 305,
    "start_time": "2021-12-03T11:06:12.547Z"
   },
   {
    "duration": 312,
    "start_time": "2021-12-03T11:06:12.854Z"
   },
   {
    "duration": 302,
    "start_time": "2021-12-03T11:06:13.168Z"
   },
   {
    "duration": 315,
    "start_time": "2021-12-03T11:06:13.472Z"
   },
   {
    "duration": 317,
    "start_time": "2021-12-03T11:06:13.788Z"
   },
   {
    "duration": 391,
    "start_time": "2021-12-03T11:06:14.107Z"
   },
   {
    "duration": 475,
    "start_time": "2021-12-03T11:06:14.500Z"
   },
   {
    "duration": 13,
    "start_time": "2021-12-03T11:06:14.977Z"
   },
   {
    "duration": 28,
    "start_time": "2021-12-03T11:06:14.992Z"
   },
   {
    "duration": 8,
    "start_time": "2021-12-03T11:06:15.022Z"
   },
   {
    "duration": 8,
    "start_time": "2021-12-03T11:06:15.032Z"
   },
   {
    "duration": 10,
    "start_time": "2021-12-03T11:06:15.041Z"
   },
   {
    "duration": 18,
    "start_time": "2021-12-03T11:06:15.053Z"
   },
   {
    "duration": 27,
    "start_time": "2021-12-03T11:06:15.073Z"
   },
   {
    "duration": 13,
    "start_time": "2021-12-03T11:06:15.102Z"
   },
   {
    "duration": 5,
    "start_time": "2021-12-03T11:06:15.117Z"
   },
   {
    "duration": 1068,
    "start_time": "2021-12-03T11:06:56.895Z"
   },
   {
    "duration": 374,
    "start_time": "2021-12-03T11:06:57.964Z"
   },
   {
    "duration": 4,
    "start_time": "2021-12-03T11:06:58.343Z"
   },
   {
    "duration": 39,
    "start_time": "2021-12-03T11:06:58.348Z"
   },
   {
    "duration": 185,
    "start_time": "2021-12-03T11:06:58.388Z"
   },
   {
    "duration": 89,
    "start_time": "2021-12-03T11:06:58.575Z"
   },
   {
    "duration": 144,
    "start_time": "2021-12-03T11:06:58.687Z"
   },
   {
    "duration": 60,
    "start_time": "2021-12-03T11:06:58.833Z"
   },
   {
    "duration": 5,
    "start_time": "2021-12-03T11:06:58.895Z"
   },
   {
    "duration": 30,
    "start_time": "2021-12-03T11:06:58.901Z"
   },
   {
    "duration": 18,
    "start_time": "2021-12-03T11:06:58.932Z"
   },
   {
    "duration": 45,
    "start_time": "2021-12-03T11:06:58.952Z"
   },
   {
    "duration": 7,
    "start_time": "2021-12-03T11:06:58.999Z"
   },
   {
    "duration": 13,
    "start_time": "2021-12-03T11:06:59.007Z"
   },
   {
    "duration": 76,
    "start_time": "2021-12-03T11:06:59.021Z"
   },
   {
    "duration": 16,
    "start_time": "2021-12-03T11:06:59.098Z"
   },
   {
    "duration": 13,
    "start_time": "2021-12-03T11:06:59.115Z"
   },
   {
    "duration": 10,
    "start_time": "2021-12-03T11:06:59.129Z"
   },
   {
    "duration": 4,
    "start_time": "2021-12-03T11:06:59.140Z"
   },
   {
    "duration": 9,
    "start_time": "2021-12-03T11:06:59.145Z"
   },
   {
    "duration": 36,
    "start_time": "2021-12-03T11:06:59.155Z"
   },
   {
    "duration": 10,
    "start_time": "2021-12-03T11:06:59.194Z"
   },
   {
    "duration": 10,
    "start_time": "2021-12-03T11:06:59.206Z"
   },
   {
    "duration": 16,
    "start_time": "2021-12-03T11:06:59.218Z"
   },
   {
    "duration": 23,
    "start_time": "2021-12-03T11:06:59.236Z"
   },
   {
    "duration": 11,
    "start_time": "2021-12-03T11:06:59.260Z"
   },
   {
    "duration": 36,
    "start_time": "2021-12-03T11:06:59.287Z"
   },
   {
    "duration": 13,
    "start_time": "2021-12-03T11:06:59.324Z"
   },
   {
    "duration": 9,
    "start_time": "2021-12-03T11:06:59.339Z"
   },
   {
    "duration": 46,
    "start_time": "2021-12-03T11:06:59.350Z"
   },
   {
    "duration": 10,
    "start_time": "2021-12-03T11:06:59.398Z"
   },
   {
    "duration": 15,
    "start_time": "2021-12-03T11:06:59.409Z"
   },
   {
    "duration": 11,
    "start_time": "2021-12-03T11:06:59.426Z"
   },
   {
    "duration": 22,
    "start_time": "2021-12-03T11:06:59.438Z"
   },
   {
    "duration": 45,
    "start_time": "2021-12-03T11:06:59.461Z"
   },
   {
    "duration": 20,
    "start_time": "2021-12-03T11:06:59.507Z"
   },
   {
    "duration": 5,
    "start_time": "2021-12-03T11:06:59.529Z"
   },
   {
    "duration": 15,
    "start_time": "2021-12-03T11:06:59.535Z"
   },
   {
    "duration": 168,
    "start_time": "2021-12-03T11:06:59.557Z"
   },
   {
    "duration": 26,
    "start_time": "2021-12-03T11:06:59.727Z"
   },
   {
    "duration": 10,
    "start_time": "2021-12-03T11:06:59.754Z"
   },
   {
    "duration": 37,
    "start_time": "2021-12-03T11:06:59.766Z"
   },
   {
    "duration": 3,
    "start_time": "2021-12-03T11:06:59.804Z"
   },
   {
    "duration": 5,
    "start_time": "2021-12-03T11:06:59.809Z"
   },
   {
    "duration": 342,
    "start_time": "2021-12-03T11:06:59.815Z"
   },
   {
    "duration": 293,
    "start_time": "2021-12-03T11:07:00.159Z"
   },
   {
    "duration": 315,
    "start_time": "2021-12-03T11:07:00.453Z"
   },
   {
    "duration": 302,
    "start_time": "2021-12-03T11:07:00.769Z"
   },
   {
    "duration": 323,
    "start_time": "2021-12-03T11:07:01.072Z"
   },
   {
    "duration": 325,
    "start_time": "2021-12-03T11:07:01.396Z"
   },
   {
    "duration": 390,
    "start_time": "2021-12-03T11:07:01.723Z"
   },
   {
    "duration": 303,
    "start_time": "2021-12-03T11:07:02.115Z"
   },
   {
    "duration": 6,
    "start_time": "2021-12-03T11:07:02.420Z"
   },
   {
    "duration": 20,
    "start_time": "2021-12-03T11:07:02.428Z"
   },
   {
    "duration": 7,
    "start_time": "2021-12-03T11:07:02.449Z"
   },
   {
    "duration": 8,
    "start_time": "2021-12-03T11:07:02.457Z"
   },
   {
    "duration": 24,
    "start_time": "2021-12-03T11:07:02.466Z"
   },
   {
    "duration": 12,
    "start_time": "2021-12-03T11:07:02.491Z"
   },
   {
    "duration": 13,
    "start_time": "2021-12-03T11:07:02.504Z"
   },
   {
    "duration": 4,
    "start_time": "2021-12-03T11:07:02.519Z"
   },
   {
    "duration": 22,
    "start_time": "2021-12-03T11:07:18.349Z"
   },
   {
    "duration": 16,
    "start_time": "2021-12-03T11:07:23.451Z"
   },
   {
    "duration": 4,
    "start_time": "2021-12-03T11:09:35.603Z"
   },
   {
    "duration": 4,
    "start_time": "2021-12-03T11:22:54.407Z"
   },
   {
    "duration": 13,
    "start_time": "2021-12-03T12:44:10.140Z"
   },
   {
    "duration": 14,
    "start_time": "2021-12-03T12:48:34.202Z"
   },
   {
    "duration": 12,
    "start_time": "2021-12-03T12:49:58.235Z"
   },
   {
    "duration": 3,
    "start_time": "2021-12-03T12:51:17.725Z"
   },
   {
    "duration": 4,
    "start_time": "2021-12-03T12:51:23.559Z"
   },
   {
    "duration": 30,
    "start_time": "2021-12-03T12:55:26.620Z"
   },
   {
    "duration": 23,
    "start_time": "2021-12-03T12:55:57.007Z"
   },
   {
    "duration": 22,
    "start_time": "2021-12-03T12:56:24.969Z"
   },
   {
    "duration": 13,
    "start_time": "2021-12-03T12:58:54.943Z"
   },
   {
    "duration": 12,
    "start_time": "2021-12-03T13:00:18.271Z"
   },
   {
    "duration": 11,
    "start_time": "2021-12-03T13:02:32.388Z"
   },
   {
    "duration": 359,
    "start_time": "2021-12-03T15:16:58.666Z"
   },
   {
    "duration": 5,
    "start_time": "2021-12-03T15:17:01.521Z"
   },
   {
    "duration": 728,
    "start_time": "2021-12-03T15:17:02.945Z"
   },
   {
    "duration": 5,
    "start_time": "2021-12-03T15:19:09.426Z"
   },
   {
    "duration": 654,
    "start_time": "2021-12-03T15:19:32.867Z"
   },
   {
    "duration": 72,
    "start_time": "2021-12-03T15:19:54.425Z"
   },
   {
    "duration": 298,
    "start_time": "2021-12-03T15:20:00.370Z"
   },
   {
    "duration": 286,
    "start_time": "2021-12-03T15:20:39.957Z"
   },
   {
    "duration": 475,
    "start_time": "2021-12-03T15:32:29.503Z"
   },
   {
    "duration": 4,
    "start_time": "2021-12-03T15:33:00.219Z"
   },
   {
    "duration": 406,
    "start_time": "2021-12-03T15:33:02.299Z"
   },
   {
    "duration": 827,
    "start_time": "2021-12-03T15:34:01.430Z"
   },
   {
    "duration": 5,
    "start_time": "2021-12-03T15:34:04.202Z"
   },
   {
    "duration": 409,
    "start_time": "2021-12-03T15:34:06.349Z"
   },
   {
    "duration": 407,
    "start_time": "2021-12-03T15:34:46.213Z"
   },
   {
    "duration": 4,
    "start_time": "2021-12-03T15:34:54.412Z"
   },
   {
    "duration": 422,
    "start_time": "2021-12-03T15:34:56.265Z"
   },
   {
    "duration": 394,
    "start_time": "2021-12-03T15:35:32.046Z"
   },
   {
    "duration": 481,
    "start_time": "2021-12-03T15:35:41.847Z"
   },
   {
    "duration": 5,
    "start_time": "2021-12-03T15:38:12.790Z"
   },
   {
    "duration": 396,
    "start_time": "2021-12-03T15:38:14.670Z"
   },
   {
    "duration": 4,
    "start_time": "2021-12-03T15:38:31.690Z"
   },
   {
    "duration": 397,
    "start_time": "2021-12-03T15:38:32.909Z"
   },
   {
    "duration": 387,
    "start_time": "2021-12-03T15:38:39.893Z"
   },
   {
    "duration": 637,
    "start_time": "2021-12-03T15:39:08.830Z"
   },
   {
    "duration": 466,
    "start_time": "2021-12-03T15:39:12.309Z"
   },
   {
    "duration": 399,
    "start_time": "2021-12-03T15:39:25.916Z"
   },
   {
    "duration": 395,
    "start_time": "2021-12-03T15:40:46.355Z"
   },
   {
    "duration": 401,
    "start_time": "2021-12-03T15:44:26.692Z"
   },
   {
    "duration": 388,
    "start_time": "2021-12-03T15:44:27.294Z"
   },
   {
    "duration": 392,
    "start_time": "2021-12-03T15:44:27.780Z"
   },
   {
    "duration": 486,
    "start_time": "2021-12-03T15:44:28.262Z"
   },
   {
    "duration": 91,
    "start_time": "2021-12-03T15:45:14.522Z"
   },
   {
    "duration": 4,
    "start_time": "2021-12-03T15:45:28.531Z"
   },
   {
    "duration": 401,
    "start_time": "2021-12-03T15:45:30.239Z"
   },
   {
    "duration": 5,
    "start_time": "2021-12-03T15:46:38.871Z"
   },
   {
    "duration": 5,
    "start_time": "2021-12-03T15:46:39.308Z"
   },
   {
    "duration": 4,
    "start_time": "2021-12-03T15:46:40.655Z"
   },
   {
    "duration": 424,
    "start_time": "2021-12-03T15:46:42.579Z"
   },
   {
    "duration": 1057,
    "start_time": "2021-12-03T15:46:53.475Z"
   },
   {
    "duration": 366,
    "start_time": "2021-12-03T15:46:54.534Z"
   },
   {
    "duration": 4,
    "start_time": "2021-12-03T15:46:54.902Z"
   },
   {
    "duration": 44,
    "start_time": "2021-12-03T15:46:54.909Z"
   },
   {
    "duration": 222,
    "start_time": "2021-12-03T15:46:54.955Z"
   },
   {
    "duration": 115,
    "start_time": "2021-12-03T15:46:55.178Z"
   },
   {
    "duration": 147,
    "start_time": "2021-12-03T15:46:55.295Z"
   },
   {
    "duration": 65,
    "start_time": "2021-12-03T15:46:55.445Z"
   },
   {
    "duration": 5,
    "start_time": "2021-12-03T15:46:55.512Z"
   },
   {
    "duration": 40,
    "start_time": "2021-12-03T15:46:55.518Z"
   },
   {
    "duration": 36,
    "start_time": "2021-12-03T15:46:55.560Z"
   },
   {
    "duration": 21,
    "start_time": "2021-12-03T15:46:55.598Z"
   },
   {
    "duration": 8,
    "start_time": "2021-12-03T15:46:55.620Z"
   },
   {
    "duration": 18,
    "start_time": "2021-12-03T15:46:55.630Z"
   },
   {
    "duration": 84,
    "start_time": "2021-12-03T15:46:55.649Z"
   },
   {
    "duration": 16,
    "start_time": "2021-12-03T15:46:55.734Z"
   },
   {
    "duration": 12,
    "start_time": "2021-12-03T15:46:55.752Z"
   },
   {
    "duration": 23,
    "start_time": "2021-12-03T15:46:55.766Z"
   },
   {
    "duration": 14,
    "start_time": "2021-12-03T15:46:55.791Z"
   },
   {
    "duration": 3,
    "start_time": "2021-12-03T15:46:55.807Z"
   },
   {
    "duration": 43,
    "start_time": "2021-12-03T15:46:55.812Z"
   },
   {
    "duration": 43,
    "start_time": "2021-12-03T15:46:55.857Z"
   },
   {
    "duration": 24,
    "start_time": "2021-12-03T15:46:55.903Z"
   },
   {
    "duration": 33,
    "start_time": "2021-12-03T15:46:55.929Z"
   },
   {
    "duration": 44,
    "start_time": "2021-12-03T15:46:55.964Z"
   },
   {
    "duration": 22,
    "start_time": "2021-12-03T15:46:56.010Z"
   },
   {
    "duration": 19,
    "start_time": "2021-12-03T15:46:56.034Z"
   },
   {
    "duration": 34,
    "start_time": "2021-12-03T15:46:56.055Z"
   },
   {
    "duration": 5,
    "start_time": "2021-12-03T15:46:56.090Z"
   },
   {
    "duration": 13,
    "start_time": "2021-12-03T15:46:56.097Z"
   },
   {
    "duration": 106,
    "start_time": "2021-12-03T15:46:56.111Z"
   },
   {
    "duration": 12,
    "start_time": "2021-12-03T15:46:56.219Z"
   },
   {
    "duration": 12,
    "start_time": "2021-12-03T15:46:56.232Z"
   },
   {
    "duration": 25,
    "start_time": "2021-12-03T15:46:56.245Z"
   },
   {
    "duration": 17,
    "start_time": "2021-12-03T15:46:56.271Z"
   },
   {
    "duration": 4,
    "start_time": "2021-12-03T15:46:56.290Z"
   },
   {
    "duration": 430,
    "start_time": "2021-12-03T15:46:56.295Z"
   },
   {
    "duration": 413,
    "start_time": "2021-12-03T15:46:56.727Z"
   },
   {
    "duration": 418,
    "start_time": "2021-12-03T15:46:57.142Z"
   },
   {
    "duration": 486,
    "start_time": "2021-12-03T15:46:57.561Z"
   },
   {
    "duration": 5,
    "start_time": "2021-12-03T15:46:58.048Z"
   },
   {
    "duration": 31,
    "start_time": "2021-12-03T15:46:58.055Z"
   },
   {
    "duration": 4,
    "start_time": "2021-12-03T15:46:58.088Z"
   },
   {
    "duration": 12,
    "start_time": "2021-12-03T15:46:58.094Z"
   },
   {
    "duration": 9,
    "start_time": "2021-12-03T15:46:58.107Z"
   },
   {
    "duration": 19,
    "start_time": "2021-12-03T15:46:58.117Z"
   },
   {
    "duration": 15,
    "start_time": "2021-12-03T15:46:58.137Z"
   },
   {
    "duration": 6,
    "start_time": "2021-12-03T15:46:58.153Z"
   },
   {
    "duration": 26,
    "start_time": "2021-12-03T15:46:58.161Z"
   },
   {
    "duration": 172,
    "start_time": "2021-12-03T15:56:49.464Z"
   },
   {
    "duration": 172,
    "start_time": "2021-12-03T15:57:28.616Z"
   },
   {
    "duration": 175,
    "start_time": "2021-12-03T15:57:37.588Z"
   },
   {
    "duration": 174,
    "start_time": "2021-12-03T15:58:47.624Z"
   },
   {
    "duration": 3,
    "start_time": "2021-12-03T16:05:11.778Z"
   },
   {
    "duration": 165,
    "start_time": "2021-12-03T16:05:13.153Z"
   },
   {
    "duration": 323,
    "start_time": "2021-12-03T16:05:48.375Z"
   },
   {
    "duration": 656,
    "start_time": "2021-12-03T16:05:51.821Z"
   },
   {
    "duration": 3,
    "start_time": "2021-12-03T16:06:11.177Z"
   },
   {
    "duration": 611,
    "start_time": "2021-12-03T16:06:13.866Z"
   },
   {
    "duration": 3,
    "start_time": "2021-12-03T16:06:29.364Z"
   },
   {
    "duration": 594,
    "start_time": "2021-12-03T16:06:31.631Z"
   },
   {
    "duration": 3,
    "start_time": "2021-12-03T16:06:38.775Z"
   },
   {
    "duration": 162,
    "start_time": "2021-12-03T16:06:40.867Z"
   },
   {
    "duration": 79,
    "start_time": "2021-12-03T16:08:47.345Z"
   },
   {
    "duration": 3,
    "start_time": "2021-12-03T16:08:51.041Z"
   },
   {
    "duration": 714,
    "start_time": "2021-12-03T16:08:52.772Z"
   },
   {
    "duration": 3,
    "start_time": "2021-12-03T16:09:00.896Z"
   },
   {
    "duration": 160,
    "start_time": "2021-12-03T16:09:02.370Z"
   },
   {
    "duration": 3,
    "start_time": "2021-12-03T16:10:49.318Z"
   },
   {
    "duration": 600,
    "start_time": "2021-12-03T16:10:53.633Z"
   },
   {
    "duration": 4,
    "start_time": "2021-12-03T16:11:08.826Z"
   },
   {
    "duration": 3,
    "start_time": "2021-12-03T16:11:10.645Z"
   },
   {
    "duration": 745,
    "start_time": "2021-12-03T16:11:10.958Z"
   },
   {
    "duration": 3,
    "start_time": "2021-12-03T16:11:19.945Z"
   },
   {
    "duration": 3,
    "start_time": "2021-12-03T16:11:21.034Z"
   },
   {
    "duration": 169,
    "start_time": "2021-12-03T16:11:21.352Z"
   },
   {
    "duration": 3,
    "start_time": "2021-12-03T16:11:57.051Z"
   },
   {
    "duration": 158,
    "start_time": "2021-12-03T16:11:58.632Z"
   },
   {
    "duration": 190,
    "start_time": "2021-12-03T16:12:04.785Z"
   },
   {
    "duration": 167,
    "start_time": "2021-12-03T16:13:30.825Z"
   },
   {
    "duration": 170,
    "start_time": "2021-12-03T16:13:35.104Z"
   },
   {
    "duration": 162,
    "start_time": "2021-12-03T16:13:47.811Z"
   },
   {
    "duration": 3,
    "start_time": "2021-12-03T16:14:41.924Z"
   },
   {
    "duration": 166,
    "start_time": "2021-12-03T16:14:43.360Z"
   },
   {
    "duration": 164,
    "start_time": "2021-12-03T16:14:45.702Z"
   },
   {
    "duration": 3,
    "start_time": "2021-12-03T16:15:16.552Z"
   },
   {
    "duration": 665,
    "start_time": "2021-12-03T16:15:18.102Z"
   },
   {
    "duration": 3,
    "start_time": "2021-12-03T16:15:24.866Z"
   },
   {
    "duration": 168,
    "start_time": "2021-12-03T16:15:27.503Z"
   },
   {
    "duration": 3,
    "start_time": "2021-12-03T16:15:30.761Z"
   },
   {
    "duration": 165,
    "start_time": "2021-12-03T16:15:32.148Z"
   },
   {
    "duration": 3,
    "start_time": "2021-12-03T16:15:36.264Z"
   },
   {
    "duration": 173,
    "start_time": "2021-12-03T16:15:37.730Z"
   },
   {
    "duration": 3,
    "start_time": "2021-12-03T16:15:43.602Z"
   },
   {
    "duration": 3,
    "start_time": "2021-12-03T16:16:03.539Z"
   },
   {
    "duration": 163,
    "start_time": "2021-12-03T16:16:05.757Z"
   },
   {
    "duration": 3,
    "start_time": "2021-12-03T16:16:17.843Z"
   },
   {
    "duration": 169,
    "start_time": "2021-12-03T16:16:19.651Z"
   },
   {
    "duration": 3,
    "start_time": "2021-12-03T16:16:26.088Z"
   },
   {
    "duration": 180,
    "start_time": "2021-12-03T16:16:27.487Z"
   },
   {
    "duration": 3,
    "start_time": "2021-12-03T16:16:35.073Z"
   },
   {
    "duration": 167,
    "start_time": "2021-12-03T16:16:36.220Z"
   },
   {
    "duration": 3,
    "start_time": "2021-12-03T16:17:02.540Z"
   },
   {
    "duration": 649,
    "start_time": "2021-12-03T16:17:04.164Z"
   },
   {
    "duration": 3,
    "start_time": "2021-12-03T16:17:10.756Z"
   },
   {
    "duration": 171,
    "start_time": "2021-12-03T16:17:12.391Z"
   },
   {
    "duration": 3,
    "start_time": "2021-12-03T16:18:08.919Z"
   },
   {
    "duration": 186,
    "start_time": "2021-12-03T16:18:10.450Z"
   },
   {
    "duration": 245,
    "start_time": "2021-12-03T16:19:12.400Z"
   },
   {
    "duration": 181,
    "start_time": "2021-12-03T16:22:01.117Z"
   },
   {
    "duration": 204,
    "start_time": "2021-12-03T16:23:06.122Z"
   },
   {
    "duration": 194,
    "start_time": "2021-12-03T16:23:28.890Z"
   },
   {
    "duration": 179,
    "start_time": "2021-12-03T16:24:21.376Z"
   },
   {
    "duration": 11,
    "start_time": "2021-12-03T21:28:06.824Z"
   },
   {
    "duration": 234,
    "start_time": "2021-12-03T21:30:12.880Z"
   },
   {
    "duration": 52,
    "start_time": "2021-12-03T21:30:25.850Z"
   },
   {
    "duration": 256,
    "start_time": "2021-12-03T21:30:52.108Z"
   },
   {
    "duration": 259,
    "start_time": "2021-12-03T21:31:08.853Z"
   },
   {
    "duration": 52,
    "start_time": "2021-12-03T21:31:17.187Z"
   },
   {
    "duration": 16,
    "start_time": "2021-12-03T21:31:40.896Z"
   },
   {
    "duration": 244,
    "start_time": "2021-12-03T21:32:26.178Z"
   },
   {
    "duration": 13,
    "start_time": "2021-12-03T21:32:31.109Z"
   },
   {
    "duration": 418,
    "start_time": "2021-12-03T21:32:49.562Z"
   },
   {
    "duration": 79,
    "start_time": "2021-12-03T21:34:06.697Z"
   },
   {
    "duration": 3,
    "start_time": "2021-12-03T21:34:23.711Z"
   },
   {
    "duration": 75,
    "start_time": "2021-12-03T21:34:34.155Z"
   },
   {
    "duration": 419,
    "start_time": "2021-12-03T21:34:38.160Z"
   },
   {
    "duration": 10,
    "start_time": "2021-12-03T21:34:58.421Z"
   },
   {
    "duration": 3,
    "start_time": "2021-12-03T21:35:21.241Z"
   },
   {
    "duration": 430,
    "start_time": "2021-12-03T21:35:23.241Z"
   },
   {
    "duration": 506,
    "start_time": "2021-12-03T21:35:28.311Z"
   },
   {
    "duration": 13,
    "start_time": "2021-12-03T21:35:36.431Z"
   },
   {
    "duration": 425,
    "start_time": "2021-12-03T21:35:54.831Z"
   },
   {
    "duration": 418,
    "start_time": "2021-12-03T21:36:08.146Z"
   },
   {
    "duration": 418,
    "start_time": "2021-12-03T21:36:22.618Z"
   },
   {
    "duration": 407,
    "start_time": "2021-12-03T21:36:38.505Z"
   },
   {
    "duration": 1080,
    "start_time": "2021-12-03T21:38:45.371Z"
   },
   {
    "duration": 373,
    "start_time": "2021-12-03T21:38:46.453Z"
   },
   {
    "duration": 4,
    "start_time": "2021-12-03T21:38:46.830Z"
   },
   {
    "duration": 45,
    "start_time": "2021-12-03T21:38:46.835Z"
   },
   {
    "duration": 196,
    "start_time": "2021-12-03T21:38:46.881Z"
   },
   {
    "duration": 85,
    "start_time": "2021-12-03T21:38:47.079Z"
   },
   {
    "duration": 167,
    "start_time": "2021-12-03T21:38:47.166Z"
   },
   {
    "duration": 57,
    "start_time": "2021-12-03T21:38:47.335Z"
   },
   {
    "duration": 5,
    "start_time": "2021-12-03T21:38:47.394Z"
   },
   {
    "duration": 40,
    "start_time": "2021-12-03T21:38:47.400Z"
   },
   {
    "duration": 19,
    "start_time": "2021-12-03T21:38:47.441Z"
   },
   {
    "duration": 41,
    "start_time": "2021-12-03T21:38:47.462Z"
   },
   {
    "duration": 8,
    "start_time": "2021-12-03T21:38:47.504Z"
   },
   {
    "duration": 19,
    "start_time": "2021-12-03T21:38:47.514Z"
   },
   {
    "duration": 72,
    "start_time": "2021-12-03T21:38:47.535Z"
   },
   {
    "duration": 13,
    "start_time": "2021-12-03T21:38:47.609Z"
   },
   {
    "duration": 10,
    "start_time": "2021-12-03T21:38:47.624Z"
   },
   {
    "duration": 6,
    "start_time": "2021-12-03T21:38:47.635Z"
   },
   {
    "duration": 13,
    "start_time": "2021-12-03T21:38:47.642Z"
   },
   {
    "duration": 3,
    "start_time": "2021-12-03T21:38:47.657Z"
   },
   {
    "duration": 55,
    "start_time": "2021-12-03T21:38:47.661Z"
   },
   {
    "duration": 22,
    "start_time": "2021-12-03T21:38:47.719Z"
   },
   {
    "duration": 23,
    "start_time": "2021-12-03T21:38:47.743Z"
   },
   {
    "duration": 33,
    "start_time": "2021-12-03T21:38:47.788Z"
   },
   {
    "duration": 24,
    "start_time": "2021-12-03T21:38:47.822Z"
   },
   {
    "duration": 45,
    "start_time": "2021-12-03T21:38:47.847Z"
   },
   {
    "duration": 20,
    "start_time": "2021-12-03T21:38:47.893Z"
   },
   {
    "duration": 13,
    "start_time": "2021-12-03T21:38:47.914Z"
   },
   {
    "duration": 4,
    "start_time": "2021-12-03T21:38:47.928Z"
   },
   {
    "duration": 12,
    "start_time": "2021-12-03T21:38:47.934Z"
   },
   {
    "duration": 111,
    "start_time": "2021-12-03T21:38:47.947Z"
   },
   {
    "duration": 12,
    "start_time": "2021-12-03T21:38:48.059Z"
   },
   {
    "duration": 18,
    "start_time": "2021-12-03T21:38:48.073Z"
   },
   {
    "duration": 20,
    "start_time": "2021-12-03T21:38:48.093Z"
   },
   {
    "duration": 3,
    "start_time": "2021-12-03T21:38:48.115Z"
   },
   {
    "duration": 5,
    "start_time": "2021-12-03T21:38:48.119Z"
   },
   {
    "duration": 12,
    "start_time": "2021-12-03T21:38:48.125Z"
   },
   {
    "duration": 5,
    "start_time": "2021-12-03T21:38:48.139Z"
   },
   {
    "duration": 447,
    "start_time": "2021-12-03T21:38:48.145Z"
   },
   {
    "duration": 193,
    "start_time": "2021-12-03T21:38:48.594Z"
   },
   {
    "duration": 419,
    "start_time": "2021-12-03T21:38:48.789Z"
   },
   {
    "duration": 193,
    "start_time": "2021-12-03T21:38:49.209Z"
   },
   {
    "duration": 570,
    "start_time": "2021-12-03T21:38:49.403Z"
   },
   {
    "duration": 197,
    "start_time": "2021-12-03T21:38:49.975Z"
   },
   {
    "duration": 419,
    "start_time": "2021-12-03T21:38:50.174Z"
   },
   {
    "duration": 196,
    "start_time": "2021-12-03T21:38:50.594Z"
   },
   {
    "duration": 5,
    "start_time": "2021-12-03T21:38:50.791Z"
   },
   {
    "duration": 24,
    "start_time": "2021-12-03T21:38:50.797Z"
   },
   {
    "duration": 4,
    "start_time": "2021-12-03T21:38:50.823Z"
   },
   {
    "duration": 6,
    "start_time": "2021-12-03T21:38:50.828Z"
   },
   {
    "duration": 5,
    "start_time": "2021-12-03T21:38:50.836Z"
   },
   {
    "duration": 16,
    "start_time": "2021-12-03T21:38:50.842Z"
   },
   {
    "duration": 36,
    "start_time": "2021-12-03T21:38:50.860Z"
   },
   {
    "duration": 4,
    "start_time": "2021-12-03T21:38:50.897Z"
   },
   {
    "duration": 5,
    "start_time": "2021-12-03T21:38:50.903Z"
   },
   {
    "duration": 411,
    "start_time": "2021-12-03T21:46:29.269Z"
   },
   {
    "duration": 311,
    "start_time": "2021-12-03T21:46:40.875Z"
   },
   {
    "duration": 409,
    "start_time": "2021-12-03T21:46:45.566Z"
   },
   {
    "duration": 1082,
    "start_time": "2021-12-03T21:47:31.181Z"
   },
   {
    "duration": 379,
    "start_time": "2021-12-03T21:47:32.265Z"
   },
   {
    "duration": 4,
    "start_time": "2021-12-03T21:47:32.646Z"
   },
   {
    "duration": 41,
    "start_time": "2021-12-03T21:47:32.652Z"
   },
   {
    "duration": 204,
    "start_time": "2021-12-03T21:47:32.694Z"
   },
   {
    "duration": 104,
    "start_time": "2021-12-03T21:47:32.900Z"
   },
   {
    "duration": 134,
    "start_time": "2021-12-03T21:47:33.006Z"
   },
   {
    "duration": 56,
    "start_time": "2021-12-03T21:47:33.143Z"
   },
   {
    "duration": 5,
    "start_time": "2021-12-03T21:47:33.202Z"
   },
   {
    "duration": 32,
    "start_time": "2021-12-03T21:47:33.208Z"
   },
   {
    "duration": 18,
    "start_time": "2021-12-03T21:47:33.241Z"
   },
   {
    "duration": 48,
    "start_time": "2021-12-03T21:47:33.260Z"
   },
   {
    "duration": 8,
    "start_time": "2021-12-03T21:47:33.310Z"
   },
   {
    "duration": 17,
    "start_time": "2021-12-03T21:47:33.319Z"
   },
   {
    "duration": 76,
    "start_time": "2021-12-03T21:47:33.338Z"
   },
   {
    "duration": 14,
    "start_time": "2021-12-03T21:47:33.416Z"
   },
   {
    "duration": 10,
    "start_time": "2021-12-03T21:47:33.431Z"
   },
   {
    "duration": 6,
    "start_time": "2021-12-03T21:47:33.443Z"
   },
   {
    "duration": 9,
    "start_time": "2021-12-03T21:47:33.450Z"
   },
   {
    "duration": 5,
    "start_time": "2021-12-03T21:47:33.461Z"
   },
   {
    "duration": 51,
    "start_time": "2021-12-03T21:47:33.467Z"
   },
   {
    "duration": 22,
    "start_time": "2021-12-03T21:47:33.519Z"
   },
   {
    "duration": 43,
    "start_time": "2021-12-03T21:47:33.545Z"
   },
   {
    "duration": 33,
    "start_time": "2021-12-03T21:47:33.590Z"
   },
   {
    "duration": 22,
    "start_time": "2021-12-03T21:47:33.625Z"
   },
   {
    "duration": 45,
    "start_time": "2021-12-03T21:47:33.649Z"
   },
   {
    "duration": 20,
    "start_time": "2021-12-03T21:47:33.696Z"
   },
   {
    "duration": 12,
    "start_time": "2021-12-03T21:47:33.718Z"
   },
   {
    "duration": 4,
    "start_time": "2021-12-03T21:47:33.732Z"
   },
   {
    "duration": 13,
    "start_time": "2021-12-03T21:47:33.738Z"
   },
   {
    "duration": 113,
    "start_time": "2021-12-03T21:47:33.753Z"
   },
   {
    "duration": 20,
    "start_time": "2021-12-03T21:47:33.868Z"
   },
   {
    "duration": 9,
    "start_time": "2021-12-03T21:47:33.889Z"
   },
   {
    "duration": 21,
    "start_time": "2021-12-03T21:47:33.899Z"
   },
   {
    "duration": 4,
    "start_time": "2021-12-03T21:47:33.922Z"
   },
   {
    "duration": 6,
    "start_time": "2021-12-03T21:47:33.928Z"
   },
   {
    "duration": 5,
    "start_time": "2021-12-03T21:47:33.935Z"
   },
   {
    "duration": 5,
    "start_time": "2021-12-03T21:47:33.942Z"
   },
   {
    "duration": 449,
    "start_time": "2021-12-03T21:47:33.948Z"
   },
   {
    "duration": 239,
    "start_time": "2021-12-03T21:47:34.399Z"
   },
   {
    "duration": 529,
    "start_time": "2021-12-03T21:47:34.639Z"
   },
   {
    "duration": 182,
    "start_time": "2021-12-03T21:47:35.170Z"
   },
   {
    "duration": 474,
    "start_time": "2021-12-03T21:47:35.354Z"
   },
   {
    "duration": 194,
    "start_time": "2021-12-03T21:47:35.830Z"
   },
   {
    "duration": 423,
    "start_time": "2021-12-03T21:47:36.026Z"
   },
   {
    "duration": 189,
    "start_time": "2021-12-03T21:47:36.451Z"
   },
   {
    "duration": 5,
    "start_time": "2021-12-03T21:47:36.642Z"
   },
   {
    "duration": 21,
    "start_time": "2021-12-03T21:47:36.649Z"
   },
   {
    "duration": 20,
    "start_time": "2021-12-03T21:47:36.671Z"
   },
   {
    "duration": 6,
    "start_time": "2021-12-03T21:47:36.692Z"
   },
   {
    "duration": 4,
    "start_time": "2021-12-03T21:47:36.700Z"
   },
   {
    "duration": 16,
    "start_time": "2021-12-03T21:47:36.705Z"
   },
   {
    "duration": 14,
    "start_time": "2021-12-03T21:47:36.723Z"
   },
   {
    "duration": 4,
    "start_time": "2021-12-03T21:47:36.739Z"
   },
   {
    "duration": 4,
    "start_time": "2021-12-03T21:47:36.745Z"
   },
   {
    "duration": 12,
    "start_time": "2021-12-03T21:47:50.950Z"
   },
   {
    "duration": 1113,
    "start_time": "2021-12-03T21:47:54.662Z"
   },
   {
    "duration": 400,
    "start_time": "2021-12-03T21:47:55.777Z"
   },
   {
    "duration": 4,
    "start_time": "2021-12-03T21:47:56.179Z"
   },
   {
    "duration": 41,
    "start_time": "2021-12-03T21:47:56.185Z"
   },
   {
    "duration": 213,
    "start_time": "2021-12-03T21:47:56.228Z"
   },
   {
    "duration": 100,
    "start_time": "2021-12-03T21:47:56.443Z"
   },
   {
    "duration": 162,
    "start_time": "2021-12-03T21:47:56.545Z"
   },
   {
    "duration": 42,
    "start_time": "2021-12-03T21:47:56.710Z"
   },
   {
    "duration": 4,
    "start_time": "2021-12-03T21:47:56.754Z"
   },
   {
    "duration": 55,
    "start_time": "2021-12-03T21:47:56.760Z"
   },
   {
    "duration": 21,
    "start_time": "2021-12-03T21:47:56.816Z"
   },
   {
    "duration": 23,
    "start_time": "2021-12-03T21:47:56.838Z"
   },
   {
    "duration": 31,
    "start_time": "2021-12-03T21:47:56.862Z"
   },
   {
    "duration": 12,
    "start_time": "2021-12-03T21:47:56.895Z"
   },
   {
    "duration": 61,
    "start_time": "2021-12-03T21:47:56.909Z"
   },
   {
    "duration": 14,
    "start_time": "2021-12-03T21:47:56.988Z"
   },
   {
    "duration": 10,
    "start_time": "2021-12-03T21:47:57.004Z"
   },
   {
    "duration": 6,
    "start_time": "2021-12-03T21:47:57.015Z"
   },
   {
    "duration": 13,
    "start_time": "2021-12-03T21:47:57.022Z"
   },
   {
    "duration": 3,
    "start_time": "2021-12-03T21:47:57.036Z"
   },
   {
    "duration": 61,
    "start_time": "2021-12-03T21:47:57.041Z"
   },
   {
    "duration": 21,
    "start_time": "2021-12-03T21:47:57.104Z"
   },
   {
    "duration": 23,
    "start_time": "2021-12-03T21:47:57.128Z"
   },
   {
    "duration": 53,
    "start_time": "2021-12-03T21:47:57.153Z"
   },
   {
    "duration": 26,
    "start_time": "2021-12-03T21:47:57.208Z"
   },
   {
    "duration": 21,
    "start_time": "2021-12-03T21:47:57.236Z"
   },
   {
    "duration": 40,
    "start_time": "2021-12-03T21:47:57.259Z"
   },
   {
    "duration": 12,
    "start_time": "2021-12-03T21:47:57.301Z"
   },
   {
    "duration": 5,
    "start_time": "2021-12-03T21:47:57.314Z"
   },
   {
    "duration": 15,
    "start_time": "2021-12-03T21:47:57.320Z"
   },
   {
    "duration": 100,
    "start_time": "2021-12-03T21:47:57.337Z"
   },
   {
    "duration": 12,
    "start_time": "2021-12-03T21:47:57.438Z"
   },
   {
    "duration": 7,
    "start_time": "2021-12-03T21:47:57.452Z"
   },
   {
    "duration": 37,
    "start_time": "2021-12-03T21:47:57.460Z"
   },
   {
    "duration": 3,
    "start_time": "2021-12-03T21:47:57.499Z"
   },
   {
    "duration": 6,
    "start_time": "2021-12-03T21:47:57.503Z"
   },
   {
    "duration": 8,
    "start_time": "2021-12-03T21:47:57.510Z"
   },
   {
    "duration": 6,
    "start_time": "2021-12-03T21:47:57.519Z"
   },
   {
    "duration": 434,
    "start_time": "2021-12-03T21:47:57.526Z"
   },
   {
    "duration": 181,
    "start_time": "2021-12-03T21:47:57.961Z"
   },
   {
    "duration": 425,
    "start_time": "2021-12-03T21:47:58.143Z"
   },
   {
    "duration": 190,
    "start_time": "2021-12-03T21:47:58.570Z"
   },
   {
    "duration": 488,
    "start_time": "2021-12-03T21:47:58.762Z"
   },
   {
    "duration": 188,
    "start_time": "2021-12-03T21:47:59.252Z"
   },
   {
    "duration": 432,
    "start_time": "2021-12-03T21:47:59.442Z"
   },
   {
    "duration": 194,
    "start_time": "2021-12-03T21:47:59.875Z"
   },
   {
    "duration": 5,
    "start_time": "2021-12-03T21:48:00.070Z"
   },
   {
    "duration": 25,
    "start_time": "2021-12-03T21:48:00.077Z"
   },
   {
    "duration": 5,
    "start_time": "2021-12-03T21:48:00.103Z"
   },
   {
    "duration": 16,
    "start_time": "2021-12-03T21:48:00.109Z"
   },
   {
    "duration": 19,
    "start_time": "2021-12-03T21:48:00.126Z"
   },
   {
    "duration": 25,
    "start_time": "2021-12-03T21:48:00.147Z"
   },
   {
    "duration": 26,
    "start_time": "2021-12-03T21:48:00.174Z"
   },
   {
    "duration": 7,
    "start_time": "2021-12-03T21:48:00.201Z"
   },
   {
    "duration": 11,
    "start_time": "2021-12-03T21:48:00.209Z"
   },
   {
    "duration": 1078,
    "start_time": "2021-12-03T21:48:53.448Z"
   },
   {
    "duration": 370,
    "start_time": "2021-12-03T21:48:54.528Z"
   },
   {
    "duration": 4,
    "start_time": "2021-12-03T21:48:54.901Z"
   },
   {
    "duration": 43,
    "start_time": "2021-12-03T21:48:54.906Z"
   },
   {
    "duration": 204,
    "start_time": "2021-12-03T21:48:54.950Z"
   },
   {
    "duration": 92,
    "start_time": "2021-12-03T21:48:55.156Z"
   },
   {
    "duration": 165,
    "start_time": "2021-12-03T21:48:55.250Z"
   },
   {
    "duration": 71,
    "start_time": "2021-12-03T21:48:55.418Z"
   },
   {
    "duration": 6,
    "start_time": "2021-12-03T21:48:55.490Z"
   },
   {
    "duration": 34,
    "start_time": "2021-12-03T21:48:55.497Z"
   },
   {
    "duration": 20,
    "start_time": "2021-12-03T21:48:55.532Z"
   },
   {
    "duration": 42,
    "start_time": "2021-12-03T21:48:55.553Z"
   },
   {
    "duration": 8,
    "start_time": "2021-12-03T21:48:55.597Z"
   },
   {
    "duration": 22,
    "start_time": "2021-12-03T21:48:55.607Z"
   },
   {
    "duration": 79,
    "start_time": "2021-12-03T21:48:55.631Z"
   },
   {
    "duration": 16,
    "start_time": "2021-12-03T21:48:55.711Z"
   },
   {
    "duration": 13,
    "start_time": "2021-12-03T21:48:55.729Z"
   },
   {
    "duration": 14,
    "start_time": "2021-12-03T21:48:55.744Z"
   },
   {
    "duration": 31,
    "start_time": "2021-12-03T21:48:55.760Z"
   },
   {
    "duration": 5,
    "start_time": "2021-12-03T21:48:55.793Z"
   },
   {
    "duration": 43,
    "start_time": "2021-12-03T21:48:55.800Z"
   },
   {
    "duration": 40,
    "start_time": "2021-12-03T21:48:55.848Z"
   },
   {
    "duration": 26,
    "start_time": "2021-12-03T21:48:55.891Z"
   },
   {
    "duration": 34,
    "start_time": "2021-12-03T21:48:55.918Z"
   },
   {
    "duration": 47,
    "start_time": "2021-12-03T21:48:55.954Z"
   },
   {
    "duration": 25,
    "start_time": "2021-12-03T21:48:56.002Z"
   },
   {
    "duration": 23,
    "start_time": "2021-12-03T21:48:56.029Z"
   },
   {
    "duration": 39,
    "start_time": "2021-12-03T21:48:56.054Z"
   },
   {
    "duration": 6,
    "start_time": "2021-12-03T21:48:56.094Z"
   },
   {
    "duration": 17,
    "start_time": "2021-12-03T21:48:56.101Z"
   },
   {
    "duration": 104,
    "start_time": "2021-12-03T21:48:56.120Z"
   },
   {
    "duration": 13,
    "start_time": "2021-12-03T21:48:56.226Z"
   },
   {
    "duration": 25,
    "start_time": "2021-12-03T21:48:56.240Z"
   },
   {
    "duration": 27,
    "start_time": "2021-12-03T21:48:56.267Z"
   },
   {
    "duration": 3,
    "start_time": "2021-12-03T21:48:56.296Z"
   },
   {
    "duration": 8,
    "start_time": "2021-12-03T21:48:56.301Z"
   },
   {
    "duration": 8,
    "start_time": "2021-12-03T21:48:56.310Z"
   },
   {
    "duration": 5,
    "start_time": "2021-12-03T21:48:56.320Z"
   },
   {
    "duration": 449,
    "start_time": "2021-12-03T21:48:56.326Z"
   },
   {
    "duration": 192,
    "start_time": "2021-12-03T21:48:56.777Z"
   },
   {
    "duration": 424,
    "start_time": "2021-12-03T21:48:56.970Z"
   },
   {
    "duration": 188,
    "start_time": "2021-12-03T21:48:57.396Z"
   },
   {
    "duration": 482,
    "start_time": "2021-12-03T21:48:57.588Z"
   },
   {
    "duration": 193,
    "start_time": "2021-12-03T21:48:58.071Z"
   },
   {
    "duration": 429,
    "start_time": "2021-12-03T21:48:58.266Z"
   },
   {
    "duration": 179,
    "start_time": "2021-12-03T21:48:58.696Z"
   },
   {
    "duration": 12,
    "start_time": "2021-12-03T21:48:58.877Z"
   },
   {
    "duration": 19,
    "start_time": "2021-12-03T21:48:58.891Z"
   },
   {
    "duration": 5,
    "start_time": "2021-12-03T21:48:58.912Z"
   },
   {
    "duration": 8,
    "start_time": "2021-12-03T21:48:58.918Z"
   },
   {
    "duration": 5,
    "start_time": "2021-12-03T21:48:58.928Z"
   },
   {
    "duration": 16,
    "start_time": "2021-12-03T21:48:58.935Z"
   },
   {
    "duration": 37,
    "start_time": "2021-12-03T21:48:58.952Z"
   },
   {
    "duration": 5,
    "start_time": "2021-12-03T21:48:58.990Z"
   },
   {
    "duration": 11,
    "start_time": "2021-12-03T21:48:58.996Z"
   },
   {
    "duration": 1771,
    "start_time": "2021-12-04T16:47:36.949Z"
   },
   {
    "duration": 510,
    "start_time": "2021-12-04T16:47:38.723Z"
   },
   {
    "duration": 5,
    "start_time": "2021-12-04T16:47:39.236Z"
   },
   {
    "duration": 93,
    "start_time": "2021-12-04T16:47:39.244Z"
   },
   {
    "duration": 303,
    "start_time": "2021-12-04T16:47:39.339Z"
   },
   {
    "duration": 149,
    "start_time": "2021-12-04T16:47:39.645Z"
   },
   {
    "duration": 263,
    "start_time": "2021-12-04T16:47:39.797Z"
   },
   {
    "duration": 100,
    "start_time": "2021-12-04T16:47:40.066Z"
   },
   {
    "duration": 8,
    "start_time": "2021-12-04T16:47:40.169Z"
   },
   {
    "duration": 81,
    "start_time": "2021-12-04T16:47:40.179Z"
   },
   {
    "duration": 29,
    "start_time": "2021-12-04T16:47:40.262Z"
   },
   {
    "duration": 52,
    "start_time": "2021-12-04T16:47:40.293Z"
   },
   {
    "duration": 12,
    "start_time": "2021-12-04T16:47:40.347Z"
   },
   {
    "duration": 24,
    "start_time": "2021-12-04T16:47:40.362Z"
   },
   {
    "duration": 119,
    "start_time": "2021-12-04T16:47:40.388Z"
   },
   {
    "duration": 29,
    "start_time": "2021-12-04T16:47:40.509Z"
   },
   {
    "duration": 15,
    "start_time": "2021-12-04T16:47:40.540Z"
   },
   {
    "duration": 6,
    "start_time": "2021-12-04T16:47:40.558Z"
   },
   {
    "duration": 18,
    "start_time": "2021-12-04T16:47:40.565Z"
   },
   {
    "duration": 5,
    "start_time": "2021-12-04T16:47:40.585Z"
   },
   {
    "duration": 83,
    "start_time": "2021-12-04T16:47:40.592Z"
   },
   {
    "duration": 58,
    "start_time": "2021-12-04T16:47:40.677Z"
   },
   {
    "duration": 35,
    "start_time": "2021-12-04T16:47:40.740Z"
   },
   {
    "duration": 71,
    "start_time": "2021-12-04T16:47:40.778Z"
   },
   {
    "duration": 37,
    "start_time": "2021-12-04T16:47:40.851Z"
   },
   {
    "duration": 55,
    "start_time": "2021-12-04T16:47:40.890Z"
   },
   {
    "duration": 33,
    "start_time": "2021-12-04T16:47:40.947Z"
   },
   {
    "duration": 21,
    "start_time": "2021-12-04T16:47:40.983Z"
   },
   {
    "duration": 27,
    "start_time": "2021-12-04T16:47:41.006Z"
   },
   {
    "duration": 23,
    "start_time": "2021-12-04T16:47:41.036Z"
   },
   {
    "duration": 181,
    "start_time": "2021-12-04T16:47:41.061Z"
   },
   {
    "duration": 20,
    "start_time": "2021-12-04T16:47:41.244Z"
   },
   {
    "duration": 12,
    "start_time": "2021-12-04T16:47:41.266Z"
   },
   {
    "duration": 59,
    "start_time": "2021-12-04T16:47:41.280Z"
   },
   {
    "duration": 5,
    "start_time": "2021-12-04T16:47:41.341Z"
   },
   {
    "duration": 7,
    "start_time": "2021-12-04T16:47:41.349Z"
   },
   {
    "duration": 9,
    "start_time": "2021-12-04T16:47:41.358Z"
   },
   {
    "duration": 5,
    "start_time": "2021-12-04T16:47:41.369Z"
   },
   {
    "duration": 816,
    "start_time": "2021-12-04T16:47:41.376Z"
   },
   {
    "duration": 326,
    "start_time": "2021-12-04T16:47:42.194Z"
   },
   {
    "duration": 753,
    "start_time": "2021-12-04T16:47:42.522Z"
   },
   {
    "duration": 338,
    "start_time": "2021-12-04T16:47:43.277Z"
   },
   {
    "duration": 859,
    "start_time": "2021-12-04T16:47:43.617Z"
   },
   {
    "duration": 345,
    "start_time": "2021-12-04T16:47:44.479Z"
   },
   {
    "duration": 769,
    "start_time": "2021-12-04T16:47:44.830Z"
   },
   {
    "duration": 336,
    "start_time": "2021-12-04T16:47:45.602Z"
   },
   {
    "duration": 9,
    "start_time": "2021-12-04T16:47:45.941Z"
   },
   {
    "duration": 31,
    "start_time": "2021-12-04T16:47:45.952Z"
   },
   {
    "duration": 7,
    "start_time": "2021-12-04T16:47:45.985Z"
   },
   {
    "duration": 7,
    "start_time": "2021-12-04T16:47:46.029Z"
   },
   {
    "duration": 7,
    "start_time": "2021-12-04T16:47:46.038Z"
   },
   {
    "duration": 27,
    "start_time": "2021-12-04T16:47:46.047Z"
   },
   {
    "duration": 52,
    "start_time": "2021-12-04T16:47:46.077Z"
   },
   {
    "duration": 7,
    "start_time": "2021-12-04T16:47:46.131Z"
   },
   {
    "duration": 6,
    "start_time": "2021-12-04T16:47:46.140Z"
   },
   {
    "duration": 8,
    "start_time": "2021-12-04T17:06:55.667Z"
   },
   {
    "duration": 6,
    "start_time": "2021-12-04T17:49:05.801Z"
   },
   {
    "duration": 7,
    "start_time": "2021-12-04T17:49:23.869Z"
   },
   {
    "duration": 1494,
    "start_time": "2021-12-04T17:59:51.114Z"
   },
   {
    "duration": 527,
    "start_time": "2021-12-04T17:59:52.611Z"
   },
   {
    "duration": 6,
    "start_time": "2021-12-04T17:59:53.144Z"
   },
   {
    "duration": 98,
    "start_time": "2021-12-04T17:59:53.153Z"
   },
   {
    "duration": 336,
    "start_time": "2021-12-04T17:59:53.253Z"
   },
   {
    "duration": 154,
    "start_time": "2021-12-04T17:59:53.592Z"
   },
   {
    "duration": 256,
    "start_time": "2021-12-04T17:59:53.750Z"
   },
   {
    "duration": 79,
    "start_time": "2021-12-04T17:59:54.009Z"
   },
   {
    "duration": 40,
    "start_time": "2021-12-04T17:59:54.090Z"
   },
   {
    "duration": 44,
    "start_time": "2021-12-04T17:59:54.132Z"
   },
   {
    "duration": 55,
    "start_time": "2021-12-04T17:59:54.179Z"
   },
   {
    "duration": 33,
    "start_time": "2021-12-04T17:59:54.237Z"
   },
   {
    "duration": 11,
    "start_time": "2021-12-04T17:59:54.273Z"
   },
   {
    "duration": 45,
    "start_time": "2021-12-04T17:59:54.287Z"
   },
   {
    "duration": 106,
    "start_time": "2021-12-04T17:59:54.335Z"
   },
   {
    "duration": 20,
    "start_time": "2021-12-04T17:59:54.443Z"
   },
   {
    "duration": 17,
    "start_time": "2021-12-04T17:59:54.465Z"
   },
   {
    "duration": 9,
    "start_time": "2021-12-04T17:59:54.484Z"
   },
   {
    "duration": 48,
    "start_time": "2021-12-04T17:59:54.495Z"
   },
   {
    "duration": 5,
    "start_time": "2021-12-04T17:59:54.546Z"
   },
   {
    "duration": 76,
    "start_time": "2021-12-04T17:59:54.553Z"
   },
   {
    "duration": 34,
    "start_time": "2021-12-04T17:59:54.635Z"
   },
   {
    "duration": 35,
    "start_time": "2021-12-04T17:59:54.672Z"
   },
   {
    "duration": 51,
    "start_time": "2021-12-04T17:59:54.730Z"
   },
   {
    "duration": 62,
    "start_time": "2021-12-04T17:59:54.784Z"
   },
   {
    "duration": 34,
    "start_time": "2021-12-04T17:59:54.848Z"
   },
   {
    "duration": 53,
    "start_time": "2021-12-04T17:59:54.884Z"
   },
   {
    "duration": 21,
    "start_time": "2021-12-04T17:59:54.939Z"
   },
   {
    "duration": 7,
    "start_time": "2021-12-04T17:59:54.962Z"
   },
   {
    "duration": 21,
    "start_time": "2021-12-04T17:59:54.971Z"
   },
   {
    "duration": 196,
    "start_time": "2021-12-04T17:59:54.994Z"
   },
   {
    "duration": 19,
    "start_time": "2021-12-04T17:59:55.192Z"
   },
   {
    "duration": 25,
    "start_time": "2021-12-04T17:59:55.213Z"
   },
   {
    "duration": 36,
    "start_time": "2021-12-04T17:59:55.241Z"
   },
   {
    "duration": 5,
    "start_time": "2021-12-04T17:59:55.280Z"
   },
   {
    "duration": 42,
    "start_time": "2021-12-04T17:59:55.287Z"
   },
   {
    "duration": 7,
    "start_time": "2021-12-04T17:59:55.332Z"
   },
   {
    "duration": 6,
    "start_time": "2021-12-04T17:59:55.341Z"
   },
   {
    "duration": 794,
    "start_time": "2021-12-04T17:59:55.349Z"
   },
   {
    "duration": 327,
    "start_time": "2021-12-04T17:59:56.145Z"
   },
   {
    "duration": 768,
    "start_time": "2021-12-04T17:59:56.474Z"
   },
   {
    "duration": 435,
    "start_time": "2021-12-04T17:59:57.245Z"
   },
   {
    "duration": 853,
    "start_time": "2021-12-04T17:59:57.682Z"
   },
   {
    "duration": 341,
    "start_time": "2021-12-04T17:59:58.538Z"
   },
   {
    "duration": 868,
    "start_time": "2021-12-04T17:59:58.882Z"
   },
   {
    "duration": 336,
    "start_time": "2021-12-04T17:59:59.753Z"
   },
   {
    "duration": 9,
    "start_time": "2021-12-04T18:00:00.092Z"
   },
   {
    "duration": 30,
    "start_time": "2021-12-04T18:00:00.104Z"
   },
   {
    "duration": 16,
    "start_time": "2021-12-04T18:00:00.137Z"
   },
   {
    "duration": 10,
    "start_time": "2021-12-04T18:00:00.156Z"
   },
   {
    "duration": 32,
    "start_time": "2021-12-04T18:00:00.169Z"
   },
   {
    "duration": 46,
    "start_time": "2021-12-04T18:00:00.203Z"
   },
   {
    "duration": 22,
    "start_time": "2021-12-04T18:00:00.251Z"
   },
   {
    "duration": 22,
    "start_time": "2021-12-04T18:00:00.275Z"
   },
   {
    "duration": 1430,
    "start_time": "2021-12-04T18:08:31.179Z"
   },
   {
    "duration": 539,
    "start_time": "2021-12-04T18:08:32.613Z"
   },
   {
    "duration": 6,
    "start_time": "2021-12-04T18:08:33.155Z"
   },
   {
    "duration": 79,
    "start_time": "2021-12-04T18:08:33.163Z"
   },
   {
    "duration": 325,
    "start_time": "2021-12-04T18:08:33.245Z"
   },
   {
    "duration": 295,
    "start_time": "2021-12-04T18:08:33.573Z"
   },
   {
    "duration": 474,
    "start_time": "2021-12-04T18:08:33.870Z"
   },
   {
    "duration": 113,
    "start_time": "2021-12-04T18:08:34.348Z"
   },
   {
    "duration": 8,
    "start_time": "2021-12-04T18:08:34.464Z"
   },
   {
    "duration": 83,
    "start_time": "2021-12-04T18:08:34.475Z"
   },
   {
    "duration": 33,
    "start_time": "2021-12-04T18:08:34.561Z"
   },
   {
    "duration": 57,
    "start_time": "2021-12-04T18:08:34.597Z"
   },
   {
    "duration": 13,
    "start_time": "2021-12-04T18:08:34.656Z"
   },
   {
    "duration": 25,
    "start_time": "2021-12-04T18:08:34.672Z"
   },
   {
    "duration": 119,
    "start_time": "2021-12-04T18:08:34.699Z"
   },
   {
    "duration": 26,
    "start_time": "2021-12-04T18:08:34.820Z"
   },
   {
    "duration": 16,
    "start_time": "2021-12-04T18:08:34.849Z"
   },
   {
    "duration": 7,
    "start_time": "2021-12-04T18:08:34.867Z"
   },
   {
    "duration": 52,
    "start_time": "2021-12-04T18:08:34.877Z"
   },
   {
    "duration": 6,
    "start_time": "2021-12-04T18:08:34.931Z"
   },
   {
    "duration": 57,
    "start_time": "2021-12-04T18:08:34.939Z"
   },
   {
    "duration": 53,
    "start_time": "2021-12-04T18:08:34.998Z"
   },
   {
    "duration": 37,
    "start_time": "2021-12-04T18:08:35.057Z"
   },
   {
    "duration": 69,
    "start_time": "2021-12-04T18:08:35.098Z"
   },
   {
    "duration": 39,
    "start_time": "2021-12-04T18:08:35.169Z"
   },
   {
    "duration": 38,
    "start_time": "2021-12-04T18:08:35.229Z"
   },
   {
    "duration": 35,
    "start_time": "2021-12-04T18:08:35.269Z"
   },
   {
    "duration": 22,
    "start_time": "2021-12-04T18:08:35.329Z"
   },
   {
    "duration": 7,
    "start_time": "2021-12-04T18:08:35.354Z"
   },
   {
    "duration": 25,
    "start_time": "2021-12-04T18:08:35.363Z"
   },
   {
    "duration": 192,
    "start_time": "2021-12-04T18:08:35.390Z"
   },
   {
    "duration": 21,
    "start_time": "2021-12-04T18:08:35.585Z"
   },
   {
    "duration": 26,
    "start_time": "2021-12-04T18:08:35.608Z"
   },
   {
    "duration": 34,
    "start_time": "2021-12-04T18:08:35.636Z"
   },
   {
    "duration": 5,
    "start_time": "2021-12-04T18:08:35.673Z"
   },
   {
    "duration": 12,
    "start_time": "2021-12-04T18:08:35.680Z"
   },
   {
    "duration": 36,
    "start_time": "2021-12-04T18:08:35.694Z"
   },
   {
    "duration": 16,
    "start_time": "2021-12-04T18:08:35.732Z"
   },
   {
    "duration": 885,
    "start_time": "2021-12-04T18:08:35.750Z"
   },
   {
    "duration": 330,
    "start_time": "2021-12-04T18:08:36.638Z"
   },
   {
    "duration": 797,
    "start_time": "2021-12-04T18:08:36.971Z"
   },
   {
    "duration": 339,
    "start_time": "2021-12-04T18:08:37.771Z"
   },
   {
    "duration": 942,
    "start_time": "2021-12-04T18:08:38.113Z"
   },
   {
    "duration": 379,
    "start_time": "2021-12-04T18:08:39.058Z"
   },
   {
    "duration": 806,
    "start_time": "2021-12-04T18:08:39.439Z"
   },
   {
    "duration": 353,
    "start_time": "2021-12-04T18:08:40.247Z"
   },
   {
    "duration": 8,
    "start_time": "2021-12-04T18:08:40.602Z"
   },
   {
    "duration": 41,
    "start_time": "2021-12-04T18:08:40.612Z"
   },
   {
    "duration": 18,
    "start_time": "2021-12-04T18:08:40.656Z"
   },
   {
    "duration": 11,
    "start_time": "2021-12-04T18:08:40.676Z"
   },
   {
    "duration": 40,
    "start_time": "2021-12-04T18:08:40.690Z"
   },
   {
    "duration": 26,
    "start_time": "2021-12-04T18:08:40.732Z"
   },
   {
    "duration": 7,
    "start_time": "2021-12-04T18:08:40.760Z"
   },
   {
    "duration": 8,
    "start_time": "2021-12-04T18:08:40.769Z"
   },
   {
    "duration": 1474,
    "start_time": "2021-12-04T18:13:56.126Z"
   },
   {
    "duration": 614,
    "start_time": "2021-12-04T18:13:57.603Z"
   },
   {
    "duration": 6,
    "start_time": "2021-12-04T18:13:58.220Z"
   },
   {
    "duration": 71,
    "start_time": "2021-12-04T18:13:58.228Z"
   },
   {
    "duration": 290,
    "start_time": "2021-12-04T18:13:58.329Z"
   },
   {
    "duration": 145,
    "start_time": "2021-12-04T18:13:58.629Z"
   },
   {
    "duration": 241,
    "start_time": "2021-12-04T18:13:58.776Z"
   },
   {
    "duration": 99,
    "start_time": "2021-12-04T18:13:59.030Z"
   },
   {
    "duration": 8,
    "start_time": "2021-12-04T18:13:59.132Z"
   },
   {
    "duration": 50,
    "start_time": "2021-12-04T18:13:59.142Z"
   },
   {
    "duration": 54,
    "start_time": "2021-12-04T18:13:59.194Z"
   },
   {
    "duration": 33,
    "start_time": "2021-12-04T18:13:59.250Z"
   },
   {
    "duration": 12,
    "start_time": "2021-12-04T18:13:59.285Z"
   },
   {
    "duration": 44,
    "start_time": "2021-12-04T18:13:59.299Z"
   },
   {
    "duration": 108,
    "start_time": "2021-12-04T18:13:59.346Z"
   },
   {
    "duration": 21,
    "start_time": "2021-12-04T18:13:59.456Z"
   },
   {
    "duration": 16,
    "start_time": "2021-12-04T18:13:59.479Z"
   },
   {
    "duration": 33,
    "start_time": "2021-12-04T18:13:59.497Z"
   },
   {
    "duration": 16,
    "start_time": "2021-12-04T18:13:59.533Z"
   },
   {
    "duration": 5,
    "start_time": "2021-12-04T18:13:59.551Z"
   },
   {
    "duration": 79,
    "start_time": "2021-12-04T18:13:59.558Z"
   },
   {
    "duration": 33,
    "start_time": "2021-12-04T18:13:59.639Z"
   },
   {
    "duration": 61,
    "start_time": "2021-12-04T18:13:59.678Z"
   },
   {
    "duration": 52,
    "start_time": "2021-12-04T18:13:59.742Z"
   },
   {
    "duration": 55,
    "start_time": "2021-12-04T18:13:59.797Z"
   },
   {
    "duration": 32,
    "start_time": "2021-12-04T18:13:59.854Z"
   },
   {
    "duration": 53,
    "start_time": "2021-12-04T18:13:59.889Z"
   },
   {
    "duration": 22,
    "start_time": "2021-12-04T18:13:59.944Z"
   },
   {
    "duration": 7,
    "start_time": "2021-12-04T18:13:59.968Z"
   },
   {
    "duration": 20,
    "start_time": "2021-12-04T18:13:59.977Z"
   },
   {
    "duration": 192,
    "start_time": "2021-12-04T18:13:59.999Z"
   },
   {
    "duration": 20,
    "start_time": "2021-12-04T18:14:00.194Z"
   },
   {
    "duration": 12,
    "start_time": "2021-12-04T18:14:00.229Z"
   },
   {
    "duration": 35,
    "start_time": "2021-12-04T18:14:00.244Z"
   },
   {
    "duration": 5,
    "start_time": "2021-12-04T18:14:00.282Z"
   },
   {
    "duration": 44,
    "start_time": "2021-12-04T18:14:00.290Z"
   },
   {
    "duration": 17,
    "start_time": "2021-12-04T18:14:00.337Z"
   },
   {
    "duration": 11,
    "start_time": "2021-12-04T18:14:00.357Z"
   },
   {
    "duration": 806,
    "start_time": "2021-12-04T18:14:00.371Z"
   },
   {
    "duration": 332,
    "start_time": "2021-12-04T18:14:01.180Z"
   },
   {
    "duration": 751,
    "start_time": "2021-12-04T18:14:01.515Z"
   },
   {
    "duration": 352,
    "start_time": "2021-12-04T18:14:02.268Z"
   },
   {
    "duration": 976,
    "start_time": "2021-12-04T18:14:02.623Z"
   },
   {
    "duration": 347,
    "start_time": "2021-12-04T18:14:03.602Z"
   },
   {
    "duration": 935,
    "start_time": "2021-12-04T18:14:03.952Z"
   },
   {
    "duration": 361,
    "start_time": "2021-12-04T18:14:04.889Z"
   },
   {
    "duration": 8,
    "start_time": "2021-12-04T18:14:05.252Z"
   },
   {
    "duration": 11,
    "start_time": "2021-12-04T18:14:05.263Z"
   },
   {
    "duration": 10,
    "start_time": "2021-12-04T18:14:05.276Z"
   },
   {
    "duration": 43,
    "start_time": "2021-12-04T18:14:05.288Z"
   },
   {
    "duration": 29,
    "start_time": "2021-12-04T18:14:05.333Z"
   },
   {
    "duration": 25,
    "start_time": "2021-12-04T18:14:05.365Z"
   },
   {
    "duration": 6,
    "start_time": "2021-12-04T18:14:05.392Z"
   },
   {
    "duration": 33,
    "start_time": "2021-12-04T18:14:05.400Z"
   },
   {
    "duration": 1485,
    "start_time": "2021-12-05T09:20:50.216Z"
   },
   {
    "duration": 505,
    "start_time": "2021-12-05T09:20:51.704Z"
   },
   {
    "duration": 6,
    "start_time": "2021-12-05T09:20:52.213Z"
   },
   {
    "duration": 68,
    "start_time": "2021-12-05T09:20:52.222Z"
   },
   {
    "duration": 319,
    "start_time": "2021-12-05T09:20:52.293Z"
   },
   {
    "duration": 155,
    "start_time": "2021-12-05T09:20:52.614Z"
   },
   {
    "duration": 268,
    "start_time": "2021-12-05T09:20:52.772Z"
   },
   {
    "duration": 94,
    "start_time": "2021-12-05T09:20:53.042Z"
   },
   {
    "duration": 8,
    "start_time": "2021-12-05T09:20:53.140Z"
   },
   {
    "duration": 51,
    "start_time": "2021-12-05T09:20:53.151Z"
   },
   {
    "duration": 29,
    "start_time": "2021-12-05T09:20:53.229Z"
   },
   {
    "duration": 33,
    "start_time": "2021-12-05T09:20:53.261Z"
   },
   {
    "duration": 36,
    "start_time": "2021-12-05T09:20:53.296Z"
   },
   {
    "duration": 25,
    "start_time": "2021-12-05T09:20:53.334Z"
   },
   {
    "duration": 126,
    "start_time": "2021-12-05T09:20:53.362Z"
   },
   {
    "duration": 38,
    "start_time": "2021-12-05T09:20:53.491Z"
   },
   {
    "duration": 17,
    "start_time": "2021-12-05T09:20:53.533Z"
   },
   {
    "duration": 18,
    "start_time": "2021-12-05T09:20:53.553Z"
   },
   {
    "duration": 28,
    "start_time": "2021-12-05T09:20:53.574Z"
   },
   {
    "duration": 6,
    "start_time": "2021-12-05T09:20:53.604Z"
   },
   {
    "duration": 65,
    "start_time": "2021-12-05T09:20:53.613Z"
   },
   {
    "duration": 61,
    "start_time": "2021-12-05T09:20:53.681Z"
   },
   {
    "duration": 36,
    "start_time": "2021-12-05T09:20:53.744Z"
   },
   {
    "duration": 75,
    "start_time": "2021-12-05T09:20:53.783Z"
   },
   {
    "duration": 37,
    "start_time": "2021-12-05T09:20:53.861Z"
   },
   {
    "duration": 61,
    "start_time": "2021-12-05T09:20:53.901Z"
   },
   {
    "duration": 33,
    "start_time": "2021-12-05T09:20:53.970Z"
   },
   {
    "duration": 23,
    "start_time": "2021-12-05T09:20:54.029Z"
   },
   {
    "duration": 8,
    "start_time": "2021-12-05T09:20:54.055Z"
   },
   {
    "duration": 20,
    "start_time": "2021-12-05T09:20:54.066Z"
   },
   {
    "duration": 204,
    "start_time": "2021-12-05T09:20:54.089Z"
   },
   {
    "duration": 34,
    "start_time": "2021-12-05T09:20:54.296Z"
   },
   {
    "duration": 14,
    "start_time": "2021-12-05T09:20:54.333Z"
   },
   {
    "duration": 38,
    "start_time": "2021-12-05T09:20:54.349Z"
   },
   {
    "duration": 5,
    "start_time": "2021-12-05T09:20:54.389Z"
   },
   {
    "duration": 7,
    "start_time": "2021-12-05T09:20:54.430Z"
   },
   {
    "duration": 6,
    "start_time": "2021-12-05T09:20:54.440Z"
   },
   {
    "duration": 4,
    "start_time": "2021-12-05T09:20:54.449Z"
   },
   {
    "duration": 795,
    "start_time": "2021-12-05T09:20:54.456Z"
   },
   {
    "duration": 330,
    "start_time": "2021-12-05T09:20:55.253Z"
   },
   {
    "duration": 774,
    "start_time": "2021-12-05T09:20:55.585Z"
   },
   {
    "duration": 337,
    "start_time": "2021-12-05T09:20:56.361Z"
   },
   {
    "duration": 862,
    "start_time": "2021-12-05T09:20:56.700Z"
   },
   {
    "duration": 340,
    "start_time": "2021-12-05T09:20:57.564Z"
   },
   {
    "duration": 775,
    "start_time": "2021-12-05T09:20:57.907Z"
   },
   {
    "duration": 333,
    "start_time": "2021-12-05T09:20:58.685Z"
   },
   {
    "duration": 12,
    "start_time": "2021-12-05T09:20:59.021Z"
   },
   {
    "duration": 13,
    "start_time": "2021-12-05T09:20:59.035Z"
   },
   {
    "duration": 9,
    "start_time": "2021-12-05T09:20:59.051Z"
   },
   {
    "duration": 12,
    "start_time": "2021-12-05T09:20:59.062Z"
   },
   {
    "duration": 55,
    "start_time": "2021-12-05T09:20:59.077Z"
   },
   {
    "duration": 29,
    "start_time": "2021-12-05T09:20:59.135Z"
   },
   {
    "duration": 6,
    "start_time": "2021-12-05T09:20:59.167Z"
   },
   {
    "duration": 10,
    "start_time": "2021-12-05T09:20:59.175Z"
   },
   {
    "duration": 7,
    "start_time": "2021-12-05T09:24:01.007Z"
   },
   {
    "duration": 11,
    "start_time": "2021-12-05T09:24:24.602Z"
   }
  ],
  "colab": {
   "name": "Проект_3_Определение_перспективного_тарифа_для_телеком_компании.ipynb",
   "provenance": []
  },
  "kernelspec": {
   "display_name": "Python 3 (ipykernel)",
   "language": "python",
   "name": "python3"
  },
  "language_info": {
   "codemirror_mode": {
    "name": "ipython",
    "version": 3
   },
   "file_extension": ".py",
   "mimetype": "text/x-python",
   "name": "python",
   "nbconvert_exporter": "python",
   "pygments_lexer": "ipython3",
   "version": "3.9.12"
  },
  "toc": {
   "base_numbering": 1,
   "nav_menu": {},
   "number_sections": true,
   "sideBar": true,
   "skip_h1_title": true,
   "title_cell": "Содержание",
   "title_sidebar": "Содержание",
   "toc_cell": true,
   "toc_position": {
    "height": "calc(100% - 180px)",
    "left": "10px",
    "top": "150px",
    "width": "304px"
   },
   "toc_section_display": true,
   "toc_window_display": true
  }
 },
 "nbformat": 4,
 "nbformat_minor": 1
}
