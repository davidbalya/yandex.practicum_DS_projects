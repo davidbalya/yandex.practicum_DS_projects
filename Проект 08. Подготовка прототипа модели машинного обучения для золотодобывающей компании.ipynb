{
 "cells": [
  {
   "cell_type": "markdown",
   "metadata": {
    "id": "udAGAckzAcsx"
   },
   "source": [
    "# Восстановление золота из руды"
   ]
  },
  {
   "cell_type": "markdown",
   "metadata": {
    "id": "hBTGeGPZAcsy"
   },
   "source": [
    "Подготовьте прототип модели машинного обучения для «Цифры». Компания разрабатывает решения для эффективной работы промышленных предприятий.\n",
    "\n",
    "Модель должна предсказать коэффициент восстановления золота из золотосодержащей руды. Используйте данные с параметрами добычи и очистки. \n",
    "\n",
    "Модель поможет оптимизировать производство, чтобы не запускать предприятие с убыточными характеристиками.\n",
    "\n",
    "Вам нужно:\n",
    "\n",
    "1. Подготовить данные;\n",
    "2. Провести исследовательский анализ данных;\n",
    "3. Построить и обучить модель.\n",
    "\n",
    "Чтобы выполнить проект, обращайтесь к библиотекам *pandas*, *matplotlib* и *sklearn.* Вам поможет их документация."
   ]
  },
  {
   "cell_type": "markdown",
   "metadata": {
    "id": "_mvoU-K0Acs0"
   },
   "source": [
    "## Подготовка данных"
   ]
  },
  {
   "cell_type": "markdown",
   "metadata": {
    "id": "kdY6Ces0Acs1"
   },
   "source": [
    "Подключим необходимые библиотеки:"
   ]
  },
  {
   "cell_type": "code",
   "execution_count": null,
   "metadata": {
    "id": "eXmTh7vRAcs2"
   },
   "outputs": [],
   "source": [
    "import pandas as pd\n",
    "import numpy as np\n",
    "import seaborn as sns\n",
    "import matplotlib.pyplot as plt\n",
    "\n",
    "from numpy.random import RandomState\n",
    "\n",
    "from sklearn.metrics import mean_absolute_error\n",
    "from sklearn.preprocessing import StandardScaler\n",
    "from sklearn.model_selection import cross_val_score\n",
    "from sklearn.metrics.scorer import make_scorer\n",
    "\n",
    "from sklearn.tree import DecisionTreeRegressor\n",
    "from sklearn.ensemble import RandomForestRegressor\n",
    "from sklearn.linear_model import LinearRegression\n",
    "\n",
    "from tqdm import tqdm\n",
    "import warnings\n",
    "warnings.simplefilter('ignore')"
   ]
  },
  {
   "cell_type": "markdown",
   "metadata": {
    "id": "SHIGOKtrAcs3"
   },
   "source": [
    "### Информация по данным в каждой таблице"
   ]
  },
  {
   "cell_type": "markdown",
   "metadata": {
    "id": "ZM6qabdnAcs4"
   },
   "source": [
    "Загрузка данных:"
   ]
  },
  {
   "cell_type": "code",
   "execution_count": null,
   "metadata": {
    "id": "s_l3ut8LAcs4"
   },
   "outputs": [],
   "source": [
    "train = pd.read_csv('/datasets/gold_recovery_train_new.csv')\n",
    "test =  pd.read_csv('/datasets/gold_recovery_test_new.csv')\n",
    "full =  pd.read_csv('/datasets/gold_recovery_full_new.csv')\n",
    "\n",
    "datasets = [train, test, full]\n",
    "name_of_datasets = ['Обучающая', 'Тестовая', 'Полная']"
   ]
  },
  {
   "cell_type": "markdown",
   "metadata": {
    "id": "sSVxsr4pAcs5"
   },
   "source": [
    "Напишем функцию для вывода информации по данным в каждой таблице:"
   ]
  },
  {
   "cell_type": "code",
   "execution_count": null,
   "metadata": {
    "id": "uQxKItrPAcs5"
   },
   "outputs": [],
   "source": [
    "def information(df):\n",
    "    print('\\n')\n",
    "    print(f'Первые 15 строк таблицы - {name_of_datasets[_]}')\n",
    "    display(df.head(15))\n",
    "    print()\n",
    "    print('Информация о столбцах таблицы методом .describe():')\n",
    "    display(df.describe())\n",
    "    print()\n",
    "    print('Информация о столбцах таблицы методом .info():')\n",
    "    print()\n",
    "    display(df.info())\n",
    "    print()\n",
    "    print('Процент пропусков в каждом столбце в порядке убывания')\n",
    "    display(df.isna().mean().sort_values(ascending = False))\n",
    "    print()\n",
    "    print('Кол-во дубликатов в таблице:')\n",
    "    display(df.duplicated().sum())\n",
    "    print('-' * 120)\n",
    "    print()"
   ]
  },
  {
   "cell_type": "code",
   "execution_count": null,
   "metadata": {
    "id": "v7RbS-VAAcs5",
    "outputId": "48eaec56-fd10-42d5-a812-4174c48e67d4",
    "scrolled": true
   },
   "outputs": [
    {
     "name": "stdout",
     "output_type": "stream",
     "text": [
      "\n",
      "\n",
      "Первые 15 строк таблицы - Обучающая\n"
     ]
    },
    {
     "data": {
      "text/html": [
       "<div>\n",
       "<style scoped>\n",
       "    .dataframe tbody tr th:only-of-type {\n",
       "        vertical-align: middle;\n",
       "    }\n",
       "\n",
       "    .dataframe tbody tr th {\n",
       "        vertical-align: top;\n",
       "    }\n",
       "\n",
       "    .dataframe thead th {\n",
       "        text-align: right;\n",
       "    }\n",
       "</style>\n",
       "<table border=\"1\" class=\"dataframe\">\n",
       "  <thead>\n",
       "    <tr style=\"text-align: right;\">\n",
       "      <th></th>\n",
       "      <th>date</th>\n",
       "      <th>final.output.concentrate_ag</th>\n",
       "      <th>final.output.concentrate_pb</th>\n",
       "      <th>final.output.concentrate_sol</th>\n",
       "      <th>final.output.concentrate_au</th>\n",
       "      <th>final.output.recovery</th>\n",
       "      <th>final.output.tail_ag</th>\n",
       "      <th>final.output.tail_pb</th>\n",
       "      <th>final.output.tail_sol</th>\n",
       "      <th>final.output.tail_au</th>\n",
       "      <th>...</th>\n",
       "      <th>secondary_cleaner.state.floatbank4_a_air</th>\n",
       "      <th>secondary_cleaner.state.floatbank4_a_level</th>\n",
       "      <th>secondary_cleaner.state.floatbank4_b_air</th>\n",
       "      <th>secondary_cleaner.state.floatbank4_b_level</th>\n",
       "      <th>secondary_cleaner.state.floatbank5_a_air</th>\n",
       "      <th>secondary_cleaner.state.floatbank5_a_level</th>\n",
       "      <th>secondary_cleaner.state.floatbank5_b_air</th>\n",
       "      <th>secondary_cleaner.state.floatbank5_b_level</th>\n",
       "      <th>secondary_cleaner.state.floatbank6_a_air</th>\n",
       "      <th>secondary_cleaner.state.floatbank6_a_level</th>\n",
       "    </tr>\n",
       "  </thead>\n",
       "  <tbody>\n",
       "    <tr>\n",
       "      <td>0</td>\n",
       "      <td>2016-01-15 00:00:00</td>\n",
       "      <td>6.055403</td>\n",
       "      <td>9.889648</td>\n",
       "      <td>5.507324</td>\n",
       "      <td>42.192020</td>\n",
       "      <td>70.541216</td>\n",
       "      <td>10.411962</td>\n",
       "      <td>0.895447</td>\n",
       "      <td>16.904297</td>\n",
       "      <td>2.143149</td>\n",
       "      <td>...</td>\n",
       "      <td>14.016835</td>\n",
       "      <td>-502.488007</td>\n",
       "      <td>12.099931</td>\n",
       "      <td>-504.715942</td>\n",
       "      <td>9.925633</td>\n",
       "      <td>-498.310211</td>\n",
       "      <td>8.079666</td>\n",
       "      <td>-500.470978</td>\n",
       "      <td>14.151341</td>\n",
       "      <td>-605.841980</td>\n",
       "    </tr>\n",
       "    <tr>\n",
       "      <td>1</td>\n",
       "      <td>2016-01-15 01:00:00</td>\n",
       "      <td>6.029369</td>\n",
       "      <td>9.968944</td>\n",
       "      <td>5.257781</td>\n",
       "      <td>42.701629</td>\n",
       "      <td>69.266198</td>\n",
       "      <td>10.462676</td>\n",
       "      <td>0.927452</td>\n",
       "      <td>16.634514</td>\n",
       "      <td>2.224930</td>\n",
       "      <td>...</td>\n",
       "      <td>13.992281</td>\n",
       "      <td>-505.503262</td>\n",
       "      <td>11.950531</td>\n",
       "      <td>-501.331529</td>\n",
       "      <td>10.039245</td>\n",
       "      <td>-500.169983</td>\n",
       "      <td>7.984757</td>\n",
       "      <td>-500.582168</td>\n",
       "      <td>13.998353</td>\n",
       "      <td>-599.787184</td>\n",
       "    </tr>\n",
       "    <tr>\n",
       "      <td>2</td>\n",
       "      <td>2016-01-15 02:00:00</td>\n",
       "      <td>6.055926</td>\n",
       "      <td>10.213995</td>\n",
       "      <td>5.383759</td>\n",
       "      <td>42.657501</td>\n",
       "      <td>68.116445</td>\n",
       "      <td>10.507046</td>\n",
       "      <td>0.953716</td>\n",
       "      <td>16.208849</td>\n",
       "      <td>2.257889</td>\n",
       "      <td>...</td>\n",
       "      <td>14.015015</td>\n",
       "      <td>-502.520901</td>\n",
       "      <td>11.912783</td>\n",
       "      <td>-501.133383</td>\n",
       "      <td>10.070913</td>\n",
       "      <td>-500.129135</td>\n",
       "      <td>8.013877</td>\n",
       "      <td>-500.517572</td>\n",
       "      <td>14.028663</td>\n",
       "      <td>-601.427363</td>\n",
       "    </tr>\n",
       "    <tr>\n",
       "      <td>3</td>\n",
       "      <td>2016-01-15 03:00:00</td>\n",
       "      <td>6.047977</td>\n",
       "      <td>9.977019</td>\n",
       "      <td>4.858634</td>\n",
       "      <td>42.689819</td>\n",
       "      <td>68.347543</td>\n",
       "      <td>10.422762</td>\n",
       "      <td>0.883763</td>\n",
       "      <td>16.532835</td>\n",
       "      <td>2.146849</td>\n",
       "      <td>...</td>\n",
       "      <td>14.036510</td>\n",
       "      <td>-500.857308</td>\n",
       "      <td>11.999550</td>\n",
       "      <td>-501.193686</td>\n",
       "      <td>9.970366</td>\n",
       "      <td>-499.201640</td>\n",
       "      <td>7.977324</td>\n",
       "      <td>-500.255908</td>\n",
       "      <td>14.005551</td>\n",
       "      <td>-599.996129</td>\n",
       "    </tr>\n",
       "    <tr>\n",
       "      <td>4</td>\n",
       "      <td>2016-01-15 04:00:00</td>\n",
       "      <td>6.148599</td>\n",
       "      <td>10.142511</td>\n",
       "      <td>4.939416</td>\n",
       "      <td>42.774141</td>\n",
       "      <td>66.927016</td>\n",
       "      <td>10.360302</td>\n",
       "      <td>0.792826</td>\n",
       "      <td>16.525686</td>\n",
       "      <td>2.055292</td>\n",
       "      <td>...</td>\n",
       "      <td>14.027298</td>\n",
       "      <td>-499.838632</td>\n",
       "      <td>11.953070</td>\n",
       "      <td>-501.053894</td>\n",
       "      <td>9.925709</td>\n",
       "      <td>-501.686727</td>\n",
       "      <td>7.894242</td>\n",
       "      <td>-500.356035</td>\n",
       "      <td>13.996647</td>\n",
       "      <td>-601.496691</td>\n",
       "    </tr>\n",
       "    <tr>\n",
       "      <td>5</td>\n",
       "      <td>2016-01-15 05:00:00</td>\n",
       "      <td>6.482968</td>\n",
       "      <td>10.049416</td>\n",
       "      <td>5.480257</td>\n",
       "      <td>41.633678</td>\n",
       "      <td>69.465816</td>\n",
       "      <td>10.182708</td>\n",
       "      <td>0.664118</td>\n",
       "      <td>16.999638</td>\n",
       "      <td>1.918586</td>\n",
       "      <td>...</td>\n",
       "      <td>13.938497</td>\n",
       "      <td>-500.970168</td>\n",
       "      <td>11.883350</td>\n",
       "      <td>-500.395298</td>\n",
       "      <td>10.054147</td>\n",
       "      <td>-496.374715</td>\n",
       "      <td>7.965083</td>\n",
       "      <td>-499.364752</td>\n",
       "      <td>14.017067</td>\n",
       "      <td>-599.707915</td>\n",
       "    </tr>\n",
       "    <tr>\n",
       "      <td>6</td>\n",
       "      <td>2016-01-15 06:00:00</td>\n",
       "      <td>6.533849</td>\n",
       "      <td>10.058141</td>\n",
       "      <td>4.569100</td>\n",
       "      <td>41.995316</td>\n",
       "      <td>69.300835</td>\n",
       "      <td>10.304598</td>\n",
       "      <td>0.807342</td>\n",
       "      <td>16.723575</td>\n",
       "      <td>2.058913</td>\n",
       "      <td>...</td>\n",
       "      <td>14.046819</td>\n",
       "      <td>-500.971133</td>\n",
       "      <td>12.091543</td>\n",
       "      <td>-500.501426</td>\n",
       "      <td>10.003247</td>\n",
       "      <td>-497.083180</td>\n",
       "      <td>8.010890</td>\n",
       "      <td>-500.002423</td>\n",
       "      <td>14.029649</td>\n",
       "      <td>-600.905470</td>\n",
       "    </tr>\n",
       "    <tr>\n",
       "      <td>7</td>\n",
       "      <td>2016-01-15 07:00:00</td>\n",
       "      <td>6.130823</td>\n",
       "      <td>9.935481</td>\n",
       "      <td>4.389813</td>\n",
       "      <td>42.452727</td>\n",
       "      <td>70.230976</td>\n",
       "      <td>10.443288</td>\n",
       "      <td>0.949346</td>\n",
       "      <td>16.689959</td>\n",
       "      <td>2.143437</td>\n",
       "      <td>...</td>\n",
       "      <td>13.974691</td>\n",
       "      <td>-501.819696</td>\n",
       "      <td>12.101324</td>\n",
       "      <td>-500.583446</td>\n",
       "      <td>9.873169</td>\n",
       "      <td>-499.171928</td>\n",
       "      <td>7.993381</td>\n",
       "      <td>-499.794518</td>\n",
       "      <td>13.984498</td>\n",
       "      <td>-600.411070</td>\n",
       "    </tr>\n",
       "    <tr>\n",
       "      <td>8</td>\n",
       "      <td>2016-01-15 08:00:00</td>\n",
       "      <td>5.834140</td>\n",
       "      <td>10.071156</td>\n",
       "      <td>4.876389</td>\n",
       "      <td>43.404078</td>\n",
       "      <td>69.688595</td>\n",
       "      <td>10.420140</td>\n",
       "      <td>1.065453</td>\n",
       "      <td>17.201948</td>\n",
       "      <td>2.209881</td>\n",
       "      <td>...</td>\n",
       "      <td>13.964030</td>\n",
       "      <td>-504.252450</td>\n",
       "      <td>12.060738</td>\n",
       "      <td>-501.174549</td>\n",
       "      <td>10.033838</td>\n",
       "      <td>-501.178133</td>\n",
       "      <td>7.881604</td>\n",
       "      <td>-499.729434</td>\n",
       "      <td>13.967135</td>\n",
       "      <td>-599.061188</td>\n",
       "    </tr>\n",
       "    <tr>\n",
       "      <td>9</td>\n",
       "      <td>2016-01-15 09:00:00</td>\n",
       "      <td>5.687063</td>\n",
       "      <td>9.980404</td>\n",
       "      <td>5.282514</td>\n",
       "      <td>43.235220</td>\n",
       "      <td>70.279619</td>\n",
       "      <td>10.487013</td>\n",
       "      <td>1.159805</td>\n",
       "      <td>17.483979</td>\n",
       "      <td>2.209593</td>\n",
       "      <td>...</td>\n",
       "      <td>13.989632</td>\n",
       "      <td>-503.195299</td>\n",
       "      <td>12.052233</td>\n",
       "      <td>-500.928547</td>\n",
       "      <td>9.962574</td>\n",
       "      <td>-502.986357</td>\n",
       "      <td>7.979219</td>\n",
       "      <td>-500.146835</td>\n",
       "      <td>13.981614</td>\n",
       "      <td>-598.070855</td>\n",
       "    </tr>\n",
       "    <tr>\n",
       "      <td>10</td>\n",
       "      <td>2016-01-15 10:00:00</td>\n",
       "      <td>5.706261</td>\n",
       "      <td>10.242511</td>\n",
       "      <td>5.214161</td>\n",
       "      <td>43.487291</td>\n",
       "      <td>70.973641</td>\n",
       "      <td>10.473539</td>\n",
       "      <td>1.171183</td>\n",
       "      <td>17.717049</td>\n",
       "      <td>2.200997</td>\n",
       "      <td>...</td>\n",
       "      <td>14.008944</td>\n",
       "      <td>-504.170807</td>\n",
       "      <td>11.995903</td>\n",
       "      <td>-501.269181</td>\n",
       "      <td>10.043100</td>\n",
       "      <td>-498.529996</td>\n",
       "      <td>8.002633</td>\n",
       "      <td>-499.761922</td>\n",
       "      <td>14.004767</td>\n",
       "      <td>-599.595324</td>\n",
       "    </tr>\n",
       "    <tr>\n",
       "      <td>11</td>\n",
       "      <td>2016-01-15 11:00:00</td>\n",
       "      <td>5.582300</td>\n",
       "      <td>10.029878</td>\n",
       "      <td>5.751567</td>\n",
       "      <td>43.467440</td>\n",
       "      <td>71.380681</td>\n",
       "      <td>10.394314</td>\n",
       "      <td>1.087722</td>\n",
       "      <td>18.059770</td>\n",
       "      <td>2.098777</td>\n",
       "      <td>...</td>\n",
       "      <td>14.029704</td>\n",
       "      <td>-503.940828</td>\n",
       "      <td>12.022296</td>\n",
       "      <td>-501.238477</td>\n",
       "      <td>10.020094</td>\n",
       "      <td>-500.061845</td>\n",
       "      <td>7.964024</td>\n",
       "      <td>-499.283982</td>\n",
       "      <td>14.003011</td>\n",
       "      <td>-599.879856</td>\n",
       "    </tr>\n",
       "    <tr>\n",
       "      <td>12</td>\n",
       "      <td>2016-01-15 12:00:00</td>\n",
       "      <td>5.664983</td>\n",
       "      <td>10.168953</td>\n",
       "      <td>5.484318</td>\n",
       "      <td>43.339714</td>\n",
       "      <td>72.659046</td>\n",
       "      <td>10.475957</td>\n",
       "      <td>1.050592</td>\n",
       "      <td>17.525656</td>\n",
       "      <td>2.064422</td>\n",
       "      <td>...</td>\n",
       "      <td>13.983963</td>\n",
       "      <td>-503.675714</td>\n",
       "      <td>11.928745</td>\n",
       "      <td>-500.583183</td>\n",
       "      <td>9.970359</td>\n",
       "      <td>-498.822343</td>\n",
       "      <td>8.016377</td>\n",
       "      <td>-499.013145</td>\n",
       "      <td>14.000032</td>\n",
       "      <td>-600.024741</td>\n",
       "    </tr>\n",
       "    <tr>\n",
       "      <td>13</td>\n",
       "      <td>2016-01-15 13:00:00</td>\n",
       "      <td>5.474776</td>\n",
       "      <td>9.813218</td>\n",
       "      <td>5.587525</td>\n",
       "      <td>44.099758</td>\n",
       "      <td>73.588844</td>\n",
       "      <td>10.378293</td>\n",
       "      <td>0.900833</td>\n",
       "      <td>17.464201</td>\n",
       "      <td>1.975039</td>\n",
       "      <td>...</td>\n",
       "      <td>13.981325</td>\n",
       "      <td>-504.947519</td>\n",
       "      <td>12.014060</td>\n",
       "      <td>-500.647565</td>\n",
       "      <td>10.000087</td>\n",
       "      <td>-499.306972</td>\n",
       "      <td>8.002007</td>\n",
       "      <td>-499.970754</td>\n",
       "      <td>14.019977</td>\n",
       "      <td>-599.986714</td>\n",
       "    </tr>\n",
       "    <tr>\n",
       "      <td>14</td>\n",
       "      <td>2016-01-15 14:00:00</td>\n",
       "      <td>5.437716</td>\n",
       "      <td>9.781181</td>\n",
       "      <td>6.057627</td>\n",
       "      <td>44.284117</td>\n",
       "      <td>70.847012</td>\n",
       "      <td>10.324415</td>\n",
       "      <td>0.961210</td>\n",
       "      <td>18.185262</td>\n",
       "      <td>2.161256</td>\n",
       "      <td>...</td>\n",
       "      <td>13.996317</td>\n",
       "      <td>-502.995300</td>\n",
       "      <td>11.980055</td>\n",
       "      <td>-500.607751</td>\n",
       "      <td>9.964501</td>\n",
       "      <td>-499.261719</td>\n",
       "      <td>8.065048</td>\n",
       "      <td>-499.492395</td>\n",
       "      <td>13.997801</td>\n",
       "      <td>-600.621416</td>\n",
       "    </tr>\n",
       "  </tbody>\n",
       "</table>\n",
       "<p>15 rows × 87 columns</p>\n",
       "</div>"
      ],
      "text/plain": [
       "                   date  final.output.concentrate_ag  \\\n",
       "0   2016-01-15 00:00:00                     6.055403   \n",
       "1   2016-01-15 01:00:00                     6.029369   \n",
       "2   2016-01-15 02:00:00                     6.055926   \n",
       "3   2016-01-15 03:00:00                     6.047977   \n",
       "4   2016-01-15 04:00:00                     6.148599   \n",
       "5   2016-01-15 05:00:00                     6.482968   \n",
       "6   2016-01-15 06:00:00                     6.533849   \n",
       "7   2016-01-15 07:00:00                     6.130823   \n",
       "8   2016-01-15 08:00:00                     5.834140   \n",
       "9   2016-01-15 09:00:00                     5.687063   \n",
       "10  2016-01-15 10:00:00                     5.706261   \n",
       "11  2016-01-15 11:00:00                     5.582300   \n",
       "12  2016-01-15 12:00:00                     5.664983   \n",
       "13  2016-01-15 13:00:00                     5.474776   \n",
       "14  2016-01-15 14:00:00                     5.437716   \n",
       "\n",
       "    final.output.concentrate_pb  final.output.concentrate_sol  \\\n",
       "0                      9.889648                      5.507324   \n",
       "1                      9.968944                      5.257781   \n",
       "2                     10.213995                      5.383759   \n",
       "3                      9.977019                      4.858634   \n",
       "4                     10.142511                      4.939416   \n",
       "5                     10.049416                      5.480257   \n",
       "6                     10.058141                      4.569100   \n",
       "7                      9.935481                      4.389813   \n",
       "8                     10.071156                      4.876389   \n",
       "9                      9.980404                      5.282514   \n",
       "10                    10.242511                      5.214161   \n",
       "11                    10.029878                      5.751567   \n",
       "12                    10.168953                      5.484318   \n",
       "13                     9.813218                      5.587525   \n",
       "14                     9.781181                      6.057627   \n",
       "\n",
       "    final.output.concentrate_au  final.output.recovery  final.output.tail_ag  \\\n",
       "0                     42.192020              70.541216             10.411962   \n",
       "1                     42.701629              69.266198             10.462676   \n",
       "2                     42.657501              68.116445             10.507046   \n",
       "3                     42.689819              68.347543             10.422762   \n",
       "4                     42.774141              66.927016             10.360302   \n",
       "5                     41.633678              69.465816             10.182708   \n",
       "6                     41.995316              69.300835             10.304598   \n",
       "7                     42.452727              70.230976             10.443288   \n",
       "8                     43.404078              69.688595             10.420140   \n",
       "9                     43.235220              70.279619             10.487013   \n",
       "10                    43.487291              70.973641             10.473539   \n",
       "11                    43.467440              71.380681             10.394314   \n",
       "12                    43.339714              72.659046             10.475957   \n",
       "13                    44.099758              73.588844             10.378293   \n",
       "14                    44.284117              70.847012             10.324415   \n",
       "\n",
       "    final.output.tail_pb  final.output.tail_sol  final.output.tail_au  ...  \\\n",
       "0               0.895447              16.904297              2.143149  ...   \n",
       "1               0.927452              16.634514              2.224930  ...   \n",
       "2               0.953716              16.208849              2.257889  ...   \n",
       "3               0.883763              16.532835              2.146849  ...   \n",
       "4               0.792826              16.525686              2.055292  ...   \n",
       "5               0.664118              16.999638              1.918586  ...   \n",
       "6               0.807342              16.723575              2.058913  ...   \n",
       "7               0.949346              16.689959              2.143437  ...   \n",
       "8               1.065453              17.201948              2.209881  ...   \n",
       "9               1.159805              17.483979              2.209593  ...   \n",
       "10              1.171183              17.717049              2.200997  ...   \n",
       "11              1.087722              18.059770              2.098777  ...   \n",
       "12              1.050592              17.525656              2.064422  ...   \n",
       "13              0.900833              17.464201              1.975039  ...   \n",
       "14              0.961210              18.185262              2.161256  ...   \n",
       "\n",
       "    secondary_cleaner.state.floatbank4_a_air  \\\n",
       "0                                  14.016835   \n",
       "1                                  13.992281   \n",
       "2                                  14.015015   \n",
       "3                                  14.036510   \n",
       "4                                  14.027298   \n",
       "5                                  13.938497   \n",
       "6                                  14.046819   \n",
       "7                                  13.974691   \n",
       "8                                  13.964030   \n",
       "9                                  13.989632   \n",
       "10                                 14.008944   \n",
       "11                                 14.029704   \n",
       "12                                 13.983963   \n",
       "13                                 13.981325   \n",
       "14                                 13.996317   \n",
       "\n",
       "    secondary_cleaner.state.floatbank4_a_level  \\\n",
       "0                                  -502.488007   \n",
       "1                                  -505.503262   \n",
       "2                                  -502.520901   \n",
       "3                                  -500.857308   \n",
       "4                                  -499.838632   \n",
       "5                                  -500.970168   \n",
       "6                                  -500.971133   \n",
       "7                                  -501.819696   \n",
       "8                                  -504.252450   \n",
       "9                                  -503.195299   \n",
       "10                                 -504.170807   \n",
       "11                                 -503.940828   \n",
       "12                                 -503.675714   \n",
       "13                                 -504.947519   \n",
       "14                                 -502.995300   \n",
       "\n",
       "    secondary_cleaner.state.floatbank4_b_air  \\\n",
       "0                                  12.099931   \n",
       "1                                  11.950531   \n",
       "2                                  11.912783   \n",
       "3                                  11.999550   \n",
       "4                                  11.953070   \n",
       "5                                  11.883350   \n",
       "6                                  12.091543   \n",
       "7                                  12.101324   \n",
       "8                                  12.060738   \n",
       "9                                  12.052233   \n",
       "10                                 11.995903   \n",
       "11                                 12.022296   \n",
       "12                                 11.928745   \n",
       "13                                 12.014060   \n",
       "14                                 11.980055   \n",
       "\n",
       "    secondary_cleaner.state.floatbank4_b_level  \\\n",
       "0                                  -504.715942   \n",
       "1                                  -501.331529   \n",
       "2                                  -501.133383   \n",
       "3                                  -501.193686   \n",
       "4                                  -501.053894   \n",
       "5                                  -500.395298   \n",
       "6                                  -500.501426   \n",
       "7                                  -500.583446   \n",
       "8                                  -501.174549   \n",
       "9                                  -500.928547   \n",
       "10                                 -501.269181   \n",
       "11                                 -501.238477   \n",
       "12                                 -500.583183   \n",
       "13                                 -500.647565   \n",
       "14                                 -500.607751   \n",
       "\n",
       "    secondary_cleaner.state.floatbank5_a_air  \\\n",
       "0                                   9.925633   \n",
       "1                                  10.039245   \n",
       "2                                  10.070913   \n",
       "3                                   9.970366   \n",
       "4                                   9.925709   \n",
       "5                                  10.054147   \n",
       "6                                  10.003247   \n",
       "7                                   9.873169   \n",
       "8                                  10.033838   \n",
       "9                                   9.962574   \n",
       "10                                 10.043100   \n",
       "11                                 10.020094   \n",
       "12                                  9.970359   \n",
       "13                                 10.000087   \n",
       "14                                  9.964501   \n",
       "\n",
       "    secondary_cleaner.state.floatbank5_a_level  \\\n",
       "0                                  -498.310211   \n",
       "1                                  -500.169983   \n",
       "2                                  -500.129135   \n",
       "3                                  -499.201640   \n",
       "4                                  -501.686727   \n",
       "5                                  -496.374715   \n",
       "6                                  -497.083180   \n",
       "7                                  -499.171928   \n",
       "8                                  -501.178133   \n",
       "9                                  -502.986357   \n",
       "10                                 -498.529996   \n",
       "11                                 -500.061845   \n",
       "12                                 -498.822343   \n",
       "13                                 -499.306972   \n",
       "14                                 -499.261719   \n",
       "\n",
       "    secondary_cleaner.state.floatbank5_b_air  \\\n",
       "0                                   8.079666   \n",
       "1                                   7.984757   \n",
       "2                                   8.013877   \n",
       "3                                   7.977324   \n",
       "4                                   7.894242   \n",
       "5                                   7.965083   \n",
       "6                                   8.010890   \n",
       "7                                   7.993381   \n",
       "8                                   7.881604   \n",
       "9                                   7.979219   \n",
       "10                                  8.002633   \n",
       "11                                  7.964024   \n",
       "12                                  8.016377   \n",
       "13                                  8.002007   \n",
       "14                                  8.065048   \n",
       "\n",
       "    secondary_cleaner.state.floatbank5_b_level  \\\n",
       "0                                  -500.470978   \n",
       "1                                  -500.582168   \n",
       "2                                  -500.517572   \n",
       "3                                  -500.255908   \n",
       "4                                  -500.356035   \n",
       "5                                  -499.364752   \n",
       "6                                  -500.002423   \n",
       "7                                  -499.794518   \n",
       "8                                  -499.729434   \n",
       "9                                  -500.146835   \n",
       "10                                 -499.761922   \n",
       "11                                 -499.283982   \n",
       "12                                 -499.013145   \n",
       "13                                 -499.970754   \n",
       "14                                 -499.492395   \n",
       "\n",
       "    secondary_cleaner.state.floatbank6_a_air  \\\n",
       "0                                  14.151341   \n",
       "1                                  13.998353   \n",
       "2                                  14.028663   \n",
       "3                                  14.005551   \n",
       "4                                  13.996647   \n",
       "5                                  14.017067   \n",
       "6                                  14.029649   \n",
       "7                                  13.984498   \n",
       "8                                  13.967135   \n",
       "9                                  13.981614   \n",
       "10                                 14.004767   \n",
       "11                                 14.003011   \n",
       "12                                 14.000032   \n",
       "13                                 14.019977   \n",
       "14                                 13.997801   \n",
       "\n",
       "    secondary_cleaner.state.floatbank6_a_level  \n",
       "0                                  -605.841980  \n",
       "1                                  -599.787184  \n",
       "2                                  -601.427363  \n",
       "3                                  -599.996129  \n",
       "4                                  -601.496691  \n",
       "5                                  -599.707915  \n",
       "6                                  -600.905470  \n",
       "7                                  -600.411070  \n",
       "8                                  -599.061188  \n",
       "9                                  -598.070855  \n",
       "10                                 -599.595324  \n",
       "11                                 -599.879856  \n",
       "12                                 -600.024741  \n",
       "13                                 -599.986714  \n",
       "14                                 -600.621416  \n",
       "\n",
       "[15 rows x 87 columns]"
      ]
     },
     "metadata": {},
     "output_type": "display_data"
    },
    {
     "name": "stdout",
     "output_type": "stream",
     "text": [
      "\n",
      "Информация о столбцах таблицы методом .describe():\n"
     ]
    },
    {
     "data": {
      "text/html": [
       "<div>\n",
       "<style scoped>\n",
       "    .dataframe tbody tr th:only-of-type {\n",
       "        vertical-align: middle;\n",
       "    }\n",
       "\n",
       "    .dataframe tbody tr th {\n",
       "        vertical-align: top;\n",
       "    }\n",
       "\n",
       "    .dataframe thead th {\n",
       "        text-align: right;\n",
       "    }\n",
       "</style>\n",
       "<table border=\"1\" class=\"dataframe\">\n",
       "  <thead>\n",
       "    <tr style=\"text-align: right;\">\n",
       "      <th></th>\n",
       "      <th>final.output.concentrate_ag</th>\n",
       "      <th>final.output.concentrate_pb</th>\n",
       "      <th>final.output.concentrate_sol</th>\n",
       "      <th>final.output.concentrate_au</th>\n",
       "      <th>final.output.recovery</th>\n",
       "      <th>final.output.tail_ag</th>\n",
       "      <th>final.output.tail_pb</th>\n",
       "      <th>final.output.tail_sol</th>\n",
       "      <th>final.output.tail_au</th>\n",
       "      <th>primary_cleaner.input.sulfate</th>\n",
       "      <th>...</th>\n",
       "      <th>secondary_cleaner.state.floatbank4_a_air</th>\n",
       "      <th>secondary_cleaner.state.floatbank4_a_level</th>\n",
       "      <th>secondary_cleaner.state.floatbank4_b_air</th>\n",
       "      <th>secondary_cleaner.state.floatbank4_b_level</th>\n",
       "      <th>secondary_cleaner.state.floatbank5_a_air</th>\n",
       "      <th>secondary_cleaner.state.floatbank5_a_level</th>\n",
       "      <th>secondary_cleaner.state.floatbank5_b_air</th>\n",
       "      <th>secondary_cleaner.state.floatbank5_b_level</th>\n",
       "      <th>secondary_cleaner.state.floatbank6_a_air</th>\n",
       "      <th>secondary_cleaner.state.floatbank6_a_level</th>\n",
       "    </tr>\n",
       "  </thead>\n",
       "  <tbody>\n",
       "    <tr>\n",
       "      <td>count</td>\n",
       "      <td>14148.000000</td>\n",
       "      <td>14148.000000</td>\n",
       "      <td>13938.000000</td>\n",
       "      <td>14149.000000</td>\n",
       "      <td>14149.000000</td>\n",
       "      <td>14149.000000</td>\n",
       "      <td>14049.000000</td>\n",
       "      <td>14144.000000</td>\n",
       "      <td>14149.000000</td>\n",
       "      <td>14129.000000</td>\n",
       "      <td>...</td>\n",
       "      <td>14143.000000</td>\n",
       "      <td>14148.000000</td>\n",
       "      <td>14148.000000</td>\n",
       "      <td>14148.000000</td>\n",
       "      <td>14148.000000</td>\n",
       "      <td>14148.000000</td>\n",
       "      <td>14148.000000</td>\n",
       "      <td>14148.000000</td>\n",
       "      <td>14147.000000</td>\n",
       "      <td>14148.000000</td>\n",
       "    </tr>\n",
       "    <tr>\n",
       "      <td>mean</td>\n",
       "      <td>5.142034</td>\n",
       "      <td>10.132960</td>\n",
       "      <td>9.202849</td>\n",
       "      <td>44.003792</td>\n",
       "      <td>66.518832</td>\n",
       "      <td>9.607035</td>\n",
       "      <td>2.597298</td>\n",
       "      <td>10.512122</td>\n",
       "      <td>2.918421</td>\n",
       "      <td>133.320659</td>\n",
       "      <td>...</td>\n",
       "      <td>19.985454</td>\n",
       "      <td>-478.696836</td>\n",
       "      <td>15.487065</td>\n",
       "      <td>-460.229416</td>\n",
       "      <td>16.775136</td>\n",
       "      <td>-483.956022</td>\n",
       "      <td>13.064590</td>\n",
       "      <td>-483.966564</td>\n",
       "      <td>19.577539</td>\n",
       "      <td>-506.798480</td>\n",
       "    </tr>\n",
       "    <tr>\n",
       "      <td>std</td>\n",
       "      <td>1.369586</td>\n",
       "      <td>1.654930</td>\n",
       "      <td>2.790516</td>\n",
       "      <td>4.905261</td>\n",
       "      <td>10.295402</td>\n",
       "      <td>2.319069</td>\n",
       "      <td>0.971843</td>\n",
       "      <td>3.003617</td>\n",
       "      <td>0.903712</td>\n",
       "      <td>39.431659</td>\n",
       "      <td>...</td>\n",
       "      <td>5.657723</td>\n",
       "      <td>50.736021</td>\n",
       "      <td>5.255655</td>\n",
       "      <td>58.843586</td>\n",
       "      <td>5.831906</td>\n",
       "      <td>37.892788</td>\n",
       "      <td>5.765617</td>\n",
       "      <td>39.207913</td>\n",
       "      <td>5.764417</td>\n",
       "      <td>37.079249</td>\n",
       "    </tr>\n",
       "    <tr>\n",
       "      <td>min</td>\n",
       "      <td>0.000000</td>\n",
       "      <td>0.000000</td>\n",
       "      <td>0.000000</td>\n",
       "      <td>0.000000</td>\n",
       "      <td>0.000000</td>\n",
       "      <td>0.000000</td>\n",
       "      <td>0.000000</td>\n",
       "      <td>0.000000</td>\n",
       "      <td>0.000000</td>\n",
       "      <td>0.003112</td>\n",
       "      <td>...</td>\n",
       "      <td>0.000000</td>\n",
       "      <td>-799.709069</td>\n",
       "      <td>0.000000</td>\n",
       "      <td>-799.889113</td>\n",
       "      <td>-0.372054</td>\n",
       "      <td>-797.142475</td>\n",
       "      <td>0.646208</td>\n",
       "      <td>-800.006180</td>\n",
       "      <td>0.195324</td>\n",
       "      <td>-809.398668</td>\n",
       "    </tr>\n",
       "    <tr>\n",
       "      <td>25%</td>\n",
       "      <td>4.211620</td>\n",
       "      <td>9.297355</td>\n",
       "      <td>7.484645</td>\n",
       "      <td>43.276111</td>\n",
       "      <td>62.545817</td>\n",
       "      <td>7.997429</td>\n",
       "      <td>1.905973</td>\n",
       "      <td>8.811324</td>\n",
       "      <td>2.368607</td>\n",
       "      <td>107.006651</td>\n",
       "      <td>...</td>\n",
       "      <td>14.990775</td>\n",
       "      <td>-500.628656</td>\n",
       "      <td>11.894558</td>\n",
       "      <td>-500.149000</td>\n",
       "      <td>11.083980</td>\n",
       "      <td>-500.363177</td>\n",
       "      <td>8.994405</td>\n",
       "      <td>-500.105994</td>\n",
       "      <td>14.989304</td>\n",
       "      <td>-500.745104</td>\n",
       "    </tr>\n",
       "    <tr>\n",
       "      <td>50%</td>\n",
       "      <td>4.994652</td>\n",
       "      <td>10.297144</td>\n",
       "      <td>8.845462</td>\n",
       "      <td>44.872436</td>\n",
       "      <td>67.432775</td>\n",
       "      <td>9.480270</td>\n",
       "      <td>2.592022</td>\n",
       "      <td>10.514621</td>\n",
       "      <td>2.851025</td>\n",
       "      <td>133.018328</td>\n",
       "      <td>...</td>\n",
       "      <td>20.001789</td>\n",
       "      <td>-499.681450</td>\n",
       "      <td>14.975536</td>\n",
       "      <td>-499.388738</td>\n",
       "      <td>17.932223</td>\n",
       "      <td>-499.702452</td>\n",
       "      <td>11.997547</td>\n",
       "      <td>-499.914556</td>\n",
       "      <td>19.984175</td>\n",
       "      <td>-500.061431</td>\n",
       "    </tr>\n",
       "    <tr>\n",
       "      <td>75%</td>\n",
       "      <td>5.859540</td>\n",
       "      <td>11.170603</td>\n",
       "      <td>10.487508</td>\n",
       "      <td>46.166425</td>\n",
       "      <td>72.346428</td>\n",
       "      <td>11.003707</td>\n",
       "      <td>3.241723</td>\n",
       "      <td>11.933009</td>\n",
       "      <td>3.434764</td>\n",
       "      <td>159.825396</td>\n",
       "      <td>...</td>\n",
       "      <td>24.990826</td>\n",
       "      <td>-477.472413</td>\n",
       "      <td>20.059375</td>\n",
       "      <td>-400.039008</td>\n",
       "      <td>21.346550</td>\n",
       "      <td>-487.712108</td>\n",
       "      <td>17.982903</td>\n",
       "      <td>-453.186936</td>\n",
       "      <td>24.991623</td>\n",
       "      <td>-499.536466</td>\n",
       "    </tr>\n",
       "    <tr>\n",
       "      <td>max</td>\n",
       "      <td>16.001945</td>\n",
       "      <td>17.031899</td>\n",
       "      <td>18.124851</td>\n",
       "      <td>52.756638</td>\n",
       "      <td>100.000000</td>\n",
       "      <td>19.552149</td>\n",
       "      <td>5.639565</td>\n",
       "      <td>22.317730</td>\n",
       "      <td>8.197408</td>\n",
       "      <td>250.127834</td>\n",
       "      <td>...</td>\n",
       "      <td>30.115735</td>\n",
       "      <td>-245.239184</td>\n",
       "      <td>24.007913</td>\n",
       "      <td>-145.071088</td>\n",
       "      <td>43.709931</td>\n",
       "      <td>-275.073125</td>\n",
       "      <td>27.926001</td>\n",
       "      <td>-157.396071</td>\n",
       "      <td>32.188906</td>\n",
       "      <td>-104.427459</td>\n",
       "    </tr>\n",
       "  </tbody>\n",
       "</table>\n",
       "<p>8 rows × 86 columns</p>\n",
       "</div>"
      ],
      "text/plain": [
       "       final.output.concentrate_ag  final.output.concentrate_pb  \\\n",
       "count                 14148.000000                 14148.000000   \n",
       "mean                      5.142034                    10.132960   \n",
       "std                       1.369586                     1.654930   \n",
       "min                       0.000000                     0.000000   \n",
       "25%                       4.211620                     9.297355   \n",
       "50%                       4.994652                    10.297144   \n",
       "75%                       5.859540                    11.170603   \n",
       "max                      16.001945                    17.031899   \n",
       "\n",
       "       final.output.concentrate_sol  final.output.concentrate_au  \\\n",
       "count                  13938.000000                 14149.000000   \n",
       "mean                       9.202849                    44.003792   \n",
       "std                        2.790516                     4.905261   \n",
       "min                        0.000000                     0.000000   \n",
       "25%                        7.484645                    43.276111   \n",
       "50%                        8.845462                    44.872436   \n",
       "75%                       10.487508                    46.166425   \n",
       "max                       18.124851                    52.756638   \n",
       "\n",
       "       final.output.recovery  final.output.tail_ag  final.output.tail_pb  \\\n",
       "count           14149.000000          14149.000000          14049.000000   \n",
       "mean               66.518832              9.607035              2.597298   \n",
       "std                10.295402              2.319069              0.971843   \n",
       "min                 0.000000              0.000000              0.000000   \n",
       "25%                62.545817              7.997429              1.905973   \n",
       "50%                67.432775              9.480270              2.592022   \n",
       "75%                72.346428             11.003707              3.241723   \n",
       "max               100.000000             19.552149              5.639565   \n",
       "\n",
       "       final.output.tail_sol  final.output.tail_au  \\\n",
       "count           14144.000000          14149.000000   \n",
       "mean               10.512122              2.918421   \n",
       "std                 3.003617              0.903712   \n",
       "min                 0.000000              0.000000   \n",
       "25%                 8.811324              2.368607   \n",
       "50%                10.514621              2.851025   \n",
       "75%                11.933009              3.434764   \n",
       "max                22.317730              8.197408   \n",
       "\n",
       "       primary_cleaner.input.sulfate  ...  \\\n",
       "count                   14129.000000  ...   \n",
       "mean                      133.320659  ...   \n",
       "std                        39.431659  ...   \n",
       "min                         0.003112  ...   \n",
       "25%                       107.006651  ...   \n",
       "50%                       133.018328  ...   \n",
       "75%                       159.825396  ...   \n",
       "max                       250.127834  ...   \n",
       "\n",
       "       secondary_cleaner.state.floatbank4_a_air  \\\n",
       "count                              14143.000000   \n",
       "mean                                  19.985454   \n",
       "std                                    5.657723   \n",
       "min                                    0.000000   \n",
       "25%                                   14.990775   \n",
       "50%                                   20.001789   \n",
       "75%                                   24.990826   \n",
       "max                                   30.115735   \n",
       "\n",
       "       secondary_cleaner.state.floatbank4_a_level  \\\n",
       "count                                14148.000000   \n",
       "mean                                  -478.696836   \n",
       "std                                     50.736021   \n",
       "min                                   -799.709069   \n",
       "25%                                   -500.628656   \n",
       "50%                                   -499.681450   \n",
       "75%                                   -477.472413   \n",
       "max                                   -245.239184   \n",
       "\n",
       "       secondary_cleaner.state.floatbank4_b_air  \\\n",
       "count                              14148.000000   \n",
       "mean                                  15.487065   \n",
       "std                                    5.255655   \n",
       "min                                    0.000000   \n",
       "25%                                   11.894558   \n",
       "50%                                   14.975536   \n",
       "75%                                   20.059375   \n",
       "max                                   24.007913   \n",
       "\n",
       "       secondary_cleaner.state.floatbank4_b_level  \\\n",
       "count                                14148.000000   \n",
       "mean                                  -460.229416   \n",
       "std                                     58.843586   \n",
       "min                                   -799.889113   \n",
       "25%                                   -500.149000   \n",
       "50%                                   -499.388738   \n",
       "75%                                   -400.039008   \n",
       "max                                   -145.071088   \n",
       "\n",
       "       secondary_cleaner.state.floatbank5_a_air  \\\n",
       "count                              14148.000000   \n",
       "mean                                  16.775136   \n",
       "std                                    5.831906   \n",
       "min                                   -0.372054   \n",
       "25%                                   11.083980   \n",
       "50%                                   17.932223   \n",
       "75%                                   21.346550   \n",
       "max                                   43.709931   \n",
       "\n",
       "       secondary_cleaner.state.floatbank5_a_level  \\\n",
       "count                                14148.000000   \n",
       "mean                                  -483.956022   \n",
       "std                                     37.892788   \n",
       "min                                   -797.142475   \n",
       "25%                                   -500.363177   \n",
       "50%                                   -499.702452   \n",
       "75%                                   -487.712108   \n",
       "max                                   -275.073125   \n",
       "\n",
       "       secondary_cleaner.state.floatbank5_b_air  \\\n",
       "count                              14148.000000   \n",
       "mean                                  13.064590   \n",
       "std                                    5.765617   \n",
       "min                                    0.646208   \n",
       "25%                                    8.994405   \n",
       "50%                                   11.997547   \n",
       "75%                                   17.982903   \n",
       "max                                   27.926001   \n",
       "\n",
       "       secondary_cleaner.state.floatbank5_b_level  \\\n",
       "count                                14148.000000   \n",
       "mean                                  -483.966564   \n",
       "std                                     39.207913   \n",
       "min                                   -800.006180   \n",
       "25%                                   -500.105994   \n",
       "50%                                   -499.914556   \n",
       "75%                                   -453.186936   \n",
       "max                                   -157.396071   \n",
       "\n",
       "       secondary_cleaner.state.floatbank6_a_air  \\\n",
       "count                              14147.000000   \n",
       "mean                                  19.577539   \n",
       "std                                    5.764417   \n",
       "min                                    0.195324   \n",
       "25%                                   14.989304   \n",
       "50%                                   19.984175   \n",
       "75%                                   24.991623   \n",
       "max                                   32.188906   \n",
       "\n",
       "       secondary_cleaner.state.floatbank6_a_level  \n",
       "count                                14148.000000  \n",
       "mean                                  -506.798480  \n",
       "std                                     37.079249  \n",
       "min                                   -809.398668  \n",
       "25%                                   -500.745104  \n",
       "50%                                   -500.061431  \n",
       "75%                                   -499.536466  \n",
       "max                                   -104.427459  \n",
       "\n",
       "[8 rows x 86 columns]"
      ]
     },
     "metadata": {},
     "output_type": "display_data"
    },
    {
     "name": "stdout",
     "output_type": "stream",
     "text": [
      "\n",
      "Информация о столбцах таблицы методом .info():\n",
      "\n",
      "<class 'pandas.core.frame.DataFrame'>\n",
      "RangeIndex: 14149 entries, 0 to 14148\n",
      "Data columns (total 87 columns):\n",
      "date                                                  14149 non-null object\n",
      "final.output.concentrate_ag                           14148 non-null float64\n",
      "final.output.concentrate_pb                           14148 non-null float64\n",
      "final.output.concentrate_sol                          13938 non-null float64\n",
      "final.output.concentrate_au                           14149 non-null float64\n",
      "final.output.recovery                                 14149 non-null float64\n",
      "final.output.tail_ag                                  14149 non-null float64\n",
      "final.output.tail_pb                                  14049 non-null float64\n",
      "final.output.tail_sol                                 14144 non-null float64\n",
      "final.output.tail_au                                  14149 non-null float64\n",
      "primary_cleaner.input.sulfate                         14129 non-null float64\n",
      "primary_cleaner.input.depressant                      14117 non-null float64\n",
      "primary_cleaner.input.feed_size                       14149 non-null float64\n",
      "primary_cleaner.input.xanthate                        14049 non-null float64\n",
      "primary_cleaner.output.concentrate_ag                 14149 non-null float64\n",
      "primary_cleaner.output.concentrate_pb                 14063 non-null float64\n",
      "primary_cleaner.output.concentrate_sol                13863 non-null float64\n",
      "primary_cleaner.output.concentrate_au                 14149 non-null float64\n",
      "primary_cleaner.output.tail_ag                        14148 non-null float64\n",
      "primary_cleaner.output.tail_pb                        14134 non-null float64\n",
      "primary_cleaner.output.tail_sol                       14103 non-null float64\n",
      "primary_cleaner.output.tail_au                        14149 non-null float64\n",
      "primary_cleaner.state.floatbank8_a_air                14145 non-null float64\n",
      "primary_cleaner.state.floatbank8_a_level              14148 non-null float64\n",
      "primary_cleaner.state.floatbank8_b_air                14145 non-null float64\n",
      "primary_cleaner.state.floatbank8_b_level              14148 non-null float64\n",
      "primary_cleaner.state.floatbank8_c_air                14147 non-null float64\n",
      "primary_cleaner.state.floatbank8_c_level              14148 non-null float64\n",
      "primary_cleaner.state.floatbank8_d_air                14146 non-null float64\n",
      "primary_cleaner.state.floatbank8_d_level              14148 non-null float64\n",
      "rougher.calculation.sulfate_to_au_concentrate         14148 non-null float64\n",
      "rougher.calculation.floatbank10_sulfate_to_au_feed    14148 non-null float64\n",
      "rougher.calculation.floatbank11_sulfate_to_au_feed    14148 non-null float64\n",
      "rougher.calculation.au_pb_ratio                       14149 non-null float64\n",
      "rougher.input.feed_ag                                 14149 non-null float64\n",
      "rougher.input.feed_pb                                 14049 non-null float64\n",
      "rougher.input.feed_rate                               14141 non-null float64\n",
      "rougher.input.feed_size                               14005 non-null float64\n",
      "rougher.input.feed_sol                                14071 non-null float64\n",
      "rougher.input.feed_au                                 14149 non-null float64\n",
      "rougher.input.floatbank10_sulfate                     14120 non-null float64\n",
      "rougher.input.floatbank10_xanthate                    14141 non-null float64\n",
      "rougher.input.floatbank11_sulfate                     14113 non-null float64\n",
      "rougher.input.floatbank11_xanthate                    13721 non-null float64\n",
      "rougher.output.concentrate_ag                         14149 non-null float64\n",
      "rougher.output.concentrate_pb                         14149 non-null float64\n",
      "rougher.output.concentrate_sol                        14127 non-null float64\n",
      "rougher.output.concentrate_au                         14149 non-null float64\n",
      "rougher.output.recovery                               14149 non-null float64\n",
      "rougher.output.tail_ag                                14148 non-null float64\n",
      "rougher.output.tail_pb                                14149 non-null float64\n",
      "rougher.output.tail_sol                               14149 non-null float64\n",
      "rougher.output.tail_au                                14149 non-null float64\n",
      "rougher.state.floatbank10_a_air                       14148 non-null float64\n",
      "rougher.state.floatbank10_a_level                     14148 non-null float64\n",
      "rougher.state.floatbank10_b_air                       14148 non-null float64\n",
      "rougher.state.floatbank10_b_level                     14148 non-null float64\n",
      "rougher.state.floatbank10_c_air                       14148 non-null float64\n",
      "rougher.state.floatbank10_c_level                     14148 non-null float64\n",
      "rougher.state.floatbank10_d_air                       14149 non-null float64\n",
      "rougher.state.floatbank10_d_level                     14149 non-null float64\n",
      "rougher.state.floatbank10_e_air                       13713 non-null float64\n",
      "rougher.state.floatbank10_e_level                     14149 non-null float64\n",
      "rougher.state.floatbank10_f_air                       14149 non-null float64\n",
      "rougher.state.floatbank10_f_level                     14149 non-null float64\n",
      "secondary_cleaner.output.tail_ag                      14147 non-null float64\n",
      "secondary_cleaner.output.tail_pb                      14139 non-null float64\n",
      "secondary_cleaner.output.tail_sol                     12544 non-null float64\n",
      "secondary_cleaner.output.tail_au                      14149 non-null float64\n",
      "secondary_cleaner.state.floatbank2_a_air              13932 non-null float64\n",
      "secondary_cleaner.state.floatbank2_a_level            14148 non-null float64\n",
      "secondary_cleaner.state.floatbank2_b_air              14128 non-null float64\n",
      "secondary_cleaner.state.floatbank2_b_level            14148 non-null float64\n",
      "secondary_cleaner.state.floatbank3_a_air              14145 non-null float64\n",
      "secondary_cleaner.state.floatbank3_a_level            14148 non-null float64\n",
      "secondary_cleaner.state.floatbank3_b_air              14148 non-null float64\n",
      "secondary_cleaner.state.floatbank3_b_level            14148 non-null float64\n",
      "secondary_cleaner.state.floatbank4_a_air              14143 non-null float64\n",
      "secondary_cleaner.state.floatbank4_a_level            14148 non-null float64\n",
      "secondary_cleaner.state.floatbank4_b_air              14148 non-null float64\n",
      "secondary_cleaner.state.floatbank4_b_level            14148 non-null float64\n",
      "secondary_cleaner.state.floatbank5_a_air              14148 non-null float64\n",
      "secondary_cleaner.state.floatbank5_a_level            14148 non-null float64\n",
      "secondary_cleaner.state.floatbank5_b_air              14148 non-null float64\n",
      "secondary_cleaner.state.floatbank5_b_level            14148 non-null float64\n",
      "secondary_cleaner.state.floatbank6_a_air              14147 non-null float64\n",
      "secondary_cleaner.state.floatbank6_a_level            14148 non-null float64\n",
      "dtypes: float64(86), object(1)\n",
      "memory usage: 9.4+ MB\n"
     ]
    },
    {
     "data": {
      "text/plain": [
       "None"
      ]
     },
     "metadata": {},
     "output_type": "display_data"
    },
    {
     "name": "stdout",
     "output_type": "stream",
     "text": [
      "\n",
      "Процент пропусков в каждом столбце в порядке убывания\n"
     ]
    },
    {
     "data": {
      "text/plain": [
       "secondary_cleaner.output.tail_sol           0.113436\n",
       "rougher.state.floatbank10_e_air             0.030815\n",
       "rougher.input.floatbank11_xanthate          0.030249\n",
       "primary_cleaner.output.concentrate_sol      0.020213\n",
       "secondary_cleaner.state.floatbank2_a_air    0.015337\n",
       "                                              ...   \n",
       "rougher.state.floatbank10_e_level           0.000000\n",
       "rougher.state.floatbank10_f_air             0.000000\n",
       "rougher.state.floatbank10_f_level           0.000000\n",
       "rougher.output.concentrate_pb               0.000000\n",
       "date                                        0.000000\n",
       "Length: 87, dtype: float64"
      ]
     },
     "metadata": {},
     "output_type": "display_data"
    },
    {
     "name": "stdout",
     "output_type": "stream",
     "text": [
      "\n",
      "Кол-во дубликатов в таблице:\n"
     ]
    },
    {
     "data": {
      "text/plain": [
       "0"
      ]
     },
     "metadata": {},
     "output_type": "display_data"
    },
    {
     "name": "stdout",
     "output_type": "stream",
     "text": [
      "------------------------------------------------------------------------------------------------------------------------\n",
      "\n",
      "\n",
      "\n",
      "Первые 15 строк таблицы - Тестовая\n"
     ]
    },
    {
     "data": {
      "text/html": [
       "<div>\n",
       "<style scoped>\n",
       "    .dataframe tbody tr th:only-of-type {\n",
       "        vertical-align: middle;\n",
       "    }\n",
       "\n",
       "    .dataframe tbody tr th {\n",
       "        vertical-align: top;\n",
       "    }\n",
       "\n",
       "    .dataframe thead th {\n",
       "        text-align: right;\n",
       "    }\n",
       "</style>\n",
       "<table border=\"1\" class=\"dataframe\">\n",
       "  <thead>\n",
       "    <tr style=\"text-align: right;\">\n",
       "      <th></th>\n",
       "      <th>date</th>\n",
       "      <th>primary_cleaner.input.sulfate</th>\n",
       "      <th>primary_cleaner.input.depressant</th>\n",
       "      <th>primary_cleaner.input.feed_size</th>\n",
       "      <th>primary_cleaner.input.xanthate</th>\n",
       "      <th>primary_cleaner.state.floatbank8_a_air</th>\n",
       "      <th>primary_cleaner.state.floatbank8_a_level</th>\n",
       "      <th>primary_cleaner.state.floatbank8_b_air</th>\n",
       "      <th>primary_cleaner.state.floatbank8_b_level</th>\n",
       "      <th>primary_cleaner.state.floatbank8_c_air</th>\n",
       "      <th>...</th>\n",
       "      <th>secondary_cleaner.state.floatbank4_a_air</th>\n",
       "      <th>secondary_cleaner.state.floatbank4_a_level</th>\n",
       "      <th>secondary_cleaner.state.floatbank4_b_air</th>\n",
       "      <th>secondary_cleaner.state.floatbank4_b_level</th>\n",
       "      <th>secondary_cleaner.state.floatbank5_a_air</th>\n",
       "      <th>secondary_cleaner.state.floatbank5_a_level</th>\n",
       "      <th>secondary_cleaner.state.floatbank5_b_air</th>\n",
       "      <th>secondary_cleaner.state.floatbank5_b_level</th>\n",
       "      <th>secondary_cleaner.state.floatbank6_a_air</th>\n",
       "      <th>secondary_cleaner.state.floatbank6_a_level</th>\n",
       "    </tr>\n",
       "  </thead>\n",
       "  <tbody>\n",
       "    <tr>\n",
       "      <td>0</td>\n",
       "      <td>2016-09-01 00:59:59</td>\n",
       "      <td>210.800909</td>\n",
       "      <td>14.993118</td>\n",
       "      <td>8.080000</td>\n",
       "      <td>1.005021</td>\n",
       "      <td>1398.981301</td>\n",
       "      <td>-500.225577</td>\n",
       "      <td>1399.144926</td>\n",
       "      <td>-499.919735</td>\n",
       "      <td>1400.102998</td>\n",
       "      <td>...</td>\n",
       "      <td>12.023554</td>\n",
       "      <td>-497.795834</td>\n",
       "      <td>8.016656</td>\n",
       "      <td>-501.289139</td>\n",
       "      <td>7.946562</td>\n",
       "      <td>-432.317850</td>\n",
       "      <td>4.872511</td>\n",
       "      <td>-500.037437</td>\n",
       "      <td>26.705889</td>\n",
       "      <td>-499.709414</td>\n",
       "    </tr>\n",
       "    <tr>\n",
       "      <td>1</td>\n",
       "      <td>2016-09-01 01:59:59</td>\n",
       "      <td>215.392455</td>\n",
       "      <td>14.987471</td>\n",
       "      <td>8.080000</td>\n",
       "      <td>0.990469</td>\n",
       "      <td>1398.777912</td>\n",
       "      <td>-500.057435</td>\n",
       "      <td>1398.055362</td>\n",
       "      <td>-499.778182</td>\n",
       "      <td>1396.151033</td>\n",
       "      <td>...</td>\n",
       "      <td>12.058140</td>\n",
       "      <td>-498.695773</td>\n",
       "      <td>8.130979</td>\n",
       "      <td>-499.634209</td>\n",
       "      <td>7.958270</td>\n",
       "      <td>-525.839648</td>\n",
       "      <td>4.878850</td>\n",
       "      <td>-500.162375</td>\n",
       "      <td>25.019940</td>\n",
       "      <td>-499.819438</td>\n",
       "    </tr>\n",
       "    <tr>\n",
       "      <td>2</td>\n",
       "      <td>2016-09-01 02:59:59</td>\n",
       "      <td>215.259946</td>\n",
       "      <td>12.884934</td>\n",
       "      <td>7.786667</td>\n",
       "      <td>0.996043</td>\n",
       "      <td>1398.493666</td>\n",
       "      <td>-500.868360</td>\n",
       "      <td>1398.860436</td>\n",
       "      <td>-499.764529</td>\n",
       "      <td>1398.075709</td>\n",
       "      <td>...</td>\n",
       "      <td>11.962366</td>\n",
       "      <td>-498.767484</td>\n",
       "      <td>8.096893</td>\n",
       "      <td>-500.827423</td>\n",
       "      <td>8.071056</td>\n",
       "      <td>-500.801673</td>\n",
       "      <td>4.905125</td>\n",
       "      <td>-499.828510</td>\n",
       "      <td>24.994862</td>\n",
       "      <td>-500.622559</td>\n",
       "    </tr>\n",
       "    <tr>\n",
       "      <td>3</td>\n",
       "      <td>2016-09-01 03:59:59</td>\n",
       "      <td>215.336236</td>\n",
       "      <td>12.006805</td>\n",
       "      <td>7.640000</td>\n",
       "      <td>0.863514</td>\n",
       "      <td>1399.618111</td>\n",
       "      <td>-498.863574</td>\n",
       "      <td>1397.440120</td>\n",
       "      <td>-499.211024</td>\n",
       "      <td>1400.129303</td>\n",
       "      <td>...</td>\n",
       "      <td>12.033091</td>\n",
       "      <td>-498.350935</td>\n",
       "      <td>8.074946</td>\n",
       "      <td>-499.474407</td>\n",
       "      <td>7.897085</td>\n",
       "      <td>-500.868509</td>\n",
       "      <td>4.931400</td>\n",
       "      <td>-499.963623</td>\n",
       "      <td>24.948919</td>\n",
       "      <td>-498.709987</td>\n",
       "    </tr>\n",
       "    <tr>\n",
       "      <td>4</td>\n",
       "      <td>2016-09-01 04:59:59</td>\n",
       "      <td>199.099327</td>\n",
       "      <td>10.682530</td>\n",
       "      <td>7.530000</td>\n",
       "      <td>0.805575</td>\n",
       "      <td>1401.268123</td>\n",
       "      <td>-500.808305</td>\n",
       "      <td>1398.128818</td>\n",
       "      <td>-499.504543</td>\n",
       "      <td>1402.172226</td>\n",
       "      <td>...</td>\n",
       "      <td>12.025367</td>\n",
       "      <td>-500.786497</td>\n",
       "      <td>8.054678</td>\n",
       "      <td>-500.397500</td>\n",
       "      <td>8.107890</td>\n",
       "      <td>-509.526725</td>\n",
       "      <td>4.957674</td>\n",
       "      <td>-500.360026</td>\n",
       "      <td>25.003331</td>\n",
       "      <td>-500.856333</td>\n",
       "    </tr>\n",
       "    <tr>\n",
       "      <td>5</td>\n",
       "      <td>2016-09-01 05:59:59</td>\n",
       "      <td>168.485085</td>\n",
       "      <td>8.817007</td>\n",
       "      <td>7.420000</td>\n",
       "      <td>0.791191</td>\n",
       "      <td>1402.826803</td>\n",
       "      <td>-499.299521</td>\n",
       "      <td>1401.511119</td>\n",
       "      <td>-499.205357</td>\n",
       "      <td>1404.088107</td>\n",
       "      <td>...</td>\n",
       "      <td>12.029797</td>\n",
       "      <td>-499.814895</td>\n",
       "      <td>8.036586</td>\n",
       "      <td>-500.371492</td>\n",
       "      <td>8.041446</td>\n",
       "      <td>-510.037054</td>\n",
       "      <td>4.983949</td>\n",
       "      <td>-499.990990</td>\n",
       "      <td>24.978973</td>\n",
       "      <td>-500.475640</td>\n",
       "    </tr>\n",
       "    <tr>\n",
       "      <td>6</td>\n",
       "      <td>2016-09-01 06:59:59</td>\n",
       "      <td>144.133440</td>\n",
       "      <td>7.924610</td>\n",
       "      <td>7.420000</td>\n",
       "      <td>0.788838</td>\n",
       "      <td>1398.252401</td>\n",
       "      <td>-499.748672</td>\n",
       "      <td>1393.255503</td>\n",
       "      <td>-499.195380</td>\n",
       "      <td>1396.738566</td>\n",
       "      <td>...</td>\n",
       "      <td>12.026296</td>\n",
       "      <td>-499.473127</td>\n",
       "      <td>8.027984</td>\n",
       "      <td>-500.983079</td>\n",
       "      <td>7.907340</td>\n",
       "      <td>-507.964971</td>\n",
       "      <td>5.010224</td>\n",
       "      <td>-500.043697</td>\n",
       "      <td>25.040709</td>\n",
       "      <td>-499.501984</td>\n",
       "    </tr>\n",
       "    <tr>\n",
       "      <td>7</td>\n",
       "      <td>2016-09-01 07:59:59</td>\n",
       "      <td>133.513396</td>\n",
       "      <td>8.055252</td>\n",
       "      <td>6.988000</td>\n",
       "      <td>0.801871</td>\n",
       "      <td>1401.669677</td>\n",
       "      <td>-501.777839</td>\n",
       "      <td>1400.754446</td>\n",
       "      <td>-502.514024</td>\n",
       "      <td>1400.465244</td>\n",
       "      <td>...</td>\n",
       "      <td>12.040911</td>\n",
       "      <td>-501.293852</td>\n",
       "      <td>8.020490</td>\n",
       "      <td>-499.185229</td>\n",
       "      <td>8.116897</td>\n",
       "      <td>-511.927561</td>\n",
       "      <td>5.036498</td>\n",
       "      <td>-500.149615</td>\n",
       "      <td>25.032580</td>\n",
       "      <td>-503.970657</td>\n",
       "    </tr>\n",
       "    <tr>\n",
       "      <td>8</td>\n",
       "      <td>2016-09-01 08:59:59</td>\n",
       "      <td>133.735356</td>\n",
       "      <td>7.999618</td>\n",
       "      <td>6.935000</td>\n",
       "      <td>0.789329</td>\n",
       "      <td>1402.358981</td>\n",
       "      <td>-499.981597</td>\n",
       "      <td>1400.985954</td>\n",
       "      <td>-496.802968</td>\n",
       "      <td>1401.168584</td>\n",
       "      <td>...</td>\n",
       "      <td>11.998184</td>\n",
       "      <td>-499.481608</td>\n",
       "      <td>8.012610</td>\n",
       "      <td>-500.896783</td>\n",
       "      <td>7.974422</td>\n",
       "      <td>-521.199104</td>\n",
       "      <td>5.061599</td>\n",
       "      <td>-499.791519</td>\n",
       "      <td>25.005063</td>\n",
       "      <td>-497.613716</td>\n",
       "    </tr>\n",
       "    <tr>\n",
       "      <td>9</td>\n",
       "      <td>2016-09-01 09:59:59</td>\n",
       "      <td>126.961069</td>\n",
       "      <td>8.017856</td>\n",
       "      <td>7.030000</td>\n",
       "      <td>0.805298</td>\n",
       "      <td>1400.816120</td>\n",
       "      <td>-499.014158</td>\n",
       "      <td>1399.975401</td>\n",
       "      <td>-499.570552</td>\n",
       "      <td>1401.871924</td>\n",
       "      <td>...</td>\n",
       "      <td>12.040725</td>\n",
       "      <td>-499.987743</td>\n",
       "      <td>7.989503</td>\n",
       "      <td>-499.750625</td>\n",
       "      <td>7.989710</td>\n",
       "      <td>-509.946737</td>\n",
       "      <td>5.068811</td>\n",
       "      <td>-499.293900</td>\n",
       "      <td>24.992741</td>\n",
       "      <td>-499.272255</td>\n",
       "    </tr>\n",
       "    <tr>\n",
       "      <td>10</td>\n",
       "      <td>2016-09-01 10:59:59</td>\n",
       "      <td>118.996645</td>\n",
       "      <td>8.053901</td>\n",
       "      <td>6.938333</td>\n",
       "      <td>0.799155</td>\n",
       "      <td>1400.414377</td>\n",
       "      <td>-500.467134</td>\n",
       "      <td>1400.089566</td>\n",
       "      <td>-500.446977</td>\n",
       "      <td>1402.269967</td>\n",
       "      <td>...</td>\n",
       "      <td>12.016142</td>\n",
       "      <td>-500.597945</td>\n",
       "      <td>8.109317</td>\n",
       "      <td>-500.815511</td>\n",
       "      <td>7.963967</td>\n",
       "      <td>-523.193535</td>\n",
       "      <td>5.069972</td>\n",
       "      <td>-499.786750</td>\n",
       "      <td>25.003677</td>\n",
       "      <td>-500.043103</td>\n",
       "    </tr>\n",
       "    <tr>\n",
       "      <td>11</td>\n",
       "      <td>2016-09-01 11:59:59</td>\n",
       "      <td>120.022197</td>\n",
       "      <td>7.964399</td>\n",
       "      <td>6.920000</td>\n",
       "      <td>0.794210</td>\n",
       "      <td>1399.594414</td>\n",
       "      <td>-499.245896</td>\n",
       "      <td>1400.722260</td>\n",
       "      <td>-499.360136</td>\n",
       "      <td>1400.503184</td>\n",
       "      <td>...</td>\n",
       "      <td>11.959844</td>\n",
       "      <td>-499.181077</td>\n",
       "      <td>8.078691</td>\n",
       "      <td>-499.250344</td>\n",
       "      <td>7.958926</td>\n",
       "      <td>-491.675387</td>\n",
       "      <td>5.069611</td>\n",
       "      <td>-499.573837</td>\n",
       "      <td>18.364718</td>\n",
       "      <td>-497.711111</td>\n",
       "    </tr>\n",
       "    <tr>\n",
       "      <td>12</td>\n",
       "      <td>2016-09-01 12:59:59</td>\n",
       "      <td>119.992390</td>\n",
       "      <td>7.976629</td>\n",
       "      <td>8.009500</td>\n",
       "      <td>0.806644</td>\n",
       "      <td>1402.658539</td>\n",
       "      <td>-499.902819</td>\n",
       "      <td>1399.102451</td>\n",
       "      <td>-500.175006</td>\n",
       "      <td>1401.881482</td>\n",
       "      <td>...</td>\n",
       "      <td>11.937972</td>\n",
       "      <td>-499.665072</td>\n",
       "      <td>7.999953</td>\n",
       "      <td>-500.719390</td>\n",
       "      <td>8.117658</td>\n",
       "      <td>-499.024283</td>\n",
       "      <td>5.060127</td>\n",
       "      <td>-499.757223</td>\n",
       "      <td>10.008581</td>\n",
       "      <td>-499.937567</td>\n",
       "    </tr>\n",
       "    <tr>\n",
       "      <td>13</td>\n",
       "      <td>2016-09-01 13:59:59</td>\n",
       "      <td>116.455446</td>\n",
       "      <td>8.020024</td>\n",
       "      <td>8.100000</td>\n",
       "      <td>0.803810</td>\n",
       "      <td>1401.522803</td>\n",
       "      <td>-500.229384</td>\n",
       "      <td>1400.822074</td>\n",
       "      <td>-499.962458</td>\n",
       "      <td>1400.873855</td>\n",
       "      <td>...</td>\n",
       "      <td>12.044229</td>\n",
       "      <td>-500.102489</td>\n",
       "      <td>7.963308</td>\n",
       "      <td>-498.999161</td>\n",
       "      <td>8.079780</td>\n",
       "      <td>-500.111603</td>\n",
       "      <td>5.049125</td>\n",
       "      <td>-499.964304</td>\n",
       "      <td>10.016975</td>\n",
       "      <td>-499.835537</td>\n",
       "    </tr>\n",
       "    <tr>\n",
       "      <td>14</td>\n",
       "      <td>2016-09-01 14:59:59</td>\n",
       "      <td>116.615574</td>\n",
       "      <td>7.976104</td>\n",
       "      <td>7.962000</td>\n",
       "      <td>0.788860</td>\n",
       "      <td>1400.371468</td>\n",
       "      <td>-501.074463</td>\n",
       "      <td>1402.642429</td>\n",
       "      <td>-499.130424</td>\n",
       "      <td>1398.273436</td>\n",
       "      <td>...</td>\n",
       "      <td>12.002987</td>\n",
       "      <td>-500.459197</td>\n",
       "      <td>7.971947</td>\n",
       "      <td>-500.515679</td>\n",
       "      <td>8.053689</td>\n",
       "      <td>-500.238073</td>\n",
       "      <td>5.038123</td>\n",
       "      <td>-500.161160</td>\n",
       "      <td>9.909759</td>\n",
       "      <td>-500.770649</td>\n",
       "    </tr>\n",
       "  </tbody>\n",
       "</table>\n",
       "<p>15 rows × 53 columns</p>\n",
       "</div>"
      ],
      "text/plain": [
       "                   date  primary_cleaner.input.sulfate  \\\n",
       "0   2016-09-01 00:59:59                     210.800909   \n",
       "1   2016-09-01 01:59:59                     215.392455   \n",
       "2   2016-09-01 02:59:59                     215.259946   \n",
       "3   2016-09-01 03:59:59                     215.336236   \n",
       "4   2016-09-01 04:59:59                     199.099327   \n",
       "5   2016-09-01 05:59:59                     168.485085   \n",
       "6   2016-09-01 06:59:59                     144.133440   \n",
       "7   2016-09-01 07:59:59                     133.513396   \n",
       "8   2016-09-01 08:59:59                     133.735356   \n",
       "9   2016-09-01 09:59:59                     126.961069   \n",
       "10  2016-09-01 10:59:59                     118.996645   \n",
       "11  2016-09-01 11:59:59                     120.022197   \n",
       "12  2016-09-01 12:59:59                     119.992390   \n",
       "13  2016-09-01 13:59:59                     116.455446   \n",
       "14  2016-09-01 14:59:59                     116.615574   \n",
       "\n",
       "    primary_cleaner.input.depressant  primary_cleaner.input.feed_size  \\\n",
       "0                          14.993118                         8.080000   \n",
       "1                          14.987471                         8.080000   \n",
       "2                          12.884934                         7.786667   \n",
       "3                          12.006805                         7.640000   \n",
       "4                          10.682530                         7.530000   \n",
       "5                           8.817007                         7.420000   \n",
       "6                           7.924610                         7.420000   \n",
       "7                           8.055252                         6.988000   \n",
       "8                           7.999618                         6.935000   \n",
       "9                           8.017856                         7.030000   \n",
       "10                          8.053901                         6.938333   \n",
       "11                          7.964399                         6.920000   \n",
       "12                          7.976629                         8.009500   \n",
       "13                          8.020024                         8.100000   \n",
       "14                          7.976104                         7.962000   \n",
       "\n",
       "    primary_cleaner.input.xanthate  primary_cleaner.state.floatbank8_a_air  \\\n",
       "0                         1.005021                             1398.981301   \n",
       "1                         0.990469                             1398.777912   \n",
       "2                         0.996043                             1398.493666   \n",
       "3                         0.863514                             1399.618111   \n",
       "4                         0.805575                             1401.268123   \n",
       "5                         0.791191                             1402.826803   \n",
       "6                         0.788838                             1398.252401   \n",
       "7                         0.801871                             1401.669677   \n",
       "8                         0.789329                             1402.358981   \n",
       "9                         0.805298                             1400.816120   \n",
       "10                        0.799155                             1400.414377   \n",
       "11                        0.794210                             1399.594414   \n",
       "12                        0.806644                             1402.658539   \n",
       "13                        0.803810                             1401.522803   \n",
       "14                        0.788860                             1400.371468   \n",
       "\n",
       "    primary_cleaner.state.floatbank8_a_level  \\\n",
       "0                                -500.225577   \n",
       "1                                -500.057435   \n",
       "2                                -500.868360   \n",
       "3                                -498.863574   \n",
       "4                                -500.808305   \n",
       "5                                -499.299521   \n",
       "6                                -499.748672   \n",
       "7                                -501.777839   \n",
       "8                                -499.981597   \n",
       "9                                -499.014158   \n",
       "10                               -500.467134   \n",
       "11                               -499.245896   \n",
       "12                               -499.902819   \n",
       "13                               -500.229384   \n",
       "14                               -501.074463   \n",
       "\n",
       "    primary_cleaner.state.floatbank8_b_air  \\\n",
       "0                              1399.144926   \n",
       "1                              1398.055362   \n",
       "2                              1398.860436   \n",
       "3                              1397.440120   \n",
       "4                              1398.128818   \n",
       "5                              1401.511119   \n",
       "6                              1393.255503   \n",
       "7                              1400.754446   \n",
       "8                              1400.985954   \n",
       "9                              1399.975401   \n",
       "10                             1400.089566   \n",
       "11                             1400.722260   \n",
       "12                             1399.102451   \n",
       "13                             1400.822074   \n",
       "14                             1402.642429   \n",
       "\n",
       "    primary_cleaner.state.floatbank8_b_level  \\\n",
       "0                                -499.919735   \n",
       "1                                -499.778182   \n",
       "2                                -499.764529   \n",
       "3                                -499.211024   \n",
       "4                                -499.504543   \n",
       "5                                -499.205357   \n",
       "6                                -499.195380   \n",
       "7                                -502.514024   \n",
       "8                                -496.802968   \n",
       "9                                -499.570552   \n",
       "10                               -500.446977   \n",
       "11                               -499.360136   \n",
       "12                               -500.175006   \n",
       "13                               -499.962458   \n",
       "14                               -499.130424   \n",
       "\n",
       "    primary_cleaner.state.floatbank8_c_air  ...  \\\n",
       "0                              1400.102998  ...   \n",
       "1                              1396.151033  ...   \n",
       "2                              1398.075709  ...   \n",
       "3                              1400.129303  ...   \n",
       "4                              1402.172226  ...   \n",
       "5                              1404.088107  ...   \n",
       "6                              1396.738566  ...   \n",
       "7                              1400.465244  ...   \n",
       "8                              1401.168584  ...   \n",
       "9                              1401.871924  ...   \n",
       "10                             1402.269967  ...   \n",
       "11                             1400.503184  ...   \n",
       "12                             1401.881482  ...   \n",
       "13                             1400.873855  ...   \n",
       "14                             1398.273436  ...   \n",
       "\n",
       "    secondary_cleaner.state.floatbank4_a_air  \\\n",
       "0                                  12.023554   \n",
       "1                                  12.058140   \n",
       "2                                  11.962366   \n",
       "3                                  12.033091   \n",
       "4                                  12.025367   \n",
       "5                                  12.029797   \n",
       "6                                  12.026296   \n",
       "7                                  12.040911   \n",
       "8                                  11.998184   \n",
       "9                                  12.040725   \n",
       "10                                 12.016142   \n",
       "11                                 11.959844   \n",
       "12                                 11.937972   \n",
       "13                                 12.044229   \n",
       "14                                 12.002987   \n",
       "\n",
       "    secondary_cleaner.state.floatbank4_a_level  \\\n",
       "0                                  -497.795834   \n",
       "1                                  -498.695773   \n",
       "2                                  -498.767484   \n",
       "3                                  -498.350935   \n",
       "4                                  -500.786497   \n",
       "5                                  -499.814895   \n",
       "6                                  -499.473127   \n",
       "7                                  -501.293852   \n",
       "8                                  -499.481608   \n",
       "9                                  -499.987743   \n",
       "10                                 -500.597945   \n",
       "11                                 -499.181077   \n",
       "12                                 -499.665072   \n",
       "13                                 -500.102489   \n",
       "14                                 -500.459197   \n",
       "\n",
       "    secondary_cleaner.state.floatbank4_b_air  \\\n",
       "0                                   8.016656   \n",
       "1                                   8.130979   \n",
       "2                                   8.096893   \n",
       "3                                   8.074946   \n",
       "4                                   8.054678   \n",
       "5                                   8.036586   \n",
       "6                                   8.027984   \n",
       "7                                   8.020490   \n",
       "8                                   8.012610   \n",
       "9                                   7.989503   \n",
       "10                                  8.109317   \n",
       "11                                  8.078691   \n",
       "12                                  7.999953   \n",
       "13                                  7.963308   \n",
       "14                                  7.971947   \n",
       "\n",
       "    secondary_cleaner.state.floatbank4_b_level  \\\n",
       "0                                  -501.289139   \n",
       "1                                  -499.634209   \n",
       "2                                  -500.827423   \n",
       "3                                  -499.474407   \n",
       "4                                  -500.397500   \n",
       "5                                  -500.371492   \n",
       "6                                  -500.983079   \n",
       "7                                  -499.185229   \n",
       "8                                  -500.896783   \n",
       "9                                  -499.750625   \n",
       "10                                 -500.815511   \n",
       "11                                 -499.250344   \n",
       "12                                 -500.719390   \n",
       "13                                 -498.999161   \n",
       "14                                 -500.515679   \n",
       "\n",
       "    secondary_cleaner.state.floatbank5_a_air  \\\n",
       "0                                   7.946562   \n",
       "1                                   7.958270   \n",
       "2                                   8.071056   \n",
       "3                                   7.897085   \n",
       "4                                   8.107890   \n",
       "5                                   8.041446   \n",
       "6                                   7.907340   \n",
       "7                                   8.116897   \n",
       "8                                   7.974422   \n",
       "9                                   7.989710   \n",
       "10                                  7.963967   \n",
       "11                                  7.958926   \n",
       "12                                  8.117658   \n",
       "13                                  8.079780   \n",
       "14                                  8.053689   \n",
       "\n",
       "    secondary_cleaner.state.floatbank5_a_level  \\\n",
       "0                                  -432.317850   \n",
       "1                                  -525.839648   \n",
       "2                                  -500.801673   \n",
       "3                                  -500.868509   \n",
       "4                                  -509.526725   \n",
       "5                                  -510.037054   \n",
       "6                                  -507.964971   \n",
       "7                                  -511.927561   \n",
       "8                                  -521.199104   \n",
       "9                                  -509.946737   \n",
       "10                                 -523.193535   \n",
       "11                                 -491.675387   \n",
       "12                                 -499.024283   \n",
       "13                                 -500.111603   \n",
       "14                                 -500.238073   \n",
       "\n",
       "    secondary_cleaner.state.floatbank5_b_air  \\\n",
       "0                                   4.872511   \n",
       "1                                   4.878850   \n",
       "2                                   4.905125   \n",
       "3                                   4.931400   \n",
       "4                                   4.957674   \n",
       "5                                   4.983949   \n",
       "6                                   5.010224   \n",
       "7                                   5.036498   \n",
       "8                                   5.061599   \n",
       "9                                   5.068811   \n",
       "10                                  5.069972   \n",
       "11                                  5.069611   \n",
       "12                                  5.060127   \n",
       "13                                  5.049125   \n",
       "14                                  5.038123   \n",
       "\n",
       "    secondary_cleaner.state.floatbank5_b_level  \\\n",
       "0                                  -500.037437   \n",
       "1                                  -500.162375   \n",
       "2                                  -499.828510   \n",
       "3                                  -499.963623   \n",
       "4                                  -500.360026   \n",
       "5                                  -499.990990   \n",
       "6                                  -500.043697   \n",
       "7                                  -500.149615   \n",
       "8                                  -499.791519   \n",
       "9                                  -499.293900   \n",
       "10                                 -499.786750   \n",
       "11                                 -499.573837   \n",
       "12                                 -499.757223   \n",
       "13                                 -499.964304   \n",
       "14                                 -500.161160   \n",
       "\n",
       "    secondary_cleaner.state.floatbank6_a_air  \\\n",
       "0                                  26.705889   \n",
       "1                                  25.019940   \n",
       "2                                  24.994862   \n",
       "3                                  24.948919   \n",
       "4                                  25.003331   \n",
       "5                                  24.978973   \n",
       "6                                  25.040709   \n",
       "7                                  25.032580   \n",
       "8                                  25.005063   \n",
       "9                                  24.992741   \n",
       "10                                 25.003677   \n",
       "11                                 18.364718   \n",
       "12                                 10.008581   \n",
       "13                                 10.016975   \n",
       "14                                  9.909759   \n",
       "\n",
       "    secondary_cleaner.state.floatbank6_a_level  \n",
       "0                                  -499.709414  \n",
       "1                                  -499.819438  \n",
       "2                                  -500.622559  \n",
       "3                                  -498.709987  \n",
       "4                                  -500.856333  \n",
       "5                                  -500.475640  \n",
       "6                                  -499.501984  \n",
       "7                                  -503.970657  \n",
       "8                                  -497.613716  \n",
       "9                                  -499.272255  \n",
       "10                                 -500.043103  \n",
       "11                                 -497.711111  \n",
       "12                                 -499.937567  \n",
       "13                                 -499.835537  \n",
       "14                                 -500.770649  \n",
       "\n",
       "[15 rows x 53 columns]"
      ]
     },
     "metadata": {},
     "output_type": "display_data"
    },
    {
     "name": "stdout",
     "output_type": "stream",
     "text": [
      "\n",
      "Информация о столбцах таблицы методом .describe():\n"
     ]
    },
    {
     "data": {
      "text/html": [
       "<div>\n",
       "<style scoped>\n",
       "    .dataframe tbody tr th:only-of-type {\n",
       "        vertical-align: middle;\n",
       "    }\n",
       "\n",
       "    .dataframe tbody tr th {\n",
       "        vertical-align: top;\n",
       "    }\n",
       "\n",
       "    .dataframe thead th {\n",
       "        text-align: right;\n",
       "    }\n",
       "</style>\n",
       "<table border=\"1\" class=\"dataframe\">\n",
       "  <thead>\n",
       "    <tr style=\"text-align: right;\">\n",
       "      <th></th>\n",
       "      <th>primary_cleaner.input.sulfate</th>\n",
       "      <th>primary_cleaner.input.depressant</th>\n",
       "      <th>primary_cleaner.input.feed_size</th>\n",
       "      <th>primary_cleaner.input.xanthate</th>\n",
       "      <th>primary_cleaner.state.floatbank8_a_air</th>\n",
       "      <th>primary_cleaner.state.floatbank8_a_level</th>\n",
       "      <th>primary_cleaner.state.floatbank8_b_air</th>\n",
       "      <th>primary_cleaner.state.floatbank8_b_level</th>\n",
       "      <th>primary_cleaner.state.floatbank8_c_air</th>\n",
       "      <th>primary_cleaner.state.floatbank8_c_level</th>\n",
       "      <th>...</th>\n",
       "      <th>secondary_cleaner.state.floatbank4_a_air</th>\n",
       "      <th>secondary_cleaner.state.floatbank4_a_level</th>\n",
       "      <th>secondary_cleaner.state.floatbank4_b_air</th>\n",
       "      <th>secondary_cleaner.state.floatbank4_b_level</th>\n",
       "      <th>secondary_cleaner.state.floatbank5_a_air</th>\n",
       "      <th>secondary_cleaner.state.floatbank5_a_level</th>\n",
       "      <th>secondary_cleaner.state.floatbank5_b_air</th>\n",
       "      <th>secondary_cleaner.state.floatbank5_b_level</th>\n",
       "      <th>secondary_cleaner.state.floatbank6_a_air</th>\n",
       "      <th>secondary_cleaner.state.floatbank6_a_level</th>\n",
       "    </tr>\n",
       "  </thead>\n",
       "  <tbody>\n",
       "    <tr>\n",
       "      <td>count</td>\n",
       "      <td>5286.000000</td>\n",
       "      <td>5285.000000</td>\n",
       "      <td>5290.000000</td>\n",
       "      <td>5286.000000</td>\n",
       "      <td>5.290000e+03</td>\n",
       "      <td>5290.000000</td>\n",
       "      <td>5.290000e+03</td>\n",
       "      <td>5290.000000</td>\n",
       "      <td>5.290000e+03</td>\n",
       "      <td>5290.000000</td>\n",
       "      <td>...</td>\n",
       "      <td>5.290000e+03</td>\n",
       "      <td>5290.000000</td>\n",
       "      <td>5.290000e+03</td>\n",
       "      <td>5290.000000</td>\n",
       "      <td>5290.000000</td>\n",
       "      <td>5290.000000</td>\n",
       "      <td>5290.000000</td>\n",
       "      <td>5290.000000</td>\n",
       "      <td>5290.000000</td>\n",
       "      <td>5290.000000</td>\n",
       "    </tr>\n",
       "    <tr>\n",
       "      <td>mean</td>\n",
       "      <td>174.839652</td>\n",
       "      <td>8.683596</td>\n",
       "      <td>7.266339</td>\n",
       "      <td>1.383803</td>\n",
       "      <td>1.539494e+03</td>\n",
       "      <td>-497.665883</td>\n",
       "      <td>1.545174e+03</td>\n",
       "      <td>-500.273098</td>\n",
       "      <td>1.527272e+03</td>\n",
       "      <td>-498.330680</td>\n",
       "      <td>...</td>\n",
       "      <td>1.632007e+01</td>\n",
       "      <td>-505.144570</td>\n",
       "      <td>1.373544e+01</td>\n",
       "      <td>-463.349858</td>\n",
       "      <td>12.804186</td>\n",
       "      <td>-501.329122</td>\n",
       "      <td>9.881145</td>\n",
       "      <td>-495.663398</td>\n",
       "      <td>17.304935</td>\n",
       "      <td>-501.793193</td>\n",
       "    </tr>\n",
       "    <tr>\n",
       "      <td>std</td>\n",
       "      <td>43.027080</td>\n",
       "      <td>3.072050</td>\n",
       "      <td>0.610219</td>\n",
       "      <td>0.643474</td>\n",
       "      <td>1.167979e+02</td>\n",
       "      <td>19.952431</td>\n",
       "      <td>1.222246e+02</td>\n",
       "      <td>32.968307</td>\n",
       "      <td>1.225380e+02</td>\n",
       "      <td>21.964876</td>\n",
       "      <td>...</td>\n",
       "      <td>3.493583e+00</td>\n",
       "      <td>31.427337</td>\n",
       "      <td>3.430484e+00</td>\n",
       "      <td>86.189107</td>\n",
       "      <td>3.026591</td>\n",
       "      <td>17.951495</td>\n",
       "      <td>2.868205</td>\n",
       "      <td>34.535007</td>\n",
       "      <td>4.536544</td>\n",
       "      <td>39.044215</td>\n",
       "    </tr>\n",
       "    <tr>\n",
       "      <td>min</td>\n",
       "      <td>2.566156</td>\n",
       "      <td>0.003839</td>\n",
       "      <td>5.650000</td>\n",
       "      <td>0.004984</td>\n",
       "      <td>5.445860e-32</td>\n",
       "      <td>-795.316337</td>\n",
       "      <td>6.647490e-32</td>\n",
       "      <td>-799.997015</td>\n",
       "      <td>4.033736e-32</td>\n",
       "      <td>-799.960571</td>\n",
       "      <td>...</td>\n",
       "      <td>1.079872e-16</td>\n",
       "      <td>-799.798523</td>\n",
       "      <td>2.489718e-17</td>\n",
       "      <td>-800.836914</td>\n",
       "      <td>0.069227</td>\n",
       "      <td>-797.323986</td>\n",
       "      <td>0.528083</td>\n",
       "      <td>-800.220337</td>\n",
       "      <td>-0.079426</td>\n",
       "      <td>-809.741464</td>\n",
       "    </tr>\n",
       "    <tr>\n",
       "      <td>25%</td>\n",
       "      <td>147.121401</td>\n",
       "      <td>6.489555</td>\n",
       "      <td>6.890000</td>\n",
       "      <td>0.907623</td>\n",
       "      <td>1.498936e+03</td>\n",
       "      <td>-500.357298</td>\n",
       "      <td>1.498971e+03</td>\n",
       "      <td>-500.703002</td>\n",
       "      <td>1.473230e+03</td>\n",
       "      <td>-501.018117</td>\n",
       "      <td>...</td>\n",
       "      <td>1.403618e+01</td>\n",
       "      <td>-500.868258</td>\n",
       "      <td>1.202862e+01</td>\n",
       "      <td>-500.323028</td>\n",
       "      <td>10.914838</td>\n",
       "      <td>-500.726841</td>\n",
       "      <td>8.036719</td>\n",
       "      <td>-500.194668</td>\n",
       "      <td>13.997317</td>\n",
       "      <td>-500.690984</td>\n",
       "    </tr>\n",
       "    <tr>\n",
       "      <td>50%</td>\n",
       "      <td>177.828489</td>\n",
       "      <td>8.052207</td>\n",
       "      <td>7.250000</td>\n",
       "      <td>1.197610</td>\n",
       "      <td>1.585129e+03</td>\n",
       "      <td>-499.969164</td>\n",
       "      <td>1.595622e+03</td>\n",
       "      <td>-500.028514</td>\n",
       "      <td>1.549595e+03</td>\n",
       "      <td>-500.017711</td>\n",
       "      <td>...</td>\n",
       "      <td>1.700847e+01</td>\n",
       "      <td>-500.115727</td>\n",
       "      <td>1.496486e+01</td>\n",
       "      <td>-499.576513</td>\n",
       "      <td>12.954182</td>\n",
       "      <td>-499.990332</td>\n",
       "      <td>10.004301</td>\n",
       "      <td>-499.990535</td>\n",
       "      <td>16.014935</td>\n",
       "      <td>-500.007126</td>\n",
       "    </tr>\n",
       "    <tr>\n",
       "      <td>75%</td>\n",
       "      <td>208.125438</td>\n",
       "      <td>10.027764</td>\n",
       "      <td>7.600000</td>\n",
       "      <td>1.797819</td>\n",
       "      <td>1.602077e+03</td>\n",
       "      <td>-499.568951</td>\n",
       "      <td>1.602324e+03</td>\n",
       "      <td>-499.293257</td>\n",
       "      <td>1.601144e+03</td>\n",
       "      <td>-498.994130</td>\n",
       "      <td>...</td>\n",
       "      <td>1.803862e+01</td>\n",
       "      <td>-499.404224</td>\n",
       "      <td>1.596213e+01</td>\n",
       "      <td>-400.933805</td>\n",
       "      <td>15.097528</td>\n",
       "      <td>-499.283191</td>\n",
       "      <td>11.997467</td>\n",
       "      <td>-499.719913</td>\n",
       "      <td>21.020013</td>\n",
       "      <td>-499.373018</td>\n",
       "    </tr>\n",
       "    <tr>\n",
       "      <td>max</td>\n",
       "      <td>265.983123</td>\n",
       "      <td>40.000000</td>\n",
       "      <td>15.500000</td>\n",
       "      <td>4.102454</td>\n",
       "      <td>2.103104e+03</td>\n",
       "      <td>-57.195404</td>\n",
       "      <td>1.813084e+03</td>\n",
       "      <td>-142.527229</td>\n",
       "      <td>1.715054e+03</td>\n",
       "      <td>-150.937035</td>\n",
       "      <td>...</td>\n",
       "      <td>3.005180e+01</td>\n",
       "      <td>-401.565212</td>\n",
       "      <td>3.126971e+01</td>\n",
       "      <td>-6.506986</td>\n",
       "      <td>25.258848</td>\n",
       "      <td>-244.483566</td>\n",
       "      <td>14.086866</td>\n",
       "      <td>-137.740004</td>\n",
       "      <td>26.705889</td>\n",
       "      <td>-123.307487</td>\n",
       "    </tr>\n",
       "  </tbody>\n",
       "</table>\n",
       "<p>8 rows × 52 columns</p>\n",
       "</div>"
      ],
      "text/plain": [
       "       primary_cleaner.input.sulfate  primary_cleaner.input.depressant  \\\n",
       "count                    5286.000000                       5285.000000   \n",
       "mean                      174.839652                          8.683596   \n",
       "std                        43.027080                          3.072050   \n",
       "min                         2.566156                          0.003839   \n",
       "25%                       147.121401                          6.489555   \n",
       "50%                       177.828489                          8.052207   \n",
       "75%                       208.125438                         10.027764   \n",
       "max                       265.983123                         40.000000   \n",
       "\n",
       "       primary_cleaner.input.feed_size  primary_cleaner.input.xanthate  \\\n",
       "count                      5290.000000                     5286.000000   \n",
       "mean                          7.266339                        1.383803   \n",
       "std                           0.610219                        0.643474   \n",
       "min                           5.650000                        0.004984   \n",
       "25%                           6.890000                        0.907623   \n",
       "50%                           7.250000                        1.197610   \n",
       "75%                           7.600000                        1.797819   \n",
       "max                          15.500000                        4.102454   \n",
       "\n",
       "       primary_cleaner.state.floatbank8_a_air  \\\n",
       "count                            5.290000e+03   \n",
       "mean                             1.539494e+03   \n",
       "std                              1.167979e+02   \n",
       "min                              5.445860e-32   \n",
       "25%                              1.498936e+03   \n",
       "50%                              1.585129e+03   \n",
       "75%                              1.602077e+03   \n",
       "max                              2.103104e+03   \n",
       "\n",
       "       primary_cleaner.state.floatbank8_a_level  \\\n",
       "count                               5290.000000   \n",
       "mean                                -497.665883   \n",
       "std                                   19.952431   \n",
       "min                                 -795.316337   \n",
       "25%                                 -500.357298   \n",
       "50%                                 -499.969164   \n",
       "75%                                 -499.568951   \n",
       "max                                  -57.195404   \n",
       "\n",
       "       primary_cleaner.state.floatbank8_b_air  \\\n",
       "count                            5.290000e+03   \n",
       "mean                             1.545174e+03   \n",
       "std                              1.222246e+02   \n",
       "min                              6.647490e-32   \n",
       "25%                              1.498971e+03   \n",
       "50%                              1.595622e+03   \n",
       "75%                              1.602324e+03   \n",
       "max                              1.813084e+03   \n",
       "\n",
       "       primary_cleaner.state.floatbank8_b_level  \\\n",
       "count                               5290.000000   \n",
       "mean                                -500.273098   \n",
       "std                                   32.968307   \n",
       "min                                 -799.997015   \n",
       "25%                                 -500.703002   \n",
       "50%                                 -500.028514   \n",
       "75%                                 -499.293257   \n",
       "max                                 -142.527229   \n",
       "\n",
       "       primary_cleaner.state.floatbank8_c_air  \\\n",
       "count                            5.290000e+03   \n",
       "mean                             1.527272e+03   \n",
       "std                              1.225380e+02   \n",
       "min                              4.033736e-32   \n",
       "25%                              1.473230e+03   \n",
       "50%                              1.549595e+03   \n",
       "75%                              1.601144e+03   \n",
       "max                              1.715054e+03   \n",
       "\n",
       "       primary_cleaner.state.floatbank8_c_level  ...  \\\n",
       "count                               5290.000000  ...   \n",
       "mean                                -498.330680  ...   \n",
       "std                                   21.964876  ...   \n",
       "min                                 -799.960571  ...   \n",
       "25%                                 -501.018117  ...   \n",
       "50%                                 -500.017711  ...   \n",
       "75%                                 -498.994130  ...   \n",
       "max                                 -150.937035  ...   \n",
       "\n",
       "       secondary_cleaner.state.floatbank4_a_air  \\\n",
       "count                              5.290000e+03   \n",
       "mean                               1.632007e+01   \n",
       "std                                3.493583e+00   \n",
       "min                                1.079872e-16   \n",
       "25%                                1.403618e+01   \n",
       "50%                                1.700847e+01   \n",
       "75%                                1.803862e+01   \n",
       "max                                3.005180e+01   \n",
       "\n",
       "       secondary_cleaner.state.floatbank4_a_level  \\\n",
       "count                                 5290.000000   \n",
       "mean                                  -505.144570   \n",
       "std                                     31.427337   \n",
       "min                                   -799.798523   \n",
       "25%                                   -500.868258   \n",
       "50%                                   -500.115727   \n",
       "75%                                   -499.404224   \n",
       "max                                   -401.565212   \n",
       "\n",
       "       secondary_cleaner.state.floatbank4_b_air  \\\n",
       "count                              5.290000e+03   \n",
       "mean                               1.373544e+01   \n",
       "std                                3.430484e+00   \n",
       "min                                2.489718e-17   \n",
       "25%                                1.202862e+01   \n",
       "50%                                1.496486e+01   \n",
       "75%                                1.596213e+01   \n",
       "max                                3.126971e+01   \n",
       "\n",
       "       secondary_cleaner.state.floatbank4_b_level  \\\n",
       "count                                 5290.000000   \n",
       "mean                                  -463.349858   \n",
       "std                                     86.189107   \n",
       "min                                   -800.836914   \n",
       "25%                                   -500.323028   \n",
       "50%                                   -499.576513   \n",
       "75%                                   -400.933805   \n",
       "max                                     -6.506986   \n",
       "\n",
       "       secondary_cleaner.state.floatbank5_a_air  \\\n",
       "count                               5290.000000   \n",
       "mean                                  12.804186   \n",
       "std                                    3.026591   \n",
       "min                                    0.069227   \n",
       "25%                                   10.914838   \n",
       "50%                                   12.954182   \n",
       "75%                                   15.097528   \n",
       "max                                   25.258848   \n",
       "\n",
       "       secondary_cleaner.state.floatbank5_a_level  \\\n",
       "count                                 5290.000000   \n",
       "mean                                  -501.329122   \n",
       "std                                     17.951495   \n",
       "min                                   -797.323986   \n",
       "25%                                   -500.726841   \n",
       "50%                                   -499.990332   \n",
       "75%                                   -499.283191   \n",
       "max                                   -244.483566   \n",
       "\n",
       "       secondary_cleaner.state.floatbank5_b_air  \\\n",
       "count                               5290.000000   \n",
       "mean                                   9.881145   \n",
       "std                                    2.868205   \n",
       "min                                    0.528083   \n",
       "25%                                    8.036719   \n",
       "50%                                   10.004301   \n",
       "75%                                   11.997467   \n",
       "max                                   14.086866   \n",
       "\n",
       "       secondary_cleaner.state.floatbank5_b_level  \\\n",
       "count                                 5290.000000   \n",
       "mean                                  -495.663398   \n",
       "std                                     34.535007   \n",
       "min                                   -800.220337   \n",
       "25%                                   -500.194668   \n",
       "50%                                   -499.990535   \n",
       "75%                                   -499.719913   \n",
       "max                                   -137.740004   \n",
       "\n",
       "       secondary_cleaner.state.floatbank6_a_air  \\\n",
       "count                               5290.000000   \n",
       "mean                                  17.304935   \n",
       "std                                    4.536544   \n",
       "min                                   -0.079426   \n",
       "25%                                   13.997317   \n",
       "50%                                   16.014935   \n",
       "75%                                   21.020013   \n",
       "max                                   26.705889   \n",
       "\n",
       "       secondary_cleaner.state.floatbank6_a_level  \n",
       "count                                 5290.000000  \n",
       "mean                                  -501.793193  \n",
       "std                                     39.044215  \n",
       "min                                   -809.741464  \n",
       "25%                                   -500.690984  \n",
       "50%                                   -500.007126  \n",
       "75%                                   -499.373018  \n",
       "max                                   -123.307487  \n",
       "\n",
       "[8 rows x 52 columns]"
      ]
     },
     "metadata": {},
     "output_type": "display_data"
    },
    {
     "name": "stdout",
     "output_type": "stream",
     "text": [
      "\n",
      "Информация о столбцах таблицы методом .info():\n",
      "\n",
      "<class 'pandas.core.frame.DataFrame'>\n",
      "RangeIndex: 5290 entries, 0 to 5289\n",
      "Data columns (total 53 columns):\n",
      "date                                          5290 non-null object\n",
      "primary_cleaner.input.sulfate                 5286 non-null float64\n",
      "primary_cleaner.input.depressant              5285 non-null float64\n",
      "primary_cleaner.input.feed_size               5290 non-null float64\n",
      "primary_cleaner.input.xanthate                5286 non-null float64\n",
      "primary_cleaner.state.floatbank8_a_air        5290 non-null float64\n",
      "primary_cleaner.state.floatbank8_a_level      5290 non-null float64\n",
      "primary_cleaner.state.floatbank8_b_air        5290 non-null float64\n",
      "primary_cleaner.state.floatbank8_b_level      5290 non-null float64\n",
      "primary_cleaner.state.floatbank8_c_air        5290 non-null float64\n",
      "primary_cleaner.state.floatbank8_c_level      5290 non-null float64\n",
      "primary_cleaner.state.floatbank8_d_air        5290 non-null float64\n",
      "primary_cleaner.state.floatbank8_d_level      5290 non-null float64\n",
      "rougher.input.feed_ag                         5290 non-null float64\n",
      "rougher.input.feed_pb                         5290 non-null float64\n",
      "rougher.input.feed_rate                       5287 non-null float64\n",
      "rougher.input.feed_size                       5289 non-null float64\n",
      "rougher.input.feed_sol                        5269 non-null float64\n",
      "rougher.input.feed_au                         5290 non-null float64\n",
      "rougher.input.floatbank10_sulfate             5285 non-null float64\n",
      "rougher.input.floatbank10_xanthate            5290 non-null float64\n",
      "rougher.input.floatbank11_sulfate             5282 non-null float64\n",
      "rougher.input.floatbank11_xanthate            5265 non-null float64\n",
      "rougher.state.floatbank10_a_air               5290 non-null float64\n",
      "rougher.state.floatbank10_a_level             5290 non-null float64\n",
      "rougher.state.floatbank10_b_air               5290 non-null float64\n",
      "rougher.state.floatbank10_b_level             5290 non-null float64\n",
      "rougher.state.floatbank10_c_air               5290 non-null float64\n",
      "rougher.state.floatbank10_c_level             5290 non-null float64\n",
      "rougher.state.floatbank10_d_air               5290 non-null float64\n",
      "rougher.state.floatbank10_d_level             5290 non-null float64\n",
      "rougher.state.floatbank10_e_air               5290 non-null float64\n",
      "rougher.state.floatbank10_e_level             5290 non-null float64\n",
      "rougher.state.floatbank10_f_air               5290 non-null float64\n",
      "rougher.state.floatbank10_f_level             5290 non-null float64\n",
      "secondary_cleaner.state.floatbank2_a_air      5287 non-null float64\n",
      "secondary_cleaner.state.floatbank2_a_level    5290 non-null float64\n",
      "secondary_cleaner.state.floatbank2_b_air      5288 non-null float64\n",
      "secondary_cleaner.state.floatbank2_b_level    5290 non-null float64\n",
      "secondary_cleaner.state.floatbank3_a_air      5281 non-null float64\n",
      "secondary_cleaner.state.floatbank3_a_level    5290 non-null float64\n",
      "secondary_cleaner.state.floatbank3_b_air      5290 non-null float64\n",
      "secondary_cleaner.state.floatbank3_b_level    5290 non-null float64\n",
      "secondary_cleaner.state.floatbank4_a_air      5290 non-null float64\n",
      "secondary_cleaner.state.floatbank4_a_level    5290 non-null float64\n",
      "secondary_cleaner.state.floatbank4_b_air      5290 non-null float64\n",
      "secondary_cleaner.state.floatbank4_b_level    5290 non-null float64\n",
      "secondary_cleaner.state.floatbank5_a_air      5290 non-null float64\n",
      "secondary_cleaner.state.floatbank5_a_level    5290 non-null float64\n",
      "secondary_cleaner.state.floatbank5_b_air      5290 non-null float64\n",
      "secondary_cleaner.state.floatbank5_b_level    5290 non-null float64\n",
      "secondary_cleaner.state.floatbank6_a_air      5290 non-null float64\n",
      "secondary_cleaner.state.floatbank6_a_level    5290 non-null float64\n",
      "dtypes: float64(52), object(1)\n",
      "memory usage: 2.1+ MB\n"
     ]
    },
    {
     "data": {
      "text/plain": [
       "None"
      ]
     },
     "metadata": {},
     "output_type": "display_data"
    },
    {
     "name": "stdout",
     "output_type": "stream",
     "text": [
      "\n",
      "Процент пропусков в каждом столбце в порядке убывания\n"
     ]
    },
    {
     "data": {
      "text/plain": [
       "rougher.input.floatbank11_xanthate            0.004726\n",
       "rougher.input.feed_sol                        0.003970\n",
       "secondary_cleaner.state.floatbank3_a_air      0.001701\n",
       "rougher.input.floatbank11_sulfate             0.001512\n",
       "primary_cleaner.input.depressant              0.000945\n",
       "rougher.input.floatbank10_sulfate             0.000945\n",
       "primary_cleaner.input.sulfate                 0.000756\n",
       "primary_cleaner.input.xanthate                0.000756\n",
       "secondary_cleaner.state.floatbank2_a_air      0.000567\n",
       "rougher.input.feed_rate                       0.000567\n",
       "secondary_cleaner.state.floatbank2_b_air      0.000378\n",
       "rougher.input.feed_size                       0.000189\n",
       "secondary_cleaner.state.floatbank6_a_level    0.000000\n",
       "rougher.input.floatbank10_xanthate            0.000000\n",
       "rougher.input.feed_au                         0.000000\n",
       "rougher.input.feed_pb                         0.000000\n",
       "primary_cleaner.state.floatbank8_d_level      0.000000\n",
       "rougher.input.feed_ag                         0.000000\n",
       "rougher.state.floatbank10_a_level             0.000000\n",
       "primary_cleaner.state.floatbank8_d_air        0.000000\n",
       "primary_cleaner.state.floatbank8_c_level      0.000000\n",
       "primary_cleaner.state.floatbank8_c_air        0.000000\n",
       "primary_cleaner.state.floatbank8_b_level      0.000000\n",
       "primary_cleaner.state.floatbank8_b_air        0.000000\n",
       "primary_cleaner.state.floatbank8_a_level      0.000000\n",
       "primary_cleaner.state.floatbank8_a_air        0.000000\n",
       "primary_cleaner.input.feed_size               0.000000\n",
       "rougher.state.floatbank10_a_air               0.000000\n",
       "rougher.state.floatbank10_b_level             0.000000\n",
       "rougher.state.floatbank10_b_air               0.000000\n",
       "secondary_cleaner.state.floatbank6_a_air      0.000000\n",
       "secondary_cleaner.state.floatbank5_b_level    0.000000\n",
       "secondary_cleaner.state.floatbank5_b_air      0.000000\n",
       "secondary_cleaner.state.floatbank5_a_level    0.000000\n",
       "secondary_cleaner.state.floatbank5_a_air      0.000000\n",
       "secondary_cleaner.state.floatbank4_b_level    0.000000\n",
       "secondary_cleaner.state.floatbank4_b_air      0.000000\n",
       "secondary_cleaner.state.floatbank4_a_level    0.000000\n",
       "secondary_cleaner.state.floatbank4_a_air      0.000000\n",
       "secondary_cleaner.state.floatbank3_b_level    0.000000\n",
       "secondary_cleaner.state.floatbank3_b_air      0.000000\n",
       "secondary_cleaner.state.floatbank3_a_level    0.000000\n",
       "secondary_cleaner.state.floatbank2_b_level    0.000000\n",
       "secondary_cleaner.state.floatbank2_a_level    0.000000\n",
       "rougher.state.floatbank10_f_level             0.000000\n",
       "rougher.state.floatbank10_f_air               0.000000\n",
       "rougher.state.floatbank10_e_level             0.000000\n",
       "rougher.state.floatbank10_e_air               0.000000\n",
       "rougher.state.floatbank10_d_level             0.000000\n",
       "rougher.state.floatbank10_d_air               0.000000\n",
       "rougher.state.floatbank10_c_level             0.000000\n",
       "rougher.state.floatbank10_c_air               0.000000\n",
       "date                                          0.000000\n",
       "dtype: float64"
      ]
     },
     "metadata": {},
     "output_type": "display_data"
    },
    {
     "name": "stdout",
     "output_type": "stream",
     "text": [
      "\n",
      "Кол-во дубликатов в таблице:\n"
     ]
    },
    {
     "data": {
      "text/plain": [
       "0"
      ]
     },
     "metadata": {},
     "output_type": "display_data"
    },
    {
     "name": "stdout",
     "output_type": "stream",
     "text": [
      "------------------------------------------------------------------------------------------------------------------------\n",
      "\n",
      "\n",
      "\n",
      "Первые 15 строк таблицы - Полная\n"
     ]
    },
    {
     "data": {
      "text/html": [
       "<div>\n",
       "<style scoped>\n",
       "    .dataframe tbody tr th:only-of-type {\n",
       "        vertical-align: middle;\n",
       "    }\n",
       "\n",
       "    .dataframe tbody tr th {\n",
       "        vertical-align: top;\n",
       "    }\n",
       "\n",
       "    .dataframe thead th {\n",
       "        text-align: right;\n",
       "    }\n",
       "</style>\n",
       "<table border=\"1\" class=\"dataframe\">\n",
       "  <thead>\n",
       "    <tr style=\"text-align: right;\">\n",
       "      <th></th>\n",
       "      <th>date</th>\n",
       "      <th>final.output.concentrate_ag</th>\n",
       "      <th>final.output.concentrate_pb</th>\n",
       "      <th>final.output.concentrate_sol</th>\n",
       "      <th>final.output.concentrate_au</th>\n",
       "      <th>final.output.recovery</th>\n",
       "      <th>final.output.tail_ag</th>\n",
       "      <th>final.output.tail_pb</th>\n",
       "      <th>final.output.tail_sol</th>\n",
       "      <th>final.output.tail_au</th>\n",
       "      <th>...</th>\n",
       "      <th>secondary_cleaner.state.floatbank4_a_air</th>\n",
       "      <th>secondary_cleaner.state.floatbank4_a_level</th>\n",
       "      <th>secondary_cleaner.state.floatbank4_b_air</th>\n",
       "      <th>secondary_cleaner.state.floatbank4_b_level</th>\n",
       "      <th>secondary_cleaner.state.floatbank5_a_air</th>\n",
       "      <th>secondary_cleaner.state.floatbank5_a_level</th>\n",
       "      <th>secondary_cleaner.state.floatbank5_b_air</th>\n",
       "      <th>secondary_cleaner.state.floatbank5_b_level</th>\n",
       "      <th>secondary_cleaner.state.floatbank6_a_air</th>\n",
       "      <th>secondary_cleaner.state.floatbank6_a_level</th>\n",
       "    </tr>\n",
       "  </thead>\n",
       "  <tbody>\n",
       "    <tr>\n",
       "      <td>0</td>\n",
       "      <td>2016-01-15 00:00:00</td>\n",
       "      <td>6.055403</td>\n",
       "      <td>9.889648</td>\n",
       "      <td>5.507324</td>\n",
       "      <td>42.192020</td>\n",
       "      <td>70.541216</td>\n",
       "      <td>10.411962</td>\n",
       "      <td>0.895447</td>\n",
       "      <td>16.904297</td>\n",
       "      <td>2.143149</td>\n",
       "      <td>...</td>\n",
       "      <td>14.016835</td>\n",
       "      <td>-502.488007</td>\n",
       "      <td>12.099931</td>\n",
       "      <td>-504.715942</td>\n",
       "      <td>9.925633</td>\n",
       "      <td>-498.310211</td>\n",
       "      <td>8.079666</td>\n",
       "      <td>-500.470978</td>\n",
       "      <td>14.151341</td>\n",
       "      <td>-605.841980</td>\n",
       "    </tr>\n",
       "    <tr>\n",
       "      <td>1</td>\n",
       "      <td>2016-01-15 01:00:00</td>\n",
       "      <td>6.029369</td>\n",
       "      <td>9.968944</td>\n",
       "      <td>5.257781</td>\n",
       "      <td>42.701629</td>\n",
       "      <td>69.266198</td>\n",
       "      <td>10.462676</td>\n",
       "      <td>0.927452</td>\n",
       "      <td>16.634514</td>\n",
       "      <td>2.224930</td>\n",
       "      <td>...</td>\n",
       "      <td>13.992281</td>\n",
       "      <td>-505.503262</td>\n",
       "      <td>11.950531</td>\n",
       "      <td>-501.331529</td>\n",
       "      <td>10.039245</td>\n",
       "      <td>-500.169983</td>\n",
       "      <td>7.984757</td>\n",
       "      <td>-500.582168</td>\n",
       "      <td>13.998353</td>\n",
       "      <td>-599.787184</td>\n",
       "    </tr>\n",
       "    <tr>\n",
       "      <td>2</td>\n",
       "      <td>2016-01-15 02:00:00</td>\n",
       "      <td>6.055926</td>\n",
       "      <td>10.213995</td>\n",
       "      <td>5.383759</td>\n",
       "      <td>42.657501</td>\n",
       "      <td>68.116445</td>\n",
       "      <td>10.507046</td>\n",
       "      <td>0.953716</td>\n",
       "      <td>16.208849</td>\n",
       "      <td>2.257889</td>\n",
       "      <td>...</td>\n",
       "      <td>14.015015</td>\n",
       "      <td>-502.520901</td>\n",
       "      <td>11.912783</td>\n",
       "      <td>-501.133383</td>\n",
       "      <td>10.070913</td>\n",
       "      <td>-500.129135</td>\n",
       "      <td>8.013877</td>\n",
       "      <td>-500.517572</td>\n",
       "      <td>14.028663</td>\n",
       "      <td>-601.427363</td>\n",
       "    </tr>\n",
       "    <tr>\n",
       "      <td>3</td>\n",
       "      <td>2016-01-15 03:00:00</td>\n",
       "      <td>6.047977</td>\n",
       "      <td>9.977019</td>\n",
       "      <td>4.858634</td>\n",
       "      <td>42.689819</td>\n",
       "      <td>68.347543</td>\n",
       "      <td>10.422762</td>\n",
       "      <td>0.883763</td>\n",
       "      <td>16.532835</td>\n",
       "      <td>2.146849</td>\n",
       "      <td>...</td>\n",
       "      <td>14.036510</td>\n",
       "      <td>-500.857308</td>\n",
       "      <td>11.999550</td>\n",
       "      <td>-501.193686</td>\n",
       "      <td>9.970366</td>\n",
       "      <td>-499.201640</td>\n",
       "      <td>7.977324</td>\n",
       "      <td>-500.255908</td>\n",
       "      <td>14.005551</td>\n",
       "      <td>-599.996129</td>\n",
       "    </tr>\n",
       "    <tr>\n",
       "      <td>4</td>\n",
       "      <td>2016-01-15 04:00:00</td>\n",
       "      <td>6.148599</td>\n",
       "      <td>10.142511</td>\n",
       "      <td>4.939416</td>\n",
       "      <td>42.774141</td>\n",
       "      <td>66.927016</td>\n",
       "      <td>10.360302</td>\n",
       "      <td>0.792826</td>\n",
       "      <td>16.525686</td>\n",
       "      <td>2.055292</td>\n",
       "      <td>...</td>\n",
       "      <td>14.027298</td>\n",
       "      <td>-499.838632</td>\n",
       "      <td>11.953070</td>\n",
       "      <td>-501.053894</td>\n",
       "      <td>9.925709</td>\n",
       "      <td>-501.686727</td>\n",
       "      <td>7.894242</td>\n",
       "      <td>-500.356035</td>\n",
       "      <td>13.996647</td>\n",
       "      <td>-601.496691</td>\n",
       "    </tr>\n",
       "    <tr>\n",
       "      <td>5</td>\n",
       "      <td>2016-01-15 05:00:00</td>\n",
       "      <td>6.482968</td>\n",
       "      <td>10.049416</td>\n",
       "      <td>5.480257</td>\n",
       "      <td>41.633678</td>\n",
       "      <td>69.465816</td>\n",
       "      <td>10.182708</td>\n",
       "      <td>0.664118</td>\n",
       "      <td>16.999638</td>\n",
       "      <td>1.918586</td>\n",
       "      <td>...</td>\n",
       "      <td>13.938497</td>\n",
       "      <td>-500.970168</td>\n",
       "      <td>11.883350</td>\n",
       "      <td>-500.395298</td>\n",
       "      <td>10.054147</td>\n",
       "      <td>-496.374715</td>\n",
       "      <td>7.965083</td>\n",
       "      <td>-499.364752</td>\n",
       "      <td>14.017067</td>\n",
       "      <td>-599.707915</td>\n",
       "    </tr>\n",
       "    <tr>\n",
       "      <td>6</td>\n",
       "      <td>2016-01-15 06:00:00</td>\n",
       "      <td>6.533849</td>\n",
       "      <td>10.058141</td>\n",
       "      <td>4.569100</td>\n",
       "      <td>41.995316</td>\n",
       "      <td>69.300835</td>\n",
       "      <td>10.304598</td>\n",
       "      <td>0.807342</td>\n",
       "      <td>16.723575</td>\n",
       "      <td>2.058913</td>\n",
       "      <td>...</td>\n",
       "      <td>14.046819</td>\n",
       "      <td>-500.971133</td>\n",
       "      <td>12.091543</td>\n",
       "      <td>-500.501426</td>\n",
       "      <td>10.003247</td>\n",
       "      <td>-497.083180</td>\n",
       "      <td>8.010890</td>\n",
       "      <td>-500.002423</td>\n",
       "      <td>14.029649</td>\n",
       "      <td>-600.905470</td>\n",
       "    </tr>\n",
       "    <tr>\n",
       "      <td>7</td>\n",
       "      <td>2016-01-15 07:00:00</td>\n",
       "      <td>6.130823</td>\n",
       "      <td>9.935481</td>\n",
       "      <td>4.389813</td>\n",
       "      <td>42.452727</td>\n",
       "      <td>70.230976</td>\n",
       "      <td>10.443288</td>\n",
       "      <td>0.949346</td>\n",
       "      <td>16.689959</td>\n",
       "      <td>2.143437</td>\n",
       "      <td>...</td>\n",
       "      <td>13.974691</td>\n",
       "      <td>-501.819696</td>\n",
       "      <td>12.101324</td>\n",
       "      <td>-500.583446</td>\n",
       "      <td>9.873169</td>\n",
       "      <td>-499.171928</td>\n",
       "      <td>7.993381</td>\n",
       "      <td>-499.794518</td>\n",
       "      <td>13.984498</td>\n",
       "      <td>-600.411070</td>\n",
       "    </tr>\n",
       "    <tr>\n",
       "      <td>8</td>\n",
       "      <td>2016-01-15 08:00:00</td>\n",
       "      <td>5.834140</td>\n",
       "      <td>10.071156</td>\n",
       "      <td>4.876389</td>\n",
       "      <td>43.404078</td>\n",
       "      <td>69.688595</td>\n",
       "      <td>10.420140</td>\n",
       "      <td>1.065453</td>\n",
       "      <td>17.201948</td>\n",
       "      <td>2.209881</td>\n",
       "      <td>...</td>\n",
       "      <td>13.964030</td>\n",
       "      <td>-504.252450</td>\n",
       "      <td>12.060738</td>\n",
       "      <td>-501.174549</td>\n",
       "      <td>10.033838</td>\n",
       "      <td>-501.178133</td>\n",
       "      <td>7.881604</td>\n",
       "      <td>-499.729434</td>\n",
       "      <td>13.967135</td>\n",
       "      <td>-599.061188</td>\n",
       "    </tr>\n",
       "    <tr>\n",
       "      <td>9</td>\n",
       "      <td>2016-01-15 09:00:00</td>\n",
       "      <td>5.687063</td>\n",
       "      <td>9.980404</td>\n",
       "      <td>5.282514</td>\n",
       "      <td>43.235220</td>\n",
       "      <td>70.279619</td>\n",
       "      <td>10.487013</td>\n",
       "      <td>1.159805</td>\n",
       "      <td>17.483979</td>\n",
       "      <td>2.209593</td>\n",
       "      <td>...</td>\n",
       "      <td>13.989632</td>\n",
       "      <td>-503.195299</td>\n",
       "      <td>12.052233</td>\n",
       "      <td>-500.928547</td>\n",
       "      <td>9.962574</td>\n",
       "      <td>-502.986357</td>\n",
       "      <td>7.979219</td>\n",
       "      <td>-500.146835</td>\n",
       "      <td>13.981614</td>\n",
       "      <td>-598.070855</td>\n",
       "    </tr>\n",
       "    <tr>\n",
       "      <td>10</td>\n",
       "      <td>2016-01-15 10:00:00</td>\n",
       "      <td>5.706261</td>\n",
       "      <td>10.242511</td>\n",
       "      <td>5.214161</td>\n",
       "      <td>43.487291</td>\n",
       "      <td>70.973641</td>\n",
       "      <td>10.473539</td>\n",
       "      <td>1.171183</td>\n",
       "      <td>17.717049</td>\n",
       "      <td>2.200997</td>\n",
       "      <td>...</td>\n",
       "      <td>14.008944</td>\n",
       "      <td>-504.170807</td>\n",
       "      <td>11.995903</td>\n",
       "      <td>-501.269181</td>\n",
       "      <td>10.043100</td>\n",
       "      <td>-498.529996</td>\n",
       "      <td>8.002633</td>\n",
       "      <td>-499.761922</td>\n",
       "      <td>14.004767</td>\n",
       "      <td>-599.595324</td>\n",
       "    </tr>\n",
       "    <tr>\n",
       "      <td>11</td>\n",
       "      <td>2016-01-15 11:00:00</td>\n",
       "      <td>5.582300</td>\n",
       "      <td>10.029878</td>\n",
       "      <td>5.751567</td>\n",
       "      <td>43.467440</td>\n",
       "      <td>71.380681</td>\n",
       "      <td>10.394314</td>\n",
       "      <td>1.087722</td>\n",
       "      <td>18.059770</td>\n",
       "      <td>2.098777</td>\n",
       "      <td>...</td>\n",
       "      <td>14.029704</td>\n",
       "      <td>-503.940828</td>\n",
       "      <td>12.022296</td>\n",
       "      <td>-501.238477</td>\n",
       "      <td>10.020094</td>\n",
       "      <td>-500.061845</td>\n",
       "      <td>7.964024</td>\n",
       "      <td>-499.283982</td>\n",
       "      <td>14.003011</td>\n",
       "      <td>-599.879856</td>\n",
       "    </tr>\n",
       "    <tr>\n",
       "      <td>12</td>\n",
       "      <td>2016-01-15 12:00:00</td>\n",
       "      <td>5.664983</td>\n",
       "      <td>10.168953</td>\n",
       "      <td>5.484318</td>\n",
       "      <td>43.339714</td>\n",
       "      <td>72.659046</td>\n",
       "      <td>10.475957</td>\n",
       "      <td>1.050592</td>\n",
       "      <td>17.525656</td>\n",
       "      <td>2.064422</td>\n",
       "      <td>...</td>\n",
       "      <td>13.983963</td>\n",
       "      <td>-503.675714</td>\n",
       "      <td>11.928745</td>\n",
       "      <td>-500.583183</td>\n",
       "      <td>9.970359</td>\n",
       "      <td>-498.822343</td>\n",
       "      <td>8.016377</td>\n",
       "      <td>-499.013145</td>\n",
       "      <td>14.000032</td>\n",
       "      <td>-600.024741</td>\n",
       "    </tr>\n",
       "    <tr>\n",
       "      <td>13</td>\n",
       "      <td>2016-01-15 13:00:00</td>\n",
       "      <td>5.474776</td>\n",
       "      <td>9.813218</td>\n",
       "      <td>5.587525</td>\n",
       "      <td>44.099758</td>\n",
       "      <td>73.588844</td>\n",
       "      <td>10.378293</td>\n",
       "      <td>0.900833</td>\n",
       "      <td>17.464201</td>\n",
       "      <td>1.975039</td>\n",
       "      <td>...</td>\n",
       "      <td>13.981325</td>\n",
       "      <td>-504.947519</td>\n",
       "      <td>12.014060</td>\n",
       "      <td>-500.647565</td>\n",
       "      <td>10.000087</td>\n",
       "      <td>-499.306972</td>\n",
       "      <td>8.002007</td>\n",
       "      <td>-499.970754</td>\n",
       "      <td>14.019977</td>\n",
       "      <td>-599.986714</td>\n",
       "    </tr>\n",
       "    <tr>\n",
       "      <td>14</td>\n",
       "      <td>2016-01-15 14:00:00</td>\n",
       "      <td>5.437716</td>\n",
       "      <td>9.781181</td>\n",
       "      <td>6.057627</td>\n",
       "      <td>44.284117</td>\n",
       "      <td>70.847012</td>\n",
       "      <td>10.324415</td>\n",
       "      <td>0.961210</td>\n",
       "      <td>18.185262</td>\n",
       "      <td>2.161256</td>\n",
       "      <td>...</td>\n",
       "      <td>13.996317</td>\n",
       "      <td>-502.995300</td>\n",
       "      <td>11.980055</td>\n",
       "      <td>-500.607751</td>\n",
       "      <td>9.964501</td>\n",
       "      <td>-499.261719</td>\n",
       "      <td>8.065048</td>\n",
       "      <td>-499.492395</td>\n",
       "      <td>13.997801</td>\n",
       "      <td>-600.621416</td>\n",
       "    </tr>\n",
       "  </tbody>\n",
       "</table>\n",
       "<p>15 rows × 87 columns</p>\n",
       "</div>"
      ],
      "text/plain": [
       "                   date  final.output.concentrate_ag  \\\n",
       "0   2016-01-15 00:00:00                     6.055403   \n",
       "1   2016-01-15 01:00:00                     6.029369   \n",
       "2   2016-01-15 02:00:00                     6.055926   \n",
       "3   2016-01-15 03:00:00                     6.047977   \n",
       "4   2016-01-15 04:00:00                     6.148599   \n",
       "5   2016-01-15 05:00:00                     6.482968   \n",
       "6   2016-01-15 06:00:00                     6.533849   \n",
       "7   2016-01-15 07:00:00                     6.130823   \n",
       "8   2016-01-15 08:00:00                     5.834140   \n",
       "9   2016-01-15 09:00:00                     5.687063   \n",
       "10  2016-01-15 10:00:00                     5.706261   \n",
       "11  2016-01-15 11:00:00                     5.582300   \n",
       "12  2016-01-15 12:00:00                     5.664983   \n",
       "13  2016-01-15 13:00:00                     5.474776   \n",
       "14  2016-01-15 14:00:00                     5.437716   \n",
       "\n",
       "    final.output.concentrate_pb  final.output.concentrate_sol  \\\n",
       "0                      9.889648                      5.507324   \n",
       "1                      9.968944                      5.257781   \n",
       "2                     10.213995                      5.383759   \n",
       "3                      9.977019                      4.858634   \n",
       "4                     10.142511                      4.939416   \n",
       "5                     10.049416                      5.480257   \n",
       "6                     10.058141                      4.569100   \n",
       "7                      9.935481                      4.389813   \n",
       "8                     10.071156                      4.876389   \n",
       "9                      9.980404                      5.282514   \n",
       "10                    10.242511                      5.214161   \n",
       "11                    10.029878                      5.751567   \n",
       "12                    10.168953                      5.484318   \n",
       "13                     9.813218                      5.587525   \n",
       "14                     9.781181                      6.057627   \n",
       "\n",
       "    final.output.concentrate_au  final.output.recovery  final.output.tail_ag  \\\n",
       "0                     42.192020              70.541216             10.411962   \n",
       "1                     42.701629              69.266198             10.462676   \n",
       "2                     42.657501              68.116445             10.507046   \n",
       "3                     42.689819              68.347543             10.422762   \n",
       "4                     42.774141              66.927016             10.360302   \n",
       "5                     41.633678              69.465816             10.182708   \n",
       "6                     41.995316              69.300835             10.304598   \n",
       "7                     42.452727              70.230976             10.443288   \n",
       "8                     43.404078              69.688595             10.420140   \n",
       "9                     43.235220              70.279619             10.487013   \n",
       "10                    43.487291              70.973641             10.473539   \n",
       "11                    43.467440              71.380681             10.394314   \n",
       "12                    43.339714              72.659046             10.475957   \n",
       "13                    44.099758              73.588844             10.378293   \n",
       "14                    44.284117              70.847012             10.324415   \n",
       "\n",
       "    final.output.tail_pb  final.output.tail_sol  final.output.tail_au  ...  \\\n",
       "0               0.895447              16.904297              2.143149  ...   \n",
       "1               0.927452              16.634514              2.224930  ...   \n",
       "2               0.953716              16.208849              2.257889  ...   \n",
       "3               0.883763              16.532835              2.146849  ...   \n",
       "4               0.792826              16.525686              2.055292  ...   \n",
       "5               0.664118              16.999638              1.918586  ...   \n",
       "6               0.807342              16.723575              2.058913  ...   \n",
       "7               0.949346              16.689959              2.143437  ...   \n",
       "8               1.065453              17.201948              2.209881  ...   \n",
       "9               1.159805              17.483979              2.209593  ...   \n",
       "10              1.171183              17.717049              2.200997  ...   \n",
       "11              1.087722              18.059770              2.098777  ...   \n",
       "12              1.050592              17.525656              2.064422  ...   \n",
       "13              0.900833              17.464201              1.975039  ...   \n",
       "14              0.961210              18.185262              2.161256  ...   \n",
       "\n",
       "    secondary_cleaner.state.floatbank4_a_air  \\\n",
       "0                                  14.016835   \n",
       "1                                  13.992281   \n",
       "2                                  14.015015   \n",
       "3                                  14.036510   \n",
       "4                                  14.027298   \n",
       "5                                  13.938497   \n",
       "6                                  14.046819   \n",
       "7                                  13.974691   \n",
       "8                                  13.964030   \n",
       "9                                  13.989632   \n",
       "10                                 14.008944   \n",
       "11                                 14.029704   \n",
       "12                                 13.983963   \n",
       "13                                 13.981325   \n",
       "14                                 13.996317   \n",
       "\n",
       "    secondary_cleaner.state.floatbank4_a_level  \\\n",
       "0                                  -502.488007   \n",
       "1                                  -505.503262   \n",
       "2                                  -502.520901   \n",
       "3                                  -500.857308   \n",
       "4                                  -499.838632   \n",
       "5                                  -500.970168   \n",
       "6                                  -500.971133   \n",
       "7                                  -501.819696   \n",
       "8                                  -504.252450   \n",
       "9                                  -503.195299   \n",
       "10                                 -504.170807   \n",
       "11                                 -503.940828   \n",
       "12                                 -503.675714   \n",
       "13                                 -504.947519   \n",
       "14                                 -502.995300   \n",
       "\n",
       "    secondary_cleaner.state.floatbank4_b_air  \\\n",
       "0                                  12.099931   \n",
       "1                                  11.950531   \n",
       "2                                  11.912783   \n",
       "3                                  11.999550   \n",
       "4                                  11.953070   \n",
       "5                                  11.883350   \n",
       "6                                  12.091543   \n",
       "7                                  12.101324   \n",
       "8                                  12.060738   \n",
       "9                                  12.052233   \n",
       "10                                 11.995903   \n",
       "11                                 12.022296   \n",
       "12                                 11.928745   \n",
       "13                                 12.014060   \n",
       "14                                 11.980055   \n",
       "\n",
       "    secondary_cleaner.state.floatbank4_b_level  \\\n",
       "0                                  -504.715942   \n",
       "1                                  -501.331529   \n",
       "2                                  -501.133383   \n",
       "3                                  -501.193686   \n",
       "4                                  -501.053894   \n",
       "5                                  -500.395298   \n",
       "6                                  -500.501426   \n",
       "7                                  -500.583446   \n",
       "8                                  -501.174549   \n",
       "9                                  -500.928547   \n",
       "10                                 -501.269181   \n",
       "11                                 -501.238477   \n",
       "12                                 -500.583183   \n",
       "13                                 -500.647565   \n",
       "14                                 -500.607751   \n",
       "\n",
       "    secondary_cleaner.state.floatbank5_a_air  \\\n",
       "0                                   9.925633   \n",
       "1                                  10.039245   \n",
       "2                                  10.070913   \n",
       "3                                   9.970366   \n",
       "4                                   9.925709   \n",
       "5                                  10.054147   \n",
       "6                                  10.003247   \n",
       "7                                   9.873169   \n",
       "8                                  10.033838   \n",
       "9                                   9.962574   \n",
       "10                                 10.043100   \n",
       "11                                 10.020094   \n",
       "12                                  9.970359   \n",
       "13                                 10.000087   \n",
       "14                                  9.964501   \n",
       "\n",
       "    secondary_cleaner.state.floatbank5_a_level  \\\n",
       "0                                  -498.310211   \n",
       "1                                  -500.169983   \n",
       "2                                  -500.129135   \n",
       "3                                  -499.201640   \n",
       "4                                  -501.686727   \n",
       "5                                  -496.374715   \n",
       "6                                  -497.083180   \n",
       "7                                  -499.171928   \n",
       "8                                  -501.178133   \n",
       "9                                  -502.986357   \n",
       "10                                 -498.529996   \n",
       "11                                 -500.061845   \n",
       "12                                 -498.822343   \n",
       "13                                 -499.306972   \n",
       "14                                 -499.261719   \n",
       "\n",
       "    secondary_cleaner.state.floatbank5_b_air  \\\n",
       "0                                   8.079666   \n",
       "1                                   7.984757   \n",
       "2                                   8.013877   \n",
       "3                                   7.977324   \n",
       "4                                   7.894242   \n",
       "5                                   7.965083   \n",
       "6                                   8.010890   \n",
       "7                                   7.993381   \n",
       "8                                   7.881604   \n",
       "9                                   7.979219   \n",
       "10                                  8.002633   \n",
       "11                                  7.964024   \n",
       "12                                  8.016377   \n",
       "13                                  8.002007   \n",
       "14                                  8.065048   \n",
       "\n",
       "    secondary_cleaner.state.floatbank5_b_level  \\\n",
       "0                                  -500.470978   \n",
       "1                                  -500.582168   \n",
       "2                                  -500.517572   \n",
       "3                                  -500.255908   \n",
       "4                                  -500.356035   \n",
       "5                                  -499.364752   \n",
       "6                                  -500.002423   \n",
       "7                                  -499.794518   \n",
       "8                                  -499.729434   \n",
       "9                                  -500.146835   \n",
       "10                                 -499.761922   \n",
       "11                                 -499.283982   \n",
       "12                                 -499.013145   \n",
       "13                                 -499.970754   \n",
       "14                                 -499.492395   \n",
       "\n",
       "    secondary_cleaner.state.floatbank6_a_air  \\\n",
       "0                                  14.151341   \n",
       "1                                  13.998353   \n",
       "2                                  14.028663   \n",
       "3                                  14.005551   \n",
       "4                                  13.996647   \n",
       "5                                  14.017067   \n",
       "6                                  14.029649   \n",
       "7                                  13.984498   \n",
       "8                                  13.967135   \n",
       "9                                  13.981614   \n",
       "10                                 14.004767   \n",
       "11                                 14.003011   \n",
       "12                                 14.000032   \n",
       "13                                 14.019977   \n",
       "14                                 13.997801   \n",
       "\n",
       "    secondary_cleaner.state.floatbank6_a_level  \n",
       "0                                  -605.841980  \n",
       "1                                  -599.787184  \n",
       "2                                  -601.427363  \n",
       "3                                  -599.996129  \n",
       "4                                  -601.496691  \n",
       "5                                  -599.707915  \n",
       "6                                  -600.905470  \n",
       "7                                  -600.411070  \n",
       "8                                  -599.061188  \n",
       "9                                  -598.070855  \n",
       "10                                 -599.595324  \n",
       "11                                 -599.879856  \n",
       "12                                 -600.024741  \n",
       "13                                 -599.986714  \n",
       "14                                 -600.621416  \n",
       "\n",
       "[15 rows x 87 columns]"
      ]
     },
     "metadata": {},
     "output_type": "display_data"
    },
    {
     "name": "stdout",
     "output_type": "stream",
     "text": [
      "\n",
      "Информация о столбцах таблицы методом .describe():\n"
     ]
    },
    {
     "data": {
      "text/html": [
       "<div>\n",
       "<style scoped>\n",
       "    .dataframe tbody tr th:only-of-type {\n",
       "        vertical-align: middle;\n",
       "    }\n",
       "\n",
       "    .dataframe tbody tr th {\n",
       "        vertical-align: top;\n",
       "    }\n",
       "\n",
       "    .dataframe thead th {\n",
       "        text-align: right;\n",
       "    }\n",
       "</style>\n",
       "<table border=\"1\" class=\"dataframe\">\n",
       "  <thead>\n",
       "    <tr style=\"text-align: right;\">\n",
       "      <th></th>\n",
       "      <th>final.output.concentrate_ag</th>\n",
       "      <th>final.output.concentrate_pb</th>\n",
       "      <th>final.output.concentrate_sol</th>\n",
       "      <th>final.output.concentrate_au</th>\n",
       "      <th>final.output.recovery</th>\n",
       "      <th>final.output.tail_ag</th>\n",
       "      <th>final.output.tail_pb</th>\n",
       "      <th>final.output.tail_sol</th>\n",
       "      <th>final.output.tail_au</th>\n",
       "      <th>primary_cleaner.input.sulfate</th>\n",
       "      <th>...</th>\n",
       "      <th>secondary_cleaner.state.floatbank4_a_air</th>\n",
       "      <th>secondary_cleaner.state.floatbank4_a_level</th>\n",
       "      <th>secondary_cleaner.state.floatbank4_b_air</th>\n",
       "      <th>secondary_cleaner.state.floatbank4_b_level</th>\n",
       "      <th>secondary_cleaner.state.floatbank5_a_air</th>\n",
       "      <th>secondary_cleaner.state.floatbank5_a_level</th>\n",
       "      <th>secondary_cleaner.state.floatbank5_b_air</th>\n",
       "      <th>secondary_cleaner.state.floatbank5_b_level</th>\n",
       "      <th>secondary_cleaner.state.floatbank6_a_air</th>\n",
       "      <th>secondary_cleaner.state.floatbank6_a_level</th>\n",
       "    </tr>\n",
       "  </thead>\n",
       "  <tbody>\n",
       "    <tr>\n",
       "      <td>count</td>\n",
       "      <td>19438.000000</td>\n",
       "      <td>19438.000000</td>\n",
       "      <td>19228.000000</td>\n",
       "      <td>19439.000000</td>\n",
       "      <td>19439.000000</td>\n",
       "      <td>19438.000000</td>\n",
       "      <td>19338.000000</td>\n",
       "      <td>19433.000000</td>\n",
       "      <td>19439.000000</td>\n",
       "      <td>19415.000000</td>\n",
       "      <td>...</td>\n",
       "      <td>19433.000000</td>\n",
       "      <td>19438.000000</td>\n",
       "      <td>19438.000000</td>\n",
       "      <td>19438.000000</td>\n",
       "      <td>19438.000000</td>\n",
       "      <td>19438.000000</td>\n",
       "      <td>19438.000000</td>\n",
       "      <td>19438.000000</td>\n",
       "      <td>19437.000000</td>\n",
       "      <td>19438.000000</td>\n",
       "    </tr>\n",
       "    <tr>\n",
       "      <td>mean</td>\n",
       "      <td>5.168470</td>\n",
       "      <td>9.978895</td>\n",
       "      <td>9.501224</td>\n",
       "      <td>44.076513</td>\n",
       "      <td>67.050208</td>\n",
       "      <td>9.688589</td>\n",
       "      <td>2.705795</td>\n",
       "      <td>10.583728</td>\n",
       "      <td>3.042467</td>\n",
       "      <td>144.624774</td>\n",
       "      <td>...</td>\n",
       "      <td>18.987674</td>\n",
       "      <td>-485.894516</td>\n",
       "      <td>15.010366</td>\n",
       "      <td>-461.078636</td>\n",
       "      <td>15.694452</td>\n",
       "      <td>-488.684065</td>\n",
       "      <td>12.198224</td>\n",
       "      <td>-487.149827</td>\n",
       "      <td>18.959024</td>\n",
       "      <td>-505.436305</td>\n",
       "    </tr>\n",
       "    <tr>\n",
       "      <td>std</td>\n",
       "      <td>1.372348</td>\n",
       "      <td>1.669240</td>\n",
       "      <td>2.787537</td>\n",
       "      <td>5.129784</td>\n",
       "      <td>10.125840</td>\n",
       "      <td>2.328642</td>\n",
       "      <td>0.949077</td>\n",
       "      <td>2.868782</td>\n",
       "      <td>0.922808</td>\n",
       "      <td>44.464071</td>\n",
       "      <td>...</td>\n",
       "      <td>5.411058</td>\n",
       "      <td>47.758570</td>\n",
       "      <td>4.890228</td>\n",
       "      <td>67.405524</td>\n",
       "      <td>5.510974</td>\n",
       "      <td>34.533396</td>\n",
       "      <td>5.333024</td>\n",
       "      <td>38.347312</td>\n",
       "      <td>5.550498</td>\n",
       "      <td>37.689057</td>\n",
       "    </tr>\n",
       "    <tr>\n",
       "      <td>min</td>\n",
       "      <td>0.000000</td>\n",
       "      <td>0.000000</td>\n",
       "      <td>0.000000</td>\n",
       "      <td>0.000000</td>\n",
       "      <td>0.000000</td>\n",
       "      <td>0.000000</td>\n",
       "      <td>0.000000</td>\n",
       "      <td>0.000000</td>\n",
       "      <td>0.000000</td>\n",
       "      <td>0.003112</td>\n",
       "      <td>...</td>\n",
       "      <td>0.000000</td>\n",
       "      <td>-799.798523</td>\n",
       "      <td>0.000000</td>\n",
       "      <td>-800.836914</td>\n",
       "      <td>-0.372054</td>\n",
       "      <td>-797.323986</td>\n",
       "      <td>0.528083</td>\n",
       "      <td>-800.220337</td>\n",
       "      <td>-0.079426</td>\n",
       "      <td>-809.741464</td>\n",
       "    </tr>\n",
       "    <tr>\n",
       "      <td>25%</td>\n",
       "      <td>4.251240</td>\n",
       "      <td>9.137262</td>\n",
       "      <td>7.722820</td>\n",
       "      <td>43.402215</td>\n",
       "      <td>63.299712</td>\n",
       "      <td>8.062878</td>\n",
       "      <td>2.040119</td>\n",
       "      <td>8.938947</td>\n",
       "      <td>2.461138</td>\n",
       "      <td>114.107029</td>\n",
       "      <td>...</td>\n",
       "      <td>14.975734</td>\n",
       "      <td>-500.704892</td>\n",
       "      <td>11.940294</td>\n",
       "      <td>-500.187742</td>\n",
       "      <td>10.988606</td>\n",
       "      <td>-500.458467</td>\n",
       "      <td>8.971105</td>\n",
       "      <td>-500.129462</td>\n",
       "      <td>14.983037</td>\n",
       "      <td>-500.728067</td>\n",
       "    </tr>\n",
       "    <tr>\n",
       "      <td>50%</td>\n",
       "      <td>5.066094</td>\n",
       "      <td>10.102433</td>\n",
       "      <td>9.218961</td>\n",
       "      <td>45.011244</td>\n",
       "      <td>68.172738</td>\n",
       "      <td>9.743623</td>\n",
       "      <td>2.748730</td>\n",
       "      <td>10.622456</td>\n",
       "      <td>2.984909</td>\n",
       "      <td>143.232103</td>\n",
       "      <td>...</td>\n",
       "      <td>18.017481</td>\n",
       "      <td>-499.837793</td>\n",
       "      <td>14.971014</td>\n",
       "      <td>-499.459786</td>\n",
       "      <td>15.000036</td>\n",
       "      <td>-499.802605</td>\n",
       "      <td>11.019433</td>\n",
       "      <td>-499.935317</td>\n",
       "      <td>19.960541</td>\n",
       "      <td>-500.048400</td>\n",
       "    </tr>\n",
       "    <tr>\n",
       "      <td>75%</td>\n",
       "      <td>5.895527</td>\n",
       "      <td>11.035769</td>\n",
       "      <td>10.947813</td>\n",
       "      <td>46.275313</td>\n",
       "      <td>72.686642</td>\n",
       "      <td>11.134294</td>\n",
       "      <td>3.333216</td>\n",
       "      <td>12.104271</td>\n",
       "      <td>3.571351</td>\n",
       "      <td>175.075656</td>\n",
       "      <td>...</td>\n",
       "      <td>23.012470</td>\n",
       "      <td>-498.249730</td>\n",
       "      <td>19.034162</td>\n",
       "      <td>-400.118106</td>\n",
       "      <td>18.026190</td>\n",
       "      <td>-498.384187</td>\n",
       "      <td>14.019088</td>\n",
       "      <td>-499.436708</td>\n",
       "      <td>24.003170</td>\n",
       "      <td>-499.495378</td>\n",
       "    </tr>\n",
       "    <tr>\n",
       "      <td>max</td>\n",
       "      <td>16.001945</td>\n",
       "      <td>17.031899</td>\n",
       "      <td>19.615720</td>\n",
       "      <td>52.756638</td>\n",
       "      <td>100.000000</td>\n",
       "      <td>19.552149</td>\n",
       "      <td>5.804178</td>\n",
       "      <td>22.317730</td>\n",
       "      <td>8.245022</td>\n",
       "      <td>265.983123</td>\n",
       "      <td>...</td>\n",
       "      <td>30.115735</td>\n",
       "      <td>-245.239184</td>\n",
       "      <td>31.269706</td>\n",
       "      <td>-6.506986</td>\n",
       "      <td>43.709931</td>\n",
       "      <td>-244.483566</td>\n",
       "      <td>27.926001</td>\n",
       "      <td>-137.740004</td>\n",
       "      <td>32.188906</td>\n",
       "      <td>-104.427459</td>\n",
       "    </tr>\n",
       "  </tbody>\n",
       "</table>\n",
       "<p>8 rows × 86 columns</p>\n",
       "</div>"
      ],
      "text/plain": [
       "       final.output.concentrate_ag  final.output.concentrate_pb  \\\n",
       "count                 19438.000000                 19438.000000   \n",
       "mean                      5.168470                     9.978895   \n",
       "std                       1.372348                     1.669240   \n",
       "min                       0.000000                     0.000000   \n",
       "25%                       4.251240                     9.137262   \n",
       "50%                       5.066094                    10.102433   \n",
       "75%                       5.895527                    11.035769   \n",
       "max                      16.001945                    17.031899   \n",
       "\n",
       "       final.output.concentrate_sol  final.output.concentrate_au  \\\n",
       "count                  19228.000000                 19439.000000   \n",
       "mean                       9.501224                    44.076513   \n",
       "std                        2.787537                     5.129784   \n",
       "min                        0.000000                     0.000000   \n",
       "25%                        7.722820                    43.402215   \n",
       "50%                        9.218961                    45.011244   \n",
       "75%                       10.947813                    46.275313   \n",
       "max                       19.615720                    52.756638   \n",
       "\n",
       "       final.output.recovery  final.output.tail_ag  final.output.tail_pb  \\\n",
       "count           19439.000000          19438.000000          19338.000000   \n",
       "mean               67.050208              9.688589              2.705795   \n",
       "std                10.125840              2.328642              0.949077   \n",
       "min                 0.000000              0.000000              0.000000   \n",
       "25%                63.299712              8.062878              2.040119   \n",
       "50%                68.172738              9.743623              2.748730   \n",
       "75%                72.686642             11.134294              3.333216   \n",
       "max               100.000000             19.552149              5.804178   \n",
       "\n",
       "       final.output.tail_sol  final.output.tail_au  \\\n",
       "count           19433.000000          19439.000000   \n",
       "mean               10.583728              3.042467   \n",
       "std                 2.868782              0.922808   \n",
       "min                 0.000000              0.000000   \n",
       "25%                 8.938947              2.461138   \n",
       "50%                10.622456              2.984909   \n",
       "75%                12.104271              3.571351   \n",
       "max                22.317730              8.245022   \n",
       "\n",
       "       primary_cleaner.input.sulfate  ...  \\\n",
       "count                   19415.000000  ...   \n",
       "mean                      144.624774  ...   \n",
       "std                        44.464071  ...   \n",
       "min                         0.003112  ...   \n",
       "25%                       114.107029  ...   \n",
       "50%                       143.232103  ...   \n",
       "75%                       175.075656  ...   \n",
       "max                       265.983123  ...   \n",
       "\n",
       "       secondary_cleaner.state.floatbank4_a_air  \\\n",
       "count                              19433.000000   \n",
       "mean                                  18.987674   \n",
       "std                                    5.411058   \n",
       "min                                    0.000000   \n",
       "25%                                   14.975734   \n",
       "50%                                   18.017481   \n",
       "75%                                   23.012470   \n",
       "max                                   30.115735   \n",
       "\n",
       "       secondary_cleaner.state.floatbank4_a_level  \\\n",
       "count                                19438.000000   \n",
       "mean                                  -485.894516   \n",
       "std                                     47.758570   \n",
       "min                                   -799.798523   \n",
       "25%                                   -500.704892   \n",
       "50%                                   -499.837793   \n",
       "75%                                   -498.249730   \n",
       "max                                   -245.239184   \n",
       "\n",
       "       secondary_cleaner.state.floatbank4_b_air  \\\n",
       "count                              19438.000000   \n",
       "mean                                  15.010366   \n",
       "std                                    4.890228   \n",
       "min                                    0.000000   \n",
       "25%                                   11.940294   \n",
       "50%                                   14.971014   \n",
       "75%                                   19.034162   \n",
       "max                                   31.269706   \n",
       "\n",
       "       secondary_cleaner.state.floatbank4_b_level  \\\n",
       "count                                19438.000000   \n",
       "mean                                  -461.078636   \n",
       "std                                     67.405524   \n",
       "min                                   -800.836914   \n",
       "25%                                   -500.187742   \n",
       "50%                                   -499.459786   \n",
       "75%                                   -400.118106   \n",
       "max                                     -6.506986   \n",
       "\n",
       "       secondary_cleaner.state.floatbank5_a_air  \\\n",
       "count                              19438.000000   \n",
       "mean                                  15.694452   \n",
       "std                                    5.510974   \n",
       "min                                   -0.372054   \n",
       "25%                                   10.988606   \n",
       "50%                                   15.000036   \n",
       "75%                                   18.026190   \n",
       "max                                   43.709931   \n",
       "\n",
       "       secondary_cleaner.state.floatbank5_a_level  \\\n",
       "count                                19438.000000   \n",
       "mean                                  -488.684065   \n",
       "std                                     34.533396   \n",
       "min                                   -797.323986   \n",
       "25%                                   -500.458467   \n",
       "50%                                   -499.802605   \n",
       "75%                                   -498.384187   \n",
       "max                                   -244.483566   \n",
       "\n",
       "       secondary_cleaner.state.floatbank5_b_air  \\\n",
       "count                              19438.000000   \n",
       "mean                                  12.198224   \n",
       "std                                    5.333024   \n",
       "min                                    0.528083   \n",
       "25%                                    8.971105   \n",
       "50%                                   11.019433   \n",
       "75%                                   14.019088   \n",
       "max                                   27.926001   \n",
       "\n",
       "       secondary_cleaner.state.floatbank5_b_level  \\\n",
       "count                                19438.000000   \n",
       "mean                                  -487.149827   \n",
       "std                                     38.347312   \n",
       "min                                   -800.220337   \n",
       "25%                                   -500.129462   \n",
       "50%                                   -499.935317   \n",
       "75%                                   -499.436708   \n",
       "max                                   -137.740004   \n",
       "\n",
       "       secondary_cleaner.state.floatbank6_a_air  \\\n",
       "count                              19437.000000   \n",
       "mean                                  18.959024   \n",
       "std                                    5.550498   \n",
       "min                                   -0.079426   \n",
       "25%                                   14.983037   \n",
       "50%                                   19.960541   \n",
       "75%                                   24.003170   \n",
       "max                                   32.188906   \n",
       "\n",
       "       secondary_cleaner.state.floatbank6_a_level  \n",
       "count                                19438.000000  \n",
       "mean                                  -505.436305  \n",
       "std                                     37.689057  \n",
       "min                                   -809.741464  \n",
       "25%                                   -500.728067  \n",
       "50%                                   -500.048400  \n",
       "75%                                   -499.495378  \n",
       "max                                   -104.427459  \n",
       "\n",
       "[8 rows x 86 columns]"
      ]
     },
     "metadata": {},
     "output_type": "display_data"
    },
    {
     "name": "stdout",
     "output_type": "stream",
     "text": [
      "\n",
      "Информация о столбцах таблицы методом .info():\n",
      "\n",
      "<class 'pandas.core.frame.DataFrame'>\n",
      "RangeIndex: 19439 entries, 0 to 19438\n",
      "Data columns (total 87 columns):\n",
      "date                                                  19439 non-null object\n",
      "final.output.concentrate_ag                           19438 non-null float64\n",
      "final.output.concentrate_pb                           19438 non-null float64\n",
      "final.output.concentrate_sol                          19228 non-null float64\n",
      "final.output.concentrate_au                           19439 non-null float64\n",
      "final.output.recovery                                 19439 non-null float64\n",
      "final.output.tail_ag                                  19438 non-null float64\n",
      "final.output.tail_pb                                  19338 non-null float64\n",
      "final.output.tail_sol                                 19433 non-null float64\n",
      "final.output.tail_au                                  19439 non-null float64\n",
      "primary_cleaner.input.sulfate                         19415 non-null float64\n",
      "primary_cleaner.input.depressant                      19402 non-null float64\n",
      "primary_cleaner.input.feed_size                       19439 non-null float64\n",
      "primary_cleaner.input.xanthate                        19335 non-null float64\n",
      "primary_cleaner.output.concentrate_ag                 19439 non-null float64\n",
      "primary_cleaner.output.concentrate_pb                 19323 non-null float64\n",
      "primary_cleaner.output.concentrate_sol                19069 non-null float64\n",
      "primary_cleaner.output.concentrate_au                 19439 non-null float64\n",
      "primary_cleaner.output.tail_ag                        19435 non-null float64\n",
      "primary_cleaner.output.tail_pb                        19418 non-null float64\n",
      "primary_cleaner.output.tail_sol                       19377 non-null float64\n",
      "primary_cleaner.output.tail_au                        19439 non-null float64\n",
      "primary_cleaner.state.floatbank8_a_air                19435 non-null float64\n",
      "primary_cleaner.state.floatbank8_a_level              19438 non-null float64\n",
      "primary_cleaner.state.floatbank8_b_air                19435 non-null float64\n",
      "primary_cleaner.state.floatbank8_b_level              19438 non-null float64\n",
      "primary_cleaner.state.floatbank8_c_air                19437 non-null float64\n",
      "primary_cleaner.state.floatbank8_c_level              19438 non-null float64\n",
      "primary_cleaner.state.floatbank8_d_air                19436 non-null float64\n",
      "primary_cleaner.state.floatbank8_d_level              19438 non-null float64\n",
      "rougher.calculation.sulfate_to_au_concentrate         19437 non-null float64\n",
      "rougher.calculation.floatbank10_sulfate_to_au_feed    19437 non-null float64\n",
      "rougher.calculation.floatbank11_sulfate_to_au_feed    19437 non-null float64\n",
      "rougher.calculation.au_pb_ratio                       19439 non-null float64\n",
      "rougher.input.feed_ag                                 19439 non-null float64\n",
      "rougher.input.feed_pb                                 19339 non-null float64\n",
      "rougher.input.feed_rate                               19428 non-null float64\n",
      "rougher.input.feed_size                               19294 non-null float64\n",
      "rougher.input.feed_sol                                19340 non-null float64\n",
      "rougher.input.feed_au                                 19439 non-null float64\n",
      "rougher.input.floatbank10_sulfate                     19405 non-null float64\n",
      "rougher.input.floatbank10_xanthate                    19431 non-null float64\n",
      "rougher.input.floatbank11_sulfate                     19395 non-null float64\n",
      "rougher.input.floatbank11_xanthate                    18986 non-null float64\n",
      "rougher.output.concentrate_ag                         19439 non-null float64\n",
      "rougher.output.concentrate_pb                         19439 non-null float64\n",
      "rougher.output.concentrate_sol                        19416 non-null float64\n",
      "rougher.output.concentrate_au                         19439 non-null float64\n",
      "rougher.output.recovery                               19439 non-null float64\n",
      "rougher.output.tail_ag                                19438 non-null float64\n",
      "rougher.output.tail_pb                                19439 non-null float64\n",
      "rougher.output.tail_sol                               19439 non-null float64\n",
      "rougher.output.tail_au                                19439 non-null float64\n",
      "rougher.state.floatbank10_a_air                       19438 non-null float64\n",
      "rougher.state.floatbank10_a_level                     19438 non-null float64\n",
      "rougher.state.floatbank10_b_air                       19438 non-null float64\n",
      "rougher.state.floatbank10_b_level                     19438 non-null float64\n",
      "rougher.state.floatbank10_c_air                       19438 non-null float64\n",
      "rougher.state.floatbank10_c_level                     19438 non-null float64\n",
      "rougher.state.floatbank10_d_air                       19439 non-null float64\n",
      "rougher.state.floatbank10_d_level                     19439 non-null float64\n",
      "rougher.state.floatbank10_e_air                       19003 non-null float64\n",
      "rougher.state.floatbank10_e_level                     19439 non-null float64\n",
      "rougher.state.floatbank10_f_air                       19439 non-null float64\n",
      "rougher.state.floatbank10_f_level                     19439 non-null float64\n",
      "secondary_cleaner.output.tail_ag                      19437 non-null float64\n",
      "secondary_cleaner.output.tail_pb                      19427 non-null float64\n",
      "secondary_cleaner.output.tail_sol                     17691 non-null float64\n",
      "secondary_cleaner.output.tail_au                      19439 non-null float64\n",
      "secondary_cleaner.state.floatbank2_a_air              19219 non-null float64\n",
      "secondary_cleaner.state.floatbank2_a_level            19438 non-null float64\n",
      "secondary_cleaner.state.floatbank2_b_air              19416 non-null float64\n",
      "secondary_cleaner.state.floatbank2_b_level            19438 non-null float64\n",
      "secondary_cleaner.state.floatbank3_a_air              19426 non-null float64\n",
      "secondary_cleaner.state.floatbank3_a_level            19438 non-null float64\n",
      "secondary_cleaner.state.floatbank3_b_air              19438 non-null float64\n",
      "secondary_cleaner.state.floatbank3_b_level            19438 non-null float64\n",
      "secondary_cleaner.state.floatbank4_a_air              19433 non-null float64\n",
      "secondary_cleaner.state.floatbank4_a_level            19438 non-null float64\n",
      "secondary_cleaner.state.floatbank4_b_air              19438 non-null float64\n",
      "secondary_cleaner.state.floatbank4_b_level            19438 non-null float64\n",
      "secondary_cleaner.state.floatbank5_a_air              19438 non-null float64\n",
      "secondary_cleaner.state.floatbank5_a_level            19438 non-null float64\n",
      "secondary_cleaner.state.floatbank5_b_air              19438 non-null float64\n",
      "secondary_cleaner.state.floatbank5_b_level            19438 non-null float64\n",
      "secondary_cleaner.state.floatbank6_a_air              19437 non-null float64\n",
      "secondary_cleaner.state.floatbank6_a_level            19438 non-null float64\n",
      "dtypes: float64(86), object(1)\n",
      "memory usage: 12.9+ MB\n"
     ]
    },
    {
     "data": {
      "text/plain": [
       "None"
      ]
     },
     "metadata": {},
     "output_type": "display_data"
    },
    {
     "name": "stdout",
     "output_type": "stream",
     "text": [
      "\n",
      "Процент пропусков в каждом столбце в порядке убывания\n"
     ]
    },
    {
     "data": {
      "text/plain": [
       "secondary_cleaner.output.tail_sol           0.089922\n",
       "rougher.input.floatbank11_xanthate          0.023304\n",
       "rougher.state.floatbank10_e_air             0.022429\n",
       "primary_cleaner.output.concentrate_sol      0.019034\n",
       "secondary_cleaner.state.floatbank2_a_air    0.011317\n",
       "                                              ...   \n",
       "rougher.state.floatbank10_e_level           0.000000\n",
       "rougher.state.floatbank10_f_air             0.000000\n",
       "rougher.output.concentrate_pb               0.000000\n",
       "rougher.state.floatbank10_f_level           0.000000\n",
       "date                                        0.000000\n",
       "Length: 87, dtype: float64"
      ]
     },
     "metadata": {},
     "output_type": "display_data"
    },
    {
     "name": "stdout",
     "output_type": "stream",
     "text": [
      "\n",
      "Кол-во дубликатов в таблице:\n"
     ]
    },
    {
     "data": {
      "text/plain": [
       "0"
      ]
     },
     "metadata": {},
     "output_type": "display_data"
    },
    {
     "name": "stdout",
     "output_type": "stream",
     "text": [
      "------------------------------------------------------------------------------------------------------------------------\n",
      "\n"
     ]
    }
   ],
   "source": [
    "for _ in range(len(datasets)):\n",
    "    information(datasets[_])"
   ]
  },
  {
   "cell_type": "markdown",
   "metadata": {
    "id": "RPj__tTUAcs6"
   },
   "source": [
    "Выведем размеры выборок:"
   ]
  },
  {
   "cell_type": "code",
   "execution_count": null,
   "metadata": {
    "id": "uyo-PO8qAcs7",
    "outputId": "e23fe106-bc8d-48c4-cac4-75bd5954038c"
   },
   "outputs": [
    {
     "name": "stdout",
     "output_type": "stream",
     "text": [
      "Размер обучающей выборки: (14149, 87)\n",
      "Размер тестовой выборки: (5290, 53)\n",
      "Размер общей выборки: (19439, 87)\n"
     ]
    }
   ],
   "source": [
    "print('Размер обучающей выборки:', train.shape)\n",
    "print('Размер тестовой выборки:', test.shape)\n",
    "print('Размер общей выборки:', full.shape)"
   ]
  },
  {
   "cell_type": "markdown",
   "metadata": {
    "id": "Up668NzCAcs7"
   },
   "source": [
    "Введём переменные, которые будут хранить названия столбцов с целевыми признаками, пригодятся в будущем."
   ]
  },
  {
   "cell_type": "code",
   "execution_count": null,
   "metadata": {
    "id": "S6swy0VvAcs7"
   },
   "outputs": [],
   "source": [
    "y_rougher = 'rougher.output.recovery'\n",
    "y_final = 'final.output.recovery'\n",
    "target_columns = [y_rougher, y_final]"
   ]
  },
  {
   "cell_type": "markdown",
   "metadata": {
    "id": "5TWLMRDiAcs7"
   },
   "source": [
    "### Проверка привильности расчета эффективности обогащения"
   ]
  },
  {
   "cell_type": "code",
   "execution_count": null,
   "metadata": {
    "id": "f09irMasAcs8"
   },
   "outputs": [],
   "source": [
    "def recovery(df, c, f, t):\n",
    "    \n",
    "    c = df[c]\n",
    "    f = df[f]\n",
    "    t = df[t]\n",
    "    \n",
    "    recovery = (c*(f-t)) / (f*(c-t)) * 100\n",
    "\n",
    "    return recovery"
   ]
  },
  {
   "cell_type": "code",
   "execution_count": null,
   "metadata": {
    "id": "HicVrykoAcs8"
   },
   "outputs": [],
   "source": [
    "recovery = recovery(train, 'rougher.output.concentrate_au', 'rougher.input.feed_au', 'rougher.output.tail_au')"
   ]
  },
  {
   "cell_type": "code",
   "execution_count": null,
   "metadata": {
    "id": "gtucoL7ZAcs8",
    "outputId": "d17d2743-594c-4cd4-d9e8-44a477091887"
   },
   "outputs": [
    {
     "data": {
      "text/plain": [
       "9.682896147825551e-15"
      ]
     },
     "execution_count": 9,
     "metadata": {},
     "output_type": "execute_result"
    }
   ],
   "source": [
    "mean_absolute_error(train['rougher.output.recovery'], recovery)"
   ]
  },
  {
   "cell_type": "markdown",
   "metadata": {
    "id": "dR3BuiX0Acs9"
   },
   "source": [
    "Средняя абсолютная ошибка очень мала, можно считать что данные ***recovery*** в таблице верны."
   ]
  },
  {
   "cell_type": "markdown",
   "metadata": {
    "id": "-K8TiAziAcs9"
   },
   "source": [
    "### Анализ признаков, не доступных в тестовой выборке"
   ]
  },
  {
   "cell_type": "markdown",
   "metadata": {
    "id": "tkE0rgv6Acs9"
   },
   "source": [
    "Выведем названия стобцов, которых нет в тестовой выборке:"
   ]
  },
  {
   "cell_type": "code",
   "execution_count": null,
   "metadata": {
    "id": "RtmH8eo5Acs-",
    "outputId": "1a0cb41c-6afe-4975-8a0b-b940266fe95f",
    "scrolled": false
   },
   "outputs": [
    {
     "data": {
      "text/plain": [
       "{'final.output.concentrate_ag',\n",
       " 'final.output.concentrate_au',\n",
       " 'final.output.concentrate_pb',\n",
       " 'final.output.concentrate_sol',\n",
       " 'final.output.recovery',\n",
       " 'final.output.tail_ag',\n",
       " 'final.output.tail_au',\n",
       " 'final.output.tail_pb',\n",
       " 'final.output.tail_sol',\n",
       " 'primary_cleaner.output.concentrate_ag',\n",
       " 'primary_cleaner.output.concentrate_au',\n",
       " 'primary_cleaner.output.concentrate_pb',\n",
       " 'primary_cleaner.output.concentrate_sol',\n",
       " 'primary_cleaner.output.tail_ag',\n",
       " 'primary_cleaner.output.tail_au',\n",
       " 'primary_cleaner.output.tail_pb',\n",
       " 'primary_cleaner.output.tail_sol',\n",
       " 'rougher.calculation.au_pb_ratio',\n",
       " 'rougher.calculation.floatbank10_sulfate_to_au_feed',\n",
       " 'rougher.calculation.floatbank11_sulfate_to_au_feed',\n",
       " 'rougher.calculation.sulfate_to_au_concentrate',\n",
       " 'rougher.output.concentrate_ag',\n",
       " 'rougher.output.concentrate_au',\n",
       " 'rougher.output.concentrate_pb',\n",
       " 'rougher.output.concentrate_sol',\n",
       " 'rougher.output.recovery',\n",
       " 'rougher.output.tail_ag',\n",
       " 'rougher.output.tail_au',\n",
       " 'rougher.output.tail_pb',\n",
       " 'rougher.output.tail_sol',\n",
       " 'secondary_cleaner.output.tail_ag',\n",
       " 'secondary_cleaner.output.tail_au',\n",
       " 'secondary_cleaner.output.tail_pb',\n",
       " 'secondary_cleaner.output.tail_sol'}"
      ]
     },
     "execution_count": 10,
     "metadata": {},
     "output_type": "execute_result"
    }
   ],
   "source": [
    "different_features = set(train.columns) - set(test.columns)\n",
    "different_features"
   ]
  },
  {
   "cell_type": "markdown",
   "metadata": {
    "id": "8ASlOt4OAcs-"
   },
   "source": [
    "В тестовой выборке нам не доступны столбцы с ***output*** и ***calculation***.  \n",
    "\n",
    "Как говорилось в условиях задачи, \"некоторые параметры недоступны, потому что замеряются и/или рассчитываются значительно позже\".\n",
    "\n",
    "Удалим эти столбцы и из обучающей выборки в следующем пункте."
   ]
  },
  {
   "cell_type": "markdown",
   "metadata": {
    "id": "uUprPIRJAcs-"
   },
   "source": [
    "### Предобработка данных"
   ]
  },
  {
   "cell_type": "code",
   "execution_count": null,
   "metadata": {
    "id": "_vwlNHiJAcs-",
    "outputId": "60f06139-df56-45ae-8369-54c92798a33e"
   },
   "outputs": [
    {
     "name": "stdout",
     "output_type": "stream",
     "text": [
      "В обучающей выборке : 14149 строк 87 признаков\n",
      "В тестовой выборке: 5290 строк 53 признаков\n"
     ]
    }
   ],
   "source": [
    "print('В обучающей выборке : {} строк {} признаков'.format(train.shape[0],train.shape[1]))\n",
    "print('В тестовой выборке: {} строк {} признаков'.format(test.shape[0], test.shape[1]))"
   ]
  },
  {
   "cell_type": "code",
   "execution_count": null,
   "metadata": {
    "id": "R5FkAMrhAcs_"
   },
   "outputs": [],
   "source": [
    "different_features = different_features - set(target_columns)"
   ]
  },
  {
   "cell_type": "code",
   "execution_count": null,
   "metadata": {
    "id": "Yv7Lqiy7Acs_"
   },
   "outputs": [],
   "source": [
    "train.drop(different_features, axis=1, inplace=True)"
   ]
  },
  {
   "cell_type": "code",
   "execution_count": null,
   "metadata": {
    "id": "j2dmhnJeAcs_",
    "outputId": "d3b1cae4-b882-494d-e33b-75ed78bde7f9"
   },
   "outputs": [
    {
     "name": "stdout",
     "output_type": "stream",
     "text": [
      "В обучающей выборке : 14149 строк 55 признаков\n",
      "В тестовой выборке: 5290 строк 53 признаков\n"
     ]
    }
   ],
   "source": [
    "print('В обучающей выборке : {} строк {} признаков'.format(train.shape[0],train.shape[1]))\n",
    "print('В тестовой выборке: {} строк {} признаков'.format(test.shape[0], test.shape[1]))"
   ]
  },
  {
   "cell_type": "markdown",
   "metadata": {
    "id": "hU067slXAcs_"
   },
   "source": [
    "Добавим в тестовые данные столбцы с целевыми признаками"
   ]
  },
  {
   "cell_type": "code",
   "execution_count": null,
   "metadata": {
    "id": "uYVfoYfuAcs_",
    "outputId": "d268e184-24f5-4780-ef9d-2e6aee19a01d"
   },
   "outputs": [
    {
     "name": "stdout",
     "output_type": "stream",
     "text": [
      "В тестовой выборке: 5290 строк 55 признаков\n"
     ]
    }
   ],
   "source": [
    "test[target_columns] = full.loc[test.index, target_columns]\n",
    "print('В тестовой выборке: {} строк {} признаков'.format(test.shape[0], test.shape[1]))"
   ]
  },
  {
   "cell_type": "markdown",
   "metadata": {
    "id": "5I90AZA5ActA"
   },
   "source": [
    "В данных есть пропуски. Заполним пропуски соседними значениями, близкими по времени, то есть в соседних стороках, ведь данные упорядочены по времени. Для этого воспользуемся методом **.fillna** с аргументом ***method='ffill'***."
   ]
  },
  {
   "cell_type": "code",
   "execution_count": null,
   "metadata": {
    "id": "2PUVkAAPActA",
    "outputId": "9d3c5256-307d-4617-de10-2045e5d9a110"
   },
   "outputs": [
    {
     "name": "stdout",
     "output_type": "stream",
     "text": [
      "rougher.state.floatbank10_e_air             0.030815\n",
      "rougher.input.floatbank11_xanthate          0.030249\n",
      "secondary_cleaner.state.floatbank2_a_air    0.015337\n",
      "rougher.input.feed_size                     0.010177\n",
      "primary_cleaner.input.xanthate              0.007068\n",
      "dtype: float64 \n",
      "\n",
      "secondary_cleaner.state.floatbank6_a_level    0.0\n",
      "primary_cleaner.state.floatbank8_d_level      0.0\n",
      "rougher.output.recovery                       0.0\n",
      "rougher.input.floatbank11_xanthate            0.0\n",
      "rougher.input.floatbank11_sulfate             0.0\n",
      "dtype: float64\n"
     ]
    }
   ],
   "source": [
    "print(train.isna().mean().sort_values(ascending = False).head(), '\\n')\n",
    "train = train.fillna(method='ffill')\n",
    "print(train.isna().mean().sort_values(ascending = False).head())"
   ]
  },
  {
   "cell_type": "code",
   "execution_count": null,
   "metadata": {
    "id": "VEUpzPrPActA",
    "outputId": "c8013173-f3c5-43f6-f211-c2323ca22fc0"
   },
   "outputs": [
    {
     "name": "stdout",
     "output_type": "stream",
     "text": [
      "rougher.input.floatbank11_xanthate          0.004726\n",
      "rougher.input.feed_sol                      0.003970\n",
      "secondary_cleaner.state.floatbank3_a_air    0.001701\n",
      "rougher.input.floatbank11_sulfate           0.001512\n",
      "primary_cleaner.input.depressant            0.000945\n",
      "dtype: float64 \n",
      "\n",
      "final.output.recovery                 0.0\n",
      "rougher.input.feed_ag                 0.0\n",
      "rougher.state.floatbank10_a_level     0.0\n",
      "rougher.state.floatbank10_a_air       0.0\n",
      "rougher.input.floatbank11_xanthate    0.0\n",
      "dtype: float64\n"
     ]
    }
   ],
   "source": [
    "print(test.isna().mean().sort_values(ascending = False).head(), '\\n')\n",
    "test = test.fillna(method='ffill')\n",
    "print(test.isna().mean().sort_values(ascending = False).head())"
   ]
  },
  {
   "cell_type": "code",
   "execution_count": null,
   "metadata": {
    "id": "2nmrIRB3ActB",
    "outputId": "c3dda635-d5b5-4893-e744-8baddf9c4536"
   },
   "outputs": [
    {
     "name": "stdout",
     "output_type": "stream",
     "text": [
      "secondary_cleaner.output.tail_sol           0.089922\n",
      "rougher.input.floatbank11_xanthate          0.023304\n",
      "rougher.state.floatbank10_e_air             0.022429\n",
      "primary_cleaner.output.concentrate_sol      0.019034\n",
      "secondary_cleaner.state.floatbank2_a_air    0.011317\n",
      "dtype: float64 \n",
      "\n",
      "secondary_cleaner.state.floatbank6_a_level            0.0\n",
      "rougher.calculation.floatbank10_sulfate_to_au_feed    0.0\n",
      "primary_cleaner.state.floatbank8_a_level              0.0\n",
      "primary_cleaner.state.floatbank8_b_air                0.0\n",
      "primary_cleaner.state.floatbank8_b_level              0.0\n",
      "dtype: float64\n"
     ]
    }
   ],
   "source": [
    "print(full.isna().mean().sort_values(ascending = False).head(), '\\n')\n",
    "full = full.fillna(method='ffill')\n",
    "print(full.isna().mean().sort_values(ascending = False).head())"
   ]
  },
  {
   "cell_type": "markdown",
   "metadata": {
    "id": "ErwPSVZvActB"
   },
   "source": [
    "### Вывод по пункту:"
   ]
  },
  {
   "cell_type": "markdown",
   "metadata": {
    "id": "IHmj4jY9ActB"
   },
   "source": [
    "В этом пункте проекта было проведено ознакомнение с данными и их предобработка."
   ]
  },
  {
   "cell_type": "markdown",
   "metadata": {
    "id": "yYaG9h_KActC"
   },
   "source": [
    "## Анализ данных"
   ]
  },
  {
   "cell_type": "markdown",
   "metadata": {
    "id": "TJy4mn15ActC"
   },
   "source": [
    "### Изменение концентрации металлов (Au, Ag, Pb) на различных этапах очистки"
   ]
  },
  {
   "cell_type": "markdown",
   "metadata": {
    "id": "ME-kGAfSActC"
   },
   "source": [
    "Напишем функцию для визуализации концентрации металлов:"
   ]
  },
  {
   "cell_type": "code",
   "execution_count": null,
   "metadata": {
    "id": "Pgqbtrj9ActC"
   },
   "outputs": [],
   "source": [
    "def concentration(df, col1, col2, col3, col4):\n",
    "    metals = ['au', 'ag', 'pb']\n",
    "    names = {'au': 'золота', 'ag': 'серебра', 'pb': 'свинца'}\n",
    "    for metal in metals:\n",
    "        plt.figure(figsize=(16,9))\n",
    "        sns.kdeplot(df[col1 + metal], shade=True, color=\"green\", label=\"начальная\", alpha=0.5)\n",
    "        sns.kdeplot(df[col2 + metal], shade=True, color=\"red\", label=\"после флотации\", alpha=0.5)\n",
    "        sns.kdeplot(df[col3 + metal], shade=True, color=\"blue\", label=\"после первичной очистки\", alpha=0.5)\n",
    "        sns.kdeplot(df[col4 + metal], shade=True, color=\"orange\", label=\"финальная\", alpha=0.5)\n",
    "\n",
    "        plt.title('Концентрация ' + names[metal] + ' на этапах отчистки', fontsize=22)\n",
    "        plt.legend(loc='upper right', fontsize=\"large\")\n",
    "        plt.grid()\n",
    "        plt.show()"
   ]
  },
  {
   "cell_type": "code",
   "execution_count": null,
   "metadata": {
    "id": "Ii9ikYTlActC",
    "outputId": "a7afd76d-c157-45e1-e495-d637bbcafee1",
    "scrolled": false
   },
   "outputs": [
    {
     "data": {
      "image/png": "[encoded data removed]",
      "text/plain": [
       "<Figure size 1152x648 with 1 Axes>"
      ]
     },
     "metadata": {
      "needs_background": "light"
     },
     "output_type": "display_data"
    },
    {
     "data": {
      "image/png": "[encoded data removed]",
      "text/plain": [
       "<Figure size 1152x648 with 1 Axes>"
      ]
     },
     "metadata": {
      "needs_background": "light"
     },
     "output_type": "display_data"
    },
    {
     "data": {
      "image/png": "[encoded data removed]",
      "text/plain": [
       "<Figure size 1152x648 with 1 Axes>"
      ]
     },
     "metadata": {
      "needs_background": "light"
     },
     "output_type": "display_data"
    }
   ],
   "source": [
    "concentration(full, 'rougher.input.feed_', 'rougher.output.concentrate_',\n",
    "              'primary_cleaner.output.concentrate_', 'final.output.concentrate_')"
   ]
  },
  {
   "cell_type": "markdown",
   "metadata": {
    "id": "FfmMm6ncActC"
   },
   "source": [
    "Заметно, что после флотации повышается концентрация всех металлов."
   ]
  },
  {
   "cell_type": "markdown",
   "metadata": {
    "id": "wzZqj2TpActD"
   },
   "source": [
    "### Сравнение распределений размеров гранул сырья на обучающей и тестовой выборках"
   ]
  },
  {
   "cell_type": "markdown",
   "metadata": {
    "id": "3ORN9oZCActD"
   },
   "source": [
    "Напишем функцию для визуализации распределения размеров гранул:"
   ]
  },
  {
   "cell_type": "code",
   "execution_count": null,
   "metadata": {
    "id": "3eZGKBr8ActD"
   },
   "outputs": [],
   "source": [
    "def granule_size(column_1, column_2):\n",
    "    plt.figure(figsize=(16,9))\n",
    "    sns.kdeplot(column_1, shade=True, color=\"green\", label=\"на обучающей выборке\", alpha=0.5)\n",
    "    sns.kdeplot(column_2, shade=True, color=\"orange\", label=\"на тестовой выборке\", alpha=0.5)\n",
    "\n",
    "    plt.title('Размеры гранул сырья', fontsize=22)\n",
    "    plt.legend(loc='upper right', fontsize=\"x-large\")\n",
    "    plt.grid()\n",
    "    plt.show()"
   ]
  },
  {
   "cell_type": "code",
   "execution_count": null,
   "metadata": {
    "id": "3GQEbANDActD",
    "outputId": "3ac76af0-dead-4f38-e1c4-379bf61aaa96"
   },
   "outputs": [
    {
     "data": {
      "image/png": "[encoded data removed]",
      "text/plain": [
       "<Figure size 1152x648 with 1 Axes>"
      ]
     },
     "metadata": {
      "needs_background": "light"
     },
     "output_type": "display_data"
    }
   ],
   "source": [
    "granule_size(train['rougher.input.feed_size'],\n",
    "     test['rougher.input.feed_size'])"
   ]
  },
  {
   "cell_type": "markdown",
   "metadata": {
    "id": "GZhg8nVHActD"
   },
   "source": [
    "В обоих случаях мы видим гаусеальное распределение. Распределения не сильно отличаются друг от друга, оценка модели будет правильной."
   ]
  },
  {
   "cell_type": "markdown",
   "metadata": {
    "id": "u5jzPGl6ActE"
   },
   "source": [
    "### Исследование суммарной концентрации всех веществ на разных стадиях: в сырье, в черновом и финальном концентратах"
   ]
  },
  {
   "cell_type": "code",
   "execution_count": null,
   "metadata": {
    "id": "6iUNFx3PActE"
   },
   "outputs": [],
   "source": [
    "def all_metal_concentration(df):\n",
    "    df['rougher_input_feed_all_metal'] = (df['rougher.input.feed_au'] + \n",
    "                                 df['rougher.input.feed_ag'] + \n",
    "                                 df['rougher.input.feed_pb'])\n",
    "\n",
    "    df['rougher_output_concentrate_all_metal'] = (df['rougher.output.concentrate_au'] + \n",
    "                                 df['rougher.output.concentrate_ag'] + \n",
    "                                 df['rougher.output.concentrate_pb'])\n",
    "\n",
    "    df['primary_output_concentrate_all_metal'] = (df['primary_cleaner.output.concentrate_au'] + \n",
    "                                 df['primary_cleaner.output.concentrate_ag'] + \n",
    "                                 df['primary_cleaner.output.concentrate_pb'])\n",
    "\n",
    "\n",
    "    df['final_output_concentrate_all_metal'] = (df['final.output.concentrate_au'] + \n",
    "                                 df['final.output.concentrate_ag'] + \n",
    "                                 df['final.output.concentrate_pb'])\n",
    "\n",
    "    return df"
   ]
  },
  {
   "cell_type": "markdown",
   "metadata": {
    "id": "RJ4SGAP1ActE"
   },
   "source": [
    "Напишем функцию для визуализации концентрации всех металлов на разных стадиях:"
   ]
  },
  {
   "cell_type": "code",
   "execution_count": null,
   "metadata": {
    "id": "G92RubhyActF"
   },
   "outputs": [],
   "source": [
    "def concentration_plot(df):\n",
    "    plt.figure(figsize=(16,9))\n",
    "    sns.kdeplot(df['rougher_input_feed_all_metal'], shade=True, color=\"green\", label=\"начальная\", alpha=0.5)\n",
    "    sns.kdeplot(df['rougher_output_concentrate_all_metal'], shade=True, color=\"red\", label=\"после флотации\", alpha=0.5)\n",
    "    sns.kdeplot(df['primary_output_concentrate_all_metal'], shade=True, color=\"blue\", label=\"после первичной отчистки\", alpha=0.5)\n",
    "    sns.kdeplot(df['final_output_concentrate_all_metal'], shade=True, color=\"orange\", label=\"финальная\", alpha=0.5)\n",
    "\n",
    "    plt.title('Концентрация всех металлов на разных стадиях', fontsize=22)\n",
    "    plt.legend(loc='upper left', fontsize=\"large\")\n",
    "    plt.grid()\n",
    "    plt.show()"
   ]
  },
  {
   "cell_type": "code",
   "execution_count": null,
   "metadata": {
    "id": "sZMzHOY0ActF",
    "outputId": "1ea21597-ccdf-42d5-cf35-b749fbe827d9"
   },
   "outputs": [
    {
     "data": {
      "image/png": "[encoded data removed]",
      "text/plain": [
       "<Figure size 1152x648 with 1 Axes>"
      ]
     },
     "metadata": {
      "needs_background": "light"
     },
     "output_type": "display_data"
    }
   ],
   "source": [
    "full = all_metal_concentration(full)\n",
    "concentration_plot(full)"
   ]
  },
  {
   "cell_type": "markdown",
   "metadata": {
    "id": "7QX2KbqSActF"
   },
   "source": [
    "Очистим данные от выбросов на всех этапах очистки:"
   ]
  },
  {
   "cell_type": "code",
   "execution_count": null,
   "metadata": {
    "id": "5oMEZ1gBActF"
   },
   "outputs": [],
   "source": [
    "def cleaning(df):\n",
    "    before = df.shape[0]\n",
    "    df = df.query('1 < rougher_input_feed_all_metal')\n",
    "    df = df.query('1 < rougher_output_concentrate_all_metal')\n",
    "    df = df.query('1 < primary_output_concentrate_all_metal')\n",
    "    df = df.query('1 < final_output_concentrate_all_metal')\n",
    "    after = df.shape[0]\n",
    "    display('удалено {:.2%} строк'.format((before-after)/before))\n",
    "    \n",
    "    rougher_input_feed_all_metal_low = df['rougher_input_feed_all_metal'].quantile(0.025)\n",
    "    rougher_input_feed_all_metal_up = df['rougher_input_feed_all_metal'].quantile(0.975)\n",
    "    rougher_output_concentrate_all_metal_low = df['rougher_output_concentrate_all_metal'].quantile(0.025)\n",
    "    rougher_output_concentrate_all_metal_up = df['rougher_output_concentrate_all_metal'].quantile(0.975)    \n",
    "    primary_output_concentrate_all_metal_low = df['primary_output_concentrate_all_metal'].quantile(0.025)\n",
    "    primary_output_concentrate_all_metal_up = df['primary_output_concentrate_all_metal'].quantile(0.975)    \n",
    "    final_output_concentrate_all_metal_low = df['final_output_concentrate_all_metal'].quantile(0.025)\n",
    "    final_output_concentrate_all_metal_up = df['final_output_concentrate_all_metal'].quantile(0.975)\n",
    "    \n",
    "    df = df.query('@rougher_input_feed_all_metal_low < rougher_input_feed_all_metal < @rougher_input_feed_all_metal_up')\n",
    "    df = df.query('@rougher_output_concentrate_all_metal_low < rougher_output_concentrate_all_metal < @rougher_output_concentrate_all_metal_up')\n",
    "    df = df.query('@primary_output_concentrate_all_metal_low < rougher_output_concentrate_all_metal < @primary_output_concentrate_all_metal_up')\n",
    "    df = df.query('@final_output_concentrate_all_metal_low < final_output_concentrate_all_metal < @final_output_concentrate_all_metal_up')\n",
    "    \n",
    "    return df"
   ]
  },
  {
   "cell_type": "code",
   "execution_count": null,
   "metadata": {
    "id": "coZ32vaKActG",
    "outputId": "bc719a91-6026-485a-df2b-8c0976e2c17a",
    "scrolled": false
   },
   "outputs": [
    {
     "data": {
      "text/plain": [
       "'удалено 3.69% строк'"
      ]
     },
     "metadata": {},
     "output_type": "display_data"
    },
    {
     "data": {
      "image/png": "[encoded data removed]",
      "text/plain": [
       "<Figure size 1152x648 with 1 Axes>"
      ]
     },
     "metadata": {
      "needs_background": "light"
     },
     "output_type": "display_data"
    }
   ],
   "source": [
    "full = cleaning(full)\n",
    "concentration_plot(full)"
   ]
  },
  {
   "cell_type": "markdown",
   "metadata": {
    "id": "BBO5g2J9ActG"
   },
   "source": [
    "Перед обучением моделей, уберём из обучающих и тестовых данных то, что только что убрали из общей выборки:"
   ]
  },
  {
   "cell_type": "code",
   "execution_count": null,
   "metadata": {
    "id": "Q9hHsQQCActG",
    "outputId": "f5947869-4f1b-465d-f078-c29ec09420fb"
   },
   "outputs": [
    {
     "name": "stdout",
     "output_type": "stream",
     "text": [
      "Размеры обучающей выборки (11221, 55)\n",
      "Размеры тестовой выборки (3978, 55)\n"
     ]
    }
   ],
   "source": [
    "train_final = train[train.index.isin(full.index)]\n",
    "test_final = test[test.index.isin(full.index)]\n",
    "\n",
    "train_final = train_final.dropna()\n",
    "test_final = test_final.dropna()\n",
    "\n",
    "print('Размеры обучающей выборки', train_final.shape)\n",
    "print('Размеры тестовой выборки', test_final.shape)"
   ]
  },
  {
   "cell_type": "markdown",
   "metadata": {
    "id": "QY2yVDeWActG"
   },
   "source": [
    "### Вывод по пункту:"
   ]
  },
  {
   "cell_type": "markdown",
   "metadata": {
    "id": "hBHTnfi_ActH"
   },
   "source": [
    "В этом пункте проекта было проведено исследование концентрации металлов (Au, Ag, Pb) на различных этапах очистки и были сделаны следующие выводы:\n",
    "\n",
    "* концентрация каждого из металлов меняется в зависимости от этапа очистки\n",
    "* концентрация золота постепенно увеличивается с каждым этапом очистки\n",
    "* концентрация серебра постепенно падает с каждым этапом очистки\n",
    "* концентрация свинца постепенно растёт, но концентрация на последних двух этапах практически одинакова"
   ]
  },
  {
   "cell_type": "markdown",
   "metadata": {
    "id": "X-fyp1OiActH"
   },
   "source": [
    "## Модель"
   ]
  },
  {
   "cell_type": "markdown",
   "metadata": {
    "id": "Wxh43fRIActH"
   },
   "source": [
    "Напишем функцию для расчета sMAPE:"
   ]
  },
  {
   "cell_type": "code",
   "execution_count": null,
   "metadata": {
    "id": "D5ele66SActH"
   },
   "outputs": [],
   "source": [
    "def sMAPE(target, predictions):\n",
    "    top = np.abs(target - predictions)\n",
    "    bot = (np.abs(target) + np.abs(predictions)) / 2\n",
    "    summ = (top / bot).sum()\n",
    "    SMAPE = (1 / len(target)) * summ * 100\n",
    "    return SMAPE"
   ]
  },
  {
   "cell_type": "markdown",
   "metadata": {
    "id": "Cz6BVhIcActH"
   },
   "source": [
    "Напишем также функцию, которая считает итоговое sMAPE"
   ]
  },
  {
   "cell_type": "code",
   "execution_count": null,
   "metadata": {
    "id": "4fdeu8CtActI"
   },
   "outputs": [],
   "source": [
    "def final_sMAPE(rougher, final):\n",
    "    return 0.25 * rougher + 0.75 * final"
   ]
  },
  {
   "cell_type": "markdown",
   "metadata": {
    "id": "NjhiGWiXActI"
   },
   "source": [
    "### Этапы тех процесса"
   ]
  },
  {
   "cell_type": "markdown",
   "metadata": {
    "id": "H2k08IykActI"
   },
   "source": [
    "Модель предсказывает значения на двух этапах:\n",
    "1. эффективность обогащения чернового концентрата\n",
    "2. эффективность обогащения финального концентрата\n",
    "\n",
    "Предсказывая эффективность обогащения чернового концентрата, мы можем обучать модель только на тех данных, которые доступны на тот момент.\n",
    "\n",
    "Соберём следующие списки столбцов:\n",
    "\n",
    "* столбцы, имеющие отношение только к этапу флотации\n",
    "* все столбцы для обучения"
   ]
  },
  {
   "cell_type": "code",
   "execution_count": null,
   "metadata": {
    "id": "EfaUurp6ActI",
    "outputId": "91c4c114-fd24-4244-c417-c17b501adeb2"
   },
   "outputs": [
    {
     "data": {
      "text/plain": [
       "['rougher.input.feed_ag',\n",
       " 'rougher.input.feed_pb',\n",
       " 'rougher.input.feed_rate',\n",
       " 'rougher.input.feed_size',\n",
       " 'rougher.input.feed_sol',\n",
       " 'rougher.input.feed_au',\n",
       " 'rougher.input.floatbank10_sulfate',\n",
       " 'rougher.input.floatbank10_xanthate',\n",
       " 'rougher.input.floatbank11_sulfate',\n",
       " 'rougher.input.floatbank11_xanthate',\n",
       " 'rougher.output.recovery',\n",
       " 'rougher.state.floatbank10_a_air',\n",
       " 'rougher.state.floatbank10_a_level',\n",
       " 'rougher.state.floatbank10_b_air',\n",
       " 'rougher.state.floatbank10_b_level',\n",
       " 'rougher.state.floatbank10_c_air',\n",
       " 'rougher.state.floatbank10_c_level',\n",
       " 'rougher.state.floatbank10_d_air',\n",
       " 'rougher.state.floatbank10_d_level',\n",
       " 'rougher.state.floatbank10_e_air',\n",
       " 'rougher.state.floatbank10_e_level',\n",
       " 'rougher.state.floatbank10_f_air',\n",
       " 'rougher.state.floatbank10_f_level']"
      ]
     },
     "execution_count": 31,
     "metadata": {},
     "output_type": "execute_result"
    }
   ],
   "source": [
    "rougher_cols = [col for col in train.columns if 'rougher' in col]\n",
    "rougher_cols"
   ]
  },
  {
   "cell_type": "code",
   "execution_count": null,
   "metadata": {
    "id": "iZi5Sbv5ActJ"
   },
   "outputs": [],
   "source": [
    "rougher_train_df = train_final[rougher_cols]\n",
    "rougher_test_df = test_final[rougher_cols]\n",
    "final_train_df = train_final\n",
    "final_test_df = test_final"
   ]
  },
  {
   "cell_type": "markdown",
   "metadata": {
    "id": "xButWBsIActJ"
   },
   "source": [
    "### Подготовка данных"
   ]
  },
  {
   "cell_type": "markdown",
   "metadata": {
    "id": "JS-33B1lActJ"
   },
   "source": [
    "#### Выделение целевых признаков\n",
    "Выделим признаки и целевые признаки для обучающей и тестовой выборок:"
   ]
  },
  {
   "cell_type": "code",
   "execution_count": null,
   "metadata": {
    "id": "KU3-wQeGActJ"
   },
   "outputs": [],
   "source": [
    "rougher_X_train = rougher_train_df.drop(y_rougher, axis=1).reset_index(drop=True)\n",
    "rougher_y_train = rougher_train_df[y_rougher].reset_index(drop=True)\n",
    "\n",
    "rougher_X_test = rougher_test_df.drop(y_rougher, axis=1).reset_index(drop=True)\n",
    "rougher_y_test = rougher_test_df[y_rougher].reset_index(drop=True)"
   ]
  },
  {
   "cell_type": "code",
   "execution_count": null,
   "metadata": {
    "id": "OvCehEGjActJ"
   },
   "outputs": [],
   "source": [
    "final_X_train = final_train_df.drop(target_columns, axis=1).reset_index(drop=True)\n",
    "final_y_train = final_train_df[y_final].reset_index(drop=True)\n",
    "\n",
    "final_X_test = final_test_df.drop(target_columns, axis=1).reset_index(drop=True)\n",
    "final_y_test = final_test_df[y_final].reset_index(drop=True)"
   ]
  },
  {
   "cell_type": "markdown",
   "metadata": {
    "id": "HNTLaeNSActJ"
   },
   "source": [
    "### Масштабирование признаков"
   ]
  },
  {
   "cell_type": "markdown",
   "metadata": {
    "id": "rS3cHhwiActK"
   },
   "source": [
    "Произведём масштабирование признаков, использовав StandardScaler  \n",
    "Так как мы используем разные наборы данных для флотации и финального результата, обучать StandardScaler будем отдельно для каждого набора."
   ]
  },
  {
   "cell_type": "code",
   "execution_count": null,
   "metadata": {
    "id": "XVTMBYdeActK"
   },
   "outputs": [],
   "source": [
    "numeric = rougher_X_train.columns\n",
    "scaler = StandardScaler()\n",
    "scaler.fit(rougher_X_train[numeric])\n",
    "rougher_X_train[numeric] = scaler.transform(rougher_X_train[numeric])\n",
    "rougher_X_test[numeric] = scaler.transform(rougher_X_test[numeric])"
   ]
  },
  {
   "cell_type": "markdown",
   "metadata": {
    "id": "fu_SDjfZActK"
   },
   "source": [
    "Проверка:"
   ]
  },
  {
   "cell_type": "code",
   "execution_count": null,
   "metadata": {
    "id": "pWp_AlQBActK",
    "outputId": "d290d4a9-1009-40ce-f804-39dc1779aa33"
   },
   "outputs": [
    {
     "data": {
      "text/html": [
       "<div>\n",
       "<style scoped>\n",
       "    .dataframe tbody tr th:only-of-type {\n",
       "        vertical-align: middle;\n",
       "    }\n",
       "\n",
       "    .dataframe tbody tr th {\n",
       "        vertical-align: top;\n",
       "    }\n",
       "\n",
       "    .dataframe thead th {\n",
       "        text-align: right;\n",
       "    }\n",
       "</style>\n",
       "<table border=\"1\" class=\"dataframe\">\n",
       "  <thead>\n",
       "    <tr style=\"text-align: right;\">\n",
       "      <th></th>\n",
       "      <th>rougher.input.feed_ag</th>\n",
       "      <th>rougher.input.feed_pb</th>\n",
       "      <th>rougher.input.feed_rate</th>\n",
       "      <th>rougher.input.feed_size</th>\n",
       "      <th>rougher.input.feed_sol</th>\n",
       "      <th>rougher.input.feed_au</th>\n",
       "      <th>rougher.input.floatbank10_sulfate</th>\n",
       "      <th>rougher.input.floatbank10_xanthate</th>\n",
       "      <th>rougher.input.floatbank11_sulfate</th>\n",
       "      <th>rougher.input.floatbank11_xanthate</th>\n",
       "      <th>...</th>\n",
       "      <th>rougher.state.floatbank10_b_air</th>\n",
       "      <th>rougher.state.floatbank10_b_level</th>\n",
       "      <th>rougher.state.floatbank10_c_air</th>\n",
       "      <th>rougher.state.floatbank10_c_level</th>\n",
       "      <th>rougher.state.floatbank10_d_air</th>\n",
       "      <th>rougher.state.floatbank10_d_level</th>\n",
       "      <th>rougher.state.floatbank10_e_air</th>\n",
       "      <th>rougher.state.floatbank10_e_level</th>\n",
       "      <th>rougher.state.floatbank10_f_air</th>\n",
       "      <th>rougher.state.floatbank10_f_level</th>\n",
       "    </tr>\n",
       "  </thead>\n",
       "  <tbody>\n",
       "    <tr>\n",
       "      <td>0</td>\n",
       "      <td>-1.353222</td>\n",
       "      <td>-1.190417</td>\n",
       "      <td>0.483122</td>\n",
       "      <td>-0.213623</td>\n",
       "      <td>0.062123</td>\n",
       "      <td>-0.773482</td>\n",
       "      <td>0.045157</td>\n",
       "      <td>0.153984</td>\n",
       "      <td>0.108362</td>\n",
       "      <td>0.177544</td>\n",
       "      <td>...</td>\n",
       "      <td>1.600131</td>\n",
       "      <td>0.513185</td>\n",
       "      <td>1.456088</td>\n",
       "      <td>0.390718</td>\n",
       "      <td>1.962851</td>\n",
       "      <td>0.235120</td>\n",
       "      <td>1.860894</td>\n",
       "      <td>0.151944</td>\n",
       "      <td>2.348777</td>\n",
       "      <td>0.206449</td>\n",
       "    </tr>\n",
       "    <tr>\n",
       "      <td>1</td>\n",
       "      <td>-1.321574</td>\n",
       "      <td>-1.207927</td>\n",
       "      <td>0.499782</td>\n",
       "      <td>-0.140292</td>\n",
       "      <td>-0.155395</td>\n",
       "      <td>-0.777408</td>\n",
       "      <td>0.040404</td>\n",
       "      <td>0.151900</td>\n",
       "      <td>0.150365</td>\n",
       "      <td>0.183099</td>\n",
       "      <td>...</td>\n",
       "      <td>1.587610</td>\n",
       "      <td>0.246404</td>\n",
       "      <td>1.447154</td>\n",
       "      <td>0.256075</td>\n",
       "      <td>1.970677</td>\n",
       "      <td>0.258771</td>\n",
       "      <td>1.831488</td>\n",
       "      <td>0.231943</td>\n",
       "      <td>2.249038</td>\n",
       "      <td>0.238071</td>\n",
       "    </tr>\n",
       "    <tr>\n",
       "      <td>2</td>\n",
       "      <td>-1.344845</td>\n",
       "      <td>-1.306615</td>\n",
       "      <td>0.545015</td>\n",
       "      <td>-0.130800</td>\n",
       "      <td>-0.110407</td>\n",
       "      <td>-0.837786</td>\n",
       "      <td>0.024814</td>\n",
       "      <td>0.331517</td>\n",
       "      <td>0.130379</td>\n",
       "      <td>0.340558</td>\n",
       "      <td>...</td>\n",
       "      <td>1.579747</td>\n",
       "      <td>0.245439</td>\n",
       "      <td>1.443352</td>\n",
       "      <td>0.253889</td>\n",
       "      <td>1.967339</td>\n",
       "      <td>0.258761</td>\n",
       "      <td>1.831229</td>\n",
       "      <td>0.248180</td>\n",
       "      <td>2.252618</td>\n",
       "      <td>0.230982</td>\n",
       "    </tr>\n",
       "    <tr>\n",
       "      <td>3</td>\n",
       "      <td>-1.382960</td>\n",
       "      <td>-1.419589</td>\n",
       "      <td>0.665011</td>\n",
       "      <td>-0.119257</td>\n",
       "      <td>0.073182</td>\n",
       "      <td>-0.964409</td>\n",
       "      <td>-0.064709</td>\n",
       "      <td>0.336954</td>\n",
       "      <td>0.070344</td>\n",
       "      <td>0.333953</td>\n",
       "      <td>...</td>\n",
       "      <td>1.583753</td>\n",
       "      <td>0.234735</td>\n",
       "      <td>1.444954</td>\n",
       "      <td>0.254665</td>\n",
       "      <td>1.956887</td>\n",
       "      <td>0.255657</td>\n",
       "      <td>1.841109</td>\n",
       "      <td>0.246568</td>\n",
       "      <td>2.252127</td>\n",
       "      <td>0.243770</td>\n",
       "    </tr>\n",
       "    <tr>\n",
       "      <td>4</td>\n",
       "      <td>-1.373785</td>\n",
       "      <td>-1.652310</td>\n",
       "      <td>0.645350</td>\n",
       "      <td>-0.190684</td>\n",
       "      <td>-0.445167</td>\n",
       "      <td>-1.200230</td>\n",
       "      <td>-0.271897</td>\n",
       "      <td>0.332876</td>\n",
       "      <td>-0.122503</td>\n",
       "      <td>0.332575</td>\n",
       "      <td>...</td>\n",
       "      <td>1.584582</td>\n",
       "      <td>0.252598</td>\n",
       "      <td>1.446580</td>\n",
       "      <td>0.252479</td>\n",
       "      <td>1.966895</td>\n",
       "      <td>0.259544</td>\n",
       "      <td>1.844572</td>\n",
       "      <td>0.266649</td>\n",
       "      <td>2.257676</td>\n",
       "      <td>0.233066</td>\n",
       "    </tr>\n",
       "    <tr>\n",
       "      <td>...</td>\n",
       "      <td>...</td>\n",
       "      <td>...</td>\n",
       "      <td>...</td>\n",
       "      <td>...</td>\n",
       "      <td>...</td>\n",
       "      <td>...</td>\n",
       "      <td>...</td>\n",
       "      <td>...</td>\n",
       "      <td>...</td>\n",
       "      <td>...</td>\n",
       "      <td>...</td>\n",
       "      <td>...</td>\n",
       "      <td>...</td>\n",
       "      <td>...</td>\n",
       "      <td>...</td>\n",
       "      <td>...</td>\n",
       "      <td>...</td>\n",
       "      <td>...</td>\n",
       "      <td>...</td>\n",
       "      <td>...</td>\n",
       "      <td>...</td>\n",
       "    </tr>\n",
       "    <tr>\n",
       "      <td>11216</td>\n",
       "      <td>-1.357664</td>\n",
       "      <td>0.972940</td>\n",
       "      <td>0.839781</td>\n",
       "      <td>1.023438</td>\n",
       "      <td>0.177804</td>\n",
       "      <td>-1.370341</td>\n",
       "      <td>-1.256463</td>\n",
       "      <td>3.107398</td>\n",
       "      <td>-0.963992</td>\n",
       "      <td>2.760531</td>\n",
       "      <td>...</td>\n",
       "      <td>-0.914369</td>\n",
       "      <td>-0.608581</td>\n",
       "      <td>-1.157114</td>\n",
       "      <td>-0.601662</td>\n",
       "      <td>-1.246979</td>\n",
       "      <td>-0.609248</td>\n",
       "      <td>-1.249639</td>\n",
       "      <td>-0.610079</td>\n",
       "      <td>-1.048280</td>\n",
       "      <td>-0.583984</td>\n",
       "    </tr>\n",
       "    <tr>\n",
       "      <td>11217</td>\n",
       "      <td>-1.342308</td>\n",
       "      <td>0.534667</td>\n",
       "      <td>0.822042</td>\n",
       "      <td>2.405730</td>\n",
       "      <td>0.429659</td>\n",
       "      <td>-1.628350</td>\n",
       "      <td>-1.381601</td>\n",
       "      <td>3.244581</td>\n",
       "      <td>-1.140848</td>\n",
       "      <td>2.876842</td>\n",
       "      <td>...</td>\n",
       "      <td>-0.926202</td>\n",
       "      <td>-0.640420</td>\n",
       "      <td>-1.154276</td>\n",
       "      <td>-0.646149</td>\n",
       "      <td>-1.231564</td>\n",
       "      <td>-0.624610</td>\n",
       "      <td>-1.256085</td>\n",
       "      <td>-0.628801</td>\n",
       "      <td>-1.046751</td>\n",
       "      <td>-0.573102</td>\n",
       "    </tr>\n",
       "    <tr>\n",
       "      <td>11218</td>\n",
       "      <td>-1.420891</td>\n",
       "      <td>0.418751</td>\n",
       "      <td>0.790057</td>\n",
       "      <td>2.518809</td>\n",
       "      <td>0.735253</td>\n",
       "      <td>-1.791048</td>\n",
       "      <td>-1.619090</td>\n",
       "      <td>3.239570</td>\n",
       "      <td>-1.275585</td>\n",
       "      <td>2.878653</td>\n",
       "      <td>...</td>\n",
       "      <td>-0.913620</td>\n",
       "      <td>-0.659845</td>\n",
       "      <td>-1.149380</td>\n",
       "      <td>-0.639373</td>\n",
       "      <td>-1.217151</td>\n",
       "      <td>-0.665703</td>\n",
       "      <td>-1.253277</td>\n",
       "      <td>-0.632568</td>\n",
       "      <td>-1.044098</td>\n",
       "      <td>-0.748106</td>\n",
       "    </tr>\n",
       "    <tr>\n",
       "      <td>11219</td>\n",
       "      <td>-1.380447</td>\n",
       "      <td>0.309810</td>\n",
       "      <td>0.685462</td>\n",
       "      <td>2.579359</td>\n",
       "      <td>0.661019</td>\n",
       "      <td>-1.875252</td>\n",
       "      <td>-1.734927</td>\n",
       "      <td>3.237792</td>\n",
       "      <td>-1.374287</td>\n",
       "      <td>2.876244</td>\n",
       "      <td>...</td>\n",
       "      <td>-0.890623</td>\n",
       "      <td>-0.630410</td>\n",
       "      <td>-1.128616</td>\n",
       "      <td>-0.633870</td>\n",
       "      <td>-1.259292</td>\n",
       "      <td>-0.568925</td>\n",
       "      <td>-1.238847</td>\n",
       "      <td>-0.607048</td>\n",
       "      <td>-1.038762</td>\n",
       "      <td>-0.613057</td>\n",
       "    </tr>\n",
       "    <tr>\n",
       "      <td>11220</td>\n",
       "      <td>-1.322823</td>\n",
       "      <td>0.284946</td>\n",
       "      <td>0.791368</td>\n",
       "      <td>1.384594</td>\n",
       "      <td>0.541709</td>\n",
       "      <td>-1.873846</td>\n",
       "      <td>-1.754384</td>\n",
       "      <td>3.248012</td>\n",
       "      <td>-1.384978</td>\n",
       "      <td>2.886622</td>\n",
       "      <td>...</td>\n",
       "      <td>-0.928571</td>\n",
       "      <td>-0.636128</td>\n",
       "      <td>-1.160341</td>\n",
       "      <td>-0.635931</td>\n",
       "      <td>-1.236569</td>\n",
       "      <td>-0.596668</td>\n",
       "      <td>-1.250889</td>\n",
       "      <td>-0.610793</td>\n",
       "      <td>-1.046157</td>\n",
       "      <td>-0.618000</td>\n",
       "    </tr>\n",
       "  </tbody>\n",
       "</table>\n",
       "<p>11221 rows × 22 columns</p>\n",
       "</div>"
      ],
      "text/plain": [
       "       rougher.input.feed_ag  rougher.input.feed_pb  rougher.input.feed_rate  \\\n",
       "0                  -1.353222              -1.190417                 0.483122   \n",
       "1                  -1.321574              -1.207927                 0.499782   \n",
       "2                  -1.344845              -1.306615                 0.545015   \n",
       "3                  -1.382960              -1.419589                 0.665011   \n",
       "4                  -1.373785              -1.652310                 0.645350   \n",
       "...                      ...                    ...                      ...   \n",
       "11216              -1.357664               0.972940                 0.839781   \n",
       "11217              -1.342308               0.534667                 0.822042   \n",
       "11218              -1.420891               0.418751                 0.790057   \n",
       "11219              -1.380447               0.309810                 0.685462   \n",
       "11220              -1.322823               0.284946                 0.791368   \n",
       "\n",
       "       rougher.input.feed_size  rougher.input.feed_sol  rougher.input.feed_au  \\\n",
       "0                    -0.213623                0.062123              -0.773482   \n",
       "1                    -0.140292               -0.155395              -0.777408   \n",
       "2                    -0.130800               -0.110407              -0.837786   \n",
       "3                    -0.119257                0.073182              -0.964409   \n",
       "4                    -0.190684               -0.445167              -1.200230   \n",
       "...                        ...                     ...                    ...   \n",
       "11216                 1.023438                0.177804              -1.370341   \n",
       "11217                 2.405730                0.429659              -1.628350   \n",
       "11218                 2.518809                0.735253              -1.791048   \n",
       "11219                 2.579359                0.661019              -1.875252   \n",
       "11220                 1.384594                0.541709              -1.873846   \n",
       "\n",
       "       rougher.input.floatbank10_sulfate  rougher.input.floatbank10_xanthate  \\\n",
       "0                               0.045157                            0.153984   \n",
       "1                               0.040404                            0.151900   \n",
       "2                               0.024814                            0.331517   \n",
       "3                              -0.064709                            0.336954   \n",
       "4                              -0.271897                            0.332876   \n",
       "...                                  ...                                 ...   \n",
       "11216                          -1.256463                            3.107398   \n",
       "11217                          -1.381601                            3.244581   \n",
       "11218                          -1.619090                            3.239570   \n",
       "11219                          -1.734927                            3.237792   \n",
       "11220                          -1.754384                            3.248012   \n",
       "\n",
       "       rougher.input.floatbank11_sulfate  rougher.input.floatbank11_xanthate  \\\n",
       "0                               0.108362                            0.177544   \n",
       "1                               0.150365                            0.183099   \n",
       "2                               0.130379                            0.340558   \n",
       "3                               0.070344                            0.333953   \n",
       "4                              -0.122503                            0.332575   \n",
       "...                                  ...                                 ...   \n",
       "11216                          -0.963992                            2.760531   \n",
       "11217                          -1.140848                            2.876842   \n",
       "11218                          -1.275585                            2.878653   \n",
       "11219                          -1.374287                            2.876244   \n",
       "11220                          -1.384978                            2.886622   \n",
       "\n",
       "       ...  rougher.state.floatbank10_b_air  \\\n",
       "0      ...                         1.600131   \n",
       "1      ...                         1.587610   \n",
       "2      ...                         1.579747   \n",
       "3      ...                         1.583753   \n",
       "4      ...                         1.584582   \n",
       "...    ...                              ...   \n",
       "11216  ...                        -0.914369   \n",
       "11217  ...                        -0.926202   \n",
       "11218  ...                        -0.913620   \n",
       "11219  ...                        -0.890623   \n",
       "11220  ...                        -0.928571   \n",
       "\n",
       "       rougher.state.floatbank10_b_level  rougher.state.floatbank10_c_air  \\\n",
       "0                               0.513185                         1.456088   \n",
       "1                               0.246404                         1.447154   \n",
       "2                               0.245439                         1.443352   \n",
       "3                               0.234735                         1.444954   \n",
       "4                               0.252598                         1.446580   \n",
       "...                                  ...                              ...   \n",
       "11216                          -0.608581                        -1.157114   \n",
       "11217                          -0.640420                        -1.154276   \n",
       "11218                          -0.659845                        -1.149380   \n",
       "11219                          -0.630410                        -1.128616   \n",
       "11220                          -0.636128                        -1.160341   \n",
       "\n",
       "       rougher.state.floatbank10_c_level  rougher.state.floatbank10_d_air  \\\n",
       "0                               0.390718                         1.962851   \n",
       "1                               0.256075                         1.970677   \n",
       "2                               0.253889                         1.967339   \n",
       "3                               0.254665                         1.956887   \n",
       "4                               0.252479                         1.966895   \n",
       "...                                  ...                              ...   \n",
       "11216                          -0.601662                        -1.246979   \n",
       "11217                          -0.646149                        -1.231564   \n",
       "11218                          -0.639373                        -1.217151   \n",
       "11219                          -0.633870                        -1.259292   \n",
       "11220                          -0.635931                        -1.236569   \n",
       "\n",
       "       rougher.state.floatbank10_d_level  rougher.state.floatbank10_e_air  \\\n",
       "0                               0.235120                         1.860894   \n",
       "1                               0.258771                         1.831488   \n",
       "2                               0.258761                         1.831229   \n",
       "3                               0.255657                         1.841109   \n",
       "4                               0.259544                         1.844572   \n",
       "...                                  ...                              ...   \n",
       "11216                          -0.609248                        -1.249639   \n",
       "11217                          -0.624610                        -1.256085   \n",
       "11218                          -0.665703                        -1.253277   \n",
       "11219                          -0.568925                        -1.238847   \n",
       "11220                          -0.596668                        -1.250889   \n",
       "\n",
       "       rougher.state.floatbank10_e_level  rougher.state.floatbank10_f_air  \\\n",
       "0                               0.151944                         2.348777   \n",
       "1                               0.231943                         2.249038   \n",
       "2                               0.248180                         2.252618   \n",
       "3                               0.246568                         2.252127   \n",
       "4                               0.266649                         2.257676   \n",
       "...                                  ...                              ...   \n",
       "11216                          -0.610079                        -1.048280   \n",
       "11217                          -0.628801                        -1.046751   \n",
       "11218                          -0.632568                        -1.044098   \n",
       "11219                          -0.607048                        -1.038762   \n",
       "11220                          -0.610793                        -1.046157   \n",
       "\n",
       "       rougher.state.floatbank10_f_level  \n",
       "0                               0.206449  \n",
       "1                               0.238071  \n",
       "2                               0.230982  \n",
       "3                               0.243770  \n",
       "4                               0.233066  \n",
       "...                                  ...  \n",
       "11216                          -0.583984  \n",
       "11217                          -0.573102  \n",
       "11218                          -0.748106  \n",
       "11219                          -0.613057  \n",
       "11220                          -0.618000  \n",
       "\n",
       "[11221 rows x 22 columns]"
      ]
     },
     "execution_count": 36,
     "metadata": {},
     "output_type": "execute_result"
    }
   ],
   "source": [
    "rougher_X_train"
   ]
  },
  {
   "cell_type": "code",
   "execution_count": null,
   "metadata": {
    "id": "OL3LgfdnActK"
   },
   "outputs": [],
   "source": [
    "final_X_train = final_X_train.drop('date', axis=1)"
   ]
  },
  {
   "cell_type": "code",
   "execution_count": null,
   "metadata": {
    "id": "uXvLhFopActK"
   },
   "outputs": [],
   "source": [
    "numeric = final_X_train.columns\n",
    "scaler = StandardScaler()\n",
    "scaler.fit(final_X_train[numeric])\n",
    "final_X_train[numeric] = scaler.transform(final_X_train[numeric])\n",
    "final_X_test[numeric] = scaler.transform(final_X_test[numeric])"
   ]
  },
  {
   "cell_type": "markdown",
   "metadata": {
    "id": "EOm7oRk3ActL"
   },
   "source": [
    "Проверка:"
   ]
  },
  {
   "cell_type": "code",
   "execution_count": null,
   "metadata": {
    "id": "epYpt8r4ActL",
    "outputId": "ea2ee136-8d03-417b-b615-e7c0b6d771bc"
   },
   "outputs": [
    {
     "data": {
      "text/html": [
       "<div>\n",
       "<style scoped>\n",
       "    .dataframe tbody tr th:only-of-type {\n",
       "        vertical-align: middle;\n",
       "    }\n",
       "\n",
       "    .dataframe tbody tr th {\n",
       "        vertical-align: top;\n",
       "    }\n",
       "\n",
       "    .dataframe thead th {\n",
       "        text-align: right;\n",
       "    }\n",
       "</style>\n",
       "<table border=\"1\" class=\"dataframe\">\n",
       "  <thead>\n",
       "    <tr style=\"text-align: right;\">\n",
       "      <th></th>\n",
       "      <th>primary_cleaner.input.sulfate</th>\n",
       "      <th>primary_cleaner.input.depressant</th>\n",
       "      <th>primary_cleaner.input.feed_size</th>\n",
       "      <th>primary_cleaner.input.xanthate</th>\n",
       "      <th>primary_cleaner.state.floatbank8_a_air</th>\n",
       "      <th>primary_cleaner.state.floatbank8_a_level</th>\n",
       "      <th>primary_cleaner.state.floatbank8_b_air</th>\n",
       "      <th>primary_cleaner.state.floatbank8_b_level</th>\n",
       "      <th>primary_cleaner.state.floatbank8_c_air</th>\n",
       "      <th>primary_cleaner.state.floatbank8_c_level</th>\n",
       "      <th>...</th>\n",
       "      <th>secondary_cleaner.state.floatbank4_a_air</th>\n",
       "      <th>secondary_cleaner.state.floatbank4_a_level</th>\n",
       "      <th>secondary_cleaner.state.floatbank4_b_air</th>\n",
       "      <th>secondary_cleaner.state.floatbank4_b_level</th>\n",
       "      <th>secondary_cleaner.state.floatbank5_a_air</th>\n",
       "      <th>secondary_cleaner.state.floatbank5_a_level</th>\n",
       "      <th>secondary_cleaner.state.floatbank5_b_air</th>\n",
       "      <th>secondary_cleaner.state.floatbank5_b_level</th>\n",
       "      <th>secondary_cleaner.state.floatbank6_a_air</th>\n",
       "      <th>secondary_cleaner.state.floatbank6_a_level</th>\n",
       "    </tr>\n",
       "  </thead>\n",
       "  <tbody>\n",
       "    <tr>\n",
       "      <td>0</td>\n",
       "      <td>-0.201086</td>\n",
       "      <td>0.396523</td>\n",
       "      <td>-0.096858</td>\n",
       "      <td>0.311071</td>\n",
       "      <td>-0.413493</td>\n",
       "      <td>-0.209708</td>\n",
       "      <td>-0.403096</td>\n",
       "      <td>-0.846323</td>\n",
       "      <td>-0.398426</td>\n",
       "      <td>-0.177720</td>\n",
       "      <td>...</td>\n",
       "      <td>-1.103328</td>\n",
       "      <td>-0.485927</td>\n",
       "      <td>-0.643638</td>\n",
       "      <td>-0.770912</td>\n",
       "      <td>-1.173291</td>\n",
       "      <td>-0.399332</td>\n",
       "      <td>-0.859167</td>\n",
       "      <td>-0.449108</td>\n",
       "      <td>-0.938064</td>\n",
       "      <td>-2.715712</td>\n",
       "    </tr>\n",
       "    <tr>\n",
       "      <td>1</td>\n",
       "      <td>-0.238343</td>\n",
       "      <td>0.445963</td>\n",
       "      <td>-0.096858</td>\n",
       "      <td>0.348432</td>\n",
       "      <td>-0.209811</td>\n",
       "      <td>-0.275817</td>\n",
       "      <td>-0.216370</td>\n",
       "      <td>-0.254330</td>\n",
       "      <td>-0.204753</td>\n",
       "      <td>-0.199077</td>\n",
       "      <td>...</td>\n",
       "      <td>-1.107678</td>\n",
       "      <td>-0.543667</td>\n",
       "      <td>-0.671212</td>\n",
       "      <td>-0.713627</td>\n",
       "      <td>-1.154240</td>\n",
       "      <td>-0.447498</td>\n",
       "      <td>-0.875197</td>\n",
       "      <td>-0.452002</td>\n",
       "      <td>-0.964311</td>\n",
       "      <td>-2.548039</td>\n",
       "    </tr>\n",
       "    <tr>\n",
       "      <td>2</td>\n",
       "      <td>-0.284430</td>\n",
       "      <td>0.746219</td>\n",
       "      <td>-0.096858</td>\n",
       "      <td>0.317806</td>\n",
       "      <td>-0.013857</td>\n",
       "      <td>-0.245723</td>\n",
       "      <td>-0.030256</td>\n",
       "      <td>-0.280887</td>\n",
       "      <td>-0.011903</td>\n",
       "      <td>-0.250287</td>\n",
       "      <td>...</td>\n",
       "      <td>-1.103650</td>\n",
       "      <td>-0.486557</td>\n",
       "      <td>-0.678180</td>\n",
       "      <td>-0.710273</td>\n",
       "      <td>-1.148930</td>\n",
       "      <td>-0.446440</td>\n",
       "      <td>-0.870279</td>\n",
       "      <td>-0.450321</td>\n",
       "      <td>-0.959111</td>\n",
       "      <td>-2.593459</td>\n",
       "    </tr>\n",
       "    <tr>\n",
       "      <td>3</td>\n",
       "      <td>-0.323899</td>\n",
       "      <td>0.747944</td>\n",
       "      <td>-0.096858</td>\n",
       "      <td>0.332513</td>\n",
       "      <td>-0.026109</td>\n",
       "      <td>-0.277370</td>\n",
       "      <td>-0.028181</td>\n",
       "      <td>-0.247572</td>\n",
       "      <td>-0.024503</td>\n",
       "      <td>-0.245608</td>\n",
       "      <td>...</td>\n",
       "      <td>-1.099842</td>\n",
       "      <td>-0.454700</td>\n",
       "      <td>-0.662165</td>\n",
       "      <td>-0.711293</td>\n",
       "      <td>-1.165790</td>\n",
       "      <td>-0.422419</td>\n",
       "      <td>-0.876453</td>\n",
       "      <td>-0.443511</td>\n",
       "      <td>-0.963076</td>\n",
       "      <td>-2.553825</td>\n",
       "    </tr>\n",
       "    <tr>\n",
       "      <td>4</td>\n",
       "      <td>-0.432963</td>\n",
       "      <td>0.922051</td>\n",
       "      <td>-0.096858</td>\n",
       "      <td>0.367794</td>\n",
       "      <td>-0.015528</td>\n",
       "      <td>-0.211808</td>\n",
       "      <td>-0.022250</td>\n",
       "      <td>-0.270702</td>\n",
       "      <td>-0.029858</td>\n",
       "      <td>-0.250882</td>\n",
       "      <td>...</td>\n",
       "      <td>-1.101474</td>\n",
       "      <td>-0.435193</td>\n",
       "      <td>-0.670744</td>\n",
       "      <td>-0.708927</td>\n",
       "      <td>-1.173278</td>\n",
       "      <td>-0.486781</td>\n",
       "      <td>-0.890486</td>\n",
       "      <td>-0.446117</td>\n",
       "      <td>-0.964603</td>\n",
       "      <td>-2.595379</td>\n",
       "    </tr>\n",
       "    <tr>\n",
       "      <td>...</td>\n",
       "      <td>...</td>\n",
       "      <td>...</td>\n",
       "      <td>...</td>\n",
       "      <td>...</td>\n",
       "      <td>...</td>\n",
       "      <td>...</td>\n",
       "      <td>...</td>\n",
       "      <td>...</td>\n",
       "      <td>...</td>\n",
       "      <td>...</td>\n",
       "      <td>...</td>\n",
       "      <td>...</td>\n",
       "      <td>...</td>\n",
       "      <td>...</td>\n",
       "      <td>...</td>\n",
       "      <td>...</td>\n",
       "      <td>...</td>\n",
       "      <td>...</td>\n",
       "      <td>...</td>\n",
       "      <td>...</td>\n",
       "      <td>...</td>\n",
       "    </tr>\n",
       "    <tr>\n",
       "      <td>11216</td>\n",
       "      <td>-0.295586</td>\n",
       "      <td>-0.221448</td>\n",
       "      <td>-1.296916</td>\n",
       "      <td>1.158748</td>\n",
       "      <td>0.347842</td>\n",
       "      <td>3.058911</td>\n",
       "      <td>0.338035</td>\n",
       "      <td>3.307684</td>\n",
       "      <td>0.333433</td>\n",
       "      <td>3.092603</td>\n",
       "      <td>...</td>\n",
       "      <td>0.493861</td>\n",
       "      <td>-0.460648</td>\n",
       "      <td>0.815870</td>\n",
       "      <td>-0.686688</td>\n",
       "      <td>0.181672</td>\n",
       "      <td>-0.438806</td>\n",
       "      <td>-0.027919</td>\n",
       "      <td>-0.440904</td>\n",
       "      <td>0.066675</td>\n",
       "      <td>0.179426</td>\n",
       "    </tr>\n",
       "    <tr>\n",
       "      <td>11217</td>\n",
       "      <td>-0.359354</td>\n",
       "      <td>-0.240961</td>\n",
       "      <td>-1.296916</td>\n",
       "      <td>1.153875</td>\n",
       "      <td>0.358639</td>\n",
       "      <td>3.073879</td>\n",
       "      <td>0.342723</td>\n",
       "      <td>3.330538</td>\n",
       "      <td>0.334011</td>\n",
       "      <td>3.032263</td>\n",
       "      <td>...</td>\n",
       "      <td>0.481211</td>\n",
       "      <td>-0.469167</td>\n",
       "      <td>0.821054</td>\n",
       "      <td>-0.695343</td>\n",
       "      <td>0.180414</td>\n",
       "      <td>-0.453331</td>\n",
       "      <td>-0.035869</td>\n",
       "      <td>-0.434124</td>\n",
       "      <td>0.059926</td>\n",
       "      <td>0.186483</td>\n",
       "    </tr>\n",
       "    <tr>\n",
       "      <td>11218</td>\n",
       "      <td>-0.746809</td>\n",
       "      <td>-0.243176</td>\n",
       "      <td>-1.296916</td>\n",
       "      <td>1.190168</td>\n",
       "      <td>0.353596</td>\n",
       "      <td>3.075284</td>\n",
       "      <td>0.341499</td>\n",
       "      <td>3.332101</td>\n",
       "      <td>0.328382</td>\n",
       "      <td>3.072031</td>\n",
       "      <td>...</td>\n",
       "      <td>0.491066</td>\n",
       "      <td>-0.471059</td>\n",
       "      <td>0.805471</td>\n",
       "      <td>-0.688669</td>\n",
       "      <td>0.183937</td>\n",
       "      <td>-0.454780</td>\n",
       "      <td>-0.024150</td>\n",
       "      <td>-0.434624</td>\n",
       "      <td>0.063766</td>\n",
       "      <td>0.173278</td>\n",
       "    </tr>\n",
       "    <tr>\n",
       "      <td>11219</td>\n",
       "      <td>-0.919640</td>\n",
       "      <td>-0.234625</td>\n",
       "      <td>-1.296916</td>\n",
       "      <td>0.991446</td>\n",
       "      <td>0.333383</td>\n",
       "      <td>3.105524</td>\n",
       "      <td>0.334000</td>\n",
       "      <td>3.306839</td>\n",
       "      <td>0.335947</td>\n",
       "      <td>3.087408</td>\n",
       "      <td>...</td>\n",
       "      <td>0.492704</td>\n",
       "      <td>-0.460370</td>\n",
       "      <td>0.824462</td>\n",
       "      <td>-0.696416</td>\n",
       "      <td>0.177225</td>\n",
       "      <td>-0.424264</td>\n",
       "      <td>-0.029391</td>\n",
       "      <td>-0.436234</td>\n",
       "      <td>0.067729</td>\n",
       "      <td>0.198007</td>\n",
       "    </tr>\n",
       "    <tr>\n",
       "      <td>11220</td>\n",
       "      <td>-1.012151</td>\n",
       "      <td>-0.206721</td>\n",
       "      <td>-1.296916</td>\n",
       "      <td>1.101818</td>\n",
       "      <td>0.350456</td>\n",
       "      <td>3.076166</td>\n",
       "      <td>0.348647</td>\n",
       "      <td>3.322086</td>\n",
       "      <td>0.335314</td>\n",
       "      <td>3.052343</td>\n",
       "      <td>...</td>\n",
       "      <td>0.491580</td>\n",
       "      <td>-0.447718</td>\n",
       "      <td>0.818202</td>\n",
       "      <td>-0.694818</td>\n",
       "      <td>0.174541</td>\n",
       "      <td>-0.441529</td>\n",
       "      <td>-0.029745</td>\n",
       "      <td>-0.438960</td>\n",
       "      <td>0.063672</td>\n",
       "      <td>0.237715</td>\n",
       "    </tr>\n",
       "  </tbody>\n",
       "</table>\n",
       "<p>11221 rows × 52 columns</p>\n",
       "</div>"
      ],
      "text/plain": [
       "       primary_cleaner.input.sulfate  primary_cleaner.input.depressant  \\\n",
       "0                          -0.201086                          0.396523   \n",
       "1                          -0.238343                          0.445963   \n",
       "2                          -0.284430                          0.746219   \n",
       "3                          -0.323899                          0.747944   \n",
       "4                          -0.432963                          0.922051   \n",
       "...                              ...                               ...   \n",
       "11216                      -0.295586                         -0.221448   \n",
       "11217                      -0.359354                         -0.240961   \n",
       "11218                      -0.746809                         -0.243176   \n",
       "11219                      -0.919640                         -0.234625   \n",
       "11220                      -1.012151                         -0.206721   \n",
       "\n",
       "       primary_cleaner.input.feed_size  primary_cleaner.input.xanthate  \\\n",
       "0                            -0.096858                        0.311071   \n",
       "1                            -0.096858                        0.348432   \n",
       "2                            -0.096858                        0.317806   \n",
       "3                            -0.096858                        0.332513   \n",
       "4                            -0.096858                        0.367794   \n",
       "...                                ...                             ...   \n",
       "11216                        -1.296916                        1.158748   \n",
       "11217                        -1.296916                        1.153875   \n",
       "11218                        -1.296916                        1.190168   \n",
       "11219                        -1.296916                        0.991446   \n",
       "11220                        -1.296916                        1.101818   \n",
       "\n",
       "       primary_cleaner.state.floatbank8_a_air  \\\n",
       "0                                   -0.413493   \n",
       "1                                   -0.209811   \n",
       "2                                   -0.013857   \n",
       "3                                   -0.026109   \n",
       "4                                   -0.015528   \n",
       "...                                       ...   \n",
       "11216                                0.347842   \n",
       "11217                                0.358639   \n",
       "11218                                0.353596   \n",
       "11219                                0.333383   \n",
       "11220                                0.350456   \n",
       "\n",
       "       primary_cleaner.state.floatbank8_a_level  \\\n",
       "0                                     -0.209708   \n",
       "1                                     -0.275817   \n",
       "2                                     -0.245723   \n",
       "3                                     -0.277370   \n",
       "4                                     -0.211808   \n",
       "...                                         ...   \n",
       "11216                                  3.058911   \n",
       "11217                                  3.073879   \n",
       "11218                                  3.075284   \n",
       "11219                                  3.105524   \n",
       "11220                                  3.076166   \n",
       "\n",
       "       primary_cleaner.state.floatbank8_b_air  \\\n",
       "0                                   -0.403096   \n",
       "1                                   -0.216370   \n",
       "2                                   -0.030256   \n",
       "3                                   -0.028181   \n",
       "4                                   -0.022250   \n",
       "...                                       ...   \n",
       "11216                                0.338035   \n",
       "11217                                0.342723   \n",
       "11218                                0.341499   \n",
       "11219                                0.334000   \n",
       "11220                                0.348647   \n",
       "\n",
       "       primary_cleaner.state.floatbank8_b_level  \\\n",
       "0                                     -0.846323   \n",
       "1                                     -0.254330   \n",
       "2                                     -0.280887   \n",
       "3                                     -0.247572   \n",
       "4                                     -0.270702   \n",
       "...                                         ...   \n",
       "11216                                  3.307684   \n",
       "11217                                  3.330538   \n",
       "11218                                  3.332101   \n",
       "11219                                  3.306839   \n",
       "11220                                  3.322086   \n",
       "\n",
       "       primary_cleaner.state.floatbank8_c_air  \\\n",
       "0                                   -0.398426   \n",
       "1                                   -0.204753   \n",
       "2                                   -0.011903   \n",
       "3                                   -0.024503   \n",
       "4                                   -0.029858   \n",
       "...                                       ...   \n",
       "11216                                0.333433   \n",
       "11217                                0.334011   \n",
       "11218                                0.328382   \n",
       "11219                                0.335947   \n",
       "11220                                0.335314   \n",
       "\n",
       "       primary_cleaner.state.floatbank8_c_level  ...  \\\n",
       "0                                     -0.177720  ...   \n",
       "1                                     -0.199077  ...   \n",
       "2                                     -0.250287  ...   \n",
       "3                                     -0.245608  ...   \n",
       "4                                     -0.250882  ...   \n",
       "...                                         ...  ...   \n",
       "11216                                  3.092603  ...   \n",
       "11217                                  3.032263  ...   \n",
       "11218                                  3.072031  ...   \n",
       "11219                                  3.087408  ...   \n",
       "11220                                  3.052343  ...   \n",
       "\n",
       "       secondary_cleaner.state.floatbank4_a_air  \\\n",
       "0                                     -1.103328   \n",
       "1                                     -1.107678   \n",
       "2                                     -1.103650   \n",
       "3                                     -1.099842   \n",
       "4                                     -1.101474   \n",
       "...                                         ...   \n",
       "11216                                  0.493861   \n",
       "11217                                  0.481211   \n",
       "11218                                  0.491066   \n",
       "11219                                  0.492704   \n",
       "11220                                  0.491580   \n",
       "\n",
       "       secondary_cleaner.state.floatbank4_a_level  \\\n",
       "0                                       -0.485927   \n",
       "1                                       -0.543667   \n",
       "2                                       -0.486557   \n",
       "3                                       -0.454700   \n",
       "4                                       -0.435193   \n",
       "...                                           ...   \n",
       "11216                                   -0.460648   \n",
       "11217                                   -0.469167   \n",
       "11218                                   -0.471059   \n",
       "11219                                   -0.460370   \n",
       "11220                                   -0.447718   \n",
       "\n",
       "       secondary_cleaner.state.floatbank4_b_air  \\\n",
       "0                                     -0.643638   \n",
       "1                                     -0.671212   \n",
       "2                                     -0.678180   \n",
       "3                                     -0.662165   \n",
       "4                                     -0.670744   \n",
       "...                                         ...   \n",
       "11216                                  0.815870   \n",
       "11217                                  0.821054   \n",
       "11218                                  0.805471   \n",
       "11219                                  0.824462   \n",
       "11220                                  0.818202   \n",
       "\n",
       "       secondary_cleaner.state.floatbank4_b_level  \\\n",
       "0                                       -0.770912   \n",
       "1                                       -0.713627   \n",
       "2                                       -0.710273   \n",
       "3                                       -0.711293   \n",
       "4                                       -0.708927   \n",
       "...                                           ...   \n",
       "11216                                   -0.686688   \n",
       "11217                                   -0.695343   \n",
       "11218                                   -0.688669   \n",
       "11219                                   -0.696416   \n",
       "11220                                   -0.694818   \n",
       "\n",
       "       secondary_cleaner.state.floatbank5_a_air  \\\n",
       "0                                     -1.173291   \n",
       "1                                     -1.154240   \n",
       "2                                     -1.148930   \n",
       "3                                     -1.165790   \n",
       "4                                     -1.173278   \n",
       "...                                         ...   \n",
       "11216                                  0.181672   \n",
       "11217                                  0.180414   \n",
       "11218                                  0.183937   \n",
       "11219                                  0.177225   \n",
       "11220                                  0.174541   \n",
       "\n",
       "       secondary_cleaner.state.floatbank5_a_level  \\\n",
       "0                                       -0.399332   \n",
       "1                                       -0.447498   \n",
       "2                                       -0.446440   \n",
       "3                                       -0.422419   \n",
       "4                                       -0.486781   \n",
       "...                                           ...   \n",
       "11216                                   -0.438806   \n",
       "11217                                   -0.453331   \n",
       "11218                                   -0.454780   \n",
       "11219                                   -0.424264   \n",
       "11220                                   -0.441529   \n",
       "\n",
       "       secondary_cleaner.state.floatbank5_b_air  \\\n",
       "0                                     -0.859167   \n",
       "1                                     -0.875197   \n",
       "2                                     -0.870279   \n",
       "3                                     -0.876453   \n",
       "4                                     -0.890486   \n",
       "...                                         ...   \n",
       "11216                                 -0.027919   \n",
       "11217                                 -0.035869   \n",
       "11218                                 -0.024150   \n",
       "11219                                 -0.029391   \n",
       "11220                                 -0.029745   \n",
       "\n",
       "       secondary_cleaner.state.floatbank5_b_level  \\\n",
       "0                                       -0.449108   \n",
       "1                                       -0.452002   \n",
       "2                                       -0.450321   \n",
       "3                                       -0.443511   \n",
       "4                                       -0.446117   \n",
       "...                                           ...   \n",
       "11216                                   -0.440904   \n",
       "11217                                   -0.434124   \n",
       "11218                                   -0.434624   \n",
       "11219                                   -0.436234   \n",
       "11220                                   -0.438960   \n",
       "\n",
       "       secondary_cleaner.state.floatbank6_a_air  \\\n",
       "0                                     -0.938064   \n",
       "1                                     -0.964311   \n",
       "2                                     -0.959111   \n",
       "3                                     -0.963076   \n",
       "4                                     -0.964603   \n",
       "...                                         ...   \n",
       "11216                                  0.066675   \n",
       "11217                                  0.059926   \n",
       "11218                                  0.063766   \n",
       "11219                                  0.067729   \n",
       "11220                                  0.063672   \n",
       "\n",
       "       secondary_cleaner.state.floatbank6_a_level  \n",
       "0                                       -2.715712  \n",
       "1                                       -2.548039  \n",
       "2                                       -2.593459  \n",
       "3                                       -2.553825  \n",
       "4                                       -2.595379  \n",
       "...                                           ...  \n",
       "11216                                    0.179426  \n",
       "11217                                    0.186483  \n",
       "11218                                    0.173278  \n",
       "11219                                    0.198007  \n",
       "11220                                    0.237715  \n",
       "\n",
       "[11221 rows x 52 columns]"
      ]
     },
     "execution_count": 39,
     "metadata": {},
     "output_type": "execute_result"
    }
   ],
   "source": [
    "final_X_train"
   ]
  },
  {
   "cell_type": "markdown",
   "metadata": {
    "id": "xhUOXCkPActL"
   },
   "source": [
    "### Выбор модели"
   ]
  },
  {
   "cell_type": "code",
   "execution_count": null,
   "metadata": {
    "id": "6u1p5xHmActL"
   },
   "outputs": [],
   "source": [
    "SEED = 244466666"
   ]
  },
  {
   "cell_type": "markdown",
   "metadata": {
    "id": "DZAm7eMGActL"
   },
   "source": [
    "#### Дерево решений"
   ]
  },
  {
   "cell_type": "markdown",
   "metadata": {
    "id": "2lqXbQ_NActL"
   },
   "source": [
    "В качестве метрики мы должны использовать метрику sMAPE, укажем ее в параметре scoring, используя scorer."
   ]
  },
  {
   "cell_type": "code",
   "execution_count": null,
   "metadata": {
    "id": "QBYh5EFhActL"
   },
   "outputs": [],
   "source": [
    "cv = 5\n",
    "scorer = make_scorer(sMAPE)"
   ]
  },
  {
   "cell_type": "code",
   "execution_count": null,
   "metadata": {
    "id": "S5ihSD-AActM"
   },
   "outputs": [],
   "source": [
    "def cv_for_decision_tree(X, y):\n",
    "    best_score = 1000\n",
    "    best_depth = 0\n",
    "    \n",
    "    for depth in tqdm(range(1, 21)):\n",
    "        model = DecisionTreeRegressor(random_state=SEED, max_depth=depth)\n",
    "        score = cross_val_score(model, X, y, cv=cv, scoring=scorer).mean()\n",
    "        \n",
    "        if score < best_score:\n",
    "            best_score = score\n",
    "            best_depth = depth\n",
    "        \n",
    "    print('Лучший результат:')\n",
    "    print('Средний sMAPE:', best_score)\n",
    "    print('Глубина дерева:', best_depth)"
   ]
  },
  {
   "cell_type": "code",
   "execution_count": null,
   "metadata": {
    "id": "GY9i9i1UActM",
    "outputId": "430ed183-ffdb-40f1-ad89-8fce4eb47c42"
   },
   "outputs": [
    {
     "name": "stderr",
     "output_type": "stream",
     "text": [
      "100%|██████████| 20/20 [00:21<00:00,  1.09s/it]"
     ]
    },
    {
     "name": "stdout",
     "output_type": "stream",
     "text": [
      "Лучший результат:\n",
      "Средний sMAPE: 10.9263490983792\n",
      "Глубина дерева: 2\n",
      "CPU times: user 21.6 s, sys: 29.3 ms, total: 21.6 s\n",
      "Wall time: 21.8 s\n"
     ]
    },
    {
     "name": "stderr",
     "output_type": "stream",
     "text": [
      "\n"
     ]
    }
   ],
   "source": [
    "%%time\n",
    "\n",
    "cv_for_decision_tree(rougher_X_train, rougher_y_train)"
   ]
  },
  {
   "cell_type": "code",
   "execution_count": null,
   "metadata": {
    "id": "Juaqol4eActM",
    "outputId": "23695458-2b5b-40c0-c7ba-17b44a96992d"
   },
   "outputs": [
    {
     "name": "stderr",
     "output_type": "stream",
     "text": [
      "100%|██████████| 20/20 [00:48<00:00,  2.44s/it]"
     ]
    },
    {
     "name": "stdout",
     "output_type": "stream",
     "text": [
      "Лучший результат:\n",
      "Средний sMAPE: 10.026283394191497\n",
      "Глубина дерева: 1\n",
      "CPU times: user 48.4 s, sys: 46.2 ms, total: 48.4 s\n",
      "Wall time: 48.8 s\n"
     ]
    },
    {
     "name": "stderr",
     "output_type": "stream",
     "text": [
      "\n"
     ]
    }
   ],
   "source": [
    "%%time\n",
    "\n",
    "cv_for_decision_tree(final_X_train, final_y_train)"
   ]
  },
  {
   "cell_type": "markdown",
   "metadata": {
    "id": "jwK2v3SPActM"
   },
   "source": [
    "####  Случайный лес"
   ]
  },
  {
   "cell_type": "code",
   "execution_count": null,
   "metadata": {
    "id": "08KgFcwUActM"
   },
   "outputs": [],
   "source": [
    "def cv_for_random_forest(X, y):\n",
    "    total_score = 1000\n",
    "    total_depth = 0\n",
    "    total_estimators = 0\n",
    "    \n",
    "    for depth in tqdm(range(1,21)):\n",
    "        best_score = 1000\n",
    "        best_depth = 0\n",
    "        best_estimators = 0\n",
    "        \n",
    "        for estimator in range(10, 51, 5):\n",
    "            model = RandomForestRegressor(random_state=SEED, n_estimators=estimator, max_depth=depth)\n",
    "            score = cross_val_score(model, X, y, cv=cv, scoring=scorer).mean()\n",
    "                        \n",
    "            if score < best_score:\n",
    "                best_score = score\n",
    "                best_depth = depth\n",
    "                best_estimators = estimator\n",
    "        \n",
    "        if best_score < total_score:\n",
    "            total_score = best_score\n",
    "            total_depth = best_depth\n",
    "            total_estimators = best_estimators\n",
    "            \n",
    "    print('Лучший результат:')\n",
    "    print('Средний sMAPE:', total_score)\n",
    "    print('Кол-во деревьев:', total_estimators)\n",
    "    print('Глубина дерева:', total_depth)"
   ]
  },
  {
   "cell_type": "code",
   "execution_count": null,
   "metadata": {
    "id": "u2m2VNsVActN",
    "outputId": "965f6706-9f55-40f5-d59d-15de0637ed89",
    "scrolled": false
   },
   "outputs": [
    {
     "name": "stderr",
     "output_type": "stream",
     "text": [
      "100%|██████████| 20/20 [59:30<00:00, 178.51s/it]"
     ]
    },
    {
     "name": "stdout",
     "output_type": "stream",
     "text": [
      "Лучший результат:\n",
      "Средний sMAPE: 10.155059423993077\n",
      "Кол-во деревьев: 25\n",
      "Глубина дерева: 3\n",
      "CPU times: user 59min 2s, sys: 3.94 s, total: 59min 6s\n",
      "Wall time: 59min 30s\n"
     ]
    },
    {
     "name": "stderr",
     "output_type": "stream",
     "text": [
      "\n"
     ]
    }
   ],
   "source": [
    "%%time\n",
    "\n",
    "cv_for_random_forest(rougher_X_train, rougher_y_train)"
   ]
  },
  {
   "cell_type": "code",
   "execution_count": null,
   "metadata": {
    "id": "mERLMSVZActN",
    "outputId": "526d7d6f-bb5b-41ac-f2c1-cd09e857cdab",
    "scrolled": false
   },
   "outputs": [
    {
     "name": "stderr",
     "output_type": "stream",
     "text": [
      "100%|██████████| 20/20 [2:25:12<00:00, 435.65s/it]"
     ]
    },
    {
     "name": "stdout",
     "output_type": "stream",
     "text": [
      "Лучший результат:\n",
      "Средний sMAPE: 9.6238550612122\n",
      "Кол-во деревьев: 40\n",
      "Глубина дерева: 5\n",
      "CPU times: user 2h 23min 49s, sys: 5.43 s, total: 2h 23min 55s\n",
      "Wall time: 2h 25min 12s\n"
     ]
    },
    {
     "name": "stderr",
     "output_type": "stream",
     "text": [
      "\n"
     ]
    }
   ],
   "source": [
    "%%time\n",
    "\n",
    "cv_for_random_forest(final_X_train, final_y_train)"
   ]
  },
  {
   "cell_type": "markdown",
   "metadata": {
    "id": "rhmRC-6fActN"
   },
   "source": [
    "#### Линейная регрессия\n"
   ]
  },
  {
   "cell_type": "code",
   "execution_count": null,
   "metadata": {
    "id": "4LY9aqtvActN"
   },
   "outputs": [],
   "source": [
    "def cv_for_linear_regression(X, y):\n",
    "    model = LinearRegression()\n",
    "    score = cross_val_score(model, X, y, cv=cv, scoring=scorer).mean()\n",
    "        \n",
    "    print('Средний sMAPE:', score)"
   ]
  },
  {
   "cell_type": "code",
   "execution_count": null,
   "metadata": {
    "id": "3sENwdzmActN",
    "outputId": "dbdba0d4-412c-45b3-ecab-93cf6edbb266"
   },
   "outputs": [
    {
     "name": "stdout",
     "output_type": "stream",
     "text": [
      "Средний sMAPE: 11.294992129934897\n",
      "CPU times: user 334 ms, sys: 515 ms, total: 850 ms\n",
      "Wall time: 826 ms\n"
     ]
    }
   ],
   "source": [
    "%%time\n",
    "\n",
    "cv_for_linear_regression(rougher_X_train, rougher_y_train)"
   ]
  },
  {
   "cell_type": "code",
   "execution_count": null,
   "metadata": {
    "id": "i2TYOKgAActO",
    "outputId": "037b4b9c-8988-4417-f3cf-956af7934f7f"
   },
   "outputs": [
    {
     "name": "stdout",
     "output_type": "stream",
     "text": [
      "Средний sMAPE: 11.247241766781327\n",
      "CPU times: user 1.11 s, sys: 1.32 s, total: 2.44 s\n",
      "Wall time: 2.49 s\n"
     ]
    }
   ],
   "source": [
    "%%time\n",
    "\n",
    "cv_for_linear_regression(final_X_train, final_y_train)"
   ]
  },
  {
   "cell_type": "markdown",
   "metadata": {
    "id": "hzW7hLUOActO"
   },
   "source": [
    "#### Лучшая модель"
   ]
  },
  {
   "cell_type": "markdown",
   "metadata": {
    "id": "v7SazPctActO"
   },
   "source": [
    "Наилучшие результаты показала модель случайного леса:\n",
    "\n",
    "* Для флотационной выборки при количестве деревьев 25 и глубине 3\n",
    "* Для финальной выборки при количестве деревьев 40 и глубине 5 "
   ]
  },
  {
   "cell_type": "code",
   "execution_count": null,
   "metadata": {
    "id": "SEvWbB0kActO",
    "outputId": "33cbc845-62c4-4268-f8d1-263a3f37402a"
   },
   "outputs": [
    {
     "name": "stdout",
     "output_type": "stream",
     "text": [
      "Средний sMAPE флотации: 10.155059423993077\n",
      "Средний sMAPE финального этапа: 9.6238550612122\n",
      "Итоговый sMAPE: 9.75665615190742\n"
     ]
    }
   ],
   "source": [
    "rougher_model = RandomForestRegressor(random_state=SEED, max_depth=3, n_estimators=25)\n",
    "final_model = RandomForestRegressor(random_state=SEED, max_depth=5, n_estimators=40)\n",
    "score_rougher = cross_val_score(rougher_model, rougher_X_train, rougher_y_train, cv=cv, scoring=scorer).mean()\n",
    "score_final = cross_val_score(final_model, final_X_train, final_y_train, cv=cv, scoring=scorer).mean()\n",
    "total_sMAPE = final_sMAPE(score_rougher, score_final)\n",
    "print('Средний sMAPE флотации:', score_rougher)\n",
    "print('Средний sMAPE финального этапа:', score_final)\n",
    "print('Итоговый sMAPE:', total_sMAPE)"
   ]
  },
  {
   "cell_type": "markdown",
   "metadata": {
    "id": "Hh_24QwvActP"
   },
   "source": [
    "#### Проверка модели на тестовой выборке"
   ]
  },
  {
   "cell_type": "markdown",
   "metadata": {
    "id": "rK7st1Y9ActP"
   },
   "source": [
    "Проверим наилучший результат на тестовой выборке:"
   ]
  },
  {
   "cell_type": "code",
   "execution_count": null,
   "metadata": {
    "id": "tU-lfPFlActP"
   },
   "outputs": [],
   "source": [
    "final_X_test = final_X_test.drop('date', axis=1)"
   ]
  },
  {
   "cell_type": "code",
   "execution_count": null,
   "metadata": {
    "id": "3iv5RmGjActP",
    "outputId": "675b537d-7fdf-4f57-a140-87f4ebef53b8"
   },
   "outputs": [
    {
     "name": "stdout",
     "output_type": "stream",
     "text": [
      "sMAPE флотации: 10.638699949367776\n",
      "sMAPE финального этапа: 10.592783654335724\n",
      "Итоговый sMAPE: 10.604262728093737\n"
     ]
    }
   ],
   "source": [
    "rougher_model = RandomForestRegressor(random_state=SEED, max_depth=3, n_estimators=25)\n",
    "final_model = RandomForestRegressor(random_state=SEED, max_depth=5, n_estimators=40)\n",
    "\n",
    "rougher_model.fit(rougher_X_train, rougher_y_train)\n",
    "predictions_rouger = rougher_model.predict(rougher_X_test)\n",
    "\n",
    "final_model.fit(final_X_train, final_y_train)\n",
    "predictions_final = final_model.predict(final_X_test)\n",
    "\n",
    "score_rougher = sMAPE(rougher_y_test, predictions_rouger)\n",
    "score_final = sMAPE(final_y_test, predictions_final)\n",
    "total_sMAPE = final_sMAPE(score_rougher, score_final)\n",
    "print('sMAPE флотации:', score_rougher)\n",
    "print('sMAPE финального этапа:', score_final)\n",
    "print('Итоговый sMAPE:', total_sMAPE)"
   ]
  },
  {
   "cell_type": "markdown",
   "metadata": {
    "id": "CnoUqpIoActP"
   },
   "source": [
    "Модели достаточно хорошо показали себя на тестовой выборке"
   ]
  }
 ],
 "metadata": {
  "ExecuteTimeLog": [
   {
    "duration": 1084,
    "start_time": "2022-02-07T08:29:20.081Z"
   },
   {
    "duration": 631,
    "start_time": "2022-02-07T08:31:33.701Z"
   },
   {
    "duration": 4,
    "start_time": "2022-02-07T08:32:01.532Z"
   },
   {
    "duration": 787,
    "start_time": "2022-02-07T08:32:08.905Z"
   },
   {
    "duration": 4,
    "start_time": "2022-02-07T08:32:20.828Z"
   },
   {
    "duration": 356,
    "start_time": "2022-02-07T08:32:22.201Z"
   },
   {
    "duration": 5,
    "start_time": "2022-02-07T08:32:44.810Z"
   },
   {
    "duration": 337,
    "start_time": "2022-02-07T08:32:46.086Z"
   },
   {
    "duration": 641,
    "start_time": "2022-02-07T08:34:14.510Z"
   },
   {
    "duration": 841,
    "start_time": "2022-02-07T08:34:54.812Z"
   },
   {
    "duration": 4,
    "start_time": "2022-02-07T08:37:06.435Z"
   },
   {
    "duration": 635,
    "start_time": "2022-02-07T08:37:16.136Z"
   },
   {
    "duration": 641,
    "start_time": "2022-02-07T08:37:42.901Z"
   },
   {
    "duration": 4,
    "start_time": "2022-02-07T08:37:44.349Z"
   },
   {
    "duration": 900,
    "start_time": "2022-02-07T08:37:45.934Z"
   },
   {
    "duration": 5,
    "start_time": "2022-02-07T08:38:14.708Z"
   },
   {
    "duration": 861,
    "start_time": "2022-02-07T08:38:16.187Z"
   },
   {
    "duration": 4,
    "start_time": "2022-02-07T08:40:02.013Z"
   },
   {
    "duration": 3,
    "start_time": "2022-02-07T09:07:39.151Z"
   },
   {
    "duration": 7,
    "start_time": "2022-02-07T09:07:50.992Z"
   },
   {
    "duration": 3,
    "start_time": "2022-02-07T09:08:03.672Z"
   },
   {
    "duration": 316,
    "start_time": "2022-02-07T09:08:14.853Z"
   },
   {
    "duration": 4,
    "start_time": "2022-02-07T09:08:23.155Z"
   },
   {
    "duration": 98,
    "start_time": "2022-02-07T09:09:42.409Z"
   },
   {
    "duration": 139,
    "start_time": "2022-02-07T09:09:44.498Z"
   },
   {
    "duration": 4,
    "start_time": "2022-02-07T09:09:47.575Z"
   },
   {
    "duration": 5,
    "start_time": "2022-02-07T09:10:02.677Z"
   },
   {
    "duration": 5,
    "start_time": "2022-02-07T09:10:11.778Z"
   },
   {
    "duration": 4,
    "start_time": "2022-02-07T09:11:06.717Z"
   },
   {
    "duration": 508,
    "start_time": "2022-02-07T09:11:23.198Z"
   },
   {
    "duration": 339,
    "start_time": "2022-02-07T09:11:44.442Z"
   },
   {
    "duration": 112,
    "start_time": "2022-02-07T09:17:59.994Z"
   },
   {
    "duration": 6,
    "start_time": "2022-02-07T09:18:32.231Z"
   },
   {
    "duration": 4,
    "start_time": "2022-02-07T09:18:41.539Z"
   },
   {
    "duration": 4,
    "start_time": "2022-02-07T09:22:04.218Z"
   },
   {
    "duration": 10,
    "start_time": "2022-02-07T09:22:43.202Z"
   },
   {
    "duration": 4,
    "start_time": "2022-02-07T09:22:53.147Z"
   },
   {
    "duration": 5,
    "start_time": "2022-02-07T09:24:34.900Z"
   },
   {
    "duration": 1170,
    "start_time": "2022-02-07T09:24:36.914Z"
   },
   {
    "duration": 5,
    "start_time": "2022-02-07T09:25:23.666Z"
   },
   {
    "duration": 1161,
    "start_time": "2022-02-07T09:25:25.607Z"
   },
   {
    "duration": 6,
    "start_time": "2022-02-07T09:26:25.180Z"
   },
   {
    "duration": 1147,
    "start_time": "2022-02-07T09:26:26.363Z"
   },
   {
    "duration": 6,
    "start_time": "2022-02-07T09:26:46.732Z"
   },
   {
    "duration": 1063,
    "start_time": "2022-02-07T09:26:48.763Z"
   },
   {
    "duration": 5,
    "start_time": "2022-02-07T09:26:55.944Z"
   },
   {
    "duration": 1091,
    "start_time": "2022-02-07T09:26:58.997Z"
   },
   {
    "duration": 5,
    "start_time": "2022-02-07T09:27:02.494Z"
   },
   {
    "duration": 1045,
    "start_time": "2022-02-07T09:27:03.949Z"
   },
   {
    "duration": 4,
    "start_time": "2022-02-07T09:30:12.232Z"
   },
   {
    "duration": 334,
    "start_time": "2022-02-07T09:30:17.773Z"
   },
   {
    "duration": 452,
    "start_time": "2022-02-07T09:30:25.212Z"
   },
   {
    "duration": 4,
    "start_time": "2022-02-07T09:31:42.717Z"
   },
   {
    "duration": 4,
    "start_time": "2022-02-07T09:31:52.287Z"
   },
   {
    "duration": 532,
    "start_time": "2022-02-07T09:31:53.551Z"
   },
   {
    "duration": 5,
    "start_time": "2022-02-07T09:32:02.330Z"
   },
   {
    "duration": 495,
    "start_time": "2022-02-07T09:32:05.137Z"
   },
   {
    "duration": 4,
    "start_time": "2022-02-07T09:32:15.201Z"
   },
   {
    "duration": 429,
    "start_time": "2022-02-07T09:32:16.582Z"
   },
   {
    "duration": 5,
    "start_time": "2022-02-07T09:32:28.153Z"
   },
   {
    "duration": 416,
    "start_time": "2022-02-07T09:32:29.325Z"
   },
   {
    "duration": 3,
    "start_time": "2022-02-07T09:33:44.992Z"
   },
   {
    "duration": 276,
    "start_time": "2022-02-07T09:33:46.499Z"
   },
   {
    "duration": 4,
    "start_time": "2022-02-07T09:34:06.424Z"
   },
   {
    "duration": 274,
    "start_time": "2022-02-07T09:34:07.523Z"
   },
   {
    "duration": 4,
    "start_time": "2022-02-07T09:34:19.654Z"
   },
   {
    "duration": 4,
    "start_time": "2022-02-07T09:43:06.057Z"
   },
   {
    "duration": 273,
    "start_time": "2022-02-07T09:43:07.233Z"
   },
   {
    "duration": 278,
    "start_time": "2022-02-07T09:43:10.443Z"
   },
   {
    "duration": 282,
    "start_time": "2022-02-07T09:43:18.544Z"
   },
   {
    "duration": 278,
    "start_time": "2022-02-07T09:43:25.134Z"
   },
   {
    "duration": 361,
    "start_time": "2022-02-07T09:43:44.015Z"
   },
   {
    "duration": 3,
    "start_time": "2022-02-07T09:44:38.358Z"
   },
   {
    "duration": 4,
    "start_time": "2022-02-07T09:44:55.964Z"
   },
   {
    "duration": 497,
    "start_time": "2022-02-07T09:45:01.372Z"
   },
   {
    "duration": 344,
    "start_time": "2022-02-07T09:45:07.508Z"
   },
   {
    "duration": 9197,
    "start_time": "2022-02-07T09:45:11.365Z"
   },
   {
    "duration": 8373,
    "start_time": "2022-02-07T09:45:49.443Z"
   },
   {
    "duration": 8437,
    "start_time": "2022-02-07T09:46:05.161Z"
   },
   {
    "duration": 355,
    "start_time": "2022-02-07T09:46:37.163Z"
   },
   {
    "duration": 340,
    "start_time": "2022-02-07T09:46:39.778Z"
   },
   {
    "duration": 1130,
    "start_time": "2022-02-07T09:46:50.421Z"
   },
   {
    "duration": 666,
    "start_time": "2022-02-07T09:46:51.552Z"
   },
   {
    "duration": 4,
    "start_time": "2022-02-07T09:46:52.219Z"
   },
   {
    "duration": 983,
    "start_time": "2022-02-07T09:46:52.225Z"
   },
   {
    "duration": 3,
    "start_time": "2022-02-07T09:46:53.210Z"
   },
   {
    "duration": 3,
    "start_time": "2022-02-07T09:46:53.215Z"
   },
   {
    "duration": 5,
    "start_time": "2022-02-07T09:46:53.219Z"
   },
   {
    "duration": 413,
    "start_time": "2022-02-07T09:46:53.227Z"
   },
   {
    "duration": 34,
    "start_time": "2022-02-07T09:46:53.608Z"
   },
   {
    "duration": 33,
    "start_time": "2022-02-07T09:46:53.611Z"
   },
   {
    "duration": 30,
    "start_time": "2022-02-07T09:46:53.614Z"
   },
   {
    "duration": 14,
    "start_time": "2022-02-07T09:46:53.631Z"
   },
   {
    "duration": 12,
    "start_time": "2022-02-07T09:46:53.634Z"
   },
   {
    "duration": 11,
    "start_time": "2022-02-07T09:46:53.636Z"
   },
   {
    "duration": -5,
    "start_time": "2022-02-07T09:46:53.653Z"
   },
   {
    "duration": -6,
    "start_time": "2022-02-07T09:46:53.655Z"
   },
   {
    "duration": -7,
    "start_time": "2022-02-07T09:46:53.657Z"
   },
   {
    "duration": -10,
    "start_time": "2022-02-07T09:46:53.661Z"
   },
   {
    "duration": -22,
    "start_time": "2022-02-07T09:46:53.674Z"
   },
   {
    "duration": -26,
    "start_time": "2022-02-07T09:46:53.678Z"
   },
   {
    "duration": -34,
    "start_time": "2022-02-07T09:46:53.687Z"
   },
   {
    "duration": -35,
    "start_time": "2022-02-07T09:46:53.689Z"
   },
   {
    "duration": 4,
    "start_time": "2022-02-07T09:47:02.915Z"
   },
   {
    "duration": 4,
    "start_time": "2022-02-07T09:47:04.952Z"
   },
   {
    "duration": 1128,
    "start_time": "2022-02-07T09:47:27.417Z"
   },
   {
    "duration": 646,
    "start_time": "2022-02-07T09:47:28.547Z"
   },
   {
    "duration": 4,
    "start_time": "2022-02-07T09:47:29.196Z"
   },
   {
    "duration": 900,
    "start_time": "2022-02-07T09:47:29.202Z"
   },
   {
    "duration": 5,
    "start_time": "2022-02-07T09:47:30.103Z"
   },
   {
    "duration": 29,
    "start_time": "2022-02-07T09:47:30.110Z"
   },
   {
    "duration": 22,
    "start_time": "2022-02-07T09:47:30.142Z"
   },
   {
    "duration": 27,
    "start_time": "2022-02-07T09:47:30.166Z"
   },
   {
    "duration": 28,
    "start_time": "2022-02-07T09:47:30.196Z"
   },
   {
    "duration": 31,
    "start_time": "2022-02-07T09:47:30.226Z"
   },
   {
    "duration": 25,
    "start_time": "2022-02-07T09:47:30.259Z"
   },
   {
    "duration": 33,
    "start_time": "2022-02-07T09:47:30.286Z"
   },
   {
    "duration": 20,
    "start_time": "2022-02-07T09:47:30.321Z"
   },
   {
    "duration": 26,
    "start_time": "2022-02-07T09:47:30.342Z"
   },
   {
    "duration": 1073,
    "start_time": "2022-02-07T09:47:30.370Z"
   },
   {
    "duration": 4,
    "start_time": "2022-02-07T09:47:31.444Z"
   },
   {
    "duration": 358,
    "start_time": "2022-02-07T09:47:31.449Z"
   },
   {
    "duration": 3,
    "start_time": "2022-02-07T09:47:31.809Z"
   },
   {
    "duration": 26,
    "start_time": "2022-02-07T09:47:31.813Z"
   },
   {
    "duration": 8742,
    "start_time": "2022-02-07T09:47:31.840Z"
   },
   {
    "duration": -1,
    "start_time": "2022-02-07T09:47:40.584Z"
   },
   {
    "duration": -2,
    "start_time": "2022-02-07T09:47:40.586Z"
   },
   {
    "duration": 879,
    "start_time": "2022-02-07T09:48:33.976Z"
   },
   {
    "duration": 1114,
    "start_time": "2022-02-07T09:50:14.527Z"
   },
   {
    "duration": 640,
    "start_time": "2022-02-07T09:50:15.643Z"
   },
   {
    "duration": 3,
    "start_time": "2022-02-07T09:50:16.287Z"
   },
   {
    "duration": 888,
    "start_time": "2022-02-07T09:50:16.292Z"
   },
   {
    "duration": 3,
    "start_time": "2022-02-07T09:50:17.182Z"
   },
   {
    "duration": 5,
    "start_time": "2022-02-07T09:50:17.187Z"
   },
   {
    "duration": 8,
    "start_time": "2022-02-07T09:50:17.193Z"
   },
   {
    "duration": 4,
    "start_time": "2022-02-07T09:50:17.203Z"
   },
   {
    "duration": 4,
    "start_time": "2022-02-07T09:50:17.209Z"
   },
   {
    "duration": 8,
    "start_time": "2022-02-07T09:50:17.214Z"
   },
   {
    "duration": 8,
    "start_time": "2022-02-07T09:50:17.223Z"
   },
   {
    "duration": 41,
    "start_time": "2022-02-07T09:50:17.232Z"
   },
   {
    "duration": 3,
    "start_time": "2022-02-07T09:50:17.275Z"
   },
   {
    "duration": 5,
    "start_time": "2022-02-07T09:50:17.279Z"
   },
   {
    "duration": 1018,
    "start_time": "2022-02-07T09:50:17.286Z"
   },
   {
    "duration": 3,
    "start_time": "2022-02-07T09:50:18.306Z"
   },
   {
    "duration": 436,
    "start_time": "2022-02-07T09:50:18.311Z"
   },
   {
    "duration": 4,
    "start_time": "2022-02-07T09:50:18.748Z"
   },
   {
    "duration": 8,
    "start_time": "2022-02-07T09:50:18.753Z"
   },
   {
    "duration": 415,
    "start_time": "2022-02-07T09:50:18.762Z"
   },
   {
    "duration": 23,
    "start_time": "2022-02-07T09:50:19.155Z"
   },
   {
    "duration": 4,
    "start_time": "2022-02-07T09:50:23.449Z"
   },
   {
    "duration": 8244,
    "start_time": "2022-02-07T09:51:01.891Z"
   },
   {
    "duration": 1146,
    "start_time": "2022-02-07T09:53:19.393Z"
   },
   {
    "duration": 653,
    "start_time": "2022-02-07T09:53:20.541Z"
   },
   {
    "duration": 4,
    "start_time": "2022-02-07T09:53:21.196Z"
   },
   {
    "duration": 914,
    "start_time": "2022-02-07T09:53:21.201Z"
   },
   {
    "duration": 3,
    "start_time": "2022-02-07T09:53:22.117Z"
   },
   {
    "duration": 3,
    "start_time": "2022-02-07T09:53:22.122Z"
   },
   {
    "duration": 8,
    "start_time": "2022-02-07T09:53:22.127Z"
   },
   {
    "duration": 4,
    "start_time": "2022-02-07T09:53:22.137Z"
   },
   {
    "duration": 6,
    "start_time": "2022-02-07T09:53:22.143Z"
   },
   {
    "duration": 3,
    "start_time": "2022-02-07T09:53:22.172Z"
   },
   {
    "duration": 4,
    "start_time": "2022-02-07T09:53:22.177Z"
   },
   {
    "duration": 22,
    "start_time": "2022-02-07T09:53:22.182Z"
   },
   {
    "duration": 2,
    "start_time": "2022-02-07T09:53:22.206Z"
   },
   {
    "duration": 9,
    "start_time": "2022-02-07T09:53:22.209Z"
   },
   {
    "duration": 8,
    "start_time": "2022-02-07T09:53:22.219Z"
   },
   {
    "duration": 10,
    "start_time": "2022-02-07T09:53:22.228Z"
   },
   {
    "duration": 8,
    "start_time": "2022-02-07T09:53:22.239Z"
   },
   {
    "duration": 1394,
    "start_time": "2022-02-07T09:53:22.248Z"
   },
   {
    "duration": 3,
    "start_time": "2022-02-07T09:53:23.644Z"
   },
   {
    "duration": 360,
    "start_time": "2022-02-07T09:53:23.649Z"
   },
   {
    "duration": 3,
    "start_time": "2022-02-07T09:53:24.011Z"
   },
   {
    "duration": 5,
    "start_time": "2022-02-07T09:53:24.015Z"
   },
   {
    "duration": 6,
    "start_time": "2022-02-07T09:53:24.022Z"
   },
   {
    "duration": 388,
    "start_time": "2022-02-07T09:53:24.030Z"
   },
   {
    "duration": 848,
    "start_time": "2022-02-07T09:53:24.420Z"
   },
   {
    "duration": 1079,
    "start_time": "2022-02-07T09:56:32.870Z"
   },
   {
    "duration": 665,
    "start_time": "2022-02-07T09:56:33.950Z"
   },
   {
    "duration": 53,
    "start_time": "2022-02-07T09:56:34.618Z"
   },
   {
    "duration": 1059,
    "start_time": "2022-02-07T09:56:34.673Z"
   },
   {
    "duration": 3,
    "start_time": "2022-02-07T09:56:35.734Z"
   },
   {
    "duration": 7,
    "start_time": "2022-02-07T09:56:35.738Z"
   },
   {
    "duration": 14,
    "start_time": "2022-02-07T09:56:35.746Z"
   },
   {
    "duration": 4,
    "start_time": "2022-02-07T09:56:35.771Z"
   },
   {
    "duration": 5,
    "start_time": "2022-02-07T09:56:35.778Z"
   },
   {
    "duration": 4,
    "start_time": "2022-02-07T09:56:35.785Z"
   },
   {
    "duration": 5,
    "start_time": "2022-02-07T09:56:35.791Z"
   },
   {
    "duration": 22,
    "start_time": "2022-02-07T09:56:35.798Z"
   },
   {
    "duration": 2,
    "start_time": "2022-02-07T09:56:35.822Z"
   },
   {
    "duration": 7,
    "start_time": "2022-02-07T09:56:35.826Z"
   },
   {
    "duration": 9,
    "start_time": "2022-02-07T09:56:35.834Z"
   },
   {
    "duration": 26,
    "start_time": "2022-02-07T09:56:35.845Z"
   },
   {
    "duration": 5,
    "start_time": "2022-02-07T09:56:35.873Z"
   },
   {
    "duration": 1052,
    "start_time": "2022-02-07T09:56:35.880Z"
   },
   {
    "duration": 3,
    "start_time": "2022-02-07T09:56:36.934Z"
   },
   {
    "duration": 354,
    "start_time": "2022-02-07T09:56:36.939Z"
   },
   {
    "duration": 3,
    "start_time": "2022-02-07T09:56:37.294Z"
   },
   {
    "duration": 6,
    "start_time": "2022-02-07T09:56:37.299Z"
   },
   {
    "duration": 4,
    "start_time": "2022-02-07T09:56:37.307Z"
   },
   {
    "duration": 392,
    "start_time": "2022-02-07T09:56:37.313Z"
   },
   {
    "duration": 1204,
    "start_time": "2022-02-07T09:59:18.058Z"
   },
   {
    "duration": 670,
    "start_time": "2022-02-07T09:59:19.264Z"
   },
   {
    "duration": 4,
    "start_time": "2022-02-07T09:59:19.936Z"
   },
   {
    "duration": 908,
    "start_time": "2022-02-07T09:59:19.942Z"
   },
   {
    "duration": 3,
    "start_time": "2022-02-07T09:59:20.852Z"
   },
   {
    "duration": 3,
    "start_time": "2022-02-07T09:59:20.872Z"
   },
   {
    "duration": 18,
    "start_time": "2022-02-07T09:59:20.876Z"
   },
   {
    "duration": 5,
    "start_time": "2022-02-07T09:59:20.897Z"
   },
   {
    "duration": 4,
    "start_time": "2022-02-07T09:59:20.904Z"
   },
   {
    "duration": 6,
    "start_time": "2022-02-07T09:59:20.909Z"
   },
   {
    "duration": 4,
    "start_time": "2022-02-07T09:59:20.916Z"
   },
   {
    "duration": 7,
    "start_time": "2022-02-07T09:59:20.921Z"
   },
   {
    "duration": 13,
    "start_time": "2022-02-07T09:59:20.929Z"
   },
   {
    "duration": 8,
    "start_time": "2022-02-07T09:59:20.943Z"
   },
   {
    "duration": 116,
    "start_time": "2022-02-07T09:59:20.953Z"
   },
   {
    "duration": 48,
    "start_time": "2022-02-07T09:59:21.023Z"
   },
   {
    "duration": 36,
    "start_time": "2022-02-07T09:59:21.036Z"
   },
   {
    "duration": 34,
    "start_time": "2022-02-07T09:59:21.039Z"
   },
   {
    "duration": 33,
    "start_time": "2022-02-07T09:59:21.042Z"
   },
   {
    "duration": 32,
    "start_time": "2022-02-07T09:59:21.044Z"
   },
   {
    "duration": 31,
    "start_time": "2022-02-07T09:59:21.046Z"
   },
   {
    "duration": 24,
    "start_time": "2022-02-07T09:59:21.054Z"
   },
   {
    "duration": 22,
    "start_time": "2022-02-07T09:59:21.057Z"
   },
   {
    "duration": 22,
    "start_time": "2022-02-07T09:59:21.058Z"
   },
   {
    "duration": 11,
    "start_time": "2022-02-07T09:59:30.688Z"
   },
   {
    "duration": 3,
    "start_time": "2022-02-07T09:59:32.148Z"
   },
   {
    "duration": 4,
    "start_time": "2022-02-07T10:00:35.444Z"
   },
   {
    "duration": 4,
    "start_time": "2022-02-07T10:00:36.718Z"
   },
   {
    "duration": 5,
    "start_time": "2022-02-07T10:00:38.995Z"
   },
   {
    "duration": 9204,
    "start_time": "2022-02-07T10:00:41.568Z"
   },
   {
    "duration": 374,
    "start_time": "2022-02-07T10:01:17.689Z"
   },
   {
    "duration": 5,
    "start_time": "2022-02-07T10:01:19.017Z"
   },
   {
    "duration": 7,
    "start_time": "2022-02-07T10:01:20.459Z"
   },
   {
    "duration": 4,
    "start_time": "2022-02-07T10:01:21.751Z"
   },
   {
    "duration": 378,
    "start_time": "2022-02-07T10:01:24.149Z"
   },
   {
    "duration": 5,
    "start_time": "2022-02-07T10:01:45.165Z"
   },
   {
    "duration": 307,
    "start_time": "2022-02-07T10:01:47.154Z"
   },
   {
    "duration": 450,
    "start_time": "2022-02-07T10:02:00.586Z"
   },
   {
    "duration": 1154,
    "start_time": "2022-02-07T10:56:25.095Z"
   },
   {
    "duration": 707,
    "start_time": "2022-02-07T10:56:26.251Z"
   },
   {
    "duration": 12,
    "start_time": "2022-02-07T10:56:26.962Z"
   },
   {
    "duration": 1082,
    "start_time": "2022-02-07T10:56:26.975Z"
   },
   {
    "duration": 4,
    "start_time": "2022-02-07T10:56:28.071Z"
   },
   {
    "duration": 6,
    "start_time": "2022-02-07T10:56:28.076Z"
   },
   {
    "duration": 13,
    "start_time": "2022-02-07T10:56:28.084Z"
   },
   {
    "duration": 5,
    "start_time": "2022-02-07T10:56:28.098Z"
   },
   {
    "duration": 4,
    "start_time": "2022-02-07T10:56:28.104Z"
   },
   {
    "duration": 7,
    "start_time": "2022-02-07T10:56:28.109Z"
   },
   {
    "duration": 8,
    "start_time": "2022-02-07T10:56:28.117Z"
   },
   {
    "duration": 21,
    "start_time": "2022-02-07T10:56:28.126Z"
   },
   {
    "duration": 2,
    "start_time": "2022-02-07T10:56:28.148Z"
   },
   {
    "duration": 19,
    "start_time": "2022-02-07T10:56:28.152Z"
   },
   {
    "duration": 6,
    "start_time": "2022-02-07T10:56:28.173Z"
   },
   {
    "duration": 9,
    "start_time": "2022-02-07T10:56:28.180Z"
   },
   {
    "duration": 8,
    "start_time": "2022-02-07T10:56:28.191Z"
   },
   {
    "duration": 1057,
    "start_time": "2022-02-07T10:56:28.201Z"
   },
   {
    "duration": 11,
    "start_time": "2022-02-07T10:56:29.260Z"
   },
   {
    "duration": 340,
    "start_time": "2022-02-07T10:56:29.273Z"
   },
   {
    "duration": 275,
    "start_time": "2022-02-07T10:56:29.614Z"
   },
   {
    "duration": 3,
    "start_time": "2022-02-07T10:56:29.892Z"
   },
   {
    "duration": 6,
    "start_time": "2022-02-07T10:56:29.897Z"
   },
   {
    "duration": 10,
    "start_time": "2022-02-07T10:56:29.905Z"
   },
   {
    "duration": 393,
    "start_time": "2022-02-07T10:56:29.917Z"
   },
   {
    "duration": 4,
    "start_time": "2022-02-07T10:56:30.312Z"
   },
   {
    "duration": 443,
    "start_time": "2022-02-07T10:56:30.318Z"
   },
   {
    "duration": 977,
    "start_time": "2022-02-07T10:57:59.971Z"
   },
   {
    "duration": 5,
    "start_time": "2022-02-07T10:58:13.242Z"
   },
   {
    "duration": 5,
    "start_time": "2022-02-07T10:58:26.688Z"
   },
   {
    "duration": 4,
    "start_time": "2022-02-07T10:58:50.592Z"
   },
   {
    "duration": 5,
    "start_time": "2022-02-07T11:00:31.830Z"
   },
   {
    "duration": 364,
    "start_time": "2022-02-07T11:00:53.993Z"
   },
   {
    "duration": 359,
    "start_time": "2022-02-07T11:05:56.134Z"
   },
   {
    "duration": 384,
    "start_time": "2022-02-07T11:06:01.018Z"
   },
   {
    "duration": 441,
    "start_time": "2022-02-07T11:06:13.981Z"
   },
   {
    "duration": 1193,
    "start_time": "2022-02-07T11:08:41.141Z"
   },
   {
    "duration": 656,
    "start_time": "2022-02-07T11:08:42.336Z"
   },
   {
    "duration": 4,
    "start_time": "2022-02-07T11:08:42.994Z"
   },
   {
    "duration": 911,
    "start_time": "2022-02-07T11:08:43.000Z"
   },
   {
    "duration": 4,
    "start_time": "2022-02-07T11:08:43.913Z"
   },
   {
    "duration": 11,
    "start_time": "2022-02-07T11:08:43.918Z"
   },
   {
    "duration": 21,
    "start_time": "2022-02-07T11:08:43.931Z"
   },
   {
    "duration": 7,
    "start_time": "2022-02-07T11:08:43.955Z"
   },
   {
    "duration": 26,
    "start_time": "2022-02-07T11:08:43.964Z"
   },
   {
    "duration": 23,
    "start_time": "2022-02-07T11:08:43.992Z"
   },
   {
    "duration": 14,
    "start_time": "2022-02-07T11:08:44.017Z"
   },
   {
    "duration": 18,
    "start_time": "2022-02-07T11:08:44.032Z"
   },
   {
    "duration": 27,
    "start_time": "2022-02-07T11:08:44.051Z"
   },
   {
    "duration": 15,
    "start_time": "2022-02-07T11:08:44.079Z"
   },
   {
    "duration": 21,
    "start_time": "2022-02-07T11:08:44.096Z"
   },
   {
    "duration": 109,
    "start_time": "2022-02-07T11:08:44.119Z"
   },
   {
    "duration": 100,
    "start_time": "2022-02-07T11:08:44.130Z"
   },
   {
    "duration": 98,
    "start_time": "2022-02-07T11:08:44.133Z"
   },
   {
    "duration": 96,
    "start_time": "2022-02-07T11:08:44.136Z"
   },
   {
    "duration": 95,
    "start_time": "2022-02-07T11:08:44.138Z"
   },
   {
    "duration": 94,
    "start_time": "2022-02-07T11:08:44.140Z"
   },
   {
    "duration": 75,
    "start_time": "2022-02-07T11:08:44.160Z"
   },
   {
    "duration": 73,
    "start_time": "2022-02-07T11:08:44.163Z"
   },
   {
    "duration": 72,
    "start_time": "2022-02-07T11:08:44.166Z"
   },
   {
    "duration": 69,
    "start_time": "2022-02-07T11:08:44.170Z"
   },
   {
    "duration": 68,
    "start_time": "2022-02-07T11:08:44.172Z"
   },
   {
    "duration": 66,
    "start_time": "2022-02-07T11:08:44.175Z"
   },
   {
    "duration": 64,
    "start_time": "2022-02-07T11:08:44.178Z"
   },
   {
    "duration": 12,
    "start_time": "2022-02-07T11:09:05.987Z"
   },
   {
    "duration": 11,
    "start_time": "2022-02-07T11:09:08.151Z"
   },
   {
    "duration": 4,
    "start_time": "2022-02-07T11:09:08.733Z"
   },
   {
    "duration": 5,
    "start_time": "2022-02-07T11:09:11.412Z"
   },
   {
    "duration": 1038,
    "start_time": "2022-02-07T11:09:11.581Z"
   },
   {
    "duration": 4,
    "start_time": "2022-02-07T11:09:12.621Z"
   },
   {
    "duration": 387,
    "start_time": "2022-02-07T11:09:12.627Z"
   },
   {
    "duration": 244,
    "start_time": "2022-02-07T11:09:13.016Z"
   },
   {
    "duration": 3,
    "start_time": "2022-02-07T11:09:13.262Z"
   },
   {
    "duration": 7,
    "start_time": "2022-02-07T11:09:13.267Z"
   },
   {
    "duration": 8,
    "start_time": "2022-02-07T11:09:13.275Z"
   },
   {
    "duration": 361,
    "start_time": "2022-02-07T11:09:13.383Z"
   },
   {
    "duration": 5,
    "start_time": "2022-02-07T11:09:13.746Z"
   },
   {
    "duration": 444,
    "start_time": "2022-02-07T11:09:13.753Z"
   },
   {
    "duration": 1209,
    "start_time": "2022-02-07T11:09:28.850Z"
   },
   {
    "duration": 669,
    "start_time": "2022-02-07T11:09:30.061Z"
   },
   {
    "duration": 5,
    "start_time": "2022-02-07T11:09:30.733Z"
   },
   {
    "duration": 890,
    "start_time": "2022-02-07T11:09:30.740Z"
   },
   {
    "duration": 3,
    "start_time": "2022-02-07T11:09:31.631Z"
   },
   {
    "duration": 6,
    "start_time": "2022-02-07T11:09:31.636Z"
   },
   {
    "duration": 9,
    "start_time": "2022-02-07T11:09:31.643Z"
   },
   {
    "duration": 4,
    "start_time": "2022-02-07T11:09:31.654Z"
   },
   {
    "duration": 4,
    "start_time": "2022-02-07T11:09:31.672Z"
   },
   {
    "duration": 5,
    "start_time": "2022-02-07T11:09:31.677Z"
   },
   {
    "duration": 7,
    "start_time": "2022-02-07T11:09:31.683Z"
   },
   {
    "duration": 6,
    "start_time": "2022-02-07T11:09:31.692Z"
   },
   {
    "duration": 9,
    "start_time": "2022-02-07T11:09:31.700Z"
   },
   {
    "duration": 11,
    "start_time": "2022-02-07T11:09:31.710Z"
   },
   {
    "duration": 8,
    "start_time": "2022-02-07T11:09:31.723Z"
   },
   {
    "duration": 15,
    "start_time": "2022-02-07T11:09:31.732Z"
   },
   {
    "duration": 3,
    "start_time": "2022-02-07T11:09:31.749Z"
   },
   {
    "duration": 22,
    "start_time": "2022-02-07T11:09:31.753Z"
   },
   {
    "duration": 1042,
    "start_time": "2022-02-07T11:09:31.776Z"
   },
   {
    "duration": 4,
    "start_time": "2022-02-07T11:09:32.819Z"
   },
   {
    "duration": 356,
    "start_time": "2022-02-07T11:09:32.824Z"
   },
   {
    "duration": 3,
    "start_time": "2022-02-07T11:09:33.181Z"
   },
   {
    "duration": 5,
    "start_time": "2022-02-07T11:09:33.187Z"
   },
   {
    "duration": 373,
    "start_time": "2022-02-07T11:09:33.193Z"
   },
   {
    "duration": 5,
    "start_time": "2022-02-07T11:09:33.567Z"
   },
   {
    "duration": 448,
    "start_time": "2022-02-07T11:09:33.573Z"
   },
   {
    "duration": 4,
    "start_time": "2022-02-07T13:10:44.202Z"
   },
   {
    "duration": 3,
    "start_time": "2022-02-07T13:10:45.655Z"
   },
   {
    "duration": 112,
    "start_time": "2022-02-07T13:11:50.651Z"
   },
   {
    "duration": 104,
    "start_time": "2022-02-07T13:12:06.429Z"
   },
   {
    "duration": 5,
    "start_time": "2022-02-07T13:13:09.120Z"
   },
   {
    "duration": 3,
    "start_time": "2022-02-07T16:33:16.898Z"
   },
   {
    "duration": 5,
    "start_time": "2022-02-07T16:36:20.761Z"
   },
   {
    "duration": 3,
    "start_time": "2022-02-07T16:36:37.642Z"
   },
   {
    "duration": 3,
    "start_time": "2022-02-07T16:36:48.365Z"
   },
   {
    "duration": 1184,
    "start_time": "2022-02-07T16:37:03.380Z"
   },
   {
    "duration": 715,
    "start_time": "2022-02-07T16:37:04.566Z"
   },
   {
    "duration": 4,
    "start_time": "2022-02-07T16:37:05.284Z"
   },
   {
    "duration": 925,
    "start_time": "2022-02-07T16:37:05.291Z"
   },
   {
    "duration": 4,
    "start_time": "2022-02-07T16:37:06.217Z"
   },
   {
    "duration": 9,
    "start_time": "2022-02-07T16:37:06.223Z"
   },
   {
    "duration": 7,
    "start_time": "2022-02-07T16:37:06.234Z"
   },
   {
    "duration": 9,
    "start_time": "2022-02-07T16:37:06.243Z"
   },
   {
    "duration": 5,
    "start_time": "2022-02-07T16:37:06.253Z"
   },
   {
    "duration": 15,
    "start_time": "2022-02-07T16:37:06.260Z"
   },
   {
    "duration": 6,
    "start_time": "2022-02-07T16:37:06.277Z"
   },
   {
    "duration": 14,
    "start_time": "2022-02-07T16:37:06.284Z"
   },
   {
    "duration": 8,
    "start_time": "2022-02-07T16:37:06.299Z"
   },
   {
    "duration": 9,
    "start_time": "2022-02-07T16:37:06.308Z"
   },
   {
    "duration": 16,
    "start_time": "2022-02-07T16:37:06.318Z"
   },
   {
    "duration": 13,
    "start_time": "2022-02-07T16:37:06.336Z"
   },
   {
    "duration": 22,
    "start_time": "2022-02-07T16:37:06.351Z"
   },
   {
    "duration": 4,
    "start_time": "2022-02-07T16:37:06.375Z"
   },
   {
    "duration": 8,
    "start_time": "2022-02-07T16:37:06.381Z"
   },
   {
    "duration": 1848,
    "start_time": "2022-02-07T16:37:06.391Z"
   },
   {
    "duration": 3,
    "start_time": "2022-02-07T16:37:08.241Z"
   },
   {
    "duration": 479,
    "start_time": "2022-02-07T16:37:08.245Z"
   },
   {
    "duration": 4,
    "start_time": "2022-02-07T16:37:08.727Z"
   },
   {
    "duration": 8,
    "start_time": "2022-02-07T16:37:08.732Z"
   },
   {
    "duration": 418,
    "start_time": "2022-02-07T16:37:08.741Z"
   },
   {
    "duration": 16,
    "start_time": "2022-02-07T16:37:09.160Z"
   },
   {
    "duration": 459,
    "start_time": "2022-02-07T16:37:09.184Z"
   },
   {
    "duration": 3,
    "start_time": "2022-02-07T16:37:09.645Z"
   },
   {
    "duration": 6,
    "start_time": "2022-02-07T16:37:09.649Z"
   },
   {
    "duration": 22,
    "start_time": "2022-02-07T16:37:09.657Z"
   },
   {
    "duration": 438,
    "start_time": "2022-02-07T16:37:09.683Z"
   },
   {
    "duration": 373,
    "start_time": "2022-02-07T16:39:06.031Z"
   },
   {
    "duration": 926,
    "start_time": "2022-02-07T16:40:15.984Z"
   },
   {
    "duration": 3,
    "start_time": "2022-02-07T16:40:26.113Z"
   },
   {
    "duration": 2,
    "start_time": "2022-02-07T16:40:29.492Z"
   },
   {
    "duration": 330,
    "start_time": "2022-02-07T16:40:42.093Z"
   },
   {
    "duration": 1213,
    "start_time": "2022-02-07T16:40:48.775Z"
   },
   {
    "duration": 694,
    "start_time": "2022-02-07T16:40:49.990Z"
   },
   {
    "duration": 4,
    "start_time": "2022-02-07T16:40:50.686Z"
   },
   {
    "duration": 1016,
    "start_time": "2022-02-07T16:40:50.691Z"
   },
   {
    "duration": 4,
    "start_time": "2022-02-07T16:40:51.708Z"
   },
   {
    "duration": 5,
    "start_time": "2022-02-07T16:40:51.713Z"
   },
   {
    "duration": 5,
    "start_time": "2022-02-07T16:40:51.719Z"
   },
   {
    "duration": 7,
    "start_time": "2022-02-07T16:40:51.726Z"
   },
   {
    "duration": 4,
    "start_time": "2022-02-07T16:40:51.735Z"
   },
   {
    "duration": 31,
    "start_time": "2022-02-07T16:40:51.740Z"
   },
   {
    "duration": 3,
    "start_time": "2022-02-07T16:40:51.773Z"
   },
   {
    "duration": 5,
    "start_time": "2022-02-07T16:40:51.777Z"
   },
   {
    "duration": 11,
    "start_time": "2022-02-07T16:40:51.784Z"
   },
   {
    "duration": 19,
    "start_time": "2022-02-07T16:40:51.796Z"
   },
   {
    "duration": 3,
    "start_time": "2022-02-07T16:40:51.817Z"
   },
   {
    "duration": 8,
    "start_time": "2022-02-07T16:40:51.822Z"
   },
   {
    "duration": 1151,
    "start_time": "2022-02-07T16:40:51.832Z"
   },
   {
    "duration": 3,
    "start_time": "2022-02-07T16:40:52.985Z"
   },
   {
    "duration": 351,
    "start_time": "2022-02-07T16:40:52.990Z"
   },
   {
    "duration": 4,
    "start_time": "2022-02-07T16:40:53.343Z"
   },
   {
    "duration": 5,
    "start_time": "2022-02-07T16:40:53.348Z"
   },
   {
    "duration": 390,
    "start_time": "2022-02-07T16:40:53.354Z"
   },
   {
    "duration": 4,
    "start_time": "2022-02-07T16:40:53.747Z"
   },
   {
    "duration": 456,
    "start_time": "2022-02-07T16:40:53.753Z"
   },
   {
    "duration": 4,
    "start_time": "2022-02-07T16:40:54.210Z"
   },
   {
    "duration": 6,
    "start_time": "2022-02-07T16:40:54.215Z"
   },
   {
    "duration": 5,
    "start_time": "2022-02-07T16:40:54.223Z"
   },
   {
    "duration": 426,
    "start_time": "2022-02-07T16:40:54.229Z"
   },
   {
    "duration": 3,
    "start_time": "2022-02-07T16:41:34.318Z"
   },
   {
    "duration": 339,
    "start_time": "2022-02-07T16:42:26.578Z"
   },
   {
    "duration": 322,
    "start_time": "2022-02-07T16:42:36.588Z"
   },
   {
    "duration": 319,
    "start_time": "2022-02-07T16:42:40.998Z"
   },
   {
    "duration": 343,
    "start_time": "2022-02-07T16:42:45.539Z"
   },
   {
    "duration": 7,
    "start_time": "2022-02-07T16:42:50.598Z"
   },
   {
    "duration": 352,
    "start_time": "2022-02-07T16:43:17.626Z"
   },
   {
    "duration": 337,
    "start_time": "2022-02-07T16:43:21.236Z"
   },
   {
    "duration": 325,
    "start_time": "2022-02-07T16:43:25.237Z"
   },
   {
    "duration": 8,
    "start_time": "2022-02-07T16:43:31.095Z"
   },
   {
    "duration": 2070,
    "start_time": "2022-02-07T16:43:47.982Z"
   },
   {
    "duration": 7,
    "start_time": "2022-02-07T16:43:50.644Z"
   },
   {
    "duration": 1147,
    "start_time": "2022-02-07T16:44:27.511Z"
   },
   {
    "duration": 657,
    "start_time": "2022-02-07T16:44:28.660Z"
   },
   {
    "duration": 5,
    "start_time": "2022-02-07T16:44:29.319Z"
   },
   {
    "duration": 1187,
    "start_time": "2022-02-07T16:44:29.326Z"
   },
   {
    "duration": 4,
    "start_time": "2022-02-07T16:44:30.514Z"
   },
   {
    "duration": 17,
    "start_time": "2022-02-07T16:44:30.520Z"
   },
   {
    "duration": 10,
    "start_time": "2022-02-07T16:44:30.538Z"
   },
   {
    "duration": 11,
    "start_time": "2022-02-07T16:44:30.550Z"
   },
   {
    "duration": 6,
    "start_time": "2022-02-07T16:44:30.563Z"
   },
   {
    "duration": 10,
    "start_time": "2022-02-07T16:44:30.571Z"
   },
   {
    "duration": 14,
    "start_time": "2022-02-07T16:44:30.582Z"
   },
   {
    "duration": 7,
    "start_time": "2022-02-07T16:44:30.597Z"
   },
   {
    "duration": 25,
    "start_time": "2022-02-07T16:44:30.606Z"
   },
   {
    "duration": 8,
    "start_time": "2022-02-07T16:44:30.633Z"
   },
   {
    "duration": 18,
    "start_time": "2022-02-07T16:44:30.642Z"
   },
   {
    "duration": 14,
    "start_time": "2022-02-07T16:44:30.661Z"
   },
   {
    "duration": 10,
    "start_time": "2022-02-07T16:44:30.677Z"
   },
   {
    "duration": 5,
    "start_time": "2022-02-07T16:44:30.689Z"
   },
   {
    "duration": 1074,
    "start_time": "2022-02-07T16:44:30.695Z"
   },
   {
    "duration": 3,
    "start_time": "2022-02-07T16:44:31.771Z"
   },
   {
    "duration": 356,
    "start_time": "2022-02-07T16:44:31.776Z"
   },
   {
    "duration": 3,
    "start_time": "2022-02-07T16:44:32.134Z"
   },
   {
    "duration": 4,
    "start_time": "2022-02-07T16:44:32.140Z"
   },
   {
    "duration": 400,
    "start_time": "2022-02-07T16:44:32.146Z"
   },
   {
    "duration": 4,
    "start_time": "2022-02-07T16:44:32.548Z"
   },
   {
    "duration": 462,
    "start_time": "2022-02-07T16:44:32.554Z"
   },
   {
    "duration": 4,
    "start_time": "2022-02-07T16:44:33.018Z"
   },
   {
    "duration": 6,
    "start_time": "2022-02-07T16:44:33.024Z"
   },
   {
    "duration": 6,
    "start_time": "2022-02-07T16:44:33.032Z"
   },
   {
    "duration": 400,
    "start_time": "2022-02-07T16:44:33.039Z"
   },
   {
    "duration": 384,
    "start_time": "2022-02-07T16:45:36.942Z"
   },
   {
    "duration": 359,
    "start_time": "2022-02-07T16:45:49.894Z"
   },
   {
    "duration": 10,
    "start_time": "2022-02-07T16:45:53.951Z"
   },
   {
    "duration": 6,
    "start_time": "2022-02-07T16:46:01.604Z"
   },
   {
    "duration": 10,
    "start_time": "2022-02-07T16:46:02.773Z"
   },
   {
    "duration": 1057,
    "start_time": "2022-02-07T16:46:02.982Z"
   },
   {
    "duration": 1041,
    "start_time": "2022-02-07T16:46:07.182Z"
   },
   {
    "duration": 4,
    "start_time": "2022-02-07T16:46:13.092Z"
   },
   {
    "duration": 301,
    "start_time": "2022-02-07T16:46:13.608Z"
   },
   {
    "duration": 4,
    "start_time": "2022-02-07T16:46:17.285Z"
   },
   {
    "duration": 5,
    "start_time": "2022-02-07T16:46:17.514Z"
   },
   {
    "duration": 474,
    "start_time": "2022-02-07T16:46:18.097Z"
   },
   {
    "duration": 5,
    "start_time": "2022-02-07T16:46:27.247Z"
   },
   {
    "duration": 467,
    "start_time": "2022-02-07T16:46:27.795Z"
   },
   {
    "duration": 1148,
    "start_time": "2022-02-07T16:47:12.012Z"
   },
   {
    "duration": 729,
    "start_time": "2022-02-07T16:47:13.162Z"
   },
   {
    "duration": 4,
    "start_time": "2022-02-07T16:47:13.893Z"
   },
   {
    "duration": 939,
    "start_time": "2022-02-07T16:47:13.899Z"
   },
   {
    "duration": 3,
    "start_time": "2022-02-07T16:47:14.840Z"
   },
   {
    "duration": 13,
    "start_time": "2022-02-07T16:47:14.845Z"
   },
   {
    "duration": 13,
    "start_time": "2022-02-07T16:47:14.859Z"
   },
   {
    "duration": 22,
    "start_time": "2022-02-07T16:47:14.874Z"
   },
   {
    "duration": 4,
    "start_time": "2022-02-07T16:47:14.899Z"
   },
   {
    "duration": 4,
    "start_time": "2022-02-07T16:47:14.905Z"
   },
   {
    "duration": 3,
    "start_time": "2022-02-07T16:47:14.911Z"
   },
   {
    "duration": 8,
    "start_time": "2022-02-07T16:47:14.916Z"
   },
   {
    "duration": 13,
    "start_time": "2022-02-07T16:47:14.926Z"
   },
   {
    "duration": 8,
    "start_time": "2022-02-07T16:47:14.940Z"
   },
   {
    "duration": 11,
    "start_time": "2022-02-07T16:47:14.950Z"
   },
   {
    "duration": 23,
    "start_time": "2022-02-07T16:47:14.962Z"
   },
   {
    "duration": 11,
    "start_time": "2022-02-07T16:47:14.986Z"
   },
   {
    "duration": 16,
    "start_time": "2022-02-07T16:47:14.999Z"
   },
   {
    "duration": 4,
    "start_time": "2022-02-07T16:47:15.017Z"
   },
   {
    "duration": 1144,
    "start_time": "2022-02-07T16:47:15.023Z"
   },
   {
    "duration": 5,
    "start_time": "2022-02-07T16:47:16.172Z"
   },
   {
    "duration": 362,
    "start_time": "2022-02-07T16:47:16.179Z"
   },
   {
    "duration": 3,
    "start_time": "2022-02-07T16:47:16.543Z"
   },
   {
    "duration": 19,
    "start_time": "2022-02-07T16:47:16.548Z"
   },
   {
    "duration": 416,
    "start_time": "2022-02-07T16:47:16.569Z"
   },
   {
    "duration": 10,
    "start_time": "2022-02-07T16:47:16.987Z"
   },
   {
    "duration": 17,
    "start_time": "2022-02-07T16:47:17.000Z"
   },
   {
    "duration": 12,
    "start_time": "2022-02-07T16:47:17.019Z"
   },
   {
    "duration": 430,
    "start_time": "2022-02-07T16:47:17.032Z"
   },
   {
    "duration": 6,
    "start_time": "2022-02-07T16:48:39.551Z"
   },
   {
    "duration": 5,
    "start_time": "2022-02-07T16:48:40.249Z"
   },
   {
    "duration": 678,
    "start_time": "2022-02-07T16:48:40.633Z"
   },
   {
    "duration": 7,
    "start_time": "2022-02-07T16:49:41.970Z"
   },
   {
    "duration": 666,
    "start_time": "2022-02-07T16:49:42.752Z"
   },
   {
    "duration": 8,
    "start_time": "2022-02-07T16:51:05.781Z"
   },
   {
    "duration": 932,
    "start_time": "2022-02-07T16:51:06.499Z"
   },
   {
    "duration": 713,
    "start_time": "2022-02-07T16:51:47.249Z"
   },
   {
    "duration": 6,
    "start_time": "2022-02-07T16:51:57.917Z"
   },
   {
    "duration": 469,
    "start_time": "2022-02-07T16:52:00.249Z"
   },
   {
    "duration": 25,
    "start_time": "2022-02-07T16:54:28.471Z"
   },
   {
    "duration": 8,
    "start_time": "2022-02-07T16:54:41.952Z"
   },
   {
    "duration": 11,
    "start_time": "2022-02-07T16:55:50.168Z"
   },
   {
    "duration": 434,
    "start_time": "2022-02-07T16:56:00.255Z"
   },
   {
    "duration": 11,
    "start_time": "2022-02-07T16:56:16.106Z"
   },
   {
    "duration": 22,
    "start_time": "2022-02-07T16:56:38.473Z"
   },
   {
    "duration": 370,
    "start_time": "2022-02-07T16:56:44.130Z"
   },
   {
    "duration": 6,
    "start_time": "2022-02-07T16:57:48.283Z"
   },
   {
    "duration": 27,
    "start_time": "2022-02-07T16:58:00.649Z"
   },
   {
    "duration": 23,
    "start_time": "2022-02-07T16:58:32.093Z"
   },
   {
    "duration": 319,
    "start_time": "2022-02-07T16:59:07.107Z"
   },
   {
    "duration": 363,
    "start_time": "2022-02-07T16:59:14.373Z"
   },
   {
    "duration": 31,
    "start_time": "2022-02-07T16:59:26.260Z"
   },
   {
    "duration": 5,
    "start_time": "2022-02-07T16:59:38.249Z"
   },
   {
    "duration": 62,
    "start_time": "2022-02-07T16:59:39.458Z"
   },
   {
    "duration": 2,
    "start_time": "2022-02-07T17:01:33.690Z"
   },
   {
    "duration": 2,
    "start_time": "2022-02-07T17:01:35.156Z"
   },
   {
    "duration": 6,
    "start_time": "2022-02-07T17:01:36.479Z"
   },
   {
    "duration": 622,
    "start_time": "2022-02-07T17:01:50.130Z"
   },
   {
    "duration": 6,
    "start_time": "2022-02-07T17:02:23.288Z"
   },
   {
    "duration": 12829,
    "start_time": "2022-02-07T17:02:27.690Z"
   },
   {
    "duration": 4,
    "start_time": "2022-02-07T17:02:55.408Z"
   },
   {
    "duration": 35630,
    "start_time": "2022-02-07T17:02:57.166Z"
   },
   {
    "duration": 90018,
    "start_time": "2022-02-07T17:03:32.799Z"
   },
   {
    "duration": 5,
    "start_time": "2022-02-07T17:05:02.818Z"
   },
   {
    "duration": 79066,
    "start_time": "2022-02-07T17:05:02.825Z"
   },
   {
    "duration": 324,
    "start_time": "2022-02-07T17:06:21.569Z"
   },
   {
    "duration": 321,
    "start_time": "2022-02-07T17:06:21.573Z"
   },
   {
    "duration": 319,
    "start_time": "2022-02-07T17:06:21.576Z"
   },
   {
    "duration": 317,
    "start_time": "2022-02-07T17:06:21.579Z"
   },
   {
    "duration": 6,
    "start_time": "2022-02-07T17:06:49.088Z"
   },
   {
    "duration": 78247,
    "start_time": "2022-02-07T17:06:50.486Z"
   },
   {
    "duration": 5,
    "start_time": "2022-02-07T17:08:25.643Z"
   },
   {
    "duration": 50521,
    "start_time": "2022-02-07T17:08:27.043Z"
   },
   {
    "duration": 5,
    "start_time": "2022-02-07T17:09:18.803Z"
   },
   {
    "duration": 259087,
    "start_time": "2022-02-07T17:09:19.941Z"
   },
   {
    "duration": 605972,
    "start_time": "2022-02-07T17:13:53.768Z"
   },
   {
    "duration": 3,
    "start_time": "2022-02-07T17:23:59.742Z"
   },
   {
    "duration": 1037,
    "start_time": "2022-02-07T17:23:59.746Z"
   },
   {
    "duration": 2108,
    "start_time": "2022-02-07T17:24:00.785Z"
   },
   {
    "duration": 4,
    "start_time": "2022-02-08T17:34:13.667Z"
   },
   {
    "duration": 376,
    "start_time": "2022-02-08T17:34:15.214Z"
   },
   {
    "duration": 1205,
    "start_time": "2022-02-08T17:34:19.326Z"
   },
   {
    "duration": 683,
    "start_time": "2022-02-08T17:34:20.533Z"
   },
   {
    "duration": 4,
    "start_time": "2022-02-08T17:34:21.217Z"
   },
   {
    "duration": 1305,
    "start_time": "2022-02-08T17:34:21.223Z"
   },
   {
    "duration": 4,
    "start_time": "2022-02-08T17:34:22.530Z"
   },
   {
    "duration": 8,
    "start_time": "2022-02-08T17:34:22.535Z"
   },
   {
    "duration": 16,
    "start_time": "2022-02-08T17:34:22.545Z"
   },
   {
    "duration": 21,
    "start_time": "2022-02-08T17:34:22.563Z"
   },
   {
    "duration": 17,
    "start_time": "2022-02-08T17:34:22.585Z"
   },
   {
    "duration": 15,
    "start_time": "2022-02-08T17:34:22.603Z"
   },
   {
    "duration": 11,
    "start_time": "2022-02-08T17:34:22.619Z"
   },
   {
    "duration": 19,
    "start_time": "2022-02-08T17:34:22.632Z"
   },
   {
    "duration": 19,
    "start_time": "2022-02-08T17:34:22.652Z"
   },
   {
    "duration": 12,
    "start_time": "2022-02-08T17:34:22.673Z"
   },
   {
    "duration": 15,
    "start_time": "2022-02-08T17:34:22.686Z"
   },
   {
    "duration": 18,
    "start_time": "2022-02-08T17:34:22.702Z"
   },
   {
    "duration": 25,
    "start_time": "2022-02-08T17:34:22.721Z"
   },
   {
    "duration": 19,
    "start_time": "2022-02-08T17:34:22.748Z"
   },
   {
    "duration": 4,
    "start_time": "2022-02-08T17:34:22.769Z"
   },
   {
    "duration": 1127,
    "start_time": "2022-02-08T17:34:22.775Z"
   },
   {
    "duration": 3,
    "start_time": "2022-02-08T17:34:23.904Z"
   },
   {
    "duration": 379,
    "start_time": "2022-02-08T17:34:23.909Z"
   },
   {
    "duration": 4,
    "start_time": "2022-02-08T17:34:24.292Z"
   },
   {
    "duration": 6,
    "start_time": "2022-02-08T17:34:24.298Z"
   },
   {
    "duration": 353,
    "start_time": "2022-02-08T17:34:24.306Z"
   },
   {
    "duration": 5,
    "start_time": "2022-02-08T17:34:24.660Z"
   },
   {
    "duration": 412,
    "start_time": "2022-02-08T17:34:24.666Z"
   },
   {
    "duration": 19,
    "start_time": "2022-02-08T17:34:25.080Z"
   },
   {
    "duration": 6,
    "start_time": "2022-02-08T17:34:25.101Z"
   },
   {
    "duration": 8,
    "start_time": "2022-02-08T17:34:25.108Z"
   },
   {
    "duration": 21,
    "start_time": "2022-02-08T17:34:25.127Z"
   },
   {
    "duration": 12,
    "start_time": "2022-02-08T17:34:25.149Z"
   },
   {
    "duration": 18,
    "start_time": "2022-02-08T17:34:25.163Z"
   },
   {
    "duration": 11,
    "start_time": "2022-02-08T17:34:25.182Z"
   },
   {
    "duration": 17,
    "start_time": "2022-02-08T17:34:25.195Z"
   },
   {
    "duration": 21,
    "start_time": "2022-02-08T17:34:25.214Z"
   },
   {
    "duration": 13,
    "start_time": "2022-02-08T17:34:25.236Z"
   },
   {
    "duration": 50,
    "start_time": "2022-02-08T17:34:25.251Z"
   },
   {
    "duration": 2,
    "start_time": "2022-02-08T17:34:25.303Z"
   },
   {
    "duration": 4,
    "start_time": "2022-02-08T17:34:25.306Z"
   },
   {
    "duration": 15,
    "start_time": "2022-02-08T17:34:25.312Z"
   },
   {
    "duration": 346,
    "start_time": "2022-02-08T17:34:38.295Z"
   },
   {
    "duration": 1047,
    "start_time": "2022-02-08T17:34:42.761Z"
   },
   {
    "duration": 738,
    "start_time": "2022-02-08T17:34:43.809Z"
   },
   {
    "duration": 4,
    "start_time": "2022-02-08T17:34:44.552Z"
   },
   {
    "duration": 903,
    "start_time": "2022-02-08T17:34:44.558Z"
   },
   {
    "duration": 4,
    "start_time": "2022-02-08T17:34:45.462Z"
   },
   {
    "duration": 5,
    "start_time": "2022-02-08T17:34:45.467Z"
   },
   {
    "duration": 5,
    "start_time": "2022-02-08T17:34:45.474Z"
   },
   {
    "duration": 11,
    "start_time": "2022-02-08T17:34:45.481Z"
   },
   {
    "duration": 27,
    "start_time": "2022-02-08T17:34:45.493Z"
   },
   {
    "duration": 76,
    "start_time": "2022-02-08T17:34:45.522Z"
   },
   {
    "duration": 73,
    "start_time": "2022-02-08T17:34:45.600Z"
   },
   {
    "duration": 90,
    "start_time": "2022-02-08T17:34:45.675Z"
   },
   {
    "duration": 118,
    "start_time": "2022-02-08T17:34:45.770Z"
   },
   {
    "duration": 36,
    "start_time": "2022-02-08T17:34:45.894Z"
   },
   {
    "duration": 8,
    "start_time": "2022-02-08T17:34:45.932Z"
   },
   {
    "duration": 7,
    "start_time": "2022-02-08T17:34:45.942Z"
   },
   {
    "duration": 7,
    "start_time": "2022-02-08T17:34:45.950Z"
   },
   {
    "duration": 12,
    "start_time": "2022-02-08T17:34:45.958Z"
   },
   {
    "duration": 5,
    "start_time": "2022-02-08T17:34:45.971Z"
   },
   {
    "duration": 1033,
    "start_time": "2022-02-08T17:34:45.977Z"
   },
   {
    "duration": 4,
    "start_time": "2022-02-08T17:34:47.011Z"
   },
   {
    "duration": 333,
    "start_time": "2022-02-08T17:34:47.018Z"
   },
   {
    "duration": 3,
    "start_time": "2022-02-08T17:34:47.353Z"
   },
   {
    "duration": 4,
    "start_time": "2022-02-08T17:34:47.358Z"
   },
   {
    "duration": 350,
    "start_time": "2022-02-08T17:34:47.364Z"
   },
   {
    "duration": 5,
    "start_time": "2022-02-08T17:34:47.716Z"
   },
   {
    "duration": 407,
    "start_time": "2022-02-08T17:34:47.727Z"
   },
   {
    "duration": 19,
    "start_time": "2022-02-08T17:34:48.136Z"
   },
   {
    "duration": 3,
    "start_time": "2022-02-08T17:34:48.157Z"
   },
   {
    "duration": 8,
    "start_time": "2022-02-08T17:34:48.161Z"
   },
   {
    "duration": 8,
    "start_time": "2022-02-08T17:34:48.171Z"
   },
   {
    "duration": 11,
    "start_time": "2022-02-08T17:34:48.181Z"
   },
   {
    "duration": 11,
    "start_time": "2022-02-08T17:34:48.194Z"
   },
   {
    "duration": 10,
    "start_time": "2022-02-08T17:34:48.227Z"
   },
   {
    "duration": 14,
    "start_time": "2022-02-08T17:34:48.239Z"
   },
   {
    "duration": 21,
    "start_time": "2022-02-08T17:34:48.255Z"
   },
   {
    "duration": 6,
    "start_time": "2022-02-08T17:34:48.277Z"
   },
   {
    "duration": 77,
    "start_time": "2022-02-08T17:34:48.285Z"
   },
   {
    "duration": 2,
    "start_time": "2022-02-08T17:34:48.363Z"
   },
   {
    "duration": 4,
    "start_time": "2022-02-08T17:34:48.366Z"
   },
   {
    "duration": 4,
    "start_time": "2022-02-08T17:34:48.372Z"
   },
   {
    "duration": 5681,
    "start_time": "2022-02-08T17:34:48.377Z"
   },
   {
    "duration": 46,
    "start_time": "2022-02-08T17:34:54.015Z"
   },
   {
    "duration": 44,
    "start_time": "2022-02-08T17:34:54.018Z"
   },
   {
    "duration": 42,
    "start_time": "2022-02-08T17:34:54.021Z"
   },
   {
    "duration": 41,
    "start_time": "2022-02-08T17:34:54.024Z"
   },
   {
    "duration": 38,
    "start_time": "2022-02-08T17:34:54.028Z"
   },
   {
    "duration": 36,
    "start_time": "2022-02-08T17:34:54.031Z"
   },
   {
    "duration": 34,
    "start_time": "2022-02-08T17:34:54.034Z"
   },
   {
    "duration": 1533,
    "start_time": "2022-02-09T10:17:13.449Z"
   },
   {
    "duration": 1497,
    "start_time": "2022-02-09T10:17:14.984Z"
   },
   {
    "duration": 5,
    "start_time": "2022-02-09T10:17:16.484Z"
   },
   {
    "duration": 1582,
    "start_time": "2022-02-09T10:17:16.492Z"
   },
   {
    "duration": 6,
    "start_time": "2022-02-09T10:17:18.076Z"
   },
   {
    "duration": 7,
    "start_time": "2022-02-09T10:17:18.084Z"
   },
   {
    "duration": 6,
    "start_time": "2022-02-09T10:17:18.094Z"
   },
   {
    "duration": 16,
    "start_time": "2022-02-09T10:17:18.104Z"
   },
   {
    "duration": 29,
    "start_time": "2022-02-09T10:17:18.123Z"
   },
   {
    "duration": 8,
    "start_time": "2022-02-09T10:17:18.155Z"
   },
   {
    "duration": 41,
    "start_time": "2022-02-09T10:17:18.165Z"
   },
   {
    "duration": 5,
    "start_time": "2022-02-09T10:17:18.208Z"
   },
   {
    "duration": 34,
    "start_time": "2022-02-09T10:17:18.216Z"
   },
   {
    "duration": 15,
    "start_time": "2022-02-09T10:17:18.252Z"
   },
   {
    "duration": 8,
    "start_time": "2022-02-09T10:17:18.270Z"
   },
   {
    "duration": 10,
    "start_time": "2022-02-09T10:17:18.281Z"
   },
   {
    "duration": 13,
    "start_time": "2022-02-09T10:17:18.294Z"
   },
   {
    "duration": 48,
    "start_time": "2022-02-09T10:17:18.309Z"
   },
   {
    "duration": 22,
    "start_time": "2022-02-09T10:17:18.359Z"
   },
   {
    "duration": 7,
    "start_time": "2022-02-09T10:17:18.384Z"
   },
   {
    "duration": 1566,
    "start_time": "2022-02-09T10:17:18.393Z"
   },
   {
    "duration": 542,
    "start_time": "2022-02-09T10:17:19.420Z"
   },
   {
    "duration": 541,
    "start_time": "2022-02-09T10:17:19.423Z"
   },
   {
    "duration": 539,
    "start_time": "2022-02-09T10:17:19.426Z"
   },
   {
    "duration": 535,
    "start_time": "2022-02-09T10:17:19.431Z"
   },
   {
    "duration": 522,
    "start_time": "2022-02-09T10:17:19.445Z"
   },
   {
    "duration": 520,
    "start_time": "2022-02-09T10:17:19.449Z"
   },
   {
    "duration": 517,
    "start_time": "2022-02-09T10:17:19.453Z"
   },
   {
    "duration": 515,
    "start_time": "2022-02-09T10:17:19.456Z"
   },
   {
    "duration": 513,
    "start_time": "2022-02-09T10:17:19.459Z"
   },
   {
    "duration": 511,
    "start_time": "2022-02-09T10:17:19.463Z"
   },
   {
    "duration": 509,
    "start_time": "2022-02-09T10:17:19.466Z"
   },
   {
    "duration": 507,
    "start_time": "2022-02-09T10:17:19.469Z"
   },
   {
    "duration": 505,
    "start_time": "2022-02-09T10:17:19.472Z"
   },
   {
    "duration": 504,
    "start_time": "2022-02-09T10:17:19.475Z"
   },
   {
    "duration": 502,
    "start_time": "2022-02-09T10:17:19.478Z"
   },
   {
    "duration": 499,
    "start_time": "2022-02-09T10:17:19.482Z"
   },
   {
    "duration": 486,
    "start_time": "2022-02-09T10:17:19.496Z"
   },
   {
    "duration": 482,
    "start_time": "2022-02-09T10:17:19.501Z"
   },
   {
    "duration": 482,
    "start_time": "2022-02-09T10:17:19.503Z"
   },
   {
    "duration": 479,
    "start_time": "2022-02-09T10:17:19.507Z"
   },
   {
    "duration": 477,
    "start_time": "2022-02-09T10:17:19.510Z"
   },
   {
    "duration": 475,
    "start_time": "2022-02-09T10:17:19.513Z"
   },
   {
    "duration": 474,
    "start_time": "2022-02-09T10:17:19.516Z"
   },
   {
    "duration": 472,
    "start_time": "2022-02-09T10:17:19.519Z"
   },
   {
    "duration": 471,
    "start_time": "2022-02-09T10:17:19.522Z"
   },
   {
    "duration": 468,
    "start_time": "2022-02-09T10:17:19.526Z"
   },
   {
    "duration": 466,
    "start_time": "2022-02-09T10:17:19.529Z"
   },
   {
    "duration": 464,
    "start_time": "2022-02-09T10:17:19.532Z"
   },
   {
    "duration": 463,
    "start_time": "2022-02-09T10:17:19.535Z"
   },
   {
    "duration": 18,
    "start_time": "2022-02-09T10:21:48.504Z"
   },
   {
    "duration": 1605,
    "start_time": "2022-02-09T10:22:02.259Z"
   },
   {
    "duration": 1129,
    "start_time": "2022-02-09T10:22:03.867Z"
   },
   {
    "duration": 6,
    "start_time": "2022-02-09T10:22:05.050Z"
   },
   {
    "duration": 1749,
    "start_time": "2022-02-09T10:22:05.059Z"
   },
   {
    "duration": 6,
    "start_time": "2022-02-09T10:22:06.810Z"
   },
   {
    "duration": 30,
    "start_time": "2022-02-09T10:22:06.818Z"
   },
   {
    "duration": 5,
    "start_time": "2022-02-09T10:22:06.850Z"
   },
   {
    "duration": 12,
    "start_time": "2022-02-09T10:22:06.859Z"
   },
   {
    "duration": 7,
    "start_time": "2022-02-09T10:22:06.874Z"
   },
   {
    "duration": 9,
    "start_time": "2022-02-09T10:22:06.884Z"
   },
   {
    "duration": 10,
    "start_time": "2022-02-09T10:22:06.896Z"
   },
   {
    "duration": 11,
    "start_time": "2022-02-09T10:22:06.908Z"
   },
   {
    "duration": 33,
    "start_time": "2022-02-09T10:22:06.921Z"
   },
   {
    "duration": 17,
    "start_time": "2022-02-09T10:22:06.957Z"
   },
   {
    "duration": 10,
    "start_time": "2022-02-09T10:22:06.976Z"
   },
   {
    "duration": 13,
    "start_time": "2022-02-09T10:22:06.989Z"
   },
   {
    "duration": 11,
    "start_time": "2022-02-09T10:22:07.004Z"
   },
   {
    "duration": 46,
    "start_time": "2022-02-09T10:22:07.017Z"
   },
   {
    "duration": 9,
    "start_time": "2022-02-09T10:22:07.065Z"
   },
   {
    "duration": 1575,
    "start_time": "2022-02-09T10:22:07.077Z"
   },
   {
    "duration": 533,
    "start_time": "2022-02-09T10:22:08.123Z"
   },
   {
    "duration": 531,
    "start_time": "2022-02-09T10:22:08.126Z"
   },
   {
    "duration": 526,
    "start_time": "2022-02-09T10:22:08.132Z"
   },
   {
    "duration": 524,
    "start_time": "2022-02-09T10:22:08.136Z"
   },
   {
    "duration": 521,
    "start_time": "2022-02-09T10:22:08.140Z"
   },
   {
    "duration": 517,
    "start_time": "2022-02-09T10:22:08.145Z"
   },
   {
    "duration": 514,
    "start_time": "2022-02-09T10:22:08.149Z"
   },
   {
    "duration": 511,
    "start_time": "2022-02-09T10:22:08.154Z"
   },
   {
    "duration": 508,
    "start_time": "2022-02-09T10:22:08.158Z"
   },
   {
    "duration": 506,
    "start_time": "2022-02-09T10:22:08.161Z"
   },
   {
    "duration": 504,
    "start_time": "2022-02-09T10:22:08.164Z"
   },
   {
    "duration": 502,
    "start_time": "2022-02-09T10:22:08.168Z"
   },
   {
    "duration": 499,
    "start_time": "2022-02-09T10:22:08.172Z"
   },
   {
    "duration": 496,
    "start_time": "2022-02-09T10:22:08.176Z"
   },
   {
    "duration": 495,
    "start_time": "2022-02-09T10:22:08.179Z"
   },
   {
    "duration": 482,
    "start_time": "2022-02-09T10:22:08.193Z"
   },
   {
    "duration": 481,
    "start_time": "2022-02-09T10:22:08.195Z"
   },
   {
    "duration": 480,
    "start_time": "2022-02-09T10:22:08.198Z"
   },
   {
    "duration": 476,
    "start_time": "2022-02-09T10:22:08.203Z"
   },
   {
    "duration": 475,
    "start_time": "2022-02-09T10:22:08.206Z"
   },
   {
    "duration": 473,
    "start_time": "2022-02-09T10:22:08.209Z"
   },
   {
    "duration": 471,
    "start_time": "2022-02-09T10:22:08.212Z"
   },
   {
    "duration": 469,
    "start_time": "2022-02-09T10:22:08.215Z"
   },
   {
    "duration": 466,
    "start_time": "2022-02-09T10:22:08.220Z"
   },
   {
    "duration": 464,
    "start_time": "2022-02-09T10:22:08.223Z"
   },
   {
    "duration": 462,
    "start_time": "2022-02-09T10:22:08.226Z"
   },
   {
    "duration": 461,
    "start_time": "2022-02-09T10:22:08.228Z"
   },
   {
    "duration": 460,
    "start_time": "2022-02-09T10:22:08.231Z"
   },
   {
    "duration": 458,
    "start_time": "2022-02-09T10:22:08.234Z"
   },
   {
    "duration": 14,
    "start_time": "2022-02-09T10:22:27.814Z"
   },
   {
    "duration": 10,
    "start_time": "2022-02-09T10:22:31.212Z"
   },
   {
    "duration": 21,
    "start_time": "2022-02-09T10:22:34.969Z"
   },
   {
    "duration": 9,
    "start_time": "2022-02-09T10:26:37.478Z"
   },
   {
    "duration": 1604,
    "start_time": "2022-02-09T10:27:00.295Z"
   },
   {
    "duration": 1279,
    "start_time": "2022-02-09T10:27:01.901Z"
   },
   {
    "duration": 7,
    "start_time": "2022-02-09T10:27:03.182Z"
   },
   {
    "duration": 1634,
    "start_time": "2022-02-09T10:27:03.193Z"
   },
   {
    "duration": 6,
    "start_time": "2022-02-09T10:27:04.829Z"
   },
   {
    "duration": 4,
    "start_time": "2022-02-09T10:27:04.849Z"
   },
   {
    "duration": 9,
    "start_time": "2022-02-09T10:27:04.855Z"
   },
   {
    "duration": 18,
    "start_time": "2022-02-09T10:27:04.868Z"
   },
   {
    "duration": 7,
    "start_time": "2022-02-09T10:27:04.889Z"
   },
   {
    "duration": 10,
    "start_time": "2022-02-09T10:27:04.899Z"
   },
   {
    "duration": 39,
    "start_time": "2022-02-09T10:27:04.911Z"
   },
   {
    "duration": 7,
    "start_time": "2022-02-09T10:27:04.953Z"
   },
   {
    "duration": 13,
    "start_time": "2022-02-09T10:27:04.962Z"
   },
   {
    "duration": 8,
    "start_time": "2022-02-09T10:27:04.978Z"
   },
   {
    "duration": 22,
    "start_time": "2022-02-09T10:27:04.989Z"
   },
   {
    "duration": 42,
    "start_time": "2022-02-09T10:27:05.015Z"
   },
   {
    "duration": 13,
    "start_time": "2022-02-09T10:27:05.060Z"
   },
   {
    "duration": 20,
    "start_time": "2022-02-09T10:27:05.076Z"
   },
   {
    "duration": 12,
    "start_time": "2022-02-09T10:27:05.099Z"
   },
   {
    "duration": 3063,
    "start_time": "2022-02-09T10:27:05.150Z"
   },
   {
    "duration": 538,
    "start_time": "2022-02-09T10:27:07.682Z"
   },
   {
    "duration": 534,
    "start_time": "2022-02-09T10:27:07.688Z"
   },
   {
    "duration": 532,
    "start_time": "2022-02-09T10:27:07.692Z"
   },
   {
    "duration": 529,
    "start_time": "2022-02-09T10:27:07.697Z"
   },
   {
    "duration": 527,
    "start_time": "2022-02-09T10:27:07.700Z"
   },
   {
    "duration": 523,
    "start_time": "2022-02-09T10:27:07.705Z"
   },
   {
    "duration": 521,
    "start_time": "2022-02-09T10:27:07.709Z"
   },
   {
    "duration": 518,
    "start_time": "2022-02-09T10:27:07.713Z"
   },
   {
    "duration": 516,
    "start_time": "2022-02-09T10:27:07.717Z"
   },
   {
    "duration": 514,
    "start_time": "2022-02-09T10:27:07.720Z"
   },
   {
    "duration": 500,
    "start_time": "2022-02-09T10:27:07.735Z"
   },
   {
    "duration": 561,
    "start_time": "2022-02-09T10:27:07.746Z"
   },
   {
    "duration": 559,
    "start_time": "2022-02-09T10:27:07.750Z"
   },
   {
    "duration": 544,
    "start_time": "2022-02-09T10:27:07.766Z"
   },
   {
    "duration": 532,
    "start_time": "2022-02-09T10:27:07.780Z"
   },
   {
    "duration": 519,
    "start_time": "2022-02-09T10:27:07.794Z"
   },
   {
    "duration": 517,
    "start_time": "2022-02-09T10:27:07.798Z"
   },
   {
    "duration": 502,
    "start_time": "2022-02-09T10:27:07.814Z"
   },
   {
    "duration": 500,
    "start_time": "2022-02-09T10:27:07.818Z"
   },
   {
    "duration": 486,
    "start_time": "2022-02-09T10:27:07.833Z"
   },
   {
    "duration": 510,
    "start_time": "2022-02-09T10:27:07.838Z"
   },
   {
    "duration": 509,
    "start_time": "2022-02-09T10:27:07.841Z"
   },
   {
    "duration": 507,
    "start_time": "2022-02-09T10:27:07.844Z"
   },
   {
    "duration": 505,
    "start_time": "2022-02-09T10:27:07.848Z"
   },
   {
    "duration": 502,
    "start_time": "2022-02-09T10:27:07.852Z"
   },
   {
    "duration": 501,
    "start_time": "2022-02-09T10:27:07.855Z"
   },
   {
    "duration": 501,
    "start_time": "2022-02-09T10:27:07.858Z"
   },
   {
    "duration": 499,
    "start_time": "2022-02-09T10:27:07.862Z"
   },
   {
    "duration": 498,
    "start_time": "2022-02-09T10:27:07.865Z"
   },
   {
    "duration": 315,
    "start_time": "2022-02-09T10:27:32.076Z"
   },
   {
    "duration": 14,
    "start_time": "2022-02-09T10:27:35.381Z"
   },
   {
    "duration": 14,
    "start_time": "2022-02-09T10:28:09.367Z"
   },
   {
    "duration": 16,
    "start_time": "2022-02-09T10:28:34.955Z"
   },
   {
    "duration": 20,
    "start_time": "2022-02-09T10:28:42.960Z"
   },
   {
    "duration": 1540,
    "start_time": "2022-02-09T10:28:56.369Z"
   },
   {
    "duration": 849,
    "start_time": "2022-02-09T10:28:57.912Z"
   },
   {
    "duration": 7,
    "start_time": "2022-02-09T10:28:58.767Z"
   },
   {
    "duration": 2199,
    "start_time": "2022-02-09T10:28:58.777Z"
   },
   {
    "duration": 6,
    "start_time": "2022-02-09T10:29:00.978Z"
   },
   {
    "duration": 62,
    "start_time": "2022-02-09T10:29:00.986Z"
   },
   {
    "duration": 26,
    "start_time": "2022-02-09T10:29:01.052Z"
   },
   {
    "duration": 70,
    "start_time": "2022-02-09T10:29:01.081Z"
   },
   {
    "duration": 32,
    "start_time": "2022-02-09T10:29:01.154Z"
   },
   {
    "duration": 45,
    "start_time": "2022-02-09T10:29:01.190Z"
   },
   {
    "duration": 50,
    "start_time": "2022-02-09T10:29:01.237Z"
   },
   {
    "duration": 38,
    "start_time": "2022-02-09T10:29:01.290Z"
   },
   {
    "duration": 36,
    "start_time": "2022-02-09T10:29:01.330Z"
   },
   {
    "duration": 37,
    "start_time": "2022-02-09T10:29:01.368Z"
   },
   {
    "duration": 39,
    "start_time": "2022-02-09T10:29:01.408Z"
   },
   {
    "duration": 70,
    "start_time": "2022-02-09T10:29:01.449Z"
   },
   {
    "duration": 20,
    "start_time": "2022-02-09T10:29:01.521Z"
   },
   {
    "duration": 33,
    "start_time": "2022-02-09T10:29:01.544Z"
   },
   {
    "duration": 28,
    "start_time": "2022-02-09T10:29:01.579Z"
   },
   {
    "duration": 1556,
    "start_time": "2022-02-09T10:29:01.610Z"
   },
   {
    "duration": 564,
    "start_time": "2022-02-09T10:29:02.607Z"
   },
   {
    "duration": 564,
    "start_time": "2022-02-09T10:29:02.609Z"
   },
   {
    "duration": 563,
    "start_time": "2022-02-09T10:29:02.612Z"
   },
   {
    "duration": 561,
    "start_time": "2022-02-09T10:29:02.616Z"
   },
   {
    "duration": 560,
    "start_time": "2022-02-09T10:29:02.619Z"
   },
   {
    "duration": 558,
    "start_time": "2022-02-09T10:29:02.622Z"
   },
   {
    "duration": 558,
    "start_time": "2022-02-09T10:29:02.624Z"
   },
   {
    "duration": 557,
    "start_time": "2022-02-09T10:29:02.627Z"
   },
   {
    "duration": 554,
    "start_time": "2022-02-09T10:29:02.631Z"
   },
   {
    "duration": 553,
    "start_time": "2022-02-09T10:29:02.634Z"
   },
   {
    "duration": 552,
    "start_time": "2022-02-09T10:29:02.637Z"
   },
   {
    "duration": 551,
    "start_time": "2022-02-09T10:29:02.640Z"
   },
   {
    "duration": 550,
    "start_time": "2022-02-09T10:29:02.643Z"
   },
   {
    "duration": 549,
    "start_time": "2022-02-09T10:29:02.646Z"
   },
   {
    "duration": 539,
    "start_time": "2022-02-09T10:29:02.658Z"
   },
   {
    "duration": 537,
    "start_time": "2022-02-09T10:29:02.661Z"
   },
   {
    "duration": 535,
    "start_time": "2022-02-09T10:29:02.665Z"
   },
   {
    "duration": 579,
    "start_time": "2022-02-09T10:29:02.669Z"
   },
   {
    "duration": 578,
    "start_time": "2022-02-09T10:29:02.672Z"
   },
   {
    "duration": 575,
    "start_time": "2022-02-09T10:29:02.676Z"
   },
   {
    "duration": 574,
    "start_time": "2022-02-09T10:29:02.679Z"
   },
   {
    "duration": 564,
    "start_time": "2022-02-09T10:29:02.690Z"
   },
   {
    "duration": 563,
    "start_time": "2022-02-09T10:29:02.693Z"
   },
   {
    "duration": 562,
    "start_time": "2022-02-09T10:29:02.696Z"
   },
   {
    "duration": 560,
    "start_time": "2022-02-09T10:29:02.699Z"
   },
   {
    "duration": 559,
    "start_time": "2022-02-09T10:29:02.702Z"
   },
   {
    "duration": 557,
    "start_time": "2022-02-09T10:29:02.705Z"
   },
   {
    "duration": 555,
    "start_time": "2022-02-09T10:29:02.708Z"
   },
   {
    "duration": 554,
    "start_time": "2022-02-09T10:29:02.711Z"
   },
   {
    "duration": 24,
    "start_time": "2022-02-09T10:29:23.255Z"
   },
   {
    "duration": 35,
    "start_time": "2022-02-09T10:29:47.619Z"
   },
   {
    "duration": 14,
    "start_time": "2022-02-09T10:29:49.297Z"
   },
   {
    "duration": 23,
    "start_time": "2022-02-09T10:30:06.520Z"
   },
   {
    "duration": 23,
    "start_time": "2022-02-09T10:30:10.840Z"
   },
   {
    "duration": 17,
    "start_time": "2022-02-09T10:30:20.310Z"
   },
   {
    "duration": 36,
    "start_time": "2022-02-09T10:30:22.133Z"
   },
   {
    "duration": 1532,
    "start_time": "2022-02-09T10:30:51.344Z"
   },
   {
    "duration": 837,
    "start_time": "2022-02-09T10:30:52.879Z"
   },
   {
    "duration": 6,
    "start_time": "2022-02-09T10:30:53.719Z"
   },
   {
    "duration": 1555,
    "start_time": "2022-02-09T10:30:53.728Z"
   },
   {
    "duration": 7,
    "start_time": "2022-02-09T10:30:55.286Z"
   },
   {
    "duration": 12,
    "start_time": "2022-02-09T10:30:55.297Z"
   },
   {
    "duration": 13,
    "start_time": "2022-02-09T10:30:55.311Z"
   },
   {
    "duration": 12,
    "start_time": "2022-02-09T10:30:55.349Z"
   },
   {
    "duration": 11,
    "start_time": "2022-02-09T10:30:55.363Z"
   },
   {
    "duration": 12,
    "start_time": "2022-02-09T10:30:55.377Z"
   },
   {
    "duration": 13,
    "start_time": "2022-02-09T10:30:55.392Z"
   },
   {
    "duration": 13,
    "start_time": "2022-02-09T10:30:55.407Z"
   },
   {
    "duration": 30,
    "start_time": "2022-02-09T10:30:55.423Z"
   },
   {
    "duration": 15,
    "start_time": "2022-02-09T10:30:55.455Z"
   },
   {
    "duration": 16,
    "start_time": "2022-02-09T10:30:55.472Z"
   },
   {
    "duration": 20,
    "start_time": "2022-02-09T10:30:55.491Z"
   },
   {
    "duration": 39,
    "start_time": "2022-02-09T10:30:55.514Z"
   },
   {
    "duration": 36,
    "start_time": "2022-02-09T10:30:55.559Z"
   },
   {
    "duration": 9,
    "start_time": "2022-02-09T10:30:55.598Z"
   },
   {
    "duration": 2219,
    "start_time": "2022-02-09T10:30:55.609Z"
   },
   {
    "duration": 5,
    "start_time": "2022-02-09T10:30:57.831Z"
   },
   {
    "duration": 588,
    "start_time": "2022-02-09T10:30:57.838Z"
   },
   {
    "duration": 6,
    "start_time": "2022-02-09T10:30:58.428Z"
   },
   {
    "duration": 15,
    "start_time": "2022-02-09T10:30:58.436Z"
   },
   {
    "duration": 637,
    "start_time": "2022-02-09T10:30:58.453Z"
   },
   {
    "duration": 7,
    "start_time": "2022-02-09T10:30:59.093Z"
   },
   {
    "duration": 751,
    "start_time": "2022-02-09T10:30:59.103Z"
   },
   {
    "duration": 31,
    "start_time": "2022-02-09T10:30:59.857Z"
   },
   {
    "duration": 6,
    "start_time": "2022-02-09T10:30:59.891Z"
   },
   {
    "duration": 12,
    "start_time": "2022-02-09T10:30:59.899Z"
   },
   {
    "duration": 37,
    "start_time": "2022-02-09T10:30:59.913Z"
   },
   {
    "duration": 15,
    "start_time": "2022-02-09T10:30:59.952Z"
   },
   {
    "duration": 13,
    "start_time": "2022-02-09T10:30:59.969Z"
   },
   {
    "duration": 15,
    "start_time": "2022-02-09T10:30:59.984Z"
   },
   {
    "duration": 57,
    "start_time": "2022-02-09T10:31:00.002Z"
   },
   {
    "duration": 37,
    "start_time": "2022-02-09T10:31:00.062Z"
   },
   {
    "duration": 6,
    "start_time": "2022-02-09T10:31:00.102Z"
   },
   {
    "duration": 106,
    "start_time": "2022-02-09T10:31:00.110Z"
   },
   {
    "duration": 4,
    "start_time": "2022-02-09T10:31:00.219Z"
   },
   {
    "duration": 24,
    "start_time": "2022-02-09T10:31:00.226Z"
   },
   {
    "duration": 14,
    "start_time": "2022-02-09T10:31:00.252Z"
   },
   {
    "duration": 3592,
    "start_time": "2022-02-09T10:31:00.269Z"
   },
   {
    "duration": 483,
    "start_time": "2022-02-09T10:31:03.381Z"
   },
   {
    "duration": 482,
    "start_time": "2022-02-09T10:31:03.385Z"
   },
   {
    "duration": 480,
    "start_time": "2022-02-09T10:31:03.389Z"
   },
   {
    "duration": 479,
    "start_time": "2022-02-09T10:31:03.392Z"
   },
   {
    "duration": 476,
    "start_time": "2022-02-09T10:31:03.397Z"
   },
   {
    "duration": 473,
    "start_time": "2022-02-09T10:31:03.402Z"
   },
   {
    "duration": 472,
    "start_time": "2022-02-09T10:31:03.406Z"
   },
   {
    "duration": 416,
    "start_time": "2022-02-09T10:31:54.760Z"
   },
   {
    "duration": 28,
    "start_time": "2022-02-09T10:31:58.931Z"
   },
   {
    "duration": 8,
    "start_time": "2022-02-09T10:32:07.910Z"
   },
   {
    "duration": 1698,
    "start_time": "2022-02-09T10:32:09.646Z"
   },
   {
    "duration": 1567,
    "start_time": "2022-02-09T10:32:32.738Z"
   },
   {
    "duration": 862,
    "start_time": "2022-02-09T10:32:34.309Z"
   },
   {
    "duration": 6,
    "start_time": "2022-02-09T10:32:35.174Z"
   },
   {
    "duration": 2190,
    "start_time": "2022-02-09T10:32:35.183Z"
   },
   {
    "duration": 7,
    "start_time": "2022-02-09T10:32:37.376Z"
   },
   {
    "duration": 13,
    "start_time": "2022-02-09T10:32:37.388Z"
   },
   {
    "duration": 9,
    "start_time": "2022-02-09T10:32:37.404Z"
   },
   {
    "duration": 34,
    "start_time": "2022-02-09T10:32:37.418Z"
   },
   {
    "duration": 8,
    "start_time": "2022-02-09T10:32:37.457Z"
   },
   {
    "duration": 11,
    "start_time": "2022-02-09T10:32:37.468Z"
   },
   {
    "duration": 11,
    "start_time": "2022-02-09T10:32:37.481Z"
   },
   {
    "duration": 5,
    "start_time": "2022-02-09T10:32:37.494Z"
   },
   {
    "duration": 11,
    "start_time": "2022-02-09T10:32:37.501Z"
   },
   {
    "duration": 38,
    "start_time": "2022-02-09T10:32:37.514Z"
   },
   {
    "duration": 17,
    "start_time": "2022-02-09T10:32:37.554Z"
   },
   {
    "duration": 28,
    "start_time": "2022-02-09T10:32:37.573Z"
   },
   {
    "duration": 44,
    "start_time": "2022-02-09T10:32:37.604Z"
   },
   {
    "duration": 35,
    "start_time": "2022-02-09T10:32:37.651Z"
   },
   {
    "duration": 8,
    "start_time": "2022-02-09T10:32:37.688Z"
   },
   {
    "duration": 2320,
    "start_time": "2022-02-09T10:32:37.700Z"
   },
   {
    "duration": 7,
    "start_time": "2022-02-09T10:32:40.023Z"
   },
   {
    "duration": 718,
    "start_time": "2022-02-09T10:32:40.050Z"
   },
   {
    "duration": 6,
    "start_time": "2022-02-09T10:32:40.773Z"
   },
   {
    "duration": 10,
    "start_time": "2022-02-09T10:32:40.782Z"
   },
   {
    "duration": 619,
    "start_time": "2022-02-09T10:32:40.794Z"
   },
   {
    "duration": 8,
    "start_time": "2022-02-09T10:32:41.416Z"
   },
   {
    "duration": 735,
    "start_time": "2022-02-09T10:32:41.426Z"
   },
   {
    "duration": 33,
    "start_time": "2022-02-09T10:32:42.164Z"
   },
   {
    "duration": 7,
    "start_time": "2022-02-09T10:32:42.200Z"
   },
   {
    "duration": 13,
    "start_time": "2022-02-09T10:32:42.210Z"
   },
   {
    "duration": 27,
    "start_time": "2022-02-09T10:32:42.226Z"
   },
   {
    "duration": 14,
    "start_time": "2022-02-09T10:32:42.257Z"
   },
   {
    "duration": 15,
    "start_time": "2022-02-09T10:32:42.274Z"
   },
   {
    "duration": 65,
    "start_time": "2022-02-09T10:32:42.292Z"
   },
   {
    "duration": 21,
    "start_time": "2022-02-09T10:32:42.360Z"
   },
   {
    "duration": 37,
    "start_time": "2022-02-09T10:32:42.384Z"
   },
   {
    "duration": 27,
    "start_time": "2022-02-09T10:32:42.423Z"
   },
   {
    "duration": 95,
    "start_time": "2022-02-09T10:32:42.453Z"
   },
   {
    "duration": 4,
    "start_time": "2022-02-09T10:32:42.551Z"
   },
   {
    "duration": 11,
    "start_time": "2022-02-09T10:32:42.558Z"
   },
   {
    "duration": 7,
    "start_time": "2022-02-09T10:32:42.571Z"
   },
   {
    "duration": 2043,
    "start_time": "2022-02-09T10:32:42.580Z"
   },
   {
    "duration": 556,
    "start_time": "2022-02-09T10:32:44.070Z"
   },
   {
    "duration": 545,
    "start_time": "2022-02-09T10:32:44.082Z"
   },
   {
    "duration": 534,
    "start_time": "2022-02-09T10:32:44.095Z"
   },
   {
    "duration": 530,
    "start_time": "2022-02-09T10:32:44.100Z"
   },
   {
    "duration": 527,
    "start_time": "2022-02-09T10:32:44.104Z"
   },
   {
    "duration": 526,
    "start_time": "2022-02-09T10:32:44.107Z"
   },
   {
    "duration": 523,
    "start_time": "2022-02-09T10:32:44.112Z"
   },
   {
    "duration": 1529,
    "start_time": "2022-02-09T10:33:04.452Z"
   },
   {
    "duration": 1496,
    "start_time": "2022-02-09T10:33:05.984Z"
   },
   {
    "duration": 6,
    "start_time": "2022-02-09T10:33:07.486Z"
   },
   {
    "duration": 1659,
    "start_time": "2022-02-09T10:33:07.496Z"
   },
   {
    "duration": 5,
    "start_time": "2022-02-09T10:33:09.157Z"
   },
   {
    "duration": 8,
    "start_time": "2022-02-09T10:33:09.165Z"
   },
   {
    "duration": 5,
    "start_time": "2022-02-09T10:33:09.176Z"
   },
   {
    "duration": 19,
    "start_time": "2022-02-09T10:33:09.183Z"
   },
   {
    "duration": 6,
    "start_time": "2022-02-09T10:33:09.204Z"
   },
   {
    "duration": 37,
    "start_time": "2022-02-09T10:33:09.212Z"
   },
   {
    "duration": 5,
    "start_time": "2022-02-09T10:33:09.252Z"
   },
   {
    "duration": 6,
    "start_time": "2022-02-09T10:33:09.259Z"
   },
   {
    "duration": 15,
    "start_time": "2022-02-09T10:33:09.267Z"
   },
   {
    "duration": 8,
    "start_time": "2022-02-09T10:33:09.285Z"
   },
   {
    "duration": 13,
    "start_time": "2022-02-09T10:33:09.296Z"
   },
   {
    "duration": 65,
    "start_time": "2022-02-09T10:33:09.311Z"
   },
   {
    "duration": 18,
    "start_time": "2022-02-09T10:33:09.378Z"
   },
   {
    "duration": 86,
    "start_time": "2022-02-09T10:33:09.399Z"
   },
   {
    "duration": 8,
    "start_time": "2022-02-09T10:33:09.487Z"
   },
   {
    "duration": 1812,
    "start_time": "2022-02-09T10:33:09.498Z"
   },
   {
    "duration": 6,
    "start_time": "2022-02-09T10:33:11.313Z"
   },
   {
    "duration": 576,
    "start_time": "2022-02-09T10:33:11.324Z"
   },
   {
    "duration": 5,
    "start_time": "2022-02-09T10:33:11.903Z"
   },
   {
    "duration": 9,
    "start_time": "2022-02-09T10:33:11.911Z"
   },
   {
    "duration": 631,
    "start_time": "2022-02-09T10:33:11.922Z"
   },
   {
    "duration": 8,
    "start_time": "2022-02-09T10:33:12.555Z"
   },
   {
    "duration": 730,
    "start_time": "2022-02-09T10:33:12.565Z"
   },
   {
    "duration": 51,
    "start_time": "2022-02-09T10:33:13.298Z"
   },
   {
    "duration": 6,
    "start_time": "2022-02-09T10:33:13.352Z"
   },
   {
    "duration": 7,
    "start_time": "2022-02-09T10:33:13.361Z"
   },
   {
    "duration": 9,
    "start_time": "2022-02-09T10:33:13.371Z"
   },
   {
    "duration": 12,
    "start_time": "2022-02-09T10:33:13.382Z"
   },
   {
    "duration": 61,
    "start_time": "2022-02-09T10:33:13.397Z"
   },
   {
    "duration": 17,
    "start_time": "2022-02-09T10:33:13.460Z"
   },
   {
    "duration": 18,
    "start_time": "2022-02-09T10:33:13.480Z"
   },
   {
    "duration": 70,
    "start_time": "2022-02-09T10:33:13.501Z"
   },
   {
    "duration": 8,
    "start_time": "2022-02-09T10:33:13.573Z"
   },
   {
    "duration": 100,
    "start_time": "2022-02-09T10:33:13.584Z"
   },
   {
    "duration": 4,
    "start_time": "2022-02-09T10:33:13.686Z"
   },
   {
    "duration": 10,
    "start_time": "2022-02-09T10:33:13.692Z"
   },
   {
    "duration": 11,
    "start_time": "2022-02-09T10:33:13.704Z"
   },
   {
    "duration": 1453,
    "start_time": "2022-02-09T10:34:23.859Z"
   },
   {
    "duration": 1286,
    "start_time": "2022-02-09T10:34:25.315Z"
   },
   {
    "duration": 7,
    "start_time": "2022-02-09T10:34:26.607Z"
   },
   {
    "duration": 1611,
    "start_time": "2022-02-09T10:34:26.616Z"
   },
   {
    "duration": 18,
    "start_time": "2022-02-09T10:34:28.230Z"
   },
   {
    "duration": 4,
    "start_time": "2022-02-09T10:34:28.250Z"
   },
   {
    "duration": 5,
    "start_time": "2022-02-09T10:34:28.258Z"
   },
   {
    "duration": 16,
    "start_time": "2022-02-09T10:34:28.266Z"
   },
   {
    "duration": 8,
    "start_time": "2022-02-09T10:34:28.284Z"
   },
   {
    "duration": 10,
    "start_time": "2022-02-09T10:34:28.294Z"
   },
   {
    "duration": 44,
    "start_time": "2022-02-09T10:34:28.307Z"
   },
   {
    "duration": 9,
    "start_time": "2022-02-09T10:34:28.354Z"
   },
   {
    "duration": 13,
    "start_time": "2022-02-09T10:34:28.366Z"
   },
   {
    "duration": 14,
    "start_time": "2022-02-09T10:34:28.381Z"
   },
   {
    "duration": 21,
    "start_time": "2022-02-09T10:34:28.397Z"
   },
   {
    "duration": 40,
    "start_time": "2022-02-09T10:34:28.420Z"
   },
   {
    "duration": 15,
    "start_time": "2022-02-09T10:34:28.462Z"
   },
   {
    "duration": 35,
    "start_time": "2022-02-09T10:34:28.480Z"
   },
   {
    "duration": 37,
    "start_time": "2022-02-09T10:34:28.518Z"
   },
   {
    "duration": 1855,
    "start_time": "2022-02-09T10:34:28.557Z"
   },
   {
    "duration": 7,
    "start_time": "2022-02-09T10:34:30.414Z"
   },
   {
    "duration": 624,
    "start_time": "2022-02-09T10:34:30.427Z"
   },
   {
    "duration": 6,
    "start_time": "2022-02-09T10:34:31.054Z"
   },
   {
    "duration": 11,
    "start_time": "2022-02-09T10:34:31.062Z"
   },
   {
    "duration": 623,
    "start_time": "2022-02-09T10:34:31.075Z"
   },
   {
    "duration": 9,
    "start_time": "2022-02-09T10:34:31.701Z"
   },
   {
    "duration": 753,
    "start_time": "2022-02-09T10:34:31.712Z"
   },
   {
    "duration": 30,
    "start_time": "2022-02-09T10:34:32.468Z"
   },
   {
    "duration": 6,
    "start_time": "2022-02-09T10:34:32.501Z"
   },
   {
    "duration": 40,
    "start_time": "2022-02-09T10:34:32.511Z"
   },
   {
    "duration": 10,
    "start_time": "2022-02-09T10:34:32.554Z"
   },
   {
    "duration": 11,
    "start_time": "2022-02-09T10:34:32.567Z"
   },
   {
    "duration": 13,
    "start_time": "2022-02-09T10:34:32.581Z"
   },
   {
    "duration": 56,
    "start_time": "2022-02-09T10:34:32.597Z"
   },
   {
    "duration": 24,
    "start_time": "2022-02-09T10:34:32.656Z"
   },
   {
    "duration": 72,
    "start_time": "2022-02-09T10:34:32.683Z"
   },
   {
    "duration": 7,
    "start_time": "2022-02-09T10:34:32.758Z"
   },
   {
    "duration": 101,
    "start_time": "2022-02-09T10:34:32.769Z"
   },
   {
    "duration": 4,
    "start_time": "2022-02-09T10:34:32.873Z"
   },
   {
    "duration": 6,
    "start_time": "2022-02-09T10:34:32.880Z"
   },
   {
    "duration": 8,
    "start_time": "2022-02-09T10:34:32.889Z"
   },
   {
    "duration": 1006,
    "start_time": "2022-02-09T10:34:32.900Z"
   },
   {
    "duration": 553,
    "start_time": "2022-02-09T10:34:33.356Z"
   },
   {
    "duration": 551,
    "start_time": "2022-02-09T10:34:33.360Z"
   },
   {
    "duration": 550,
    "start_time": "2022-02-09T10:34:33.363Z"
   },
   {
    "duration": 549,
    "start_time": "2022-02-09T10:34:33.366Z"
   },
   {
    "duration": 548,
    "start_time": "2022-02-09T10:34:33.369Z"
   },
   {
    "duration": 547,
    "start_time": "2022-02-09T10:34:33.372Z"
   },
   {
    "duration": 546,
    "start_time": "2022-02-09T10:34:33.375Z"
   },
   {
    "duration": 9,
    "start_time": "2022-02-09T10:34:49.493Z"
   },
   {
    "duration": 1722,
    "start_time": "2022-02-09T10:34:53.136Z"
   },
   {
    "duration": 8,
    "start_time": "2022-02-09T10:35:00.288Z"
   },
   {
    "duration": 1806,
    "start_time": "2022-02-09T10:35:01.573Z"
   },
   {
    "duration": 9,
    "start_time": "2022-02-09T10:35:49.847Z"
   },
   {
    "duration": 10,
    "start_time": "2022-02-09T10:35:51.434Z"
   },
   {
    "duration": 2048,
    "start_time": "2022-02-09T10:35:51.933Z"
   },
   {
    "duration": 9,
    "start_time": "2022-02-09T10:36:06.725Z"
   },
   {
    "duration": 1768,
    "start_time": "2022-02-09T10:36:07.464Z"
   },
   {
    "duration": 8,
    "start_time": "2022-02-09T10:36:18.576Z"
   },
   {
    "duration": 1788,
    "start_time": "2022-02-09T10:36:19.435Z"
   },
   {
    "duration": 9,
    "start_time": "2022-02-09T10:36:48.002Z"
   },
   {
    "duration": 1794,
    "start_time": "2022-02-09T10:36:48.561Z"
   },
   {
    "duration": 7,
    "start_time": "2022-02-09T10:36:56.554Z"
   },
   {
    "duration": 1812,
    "start_time": "2022-02-09T10:36:56.709Z"
   },
   {
    "duration": 9,
    "start_time": "2022-02-09T10:37:27.144Z"
   },
   {
    "duration": 1725,
    "start_time": "2022-02-09T10:37:27.343Z"
   },
   {
    "duration": 8,
    "start_time": "2022-02-09T10:37:40.174Z"
   },
   {
    "duration": 1805,
    "start_time": "2022-02-09T10:37:40.354Z"
   },
   {
    "duration": 8,
    "start_time": "2022-02-09T10:37:51.714Z"
   },
   {
    "duration": 1946,
    "start_time": "2022-02-09T10:37:51.877Z"
   },
   {
    "duration": 8,
    "start_time": "2022-02-09T10:38:03.571Z"
   },
   {
    "duration": 1803,
    "start_time": "2022-02-09T10:38:03.733Z"
   },
   {
    "duration": 8,
    "start_time": "2022-02-09T10:38:13.246Z"
   },
   {
    "duration": 1816,
    "start_time": "2022-02-09T10:38:13.257Z"
   },
   {
    "duration": 9,
    "start_time": "2022-02-09T10:38:19.865Z"
   },
   {
    "duration": 1802,
    "start_time": "2022-02-09T10:38:20.021Z"
   },
   {
    "duration": 9,
    "start_time": "2022-02-09T10:38:30.394Z"
   },
   {
    "duration": 1902,
    "start_time": "2022-02-09T10:38:30.514Z"
   },
   {
    "duration": 8,
    "start_time": "2022-02-09T10:38:37.551Z"
   },
   {
    "duration": 1818,
    "start_time": "2022-02-09T10:38:37.709Z"
   },
   {
    "duration": 8,
    "start_time": "2022-02-09T10:38:51.069Z"
   },
   {
    "duration": 1667,
    "start_time": "2022-02-09T10:38:51.375Z"
   },
   {
    "duration": 1540,
    "start_time": "2022-02-09T10:39:08.543Z"
   },
   {
    "duration": 1190,
    "start_time": "2022-02-09T10:39:10.085Z"
   },
   {
    "duration": 6,
    "start_time": "2022-02-09T10:39:11.278Z"
   },
   {
    "duration": 1578,
    "start_time": "2022-02-09T10:39:11.286Z"
   },
   {
    "duration": 5,
    "start_time": "2022-02-09T10:39:12.866Z"
   },
   {
    "duration": 10,
    "start_time": "2022-02-09T10:39:12.873Z"
   },
   {
    "duration": 8,
    "start_time": "2022-02-09T10:39:12.886Z"
   },
   {
    "duration": 13,
    "start_time": "2022-02-09T10:39:12.897Z"
   },
   {
    "duration": 36,
    "start_time": "2022-02-09T10:39:12.913Z"
   },
   {
    "duration": 6,
    "start_time": "2022-02-09T10:39:12.951Z"
   },
   {
    "duration": 8,
    "start_time": "2022-02-09T10:39:12.959Z"
   },
   {
    "duration": 21,
    "start_time": "2022-02-09T10:39:12.969Z"
   },
   {
    "duration": 15,
    "start_time": "2022-02-09T10:39:12.992Z"
   },
   {
    "duration": 11,
    "start_time": "2022-02-09T10:39:13.009Z"
   },
   {
    "duration": 30,
    "start_time": "2022-02-09T10:39:13.023Z"
   },
   {
    "duration": 28,
    "start_time": "2022-02-09T10:39:13.055Z"
   },
   {
    "duration": 15,
    "start_time": "2022-02-09T10:39:13.085Z"
   },
   {
    "duration": 61,
    "start_time": "2022-02-09T10:39:13.103Z"
   },
   {
    "duration": 9,
    "start_time": "2022-02-09T10:39:13.167Z"
   },
   {
    "duration": 1749,
    "start_time": "2022-02-09T10:39:13.178Z"
   },
   {
    "duration": 5,
    "start_time": "2022-02-09T10:39:14.930Z"
   },
   {
    "duration": 572,
    "start_time": "2022-02-09T10:39:14.951Z"
   },
   {
    "duration": 5,
    "start_time": "2022-02-09T10:39:15.529Z"
   },
   {
    "duration": 20,
    "start_time": "2022-02-09T10:39:15.537Z"
   },
   {
    "duration": 629,
    "start_time": "2022-02-09T10:39:15.559Z"
   },
   {
    "duration": 8,
    "start_time": "2022-02-09T10:39:16.191Z"
   },
   {
    "duration": 750,
    "start_time": "2022-02-09T10:39:16.201Z"
   },
   {
    "duration": 27,
    "start_time": "2022-02-09T10:39:16.953Z"
   },
   {
    "duration": 9,
    "start_time": "2022-02-09T10:39:16.983Z"
   },
   {
    "duration": 18,
    "start_time": "2022-02-09T10:39:16.994Z"
   },
   {
    "duration": 23,
    "start_time": "2022-02-09T10:39:17.015Z"
   },
   {
    "duration": 34,
    "start_time": "2022-02-09T10:39:17.040Z"
   },
   {
    "duration": 32,
    "start_time": "2022-02-09T10:39:17.077Z"
   },
   {
    "duration": 40,
    "start_time": "2022-02-09T10:39:17.112Z"
   },
   {
    "duration": 27,
    "start_time": "2022-02-09T10:39:17.155Z"
   },
   {
    "duration": 49,
    "start_time": "2022-02-09T10:39:17.185Z"
   },
   {
    "duration": 17,
    "start_time": "2022-02-09T10:39:17.237Z"
   },
   {
    "duration": 100,
    "start_time": "2022-02-09T10:39:17.256Z"
   },
   {
    "duration": 3,
    "start_time": "2022-02-09T10:39:17.358Z"
   },
   {
    "duration": 18,
    "start_time": "2022-02-09T10:39:17.363Z"
   },
   {
    "duration": 36,
    "start_time": "2022-02-09T10:39:17.383Z"
   },
   {
    "duration": 3102,
    "start_time": "2022-02-09T10:39:17.421Z"
   },
   {
    "duration": 571,
    "start_time": "2022-02-09T10:39:19.955Z"
   },
   {
    "duration": 569,
    "start_time": "2022-02-09T10:39:19.958Z"
   },
   {
    "duration": 569,
    "start_time": "2022-02-09T10:39:19.960Z"
   },
   {
    "duration": 567,
    "start_time": "2022-02-09T10:39:19.963Z"
   },
   {
    "duration": 566,
    "start_time": "2022-02-09T10:39:19.966Z"
   },
   {
    "duration": 564,
    "start_time": "2022-02-09T10:39:19.969Z"
   },
   {
    "duration": 562,
    "start_time": "2022-02-09T10:39:19.972Z"
   },
   {
    "duration": 6,
    "start_time": "2022-02-09T10:40:06.593Z"
   },
   {
    "duration": 600,
    "start_time": "2022-02-09T10:40:07.044Z"
   },
   {
    "duration": 6,
    "start_time": "2022-02-09T10:40:20.849Z"
   },
   {
    "duration": 450,
    "start_time": "2022-02-09T10:40:21.029Z"
   },
   {
    "duration": 6,
    "start_time": "2022-02-09T10:40:41.181Z"
   },
   {
    "duration": 495,
    "start_time": "2022-02-09T10:40:41.663Z"
   },
   {
    "duration": 5,
    "start_time": "2022-02-09T10:41:26.990Z"
   },
   {
    "duration": 485,
    "start_time": "2022-02-09T10:41:27.177Z"
   },
   {
    "duration": 6,
    "start_time": "2022-02-09T10:42:04.516Z"
   },
   {
    "duration": 476,
    "start_time": "2022-02-09T10:42:04.661Z"
   },
   {
    "duration": 8,
    "start_time": "2022-02-09T10:42:46.715Z"
   },
   {
    "duration": 1882,
    "start_time": "2022-02-09T10:42:46.860Z"
   },
   {
    "duration": 6,
    "start_time": "2022-02-09T10:43:56.374Z"
   },
   {
    "duration": 631,
    "start_time": "2022-02-09T10:43:56.560Z"
   },
   {
    "duration": 6,
    "start_time": "2022-02-09T10:44:57.537Z"
   },
   {
    "duration": 615,
    "start_time": "2022-02-09T10:44:57.712Z"
   },
   {
    "duration": 1537,
    "start_time": "2022-02-09T10:45:10.185Z"
   },
   {
    "duration": 957,
    "start_time": "2022-02-09T10:45:11.725Z"
   },
   {
    "duration": 6,
    "start_time": "2022-02-09T10:45:12.685Z"
   },
   {
    "duration": 2236,
    "start_time": "2022-02-09T10:45:12.695Z"
   },
   {
    "duration": 18,
    "start_time": "2022-02-09T10:45:14.933Z"
   },
   {
    "duration": 33,
    "start_time": "2022-02-09T10:45:14.954Z"
   },
   {
    "duration": 17,
    "start_time": "2022-02-09T10:45:14.990Z"
   },
   {
    "duration": 39,
    "start_time": "2022-02-09T10:45:15.011Z"
   },
   {
    "duration": 31,
    "start_time": "2022-02-09T10:45:15.053Z"
   },
   {
    "duration": 15,
    "start_time": "2022-02-09T10:45:15.087Z"
   },
   {
    "duration": 18,
    "start_time": "2022-02-09T10:45:15.104Z"
   },
   {
    "duration": 15,
    "start_time": "2022-02-09T10:45:15.124Z"
   },
   {
    "duration": 26,
    "start_time": "2022-02-09T10:45:15.141Z"
   },
   {
    "duration": 7,
    "start_time": "2022-02-09T10:45:15.170Z"
   },
   {
    "duration": 14,
    "start_time": "2022-02-09T10:45:15.180Z"
   },
   {
    "duration": 27,
    "start_time": "2022-02-09T10:45:15.197Z"
   },
   {
    "duration": 37,
    "start_time": "2022-02-09T10:45:15.227Z"
   },
   {
    "duration": 43,
    "start_time": "2022-02-09T10:45:15.267Z"
   },
   {
    "duration": 8,
    "start_time": "2022-02-09T10:45:15.312Z"
   },
   {
    "duration": 1810,
    "start_time": "2022-02-09T10:45:15.323Z"
   },
   {
    "duration": 16,
    "start_time": "2022-02-09T10:45:17.137Z"
   },
   {
    "duration": 771,
    "start_time": "2022-02-09T10:45:17.156Z"
   },
   {
    "duration": 16,
    "start_time": "2022-02-09T10:45:17.933Z"
   },
   {
    "duration": 9,
    "start_time": "2022-02-09T10:45:17.954Z"
   },
   {
    "duration": 559,
    "start_time": "2022-02-09T10:45:17.966Z"
   },
   {
    "duration": 606,
    "start_time": "2022-02-09T10:45:17.922Z"
   },
   {
    "duration": 605,
    "start_time": "2022-02-09T10:45:17.926Z"
   },
   {
    "duration": 605,
    "start_time": "2022-02-09T10:45:17.928Z"
   },
   {
    "duration": 594,
    "start_time": "2022-02-09T10:45:17.941Z"
   },
   {
    "duration": 591,
    "start_time": "2022-02-09T10:45:17.945Z"
   },
   {
    "duration": 591,
    "start_time": "2022-02-09T10:45:17.947Z"
   },
   {
    "duration": 590,
    "start_time": "2022-02-09T10:45:17.951Z"
   },
   {
    "duration": 588,
    "start_time": "2022-02-09T10:45:17.954Z"
   },
   {
    "duration": 588,
    "start_time": "2022-02-09T10:45:17.957Z"
   },
   {
    "duration": 587,
    "start_time": "2022-02-09T10:45:17.960Z"
   },
   {
    "duration": 586,
    "start_time": "2022-02-09T10:45:17.963Z"
   },
   {
    "duration": 586,
    "start_time": "2022-02-09T10:45:17.966Z"
   },
   {
    "duration": 585,
    "start_time": "2022-02-09T10:45:17.969Z"
   },
   {
    "duration": 584,
    "start_time": "2022-02-09T10:45:17.972Z"
   },
   {
    "duration": 582,
    "start_time": "2022-02-09T10:45:17.975Z"
   },
   {
    "duration": 583,
    "start_time": "2022-02-09T10:45:17.977Z"
   },
   {
    "duration": 581,
    "start_time": "2022-02-09T10:45:17.981Z"
   },
   {
    "duration": 579,
    "start_time": "2022-02-09T10:45:17.984Z"
   },
   {
    "duration": 579,
    "start_time": "2022-02-09T10:45:17.987Z"
   },
   {
    "duration": 570,
    "start_time": "2022-02-09T10:45:17.998Z"
   },
   {
    "duration": 568,
    "start_time": "2022-02-09T10:45:18.002Z"
   },
   {
    "duration": 567,
    "start_time": "2022-02-09T10:45:18.005Z"
   },
   {
    "duration": 567,
    "start_time": "2022-02-09T10:45:18.007Z"
   },
   {
    "duration": 566,
    "start_time": "2022-02-09T10:45:18.010Z"
   },
   {
    "duration": 817,
    "start_time": "2022-02-09T10:45:31.873Z"
   },
   {
    "duration": 9,
    "start_time": "2022-02-09T10:45:40.394Z"
   },
   {
    "duration": 755,
    "start_time": "2022-02-09T10:45:40.552Z"
   },
   {
    "duration": 10,
    "start_time": "2022-02-09T10:46:04.898Z"
   },
   {
    "duration": 579,
    "start_time": "2022-02-09T10:46:05.487Z"
   },
   {
    "duration": 8,
    "start_time": "2022-02-09T10:46:56.543Z"
   },
   {
    "duration": 705,
    "start_time": "2022-02-09T10:46:56.898Z"
   },
   {
    "duration": 8,
    "start_time": "2022-02-09T10:47:44.756Z"
   },
   {
    "duration": 634,
    "start_time": "2022-02-09T10:47:44.918Z"
   },
   {
    "duration": 33,
    "start_time": "2022-02-09T10:49:24.979Z"
   },
   {
    "duration": 20,
    "start_time": "2022-02-09T10:49:44.328Z"
   },
   {
    "duration": 20,
    "start_time": "2022-02-09T10:50:27.801Z"
   },
   {
    "duration": 1472,
    "start_time": "2022-02-09T10:50:35.400Z"
   },
   {
    "duration": 851,
    "start_time": "2022-02-09T10:50:36.875Z"
   },
   {
    "duration": 6,
    "start_time": "2022-02-09T10:50:37.729Z"
   },
   {
    "duration": 1873,
    "start_time": "2022-02-09T10:50:37.749Z"
   },
   {
    "duration": 5,
    "start_time": "2022-02-09T10:50:39.625Z"
   },
   {
    "duration": 4,
    "start_time": "2022-02-09T10:50:39.648Z"
   },
   {
    "duration": 7,
    "start_time": "2022-02-09T10:50:39.654Z"
   },
   {
    "duration": 14,
    "start_time": "2022-02-09T10:50:39.664Z"
   },
   {
    "duration": 6,
    "start_time": "2022-02-09T10:50:39.681Z"
   },
   {
    "duration": 9,
    "start_time": "2022-02-09T10:50:39.689Z"
   },
   {
    "duration": 15,
    "start_time": "2022-02-09T10:50:39.701Z"
   },
   {
    "duration": 5,
    "start_time": "2022-02-09T10:50:39.749Z"
   },
   {
    "duration": 11,
    "start_time": "2022-02-09T10:50:39.757Z"
   },
   {
    "duration": 10,
    "start_time": "2022-02-09T10:50:39.770Z"
   },
   {
    "duration": 15,
    "start_time": "2022-02-09T10:50:39.783Z"
   },
   {
    "duration": 54,
    "start_time": "2022-02-09T10:50:39.801Z"
   },
   {
    "duration": 14,
    "start_time": "2022-02-09T10:50:39.857Z"
   },
   {
    "duration": 32,
    "start_time": "2022-02-09T10:50:39.874Z"
   },
   {
    "duration": 7,
    "start_time": "2022-02-09T10:50:39.909Z"
   },
   {
    "duration": 1757,
    "start_time": "2022-02-09T10:50:39.949Z"
   },
   {
    "duration": 6,
    "start_time": "2022-02-09T10:50:41.708Z"
   },
   {
    "duration": 562,
    "start_time": "2022-02-09T10:50:41.716Z"
   },
   {
    "duration": 5,
    "start_time": "2022-02-09T10:50:42.284Z"
   },
   {
    "duration": 10,
    "start_time": "2022-02-09T10:50:42.292Z"
   },
   {
    "duration": 576,
    "start_time": "2022-02-09T10:50:42.305Z"
   },
   {
    "duration": 7,
    "start_time": "2022-02-09T10:50:42.884Z"
   },
   {
    "duration": 686,
    "start_time": "2022-02-09T10:50:42.893Z"
   },
   {
    "duration": 28,
    "start_time": "2022-02-09T10:50:43.582Z"
   },
   {
    "duration": 5,
    "start_time": "2022-02-09T10:50:43.612Z"
   },
   {
    "duration": 5,
    "start_time": "2022-02-09T10:50:43.619Z"
   },
   {
    "duration": 12,
    "start_time": "2022-02-09T10:50:43.649Z"
   },
   {
    "duration": 11,
    "start_time": "2022-02-09T10:50:43.664Z"
   },
   {
    "duration": 12,
    "start_time": "2022-02-09T10:50:43.677Z"
   },
   {
    "duration": 13,
    "start_time": "2022-02-09T10:50:43.692Z"
   },
   {
    "duration": 62,
    "start_time": "2022-02-09T10:50:43.707Z"
   },
   {
    "duration": 35,
    "start_time": "2022-02-09T10:50:43.772Z"
   },
   {
    "duration": 7,
    "start_time": "2022-02-09T10:50:43.810Z"
   },
   {
    "duration": 103,
    "start_time": "2022-02-09T10:50:43.819Z"
   },
   {
    "duration": 3,
    "start_time": "2022-02-09T10:50:43.925Z"
   },
   {
    "duration": 18,
    "start_time": "2022-02-09T10:50:43.931Z"
   },
   {
    "duration": 9,
    "start_time": "2022-02-09T10:50:43.952Z"
   },
   {
    "duration": 1587,
    "start_time": "2022-02-09T10:51:38.540Z"
   },
   {
    "duration": 858,
    "start_time": "2022-02-09T10:51:40.129Z"
   },
   {
    "duration": 6,
    "start_time": "2022-02-09T10:51:40.990Z"
   },
   {
    "duration": 1730,
    "start_time": "2022-02-09T10:51:40.999Z"
   },
   {
    "duration": 19,
    "start_time": "2022-02-09T10:51:42.731Z"
   },
   {
    "duration": 8,
    "start_time": "2022-02-09T10:51:42.752Z"
   },
   {
    "duration": 11,
    "start_time": "2022-02-09T10:51:42.762Z"
   },
   {
    "duration": 20,
    "start_time": "2022-02-09T10:51:42.776Z"
   },
   {
    "duration": 7,
    "start_time": "2022-02-09T10:51:42.800Z"
   },
   {
    "duration": 17,
    "start_time": "2022-02-09T10:51:42.809Z"
   },
   {
    "duration": 23,
    "start_time": "2022-02-09T10:51:42.828Z"
   },
   {
    "duration": 10,
    "start_time": "2022-02-09T10:51:42.853Z"
   },
   {
    "duration": 13,
    "start_time": "2022-02-09T10:51:42.865Z"
   },
   {
    "duration": 11,
    "start_time": "2022-02-09T10:51:42.881Z"
   },
   {
    "duration": 12,
    "start_time": "2022-02-09T10:51:42.895Z"
   },
   {
    "duration": 50,
    "start_time": "2022-02-09T10:51:42.909Z"
   },
   {
    "duration": 16,
    "start_time": "2022-02-09T10:51:42.962Z"
   },
   {
    "duration": 37,
    "start_time": "2022-02-09T10:51:42.981Z"
   },
   {
    "duration": 9,
    "start_time": "2022-02-09T10:51:43.049Z"
   },
   {
    "duration": 1788,
    "start_time": "2022-02-09T10:51:43.060Z"
   },
   {
    "duration": 5,
    "start_time": "2022-02-09T10:51:44.851Z"
   },
   {
    "duration": 577,
    "start_time": "2022-02-09T10:51:44.858Z"
   },
   {
    "duration": 5,
    "start_time": "2022-02-09T10:51:45.449Z"
   },
   {
    "duration": 13,
    "start_time": "2022-02-09T10:51:45.457Z"
   },
   {
    "duration": 600,
    "start_time": "2022-02-09T10:51:45.473Z"
   },
   {
    "duration": 7,
    "start_time": "2022-02-09T10:51:46.075Z"
   },
   {
    "duration": 724,
    "start_time": "2022-02-09T10:51:46.085Z"
   },
   {
    "duration": 42,
    "start_time": "2022-02-09T10:51:46.812Z"
   },
   {
    "duration": 5,
    "start_time": "2022-02-09T10:51:46.856Z"
   },
   {
    "duration": 9,
    "start_time": "2022-02-09T10:51:46.863Z"
   },
   {
    "duration": 12,
    "start_time": "2022-02-09T10:51:46.874Z"
   },
   {
    "duration": 14,
    "start_time": "2022-02-09T10:51:46.889Z"
   },
   {
    "duration": 13,
    "start_time": "2022-02-09T10:51:46.906Z"
   },
   {
    "duration": 40,
    "start_time": "2022-02-09T10:51:46.921Z"
   },
   {
    "duration": 21,
    "start_time": "2022-02-09T10:51:46.964Z"
   },
   {
    "duration": 70,
    "start_time": "2022-02-09T10:51:46.987Z"
   },
   {
    "duration": 8,
    "start_time": "2022-02-09T10:51:47.060Z"
   },
   {
    "duration": 104,
    "start_time": "2022-02-09T10:51:47.071Z"
   },
   {
    "duration": 5,
    "start_time": "2022-02-09T10:51:47.177Z"
   },
   {
    "duration": 8,
    "start_time": "2022-02-09T10:51:47.185Z"
   },
   {
    "duration": 10,
    "start_time": "2022-02-09T10:51:47.195Z"
   },
   {
    "duration": 20603,
    "start_time": "2022-02-09T10:51:47.208Z"
   },
   {
    "duration": 563,
    "start_time": "2022-02-09T10:52:07.252Z"
   },
   {
    "duration": 561,
    "start_time": "2022-02-09T10:52:07.256Z"
   },
   {
    "duration": 558,
    "start_time": "2022-02-09T10:52:07.261Z"
   },
   {
    "duration": 557,
    "start_time": "2022-02-09T10:52:07.264Z"
   },
   {
    "duration": 556,
    "start_time": "2022-02-09T10:52:07.267Z"
   },
   {
    "duration": 555,
    "start_time": "2022-02-09T10:52:07.270Z"
   },
   {
    "duration": 554,
    "start_time": "2022-02-09T10:52:07.273Z"
   },
   {
    "duration": 5,
    "start_time": "2022-02-09T10:54:24.542Z"
   },
   {
    "duration": 4,
    "start_time": "2022-02-09T10:54:25.313Z"
   },
   {
    "duration": 3,
    "start_time": "2022-02-09T10:54:40.785Z"
   },
   {
    "duration": 37,
    "start_time": "2022-02-09T11:01:53.063Z"
   },
   {
    "duration": 7,
    "start_time": "2022-02-09T11:03:27.878Z"
   },
   {
    "duration": 643,
    "start_time": "2022-02-09T11:03:28.355Z"
   },
   {
    "duration": 8,
    "start_time": "2022-02-09T11:04:15.958Z"
   },
   {
    "duration": 5,
    "start_time": "2022-02-09T11:04:16.700Z"
   },
   {
    "duration": 4,
    "start_time": "2022-02-09T11:04:29.694Z"
   },
   {
    "duration": 6,
    "start_time": "2022-02-09T11:04:30.069Z"
   },
   {
    "duration": 728,
    "start_time": "2022-02-09T11:04:30.693Z"
   },
   {
    "duration": 1710,
    "start_time": "2022-02-09T11:05:13.717Z"
   },
   {
    "duration": 859,
    "start_time": "2022-02-09T11:05:15.430Z"
   },
   {
    "duration": 6,
    "start_time": "2022-02-09T11:05:16.292Z"
   },
   {
    "duration": 1950,
    "start_time": "2022-02-09T11:05:16.301Z"
   },
   {
    "duration": 7,
    "start_time": "2022-02-09T11:05:18.255Z"
   },
   {
    "duration": 6,
    "start_time": "2022-02-09T11:05:18.265Z"
   },
   {
    "duration": 8,
    "start_time": "2022-02-09T11:05:18.274Z"
   },
   {
    "duration": 21,
    "start_time": "2022-02-09T11:05:18.287Z"
   },
   {
    "duration": 39,
    "start_time": "2022-02-09T11:05:18.311Z"
   },
   {
    "duration": 8,
    "start_time": "2022-02-09T11:05:18.353Z"
   },
   {
    "duration": 11,
    "start_time": "2022-02-09T11:05:18.363Z"
   },
   {
    "duration": 4,
    "start_time": "2022-02-09T11:05:18.377Z"
   },
   {
    "duration": 15,
    "start_time": "2022-02-09T11:05:18.383Z"
   },
   {
    "duration": 22,
    "start_time": "2022-02-09T11:05:18.401Z"
   },
   {
    "duration": 11,
    "start_time": "2022-02-09T11:05:18.449Z"
   },
   {
    "duration": 34,
    "start_time": "2022-02-09T11:05:18.463Z"
   },
   {
    "duration": 19,
    "start_time": "2022-02-09T11:05:18.500Z"
   },
   {
    "duration": 57,
    "start_time": "2022-02-09T11:05:18.522Z"
   },
   {
    "duration": 8,
    "start_time": "2022-02-09T11:05:18.581Z"
   },
   {
    "duration": 1888,
    "start_time": "2022-02-09T11:05:18.592Z"
   },
   {
    "duration": 6,
    "start_time": "2022-02-09T11:05:20.482Z"
   },
   {
    "duration": 565,
    "start_time": "2022-02-09T11:05:20.490Z"
   },
   {
    "duration": 5,
    "start_time": "2022-02-09T11:05:21.060Z"
   },
   {
    "duration": 13,
    "start_time": "2022-02-09T11:05:21.069Z"
   },
   {
    "duration": 596,
    "start_time": "2022-02-09T11:05:21.084Z"
   },
   {
    "duration": 9,
    "start_time": "2022-02-09T11:05:21.683Z"
   },
   {
    "duration": 1016,
    "start_time": "2022-02-09T11:05:21.694Z"
   },
   {
    "duration": 41,
    "start_time": "2022-02-09T11:05:22.714Z"
   },
   {
    "duration": 4,
    "start_time": "2022-02-09T11:05:22.758Z"
   },
   {
    "duration": 9,
    "start_time": "2022-02-09T11:05:22.765Z"
   },
   {
    "duration": 12,
    "start_time": "2022-02-09T11:05:22.776Z"
   },
   {
    "duration": 13,
    "start_time": "2022-02-09T11:05:22.790Z"
   },
   {
    "duration": 54,
    "start_time": "2022-02-09T11:05:22.805Z"
   },
   {
    "duration": 17,
    "start_time": "2022-02-09T11:05:22.861Z"
   },
   {
    "duration": 21,
    "start_time": "2022-02-09T11:05:22.881Z"
   },
   {
    "duration": 71,
    "start_time": "2022-02-09T11:05:22.904Z"
   },
   {
    "duration": 6,
    "start_time": "2022-02-09T11:05:22.978Z"
   },
   {
    "duration": 99,
    "start_time": "2022-02-09T11:05:22.986Z"
   },
   {
    "duration": 37,
    "start_time": "2022-02-09T11:05:23.088Z"
   },
   {
    "duration": 5,
    "start_time": "2022-02-09T11:05:23.127Z"
   },
   {
    "duration": 3,
    "start_time": "2022-02-09T11:05:23.149Z"
   },
   {
    "duration": 26,
    "start_time": "2022-02-09T11:05:23.154Z"
   },
   {
    "duration": 778,
    "start_time": "2022-02-09T11:05:23.182Z"
   },
   {
    "duration": 590,
    "start_time": "2022-02-09T11:05:23.374Z"
   },
   {
    "duration": 588,
    "start_time": "2022-02-09T11:05:23.378Z"
   },
   {
    "duration": 585,
    "start_time": "2022-02-09T11:05:23.384Z"
   },
   {
    "duration": 578,
    "start_time": "2022-02-09T11:05:23.393Z"
   },
   {
    "duration": 579,
    "start_time": "2022-02-09T11:05:23.395Z"
   },
   {
    "duration": 576,
    "start_time": "2022-02-09T11:05:23.400Z"
   },
   {
    "duration": 567,
    "start_time": "2022-02-09T11:05:23.411Z"
   },
   {
    "duration": 4,
    "start_time": "2022-02-09T11:06:53.122Z"
   },
   {
    "duration": 6,
    "start_time": "2022-02-09T11:06:53.520Z"
   },
   {
    "duration": 989,
    "start_time": "2022-02-09T11:06:53.839Z"
   },
   {
    "duration": 6,
    "start_time": "2022-02-09T11:06:59.714Z"
   },
   {
    "duration": 4,
    "start_time": "2022-02-09T11:07:00.683Z"
   },
   {
    "duration": 4,
    "start_time": "2022-02-09T11:07:06.015Z"
   },
   {
    "duration": 8,
    "start_time": "2022-02-09T11:07:06.218Z"
   },
   {
    "duration": 79912,
    "start_time": "2022-02-09T11:07:06.477Z"
   },
   {
    "duration": 229591,
    "start_time": "2022-02-09T11:08:57.735Z"
   },
   {
    "duration": 8,
    "start_time": "2022-02-09T11:12:47.328Z"
   },
   {
    "duration": 3430099,
    "start_time": "2022-02-09T11:12:47.349Z"
   },
   {
    "duration": 7830587,
    "start_time": "2022-02-09T12:09:57.451Z"
   },
   {
    "duration": 9,
    "start_time": "2022-02-09T14:20:28.041Z"
   },
   {
    "duration": 994,
    "start_time": "2022-02-09T14:20:28.053Z"
   },
   {
    "duration": 2308,
    "start_time": "2022-02-09T14:20:29.051Z"
   },
   {
    "duration": 6054,
    "start_time": "2022-02-09T14:23:38.947Z"
   },
   {
    "duration": 39746,
    "start_time": "2022-02-09T14:25:15.630Z"
   },
   {
    "duration": 10296,
    "start_time": "2022-02-09T14:26:10.400Z"
   },
   {
    "duration": 39,
    "start_time": "2022-02-09T14:26:39.077Z"
   },
   {
    "duration": 5,
    "start_time": "2022-02-09T14:27:20.010Z"
   },
   {
    "duration": 9937,
    "start_time": "2022-02-09T14:27:21.700Z"
   },
   {
    "duration": 22,
    "start_time": "2022-02-09T14:30:53.002Z"
   },
   {
    "duration": 18,
    "start_time": "2022-02-09T14:32:55.064Z"
   },
   {
    "duration": 1832,
    "start_time": "2022-02-09T14:34:40.745Z"
   },
   {
    "duration": 940,
    "start_time": "2022-02-09T14:34:42.580Z"
   },
   {
    "duration": 6,
    "start_time": "2022-02-09T14:34:43.524Z"
   },
   {
    "duration": 1892,
    "start_time": "2022-02-09T14:34:43.533Z"
   },
   {
    "duration": 22,
    "start_time": "2022-02-09T14:34:45.428Z"
   },
   {
    "duration": 6,
    "start_time": "2022-02-09T14:34:45.454Z"
   },
   {
    "duration": 14,
    "start_time": "2022-02-09T14:34:45.463Z"
   },
   {
    "duration": 18,
    "start_time": "2022-02-09T14:34:45.480Z"
   },
   {
    "duration": 7,
    "start_time": "2022-02-09T14:34:45.502Z"
   },
   {
    "duration": 7,
    "start_time": "2022-02-09T14:34:45.512Z"
   },
   {
    "duration": 32,
    "start_time": "2022-02-09T14:34:45.521Z"
   },
   {
    "duration": 5,
    "start_time": "2022-02-09T14:34:45.556Z"
   },
   {
    "duration": 23,
    "start_time": "2022-02-09T14:34:45.564Z"
   },
   {
    "duration": 9,
    "start_time": "2022-02-09T14:34:45.590Z"
   },
   {
    "duration": 49,
    "start_time": "2022-02-09T14:34:45.601Z"
   },
   {
    "duration": 24,
    "start_time": "2022-02-09T14:34:45.654Z"
   },
   {
    "duration": 16,
    "start_time": "2022-02-09T14:34:45.681Z"
   },
   {
    "duration": 68,
    "start_time": "2022-02-09T14:34:45.699Z"
   },
   {
    "duration": 10,
    "start_time": "2022-02-09T14:34:45.770Z"
   },
   {
    "duration": 1888,
    "start_time": "2022-02-09T14:34:45.783Z"
   },
   {
    "duration": 6,
    "start_time": "2022-02-09T14:34:47.674Z"
   },
   {
    "duration": 602,
    "start_time": "2022-02-09T14:34:47.683Z"
   },
   {
    "duration": 6,
    "start_time": "2022-02-09T14:34:48.288Z"
   },
   {
    "duration": 8,
    "start_time": "2022-02-09T14:34:48.296Z"
   },
   {
    "duration": 637,
    "start_time": "2022-02-09T14:34:48.306Z"
   },
   {
    "duration": 10,
    "start_time": "2022-02-09T14:34:48.950Z"
   },
   {
    "duration": 764,
    "start_time": "2022-02-09T14:34:48.967Z"
   },
   {
    "duration": 40,
    "start_time": "2022-02-09T14:34:49.748Z"
   },
   {
    "duration": 6,
    "start_time": "2022-02-09T14:34:49.792Z"
   },
   {
    "duration": 13,
    "start_time": "2022-02-09T14:34:49.801Z"
   },
   {
    "duration": 30,
    "start_time": "2022-02-09T14:34:49.818Z"
   },
   {
    "duration": 17,
    "start_time": "2022-02-09T14:34:49.852Z"
   },
   {
    "duration": 20,
    "start_time": "2022-02-09T14:34:49.872Z"
   },
   {
    "duration": 24,
    "start_time": "2022-02-09T14:34:49.895Z"
   },
   {
    "duration": 51,
    "start_time": "2022-02-09T14:34:49.921Z"
   },
   {
    "duration": 38,
    "start_time": "2022-02-09T14:34:49.974Z"
   },
   {
    "duration": 9,
    "start_time": "2022-02-09T14:34:50.014Z"
   },
   {
    "duration": 100,
    "start_time": "2022-02-09T14:34:50.050Z"
   },
   {
    "duration": 39,
    "start_time": "2022-02-09T14:34:50.154Z"
   },
   {
    "duration": 4,
    "start_time": "2022-02-09T14:34:50.197Z"
   },
   {
    "duration": 7,
    "start_time": "2022-02-09T14:34:50.204Z"
   },
   {
    "duration": 37,
    "start_time": "2022-02-09T14:34:50.214Z"
   },
   {
    "duration": 7235,
    "start_time": "2022-02-09T14:34:50.257Z"
   },
   {
    "duration": 15626,
    "start_time": "2022-02-09T14:34:57.496Z"
   },
   {
    "duration": 30,
    "start_time": "2022-02-09T14:35:13.126Z"
   },
   {
    "duration": 72170,
    "start_time": "2022-02-09T14:35:13.159Z"
   },
   {
    "duration": 757,
    "start_time": "2022-02-09T14:36:24.575Z"
   },
   {
    "duration": 755,
    "start_time": "2022-02-09T14:36:24.579Z"
   },
   {
    "duration": 753,
    "start_time": "2022-02-09T14:36:24.582Z"
   },
   {
    "duration": 752,
    "start_time": "2022-02-09T14:36:24.585Z"
   },
   {
    "duration": 749,
    "start_time": "2022-02-09T14:36:24.590Z"
   },
   {
    "duration": 748,
    "start_time": "2022-02-09T14:36:24.594Z"
   },
   {
    "duration": 746,
    "start_time": "2022-02-09T14:36:24.598Z"
   },
   {
    "duration": 9247,
    "start_time": "2022-02-09T14:36:35.062Z"
   },
   {
    "duration": 721,
    "start_time": "2022-02-09T14:36:43.594Z"
   },
   {
    "duration": 719,
    "start_time": "2022-02-09T14:36:43.598Z"
   },
   {
    "duration": 718,
    "start_time": "2022-02-09T14:36:43.601Z"
   },
   {
    "duration": 715,
    "start_time": "2022-02-09T14:36:43.605Z"
   },
   {
    "duration": 712,
    "start_time": "2022-02-09T14:36:43.610Z"
   },
   {
    "duration": 710,
    "start_time": "2022-02-09T14:36:43.614Z"
   },
   {
    "duration": 709,
    "start_time": "2022-02-09T14:36:43.617Z"
   },
   {
    "duration": 7,
    "start_time": "2022-02-09T14:36:46.393Z"
   },
   {
    "duration": 336834,
    "start_time": "2022-02-09T14:36:46.577Z"
   },
   {
    "duration": 705584,
    "start_time": "2022-02-09T14:42:23.414Z"
   },
   {
    "duration": 5,
    "start_time": "2022-02-09T14:54:09.001Z"
   },
   {
    "duration": 940,
    "start_time": "2022-02-09T14:54:09.009Z"
   },
   {
    "duration": 1696,
    "start_time": "2022-02-09T14:54:09.953Z"
   },
   {
    "duration": 38629,
    "start_time": "2022-02-09T14:54:11.653Z"
   },
   {
    "duration": 6,
    "start_time": "2022-02-09T14:54:50.285Z"
   },
   {
    "duration": 9391,
    "start_time": "2022-02-09T14:54:50.296Z"
   },
   {
    "duration": 9,
    "start_time": "2022-02-09T15:10:25.254Z"
   },
   {
    "duration": 13,
    "start_time": "2022-02-09T15:10:30.742Z"
   },
   {
    "duration": 1509,
    "start_time": "2022-02-09T15:14:40.997Z"
   },
   {
    "duration": 879,
    "start_time": "2022-02-09T15:14:42.509Z"
   },
   {
    "duration": 6,
    "start_time": "2022-02-09T15:14:43.392Z"
   },
   {
    "duration": 1523,
    "start_time": "2022-02-09T15:14:43.401Z"
   },
   {
    "duration": 5,
    "start_time": "2022-02-09T15:14:44.927Z"
   },
   {
    "duration": 17,
    "start_time": "2022-02-09T15:14:44.935Z"
   },
   {
    "duration": 7,
    "start_time": "2022-02-09T15:14:44.956Z"
   },
   {
    "duration": 13,
    "start_time": "2022-02-09T15:14:44.967Z"
   },
   {
    "duration": 6,
    "start_time": "2022-02-09T15:14:44.982Z"
   },
   {
    "duration": 8,
    "start_time": "2022-02-09T15:14:44.991Z"
   },
   {
    "duration": 15,
    "start_time": "2022-02-09T15:14:45.002Z"
   },
   {
    "duration": 3,
    "start_time": "2022-02-09T15:14:45.049Z"
   },
   {
    "duration": 15,
    "start_time": "2022-02-09T15:14:45.055Z"
   },
   {
    "duration": 9,
    "start_time": "2022-02-09T15:14:45.073Z"
   },
   {
    "duration": 20,
    "start_time": "2022-02-09T15:14:45.085Z"
   },
   {
    "duration": 29,
    "start_time": "2022-02-09T15:14:45.150Z"
   },
   {
    "duration": 77,
    "start_time": "2022-02-09T15:14:45.182Z"
   },
   {
    "duration": 90,
    "start_time": "2022-02-09T15:14:45.262Z"
   },
   {
    "duration": 7,
    "start_time": "2022-02-09T15:14:45.355Z"
   },
   {
    "duration": 2027,
    "start_time": "2022-02-09T15:14:45.365Z"
   },
   {
    "duration": 5,
    "start_time": "2022-02-09T15:14:47.394Z"
   },
   {
    "duration": 556,
    "start_time": "2022-02-09T15:14:47.401Z"
   },
   {
    "duration": 5,
    "start_time": "2022-02-09T15:14:47.962Z"
   },
   {
    "duration": 13,
    "start_time": "2022-02-09T15:14:47.970Z"
   },
   {
    "duration": 571,
    "start_time": "2022-02-09T15:14:47.985Z"
   },
   {
    "duration": 7,
    "start_time": "2022-02-09T15:14:48.559Z"
   },
   {
    "duration": 722,
    "start_time": "2022-02-09T15:14:48.568Z"
   },
   {
    "duration": 27,
    "start_time": "2022-02-09T15:14:49.293Z"
   },
   {
    "duration": 4,
    "start_time": "2022-02-09T15:14:49.322Z"
   },
   {
    "duration": 22,
    "start_time": "2022-02-09T15:14:49.328Z"
   },
   {
    "duration": 10,
    "start_time": "2022-02-09T15:14:49.353Z"
   },
   {
    "duration": 15,
    "start_time": "2022-02-09T15:14:49.365Z"
   },
   {
    "duration": 11,
    "start_time": "2022-02-09T15:14:49.382Z"
   },
   {
    "duration": 14,
    "start_time": "2022-02-09T15:14:49.395Z"
   },
   {
    "duration": 57,
    "start_time": "2022-02-09T15:14:49.411Z"
   },
   {
    "duration": 35,
    "start_time": "2022-02-09T15:14:49.470Z"
   },
   {
    "duration": 7,
    "start_time": "2022-02-09T15:14:49.508Z"
   },
   {
    "duration": 78,
    "start_time": "2022-02-09T15:14:49.549Z"
   },
   {
    "duration": 50,
    "start_time": "2022-02-09T15:14:49.630Z"
   },
   {
    "duration": 3,
    "start_time": "2022-02-09T15:14:49.682Z"
   },
   {
    "duration": 763,
    "start_time": "2022-02-09T15:14:49.688Z"
   },
   {
    "duration": 812,
    "start_time": "2022-02-09T15:14:49.641Z"
   },
   {
    "duration": 809,
    "start_time": "2022-02-09T15:14:49.646Z"
   },
   {
    "duration": 807,
    "start_time": "2022-02-09T15:14:49.650Z"
   },
   {
    "duration": 804,
    "start_time": "2022-02-09T15:14:49.654Z"
   },
   {
    "duration": 803,
    "start_time": "2022-02-09T15:14:49.657Z"
   },
   {
    "duration": 801,
    "start_time": "2022-02-09T15:14:49.660Z"
   },
   {
    "duration": 799,
    "start_time": "2022-02-09T15:14:49.664Z"
   },
   {
    "duration": 797,
    "start_time": "2022-02-09T15:14:49.667Z"
   },
   {
    "duration": 795,
    "start_time": "2022-02-09T15:14:49.671Z"
   },
   {
    "duration": 794,
    "start_time": "2022-02-09T15:14:49.674Z"
   },
   {
    "duration": 792,
    "start_time": "2022-02-09T15:14:49.677Z"
   },
   {
    "duration": 792,
    "start_time": "2022-02-09T15:14:49.679Z"
   },
   {
    "duration": 3,
    "start_time": "2022-02-09T15:15:05.571Z"
   },
   {
    "duration": 5,
    "start_time": "2022-02-09T15:15:06.716Z"
   },
   {
    "duration": 4348,
    "start_time": "2022-02-09T15:15:13.028Z"
   },
   {
    "duration": 789,
    "start_time": "2022-02-09T15:15:16.589Z"
   },
   {
    "duration": 7,
    "start_time": "2022-02-09T15:15:36.361Z"
   },
   {
    "duration": 4,
    "start_time": "2022-02-09T15:15:44.989Z"
   },
   {
    "duration": 48674,
    "start_time": "2022-02-09T15:15:46.929Z"
   },
   {
    "duration": 809,
    "start_time": "2022-02-09T15:16:34.796Z"
   },
   {
    "duration": 801,
    "start_time": "2022-02-09T15:16:34.806Z"
   },
   {
    "duration": 41372,
    "start_time": "2022-02-09T15:16:48.845Z"
   },
   {
    "duration": 6,
    "start_time": "2022-02-09T15:18:00.661Z"
   },
   {
    "duration": 13918,
    "start_time": "2022-02-09T15:18:00.815Z"
   },
   {
    "duration": 7,
    "start_time": "2022-02-09T15:39:12.399Z"
   },
   {
    "duration": 571,
    "start_time": "2022-02-09T15:39:14.558Z"
   },
   {
    "duration": 667,
    "start_time": "2022-02-09T15:39:21.548Z"
   },
   {
    "duration": 20,
    "start_time": "2022-02-09T15:50:05.976Z"
   },
   {
    "duration": 9,
    "start_time": "2022-02-09T15:53:06.373Z"
   },
   {
    "duration": 1640,
    "start_time": "2022-02-09T15:53:09.938Z"
   },
   {
    "duration": 9,
    "start_time": "2022-02-09T15:53:18.308Z"
   },
   {
    "duration": 1739,
    "start_time": "2022-02-09T15:53:21.313Z"
   },
   {
    "duration": 9,
    "start_time": "2022-02-09T15:53:27.236Z"
   },
   {
    "duration": 1680,
    "start_time": "2022-02-09T15:53:28.677Z"
   },
   {
    "duration": 9,
    "start_time": "2022-02-09T15:53:35.719Z"
   },
   {
    "duration": 1640,
    "start_time": "2022-02-09T15:53:36.181Z"
   },
   {
    "duration": 8,
    "start_time": "2022-02-09T15:53:40.800Z"
   },
   {
    "duration": 1809,
    "start_time": "2022-02-09T15:53:41.300Z"
   },
   {
    "duration": 5,
    "start_time": "2022-02-09T15:55:08.191Z"
   },
   {
    "duration": 479,
    "start_time": "2022-02-09T15:55:08.547Z"
   },
   {
    "duration": 6,
    "start_time": "2022-02-09T15:55:15.891Z"
   },
   {
    "duration": 5,
    "start_time": "2022-02-09T15:55:16.903Z"
   },
   {
    "duration": 478,
    "start_time": "2022-02-09T15:55:17.295Z"
   },
   {
    "duration": 7,
    "start_time": "2022-02-09T15:57:26.811Z"
   },
   {
    "duration": 551,
    "start_time": "2022-02-09T15:57:28.278Z"
   },
   {
    "duration": 7,
    "start_time": "2022-02-09T15:57:42.676Z"
   },
   {
    "duration": 6,
    "start_time": "2022-02-09T15:57:43.608Z"
   },
   {
    "duration": 556,
    "start_time": "2022-02-09T15:57:43.806Z"
   },
   {
    "duration": 641,
    "start_time": "2022-02-09T15:57:51.707Z"
   },
   {
    "duration": 7,
    "start_time": "2022-02-09T15:58:12.778Z"
   },
   {
    "duration": 573,
    "start_time": "2022-02-09T15:58:14.232Z"
   },
   {
    "duration": 1576,
    "start_time": "2022-02-09T15:58:36.203Z"
   },
   {
    "duration": 828,
    "start_time": "2022-02-09T15:58:37.782Z"
   },
   {
    "duration": 6,
    "start_time": "2022-02-09T15:58:38.613Z"
   },
   {
    "duration": 1565,
    "start_time": "2022-02-09T15:58:38.622Z"
   },
   {
    "duration": 6,
    "start_time": "2022-02-09T15:58:40.189Z"
   },
   {
    "duration": 6,
    "start_time": "2022-02-09T15:58:40.198Z"
   },
   {
    "duration": 10,
    "start_time": "2022-02-09T15:58:40.207Z"
   },
   {
    "duration": 36,
    "start_time": "2022-02-09T15:58:40.221Z"
   },
   {
    "duration": 7,
    "start_time": "2022-02-09T15:58:40.260Z"
   },
   {
    "duration": 7,
    "start_time": "2022-02-09T15:58:40.269Z"
   },
   {
    "duration": 5,
    "start_time": "2022-02-09T15:58:40.279Z"
   },
   {
    "duration": 8,
    "start_time": "2022-02-09T15:58:40.287Z"
   },
   {
    "duration": 10,
    "start_time": "2022-02-09T15:58:40.297Z"
   },
   {
    "duration": 44,
    "start_time": "2022-02-09T15:58:40.309Z"
   },
   {
    "duration": 12,
    "start_time": "2022-02-09T15:58:40.356Z"
   },
   {
    "duration": 21,
    "start_time": "2022-02-09T15:58:40.370Z"
   },
   {
    "duration": 58,
    "start_time": "2022-02-09T15:58:40.393Z"
   },
   {
    "duration": 38,
    "start_time": "2022-02-09T15:58:40.454Z"
   },
   {
    "duration": 8,
    "start_time": "2022-02-09T15:58:40.495Z"
   },
   {
    "duration": 1893,
    "start_time": "2022-02-09T15:58:40.505Z"
   },
   {
    "duration": 7,
    "start_time": "2022-02-09T15:58:42.402Z"
   },
   {
    "duration": 554,
    "start_time": "2022-02-09T15:58:42.413Z"
   },
   {
    "duration": 5,
    "start_time": "2022-02-09T15:58:42.973Z"
   },
   {
    "duration": 10,
    "start_time": "2022-02-09T15:58:42.981Z"
   },
   {
    "duration": 581,
    "start_time": "2022-02-09T15:58:42.993Z"
   },
   {
    "duration": 7,
    "start_time": "2022-02-09T15:58:43.576Z"
   },
   {
    "duration": 695,
    "start_time": "2022-02-09T15:58:43.586Z"
   },
   {
    "duration": 27,
    "start_time": "2022-02-09T15:58:44.283Z"
   },
   {
    "duration": 6,
    "start_time": "2022-02-09T15:58:44.313Z"
   },
   {
    "duration": 5,
    "start_time": "2022-02-09T15:58:44.349Z"
   },
   {
    "duration": 10,
    "start_time": "2022-02-09T15:58:44.357Z"
   },
   {
    "duration": 13,
    "start_time": "2022-02-09T15:58:44.369Z"
   },
   {
    "duration": 9,
    "start_time": "2022-02-09T15:58:44.384Z"
   },
   {
    "duration": 16,
    "start_time": "2022-02-09T15:58:44.395Z"
   },
   {
    "duration": 52,
    "start_time": "2022-02-09T15:58:44.413Z"
   },
   {
    "duration": 36,
    "start_time": "2022-02-09T15:58:44.469Z"
   },
   {
    "duration": 6,
    "start_time": "2022-02-09T15:58:44.508Z"
   },
   {
    "duration": 109,
    "start_time": "2022-02-09T15:58:44.517Z"
   },
   {
    "duration": 50,
    "start_time": "2022-02-09T15:58:44.629Z"
   },
   {
    "duration": 3,
    "start_time": "2022-02-09T15:58:44.682Z"
   },
   {
    "duration": 11,
    "start_time": "2022-02-09T15:58:44.688Z"
   },
   {
    "duration": 12,
    "start_time": "2022-02-09T15:58:44.701Z"
   },
   {
    "duration": 1197,
    "start_time": "2022-02-09T15:58:44.716Z"
   },
   {
    "duration": 501,
    "start_time": "2022-02-09T15:58:45.415Z"
   },
   {
    "duration": 498,
    "start_time": "2022-02-09T15:58:45.419Z"
   },
   {
    "duration": 494,
    "start_time": "2022-02-09T15:58:45.425Z"
   },
   {
    "duration": 491,
    "start_time": "2022-02-09T15:58:45.429Z"
   },
   {
    "duration": 489,
    "start_time": "2022-02-09T15:58:45.433Z"
   },
   {
    "duration": 485,
    "start_time": "2022-02-09T15:58:45.438Z"
   },
   {
    "duration": 451,
    "start_time": "2022-02-09T15:58:45.473Z"
   },
   {
    "duration": 449,
    "start_time": "2022-02-09T15:58:45.477Z"
   },
   {
    "duration": 446,
    "start_time": "2022-02-09T15:58:45.481Z"
   },
   {
    "duration": 445,
    "start_time": "2022-02-09T15:58:45.484Z"
   },
   {
    "duration": 8,
    "start_time": "2022-02-09T16:10:07.572Z"
   },
   {
    "duration": 96,
    "start_time": "2022-02-09T16:17:44.912Z"
   },
   {
    "duration": 1541,
    "start_time": "2022-02-09T16:18:21.537Z"
   },
   {
    "duration": 849,
    "start_time": "2022-02-09T16:18:23.081Z"
   },
   {
    "duration": 6,
    "start_time": "2022-02-09T16:18:23.933Z"
   },
   {
    "duration": 1600,
    "start_time": "2022-02-09T16:18:23.949Z"
   },
   {
    "duration": 6,
    "start_time": "2022-02-09T16:18:25.551Z"
   },
   {
    "duration": 12,
    "start_time": "2022-02-09T16:18:25.559Z"
   },
   {
    "duration": 14,
    "start_time": "2022-02-09T16:18:25.573Z"
   },
   {
    "duration": 15,
    "start_time": "2022-02-09T16:18:25.590Z"
   },
   {
    "duration": 8,
    "start_time": "2022-02-09T16:18:25.608Z"
   },
   {
    "duration": 30,
    "start_time": "2022-02-09T16:18:25.618Z"
   },
   {
    "duration": 8,
    "start_time": "2022-02-09T16:18:25.651Z"
   },
   {
    "duration": 6,
    "start_time": "2022-02-09T16:18:25.661Z"
   },
   {
    "duration": 10,
    "start_time": "2022-02-09T16:18:25.669Z"
   },
   {
    "duration": 6,
    "start_time": "2022-02-09T16:18:25.681Z"
   },
   {
    "duration": 13,
    "start_time": "2022-02-09T16:18:25.689Z"
   },
   {
    "duration": 59,
    "start_time": "2022-02-09T16:18:25.704Z"
   },
   {
    "duration": 16,
    "start_time": "2022-02-09T16:18:25.765Z"
   },
   {
    "duration": 66,
    "start_time": "2022-02-09T16:18:25.784Z"
   },
   {
    "duration": 8,
    "start_time": "2022-02-09T16:18:25.852Z"
   },
   {
    "duration": 1956,
    "start_time": "2022-02-09T16:18:25.862Z"
   },
   {
    "duration": 6,
    "start_time": "2022-02-09T16:18:27.821Z"
   },
   {
    "duration": 546,
    "start_time": "2022-02-09T16:18:27.829Z"
   },
   {
    "duration": 5,
    "start_time": "2022-02-09T16:18:28.380Z"
   },
   {
    "duration": 8,
    "start_time": "2022-02-09T16:18:28.388Z"
   },
   {
    "duration": 589,
    "start_time": "2022-02-09T16:18:28.398Z"
   },
   {
    "duration": 8,
    "start_time": "2022-02-09T16:18:28.989Z"
   },
   {
    "duration": 696,
    "start_time": "2022-02-09T16:18:28.999Z"
   },
   {
    "duration": 29,
    "start_time": "2022-02-09T16:18:29.701Z"
   },
   {
    "duration": 17,
    "start_time": "2022-02-09T16:18:29.733Z"
   },
   {
    "duration": 17,
    "start_time": "2022-02-09T16:18:29.753Z"
   },
   {
    "duration": 15,
    "start_time": "2022-02-09T16:18:29.773Z"
   },
   {
    "duration": 20,
    "start_time": "2022-02-09T16:18:29.791Z"
   },
   {
    "duration": 25,
    "start_time": "2022-02-09T16:18:29.814Z"
   },
   {
    "duration": 23,
    "start_time": "2022-02-09T16:18:29.841Z"
   },
   {
    "duration": 21,
    "start_time": "2022-02-09T16:18:29.866Z"
   },
   {
    "duration": 35,
    "start_time": "2022-02-09T16:18:29.889Z"
   },
   {
    "duration": 6,
    "start_time": "2022-02-09T16:18:29.926Z"
   },
   {
    "duration": 75,
    "start_time": "2022-02-09T16:18:29.948Z"
   },
   {
    "duration": 55,
    "start_time": "2022-02-09T16:18:30.025Z"
   },
   {
    "duration": 3,
    "start_time": "2022-02-09T16:18:30.083Z"
   },
   {
    "duration": 20,
    "start_time": "2022-02-09T16:18:30.089Z"
   },
   {
    "duration": 16,
    "start_time": "2022-02-09T16:18:30.111Z"
   },
   {
    "duration": 6634,
    "start_time": "2022-02-09T16:18:30.130Z"
   },
   {
    "duration": 14586,
    "start_time": "2022-02-09T16:18:36.767Z"
   },
   {
    "duration": 7,
    "start_time": "2022-02-09T16:18:51.356Z"
   },
   {
    "duration": 299254,
    "start_time": "2022-02-09T16:18:51.366Z"
   },
   {
    "duration": 686305,
    "start_time": "2022-02-09T16:23:50.624Z"
   },
   {
    "duration": 5,
    "start_time": "2022-02-09T16:35:16.931Z"
   },
   {
    "duration": 1000,
    "start_time": "2022-02-09T16:35:16.949Z"
   },
   {
    "duration": 1495,
    "start_time": "2022-02-09T16:35:17.952Z"
   },
   {
    "duration": 38253,
    "start_time": "2022-02-09T16:35:19.450Z"
   },
   {
    "duration": 5,
    "start_time": "2022-02-09T16:35:57.705Z"
   },
   {
    "duration": 9682,
    "start_time": "2022-02-09T16:35:57.714Z"
   },
   {
    "duration": 75,
    "start_time": "2022-02-10T11:14:45.124Z"
   },
   {
    "duration": 8,
    "start_time": "2022-02-10T11:23:23.641Z"
   },
   {
    "duration": 1554,
    "start_time": "2022-02-10T11:23:37.720Z"
   },
   {
    "duration": 818,
    "start_time": "2022-02-10T11:23:39.277Z"
   },
   {
    "duration": 6,
    "start_time": "2022-02-10T11:23:40.097Z"
   },
   {
    "duration": 1619,
    "start_time": "2022-02-10T11:23:40.106Z"
   },
   {
    "duration": 8,
    "start_time": "2022-02-10T11:23:41.727Z"
   },
   {
    "duration": 5,
    "start_time": "2022-02-10T11:23:41.738Z"
   },
   {
    "duration": 6,
    "start_time": "2022-02-10T11:23:41.746Z"
   },
   {
    "duration": 13,
    "start_time": "2022-02-10T11:23:41.756Z"
   },
   {
    "duration": 5,
    "start_time": "2022-02-10T11:23:41.772Z"
   },
   {
    "duration": 7,
    "start_time": "2022-02-10T11:23:41.780Z"
   },
   {
    "duration": 46,
    "start_time": "2022-02-10T11:23:41.789Z"
   },
   {
    "duration": 5,
    "start_time": "2022-02-10T11:23:41.838Z"
   },
   {
    "duration": 11,
    "start_time": "2022-02-10T11:23:41.846Z"
   },
   {
    "duration": 7,
    "start_time": "2022-02-10T11:23:41.860Z"
   },
   {
    "duration": 12,
    "start_time": "2022-02-10T11:23:41.870Z"
   },
   {
    "duration": 60,
    "start_time": "2022-02-10T11:23:41.884Z"
   },
   {
    "duration": 14,
    "start_time": "2022-02-10T11:23:41.947Z"
   },
   {
    "duration": 68,
    "start_time": "2022-02-10T11:23:41.964Z"
   },
   {
    "duration": 14,
    "start_time": "2022-02-10T11:23:42.035Z"
   },
   {
    "duration": 1763,
    "start_time": "2022-02-10T11:23:42.052Z"
   },
   {
    "duration": 14,
    "start_time": "2022-02-10T11:23:43.818Z"
   },
   {
    "duration": 546,
    "start_time": "2022-02-10T11:23:43.835Z"
   },
   {
    "duration": 5,
    "start_time": "2022-02-10T11:23:44.387Z"
   },
   {
    "duration": 24,
    "start_time": "2022-02-10T11:23:44.396Z"
   },
   {
    "duration": 576,
    "start_time": "2022-02-10T11:23:44.422Z"
   },
   {
    "duration": 8,
    "start_time": "2022-02-10T11:23:45.000Z"
   },
   {
    "duration": 743,
    "start_time": "2022-02-10T11:23:45.010Z"
   },
   {
    "duration": 27,
    "start_time": "2022-02-10T11:23:45.755Z"
   },
   {
    "duration": 4,
    "start_time": "2022-02-10T11:23:45.785Z"
   },
   {
    "duration": 6,
    "start_time": "2022-02-10T11:23:45.792Z"
   },
   {
    "duration": 33,
    "start_time": "2022-02-10T11:23:45.800Z"
   },
   {
    "duration": 7,
    "start_time": "2022-02-10T11:23:45.836Z"
   },
   {
    "duration": 11,
    "start_time": "2022-02-10T11:23:45.845Z"
   },
   {
    "duration": 13,
    "start_time": "2022-02-10T11:23:45.859Z"
   },
   {
    "duration": 61,
    "start_time": "2022-02-10T11:23:45.874Z"
   },
   {
    "duration": 35,
    "start_time": "2022-02-10T11:23:45.937Z"
   },
   {
    "duration": 6,
    "start_time": "2022-02-10T11:23:45.974Z"
   },
   {
    "duration": 101,
    "start_time": "2022-02-10T11:23:45.983Z"
   },
   {
    "duration": 46,
    "start_time": "2022-02-10T11:23:46.087Z"
   },
   {
    "duration": 3,
    "start_time": "2022-02-10T11:23:46.136Z"
   },
   {
    "duration": 11,
    "start_time": "2022-02-10T11:23:46.141Z"
   },
   {
    "duration": 15,
    "start_time": "2022-02-10T11:23:46.154Z"
   },
   {
    "duration": 21772,
    "start_time": "2022-02-10T11:23:46.172Z"
   },
   {
    "duration": 48849,
    "start_time": "2022-02-10T11:24:07.946Z"
   },
   {
    "duration": 7,
    "start_time": "2022-02-10T11:24:56.798Z"
   },
   {
    "duration": 3570251,
    "start_time": "2022-02-10T11:24:56.807Z"
   },
   {
    "duration": 8712936,
    "start_time": "2022-02-10T12:24:27.061Z"
   },
   {
    "duration": 7,
    "start_time": "2022-02-10T14:49:40.000Z"
   },
   {
    "duration": 845,
    "start_time": "2022-02-10T14:49:40.010Z"
   },
   {
    "duration": 2586,
    "start_time": "2022-02-10T14:49:40.952Z"
   },
   {
    "duration": 41191,
    "start_time": "2022-02-10T14:49:43.541Z"
   },
   {
    "duration": 8,
    "start_time": "2022-02-10T14:50:24.735Z"
   },
   {
    "duration": 14635,
    "start_time": "2022-02-10T14:50:24.745Z"
   },
   {
    "duration": 83,
    "start_time": "2022-02-11T13:06:40.494Z"
   }
  ],
  "colab": {
   "name": "Проект_8_Подготовка_прототипа_модели_машинного_обучения_для_золотодорбывающей_компании.ipynb",
   "provenance": []
  },
  "kernelspec": {
   "display_name": "Python 3 (ipykernel)",
   "language": "python",
   "name": "python3"
  },
  "language_info": {
   "codemirror_mode": {
    "name": "ipython",
    "version": 3
   },
   "file_extension": ".py",
   "mimetype": "text/x-python",
   "name": "python",
   "nbconvert_exporter": "python",
   "pygments_lexer": "ipython3",
   "version": "3.9.12"
  },
  "toc": {
   "base_numbering": 1,
   "nav_menu": {},
   "number_sections": true,
   "sideBar": true,
   "skip_h1_title": true,
   "title_cell": "Содержание",
   "title_sidebar": "Содержание",
   "toc_cell": true,
   "toc_position": {
    "height": "calc(100% - 180px)",
    "left": "10px",
    "top": "150px",
    "width": "338.391px"
   },
   "toc_section_display": true,
   "toc_window_display": true
  }
 },
 "nbformat": 4,
 "nbformat_minor": 1
}
