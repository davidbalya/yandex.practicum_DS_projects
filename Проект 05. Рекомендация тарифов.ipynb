{
 "cells": [
  {
   "cell_type": "markdown",
   "metadata": {
    "id": "PDtcSw8Z5QFA"
   },
   "source": [
    "# Рекомендация тарифов"
   ]
  },
  {
   "cell_type": "markdown",
   "metadata": {
    "id": "k2yhsYHN5QFB"
   },
   "source": [
    "В вашем распоряжении данные о поведении клиентов, которые уже перешли на эти тарифы (из проекта курса «Статистический анализ данных»). Нужно построить модель для задачи классификации, которая выберет подходящий тариф. Предобработка данных не понадобится — вы её уже сделали.\n",
    "\n",
    "Постройте модель с максимально большим значением *accuracy*. Чтобы сдать проект успешно, нужно довести долю правильных ответов по крайней мере до 0.75. Проверьте *accuracy* на тестовой выборке самостоятельно."
   ]
  },
  {
   "cell_type": "markdown",
   "metadata": {
    "id": "Ye_oTKUC5QFD"
   },
   "source": [
    "## Откройте и изучите файл"
   ]
  },
  {
   "cell_type": "code",
   "execution_count": null,
   "metadata": {
    "id": "Eg1sSgt55QFE"
   },
   "outputs": [],
   "source": [
    "import pandas as pd\n",
    "from sklearn.model_selection import train_test_split\n",
    "from sklearn.tree import DecisionTreeClassifier \n",
    "from sklearn.ensemble import RandomForestClassifier\n",
    "from sklearn.linear_model import LogisticRegression\n",
    "from sklearn.metrics import accuracy_score\n",
    "from tqdm import tqdm\n",
    "import warnings\n",
    "warnings.simplefilter('ignore')"
   ]
  },
  {
   "cell_type": "code",
   "execution_count": null,
   "metadata": {
    "id": "nZVi2Yex5QFH"
   },
   "outputs": [],
   "source": [
    "df = pd.read_csv('/datasets/users_behavior.csv')"
   ]
  },
  {
   "cell_type": "code",
   "execution_count": null,
   "metadata": {
    "id": "T4JqM58N5QFI",
    "outputId": "ece81267-52b8-4a6c-f9cd-448bc5c7a31e"
   },
   "outputs": [
    {
     "data": {
      "text/html": [
       "<div>\n",
       "<style scoped>\n",
       "    .dataframe tbody tr th:only-of-type {\n",
       "        vertical-align: middle;\n",
       "    }\n",
       "\n",
       "    .dataframe tbody tr th {\n",
       "        vertical-align: top;\n",
       "    }\n",
       "\n",
       "    .dataframe thead th {\n",
       "        text-align: right;\n",
       "    }\n",
       "</style>\n",
       "<table border=\"1\" class=\"dataframe\">\n",
       "  <thead>\n",
       "    <tr style=\"text-align: right;\">\n",
       "      <th></th>\n",
       "      <th>calls</th>\n",
       "      <th>minutes</th>\n",
       "      <th>messages</th>\n",
       "      <th>mb_used</th>\n",
       "      <th>is_ultra</th>\n",
       "    </tr>\n",
       "  </thead>\n",
       "  <tbody>\n",
       "    <tr>\n",
       "      <td>0</td>\n",
       "      <td>40.0</td>\n",
       "      <td>311.90</td>\n",
       "      <td>83.0</td>\n",
       "      <td>19915.42</td>\n",
       "      <td>0</td>\n",
       "    </tr>\n",
       "    <tr>\n",
       "      <td>1</td>\n",
       "      <td>85.0</td>\n",
       "      <td>516.75</td>\n",
       "      <td>56.0</td>\n",
       "      <td>22696.96</td>\n",
       "      <td>0</td>\n",
       "    </tr>\n",
       "    <tr>\n",
       "      <td>2</td>\n",
       "      <td>77.0</td>\n",
       "      <td>467.66</td>\n",
       "      <td>86.0</td>\n",
       "      <td>21060.45</td>\n",
       "      <td>0</td>\n",
       "    </tr>\n",
       "    <tr>\n",
       "      <td>3</td>\n",
       "      <td>106.0</td>\n",
       "      <td>745.53</td>\n",
       "      <td>81.0</td>\n",
       "      <td>8437.39</td>\n",
       "      <td>1</td>\n",
       "    </tr>\n",
       "    <tr>\n",
       "      <td>4</td>\n",
       "      <td>66.0</td>\n",
       "      <td>418.74</td>\n",
       "      <td>1.0</td>\n",
       "      <td>14502.75</td>\n",
       "      <td>0</td>\n",
       "    </tr>\n",
       "    <tr>\n",
       "      <td>5</td>\n",
       "      <td>58.0</td>\n",
       "      <td>344.56</td>\n",
       "      <td>21.0</td>\n",
       "      <td>15823.37</td>\n",
       "      <td>0</td>\n",
       "    </tr>\n",
       "    <tr>\n",
       "      <td>6</td>\n",
       "      <td>57.0</td>\n",
       "      <td>431.64</td>\n",
       "      <td>20.0</td>\n",
       "      <td>3738.90</td>\n",
       "      <td>1</td>\n",
       "    </tr>\n",
       "    <tr>\n",
       "      <td>7</td>\n",
       "      <td>15.0</td>\n",
       "      <td>132.40</td>\n",
       "      <td>6.0</td>\n",
       "      <td>21911.60</td>\n",
       "      <td>0</td>\n",
       "    </tr>\n",
       "    <tr>\n",
       "      <td>8</td>\n",
       "      <td>7.0</td>\n",
       "      <td>43.39</td>\n",
       "      <td>3.0</td>\n",
       "      <td>2538.67</td>\n",
       "      <td>1</td>\n",
       "    </tr>\n",
       "    <tr>\n",
       "      <td>9</td>\n",
       "      <td>90.0</td>\n",
       "      <td>665.41</td>\n",
       "      <td>38.0</td>\n",
       "      <td>17358.61</td>\n",
       "      <td>0</td>\n",
       "    </tr>\n",
       "    <tr>\n",
       "      <td>10</td>\n",
       "      <td>82.0</td>\n",
       "      <td>560.51</td>\n",
       "      <td>20.0</td>\n",
       "      <td>9619.53</td>\n",
       "      <td>1</td>\n",
       "    </tr>\n",
       "    <tr>\n",
       "      <td>11</td>\n",
       "      <td>45.0</td>\n",
       "      <td>344.32</td>\n",
       "      <td>13.0</td>\n",
       "      <td>19898.81</td>\n",
       "      <td>0</td>\n",
       "    </tr>\n",
       "    <tr>\n",
       "      <td>12</td>\n",
       "      <td>51.0</td>\n",
       "      <td>437.13</td>\n",
       "      <td>61.0</td>\n",
       "      <td>21523.58</td>\n",
       "      <td>0</td>\n",
       "    </tr>\n",
       "    <tr>\n",
       "      <td>13</td>\n",
       "      <td>56.0</td>\n",
       "      <td>433.07</td>\n",
       "      <td>16.0</td>\n",
       "      <td>16702.36</td>\n",
       "      <td>0</td>\n",
       "    </tr>\n",
       "    <tr>\n",
       "      <td>14</td>\n",
       "      <td>108.0</td>\n",
       "      <td>587.90</td>\n",
       "      <td>0.0</td>\n",
       "      <td>14406.50</td>\n",
       "      <td>1</td>\n",
       "    </tr>\n",
       "  </tbody>\n",
       "</table>\n",
       "</div>"
      ],
      "text/plain": [
       "    calls  minutes  messages   mb_used  is_ultra\n",
       "0    40.0   311.90      83.0  19915.42         0\n",
       "1    85.0   516.75      56.0  22696.96         0\n",
       "2    77.0   467.66      86.0  21060.45         0\n",
       "3   106.0   745.53      81.0   8437.39         1\n",
       "4    66.0   418.74       1.0  14502.75         0\n",
       "5    58.0   344.56      21.0  15823.37         0\n",
       "6    57.0   431.64      20.0   3738.90         1\n",
       "7    15.0   132.40       6.0  21911.60         0\n",
       "8     7.0    43.39       3.0   2538.67         1\n",
       "9    90.0   665.41      38.0  17358.61         0\n",
       "10   82.0   560.51      20.0   9619.53         1\n",
       "11   45.0   344.32      13.0  19898.81         0\n",
       "12   51.0   437.13      61.0  21523.58         0\n",
       "13   56.0   433.07      16.0  16702.36         0\n",
       "14  108.0   587.90       0.0  14406.50         1"
      ]
     },
     "execution_count": 3,
     "metadata": {},
     "output_type": "execute_result"
    }
   ],
   "source": [
    "df.head(15)"
   ]
  },
  {
   "cell_type": "code",
   "execution_count": null,
   "metadata": {
    "id": "JHcQvUWz5QFJ",
    "outputId": "92858c1d-a201-402c-d165-af900c2ca732"
   },
   "outputs": [
    {
     "data": {
      "text/html": [
       "<div>\n",
       "<style scoped>\n",
       "    .dataframe tbody tr th:only-of-type {\n",
       "        vertical-align: middle;\n",
       "    }\n",
       "\n",
       "    .dataframe tbody tr th {\n",
       "        vertical-align: top;\n",
       "    }\n",
       "\n",
       "    .dataframe thead th {\n",
       "        text-align: right;\n",
       "    }\n",
       "</style>\n",
       "<table border=\"1\" class=\"dataframe\">\n",
       "  <thead>\n",
       "    <tr style=\"text-align: right;\">\n",
       "      <th></th>\n",
       "      <th>calls</th>\n",
       "      <th>minutes</th>\n",
       "      <th>messages</th>\n",
       "      <th>mb_used</th>\n",
       "      <th>is_ultra</th>\n",
       "    </tr>\n",
       "  </thead>\n",
       "  <tbody>\n",
       "    <tr>\n",
       "      <td>count</td>\n",
       "      <td>3214.000000</td>\n",
       "      <td>3214.000000</td>\n",
       "      <td>3214.000000</td>\n",
       "      <td>3214.000000</td>\n",
       "      <td>3214.000000</td>\n",
       "    </tr>\n",
       "    <tr>\n",
       "      <td>mean</td>\n",
       "      <td>63.038892</td>\n",
       "      <td>438.208787</td>\n",
       "      <td>38.281269</td>\n",
       "      <td>17207.673836</td>\n",
       "      <td>0.306472</td>\n",
       "    </tr>\n",
       "    <tr>\n",
       "      <td>std</td>\n",
       "      <td>33.236368</td>\n",
       "      <td>234.569872</td>\n",
       "      <td>36.148326</td>\n",
       "      <td>7570.968246</td>\n",
       "      <td>0.461100</td>\n",
       "    </tr>\n",
       "    <tr>\n",
       "      <td>min</td>\n",
       "      <td>0.000000</td>\n",
       "      <td>0.000000</td>\n",
       "      <td>0.000000</td>\n",
       "      <td>0.000000</td>\n",
       "      <td>0.000000</td>\n",
       "    </tr>\n",
       "    <tr>\n",
       "      <td>25%</td>\n",
       "      <td>40.000000</td>\n",
       "      <td>274.575000</td>\n",
       "      <td>9.000000</td>\n",
       "      <td>12491.902500</td>\n",
       "      <td>0.000000</td>\n",
       "    </tr>\n",
       "    <tr>\n",
       "      <td>50%</td>\n",
       "      <td>62.000000</td>\n",
       "      <td>430.600000</td>\n",
       "      <td>30.000000</td>\n",
       "      <td>16943.235000</td>\n",
       "      <td>0.000000</td>\n",
       "    </tr>\n",
       "    <tr>\n",
       "      <td>75%</td>\n",
       "      <td>82.000000</td>\n",
       "      <td>571.927500</td>\n",
       "      <td>57.000000</td>\n",
       "      <td>21424.700000</td>\n",
       "      <td>1.000000</td>\n",
       "    </tr>\n",
       "    <tr>\n",
       "      <td>max</td>\n",
       "      <td>244.000000</td>\n",
       "      <td>1632.060000</td>\n",
       "      <td>224.000000</td>\n",
       "      <td>49745.730000</td>\n",
       "      <td>1.000000</td>\n",
       "    </tr>\n",
       "  </tbody>\n",
       "</table>\n",
       "</div>"
      ],
      "text/plain": [
       "             calls      minutes     messages       mb_used     is_ultra\n",
       "count  3214.000000  3214.000000  3214.000000   3214.000000  3214.000000\n",
       "mean     63.038892   438.208787    38.281269  17207.673836     0.306472\n",
       "std      33.236368   234.569872    36.148326   7570.968246     0.461100\n",
       "min       0.000000     0.000000     0.000000      0.000000     0.000000\n",
       "25%      40.000000   274.575000     9.000000  12491.902500     0.000000\n",
       "50%      62.000000   430.600000    30.000000  16943.235000     0.000000\n",
       "75%      82.000000   571.927500    57.000000  21424.700000     1.000000\n",
       "max     244.000000  1632.060000   224.000000  49745.730000     1.000000"
      ]
     },
     "execution_count": 4,
     "metadata": {},
     "output_type": "execute_result"
    }
   ],
   "source": [
    "df.describe()"
   ]
  },
  {
   "cell_type": "code",
   "execution_count": null,
   "metadata": {
    "id": "zxGZob6W5QFJ",
    "outputId": "07017e4f-8e44-4651-f34c-377be3a68e94"
   },
   "outputs": [
    {
     "name": "stdout",
     "output_type": "stream",
     "text": [
      "<class 'pandas.core.frame.DataFrame'>\n",
      "RangeIndex: 3214 entries, 0 to 3213\n",
      "Data columns (total 5 columns):\n",
      "calls       3214 non-null float64\n",
      "minutes     3214 non-null float64\n",
      "messages    3214 non-null float64\n",
      "mb_used     3214 non-null float64\n",
      "is_ultra    3214 non-null int64\n",
      "dtypes: float64(4), int64(1)\n",
      "memory usage: 125.7 KB\n"
     ]
    }
   ],
   "source": [
    "df.info()"
   ]
  },
  {
   "cell_type": "code",
   "execution_count": null,
   "metadata": {
    "id": "ffrq_Q-45QFK",
    "outputId": "4a93bdd7-450a-4ca8-9d79-8e54ec6a8722"
   },
   "outputs": [
    {
     "data": {
      "text/plain": [
       "is_ultra    0.0\n",
       "mb_used     0.0\n",
       "messages    0.0\n",
       "minutes     0.0\n",
       "calls       0.0\n",
       "dtype: float64"
      ]
     },
     "execution_count": 6,
     "metadata": {},
     "output_type": "execute_result"
    }
   ],
   "source": [
    "df.isna().mean().sort_values(ascending = False)"
   ]
  },
  {
   "cell_type": "markdown",
   "metadata": {
    "id": "jTRk1QBY5QFK"
   },
   "source": [
    "### Вывод:"
   ]
  },
  {
   "cell_type": "markdown",
   "metadata": {
    "id": "Wkvl_kVS5QFL"
   },
   "source": [
    "В этом пункте проекта было проведено ознакомление с данными: пропуски не были обнаружены, данные нужных типов, предобработка не требуется."
   ]
  },
  {
   "cell_type": "markdown",
   "metadata": {
    "id": "9614rj-45QFM"
   },
   "source": [
    "## Разбейте данные на выборки"
   ]
  },
  {
   "cell_type": "markdown",
   "metadata": {
    "id": "Qg7ZNQNg5QFM"
   },
   "source": [
    "Разобьем данные на обучающую, валидационную и тестовые выборки в соотношении 3:1:1 :"
   ]
  },
  {
   "cell_type": "code",
   "execution_count": null,
   "metadata": {
    "id": "j6P8nc2O5QFM",
    "outputId": "7c496f0e-1ef1-465f-d8a7-23c7c9b408b6"
   },
   "outputs": [
    {
     "name": "stdout",
     "output_type": "stream",
     "text": [
      "Кол-во объектов в обучающей выборке: 1928\n",
      "Кол-во объектов в валидационной выборке: 643\n",
      "Кол-во объектов в тестовой выборке: 643\n"
     ]
    }
   ],
   "source": [
    "train_df, valid_and_test_df = train_test_split(df, test_size=0.40, random_state=244466666)\n",
    "valid_df, test_df = train_test_split(valid_and_test_df, test_size=0.50, random_state=244466666)\n",
    "\n",
    "print('Кол-во объектов в обучающей выборке:', train_df.shape[0])\n",
    "print('Кол-во объектов в валидационной выборке:', valid_df.shape[0])\n",
    "print('Кол-во объектов в тестовой выборке:', test_df.shape[0])"
   ]
  },
  {
   "cell_type": "markdown",
   "metadata": {
    "id": "ZHHAeTOv5QFN"
   },
   "source": [
    "Создадим отдельные переменные для целевого и остальных признаков для каждой выборки:"
   ]
  },
  {
   "cell_type": "code",
   "execution_count": null,
   "metadata": {
    "id": "OwEJZP-g5QFN"
   },
   "outputs": [],
   "source": [
    "features_train = train_df.drop(['is_ultra'], axis=1)\n",
    "target_train = train_df['is_ultra']\n",
    "features_valid = valid_df.drop(['is_ultra'], axis=1)\n",
    "target_valid = valid_df['is_ultra']\n",
    "features_test = test_df.drop(['is_ultra'], axis=1)\n",
    "target_test = test_df['is_ultra']"
   ]
  },
  {
   "cell_type": "markdown",
   "metadata": {
    "id": "Dno1yJJt5QFN"
   },
   "source": [
    "### Вывод:"
   ]
  },
  {
   "cell_type": "markdown",
   "metadata": {
    "id": "XKN3iWO55QFO"
   },
   "source": [
    "Данные были разбиты в соотношении 3:1:1.\n",
    "\n",
    "* Обучающая выборка - train_df  \n",
    "* Валидационная выборка - valid_df  \n",
    "* Тестовая выборка - test_df  "
   ]
  },
  {
   "cell_type": "markdown",
   "metadata": {
    "id": "35WC0oDv5QFO"
   },
   "source": [
    "## Исследуйте модели"
   ]
  },
  {
   "cell_type": "markdown",
   "metadata": {
    "id": "cpnqU_dK5QFO"
   },
   "source": [
    "Рассмотрим для данной задачи 3 модели: дерево решений, случайный лес и логистическую регрессию  "
   ]
  },
  {
   "cell_type": "markdown",
   "metadata": {
    "id": "-VWjn7DZ5QFO"
   },
   "source": [
    "### Дерево решений"
   ]
  },
  {
   "cell_type": "code",
   "execution_count": null,
   "metadata": {
    "id": "pJdz602U5QFP",
    "outputId": "fbbcacb2-bf6a-4a9c-aa7b-61b7c4e26cfd",
    "scrolled": true
   },
   "outputs": [
    {
     "name": "stderr",
     "output_type": "stream",
     "text": [
      "100%|██████████| 10/10 [00:00<00:00, 24.00it/s]"
     ]
    },
    {
     "name": "stdout",
     "output_type": "stream",
     "text": [
      " Лучшая глубина дерева: 8 \n",
      " Лучший критерий: entropy \n",
      " Признак, по которому ищется лучшее разбиение: sqrt \n",
      " Лучшая точность: 0.8009331259720062\n",
      "CPU times: user 374 ms, sys: 2 ms, total: 376 ms\n",
      "Wall time: 420 ms\n"
     ]
    },
    {
     "name": "stderr",
     "output_type": "stream",
     "text": [
      "\n"
     ]
    }
   ],
   "source": [
    "%%time\n",
    "\n",
    "best_depth = 0\n",
    "best_criterion = None\n",
    "best_features = 0\n",
    "best_accuracy = 0\n",
    "best_decision_tree_model = None\n",
    "\n",
    "for depth in tqdm(range(1,11)):\n",
    "    for crit in ['gini', 'entropy']:\n",
    "        for max_features in [None, 'sqrt', 'log2']:\n",
    "            decision_tree_model = DecisionTreeClassifier(random_state=244466666, max_depth=depth, \n",
    "                                                         criterion=crit, max_features=max_features)\n",
    "            decision_tree_model.fit(features_train, target_train)\n",
    "            predictions_valid = decision_tree_model.predict(features_valid)\n",
    "            accuracy = accuracy_score(target_valid, predictions_valid)\n",
    "            if accuracy > best_accuracy:\n",
    "                best_depth = depth\n",
    "                best_criterion = crit\n",
    "                best_features = max_features\n",
    "                best_accuracy = accuracy\n",
    "                best_decision_tree_model = decision_tree_model\n",
    "        \n",
    "print(' Лучшая глубина дерева:', best_depth, '\\n', 'Лучший критерий:',  best_criterion, '\\n',\n",
    "      'Признак, по которому ищется лучшее разбиение:', best_features, '\\n', 'Лучшая точность:', best_accuracy)  "
   ]
  },
  {
   "cell_type": "markdown",
   "metadata": {
    "id": "XRN_i6Y55QFQ"
   },
   "source": [
    "Было обучено 1000 моделей с различными значениями глубины от 1 до 1000, лучшее значение 8.  \n",
    "Для того, чтобы не перегружать проект, представлен цикл со значениями глубины от 1 до 10."
   ]
  },
  {
   "cell_type": "code",
   "execution_count": null,
   "metadata": {
    "id": "h79wcCyi5QFQ",
    "outputId": "2e2697f5-ac6b-4550-bbe8-9a22b10e1a55"
   },
   "outputs": [
    {
     "data": {
      "text/plain": [
       "DecisionTreeClassifier(class_weight=None, criterion='entropy', max_depth=8,\n",
       "                       max_features='sqrt', max_leaf_nodes=None,\n",
       "                       min_impurity_decrease=0.0, min_impurity_split=None,\n",
       "                       min_samples_leaf=1, min_samples_split=2,\n",
       "                       min_weight_fraction_leaf=0.0, presort=False,\n",
       "                       random_state=244466666, splitter='best')"
      ]
     },
     "execution_count": 10,
     "metadata": {},
     "output_type": "execute_result"
    }
   ],
   "source": [
    "best_decision_tree_model"
   ]
  },
  {
   "cell_type": "markdown",
   "metadata": {
    "id": "cTb_9rWy5QFQ"
   },
   "source": [
    "### Cлучайный лес"
   ]
  },
  {
   "cell_type": "code",
   "execution_count": null,
   "metadata": {
    "id": "fFHhrEGN5QFQ",
    "outputId": "62808a28-5a67-4c93-d3a1-a3de0c44079b"
   },
   "outputs": [
    {
     "name": "stderr",
     "output_type": "stream",
     "text": [
      "100%|██████████| 6/6 [00:50<00:00,  8.44s/it]"
     ]
    },
    {
     "name": "stdout",
     "output_type": "stream",
     "text": [
      " Лучшее кол-во деревьев в лесу: 17 \n",
      " Лучший критерий: entropy \n",
      " Признак, по которому ищется лучшее разбиение: None \n",
      " Лучшая глубина дерева: 31 \n",
      " Лучшая точность: 0.8118195956454122\n",
      "CPU times: user 49.4 s, sys: 140 ms, total: 49.6 s\n",
      "Wall time: 50.6 s\n"
     ]
    },
    {
     "name": "stderr",
     "output_type": "stream",
     "text": [
      "\n"
     ]
    }
   ],
   "source": [
    "%%time\n",
    "\n",
    "best_est = 0\n",
    "best_criterion = None\n",
    "best_features = 0\n",
    "best_depth = 0\n",
    "best_accuracy = 0\n",
    "best_random_forest_model = None\n",
    "\n",
    "for est in tqdm(range(15, 21)):\n",
    "    for crit in ['gini', 'entropy']:\n",
    "        for max_features in [None, 'sqrt', 'log2']:\n",
    "            for depth in range(30,41):\n",
    "                random_forest_model = RandomForestClassifier(random_state=244466666, n_estimators=est, criterion=crit, max_features=max_features, max_depth=depth) # обучите модель с заданным количеством деревьев\n",
    "                random_forest_model.fit(features_train, target_train) # обучите модель на тренировочной выборке\n",
    "                predictions_valid = random_forest_model.predict(features_valid)\n",
    "                accuracy = accuracy_score(target_valid, predictions_valid)\n",
    "                if accuracy > best_accuracy:\n",
    "                    best_est = est\n",
    "                    best_criterion = crit\n",
    "                    best_features = max_features\n",
    "                    best_depth = depth\n",
    "                    best_accuracy = accuracy\n",
    "                    best_random_forest_model = random_forest_model\n",
    "                    \n",
    "print(' Лучшее кол-во деревьев в лесу:', best_est, '\\n', 'Лучший критерий:',  best_criterion, '\\n',\n",
    "      'Признак, по которому ищется лучшее разбиение:', best_features, '\\n',\n",
    "      'Лучшая глубина дерева:', best_depth, '\\n', 'Лучшая точность:', best_accuracy)"
   ]
  },
  {
   "cell_type": "markdown",
   "metadata": {
    "id": "V1VQUIcA5QFR"
   },
   "source": [
    "Было обучено 60000 моделей с различными значениями количества деревьев от 1 до 100, и глубины от 1 до 100. Лучшее значение количества деревьев - 17, глубины - 31.  \n",
    "Для того, чтобы не перегружать проект, представлен цикл со значениями количества деревьев от 15 до 20, и глубины от 30 до 40."
   ]
  },
  {
   "cell_type": "code",
   "execution_count": null,
   "metadata": {
    "id": "SR9EW_FZ5QFR",
    "outputId": "6915c9e9-71b0-4480-ea4f-f8547f969ff8"
   },
   "outputs": [
    {
     "data": {
      "text/plain": [
       "RandomForestClassifier(bootstrap=True, class_weight=None, criterion='entropy',\n",
       "                       max_depth=31, max_features=None, max_leaf_nodes=None,\n",
       "                       min_impurity_decrease=0.0, min_impurity_split=None,\n",
       "                       min_samples_leaf=1, min_samples_split=2,\n",
       "                       min_weight_fraction_leaf=0.0, n_estimators=17,\n",
       "                       n_jobs=None, oob_score=False, random_state=244466666,\n",
       "                       verbose=0, warm_start=False)"
      ]
     },
     "execution_count": 12,
     "metadata": {},
     "output_type": "execute_result"
    }
   ],
   "source": [
    "best_random_forest_model"
   ]
  },
  {
   "cell_type": "markdown",
   "metadata": {
    "id": "4PXVRcM05QFS"
   },
   "source": [
    "### Логистическая регрессия"
   ]
  },
  {
   "cell_type": "code",
   "execution_count": null,
   "metadata": {
    "id": "R-X0W1R_5QFS",
    "outputId": "1fb94f8c-ac24-468d-c561-8f794974e2ad"
   },
   "outputs": [
    {
     "name": "stderr",
     "output_type": "stream",
     "text": [
      "100%|██████████| 5/5 [00:11<00:00,  2.36s/it]"
     ]
    },
    {
     "name": "stdout",
     "output_type": "stream",
     "text": [
      " Лучший solver: lbfgs \n",
      " Лучшее количество итераций: 87 \n",
      " Лучшая точность: 0.7465007776049767\n",
      "CPU times: user 11.5 s, sys: 7.83 ms, total: 11.5 s\n",
      "Wall time: 11.8 s\n"
     ]
    },
    {
     "name": "stderr",
     "output_type": "stream",
     "text": [
      "\n"
     ]
    }
   ],
   "source": [
    "%%time\n",
    "\n",
    "best_solver = None\n",
    "best_accuracy = 0\n",
    "best_max_iter = 0\n",
    "best_accuracy = 0\n",
    "best_logistic_regression_model = None\n",
    "\n",
    "for solver in tqdm(['newton-cg', 'lbfgs', 'liblinear', 'sag', 'saga']):\n",
    "    for max_iter in range(50,101):\n",
    "        logistic_regression_model = LogisticRegression(random_state=244466666, solver=solver, max_iter=max_iter)\n",
    "        logistic_regression_model.fit(features_train, target_train) # обучите модель на тренировочной выборке\n",
    "        predictions_valid = logistic_regression_model.predict(features_valid)\n",
    "        accuracy = accuracy_score(target_valid, predictions_valid)\n",
    "        if accuracy > best_accuracy:\n",
    "            best_max_iter = max_iter\n",
    "            best_solver = solver\n",
    "            best_accuracy = accuracy\n",
    "            best_logistic_regression_model = logistic_regression_model\n",
    "\n",
    "print(' Лучший solver:', best_solver, '\\n', 'Лучшее количество итераций:', best_max_iter, '\\n',\n",
    "      'Лучшая точность:', best_accuracy)  "
   ]
  },
  {
   "cell_type": "markdown",
   "metadata": {
    "id": "zCRiHAQa5QFT"
   },
   "source": [
    "Было обучено 5000 моделей с различными значениями количества итераций от 1 до 1000 лучшее значение 87.  \n",
    "Для того, чтобы не перегружать проект, представлен цикл со значениями количества итераций от 50 до 100."
   ]
  },
  {
   "cell_type": "code",
   "execution_count": null,
   "metadata": {
    "id": "fOVzXk8v5QFT",
    "outputId": "44ba8eeb-0774-4445-f96a-b73cae8ef3ef"
   },
   "outputs": [
    {
     "data": {
      "text/plain": [
       "LogisticRegression(C=1.0, class_weight=None, dual=False, fit_intercept=True,\n",
       "                   intercept_scaling=1, l1_ratio=None, max_iter=87,\n",
       "                   multi_class='warn', n_jobs=None, penalty='l2',\n",
       "                   random_state=244466666, solver='lbfgs', tol=0.0001,\n",
       "                   verbose=0, warm_start=False)"
      ]
     },
     "execution_count": 14,
     "metadata": {},
     "output_type": "execute_result"
    }
   ],
   "source": [
    "best_logistic_regression_model"
   ]
  },
  {
   "cell_type": "markdown",
   "metadata": {
    "id": "kgit60ER5QFT"
   },
   "source": [
    "## Проверьте модель на тестовой выборке"
   ]
  },
  {
   "cell_type": "markdown",
   "metadata": {
    "id": "WgCtHJDY5QFT"
   },
   "source": [
    "### Дерево решений "
   ]
  },
  {
   "cell_type": "code",
   "execution_count": null,
   "metadata": {
    "id": "zR-WDsdH5QFU",
    "outputId": "3d77dd67-fe4a-4d00-cbf5-a7cb3d79dd6e"
   },
   "outputs": [
    {
     "name": "stdout",
     "output_type": "stream",
     "text": [
      "Точность решающего дерева на тестовой выборке 0.7838258164852255\n",
      "CPU times: user 2.7 ms, sys: 25 µs, total: 2.73 ms\n",
      "Wall time: 2.21 ms\n"
     ]
    }
   ],
   "source": [
    "%%time\n",
    "\n",
    "test_predictions = best_decision_tree_model.predict(features_test)\n",
    "accuracy = accuracy_score(target_test, test_predictions)\n",
    "print('Точность решающего дерева на тестовой выборке',accuracy)"
   ]
  },
  {
   "cell_type": "markdown",
   "metadata": {
    "id": "rbnPTWA75QFU"
   },
   "source": [
    "### Случайный лес "
   ]
  },
  {
   "cell_type": "code",
   "execution_count": null,
   "metadata": {
    "id": "hJyArxdE5QFU",
    "outputId": "0436c6ba-7aa8-4c44-f849-d85440c3f688"
   },
   "outputs": [
    {
     "name": "stdout",
     "output_type": "stream",
     "text": [
      "Точность случайного леса на тестовой выборке 0.7900466562986003\n",
      "CPU times: user 2.06 ms, sys: 7.98 ms, total: 10 ms\n",
      "Wall time: 8.43 ms\n"
     ]
    }
   ],
   "source": [
    "%%time\n",
    "\n",
    "test_predictions = best_random_forest_model.predict(features_test)\n",
    "accuracy = accuracy_score(target_test, test_predictions)\n",
    "print('Точность случайного леса на тестовой выборке',accuracy)"
   ]
  },
  {
   "cell_type": "markdown",
   "metadata": {
    "id": "E4i4bUWe5QFU"
   },
   "source": [
    "### Логистическая регрессия"
   ]
  },
  {
   "cell_type": "code",
   "execution_count": null,
   "metadata": {
    "id": "HvgUZPnE5QFU",
    "outputId": "12148bed-e7d3-45fc-8480-367c41fb6df5"
   },
   "outputs": [
    {
     "name": "stdout",
     "output_type": "stream",
     "text": [
      "Точность логистической регресии на тестовой выборке 0.7387247278382582\n",
      "CPU times: user 1.18 ms, sys: 3.97 ms, total: 5.16 ms\n",
      "Wall time: 46.8 ms\n"
     ]
    }
   ],
   "source": [
    "%%time\n",
    "\n",
    "test_predictions = best_logistic_regression_model.predict(features_test)\n",
    "accuracy = accuracy_score(target_test, test_predictions)\n",
    "print('Точность логистической регресии на тестовой выборке',accuracy)"
   ]
  },
  {
   "cell_type": "markdown",
   "metadata": {
    "id": "_UsAe6xC5QFV"
   },
   "source": [
    "### Вывод:\n",
    "\n",
    "Точность моделей в порядке убывания:\n",
    "1. Случайный лес\n",
    "2. Дерево решений\n",
    "3. Логистическая регрессия\n",
    "\n",
    "Скорость моделей в порядке убывания:\n",
    "1. Логистическая регрессия\n",
    "2. Дерево решений\n",
    "3. Случайный лес"
   ]
  },
  {
   "cell_type": "markdown",
   "metadata": {
    "id": "R1moa3Cb5QFV"
   },
   "source": [
    "## (бонус) Проверьте модели на адекватность"
   ]
  },
  {
   "cell_type": "code",
   "execution_count": null,
   "metadata": {
    "id": "Z69FScgD5QFV",
    "outputId": "1bd0b844-c315-4e32-fd74-e0ebdadd7793"
   },
   "outputs": [
    {
     "data": {
      "text/plain": [
       "0    0.693528\n",
       "1    0.306472\n",
       "Name: is_ultra, dtype: float64"
      ]
     },
     "execution_count": 18,
     "metadata": {},
     "output_type": "execute_result"
    }
   ],
   "source": [
    "df['is_ultra'].value_counts(normalize=True)"
   ]
  },
  {
   "cell_type": "markdown",
   "metadata": {
    "id": "jbBXW5x15QFW"
   },
   "source": [
    "Если модель всегда будет предсказывать тариф Смарт, то ее точность будет 69.35%, точность модели случаного леса - 79%.   \n",
    "Проверка на адекватность пройдена успешно."
   ]
  },
  {
   "cell_type": "markdown",
   "metadata": {
    "id": "x-9Hf44h5QFW"
   },
   "source": [
    "## Вывод"
   ]
  },
  {
   "cell_type": "markdown",
   "metadata": {
    "id": "n4m_sn875QFW"
   },
   "source": [
    "В ходе работы над данным проектом были было проведено исследование с разными типами моделей и выбрана модель с максимально большим значением accuracy, ей оказалась моджель случайного леса с такими параметрами:\n",
    "\n",
    "* Кол-во деревьев в лесу - 17 \n",
    "* Критерий - entropy \n",
    "* Признак, по которому ищется лучшее разбиение - None \n",
    "* Глубина дерева - 31 \n",
    "\n",
    "Точность модели при таких параметрах на тестовой выборке равна 0.7900466562986003\n",
    "\n",
    "Также модель успешно прошла проверку на адекватность."
   ]
  }
 ],
 "metadata": {
  "ExecuteTimeLog": [
   {
    "duration": 1438,
    "start_time": "2021-12-29T17:09:11.193Z"
   },
   {
    "duration": 3,
    "start_time": "2021-12-29T17:09:34.107Z"
   },
   {
    "duration": 24,
    "start_time": "2021-12-29T17:09:49.226Z"
   },
   {
    "duration": 18,
    "start_time": "2021-12-29T17:09:51.833Z"
   },
   {
    "duration": 25,
    "start_time": "2021-12-29T17:09:57.370Z"
   },
   {
    "duration": 17,
    "start_time": "2021-12-29T17:09:59.140Z"
   },
   {
    "duration": 15,
    "start_time": "2021-12-29T17:10:14.752Z"
   },
   {
    "duration": 34,
    "start_time": "2021-12-29T17:10:21.288Z"
   },
   {
    "duration": 9,
    "start_time": "2021-12-29T17:10:27.686Z"
   },
   {
    "duration": 9,
    "start_time": "2021-12-29T17:10:42.164Z"
   },
   {
    "duration": 6,
    "start_time": "2021-12-29T17:10:47.935Z"
   },
   {
    "duration": 547,
    "start_time": "2021-12-29T17:13:16.966Z"
   },
   {
    "duration": 90,
    "start_time": "2021-12-29T17:13:42.886Z"
   },
   {
    "duration": 412,
    "start_time": "2021-12-29T17:13:45.466Z"
   },
   {
    "duration": 13,
    "start_time": "2021-12-29T17:13:55.801Z"
   },
   {
    "duration": 447,
    "start_time": "2021-12-29T17:18:02.228Z"
   },
   {
    "duration": 13,
    "start_time": "2021-12-29T17:18:06.120Z"
   },
   {
    "duration": 9,
    "start_time": "2021-12-29T17:18:07.379Z"
   },
   {
    "duration": 8,
    "start_time": "2021-12-29T17:18:11.724Z"
   },
   {
    "duration": 8,
    "start_time": "2021-12-29T17:19:53.795Z"
   },
   {
    "duration": 424,
    "start_time": "2021-12-30T14:16:35.883Z"
   },
   {
    "duration": 1579,
    "start_time": "2021-12-30T14:16:42.135Z"
   },
   {
    "duration": 380,
    "start_time": "2021-12-30T14:16:47.055Z"
   },
   {
    "duration": 240,
    "start_time": "2021-12-30T14:16:49.169Z"
   },
   {
    "duration": 1596,
    "start_time": "2021-12-30T14:17:01.185Z"
   },
   {
    "duration": 23,
    "start_time": "2021-12-30T14:17:02.784Z"
   },
   {
    "duration": 26,
    "start_time": "2021-12-30T14:17:02.811Z"
   },
   {
    "duration": 51,
    "start_time": "2021-12-30T14:17:02.841Z"
   },
   {
    "duration": 9,
    "start_time": "2021-12-30T14:17:02.895Z"
   },
   {
    "duration": 10,
    "start_time": "2021-12-30T14:17:02.906Z"
   },
   {
    "duration": 445,
    "start_time": "2021-12-30T14:17:02.918Z"
   },
   {
    "duration": -292,
    "start_time": "2021-12-30T14:17:03.659Z"
   },
   {
    "duration": -294,
    "start_time": "2021-12-30T14:17:03.662Z"
   },
   {
    "duration": -295,
    "start_time": "2021-12-30T14:17:03.664Z"
   },
   {
    "duration": -300,
    "start_time": "2021-12-30T14:17:03.671Z"
   },
   {
    "duration": -301,
    "start_time": "2021-12-30T14:17:03.674Z"
   },
   {
    "duration": -302,
    "start_time": "2021-12-30T14:17:03.676Z"
   },
   {
    "duration": 12,
    "start_time": "2021-12-30T14:17:31.820Z"
   },
   {
    "duration": 8,
    "start_time": "2021-12-30T14:17:35.215Z"
   },
   {
    "duration": 2961,
    "start_time": "2021-12-30T14:17:38.174Z"
   },
   {
    "duration": 1414,
    "start_time": "2021-12-30T14:17:53.690Z"
   },
   {
    "duration": 16118,
    "start_time": "2021-12-30T14:18:04.500Z"
   },
   {
    "duration": 658,
    "start_time": "2021-12-30T14:19:32.250Z"
   },
   {
    "duration": 96,
    "start_time": "2021-12-30T14:19:57.616Z"
   },
   {
    "duration": 106,
    "start_time": "2021-12-30T14:20:06.255Z"
   },
   {
    "duration": 103,
    "start_time": "2021-12-30T14:20:28.179Z"
   },
   {
    "duration": 661,
    "start_time": "2021-12-30T14:20:41.260Z"
   },
   {
    "duration": 791,
    "start_time": "2021-12-30T14:21:03.130Z"
   },
   {
    "duration": 905,
    "start_time": "2021-12-30T14:21:13.760Z"
   },
   {
    "duration": 642,
    "start_time": "2021-12-30T14:21:26.986Z"
   },
   {
    "duration": 665,
    "start_time": "2021-12-30T14:21:54.644Z"
   },
   {
    "duration": 654,
    "start_time": "2021-12-30T14:21:57.747Z"
   },
   {
    "duration": 490,
    "start_time": "2021-12-30T14:48:46.808Z"
   },
   {
    "duration": 501,
    "start_time": "2021-12-30T14:49:15.202Z"
   },
   {
    "duration": 495,
    "start_time": "2021-12-30T14:49:59.272Z"
   },
   {
    "duration": 496,
    "start_time": "2021-12-30T14:50:18.259Z"
   },
   {
    "duration": 516,
    "start_time": "2021-12-30T14:57:28.797Z"
   },
   {
    "duration": 356,
    "start_time": "2021-12-30T14:58:29.285Z"
   },
   {
    "duration": 347,
    "start_time": "2021-12-30T14:59:13.322Z"
   },
   {
    "duration": 296,
    "start_time": "2021-12-30T14:59:43.450Z"
   },
   {
    "duration": 403,
    "start_time": "2021-12-30T15:02:27.639Z"
   },
   {
    "duration": 297,
    "start_time": "2021-12-30T15:02:48.113Z"
   },
   {
    "duration": 299,
    "start_time": "2021-12-30T15:15:49.843Z"
   },
   {
    "duration": 288,
    "start_time": "2021-12-30T15:15:53.335Z"
   },
   {
    "duration": 426,
    "start_time": "2021-12-30T15:17:40.455Z"
   },
   {
    "duration": 401,
    "start_time": "2021-12-30T15:19:40.103Z"
   },
   {
    "duration": 1091,
    "start_time": "2022-01-03T08:48:33.703Z"
   },
   {
    "duration": 17,
    "start_time": "2022-01-03T08:48:34.796Z"
   },
   {
    "duration": 13,
    "start_time": "2022-01-03T08:48:34.815Z"
   },
   {
    "duration": 21,
    "start_time": "2022-01-03T08:48:34.830Z"
   },
   {
    "duration": 6,
    "start_time": "2022-01-03T08:48:34.853Z"
   },
   {
    "duration": 6,
    "start_time": "2022-01-03T08:48:34.860Z"
   },
   {
    "duration": 30,
    "start_time": "2022-01-03T08:48:34.867Z"
   },
   {
    "duration": 5,
    "start_time": "2022-01-03T08:48:34.899Z"
   },
   {
    "duration": 497,
    "start_time": "2022-01-03T08:48:34.906Z"
   },
   {
    "duration": 5,
    "start_time": "2022-01-03T08:48:35.405Z"
   },
   {
    "duration": 7,
    "start_time": "2022-01-03T08:48:35.411Z"
   },
   {
    "duration": 376,
    "start_time": "2022-01-03T08:48:35.420Z"
   },
   {
    "duration": 275,
    "start_time": "2022-01-03T08:48:35.798Z"
   },
   {
    "duration": 327,
    "start_time": "2022-01-03T08:48:35.748Z"
   },
   {
    "duration": 326,
    "start_time": "2022-01-03T08:48:35.750Z"
   },
   {
    "duration": 325,
    "start_time": "2022-01-03T08:48:35.752Z"
   },
   {
    "duration": 62,
    "start_time": "2022-01-03T09:04:44.075Z"
   },
   {
    "duration": 60,
    "start_time": "2022-01-03T09:04:51.769Z"
   },
   {
    "duration": 2437,
    "start_time": "2022-01-03T09:05:03.439Z"
   },
   {
    "duration": 2109,
    "start_time": "2022-01-03T09:06:50.291Z"
   },
   {
    "duration": 2416,
    "start_time": "2022-01-03T09:07:39.867Z"
   },
   {
    "duration": 2189,
    "start_time": "2022-01-03T09:08:20.727Z"
   },
   {
    "duration": 489,
    "start_time": "2022-01-03T09:08:44.685Z"
   },
   {
    "duration": 1476,
    "start_time": "2022-01-06T10:48:30.982Z"
   },
   {
    "duration": 96,
    "start_time": "2022-01-06T10:48:32.461Z"
   },
   {
    "duration": 19,
    "start_time": "2022-01-06T10:48:32.560Z"
   },
   {
    "duration": 47,
    "start_time": "2022-01-06T10:48:32.581Z"
   },
   {
    "duration": 8,
    "start_time": "2022-01-06T10:48:32.631Z"
   },
   {
    "duration": 28,
    "start_time": "2022-01-06T10:48:32.642Z"
   },
   {
    "duration": 11,
    "start_time": "2022-01-06T10:48:32.673Z"
   },
   {
    "duration": 36,
    "start_time": "2022-01-06T10:48:32.687Z"
   },
   {
    "duration": 733,
    "start_time": "2022-01-06T10:48:32.726Z"
   },
   {
    "duration": 3434,
    "start_time": "2022-01-06T10:48:33.462Z"
   },
   {
    "duration": 7,
    "start_time": "2022-01-06T10:48:36.899Z"
   },
   {
    "duration": 89,
    "start_time": "2022-01-06T10:48:36.924Z"
   },
   {
    "duration": 1506,
    "start_time": "2022-01-06T10:48:35.509Z"
   },
   {
    "duration": 1468,
    "start_time": "2022-01-06T10:48:35.550Z"
   },
   {
    "duration": 1467,
    "start_time": "2022-01-06T10:48:35.553Z"
   },
   {
    "duration": 1466,
    "start_time": "2022-01-06T10:48:35.556Z"
   },
   {
    "duration": 1466,
    "start_time": "2022-01-06T10:48:35.558Z"
   },
   {
    "duration": 1466,
    "start_time": "2022-01-06T10:48:35.561Z"
   },
   {
    "duration": 1532,
    "start_time": "2022-01-06T10:48:42.757Z"
   },
   {
    "duration": 19,
    "start_time": "2022-01-06T10:48:44.291Z"
   },
   {
    "duration": 20,
    "start_time": "2022-01-06T10:48:44.313Z"
   },
   {
    "duration": 33,
    "start_time": "2022-01-06T10:48:44.335Z"
   },
   {
    "duration": 9,
    "start_time": "2022-01-06T10:48:44.371Z"
   },
   {
    "duration": 43,
    "start_time": "2022-01-06T10:48:44.382Z"
   },
   {
    "duration": 11,
    "start_time": "2022-01-06T10:48:44.427Z"
   },
   {
    "duration": 8,
    "start_time": "2022-01-06T10:48:44.441Z"
   },
   {
    "duration": 702,
    "start_time": "2022-01-06T10:48:44.453Z"
   },
   {
    "duration": 3086,
    "start_time": "2022-01-06T10:48:45.157Z"
   },
   {
    "duration": 8,
    "start_time": "2022-01-06T10:48:48.246Z"
   },
   {
    "duration": 106,
    "start_time": "2022-01-06T10:48:48.257Z"
   },
   {
    "duration": 1525,
    "start_time": "2022-01-06T10:48:46.841Z"
   },
   {
    "duration": 1524,
    "start_time": "2022-01-06T10:48:46.845Z"
   },
   {
    "duration": 1523,
    "start_time": "2022-01-06T10:48:46.847Z"
   },
   {
    "duration": 1523,
    "start_time": "2022-01-06T10:48:46.849Z"
   },
   {
    "duration": 1518,
    "start_time": "2022-01-06T10:48:46.856Z"
   },
   {
    "duration": 1517,
    "start_time": "2022-01-06T10:48:46.859Z"
   },
   {
    "duration": 2415,
    "start_time": "2022-01-06T10:49:32.980Z"
   },
   {
    "duration": 4185,
    "start_time": "2022-01-06T10:49:42.998Z"
   },
   {
    "duration": 14,
    "start_time": "2022-01-06T10:49:58.060Z"
   },
   {
    "duration": 10,
    "start_time": "2022-01-06T10:50:00.113Z"
   },
   {
    "duration": 645,
    "start_time": "2022-01-06T10:50:02.168Z"
   },
   {
    "duration": 2962,
    "start_time": "2022-01-06T10:50:07.565Z"
   },
   {
    "duration": 644,
    "start_time": "2022-01-06T10:51:31.380Z"
   },
   {
    "duration": 6797,
    "start_time": "2022-01-06T10:53:08.576Z"
   },
   {
    "duration": 8729,
    "start_time": "2022-01-06T10:59:51.505Z"
   },
   {
    "duration": 8889,
    "start_time": "2022-01-06T11:02:53.811Z"
   },
   {
    "duration": 7,
    "start_time": "2022-01-06T11:03:04.150Z"
   },
   {
    "duration": 431,
    "start_time": "2022-01-06T11:19:07.131Z"
   },
   {
    "duration": 1418,
    "start_time": "2022-01-06T11:59:36.060Z"
   },
   {
    "duration": 18,
    "start_time": "2022-01-06T11:59:37.481Z"
   },
   {
    "duration": 27,
    "start_time": "2022-01-06T11:59:37.502Z"
   },
   {
    "duration": 32,
    "start_time": "2022-01-06T11:59:37.531Z"
   },
   {
    "duration": 7,
    "start_time": "2022-01-06T11:59:37.566Z"
   },
   {
    "duration": 17,
    "start_time": "2022-01-06T11:59:37.575Z"
   },
   {
    "duration": 36,
    "start_time": "2022-01-06T11:59:37.594Z"
   },
   {
    "duration": 7,
    "start_time": "2022-01-06T11:59:37.635Z"
   },
   {
    "duration": 6435,
    "start_time": "2022-01-06T11:59:37.645Z"
   },
   {
    "duration": 7,
    "start_time": "2022-01-06T11:59:44.082Z"
   },
   {
    "duration": 614,
    "start_time": "2022-01-06T11:59:44.091Z"
   },
   {
    "duration": -17,
    "start_time": "2022-01-06T11:59:44.725Z"
   },
   {
    "duration": -17,
    "start_time": "2022-01-06T11:59:44.727Z"
   },
   {
    "duration": -18,
    "start_time": "2022-01-06T11:59:44.730Z"
   },
   {
    "duration": 21186,
    "start_time": "2022-01-06T11:59:48.740Z"
   },
   {
    "duration": 1605,
    "start_time": "2022-01-06T13:30:44.496Z"
   },
   {
    "duration": 24,
    "start_time": "2022-01-06T13:30:46.103Z"
   },
   {
    "duration": 19,
    "start_time": "2022-01-06T13:30:46.130Z"
   },
   {
    "duration": 34,
    "start_time": "2022-01-06T13:30:46.152Z"
   },
   {
    "duration": 45,
    "start_time": "2022-01-06T13:30:46.188Z"
   },
   {
    "duration": 9,
    "start_time": "2022-01-06T13:30:46.236Z"
   },
   {
    "duration": 12,
    "start_time": "2022-01-06T13:30:46.248Z"
   },
   {
    "duration": 7,
    "start_time": "2022-01-06T13:30:46.265Z"
   },
   {
    "duration": 6125,
    "start_time": "2022-01-06T13:30:46.275Z"
   },
   {
    "duration": 7,
    "start_time": "2022-01-06T13:30:52.402Z"
   },
   {
    "duration": 109,
    "start_time": "2022-01-06T13:30:52.411Z"
   },
   {
    "duration": 51,
    "start_time": "2022-01-06T13:30:52.471Z"
   },
   {
    "duration": 31,
    "start_time": "2022-01-06T13:30:52.493Z"
   },
   {
    "duration": 28,
    "start_time": "2022-01-06T13:30:52.497Z"
   },
   {
    "duration": 3,
    "start_time": "2022-01-06T13:30:58.720Z"
   },
   {
    "duration": 4451,
    "start_time": "2022-01-06T13:31:01.003Z"
   },
   {
    "duration": 1548,
    "start_time": "2022-01-06T13:32:38.004Z"
   },
   {
    "duration": 20,
    "start_time": "2022-01-06T13:32:39.555Z"
   },
   {
    "duration": 19,
    "start_time": "2022-01-06T13:32:39.577Z"
   },
   {
    "duration": 52,
    "start_time": "2022-01-06T13:32:39.599Z"
   },
   {
    "duration": 10,
    "start_time": "2022-01-06T13:32:39.654Z"
   },
   {
    "duration": 9,
    "start_time": "2022-01-06T13:32:39.666Z"
   },
   {
    "duration": 51,
    "start_time": "2022-01-06T13:32:39.678Z"
   },
   {
    "duration": 8,
    "start_time": "2022-01-06T13:32:39.733Z"
   },
   {
    "duration": 6272,
    "start_time": "2022-01-06T13:32:39.744Z"
   },
   {
    "duration": 7,
    "start_time": "2022-01-06T13:32:46.023Z"
   },
   {
    "duration": 6,
    "start_time": "2022-01-06T13:32:46.032Z"
   },
   {
    "duration": 11015,
    "start_time": "2022-01-06T13:32:46.040Z"
   },
   {
    "duration": 315,
    "start_time": "2022-01-06T13:32:57.057Z"
   },
   {
    "duration": 41,
    "start_time": "2022-01-06T13:32:57.334Z"
   },
   {
    "duration": 2301,
    "start_time": "2022-01-06T13:36:27.118Z"
   },
   {
    "duration": 25,
    "start_time": "2022-01-06T13:36:29.425Z"
   },
   {
    "duration": 32,
    "start_time": "2022-01-06T13:36:29.455Z"
   },
   {
    "duration": 57,
    "start_time": "2022-01-06T13:36:29.491Z"
   },
   {
    "duration": 10,
    "start_time": "2022-01-06T13:36:29.550Z"
   },
   {
    "duration": 13,
    "start_time": "2022-01-06T13:36:29.563Z"
   },
   {
    "duration": 50,
    "start_time": "2022-01-06T13:36:29.579Z"
   },
   {
    "duration": 9,
    "start_time": "2022-01-06T13:36:29.632Z"
   },
   {
    "duration": 7419,
    "start_time": "2022-01-06T13:36:29.645Z"
   },
   {
    "duration": 7,
    "start_time": "2022-01-06T13:36:37.066Z"
   },
   {
    "duration": 5,
    "start_time": "2022-01-06T13:36:37.075Z"
   },
   {
    "duration": 19882865,
    "start_time": "2022-01-06T13:36:37.082Z"
   },
   {
    "duration": 542,
    "start_time": "2022-01-06T19:07:59.949Z"
   },
   {
    "duration": 228,
    "start_time": "2022-01-06T19:08:00.265Z"
   },
   {
    "duration": 109603,
    "start_time": "2022-01-06T19:10:36.048Z"
   },
   {
    "duration": 109418,
    "start_time": "2022-01-06T19:13:11.143Z"
   },
   {
    "duration": 109655,
    "start_time": "2022-01-06T19:15:23.896Z"
   },
   {
    "duration": 377,
    "start_time": "2022-01-07T13:31:18.682Z"
   },
   {
    "duration": 1576,
    "start_time": "2022-01-07T13:31:27.385Z"
   },
   {
    "duration": 3,
    "start_time": "2022-01-07T13:31:57.055Z"
   },
   {
    "duration": 9,
    "start_time": "2022-01-07T13:32:01.900Z"
   },
   {
    "duration": 323,
    "start_time": "2022-01-07T13:42:31.948Z"
   },
   {
    "duration": 369,
    "start_time": "2022-01-07T13:42:42.794Z"
   },
   {
    "duration": 19,
    "start_time": "2022-01-07T13:42:46.337Z"
   },
   {
    "duration": 13,
    "start_time": "2022-01-07T13:42:50.084Z"
   },
   {
    "duration": 8,
    "start_time": "2022-01-07T13:42:51.499Z"
   },
   {
    "duration": 1557,
    "start_time": "2022-01-07T13:49:23.407Z"
   },
   {
    "duration": 21,
    "start_time": "2022-01-07T13:49:24.966Z"
   },
   {
    "duration": 19,
    "start_time": "2022-01-07T13:49:24.990Z"
   },
   {
    "duration": 38,
    "start_time": "2022-01-07T13:49:25.011Z"
   },
   {
    "duration": 9,
    "start_time": "2022-01-07T13:49:25.051Z"
   },
   {
    "duration": 11,
    "start_time": "2022-01-07T13:49:25.063Z"
   },
   {
    "duration": 47,
    "start_time": "2022-01-07T13:49:25.077Z"
   },
   {
    "duration": 10,
    "start_time": "2022-01-07T13:49:25.128Z"
   },
   {
    "duration": 6777,
    "start_time": "2022-01-07T13:49:25.141Z"
   },
   {
    "duration": 7,
    "start_time": "2022-01-07T13:49:31.921Z"
   },
   {
    "duration": 105,
    "start_time": "2022-01-07T13:49:31.931Z"
   },
   {
    "duration": 128,
    "start_time": "2022-01-07T13:49:31.910Z"
   },
   {
    "duration": 126,
    "start_time": "2022-01-07T13:49:31.913Z"
   },
   {
    "duration": 126,
    "start_time": "2022-01-07T13:49:31.915Z"
   },
   {
    "duration": 121,
    "start_time": "2022-01-07T13:49:31.921Z"
   },
   {
    "duration": 121,
    "start_time": "2022-01-07T13:49:31.923Z"
   },
   {
    "duration": 118,
    "start_time": "2022-01-07T13:49:31.927Z"
   },
   {
    "duration": 115,
    "start_time": "2022-01-07T13:49:31.931Z"
   },
   {
    "duration": 1584,
    "start_time": "2022-01-07T13:50:40.629Z"
   },
   {
    "duration": 20,
    "start_time": "2022-01-07T13:50:42.217Z"
   },
   {
    "duration": 19,
    "start_time": "2022-01-07T13:50:42.243Z"
   },
   {
    "duration": 54,
    "start_time": "2022-01-07T13:50:42.264Z"
   },
   {
    "duration": 9,
    "start_time": "2022-01-07T13:50:42.321Z"
   },
   {
    "duration": 11,
    "start_time": "2022-01-07T13:50:42.332Z"
   },
   {
    "duration": 11,
    "start_time": "2022-01-07T13:50:42.346Z"
   },
   {
    "duration": 9,
    "start_time": "2022-01-07T13:50:42.360Z"
   },
   {
    "duration": 6884,
    "start_time": "2022-01-07T13:50:42.372Z"
   },
   {
    "duration": 6,
    "start_time": "2022-01-07T13:50:49.259Z"
   },
   {
    "duration": 101,
    "start_time": "2022-01-07T13:50:49.267Z"
   },
   {
    "duration": 121,
    "start_time": "2022-01-07T13:50:49.249Z"
   },
   {
    "duration": 120,
    "start_time": "2022-01-07T13:50:49.252Z"
   },
   {
    "duration": 118,
    "start_time": "2022-01-07T13:50:49.255Z"
   },
   {
    "duration": 109,
    "start_time": "2022-01-07T13:50:49.266Z"
   },
   {
    "duration": 106,
    "start_time": "2022-01-07T13:50:49.270Z"
   },
   {
    "duration": 105,
    "start_time": "2022-01-07T13:50:49.273Z"
   },
   {
    "duration": 101,
    "start_time": "2022-01-07T13:50:49.278Z"
   },
   {
    "duration": 1617,
    "start_time": "2022-01-07T13:52:27.226Z"
   },
   {
    "duration": 20,
    "start_time": "2022-01-07T13:52:28.845Z"
   },
   {
    "duration": 21,
    "start_time": "2022-01-07T13:52:28.869Z"
   },
   {
    "duration": 51,
    "start_time": "2022-01-07T13:52:28.893Z"
   },
   {
    "duration": 9,
    "start_time": "2022-01-07T13:52:28.947Z"
   },
   {
    "duration": 9,
    "start_time": "2022-01-07T13:52:28.958Z"
   },
   {
    "duration": 48,
    "start_time": "2022-01-07T13:52:28.969Z"
   },
   {
    "duration": 10,
    "start_time": "2022-01-07T13:52:29.021Z"
   },
   {
    "duration": 6478,
    "start_time": "2022-01-07T13:52:29.033Z"
   },
   {
    "duration": 8,
    "start_time": "2022-01-07T13:52:35.513Z"
   },
   {
    "duration": 116,
    "start_time": "2022-01-07T13:52:35.524Z"
   },
   {
    "duration": 135,
    "start_time": "2022-01-07T13:52:35.508Z"
   },
   {
    "duration": 134,
    "start_time": "2022-01-07T13:52:35.511Z"
   },
   {
    "duration": 131,
    "start_time": "2022-01-07T13:52:35.515Z"
   },
   {
    "duration": 130,
    "start_time": "2022-01-07T13:52:35.519Z"
   },
   {
    "duration": 130,
    "start_time": "2022-01-07T13:52:35.521Z"
   },
   {
    "duration": 123,
    "start_time": "2022-01-07T13:52:35.529Z"
   },
   {
    "duration": 121,
    "start_time": "2022-01-07T13:52:35.532Z"
   },
   {
    "duration": 1626,
    "start_time": "2022-01-07T13:53:02.526Z"
   },
   {
    "duration": 19,
    "start_time": "2022-01-07T13:53:04.155Z"
   },
   {
    "duration": 18,
    "start_time": "2022-01-07T13:53:04.177Z"
   },
   {
    "duration": 46,
    "start_time": "2022-01-07T13:53:04.198Z"
   },
   {
    "duration": 8,
    "start_time": "2022-01-07T13:53:04.246Z"
   },
   {
    "duration": 9,
    "start_time": "2022-01-07T13:53:04.257Z"
   },
   {
    "duration": 11,
    "start_time": "2022-01-07T13:53:04.268Z"
   },
   {
    "duration": 9,
    "start_time": "2022-01-07T13:53:04.319Z"
   },
   {
    "duration": 7208,
    "start_time": "2022-01-07T13:53:04.330Z"
   },
   {
    "duration": 7,
    "start_time": "2022-01-07T13:53:11.540Z"
   },
   {
    "duration": 95,
    "start_time": "2022-01-07T13:53:11.549Z"
   },
   {
    "duration": 135,
    "start_time": "2022-01-07T13:53:11.512Z"
   },
   {
    "duration": 118,
    "start_time": "2022-01-07T13:53:11.530Z"
   },
   {
    "duration": 116,
    "start_time": "2022-01-07T13:53:11.534Z"
   },
   {
    "duration": 109,
    "start_time": "2022-01-07T13:53:11.543Z"
   },
   {
    "duration": 108,
    "start_time": "2022-01-07T13:53:11.546Z"
   },
   {
    "duration": 105,
    "start_time": "2022-01-07T13:53:11.551Z"
   },
   {
    "duration": 103,
    "start_time": "2022-01-07T13:53:11.554Z"
   },
   {
    "duration": 1712,
    "start_time": "2022-01-07T13:55:51.856Z"
   },
   {
    "duration": 20,
    "start_time": "2022-01-07T13:55:53.570Z"
   },
   {
    "duration": 24,
    "start_time": "2022-01-07T13:55:53.593Z"
   },
   {
    "duration": 33,
    "start_time": "2022-01-07T13:55:53.620Z"
   },
   {
    "duration": 8,
    "start_time": "2022-01-07T13:55:53.655Z"
   },
   {
    "duration": 11,
    "start_time": "2022-01-07T13:55:53.665Z"
   },
   {
    "duration": 46,
    "start_time": "2022-01-07T13:55:53.678Z"
   },
   {
    "duration": 9,
    "start_time": "2022-01-07T13:55:53.728Z"
   },
   {
    "duration": 6548,
    "start_time": "2022-01-07T13:55:53.740Z"
   },
   {
    "duration": 6,
    "start_time": "2022-01-07T13:56:00.290Z"
   },
   {
    "duration": 348,
    "start_time": "2022-01-07T13:56:00.298Z"
   },
   {
    "duration": 130,
    "start_time": "2022-01-07T13:56:00.519Z"
   },
   {
    "duration": 128,
    "start_time": "2022-01-07T13:56:00.522Z"
   },
   {
    "duration": 126,
    "start_time": "2022-01-07T13:56:00.526Z"
   },
   {
    "duration": 125,
    "start_time": "2022-01-07T13:56:00.528Z"
   },
   {
    "duration": 118,
    "start_time": "2022-01-07T13:56:00.537Z"
   },
   {
    "duration": 117,
    "start_time": "2022-01-07T13:56:00.539Z"
   },
   {
    "duration": 116,
    "start_time": "2022-01-07T13:56:00.542Z"
   },
   {
    "duration": 114,
    "start_time": "2022-01-07T13:56:00.545Z"
   },
   {
    "duration": 266,
    "start_time": "2022-01-07T13:56:24.855Z"
   },
   {
    "duration": 1613,
    "start_time": "2022-01-07T13:56:56.249Z"
   },
   {
    "duration": 20,
    "start_time": "2022-01-07T13:56:57.864Z"
   },
   {
    "duration": 27,
    "start_time": "2022-01-07T13:56:57.890Z"
   },
   {
    "duration": 33,
    "start_time": "2022-01-07T13:56:57.920Z"
   },
   {
    "duration": 9,
    "start_time": "2022-01-07T13:56:57.955Z"
   },
   {
    "duration": 9,
    "start_time": "2022-01-07T13:56:57.967Z"
   },
   {
    "duration": 15,
    "start_time": "2022-01-07T13:56:58.016Z"
   },
   {
    "duration": 8,
    "start_time": "2022-01-07T13:56:58.034Z"
   },
   {
    "duration": 7308,
    "start_time": "2022-01-07T13:56:58.045Z"
   },
   {
    "duration": 8,
    "start_time": "2022-01-07T13:57:05.356Z"
   },
   {
    "duration": 109,
    "start_time": "2022-01-07T13:57:05.366Z"
   },
   {
    "duration": 146,
    "start_time": "2022-01-07T13:57:05.332Z"
   },
   {
    "duration": 142,
    "start_time": "2022-01-07T13:57:05.337Z"
   },
   {
    "duration": 127,
    "start_time": "2022-01-07T13:57:05.354Z"
   },
   {
    "duration": 117,
    "start_time": "2022-01-07T13:57:05.365Z"
   },
   {
    "duration": 116,
    "start_time": "2022-01-07T13:57:05.367Z"
   },
   {
    "duration": 114,
    "start_time": "2022-01-07T13:57:05.371Z"
   },
   {
    "duration": 113,
    "start_time": "2022-01-07T13:57:05.373Z"
   },
   {
    "duration": 113,
    "start_time": "2022-01-07T13:57:05.374Z"
   },
   {
    "duration": 270,
    "start_time": "2022-01-07T13:57:09.133Z"
   },
   {
    "duration": 367,
    "start_time": "2022-01-07T13:59:07.940Z"
   },
   {
    "duration": 18,
    "start_time": "2022-01-07T14:01:19.440Z"
   },
   {
    "duration": 209,
    "start_time": "2022-01-07T14:01:48.767Z"
   },
   {
    "duration": 18,
    "start_time": "2022-01-07T14:02:04.588Z"
   },
   {
    "duration": 18,
    "start_time": "2022-01-07T14:02:16.231Z"
   },
   {
    "duration": 6,
    "start_time": "2022-01-07T14:02:21.035Z"
   },
   {
    "duration": 5,
    "start_time": "2022-01-07T14:11:35.015Z"
   },
   {
    "duration": 1508,
    "start_time": "2022-01-07T14:11:39.265Z"
   },
   {
    "duration": 20,
    "start_time": "2022-01-07T14:11:40.776Z"
   },
   {
    "duration": 22,
    "start_time": "2022-01-07T14:11:40.799Z"
   },
   {
    "duration": 36,
    "start_time": "2022-01-07T14:11:40.824Z"
   },
   {
    "duration": 8,
    "start_time": "2022-01-07T14:11:40.863Z"
   },
   {
    "duration": 9,
    "start_time": "2022-01-07T14:11:40.874Z"
   },
   {
    "duration": 41,
    "start_time": "2022-01-07T14:11:40.885Z"
   },
   {
    "duration": 9,
    "start_time": "2022-01-07T14:11:40.930Z"
   },
   {
    "duration": 7007,
    "start_time": "2022-01-07T14:11:40.942Z"
   },
   {
    "duration": 5,
    "start_time": "2022-01-07T14:11:47.952Z"
   },
   {
    "duration": 102,
    "start_time": "2022-01-07T14:11:47.960Z"
   },
   {
    "duration": 143,
    "start_time": "2022-01-07T14:11:47.922Z"
   },
   {
    "duration": 141,
    "start_time": "2022-01-07T14:11:47.925Z"
   },
   {
    "duration": 140,
    "start_time": "2022-01-07T14:11:47.928Z"
   },
   {
    "duration": 139,
    "start_time": "2022-01-07T14:11:47.930Z"
   },
   {
    "duration": 136,
    "start_time": "2022-01-07T14:11:47.934Z"
   },
   {
    "duration": 133,
    "start_time": "2022-01-07T14:11:47.938Z"
   },
   {
    "duration": 132,
    "start_time": "2022-01-07T14:11:47.941Z"
   },
   {
    "duration": 130,
    "start_time": "2022-01-07T14:11:47.944Z"
   },
   {
    "duration": 128,
    "start_time": "2022-01-07T14:11:47.947Z"
   },
   {
    "duration": 115308,
    "start_time": "2022-01-07T14:12:20.282Z"
   },
   {
    "duration": 20,
    "start_time": "2022-01-07T14:14:26.245Z"
   },
   {
    "duration": 475,
    "start_time": "2022-01-07T14:15:04.614Z"
   },
   {
    "duration": 19,
    "start_time": "2022-01-07T14:15:50.651Z"
   },
   {
    "duration": 6708,
    "start_time": "2022-01-07T14:20:21.261Z"
   },
   {
    "duration": 7008,
    "start_time": "2022-01-07T14:21:03.555Z"
   },
   {
    "duration": 790,
    "start_time": "2022-01-07T14:22:59.908Z"
   },
   {
    "duration": 290,
    "start_time": "2022-01-07T14:24:58.923Z"
   },
   {
    "duration": 117280,
    "start_time": "2022-01-07T14:26:02.088Z"
   },
   {
    "duration": 239,
    "start_time": "2022-01-10T08:07:19.354Z"
   },
   {
    "duration": 1553,
    "start_time": "2022-01-10T08:07:34.915Z"
   },
   {
    "duration": 20,
    "start_time": "2022-01-10T08:07:36.470Z"
   },
   {
    "duration": 25,
    "start_time": "2022-01-10T08:07:36.493Z"
   },
   {
    "duration": 32,
    "start_time": "2022-01-10T08:07:36.521Z"
   },
   {
    "duration": 7,
    "start_time": "2022-01-10T08:07:36.556Z"
   },
   {
    "duration": 10,
    "start_time": "2022-01-10T08:07:36.565Z"
   },
   {
    "duration": 44,
    "start_time": "2022-01-10T08:07:36.577Z"
   },
   {
    "duration": 10,
    "start_time": "2022-01-10T08:07:36.626Z"
   },
   {
    "duration": 332,
    "start_time": "2022-01-10T08:07:36.639Z"
   },
   {
    "duration": 3,
    "start_time": "2022-01-10T08:07:36.973Z"
   },
   {
    "duration": 6,
    "start_time": "2022-01-10T08:07:36.978Z"
   },
   {
    "duration": 116168,
    "start_time": "2022-01-10T08:07:36.986Z"
   },
   {
    "duration": 3,
    "start_time": "2022-01-10T08:09:33.158Z"
   },
   {
    "duration": 293,
    "start_time": "2022-01-10T08:09:33.163Z"
   },
   {
    "duration": 194,
    "start_time": "2022-01-10T08:09:33.459Z"
   },
   {
    "duration": 19,
    "start_time": "2022-01-10T08:09:33.655Z"
   },
   {
    "duration": 4,
    "start_time": "2022-01-10T08:09:33.676Z"
   },
   {
    "duration": 9,
    "start_time": "2022-01-10T08:09:33.682Z"
   },
   {
    "duration": 6973,
    "start_time": "2022-01-10T08:09:40.447Z"
   },
   {
    "duration": 28633,
    "start_time": "2022-01-10T08:11:15.414Z"
   },
   {
    "duration": 1741,
    "start_time": "2022-01-10T08:16:23.556Z"
   },
   {
    "duration": 25,
    "start_time": "2022-01-10T08:16:25.301Z"
   },
   {
    "duration": 31,
    "start_time": "2022-01-10T08:16:25.330Z"
   },
   {
    "duration": 65,
    "start_time": "2022-01-10T08:16:25.364Z"
   },
   {
    "duration": 9,
    "start_time": "2022-01-10T08:16:25.432Z"
   },
   {
    "duration": 15,
    "start_time": "2022-01-10T08:16:25.444Z"
   },
   {
    "duration": 16,
    "start_time": "2022-01-10T08:16:25.463Z"
   },
   {
    "duration": 15,
    "start_time": "2022-01-10T08:16:25.518Z"
   },
   {
    "duration": 9436,
    "start_time": "2022-01-10T08:16:25.537Z"
   },
   {
    "duration": 7,
    "start_time": "2022-01-10T08:16:34.978Z"
   },
   {
    "duration": 26,
    "start_time": "2022-01-10T08:16:34.987Z"
   },
   {
    "duration": 127006,
    "start_time": "2022-01-10T08:16:35.019Z"
   },
   {
    "duration": 3,
    "start_time": "2022-01-10T08:18:42.027Z"
   },
   {
    "duration": 293,
    "start_time": "2022-01-10T08:18:42.033Z"
   },
   {
    "duration": 345,
    "start_time": "2022-01-10T08:18:42.329Z"
   },
   {
    "duration": 21,
    "start_time": "2022-01-10T08:18:42.677Z"
   },
   {
    "duration": 4,
    "start_time": "2022-01-10T08:18:42.701Z"
   },
   {
    "duration": 7,
    "start_time": "2022-01-10T08:18:42.708Z"
   },
   {
    "duration": 428423,
    "start_time": "2022-01-10T08:18:42.718Z"
   },
   {
    "duration": 6,
    "start_time": "2022-01-10T08:26:27.277Z"
   },
   {
    "duration": 28201,
    "start_time": "2022-01-10T08:27:52.976Z"
   },
   {
    "duration": 6,
    "start_time": "2022-01-10T08:28:22.677Z"
   },
   {
    "duration": 1492,
    "start_time": "2022-01-10T08:30:19.769Z"
   },
   {
    "duration": 20,
    "start_time": "2022-01-10T08:30:21.263Z"
   },
   {
    "duration": 21,
    "start_time": "2022-01-10T08:30:21.286Z"
   },
   {
    "duration": 33,
    "start_time": "2022-01-10T08:30:21.318Z"
   },
   {
    "duration": 8,
    "start_time": "2022-01-10T08:30:21.353Z"
   },
   {
    "duration": 9,
    "start_time": "2022-01-10T08:30:21.363Z"
   },
   {
    "duration": 48,
    "start_time": "2022-01-10T08:30:21.374Z"
   },
   {
    "duration": 10,
    "start_time": "2022-01-10T08:30:21.424Z"
   },
   {
    "duration": 6754,
    "start_time": "2022-01-10T08:30:21.437Z"
   },
   {
    "duration": 22,
    "start_time": "2022-01-10T08:30:28.194Z"
   },
   {
    "duration": 4,
    "start_time": "2022-01-10T08:30:28.219Z"
   },
   {
    "duration": 114816,
    "start_time": "2022-01-10T08:30:28.225Z"
   },
   {
    "duration": 27666,
    "start_time": "2022-01-10T08:32:23.043Z"
   },
   {
    "duration": 5,
    "start_time": "2022-01-10T08:32:50.718Z"
   },
   {
    "duration": 12,
    "start_time": "2022-01-10T08:39:00.743Z"
   },
   {
    "duration": 6872,
    "start_time": "2022-01-10T08:47:14.921Z"
   },
   {
    "duration": 6976,
    "start_time": "2022-01-10T08:47:45.762Z"
   },
   {
    "duration": 95,
    "start_time": "2022-01-10T08:48:00.486Z"
   },
   {
    "duration": 6978,
    "start_time": "2022-01-10T08:48:34.025Z"
   },
   {
    "duration": 6857,
    "start_time": "2022-01-10T08:48:53.480Z"
   },
   {
    "duration": 6820,
    "start_time": "2022-01-10T08:49:21.569Z"
   },
   {
    "duration": 6,
    "start_time": "2022-01-10T08:49:31.502Z"
   },
   {
    "duration": 380,
    "start_time": "2022-01-10T08:53:13.772Z"
   },
   {
    "duration": 5,
    "start_time": "2022-01-10T08:53:31.698Z"
   },
   {
    "duration": 51848,
    "start_time": "2022-01-10T08:54:18.270Z"
   },
   {
    "duration": 51207,
    "start_time": "2022-01-10T09:20:07.068Z"
   },
   {
    "duration": 1565,
    "start_time": "2022-01-10T09:24:09.726Z"
   },
   {
    "duration": 20,
    "start_time": "2022-01-10T09:24:11.294Z"
   },
   {
    "duration": 20,
    "start_time": "2022-01-10T09:24:11.317Z"
   },
   {
    "duration": 36,
    "start_time": "2022-01-10T09:24:11.339Z"
   },
   {
    "duration": 9,
    "start_time": "2022-01-10T09:24:11.377Z"
   },
   {
    "duration": 9,
    "start_time": "2022-01-10T09:24:11.417Z"
   },
   {
    "duration": 12,
    "start_time": "2022-01-10T09:24:11.429Z"
   },
   {
    "duration": 10,
    "start_time": "2022-01-10T09:24:11.446Z"
   },
   {
    "duration": 492,
    "start_time": "2022-01-10T09:24:11.459Z"
   },
   {
    "duration": 8,
    "start_time": "2022-01-10T09:24:11.953Z"
   },
   {
    "duration": 5,
    "start_time": "2022-01-10T09:24:11.964Z"
   },
   {
    "duration": 52888,
    "start_time": "2022-01-10T09:24:11.972Z"
   },
   {
    "duration": 27682,
    "start_time": "2022-01-10T09:25:04.862Z"
   },
   {
    "duration": 7,
    "start_time": "2022-01-10T09:25:32.547Z"
   },
   {
    "duration": 48379,
    "start_time": "2022-01-10T09:26:12.077Z"
   },
   {
    "duration": 27945,
    "start_time": "2022-01-10T09:27:22.186Z"
   },
   {
    "duration": 46609,
    "start_time": "2022-01-10T09:28:04.196Z"
   },
   {
    "duration": 30076,
    "start_time": "2022-01-10T09:30:33.161Z"
   },
   {
    "duration": 457652,
    "start_time": "2022-01-10T09:31:13.340Z"
   },
   {
    "duration": 12339,
    "start_time": "2022-01-10T09:39:28.367Z"
   },
   {
    "duration": 6,
    "start_time": "2022-01-10T09:40:20.948Z"
   },
   {
    "duration": 11998,
    "start_time": "2022-01-10T09:42:27.388Z"
   },
   {
    "duration": 12821,
    "start_time": "2022-01-10T09:43:47.551Z"
   },
   {
    "duration": 51997,
    "start_time": "2022-01-10T09:44:04.942Z"
   },
   {
    "duration": 51558,
    "start_time": "2022-01-10T09:45:07.770Z"
   },
   {
    "duration": 317,
    "start_time": "2022-01-10T09:51:03.875Z"
   },
   {
    "duration": 18,
    "start_time": "2022-01-10T09:51:25.011Z"
   },
   {
    "duration": 18,
    "start_time": "2022-01-10T09:52:51.347Z"
   },
   {
    "duration": 11,
    "start_time": "2022-01-10T09:53:28.067Z"
   },
   {
    "duration": 10,
    "start_time": "2022-01-10T09:53:45.692Z"
   },
   {
    "duration": 20,
    "start_time": "2022-01-10T09:53:50.666Z"
   },
   {
    "duration": 8,
    "start_time": "2022-01-10T09:55:11.469Z"
   },
   {
    "duration": 14,
    "start_time": "2022-01-10T09:55:13.812Z"
   },
   {
    "duration": 8,
    "start_time": "2022-01-10T09:55:15.350Z"
   },
   {
    "duration": 18,
    "start_time": "2022-01-10T10:00:15.232Z"
   },
   {
    "duration": 1608,
    "start_time": "2022-01-10T10:20:45.784Z"
   },
   {
    "duration": 23,
    "start_time": "2022-01-10T10:20:47.395Z"
   },
   {
    "duration": 20,
    "start_time": "2022-01-10T10:20:47.424Z"
   },
   {
    "duration": 49,
    "start_time": "2022-01-10T10:20:47.447Z"
   },
   {
    "duration": 22,
    "start_time": "2022-01-10T10:20:47.498Z"
   },
   {
    "duration": 15,
    "start_time": "2022-01-10T10:20:47.523Z"
   },
   {
    "duration": 14,
    "start_time": "2022-01-10T10:20:47.542Z"
   },
   {
    "duration": 8,
    "start_time": "2022-01-10T10:20:47.559Z"
   },
   {
    "duration": 433,
    "start_time": "2022-01-10T10:20:47.570Z"
   },
   {
    "duration": 16,
    "start_time": "2022-01-10T10:20:48.005Z"
   },
   {
    "duration": 1499,
    "start_time": "2022-01-10T10:21:16.066Z"
   },
   {
    "duration": 21,
    "start_time": "2022-01-10T10:21:17.568Z"
   },
   {
    "duration": 26,
    "start_time": "2022-01-10T10:21:17.592Z"
   },
   {
    "duration": 34,
    "start_time": "2022-01-10T10:21:17.621Z"
   },
   {
    "duration": 9,
    "start_time": "2022-01-10T10:21:17.657Z"
   },
   {
    "duration": 11,
    "start_time": "2022-01-10T10:21:17.668Z"
   },
   {
    "duration": 12,
    "start_time": "2022-01-10T10:21:17.681Z"
   },
   {
    "duration": 22,
    "start_time": "2022-01-10T10:21:17.696Z"
   },
   {
    "duration": 397,
    "start_time": "2022-01-10T10:21:17.723Z"
   },
   {
    "duration": 6,
    "start_time": "2022-01-10T10:21:18.123Z"
   },
   {
    "duration": 21204328,
    "start_time": "2022-01-10T10:21:18.131Z"
   },
   {
    "duration": 5,
    "start_time": "2022-01-10T16:14:42.462Z"
   },
   {
    "duration": 52498,
    "start_time": "2022-01-10T16:14:42.469Z"
   },
   {
    "duration": 11818,
    "start_time": "2022-01-10T16:15:34.969Z"
   },
   {
    "duration": 6,
    "start_time": "2022-01-10T16:15:46.790Z"
   },
   {
    "duration": 287,
    "start_time": "2022-01-10T16:15:46.799Z"
   },
   {
    "duration": 213,
    "start_time": "2022-01-10T16:15:47.090Z"
   },
   {
    "duration": 84,
    "start_time": "2022-01-10T16:15:47.305Z"
   },
   {
    "duration": 90,
    "start_time": "2022-01-10T16:15:47.392Z"
   },
   {
    "duration": 6,
    "start_time": "2022-01-10T18:06:57.649Z"
   },
   {
    "duration": 260,
    "start_time": "2022-01-10T20:33:05.373Z"
   },
   {
    "duration": 1583,
    "start_time": "2022-01-10T20:33:17.502Z"
   },
   {
    "duration": 71,
    "start_time": "2022-01-10T20:33:19.088Z"
   },
   {
    "duration": 20,
    "start_time": "2022-01-10T20:33:19.162Z"
   },
   {
    "duration": 34,
    "start_time": "2022-01-10T20:33:19.185Z"
   },
   {
    "duration": 9,
    "start_time": "2022-01-10T20:33:19.221Z"
   },
   {
    "duration": 13,
    "start_time": "2022-01-10T20:33:19.232Z"
   },
   {
    "duration": 14,
    "start_time": "2022-01-10T20:33:19.247Z"
   },
   {
    "duration": 15,
    "start_time": "2022-01-10T20:33:19.266Z"
   },
   {
    "duration": 405,
    "start_time": "2022-01-10T20:33:19.318Z"
   },
   {
    "duration": 6,
    "start_time": "2022-01-10T20:33:19.725Z"
   },
   {
    "duration": 49962,
    "start_time": "2022-01-10T20:33:19.733Z"
   },
   {
    "duration": 19,
    "start_time": "2022-01-10T20:34:09.698Z"
   },
   {
    "duration": 11968,
    "start_time": "2022-01-10T20:34:09.720Z"
   },
   {
    "duration": 6,
    "start_time": "2022-01-10T20:34:21.690Z"
   },
   {
    "duration": 7,
    "start_time": "2022-01-10T20:34:21.718Z"
   },
   {
    "duration": 12,
    "start_time": "2022-01-10T20:34:21.728Z"
   },
   {
    "duration": 8,
    "start_time": "2022-01-10T20:34:21.743Z"
   },
   {
    "duration": 17,
    "start_time": "2022-01-10T20:34:21.753Z"
   },
   {
    "duration": 14,
    "start_time": "2022-01-10T20:34:55.213Z"
   },
   {
    "duration": 14,
    "start_time": "2022-01-10T20:35:17.096Z"
   },
   {
    "duration": 12,
    "start_time": "2022-01-10T20:35:17.564Z"
   },
   {
    "duration": 13,
    "start_time": "2022-01-10T20:35:17.827Z"
   },
   {
    "duration": 16,
    "start_time": "2022-01-10T20:35:17.995Z"
   },
   {
    "duration": 13,
    "start_time": "2022-01-10T20:35:18.158Z"
   },
   {
    "duration": 14,
    "start_time": "2022-01-10T20:35:18.326Z"
   },
   {
    "duration": 14,
    "start_time": "2022-01-10T20:35:18.504Z"
   },
   {
    "duration": 5,
    "start_time": "2022-01-10T20:36:33.113Z"
   },
   {
    "duration": 1344,
    "start_time": "2022-01-10T20:36:38.917Z"
   },
   {
    "duration": 21,
    "start_time": "2022-01-10T20:36:40.263Z"
   },
   {
    "duration": 31,
    "start_time": "2022-01-10T20:36:40.296Z"
   },
   {
    "duration": 34,
    "start_time": "2022-01-10T20:36:40.330Z"
   },
   {
    "duration": 8,
    "start_time": "2022-01-10T20:36:40.366Z"
   },
   {
    "duration": 42,
    "start_time": "2022-01-10T20:36:40.377Z"
   },
   {
    "duration": 12,
    "start_time": "2022-01-10T20:36:40.421Z"
   },
   {
    "duration": 7,
    "start_time": "2022-01-10T20:36:40.436Z"
   },
   {
    "duration": 429,
    "start_time": "2022-01-10T20:36:40.446Z"
   },
   {
    "duration": 6,
    "start_time": "2022-01-10T20:36:40.878Z"
   },
   {
    "duration": 50643,
    "start_time": "2022-01-10T20:36:40.887Z"
   },
   {
    "duration": 7,
    "start_time": "2022-01-10T20:37:31.533Z"
   },
   {
    "duration": 11789,
    "start_time": "2022-01-10T20:37:31.542Z"
   },
   {
    "duration": 6,
    "start_time": "2022-01-10T20:37:43.333Z"
   },
   {
    "duration": 8,
    "start_time": "2022-01-10T20:37:43.341Z"
   },
   {
    "duration": 14,
    "start_time": "2022-01-10T20:37:43.351Z"
   },
   {
    "duration": 52,
    "start_time": "2022-01-10T20:37:43.367Z"
   },
   {
    "duration": 17,
    "start_time": "2022-01-10T20:37:43.421Z"
   }
  ],
  "colab": {
   "name": "Проект_5_Рекомендация_тарифов.ipynb",
   "provenance": []
  },
  "kernelspec": {
   "display_name": "Python 3 (ipykernel)",
   "language": "python",
   "name": "python3"
  },
  "language_info": {
   "codemirror_mode": {
    "name": "ipython",
    "version": 3
   },
   "file_extension": ".py",
   "mimetype": "text/x-python",
   "name": "python",
   "nbconvert_exporter": "python",
   "pygments_lexer": "ipython3",
   "version": "3.9.12"
  },
  "toc": {
   "base_numbering": 1,
   "nav_menu": {},
   "number_sections": true,
   "sideBar": true,
   "skip_h1_title": true,
   "title_cell": "Содержание",
   "title_sidebar": "Содержание",
   "toc_cell": true,
   "toc_position": {
    "height": "calc(100% - 180px)",
    "left": "10px",
    "top": "150px",
    "width": "165px"
   },
   "toc_section_display": true,
   "toc_window_display": true
  }
 },
 "nbformat": 4,
 "nbformat_minor": 1
}
